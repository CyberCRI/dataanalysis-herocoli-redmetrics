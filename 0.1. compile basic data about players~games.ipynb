{
 "cells": [
  {
   "cell_type": "code",
   "execution_count": 3,
   "metadata": {
    "collapsed": false
   },
   "outputs": [
    {
     "name": "stdout",
     "output_type": "stream",
     "text": [
      "https://api.redmetrics.io/v1/event.csv?game=0fe53936-027f-461c-b087-b5b5737b2163&gameVersion=51b8a78a-8dd3-4a5e-9f41-01e6805e0f52&entityType=event\n",
      "1866\n"
     ]
    }
   ],
   "source": [
    "%run \"0. config.ipynb\""
   ]
  },
  {
   "cell_type": "markdown",
   "metadata": {},
   "source": [
    "# data preparation"
   ]
  },
  {
   "cell_type": "code",
   "execution_count": 21,
   "metadata": {
    "collapsed": true
   },
   "outputs": [],
   "source": [
    "list_types = list(df_raw.type.unique())"
   ]
  },
  {
   "cell_type": "markdown",
   "metadata": {},
   "source": [
    "## counting number of events per player ~ game"
   ]
  },
  {
   "cell_type": "code",
   "execution_count": 6,
   "metadata": {
    "collapsed": false
   },
   "outputs": [],
   "source": [
    "def compute_players_type_events(logs):\n",
    "  df = logs[[\"playerId\", \"type\"]].copy()\n",
    "  df[\"count\"] = 1\n",
    "\n",
    "  df = df.groupby([\"playerId\", \"type\"]).agg({ \"count\" : np.sum })\n",
    "\n",
    "  df = df.unstack()\n",
    "  df.columns = df.columns.droplevel()\n",
    "  df = df.reset_index()\n",
    "  df = df.fillna(0)\n",
    "  df = df.set_index([ \"playerId\" ])\n",
    "#   print len(df.index)\n",
    "#   print df.columns\n",
    "  \n",
    "  return df"
   ]
  },
  {
   "cell_type": "code",
   "execution_count": 7,
   "metadata": {
    "collapsed": false
   },
   "outputs": [],
   "source": [
    "players_stats = compute_players_type_events(df_raw)"
   ]
  },
  {
   "cell_type": "markdown",
   "metadata": {},
   "source": [
    "## compute game durations"
   ]
  },
  {
   "cell_type": "code",
   "execution_count": 8,
   "metadata": {
    "collapsed": false
   },
   "outputs": [],
   "source": [
    "def compute_game_durations(logs):\n",
    "\n",
    "  df = logs.groupby(\"playerId\").agg({ \"serverTime\": [ np.min, np.max  ] })\n",
    "\n",
    "  df[\"duration\"] = pd.to_datetime(df[\"serverTime\"][\"amax\"]) - pd.to_datetime(df[\"serverTime\"][\"amin\"])\n",
    "  df[\"duration\"] = df[\"duration\"].map(lambda x: np.timedelta64(x, 's'))\n",
    "\n",
    "  df = df.loc[:, [(\"duration\", \"\")]]\n",
    "\n",
    "  df.columns = df.columns.droplevel()\n",
    "  df.columns = [ \"duration (seconds)\" ]\n",
    "\n",
    "  df[\"duration (seconds)\"] = df[\"duration (seconds)\"].astype(int)/1000000000\n",
    "  \n",
    "  return df"
   ]
  },
  {
   "cell_type": "code",
   "execution_count": 9,
   "metadata": {
    "collapsed": false
   },
   "outputs": [],
   "source": [
    "players_stats = pd.merge(players_stats, compute_game_durations(df_raw), left_index=True, right_index=True)"
   ]
  },
  {
   "cell_type": "markdown",
   "metadata": {},
   "source": [
    "## compute max checkpoint reached by players"
   ]
  },
  {
   "cell_type": "code",
   "execution_count": 51,
   "metadata": {
    "collapsed": false
   },
   "outputs": [
    {
     "data": {
      "text/html": [
       "<div style=\"max-height:1000px;max-width:1500px;overflow:auto;\">\n",
       "<table border=\"1\" class=\"dataframe\">\n",
       "  <thead>\n",
       "    <tr style=\"text-align: right;\">\n",
       "      <th></th>\n",
       "      <th>section</th>\n",
       "    </tr>\n",
       "    <tr>\n",
       "      <th>playerId</th>\n",
       "      <th></th>\n",
       "    </tr>\n",
       "  </thead>\n",
       "  <tbody>\n",
       "    <tr>\n",
       "      <th>0306db66-081d-4035-b30f-8358469d6ec3</th>\n",
       "      <td> 8</td>\n",
       "    </tr>\n",
       "    <tr>\n",
       "      <th>09298114-1161-476c-8243-915709d6056e</th>\n",
       "      <td> 7</td>\n",
       "    </tr>\n",
       "    <tr>\n",
       "      <th>0be21833-f660-4b7e-9ce5-fc5acf981d8f</th>\n",
       "      <td> 3</td>\n",
       "    </tr>\n",
       "    <tr>\n",
       "      <th>10780614-9c63-4cdf-b0c0-4e77c6d2d9c1</th>\n",
       "      <td> 0</td>\n",
       "    </tr>\n",
       "    <tr>\n",
       "      <th>15086510-8422-4d25-b345-cf2760b3e48d</th>\n",
       "      <td> 0</td>\n",
       "    </tr>\n",
       "  </tbody>\n",
       "</table>\n",
       "</div>"
      ],
      "text/plain": [
       "                                      section\n",
       "playerId                                     \n",
       "0306db66-081d-4035-b30f-8358469d6ec3        8\n",
       "09298114-1161-476c-8243-915709d6056e        7\n",
       "0be21833-f660-4b7e-9ce5-fc5acf981d8f        3\n",
       "10780614-9c63-4cdf-b0c0-4e77c6d2d9c1        0\n",
       "15086510-8422-4d25-b345-cf2760b3e48d        0"
      ]
     },
     "execution_count": 51,
     "metadata": {},
     "output_type": "execute_result"
    }
   ],
   "source": [
    "def max_reach(x):\n",
    "  checkpoints = [ int(checkpoint[-2:]) for checkpoint in x if checkpoint != np.nan and not isinstance(checkpoint, float)]\n",
    "  \n",
    "  # print checkpoints\n",
    "  \n",
    "  if len(checkpoints) > 0:\n",
    "    return max([ int(checkpoint[-2:]) for checkpoint in x if checkpoint != np.nan and not isinstance(checkpoint, float)])\n",
    "  else:\n",
    "    return 0\n",
    "\n",
    "def compute_max_reachpoint(logs):\n",
    "  df = logs.loc[:, [\"playerId\", \"type\", \"section\"]].groupby(\"playerId\").agg({ \"section\": max_reach })\n",
    "  \n",
    "  return df\n",
    "\n",
    "compute_max_reachpoint(df_raw[0:500]).head()"
   ]
  },
  {
   "cell_type": "code",
   "execution_count": 52,
   "metadata": {
    "collapsed": true
   },
   "outputs": [],
   "source": [
    "players_stats = pd.merge(players_stats, compute_max_reachpoint(df_raw), left_index=True, right_index=True)"
   ]
  },
  {
   "cell_type": "markdown",
   "metadata": {},
   "source": [
    "## preview"
   ]
  },
  {
   "cell_type": "code",
   "execution_count": 53,
   "metadata": {
    "collapsed": false
   },
   "outputs": [
    {
     "data": {
      "text/html": [
       "<div style=\"max-height:1000px;max-width:1500px;overflow:auto;\">\n",
       "<table border=\"1\" class=\"dataframe\">\n",
       "  <thead>\n",
       "    <tr style=\"text-align: right;\">\n",
       "      <th></th>\n",
       "      <th>complete</th>\n",
       "      <th>configure</th>\n",
       "      <th>craft</th>\n",
       "      <th>death</th>\n",
       "      <th>equip</th>\n",
       "      <th>gotomooc</th>\n",
       "      <th>gotourl</th>\n",
       "      <th>pickup</th>\n",
       "      <th>reach</th>\n",
       "      <th>restart</th>\n",
       "      <th>selectmenu</th>\n",
       "      <th>start</th>\n",
       "      <th>switch</th>\n",
       "      <th>unequip</th>\n",
       "      <th>duration (seconds)</th>\n",
       "      <th>section</th>\n",
       "    </tr>\n",
       "    <tr>\n",
       "      <th>playerId</th>\n",
       "      <th></th>\n",
       "      <th></th>\n",
       "      <th></th>\n",
       "      <th></th>\n",
       "      <th></th>\n",
       "      <th></th>\n",
       "      <th></th>\n",
       "      <th></th>\n",
       "      <th></th>\n",
       "      <th></th>\n",
       "      <th></th>\n",
       "      <th></th>\n",
       "      <th></th>\n",
       "      <th></th>\n",
       "      <th></th>\n",
       "      <th></th>\n",
       "    </tr>\n",
       "  </thead>\n",
       "  <tbody>\n",
       "    <tr>\n",
       "      <th>0023dbb1-7f98-4cdb-8122-722f801f40b3</th>\n",
       "      <td> 0</td>\n",
       "      <td> 1</td>\n",
       "      <td> 0</td>\n",
       "      <td>  3</td>\n",
       "      <td> 0</td>\n",
       "      <td> 0</td>\n",
       "      <td> 0</td>\n",
       "      <td> 1</td>\n",
       "      <td>  2</td>\n",
       "      <td> 0</td>\n",
       "      <td> 1</td>\n",
       "      <td> 0</td>\n",
       "      <td> 0</td>\n",
       "      <td> 0</td>\n",
       "      <td>  175</td>\n",
       "      <td> 2</td>\n",
       "    </tr>\n",
       "    <tr>\n",
       "      <th>01b0c435-f0c0-4bfd-9189-86fc0d29b163</th>\n",
       "      <td> 0</td>\n",
       "      <td> 0</td>\n",
       "      <td> 0</td>\n",
       "      <td>  0</td>\n",
       "      <td> 0</td>\n",
       "      <td> 0</td>\n",
       "      <td> 0</td>\n",
       "      <td> 0</td>\n",
       "      <td>  0</td>\n",
       "      <td> 0</td>\n",
       "      <td> 0</td>\n",
       "      <td> 1</td>\n",
       "      <td> 0</td>\n",
       "      <td> 0</td>\n",
       "      <td>    0</td>\n",
       "      <td> 0</td>\n",
       "    </tr>\n",
       "    <tr>\n",
       "      <th>02bc076b-32aa-467a-bbc6-b746abedb7bd</th>\n",
       "      <td> 0</td>\n",
       "      <td> 0</td>\n",
       "      <td> 0</td>\n",
       "      <td>  0</td>\n",
       "      <td> 0</td>\n",
       "      <td> 0</td>\n",
       "      <td> 0</td>\n",
       "      <td> 0</td>\n",
       "      <td>  0</td>\n",
       "      <td> 0</td>\n",
       "      <td> 0</td>\n",
       "      <td> 1</td>\n",
       "      <td> 0</td>\n",
       "      <td> 0</td>\n",
       "      <td>    0</td>\n",
       "      <td> 0</td>\n",
       "    </tr>\n",
       "    <tr>\n",
       "      <th>02c6953a-0417-4858-8efb-1989be9f6b9d</th>\n",
       "      <td> 0</td>\n",
       "      <td> 1</td>\n",
       "      <td> 0</td>\n",
       "      <td>  0</td>\n",
       "      <td> 0</td>\n",
       "      <td> 0</td>\n",
       "      <td> 0</td>\n",
       "      <td> 0</td>\n",
       "      <td>  1</td>\n",
       "      <td> 0</td>\n",
       "      <td> 2</td>\n",
       "      <td> 1</td>\n",
       "      <td> 1</td>\n",
       "      <td> 0</td>\n",
       "      <td>   19</td>\n",
       "      <td> 1</td>\n",
       "    </tr>\n",
       "    <tr>\n",
       "      <th>0306db66-081d-4035-b30f-8358469d6ec3</th>\n",
       "      <td> 1</td>\n",
       "      <td> 0</td>\n",
       "      <td> 3</td>\n",
       "      <td> 17</td>\n",
       "      <td> 8</td>\n",
       "      <td> 0</td>\n",
       "      <td> 1</td>\n",
       "      <td> 5</td>\n",
       "      <td> 12</td>\n",
       "      <td> 1</td>\n",
       "      <td> 2</td>\n",
       "      <td> 0</td>\n",
       "      <td> 0</td>\n",
       "      <td> 2</td>\n",
       "      <td> 1030</td>\n",
       "      <td> 8</td>\n",
       "    </tr>\n",
       "  </tbody>\n",
       "</table>\n",
       "</div>"
      ],
      "text/plain": [
       "                                      complete  configure  craft  death  \\\n",
       "playerId                                                                  \n",
       "0023dbb1-7f98-4cdb-8122-722f801f40b3         0          1      0      3   \n",
       "01b0c435-f0c0-4bfd-9189-86fc0d29b163         0          0      0      0   \n",
       "02bc076b-32aa-467a-bbc6-b746abedb7bd         0          0      0      0   \n",
       "02c6953a-0417-4858-8efb-1989be9f6b9d         0          1      0      0   \n",
       "0306db66-081d-4035-b30f-8358469d6ec3         1          0      3     17   \n",
       "\n",
       "                                      equip  gotomooc  gotourl  pickup  reach  \\\n",
       "playerId                                                                        \n",
       "0023dbb1-7f98-4cdb-8122-722f801f40b3      0         0        0       1      2   \n",
       "01b0c435-f0c0-4bfd-9189-86fc0d29b163      0         0        0       0      0   \n",
       "02bc076b-32aa-467a-bbc6-b746abedb7bd      0         0        0       0      0   \n",
       "02c6953a-0417-4858-8efb-1989be9f6b9d      0         0        0       0      1   \n",
       "0306db66-081d-4035-b30f-8358469d6ec3      8         0        1       5     12   \n",
       "\n",
       "                                      restart  selectmenu  start  switch  \\\n",
       "playerId                                                                   \n",
       "0023dbb1-7f98-4cdb-8122-722f801f40b3        0           1      0       0   \n",
       "01b0c435-f0c0-4bfd-9189-86fc0d29b163        0           0      1       0   \n",
       "02bc076b-32aa-467a-bbc6-b746abedb7bd        0           0      1       0   \n",
       "02c6953a-0417-4858-8efb-1989be9f6b9d        0           2      1       1   \n",
       "0306db66-081d-4035-b30f-8358469d6ec3        1           2      0       0   \n",
       "\n",
       "                                      unequip  duration (seconds)  section  \n",
       "playerId                                                                    \n",
       "0023dbb1-7f98-4cdb-8122-722f801f40b3        0                 175        2  \n",
       "01b0c435-f0c0-4bfd-9189-86fc0d29b163        0                   0        0  \n",
       "02bc076b-32aa-467a-bbc6-b746abedb7bd        0                   0        0  \n",
       "02c6953a-0417-4858-8efb-1989be9f6b9d        0                  19        1  \n",
       "0306db66-081d-4035-b30f-8358469d6ec3        2                1030        8  "
      ]
     },
     "execution_count": 53,
     "metadata": {},
     "output_type": "execute_result"
    }
   ],
   "source": [
    "players_stats.head()"
   ]
  },
  {
   "cell_type": "code",
   "execution_count": 97,
   "metadata": {
    "collapsed": false
   },
   "outputs": [],
   "source": [
    "players_stats.to_csv(\"data/players_stats.csv\", encoding=\"utf-8\")"
   ]
  }
 ],
 "metadata": {
  "kernelspec": {
   "display_name": "Python 2",
   "language": "python",
   "name": "python2"
  },
  "language_info": {
   "codemirror_mode": {
    "name": "ipython",
    "version": 2
   },
   "file_extension": ".py",
   "mimetype": "text/x-python",
   "name": "python",
   "nbconvert_exporter": "python",
   "pygments_lexer": "ipython2",
   "version": "2.7.11"
  }
 },
 "nbformat": 4,
 "nbformat_minor": 0
}
