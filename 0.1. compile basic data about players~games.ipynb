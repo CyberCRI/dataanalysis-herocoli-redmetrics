{
 "cells": [
  {
   "cell_type": "code",
   "execution_count": 1,
   "metadata": {
    "collapsed": false
   },
   "outputs": [
    {
     "name": "stdout",
     "output_type": "stream",
     "text": [
      "1887\n"
     ]
    }
   ],
   "source": [
    "%run \"0. config.ipynb\""
   ]
  },
  {
   "cell_type": "markdown",
   "metadata": {},
   "source": [
    "# data preparation"
   ]
  },
  {
   "cell_type": "code",
   "execution_count": 2,
   "metadata": {
    "collapsed": true
   },
   "outputs": [],
   "source": [
    "list_types = list(df_raw.type.unique())"
   ]
  },
  {
   "cell_type": "markdown",
   "metadata": {},
   "source": [
    "## counting number of events per player ~ game"
   ]
  },
  {
   "cell_type": "code",
   "execution_count": 4,
   "metadata": {
    "collapsed": false
   },
   "outputs": [
    {
     "data": {
      "text/html": [
       "<div style=\"max-height:1000px;max-width:1500px;overflow:auto;\">\n",
       "<table border=\"1\" class=\"dataframe\">\n",
       "  <thead>\n",
       "    <tr style=\"text-align: right;\">\n",
       "      <th>type</th>\n",
       "      <th>complete</th>\n",
       "      <th>configure</th>\n",
       "      <th>craft</th>\n",
       "      <th>death</th>\n",
       "      <th>equip</th>\n",
       "      <th>gotomooc</th>\n",
       "      <th>gotourl</th>\n",
       "      <th>pickup</th>\n",
       "      <th>reach</th>\n",
       "      <th>restart</th>\n",
       "      <th>selectmenu</th>\n",
       "      <th>start</th>\n",
       "      <th>switch</th>\n",
       "      <th>unequip</th>\n",
       "    </tr>\n",
       "    <tr>\n",
       "      <th>playerId</th>\n",
       "      <th></th>\n",
       "      <th></th>\n",
       "      <th></th>\n",
       "      <th></th>\n",
       "      <th></th>\n",
       "      <th></th>\n",
       "      <th></th>\n",
       "      <th></th>\n",
       "      <th></th>\n",
       "      <th></th>\n",
       "      <th></th>\n",
       "      <th></th>\n",
       "      <th></th>\n",
       "      <th></th>\n",
       "    </tr>\n",
       "  </thead>\n",
       "  <tbody>\n",
       "    <tr>\n",
       "      <th>0023dbb1-7f98-4cdb-8122-722f801f40b3</th>\n",
       "      <td> 0</td>\n",
       "      <td> 1</td>\n",
       "      <td> 0</td>\n",
       "      <td>  3</td>\n",
       "      <td> 0</td>\n",
       "      <td> 0</td>\n",
       "      <td> 0</td>\n",
       "      <td> 1</td>\n",
       "      <td>  2</td>\n",
       "      <td> 0</td>\n",
       "      <td> 1</td>\n",
       "      <td> 0</td>\n",
       "      <td> 0</td>\n",
       "      <td> 0</td>\n",
       "    </tr>\n",
       "    <tr>\n",
       "      <th>01b0c435-f0c0-4bfd-9189-86fc0d29b163</th>\n",
       "      <td> 0</td>\n",
       "      <td> 0</td>\n",
       "      <td> 0</td>\n",
       "      <td>  0</td>\n",
       "      <td> 0</td>\n",
       "      <td> 0</td>\n",
       "      <td> 0</td>\n",
       "      <td> 0</td>\n",
       "      <td>  0</td>\n",
       "      <td> 0</td>\n",
       "      <td> 0</td>\n",
       "      <td> 1</td>\n",
       "      <td> 0</td>\n",
       "      <td> 0</td>\n",
       "    </tr>\n",
       "    <tr>\n",
       "      <th>02bc076b-32aa-467a-bbc6-b746abedb7bd</th>\n",
       "      <td> 0</td>\n",
       "      <td> 0</td>\n",
       "      <td> 0</td>\n",
       "      <td>  0</td>\n",
       "      <td> 0</td>\n",
       "      <td> 0</td>\n",
       "      <td> 0</td>\n",
       "      <td> 0</td>\n",
       "      <td>  0</td>\n",
       "      <td> 0</td>\n",
       "      <td> 0</td>\n",
       "      <td> 1</td>\n",
       "      <td> 0</td>\n",
       "      <td> 0</td>\n",
       "    </tr>\n",
       "    <tr>\n",
       "      <th>02c6953a-0417-4858-8efb-1989be9f6b9d</th>\n",
       "      <td> 0</td>\n",
       "      <td> 1</td>\n",
       "      <td> 0</td>\n",
       "      <td>  0</td>\n",
       "      <td> 0</td>\n",
       "      <td> 0</td>\n",
       "      <td> 0</td>\n",
       "      <td> 0</td>\n",
       "      <td>  1</td>\n",
       "      <td> 0</td>\n",
       "      <td> 2</td>\n",
       "      <td> 1</td>\n",
       "      <td> 1</td>\n",
       "      <td> 0</td>\n",
       "    </tr>\n",
       "    <tr>\n",
       "      <th>0306db66-081d-4035-b30f-8358469d6ec3</th>\n",
       "      <td> 1</td>\n",
       "      <td> 0</td>\n",
       "      <td> 3</td>\n",
       "      <td> 17</td>\n",
       "      <td> 8</td>\n",
       "      <td> 0</td>\n",
       "      <td> 1</td>\n",
       "      <td> 5</td>\n",
       "      <td> 12</td>\n",
       "      <td> 1</td>\n",
       "      <td> 2</td>\n",
       "      <td> 0</td>\n",
       "      <td> 0</td>\n",
       "      <td> 2</td>\n",
       "    </tr>\n",
       "  </tbody>\n",
       "</table>\n",
       "</div>"
      ],
      "text/plain": [
       "type                                  complete  configure  craft  death  \\\n",
       "playerId                                                                  \n",
       "0023dbb1-7f98-4cdb-8122-722f801f40b3         0          1      0      3   \n",
       "01b0c435-f0c0-4bfd-9189-86fc0d29b163         0          0      0      0   \n",
       "02bc076b-32aa-467a-bbc6-b746abedb7bd         0          0      0      0   \n",
       "02c6953a-0417-4858-8efb-1989be9f6b9d         0          1      0      0   \n",
       "0306db66-081d-4035-b30f-8358469d6ec3         1          0      3     17   \n",
       "\n",
       "type                                  equip  gotomooc  gotourl  pickup  reach  \\\n",
       "playerId                                                                        \n",
       "0023dbb1-7f98-4cdb-8122-722f801f40b3      0         0        0       1      2   \n",
       "01b0c435-f0c0-4bfd-9189-86fc0d29b163      0         0        0       0      0   \n",
       "02bc076b-32aa-467a-bbc6-b746abedb7bd      0         0        0       0      0   \n",
       "02c6953a-0417-4858-8efb-1989be9f6b9d      0         0        0       0      1   \n",
       "0306db66-081d-4035-b30f-8358469d6ec3      8         0        1       5     12   \n",
       "\n",
       "type                                  restart  selectmenu  start  switch  \\\n",
       "playerId                                                                   \n",
       "0023dbb1-7f98-4cdb-8122-722f801f40b3        0           1      0       0   \n",
       "01b0c435-f0c0-4bfd-9189-86fc0d29b163        0           0      1       0   \n",
       "02bc076b-32aa-467a-bbc6-b746abedb7bd        0           0      1       0   \n",
       "02c6953a-0417-4858-8efb-1989be9f6b9d        0           2      1       1   \n",
       "0306db66-081d-4035-b30f-8358469d6ec3        1           2      0       0   \n",
       "\n",
       "type                                  unequip  \n",
       "playerId                                       \n",
       "0023dbb1-7f98-4cdb-8122-722f801f40b3        0  \n",
       "01b0c435-f0c0-4bfd-9189-86fc0d29b163        0  \n",
       "02bc076b-32aa-467a-bbc6-b746abedb7bd        0  \n",
       "02c6953a-0417-4858-8efb-1989be9f6b9d        0  \n",
       "0306db66-081d-4035-b30f-8358469d6ec3        2  "
      ]
     },
     "execution_count": 4,
     "metadata": {},
     "output_type": "execute_result"
    }
   ],
   "source": [
    "def compute_players_type_events(logs):\n",
    "  df = logs[[\"playerId\", \"type\"]].copy()\n",
    "  df[\"count\"] = 1\n",
    "\n",
    "  df = df.groupby([\"playerId\", \"type\"]).agg({ \"count\" : np.sum })\n",
    "\n",
    "  df = df.unstack()\n",
    "  df.columns = df.columns.droplevel()\n",
    "  df = df.reset_index()\n",
    "  df = df.fillna(0)\n",
    "  df = df.set_index([ \"playerId\" ])\n",
    "#   print len(df.index)\n",
    "#   print df.columns\n",
    "  \n",
    "  return df\n",
    "\n",
    "compute_players_type_events(df_raw).head()"
   ]
  },
  {
   "cell_type": "markdown",
   "metadata": {},
   "source": [
    "## compute game durations"
   ]
  },
  {
   "cell_type": "code",
   "execution_count": 5,
   "metadata": {
    "collapsed": false
   },
   "outputs": [
    {
     "data": {
      "text/html": [
       "<div style=\"max-height:1000px;max-width:1500px;overflow:auto;\">\n",
       "<table border=\"1\" class=\"dataframe\">\n",
       "  <thead>\n",
       "    <tr style=\"text-align: right;\">\n",
       "      <th></th>\n",
       "      <th>duration (seconds)</th>\n",
       "    </tr>\n",
       "    <tr>\n",
       "      <th>playerId</th>\n",
       "      <th></th>\n",
       "    </tr>\n",
       "  </thead>\n",
       "  <tbody>\n",
       "    <tr>\n",
       "      <th>0023dbb1-7f98-4cdb-8122-722f801f40b3</th>\n",
       "      <td>  175</td>\n",
       "    </tr>\n",
       "    <tr>\n",
       "      <th>01b0c435-f0c0-4bfd-9189-86fc0d29b163</th>\n",
       "      <td>    0</td>\n",
       "    </tr>\n",
       "    <tr>\n",
       "      <th>02bc076b-32aa-467a-bbc6-b746abedb7bd</th>\n",
       "      <td>    0</td>\n",
       "    </tr>\n",
       "    <tr>\n",
       "      <th>02c6953a-0417-4858-8efb-1989be9f6b9d</th>\n",
       "      <td>   19</td>\n",
       "    </tr>\n",
       "    <tr>\n",
       "      <th>0306db66-081d-4035-b30f-8358469d6ec3</th>\n",
       "      <td> 1030</td>\n",
       "    </tr>\n",
       "  </tbody>\n",
       "</table>\n",
       "</div>"
      ],
      "text/plain": [
       "                                      duration (seconds)\n",
       "playerId                                                \n",
       "0023dbb1-7f98-4cdb-8122-722f801f40b3                 175\n",
       "01b0c435-f0c0-4bfd-9189-86fc0d29b163                   0\n",
       "02bc076b-32aa-467a-bbc6-b746abedb7bd                   0\n",
       "02c6953a-0417-4858-8efb-1989be9f6b9d                  19\n",
       "0306db66-081d-4035-b30f-8358469d6ec3                1030"
      ]
     },
     "execution_count": 5,
     "metadata": {},
     "output_type": "execute_result"
    }
   ],
   "source": [
    "def compute_game_durations(logs):\n",
    "\n",
    "  df = logs.groupby(\"playerId\").agg({ \"serverTime\": [ np.min, np.max  ] })\n",
    "\n",
    "  df[\"duration\"] = pd.to_datetime(df[\"serverTime\"][\"amax\"]) - pd.to_datetime(df[\"serverTime\"][\"amin\"])\n",
    "  df[\"duration\"] = df[\"duration\"].map(lambda x: np.timedelta64(x, 's'))\n",
    "\n",
    "  df = df.loc[:, [(\"duration\", \"\")]]\n",
    "\n",
    "  df.columns = df.columns.droplevel()\n",
    "  df.columns = [ \"duration (seconds)\" ]\n",
    "\n",
    "  df[\"duration (seconds)\"] = df[\"duration (seconds)\"].astype(int)/1000000000\n",
    "  \n",
    "  return df\n",
    "\n",
    "compute_game_durations(df_raw).head()"
   ]
  },
  {
   "cell_type": "markdown",
   "metadata": {},
   "source": [
    "## compute max checkpoint reached by players"
   ]
  },
  {
   "cell_type": "code",
   "execution_count": 7,
   "metadata": {
    "collapsed": false
   },
   "outputs": [
    {
     "data": {
      "text/html": [
       "<div style=\"max-height:1000px;max-width:1500px;overflow:auto;\">\n",
       "<table border=\"1\" class=\"dataframe\">\n",
       "  <thead>\n",
       "    <tr style=\"text-align: right;\">\n",
       "      <th></th>\n",
       "      <th>max_reach</th>\n",
       "      <th>adventure</th>\n",
       "      <th>sandbox</th>\n",
       "    </tr>\n",
       "    <tr>\n",
       "      <th>playerId</th>\n",
       "      <th></th>\n",
       "      <th></th>\n",
       "      <th></th>\n",
       "    </tr>\n",
       "  </thead>\n",
       "  <tbody>\n",
       "    <tr>\n",
       "      <th>0023dbb1-7f98-4cdb-8122-722f801f40b3</th>\n",
       "      <td> 2</td>\n",
       "      <td>  True</td>\n",
       "      <td> False</td>\n",
       "    </tr>\n",
       "    <tr>\n",
       "      <th>01b0c435-f0c0-4bfd-9189-86fc0d29b163</th>\n",
       "      <td> 0</td>\n",
       "      <td> False</td>\n",
       "      <td> False</td>\n",
       "    </tr>\n",
       "    <tr>\n",
       "      <th>02bc076b-32aa-467a-bbc6-b746abedb7bd</th>\n",
       "      <td> 0</td>\n",
       "      <td> False</td>\n",
       "      <td> False</td>\n",
       "    </tr>\n",
       "    <tr>\n",
       "      <th>02c6953a-0417-4858-8efb-1989be9f6b9d</th>\n",
       "      <td> 1</td>\n",
       "      <td> False</td>\n",
       "      <td>  True</td>\n",
       "    </tr>\n",
       "    <tr>\n",
       "      <th>0306db66-081d-4035-b30f-8358469d6ec3</th>\n",
       "      <td> 8</td>\n",
       "      <td>  True</td>\n",
       "      <td> False</td>\n",
       "    </tr>\n",
       "  </tbody>\n",
       "</table>\n",
       "</div>"
      ],
      "text/plain": [
       "                                      max_reach adventure sandbox\n",
       "playerId                                                         \n",
       "0023dbb1-7f98-4cdb-8122-722f801f40b3          2      True   False\n",
       "01b0c435-f0c0-4bfd-9189-86fc0d29b163          0     False   False\n",
       "02bc076b-32aa-467a-bbc6-b746abedb7bd          0     False   False\n",
       "02c6953a-0417-4858-8efb-1989be9f6b9d          1     False    True\n",
       "0306db66-081d-4035-b30f-8358469d6ec3          8      True   False"
      ]
     },
     "execution_count": 7,
     "metadata": {},
     "output_type": "execute_result"
    }
   ],
   "source": [
    "def max_reach(x):\n",
    "  checkpoints = [ int(checkpoint[-2:]) for checkpoint in x if checkpoint != np.nan and not isinstance(checkpoint, float)]\n",
    "  \n",
    "  # print checkpoints\n",
    "  \n",
    "  if len(checkpoints) > 0:\n",
    "    return max([ int(checkpoint[-2:]) for checkpoint in x if checkpoint != np.nan and not isinstance(checkpoint, float)])\n",
    "  else:\n",
    "    return 0\n",
    "\n",
    "def adventure(x):\n",
    "  return \"adventure1\" in [ w.split(\".\")[0] for w in x if w != np.nan and not isinstance(w, float) ]\n",
    "\n",
    "def sandbox(x):\n",
    "  l = { w.split(\".\")[0] for w in x if w != np.nan and not isinstance(w, float) }\n",
    "  \n",
    "  return (\"sandbox1\" in l) or (\"sandbox2\" in l)\n",
    "\n",
    "def compute_max_reachpoint(logs):\n",
    "  df = logs.loc[:, [\"playerId\", \"type\", \"section\"]].groupby(\"playerId\").agg({ \"section\": [ max_reach, adventure, sandbox ]  })\n",
    "  \n",
    "  df.columns = df.columns.droplevel()\n",
    "  \n",
    "  return df\n",
    "\n",
    "compute_max_reachpoint(df_raw).head()"
   ]
  },
  {
   "cell_type": "markdown",
   "metadata": {},
   "source": [
    "## compile sessionId"
   ]
  },
  {
   "cell_type": "code",
   "execution_count": 39,
   "metadata": {
    "collapsed": false
   },
   "outputs": [
    {
     "data": {
      "text/html": [
       "<div style=\"max-height:1000px;max-width:1500px;overflow:auto;\">\n",
       "<table border=\"1\" class=\"dataframe\">\n",
       "  <thead>\n",
       "    <tr style=\"text-align: right;\">\n",
       "      <th></th>\n",
       "      <th>sessionId</th>\n",
       "    </tr>\n",
       "    <tr>\n",
       "      <th>playerId</th>\n",
       "      <th></th>\n",
       "    </tr>\n",
       "  </thead>\n",
       "  <tbody>\n",
       "    <tr>\n",
       "      <th>3607b3ec-9e2a-4043-9f07-8dbccee66cb3</th>\n",
       "      <td>                                 None</td>\n",
       "    </tr>\n",
       "    <tr>\n",
       "      <th>4acee9a7-7295-44c6-85ec-b247a3b483b1</th>\n",
       "      <td> 4a9fded1-7ab7-48f5-b267-2fac6627ea5a</td>\n",
       "    </tr>\n",
       "    <tr>\n",
       "      <th>5af5f837-2aa1-4d5e-86a3-05d39d6cf63d</th>\n",
       "      <td> 4a9fded1-7ab7-48f5-b267-2fac6627ea5a</td>\n",
       "    </tr>\n",
       "    <tr>\n",
       "      <th>85de8fbc-b510-47c6-bfcd-ce829712c379</th>\n",
       "      <td> 8c83d8d2-f63a-49b4-b0da-2712080fc4d1</td>\n",
       "    </tr>\n",
       "    <tr>\n",
       "      <th>9c183209-8867-46bb-9d29-9dda57e5a7bd</th>\n",
       "      <td> 6e665720-b387-423f-8dab-1efade2f0c63</td>\n",
       "    </tr>\n",
       "  </tbody>\n",
       "</table>\n",
       "</div>"
      ],
      "text/plain": [
       "                                                                 sessionId\n",
       "playerId                                                                  \n",
       "3607b3ec-9e2a-4043-9f07-8dbccee66cb3                                  None\n",
       "4acee9a7-7295-44c6-85ec-b247a3b483b1  4a9fded1-7ab7-48f5-b267-2fac6627ea5a\n",
       "5af5f837-2aa1-4d5e-86a3-05d39d6cf63d  4a9fded1-7ab7-48f5-b267-2fac6627ea5a\n",
       "85de8fbc-b510-47c6-bfcd-ce829712c379  8c83d8d2-f63a-49b4-b0da-2712080fc4d1\n",
       "9c183209-8867-46bb-9d29-9dda57e5a7bd  6e665720-b387-423f-8dab-1efade2f0c63"
      ]
     },
     "execution_count": 39,
     "metadata": {},
     "output_type": "execute_result"
    }
   ],
   "source": [
    "def compile_sessionid(raw):\n",
    "  def sessionid(x):\n",
    "    \n",
    "    def norm(t):\n",
    "      if t != np.nan and not isinstance(t, float) :\n",
    "        return t.replace(\"\\\"\", \"\")\n",
    "      else:\n",
    "        return None\n",
    "\n",
    "    res = { norm(s) for s in x if norm(s) != None }\n",
    "\n",
    "    if len(res) > 0:\n",
    "      return list(res)[0]\n",
    "  \n",
    "  df = raw.loc[:, [\"playerId\", \"customData.localplayerguid\"]].groupby(\"playerId\").agg({ \"customData.localplayerguid\" : sessionid })\n",
    "  \n",
    "  # df[\"customData.localplayerguid\"] = df[\"customData.localplayerguid\"].map(sessionid)\n",
    "\n",
    "  #df = df.set_index(\"playerId\")\n",
    "  df = df.rename(columns={ \"customData.localplayerguid\": \"sessionId\" })\n",
    "  \n",
    "  return df\n",
    "\n",
    "compile_sessionid(df_raw[0:100]).head()"
   ]
  },
  {
   "cell_type": "markdown",
   "metadata": {},
   "source": [
    "## aggregate all data into one data frame"
   ]
  },
  {
   "cell_type": "code",
   "execution_count": 40,
   "metadata": {
    "collapsed": false
   },
   "outputs": [],
   "source": [
    "players_stats = compute_players_type_events(df_raw)\n",
    "players_stats = pd.merge(players_stats, compute_game_durations(df_raw), left_index=True, right_index=True)\n",
    "players_stats = pd.merge(players_stats, compute_max_reachpoint(df_raw), left_index=True, right_index=True)\n",
    "players_stats = pd.merge(players_stats, compile_sessionid(df_raw), left_index=True, right_index=True)"
   ]
  },
  {
   "cell_type": "code",
   "execution_count": 41,
   "metadata": {
    "collapsed": false
   },
   "outputs": [
    {
     "data": {
      "text/plain": [
       "55"
      ]
     },
     "execution_count": 41,
     "metadata": {},
     "output_type": "execute_result"
    }
   ],
   "source": [
    "len(players_stats[ (players_stats[\"adventure\"] == False) & (players_stats[\"sandbox\"] == False) ])"
   ]
  },
  {
   "cell_type": "code",
   "execution_count": 42,
   "metadata": {
    "collapsed": false
   },
   "outputs": [
    {
     "data": {
      "text/plain": [
       "14"
      ]
     },
     "execution_count": 42,
     "metadata": {},
     "output_type": "execute_result"
    }
   ],
   "source": [
    "len(players_stats[ (players_stats[\"adventure\"] == True) & (players_stats[\"sandbox\"] == True) ])"
   ]
  },
  {
   "cell_type": "code",
   "execution_count": 43,
   "metadata": {
    "collapsed": false
   },
   "outputs": [
    {
     "data": {
      "text/plain": [
       "19"
      ]
     },
     "execution_count": 43,
     "metadata": {},
     "output_type": "execute_result"
    }
   ],
   "source": [
    "len(players_stats[ (players_stats[\"sandbox\"] == True) ])"
   ]
  },
  {
   "cell_type": "markdown",
   "metadata": {},
   "source": [
    "## preview"
   ]
  },
  {
   "cell_type": "code",
   "execution_count": 44,
   "metadata": {
    "collapsed": false
   },
   "outputs": [
    {
     "data": {
      "text/html": [
       "<div style=\"max-height:1000px;max-width:1500px;overflow:auto;\">\n",
       "<table border=\"1\" class=\"dataframe\">\n",
       "  <thead>\n",
       "    <tr style=\"text-align: right;\">\n",
       "      <th></th>\n",
       "      <th>complete</th>\n",
       "      <th>configure</th>\n",
       "      <th>craft</th>\n",
       "      <th>death</th>\n",
       "      <th>equip</th>\n",
       "      <th>gotomooc</th>\n",
       "      <th>gotourl</th>\n",
       "      <th>pickup</th>\n",
       "      <th>reach</th>\n",
       "      <th>restart</th>\n",
       "      <th>selectmenu</th>\n",
       "      <th>start</th>\n",
       "      <th>switch</th>\n",
       "      <th>unequip</th>\n",
       "      <th>duration (seconds)</th>\n",
       "      <th>max_reach</th>\n",
       "      <th>adventure</th>\n",
       "      <th>sandbox</th>\n",
       "      <th>sessionId</th>\n",
       "    </tr>\n",
       "    <tr>\n",
       "      <th>playerId</th>\n",
       "      <th></th>\n",
       "      <th></th>\n",
       "      <th></th>\n",
       "      <th></th>\n",
       "      <th></th>\n",
       "      <th></th>\n",
       "      <th></th>\n",
       "      <th></th>\n",
       "      <th></th>\n",
       "      <th></th>\n",
       "      <th></th>\n",
       "      <th></th>\n",
       "      <th></th>\n",
       "      <th></th>\n",
       "      <th></th>\n",
       "      <th></th>\n",
       "      <th></th>\n",
       "      <th></th>\n",
       "      <th></th>\n",
       "    </tr>\n",
       "  </thead>\n",
       "  <tbody>\n",
       "    <tr>\n",
       "      <th>0023dbb1-7f98-4cdb-8122-722f801f40b3</th>\n",
       "      <td> 0</td>\n",
       "      <td> 1</td>\n",
       "      <td> 0</td>\n",
       "      <td>  3</td>\n",
       "      <td> 0</td>\n",
       "      <td> 0</td>\n",
       "      <td> 0</td>\n",
       "      <td> 1</td>\n",
       "      <td>  2</td>\n",
       "      <td> 0</td>\n",
       "      <td> 1</td>\n",
       "      <td> 0</td>\n",
       "      <td> 0</td>\n",
       "      <td> 0</td>\n",
       "      <td>  175</td>\n",
       "      <td> 2</td>\n",
       "      <td>  True</td>\n",
       "      <td> False</td>\n",
       "      <td>                                 None</td>\n",
       "    </tr>\n",
       "    <tr>\n",
       "      <th>01b0c435-f0c0-4bfd-9189-86fc0d29b163</th>\n",
       "      <td> 0</td>\n",
       "      <td> 0</td>\n",
       "      <td> 0</td>\n",
       "      <td>  0</td>\n",
       "      <td> 0</td>\n",
       "      <td> 0</td>\n",
       "      <td> 0</td>\n",
       "      <td> 0</td>\n",
       "      <td>  0</td>\n",
       "      <td> 0</td>\n",
       "      <td> 0</td>\n",
       "      <td> 1</td>\n",
       "      <td> 0</td>\n",
       "      <td> 0</td>\n",
       "      <td>    0</td>\n",
       "      <td> 0</td>\n",
       "      <td> False</td>\n",
       "      <td> False</td>\n",
       "      <td> e3e1604c-b94b-4669-abc9-01ae57e9b691</td>\n",
       "    </tr>\n",
       "    <tr>\n",
       "      <th>02bc076b-32aa-467a-bbc6-b746abedb7bd</th>\n",
       "      <td> 0</td>\n",
       "      <td> 0</td>\n",
       "      <td> 0</td>\n",
       "      <td>  0</td>\n",
       "      <td> 0</td>\n",
       "      <td> 0</td>\n",
       "      <td> 0</td>\n",
       "      <td> 0</td>\n",
       "      <td>  0</td>\n",
       "      <td> 0</td>\n",
       "      <td> 0</td>\n",
       "      <td> 1</td>\n",
       "      <td> 0</td>\n",
       "      <td> 0</td>\n",
       "      <td>    0</td>\n",
       "      <td> 0</td>\n",
       "      <td> False</td>\n",
       "      <td> False</td>\n",
       "      <td> 32506a02-7174-46f2-89e2-8ffd1089334b</td>\n",
       "    </tr>\n",
       "    <tr>\n",
       "      <th>02c6953a-0417-4858-8efb-1989be9f6b9d</th>\n",
       "      <td> 0</td>\n",
       "      <td> 1</td>\n",
       "      <td> 0</td>\n",
       "      <td>  0</td>\n",
       "      <td> 0</td>\n",
       "      <td> 0</td>\n",
       "      <td> 0</td>\n",
       "      <td> 0</td>\n",
       "      <td>  1</td>\n",
       "      <td> 0</td>\n",
       "      <td> 2</td>\n",
       "      <td> 1</td>\n",
       "      <td> 1</td>\n",
       "      <td> 0</td>\n",
       "      <td>   19</td>\n",
       "      <td> 1</td>\n",
       "      <td> False</td>\n",
       "      <td>  True</td>\n",
       "      <td> 3e4c5d28-c240-4024-b024-9f6c37375b77</td>\n",
       "    </tr>\n",
       "    <tr>\n",
       "      <th>0306db66-081d-4035-b30f-8358469d6ec3</th>\n",
       "      <td> 1</td>\n",
       "      <td> 0</td>\n",
       "      <td> 3</td>\n",
       "      <td> 17</td>\n",
       "      <td> 8</td>\n",
       "      <td> 0</td>\n",
       "      <td> 1</td>\n",
       "      <td> 5</td>\n",
       "      <td> 12</td>\n",
       "      <td> 1</td>\n",
       "      <td> 2</td>\n",
       "      <td> 0</td>\n",
       "      <td> 0</td>\n",
       "      <td> 2</td>\n",
       "      <td> 1030</td>\n",
       "      <td> 8</td>\n",
       "      <td>  True</td>\n",
       "      <td> False</td>\n",
       "      <td>                                 None</td>\n",
       "    </tr>\n",
       "  </tbody>\n",
       "</table>\n",
       "</div>"
      ],
      "text/plain": [
       "                                      complete  configure  craft  death  \\\n",
       "playerId                                                                  \n",
       "0023dbb1-7f98-4cdb-8122-722f801f40b3         0          1      0      3   \n",
       "01b0c435-f0c0-4bfd-9189-86fc0d29b163         0          0      0      0   \n",
       "02bc076b-32aa-467a-bbc6-b746abedb7bd         0          0      0      0   \n",
       "02c6953a-0417-4858-8efb-1989be9f6b9d         0          1      0      0   \n",
       "0306db66-081d-4035-b30f-8358469d6ec3         1          0      3     17   \n",
       "\n",
       "                                      equip  gotomooc  gotourl  pickup  reach  \\\n",
       "playerId                                                                        \n",
       "0023dbb1-7f98-4cdb-8122-722f801f40b3      0         0        0       1      2   \n",
       "01b0c435-f0c0-4bfd-9189-86fc0d29b163      0         0        0       0      0   \n",
       "02bc076b-32aa-467a-bbc6-b746abedb7bd      0         0        0       0      0   \n",
       "02c6953a-0417-4858-8efb-1989be9f6b9d      0         0        0       0      1   \n",
       "0306db66-081d-4035-b30f-8358469d6ec3      8         0        1       5     12   \n",
       "\n",
       "                                      restart  selectmenu  start  switch  \\\n",
       "playerId                                                                   \n",
       "0023dbb1-7f98-4cdb-8122-722f801f40b3        0           1      0       0   \n",
       "01b0c435-f0c0-4bfd-9189-86fc0d29b163        0           0      1       0   \n",
       "02bc076b-32aa-467a-bbc6-b746abedb7bd        0           0      1       0   \n",
       "02c6953a-0417-4858-8efb-1989be9f6b9d        0           2      1       1   \n",
       "0306db66-081d-4035-b30f-8358469d6ec3        1           2      0       0   \n",
       "\n",
       "                                      unequip  duration (seconds)  max_reach  \\\n",
       "playerId                                                                       \n",
       "0023dbb1-7f98-4cdb-8122-722f801f40b3        0                 175          2   \n",
       "01b0c435-f0c0-4bfd-9189-86fc0d29b163        0                   0          0   \n",
       "02bc076b-32aa-467a-bbc6-b746abedb7bd        0                   0          0   \n",
       "02c6953a-0417-4858-8efb-1989be9f6b9d        0                  19          1   \n",
       "0306db66-081d-4035-b30f-8358469d6ec3        2                1030          8   \n",
       "\n",
       "                                     adventure sandbox  \\\n",
       "playerId                                                 \n",
       "0023dbb1-7f98-4cdb-8122-722f801f40b3      True   False   \n",
       "01b0c435-f0c0-4bfd-9189-86fc0d29b163     False   False   \n",
       "02bc076b-32aa-467a-bbc6-b746abedb7bd     False   False   \n",
       "02c6953a-0417-4858-8efb-1989be9f6b9d     False    True   \n",
       "0306db66-081d-4035-b30f-8358469d6ec3      True   False   \n",
       "\n",
       "                                                                 sessionId  \n",
       "playerId                                                                    \n",
       "0023dbb1-7f98-4cdb-8122-722f801f40b3                                  None  \n",
       "01b0c435-f0c0-4bfd-9189-86fc0d29b163  e3e1604c-b94b-4669-abc9-01ae57e9b691  \n",
       "02bc076b-32aa-467a-bbc6-b746abedb7bd  32506a02-7174-46f2-89e2-8ffd1089334b  \n",
       "02c6953a-0417-4858-8efb-1989be9f6b9d  3e4c5d28-c240-4024-b024-9f6c37375b77  \n",
       "0306db66-081d-4035-b30f-8358469d6ec3                                  None  "
      ]
     },
     "execution_count": 44,
     "metadata": {},
     "output_type": "execute_result"
    }
   ],
   "source": [
    "players_stats.head()"
   ]
  },
  {
   "cell_type": "code",
   "execution_count": 45,
   "metadata": {
    "collapsed": false
   },
   "outputs": [],
   "source": [
    "players_stats.to_csv(\"data/players_stats.csv\", encoding=\"utf-8\")"
   ]
  }
 ],
 "metadata": {
  "kernelspec": {
   "display_name": "Python 2",
   "language": "python",
   "name": "python2"
  },
  "language_info": {
   "codemirror_mode": {
    "name": "ipython",
    "version": 2
   },
   "file_extension": ".py",
   "mimetype": "text/x-python",
   "name": "python",
   "nbconvert_exporter": "python",
   "pygments_lexer": "ipython2",
   "version": "2.7.11"
  }
 },
 "nbformat": 4,
 "nbformat_minor": 0
}
