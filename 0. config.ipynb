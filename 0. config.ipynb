{
 "cells": [
  {
   "cell_type": "code",
   "execution_count": 23,
   "metadata": {
    "collapsed": false
   },
   "outputs": [],
   "source": [
    "# -*- coding: utf-8 -*-\n",
    "\n",
    "import pandas as pd\n",
    "import numpy as np\n",
    "\n",
    "import matplotlib.pyplot as plt\n",
    "import seaborn as sns\n",
    "\n",
    "%matplotlib inline\n",
    "\n",
    "game_info = {\n",
    "  \"game_id\": \"0fe53936-027f-461c-b087-b5b5737b2163\",\n",
    "  \"game_version\": \"51b8a78a-8dd3-4a5e-9f41-01e6805e0f52\"\n",
    "}\n",
    "\n",
    "game_url = \"https://api.redmetrics.io/v1/event.csv?game=%(game_id)s&gameVersion=%(game_version)s&entityType=event\" % game_info"
   ]
  },
  {
   "cell_type": "code",
   "execution_count": 22,
   "metadata": {
    "collapsed": false
   },
   "outputs": [
    {
     "data": {
      "text/plain": [
       "'https://api.redmetrics.io/v1/event.csv?game=0fe53936-027f-461c-b087-b5b5737b2163&gameVersion=51b8a78a-8dd3-4a5e-9f41-01e6805e0f52&entityType=event'"
      ]
     },
     "execution_count": 22,
     "metadata": {},
     "output_type": "execute_result"
    }
   ],
   "source": [
    "game_url"
   ]
  },
  {
   "cell_type": "code",
   "execution_count": 15,
   "metadata": {
    "collapsed": false
   },
   "outputs": [
    {
     "name": "stdout",
     "output_type": "stream",
     "text": [
      "1866\n"
     ]
    },
    {
     "data": {
      "text/html": [
       "<div style=\"max-height:1000px;max-width:1500px;overflow:auto;\">\n",
       "<table border=\"1\" class=\"dataframe\">\n",
       "  <thead>\n",
       "    <tr style=\"text-align: right;\">\n",
       "      <th></th>\n",
       "      <th>id</th>\n",
       "      <th>serverTime</th>\n",
       "      <th>userTime</th>\n",
       "      <th>gameVersion</th>\n",
       "      <th>playerId</th>\n",
       "      <th>playerBirthdate</th>\n",
       "      <th>playerRegion</th>\n",
       "      <th>playerCountry</th>\n",
       "      <th>playerGender</th>\n",
       "      <th>playerExternalId</th>\n",
       "      <th>...</th>\n",
       "      <th>customData.localplayerguid</th>\n",
       "      <th>customData.sametab</th>\n",
       "      <th>customData.controls</th>\n",
       "      <th>customData.device</th>\n",
       "      <th>customData.option</th>\n",
       "      <th>customData.sound</th>\n",
       "      <th>customData.gamelevel</th>\n",
       "      <th>customData.newtab</th>\n",
       "      <th>customData</th>\n",
       "      <th>customData.dnabit</th>\n",
       "    </tr>\n",
       "  </thead>\n",
       "  <tbody>\n",
       "    <tr>\n",
       "      <th>0</th>\n",
       "      <td> 5ef7fb9d-afc9-4a9c-a35e-67d52b8d13c0</td>\n",
       "      <td> 2016-02-04T20:12:38.789Z</td>\n",
       "      <td> 2016-02-04T20:12:49.867Z</td>\n",
       "      <td> 51b8a78a-8dd3-4a5e-9f41-01e6805e0f52</td>\n",
       "      <td> 9c183209-8867-46bb-9d29-9dda57e5a7bd</td>\n",
       "      <td>NaN</td>\n",
       "      <td>NaN</td>\n",
       "      <td>NaN</td>\n",
       "      <td>NaN</td>\n",
       "      <td>NaN</td>\n",
       "      <td>...</td>\n",
       "      <td> \"6e665720-b387-423f-8dab-1efade2f0c63\"</td>\n",
       "      <td> NaN</td>\n",
       "      <td> NaN</td>\n",
       "      <td> NaN</td>\n",
       "      <td>      NaN</td>\n",
       "      <td> NaN</td>\n",
       "      <td> NaN</td>\n",
       "      <td> NaN</td>\n",
       "      <td> NaN</td>\n",
       "      <td> NaN</td>\n",
       "    </tr>\n",
       "    <tr>\n",
       "      <th>1</th>\n",
       "      <td> 1f556783-102a-4c9c-ba80-6738aed4110a</td>\n",
       "      <td> 2016-02-04T20:12:38.789Z</td>\n",
       "      <td> 2016-02-04T20:12:53.320Z</td>\n",
       "      <td> 51b8a78a-8dd3-4a5e-9f41-01e6805e0f52</td>\n",
       "      <td> 9c183209-8867-46bb-9d29-9dda57e5a7bd</td>\n",
       "      <td>NaN</td>\n",
       "      <td>NaN</td>\n",
       "      <td>NaN</td>\n",
       "      <td>NaN</td>\n",
       "      <td>NaN</td>\n",
       "      <td>...</td>\n",
       "      <td>                                    NaN</td>\n",
       "      <td> NaN</td>\n",
       "      <td> NaN</td>\n",
       "      <td> NaN</td>\n",
       "      <td> \"RESUME\"</td>\n",
       "      <td> NaN</td>\n",
       "      <td> NaN</td>\n",
       "      <td> NaN</td>\n",
       "      <td> NaN</td>\n",
       "      <td> NaN</td>\n",
       "    </tr>\n",
       "    <tr>\n",
       "      <th>2</th>\n",
       "      <td> f2f1b39d-5ddc-4540-a099-cd33ab1c137a</td>\n",
       "      <td> 2016-02-04T20:18:08.038Z</td>\n",
       "      <td> 2016-02-04T20:18:19.125Z</td>\n",
       "      <td> 51b8a78a-8dd3-4a5e-9f41-01e6805e0f52</td>\n",
       "      <td> ab2d0f9a-13ec-4bc0-b5cd-58942d906954</td>\n",
       "      <td>NaN</td>\n",
       "      <td>NaN</td>\n",
       "      <td>NaN</td>\n",
       "      <td>NaN</td>\n",
       "      <td>NaN</td>\n",
       "      <td>...</td>\n",
       "      <td> \"1837a18f-5ec2-4a80-a308-6b82acb96c13\"</td>\n",
       "      <td> NaN</td>\n",
       "      <td> NaN</td>\n",
       "      <td> NaN</td>\n",
       "      <td>      NaN</td>\n",
       "      <td> NaN</td>\n",
       "      <td> NaN</td>\n",
       "      <td> NaN</td>\n",
       "      <td> NaN</td>\n",
       "      <td> NaN</td>\n",
       "    </tr>\n",
       "    <tr>\n",
       "      <th>3</th>\n",
       "      <td> 5a50a0ac-b465-4e1d-b717-13032459613a</td>\n",
       "      <td> 2016-02-04T20:18:18.039Z</td>\n",
       "      <td> 2016-02-04T20:18:30.680Z</td>\n",
       "      <td> 51b8a78a-8dd3-4a5e-9f41-01e6805e0f52</td>\n",
       "      <td> ab2d0f9a-13ec-4bc0-b5cd-58942d906954</td>\n",
       "      <td>NaN</td>\n",
       "      <td>NaN</td>\n",
       "      <td>NaN</td>\n",
       "      <td>NaN</td>\n",
       "      <td>NaN</td>\n",
       "      <td>...</td>\n",
       "      <td>                                    NaN</td>\n",
       "      <td> NaN</td>\n",
       "      <td> NaN</td>\n",
       "      <td> NaN</td>\n",
       "      <td> \"RESUME\"</td>\n",
       "      <td> NaN</td>\n",
       "      <td> NaN</td>\n",
       "      <td> NaN</td>\n",
       "      <td> NaN</td>\n",
       "      <td> NaN</td>\n",
       "    </tr>\n",
       "    <tr>\n",
       "      <th>4</th>\n",
       "      <td> 251fc7cb-4661-4f43-ac9c-bbf9e37a925c</td>\n",
       "      <td> 2016-02-04T20:31:05.379Z</td>\n",
       "      <td> 2016-02-04T20:31:16.472Z</td>\n",
       "      <td> 51b8a78a-8dd3-4a5e-9f41-01e6805e0f52</td>\n",
       "      <td> ecfe1f90-19c7-4ab9-8d6f-bd8feb7ff472</td>\n",
       "      <td>NaN</td>\n",
       "      <td>NaN</td>\n",
       "      <td>NaN</td>\n",
       "      <td>NaN</td>\n",
       "      <td>NaN</td>\n",
       "      <td>...</td>\n",
       "      <td> \"8da6a840-6f6f-481d-be7d-9f5b22b28b11\"</td>\n",
       "      <td> NaN</td>\n",
       "      <td> NaN</td>\n",
       "      <td> NaN</td>\n",
       "      <td>      NaN</td>\n",
       "      <td> NaN</td>\n",
       "      <td> NaN</td>\n",
       "      <td> NaN</td>\n",
       "      <td> NaN</td>\n",
       "      <td> NaN</td>\n",
       "    </tr>\n",
       "  </tbody>\n",
       "</table>\n",
       "<p>5 rows × 26 columns</p>\n",
       "</div>"
      ],
      "text/plain": [
       "                                     id                serverTime  \\\n",
       "0  5ef7fb9d-afc9-4a9c-a35e-67d52b8d13c0  2016-02-04T20:12:38.789Z   \n",
       "1  1f556783-102a-4c9c-ba80-6738aed4110a  2016-02-04T20:12:38.789Z   \n",
       "2  f2f1b39d-5ddc-4540-a099-cd33ab1c137a  2016-02-04T20:18:08.038Z   \n",
       "3  5a50a0ac-b465-4e1d-b717-13032459613a  2016-02-04T20:18:18.039Z   \n",
       "4  251fc7cb-4661-4f43-ac9c-bbf9e37a925c  2016-02-04T20:31:05.379Z   \n",
       "\n",
       "                   userTime                           gameVersion  \\\n",
       "0  2016-02-04T20:12:49.867Z  51b8a78a-8dd3-4a5e-9f41-01e6805e0f52   \n",
       "1  2016-02-04T20:12:53.320Z  51b8a78a-8dd3-4a5e-9f41-01e6805e0f52   \n",
       "2  2016-02-04T20:18:19.125Z  51b8a78a-8dd3-4a5e-9f41-01e6805e0f52   \n",
       "3  2016-02-04T20:18:30.680Z  51b8a78a-8dd3-4a5e-9f41-01e6805e0f52   \n",
       "4  2016-02-04T20:31:16.472Z  51b8a78a-8dd3-4a5e-9f41-01e6805e0f52   \n",
       "\n",
       "                               playerId  playerBirthdate  playerRegion  \\\n",
       "0  9c183209-8867-46bb-9d29-9dda57e5a7bd              NaN           NaN   \n",
       "1  9c183209-8867-46bb-9d29-9dda57e5a7bd              NaN           NaN   \n",
       "2  ab2d0f9a-13ec-4bc0-b5cd-58942d906954              NaN           NaN   \n",
       "3  ab2d0f9a-13ec-4bc0-b5cd-58942d906954              NaN           NaN   \n",
       "4  ecfe1f90-19c7-4ab9-8d6f-bd8feb7ff472              NaN           NaN   \n",
       "\n",
       "   playerCountry  playerGender  playerExternalId        ...         \\\n",
       "0            NaN           NaN               NaN        ...          \n",
       "1            NaN           NaN               NaN        ...          \n",
       "2            NaN           NaN               NaN        ...          \n",
       "3            NaN           NaN               NaN        ...          \n",
       "4            NaN           NaN               NaN        ...          \n",
       "\n",
       "               customData.localplayerguid customData.sametab  \\\n",
       "0  \"6e665720-b387-423f-8dab-1efade2f0c63\"                NaN   \n",
       "1                                     NaN                NaN   \n",
       "2  \"1837a18f-5ec2-4a80-a308-6b82acb96c13\"                NaN   \n",
       "3                                     NaN                NaN   \n",
       "4  \"8da6a840-6f6f-481d-be7d-9f5b22b28b11\"                NaN   \n",
       "\n",
       "  customData.controls customData.device customData.option customData.sound  \\\n",
       "0                 NaN               NaN               NaN              NaN   \n",
       "1                 NaN               NaN          \"RESUME\"              NaN   \n",
       "2                 NaN               NaN               NaN              NaN   \n",
       "3                 NaN               NaN          \"RESUME\"              NaN   \n",
       "4                 NaN               NaN               NaN              NaN   \n",
       "\n",
       "  customData.gamelevel customData.newtab customData customData.dnabit  \n",
       "0                  NaN               NaN        NaN               NaN  \n",
       "1                  NaN               NaN        NaN               NaN  \n",
       "2                  NaN               NaN        NaN               NaN  \n",
       "3                  NaN               NaN        NaN               NaN  \n",
       "4                  NaN               NaN        NaN               NaN  \n",
       "\n",
       "[5 rows x 26 columns]"
      ]
     },
     "execution_count": 15,
     "metadata": {},
     "output_type": "execute_result"
    }
   ],
   "source": [
    "df_raw = pd.read_csv(game_url)\n",
    "\n",
    "print df_raw.shape[0]\n",
    "\n",
    "df_raw.head()"
   ]
  },
  {
   "cell_type": "code",
   "execution_count": 20,
   "metadata": {
    "collapsed": false
   },
   "outputs": [
    {
     "data": {
      "text/plain": [
       "141"
      ]
     },
     "execution_count": 20,
     "metadata": {},
     "output_type": "execute_result"
    }
   ],
   "source": [
    "df_raw.playerId.unique().shape[0]"
   ]
  }
 ],
 "metadata": {
  "kernelspec": {
   "display_name": "Python 2",
   "language": "python",
   "name": "python2"
  },
  "language_info": {
   "codemirror_mode": {
    "name": "ipython",
    "version": 2
   },
   "file_extension": ".py",
   "mimetype": "text/x-python",
   "name": "python",
   "nbconvert_exporter": "python",
   "pygments_lexer": "ipython2",
   "version": "2.7.11"
  }
 },
 "nbformat": 4,
 "nbformat_minor": 0
}
