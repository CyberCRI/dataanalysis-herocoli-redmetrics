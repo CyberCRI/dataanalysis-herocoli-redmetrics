{
 "cells": [
  {
   "cell_type": "code",
   "execution_count": 41,
   "metadata": {
    "collapsed": true
   },
   "outputs": [],
   "source": [
    "%matplotlib inline\n",
    "\n",
    "import numpy as np\n",
    "import pandas as pd\n",
    "import matplotlib.pyplot as plt \n",
    "import seaborn as sns"
   ]
  },
  {
   "cell_type": "markdown",
   "metadata": {},
   "source": [
    "#### http://pandas.pydata.org/pandas-docs/version/0.13.1/merging.html"
   ]
  },
  {
   "cell_type": "markdown",
   "metadata": {},
   "source": [
    "# Simple"
   ]
  },
  {
   "cell_type": "markdown",
   "metadata": {},
   "source": [
    "### simple 1-1 correspondance"
   ]
  },
  {
   "cell_type": "code",
   "execution_count": 42,
   "metadata": {
    "collapsed": true
   },
   "outputs": [],
   "source": [
    "keyEN = ['red', 'yellow', 'green', 'blue', 'black']\n",
    "keyFR1 = ['rouge', 'jaune', 'vert', 'bleu', 'noir']\n",
    "keyFR2 = ['jaune', 'vert', 'bleu', 'noir', 'rouge']\n",
    "keyDE = ['gelb', 'gruen', 'blau', 'schwartz', 'rot']"
   ]
  },
  {
   "cell_type": "code",
   "execution_count": 43,
   "metadata": {
    "collapsed": false
   },
   "outputs": [
    {
     "data": {
      "text/html": [
       "<div>\n",
       "<table border=\"1\" class=\"dataframe\">\n",
       "  <thead>\n",
       "    <tr style=\"text-align: right;\">\n",
       "      <th></th>\n",
       "      <th>keyEN</th>\n",
       "      <th>keyFR</th>\n",
       "    </tr>\n",
       "  </thead>\n",
       "  <tbody>\n",
       "    <tr>\n",
       "      <th>0</th>\n",
       "      <td>red</td>\n",
       "      <td>rouge</td>\n",
       "    </tr>\n",
       "    <tr>\n",
       "      <th>1</th>\n",
       "      <td>yellow</td>\n",
       "      <td>jaune</td>\n",
       "    </tr>\n",
       "    <tr>\n",
       "      <th>2</th>\n",
       "      <td>green</td>\n",
       "      <td>vert</td>\n",
       "    </tr>\n",
       "    <tr>\n",
       "      <th>3</th>\n",
       "      <td>blue</td>\n",
       "      <td>bleu</td>\n",
       "    </tr>\n",
       "    <tr>\n",
       "      <th>4</th>\n",
       "      <td>black</td>\n",
       "      <td>noir</td>\n",
       "    </tr>\n",
       "  </tbody>\n",
       "</table>\n",
       "</div>"
      ],
      "text/plain": [
       "    keyEN  keyFR\n",
       "0     red  rouge\n",
       "1  yellow  jaune\n",
       "2   green   vert\n",
       "3    blue   bleu\n",
       "4   black   noir"
      ]
     },
     "execution_count": 43,
     "metadata": {},
     "output_type": "execute_result"
    }
   ],
   "source": [
    "dataENFR = pd.DataFrame({'keyEN' : keyEN, 'keyFR' : keyFR1})\n",
    "dataENFR"
   ]
  },
  {
   "cell_type": "code",
   "execution_count": 44,
   "metadata": {
    "collapsed": false
   },
   "outputs": [
    {
     "data": {
      "text/html": [
       "<div>\n",
       "<table border=\"1\" class=\"dataframe\">\n",
       "  <thead>\n",
       "    <tr style=\"text-align: right;\">\n",
       "      <th></th>\n",
       "      <th>keyDE</th>\n",
       "      <th>keyFR</th>\n",
       "    </tr>\n",
       "  </thead>\n",
       "  <tbody>\n",
       "    <tr>\n",
       "      <th>0</th>\n",
       "      <td>gelb</td>\n",
       "      <td>jaune</td>\n",
       "    </tr>\n",
       "    <tr>\n",
       "      <th>1</th>\n",
       "      <td>gruen</td>\n",
       "      <td>vert</td>\n",
       "    </tr>\n",
       "    <tr>\n",
       "      <th>2</th>\n",
       "      <td>blau</td>\n",
       "      <td>bleu</td>\n",
       "    </tr>\n",
       "    <tr>\n",
       "      <th>3</th>\n",
       "      <td>schwartz</td>\n",
       "      <td>noir</td>\n",
       "    </tr>\n",
       "    <tr>\n",
       "      <th>4</th>\n",
       "      <td>rot</td>\n",
       "      <td>rouge</td>\n",
       "    </tr>\n",
       "  </tbody>\n",
       "</table>\n",
       "</div>"
      ],
      "text/plain": [
       "      keyDE  keyFR\n",
       "0      gelb  jaune\n",
       "1     gruen   vert\n",
       "2      blau   bleu\n",
       "3  schwartz   noir\n",
       "4       rot  rouge"
      ]
     },
     "execution_count": 44,
     "metadata": {},
     "output_type": "execute_result"
    }
   ],
   "source": [
    "dataFRDE = pd.DataFrame({'keyFR' : keyFR2, 'keyDE' : keyDE})\n",
    "dataFRDE"
   ]
  },
  {
   "cell_type": "code",
   "execution_count": 45,
   "metadata": {
    "collapsed": false
   },
   "outputs": [
    {
     "data": {
      "text/html": [
       "<div>\n",
       "<table border=\"1\" class=\"dataframe\">\n",
       "  <thead>\n",
       "    <tr style=\"text-align: right;\">\n",
       "      <th></th>\n",
       "      <th>keyEN</th>\n",
       "      <th>keyFR</th>\n",
       "      <th>keyDE</th>\n",
       "    </tr>\n",
       "  </thead>\n",
       "  <tbody>\n",
       "    <tr>\n",
       "      <th>0</th>\n",
       "      <td>red</td>\n",
       "      <td>rouge</td>\n",
       "      <td>rot</td>\n",
       "    </tr>\n",
       "    <tr>\n",
       "      <th>1</th>\n",
       "      <td>yellow</td>\n",
       "      <td>jaune</td>\n",
       "      <td>gelb</td>\n",
       "    </tr>\n",
       "    <tr>\n",
       "      <th>2</th>\n",
       "      <td>green</td>\n",
       "      <td>vert</td>\n",
       "      <td>gruen</td>\n",
       "    </tr>\n",
       "    <tr>\n",
       "      <th>3</th>\n",
       "      <td>blue</td>\n",
       "      <td>bleu</td>\n",
       "      <td>blau</td>\n",
       "    </tr>\n",
       "    <tr>\n",
       "      <th>4</th>\n",
       "      <td>black</td>\n",
       "      <td>noir</td>\n",
       "      <td>schwartz</td>\n",
       "    </tr>\n",
       "  </tbody>\n",
       "</table>\n",
       "</div>"
      ],
      "text/plain": [
       "    keyEN  keyFR     keyDE\n",
       "0     red  rouge       rot\n",
       "1  yellow  jaune      gelb\n",
       "2   green   vert     gruen\n",
       "3    blue   bleu      blau\n",
       "4   black   noir  schwartz"
      ]
     },
     "execution_count": 45,
     "metadata": {},
     "output_type": "execute_result"
    }
   ],
   "source": [
    "simpleMerge = pd.merge(dataENFR, dataFRDE, on='keyFR', how='outer')\n",
    "simpleMerge"
   ]
  },
  {
   "cell_type": "markdown",
   "metadata": {},
   "source": [
    "# Complex"
   ]
  },
  {
   "cell_type": "markdown",
   "metadata": {},
   "source": [
    "### 1-n correspondance"
   ]
  },
  {
   "cell_type": "code",
   "execution_count": 69,
   "metadata": {
    "collapsed": false,
    "scrolled": true
   },
   "outputs": [
    {
     "data": {
      "text/plain": [
       "array([  1.920556  ,   2.05149291,   4.01622859,   6.01695117,\n",
       "         9.94325926,  33.46910107,  35.03250999,  39.35289105,\n",
       "        45.2546713 ,  60.67957719,  62.2058968 ,  63.21452902,\n",
       "        65.01748642,  73.47538142,  79.52493287,  82.95773425,\n",
       "        84.57350829,  87.3415436 ,  91.10738857,  98.42042455,  99.00165259])"
      ]
     },
     "execution_count": 69,
     "metadata": {},
     "output_type": "execute_result"
    }
   ],
   "source": [
    "users = ['Tom', 'Tom', 'Tom',\n",
    "         'Bill', 'Bill', 'Bill', 'Bill',\n",
    "         'Jack',\n",
    "         'Bob',\n",
    "         'Jim']\n",
    "sessionsUsers = ['sessionTom1', 'sessionTom2', 'sessionTom3',\n",
    "                 'sessionBill1', 'sessionBill2', 'sessionBill3', 'sessionBill4', \n",
    "                 'sessionJack',\n",
    "                 'sessionBob',\n",
    "                 'sessionJim']\n",
    "sessionsChapters = [\n",
    "                 'sessionTom1', 'sessionTom1', 'sessionTom1',\n",
    "                 'sessionTom2', 'sessionTom2',\n",
    "                 'sessionTom3',\n",
    "    \n",
    "                 'sessionBill1',\n",
    "                 'sessionBill2', 'sessionBill2',\n",
    "                 'sessionBill3', 'sessionBill3', 'sessionBill3',\n",
    "                 'sessionBill4', 'sessionBill4', 'sessionBill4', 'sessionBill4',\n",
    "                 \n",
    "                 'sessionJack', 'sessionJack', 'sessionJack',\n",
    "                 \n",
    "                 'sessionBob',\n",
    "                 \n",
    "                 'sessionJim']\n",
    "\n",
    "chaptersSessions = ['1', '2', '3',\n",
    "                    '1', '2',\n",
    "                    '1',\n",
    "                    \n",
    "                    '1',\n",
    "                    '2', '3',\n",
    "                    '4', '5', '6',\n",
    "                    '5', '6', '5', '6',\n",
    "                    \n",
    "                    '9', '10', '11',\n",
    "                    \n",
    "                    '10',\n",
    "                    '1']\n",
    "\n",
    "times = 100 * np.random.rand(len(chaptersSessions))\n",
    "times.sort()\n",
    "times"
   ]
  },
  {
   "cell_type": "markdown",
   "metadata": {},
   "source": [
    "#### https://docs.scipy.org/doc/numpy/reference/generated/numpy.random.rand.html"
   ]
  },
  {
   "cell_type": "code",
   "execution_count": 47,
   "metadata": {
    "collapsed": false
   },
   "outputs": [],
   "source": [
    "dataUsers = pd.DataFrame({'users' : users, 'sessions' : sessionsUsers})\n",
    "#dataUsers"
   ]
  },
  {
   "cell_type": "code",
   "execution_count": 70,
   "metadata": {
    "collapsed": false
   },
   "outputs": [],
   "source": [
    "dataChapters = pd.DataFrame({'sessions' : sessionsChapters, 'chapters' : chaptersSessions, 'times' : times})\n",
    "#dataChapters"
   ]
  },
  {
   "cell_type": "code",
   "execution_count": 71,
   "metadata": {
    "collapsed": false
   },
   "outputs": [
    {
     "data": {
      "text/html": [
       "<div>\n",
       "<table border=\"1\" class=\"dataframe\">\n",
       "  <thead>\n",
       "    <tr style=\"text-align: right;\">\n",
       "      <th></th>\n",
       "      <th>sessions</th>\n",
       "      <th>users</th>\n",
       "      <th>chapters</th>\n",
       "      <th>times</th>\n",
       "    </tr>\n",
       "  </thead>\n",
       "  <tbody>\n",
       "    <tr>\n",
       "      <th>0</th>\n",
       "      <td>sessionTom1</td>\n",
       "      <td>Tom</td>\n",
       "      <td>1</td>\n",
       "      <td>1.920556</td>\n",
       "    </tr>\n",
       "    <tr>\n",
       "      <th>1</th>\n",
       "      <td>sessionTom1</td>\n",
       "      <td>Tom</td>\n",
       "      <td>2</td>\n",
       "      <td>2.051493</td>\n",
       "    </tr>\n",
       "    <tr>\n",
       "      <th>2</th>\n",
       "      <td>sessionTom1</td>\n",
       "      <td>Tom</td>\n",
       "      <td>3</td>\n",
       "      <td>4.016229</td>\n",
       "    </tr>\n",
       "    <tr>\n",
       "      <th>3</th>\n",
       "      <td>sessionTom2</td>\n",
       "      <td>Tom</td>\n",
       "      <td>1</td>\n",
       "      <td>6.016951</td>\n",
       "    </tr>\n",
       "    <tr>\n",
       "      <th>4</th>\n",
       "      <td>sessionTom2</td>\n",
       "      <td>Tom</td>\n",
       "      <td>2</td>\n",
       "      <td>9.943259</td>\n",
       "    </tr>\n",
       "    <tr>\n",
       "      <th>5</th>\n",
       "      <td>sessionTom3</td>\n",
       "      <td>Tom</td>\n",
       "      <td>1</td>\n",
       "      <td>33.469101</td>\n",
       "    </tr>\n",
       "    <tr>\n",
       "      <th>6</th>\n",
       "      <td>sessionBill1</td>\n",
       "      <td>Bill</td>\n",
       "      <td>1</td>\n",
       "      <td>35.032510</td>\n",
       "    </tr>\n",
       "    <tr>\n",
       "      <th>7</th>\n",
       "      <td>sessionBill2</td>\n",
       "      <td>Bill</td>\n",
       "      <td>2</td>\n",
       "      <td>39.352891</td>\n",
       "    </tr>\n",
       "    <tr>\n",
       "      <th>8</th>\n",
       "      <td>sessionBill2</td>\n",
       "      <td>Bill</td>\n",
       "      <td>3</td>\n",
       "      <td>45.254671</td>\n",
       "    </tr>\n",
       "    <tr>\n",
       "      <th>9</th>\n",
       "      <td>sessionBill3</td>\n",
       "      <td>Bill</td>\n",
       "      <td>4</td>\n",
       "      <td>60.679577</td>\n",
       "    </tr>\n",
       "    <tr>\n",
       "      <th>10</th>\n",
       "      <td>sessionBill3</td>\n",
       "      <td>Bill</td>\n",
       "      <td>5</td>\n",
       "      <td>62.205897</td>\n",
       "    </tr>\n",
       "    <tr>\n",
       "      <th>11</th>\n",
       "      <td>sessionBill3</td>\n",
       "      <td>Bill</td>\n",
       "      <td>6</td>\n",
       "      <td>63.214529</td>\n",
       "    </tr>\n",
       "    <tr>\n",
       "      <th>12</th>\n",
       "      <td>sessionBill4</td>\n",
       "      <td>Bill</td>\n",
       "      <td>5</td>\n",
       "      <td>65.017486</td>\n",
       "    </tr>\n",
       "    <tr>\n",
       "      <th>13</th>\n",
       "      <td>sessionBill4</td>\n",
       "      <td>Bill</td>\n",
       "      <td>6</td>\n",
       "      <td>73.475381</td>\n",
       "    </tr>\n",
       "    <tr>\n",
       "      <th>14</th>\n",
       "      <td>sessionBill4</td>\n",
       "      <td>Bill</td>\n",
       "      <td>5</td>\n",
       "      <td>79.524933</td>\n",
       "    </tr>\n",
       "    <tr>\n",
       "      <th>15</th>\n",
       "      <td>sessionBill4</td>\n",
       "      <td>Bill</td>\n",
       "      <td>6</td>\n",
       "      <td>82.957734</td>\n",
       "    </tr>\n",
       "    <tr>\n",
       "      <th>16</th>\n",
       "      <td>sessionJack</td>\n",
       "      <td>Jack</td>\n",
       "      <td>9</td>\n",
       "      <td>84.573508</td>\n",
       "    </tr>\n",
       "    <tr>\n",
       "      <th>17</th>\n",
       "      <td>sessionJack</td>\n",
       "      <td>Jack</td>\n",
       "      <td>10</td>\n",
       "      <td>87.341544</td>\n",
       "    </tr>\n",
       "    <tr>\n",
       "      <th>18</th>\n",
       "      <td>sessionJack</td>\n",
       "      <td>Jack</td>\n",
       "      <td>11</td>\n",
       "      <td>91.107389</td>\n",
       "    </tr>\n",
       "    <tr>\n",
       "      <th>19</th>\n",
       "      <td>sessionBob</td>\n",
       "      <td>Bob</td>\n",
       "      <td>10</td>\n",
       "      <td>98.420425</td>\n",
       "    </tr>\n",
       "    <tr>\n",
       "      <th>20</th>\n",
       "      <td>sessionJim</td>\n",
       "      <td>Jim</td>\n",
       "      <td>1</td>\n",
       "      <td>99.001653</td>\n",
       "    </tr>\n",
       "  </tbody>\n",
       "</table>\n",
       "</div>"
      ],
      "text/plain": [
       "        sessions users chapters      times\n",
       "0    sessionTom1   Tom        1   1.920556\n",
       "1    sessionTom1   Tom        2   2.051493\n",
       "2    sessionTom1   Tom        3   4.016229\n",
       "3    sessionTom2   Tom        1   6.016951\n",
       "4    sessionTom2   Tom        2   9.943259\n",
       "5    sessionTom3   Tom        1  33.469101\n",
       "6   sessionBill1  Bill        1  35.032510\n",
       "7   sessionBill2  Bill        2  39.352891\n",
       "8   sessionBill2  Bill        3  45.254671\n",
       "9   sessionBill3  Bill        4  60.679577\n",
       "10  sessionBill3  Bill        5  62.205897\n",
       "11  sessionBill3  Bill        6  63.214529\n",
       "12  sessionBill4  Bill        5  65.017486\n",
       "13  sessionBill4  Bill        6  73.475381\n",
       "14  sessionBill4  Bill        5  79.524933\n",
       "15  sessionBill4  Bill        6  82.957734\n",
       "16   sessionJack  Jack        9  84.573508\n",
       "17   sessionJack  Jack       10  87.341544\n",
       "18   sessionJack  Jack       11  91.107389\n",
       "19    sessionBob   Bob       10  98.420425\n",
       "20    sessionJim   Jim        1  99.001653"
      ]
     },
     "execution_count": 71,
     "metadata": {},
     "output_type": "execute_result"
    }
   ],
   "source": [
    "complexMerge = pd.merge(dataUsers, dataChapters, on='sessions', how='outer')\n",
    "complexMerge"
   ]
  },
  {
   "cell_type": "code",
   "execution_count": 74,
   "metadata": {
    "collapsed": false
   },
   "outputs": [],
   "source": [
    "usersChapters = complexMerge.drop('sessions', 1)"
   ]
  },
  {
   "cell_type": "code",
   "execution_count": 82,
   "metadata": {
    "collapsed": false
   },
   "outputs": [
    {
     "data": {
      "text/html": [
       "<div>\n",
       "<table border=\"1\" class=\"dataframe\">\n",
       "  <thead>\n",
       "    <tr style=\"text-align: right;\">\n",
       "      <th></th>\n",
       "      <th>chapters</th>\n",
       "      <th>times</th>\n",
       "    </tr>\n",
       "    <tr>\n",
       "      <th>users</th>\n",
       "      <th></th>\n",
       "      <th></th>\n",
       "    </tr>\n",
       "  </thead>\n",
       "  <tbody>\n",
       "    <tr>\n",
       "      <th>Bill</th>\n",
       "      <td>6</td>\n",
       "      <td>82.957734</td>\n",
       "    </tr>\n",
       "    <tr>\n",
       "      <th>Bob</th>\n",
       "      <td>10</td>\n",
       "      <td>98.420425</td>\n",
       "    </tr>\n",
       "    <tr>\n",
       "      <th>Jack</th>\n",
       "      <td>9</td>\n",
       "      <td>91.107389</td>\n",
       "    </tr>\n",
       "    <tr>\n",
       "      <th>Jim</th>\n",
       "      <td>1</td>\n",
       "      <td>99.001653</td>\n",
       "    </tr>\n",
       "    <tr>\n",
       "      <th>Tom</th>\n",
       "      <td>3</td>\n",
       "      <td>33.469101</td>\n",
       "    </tr>\n",
       "  </tbody>\n",
       "</table>\n",
       "</div>"
      ],
      "text/plain": [
       "      chapters      times\n",
       "users                    \n",
       "Bill         6  82.957734\n",
       "Bob         10  98.420425\n",
       "Jack         9  91.107389\n",
       "Jim          1  99.001653\n",
       "Tom          3  33.469101"
      ]
     },
     "execution_count": 82,
     "metadata": {},
     "output_type": "execute_result"
    }
   ],
   "source": [
    "usersChapters.groupby('users').max()"
   ]
  }
 ],
 "metadata": {
  "kernelspec": {
   "display_name": "Python 2",
   "language": "python",
   "name": "python2"
  },
  "language_info": {
   "codemirror_mode": {
    "name": "ipython",
    "version": 2
   },
   "file_extension": ".py",
   "mimetype": "text/x-python",
   "name": "python",
   "nbconvert_exporter": "python",
   "pygments_lexer": "ipython2",
   "version": "2.7.10"
  }
 },
 "nbformat": 4,
 "nbformat_minor": 0
}
