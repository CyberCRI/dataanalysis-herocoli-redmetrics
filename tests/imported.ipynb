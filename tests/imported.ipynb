{
 "cells": [
  {
   "cell_type": "code",
   "execution_count": 44,
   "metadata": {
    "collapsed": false
   },
   "outputs": [],
   "source": [
    "#import matplotlib.pyplot as plt\n",
    "#plt.plot([1,2,3,4])\n",
    "#plt.ylabel('some numbers')\n",
    "#plt.show()"
   ]
  },
  {
   "cell_type": "code",
   "execution_count": 45,
   "metadata": {
    "collapsed": false
   },
   "outputs": [],
   "source": [
    "def testFuncReturnLocalNone( testParameter ):\n",
    "    # Python functions can't have side effects\n",
    "    testVariable = testParameter\n",
    "\n",
    "def testFuncReturnGlobalNone( testParameter ):\n",
    "    global globalTestVariable\n",
    "    globalTestVariable = testParameter\n",
    "    \n",
    "def testFuncReturnString ( testParameter ):\n",
    "    return ('return ' + testParameter)\n",
    "    "
   ]
  },
  {
   "cell_type": "code",
   "execution_count": 46,
   "metadata": {
    "collapsed": false
   },
   "outputs": [
    {
     "name": "stdout",
     "output_type": "stream",
     "text": [
      "\n",
      "# side-effect, local\n",
      "defaultLocalValue\n",
      "None\n",
      "defaultLocalValue\n",
      "defaultLocalValue\n",
      "\n",
      "# side-effect, global\n",
      "defaultGlobalValue\n",
      "None\n",
      "newReturnNoneValue1\n",
      "newReturnNoneValue2\n",
      "\n",
      "# return\n",
      "return newReturnValue1\n",
      "return newReturnValue2\n"
     ]
    }
   ],
   "source": [
    "localTestVariable = 'defaultLocalValue'\n",
    "globalTestVariable = 'defaultGlobalValue'\n",
    "\n",
    "# side-effect, local\n",
    "print('\\n# side-effect, local')\n",
    "print(localTestVariable)\n",
    "print(testFuncReturnLocalNone('newReturnNoneValue1'))\n",
    "print(localTestVariable)\n",
    "testFuncReturnLocalNone('newReturnNoneValue2')\n",
    "print(localTestVariable)\n",
    "\n",
    "# side-effect, global\n",
    "print('\\n# side-effect, global')\n",
    "print(globalTestVariable)\n",
    "print(testFuncReturnGlobalNone('newReturnNoneValue1'))\n",
    "print(globalTestVariable)\n",
    "testFuncReturnGlobalNone('newReturnNoneValue2')\n",
    "print(globalTestVariable)\n",
    "\n",
    "\n",
    "# return\n",
    "print('\\n# return')\n",
    "print(testFuncReturnString('newReturnValue1'))\n",
    "\n",
    "returnedValue = testFuncReturnString('newReturnValue2')\n",
    "print(returnedValue)"
   ]
  },
  {
   "cell_type": "code",
   "execution_count": null,
   "metadata": {
    "collapsed": true
   },
   "outputs": [],
   "source": []
  }
 ],
 "metadata": {
  "kernelspec": {
   "display_name": "Python 2",
   "language": "python",
   "name": "python2"
  },
  "language_info": {
   "codemirror_mode": {
    "name": "ipython",
    "version": 2
   },
   "file_extension": ".py",
   "mimetype": "text/x-python",
   "name": "python",
   "nbconvert_exporter": "python",
   "pygments_lexer": "ipython2",
   "version": "2.7.10"
  }
 },
 "nbformat": 4,
 "nbformat_minor": 0
}
