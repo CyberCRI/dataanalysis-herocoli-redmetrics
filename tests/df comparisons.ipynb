{
 "cells": [
  {
   "cell_type": "code",
   "execution_count": 1,
   "metadata": {
    "collapsed": true
   },
   "outputs": [],
   "source": [
    "%matplotlib inline\n",
    "\n",
    "import numpy as np\n",
    "import pandas as pd\n",
    "import matplotlib.pyplot as plt \n",
    "import seaborn as sns"
   ]
  },
  {
   "cell_type": "markdown",
   "metadata": {},
   "source": [
    "# Case 1"
   ]
  },
  {
   "cell_type": "code",
   "execution_count": 12,
   "metadata": {
    "collapsed": false
   },
   "outputs": [
    {
     "name": "stdout",
     "output_type": "stream",
     "text": [
      "  values1\n",
      "0       1\n",
      "1       2\n",
      "2       3\n",
      "  values1 values2\n",
      "0       1       2\n",
      "1       3       2\n",
      "2       1       2\n"
     ]
    }
   ],
   "source": [
    "df1 = pd.DataFrame({\n",
    "        'values1' : [\n",
    "            '1',\n",
    "            '2',\n",
    "            '3'\n",
    "        ]\n",
    "    }\n",
    "                  )\n",
    "\n",
    "df2 = pd.DataFrame({\n",
    "        'values1' : [\n",
    "            '1',\n",
    "            '3',\n",
    "            '1'\n",
    "        ],\n",
    "        'values2' : [\n",
    "            '2',\n",
    "            '2',\n",
    "            '2'\n",
    "        ]\n",
    "    }\n",
    "                  )\n",
    "\n",
    "print(df1)\n",
    "print(df2)"
   ]
  },
  {
   "cell_type": "code",
   "execution_count": 13,
   "metadata": {
    "collapsed": false
   },
   "outputs": [
    {
     "data": {
      "text/plain": [
       "array(['1'], dtype=object)"
      ]
     },
     "execution_count": 13,
     "metadata": {},
     "output_type": "execute_result"
    }
   ],
   "source": [
    "df1.iloc[0,:].values"
   ]
  },
  {
   "cell_type": "code",
   "execution_count": 16,
   "metadata": {
    "collapsed": false,
    "scrolled": true
   },
   "outputs": [
    {
     "name": "stdout",
     "output_type": "stream",
     "text": [
      "0     True\n",
      "1    False\n",
      "2    False\n",
      "Name: values1, dtype: bool\n"
     ]
    }
   ],
   "source": [
    "df3 = df1['values1']==df2['values1']\n",
    "print(df3)"
   ]
  },
  {
   "cell_type": "markdown",
   "metadata": {},
   "source": [
    "# Case 2"
   ]
  },
  {
   "cell_type": "code",
   "execution_count": 17,
   "metadata": {
    "collapsed": false
   },
   "outputs": [
    {
     "name": "stdout",
     "output_type": "stream",
     "text": [
      "  values3\n",
      "0       1\n",
      "1       2\n",
      "2       3\n",
      "  values4\n",
      "0       1\n",
      "1       3\n",
      "2       1\n"
     ]
    }
   ],
   "source": [
    "df3 = pd.DataFrame({\n",
    "        'values3' : [\n",
    "            '1',\n",
    "            '2',\n",
    "            '3'\n",
    "        ]\n",
    "    }\n",
    "                  )\n",
    "\n",
    "df4 = pd.DataFrame({\n",
    "        'values4' : [\n",
    "            '1',\n",
    "            '3',\n",
    "            '1'\n",
    "        ]\n",
    "    }\n",
    "                  )\n",
    "\n",
    "print(df3)\n",
    "print(df4)"
   ]
  },
  {
   "cell_type": "code",
   "execution_count": 19,
   "metadata": {
    "collapsed": false
   },
   "outputs": [
    {
     "name": "stdout",
     "output_type": "stream",
     "text": [
      "[[ True]\n",
      " [False]\n",
      " [False]]\n"
     ]
    }
   ],
   "source": [
    "df5 = df3.values==df4.values\n",
    "print(df5)"
   ]
  },
  {
   "cell_type": "markdown",
   "metadata": {},
   "source": [
    "# Case 3"
   ]
  },
  {
   "cell_type": "code",
   "execution_count": 20,
   "metadata": {
    "collapsed": false
   },
   "outputs": [
    {
     "name": "stdout",
     "output_type": "stream",
     "text": [
      "  values6\n",
      "0       1\n",
      "1       2\n",
      "2       3\n",
      "  values7\n",
      "0     123\n",
      "1     312\n",
      "2     123\n"
     ]
    }
   ],
   "source": [
    "df6 = pd.DataFrame({\n",
    "        'values6' : [\n",
    "            '1',\n",
    "            '2',\n",
    "            '3'\n",
    "        ]\n",
    "    }\n",
    "                  )\n",
    "\n",
    "df7 = pd.DataFrame({\n",
    "        'values7' : [\n",
    "            '123',\n",
    "            '312',\n",
    "            '123'\n",
    "        ]\n",
    "    }\n",
    "                  )\n",
    "\n",
    "print(df6)\n",
    "print(df7)"
   ]
  },
  {
   "cell_type": "code",
   "execution_count": 21,
   "metadata": {
    "collapsed": false
   },
   "outputs": [
    {
     "name": "stdout",
     "output_type": "stream",
     "text": [
      "[[False]\n",
      " [False]\n",
      " [False]]\n"
     ]
    }
   ],
   "source": [
    "df8 = df6.values==df7.values\n",
    "print(df8)"
   ]
  },
  {
   "cell_type": "code",
   "execution_count": 25,
   "metadata": {
    "collapsed": false
   },
   "outputs": [
    {
     "data": {
      "text/plain": [
       "numpy.ndarray"
      ]
     },
     "execution_count": 25,
     "metadata": {},
     "output_type": "execute_result"
    }
   ],
   "source": [
    "type(df6.values)"
   ]
  },
  {
   "cell_type": "code",
   "execution_count": 35,
   "metadata": {
    "collapsed": false
   },
   "outputs": [
    {
     "name": "stdout",
     "output_type": "stream",
     "text": [
      "  values6 values7\n",
      "0       1     NaN\n",
      "1       2     NaN\n",
      "2       3     NaN\n",
      "0     NaN     123\n",
      "1     NaN     312\n",
      "2     NaN     123\n"
     ]
    }
   ],
   "source": [
    "#df9 = pd.DataFrame(df6.values.apply(u.str.startswith(v), df7.values))\n",
    "\n",
    "#df9 = pd.concat([df6.rename(index=str, columns={'values6': 'values7'}), df7])\n",
    "\n",
    "#df9.reset_index(drop=True)\n",
    "\n",
    "df9 = pd.concat([df6, df7])\n",
    "\n",
    "print(df9)"
   ]
  },
  {
   "cell_type": "code",
   "execution_count": 49,
   "metadata": {
    "collapsed": false
   },
   "outputs": [
    {
     "data": {
      "text/html": [
       "<div>\n",
       "<table border=\"1\" class=\"dataframe\">\n",
       "  <thead>\n",
       "    <tr style=\"text-align: right;\">\n",
       "      <th></th>\n",
       "      <th>values6</th>\n",
       "      <th>values7</th>\n",
       "      <th>comparison</th>\n",
       "    </tr>\n",
       "  </thead>\n",
       "  <tbody>\n",
       "    <tr>\n",
       "      <th>0</th>\n",
       "      <td>1</td>\n",
       "      <td>123</td>\n",
       "      <td>True</td>\n",
       "    </tr>\n",
       "    <tr>\n",
       "      <th>1</th>\n",
       "      <td>2</td>\n",
       "      <td>312</td>\n",
       "      <td>False</td>\n",
       "    </tr>\n",
       "    <tr>\n",
       "      <th>2</th>\n",
       "      <td>3</td>\n",
       "      <td>123</td>\n",
       "      <td>False</td>\n",
       "    </tr>\n",
       "  </tbody>\n",
       "</table>\n",
       "</div>"
      ],
      "text/plain": [
       "  values6 values7 comparison\n",
       "0       1     123       True\n",
       "1       2     312      False\n",
       "2       3     123      False"
      ]
     },
     "execution_count": 49,
     "metadata": {},
     "output_type": "execute_result"
    }
   ],
   "source": [
    "df10 = pd.DataFrame(df6)\n",
    "df10['values7'] = df7['values7']\n",
    "df10['comparison'] = df10.apply(lambda row: row['values7'].startswith(row['values6']),axis=1)\n",
    "df10"
   ]
  }
 ],
 "metadata": {
  "kernelspec": {
   "display_name": "Python 2",
   "language": "python",
   "name": "python2"
  },
  "language_info": {
   "codemirror_mode": {
    "name": "ipython",
    "version": 2
   },
   "file_extension": ".py",
   "mimetype": "text/x-python",
   "name": "python",
   "nbconvert_exporter": "python",
   "pygments_lexer": "ipython2",
   "version": "2.7.10"
  }
 },
 "nbformat": 4,
 "nbformat_minor": 0
}
