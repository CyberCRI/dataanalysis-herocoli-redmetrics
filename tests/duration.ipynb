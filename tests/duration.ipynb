{
 "cells": [
  {
   "cell_type": "code",
   "execution_count": 26,
   "metadata": {
    "collapsed": true
   },
   "outputs": [],
   "source": [
    "%matplotlib inline\n",
    "\n",
    "import numpy as np\n",
    "import pandas as pd\n",
    "import matplotlib.pyplot as plt \n",
    "import seaborn as sns"
   ]
  },
  {
   "cell_type": "code",
   "execution_count": 60,
   "metadata": {
    "collapsed": true
   },
   "outputs": [],
   "source": [
    "#df = pd.read_csv(\"data/1.32.csv\")\n",
    "\n",
    "df100 = pd.read_csv(\"data/1.0.csv\")\n",
    "df131 = pd.read_csv(\"data/1.31.csv\")\n",
    "#df132 = pd.read_csv(\"data/1.32.csv\")\n",
    "df132 = pd.read_csv(\"data/2016-01-26-hc-1.32.csv\")\n",
    "dftest = pd.read_csv(\"data/2016-01-26-hc-test.csv\")\n",
    "\n",
    "relevantColumns = ['id', 'serverTime', 'playerId']\n",
    "\n",
    "part100 = df100.loc[:,relevantColumns]\n",
    "part131 = df131.loc[:,relevantColumns]\n",
    "part132 = df132.loc[:,relevantColumns]\n",
    "parttest = dftest.loc[:,relevantColumns]\n",
    "\n",
    "df = pd.concat([part100, part131, part132, parttest])\n"
   ]
  },
  {
   "cell_type": "code",
   "execution_count": 61,
   "metadata": {
    "collapsed": false
   },
   "outputs": [
    {
     "data": {
      "text/html": [
       "<div>\n",
       "<table border=\"1\" class=\"dataframe\">\n",
       "  <thead>\n",
       "    <tr style=\"text-align: right;\">\n",
       "      <th></th>\n",
       "      <th>id</th>\n",
       "      <th>serverTime</th>\n",
       "      <th>playerId</th>\n",
       "    </tr>\n",
       "  </thead>\n",
       "  <tbody>\n",
       "    <tr>\n",
       "      <th>0</th>\n",
       "      <td>ec294932-22e7-4e32-8074-54ba6755f2d2</td>\n",
       "      <td>2015-04-17T20:52:31.974Z</td>\n",
       "      <td>b5ab445a-56c9-4c5b-a6d0-86e8a286cd81</td>\n",
       "    </tr>\n",
       "    <tr>\n",
       "      <th>1</th>\n",
       "      <td>fdcd8995-ea75-465d-bf97-58c2e0f1df0d</td>\n",
       "      <td>2015-04-17T23:04:30.701Z</td>\n",
       "      <td>b5ab445a-56c9-4c5b-a6d0-86e8a286cd81</td>\n",
       "    </tr>\n",
       "    <tr>\n",
       "      <th>2</th>\n",
       "      <td>c382b93e-b11c-424e-9bab-67803d47f352</td>\n",
       "      <td>2015-04-17T23:21:24.426Z</td>\n",
       "      <td>b5ab445a-56c9-4c5b-a6d0-86e8a286cd81</td>\n",
       "    </tr>\n",
       "    <tr>\n",
       "      <th>3</th>\n",
       "      <td>4e99e89d-1285-4215-8f53-088ddc5d5bf3</td>\n",
       "      <td>2015-04-18T00:22:20.163Z</td>\n",
       "      <td>b5ab445a-56c9-4c5b-a6d0-86e8a286cd81</td>\n",
       "    </tr>\n",
       "    <tr>\n",
       "      <th>4</th>\n",
       "      <td>45837197-12f2-40e1-81e8-2534cac88621</td>\n",
       "      <td>2015-04-18T00:32:11.358Z</td>\n",
       "      <td>b5ab445a-56c9-4c5b-a6d0-86e8a286cd81</td>\n",
       "    </tr>\n",
       "  </tbody>\n",
       "</table>\n",
       "</div>"
      ],
      "text/plain": [
       "                                     id                serverTime  \\\n",
       "0  ec294932-22e7-4e32-8074-54ba6755f2d2  2015-04-17T20:52:31.974Z   \n",
       "1  fdcd8995-ea75-465d-bf97-58c2e0f1df0d  2015-04-17T23:04:30.701Z   \n",
       "2  c382b93e-b11c-424e-9bab-67803d47f352  2015-04-17T23:21:24.426Z   \n",
       "3  4e99e89d-1285-4215-8f53-088ddc5d5bf3  2015-04-18T00:22:20.163Z   \n",
       "4  45837197-12f2-40e1-81e8-2534cac88621  2015-04-18T00:32:11.358Z   \n",
       "\n",
       "                               playerId  \n",
       "0  b5ab445a-56c9-4c5b-a6d0-86e8a286cd81  \n",
       "1  b5ab445a-56c9-4c5b-a6d0-86e8a286cd81  \n",
       "2  b5ab445a-56c9-4c5b-a6d0-86e8a286cd81  \n",
       "3  b5ab445a-56c9-4c5b-a6d0-86e8a286cd81  \n",
       "4  b5ab445a-56c9-4c5b-a6d0-86e8a286cd81  "
      ]
     },
     "execution_count": 61,
     "metadata": {},
     "output_type": "execute_result"
    }
   ],
   "source": [
    "df.head()"
   ]
  },
  {
   "cell_type": "code",
   "execution_count": 62,
   "metadata": {
    "collapsed": false,
    "scrolled": false
   },
   "outputs": [
    {
     "data": {
      "text/html": [
       "<div>\n",
       "<table border=\"1\" class=\"dataframe\">\n",
       "  <thead>\n",
       "    <tr>\n",
       "      <th></th>\n",
       "      <th colspan=\"2\" halign=\"left\">serverTime</th>\n",
       "    </tr>\n",
       "    <tr>\n",
       "      <th></th>\n",
       "      <th>amin</th>\n",
       "      <th>amax</th>\n",
       "    </tr>\n",
       "    <tr>\n",
       "      <th>playerId</th>\n",
       "      <th></th>\n",
       "      <th></th>\n",
       "    </tr>\n",
       "  </thead>\n",
       "  <tbody>\n",
       "    <tr>\n",
       "      <th>00717e1e-67eb-4350-b03d-01dc157299b8</th>\n",
       "      <td>2015-12-16T14:39:39.941Z</td>\n",
       "      <td>2015-12-16T14:56:01.158Z</td>\n",
       "    </tr>\n",
       "    <tr>\n",
       "      <th>00a654be-6850-424a-a712-7193a2a4af87</th>\n",
       "      <td>2015-05-25T19:48:52.796Z</td>\n",
       "      <td>2015-05-25T19:55:50.825Z</td>\n",
       "    </tr>\n",
       "    <tr>\n",
       "      <th>00bd9fde-4cae-4e3e-ab3f-6aabeab58f62</th>\n",
       "      <td>2015-10-21T10:44:06.633Z</td>\n",
       "      <td>2015-10-21T10:50:11.614Z</td>\n",
       "    </tr>\n",
       "    <tr>\n",
       "      <th>00c6213a-7a0e-4890-94b4-ac614e513668</th>\n",
       "      <td>2015-10-27T16:29:44.960Z</td>\n",
       "      <td>2015-10-27T16:32:50.021Z</td>\n",
       "    </tr>\n",
       "    <tr>\n",
       "      <th>0120d461-24ff-4660-b4dd-995379c69822</th>\n",
       "      <td>2015-07-14T18:05:17.445Z</td>\n",
       "      <td>2015-07-14T18:05:37.445Z</td>\n",
       "    </tr>\n",
       "  </tbody>\n",
       "</table>\n",
       "</div>"
      ],
      "text/plain": [
       "                                                    serverTime  \\\n",
       "                                                          amin   \n",
       "playerId                                                         \n",
       "00717e1e-67eb-4350-b03d-01dc157299b8  2015-12-16T14:39:39.941Z   \n",
       "00a654be-6850-424a-a712-7193a2a4af87  2015-05-25T19:48:52.796Z   \n",
       "00bd9fde-4cae-4e3e-ab3f-6aabeab58f62  2015-10-21T10:44:06.633Z   \n",
       "00c6213a-7a0e-4890-94b4-ac614e513668  2015-10-27T16:29:44.960Z   \n",
       "0120d461-24ff-4660-b4dd-995379c69822  2015-07-14T18:05:17.445Z   \n",
       "\n",
       "                                                                \n",
       "                                                          amax  \n",
       "playerId                                                        \n",
       "00717e1e-67eb-4350-b03d-01dc157299b8  2015-12-16T14:56:01.158Z  \n",
       "00a654be-6850-424a-a712-7193a2a4af87  2015-05-25T19:55:50.825Z  \n",
       "00bd9fde-4cae-4e3e-ab3f-6aabeab58f62  2015-10-21T10:50:11.614Z  \n",
       "00c6213a-7a0e-4890-94b4-ac614e513668  2015-10-27T16:32:50.021Z  \n",
       "0120d461-24ff-4660-b4dd-995379c69822  2015-07-14T18:05:37.445Z  "
      ]
     },
     "execution_count": 62,
     "metadata": {},
     "output_type": "execute_result"
    }
   ],
   "source": [
    "durations = df.groupby(\"playerId\").agg({ \"serverTime\": [ np.min, np.max  ] })\n",
    "\n",
    "durations.head()"
   ]
  },
  {
   "cell_type": "code",
   "execution_count": 63,
   "metadata": {
    "collapsed": false
   },
   "outputs": [
    {
     "data": {
      "text/html": [
       "<div>\n",
       "<table border=\"1\" class=\"dataframe\">\n",
       "  <thead>\n",
       "    <tr>\n",
       "      <th></th>\n",
       "      <th colspan=\"2\" halign=\"left\">serverTime</th>\n",
       "      <th>duration</th>\n",
       "    </tr>\n",
       "    <tr>\n",
       "      <th></th>\n",
       "      <th>amin</th>\n",
       "      <th>amax</th>\n",
       "      <th></th>\n",
       "    </tr>\n",
       "    <tr>\n",
       "      <th>playerId</th>\n",
       "      <th></th>\n",
       "      <th></th>\n",
       "      <th></th>\n",
       "    </tr>\n",
       "  </thead>\n",
       "  <tbody>\n",
       "    <tr>\n",
       "      <th>00717e1e-67eb-4350-b03d-01dc157299b8</th>\n",
       "      <td>2015-12-16T14:39:39.941Z</td>\n",
       "      <td>2015-12-16T14:56:01.158Z</td>\n",
       "      <td>00:16:21.217000</td>\n",
       "    </tr>\n",
       "    <tr>\n",
       "      <th>00a654be-6850-424a-a712-7193a2a4af87</th>\n",
       "      <td>2015-05-25T19:48:52.796Z</td>\n",
       "      <td>2015-05-25T19:55:50.825Z</td>\n",
       "      <td>00:06:58.029000</td>\n",
       "    </tr>\n",
       "    <tr>\n",
       "      <th>00bd9fde-4cae-4e3e-ab3f-6aabeab58f62</th>\n",
       "      <td>2015-10-21T10:44:06.633Z</td>\n",
       "      <td>2015-10-21T10:50:11.614Z</td>\n",
       "      <td>00:06:04.981000</td>\n",
       "    </tr>\n",
       "    <tr>\n",
       "      <th>00c6213a-7a0e-4890-94b4-ac614e513668</th>\n",
       "      <td>2015-10-27T16:29:44.960Z</td>\n",
       "      <td>2015-10-27T16:32:50.021Z</td>\n",
       "      <td>00:03:05.061000</td>\n",
       "    </tr>\n",
       "    <tr>\n",
       "      <th>0120d461-24ff-4660-b4dd-995379c69822</th>\n",
       "      <td>2015-07-14T18:05:17.445Z</td>\n",
       "      <td>2015-07-14T18:05:37.445Z</td>\n",
       "      <td>00:00:20</td>\n",
       "    </tr>\n",
       "  </tbody>\n",
       "</table>\n",
       "</div>"
      ],
      "text/plain": [
       "                                                    serverTime  \\\n",
       "                                                          amin   \n",
       "playerId                                                         \n",
       "00717e1e-67eb-4350-b03d-01dc157299b8  2015-12-16T14:39:39.941Z   \n",
       "00a654be-6850-424a-a712-7193a2a4af87  2015-05-25T19:48:52.796Z   \n",
       "00bd9fde-4cae-4e3e-ab3f-6aabeab58f62  2015-10-21T10:44:06.633Z   \n",
       "00c6213a-7a0e-4890-94b4-ac614e513668  2015-10-27T16:29:44.960Z   \n",
       "0120d461-24ff-4660-b4dd-995379c69822  2015-07-14T18:05:17.445Z   \n",
       "\n",
       "                                                                      duration  \n",
       "                                                          amax                  \n",
       "playerId                                                                        \n",
       "00717e1e-67eb-4350-b03d-01dc157299b8  2015-12-16T14:56:01.158Z 00:16:21.217000  \n",
       "00a654be-6850-424a-a712-7193a2a4af87  2015-05-25T19:55:50.825Z 00:06:58.029000  \n",
       "00bd9fde-4cae-4e3e-ab3f-6aabeab58f62  2015-10-21T10:50:11.614Z 00:06:04.981000  \n",
       "00c6213a-7a0e-4890-94b4-ac614e513668  2015-10-27T16:32:50.021Z 00:03:05.061000  \n",
       "0120d461-24ff-4660-b4dd-995379c69822  2015-07-14T18:05:37.445Z        00:00:20  "
      ]
     },
     "execution_count": 63,
     "metadata": {},
     "output_type": "execute_result"
    }
   ],
   "source": [
    "durations[\"duration\"] = pd.to_datetime(durations[\"serverTime\"][\"amax\"]) - pd.to_datetime(durations[\"serverTime\"][\"amin\"])\n",
    "\n",
    "durations.head()"
   ]
  },
  {
   "cell_type": "code",
   "execution_count": 64,
   "metadata": {
    "collapsed": false
   },
   "outputs": [
    {
     "data": {
      "text/html": [
       "<div>\n",
       "<table border=\"1\" class=\"dataframe\">\n",
       "  <thead>\n",
       "    <tr>\n",
       "      <th></th>\n",
       "      <th colspan=\"2\" halign=\"left\">serverTime</th>\n",
       "      <th>duration</th>\n",
       "    </tr>\n",
       "    <tr>\n",
       "      <th></th>\n",
       "      <th>amin</th>\n",
       "      <th>amax</th>\n",
       "      <th></th>\n",
       "    </tr>\n",
       "    <tr>\n",
       "      <th>playerId</th>\n",
       "      <th></th>\n",
       "      <th></th>\n",
       "      <th></th>\n",
       "    </tr>\n",
       "  </thead>\n",
       "  <tbody>\n",
       "    <tr>\n",
       "      <th>00717e1e-67eb-4350-b03d-01dc157299b8</th>\n",
       "      <td>2015-12-16T14:39:39.941Z</td>\n",
       "      <td>2015-12-16T14:56:01.158Z</td>\n",
       "      <td>00:16:21</td>\n",
       "    </tr>\n",
       "    <tr>\n",
       "      <th>00a654be-6850-424a-a712-7193a2a4af87</th>\n",
       "      <td>2015-05-25T19:48:52.796Z</td>\n",
       "      <td>2015-05-25T19:55:50.825Z</td>\n",
       "      <td>00:06:58</td>\n",
       "    </tr>\n",
       "    <tr>\n",
       "      <th>00bd9fde-4cae-4e3e-ab3f-6aabeab58f62</th>\n",
       "      <td>2015-10-21T10:44:06.633Z</td>\n",
       "      <td>2015-10-21T10:50:11.614Z</td>\n",
       "      <td>00:06:04</td>\n",
       "    </tr>\n",
       "    <tr>\n",
       "      <th>00c6213a-7a0e-4890-94b4-ac614e513668</th>\n",
       "      <td>2015-10-27T16:29:44.960Z</td>\n",
       "      <td>2015-10-27T16:32:50.021Z</td>\n",
       "      <td>00:03:05</td>\n",
       "    </tr>\n",
       "    <tr>\n",
       "      <th>0120d461-24ff-4660-b4dd-995379c69822</th>\n",
       "      <td>2015-07-14T18:05:17.445Z</td>\n",
       "      <td>2015-07-14T18:05:37.445Z</td>\n",
       "      <td>00:00:20</td>\n",
       "    </tr>\n",
       "  </tbody>\n",
       "</table>\n",
       "</div>"
      ],
      "text/plain": [
       "                                                    serverTime  \\\n",
       "                                                          amin   \n",
       "playerId                                                         \n",
       "00717e1e-67eb-4350-b03d-01dc157299b8  2015-12-16T14:39:39.941Z   \n",
       "00a654be-6850-424a-a712-7193a2a4af87  2015-05-25T19:48:52.796Z   \n",
       "00bd9fde-4cae-4e3e-ab3f-6aabeab58f62  2015-10-21T10:44:06.633Z   \n",
       "00c6213a-7a0e-4890-94b4-ac614e513668  2015-10-27T16:29:44.960Z   \n",
       "0120d461-24ff-4660-b4dd-995379c69822  2015-07-14T18:05:17.445Z   \n",
       "\n",
       "                                                               duration  \n",
       "                                                          amax           \n",
       "playerId                                                                 \n",
       "00717e1e-67eb-4350-b03d-01dc157299b8  2015-12-16T14:56:01.158Z 00:16:21  \n",
       "00a654be-6850-424a-a712-7193a2a4af87  2015-05-25T19:55:50.825Z 00:06:58  \n",
       "00bd9fde-4cae-4e3e-ab3f-6aabeab58f62  2015-10-21T10:50:11.614Z 00:06:04  \n",
       "00c6213a-7a0e-4890-94b4-ac614e513668  2015-10-27T16:32:50.021Z 00:03:05  \n",
       "0120d461-24ff-4660-b4dd-995379c69822  2015-07-14T18:05:37.445Z 00:00:20  "
      ]
     },
     "execution_count": 64,
     "metadata": {},
     "output_type": "execute_result"
    }
   ],
   "source": [
    "durations[\"duration\"] = durations[\"duration\"].map(lambda x: np.timedelta64(x, 's'))\n",
    "\n",
    "durations.head()"
   ]
  },
  {
   "cell_type": "code",
   "execution_count": 65,
   "metadata": {
    "collapsed": false
   },
   "outputs": [
    {
     "data": {
      "text/html": [
       "<div>\n",
       "<table border=\"1\" class=\"dataframe\">\n",
       "  <thead>\n",
       "    <tr>\n",
       "      <th></th>\n",
       "      <th colspan=\"2\" halign=\"left\">serverTime</th>\n",
       "      <th>duration</th>\n",
       "    </tr>\n",
       "    <tr>\n",
       "      <th></th>\n",
       "      <th>amin</th>\n",
       "      <th>amax</th>\n",
       "      <th></th>\n",
       "    </tr>\n",
       "    <tr>\n",
       "      <th>playerId</th>\n",
       "      <th></th>\n",
       "      <th></th>\n",
       "      <th></th>\n",
       "    </tr>\n",
       "  </thead>\n",
       "  <tbody>\n",
       "    <tr>\n",
       "      <th>b5ab445a-56c9-4c5b-a6d0-86e8a286cd81</th>\n",
       "      <td>2015-04-17T20:52:31.974Z</td>\n",
       "      <td>2015-09-21T10:07:46.121Z</td>\n",
       "      <td>156 days 13:15:14</td>\n",
       "    </tr>\n",
       "    <tr>\n",
       "      <th>c38e4138-0c29-4b62-b516-8ee3b1dda3f3</th>\n",
       "      <td>2015-08-07T13:08:12.370Z</td>\n",
       "      <td>2015-08-11T08:39:24.458Z</td>\n",
       "      <td>3 days 19:31:12</td>\n",
       "    </tr>\n",
       "    <tr>\n",
       "      <th>4f8e87f8-3f07-43fc-ad9d-e56a8d1e739a</th>\n",
       "      <td>2015-07-08T19:06:12.475Z</td>\n",
       "      <td>2015-07-09T16:02:43.481Z</td>\n",
       "      <td>0 days 20:56:31</td>\n",
       "    </tr>\n",
       "    <tr>\n",
       "      <th>9187eb52-cc51-4ca3-8fcd-8db840fac023</th>\n",
       "      <td>2015-05-05T08:00:27.687Z</td>\n",
       "      <td>2015-05-05T17:19:55.720Z</td>\n",
       "      <td>0 days 09:19:28</td>\n",
       "    </tr>\n",
       "    <tr>\n",
       "      <th>95bd33a2-fb3c-4b03-9688-e1f00343a537</th>\n",
       "      <td>2015-12-23T19:34:25.120Z</td>\n",
       "      <td>2015-12-23T21:31:46.090Z</td>\n",
       "      <td>0 days 01:57:20</td>\n",
       "    </tr>\n",
       "  </tbody>\n",
       "</table>\n",
       "</div>"
      ],
      "text/plain": [
       "                                                    serverTime  \\\n",
       "                                                          amin   \n",
       "playerId                                                         \n",
       "b5ab445a-56c9-4c5b-a6d0-86e8a286cd81  2015-04-17T20:52:31.974Z   \n",
       "c38e4138-0c29-4b62-b516-8ee3b1dda3f3  2015-08-07T13:08:12.370Z   \n",
       "4f8e87f8-3f07-43fc-ad9d-e56a8d1e739a  2015-07-08T19:06:12.475Z   \n",
       "9187eb52-cc51-4ca3-8fcd-8db840fac023  2015-05-05T08:00:27.687Z   \n",
       "95bd33a2-fb3c-4b03-9688-e1f00343a537  2015-12-23T19:34:25.120Z   \n",
       "\n",
       "                                                                \\\n",
       "                                                          amax   \n",
       "playerId                                                         \n",
       "b5ab445a-56c9-4c5b-a6d0-86e8a286cd81  2015-09-21T10:07:46.121Z   \n",
       "c38e4138-0c29-4b62-b516-8ee3b1dda3f3  2015-08-11T08:39:24.458Z   \n",
       "4f8e87f8-3f07-43fc-ad9d-e56a8d1e739a  2015-07-09T16:02:43.481Z   \n",
       "9187eb52-cc51-4ca3-8fcd-8db840fac023  2015-05-05T17:19:55.720Z   \n",
       "95bd33a2-fb3c-4b03-9688-e1f00343a537  2015-12-23T21:31:46.090Z   \n",
       "\n",
       "                                              duration  \n",
       "                                                        \n",
       "playerId                                                \n",
       "b5ab445a-56c9-4c5b-a6d0-86e8a286cd81 156 days 13:15:14  \n",
       "c38e4138-0c29-4b62-b516-8ee3b1dda3f3   3 days 19:31:12  \n",
       "4f8e87f8-3f07-43fc-ad9d-e56a8d1e739a   0 days 20:56:31  \n",
       "9187eb52-cc51-4ca3-8fcd-8db840fac023   0 days 09:19:28  \n",
       "95bd33a2-fb3c-4b03-9688-e1f00343a537   0 days 01:57:20  "
      ]
     },
     "execution_count": 65,
     "metadata": {},
     "output_type": "execute_result"
    }
   ],
   "source": [
    "durations = durations.sort_values(by=['duration'], ascending=[False])\n",
    "\n",
    "durations.head()"
   ]
  },
  {
   "cell_type": "code",
   "execution_count": 66,
   "metadata": {
    "collapsed": false
   },
   "outputs": [
    {
     "name": "stdout",
     "output_type": "stream",
     "text": [
      "0 days 00:06:04.981000\n"
     ]
    }
   ],
   "source": [
    "timedelta = pd.to_datetime(\"2015-10-21T10:50:11.614Z\") - pd.to_datetime(\"2015-10-21T10:44:06.633Z\")\n",
    "\n",
    "print timedelta"
   ]
  },
  {
   "cell_type": "code",
   "execution_count": 67,
   "metadata": {
    "collapsed": false
   },
   "outputs": [
    {
     "data": {
      "text/html": [
       "<div>\n",
       "<table border=\"1\" class=\"dataframe\">\n",
       "  <thead>\n",
       "    <tr>\n",
       "      <th></th>\n",
       "      <th colspan=\"2\" halign=\"left\">serverTime</th>\n",
       "      <th>duration</th>\n",
       "    </tr>\n",
       "    <tr>\n",
       "      <th></th>\n",
       "      <th>amin</th>\n",
       "      <th>amax</th>\n",
       "      <th></th>\n",
       "    </tr>\n",
       "    <tr>\n",
       "      <th>playerId</th>\n",
       "      <th></th>\n",
       "      <th></th>\n",
       "      <th></th>\n",
       "    </tr>\n",
       "  </thead>\n",
       "  <tbody>\n",
       "    <tr>\n",
       "      <th>b5ab445a-56c9-4c5b-a6d0-86e8a286cd81</th>\n",
       "      <td>2015-04-17T20:52:31.974Z</td>\n",
       "      <td>2015-09-21T10:07:46.121Z</td>\n",
       "      <td>156 days 13:15:14</td>\n",
       "    </tr>\n",
       "    <tr>\n",
       "      <th>c38e4138-0c29-4b62-b516-8ee3b1dda3f3</th>\n",
       "      <td>2015-08-07T13:08:12.370Z</td>\n",
       "      <td>2015-08-11T08:39:24.458Z</td>\n",
       "      <td>3 days 19:31:12</td>\n",
       "    </tr>\n",
       "    <tr>\n",
       "      <th>4f8e87f8-3f07-43fc-ad9d-e56a8d1e739a</th>\n",
       "      <td>2015-07-08T19:06:12.475Z</td>\n",
       "      <td>2015-07-09T16:02:43.481Z</td>\n",
       "      <td>0 days 20:56:31</td>\n",
       "    </tr>\n",
       "    <tr>\n",
       "      <th>9187eb52-cc51-4ca3-8fcd-8db840fac023</th>\n",
       "      <td>2015-05-05T08:00:27.687Z</td>\n",
       "      <td>2015-05-05T17:19:55.720Z</td>\n",
       "      <td>0 days 09:19:28</td>\n",
       "    </tr>\n",
       "    <tr>\n",
       "      <th>95bd33a2-fb3c-4b03-9688-e1f00343a537</th>\n",
       "      <td>2015-12-23T19:34:25.120Z</td>\n",
       "      <td>2015-12-23T21:31:46.090Z</td>\n",
       "      <td>0 days 01:57:20</td>\n",
       "    </tr>\n",
       "  </tbody>\n",
       "</table>\n",
       "</div>"
      ],
      "text/plain": [
       "                                                    serverTime  \\\n",
       "                                                          amin   \n",
       "playerId                                                         \n",
       "b5ab445a-56c9-4c5b-a6d0-86e8a286cd81  2015-04-17T20:52:31.974Z   \n",
       "c38e4138-0c29-4b62-b516-8ee3b1dda3f3  2015-08-07T13:08:12.370Z   \n",
       "4f8e87f8-3f07-43fc-ad9d-e56a8d1e739a  2015-07-08T19:06:12.475Z   \n",
       "9187eb52-cc51-4ca3-8fcd-8db840fac023  2015-05-05T08:00:27.687Z   \n",
       "95bd33a2-fb3c-4b03-9688-e1f00343a537  2015-12-23T19:34:25.120Z   \n",
       "\n",
       "                                                                \\\n",
       "                                                          amax   \n",
       "playerId                                                         \n",
       "b5ab445a-56c9-4c5b-a6d0-86e8a286cd81  2015-09-21T10:07:46.121Z   \n",
       "c38e4138-0c29-4b62-b516-8ee3b1dda3f3  2015-08-11T08:39:24.458Z   \n",
       "4f8e87f8-3f07-43fc-ad9d-e56a8d1e739a  2015-07-09T16:02:43.481Z   \n",
       "9187eb52-cc51-4ca3-8fcd-8db840fac023  2015-05-05T17:19:55.720Z   \n",
       "95bd33a2-fb3c-4b03-9688-e1f00343a537  2015-12-23T21:31:46.090Z   \n",
       "\n",
       "                                              duration  \n",
       "                                                        \n",
       "playerId                                                \n",
       "b5ab445a-56c9-4c5b-a6d0-86e8a286cd81 156 days 13:15:14  \n",
       "c38e4138-0c29-4b62-b516-8ee3b1dda3f3   3 days 19:31:12  \n",
       "4f8e87f8-3f07-43fc-ad9d-e56a8d1e739a   0 days 20:56:31  \n",
       "9187eb52-cc51-4ca3-8fcd-8db840fac023   0 days 09:19:28  \n",
       "95bd33a2-fb3c-4b03-9688-e1f00343a537   0 days 01:57:20  "
      ]
     },
     "execution_count": 67,
     "metadata": {},
     "output_type": "execute_result"
    }
   ],
   "source": [
    "durations.loc[:,'duration']\n",
    "durations.head()"
   ]
  },
  {
   "cell_type": "code",
   "execution_count": 68,
   "metadata": {
    "collapsed": false
   },
   "outputs": [
    {
     "data": {
      "text/html": [
       "<div>\n",
       "<table border=\"1\" class=\"dataframe\">\n",
       "  <thead>\n",
       "    <tr>\n",
       "      <th></th>\n",
       "      <th colspan=\"2\" halign=\"left\">serverTime</th>\n",
       "      <th>duration</th>\n",
       "    </tr>\n",
       "    <tr>\n",
       "      <th></th>\n",
       "      <th>amin</th>\n",
       "      <th>amax</th>\n",
       "      <th></th>\n",
       "    </tr>\n",
       "    <tr>\n",
       "      <th>playerId</th>\n",
       "      <th></th>\n",
       "      <th></th>\n",
       "      <th></th>\n",
       "    </tr>\n",
       "  </thead>\n",
       "  <tbody>\n",
       "    <tr>\n",
       "      <th>95bd33a2-fb3c-4b03-9688-e1f00343a537</th>\n",
       "      <td>2015-12-23T19:34:25.120Z</td>\n",
       "      <td>2015-12-23T21:31:46.090Z</td>\n",
       "      <td>01:57:20</td>\n",
       "    </tr>\n",
       "    <tr>\n",
       "      <th>407d8ae6-5697-4438-bc4d-c35d20888ce8</th>\n",
       "      <td>2016-01-21T11:49:54.979Z</td>\n",
       "      <td>2016-01-21T13:32:20.630Z</td>\n",
       "      <td>01:42:25</td>\n",
       "    </tr>\n",
       "    <tr>\n",
       "      <th>9e01584b-2ab5-407e-a9e0-b3a816b9ffa3</th>\n",
       "      <td>2015-06-16T15:09:04.316Z</td>\n",
       "      <td>2015-06-16T16:41:24.221Z</td>\n",
       "      <td>01:32:19</td>\n",
       "    </tr>\n",
       "    <tr>\n",
       "      <th>d1530309-0c5c-4657-917f-9854a09a1ce8</th>\n",
       "      <td>2015-07-07T16:15:57.888Z</td>\n",
       "      <td>2015-07-07T17:43:55.977Z</td>\n",
       "      <td>01:27:58</td>\n",
       "    </tr>\n",
       "    <tr>\n",
       "      <th>3ae33faa-e248-44d7-bd0a-5f1493f152c9</th>\n",
       "      <td>2015-10-06T12:28:17.889Z</td>\n",
       "      <td>2015-10-06T13:50:08.394Z</td>\n",
       "      <td>01:21:50</td>\n",
       "    </tr>\n",
       "  </tbody>\n",
       "</table>\n",
       "</div>"
      ],
      "text/plain": [
       "                                                    serverTime  \\\n",
       "                                                          amin   \n",
       "playerId                                                         \n",
       "95bd33a2-fb3c-4b03-9688-e1f00343a537  2015-12-23T19:34:25.120Z   \n",
       "407d8ae6-5697-4438-bc4d-c35d20888ce8  2016-01-21T11:49:54.979Z   \n",
       "9e01584b-2ab5-407e-a9e0-b3a816b9ffa3  2015-06-16T15:09:04.316Z   \n",
       "d1530309-0c5c-4657-917f-9854a09a1ce8  2015-07-07T16:15:57.888Z   \n",
       "3ae33faa-e248-44d7-bd0a-5f1493f152c9  2015-10-06T12:28:17.889Z   \n",
       "\n",
       "                                                               duration  \n",
       "                                                          amax           \n",
       "playerId                                                                 \n",
       "95bd33a2-fb3c-4b03-9688-e1f00343a537  2015-12-23T21:31:46.090Z 01:57:20  \n",
       "407d8ae6-5697-4438-bc4d-c35d20888ce8  2016-01-21T13:32:20.630Z 01:42:25  \n",
       "9e01584b-2ab5-407e-a9e0-b3a816b9ffa3  2015-06-16T16:41:24.221Z 01:32:19  \n",
       "d1530309-0c5c-4657-917f-9854a09a1ce8  2015-07-07T17:43:55.977Z 01:27:58  \n",
       "3ae33faa-e248-44d7-bd0a-5f1493f152c9  2015-10-06T13:50:08.394Z 01:21:50  "
      ]
     },
     "execution_count": 68,
     "metadata": {},
     "output_type": "execute_result"
    }
   ],
   "source": [
    "durations = durations[4:]\n",
    "durations.head()"
   ]
  },
  {
   "cell_type": "code",
   "execution_count": 69,
   "metadata": {
    "collapsed": false
   },
   "outputs": [
    {
     "data": {
      "text/html": [
       "<div>\n",
       "<table border=\"1\" class=\"dataframe\">\n",
       "  <thead>\n",
       "    <tr>\n",
       "      <th></th>\n",
       "      <th colspan=\"2\" halign=\"left\">serverTime</th>\n",
       "      <th>duration</th>\n",
       "      <th>duration_seconds</th>\n",
       "    </tr>\n",
       "    <tr>\n",
       "      <th></th>\n",
       "      <th>amin</th>\n",
       "      <th>amax</th>\n",
       "      <th></th>\n",
       "      <th></th>\n",
       "    </tr>\n",
       "    <tr>\n",
       "      <th>playerId</th>\n",
       "      <th></th>\n",
       "      <th></th>\n",
       "      <th></th>\n",
       "      <th></th>\n",
       "    </tr>\n",
       "  </thead>\n",
       "  <tbody>\n",
       "    <tr>\n",
       "      <th>95bd33a2-fb3c-4b03-9688-e1f00343a537</th>\n",
       "      <td>2015-12-23T19:34:25.120Z</td>\n",
       "      <td>2015-12-23T21:31:46.090Z</td>\n",
       "      <td>01:57:20</td>\n",
       "      <td>7040</td>\n",
       "    </tr>\n",
       "    <tr>\n",
       "      <th>407d8ae6-5697-4438-bc4d-c35d20888ce8</th>\n",
       "      <td>2016-01-21T11:49:54.979Z</td>\n",
       "      <td>2016-01-21T13:32:20.630Z</td>\n",
       "      <td>01:42:25</td>\n",
       "      <td>6145</td>\n",
       "    </tr>\n",
       "    <tr>\n",
       "      <th>9e01584b-2ab5-407e-a9e0-b3a816b9ffa3</th>\n",
       "      <td>2015-06-16T15:09:04.316Z</td>\n",
       "      <td>2015-06-16T16:41:24.221Z</td>\n",
       "      <td>01:32:19</td>\n",
       "      <td>5539</td>\n",
       "    </tr>\n",
       "    <tr>\n",
       "      <th>d1530309-0c5c-4657-917f-9854a09a1ce8</th>\n",
       "      <td>2015-07-07T16:15:57.888Z</td>\n",
       "      <td>2015-07-07T17:43:55.977Z</td>\n",
       "      <td>01:27:58</td>\n",
       "      <td>5278</td>\n",
       "    </tr>\n",
       "    <tr>\n",
       "      <th>3ae33faa-e248-44d7-bd0a-5f1493f152c9</th>\n",
       "      <td>2015-10-06T12:28:17.889Z</td>\n",
       "      <td>2015-10-06T13:50:08.394Z</td>\n",
       "      <td>01:21:50</td>\n",
       "      <td>4910</td>\n",
       "    </tr>\n",
       "  </tbody>\n",
       "</table>\n",
       "</div>"
      ],
      "text/plain": [
       "                                                    serverTime  \\\n",
       "                                                          amin   \n",
       "playerId                                                         \n",
       "95bd33a2-fb3c-4b03-9688-e1f00343a537  2015-12-23T19:34:25.120Z   \n",
       "407d8ae6-5697-4438-bc4d-c35d20888ce8  2016-01-21T11:49:54.979Z   \n",
       "9e01584b-2ab5-407e-a9e0-b3a816b9ffa3  2015-06-16T15:09:04.316Z   \n",
       "d1530309-0c5c-4657-917f-9854a09a1ce8  2015-07-07T16:15:57.888Z   \n",
       "3ae33faa-e248-44d7-bd0a-5f1493f152c9  2015-10-06T12:28:17.889Z   \n",
       "\n",
       "                                                               duration  \\\n",
       "                                                          amax            \n",
       "playerId                                                                  \n",
       "95bd33a2-fb3c-4b03-9688-e1f00343a537  2015-12-23T21:31:46.090Z 01:57:20   \n",
       "407d8ae6-5697-4438-bc4d-c35d20888ce8  2016-01-21T13:32:20.630Z 01:42:25   \n",
       "9e01584b-2ab5-407e-a9e0-b3a816b9ffa3  2015-06-16T16:41:24.221Z 01:32:19   \n",
       "d1530309-0c5c-4657-917f-9854a09a1ce8  2015-07-07T17:43:55.977Z 01:27:58   \n",
       "3ae33faa-e248-44d7-bd0a-5f1493f152c9  2015-10-06T13:50:08.394Z 01:21:50   \n",
       "\n",
       "                                     duration_seconds  \n",
       "                                                       \n",
       "playerId                                               \n",
       "95bd33a2-fb3c-4b03-9688-e1f00343a537             7040  \n",
       "407d8ae6-5697-4438-bc4d-c35d20888ce8             6145  \n",
       "9e01584b-2ab5-407e-a9e0-b3a816b9ffa3             5539  \n",
       "d1530309-0c5c-4657-917f-9854a09a1ce8             5278  \n",
       "3ae33faa-e248-44d7-bd0a-5f1493f152c9             4910  "
      ]
     },
     "execution_count": 69,
     "metadata": {},
     "output_type": "execute_result"
    }
   ],
   "source": [
    "durations[\"duration_seconds\"] = durations[\"duration\"].map(lambda x: pd.Timedelta(x).seconds)\n",
    "durations.head()"
   ]
  },
  {
   "cell_type": "code",
   "execution_count": 70,
   "metadata": {
    "collapsed": false
   },
   "outputs": [
    {
     "data": {
      "text/html": [
       "<div>\n",
       "<table border=\"1\" class=\"dataframe\">\n",
       "  <thead>\n",
       "    <tr>\n",
       "      <th></th>\n",
       "      <th colspan=\"2\" halign=\"left\">serverTime</th>\n",
       "      <th>duration</th>\n",
       "      <th>duration_seconds</th>\n",
       "      <th>duration_rank</th>\n",
       "    </tr>\n",
       "    <tr>\n",
       "      <th></th>\n",
       "      <th>amin</th>\n",
       "      <th>amax</th>\n",
       "      <th></th>\n",
       "      <th></th>\n",
       "      <th></th>\n",
       "    </tr>\n",
       "    <tr>\n",
       "      <th>playerId</th>\n",
       "      <th></th>\n",
       "      <th></th>\n",
       "      <th></th>\n",
       "      <th></th>\n",
       "      <th></th>\n",
       "    </tr>\n",
       "  </thead>\n",
       "  <tbody>\n",
       "    <tr>\n",
       "      <th>95bd33a2-fb3c-4b03-9688-e1f00343a537</th>\n",
       "      <td>2015-12-23T19:34:25.120Z</td>\n",
       "      <td>2015-12-23T21:31:46.090Z</td>\n",
       "      <td>01:57:20</td>\n",
       "      <td>7040</td>\n",
       "      <td>1</td>\n",
       "    </tr>\n",
       "    <tr>\n",
       "      <th>407d8ae6-5697-4438-bc4d-c35d20888ce8</th>\n",
       "      <td>2016-01-21T11:49:54.979Z</td>\n",
       "      <td>2016-01-21T13:32:20.630Z</td>\n",
       "      <td>01:42:25</td>\n",
       "      <td>6145</td>\n",
       "      <td>2</td>\n",
       "    </tr>\n",
       "    <tr>\n",
       "      <th>9e01584b-2ab5-407e-a9e0-b3a816b9ffa3</th>\n",
       "      <td>2015-06-16T15:09:04.316Z</td>\n",
       "      <td>2015-06-16T16:41:24.221Z</td>\n",
       "      <td>01:32:19</td>\n",
       "      <td>5539</td>\n",
       "      <td>3</td>\n",
       "    </tr>\n",
       "    <tr>\n",
       "      <th>d1530309-0c5c-4657-917f-9854a09a1ce8</th>\n",
       "      <td>2015-07-07T16:15:57.888Z</td>\n",
       "      <td>2015-07-07T17:43:55.977Z</td>\n",
       "      <td>01:27:58</td>\n",
       "      <td>5278</td>\n",
       "      <td>4</td>\n",
       "    </tr>\n",
       "    <tr>\n",
       "      <th>3ae33faa-e248-44d7-bd0a-5f1493f152c9</th>\n",
       "      <td>2015-10-06T12:28:17.889Z</td>\n",
       "      <td>2015-10-06T13:50:08.394Z</td>\n",
       "      <td>01:21:50</td>\n",
       "      <td>4910</td>\n",
       "      <td>5</td>\n",
       "    </tr>\n",
       "  </tbody>\n",
       "</table>\n",
       "</div>"
      ],
      "text/plain": [
       "                                                    serverTime  \\\n",
       "                                                          amin   \n",
       "playerId                                                         \n",
       "95bd33a2-fb3c-4b03-9688-e1f00343a537  2015-12-23T19:34:25.120Z   \n",
       "407d8ae6-5697-4438-bc4d-c35d20888ce8  2016-01-21T11:49:54.979Z   \n",
       "9e01584b-2ab5-407e-a9e0-b3a816b9ffa3  2015-06-16T15:09:04.316Z   \n",
       "d1530309-0c5c-4657-917f-9854a09a1ce8  2015-07-07T16:15:57.888Z   \n",
       "3ae33faa-e248-44d7-bd0a-5f1493f152c9  2015-10-06T12:28:17.889Z   \n",
       "\n",
       "                                                               duration  \\\n",
       "                                                          amax            \n",
       "playerId                                                                  \n",
       "95bd33a2-fb3c-4b03-9688-e1f00343a537  2015-12-23T21:31:46.090Z 01:57:20   \n",
       "407d8ae6-5697-4438-bc4d-c35d20888ce8  2016-01-21T13:32:20.630Z 01:42:25   \n",
       "9e01584b-2ab5-407e-a9e0-b3a816b9ffa3  2015-06-16T16:41:24.221Z 01:32:19   \n",
       "d1530309-0c5c-4657-917f-9854a09a1ce8  2015-07-07T17:43:55.977Z 01:27:58   \n",
       "3ae33faa-e248-44d7-bd0a-5f1493f152c9  2015-10-06T13:50:08.394Z 01:21:50   \n",
       "\n",
       "                                     duration_seconds duration_rank  \n",
       "                                                                     \n",
       "playerId                                                             \n",
       "95bd33a2-fb3c-4b03-9688-e1f00343a537             7040             1  \n",
       "407d8ae6-5697-4438-bc4d-c35d20888ce8             6145             2  \n",
       "9e01584b-2ab5-407e-a9e0-b3a816b9ffa3             5539             3  \n",
       "d1530309-0c5c-4657-917f-9854a09a1ce8             5278             4  \n",
       "3ae33faa-e248-44d7-bd0a-5f1493f152c9             4910             5  "
      ]
     },
     "execution_count": 70,
     "metadata": {},
     "output_type": "execute_result"
    }
   ],
   "source": [
    "durations[\"duration_rank\"] = durations[\"duration_seconds\"].rank(ascending=False)\n",
    "durations.head()"
   ]
  },
  {
   "cell_type": "code",
   "execution_count": 71,
   "metadata": {
    "collapsed": false
   },
   "outputs": [
    {
     "data": {
      "text/plain": [
       "<matplotlib.axes._subplots.AxesSubplot at 0x10bea7790>"
      ]
     },
     "execution_count": 71,
     "metadata": {},
     "output_type": "execute_result"
    },
    {
     "data": {
      "image/png": "[encoded data removed]",
      "text/plain": [
       "<matplotlib.figure.Figure at 0x10bea7090>"
      ]
     },
     "metadata": {},
     "output_type": "display_data"
    }
   ],
   "source": [
    "scatteredDurations = durations.sort_values(by=['duration_rank'], ascending=[True])\n",
    "scatteredDurations.plot(kind='scatter', x=\"duration_rank\", y=\"duration_seconds\")"
   ]
  },
  {
   "cell_type": "code",
   "execution_count": 72,
   "metadata": {
    "collapsed": false
   },
   "outputs": [
    {
     "data": {
      "text/plain": [
       "(0, 6000)"
      ]
     },
     "execution_count": 72,
     "metadata": {},
     "output_type": "execute_result"
    },
    {
     "data": {
      "image/png": "[encoded data removed]",
      "text/plain": [
       "<matplotlib.figure.Figure at 0x10be1bc10>"
      ]
     },
     "metadata": {},
     "output_type": "display_data"
    }
   ],
   "source": [
    "durations.plot(x=\"duration_rank\", y=\"duration_seconds\")\n",
    "#durations.plot(kind='bar', x=\"duration_rank\", y=\"duration_seconds\")\n",
    "\n",
    "\n",
    "plt.xlabel(\"game session\")\n",
    "plt.ylabel(\"time played (s)\")\n",
    "plt.legend('')\n",
    "plt.xlim(0, 1000)\n",
    "plt.ylim(0, 6000)"
   ]
  },
  {
   "cell_type": "code",
   "execution_count": 73,
   "metadata": {
    "collapsed": false
   },
   "outputs": [
    {
     "data": {
      "text/plain": [
       "count     961.000000\n",
       "mean      365.566077\n",
       "std       757.275965\n",
       "min         0.000000\n",
       "25%         4.000000\n",
       "50%        50.000000\n",
       "75%       361.000000\n",
       "max      7040.000000\n",
       "Name: duration_seconds, dtype: float64"
      ]
     },
     "execution_count": 73,
     "metadata": {},
     "output_type": "execute_result"
    }
   ],
   "source": [
    "durations[\"duration_seconds\"].describe()"
   ]
  },
  {
   "cell_type": "code",
   "execution_count": 74,
   "metadata": {
    "collapsed": false
   },
   "outputs": [
    {
     "data": {
      "text/html": [
       "<div>\n",
       "<table border=\"1\" class=\"dataframe\">\n",
       "  <thead>\n",
       "    <tr>\n",
       "      <th></th>\n",
       "      <th colspan=\"2\" halign=\"left\">serverTime</th>\n",
       "      <th>duration</th>\n",
       "      <th>duration_seconds</th>\n",
       "      <th>duration_rank</th>\n",
       "    </tr>\n",
       "    <tr>\n",
       "      <th></th>\n",
       "      <th>amin</th>\n",
       "      <th>amax</th>\n",
       "      <th></th>\n",
       "      <th></th>\n",
       "      <th></th>\n",
       "    </tr>\n",
       "    <tr>\n",
       "      <th>playerId</th>\n",
       "      <th></th>\n",
       "      <th></th>\n",
       "      <th></th>\n",
       "      <th></th>\n",
       "      <th></th>\n",
       "    </tr>\n",
       "  </thead>\n",
       "  <tbody>\n",
       "    <tr>\n",
       "      <th>95bd33a2-fb3c-4b03-9688-e1f00343a537</th>\n",
       "      <td>2015-12-23T19:34:25.120Z</td>\n",
       "      <td>2015-12-23T21:31:46.090Z</td>\n",
       "      <td>01:57:20</td>\n",
       "      <td>7040</td>\n",
       "      <td>1</td>\n",
       "    </tr>\n",
       "    <tr>\n",
       "      <th>407d8ae6-5697-4438-bc4d-c35d20888ce8</th>\n",
       "      <td>2016-01-21T11:49:54.979Z</td>\n",
       "      <td>2016-01-21T13:32:20.630Z</td>\n",
       "      <td>01:42:25</td>\n",
       "      <td>6145</td>\n",
       "      <td>2</td>\n",
       "    </tr>\n",
       "    <tr>\n",
       "      <th>9e01584b-2ab5-407e-a9e0-b3a816b9ffa3</th>\n",
       "      <td>2015-06-16T15:09:04.316Z</td>\n",
       "      <td>2015-06-16T16:41:24.221Z</td>\n",
       "      <td>01:32:19</td>\n",
       "      <td>5539</td>\n",
       "      <td>3</td>\n",
       "    </tr>\n",
       "    <tr>\n",
       "      <th>d1530309-0c5c-4657-917f-9854a09a1ce8</th>\n",
       "      <td>2015-07-07T16:15:57.888Z</td>\n",
       "      <td>2015-07-07T17:43:55.977Z</td>\n",
       "      <td>01:27:58</td>\n",
       "      <td>5278</td>\n",
       "      <td>4</td>\n",
       "    </tr>\n",
       "    <tr>\n",
       "      <th>3ae33faa-e248-44d7-bd0a-5f1493f152c9</th>\n",
       "      <td>2015-10-06T12:28:17.889Z</td>\n",
       "      <td>2015-10-06T13:50:08.394Z</td>\n",
       "      <td>01:21:50</td>\n",
       "      <td>4910</td>\n",
       "      <td>5</td>\n",
       "    </tr>\n",
       "  </tbody>\n",
       "</table>\n",
       "</div>"
      ],
      "text/plain": [
       "                                                    serverTime  \\\n",
       "                                                          amin   \n",
       "playerId                                                         \n",
       "95bd33a2-fb3c-4b03-9688-e1f00343a537  2015-12-23T19:34:25.120Z   \n",
       "407d8ae6-5697-4438-bc4d-c35d20888ce8  2016-01-21T11:49:54.979Z   \n",
       "9e01584b-2ab5-407e-a9e0-b3a816b9ffa3  2015-06-16T15:09:04.316Z   \n",
       "d1530309-0c5c-4657-917f-9854a09a1ce8  2015-07-07T16:15:57.888Z   \n",
       "3ae33faa-e248-44d7-bd0a-5f1493f152c9  2015-10-06T12:28:17.889Z   \n",
       "\n",
       "                                                               duration  \\\n",
       "                                                          amax            \n",
       "playerId                                                                  \n",
       "95bd33a2-fb3c-4b03-9688-e1f00343a537  2015-12-23T21:31:46.090Z 01:57:20   \n",
       "407d8ae6-5697-4438-bc4d-c35d20888ce8  2016-01-21T13:32:20.630Z 01:42:25   \n",
       "9e01584b-2ab5-407e-a9e0-b3a816b9ffa3  2015-06-16T16:41:24.221Z 01:32:19   \n",
       "d1530309-0c5c-4657-917f-9854a09a1ce8  2015-07-07T17:43:55.977Z 01:27:58   \n",
       "3ae33faa-e248-44d7-bd0a-5f1493f152c9  2015-10-06T13:50:08.394Z 01:21:50   \n",
       "\n",
       "                                     duration_seconds duration_rank  \n",
       "                                                                     \n",
       "playerId                                                             \n",
       "95bd33a2-fb3c-4b03-9688-e1f00343a537             7040             1  \n",
       "407d8ae6-5697-4438-bc4d-c35d20888ce8             6145             2  \n",
       "9e01584b-2ab5-407e-a9e0-b3a816b9ffa3             5539             3  \n",
       "d1530309-0c5c-4657-917f-9854a09a1ce8             5278             4  \n",
       "3ae33faa-e248-44d7-bd0a-5f1493f152c9             4910             5  "
      ]
     },
     "execution_count": 74,
     "metadata": {},
     "output_type": "execute_result"
    }
   ],
   "source": [
    "durations.head()"
   ]
  },
  {
   "cell_type": "code",
   "execution_count": 75,
   "metadata": {
    "collapsed": false
   },
   "outputs": [
    {
     "name": "stdout",
     "output_type": "stream",
     "text": [
      "#game sessions=961\n"
     ]
    },
    {
     "data": {
      "image/png": "[encoded data removed]",
      "text/plain": [
       "<matplotlib.figure.Figure at 0x10b8d40d0>"
      ]
     },
     "metadata": {},
     "output_type": "display_data"
    },
    {
     "data": {
      "image/png": "[encoded data removed]",
      "text/plain": [
       "<matplotlib.figure.Figure at 0x10c5df0d0>"
      ]
     },
     "metadata": {},
     "output_type": "display_data"
    }
   ],
   "source": [
    "#durationTable = pd.DataFrame({\"durations\": durations[\"duration_seconds\"].values})\n",
    "#interestingValues = durations[\"duration_seconds\"][4:32].values\n",
    "#interestingValues = durations[\"duration_seconds\"].values\n",
    "#durationTable = pd.DataFrame({\"durations\": interestingValues})\n",
    "\n",
    "%run plotUtilities.ipynb\n",
    "\n",
    "durationTable = pd.DataFrame({\"durations\": durations[\"duration_seconds\"].values})\n",
    "durationTableCount = durationTable[\"durations\"].count()\n",
    "print '#game sessions={0}'.format(durationTableCount)\n",
    "\n",
    "genericTreatment(durationTable, \"game sessions\", \"duration (s)\", durationTableCount)"
   ]
  }
 ],
 "metadata": {
  "kernelspec": {
   "display_name": "Python 2",
   "language": "python",
   "name": "python2"
  },
  "language_info": {
   "codemirror_mode": {
    "name": "ipython",
    "version": 2
   },
   "file_extension": ".py",
   "mimetype": "text/x-python",
   "name": "python",
   "nbconvert_exporter": "python",
   "pygments_lexer": "ipython2",
   "version": "2.7.10"
  }
 },
 "nbformat": 4,
 "nbformat_minor": 0
}
