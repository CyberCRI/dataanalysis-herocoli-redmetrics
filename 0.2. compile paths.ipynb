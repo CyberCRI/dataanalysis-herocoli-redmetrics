{
 "cells": [
  {
   "cell_type": "code",
   "execution_count": 1,
   "metadata": {
    "collapsed": false
   },
   "outputs": [
    {
     "name": "stdout",
     "output_type": "stream",
     "text": [
      "1887\n"
     ]
    }
   ],
   "source": [
    "%run \"0. config.ipynb\""
   ]
  },
  {
   "cell_type": "code",
   "execution_count": 2,
   "metadata": {
    "collapsed": false
   },
   "outputs": [
    {
     "data": {
      "text/html": [
       "<div style=\"max-height:1000px;max-width:1500px;overflow:auto;\">\n",
       "<table border=\"1\" class=\"dataframe\">\n",
       "  <thead>\n",
       "    <tr style=\"text-align: right;\">\n",
       "      <th></th>\n",
       "      <th>type</th>\n",
       "      <th>serverTime</th>\n",
       "      <th>x</th>\n",
       "      <th>y</th>\n",
       "    </tr>\n",
       "    <tr>\n",
       "      <th>playerId</th>\n",
       "      <th></th>\n",
       "      <th></th>\n",
       "      <th></th>\n",
       "      <th></th>\n",
       "    </tr>\n",
       "  </thead>\n",
       "  <tbody>\n",
       "    <tr>\n",
       "      <th>9c183209-8867-46bb-9d29-9dda57e5a7bd</th>\n",
       "      <td>      start</td>\n",
       "      <td> 2016-02-04T20:12:38.789Z</td>\n",
       "      <td> -6</td>\n",
       "      <td> 143</td>\n",
       "    </tr>\n",
       "    <tr>\n",
       "      <th>9c183209-8867-46bb-9d29-9dda57e5a7bd</th>\n",
       "      <td> selectmenu</td>\n",
       "      <td> 2016-02-04T20:12:38.789Z</td>\n",
       "      <td> -6</td>\n",
       "      <td> 143</td>\n",
       "    </tr>\n",
       "    <tr>\n",
       "      <th>ab2d0f9a-13ec-4bc0-b5cd-58942d906954</th>\n",
       "      <td>      start</td>\n",
       "      <td> 2016-02-04T20:18:08.038Z</td>\n",
       "      <td> -6</td>\n",
       "      <td> 143</td>\n",
       "    </tr>\n",
       "    <tr>\n",
       "      <th>ab2d0f9a-13ec-4bc0-b5cd-58942d906954</th>\n",
       "      <td> selectmenu</td>\n",
       "      <td> 2016-02-04T20:18:18.039Z</td>\n",
       "      <td> -6</td>\n",
       "      <td> 143</td>\n",
       "    </tr>\n",
       "    <tr>\n",
       "      <th>ecfe1f90-19c7-4ab9-8d6f-bd8feb7ff472</th>\n",
       "      <td>      start</td>\n",
       "      <td> 2016-02-04T20:31:05.379Z</td>\n",
       "      <td> -6</td>\n",
       "      <td> 143</td>\n",
       "    </tr>\n",
       "    <tr>\n",
       "      <th>ecfe1f90-19c7-4ab9-8d6f-bd8feb7ff472</th>\n",
       "      <td> selectmenu</td>\n",
       "      <td> 2016-02-04T20:31:05.379Z</td>\n",
       "      <td> -6</td>\n",
       "      <td> 143</td>\n",
       "    </tr>\n",
       "    <tr>\n",
       "      <th>5af5f837-2aa1-4d5e-86a3-05d39d6cf63d</th>\n",
       "      <td>      start</td>\n",
       "      <td> 2016-02-05T03:06:55.435Z</td>\n",
       "      <td> -6</td>\n",
       "      <td> 143</td>\n",
       "    </tr>\n",
       "    <tr>\n",
       "      <th>3607b3ec-9e2a-4043-9f07-8dbccee66cb3</th>\n",
       "      <td> selectmenu</td>\n",
       "      <td> 2016-02-05T03:07:00.500Z</td>\n",
       "      <td> -6</td>\n",
       "      <td> 143</td>\n",
       "    </tr>\n",
       "    <tr>\n",
       "      <th>3607b3ec-9e2a-4043-9f07-8dbccee66cb3</th>\n",
       "      <td>      reach</td>\n",
       "      <td> 2016-02-05T03:07:45.445Z</td>\n",
       "      <td>  2</td>\n",
       "      <td> 134</td>\n",
       "    </tr>\n",
       "    <tr>\n",
       "      <th>3607b3ec-9e2a-4043-9f07-8dbccee66cb3</th>\n",
       "      <td>      death</td>\n",
       "      <td> 2016-02-05T03:08:05.429Z</td>\n",
       "      <td> 42</td>\n",
       "      <td> 106</td>\n",
       "    </tr>\n",
       "  </tbody>\n",
       "</table>\n",
       "</div>"
      ],
      "text/plain": [
       "                                            type                serverTime  \\\n",
       "playerId                                                                     \n",
       "9c183209-8867-46bb-9d29-9dda57e5a7bd       start  2016-02-04T20:12:38.789Z   \n",
       "9c183209-8867-46bb-9d29-9dda57e5a7bd  selectmenu  2016-02-04T20:12:38.789Z   \n",
       "ab2d0f9a-13ec-4bc0-b5cd-58942d906954       start  2016-02-04T20:18:08.038Z   \n",
       "ab2d0f9a-13ec-4bc0-b5cd-58942d906954  selectmenu  2016-02-04T20:18:18.039Z   \n",
       "ecfe1f90-19c7-4ab9-8d6f-bd8feb7ff472       start  2016-02-04T20:31:05.379Z   \n",
       "ecfe1f90-19c7-4ab9-8d6f-bd8feb7ff472  selectmenu  2016-02-04T20:31:05.379Z   \n",
       "5af5f837-2aa1-4d5e-86a3-05d39d6cf63d       start  2016-02-05T03:06:55.435Z   \n",
       "3607b3ec-9e2a-4043-9f07-8dbccee66cb3  selectmenu  2016-02-05T03:07:00.500Z   \n",
       "3607b3ec-9e2a-4043-9f07-8dbccee66cb3       reach  2016-02-05T03:07:45.445Z   \n",
       "3607b3ec-9e2a-4043-9f07-8dbccee66cb3       death  2016-02-05T03:08:05.429Z   \n",
       "\n",
       "                                       x    y  \n",
       "playerId                                       \n",
       "9c183209-8867-46bb-9d29-9dda57e5a7bd  -6  143  \n",
       "9c183209-8867-46bb-9d29-9dda57e5a7bd  -6  143  \n",
       "ab2d0f9a-13ec-4bc0-b5cd-58942d906954  -6  143  \n",
       "ab2d0f9a-13ec-4bc0-b5cd-58942d906954  -6  143  \n",
       "ecfe1f90-19c7-4ab9-8d6f-bd8feb7ff472  -6  143  \n",
       "ecfe1f90-19c7-4ab9-8d6f-bd8feb7ff472  -6  143  \n",
       "5af5f837-2aa1-4d5e-86a3-05d39d6cf63d  -6  143  \n",
       "3607b3ec-9e2a-4043-9f07-8dbccee66cb3  -6  143  \n",
       "3607b3ec-9e2a-4043-9f07-8dbccee66cb3   2  134  \n",
       "3607b3ec-9e2a-4043-9f07-8dbccee66cb3  42  106  "
      ]
     },
     "execution_count": 2,
     "metadata": {},
     "output_type": "execute_result"
    }
   ],
   "source": [
    "def compile_coordinates(logs):\n",
    "  df = logs.loc[:, [\"playerId\",\"type\", \"coordinates\", \"serverTime\"]]\n",
    "  \n",
    "  def str_to_coordinates(s):\n",
    "    s = s.replace(\"[\", \"\")\n",
    "    s = s.replace(\"]\", \"\")\n",
    "    s = s.replace(\" \", \"\")\n",
    "    \n",
    "    [ x, y ]= s.split(\",\")\n",
    "    \n",
    "    return [ int(x), int(y) ]\n",
    "\n",
    "  [x ,y ] = zip(*df[\"coordinates\"].map(lambda x: str_to_coordinates(x)))\n",
    "  \n",
    "  df[\"x\"] = x\n",
    "  df[\"y\"] = y\n",
    "\n",
    "  df = df.drop(\"coordinates\",1)\n",
    "  \n",
    "  df = df.set_index(\"playerId\")\n",
    "  \n",
    "  return df\n",
    "\n",
    "players_coordinates = compile_coordinates(df_raw)\n",
    "\n",
    "players_coordinates.head(10)"
   ]
  },
  {
   "cell_type": "code",
   "execution_count": 4,
   "metadata": {
    "collapsed": true
   },
   "outputs": [],
   "source": [
    "players_coordinates.to_csv(\"data/players_coordinates.csv\", encoding=\"utf-8\")"
   ]
  }
 ],
 "metadata": {
  "kernelspec": {
   "display_name": "Python 2",
   "language": "python",
   "name": "python2"
  },
  "language_info": {
   "codemirror_mode": {
    "name": "ipython",
    "version": 2
   },
   "file_extension": ".py",
   "mimetype": "text/x-python",
   "name": "python",
   "nbconvert_exporter": "python",
   "pygments_lexer": "ipython2",
   "version": "2.7.11"
  }
 },
 "nbformat": 4,
 "nbformat_minor": 0
}
