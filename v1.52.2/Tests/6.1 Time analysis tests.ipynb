{
 "cells": [
  {
   "cell_type": "markdown",
   "metadata": {},
   "source": [
    "# Time analysis tests"
   ]
  },
  {
   "cell_type": "code",
   "execution_count": null,
   "metadata": {},
   "outputs": [],
   "source": [
    "%run \"../Functions/6. Time analysis.ipynb\""
   ]
  },
  {
   "cell_type": "code",
   "execution_count": null,
   "metadata": {},
   "outputs": [],
   "source": [
    "perDayEvents = rmdf1522['userTime'].map(lambda t: t.date()).value_counts().sort_index()\n",
    "perDaySessions = rmdf1522[rmdf1522['type'] == 'start']['userTime'].map(lambda t: t.date()).value_counts().sort_index()\n",
    "perDayUsers = rmdf1522.groupby('userId').agg({ \"userTime\": np.min })['userTime'].map(lambda t: t.date()).value_counts().sort_index()\n",
    "perDaySurveys = gform.groupby(localplayerguidkey).agg({ QTimestamp: np.min })[QTimestamp].map(lambda t: t.date()).value_counts().sort_index()"
   ]
  },
  {
   "cell_type": "code",
   "execution_count": null,
   "metadata": {},
   "outputs": [],
   "source": [
    "min(rmdf1522['userTime']), min(gform[QTimestamp])"
   ]
  },
  {
   "cell_type": "code",
   "execution_count": null,
   "metadata": {},
   "outputs": [],
   "source": [
    "minDate = min(min(rmdf1522['userTime']), min(gform[QTimestamp])).date()\n",
    "maxDate = max(max(rmdf1522['userTime']), max(gform[QTimestamp])).date()\n",
    "minDate, maxDate"
   ]
  },
  {
   "cell_type": "code",
   "execution_count": null,
   "metadata": {},
   "outputs": [],
   "source": [
    "dateIndex = pd.date_range(minDate, maxDate)\n",
    "dateIndex = perDaySurveys.reindex(dateIndex, fill_value=0)"
   ]
  },
  {
   "cell_type": "code",
   "execution_count": null,
   "metadata": {},
   "outputs": [],
   "source": [
    "plotPerDay(perDaySurveys)"
   ]
  },
  {
   "cell_type": "code",
   "execution_count": null,
   "metadata": {},
   "outputs": [],
   "source": [
    "valuesPerDay = perDaySurveys\n",
    "title = ''\n",
    "loc = 2\n",
    "startDate=None\n",
    "endDate=None\n",
    "\n",
    "#def plotPerDay(valuesPerDay, title='', loc=2, startDate=None, endDate=None):\n",
    "\n",
    "dateIndex = valuesPerDay.index\n",
    "\n",
    "if (startDate == None):\n",
    "    startDate = min(dateIndex)\n",
    "if (endDate == None):\n",
    "    endDate = max(dateIndex)\n",
    "\n",
    "dateIndex = pd.date_range(startDate, endDate)\n",
    "valuesPerDay = valuesPerDay.reindex(dateIndex, fill_value=0)\n",
    "\n",
    "ax1 = valuesPerDay.sort_index().plot(\n",
    "    rot=90,\n",
    "    label='per day',\n",
    "    legend=False,\n",
    "    color='blue',\n",
    ")\n",
    "ax1.set_ylabel(\"per day\")\n",
    "h1, l1 = ax1.get_legend_handles_labels()\n",
    "\n",
    "ax2 = np.cumsum(valuesPerDay.sort_index()).plot(\n",
    "    rot=90,\n",
    "    label='cumulative',\n",
    "    legend=False,\n",
    "    secondary_y=True,\n",
    "    color='red'\n",
    ")\n",
    "ax2.set_ylabel(\"cumulative\")\n",
    "h2, l2 = ax2.get_legend_handles_labels()\n",
    "\n",
    "plt.legend(h1+h2, l1+l2, loc=loc)\n",
    "plt.title(title)\n",
    "plt.show()"
   ]
  },
  {
   "cell_type": "code",
   "execution_count": null,
   "metadata": {},
   "outputs": [],
   "source": [
    "valuesPerDay = perDaySurveys\n",
    "title = ''\n",
    "loc = 2\n",
    "startDate=None\n",
    "endDate=None\n",
    "\n",
    "#def plotPerDay2(valuesPerDay, title='', loc=0, startDate=None, endDate=None):\n",
    "\n",
    "dateIndex = valuesPerDay.index\n",
    "\n",
    "if (startDate == None):\n",
    "    startDate = min(dateIndex)\n",
    "if (endDate == None):\n",
    "    endDate = max(dateIndex)\n",
    "\n",
    "dateIndex = pd.date_range(startDate, endDate)\n",
    "valuesPerDay = valuesPerDay.reindex(dateIndex, fill_value=0)\n",
    "        \n",
    "fig = plt.figure()\n",
    "ax1 = fig.add_subplot(111)\n",
    "\n",
    "ax1.plot(valuesPerDay.sort_index().index, valuesPerDay.sort_index(), label='per day', color='blue')\n",
    "plt.xticks(rotation='vertical')\n",
    "ax2 = ax1.twinx()\n",
    "ax2.plot(valuesPerDay.sort_index().index, np.cumsum(valuesPerDay.sort_index()), label='cumulative', color='red')\n",
    "\n",
    "lines, labels = ax1.get_legend_handles_labels()\n",
    "lines2, labels2 = ax2.get_legend_handles_labels()\n",
    "ax2.legend(lines + lines2, labels + labels2, loc=loc)\n",
    "\n",
    "ax1.set_ylabel(\"per day\")\n",
    "ax2.set_ylabel(\"cumulative\")\n",
    "plt.title(title)\n",
    "plt.show()"
   ]
  },
  {
   "cell_type": "code",
   "execution_count": null,
   "metadata": {},
   "outputs": [],
   "source": []
  }
 ],
 "metadata": {
  "kernelspec": {
   "display_name": "Python [conda env:python3]",
   "language": "python",
   "name": "conda-env-python3-py"
  },
  "language_info": {
   "codemirror_mode": {
    "name": "ipython",
    "version": 3
   },
   "file_extension": ".py",
   "mimetype": "text/x-python",
   "name": "python",
   "nbconvert_exporter": "python",
   "pygments_lexer": "ipython3",
   "version": "3.5.4"
  }
 },
 "nbformat": 4,
 "nbformat_minor": 2
}
