{
 "cells": [
  {
   "cell_type": "markdown",
   "metadata": {},
   "source": [
    "# Google form analysis tests\n",
    "\n",
    "Purpose: determine in what extent the current data can accurately describe correlations, underlying factors on the score.\n",
    "Especially concerning the 'before' groups: are there underlying groups explaining the discrepancies in score? Are those groups tied to certain questions?\n",
    "\n",
    "## Table of Contents\n",
    "\n",
    "\n",
    "[Sorted total answers to questions](#sortedtotalanswers)\n",
    "\n",
    "[Cross-samples t-tests](#crossttests)\n",
    "\n",
    "   - [biologists vs non-biologists](#biologistsvsnonbiologists)\n",
    "   \n",
    "   - [biologists vs non-biologists *before*](#biologistsvsnonbiologistsbefore)\n",
    "<br>\n",
    "<br>\n",
    "<br>\n",
    "<br>"
   ]
  },
  {
   "cell_type": "code",
   "execution_count": null,
   "metadata": {},
   "outputs": [],
   "source": [
    "%run \"../Functions/1. Google form analysis.ipynb\""
   ]
  },
  {
   "cell_type": "markdown",
   "metadata": {},
   "source": [
    "## Sorted total answers to questions\n",
    "<a id=sortedtotalanswers />"
   ]
  },
  {
   "cell_type": "code",
   "execution_count": null,
   "metadata": {},
   "outputs": [],
   "source": [
    "binarized = getAllBinarized()"
   ]
  },
  {
   "cell_type": "code",
   "execution_count": null,
   "metadata": {},
   "outputs": [],
   "source": [
    "answersCount = len(binarized.index)\n",
    "totalScorePerQuestion = pd.DataFrame(data=np.dot(np.ones(answersCount),binarized),index=binarized.columns,columns=['score'])\n",
    "totalScorePerQuestion['perc'] = totalScorePerQuestion['score'] * 100 / answersCount\n",
    "display(totalScorePerQuestion.sort_values(by = 'score'))"
   ]
  },
  {
   "cell_type": "markdown",
   "metadata": {},
   "source": [
    "## Cross-samples t-tests\n",
    "<a id=crossttests />\n",
    "\n",
    "\n",
    "Purpose: find out whether a question can be used to discriminate different groups."
   ]
  },
  {
   "cell_type": "markdown",
   "metadata": {},
   "source": [
    "### biologists vs non-biologists\n",
    "<a id=biologistsvsnonbiologists />"
   ]
  },
  {
   "cell_type": "code",
   "execution_count": null,
   "metadata": {},
   "outputs": [],
   "source": [
    "biologists = getSurveysOfBiologists(gform)\n",
    "nonBiologists = gform.drop(biologists.index)\n",
    "biologistsScores = biologists.apply(getGFormRowScore, axis=1)\n",
    "nonBiologistsScores = nonBiologists.apply(getGFormRowScore, axis=1)\n",
    "#print(len(gform), len(biologists), len(nonBiologists))\n",
    "#print(len(gform), len(biologistsScores), len(nonBiologistsScores))\n",
    "#print(type(biologistsScores), len(biologistsScores),\\\n",
    "#type(nonBiologistsScores), len(nonBiologistsScores))\n",
    "ttest = ttest_ind(biologistsScores, nonBiologistsScores)\n",
    "ttest"
   ]
  },
  {
   "cell_type": "code",
   "execution_count": null,
   "metadata": {},
   "outputs": [],
   "source": [
    "biologistsScores.values"
   ]
  },
  {
   "cell_type": "code",
   "execution_count": null,
   "metadata": {},
   "outputs": [],
   "source": [
    "np.std(biologistsScores)"
   ]
  },
  {
   "cell_type": "code",
   "execution_count": null,
   "metadata": {},
   "outputs": [],
   "source": [
    "np.std(nonBiologistsScores)"
   ]
  },
  {
   "cell_type": "markdown",
   "metadata": {},
   "source": [
    "Conclusion: the two groups have distinct scores."
   ]
  },
  {
   "cell_type": "markdown",
   "metadata": {},
   "source": [
    "### biologists vs non-biologists *before*\n",
    "<a id=biologistsvsnonbiologistsbefore />"
   ]
  },
  {
   "cell_type": "code",
   "execution_count": null,
   "metadata": {},
   "outputs": [],
   "source": [
    "gfBefores = getGFormBefores(gform)\n",
    "biologistsBefores = getSurveysOfBiologists(gfBefores, hardPolicy = False)\n",
    "nonBiologistsBefores = gfBefores.drop(biologistsBefores.index)\n",
    "biologistsBeforesScores = biologistsBefores.apply(getGFormRowScore, axis=1)\n",
    "nonBiologistsBeforesScores = nonBiologistsBefores.apply(getGFormRowScore, axis=1)\n",
    "#print(len(gfBefores), len(biologistsBefores), len(nonBiologistsBefores))\n",
    "#print(len(gfBefores), len(biologistsBeforesScores), len(nonBiologistsBeforesScores))\n",
    "#print(type(biologistsScores), len(biologistsScores),\\\n",
    "#type(nonBiologistsScores), len(nonBiologistsScores))\n",
    "ttest = ttest_ind(biologistsBeforesScores, nonBiologistsBeforesScores)\n",
    "ttest"
   ]
  },
  {
   "cell_type": "code",
   "execution_count": null,
   "metadata": {},
   "outputs": [],
   "source": [
    "np.std(biologistsBeforesScores)"
   ]
  },
  {
   "cell_type": "code",
   "execution_count": null,
   "metadata": {},
   "outputs": [],
   "source": [
    "nonBiologistsBeforesScores"
   ]
  },
  {
   "cell_type": "code",
   "execution_count": null,
   "metadata": {},
   "outputs": [],
   "source": [
    "np.std(nonBiologistsBeforesScores)"
   ]
  }
 ],
 "metadata": {
  "kernelspec": {
   "display_name": "Python [conda env:python3]",
   "language": "python",
   "name": "conda-env-python3-py"
  },
  "language_info": {
   "codemirror_mode": {
    "name": "ipython",
    "version": 3
   },
   "file_extension": ".py",
   "mimetype": "text/x-python",
   "name": "python",
   "nbconvert_exporter": "python",
   "pygments_lexer": "ipython3",
   "version": "3.5.4"
  }
 },
 "nbformat": 4,
 "nbformat_minor": 2
}
