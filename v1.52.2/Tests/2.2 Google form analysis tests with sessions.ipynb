{
 "cells": [
  {
   "cell_type": "markdown",
   "metadata": {},
   "source": [
    "# 1.2 Google form analysis tests with sessions"
   ]
  },
  {
   "cell_type": "code",
   "execution_count": null,
   "metadata": {
    "scrolled": false
   },
   "outputs": [],
   "source": [
    "#from datetime import datetime\n",
    "%run \"../Functions/1. Google form analysis.ipynb\"\n",
    "#%run \"../Functions/2. Game sessions.ipynb\""
   ]
  },
  {
   "cell_type": "markdown",
   "metadata": {},
   "source": [
    "(userIDThatDidNotAnswer)\n",
    "(userID1AnswerEN)\n",
    "(userIDAnswersEN)\n",
    "(userID1ScoreEN)\n",
    "(userIDScoresEN)\n",
    "(userID1AnswerFR)\n",
    "(userIDAnswersFR)\n",
    "(userID1ScoreFR)\n",
    "(userIDScoresFR)\n",
    "(userIDAnswersENFR)"
   ]
  },
  {
   "cell_type": "markdown",
   "metadata": {},
   "source": [
    "#### getAnswerTemporality tinkering"
   ]
  },
  {
   "cell_type": "code",
   "execution_count": null,
   "metadata": {},
   "outputs": [],
   "source": [
    "allGFormResponders = getAllResponders()"
   ]
  },
  {
   "cell_type": "markdown",
   "metadata": {},
   "source": [
    "##### users that played more than once"
   ]
  },
  {
   "cell_type": "code",
   "execution_count": null,
   "metadata": {},
   "outputs": [],
   "source": [
    "for uid in allGFormResponders:\n",
    "    if(len(getUserSessions(rmdf1522, uid)) > 2):\n",
    "        print(uid + ' ' + str(len(getUserSessions(rmdf1522, uid))))"
   ]
  },
  {
   "cell_type": "code",
   "execution_count": null,
   "metadata": {},
   "outputs": [],
   "source": [
    "type(allGFormResponders)"
   ]
  },
  {
   "cell_type": "code",
   "execution_count": null,
   "metadata": {
    "scrolled": true
   },
   "outputs": [],
   "source": [
    "len(allGFormResponders)"
   ]
  },
  {
   "cell_type": "code",
   "execution_count": null,
   "metadata": {},
   "outputs": [],
   "source": [
    "allUniqueGFormResponders = pd.Series(allGFormResponders).unique()\n",
    "len(allUniqueGFormResponders)"
   ]
  },
  {
   "cell_type": "markdown",
   "metadata": {},
   "source": [
    "##### users that answered more than once"
   ]
  },
  {
   "cell_type": "code",
   "execution_count": null,
   "metadata": {},
   "outputs": [],
   "source": [
    "allMultipleGFormResponders = pd.Series(gform[localplayerguidkey]).value_counts()\n",
    "allMultipleGFormResponders = allMultipleGFormResponders[allMultipleGFormResponders > 1]\n",
    "allMultipleGFormResponders = pd.Series(allMultipleGFormResponders.index)\n",
    "#allMultipleGFormResponders"
   ]
  },
  {
   "cell_type": "code",
   "execution_count": null,
   "metadata": {},
   "outputs": [],
   "source": [
    "testUserID = '\"bfdfd356-5d6f-4696-a2f1-c1dc338aa64b\"' # 4 sessions"
   ]
  },
  {
   "cell_type": "code",
   "execution_count": null,
   "metadata": {},
   "outputs": [],
   "source": [
    "#testUserID = '\"a7936587-8b71-43b6-9c61-17b2c2b55de3\"' # 2 sessions"
   ]
  },
  {
   "cell_type": "markdown",
   "metadata": {},
   "source": [
    "#### gform timestamps"
   ]
  },
  {
   "cell_type": "code",
   "execution_count": null,
   "metadata": {},
   "outputs": [],
   "source": [
    "gformTimestamps = gform[gform[localplayerguidkey]==testUserID]['Timestamp']"
   ]
  },
  {
   "cell_type": "code",
   "execution_count": null,
   "metadata": {},
   "outputs": [],
   "source": [
    "gform[gform['Timestamp'] > '2017/10/15']['Timestamp'].sort_values()"
   ]
  },
  {
   "cell_type": "code",
   "execution_count": null,
   "metadata": {},
   "outputs": [],
   "source": [
    "pd.to_datetime('2017/10/16 2:14:12 PM GMT+1')"
   ]
  },
  {
   "cell_type": "code",
   "execution_count": null,
   "metadata": {},
   "outputs": [],
   "source": [
    "pd.to_datetime('2017/10/16 2:14:12 PM GMT+1', utc=True)"
   ]
  },
  {
   "cell_type": "code",
   "execution_count": null,
   "metadata": {
    "scrolled": true
   },
   "outputs": [],
   "source": [
    "pd.to_datetime('2017/10/16 2:14:12 PM')"
   ]
  },
  {
   "cell_type": "markdown",
   "metadata": {},
   "source": [
    "#### RedMetrics timestamps"
   ]
  },
  {
   "cell_type": "code",
   "execution_count": null,
   "metadata": {},
   "outputs": [],
   "source": [
    "pd.to_datetime('2017-11-02T11:08:03.813Z')"
   ]
  },
  {
   "cell_type": "code",
   "execution_count": null,
   "metadata": {},
   "outputs": [],
   "source": [
    "pd.to_datetime('2017-11-02T11:08:03.813Z', utc=True)"
   ]
  },
  {
   "cell_type": "code",
   "execution_count": null,
   "metadata": {},
   "outputs": [],
   "source": [
    "rmdf1522\\\n",
    "[(rmdf1522['userTime']>pd.Timestamp('2017-10-26T14:37', tz='UTC'))\\\n",
    "& (rmdf1522['userTime']<pd.Timestamp('2017-10-26T14:38', tz='UTC'))]\\\n",
    "['userTime'].sort_values()\n",
    "#.dropna(subset=['userTime'])"
   ]
  },
  {
   "cell_type": "code",
   "execution_count": null,
   "metadata": {},
   "outputs": [],
   "source": [
    "#rmdf1522.query(\"('2017-10-24T08:15:11' < userTime < '2017-10-24T08:15:22')\")"
   ]
  },
  {
   "cell_type": "code",
   "execution_count": null,
   "metadata": {},
   "outputs": [],
   "source": [
    "rmdf1522[rmdf1522['userTime']>pd.Timestamp('2017-10-16T11:58:03', tz='UTC')]['userTime'].sort_values().head()"
   ]
  },
  {
   "cell_type": "markdown",
   "metadata": {},
   "source": [
    "#### comparison"
   ]
  },
  {
   "cell_type": "markdown",
   "metadata": {},
   "source": [
    "firstGameTime='2017-10-16 12:06:39.217000+00:00'\n",
    "dateGform='2017-10-16 14:04:27+00:00'\n",
    "dateGform='2017-10-16 15:22:25+00:00'\n",
    "firstGameTime='2017-10-16 11:58:03.987000+00:00'\n",
    "dateGform='2017-10-16 13:55:31+00:00'\n",
    "dateGform='2017-10-16 15:06:32+00:00'"
   ]
  },
  {
   "cell_type": "markdown",
   "metadata": {
    "collapsed": true
   },
   "source": [
    "67603    2017-10-16T12:06:39.217Z\n",
    "18     2017/10/16 1:04:27 PM GMT+1\n",
    "23     2017/10/16 2:22:25 PM GMT+1\n",
    "\n",
    "66989    2017-10-16T11:58:03.987Z      \n",
    "13    2017/10/16 12:55:31 PM GMT+1\n",
    "59     2017/10/16 2:06:32 PM GMT+1"
   ]
  },
  {
   "cell_type": "code",
   "execution_count": null,
   "metadata": {},
   "outputs": [],
   "source": [
    "rmfirst1 = '2017-10-16T12:06:39.217Z'\n",
    "gfa1before1 = '2017/10/16 1:04:27 PM GMT+1'\n",
    "gfa1after1 = '2017/10/16 2:22:25 PM GMT+1'\n",
    "\n",
    "rmfirst2 = '2017-10-16T11:58:03.987Z'      \n",
    "gfa1before2 = '2017/10/16 12:55:31 PM GMT+1'\n",
    "gfa1after2 = '2017/10/16 2:06:32 PM GMT+1'"
   ]
  },
  {
   "cell_type": "code",
   "execution_count": null,
   "metadata": {},
   "outputs": [],
   "source": [
    "dt_rmfirst1 = pd.to_datetime(rmfirst1)\n",
    "dt_gfa1before1 = pd.to_datetime(gfa1before1)\n",
    "dt_gfa1after1 = pd.to_datetime(gfa1after1)\n",
    "\n",
    "dt_rmfirst2 = pd.to_datetime(rmfirst2)\n",
    "dt_gfa1before2 = pd.to_datetime(gfa1before2)\n",
    "dt_gfa1after2 = pd.to_datetime(gfa1after2)"
   ]
  },
  {
   "cell_type": "code",
   "execution_count": null,
   "metadata": {},
   "outputs": [],
   "source": [
    "dt_rmfirst1 = pd.to_datetime(rmfirst1)\n",
    "dt_gfa1before1 = pd.to_datetime(gfa1before1)\n",
    "dt_gfa1after1 = pd.to_datetime(gfa1after1)\n",
    "\n",
    "dt_rmfirst2 = pd.to_datetime(rmfirst2)\n",
    "dt_gfa1before2 = pd.to_datetime(gfa1before2)\n",
    "dt_gfa1after2 = pd.to_datetime(gfa1after2)"
   ]
  },
  {
   "cell_type": "code",
   "execution_count": null,
   "metadata": {},
   "outputs": [],
   "source": [
    "dt_rmfirst1utc = pd.to_datetime(rmfirst1, utc=True)\n",
    "dt_gfa1before1utc = pd.to_datetime(gfa1before1).tz_localize('Europe/Berlin')\n",
    "dt_gfa1after1utc = pd.to_datetime(gfa1after1).tz_localize('Europe/Berlin')\n",
    "\n",
    "dt_rmfirst2utc = pd.to_datetime(rmfirst2, utc=True)\n",
    "dt_gfa1before2utc = pd.to_datetime(gfa1before2).tz_localize('Europe/Berlin')\n",
    "dt_gfa1after2utc = pd.to_datetime(gfa1after2).tz_localize('Europe/Berlin')"
   ]
  },
  {
   "cell_type": "code",
   "execution_count": null,
   "metadata": {},
   "outputs": [],
   "source": [
    "[dt_rmfirst1,dt_gfa1before1,dt_gfa1after1,dt_rmfirst2,dt_gfa1before2,dt_gfa1after2]"
   ]
  },
  {
   "cell_type": "code",
   "execution_count": null,
   "metadata": {},
   "outputs": [],
   "source": [
    "[dt_rmfirst1utc,dt_gfa1before1utc,dt_gfa1after1utc,dt_rmfirst2utc,dt_gfa1before2utc,dt_gfa1after2utc]"
   ]
  },
  {
   "cell_type": "code",
   "execution_count": null,
   "metadata": {},
   "outputs": [],
   "source": [
    "[dt_rmfirst1utc>dt_gfa1before1utc,dt_rmfirst1utc<dt_gfa1after1utc,dt_rmfirst2utc>dt_gfa1before2utc,dt_rmfirst2utc<dt_gfa1after2utc]"
   ]
  },
  {
   "cell_type": "code",
   "execution_count": null,
   "metadata": {},
   "outputs": [],
   "source": [
    "stamp = pd.to_datetime('2017-11-02T11:08:03.813Z', utc=True)\n",
    "stamp"
   ]
  },
  {
   "cell_type": "code",
   "execution_count": null,
   "metadata": {},
   "outputs": [],
   "source": [
    "stamp = pd.to_datetime('2017-11-02T11:08:03.813Z')\n",
    "type(stamp)"
   ]
  },
  {
   "cell_type": "code",
   "execution_count": null,
   "metadata": {},
   "outputs": [],
   "source": [
    "#stamp = stamp.tz_localize('America/Sao_Paulo')\n",
    "stamp = stamp.tz_localize('GMT')\n",
    "new_stamp = stamp.tz_convert('US/Eastern')\n",
    "new_stamp"
   ]
  },
  {
   "cell_type": "code",
   "execution_count": null,
   "metadata": {},
   "outputs": [],
   "source": [
    "stamp"
   ]
  },
  {
   "cell_type": "code",
   "execution_count": null,
   "metadata": {},
   "outputs": [],
   "source": [
    "new_stamp"
   ]
  },
  {
   "cell_type": "code",
   "execution_count": null,
   "metadata": {},
   "outputs": [],
   "source": [
    "for timestamp in gformTimestamps:\n",
    "    print(timestamp)"
   ]
  },
  {
   "cell_type": "code",
   "execution_count": null,
   "metadata": {},
   "outputs": [],
   "source": [
    "sessions = getUserSessions(rmdf1522, testUserID)\n",
    "len(sessions)"
   ]
  },
  {
   "cell_type": "code",
   "execution_count": null,
   "metadata": {},
   "outputs": [],
   "source": [
    "sessions"
   ]
  },
  {
   "cell_type": "markdown",
   "metadata": {},
   "source": [
    "#### getFirstEventDate tinkering"
   ]
  },
  {
   "cell_type": "code",
   "execution_count": null,
   "metadata": {},
   "outputs": [],
   "source": [
    "_userId = 'bfdfd356-5d6f-4696-a2f1-c1dc338aa64b'\n",
    "_rmDF = rmdf1522\n",
    "\n",
    "# get datetime of first significant event\n",
    "# _userId is assumed to be in RedMetrics format\n",
    "# returns a pandas._libs.tslib.Timestamp\n",
    "#def getFirstEventDate( _userId, _rmDF = rmdf1522 ):\n",
    "_sessions = getUserSessions(_rmDF, _userId)\n",
    "\n",
    "_firstGameTime = pd.Timestamp.max.tz_localize('utc')\n",
    "\n",
    "for session in _sessions:\n",
    "    _timedEvents = _rmDF[_rmDF['sessionId']==session]\n",
    "\n",
    "    # drops irrelevant events like 'start' and 'configure' ones\n",
    "    _timedEvents = _timedEvents.dropna(subset=['section'])\n",
    "\n",
    "    if(len(_timedEvents) > 0):\n",
    "        _earliest = _timedEvents['userTime'].min()\n",
    "        if(_earliest < _firstGameTime):\n",
    "            _firstGameTime = _earliest\n",
    "\n",
    "_firstGameTime"
   ]
  },
  {
   "cell_type": "markdown",
   "metadata": {},
   "source": [
    "#### getBoundingEventDates tinkering"
   ]
  },
  {
   "cell_type": "code",
   "execution_count": null,
   "metadata": {},
   "outputs": [],
   "source": [
    "_userId = 'bfdfd356-5d6f-4696-a2f1-c1dc338aa64b'\n",
    "_rmDF = rmdf1522\n",
    "\n",
    "# get datetime of first and last significant events\n",
    "# _userId is assumed to be in RedMetrics format\n",
    "# returns a pair of pandas._libs.tslib.Timestamp\n",
    "#def getBoundingEventDates( _userId, _rmDF = rmdf1522 ):\n",
    "_sessions = getUserSessions(_rmDF, _userId)\n",
    "\n",
    "_firstGameTime = pd.Timestamp.max.tz_localize('utc')\n",
    "_lastGameTime = pd.Timestamp.min.tz_localize('utc')\n",
    "\n",
    "for session in _sessions:\n",
    "    _timedEvents = _rmDF[_rmDF['sessionId']==session]\n",
    "\n",
    "    # drops irrelevant events like 'start' and 'configure' ones\n",
    "    _timedEvents = _timedEvents.dropna(subset=['section'])\n",
    "\n",
    "    if(len(_timedEvents) > 0):\n",
    "        _earliest = _timedEvents['userTime'].min()\n",
    "        _latest = _timedEvents['userTime'].max()\n",
    "        if(_earliest < _firstGameTime):\n",
    "            _firstGameTime = _earliest\n",
    "        if(_latest > _lastGameTime):\n",
    "            _lastGameTime = _latest\n",
    "\n",
    "(_firstGameTime,_lastGameTime)"
   ]
  },
  {
   "cell_type": "markdown",
   "metadata": {},
   "source": [
    "#### getTemporality tinkering/exploration"
   ]
  },
  {
   "cell_type": "code",
   "execution_count": null,
   "metadata": {},
   "outputs": [],
   "source": [
    "for timestamp in gform[gform[localplayerguidkey]==_userId]['Timestamp']:\n",
    "    print(timestamp)\n",
    "    if(timestamp < _firstGameTime):\n",
    "        print(answerTemporalities[0])\n",
    "    elif (timestamp > _firstGameTime):\n",
    "        print(answerTemporalities[1])\n",
    "    else:\n",
    "        print(answerTemporalities[2])"
   ]
  },
  {
   "cell_type": "code",
   "execution_count": null,
   "metadata": {},
   "outputs": [],
   "source": [
    "gform[gform[localplayerguidkey]==_userId]['Timestamp']"
   ]
  },
  {
   "cell_type": "code",
   "execution_count": null,
   "metadata": {},
   "outputs": [],
   "source": [
    "for userId in allMultipleGFormResponders:\n",
    "    (firstGameTime,lastGameTime) = getBoundingEventDates(userId)\n",
    "    \n",
    "    strDebug = '\\n\\n\\nuid='+str(userId)\\\n",
    "    +'\\nfirst= ' + str(firstGameTime)\\\n",
    "    +'\\nlast=  ' + str(lastGameTime)\n",
    "    \n",
    "    gformTimestamps = gform[gform[localplayerguidkey]==userId]['Timestamp']\n",
    "    \n",
    "    for dateGform in gformTimestamps:\n",
    "        # Google forms Timestamps are GMT+1\n",
    "        #print('dateGform='+str(dateGform))\n",
    "        dateGform = dateGform.tz_convert('utc')\n",
    "        if(firstGameTime != pd.Timestamp.max.tz_localize('utc')):\n",
    "            if(dateGform <= firstGameTime):\n",
    "                strDebug = strDebug + '\\n' + str(dateGform) + '=>' + str(answerTemporalities[0])\n",
    "            elif (dateGform > firstGameTime):\n",
    "                strDebug = strDebug + '\\n' + str(dateGform) + '=>' + str(answerTemporalities[1])\n",
    "            else:\n",
    "                strDebug = strDebug + '\\n' + str(dateGform) + '=>' + str(answerTemporalities[2])\n",
    "        else:\n",
    "            strDebug = strDebug + '\\n' + str(dateGform) + '=>' + str(answerTemporalities[2])\n",
    "            \n",
    "    print(strDebug)"
   ]
  },
  {
   "cell_type": "code",
   "execution_count": null,
   "metadata": {},
   "outputs": [],
   "source": [
    "gform[localplayerguidkey][12]"
   ]
  },
  {
   "cell_type": "code",
   "execution_count": null,
   "metadata": {},
   "outputs": [],
   "source": [
    "gform[localplayerguidkey][50]"
   ]
  },
  {
   "cell_type": "code",
   "execution_count": null,
   "metadata": {},
   "outputs": [],
   "source": [
    "gform[localplayerguidkey][50]"
   ]
  },
  {
   "cell_type": "code",
   "execution_count": null,
   "metadata": {},
   "outputs": [],
   "source": [
    "getFirstEventDate(gform[localplayerguidkey][50])"
   ]
  },
  {
   "cell_type": "code",
   "execution_count": null,
   "metadata": {},
   "outputs": [],
   "source": [
    "getUserSessions(rmdf1522, gform[localplayerguidkey][3])"
   ]
  },
  {
   "cell_type": "code",
   "execution_count": null,
   "metadata": {},
   "outputs": [],
   "source": [
    "#for index in gform.index:\n",
    "#    print(index)"
   ]
  },
  {
   "cell_type": "code",
   "execution_count": null,
   "metadata": {},
   "outputs": [],
   "source": [
    "gform['Timestamp'][0]"
   ]
  },
  {
   "cell_type": "code",
   "execution_count": null,
   "metadata": {
    "scrolled": true
   },
   "outputs": [],
   "source": [
    "gform.loc[0][localplayerguidkey]"
   ]
  },
  {
   "cell_type": "code",
   "execution_count": null,
   "metadata": {},
   "outputs": [],
   "source": [
    "print(gform['Temporality'][0])"
   ]
  },
  {
   "cell_type": "code",
   "execution_count": null,
   "metadata": {},
   "outputs": [],
   "source": [
    "print(gform.loc[6,'Temporality'])"
   ]
  },
  {
   "cell_type": "code",
   "execution_count": null,
   "metadata": {},
   "outputs": [],
   "source": [
    "setAnswerTemporalities(gform)"
   ]
  },
  {
   "cell_type": "markdown",
   "metadata": {},
   "source": [
    "#### extended getTemporality"
   ]
  },
  {
   "cell_type": "markdown",
   "metadata": {},
   "source": [
    "##### functions"
   ]
  },
  {
   "cell_type": "code",
   "execution_count": null,
   "metadata": {},
   "outputs": [],
   "source": [
    "def getFuncHasSameDate(thisDate):\n",
    "    def hasSameDate(timestamp):\n",
    "        return timestamp.date() == thisDate\n",
    "    return hasSameDate"
   ]
  },
  {
   "cell_type": "code",
   "execution_count": null,
   "metadata": {},
   "outputs": [],
   "source": [
    "def associateUserIdWithGFAnswer(candidateUserId, surveyAnswerIndex, surveyAnswerTemporality):\n",
    "    if not (candidateUserId in _gformDFWithExtraColumn['userId']):\n",
    "        # candidate userId is available:\n",
    "        # associate this candidate userId to the answer\n",
    "        _gformDFWithExtraColumn.loc[surveyAnswerIndex, 'userId'] = candidateUserId\n",
    "        _gformDFWithExtraColumn.loc[surveyAnswerIndex, 'Temporality'] = surveyAnswerTemporality\n",
    "    else:\n",
    "        print(\"candidate \" + candidateUserId + \" already in use\")\n",
    "    return ((_gformDFWithExtraColumn.loc[surveyAnswerIndex, 'userId'] == candidateUserId)\\\n",
    "            and (_gformDFWithExtraColumn.loc[surveyAnswerIndex, 'Temporality'] == surveyAnswerTemporality))            "
   ]
  },
  {
   "cell_type": "code",
   "execution_count": null,
   "metadata": {},
   "outputs": [],
   "source": [
    "_associateUserIdsWithGFAnswerProgress = FloatProgress(min=0, max=10)\n",
    "\n",
    "def associateUserIdsWithGFAnswer(candidateUserIds, surveyAnswerIndex, surveyAnswerTemporality, isConsoleVerbose = False):\n",
    "    if len(candidateUserIds) > 0:\n",
    "        # if(len(candidateUserIds) == 1):\n",
    "        # perfect case if this userId is available\n",
    "        _associateUserIdsWithGFAnswerProgress.max = len(candidateUserIds)\n",
    "        _associateUserIdsWithGFAnswerProgress.value = 0\n",
    "        _associateUserIdsWithGFAnswerProgress.description='associateUserIdsWithGFAnswer ' + str(surveyAnswerIndex) + ' progress:'\n",
    "        \n",
    "        for candidate in candidateUserIds:\n",
    "            _associateUserIdsWithGFAnswerProgress.value += 1\n",
    "            if not (candidate in _gformDFWithExtraColumn['userId']):\n",
    "                if isConsoleVerbose:\n",
    "                    print(\"candidate \" + candidate + \" available\")\n",
    "                # candidate userId is available:\n",
    "                # associate this candidate userId to the answer\n",
    "                _gformDFWithExtraColumn.loc[surveyAnswerIndex, 'userId'] = candidate\n",
    "                _gformDFWithExtraColumn.loc[surveyAnswerIndex, 'Temporality'] = surveyAnswerTemporality\n",
    "                return True\n",
    "        if isConsoleVerbose:\n",
    "            print(\"candidate \" + candidate + \" already in use\")\n",
    "    else:\n",
    "        if isConsoleVerbose:\n",
    "            print(\"no candidate userId\")\n",
    "    return False"
   ]
  },
  {
   "cell_type": "markdown",
   "metadata": {},
   "source": [
    "##### data preparation"
   ]
  },
  {
   "cell_type": "code",
   "execution_count": null,
   "metadata": {},
   "outputs": [],
   "source": [
    "_gformDFWithExtraColumn = gform.copy()\n",
    "\n",
    "# initialization of 'userId' column\n",
    "undefinedIndices = _gformDFWithExtraColumn['Temporality'] == 'undefined'\n",
    "# indices for which the user id needs to be found\n",
    "_gformDFWithExtraColumn.loc[undefinedIndices, 'userId'] = 0\n",
    "# indices for which the user id is known\n",
    "_gformDFWithExtraColumn.loc[~undefinedIndices, 'userId'] = _gformDFWithExtraColumn.loc[~undefinedIndices, localplayerguidkey]\n",
    "\n",
    "totalCount = len(_gformDFWithExtraColumn)\n",
    "beforeCounts = len(_gformDFWithExtraColumn[_gformDFWithExtraColumn['Temporality'] == answerTemporalities[0]])\n",
    "afterCounts = len(_gformDFWithExtraColumn[_gformDFWithExtraColumn['Temporality'] == answerTemporalities[1]])\n",
    "undefinedCounts = len(_gformDFWithExtraColumn[_gformDFWithExtraColumn['Temporality'] == answerTemporalities[2]])\n",
    "\n",
    "print(\\\n",
    "    \"totalCount=\"+str(totalCount)+\\\n",
    "    \"\\nbeforeCounts=\"+str(beforeCounts)+\\\n",
    "    \"\\nafterCounts=\"+str(afterCounts)+\\\n",
    "    \"\\nundefinedCounts=\"+str(undefinedCounts)+\\\n",
    "    \"\\n\"\n",
    "     )\n",
    "      \n",
    "timestamp = pd.Timestamp.min\n",
    "#surveyAnswer = _gformDFWithExtraColumn.loc[0,:]"
   ]
  },
  {
   "cell_type": "code",
   "execution_count": null,
   "metadata": {},
   "outputs": [],
   "source": [
    "#for answerIndex in _gformDFWithExtraColumn.index:\n",
    "#    if(_gformDFWithExtraColumn.loc[answerIndex,'Temporality'] == answerTemporalities[2]):\n",
    "#        print(\"answerIndex=\"+str(answerIndex))\n",
    "#        print(_gformDFWithExtraColumn.loc[answerIndex,localplayerguidkey])\n",
    "#        print(_gformDFWithExtraColumn.loc[answerIndex,'Timestamp'])\n",
    "#        #surveyAnswer = _gformDFWithExtraColumn.loc[answerIndex,:]\n",
    "#        break\n",
    "\n",
    "#timestamp = _gformDFWithExtraColumn.loc[answerIndex,'Timestamp']\n",
    "#timestamp.date()\n",
    "\n",
    "#rmdf1522.loc[0,'userTime'].date() == timestamp.date()"
   ]
  },
  {
   "cell_type": "markdown",
   "metadata": {},
   "source": [
    "##### computation of new temporality"
   ]
  },
  {
   "cell_type": "code",
   "execution_count": null,
   "metadata": {},
   "outputs": [],
   "source": [
    "#timestamp = _gformDFWithExtraColumn.loc[29,'Timestamp']\n",
    "#timestamp"
   ]
  },
  {
   "cell_type": "code",
   "execution_count": null,
   "metadata": {},
   "outputs": [],
   "source": [
    "#eventsOnThisDay['userTime'].dropna()"
   ]
  },
  {
   "cell_type": "code",
   "execution_count": null,
   "metadata": {
    "scrolled": true
   },
   "outputs": [],
   "source": [
    "# inputs:\n",
    "#   answerIndex\n",
    "#\n",
    "# output:\n",
    "#   _gformDFWithExtraColumn[answerIndex, 'userId'] may be set\n",
    "#   _gformDFWithExtraColumn[answerIndex, 'Temporality'] may be set\n",
    "#\n",
    "\n",
    "answerIndex = 29\n",
    "_rmdf = rmdf1522\n",
    "isConsoleVerbose = False\n",
    "\n",
    "#\n",
    "# 1st pass: 1 hour immediate time neighbors\n",
    "#   - 1h before and after, search for unlinked, matching, *unique*\n",
    "#   - if can only be pretest or posttest, so be it\n",
    "#   - if both possible, rely on survey answer\n",
    "# 2nd pass:\n",
    "#   - 1h before and after, search for unlinked, matching, *closest*\n",
    "#   - as pretest, closest previous 'start'-type event with no later events and with no linked survey answer\n",
    "#   or closest series of events with no linked survey answer\n",
    "#   - as posttest, closest prior series of events with no linked survey answer\n",
    "# 3rd pass:\n",
    "#   - 1 day before and after, search for unlinked, matching, closest\n",
    "# 4th pass:\n",
    "#   - before and after, search for unlinked, matching, closest\n",
    "\n",
    "_setAnswerTemporalityProgress = FloatProgress(min=0, max=5)\n",
    "\n",
    "def setAnswerTemporality(answerIndex, _rmdf = rmdf1522, passNumber = 1, isConsoleVerbose = False):\n",
    "    _setAnswerTemporalityProgress.description='setAnswerTemporality ' + str(answerIndex) + ' progress:'\n",
    "    if isConsoleVerbose:\n",
    "        print(\"\\n\\nsetAnswerTemporality(\" + str(answerIndex) + \")\")\n",
    "\n",
    "    # test if already set\n",
    "    if _gformDFWithExtraColumn.loc[answerIndex, \"Temporality\"] != answerTemporalities[2]:\n",
    "        if isConsoleVerbose:\n",
    "            print(\"temporality already set to '\" + _gformDFWithExtraColumn.loc[answerIndex, \"Temporality\"] + \"'\")\n",
    "    else:\n",
    "        timestamp = _gformDFWithExtraColumn.loc[answerIndex,'Timestamp']\n",
    "\n",
    "        _setAnswerTemporalityProgress.value += 1\n",
    "################################################################################################################################################################\n",
    "        eventsBounding = _rmdf\n",
    "        if (passNumber == 1 or passNumber == 2):\n",
    "            #eventsBounding1h\n",
    "            eventsBounding = _rmdf[abs(_rmdf['userTime'] - timestamp) < datetime.timedelta(hours = 1)]\n",
    "        elif (passNumber == 3):\n",
    "            #eventsBounding48h\n",
    "            eventsBounding = _rmdf[abs(_rmdf['userTime'] - timestamp) < datetime.timedelta(days = 1)]\n",
    "\n",
    "        if len(eventsBounding) == 0:\n",
    "            if isConsoleVerbose:\n",
    "                print(\"no eventsBounding for user id '\" + _gformDFWithExtraColumn.loc[answerIndex, localplayerguidkey] + \"'\")\n",
    "        else:\n",
    "            if isConsoleVerbose:\n",
    "                print(\"found eventsBounding for user id '\" + _gformDFWithExtraColumn.loc[answerIndex, localplayerguidkey] + \"'\")\n",
    "################################################################################################################################################################\n",
    "\n",
    "        _setAnswerTemporalityProgress.value += 1\n",
    "\n",
    "        eventsBefore = eventsBounding[(eventsBounding['userTime'] < timestamp)].sort_values(by='userTime', ascending=False)\n",
    "        eventsAfter  = eventsBounding[(eventsBounding['userTime'] > timestamp)].sort_values(by='userTime', ascending=True)\n",
    "        #print(\"eventsBefore=\"+str(eventsBefore[['type', 'userId']].head())+\"...\")\n",
    "        #print(\"eventsAfter=\"+str(eventsAfter[['type', 'userId']].head())+\"...\")\n",
    "\n",
    "        if(len(eventsBefore) == 0):\n",
    "            if isConsoleVerbose:\n",
    "                print(\"no eventsBefore around \" + str(timestamp.date()) + \" for user id '\" + _gformDFWithExtraColumn.loc[answerIndex, localplayerguidkey] + \"'\")\n",
    "        if(len(eventsAfter) == 0):\n",
    "            if isConsoleVerbose:\n",
    "                print(\"no eventsAfter around \" + str(timestamp.date()) + \" for user id '\" + _gformDFWithExtraColumn.loc[answerIndex, localplayerguidkey] + \"'\")\n",
    "################################################################################################################################################################\n",
    "\n",
    "        _setAnswerTemporalityProgress.value += 1\n",
    "\n",
    "        #potentialPretestUserIds = pd.Series()\n",
    "        strictPotentialPretestUserIds = pd.Series()\n",
    "        #potentialPosttestUserIds = pd.Series()\n",
    "        strictPotentialPosttestUserIds = pd.Series()\n",
    "\n",
    "        # construct potential user ids from user ids found in events before the survey answer\n",
    "        # test is pretest if userId in <timestamp range and event type is start OR\n",
    "        #  or if userId only in >timestamp\n",
    "        potentialPretestUserIds = pd.Series(eventsBefore[eventsBefore['type'] == 'start'].sort_values(by='userTime', ascending=False)['userId'].unique())\n",
    "        if(len(potentialPretestUserIds) > 0):\n",
    "            strictPotentialPretestUserIds = potentialPretestUserIds[potentialPretestUserIds.isin(eventsAfter['userId'])]\n",
    "\n",
    "        # construct potential user ids from user ids found in events after the survey answer\n",
    "        potentialPosttestUserIds = pd.Series(eventsBefore[~(eventsBefore['userId'].isin(potentialPretestUserIds))].sort_values(by='userTime', ascending=True)['userId'].unique())\n",
    "        if(len(potentialPosttestUserIds) > 0):\n",
    "            strictPotentialPosttestUserIds = pd.Series(potentialPosttestUserIds[~potentialPosttestUserIds.isin(eventsAfter['userId'])].unique())\n",
    "\n",
    "        _setAnswerTemporalityProgress.value += 1\n",
    "            \n",
    "        #print(\n",
    "        #   \"#potentialPretestUserIds=\"+str(len(potentialPretestUserIds))\\\n",
    "        # + \"\\n#strictPotentialPretestUserIds=\"+str(len(strictPotentialPretestUserIds))\\\n",
    "        # + \"\\n#potentialPosttestUserIds=\"+str(len(potentialPosttestUserIds))\\\n",
    "        # + \"\\n#strictPotentialPosttestUserIds=\"+str(len(strictPotentialPosttestUserIds)))\n",
    "        #print(\"\\n\")\n",
    "\n",
    "        # check whether order is conserved\n",
    "        # remove userIds that are already linked to a survey answer\n",
    "        potentialPretestUserIds        = potentialPretestUserIds[~potentialPretestUserIds.isin(_gformDFWithExtraColumn['userId'])]\n",
    "        strictPotentialPretestUserIds  = strictPotentialPretestUserIds[~strictPotentialPretestUserIds.isin(_gformDFWithExtraColumn['userId'])]\n",
    "        potentialPosttestUserIds       = potentialPosttestUserIds[~potentialPosttestUserIds.isin(_gformDFWithExtraColumn['userId'])]\n",
    "        strictPotentialPosttestUserIds = strictPotentialPosttestUserIds[~strictPotentialPosttestUserIds.isin(_gformDFWithExtraColumn['userId'])]\n",
    "\n",
    "    #        print(\n",
    "    #           \"#potentialPretestUserIds=\"+str(len(potentialPretestUserIds))\\\n",
    "    #         + \"\\n#strictPotentialPretestUserIds=\"+str(len(strictPotentialPretestUserIds))\\\n",
    "    #         + \"\\n#potentialPosttestUserIds=\"+str(len(potentialPosttestUserIds))\\\n",
    "    #         + \"\\n#strictPotentialPosttestUserIds=\"+str(len(strictPotentialPosttestUserIds)))\n",
    "    #        print(\"\\n\\n\")\n",
    "\n",
    "        # booleans describing the type of survey answer\n",
    "        isPotentialPretest = len(potentialPretestUserIds) > 0\n",
    "        isStrictPotentialPretest = len(strictPotentialPretestUserIds) > 0\n",
    "        isPotentialPosttest = len(potentialPosttestUserIds) > 0\n",
    "        isStrictPotentialPosttest = len(strictPotentialPosttestUserIds) > 0\n",
    "\n",
    "        _setAnswerTemporalityProgress.value += 1\n",
    "        \n",
    "        if(isPotentialPretest and not isPotentialPosttest):\n",
    "            # definitely a pretest in any case.\n",
    "            # which userId is linked to this survey answer?\n",
    "            if (passNumber == 1):\n",
    "                if len(strictPotentialPretestUserIds) == 1:\n",
    "                    if not associateUserIdsWithGFAnswer(strictPotentialPretestUserIds, answerIndex, answerTemporalities[0], isConsoleVerbose):\n",
    "                        # no solution\n",
    "                        # the candidate user id is already being used by an other survey answer\n",
    "                        if isConsoleVerbose:\n",
    "                            print(\"fail: strictPotentialPretestUserIds\")\n",
    "                    else:\n",
    "                        if isConsoleVerbose:\n",
    "                            print(\"success: strictPotentialPretestUserIds\")\n",
    "            else:\n",
    "                if isStrictPotentialPretest:\n",
    "                    if not associateUserIdsWithGFAnswer(strictPotentialPretestUserIds, answerIndex, answerTemporalities[0], isConsoleVerbose):\n",
    "                        # no solution\n",
    "                        # the candidate user id is already being used by an other survey answer\n",
    "                        if isConsoleVerbose:\n",
    "                            print(\"fail: strictPotentialPretestUserIds\")\n",
    "                    else:\n",
    "                        if isConsoleVerbose:\n",
    "                            print(\"success: strictPotentialPretestUserIds\")\n",
    "                else:\n",
    "                    if not associateUserIdsWithGFAnswer(potentialPretestUserIds, answerIndex, answerTemporalities[0], isConsoleVerbose):\n",
    "                        # no solution\n",
    "                        # take closest in time?\n",
    "                        if isConsoleVerbose:\n",
    "                            print(\"fail: potentialPretestUserIds\")\n",
    "                    else:\n",
    "                        if isConsoleVerbose:\n",
    "                            print(\"success: potentialPretestUserIds\")\n",
    "        elif (isPotentialPosttest and not isPotentialPretest):\n",
    "            # definitely a posttest in any case.\n",
    "            # which userId is linked to this survey answer?\n",
    "            if (passNumber == 1):\n",
    "                if len(strictPotentialPosttestUserIds) == 1:\n",
    "                    if not associateUserIdsWithGFAnswer(strictPotentialPosttestUserIds, answerIndex, answerTemporalities[1], isConsoleVerbose):\n",
    "                        # no solution\n",
    "                        # the candidate user id is already being used by an other survey answer\n",
    "                        if isConsoleVerbose:\n",
    "                            print(\"fail: strictPotentialPosttestUserIds\")\n",
    "                    else:\n",
    "                        if isConsoleVerbose:\n",
    "                            print(\"success: strictPotentialPosttestUserIds\")\n",
    "            else:\n",
    "                if isStrictPotentialPosttest:\n",
    "                    if not associateUserIdsWithGFAnswer(strictPotentialPosttestUserIds, answerIndex, answerTemporalities[1], isConsoleVerbose):\n",
    "                        # no solution\n",
    "                        # the candidate user id is already being used by an other survey answer\n",
    "                        if isConsoleVerbose:\n",
    "                            print(\"fail: strictPotentialPosttestUserIds\")\n",
    "                    else:\n",
    "                        if isConsoleVerbose:\n",
    "                            print(\"success: strictPotentialPosttestUserIds\")\n",
    "                else:\n",
    "                    if not associateUserIdsWithGFAnswer(potentialPosttestUserIds, answerIndex, answerTemporalities[1], isConsoleVerbose):\n",
    "                        # no solution\n",
    "                        # take closest in time?\n",
    "                        if isConsoleVerbose:\n",
    "                            print(\"fail: potentialPosttestUserIds\")\n",
    "                    else:\n",
    "                        if isConsoleVerbose:\n",
    "                            print(\"success: potentialPosttestUserIds\")\n",
    "        else:\n",
    "            # pretest or posttest?\n",
    "            if isConsoleVerbose:\n",
    "                print(\"couldn\\'t determine pretest or posttest\")\n",
    "\n",
    "    #        print(\"\\n\\n\")\n",
    "\n",
    "    #        print(\n",
    "    #           \"#potentialPretestUserIds=\"+str(len(potentialPretestUserIds))\\\n",
    "    #         + \"\\n#strictPotentialPretestUserIds=\"+str(len(strictPotentialPretestUserIds))\\\n",
    "    #         + \"\\n#potentialPosttestUserIds=\"+str(len(potentialPosttestUserIds))\\\n",
    "    #         + \"\\n#strictPotentialPosttestUserIds=\"+str(len(strictPotentialPosttestUserIds)))\n",
    "\n",
    "    #        print(\"\\n\")\n",
    "\n",
    "    #        print(\n",
    "    #          \"isPotentialPretest=\"+str(isPotentialPretest)\\\n",
    "    #        + \"\\nisStrictPotentialPretest=\"+str(isStrictPotentialPretest)\\\n",
    "    #        + \"\\nisPotentialPosttest=\"+str(isPotentialPosttest)\\\n",
    "    #        + \"\\nisStrictPotentialPosttest=\"+str(isStrictPotentialPosttest))\n",
    "        if isConsoleVerbose:\n",
    "            print(\"end temporality=\" + _gformDFWithExtraColumn.loc[answerIndex, \"Temporality\"])"
   ]
  },
  {
   "cell_type": "markdown",
   "metadata": {},
   "source": [
    "##### time tests"
   ]
  },
  {
   "cell_type": "code",
   "execution_count": null,
   "metadata": {},
   "outputs": [],
   "source": [
    "answerIndex = 29\n",
    "timestamp = _gformDFWithExtraColumn.loc[answerIndex,'Timestamp']\n",
    "timestampPrevDay = timestamp.date() - datetime.timedelta(days = 1)\n",
    "timestampNextDay = timestamp.date() + datetime.timedelta(days = 1)\n",
    "print(str((timestampPrevDay, timestamp.date(), timestampNextDay)))\n",
    "eventsOnPrevDay = rmdf1522[rmdf1522['userTime'].apply(getFuncHasSameDate(timestampPrevDay))].dropna(axis=1, how='all')\n",
    "eventsOnThisDay = rmdf1522[rmdf1522['userTime'].apply(getFuncHasSameDate(timestamp.date()))].dropna(axis=1, how='all')\n",
    "eventsOnNextDay = rmdf1522[rmdf1522['userTime'].apply(getFuncHasSameDate(timestampNextDay))].dropna(axis=1, how='all')\n",
    "print((len(eventsOnPrevDay),len(eventsOnThisDay),len(eventsOnNextDay)))"
   ]
  },
  {
   "cell_type": "code",
   "execution_count": null,
   "metadata": {},
   "outputs": [],
   "source": [
    "#eventsOnPrevDay['userTime'].max(), eventsOnNextDay['userTime'].min()"
   ]
  },
  {
   "cell_type": "markdown",
   "metadata": {},
   "source": [
    "##### test on all undefined"
   ]
  },
  {
   "cell_type": "code",
   "execution_count": null,
   "metadata": {
    "scrolled": true
   },
   "outputs": [],
   "source": [
    "_passProgress = FloatProgress(min=0, max=10)\n",
    "def applyPass(passNumber):\n",
    "    _passProgress.description='Pass ' + str(passNumber) + ' progress:'\n",
    "    _passProgress.max = len(_gformDFWithExtraColumn.index)\n",
    "    _passProgress.value = 0\n",
    "    for answerIndex in _gformDFWithExtraColumn.index:\n",
    "        _passProgress.value += 1\n",
    "        if(_gformDFWithExtraColumn.loc[answerIndex,'Temporality'] == answerTemporalities[2]):\n",
    "            setAnswerTemporality(answerIndex, _rmdf = rmdf1522, passNumber = passNumber);"
   ]
  },
  {
   "cell_type": "code",
   "execution_count": null,
   "metadata": {},
   "outputs": [],
   "source": [
    "_gformDFWithExtraColumn = gform.copy()\n",
    "\n",
    "def resetGFormWithExtraColumn():\n",
    "    global _gformDFWithExtraColumn\n",
    "    _gformDFWithExtraColumn = gform.copy()\n",
    "\n",
    "    # initialization of 'userId' column\n",
    "    undefinedIndices = _gformDFWithExtraColumn['Temporality'] == 'undefined'\n",
    "    # indices for which the user id needs to be found\n",
    "    _gformDFWithExtraColumn.loc[undefinedIndices, 'userId'] = 0\n",
    "    # indices for which the user id is known\n",
    "    _gformDFWithExtraColumn.loc[~undefinedIndices, 'userId'] = _gformDFWithExtraColumn.loc[~undefinedIndices, localplayerguidkey]\n",
    "\n",
    "    totalCount = len(_gformDFWithExtraColumn)\n",
    "    beforeCounts = len(_gformDFWithExtraColumn[_gformDFWithExtraColumn['Temporality'] == answerTemporalities[0]])\n",
    "    afterCounts = len(_gformDFWithExtraColumn[_gformDFWithExtraColumn['Temporality'] == answerTemporalities[1]])\n",
    "    undefinedCounts = len(_gformDFWithExtraColumn[_gformDFWithExtraColumn['Temporality'] == answerTemporalities[2]])\n",
    "\n",
    "    print(\\\n",
    "        \"totalCount=\"+str(totalCount)+\\\n",
    "        \"\\nbeforeCounts=\"+str(beforeCounts)+\\\n",
    "        \"\\nafterCounts=\"+str(afterCounts)+\\\n",
    "        \"\\nundefinedCounts=\"+str(undefinedCounts)+\\\n",
    "        \"\\n\"\n",
    "         )\n",
    "\n",
    "    #timestamp = pd.Timestamp.min\n",
    "    #surveyAnswer = _gformDFWithExtraColumn.loc[0,:]"
   ]
  },
  {
   "cell_type": "code",
   "execution_count": null,
   "metadata": {
    "scrolled": false
   },
   "outputs": [],
   "source": [
    "resetGFormWithExtraColumn()\n",
    "\n",
    "_undefinedCount = IntText(0, description='undefined count:')\n",
    "_whileCount = IntText(0, description='while count:')\n",
    "display(_undefinedCount)\n",
    "display(_whileCount)\n",
    "\n",
    "result = pd.DataFrame(data=gform['Temporality'].value_counts())\n",
    "stepsCount = 4\n",
    "\n",
    "__progress = FloatProgress(min=0, max=stepsCount, description='Pass count:')\n",
    "display(__progress)\n",
    "display(_passProgress)\n",
    "display(_setAnswerTemporalityProgress)\n",
    "display(_associateUserIdsWithGFAnswerProgress)\n",
    "\n",
    "for passNumber in range(1,5):\n",
    "    previousValue = 0 #gform['Temporality'].value_counts()[answerTemporalities[2]]\n",
    "\n",
    "    _whileCount.value = 0\n",
    "    while (previousValue != _gformDFWithExtraColumn['Temporality'].value_counts()[answerTemporalities[2]]):\n",
    "        _whileCount.value += 1\n",
    "        previousValue = _gformDFWithExtraColumn['Temporality'].value_counts()[answerTemporalities[2]]\n",
    "        _undefinedCount.value = previousValue\n",
    "        applyPass(passNumber)\n",
    "        \n",
    "    print(\"applied pass \" + str(passNumber) + \" \" + str(_whileCount.value) + \" times\")\n",
    "\n",
    "    __progress.value += 1\n",
    "    result['pass ' + str(passNumber)] = _gformDFWithExtraColumn['Temporality'].value_counts()\n",
    "\n",
    "result"
   ]
  },
  {
   "cell_type": "code",
   "execution_count": null,
   "metadata": {},
   "outputs": [],
   "source": [
    "#def getExtendedTemporality( answerDate, firstGameEventDate ):\n",
    "#result = answerTemporalities[2]\n",
    "#if(gameEventDate != pd.Timestamp.max.tz_localize('utc')):\n",
    "#    if(answerDate <= gameEventDate):\n",
    "#        result = answerTemporalities[0]\n",
    "#    elif (answerDate > gameEventDate):\n",
    "#        result = answerTemporalities[1]\n",
    "#else:\n",
    "#    # search for a close-enough session, even if it doesn't belong to the user\n",
    "#    # check that this user doesn't already have survey answers\n",
    "#    \n",
    "#    # search for games starting just after\n",
    "#    #   pretests are more frequent than posttests\n",
    "#    eventsAfter = rmdf1522[rmdf1522['serverTime']]\n",
    "#    \n",
    "#    # search for games ending just before\n",
    "#    \n",
    "#    # search for any overlapping game\n",
    "#    \n",
    "#    # search for any overlapping game\n",
    "#    \n",
    "#\n",
    "#result"
   ]
  },
  {
   "cell_type": "markdown",
   "metadata": {},
   "source": [
    "#def setAnswerTemporalities( _gformDF = gform ):\n",
    "# check whether temporalities have already been set\n",
    "if(len(_gformDF['Temporality'].unique()) == 1):\n",
    "    # format : key = _userId, value = [_firstEventDate, 0 or _gformDF.index of before, 0 or _gformDF.index of after]\n",
    "    temporalities = {}\n",
    "\n",
    "    for _index in _gformDF.index:\n",
    "        _userId = _gformDF.loc[_index,localplayerguidkey]\n",
    "        _firstEventDate, beforeIndex, afterIndex = [0,0,0]\n",
    "\n",
    "        if _userId in temporalities:\n",
    "            _firstEventDate, beforeIndex, afterIndex = temporalities[_userId]\n",
    "        else:\n",
    "            _firstEventDate = getFirstEventDate(_userId)\n",
    "\n",
    "        temporality = getTemporality(_gformDF.loc[_index,'Timestamp'],_firstEventDate)\n",
    "\n",
    "        if temporality == answerTemporalities[0] and beforeIndex != 0 :\n",
    "            if _gformDF.loc[_index,'Timestamp'] > _gformDF.loc[beforeIndex,'Timestamp']:\n",
    "                _gformDF.loc[beforeIndex,'Temporality'] = answerTemporalities[2]\n",
    "            else:\n",
    "                temporality = answerTemporalities[2]\n",
    "        elif temporality == answerTemporalities[1] and afterIndex != 0 :\n",
    "            if _gformDF.loc[_index,'Timestamp'] < _gformDF.loc[afterIndex,'Timestamp']:\n",
    "                _gformDF.loc[afterIndex,'Temporality'] = answerTemporalities[2]\n",
    "            else:\n",
    "                temporality = answerTemporalities[2]\n",
    "\n",
    "        _gformDF.loc[_index,'Temporality'] = temporality\n",
    "        if temporality == answerTemporalities[0]:\n",
    "            beforeIndex = _index\n",
    "        elif temporality == answerTemporalities[1]:\n",
    "            afterIndex = _index\n",
    "\n",
    "        temporalities[_userId] = [_firstEventDate, beforeIndex, afterIndex]\n",
    "    print(\"temporalities set\")"
   ]
  }
 ],
 "metadata": {
  "kernelspec": {
   "display_name": "Python [conda env:python3]",
   "language": "python",
   "name": "conda-env-python3-py"
  },
  "language_info": {
   "codemirror_mode": {
    "name": "ipython",
    "version": 3
   },
   "file_extension": ".py",
   "mimetype": "text/x-python",
   "name": "python",
   "nbconvert_exporter": "python",
   "pygments_lexer": "ipython3",
   "version": "3.5.4"
  }
 },
 "nbformat": 4,
 "nbformat_minor": 1
}
