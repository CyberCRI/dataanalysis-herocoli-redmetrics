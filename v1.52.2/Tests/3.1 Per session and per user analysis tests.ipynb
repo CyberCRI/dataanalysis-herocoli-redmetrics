{
 "cells": [
  {
   "cell_type": "markdown",
   "metadata": {},
   "source": [
    "# Per session and per user analysis\n",
    "Analysis of users.\n",
    "\n",
    "\n",
    "\n",
    "# Table of Contents\n",
    "\n",
    "1.  [Preparation](#preparation)\n",
    "\n",
    "2.  [Function tests](#functests)\n",
    "\n",
    "3. [User metrics checks](#checkusermetrics)\n",
    "\n",
    "# Preparation\n",
    "<a id=preparation />"
   ]
  },
  {
   "cell_type": "code",
   "execution_count": null,
   "metadata": {
    "scrolled": true
   },
   "outputs": [],
   "source": [
    "%run \"../Functions/3. Per session and per user analysis.ipynb\""
   ]
  },
  {
   "cell_type": "code",
   "execution_count": null,
   "metadata": {},
   "outputs": [],
   "source": [
    "rmdf1522.head()"
   ]
  },
  {
   "cell_type": "markdown",
   "metadata": {},
   "source": [
    "# Per-session analysis"
   ]
  },
  {
   "cell_type": "code",
   "execution_count": null,
   "metadata": {
    "scrolled": false
   },
   "outputs": [],
   "source": [
    "\n",
    "\n",
    "testSessionId = \"fab3ea03-6ff1-483f-a90a-74ff47d0b556\"\n",
    "\n",
    "perSession = rmdf1522[rmdf1522['type']=='reach'].loc[:,perSessionRelevantColumns]\n",
    "perSession = perSession[perSession['sessionId']==testSessionId]\n",
    "perSession = perSession[perSession['section'].str.startswith('tutorial', na=False)]\n",
    "perSession"
   ]
  },
  {
   "cell_type": "code",
   "execution_count": null,
   "metadata": {},
   "outputs": [],
   "source": [
    "allSessions = getAllSessions( rmdf1522, True )\n",
    "allSessions.head()"
   ]
  },
  {
   "cell_type": "code",
   "execution_count": null,
   "metadata": {},
   "outputs": [],
   "source": [
    "allSessions[allSessions['sessionId']==testSessionId]"
   ]
  },
  {
   "cell_type": "code",
   "execution_count": null,
   "metadata": {},
   "outputs": [],
   "source": [
    "allSessions[allSessions['userId']=='e2f8d5e4-cccd-4d1a-909b-c9c92f6b83c1']"
   ]
  },
  {
   "cell_type": "markdown",
   "metadata": {},
   "source": [
    "# Per user analysis"
   ]
  },
  {
   "cell_type": "code",
   "execution_count": null,
   "metadata": {},
   "outputs": [],
   "source": [
    "# English-speaking user who answered the questionnaire - cf 'Google form analysis.ipynb'.\n",
    "localplayerguid = '8d352896-a3f1-471c-8439-0f426df901c1'\n",
    "#localplayerguid = '7037c5b2-c286-498e-9784-9a061c778609'\n",
    "#localplayerguid = '5c4939b5-425b-4d19-b5d2-0384a515539e'\n",
    "#localplayerguid = '7825d421-d668-4481-898a-46b51efe40f0'\n",
    "#localplayerguid = 'acb9c989-b4a6-4c4d-81cc-6b5783ec71d8'\n",
    "localplayerguid"
   ]
  },
  {
   "cell_type": "code",
   "execution_count": null,
   "metadata": {},
   "outputs": [],
   "source": [
    "perUserRelevantColumns = ['sessionId', 'serverTime', 'section']"
   ]
  },
  {
   "cell_type": "code",
   "execution_count": null,
   "metadata": {},
   "outputs": [],
   "source": [
    "sessionsList = getAllSessionsOfUser(rmdf1522, localplayerguid, True)\n",
    "sessionsList"
   ]
  },
  {
   "cell_type": "code",
   "execution_count": null,
   "metadata": {},
   "outputs": [],
   "source": [
    "# List all 'reach' events with those sessionIds.\n",
    "perUser = rmdf1522[rmdf1522['type']=='reach'].loc[:,perUserRelevantColumns]\n",
    "perUser = perUser[perUser['sessionId'].isin(sessionsList['sessionId'])]\n",
    "perUser = perUser[perUser['section'].str.startswith('tutorial', na=False)]\n",
    "perUser.describe()\n",
    "perUser.head()"
   ]
  },
  {
   "cell_type": "markdown",
   "metadata": {},
   "source": [
    "# Common analysis"
   ]
  },
  {
   "cell_type": "markdown",
   "metadata": {},
   "source": [
    "#### Switch here between users and sessions."
   ]
  },
  {
   "cell_type": "code",
   "execution_count": null,
   "metadata": {},
   "outputs": [],
   "source": [
    "#sectionsList = perSession\n",
    "sectionsList = perUser"
   ]
  },
  {
   "cell_type": "markdown",
   "metadata": {},
   "source": [
    "#### getCheckpointsTimes tinkering"
   ]
  },
  {
   "cell_type": "code",
   "execution_count": null,
   "metadata": {
    "scrolled": true
   },
   "outputs": [],
   "source": [
    "testUser = getRandomGFormGUID()\n",
    "testSession = getRandomSessionGUID( _userId = testUser )"
   ]
  },
  {
   "cell_type": "code",
   "execution_count": null,
   "metadata": {},
   "outputs": [],
   "source": [
    "timedSections1 = getCheckpointsTimes(testSession)\n",
    "timedSections1"
   ]
  },
  {
   "cell_type": "code",
   "execution_count": null,
   "metadata": {
    "scrolled": false
   },
   "outputs": [],
   "source": [
    "sessionId = testSession\n",
    "_rmDF = rmdf1522\n",
    "testCounter = 0\n",
    "\n",
    "# Returns a given session's checkpoints, the first server time at which they were reached, and completion time\n",
    "#def getCheckpointsTimes( sessionId, _rmDF = rmdf1522 ):\n",
    "reachEvents = _rmDF[_rmDF['type']=='reach'].loc[:,perSessionRelevantColumns]\n",
    "perSession = reachEvents[reachEvents['sessionId']==sessionId]\n",
    "perSession = perSession[perSession['section'].str.startswith('tutorial', na=False)]\n",
    "\n",
    "timedSections = pd.DataFrame(data=0, columns=timedSectionsReachedColumns,index=timedSectionsIndex)\n",
    "timedSections['firstReached'] = pd.Timestamp(0, tz='utc')\n",
    "timedSections['firstCompletionDuration'] = pd.Timedelta.max\n",
    "\n",
    "if(len(perSession) > 0):\n",
    "    timedSections[\"firstReached\"] = perSession.groupby(\"section\").agg({ \"serverTime\": np.min })\n",
    "    timedSections[\"firstCompletionDuration\"] = timedSections[\"firstReached\"].diff()\n",
    "    \n",
    "    if(timedSections.loc[\"tutorial1.Checkpoint00\",\"firstReached\"] != pd.Timestamp(0, tz='utc')):\n",
    "        timedSections.loc[\"tutorial1.Checkpoint00\",\"firstCompletionDuration\"] = \\\n",
    "        pd.Timedelta(0)\n",
    "    \n",
    "timedSections[\"firstReached\"] = timedSections[\"firstReached\"].fillna(pd.Timestamp(0, tz='utc'))\n",
    "timedSections[\"firstCompletionDuration\"] = timedSections[\"firstCompletionDuration\"].fillna(pd.Timedelta.max)\n",
    "    \n",
    "timedSections"
   ]
  },
  {
   "cell_type": "code",
   "execution_count": null,
   "metadata": {},
   "outputs": [],
   "source": [
    "len(timedSections)"
   ]
  },
  {
   "cell_type": "code",
   "execution_count": null,
   "metadata": {},
   "outputs": [],
   "source": [
    "chapter = \"tutorial1.Checkpoint01\"\n",
    "time = ''\n",
    "if(not chapter in timedSections.index):    \n",
    "    print(\"no timed sections\")\n",
    "else:\n",
    "    time = timedSections.loc[chapter,\"firstCompletionDuration\"]\n",
    "time"
   ]
  },
  {
   "cell_type": "code",
   "execution_count": null,
   "metadata": {
    "scrolled": false
   },
   "outputs": [],
   "source": [
    "timedSections1 == timedSections"
   ]
  },
  {
   "cell_type": "code",
   "execution_count": null,
   "metadata": {},
   "outputs": [],
   "source": [
    "reachEvents.iloc[0,0]"
   ]
  },
  {
   "cell_type": "markdown",
   "metadata": {},
   "source": [
    "# Function tests\n",
    "<a id=functests />"
   ]
  },
  {
   "cell_type": "code",
   "execution_count": null,
   "metadata": {},
   "outputs": [],
   "source": [
    "#'7412a447-8177-48e9-82c5-cb31032f76a9': didn't answer\n",
    "testUser = getRandomGFormGUID()\n",
    "testResult = getUserDataVector(testUser)\n",
    "print(testUser)\n",
    "testResult"
   ]
  },
  {
   "cell_type": "code",
   "execution_count": null,
   "metadata": {},
   "outputs": [],
   "source": [
    "testResult[testUser]['death']"
   ]
  },
  {
   "cell_type": "code",
   "execution_count": null,
   "metadata": {},
   "outputs": [],
   "source": [
    "testResult = getUserDataVector('e2f8d5e4-cccd-4d1a-909b-c9c92f6b83c1')\n",
    "testResult"
   ]
  },
  {
   "cell_type": "code",
   "execution_count": null,
   "metadata": {},
   "outputs": [],
   "source": [
    "testResult = getUserDataVector('8d352896-a3f1-471c-8439-0f426df901c1')\n",
    "testResult"
   ]
  },
  {
   "cell_type": "code",
   "execution_count": null,
   "metadata": {
    "scrolled": true
   },
   "outputs": [],
   "source": [
    "gformNotEnough = []\n",
    "print(gformNotEnough)\n",
    "\n",
    "gformNotEnough.append(5)\n",
    "print(gformNotEnough)\n",
    "\n",
    "gformNotEnough = pd.Series(gformNotEnough)\n",
    "print(gformNotEnough)\n",
    "\n",
    "gformNotEnough = np.array([])\n",
    "print(gformNotEnough)\n",
    "\n",
    "gformNotEnough = np.append(gformNotEnough, [5])\n",
    "print(gformNotEnough)\n",
    "\n",
    "gformNotEnough = pd.Series(gformNotEnough)\n",
    "print(gformNotEnough)\n",
    "\n",
    "testNonVal = pd.Series(['tutorial1.Checkpoint13'])"
   ]
  },
  {
   "cell_type": "markdown",
   "metadata": {},
   "source": [
    "#### getUserCheckpoints tinkering"
   ]
  },
  {
   "cell_type": "code",
   "execution_count": null,
   "metadata": {},
   "outputs": [],
   "source": [
    "userId = getRandomRedMetricsGUID()\n",
    "_rmDF = rmdf1522\n",
    "\n",
    "# Returns a given user's unique reached checkpoints\n",
    "#def getUserCheckpoints( userId, _rmDF = rmdf1522 ):\n",
    "#print(\"getUserCheckpoints(\" + str(userId) + \")\")\n",
    "\n",
    "# List of associated sessions\n",
    "sessionsList = getAllSessionsOfUser( _rmDF, userId, True )\n",
    "#print(\"sessionsList=\" + str(sessionsList))\n",
    "\n",
    "# List all 'reach' events with those sessionIds.\n",
    "reachEvents = _rmDF[_rmDF['type']=='reach'].loc[:,perSessionRelevantColumns]\n",
    "perUser = reachEvents[reachEvents['sessionId'].isin(sessionsList['sessionId'].values)]\n",
    "perUser = perUser[perUser['section'].str.startswith('tutorial', na=False)]\n",
    "pd.Series(perUser['section'].unique())"
   ]
  },
  {
   "cell_type": "markdown",
   "metadata": {},
   "source": [
    "#### getDiscrepancyGameGForm tinkering"
   ]
  },
  {
   "cell_type": "code",
   "execution_count": null,
   "metadata": {},
   "outputs": [],
   "source": [
    "gformNonVal = getNonValidatedCheckpoints(userId)\n",
    "gformVal = getValidatedCheckpoints(userId)\n",
    "gameVal = getUserCheckpoints(userId)\n",
    "print(str(gformNonVal))\n",
    "print()\n",
    "print(str(gformVal))\n",
    "print()\n",
    "print(str(gameVal))"
   ]
  },
  {
   "cell_type": "markdown",
   "metadata": {},
   "source": [
    "#userId = getRandomRedMetricsGUID()\n",
    "userId = '\"72002481-18a1-4de2-8749-553bbabe119e\"'\n",
    "\n",
    "#def getDiscrepancyGameGForm( userId ):\n",
    "\n",
    "if(hasAnswered(userId)):\n",
    "    gformNonVal = getNonValidatedCheckpoints(userId)\n",
    "    gformVal = getValidatedCheckpoints(userId)\n",
    "    gameVal = getUserCheckpoints(userId)\n",
    "\n",
    "    #sorted, unique values in series1 that are not in series2\n",
    "    #np.setdiff1d(series1.values, series2.values)\n",
    "\n",
    "    #user has answered questions whose answer they haven't seen in the game\n",
    "    gameNotEnough = pd.Series(np.setdiff1d(gformVal.values, gameVal.values))\n",
    "\n",
    "    #user has not answered questions whose answer they have seen in the game\n",
    "    gformNotEnough = []\n",
    "    maxGameVal = ''\n",
    "    if gameVal.values.size!=0:\n",
    "        gameVal.values.max()\n",
    "    for nonVal in gformNonVal.values:\n",
    "        if nonVal >= maxGameVal:\n",
    "            gformNotEnough.append(nonVal)    \n",
    "    gformNotEnough = pd.Series(gformNotEnough)\n",
    "\n",
    "    result = (gameNotEnough, gformNotEnough)\n",
    "else:\n",
    "    result = ([],[])\n",
    "result"
   ]
  },
  {
   "cell_type": "code",
   "execution_count": null,
   "metadata": {},
   "outputs": [],
   "source": [
    "randomguid = getRandomRedMetricsGUID()\n",
    "randomguid"
   ]
  },
  {
   "cell_type": "code",
   "execution_count": null,
   "metadata": {},
   "outputs": [],
   "source": [
    "gformNonVal = getNonValidatedCheckpoints(randomguid)\n",
    "gformNonVal"
   ]
  },
  {
   "cell_type": "code",
   "execution_count": null,
   "metadata": {},
   "outputs": [],
   "source": [
    "gformVal = getValidatedCheckpoints(randomguid)\n",
    "gformVal"
   ]
  },
  {
   "cell_type": "code",
   "execution_count": null,
   "metadata": {},
   "outputs": [],
   "source": [
    "gameVal = getUserCheckpoints( randomguid )\n",
    "gameVal"
   ]
  },
  {
   "cell_type": "markdown",
   "metadata": {},
   "source": [
    "#sorted, unique values in series1 that are not in series2\n",
    "#np.setdiff1d(series1.values, series2.values)\n",
    "\n",
    "#user has answered questions whose answer they haven't seen in the game\n",
    "gameNotEnough = pd.Series(np.setdiff1d(gformVal.values, gameVal.values))\n"
   ]
  },
  {
   "cell_type": "code",
   "execution_count": null,
   "metadata": {},
   "outputs": [],
   "source": [
    "\n",
    "#user has not answered questions whose answer they have seen in the game\n",
    "gformNotEnough = []\n",
    "maxGameVal = ''"
   ]
  },
  {
   "cell_type": "markdown",
   "metadata": {},
   "source": [
    "if gameVal.values.size!=0:\n",
    "    gameVal.values.max()\n",
    "for nonVal in gformNonVal.values:\n",
    "    if nonVal >= maxGameVal:\n",
    "        gformNotEnough.append(nonVal)    \n",
    "gformNotEnough = pd.Series(gformNotEnough)"
   ]
  },
  {
   "cell_type": "markdown",
   "metadata": {},
   "source": [
    "getDiscrepancyGameGForm( randomguid )"
   ]
  },
  {
   "cell_type": "code",
   "execution_count": null,
   "metadata": {},
   "outputs": [],
   "source": [
    "test = getValidatedCheckpoints(localplayerguid)\n",
    "test\n",
    "\n",
    "maxValue = ''\n",
    "if (len(test) > 0):\n",
    "    maxValue = test.values.max()\n",
    "maxValue\n",
    "\n",
    "getNonValidatedCheckpoints(localplayerguid)\n",
    "\n",
    "testlocalplayerguid = '7412a447-8177-48e9-82c5-cb31032f76a9'\n",
    "\n",
    "test = pd.DataFrame({\n",
    "                        'section' : ['tutorial1.Checkpoint00', 'tutorial1.Checkpoint01', 'tutorial1.Checkpoint02'],\n",
    "                        'serverTime' : ['0', '1', '2'],\n",
    "                        'firstReached' : ['0', '1', '2'],\n",
    "                        'firstCompletionDuration' : ['0', '1', '2'],\n",
    "                    })\n",
    "test\n",
    "#pd.DataFrame({  'A' : 1.,\n",
    "#                'B' : pd.Timestamp('20130102'),\n",
    "#                'C' : pd.Series(1,index=list(range(4)),dtype='float32'),\n",
    "#                'D' : np.array([3] * 4,dtype='int32'),\n",
    "#                'E' : pd.Categorical([\"test\",\"train\",\"test\",\"train\"]),\n",
    "#                'F' : 'foo' })"
   ]
  },
  {
   "cell_type": "markdown",
   "metadata": {},
   "source": [
    "#### getCheckpointsTimesUser tinkering"
   ]
  },
  {
   "cell_type": "code",
   "execution_count": null,
   "metadata": {},
   "outputs": [],
   "source": [
    "# incomplete game\n",
    "#_userId = '958a0e85-1634-4559-bce6-d6af28b7e649' \n",
    "_userId = 'dfe8f036-8641-4d6c-8411-8a8346bb0402'\n",
    "#_userId = getRandomRedMetricsGUID()\n",
    "_sessionsList = []\n",
    "_rmDF = rmdf1522\n",
    "\n",
    "# Returns a given user's checkpoints, the first server time at which they were reached, and completion time\n",
    "#def getCheckpointsTimesUser( _userId, _sessionsList = [], _rmDF = rmdf1522 ):\n",
    "# List of associated sessions\n",
    "if( len(_sessionsList) == 0):\n",
    "    _sessionsList = getAllSessionsOfUser( _rmDF, _userId, True )\n",
    "\n",
    "# Call getCheckpointsTimes on all sessions associated with user,\n",
    "# then merge by taking oldest checkpoint completion\n",
    "_timedSections = pd.DataFrame(data=0, columns=timedSectionsReachedColumns,index=timedSectionsIndex)\n",
    "_timedSections[\"firstReached\"] = pd.Timestamp(0, tz='utc')\n",
    "_timedSections[\"firstCompletionDuration\"] = pd.Timedelta.max\n",
    "\n",
    "# merge\n",
    "# for each checkpoint reached, update if necessary\n",
    "for _sessionId in _sessionsList['sessionId']:        \n",
    "    _thisSessionTimes = getCheckpointsTimes( _sessionId )\n",
    "\n",
    "    for _checkpointName in _thisSessionTimes.index:\n",
    "        if ((_thisSessionTimes.loc[_checkpointName, 'firstReached'] != pd.Timestamp(0, tz='utc'))\n",
    "            and\n",
    "            ((_timedSections.loc[_checkpointName, 'firstReached'] == pd.Timestamp(0, tz='utc'))\n",
    "            or (_timedSections.loc[_checkpointName, 'firstReached'] > _thisSessionTimes.loc[_checkpointName, 'firstReached']))\n",
    "           ):\n",
    "            _timedSections.loc[_checkpointName, 'firstReached'] = _thisSessionTimes.loc[_checkpointName, 'firstReached']\n",
    "            _timedSections.loc[_checkpointName, 'firstCompletionDuration'] = _thisSessionTimes.loc[_checkpointName, 'firstCompletionDuration']\n",
    "\n",
    "_timedSections"
   ]
  },
  {
   "cell_type": "markdown",
   "metadata": {},
   "source": [
    "print('second pass')\n",
    "            \n",
    "previous = ''\n",
    "for checkpointName in thisSessionTimes.index:\n",
    "    if(checkpointName != \"tutorial1.Checkpoint00\"):\n",
    "        if(\n",
    "            timedSections.loc[previous,\"firstReached\"] != pd.Timestamp(0)\n",
    "            and\n",
    "            timedSections.loc[checkpointName,\"firstReached\"] != pd.Timestamp(0)\n",
    "        ):\n",
    "            timedSections.loc[checkpointName,\"firstCompletionDuration\"] =\\\n",
    "            timedSections.loc[checkpointName,\"firstReached\"] - timedSections.loc[previous,\"firstReached\"]\n",
    "    previous = checkpointName\n",
    "#timedSections[\"firstCompletionDuration\"] = timedSections[\"firstReached\"].diff()\n",
    "timedSections"
   ]
  },
  {
   "cell_type": "markdown",
   "metadata": {},
   "source": [
    "#### getPlayedTimeSession tinkering"
   ]
  },
  {
   "cell_type": "code",
   "execution_count": null,
   "metadata": {},
   "outputs": [],
   "source": [
    "testUser = \"3fe0632f-b218-41c3-adfd-27083f271c19\"\n",
    "testSession = getRandomSessionGUID( _userId = testUser )\n",
    "\n",
    "_rmDF[_rmDF['sessionId']==sessionId]"
   ]
  },
  {
   "cell_type": "code",
   "execution_count": null,
   "metadata": {
    "scrolled": false
   },
   "outputs": [],
   "source": [
    "length = 1\n",
    "\n",
    "allUserIds = np.array(rmdf1522['userId'].unique())\n",
    "allUserIds = [i for i in allUserIds if not i in ['nan', np.nan, 'null']]\n",
    "\n",
    "for user in allUserIds:\n",
    "    testUser = user #getRandomGFormGUID()\n",
    "    testSession = getRandomSessionGUID( _userId = testUser )\n",
    "    #testUser = '8172f20e-c29b-4fda-9245-61ab05a84792'\n",
    "    if testSession != '':\n",
    "        sessionId = testSession\n",
    "        #print(sessionId)\n",
    "        _rmDF = rmdf1522\n",
    "\n",
    "        # Returns a given session's total playtime and day count\n",
    "        #def getPlayedTimeSession( sessionId, _rmDF = rmdf1522 ):\n",
    "        sessionEvents = _rmDF[_rmDF['sessionId']==sessionId]\n",
    "        sessionTimesTutorial = sessionEvents[sessionEvents['section'].str.startswith('tutorial', na=False)]['userTime']\n",
    "        #sessionTimesTutorial = sessionTimesTutorial.groupby(sessionTimesTutorial).diff()\n",
    "        sessionTimesTutorial.index = sessionTimesTutorial.values\n",
    "        sessionTimesTutorial = sessionTimesTutorial.groupby(pd.TimeGrouper('D')).agg({ \"start\": np.min, \"end\": np.max })\n",
    "        #, pd.TimeGrouper('D')\n",
    "        #sessionEventsSandbox = sessionEvents[sessionEvents['section'].str.startswith('sandbox', na=False)]\n",
    "\n",
    "        #print([0,0])\n",
    "        #type(sessionTimesTutorial),sessionTimesTutorial,testUser\n",
    "        length = len(sessionTimesTutorial.index)\n",
    "        if (length > 1):\n",
    "            print(\"user = \" + str(testUser) + \" session = \" + str(testSession) + \" length = \" + str(length))"
   ]
  },
  {
   "cell_type": "code",
   "execution_count": null,
   "metadata": {},
   "outputs": [],
   "source": [
    "# checks\n",
    "\n",
    "#usersWithSeveralSessions = []\n",
    "#for userId in allUserIds:\n",
    "#    count = countSessions(userId, False, [], rmdf1522)\n",
    "#    if(count > 3):\n",
    "#        usersWithSeveralSessions.append(userId)\n",
    "        #print(\"userId=\"+str(userId)+\"    : \" + str(count))\n",
    "\n",
    "#rmdf1522[rmdf1522['userId']=='57e2b6b7-c308-4492-9228-f753d5b3044c']['customData.platform'].unique()\n",
    "#rmdf1522[rmdf1522['userId']=='57e2b6b7-c308-4492-9228-f753d5b3044c']\n",
    "\n",
    "#userId = 'deb089c0-9be3-4b75-9b27-28963c77b10c'\n",
    "#for userId in usersWithSeveralSessions:\n",
    "#    print(str(userId)+\" :\")\n",
    "#    for sessionId in getAllSessionsOfUser(rmdf1522, userId)['sessionId']:\n",
    "#        print(str(sessionId)+\" : \" + str(getPlayedTimeSession(sessionId)))\n",
    "#    print()"
   ]
  },
  {
   "cell_type": "markdown",
   "metadata": {},
   "source": [
    "#### getPlayedTimeSessionMode tinkering"
   ]
  },
  {
   "cell_type": "code",
   "execution_count": null,
   "metadata": {},
   "outputs": [],
   "source": [
    "testSession = \"7ea5d49a-14f3-40b8-b9c4-d3d52eb0c4e1\" #4\n",
    "#sessionEvents = pd.DataFrame(columns=_rmDF.columns)\n",
    "sessionEvents = rmdf1522[rmdf1522['sessionId']==testSession]\n",
    "mode = 'tutorial'\n",
    "\n",
    "#def getPlayedTimeSessionMode(sessionEvents, mode):\n",
    "sessionTimes = sessionEvents[sessionEvents['section'].str.startswith(mode, na=False)]['userTime']\n",
    "sessionTimes.index = sessionTimes.values\n",
    "\n",
    "daysSpent = set()\n",
    "totalSpentTime = pd.Timedelta(0)\n",
    "\n",
    "if(len(sessionTimes) > 0):\n",
    "    sessionTimes = sessionTimes.groupby(pd.TimeGrouper('D')).agg({ \"start\": np.min, \"end\": np.max })\n",
    "\n",
    "    daysSpent = set(sessionTimes.index)\n",
    "\n",
    "    sessionTimes['played'] = sessionTimes['end'] - sessionTimes['start']\n",
    "    totalSpentTime = sessionTimes['played'].sum()\n",
    "\n",
    "{'daysSpent': daysSpent, 'totalSpentTime': totalSpentTime}"
   ]
  },
  {
   "cell_type": "code",
   "execution_count": null,
   "metadata": {},
   "outputs": [],
   "source": [
    "getPlayedTimeSessionMode(sessionEvents, 'tutorial')"
   ]
  },
  {
   "cell_type": "code",
   "execution_count": null,
   "metadata": {},
   "outputs": [],
   "source": [
    "getPlayedTimeSessionMode(pd.DataFrame(columns=_rmDF.columns), 'tutorial')"
   ]
  },
  {
   "cell_type": "markdown",
   "metadata": {},
   "source": [
    "#### getPlayedTimeSession tinkering"
   ]
  },
  {
   "cell_type": "code",
   "execution_count": null,
   "metadata": {
    "scrolled": false
   },
   "outputs": [],
   "source": [
    "#testUser = user #getRandomGFormGUID()\n",
    "#testSession = getRandomSessionGUID( _userId = testUser )\n",
    "#testUser = '8172f20e-c29b-4fda-9245-61ab05a84792'\n",
    "#testSession = \"1d16f3f2-2f76-49ee-bb37-9742ed54287a\" #5 + NaT\n",
    "testSession = \"7ea5d49a-14f3-40b8-b9c4-d3d52eb0c4e1\" #4\n",
    "\n",
    "sessionId = testSession\n",
    "#print(sessionId)\n",
    "_rmDF = rmdf1522\n",
    "\n",
    "# Returns a given session's total playtime and day count\n",
    "#def getPlayedTimeSession( sessionId, _rmDF = rmdf1522 ):\n",
    "sessionEvents = _rmDF[_rmDF['sessionId']==sessionId]\n",
    "tutorialTime = getPlayedTimeSessionMode(sessionEvents, 'tutorial')\n",
    "sandboxTime = getPlayedTimeSessionMode(sessionEvents, 'sandbox')\n",
    "{'tutorial': tutorialTime, 'sandbox': sandboxTime}"
   ]
  },
  {
   "cell_type": "code",
   "execution_count": null,
   "metadata": {},
   "outputs": [],
   "source": [
    "getPlayedTimeSession('', _rmDF = _rmDF)"
   ]
  },
  {
   "cell_type": "markdown",
   "metadata": {},
   "source": [
    "#### mergePlayedTimes tinkering and test"
   ]
  },
  {
   "cell_type": "code",
   "execution_count": null,
   "metadata": {},
   "outputs": [],
   "source": [
    "a = getPlayedTimeSession(\"054a96ca-c2f1-4967-9b77-6ce4c33c9d33\")\n",
    "b = getPlayedTimeSession(\"e5421d6c-2f55-4279-8d82-bbafbe16d635\")\n",
    "a,b"
   ]
  },
  {
   "cell_type": "code",
   "execution_count": null,
   "metadata": {},
   "outputs": [],
   "source": [
    "c = {'sandbox': \n",
    "         {\n",
    "            'daysSpent': \n",
    "             {\n",
    "                 pd.Timestamp('2017-06-07 00:00:00', freq='D'),\n",
    "                 pd.Timestamp('2017-06-08 00:00:00', freq='D'),\n",
    "                 pd.Timestamp('2017-06-09 00:00:00', freq='D'),\n",
    "                 pd.Timestamp('2017-06-10 00:00:00', freq='D'),\n",
    "                 pd.Timestamp('2017-06-11 00:00:00', freq='D'),\n",
    "             },\n",
    "            'totalSpentTime': pd.Timedelta('0 days 00:09:34.662000')\n",
    "         },\n",
    "  'tutorial': \n",
    "         {\n",
    "            'daysSpent': \n",
    "             {\n",
    "                 pd.Timestamp('2017-06-07 00:00:00', freq='D'),\n",
    "                 pd.Timestamp('2017-06-08 00:00:00', freq='D'),\n",
    "                 pd.Timestamp('2017-06-09 00:00:00', freq='D'),\n",
    "                 pd.Timestamp('2017-06-10 00:00:00', freq='D'),\n",
    "                 pd.Timestamp('2017-06-11 00:00:00', freq='D'),\n",
    "                 pd.Timestamp('2017-06-12 00:00:00', freq='D'),\n",
    "             },\n",
    "            'totalSpentTime': pd.Timedelta('0 days 00:00:11.007000')\n",
    "         }\n",
    "    }\n",
    "d = {'sandbox':\n",
    "     {\n",
    "            'daysSpent': \n",
    "             {\n",
    "                 pd.Timestamp('2017-06-06 00:00:00', freq='D'),\n",
    "                 pd.Timestamp('2017-06-07 00:00:00', freq='D'),\n",
    "                 pd.Timestamp('2017-06-08 00:00:00', freq='D'),\n",
    "                 pd.Timestamp('2017-06-09 00:00:00', freq='D'),\n",
    "                 pd.Timestamp('2017-06-10 00:00:00', freq='D'),\n",
    "             },\n",
    "            'totalSpentTime': pd.Timedelta('0 days 00:09:34.662000')\n",
    "     },\n",
    "      'tutorial':\n",
    "     {\n",
    "            'daysSpent': \n",
    "             {\n",
    "                 pd.Timestamp('2017-06-05 00:00:00', freq='D'),\n",
    "                 pd.Timestamp('2017-06-06 00:00:00', freq='D'),\n",
    "                 pd.Timestamp('2017-06-07 00:00:00', freq='D'),\n",
    "                 pd.Timestamp('2017-06-08 00:00:00', freq='D'),\n",
    "                 pd.Timestamp('2017-06-09 00:00:00', freq='D'),\n",
    "                 pd.Timestamp('2017-06-10 00:00:00', freq='D'),\n",
    "             },\n",
    "            'totalSpentTime': pd.Timedelta('0 days 00:00:11.007000')\n",
    "     }\n",
    "    }\n",
    "\n",
    "c['tutorial']['daysSpent'] | d['tutorial']['daysSpent']"
   ]
  },
  {
   "cell_type": "code",
   "execution_count": null,
   "metadata": {},
   "outputs": [],
   "source": [
    "#a = getPlayedTimeSession(\"054a96ca-c2f1-4967-9b77-6ce4c33c9d33\")\n",
    "#b = getPlayedTimeSession(\"e5421d6c-2f55-4279-8d82-bbafbe16d635\")\n",
    "a = c\n",
    "b = d\n",
    "\n",
    "#print(a['sandbox']['daysSpent'], a['sandbox']['totalSpentTime'],\\\n",
    "#a['tutorial']['daysSpent'], a['tutorial']['totalSpentTime'],\\\n",
    "#b['sandbox']['daysSpent'], b['sandbox']['totalSpentTime'],\\\n",
    "#b['tutorial']['daysSpent'], b['tutorial']['totalSpentTime'])\n",
    "\n",
    "#print(a,b)\n",
    "\n",
    "#def mergePlayedTimes(a, b):\n",
    "result = a.copy()\n",
    "for gameMode in a:\n",
    "    result[gameMode] = {\n",
    "        'totalSpentTime': a[gameMode]['totalSpentTime'] + b[gameMode]['totalSpentTime'],\n",
    "        'daysSpent': np.unique(a[gameMode]['daysSpent'] | b[gameMode]['daysSpent']),\n",
    "    }\n",
    "result"
   ]
  },
  {
   "cell_type": "markdown",
   "metadata": {},
   "source": [
    "#### getPlayedTimeUser tinkering"
   ]
  },
  {
   "cell_type": "code",
   "execution_count": null,
   "metadata": {
    "scrolled": false
   },
   "outputs": [],
   "source": [
    "#userId = 'ae72a4cb-244e-475c-80ea-11a410266645'\n",
    "userId = '6bc0f58c-26ed-4be9-9596-2a9ad8d11d67'\n",
    "_sessionsList = []\n",
    "_rmDF = rmdf1522\n",
    "\n",
    "# Returns a given user's total playtime and day count\n",
    "#def getPlayedTimeUser( userId, _sessionsList = [], _rmDF = rmdf1522 ):\n",
    "result = getPlayedTimeSession('', _rmDF = _rmDF)\n",
    "\n",
    "if(len(_sessionsList) == 0):\n",
    "    _sessionsList = getAllSessionsOfUser(_rmDF, userId)\n",
    "for session in _sessionsList['sessionId']:\n",
    "#for session in [\"e5421d6c-2f55-4279-8d82-bbafbe16d635\",\"e5421d6c-2f55-4279-8d82-bbafbe16d635\",\"e5421d6c-2f55-4279-8d82-bbafbe16d635\"]:\n",
    "    playedTimes = getPlayedTimeSession(session, _rmDF)\n",
    "    result = mergePlayedTimes(result, playedTimes)\n",
    "    \n",
    "result"
   ]
  },
  {
   "cell_type": "markdown",
   "metadata": {},
   "source": [
    "#### getDeaths tinkering"
   ]
  },
  {
   "cell_type": "code",
   "execution_count": null,
   "metadata": {},
   "outputs": [],
   "source": [
    "sessionId = \"fab3ea03-6ff1-483f-a90a-74ff47d0b556\"\n",
    "_rmDF = rmdf1522\n",
    "\n",
    "# Returns a given session's checkpoints, and death count\n",
    "#def getDeaths( sessionId, _rmDF = rmdf1522 ):\n",
    "deathEvents = _rmDF[_rmDF['type']=='death'].loc[:,perSessionRelevantColumns]\n",
    "perSession = deathEvents[deathEvents['sessionId']==sessionId]\n",
    "perSession = perSession[perSession['section'].str.startswith('tutorial', na=False)]\n",
    "deathsSections = perSession.groupby(\"section\").size().reset_index(name='deathsCount')\n",
    "deathsSections"
   ]
  },
  {
   "cell_type": "markdown",
   "metadata": {},
   "source": [
    "#### getDeathsUser tinkering"
   ]
  },
  {
   "cell_type": "code",
   "execution_count": null,
   "metadata": {},
   "outputs": [],
   "source": [
    "userId = 'ae72a4cb-244e-475c-80ea-11a410266645'\n",
    "_rmDF = rmdf1522\n",
    "\n",
    "#def getDeathsUser( userId, _rmDF = rmdf1522 ):\n",
    "#print(\"getDeathsUser(\" + str(userId) + \")\")\n",
    "\n",
    "# List of associated sessions\n",
    "sessionsList = getAllSessionsOfUser( _rmDF, userId, True )\n",
    "#print(\"sessionsList=\" + str(sessionsList))\n",
    "\n",
    "# Call getDeaths on all sessions associated with user,\n",
    "# then merge by adding\n",
    "deathsSections = pd.DataFrame(0, columns=timedSectionsDeathsColumns,index=timedSectionsIndex)\n",
    "\n",
    "for sessionId in sessionsList['sessionId']:        \n",
    "    #print(\"processing user \" + str(userId) + \" with session \" + str(sessionId))\n",
    "    deaths = getDeaths( sessionId )\n",
    "\n",
    "    # merge\n",
    "    # for each checkpoint reached, update if necessary\n",
    "    for index in deaths.index:\n",
    "        #print(\"index=\" + str(index))\n",
    "        checkpointName = deaths['section'][index]\n",
    "        #print(\"checkpointName=\" + str(checkpointName))\n",
    "        #print(\"deaths['deathsCount'][\"+str(index)+\"]=\" + str(deaths['deathsCount'][index]))\n",
    "\n",
    "        deathsSections['deathsCount'][checkpointName] = deathsSections['deathsCount'][checkpointName] + deaths['deathsCount'][index]\n",
    "\n",
    "deathsSections"
   ]
  },
  {
   "cell_type": "markdown",
   "metadata": {},
   "source": [
    "#### getUserCraftEventsTotal tinkering"
   ]
  },
  {
   "cell_type": "code",
   "execution_count": null,
   "metadata": {},
   "outputs": [],
   "source": [
    "# craftEventCodes = list([\"equip\",\"unequip\",\"add\",\"remove\"])\n",
    "eventCode = 'equip'\n",
    "userId = getRandomRedMetricsGUID()\n",
    "sessionsList=[]\n",
    "_rmDF = rmdf1522\n",
    "\n",
    "#def getUserCraftEventsTotal( eventCode, userId, sessionsList=[], _rmDF = rmdf1522 ):\n",
    "if(len(sessionsList) == 0):\n",
    "    sessionsList = getAllSessionsOfUser( _rmDF, userId, True )\n",
    "\n",
    "result = 0\n",
    "    \n",
    "if eventCode in craftEventCodes:\n",
    "    eventType = craftEventsColumns['eventType'][eventCode]\n",
    "    events = _rmDF[_rmDF['type']==eventType]\n",
    "    events = events[events[craftEventsColumns['column'][eventCode]].notnull()]\n",
    "    perSession = events[events['sessionId'].isin(sessionsList['sessionId'])]\n",
    "    result = len(perSession)\n",
    "else:\n",
    "    print(\"incorrect event code '\" + eventCode + \"'\")\n",
    "result, userId"
   ]
  },
  {
   "cell_type": "code",
   "execution_count": null,
   "metadata": {},
   "outputs": [],
   "source": []
  },
  {
   "cell_type": "markdown",
   "metadata": {},
   "source": [
    "#### getUserEventsTotal tinkering"
   ]
  },
  {
   "cell_type": "code",
   "execution_count": null,
   "metadata": {},
   "outputs": [],
   "source": [
    "eventType = 'death'\n",
    "#userId = 'e2f8d5e4-cccd-4d1a-909b-c9c92f6b83c1'\n",
    "userId = getRandomRedMetricsGUID()\n",
    "sessionsList=[]\n",
    "_rmDF = rmdf1522\n",
    "\n",
    "#def getUserEventsTotal( eventType, userId, sessionsList=[], _rmDF = rmdf1522 ):\n",
    "if(len(sessionsList) == 0):\n",
    "    sessionsList = getAllSessionsOfUser( _rmDF, userId, True )\n",
    "\n",
    "sessionEvents = _rmDF[_rmDF['type']==eventType]\n",
    "perSession = sessionEvents[sessionEvents['sessionId'].isin(sessionsList['sessionId'])]\n",
    "len(perSession)"
   ]
  },
  {
   "cell_type": "markdown",
   "metadata": {},
   "source": [
    "#### getSessionDataPreview tinkering"
   ]
  },
  {
   "cell_type": "code",
   "execution_count": null,
   "metadata": {},
   "outputs": [],
   "source": [
    "userId = getSurveysOfBiologists(gform)[localplayerguidkey].iloc[2]\n",
    "#sample = gform[gform[localplayerguidkey] == userId]"
   ]
  },
  {
   "cell_type": "code",
   "execution_count": null,
   "metadata": {},
   "outputs": [],
   "source": [
    "_rmDF[_rmDF['sessionId'] == _sessionId]['type'].value_counts()"
   ]
  },
  {
   "cell_type": "code",
   "execution_count": null,
   "metadata": {},
   "outputs": [],
   "source": [
    "_rmDF = rmdf1522\n",
    "sessions = getAllSessionsOfUser( _rmDF, userId, True )\n",
    "_sessionId = sessions['sessionId'].iloc[0]\n",
    "\n",
    "# for per-session, manual analysis\n",
    "#def getSessionDataPreview( _sessionId, _rmDF ):\n",
    "_logs = _rmDF[_rmDF['sessionId'] == _sessionId]\n",
    "\n",
    "_timedEvents = _logs['userTime']\n",
    "_timedEvents = _timedEvents.sort_values()\n",
    "_platform = _logs['customData.platform'].dropna().values\n",
    "if(len(_platform) > 0):\n",
    "    _platform = _platform[0]\n",
    "else:\n",
    "    _platform = ''\n",
    "_events = _logs['type'].value_counts()\n",
    "result = {\n",
    "    'first' : _timedEvents.iloc[0],\n",
    "    'last' : _timedEvents.iloc[-1],\n",
    "    'platform' : _platform,\n",
    "    'events' : _events\n",
    "}\n",
    "print(result)"
   ]
  },
  {
   "cell_type": "code",
   "execution_count": null,
   "metadata": {},
   "outputs": [],
   "source": [
    "events, first, last, platform, = result.values()"
   ]
  },
  {
   "cell_type": "code",
   "execution_count": null,
   "metadata": {},
   "outputs": [],
   "source": [
    "first, last, platform, events"
   ]
  },
  {
   "cell_type": "markdown",
   "metadata": {},
   "source": [
    "#### getUserDataPreview tinkering"
   ]
  },
  {
   "cell_type": "code",
   "execution_count": null,
   "metadata": {},
   "outputs": [],
   "source": [
    "userId = getSurveysOfBiologists(gform)[localplayerguidkey].iloc[2]\n",
    "#sample = gform[gform[localplayerguidkey] == userId]"
   ]
  },
  {
   "cell_type": "code",
   "execution_count": null,
   "metadata": {},
   "outputs": [],
   "source": [
    "events, first, last, platform"
   ]
  },
  {
   "cell_type": "code",
   "execution_count": null,
   "metadata": {},
   "outputs": [],
   "source": [
    "events"
   ]
  },
  {
   "cell_type": "code",
   "execution_count": null,
   "metadata": {},
   "outputs": [],
   "source": [
    "sdp = getSessionDataPreview(_sessionId, _rmDF = _rmDF)"
   ]
  },
  {
   "cell_type": "code",
   "execution_count": null,
   "metadata": {},
   "outputs": [],
   "source": [
    "sdp"
   ]
  },
  {
   "cell_type": "code",
   "execution_count": null,
   "metadata": {
    "scrolled": false
   },
   "outputs": [],
   "source": [
    "#userId = getRandomGFormGUID()\n",
    "_rmDF = rmdf1522\n",
    "scoreLabel = 'score'\n",
    "\n",
    "# for per-user, manual analysis\n",
    "#def getUserDataPreview( userId, _rmDF = rmdf1522 ):\n",
    "\n",
    "result = pd.DataFrame(\n",
    "        columns = [userId]\n",
    "    )\n",
    "\n",
    "#    [ ] RM\n",
    "result.loc['REDMETRICS ANALYSIS'] = ' '\n",
    "#      [ ] sessions count\n",
    "sessions = getAllSessionsOfUser( _rmDF, userId, True )\n",
    "result.loc['sessions', userId] = len(sessions)\n",
    "#      [ ] first event date\n",
    "result.loc['firstEvent', userId] = getFirstEventDate( userId )\n",
    "#      [ ] time played\n",
    "#      [ ] dates played\n",
    "#      [ ] first played, last played\n",
    "sessionIds = sessions['sessionId']\n",
    "for _sessionIdIndex in range(0, len(sessions['sessionId'])):\n",
    "    _sessionId = sessionIds.iloc[_sessionIdIndex]\n",
    "    sdp = getSessionDataPreview(_sessionId, _rmDF = _rmDF)\n",
    "\n",
    "    result.loc['session' + str(_sessionIdIndex) + ' platform',userId] = sdp['platform']\n",
    "    result.loc['session' + str(_sessionIdIndex) + ' first',userId] = sdp['first']\n",
    "    result.loc['session' + str(_sessionIdIndex) + ' last',userId] = sdp['last']\n",
    "    result.loc['session' + str(_sessionIdIndex) + ' events',userId] = str(sdp['events'])\n",
    "#      [ ] best chapter\n",
    "#      [ ] counts of events: deaths, crafts,...\n",
    "\n",
    "#    [ ] GF\n",
    "result.loc['GFORM ANALYSIS'] = ' '\n",
    "#      [ ] score(s)\n",
    "score = getScore( userId )\n",
    "for _temporality in score.columns:\n",
    "    _score = score.loc[scoreLabel,_temporality]\n",
    "    if(len(_score)>0):\n",
    "        if(_temporality == answerTemporalities[0]):\n",
    "            _score = _score[len(_score)-1]\n",
    "        else:\n",
    "            _score = _score[0]\n",
    "    else:\n",
    "        _score = np.nan\n",
    "    result.loc[scoreLabel+_temporality,userId] = _score\n",
    "#        [ ] progression\n",
    "#      [ ] demographics\n",
    "result.loc[scoreLabel+'s',userId] = str(score.values)\n",
    "\n",
    "gfDataPreview = getGFormDataPreview(userId, gform)\n",
    "features = {1: 'date', 2: 'temporality RM', 3: 'temporality GF', 4: 'score', 5: 'genderAge'}\n",
    "for key in gfDataPreview:\n",
    "    for featureKey in features:\n",
    "        result.loc[key + ' ' + features[featureKey]] = str(gfDataPreview[key][features[featureKey]])\n",
    "    index = 0\n",
    "    for match in gfDataPreview[key]['demographic matches']:\n",
    "        result.loc[key + ' demographic match ' + str(index)] = repr(match)\n",
    "        index += 1\n",
    "     \n",
    "result"
   ]
  },
  {
   "cell_type": "code",
   "execution_count": null,
   "metadata": {},
   "outputs": [],
   "source": [
    "answerTemporalities"
   ]
  },
  {
   "cell_type": "code",
   "execution_count": null,
   "metadata": {},
   "outputs": [],
   "source": [
    "#getUserDataPreview(undefinedId)"
   ]
  },
  {
   "cell_type": "code",
   "execution_count": null,
   "metadata": {},
   "outputs": [],
   "source": [
    "for undefinedId in gform[gform[QTemporality] == answerTemporalities[2]][localplayerguidkey]:\n",
    "    getUserDataPreview(undefinedId)"
   ]
  },
  {
   "cell_type": "markdown",
   "metadata": {},
   "source": [
    "# Checks on user metrics\n",
    "<a id=checkusermetrics />"
   ]
  },
  {
   "cell_type": "markdown",
   "metadata": {},
   "source": [
    "### Sequence of actions\n",
    "\n",
    "    sandbox\n",
    "    crafting\n",
    "    equip device\n",
    "    unequip device\n",
    "    add PCONS\n",
    "    add 6\n",
    "    add Ampicillin\n",
    "    add T\n",
    "    > auto craft\n",
    "    > auto equip\n",
    "    remove T\n",
    "    > auto unequip\n",
    "    add T\n",
    "    > auto equip\n",
    "    add 12\n",
    "    > auto craft\n",
    "    > auto equip\n",
    "    add 6\n",
    "    > auto equip\n",
    "    exit crafting\n",
    "    dies\n",
    "    > auto unequip\n",
    "    set language to english"
   ]
  },
  {
   "cell_type": "code",
   "execution_count": null,
   "metadata": {
    "scrolled": false
   },
   "outputs": [],
   "source": [
    "rdfcrafttest = pd.read_csv(\"../../data/2017-10-10.craft-test.csv\")\n",
    "rdfcrafttest = getNormalizedRedMetricsCSV(rdfcrafttest)\n",
    "rdfcrafttest"
   ]
  },
  {
   "cell_type": "code",
   "execution_count": null,
   "metadata": {},
   "outputs": [],
   "source": [
    "craftEventsColumns"
   ]
  },
  {
   "cell_type": "code",
   "execution_count": null,
   "metadata": {},
   "outputs": [],
   "source": [
    "craftEventsColumns['column']['equip']"
   ]
  },
  {
   "cell_type": "code",
   "execution_count": null,
   "metadata": {},
   "outputs": [],
   "source": [
    "type(craftEventCodes)"
   ]
  },
  {
   "cell_type": "code",
   "execution_count": null,
   "metadata": {},
   "outputs": [],
   "source": [
    "test = np.unique(np.concatenate((perSessionRelevantColumns, [craftEventsColumns['column']['equip']])))\n",
    "test"
   ]
  },
  {
   "cell_type": "code",
   "execution_count": null,
   "metadata": {},
   "outputs": [],
   "source": [
    "# user 344 adds\n",
    "#'e2f8d5e4-cccd-4d1a-909b-c9c92f6b83c1'\n",
    "# one of its sessions\n",
    "# fab3ea03-6ff1-483f-a90a-74ff47d0b556\n",
    "#\n",
    "# user 22 adds\n",
    "#'8d352896-a3f1-471c-8439-0f426df901c1'\n",
    "#\n",
    "\n",
    "# session test\n",
    "craftSessionTest = getSectionsCraftEvents('equip', \"fab3ea03-6ff1-483f-a90a-74ff47d0b556\")\n",
    "# user test\n",
    "craftUserTest = getUserSectionsCraftEvents('equip', 'e2f8d5e4-cccd-4d1a-909b-c9c92f6b83c1')\n",
    "# user count test\n",
    "craftUserTestCount = getUserSectionsCraftEventsTotal('equip', 'e2f8d5e4-cccd-4d1a-909b-c9c92f6b83c1')\n",
    "craftUserTestCount"
   ]
  },
  {
   "cell_type": "code",
   "execution_count": null,
   "metadata": {},
   "outputs": [],
   "source": [
    "print(\"craftSessionTest=\" + str(craftSessionTest))\n",
    "print(\"craftUserTest=\" + str(craftUserTest))\n",
    "print(\"craftUserTestCount=\" + str(craftUserTestCount))"
   ]
  },
  {
   "cell_type": "code",
   "execution_count": null,
   "metadata": {},
   "outputs": [],
   "source": [
    "columnName = craftEventsColumns['column']['equip']\n",
    "columnName"
   ]
  },
  {
   "cell_type": "code",
   "execution_count": null,
   "metadata": {},
   "outputs": [],
   "source": [
    "result = list([])\n",
    "for entry in rmdf1522[columnName]:\n",
    "    if not pd.isnull(entry):\n",
    "        result.append(entry)\n",
    "result"
   ]
  },
  {
   "cell_type": "code",
   "execution_count": null,
   "metadata": {},
   "outputs": [],
   "source": [
    "#rmdf1522[columnName].notnull()"
   ]
  },
  {
   "cell_type": "code",
   "execution_count": null,
   "metadata": {},
   "outputs": [],
   "source": [
    "sectionsEvents = pd.DataFrame(0, columns=eventSectionsCountColumns, index=range(0))\n",
    "sectionsEvents"
   ]
  },
  {
   "cell_type": "code",
   "execution_count": null,
   "metadata": {},
   "outputs": [],
   "source": [
    "#events = rmdf1522[rmdf1522['type']==eventType and not rmdf1522[craftEventsColumns['column'][eventCode]].isnull()].loc[:,perSessionRelevantColumns]"
   ]
  },
  {
   "cell_type": "code",
   "execution_count": null,
   "metadata": {},
   "outputs": [],
   "source": []
  },
  {
   "cell_type": "markdown",
   "metadata": {},
   "source": [
    "#### getUserDataVector tinkering"
   ]
  },
  {
   "cell_type": "code",
   "execution_count": null,
   "metadata": {},
   "outputs": [],
   "source": [
    "testUser = getRandomGFormGUID()\n",
    "print(testUser)\n",
    "#testResult = getUserDataVector(testUser)\n",
    "#testResult"
   ]
  },
  {
   "cell_type": "code",
   "execution_count": null,
   "metadata": {
    "scrolled": false
   },
   "outputs": [],
   "source": [
    "userId = getRandomGFormGUID()\n",
    "#userId = '1f27519a-971f-4e39-bac7-9920bfc4b05b' #undefined temporality\n",
    "#userId = 'e2f8d5e4-cccd-4d1a-909b-c9c92f6b83c1' #has not answered\n",
    "print(userId)\n",
    "_source = correctAnswers\n",
    "_rmDF = rmdf1522\n",
    "\n",
    "#def getUserDataVector( userId, _source = [], _rmDF = rmdf1522 ):\n",
    "sessionsList = getAllSessionsOfUser( _rmDF, userId, True )\n",
    "\n",
    "columnName = str(userId)\n",
    "\n",
    "data = pd.DataFrame(0, columns=[columnName],index=userDataVectorIndex)\n",
    "\n",
    "score = getScore( userId )\n",
    "for _temporality in score.columns:\n",
    "    _score = score.loc[scoreLabel,_temporality]\n",
    "    if(len(_score)>0):\n",
    "        if(_temporality == answerTemporalities[0]):\n",
    "            _score = _score[len(_score)-1]\n",
    "        else:\n",
    "            _score = _score[0]\n",
    "    else:\n",
    "        _score = np.nan\n",
    "    data.loc[scoreLabel+_temporality,columnName] = _score\n",
    "\n",
    "data.loc['sessionsCount',columnName] = countSessions( userId, False, sessionsList, _rmDF = _rmDF)\n",
    "\n",
    "for eventName in simpleEvents:\n",
    "    if eventName in craftEventCodes:\n",
    "        data.loc[eventName,columnName] = getUserCraftEventsTotal(eventName, userId, sessionsList)\n",
    "    else:\n",
    "        data.loc[eventName,columnName] = getUserEventsTotal(eventName, userId, sessionsList)\n",
    "\n",
    "data.loc['maxChapter', columnName] = int(pd.Series(data = 'tutorial1.Checkpoint00')\\\n",
    "                                         .append(getUserCheckpoints(userId, _rmDF = _rmDF))\\\n",
    "                                         .max()[-2:])\n",
    "\n",
    "# time spent on each chapter\n",
    "times = getCheckpointsTimesUser(userId)\n",
    "\n",
    "completionTime = 0\n",
    "chapterTime = pd.Series()\n",
    "for chapter in timedSectionsIndex:\n",
    "    deltaTime = times.loc[chapter,\"firstCompletionDuration\"].total_seconds()\n",
    "    chapterTime.loc[int(chapter[-2:])] = deltaTime\n",
    "    completionTime += deltaTime\n",
    "\n",
    "# efficiency = (1 + #unlockedchapters)/(time * (1 + #death + #craft + #add + #equip))\n",
    "data.loc['efficiency', columnName] = np.log(( 1 + data.loc['maxChapter', columnName] ) / \\\n",
    "                                    (completionTime \\\n",
    "                                     * ( 1\\\n",
    "                                        + data.loc['death', columnName] \\\n",
    "                                        + data.loc['craft', columnName]\\\n",
    "                                        + data.loc['add', columnName]\\\n",
    "                                        + data.loc['equip', columnName]\\\n",
    "                                       )\\\n",
    "                                    ))\n",
    "\n",
    "playedTime = getPlayedTimeUser(userId, _rmDF = _rmDF)\n",
    "\n",
    "data.loc['thoroughness', columnName] = \\\n",
    "data.loc['craft', columnName]\\\n",
    "* data.loc['pickup', columnName]\\\n",
    "* ( 1 + np.power(len(playedTime['sandbox']['daysSpent']),2))\n",
    "\n",
    "totalSpentTime = playedTime['tutorial']['totalSpentTime'] + playedTime['sandbox']['totalSpentTime']\n",
    "totalSpentDays = len(playedTime['tutorial']['daysSpent'] | playedTime['sandbox']['daysSpent'])\n",
    "data.loc['fun', columnName] = np.log(\\\n",
    "                                max(1,\\\n",
    "                                    totalSpentTime.total_seconds()\n",
    "                                    * np.power(totalSpentDays,2)\n",
    "                                   ))\n",
    "\n",
    "data.loc['completionTime', columnName] = completionTime\n",
    "for time in chapterTime.index:\n",
    "    data.loc[time,columnName] = chapterTime.loc[time]\n",
    "\n",
    "if(len(_source) != 0):\n",
    "    if(hasAnswered(userId)):\n",
    "        gformLine = gform[gform[localplayerguidkey] == userId]\n",
    "        afters = gformLine[gformLine[QTemporality] == answerTemporalities[1]]\n",
    "        if(len(afters) > 0):\n",
    "            gformLine = afters.iloc[0]\n",
    "        else:\n",
    "            befores = gformLine[gformLine[QTemporality] == answerTemporalities[0]]\n",
    "            if(len(befores) > 0):\n",
    "                gformLine = befores.iloc[len(befores)-1]\n",
    "            else:\n",
    "                gformLine = gformLine.iloc[len(gformLine)-1]\n",
    "\n",
    "        # add data from the gform: binary score on each question\n",
    "        gformData = getBinarized(gformLine, _source = _source)\n",
    "\n",
    "        for question in gformData.index:\n",
    "            data.loc[question,columnName] = gformData.loc[question]\n",
    "    else:\n",
    "        print(\"warning: user \" + userId + \" has never answered the survey\")\n",
    "        \n",
    "print(str(data))\n"
   ]
  },
  {
   "cell_type": "code",
   "execution_count": null,
   "metadata": {},
   "outputs": [],
   "source": [
    "max((1,2))"
   ]
  },
  {
   "cell_type": "code",
   "execution_count": null,
   "metadata": {},
   "outputs": [],
   "source": [
    "max(1,(totalSpentTime.total_seconds()* np.power(totalSpentDays,2)))"
   ]
  },
  {
   "cell_type": "code",
   "execution_count": null,
   "metadata": {
    "scrolled": true
   },
   "outputs": [],
   "source": [
    "data.loc['fun', columnName] = np.log(max(1,totalSpentTime.total_seconds()* np.power(totalSpentDays,2)))"
   ]
  },
  {
   "cell_type": "code",
   "execution_count": null,
   "metadata": {},
   "outputs": [],
   "source": [
    "#testUID = \"bfdfd356-5d6f-4696-a2f1-c1dc338aa64b\" # sessionsCount == 4\n",
    "userId = getRandomGFormGUID()\n",
    "getUserDataVector(userId)"
   ]
  },
  {
   "cell_type": "code",
   "execution_count": null,
   "metadata": {},
   "outputs": [],
   "source": [
    "sessionsCounts = getUserSessionsCounts(rmdf1522)\n",
    "playersResponders = sessionsCounts[sessionsCounts['userId'].isin(getAllResponders())]\n",
    "len(sessionsCounts), len(playersResponders)"
   ]
  },
  {
   "cell_type": "code",
   "execution_count": null,
   "metadata": {},
   "outputs": [],
   "source": [
    "playersResponders"
   ]
  },
  {
   "cell_type": "code",
   "execution_count": null,
   "metadata": {},
   "outputs": [],
   "source": [
    "testUID = playersResponders[playersResponders['counts']==2]['userId'].values[0]\n",
    "answerTimestamps = gform[gform[localplayerguidkey] == testUID][QTimestamp]"
   ]
  },
  {
   "cell_type": "markdown",
   "metadata": {},
   "source": [
    "## Making sense of temporality of answers of multi-session users\n",
    "\n",
    "What is the behaviour of users who played multiple times?"
   ]
  },
  {
   "cell_type": "code",
   "execution_count": null,
   "metadata": {
    "scrolled": false
   },
   "outputs": [],
   "source": [
    "import pytz, datetime\n",
    "local = pytz.timezone (\"Europe/Berlin\")\n",
    "\n",
    "sample = getAllResponders()\n",
    "\n",
    "for userId in sample:\n",
    "    \n",
    "    sessions = getAllSessionsOfUser(rmdf1522,userId)\n",
    "    \n",
    "    if(len(sessions) > 1):\n",
    "        \n",
    "        print(\"------------------user \" + userId + \" ------------------\")\n",
    "        print()\n",
    "        answerTimestamps = gform[gform[localplayerguidkey] == userId][QTimestamp]\n",
    "        \n",
    "        for sessionIndex in sessions.index:\n",
    "            sessionId = sessions.loc[sessionIndex, 'sessionId']\n",
    "\n",
    "            _logs = rmdf1522[rmdf1522['sessionId'] == sessionId]\n",
    "            _logs = _logs[_logs.index.isin(_logs['section'].dropna().index)]\n",
    "            _timedEvents = _logs['userTime']\n",
    "            _timedEvents = _timedEvents.sort_values()\n",
    "\n",
    "            print(\"session \" + str(sessionIndex))\n",
    "            if(len(_timedEvents) > 0):\n",
    "                print(\"\\tstart: \" + str(_timedEvents[0]))\n",
    "                print(\"\\tend: \" + str(_timedEvents[-1]))\n",
    "            print()\n",
    "\n",
    "            for answerTimestampIndex in answerTimestamps.index:\n",
    "                survey = answerTimestamps.loc[answerTimestampIndex]\n",
    "                utc_dt = survey.astimezone (pytz.utc)\n",
    "                \n",
    "                print(\"\\tsurvey\" + str(answerTimestampIndex))\n",
    "                print(\"\\t\" + str(utc_dt))\n",
    "\n",
    "                if(len(_timedEvents) > 0):\n",
    "                    if((_timedEvents[0] > utc_dt) and (_timedEvents[-1] > utc_dt)):\n",
    "                         print(\"\\tanswered before playing\")\n",
    "                    elif((_timedEvents[0] < utc_dt) and (_timedEvents[-1] < utc_dt)):\n",
    "                        print(\"\\tanswered after playing\")\n",
    "                    else:\n",
    "                        print(\"\\tundefined: overlap\")\n",
    "                    print(\"\\t\" + str((_timedEvents[0] > utc_dt, _timedEvents[-1] > utc_dt)))\n",
    "                else:\n",
    "                    print(\"\\tundefined: no event\")\n",
    "                         \n",
    "                print()\n",
    "                print()\n",
    "\n",
    "            print()\n",
    "            print()\n",
    "            print()"
   ]
  },
  {
   "cell_type": "code",
   "execution_count": null,
   "metadata": {},
   "outputs": [],
   "source": [
    "_logs = rmdf1522[rmdf1522['sessionId'] == sessionId][['type', 'userTime', 'section']].values[0]\n",
    "_logs"
   ]
  },
  {
   "cell_type": "code",
   "execution_count": null,
   "metadata": {},
   "outputs": [],
   "source": [
    "_timedEvents[0], _timedEvents[-1], survey"
   ]
  },
  {
   "cell_type": "code",
   "execution_count": null,
   "metadata": {},
   "outputs": [],
   "source": [
    "survey < _timedEvents[0], survey < _timedEvents[-1]"
   ]
  },
  {
   "cell_type": "code",
   "execution_count": null,
   "metadata": {},
   "outputs": [],
   "source": [
    "str((_timedEvents[0] < survey, _timedEvents[-1] > survey))"
   ]
  },
  {
   "cell_type": "code",
   "execution_count": null,
   "metadata": {},
   "outputs": [],
   "source": [
    "times"
   ]
  },
  {
   "cell_type": "code",
   "execution_count": null,
   "metadata": {},
   "outputs": [],
   "source": [
    "eventName"
   ]
  },
  {
   "cell_type": "code",
   "execution_count": null,
   "metadata": {},
   "outputs": [],
   "source": [
    "getUserSectionsEvents( 'start', userId, sessionsList )"
   ]
  },
  {
   "cell_type": "code",
   "execution_count": null,
   "metadata": {},
   "outputs": [],
   "source": [
    "perSession = perSession[perSession['section'].str.startswith('tutorial', na=False)]"
   ]
  }
 ],
 "metadata": {
  "kernelspec": {
   "display_name": "Python [conda env:python3]",
   "language": "python",
   "name": "conda-env-python3-py"
  },
  "language_info": {
   "codemirror_mode": {
    "name": "ipython",
    "version": 3
   },
   "file_extension": ".py",
   "mimetype": "text/x-python",
   "name": "python",
   "nbconvert_exporter": "python",
   "pygments_lexer": "ipython3",
   "version": "3.5.4"
  }
 },
 "nbformat": 4,
 "nbformat_minor": 1
}
