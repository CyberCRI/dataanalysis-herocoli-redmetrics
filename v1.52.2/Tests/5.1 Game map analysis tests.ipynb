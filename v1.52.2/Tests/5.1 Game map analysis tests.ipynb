{
 "cells": [
  {
   "cell_type": "markdown",
   "metadata": {},
   "source": [
    "# 5.1 Game map analysis tests"
   ]
  },
  {
   "cell_type": "code",
   "execution_count": null,
   "metadata": {},
   "outputs": [],
   "source": [
    "%run \"../Functions/4. User comparison.ipynb\""
   ]
  },
  {
   "cell_type": "code",
   "execution_count": null,
   "metadata": {},
   "outputs": [],
   "source": [
    "%run \"../Functions/5. Game map analysis.ipynb\""
   ]
  },
  {
   "cell_type": "code",
   "execution_count": null,
   "metadata": {},
   "outputs": [],
   "source": [
    "#rmdf[rmdf['type']=='gotourl'].dropna(axis='columns', how='all')\n",
    "\n",
    "#rmdf['type'].unique()\n",
    "\n",
    "#rmdf[rmdf['type']=='selectmenu'].dropna(axis='columns', how='all')\n",
    "\n",
    "_types = ['gotourl']\n",
    "rmdf = rmdfPlaytestPretestPosttestUniqueProfilesVolunteersPhase1.copy()\n",
    "plotLocatedEvents(filterAndLocateEvents(_types, rmdf.copy()), _types)"
   ]
  },
  {
   "cell_type": "code",
   "execution_count": null,
   "metadata": {},
   "outputs": [],
   "source": [
    "_types = ['gotourl']\n",
    "rmdf = rmdfPlaytestPretestPosttestUniqueProfilesVolunteersPhase2.copy()\n",
    "plotLocatedEvents(filterAndLocateEvents(_types, rmdf.copy()), _types)"
   ]
  },
  {
   "cell_type": "code",
   "execution_count": null,
   "metadata": {},
   "outputs": [],
   "source": []
  },
  {
   "cell_type": "code",
   "execution_count": null,
   "metadata": {},
   "outputs": [],
   "source": [
    "_types = ['death']\n",
    "rmdf = rmdfPlaytestPretestPosttestUniqueProfilesVolunteersPhase1.copy()\n",
    "deathFilteredLocatedEvents1 = filterAndLocateEvents(_types, rmdf.copy())"
   ]
  },
  {
   "cell_type": "code",
   "execution_count": null,
   "metadata": {},
   "outputs": [],
   "source": [
    "_types = ['death']\n",
    "rmdf = rmdfPlaytestPretestPosttestUniqueProfilesVolunteersPhase2.copy()\n",
    "deathFilteredLocatedEvents2 = filterAndLocateEvents(_types, rmdf.copy())"
   ]
  },
  {
   "cell_type": "code",
   "execution_count": null,
   "metadata": {},
   "outputs": [],
   "source": [
    "kdemethod = 'scott'\n",
    "fig = plotLocatedEvents(deathFilteredLocatedEvents2, _types, _kdeplot = True,\n",
    "     _kdebw=kdemethod,_kdecut=2,_kdeshade=True,_kdeshade_lowest=False,_kdecbar=False,_kdealpha=0.5\n",
    "                 )\n",
    "fig.savefig('game map kde ' + kdemethod + str(_types) + \" Phase2\")"
   ]
  },
  {
   "cell_type": "code",
   "execution_count": null,
   "metadata": {},
   "outputs": [],
   "source": [
    "allDataPlaytestPretestPosttestUniqueProfilesVolunteersPhase1 = getAllUserVectorData(\n",
    "    getAllResponders(gfdfPlaytestPretestPosttestUniqueProfilesVolunteersPhase1),\n",
    "    _rmDF = rmdfPlaytestPretestPosttestUniqueProfilesVolunteersPhase1,\n",
    "    _gfDF = gfdfPlaytestPretestPosttestUniqueProfilesVolunteersPhase1,\n",
    "    _source = correctAnswers + demographicAnswers )"
   ]
  },
  {
   "cell_type": "code",
   "execution_count": null,
   "metadata": {},
   "outputs": [],
   "source": [
    "# Plot scores on the map"
   ]
  },
  {
   "cell_type": "code",
   "execution_count": null,
   "metadata": {},
   "outputs": [],
   "source": [
    "allData = allDataPlaytestPretestPosttestUniqueProfilesVolunteersPhase1.copy()"
   ]
  },
  {
   "cell_type": "code",
   "execution_count": null,
   "metadata": {},
   "outputs": [],
   "source": [
    "for userId in filteredLocatedEvents1[QUserId]:\n",
    "    filteredLocatedEvents1.loc[\n",
    "        filteredLocatedEvents1.index[filteredLocatedEvents1[QUserId] == userId],\n",
    "        'score'] = allData.loc['scoreposttest', userId]"
   ]
  },
  {
   "cell_type": "code",
   "execution_count": null,
   "metadata": {},
   "outputs": [],
   "source": [
    "delta = 0.025\n",
    "x = np.arange(-3.0, 3.0, delta)\n",
    "y = np.arange(-2.0, 2.0, delta)\n",
    "X, Y = np.meshgrid(x, y)\n",
    "Z1 = np.exp(-X**2 - Y**2)\n",
    "Z2 = np.exp(-(X - 1)**2 - (Y - 1)**2)\n",
    "Z = (Z1 - Z2) * 2"
   ]
  },
  {
   "cell_type": "code",
   "execution_count": null,
   "metadata": {},
   "outputs": [],
   "source": [
    "## Contour test"
   ]
  },
  {
   "cell_type": "code",
   "execution_count": null,
   "metadata": {},
   "outputs": [],
   "source": [
    "fig, ax = plt.subplots()\n",
    "CS = ax.contour(X, Y, Z)\n",
    "ax.clabel(CS, inline=1, fontsize=10)\n",
    "ax.set_title('Simplest default with labels')"
   ]
  },
  {
   "cell_type": "code",
   "execution_count": null,
   "metadata": {},
   "outputs": [],
   "source": [
    "len(filteredLocatedEvents1['x'])"
   ]
  },
  {
   "cell_type": "code",
   "execution_count": null,
   "metadata": {},
   "outputs": [],
   "source": [
    "X = np.array(filteredLocatedEvents1['x']).reshape(10, 337)\n",
    "Y = np.array(filteredLocatedEvents1['y']).reshape(10, 337)\n",
    "Z = np.array(filteredLocatedEvents1['score']).reshape(10, 337)"
   ]
  },
  {
   "cell_type": "code",
   "execution_count": null,
   "metadata": {},
   "outputs": [],
   "source": [
    "#plt.contour(X, Y, Z)\n",
    "plt.imshow(Z)"
   ]
  },
  {
   "cell_type": "code",
   "execution_count": null,
   "metadata": {},
   "outputs": [],
   "source": [
    "plt.pcolormesh(X,Y,Z)\n",
    "plt.colorbar()"
   ]
  },
  {
   "cell_type": "markdown",
   "metadata": {},
   "source": [
    "# Plot last events"
   ]
  },
  {
   "cell_type": "code",
   "execution_count": null,
   "metadata": {},
   "outputs": [],
   "source": [
    "rmdf = rmdfPlaytestPretestPosttestUniqueProfilesVolunteersPhase2.copy()\n",
    "titlePart = \"Phase2\""
   ]
  },
  {
   "cell_type": "code",
   "execution_count": null,
   "metadata": {},
   "outputs": [],
   "source": [
    "#def getLastLocatedEvent(rmdf):\n",
    "lastLocatedEvents = rmdf[~pd.isnull(rmdf['coordinates'])]\n",
    "lastLocatedEvents = lastLocatedEvents.loc[:,[QUserId, 'userTime', 'coordinates', 'type', 'section']]\\\n",
    ".sort_values([QUserId, 'userTime'], ascending=[False, False])\\\n",
    ".groupby(QUserId)\\\n",
    ".first()\n",
    "lastLocatedEvents[QUserId] = lastLocatedEvents.index\n",
    "lastLocatedEvents.index = range(len(lastLocatedEvents))\n",
    "#lastLocatedEvents"
   ]
  },
  {
   "cell_type": "code",
   "execution_count": null,
   "metadata": {},
   "outputs": [],
   "source": [
    "_types = lastLocatedEvents['type'].unique()\n",
    "lastEventsFilteredLocatedEvents = filterAndLocateEvents(_types, lastLocatedEvents.copy())"
   ]
  },
  {
   "cell_type": "code",
   "execution_count": null,
   "metadata": {},
   "outputs": [],
   "source": [
    "kdemethod = 'scott'\n",
    "fig = plotLocatedEvents(lastEventsFilteredLocatedEvents, _types, _kdeplot = True,\n",
    "     _kdebw=kdemethod,_kdecut=2,_kdeshade=True,_kdeshade_lowest=False,_kdecbar=False,_kdealpha=0.3,\n",
    "                 )\n",
    "fig.savefig('game map kde ' + kdemethod + \" last events \" + titlePart)"
   ]
  },
  {
   "cell_type": "markdown",
   "metadata": {},
   "source": [
    "## Function tests"
   ]
  },
  {
   "cell_type": "code",
   "execution_count": null,
   "metadata": {},
   "outputs": [],
   "source": [
    "allTypes = rmdf1522['type'].dropna().unique()\n",
    "\n",
    "types = [\"death\", \"reach\", \"add\", \"craft\", \"remove\", \"select\", \"selectmenu\"]\n",
    "craftTypes = [\"add\", \"craft\", \"remove\", \"select\"]\n",
    "gameTypes = [\"hint\", \"pickup\", \"newfurthest\", \"newownrecord\", \"configure\", \"end\", \"complete\", \"restart\", \"start\"]\n",
    "webTypes = [\"gotostudy\", \"gotomooc\"]\n",
    "adminTypes = [\"switchtogameversion\", \"switchfromgameversion\", \"webconfigure\"]"
   ]
  },
  {
   "cell_type": "code",
   "execution_count": null,
   "metadata": {},
   "outputs": [],
   "source": [
    "allTypes"
   ]
  },
  {
   "cell_type": "markdown",
   "metadata": {},
   "source": [
    "### WARNING: very long test"
   ]
  },
  {
   "cell_type": "code",
   "execution_count": null,
   "metadata": {},
   "outputs": [],
   "source": [
    "allLocatedEventsDF = filterAndLocateEvents(allTypes)"
   ]
  },
  {
   "cell_type": "markdown",
   "metadata": {},
   "source": [
    "locatedEventsDF = filterAndLocateEvents(types)"
   ]
  },
  {
   "cell_type": "markdown",
   "metadata": {},
   "source": [
    "craftLocatedEventsDF = filterAndLocateEvents(craftTypes)"
   ]
  },
  {
   "cell_type": "markdown",
   "metadata": {},
   "source": [
    "gameLocatedEventsDF = filterAndLocateEvents(gameTypes)"
   ]
  },
  {
   "cell_type": "markdown",
   "metadata": {},
   "source": [
    "webLocatedEventsDF = filterAndLocateEvents(webTypes)"
   ]
  },
  {
   "cell_type": "markdown",
   "metadata": {},
   "source": [
    "adminLocatedEventsDF = filterAndLocateEvents(adminTypes)"
   ]
  },
  {
   "cell_type": "code",
   "execution_count": null,
   "metadata": {},
   "outputs": [],
   "source": [
    "len(allLocatedEventsDF)"
   ]
  },
  {
   "cell_type": "code",
   "execution_count": null,
   "metadata": {},
   "outputs": [],
   "source": [
    "print(\"minX=\" + str(min(allLocatedEventsDF['x'])))\n",
    "print(\"maxX=\" + str(max(allLocatedEventsDF['x'])))\n",
    "print(\"minY=\" + str(min(allLocatedEventsDF['y'])))\n",
    "print(\"maxY=\" + str(max(allLocatedEventsDF['y'])))"
   ]
  },
  {
   "cell_type": "code",
   "execution_count": null,
   "metadata": {},
   "outputs": [],
   "source": [
    "type(min(allLocatedEventsDF['x']))"
   ]
  },
  {
   "cell_type": "code",
   "execution_count": null,
   "metadata": {},
   "outputs": [],
   "source": [
    "type(allLocatedEventsDF)"
   ]
  },
  {
   "cell_type": "code",
   "execution_count": null,
   "metadata": {},
   "outputs": [],
   "source": [
    "allLocatedEventsDF.columns"
   ]
  },
  {
   "cell_type": "code",
   "execution_count": null,
   "metadata": {},
   "outputs": [],
   "source": [
    "type(allLocatedEventsDF['x'].value_counts())"
   ]
  },
  {
   "cell_type": "code",
   "execution_count": null,
   "metadata": {},
   "outputs": [],
   "source": [
    "allLocatedEventsDF['x'].value_counts().hist()"
   ]
  },
  {
   "cell_type": "code",
   "execution_count": null,
   "metadata": {},
   "outputs": [],
   "source": [
    "allLocatedEventsDF['bucket'] = pd.cut(allLocatedEventsDF['x'], 10)\n",
    "allLocatedEventsDF.head()"
   ]
  },
  {
   "cell_type": "code",
   "execution_count": null,
   "metadata": {},
   "outputs": [],
   "source": [
    "newdf = allLocatedEventsDF[['bucket','x']].groupby('bucket').sum()\n",
    "newdf.plot(kind='bar')"
   ]
  },
  {
   "cell_type": "code",
   "execution_count": null,
   "metadata": {},
   "outputs": [],
   "source": [
    "allLocatedEventsDF['bucket'] = pd.cut(allLocatedEventsDF['y'], 10)\n",
    "newdf = allLocatedEventsDF[['bucket','y']].groupby('bucket').sum()\n",
    "#newdf.plot(kind='bar', orientation='horizontal')\n",
    "newdf.plot.barh()"
   ]
  },
  {
   "cell_type": "markdown",
   "metadata": {},
   "source": [
    "### Plots"
   ]
  },
  {
   "cell_type": "code",
   "execution_count": null,
   "metadata": {},
   "outputs": [],
   "source": [
    "%run \"../Functions/5. Game map analysis.ipynb\""
   ]
  },
  {
   "cell_type": "code",
   "execution_count": null,
   "metadata": {},
   "outputs": [],
   "source": [
    "constants = getConstants()\n",
    "constants"
   ]
  },
  {
   "cell_type": "code",
   "execution_count": null,
   "metadata": {
    "scrolled": false
   },
   "outputs": [],
   "source": [
    "for event in allTypes:\n",
    "    plotLocatedEvents(allLocatedEventsDF, [event])"
   ]
  },
  {
   "cell_type": "code",
   "execution_count": null,
   "metadata": {},
   "outputs": [],
   "source": [
    "plotLocatedEvents(allLocatedEventsDF, ['end', 'configure', 'restart'])"
   ]
  },
  {
   "cell_type": "code",
   "execution_count": null,
   "metadata": {},
   "outputs": [],
   "source": [
    "plotLocatedEvents(allLocatedEventsDF, types)"
   ]
  },
  {
   "cell_type": "code",
   "execution_count": null,
   "metadata": {},
   "outputs": [],
   "source": [
    "plotLocatedEvents(allLocatedEventsDF, craftTypes)"
   ]
  },
  {
   "cell_type": "code",
   "execution_count": null,
   "metadata": {},
   "outputs": [],
   "source": [
    "plotLocatedEvents(allLocatedEventsDF, gameTypes)"
   ]
  },
  {
   "cell_type": "code",
   "execution_count": null,
   "metadata": {},
   "outputs": [],
   "source": [
    "plotLocatedEvents(allLocatedEventsDF, webTypes)"
   ]
  },
  {
   "cell_type": "code",
   "execution_count": null,
   "metadata": {},
   "outputs": [],
   "source": [
    "plotLocatedEvents(allLocatedEventsDF, adminTypes)"
   ]
  },
  {
   "cell_type": "markdown",
   "metadata": {},
   "source": [
    "## Tinkering"
   ]
  },
  {
   "cell_type": "markdown",
   "metadata": {},
   "source": [
    "### filterAndLocateEvents"
   ]
  },
  {
   "cell_type": "code",
   "execution_count": null,
   "metadata": {},
   "outputs": [],
   "source": [
    "rmdf1522.columns"
   ]
  },
  {
   "cell_type": "code",
   "execution_count": null,
   "metadata": {},
   "outputs": [],
   "source": [
    "#rmdf1522['customData.chapter'].dropna().head()"
   ]
  },
  {
   "cell_type": "markdown",
   "metadata": {},
   "source": [
    "#### Filter columns"
   ]
  },
  {
   "cell_type": "code",
   "execution_count": null,
   "metadata": {},
   "outputs": [],
   "source": [
    "mapRelevantColumns = ['type', 'section', 'coordinates']\n",
    "mapDF = rmdf1522.loc[:,mapRelevantColumns]\n",
    "len(mapDF)"
   ]
  },
  {
   "cell_type": "code",
   "execution_count": null,
   "metadata": {},
   "outputs": [],
   "source": [
    "mapDF = mapDF.dropna()\n",
    "len(mapDF)"
   ]
  },
  {
   "cell_type": "markdown",
   "metadata": {},
   "source": [
    "#### Filter by event type"
   ]
  },
  {
   "cell_type": "code",
   "execution_count": null,
   "metadata": {},
   "outputs": [],
   "source": [
    "mapDF = mapDF[mapDF[\"type\"].isin(types)]\n",
    "mapDF.head()"
   ]
  },
  {
   "cell_type": "markdown",
   "metadata": {},
   "source": [
    "#### Filter by section"
   ]
  },
  {
   "cell_type": "code",
   "execution_count": null,
   "metadata": {},
   "outputs": [],
   "source": [
    "tutorial1DF = mapDF[(mapDF['section'].str.startswith('tutorial1'))]\n",
    "#sandbox2DF = mapDF[(mapDF['section'].str.startswith('sandbox'))]\n",
    "tutorial1DF.head(2)"
   ]
  },
  {
   "cell_type": "code",
   "execution_count": null,
   "metadata": {},
   "outputs": [],
   "source": [
    "len(tutorial1DF)"
   ]
  },
  {
   "cell_type": "markdown",
   "metadata": {},
   "source": [
    "#### [x,y] coordinates"
   ]
  },
  {
   "cell_type": "code",
   "execution_count": null,
   "metadata": {},
   "outputs": [],
   "source": [
    "tutorial1DF['x'] = tutorial1DF['coordinates']\n",
    "tutorial1DF['y'] = tutorial1DF['coordinates']"
   ]
  },
  {
   "cell_type": "code",
   "execution_count": null,
   "metadata": {},
   "outputs": [],
   "source": [
    "tutorial1DF.head(2)"
   ]
  },
  {
   "cell_type": "code",
   "execution_count": null,
   "metadata": {},
   "outputs": [],
   "source": [
    "m = re.findall('-*\\d+', '[-259, -713]')\n",
    "m"
   ]
  },
  {
   "cell_type": "code",
   "execution_count": null,
   "metadata": {},
   "outputs": [],
   "source": [
    "coordinates = re.findall('-*\\d+', tutorial1DF['coordinates'][10])\n",
    "coordinates"
   ]
  },
  {
   "cell_type": "code",
   "execution_count": null,
   "metadata": {},
   "outputs": [],
   "source": [
    "subsetCount = 100\n",
    "subset = tutorial1DF.head(subsetCount)\n",
    "subset.index = range(0, subsetCount)"
   ]
  },
  {
   "cell_type": "code",
   "execution_count": null,
   "metadata": {},
   "outputs": [],
   "source": [
    "f = FloatProgress(min=0, max=len(subset.index))\n",
    "display(f)\n",
    "\n",
    "for index in subset.index:\n",
    "    coordinates = re.findall('-*\\d+', subset['coordinates'][index])\n",
    "    subset['x'][index] = coordinates[0]\n",
    "    subset['y'][index] = coordinates[1]\n",
    "    f.value += 1"
   ]
  },
  {
   "cell_type": "code",
   "execution_count": null,
   "metadata": {},
   "outputs": [],
   "source": [
    "subset.head(2)"
   ]
  },
  {
   "cell_type": "code",
   "execution_count": null,
   "metadata": {},
   "outputs": [],
   "source": [
    "types"
   ]
  },
  {
   "cell_type": "code",
   "execution_count": null,
   "metadata": {},
   "outputs": [],
   "source": [
    "plt.figure(figsize=(15,15))\n",
    "plt.axis('equal')\n",
    "\n",
    "# c = [\"black\", \"red\", \"blue\", \"green\"]\n",
    "c = ['black', 'red', 'blue', 'green', 'orange', 'purple', 'brown', 'pink', 'olive', 'cyan', ]\n",
    "# a = [ 0.3, 1, 1,1 ]\n",
    "a = [ 0.3, 1, 1, 1, 1, 1, 1, 1, 1, 1, ]\n",
    "\n",
    "scatters = {}\n",
    "\n",
    "for i, t in enumerate(types):\n",
    "  pts = subset[subset[\"type\"] == t]\n",
    "  x = pts[\"x\"]\n",
    "  y = pts[\"y\"]\n",
    "\n",
    "  scatters[t] = plt.plot(x, y, 'o', c=c[i], lw=0, alpha=a[i])\n",
    "\n",
    "plt.legend([ x[0] for x in scatters.values()], list(scatters.keys()))\n",
    "plt.show()"
   ]
  },
  {
   "cell_type": "code",
   "execution_count": null,
   "metadata": {},
   "outputs": [],
   "source": [
    "_mapBackground = image.imread('../../images/map.png')"
   ]
  },
  {
   "cell_type": "code",
   "execution_count": null,
   "metadata": {},
   "outputs": [],
   "source": [
    "type(_mapBackground)"
   ]
  },
  {
   "cell_type": "code",
   "execution_count": null,
   "metadata": {},
   "outputs": [],
   "source": [
    "len(_mapBackground)"
   ]
  },
  {
   "cell_type": "code",
   "execution_count": null,
   "metadata": {},
   "outputs": [],
   "source": [
    "len(_mapBackground[0])"
   ]
  },
  {
   "cell_type": "code",
   "execution_count": null,
   "metadata": {},
   "outputs": [],
   "source": [
    "_mapBackground.shape"
   ]
  },
  {
   "cell_type": "code",
   "execution_count": null,
   "metadata": {},
   "outputs": [],
   "source": [
    "#types = allTypes\n",
    "subset = allLocatedEventsDF"
   ]
  },
  {
   "cell_type": "code",
   "execution_count": null,
   "metadata": {},
   "outputs": [],
   "source": [
    "allLocatedEventsDF[allLocatedEventsDF['type'] == 'complete'].head(5)"
   ]
  },
  {
   "cell_type": "code",
   "execution_count": null,
   "metadata": {
    "scrolled": true
   },
   "outputs": [],
   "source": [
    "imgStartCoordinates = [833,432]\n",
    "imgEndCoordinates = [1333,334]\n",
    "constants = getConstants()\n",
    "    \n",
    "print(getGraphPosition(imgStartCoordinates, constants))\n",
    "print(getGraphPosition(imgEndCoordinates, constants))"
   ]
  },
  {
   "cell_type": "code",
   "execution_count": null,
   "metadata": {},
   "outputs": [],
   "source": [
    "# from image dimensions\n",
    "print(getXGraphPosition(0, constants))\n",
    "print(getXGraphPosition(1665, constants))\n",
    "print(getYGraphPosition(890, constants))\n",
    "print(getYGraphPosition(0, constants))"
   ]
  },
  {
   "cell_type": "markdown",
   "metadata": {},
   "source": [
    "### getConstants tinkering"
   ]
  },
  {
   "cell_type": "code",
   "execution_count": null,
   "metadata": {},
   "outputs": [],
   "source": [
    "gameStartCoordinates = [-229,-608]\n",
    "gameEndCoordinates = [450,-475]\n",
    "\n",
    "# only for '../../images/map.tutorial1.png'\n",
    "imgStartCoordinates = [833,432]\n",
    "imgEndCoordinates = [1333,334]\n",
    "\n",
    "scaleX = (gameStartCoordinates[0]-gameEndCoordinates[0])/(imgStartCoordinates[0]-imgEndCoordinates[0])\n",
    "scaleY = (gameStartCoordinates[1]-gameEndCoordinates[1])/(imgStartCoordinates[1]-imgEndCoordinates[1])\n",
    "\n",
    "offsetX = gameStartCoordinates[0] - (imgStartCoordinates[0]*scaleX)\n",
    "offsetY = gameStartCoordinates[1] - (imgStartCoordinates[1]*scaleY)\n",
    "\n",
    "newConstants = pd.Series([scaleX,scaleY,offsetX,offsetY], index=['scaleX', 'scaleY', 'offsetX', 'offsetY'])"
   ]
  },
  {
   "cell_type": "markdown",
   "metadata": {},
   "source": [
    "### plotLocatedEvents tinkering"
   ]
  },
  {
   "cell_type": "code",
   "execution_count": null,
   "metadata": {},
   "outputs": [],
   "source": [
    "#constants = getConstants()\n",
    "constants = newConstants\n",
    "\n",
    "plt.figure(figsize=(18,12))\n",
    "\n",
    "# background map image display\n",
    "mapBackground = image.imread('../../images/map.tutorial1.png')\n",
    "\n",
    "# background image dimensions\n",
    "minX = 0\n",
    "maxX = mapBackground.shape[1]\n",
    "minY = mapBackground.shape[0]\n",
    "maxY = 0\n",
    "\n",
    "plt.imshow(mapBackground, aspect='auto', zorder=-1, \\\n",
    "           extent=(getXGraphPosition(minX,constants), \\\n",
    "                   getXGraphPosition(maxX,constants), \\\n",
    "                   getYGraphPosition(minY,constants), \\\n",
    "                   getYGraphPosition(maxY,constants)), \\\n",
    "           alpha=0.5)\n",
    "\n",
    "\n",
    "colors = ['black', 'red', 'blue', 'green', 'orange', 'purple', 'brown', 'pink', 'olive', 'cyan', ]\n",
    "alphas = [ 0.3, 0.3, 0.3, 0.3, 0.3, 0.3, 0.3, 0.3, 0.3, 0.3, ]\n",
    "scatters = {}\n",
    "\n",
    "for i, t in enumerate(types):\n",
    "  pts = subset[subset['type'] == t]\n",
    "  x = pts['x']\n",
    "  y = pts['y']\n",
    "\n",
    "  scatters[t] = plt.plot(x, y, 'o', c=colors[i], lw=0, alpha=alphas[i])\n",
    "\n",
    "plt.legend([ x[0] for x in scatters.values()], list(scatters.keys()))\n",
    "\n",
    "# graph dimensions and extrema on tutorial1\n",
    "# minX=-1152\n",
    "# maxX=539\n",
    "# minY=-1161\n",
    "# maxY=-100\n",
    "plt.xlim([-1200, 600])\n",
    "plt.ylim([-1220, -20])\n",
    "\n",
    "plt.show()"
   ]
  }
 ],
 "metadata": {
  "kernelspec": {
   "display_name": "Python 3",
   "language": "python",
   "name": "python3"
  },
  "language_info": {
   "codemirror_mode": {
    "name": "ipython",
    "version": 3
   },
   "file_extension": ".py",
   "mimetype": "text/x-python",
   "name": "python",
   "nbconvert_exporter": "python",
   "pygments_lexer": "ipython3",
   "version": "3.6.5"
  }
 },
 "nbformat": 4,
 "nbformat_minor": 1
}
