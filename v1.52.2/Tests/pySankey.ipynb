{
 "cells": [
  {
   "cell_type": "markdown",
   "metadata": {},
   "source": [
    "# pySankey"
   ]
  },
  {
   "cell_type": "markdown",
   "metadata": {},
   "source": [
    "## Source\n",
    "\n",
    "https://github.com/Pierre-Sassoulas/pySankey\n",
    "https://github.com/anazalea/pySankey\n",
    "\n",
    "## Installed using pip:\n",
    "\n",
    "(base) D:\\dataanalysis-herocoli-redmetrics>pip install pySankey\n",
    "\n",
    "Collecting pySankey\n",
    "\n",
    "  Downloading https://files.pythonhosted.org/packages/ad/fc/c2823db63e0efe365275\n",
    "9a4de2859ed02fe5479bb1ba720605cd789121e5/pySankey-0.0.1-py3-none-any.whl\n",
    "distributed 1.21.8 requires msgpack, which is not installed.\n",
    "\n",
    "Installing collected packages: pySankey\n",
    "\n",
    "Successfully installed pySankey-0.0.1\n",
    "\n",
    "You are using pip version 10.0.1, however version 18.0 is available.\n",
    "\n",
    "You should consider upgrading via the 'python -m pip install --upgrade pip' comm\n",
    "and.\n"
   ]
  },
  {
   "cell_type": "code",
   "execution_count": null,
   "metadata": {
    "scrolled": false
   },
   "outputs": [],
   "source": [
    "import matplotlib\n",
    "#matplotlib.use('Agg')\n",
    "import matplotlib.pyplot as plt\n",
    "import numpy as np\n",
    "import pandas as pd\n",
    "import seaborn as sns\n",
    "from pySankey import sankey"
   ]
  },
  {
   "cell_type": "markdown",
   "metadata": {},
   "source": [
    "## Sort on left labels and right labels\n",
    "\n",
    "With the current implementation of pySankey it's actually impossible to guarantee that left labels and right labels will be sorted with the current implementation. Left labels and right labels are instantiated on the fly and are not rollbacked if an inferior label is drawn afterwards.\n",
    "\n",
    "If 0 -> 1 is drawn before 1 -> 0, right 1 will be below right 0.\n",
    "\n",
    "If 0 -> 1 is drawn after 1 -> 0, left 1 will be below left 0.\n",
    "\n",
    "Working with a modified version here."
   ]
  },
  {
   "cell_type": "code",
   "execution_count": null,
   "metadata": {},
   "outputs": [],
   "source": [
    "left = ['0 (7)', '1 (55)', '0 (7)', '0 (7)', '1 (55)', '1 (55)', '2 (1)', '3 (26)', '3 (26)', '3 (26)']\n",
    "\n",
    "right = ['0 (10)', '1 (3)', '2 (3)', '3 (73)', '0 (10)', '3 (73)', '3 (73)', '0 (10)', '2 (3)', '3 (73)']\n",
    "\n",
    "leftWeight = [ 2., 3., 1., 4., 7., 45., 1., 1., 2., 23.]\n",
    "\n",
    "rightWeight = [ 2., 3., 1., 4., 7., 45., 1., 1., 2., 23.]\n",
    "\n",
    "sankey.sankey(\n",
    "                #left=sorted(classesDF['pretest'].values), right=sorted(classesDF['posttest'].values),\n",
    "                left=left,\n",
    "                right=right,\n",
    "                leftWeight=leftWeight,\n",
    "                rightWeight=rightWeight,\n",
    "                aspect=20,\n",
    "                fontsize=20,\n",
    "                figureName=\"testSankey\"\n",
    "            )"
   ]
  },
  {
   "cell_type": "code",
   "execution_count": null,
   "metadata": {},
   "outputs": [],
   "source": [
    "from pySankey import sankey"
   ]
  },
  {
   "cell_type": "code",
   "execution_count": null,
   "metadata": {},
   "outputs": [],
   "source": [
    "left = ['1 (55)', '0 (7)', '1 (55)', '0 (7)', '0 (7)', '1 (55)', '2 (1)', '3 (26)', '3 (26)', '3 (26)']\n",
    "\n",
    "right = ['0 (8)', '1 (5)', '1 (5)', '2 (3)', '3 (73)', '3 (73)', '3 (73)', '0 (8)', '2 (3)', '3 (73)']\n",
    "\n",
    "leftWeight = [ 7., 2., 3., 1., 4., 45., 1., 1., 2., 23.]\n",
    "\n",
    "rightWeight = [ 7., 2., 3., 1., 4., 45., 1., 1., 2., 23.]\n",
    "\n",
    "sankey.sankey(\n",
    "                #left=sorted(classesDF['pretest'].values), right=sorted(classesDF['posttest'].values),\n",
    "    left=left,\n",
    "    right=right,\n",
    "    leftWeight=leftWeight,\n",
    "    rightWeight=rightWeight,\n",
    "    aspect=20,\n",
    "    fontsize=20,\n",
    "    figureName=\"testSankey\",\n",
    "    closePlot=False,\n",
    "            )"
   ]
  },
  {
   "cell_type": "code",
   "execution_count": null,
   "metadata": {},
   "outputs": [],
   "source": [
    "left = ['0 (7)', '1 (55)', '0 (7)', '0 (7)', '1 (55)', '1 (55)', '2 (1)', '3 (26)', '3 (26)', '3 (26)']\n",
    "\n",
    "right = ['1 (5)', '1 (5)', '2 (3)', '3 (73)', '0 (8)', '3 (73)', '3 (73)', '0 (8)', '2 (3)', '3 (73)']\n",
    "\n",
    "leftWeight = [ 2., 3., 1., 4., 7., 45., 1., 1., 2., 23.]\n",
    "\n",
    "rightWeight = [ 2., 3., 1., 4., 7., 45., 1., 1., 2., 23.]\n",
    "\n",
    "sankey.sankey(\n",
    "                #left=sorted(classesDF['pretest'].values), right=sorted(classesDF['posttest'].values),\n",
    "    left=left,\n",
    "    right=right,\n",
    "    leftWeight=leftWeight,\n",
    "    rightWeight=rightWeight,\n",
    "    aspect=20,\n",
    "    fontsize=20,\n",
    "    figureName=\"testSankey\",\n",
    "    closePlot=True,\n",
    "            )"
   ]
  },
  {
   "cell_type": "code",
   "execution_count": null,
   "metadata": {},
   "outputs": [],
   "source": [
    "df = pd.read_csv(\n",
    "    'customers-goods.csv', sep=',',\n",
    "    names=['id', 'customer', 'good', 'revenue']\n",
    ")\n",
    "rightWeight = df['revenue'].values[1:].astype(float)\n",
    "leftWeight = 2 * df['revenue'].values[1:].astype(float)\n",
    "sankey.sankey(\n",
    "    left=df['customer'].values[1:],\n",
    "    right=df['good'].values[1:],\n",
    "    rightWeight=rightWeight,\n",
    "    leftWeight=leftWeight,\n",
    "    aspect=20,\n",
    "    fontsize=20,\n",
    "    figureName=None,\n",
    "    closePlot=True,\n",
    ")"
   ]
  },
  {
   "cell_type": "code",
   "execution_count": null,
   "metadata": {},
   "outputs": [],
   "source": [
    "classesDF = pd.DataFrame(\n",
    "    index = ['1','2','3','4'],\n",
    "    columns = ['pretest', 'posttest'],\n",
    "    data=''\n",
    ")\n",
    "classesDF.loc['1', 'pretest'] = 'good'\n",
    "classesDF.loc['1', 'posttest'] = 'good'\n",
    "classesDF.loc['2', 'pretest'] = 'good'\n",
    "classesDF.loc['2', 'posttest'] = 'bad'\n",
    "classesDF.loc['3', 'pretest'] = 'bad'\n",
    "classesDF.loc['3', 'posttest'] = 'good'\n",
    "classesDF.loc['4', 'pretest'] = 'bad'\n",
    "classesDF.loc['4', 'posttest'] = 'bad'\n",
    "weight = pd.Series(index=classesDF.index, data=10).values.astype(float)\n",
    "sankey.sankey(\n",
    "    left=classesDF['pretest'].values,\n",
    "    right=classesDF['posttest'].values,\n",
    "    rightWeight=weight,\n",
    "    leftWeight=weight,\n",
    "    aspect=20,\n",
    "    fontsize=20,\n",
    "    figureName=None,\n",
    "    closePlot=False,\n",
    ")"
   ]
  },
  {
   "cell_type": "code",
   "execution_count": null,
   "metadata": {},
   "outputs": [],
   "source": [
    "len(rightWeight), len(df.index)"
   ]
  },
  {
   "cell_type": "code",
   "execution_count": null,
   "metadata": {},
   "outputs": [],
   "source": [
    "weight"
   ]
  },
  {
   "cell_type": "code",
   "execution_count": null,
   "metadata": {},
   "outputs": [],
   "source": [
    "import matplotlib.rcsetup as rcsetup\n",
    "print(rcsetup.all_backends)"
   ]
  },
  {
   "cell_type": "code",
   "execution_count": null,
   "metadata": {},
   "outputs": [],
   "source": [
    "import pySankey\n",
    "print(dir(pySankey))\n",
    "print(pySankey.__path__)"
   ]
  },
  {
   "cell_type": "code",
   "execution_count": null,
   "metadata": {},
   "outputs": [],
   "source": [
    "import pandas as pd\n",
    "from pySankey import sankey\n",
    "\n",
    "pd.options.display.max_rows = 8\n",
    "df = pd.read_csv(\n",
    "    'fruits.txt', sep=' ', names=['true', 'predicted']\n",
    ")\n",
    "colorDict = {\n",
    "    'apple':'#f71b1b',\n",
    "    'blueberry':'#1b7ef7',\n",
    "    'banana':'#f3f71b',\n",
    "    'lime':'#12e23f',\n",
    "    'orange':'#f78c1b'\n",
    "}\n",
    "sankey.sankey(\n",
    "    df['true'], df['predicted'], aspect=20, colorDict=colorDict,\n",
    "    fontsize=12, figureName=None\n",
    ")\n",
    "# Result is in \"fruit.png\""
   ]
  },
  {
   "cell_type": "code",
   "execution_count": null,
   "metadata": {},
   "outputs": [],
   "source": [
    "df['true'].value_counts()"
   ]
  },
  {
   "cell_type": "code",
   "execution_count": null,
   "metadata": {},
   "outputs": [],
   "source": [
    "df['predicted'].value_counts()"
   ]
  },
  {
   "cell_type": "code",
   "execution_count": null,
   "metadata": {},
   "outputs": [],
   "source": [
    "df = pd.read_csv(\n",
    "    'customers-goods.csv', sep=',',\n",
    "    names=['id', 'customer', 'good', 'revenue']\n",
    ")\n",
    "df = df.drop(0)\n",
    "df.index = df['id']\n",
    "df = df.drop(['id'], axis=1)\n",
    "df['revenue'] = df['revenue'].apply(float)\n",
    "sankey.sankey(\n",
    "    left=df['customer'], right=df['good'], rightWeight=df['revenue'], aspect=20,\n",
    "    fontsize=20, figureName=None\n",
    ")\n",
    "# Result is in \"customer-good.png\""
   ]
  }
 ],
 "metadata": {
  "kernelspec": {
   "display_name": "Python 3",
   "language": "python",
   "name": "python3"
  },
  "language_info": {
   "codemirror_mode": {
    "name": "ipython",
    "version": 3
   },
   "file_extension": ".py",
   "mimetype": "text/x-python",
   "name": "python",
   "nbconvert_exporter": "python",
   "pygments_lexer": "ipython3",
   "version": "3.6.5"
  }
 },
 "nbformat": 4,
 "nbformat_minor": 2
}
