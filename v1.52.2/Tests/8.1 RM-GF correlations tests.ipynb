{
 "cells": [
  {
   "cell_type": "markdown",
   "metadata": {},
   "source": [
    "# 8.1 RM-GF correlations tests"
   ]
  },
  {
   "cell_type": "code",
   "execution_count": null,
   "metadata": {
    "scrolled": true
   },
   "outputs": [],
   "source": [
    "%run \"../Functions/8. RM-GF correlations.ipynb\""
   ]
  },
  {
   "cell_type": "code",
   "execution_count": null,
   "metadata": {},
   "outputs": [],
   "source": [
    "allData = allDataPlaytestPhase1PretestPosttestUniqueProfilesVolunteers.copy()"
   ]
  },
  {
   "cell_type": "markdown",
   "metadata": {},
   "source": [
    "# Correlation between max chapter and answers"
   ]
  },
  {
   "cell_type": "markdown",
   "metadata": {},
   "source": [
    "## method 1: correlation matrix\n",
    "\n",
    "index: question groups\n",
    "    \n",
    "columns: RedMetrics parameters"
   ]
  },
  {
   "cell_type": "code",
   "execution_count": null,
   "metadata": {},
   "outputs": [],
   "source": [
    "question groups"
   ]
  },
  {
   "cell_type": "code",
   "execution_count": null,
   "metadata": {},
   "outputs": [],
   "source": [
    "def getScoresOnQuestionsFromAllData(allData, Qs):"
   ]
  },
  {
   "cell_type": "markdown",
   "metadata": {},
   "source": [
    "## method 2\n",
    "\n",
    "use max chapter or <= max chapter?"
   ]
  },
  {
   "cell_type": "code",
   "execution_count": null,
   "metadata": {},
   "outputs": [],
   "source": [
    "correctPerMaxChapter = pd.DataFrame(index = posttestScientificQuestions, columns = range(15))"
   ]
  },
  {
   "cell_type": "code",
   "execution_count": null,
   "metadata": {},
   "outputs": [],
   "source": [
    "allData.loc[:, allData.loc['maxChapter', :] == 10].columns"
   ]
  },
  {
   "cell_type": "code",
   "execution_count": null,
   "metadata": {},
   "outputs": [],
   "source": [
    "# when reaching checkpoint N, what is the rate of good answer for question Q?\n",
    "maxCheckpointsDF = pd.DataFrame(index = ['maxCh'], columns=range(15))\n",
    "\n",
    "for chapter in allData.loc['maxChapter', :].unique():\n",
    "    eltsCount = len(allData.loc[:, allData.loc['maxChapter', :] == chapter].columns)\n",
    "    maxCheckpointsDF.loc['maxCh', chapter] = eltsCount\n",
    "    for q in posttestScientificQuestions:\n",
    "        interestingElts = allData.loc[q, allData.loc['maxChapter', :] == chapter]\n",
    "        scoreSum = interestingElts.sum()\n",
    "        correctPerMaxChapter.loc[q, chapter] = int(scoreSum * 100 / eltsCount)\n",
    "correctPerMaxChapterNotNan = correctPerMaxChapter.fillna(-1)\n",
    "\n",
    "_fig1 = plt.figure(figsize=(20,20))\n",
    "_ax1 = plt.subplot(111)\n",
    "_ax1.set_title(\"maxCheckpointsDF\")\n",
    "sns.heatmap(\n",
    "    correctPerMaxChapterNotNan,\n",
    "    ax=_ax1,\n",
    "    cmap=plt.cm.jet,\n",
    "    square=True,\n",
    "    annot=True,\n",
    "    fmt='d',\n",
    ")\n",
    "\n",
    "\n",
    "maxCheckpointsDFNotNan = maxCheckpointsDF.fillna(0)\n",
    "\n",
    "_fig2 = plt.figure(figsize=(14,2))\n",
    "_ax2 = plt.subplot(111)\n",
    "_ax2.set_title(\"maxCheckpointsDF\")\n",
    "sns.heatmap(\n",
    "            maxCheckpointsDFNotNan,\n",
    "            ax=_ax2,\n",
    "            cmap=plt.cm.jet,\n",
    "            square=True,\n",
    "            annot=True,\n",
    "            fmt='d',\n",
    "        )"
   ]
  },
  {
   "cell_type": "code",
   "execution_count": null,
   "metadata": {},
   "outputs": [],
   "source": [
    "corrChapterScQDF = pd.DataFrame(index=posttestScientificQuestions, columns=['corr'])\n",
    "\n",
    "# when reaching checkpoint N, what is the rate of good answer for question Q?\n",
    "for q in posttestScientificQuestions:\n",
    "    corrChapterScQDF.loc[q, 'corr'] = np.corrcoef(allData.loc[q,:].values, allData.loc['maxChapter',:].values)[1,0]\n",
    "\n",
    "corrChapterScQDFNotNan = corrChapterScQDF.fillna(-2)\n",
    "\n",
    "_fig1 = plt.figure(figsize=(14,10))\n",
    "_ax1 = plt.subplot(111)\n",
    "_ax1.set_title(\"corrChapterScQDFNotNan\")\n",
    "sns.heatmap(\n",
    "            corrChapterScQDFNotNan,\n",
    "            ax=_ax1,\n",
    "            cmap=plt.cm.jet,\n",
    "            square=True,\n",
    "            annot=True,\n",
    "            fmt='.2f',\n",
    "            vmin=-1,\n",
    "            vmax=1,\n",
    "        )"
   ]
  },
  {
   "cell_type": "code",
   "execution_count": null,
   "metadata": {},
   "outputs": [],
   "source": []
  },
  {
   "cell_type": "markdown",
   "metadata": {},
   "source": [
    "# Clustering answers to find underlying correlation with RedMetrics data"
   ]
  },
  {
   "cell_type": "code",
   "execution_count": null,
   "metadata": {},
   "outputs": [],
   "source": [
    "from sklearn.cluster import KMeans\n",
    "from sklearn.neighbors.kde import KernelDensity"
   ]
  },
  {
   "cell_type": "code",
   "execution_count": null,
   "metadata": {},
   "outputs": [],
   "source": [
    "X = np.array([[0.9], [1], [1.1], [4], [4.1], [4.2], [5]])\n",
    "kmeans = KMeans(n_clusters=2, random_state=0).fit(X)\n",
    "kmeans.inertia_"
   ]
  },
  {
   "cell_type": "code",
   "execution_count": null,
   "metadata": {},
   "outputs": [],
   "source": [
    "kmeans.labels_"
   ]
  },
  {
   "cell_type": "code",
   "execution_count": null,
   "metadata": {},
   "outputs": [],
   "source": [
    "kmeans.cluster_centers_"
   ]
  },
  {
   "cell_type": "code",
   "execution_count": null,
   "metadata": {},
   "outputs": [],
   "source": [
    "kmeans.predict([[3], [4]])"
   ]
  },
  {
   "cell_type": "code",
   "execution_count": null,
   "metadata": {},
   "outputs": [],
   "source": [
    "inertiaThreshold = 1"
   ]
  },
  {
   "cell_type": "code",
   "execution_count": null,
   "metadata": {
    "scrolled": true
   },
   "outputs": [],
   "source": [
    "for question in scientificQuestions:\n",
    "    posttestQuestion = answerTemporalities[1] + \" \" + question\n",
    "    #deltaQuestion = delta + \" \" + question\n",
    "    allDataPlaytestPhase1PretestPosttestUniqueProfilesVolunteers.loc[posttestQuestion, :]"
   ]
  },
  {
   "cell_type": "code",
   "execution_count": null,
   "metadata": {},
   "outputs": [],
   "source": [
    "X = [[x] for x in allDataPlaytestPhase1PretestPosttestUniqueProfilesVolunteers.loc[posttestQuestion, :].values]\n",
    "clusterCount = 3\n",
    "kmeans = KMeans(n_clusters=clusterCount, random_state=0).fit(X)\n",
    "if len(np.unique(kmeans.labels_)) != clusterCount:\n",
    "    print(\"incorrect number of clusters\")\n",
    "kmeans.inertia_"
   ]
  },
  {
   "cell_type": "code",
   "execution_count": null,
   "metadata": {},
   "outputs": [],
   "source": []
  },
  {
   "cell_type": "markdown",
   "metadata": {},
   "source": [
    "## Clustering using KernelDensity"
   ]
  },
  {
   "cell_type": "code",
   "execution_count": null,
   "metadata": {},
   "outputs": [],
   "source": [
    "X = np.array([[-1], [-2], [-3], [1], [2], [3]])\n",
    "kde = KernelDensity(kernel='gaussian', bandwidth=0.2).fit(X)\n",
    "kde.score_samples(X)"
   ]
  },
  {
   "cell_type": "code",
   "execution_count": null,
   "metadata": {},
   "outputs": [],
   "source": [
    "X = np.array([-1, -2, -3, 1, 2, 3])\n",
    "kde = KernelDensity(kernel='gaussian', bandwidth=0.2).fit(X.reshape(-1, 1))\n",
    "kde.score_samples(X.reshape(-1, 1))\n",
    "X.reshape(-1, 1)"
   ]
  }
 ],
 "metadata": {
  "kernelspec": {
   "display_name": "Python 3",
   "language": "python",
   "name": "python3"
  },
  "language_info": {
   "codemirror_mode": {
    "name": "ipython",
    "version": 3
   },
   "file_extension": ".py",
   "mimetype": "text/x-python",
   "name": "python",
   "nbconvert_exporter": "python",
   "pygments_lexer": "ipython3",
   "version": "3.6.5"
  }
 },
 "nbformat": 4,
 "nbformat_minor": 2
}
