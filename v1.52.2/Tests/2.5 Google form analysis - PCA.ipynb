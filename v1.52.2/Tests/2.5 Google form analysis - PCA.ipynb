{
 "cells": [
  {
   "cell_type": "markdown",
   "metadata": {},
   "source": [
    "# Google form analysis tests\n",
    "\n",
    "Purpose: determine in what extent the current data can accurately describe correlations, underlying factors on the score.\n",
    "Especially concerning the answerTemporalities[0] groups: are there underlying groups explaining the discrepancies in score? Are those groups tied to certain questions?\n",
    "\n",
    "## Table of Contents\n",
    "\n",
    "\n",
    "[Sorted total answers to questions](#sortedtotalanswers)\n",
    "\n",
    "[Cross-samples t-tests](#crossttests)\n",
    "\n",
    "   - [biologists vs non-biologists](#biologistsvsnonbiologists)\n",
    "   \n",
    "   - [biologists vs non-biologists *before*](#biologistsvsnonbiologistsbefore)\n",
    "   \n",
    "[PCAs](#PCAs)\n",
    "<br>\n",
    "<br>\n",
    "<br>\n",
    "<br>"
   ]
  },
  {
   "cell_type": "code",
   "execution_count": null,
   "metadata": {},
   "outputs": [],
   "source": [
    "%run \"../Functions/2.1 2018-04-10 Playtest.ipynb\""
   ]
  },
  {
   "cell_type": "markdown",
   "metadata": {},
   "source": [
    "## PCAs\n",
    "<a id=PCAs />"
   ]
  },
  {
   "cell_type": "markdown",
   "metadata": {},
   "source": [
    "Purpose: find out which questions have the more weight in the computation of the score.\n",
    "\n",
    "\n",
    "Other leads: LDA, ANOVA.\n",
    "\n",
    "\n",
    "Source for PCA: http://sebastianraschka.com/Articles/2015_pca_in_3_steps.html"
   ]
  },
  {
   "cell_type": "code",
   "execution_count": null,
   "metadata": {},
   "outputs": [],
   "source": [
    "# all\n",
    "#sampledForm = gform.copy()\n",
    "# only pairs\n",
    "#sampledForm = getPerfectPretestPostestPairs(gform)\n",
    "# in the pairs, only volunteers\n",
    "#sampledForm = sampledForm[~sampledForm[QVolunteer].isin(yesNoPositives)]\n",
    "# playtest's perfect pairs of phase 1\n",
    "#sampledForm = samplePlaytestPretestPosttestUniqueProfilesPhase1.copy()\n",
    "# only the volunteers of this sample\n",
    "sampledForm = samplePlaytestPretestPosttestUniqueProfilesVolunteersPhase1.copy()\n",
    "# only the pretests\n",
    "pretests = sampledForm[sampledForm[QTemporality] == answerTemporalities[0]]\n",
    "#sampledForm = pretests\n",
    "# only the posttests\n",
    "posttests = sampledForm[sampledForm[QTemporality] == answerTemporalities[1]]\n",
    "#sampledForm = posttests\n",
    "\n",
    "pretestPosttestConcatenation = True\n",
    "\n",
    "sampledForm.index = range(0, len(sampledForm))\n",
    "len(sampledForm)"
   ]
  },
  {
   "cell_type": "code",
   "execution_count": null,
   "metadata": {},
   "outputs": [],
   "source": [
    "if not pretestPosttestConcatenation:\n",
    "    len(sampledForm[sampledForm[QTemporality] == answerTemporalities[0]]),\\\n",
    "    len(sampledForm[sampledForm[QTemporality] == answerTemporalities[1]]),\\\n",
    "    len(sampledForm)"
   ]
  },
  {
   "cell_type": "code",
   "execution_count": null,
   "metadata": {},
   "outputs": [],
   "source": [
    "if pretestPosttestConcatenation:\n",
    "    \n",
    "    pretests = pretests.sort_values(by=QUserId)\n",
    "    pretests.index = range(0, len(pretests))\n",
    "    posttests = posttests.sort_values(by=QUserId)\n",
    "    posttests.index = range(0, len(posttests))\n",
    "    \n",
    "    pretestsbinarized = getAllBinarized(_form = pretests)\n",
    "    pretestsbinarized.index = pretests.index\n",
    "    posttestsbinarized = getAllBinarized(_form = posttests)\n",
    "    posttestsbinarized.index = posttests.index\n",
    "else:\n",
    "    binarized = getAllBinarized(_form = sampledForm)\n",
    "    binarized.index = sampledForm.index"
   ]
  },
  {
   "cell_type": "code",
   "execution_count": null,
   "metadata": {},
   "outputs": [],
   "source": [
    "if pretestPosttestConcatenation:\n",
    "    pretestQPrefix = \"pretest_\"\n",
    "    pretestsbinarized.columns  = [pretestQPrefix  + x for x in pretestsbinarized.columns.values]\n",
    "    pretests.columns           = [pretestQPrefix  + x for x in pretests.columns.values]\n",
    "\n",
    "    posttestQPrefix = \"posttest_\"\n",
    "    posttestsbinarized.columns = [posttestQPrefix + x for x in posttestsbinarized.columns.values]\n",
    "    posttests.columns          = [posttestQPrefix + x for x in posttests.columns.values]\n",
    "    \n",
    "    binarized = pd.concat([pretestsbinarized,posttestsbinarized],axis=1)\n",
    "    sampledForm = pd.concat([pretests,posttests],axis=1)\n",
    "    len(binarized)"
   ]
  },
  {
   "cell_type": "code",
   "execution_count": null,
   "metadata": {},
   "outputs": [],
   "source": [
    "sampledForm.shape, binarized.shape"
   ]
  },
  {
   "cell_type": "code",
   "execution_count": null,
   "metadata": {},
   "outputs": [],
   "source": [
    "if pretestPosttestConcatenation:\n",
    "    scorePretest = np.dot(pretestsbinarized,np.ones(len(pretestsbinarized.columns)))\n",
    "    scorePosttest = np.dot(posttestsbinarized,np.ones(len(posttestsbinarized.columns)))\n",
    "    scoreTotal = scorePretest + scorePosttest\n",
    "    score = scorePretest\n",
    "else:\n",
    "    score = np.dot(binarized,np.ones(len(binarized.columns)))"
   ]
  },
  {
   "cell_type": "code",
   "execution_count": null,
   "metadata": {},
   "outputs": [],
   "source": [
    "dimensions = binarized.shape[1]\n",
    "dimensions"
   ]
  },
  {
   "cell_type": "code",
   "execution_count": null,
   "metadata": {},
   "outputs": [],
   "source": [
    "binarized['class'] = 'default'"
   ]
  },
  {
   "cell_type": "code",
   "execution_count": null,
   "metadata": {},
   "outputs": [],
   "source": [
    "# split data table into data X and class labels y\n",
    "\n",
    "X = binarized.iloc[:,0:dimensions].values\n",
    "y = binarized.iloc[:,dimensions].values"
   ]
  },
  {
   "cell_type": "markdown",
   "metadata": {},
   "source": [
    "### Standardizing"
   ]
  },
  {
   "cell_type": "code",
   "execution_count": null,
   "metadata": {},
   "outputs": [],
   "source": [
    "from sklearn.preprocessing import StandardScaler\n",
    "X_std = StandardScaler().fit_transform(X)"
   ]
  },
  {
   "cell_type": "markdown",
   "metadata": {},
   "source": [
    "## 1 - Eigendecomposition - Computing Eigenvectors and Eigenvalues"
   ]
  },
  {
   "cell_type": "markdown",
   "metadata": {},
   "source": [
    "### Covariance Matrix"
   ]
  },
  {
   "cell_type": "code",
   "execution_count": null,
   "metadata": {
    "scrolled": false
   },
   "outputs": [],
   "source": [
    "mean_vec = np.mean(X_std, axis=0)\n",
    "cov_mat = (X_std - mean_vec).T.dot((X_std - mean_vec)) / (X_std.shape[0]-1)\n",
    "print('Covariance matrix \\n%s' %cov_mat)"
   ]
  },
  {
   "cell_type": "code",
   "execution_count": null,
   "metadata": {
    "scrolled": false
   },
   "outputs": [],
   "source": [
    "print('NumPy covariance matrix: \\n%s' %np.cov(X_std.T))"
   ]
  },
  {
   "cell_type": "markdown",
   "metadata": {},
   "source": [
    "#### eigendecomposition on the covariance matrix:"
   ]
  },
  {
   "cell_type": "code",
   "execution_count": null,
   "metadata": {},
   "outputs": [],
   "source": [
    "cov_mat = np.cov(X_std.T)\n",
    "eig_vals, eig_vecs = np.linalg.eig(cov_mat)\n",
    "\n",
    "#print('Eigenvectors \\n%s' %eig_vecs)\n",
    "print('\\nEigenvalues \\n%s' %eig_vals)"
   ]
  },
  {
   "cell_type": "markdown",
   "metadata": {},
   "source": [
    "### Correlation Matrix\n",
    "\n",
    "#### Eigendecomposition of the standardized data based on the correlation matrix:"
   ]
  },
  {
   "cell_type": "code",
   "execution_count": null,
   "metadata": {
    "scrolled": false
   },
   "outputs": [],
   "source": [
    "cor_mat1 = np.corrcoef(X_std.T)\n",
    "if not pd.isnull(cor_mat1).any():\n",
    "    eig_vals, eig_vecs = np.linalg.eig(cor_mat1)\n",
    "\n",
    "#print('Eigenvectors \\n%s' %eig_vecs)\n",
    "print('\\nEigenvalues \\n%s' %eig_vals)"
   ]
  },
  {
   "cell_type": "markdown",
   "metadata": {},
   "source": [
    "#### Eigendecomposition of the raw data based on the correlation matrix:"
   ]
  },
  {
   "cell_type": "markdown",
   "metadata": {},
   "source": [
    "cor_mat2 = np.corrcoef(binarized.T)\n",
    "eig_vals, eig_vecs = np.linalg.eig(cor_mat2)\n",
    "\n",
    "#print('Eigenvectors \\n%s' %eig_vecs)\n",
    "print('\\nEigenvalues \\n%s' %eig_vals)"
   ]
  },
  {
   "cell_type": "markdown",
   "metadata": {},
   "source": [
    "### Singular Vector Decomposition"
   ]
  },
  {
   "cell_type": "code",
   "execution_count": null,
   "metadata": {},
   "outputs": [],
   "source": [
    "u,s,v = np.linalg.svd(X_std.T)"
   ]
  },
  {
   "cell_type": "code",
   "execution_count": null,
   "metadata": {},
   "outputs": [],
   "source": [
    "s"
   ]
  },
  {
   "cell_type": "markdown",
   "metadata": {},
   "source": [
    "## 2 - Selecting Principal Components"
   ]
  },
  {
   "cell_type": "code",
   "execution_count": null,
   "metadata": {},
   "outputs": [],
   "source": [
    "for ev in eig_vecs:\n",
    "    np.testing.assert_array_almost_equal(1.0, np.linalg.norm(ev))\n",
    "print('Everything ok!')"
   ]
  },
  {
   "cell_type": "code",
   "execution_count": null,
   "metadata": {},
   "outputs": [],
   "source": [
    "# Make a list of (eigenvalue, eigenvector) tuples\n",
    "eig_pairs = [(np.abs(eig_vals[i]), list(eig_vecs[:,i])) for i in range(len(eig_vals))]\n",
    "\n",
    "# Sort the (eigenvalue, eigenvector) tuples from high to low\n",
    "eig_pairs.sort()\n",
    "eig_pairs.reverse()\n",
    "\n",
    "# Visually confirm that the list is correctly sorted by decreasing eigenvalues\n",
    "print('Eigenvalues in descending order:')\n",
    "for i in eig_pairs:\n",
    "    print(i[0])"
   ]
  },
  {
   "cell_type": "code",
   "execution_count": null,
   "metadata": {},
   "outputs": [],
   "source": [
    "if False:\n",
    "    #saved_eig_pairs = eig_pairs.copy()\n",
    "    \n",
    "    np.array([len(x) for x in eig_pairs])\n",
    "\n",
    "    np.array([len(x[1]) for x in eig_pairs])\n",
    "\n",
    "    np.array([type(x[1]) for x in eig_pairs])\n",
    "\n",
    "    #np.array([len(x) for x in saved_eig_pairs])\n",
    "\n",
    "    #np.array([len(x[1]) for x in saved_eig_pairs])\n",
    "\n",
    "    #np.array([type(x[1]) for x in saved_eig_pairs])\n",
    "\n",
    "    #saved_eig_pairs[0]\n",
    "\n",
    "    eig_pairs[0]\n",
    "\n",
    "    np.array([pd.isnull(x[1]).any() for x in saved_eig_pairs]).any(),np.array([pd.isnull(x[1]).any() for x in eig_pairs]).any()"
   ]
  },
  {
   "cell_type": "code",
   "execution_count": null,
   "metadata": {},
   "outputs": [],
   "source": [
    "tot = sum(eig_vals)\n",
    "var_exp = [(i / tot)*100 for i in sorted(eig_vals, reverse=True)]\n",
    "cum_var_exp = np.cumsum(var_exp)\n",
    "\n",
    "with plt.style.context('seaborn-whitegrid'):\n",
    "    plt.figure(figsize=(6, 4))\n",
    "\n",
    "    plt.bar(range(dimensions), var_exp, alpha=0.5, align='center',\n",
    "            label='individual explained variance')\n",
    "    plt.step(range(dimensions), cum_var_exp, where='mid',\n",
    "             label='cumulative explained variance')\n",
    "    plt.ylabel('Explained variance ratio')\n",
    "    plt.xlabel('Principal components')\n",
    "    plt.legend(loc='best')\n",
    "    plt.tight_layout()"
   ]
  },
  {
   "cell_type": "code",
   "execution_count": null,
   "metadata": {},
   "outputs": [],
   "source": [
    "var_exp[:5]"
   ]
  },
  {
   "cell_type": "code",
   "execution_count": null,
   "metadata": {},
   "outputs": [],
   "source": [
    "cum_var_exp[:5]"
   ]
  },
  {
   "cell_type": "markdown",
   "metadata": {},
   "source": [
    "### Projection Matrix"
   ]
  },
  {
   "cell_type": "code",
   "execution_count": null,
   "metadata": {
    "scrolled": true
   },
   "outputs": [],
   "source": [
    "matrix_w = np.hstack((np.array(eig_pairs[0][1]).reshape(dimensions,1),\n",
    "                      np.array(eig_pairs[1][1]).reshape(dimensions,1)))\n",
    "\n",
    "print('Matrix W:\\n', matrix_w)"
   ]
  },
  {
   "cell_type": "markdown",
   "metadata": {},
   "source": [
    "## 3 - Projection Onto the New Feature Space"
   ]
  },
  {
   "cell_type": "code",
   "execution_count": null,
   "metadata": {
    "scrolled": true
   },
   "outputs": [],
   "source": [
    "basecolors = ('green','red','blue','magenta','cyan','purple','yellow','black','white')\n",
    "colors = basecolors\n",
    "len(colors)"
   ]
  },
  {
   "cell_type": "code",
   "execution_count": null,
   "metadata": {},
   "outputs": [],
   "source": [
    "Y = X_std.dot(matrix_w)"
   ]
  },
  {
   "cell_type": "code",
   "execution_count": null,
   "metadata": {},
   "outputs": [],
   "source": [
    "with plt.style.context('seaborn-whitegrid'):\n",
    "    plt.figure(figsize=(6, 4))\n",
    "    ax = plt.subplot(111)\n",
    "    plt.scatter(Y[:, 0], Y[:, 1])\n",
    "    plt.xlabel('Principal Component 1')\n",
    "    plt.ylabel('Principal Component 2')\n",
    "    plt.title(\"base PCA\")\n",
    "    plt.show()"
   ]
  },
  {
   "cell_type": "markdown",
   "metadata": {},
   "source": [
    "## classifyAndPlot"
   ]
  },
  {
   "cell_type": "code",
   "execution_count": null,
   "metadata": {},
   "outputs": [],
   "source": [
    "# creates a scatter plot using different colors for different classes\n",
    "# answerIndices: index of 'sampledForm' and 'binarized' DataFrames\n",
    "# Y: 2D position in PCA for answers\n",
    "# classNames: list of class names\n",
    "# classes: list of series of class-index indexed UserIds\n",
    "# title: str\n",
    "# rainbow: whether to use rainbow colors\n",
    "# figsize: for matplotlib\n",
    "def classifyAndPlot(answerIndices, Y, classNames, classes, title = '', rainbow = False, figsize = (12, 8)):\n",
    "    %matplotlib nbagg\n",
    "    defaultClassName = ''\n",
    "\n",
    "    sampleSize = 0\n",
    "    # sets the name of the default class\n",
    "    for classIndex in range(0, len(classes)):\n",
    "        sampleSize += len(classes[classIndex])\n",
    "    if(sampleSize < len(answerIndices)):\n",
    "        if(len(classNames) == len(classes) + 1):\n",
    "            defaultClassName = classNames[-1]\n",
    "        else:\n",
    "            defaultClassName = 'other'\n",
    "            classNames.append(defaultClassName)\n",
    "\n",
    "    # y is the 'class' container\n",
    "    y = pd.Series(index = answerIndices, data = defaultClassName)\n",
    "\n",
    "    # set the class of each answer\n",
    "    for classIndex in range(0, len(classes)):\n",
    "        y[classes[classIndex]] = classNames[classIndex]\n",
    "\n",
    "    if (defaultClassName in y.values) and (not (defaultClassName in classNames)):\n",
    "        print(\"unexpected error: check the exhaustiveness of the provided classes\")\n",
    "\n",
    "    with plt.style.context('seaborn-whitegrid'):\n",
    "\n",
    "        plots = pd.Series()\n",
    "        # update function to control the alpha channel\n",
    "        def updateAlpha(alpha):\n",
    "            if(len(plots) > 0):\n",
    "                for lab in classNames:\n",
    "                    plots.loc[lab].set_alpha(alpha)\n",
    "                    \n",
    "                proxyArtists = []\n",
    "                for lab, col in zip(classNames,colors):\n",
    "                    proxyArtists.append(plt.scatter([], [], label=lab, c=col, alpha=alpha, marker='o', s=150))\n",
    "                    \n",
    "                plots.loc[classNames[0]].axes.legend(proxyArtists, classNames, loc='center left', bbox_to_anchor=(1, 0.5))\n",
    "                plt.show()\n",
    "\n",
    "        # creates the slider to control the alpha channel\n",
    "        interact(updateAlpha, alpha=(0.0,1.0,0.01));\n",
    "        \n",
    "        thisFigure = plt.figure(figsize=figsize)\n",
    "        ax = plt.subplot(111)\n",
    "\n",
    "        colors = basecolors\n",
    "        if (rainbow or len(classNames) > len(colors)):\n",
    "            colors = plt.cm.rainbow(np.linspace(1, 0, len(classNames)))\n",
    "        colors = colors[:len(classNames)]\n",
    "\n",
    "        for lab, col in zip(classNames,colors):\n",
    "            # y == lab is a selector:\n",
    "            # Y[y==lab, 0] selects all Y.x of class lab\n",
    "            # Y[y==lab, 0] selects all Y.y of class lab\n",
    "\n",
    "            xvalues = Y[y==lab, 0]\n",
    "            yvalues = Y[y==lab, 1]\n",
    "\n",
    "            #print(\"'\" + str(lab) + \"': \" + str(len(xvalues)) + \" values in \" + str(col))\n",
    "\n",
    "            plots.loc[lab] = plt.scatter( xvalues,\n",
    "                                        yvalues,\n",
    "                                        label=lab,\n",
    "                                        c=[col],\n",
    "                                        alpha=0.2,\n",
    "                                        s=150\n",
    "                                            )\n",
    "            \n",
    "            #print(\"scatter classes: [\" + '; '.join(interactiveGraphClassNames) + \"]\")\n",
    "            \n",
    "        plt.xlabel('Principal Component 1')\n",
    "        plt.ylabel('Principal Component 2')\n",
    "\n",
    "        # source https://stackoverflow.com/questions/4700614/how-to-put-the-legend-out-of-the-plot\n",
    "        # Put a legend to the right of the current axis\n",
    "        ax.legend(loc='center left', bbox_to_anchor=(1, 0.5))\n",
    "\n",
    "        if(len(title) > 0):\n",
    "            plt.title(title)\n",
    "        plt.show()\n",
    "        return plots"
   ]
  },
  {
   "cell_type": "markdown",
   "metadata": {},
   "source": [
    "## interactive classifyAndPlot"
   ]
  },
  {
   "cell_type": "code",
   "execution_count": null,
   "metadata": {
    "scrolled": false
   },
   "outputs": [],
   "source": [
    "def updateQuestionIndex(q):\n",
    "    question = sampledForm.columns[q]\n",
    "    print(\"question \" + str(q) + \": \" + question)\n",
    "    classNames = []\n",
    "    classes = []\n",
    "    for answer in sampledForm[question].value_counts(dropna = False).index:\n",
    "        classNames.append(str(answer))\n",
    "        classes.append(sampledForm[sampledForm[question].apply(str) == str(answer)].index)\n",
    "    classifyAndPlot(sampledForm.index, Y, classNames, classes, title = question, rainbow = False)\n",
    "\n",
    "#interact(updateQuestionIndex, q=(0,len(sampledForm.columns),1));"
   ]
  },
  {
   "cell_type": "code",
   "execution_count": null,
   "metadata": {},
   "outputs": [],
   "source": [
    "#updateQuestionIndex(q)"
   ]
  },
  {
   "cell_type": "markdown",
   "metadata": {},
   "source": [
    "## complexClassifyAndPlot"
   ]
  },
  {
   "cell_type": "markdown",
   "metadata": {},
   "source": [
    "### common variables"
   ]
  },
  {
   "cell_type": "code",
   "execution_count": null,
   "metadata": {},
   "outputs": [],
   "source": [
    "interactiveY = Y.copy()\n",
    "interactivey = []\n",
    "\n",
    "# the list of unique colors used\n",
    "interactiveColors = []\n",
    "\n",
    "interactiveGraphClassNames = []\n",
    "interactiveGraphClasses = []\n",
    "interactiveGraphPlots = np.nan\n",
    "interactiveFigure = np.nan\n",
    "interactiveGraphAx = np.nan\n",
    "\n",
    "questionInteractive = np.nan\n",
    "alphaInteractive = np.nan\n",
    "\n",
    "interactiveTitle = ''"
   ]
  },
  {
   "cell_type": "markdown",
   "metadata": {},
   "source": [
    "### classPreprocess"
   ]
  },
  {
   "cell_type": "code",
   "execution_count": null,
   "metadata": {},
   "outputs": [],
   "source": [
    "if pretestPosttestConcatenation:\n",
    "    pretestPossibleAnswers = possibleAnswers.copy()\n",
    "    pretestPossibleAnswers.index = pretests.columns\n",
    "    posttestPossibleAnswers = possibleAnswers.copy()\n",
    "    posttestPossibleAnswers.index = posttests.columns\n",
    "\n",
    "    possibleAnswersConcat = pd.concat([pretestPossibleAnswers, posttestPossibleAnswers], axis = 0)"
   ]
  },
  {
   "cell_type": "code",
   "execution_count": null,
   "metadata": {},
   "outputs": [],
   "source": [
    "def classPreprocess(sampledForm, question, answersToCheckAgainst = possibleAnswers):\n",
    "    global interactiveGraphClassNames, interactiveGraphClasses\n",
    "    \n",
    "    if pretestPosttestConcatenation:\n",
    "        answersToCheckAgainst = possibleAnswersConcat\n",
    "    \n",
    "    interactiveGraphClassNames = []\n",
    "    interactiveGraphClasses = []\n",
    "    \n",
    "    if len(answersToCheckAgainst[question]) > 0:\n",
    "        interactiveGraphClassNames = answersToCheckAgainst[question].copy()\n",
    "    else:\n",
    "        interactiveGraphClassNames = [str(x) for x in sampledForm[question].unique()]\n",
    "        interactiveGraphClassNames.sort()\n",
    "    \n",
    "    for answer in interactiveGraphClassNames:\n",
    "        interactiveGraphClasses.append(sampledForm[sampledForm[question].apply(str) == answer].index)"
   ]
  },
  {
   "cell_type": "markdown",
   "metadata": {},
   "source": [
    "### commonClassProcess"
   ]
  },
  {
   "cell_type": "code",
   "execution_count": null,
   "metadata": {},
   "outputs": [],
   "source": [
    "def commonClassProcess(sampledForm):\n",
    "    global interactivey\n",
    "    global interactiveGraphClassNames, interactiveGraphClasses\n",
    "        \n",
    "    defaultClassName = ''\n",
    "\n",
    "    sampleSize = 0\n",
    "    # sets the name of the default class\n",
    "    for classIndex in range(0, len(interactiveGraphClasses)):\n",
    "        sampleSize += len(interactiveGraphClasses[classIndex])\n",
    "    if(sampleSize < len(sampledForm.index)):\n",
    "        if(len(interactiveGraphClassNames) == len(interactiveGraphClasses) + 1):\n",
    "            defaultClassName = interactiveGraphClassNames[-1]\n",
    "        else:\n",
    "            defaultClassName = 'other'\n",
    "            interactiveGraphClassNames.append(defaultClassName)\n",
    "\n",
    "    # y is the 'class' container\n",
    "    interactivey = pd.Series(index = sampledForm.index, data = defaultClassName)\n",
    "\n",
    "    # set the class of each answer\n",
    "    for classIndex in range(0, len(interactiveGraphClasses)):\n",
    "        interactivey[interactiveGraphClasses[classIndex]] = interactiveGraphClassNames[classIndex]\n",
    "\n",
    "    if (defaultClassName in interactivey.values) and (not (defaultClassName in interactiveGraphClassNames)):\n",
    "        print(\"unexpected error: check the exhaustiveness of the provided classes\")"
   ]
  },
  {
   "cell_type": "markdown",
   "metadata": {},
   "source": [
    "### plotClasses"
   ]
  },
  {
   "cell_type": "code",
   "execution_count": null,
   "metadata": {},
   "outputs": [],
   "source": [
    "def plotClasses(rainbow):\n",
    "    global interactiveColors\n",
    "    global interactiveY, interactivey\n",
    "    global interactiveGraphClassNames\n",
    "    global interactiveGraphPlots, interactiveGraphAx\n",
    "    \n",
    "    interactiveColors = basecolors\n",
    "    if (rainbow or len(interactiveGraphClassNames) > len(interactiveColors)):\n",
    "        interactiveColors = plt.cm.rainbow(np.linspace(1, 0, len(interactiveGraphClassNames)))\n",
    "    interactiveColors = interactiveColors[:len(interactiveGraphClassNames)]\n",
    "\n",
    "    if pd.isnull(interactiveGraphPlots):\n",
    "        \n",
    "        interactiveGraphPlots = plt.scatter( interactiveY[:, 0],\n",
    "                                            interactiveY[:, 1],\n",
    "                                            label='-',\n",
    "                                            c='yellow',\n",
    "                                            alpha=alphaInteractive.value,\n",
    "                                            s=150\n",
    "                                        )\n",
    "        \n",
    "        plt.xlabel('Principal Component 1')\n",
    "        plt.ylabel('Principal Component 2')\n",
    "\n",
    "    #print(\"scatter classes: [\" + '; '.join(interactiveGraphClassNames) + \"]\")\n",
    "    fullColors = interactivey.copy()\n",
    "    proxyArtists = []\n",
    "    for lab, col in zip(interactiveGraphClassNames,interactiveColors):\n",
    "        fullColors[fullColors == lab] = pd.Series([col], index = fullColors[fullColors == lab].index)\n",
    "        proxyArtists.append(plt.scatter([],\n",
    "                                        [],\n",
    "                                        label=lab,\n",
    "                                        c=col,\n",
    "                                        alpha=alphaInteractive.value,\n",
    "                                        s=150\n",
    "                                       ))\n",
    "\n",
    "    interactiveGraphPlots.set_color(fullColors)\n",
    "    #print(\"for classes: [\" + '; '.join(interactiveGraphClassNames) + \"]: \\n\\tfullcolors=[\" + '; '.join(fullColors) + \"]\")\n",
    "    # source https://stackoverflow.com/questions/4700614/how-to-put-the-legend-out-of-the-plot\n",
    "    # Put a legend to the right of the current axis\n",
    "    \n",
    "    lgd = interactiveGraphAx.legend(proxyArtists, interactiveGraphClassNames, loc='center left', bbox_to_anchor=(1, 0.5))\n",
    "        \n",
    "    if(len(interactiveTitle) > 0):\n",
    "        plt.title(interactiveTitle)"
   ]
  },
  {
   "cell_type": "markdown",
   "metadata": {},
   "source": [
    "### complexClassifyAndPlot"
   ]
  },
  {
   "cell_type": "code",
   "execution_count": null,
   "metadata": {},
   "outputs": [],
   "source": [
    "# creates a scatter plot using different colors for different interactiveGraphClasses\n",
    "# sampledForm: base survey answers\n",
    "# Y: 2D position in PCA for answers\n",
    "# interactiveGraphClassNames: list of class names\n",
    "# interactiveGraphClasses: list of series of class-index indexed UserIds\n",
    "# title: str\n",
    "# rainbow: whether to use rainbow colors\n",
    "# figsize: for matplotlib\n",
    "\n",
    "def complexClassifyAndPlot(sampledForm, Y, classNames = [], classes = [], title = '', rainbow = False, figsize = (12, 8), questionIndex=1):\n",
    "    %matplotlib nbagg\n",
    "    global questionInteractive, alphaInteractive\n",
    "    global interactiveGraphPlots, interactiveFigure, interactiveGraphAx, interactiveGraphClassNames, interactiveGraphClasses\n",
    "    \n",
    "    interactiveGraphPlots = np.nan\n",
    "    \n",
    "    interactiveGraphClassNames = classNames\n",
    "    interactiveGraphClasses = classes    \n",
    "    \n",
    "    fullyInteractive = (len(interactiveGraphClassNames) == 0 or len(interactiveGraphClasses) == 0)\n",
    "    \n",
    "    if fullyInteractive:\n",
    "        \n",
    "        # questions to avoid:\n",
    "        # 1.52\n",
    "        #questionRange = chain(range(1,3), range(4,40), range(42,44))\n",
    "        # 1.52.2\n",
    "        #questionRange = chain(range(1,6), range(7,42), range(44,45))\n",
    "        #forbiddenQuestions = [QTimestamp, QAge, QRemarks, QUserId]\n",
    "        forbiddenQuestions = [QRemarks, QUserId]\n",
    "        \n",
    "        def updateQuestionIndex(question=questionIndex):\n",
    "            #print(\"updateQuestionIndex(\" + str(question) + \")\")\n",
    "            global interactiveTitle\n",
    "            global interactiveGraphClassNames, interactiveGraphClasses\n",
    "            chosenQuestion = sampledForm.columns[question]\n",
    "            while chosenQuestion in forbiddenQuestions:\n",
    "                question = (question + 1) % len(sampledForm.columns)\n",
    "                chosenQuestion = sampledForm.columns[question]\n",
    "            interactiveTitle = \"Q\" + str(question) + \": '\" + chosenQuestion + \"'\"\n",
    "\n",
    "            classPreprocess(sampledForm, chosenQuestion)\n",
    "            commonClassProcess(sampledForm)\n",
    "            \n",
    "            if pd.notnull(interactiveGraphPlots):\n",
    "                plotClasses(rainbow)\n",
    "                plt.show()\n",
    "                \n",
    "        questionInteractive = IntSlider(value=questionIndex, min=0, max=len(sampledForm.columns)-1, step=1)\n",
    "        interactive(updateQuestionIndex, question=questionInteractive)\n",
    "        display(questionInteractive)\n",
    "\n",
    "    with plt.style.context('seaborn-whitegrid'):\n",
    "        \n",
    "        defaultAlphaValue = 0.5\n",
    "\n",
    "        # update function to control the alpha channel\n",
    "        def updateAlpha(alpha = defaultAlphaValue):\n",
    "            global interactiveColors\n",
    "            global interactiveGraphPlots\n",
    "            if pd.notnull(interactiveGraphPlots):\n",
    "                interactiveGraphPlots.set_alpha(alpha)\n",
    "                \n",
    "                fullColors = interactivey.copy()\n",
    "                proxyArtists = []\n",
    "                for lab, col in zip(interactiveGraphClassNames,interactiveColors):\n",
    "                    proxyArtists.append(plt.scatter([], [], label=lab, c=col, alpha=alpha, s=150))\n",
    "\n",
    "                # source https://stackoverflow.com/questions/4700614/how-to-put-the-legend-out-of-the-plot\n",
    "                # Put a legend to the right of the current axis\n",
    "                lgd = interactiveGraphAx.legend(proxyArtists, interactiveGraphClassNames, loc='center left', bbox_to_anchor=(1, 0.5))\n",
    "                #interactiveFigure.savefig('samplefigure', bbox_extra_artists=(lgd,), bbox_inches='tight')\n",
    "                plt.show()\n",
    "\n",
    "        # creates the slider to control the alpha channel\n",
    "        alphaInteractive = FloatSlider(value=defaultAlphaValue, min=0.0, max=1.0, step=0.01)\n",
    "        interactive(updateAlpha, alpha=alphaInteractive);\n",
    "        display(alphaInteractive)\n",
    "        \n",
    "        interactiveFigure = plt.figure(figsize=figsize)\n",
    "        interactiveGraphAx = plt.subplot(121)\n",
    "\n",
    "        if fullyInteractive:\n",
    "            updateQuestionIndex(questionIndex)\n",
    "        else:\n",
    "            commonClassProcess(sampledForm)\n",
    "        plotClasses(rainbow)"
   ]
  },
  {
   "cell_type": "code",
   "execution_count": null,
   "metadata": {},
   "outputs": [],
   "source": [
    "complexClassifyAndPlot(sampledForm, Y, rainbow=True, figsize = (15, 5), questionIndex=12);"
   ]
  },
  {
   "cell_type": "markdown",
   "metadata": {},
   "source": [
    "## tests"
   ]
  },
  {
   "cell_type": "code",
   "execution_count": null,
   "metadata": {},
   "outputs": [],
   "source": [
    "if True:\n",
    "    import time\n",
    "    for qIndex in range(0, len(sampledForm.columns)):\n",
    "        complexClassifyAndPlot(sampledForm, Y, rainbow=True, figsize = (15, 5), questionIndex=qIndex);\n",
    "        time.sleep(0.3)\n",
    "        %matplotlib nbagg\n",
    "        time.sleep(0.1)\n",
    "        questionTitle = \"Q\" + str(qIndex) + \"_'\" + sampledForm.columns[qIndex].replace(\" \", \"_\").replace(\":\", \"\") + \"'\"\n",
    "        try:\n",
    "            interactiveFigure.savefig(questionTitle)\n",
    "        except:\n",
    "            print(\"- savefig failed for \" + questionTitle)"
   ]
  },
  {
   "cell_type": "code",
   "execution_count": null,
   "metadata": {
    "scrolled": false
   },
   "outputs": [],
   "source": [
    "complexClassifyAndPlot(sampledForm, Y, rainbow=True, figsize = (15, 5), questionIndex=1)"
   ]
  },
  {
   "cell_type": "markdown",
   "metadata": {},
   "source": [
    "----------------"
   ]
  },
  {
   "cell_type": "markdown",
   "metadata": {},
   "source": [
    "### Comparison of score with the value of PCA component 1"
   ]
  },
  {
   "cell_type": "code",
   "execution_count": null,
   "metadata": {},
   "outputs": [],
   "source": [
    "if pretestPosttestConcatenation:\n",
    "    # scorePretest\n",
    "    # scorePosttest\n",
    "    # scoreTotal\n",
    "    score = scorePosttest - scorePretest\n",
    "\n",
    "\n",
    "pcaComponent1 = interactiveY[:, 0].copy()\n",
    "pcaComponent1 = (max(pcaComponent1) - pcaComponent1)\n",
    "pcaComponent1 = pcaComponent1 * (max(score) / max(pcaComponent1))\n",
    "pcaComponent1.sort()\n",
    "\n",
    "sortedScore = score.copy()\n",
    "sortedScore.sort()\n",
    "\n",
    "fig = plt.figure(figsize=(12,8))\n",
    "ax = plt.subplot(111)\n",
    "pcaScat = plt.scatter(range(0,len(pcaComponent1)),pcaComponent1, c= 'blue', alpha=0.7)\n",
    "scoreScat = plt.scatter(range(0,len(sortedScore)),sortedScore, c='red', alpha=0.7)\n",
    "ax.legend([pcaScat, scoreScat], ['pca', 'score'], loc='center left', bbox_to_anchor=(1, 0.5))\n",
    "plt.title(\"Comparison of score with the value of PCA component 1\")\n",
    "plt.plot()"
   ]
  },
  {
   "cell_type": "markdown",
   "metadata": {},
   "source": [
    "----------------"
   ]
  },
  {
   "cell_type": "code",
   "execution_count": null,
   "metadata": {},
   "outputs": [],
   "source": [
    "if False:\n",
    "    answered = binarized[binarized[QBBExampleCDS] == 1]\n",
    "    indices = answered.index\n",
    "    surveys = sampledForm.iloc[indices].index\n",
    "    classifyAndPlot(sampledForm.index, Y, ['guessed', 'did not'], [surveys]);"
   ]
  },
  {
   "cell_type": "code",
   "execution_count": null,
   "metadata": {},
   "outputs": [],
   "source": [
    "if False:\n",
    "    classifyAndPlot(sampledForm.index, Y, ['biologist', 'non-biologist'], [getSurveysOfBiologists(sampledForm, False).index], title = 'biologists and non-biologists');"
   ]
  },
  {
   "cell_type": "code",
   "execution_count": null,
   "metadata": {
    "scrolled": false
   },
   "outputs": [],
   "source": [
    "if False:\n",
    "    classifyAndPlot(sampledForm.index, Y, ['gamer', 'non-gamer'], [getSurveysOfGamers(sampledForm, True).index], title = 'gamers and non-gamers');"
   ]
  },
  {
   "cell_type": "code",
   "execution_count": null,
   "metadata": {},
   "outputs": [],
   "source": [
    "if False:\n",
    "    classNames = []\n",
    "    classes = []\n",
    "    for answer in sampledForm[QInterestBiology].value_counts().index:\n",
    "        classNames.append(answer)\n",
    "        classes.append(sampledForm[sampledForm[QInterestBiology] == answer].index)\n",
    "    classNames.append('other')\n",
    "    classifyAndPlot(sampledForm.index, Y, classNames, classes, rainbow = True, title = 'interest in biology');"
   ]
  },
  {
   "cell_type": "markdown",
   "metadata": {},
   "source": [
    "### TODO: find simple way to plot scores"
   ]
  },
  {
   "cell_type": "code",
   "execution_count": null,
   "metadata": {},
   "outputs": [],
   "source": [
    "#np.plot(score)"
   ]
  },
  {
   "cell_type": "code",
   "execution_count": null,
   "metadata": {},
   "outputs": [],
   "source": [
    "if False:\n",
    "    np.unique(score),classNames"
   ]
  },
  {
   "cell_type": "code",
   "execution_count": null,
   "metadata": {
    "scrolled": false
   },
   "outputs": [],
   "source": [
    "if True:\n",
    "    classNames = []\n",
    "    classes = []\n",
    "    for thisScore in np.unique(score):\n",
    "        classNames.append(str(thisScore))\n",
    "        index = np.where(score == thisScore)[0]\n",
    "        classes.append(index)\n",
    "    thesePlots = classifyAndPlot(sampledForm.index, Y, classNames, classes, rainbow = True, title = 'score')"
   ]
  },
  {
   "cell_type": "code",
   "execution_count": null,
   "metadata": {
    "scrolled": false
   },
   "outputs": [],
   "source": [
    "if False:\n",
    "    classNames = []\n",
    "    classes = []\n",
    "    question = QAge\n",
    "    pretests = sampledForm[sampledForm[QTemporality] == answerTemporalities[0]]\n",
    "\n",
    "    for answer in np.sort(pretests[question].unique()):\n",
    "        classNames.append(str(answer))\n",
    "        classes.append(pretests[pretests[question] == answer].index)\n",
    "    classifyAndPlot(sampledForm.index, Y, classNames, classes, rainbow = True, title = 'age');"
   ]
  },
  {
   "cell_type": "markdown",
   "metadata": {},
   "source": [
    "## Study of eigenvectors"
   ]
  },
  {
   "cell_type": "code",
   "execution_count": null,
   "metadata": {},
   "outputs": [],
   "source": [
    "eig_vals"
   ]
  },
  {
   "cell_type": "code",
   "execution_count": null,
   "metadata": {},
   "outputs": [],
   "source": [
    "eig_vecs[0]"
   ]
  },
  {
   "cell_type": "code",
   "execution_count": null,
   "metadata": {},
   "outputs": [],
   "source": [
    "maxComponentIndex = np.argmax(abs(eig_vecs[0]))\n",
    "binarized.columns[maxComponentIndex]"
   ]
  },
  {
   "cell_type": "code",
   "execution_count": null,
   "metadata": {},
   "outputs": [],
   "source": [
    "sum(eig_vecs[0]*eig_vecs[0])\n",
    "eig_vecs[0]"
   ]
  },
  {
   "cell_type": "code",
   "execution_count": null,
   "metadata": {},
   "outputs": [],
   "source": [
    "sortedIndices = []\n",
    "descendingWeights = np.sort(abs(eig_vecs[0]))[::-1]\n",
    "for sortedComponent in descendingWeights:\n",
    "    sortedIndices.append(np.where(abs(eig_vecs[0]) == sortedComponent)[0][0])\n",
    "sortedQuestions0 = pd.DataFrame(index = descendingWeights, data = binarized.columns[sortedIndices])\n",
    "sortedQuestions0"
   ]
  },
  {
   "cell_type": "code",
   "execution_count": null,
   "metadata": {},
   "outputs": [],
   "source": [
    "def accessFirst(a):\n",
    "    return a[0]\n",
    "sortedQuestionsLastIndex = 10\n",
    "array1 = np.arange(sortedQuestionsLastIndex+1.)/(sortedQuestionsLastIndex + 1.)\n",
    "import matplotlib.cm as cm\n",
    "sortedQuestionsLastIndex+1,\\\n",
    "len(np.unique(np.apply_along_axis(accessFirst, 1, cm.Accent(array1)))),\\\n",
    "len(np.unique(np.apply_along_axis(accessFirst, 1, cm.Dark2(array1)))),\\\n",
    "len(np.unique(np.apply_along_axis(accessFirst, 1, cm.Paired(array1)))),\\\n",
    "len(np.unique(np.apply_along_axis(accessFirst, 1, cm.Pastel1(array1)))),\\\n",
    "len(np.unique(np.apply_along_axis(accessFirst, 1, cm.Pastel2(array1)))),\\\n",
    "len(np.unique(np.apply_along_axis(accessFirst, 1, cm.Set1(array1)))),\\\n",
    "len(np.unique(np.apply_along_axis(accessFirst, 1, cm.Set2(array1)))),\\\n",
    "len(np.unique(np.apply_along_axis(accessFirst, 1, cm.Set3(array1)))),\\"
   ]
  },
  {
   "cell_type": "code",
   "execution_count": null,
   "metadata": {},
   "outputs": [],
   "source": [
    "from matplotlib import cm\n",
    "\n",
    "def displayQuestionsContributions(\\\n",
    "                                  sortedQuestions,\\\n",
    "                                  title = \"Contributions of questions to component\",\\\n",
    "                                  sortedQuestionsLastIndex = 10\\\n",
    "                                 ):\n",
    "    colors=cm.Set3(np.arange(sortedQuestionsLastIndex+1.)/(sortedQuestionsLastIndex + 1.))\n",
    "    \n",
    "    sortedQuestionsLabelsArray = np.append(sortedQuestions.values.flatten()[:sortedQuestionsLastIndex], 'others')\n",
    "    sortedQuestionsValuesArray = np.append(sortedQuestions.index[:sortedQuestionsLastIndex], sum(sortedQuestions.index[sortedQuestionsLastIndex:]))\n",
    "\n",
    "    fig1, ax1 = plt.subplots()\n",
    "\n",
    "    ax1.pie(sortedQuestionsValuesArray, labels=sortedQuestionsLabelsArray, autopct='%1.1f%%', startangle=100, colors = colors)\n",
    "    ax1.axis('equal')\n",
    "    \n",
    "    # cf https://matplotlib.org/users/customizing.html\n",
    "    plt.rcParams['patch.linewidth'] = 0\n",
    "    plt.rcParams['text.color'] = '#2b2b2b'\n",
    "    \n",
    "    plt.title(title)\n",
    "    plt.tight_layout()\n",
    "    plt.show()"
   ]
  },
  {
   "cell_type": "code",
   "execution_count": null,
   "metadata": {},
   "outputs": [],
   "source": [
    "displayQuestionsContributions(sortedQuestions0, sortedQuestionsLastIndex = 10, title = 'Contributions of questions to component 1')"
   ]
  },
  {
   "cell_type": "code",
   "execution_count": null,
   "metadata": {},
   "outputs": [],
   "source": [
    "sum(sortedQuestions0.index**2)"
   ]
  },
  {
   "cell_type": "code",
   "execution_count": null,
   "metadata": {
    "scrolled": false
   },
   "outputs": [],
   "source": [
    "sortedIndices = []\n",
    "descendingWeights = np.sort(abs(eig_vecs[1]))[::-1]\n",
    "for sortedComponent in descendingWeights:\n",
    "    sortedIndices.append(np.where(abs(eig_vecs[1]) == sortedComponent)[0][0])\n",
    "sortedQuestions1 = pd.DataFrame(index = descendingWeights, data = binarized.columns[sortedIndices])\n",
    "sortedQuestions1"
   ]
  },
  {
   "cell_type": "code",
   "execution_count": null,
   "metadata": {},
   "outputs": [],
   "source": [
    "displayQuestionsContributions(sortedQuestions1, sortedQuestionsLastIndex = 10, title = 'Contributions of questions to component 2')"
   ]
  },
  {
   "cell_type": "code",
   "execution_count": null,
   "metadata": {},
   "outputs": [],
   "source": [
    "sum(sortedQuestions1.index**2)"
   ]
  }
 ],
 "metadata": {
  "kernelspec": {
   "display_name": "Python [conda env:python3]",
   "language": "python",
   "name": "conda-env-python3-py"
  },
  "language_info": {
   "codemirror_mode": {
    "name": "ipython",
    "version": 3
   },
   "file_extension": ".py",
   "mimetype": "text/x-python",
   "name": "python",
   "nbconvert_exporter": "python",
   "pygments_lexer": "ipython3",
   "version": "3.5.4"
  }
 },
 "nbformat": 4,
 "nbformat_minor": 2
}
