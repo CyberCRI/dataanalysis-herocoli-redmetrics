{
 "cells": [
  {
   "cell_type": "markdown",
   "metadata": {},
   "source": [
    "# Google form analysis tests\n",
    "\n",
    "Purpose: determine in what extent the current data can accurately describe correlations, underlying factors on the score.\n",
    "Especially concerning the answerTemporalities[0] groups: are there underlying groups explaining the discrepancies in score? Are those groups tied to certain questions?\n",
    "\n",
    "## Table of Contents\n",
    "\n",
    "\n",
    "[Sorted total answers to questions](#sortedtotalanswers)\n",
    "\n",
    "[Cross-samples t-tests](#crossttests)\n",
    "\n",
    "   - [biologists vs non-biologists](#biologistsvsnonbiologists)\n",
    "   \n",
    "   - [biologists vs non-biologists *before*](#biologistsvsnonbiologistsbefore)\n",
    "   \n",
    "[PCAs](#PCAs)\n",
    "<br>\n",
    "<br>\n",
    "<br>\n",
    "<br>"
   ]
  },
  {
   "cell_type": "code",
   "execution_count": null,
   "metadata": {},
   "outputs": [],
   "source": [
    "%run \"../Functions/2. Google form analysis.ipynb\""
   ]
  },
  {
   "cell_type": "markdown",
   "metadata": {},
   "source": [
    "## PCAs\n",
    "<a id=PCAs />"
   ]
  },
  {
   "cell_type": "markdown",
   "metadata": {},
   "source": [
    "Purpose: find out which questions have the more weight in the computation of the score.\n",
    "\n",
    "\n",
    "Other leads: LDA, ANOVA.\n",
    "\n",
    "\n",
    "Source for PCA: http://sebastianraschka.com/Articles/2015_pca_in_3_steps.html"
   ]
  },
  {
   "cell_type": "code",
   "execution_count": null,
   "metadata": {},
   "outputs": [],
   "source": [
    "sampledForm = getPerfectPretestPostestPairs(gform)\n",
    "sampledForm.index = range(0, len(sampledForm))"
   ]
  },
  {
   "cell_type": "code",
   "execution_count": null,
   "metadata": {},
   "outputs": [],
   "source": [
    "binarized = getAllBinarized(_form = sampledForm)\n",
    "binarized.index = sampledForm.index"
   ]
  },
  {
   "cell_type": "code",
   "execution_count": null,
   "metadata": {},
   "outputs": [],
   "source": [
    "sampledForm.shape, binarized.shape"
   ]
  },
  {
   "cell_type": "code",
   "execution_count": null,
   "metadata": {},
   "outputs": [],
   "source": [
    "score = np.dot(binarized,np.ones(len(binarized.columns)))"
   ]
  },
  {
   "cell_type": "code",
   "execution_count": null,
   "metadata": {},
   "outputs": [],
   "source": [
    "dimensions = binarized.shape[1]\n",
    "dimensions"
   ]
  },
  {
   "cell_type": "code",
   "execution_count": null,
   "metadata": {},
   "outputs": [],
   "source": [
    "binarized['class'] = 'default'"
   ]
  },
  {
   "cell_type": "code",
   "execution_count": null,
   "metadata": {},
   "outputs": [],
   "source": [
    "# split data table into data X and class labels y\n",
    "\n",
    "X = binarized.iloc[:,0:dimensions].values\n",
    "y = binarized.iloc[:,dimensions].values"
   ]
  },
  {
   "cell_type": "markdown",
   "metadata": {},
   "source": [
    "### Standardizing"
   ]
  },
  {
   "cell_type": "code",
   "execution_count": null,
   "metadata": {},
   "outputs": [],
   "source": [
    "from sklearn.preprocessing import StandardScaler\n",
    "X_std = StandardScaler().fit_transform(X)"
   ]
  },
  {
   "cell_type": "markdown",
   "metadata": {},
   "source": [
    "## 1 - Eigendecomposition - Computing Eigenvectors and Eigenvalues"
   ]
  },
  {
   "cell_type": "markdown",
   "metadata": {},
   "source": [
    "### Covariance Matrix"
   ]
  },
  {
   "cell_type": "code",
   "execution_count": null,
   "metadata": {},
   "outputs": [],
   "source": [
    "mean_vec = np.mean(X_std, axis=0)\n",
    "cov_mat = (X_std - mean_vec).T.dot((X_std - mean_vec)) / (X_std.shape[0]-1)\n",
    "print('Covariance matrix \\n%s' %cov_mat)"
   ]
  },
  {
   "cell_type": "code",
   "execution_count": null,
   "metadata": {},
   "outputs": [],
   "source": [
    "print('NumPy covariance matrix: \\n%s' %np.cov(X_std.T))"
   ]
  },
  {
   "cell_type": "markdown",
   "metadata": {},
   "source": [
    "#### eigendecomposition on the covariance matrix:"
   ]
  },
  {
   "cell_type": "code",
   "execution_count": null,
   "metadata": {},
   "outputs": [],
   "source": [
    "cov_mat = np.cov(X_std.T)\n",
    "eig_vals, eig_vecs = np.linalg.eig(cov_mat)\n",
    "\n",
    "#print('Eigenvectors \\n%s' %eig_vecs)\n",
    "print('\\nEigenvalues \\n%s' %eig_vals)"
   ]
  },
  {
   "cell_type": "markdown",
   "metadata": {},
   "source": [
    "### Correlation Matrix\n",
    "\n",
    "#### Eigendecomposition of the standardized data based on the correlation matrix:"
   ]
  },
  {
   "cell_type": "code",
   "execution_count": null,
   "metadata": {
    "scrolled": true
   },
   "outputs": [],
   "source": [
    "cor_mat1 = np.corrcoef(X_std.T)\n",
    "eig_vals, eig_vecs = np.linalg.eig(cor_mat1)\n",
    "\n",
    "#print('Eigenvectors \\n%s' %eig_vecs)\n",
    "print('\\nEigenvalues \\n%s' %eig_vals)"
   ]
  },
  {
   "cell_type": "markdown",
   "metadata": {},
   "source": [
    "#### Eigendecomposition of the raw data based on the correlation matrix:"
   ]
  },
  {
   "cell_type": "markdown",
   "metadata": {},
   "source": [
    "cor_mat2 = np.corrcoef(binarized.T)\n",
    "eig_vals, eig_vecs = np.linalg.eig(cor_mat2)\n",
    "\n",
    "#print('Eigenvectors \\n%s' %eig_vecs)\n",
    "print('\\nEigenvalues \\n%s' %eig_vals)"
   ]
  },
  {
   "cell_type": "markdown",
   "metadata": {},
   "source": [
    "### Singular Vector Decomposition"
   ]
  },
  {
   "cell_type": "code",
   "execution_count": null,
   "metadata": {},
   "outputs": [],
   "source": [
    "u,s,v = np.linalg.svd(X_std.T)"
   ]
  },
  {
   "cell_type": "code",
   "execution_count": null,
   "metadata": {},
   "outputs": [],
   "source": [
    "s"
   ]
  },
  {
   "cell_type": "markdown",
   "metadata": {},
   "source": [
    "## 2 - Selecting Principal Components"
   ]
  },
  {
   "cell_type": "code",
   "execution_count": null,
   "metadata": {},
   "outputs": [],
   "source": [
    "for ev in eig_vecs:\n",
    "    np.testing.assert_array_almost_equal(1.0, np.linalg.norm(ev))\n",
    "print('Everything ok!')"
   ]
  },
  {
   "cell_type": "code",
   "execution_count": null,
   "metadata": {},
   "outputs": [],
   "source": [
    "# Make a list of (eigenvalue, eigenvector) tuples\n",
    "eig_pairs = [(np.abs(eig_vals[i]), eig_vecs[:,i]) for i in range(len(eig_vals))]\n",
    "\n",
    "# Sort the (eigenvalue, eigenvector) tuples from high to low\n",
    "eig_pairs.sort()\n",
    "eig_pairs.reverse()\n",
    "\n",
    "# Visually confirm that the list is correctly sorted by decreasing eigenvalues\n",
    "print('Eigenvalues in descending order:')\n",
    "for i in eig_pairs:\n",
    "    print(i[0])"
   ]
  },
  {
   "cell_type": "code",
   "execution_count": null,
   "metadata": {},
   "outputs": [],
   "source": [
    "tot = sum(eig_vals)\n",
    "var_exp = [(i / tot)*100 for i in sorted(eig_vals, reverse=True)]\n",
    "cum_var_exp = np.cumsum(var_exp)\n",
    "\n",
    "with plt.style.context('seaborn-whitegrid'):\n",
    "    plt.figure(figsize=(6, 4))\n",
    "\n",
    "    plt.bar(range(dimensions), var_exp, alpha=0.5, align='center',\n",
    "            label='individual explained variance')\n",
    "    plt.step(range(dimensions), cum_var_exp, where='mid',\n",
    "             label='cumulative explained variance')\n",
    "    plt.ylabel('Explained variance ratio')\n",
    "    plt.xlabel('Principal components')\n",
    "    plt.legend(loc='best')\n",
    "    plt.tight_layout()"
   ]
  },
  {
   "cell_type": "code",
   "execution_count": null,
   "metadata": {},
   "outputs": [],
   "source": [
    "var_exp[:5]"
   ]
  },
  {
   "cell_type": "code",
   "execution_count": null,
   "metadata": {},
   "outputs": [],
   "source": [
    "cum_var_exp[:5]"
   ]
  },
  {
   "cell_type": "markdown",
   "metadata": {},
   "source": [
    "### Projection Matrix"
   ]
  },
  {
   "cell_type": "code",
   "execution_count": null,
   "metadata": {
    "scrolled": true
   },
   "outputs": [],
   "source": [
    "matrix_w = np.hstack((eig_pairs[0][1].reshape(dimensions,1),\n",
    "                      eig_pairs[1][1].reshape(dimensions,1)))\n",
    "\n",
    "print('Matrix W:\\n', matrix_w)"
   ]
  },
  {
   "cell_type": "markdown",
   "metadata": {},
   "source": [
    "## 3 - Projection Onto the New Feature Space"
   ]
  },
  {
   "cell_type": "code",
   "execution_count": null,
   "metadata": {},
   "outputs": [],
   "source": [
    "sampledForm.columns"
   ]
  },
  {
   "cell_type": "code",
   "execution_count": null,
   "metadata": {
    "scrolled": true
   },
   "outputs": [],
   "source": [
    "colors = ('blue','red','green','magenta','cyan','purple','yellow','black','white')\n",
    "len(colors)"
   ]
  },
  {
   "cell_type": "code",
   "execution_count": null,
   "metadata": {},
   "outputs": [],
   "source": [
    "Y = X_std.dot(matrix_w)"
   ]
  },
  {
   "cell_type": "code",
   "execution_count": null,
   "metadata": {},
   "outputs": [],
   "source": [
    "with plt.style.context('seaborn-whitegrid'):\n",
    "    plt.figure(figsize=(6, 4))\n",
    "    ax = plt.subplot(111)\n",
    "    plt.scatter(Y[:, 0], Y[:, 1])\n",
    "    plt.xlabel('Principal Component 1')\n",
    "    plt.ylabel('Principal Component 2')\n",
    "    plt.title(\"base PCA\")\n",
    "    plt.show()"
   ]
  },
  {
   "cell_type": "code",
   "execution_count": null,
   "metadata": {},
   "outputs": [],
   "source": [
    "# creates a scatter plot using different colors for different classes\n",
    "# answerIndices: index of 'sampledForm' and 'binarized' DataFrames\n",
    "# Y: 2D position in PCA for answers\n",
    "# classNames: list of class names\n",
    "# classes: list of series of class-index indexed UserIds\n",
    "# title: str\n",
    "# rainbow: whether to use rainbow colors\n",
    "# figsize: for matplotlib\n",
    "def classifyAndPlot(answerIndices, Y, classNames, classes, title = '', rainbow = False, figsize = (12, 8)):\n",
    "    %matplotlib nbagg\n",
    "    defaultClassName = ''\n",
    "\n",
    "    sampleSize = 0\n",
    "    # sets the name of the default class\n",
    "    for classIndex in range(0, len(classes)):\n",
    "        sampleSize += len(classes[classIndex])\n",
    "    if(sampleSize < len(answerIndices)):\n",
    "        if(len(classNames) == len(classes) + 1):\n",
    "            defaultClassName = classNames[-1]\n",
    "        else:\n",
    "            defaultClassName = 'other'\n",
    "            classNames.append(defaultClassName)\n",
    "\n",
    "    # y is the 'class' container\n",
    "    y = pd.Series(index = answerIndices, data = defaultClassName)\n",
    "\n",
    "    # set the class of each answer\n",
    "    for classIndex in range(0, len(classes)):\n",
    "        y[classes[classIndex].index] = classNames[classIndex]\n",
    "\n",
    "    if (defaultClassName in y.values) and (not (defaultClassName in classNames)):\n",
    "        print(\"unexpected error: check the exhaustiveness of the provided classes\")\n",
    "\n",
    "    with plt.style.context('seaborn-whitegrid'):\n",
    "        thisFigure = plt.figure(figsize=figsize)\n",
    "        ax = plt.subplot(111)\n",
    "\n",
    "        colors = ('blue','red','green','magenta','cyan','purple','yellow','black','white')\n",
    "        if (rainbow or len(classNames) > len(colors)):\n",
    "            colors = plt.cm.rainbow(np.linspace(1, 0, len(classNames)))\n",
    "        colors = colors[:len(classNames)]\n",
    "\n",
    "        plots = pd.Series()\n",
    "        for lab, col in zip(classNames,colors):\n",
    "            # y == lab is a selector:\n",
    "            # Y[y==lab, 0] selects all Y.x of class lab\n",
    "            # Y[y==lab, 0] selects all Y.y of class lab\n",
    "\n",
    "            xvalues = Y[y==lab, 0]\n",
    "            yvalues = Y[y==lab, 1]\n",
    "\n",
    "            print(\"'\" + str(lab) + \"': \" + str(len(xvalues)) + \" values in \" + str(col))\n",
    "\n",
    "            plots.loc[lab] = plt.scatter( xvalues,\n",
    "                                        yvalues,\n",
    "                                        label=lab,\n",
    "                                        c=col,\n",
    "                                        alpha=0.2,\n",
    "                                            )\n",
    "        plt.xlabel('Principal Component 1')\n",
    "        plt.ylabel('Principal Component 2')\n",
    "\n",
    "        # source https://stackoverflow.com/questions/4700614/how-to-put-the-legend-out-of-the-plot\n",
    "        # Put a legend to the right of the current axis\n",
    "        ax.legend(loc='center left', bbox_to_anchor=(1, 0.5))\n",
    "\n",
    "        if(len(title) > 0):\n",
    "            plt.title(title)\n",
    "        plt.show()\n",
    "\n",
    "        # update function to control the alpha channel\n",
    "        def updateAlpha(x):\n",
    "            print(x)\n",
    "            for lab in classNames:\n",
    "                plots.loc[lab].set_alpha(x)\n",
    "            plt.show()\n",
    "\n",
    "        # creates the slider to control the alpha channel\n",
    "        interact(updateAlpha, x=(0.0,1.0,0.01));"
   ]
  },
  {
   "cell_type": "code",
   "execution_count": null,
   "metadata": {},
   "outputs": [],
   "source": [
    "answered = binarized[binarized[QDevicePbadRbsAraTer] == 1]\n",
    "#indices = answered.index.map(lambda label: int(label[len('corrections'):]))\n",
    "indices = answered.index\n",
    "surveys = sampledForm.iloc[indices][localplayerguidkey]\n",
    "classifyAndPlot(sampledForm.index, Y, ['guessed', 'did not'], [surveys])"
   ]
  },
  {
   "cell_type": "code",
   "execution_count": null,
   "metadata": {},
   "outputs": [],
   "source": [
    "classifyAndPlot(sampledForm.index, Y, ['biologist', 'other'], [getSurveysOfBiologists(sampledForm, True)[localplayerguidkey]], title = 'biologists and non-biologists')"
   ]
  },
  {
   "cell_type": "code",
   "execution_count": null,
   "metadata": {
    "scrolled": false
   },
   "outputs": [],
   "source": [
    "classifyAndPlot(sampledForm.index, Y, ['gamer', 'other'], [getSurveysOfGamers(sampledForm, True)[localplayerguidkey]], title = 'gamers and non-gamers')"
   ]
  },
  {
   "cell_type": "code",
   "execution_count": null,
   "metadata": {},
   "outputs": [],
   "source": [
    "classNames = []\n",
    "classes = []\n",
    "for answer in sampledForm[QInterestBiology].value_counts().index:\n",
    "    classNames.append(answer)\n",
    "    classes.append(sampledForm[sampledForm[QInterestBiology] == answer][localplayerguidkey])\n",
    "classNames.append('other')\n",
    "classifyAndPlot(sampledForm.index, Y, classNames, classes, rainbow = True, title = 'interest in biology')"
   ]
  },
  {
   "cell_type": "markdown",
   "metadata": {},
   "source": [
    "### TODO: find simple way to plot scores"
   ]
  },
  {
   "cell_type": "code",
   "execution_count": null,
   "metadata": {},
   "outputs": [],
   "source": [
    "#np.plot(score)"
   ]
  },
  {
   "cell_type": "code",
   "execution_count": null,
   "metadata": {},
   "outputs": [],
   "source": [
    "classNames = []\n",
    "classes = []\n",
    "for thisScore in np.unique(score):\n",
    "    classNames.append(thisScore)\n",
    "    index = np.where(score == thisScore)[0]\n",
    "    classes.append( sampledForm.loc[index][localplayerguidkey])\n",
    "classifyAndPlot(sampledForm.index, Y, classNames, classes, rainbow = True, title = 'score')"
   ]
  },
  {
   "cell_type": "code",
   "execution_count": null,
   "metadata": {},
   "outputs": [],
   "source": [
    "classNames = []\n",
    "classes = []\n",
    "question = QAge\n",
    "pretests = sampledForm[sampledForm[QTemporality] == answerTemporalities[0]]\n",
    "\n",
    "for answer in np.sort(pretests[question].unique()):\n",
    "    classNames.append(answer)\n",
    "    classes.append(pretests[pretests[question] == answer][localplayerguidkey])\n",
    "classifyAndPlot(sampledForm.index, Y, classNames, classes, rainbow = True, title = 'age')"
   ]
  },
  {
   "cell_type": "code",
   "execution_count": null,
   "metadata": {},
   "outputs": [],
   "source": [
    "#np.sort(pretests[question].apply(int).unique())\n",
    "#T2 = [list(map(int, x)) for x in T1]"
   ]
  },
  {
   "cell_type": "code",
   "execution_count": null,
   "metadata": {},
   "outputs": [],
   "source": [
    "sampledForm.columns[:5]"
   ]
  },
  {
   "cell_type": "code",
   "execution_count": null,
   "metadata": {},
   "outputs": [],
   "source": [
    "sampledForm.columns.shape"
   ]
  },
  {
   "cell_type": "code",
   "execution_count": null,
   "metadata": {},
   "outputs": [],
   "source": [
    "#questionRange = range(0,45)\n",
    "#for questionIndex in questionRange:\n",
    "#    question = sampledForm.columns[questionIndex]\n",
    "#    print(str(questionIndex) + \" \" + question)"
   ]
  },
  {
   "cell_type": "code",
   "execution_count": null,
   "metadata": {},
   "outputs": [],
   "source": [
    "sampledForm[question].value_counts()"
   ]
  },
  {
   "cell_type": "code",
   "execution_count": null,
   "metadata": {},
   "outputs": [],
   "source": [
    "questionIndex = 5\n",
    "question = sampledForm.columns[questionIndex]\n",
    "print(str(questionIndex) + \" : \" + question)\n",
    "classNames = []\n",
    "classes = []\n",
    "for answer in sampledForm[question].value_counts().index:\n",
    "    classNames.append(str(answer))\n",
    "    classes.append(sampledForm[sampledForm[question] == answer][localplayerguidkey])\n",
    "classNames"
   ]
  },
  {
   "cell_type": "code",
   "execution_count": null,
   "metadata": {},
   "outputs": [],
   "source": [
    "for className, classMembers in zip(classNames,classes):\n",
    "    print(className + \" : \" + str(len(classMembers)))"
   ]
  },
  {
   "cell_type": "code",
   "execution_count": null,
   "metadata": {},
   "outputs": [],
   "source": [
    "classifyAndPlot(sampledForm.index, Y, classNames, classes, title = question, rainbow = False)"
   ]
  },
  {
   "cell_type": "code",
   "execution_count": null,
   "metadata": {
    "scrolled": false
   },
   "outputs": [],
   "source": [
    "#%matplotlib nbagg\n",
    "# questions to avoid:\n",
    "#1 Timestamp\n",
    "#7 Age\n",
    "#43 Remarks\n",
    "#44 UserId\n",
    "\n",
    "from itertools import chain\n",
    "# 1.52\n",
    "#questionRange = chain(range(1,3), range(4,40), range(42,44))\n",
    "# 1.52.2\n",
    "#questionRange = chain(range(1,6), range(7,42), range(44,45))\n",
    "questionRange = range(1,6)\n",
    "for questionIndex in questionRange:\n",
    "    question = sampledForm.columns[questionIndex]\n",
    "    classNames = []\n",
    "    classes = []\n",
    "    for answer in sampledForm[question].value_counts().index:\n",
    "        classNames.append(str(answer))\n",
    "        classes.append(sampledForm[sampledForm[question] == answer][localplayerguidkey])\n",
    "    classifyAndPlot(sampledForm.index, Y, classNames, classes, title = question, rainbow = False)"
   ]
  },
  {
   "cell_type": "code",
   "execution_count": null,
   "metadata": {},
   "outputs": [],
   "source": [
    "pd.Series(y).value_counts()"
   ]
  },
  {
   "cell_type": "code",
   "execution_count": null,
   "metadata": {},
   "outputs": [],
   "source": [
    "sampledForm[QPlayed].value_counts()"
   ]
  },
  {
   "cell_type": "code",
   "execution_count": null,
   "metadata": {},
   "outputs": [],
   "source": [
    "eig_vals"
   ]
  },
  {
   "cell_type": "code",
   "execution_count": null,
   "metadata": {},
   "outputs": [],
   "source": [
    "eig_vecs[0]"
   ]
  },
  {
   "cell_type": "code",
   "execution_count": null,
   "metadata": {},
   "outputs": [],
   "source": [
    "maxComponentIndex = np.argmax(abs(eig_vecs[0]))\n",
    "binarized.columns[maxComponentIndex]"
   ]
  },
  {
   "cell_type": "code",
   "execution_count": null,
   "metadata": {},
   "outputs": [],
   "source": [
    "sum(eig_vecs[0]*eig_vecs[0])\n",
    "eig_vecs[0]"
   ]
  },
  {
   "cell_type": "code",
   "execution_count": null,
   "metadata": {},
   "outputs": [],
   "source": [
    "sortedIndices = []\n",
    "descendingWeights = np.sort(abs(eig_vecs[0]))[::-1]\n",
    "for sortedComponent in descendingWeights:\n",
    "    sortedIndices.append(np.where(abs(eig_vecs[0]) == sortedComponent)[0][0])\n",
    "sortedQuestions0 = pd.DataFrame(index = descendingWeights, data = binarized.columns[sortedIndices])\n",
    "sortedQuestions0"
   ]
  },
  {
   "cell_type": "code",
   "execution_count": null,
   "metadata": {},
   "outputs": [],
   "source": [
    "def accessFirst(a):\n",
    "    return a[0]\n",
    "sortedQuestionsLastIndex = 10\n",
    "array1 = np.arange(sortedQuestionsLastIndex+1.)/(sortedQuestionsLastIndex + 1.)\n",
    "import matplotlib.cm as cm\n",
    "sortedQuestionsLastIndex+1,\\\n",
    "len(np.unique(np.apply_along_axis(accessFirst, 1, cm.Accent(array1)))),\\\n",
    "len(np.unique(np.apply_along_axis(accessFirst, 1, cm.Dark2(array1)))),\\\n",
    "len(np.unique(np.apply_along_axis(accessFirst, 1, cm.Paired(array1)))),\\\n",
    "len(np.unique(np.apply_along_axis(accessFirst, 1, cm.Pastel1(array1)))),\\\n",
    "len(np.unique(np.apply_along_axis(accessFirst, 1, cm.Pastel2(array1)))),\\\n",
    "len(np.unique(np.apply_along_axis(accessFirst, 1, cm.Set1(array1)))),\\\n",
    "len(np.unique(np.apply_along_axis(accessFirst, 1, cm.Set2(array1)))),\\\n",
    "len(np.unique(np.apply_along_axis(accessFirst, 1, cm.Set3(array1)))),\\"
   ]
  },
  {
   "cell_type": "code",
   "execution_count": null,
   "metadata": {},
   "outputs": [],
   "source": [
    "from matplotlib import cm\n",
    "\n",
    "def displayQuestionsContributions(\\\n",
    "                                  sortedQuestions,\\\n",
    "                                  title = \"Contributions of questions to component\",\\\n",
    "                                  sortedQuestionsLastIndex = 10\\\n",
    "                                 ):\n",
    "    colors=cm.Set3(np.arange(sortedQuestionsLastIndex+1.)/(sortedQuestionsLastIndex + 1.))\n",
    "    \n",
    "    sortedQuestionsLabelsArray = np.append(sortedQuestions.values.flatten()[:sortedQuestionsLastIndex], 'others')\n",
    "    sortedQuestionsValuesArray = np.append(sortedQuestions.index[:sortedQuestionsLastIndex], sum(sortedQuestions.index[sortedQuestionsLastIndex:]))\n",
    "\n",
    "    fig1, ax1 = plt.subplots()\n",
    "\n",
    "    ax1.pie(sortedQuestionsValuesArray, labels=sortedQuestionsLabelsArray, autopct='%1.1f%%', startangle=100, colors = colors)\n",
    "    ax1.axis('equal')\n",
    "    \n",
    "    # cf https://matplotlib.org/users/customizing.html\n",
    "    plt.rcParams['patch.linewidth'] = 0\n",
    "    plt.rcParams['text.color'] = '#2b2b2b'\n",
    "    \n",
    "    plt.title(title)\n",
    "    plt.tight_layout()\n",
    "    plt.show()"
   ]
  },
  {
   "cell_type": "code",
   "execution_count": null,
   "metadata": {},
   "outputs": [],
   "source": [
    "displayQuestionsContributions(sortedQuestions0, sortedQuestionsLastIndex = 10, title = 'Contributions of questions to component 1')"
   ]
  },
  {
   "cell_type": "code",
   "execution_count": null,
   "metadata": {},
   "outputs": [],
   "source": [
    "sum(sortedQuestions0.index**2)"
   ]
  },
  {
   "cell_type": "code",
   "execution_count": null,
   "metadata": {
    "scrolled": false
   },
   "outputs": [],
   "source": [
    "sortedIndices = []\n",
    "descendingWeights = np.sort(abs(eig_vecs[1]))[::-1]\n",
    "for sortedComponent in descendingWeights:\n",
    "    sortedIndices.append(np.where(abs(eig_vecs[1]) == sortedComponent)[0][0])\n",
    "sortedQuestions1 = pd.DataFrame(index = descendingWeights, data = binarized.columns[sortedIndices])\n",
    "sortedQuestions1"
   ]
  },
  {
   "cell_type": "code",
   "execution_count": null,
   "metadata": {},
   "outputs": [],
   "source": [
    "displayQuestionsContributions(sortedQuestions1, sortedQuestionsLastIndex = 10, title = 'Contributions of questions to component 2')"
   ]
  },
  {
   "cell_type": "code",
   "execution_count": null,
   "metadata": {},
   "outputs": [],
   "source": [
    "sum(sortedQuestions1.index**2)"
   ]
  },
  {
   "cell_type": "code",
   "execution_count": null,
   "metadata": {},
   "outputs": [],
   "source": []
  }
 ],
 "metadata": {
  "kernelspec": {
   "display_name": "Python [conda env:python3]",
   "language": "python",
   "name": "conda-env-python3-py"
  }
 },
 "nbformat": 4,
 "nbformat_minor": 2
}
