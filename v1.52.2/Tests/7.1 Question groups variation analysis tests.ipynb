{
 "cells": [
  {
   "cell_type": "markdown",
   "metadata": {},
   "source": [
    "# 7.1 Question groups variation analysis tests"
   ]
  },
  {
   "cell_type": "code",
   "execution_count": null,
   "metadata": {
    "scrolled": false
   },
   "outputs": [],
   "source": [
    "%run \"../Functions/7. Question groups variation analysis.ipynb\""
   ]
  },
  {
   "cell_type": "code",
   "execution_count": null,
   "metadata": {},
   "outputs": [],
   "source": [
    "allDataPlaytestPretestPosttestUniqueProfilesPhase1 = getAllUserVectorData(\n",
    "    getAllResponders(gfdfPlaytestPretestPosttestUniqueProfilesPhase1),\n",
    "    _rmDF = rmdfPlaytestPretestPosttestUniqueProfilesPhase1,\n",
    "    _gfDF = gfdfPlaytestPretestPosttestUniqueProfilesPhase1,\n",
    "    _source = correctAnswers + demographicAnswers )"
   ]
  },
  {
   "cell_type": "code",
   "execution_count": null,
   "metadata": {},
   "outputs": [],
   "source": [
    "allDataPlaytestPretestPosttestUniqueProfilesVolunteersPhase1 = getAllUserVectorData(\n",
    "    getAllResponders(gfdfPlaytestPretestPosttestUniqueProfilesVolunteersPhase1),\n",
    "    _rmDF = rmdfPlaytestPretestPosttestUniqueProfilesVolunteersPhase1,\n",
    "    _gfDF = gfdfPlaytestPretestPosttestUniqueProfilesVolunteersPhase1,\n",
    "    _source = correctAnswers + demographicAnswers )"
   ]
  },
  {
   "cell_type": "code",
   "execution_count": null,
   "metadata": {},
   "outputs": [],
   "source": [
    "gfdf = gfdfPlaytestPretestPosttestUniqueProfilesVolunteersPhase1.copy()\n",
    "rmdf = rmdfPlaytestPretestPosttestUniqueProfilesVolunteersPhase1.copy()\n",
    "allData = allDataPlaytestPretestPosttestUniqueProfilesVolunteersPhase1.copy()"
   ]
  },
  {
   "cell_type": "markdown",
   "metadata": {},
   "source": [
    "# Per question analysis"
   ]
  },
  {
   "cell_type": "markdown",
   "metadata": {},
   "source": [
    "## Interest variation"
   ]
  },
  {
   "cell_type": "code",
   "execution_count": null,
   "metadata": {},
   "outputs": [],
   "source": [
    "#QInterestBiology,\\\n",
    "QCuriosityBiology,\\\n",
    "QCuriositySyntheticBiology,\\\n",
    "QCuriosityEngineering,\\\n",
    "QCuriosityVideoGames,\\\n",
    "#QEnjoyed"
   ]
  },
  {
   "cell_type": "code",
   "execution_count": null,
   "metadata": {},
   "outputs": [],
   "source": [
    "curiosityQuestions = [\n",
    "    #QInterestBiology,\\\n",
    "    QCuriosityBiology,\\\n",
    "    QCuriositySyntheticBiology,\\\n",
    "    QCuriosityEngineering,\\\n",
    "    QCuriosityVideoGames,\\\n",
    "    #QEnjoyed,\\\n",
    "]\n",
    "questions = [deltaPrefix + \" \" + q for q in curiosityQuestions]\n",
    "questions"
   ]
  },
  {
   "cell_type": "code",
   "execution_count": null,
   "metadata": {
    "scrolled": false
   },
   "outputs": [],
   "source": [
    "plotPretestPosttestDeltaGfdf(allData, curiosityQuestions)"
   ]
  },
  {
   "cell_type": "code",
   "execution_count": null,
   "metadata": {},
   "outputs": [],
   "source": [
    "for q in curiosityQuestions:\n",
    "    analyseQuestion(allDataPlaytestPretestPosttestUniqueProfilesPhase1, q)"
   ]
  },
  {
   "cell_type": "markdown",
   "metadata": {},
   "source": [
    "### 1-5 scale analysis"
   ]
  },
  {
   "cell_type": "code",
   "execution_count": null,
   "metadata": {},
   "outputs": [],
   "source": [
    "# from dataFormating.ipynb\n",
    "QCuriosityCoding = {\"A lot\": 4, \"Beaucoup\": 4, \"Enormément\": 5, \"Énormément\": 5, \"Extremely\": 5, \"Moderately\": 3, \"Moyennement\": 3, \"Slightly\": 2, \"Un peu\": 2, \"I don't know\": 3, \"Je ne sais pas\": 3, \"Not at all\": 1, \"Pas du tout\": 1}\n",
    "QCuriosityBiologyCoding = QCuriosityCoding\n",
    "QCuriositySyntheticBiologyCoding = QCuriosityCoding\n",
    "QCuriosityEngineeringCoding = QCuriosityCoding\n",
    "QCuriosityVideoGamesCoding = QCuriosityCoding\n",
    "#biologyInterestCoding = {\"A lot\": 4, \"Beaucoup\": 4, \"Enormément\": 5, \"Énormément\": 5, \"Extremely\": 5, \"Moderately\": 3, \"Moyennement\": 3, \"Slightly\": 2, \"Un peu\": 2, \"I don't know\": 3, \"Je ne sais pas\": 3, \"Not at all\": 1, \"Pas du tout\": 1}\n",
    "#QEnjoyedCoding = {'Extremely': 4, 'A lot': 3, 'Not at all': 0, 'A bit': 1, 'Moderately': 2, \"No\": 0, \"Not applicable: not played yet\": -1}\n",
    "\n",
    "curiosityQuestionsCoding = [QCuriosityBiologyCoding, QCuriositySyntheticBiologyCoding, QCuriosityEngineeringCoding, QCuriosityVideoGamesCoding]"
   ]
  },
  {
   "cell_type": "code",
   "execution_count": null,
   "metadata": {},
   "outputs": [],
   "source": [
    "gfdfResult = compareUsingCustomCorrection(\n",
    "    gfdfPlaytestPretestPosttestUniqueProfilesPhase1,\n",
    "    curiosityQuestions,\n",
    "    curiosityQuestionsCoding,\n",
    ")"
   ]
  },
  {
   "cell_type": "code",
   "execution_count": null,
   "metadata": {},
   "outputs": [],
   "source": [
    "plotPretestPosttestDeltaGfdf(gfdfResult, curiosityQuestions, \n",
    "                            plotGraphs = False, printData = True, saveFiles = False, suffix = ' 1-5 score variation'\n",
    "                            )"
   ]
  },
  {
   "cell_type": "code",
   "execution_count": null,
   "metadata": {},
   "outputs": [],
   "source": [
    "def analyseQuestionGroup(allData, Qs, plotGraphs = True, printData = True, saveFiles = False, title = \"\"):\n",
    "    pretestQs  = [answerTemporalities[0] + \" \" + q for q in Qs]\n",
    "    posttestQs = [answerTemporalities[1] + \" \" + q for q in Qs]\n",
    "    deltaQs    = [deltaPrefix            + \" \" + q for q in Qs]    \n",
    "\n",
    "    pretestScores  = allData.loc[pretestQs,  :].sum()\n",
    "    posttestScores = allData.loc[posttestQs, :].sum()\n",
    "    deltaScores    = allData.loc[deltaQs,    :].sum()\n",
    "    \n",
    "    questionGroupStem = \"question group\"\n",
    "    pretestColumn  = answerTemporalities[0] + \" \" + questionGroupStem\n",
    "    posttestColumn = answerTemporalities[1] + \" \" + questionGroupStem\n",
    "    deltaColumn    = deltaPrefix            + \" \" + questionGroupStem\n",
    "    \n",
    "    gfdfResult = pd.DataFrame(data = [deltaScores, pretestScores, posttestScores],\\\n",
    "                              columns = deltaScores.index,\\\n",
    "                              index = [deltaColumn, pretestColumn, posttestColumn])\n",
    "    \n",
    "    plotPretestPosttestDeltaGfdf(gfdfResult, [questionGroupStem], \n",
    "                            plotGraphs = plotGraphs, printData = printData, saveFiles = saveFiles, title = title\n",
    "                            )"
   ]
  },
  {
   "cell_type": "markdown",
   "metadata": {},
   "source": [
    "## H2b Specific scientific questions"
   ]
  },
  {
   "cell_type": "code",
   "execution_count": null,
   "metadata": {},
   "outputs": [],
   "source": [
    "scientificQuestions"
   ]
  },
  {
   "cell_type": "markdown",
   "metadata": {},
   "source": [
    "### a)"
   ]
  },
  {
   "cell_type": "code",
   "execution_count": null,
   "metadata": {
    "scrolled": false
   },
   "outputs": [],
   "source": [
    "plotPretestPosttestDeltaGfdf(allData, [QGenotypePhenotype])"
   ]
  },
  {
   "cell_type": "code",
   "execution_count": null,
   "metadata": {},
   "outputs": [],
   "source": [
    "QGenotypePhenotypePossibleAnswersEN"
   ]
  },
  {
   "cell_type": "code",
   "execution_count": null,
   "metadata": {},
   "outputs": [],
   "source": [
    "def getQGenotypePhenotypeGrading(correctAnsCost,halfCorAnsCost,dontKnoAnsCost,incorreAnsCost,):\n",
    "\n",
    "    r0 = QGenotypePhenotypePossibleAnswersEN[0]\n",
    "    r1 = QGenotypePhenotypePossibleAnswersEN[1]\n",
    "    r1bis = 'Gather nanorobots'\n",
    "    r2 = QGenotypePhenotypePossibleAnswersEN[2]\n",
    "    r3 = QGenotypePhenotypePossibleAnswersEN[3]\n",
    "    r4 = QGenotypePhenotypePossibleAnswersEN[4]\n",
    "\n",
    "#                            'Edit the DNA of the bacterium',\n",
    "#                                                        'Gather nanobots',\n",
    "#                                                                      'Gather nanorobots',\n",
    "#                                                                                            'Move the bacterium',\n",
    "#                                                                                                               'Divide the bacterium',\n",
    "#                                                                                                                                  \"I don't know\"\n",
    "    QGenotypePhenotypeGrading = {r0:correctAnsCost, r1:incorreAnsCost, r1bis:incorreAnsCost, r2:halfCorAnsCost, r3:incorreAnsCost, r4:dontKnoAnsCost,}\n",
    "\n",
    "    return [\n",
    "    QGenotypePhenotypeGrading\n",
    "    ]\n"
   ]
  },
  {
   "cell_type": "code",
   "execution_count": null,
   "metadata": {},
   "outputs": [],
   "source": [
    "baseGrading = getQGenotypePhenotypeGrading(1,0,0,0)\n",
    "lenientGrading = getQGenotypePhenotypeGrading(3,2,1,0)\n",
    "# This strict grading policy penalizes errors, and gives more points for \"I don't know\" answers than to errors.\n",
    "strictGrading = getQGenotypePhenotypeGrading(3,1,2,0)"
   ]
  },
  {
   "cell_type": "code",
   "execution_count": null,
   "metadata": {},
   "outputs": [],
   "source": [
    "gfdfResult = compareUsingCustomCorrection(\n",
    "                                            gfdfPlaytestPretestPosttestUniqueProfilesVolunteersPhase1,\n",
    "                                            [QGenotypePhenotype],\n",
    "                                            baseGrading,\n",
    "                                        )\n",
    "analyseQuestionGroup(gfdfResult, [QGenotypePhenotype], title=\"device questions - base\",\n",
    "                     plotGraphs = False, printData = True, saveFiles = False)"
   ]
  },
  {
   "cell_type": "code",
   "execution_count": null,
   "metadata": {},
   "outputs": [],
   "source": [
    "gfdfResult = compareUsingCustomCorrection(\n",
    "                                            gfdfPlaytestPretestPosttestUniqueProfilesVolunteersPhase1,\n",
    "                                            [QGenotypePhenotype],\n",
    "                                            lenientGrading,\n",
    "                                        )\n",
    "analyseQuestionGroup(gfdfResult, [QGenotypePhenotype], title=\"device questions - base\",\n",
    "                     plotGraphs = False, printData = True, saveFiles = False)"
   ]
  },
  {
   "cell_type": "code",
   "execution_count": null,
   "metadata": {},
   "outputs": [],
   "source": [
    "pretestScores  = allData.loc[answerTemporalities[0] + \" Device: GFP:RBS:PCONS:TER XXX\" ,:]\n",
    "pretestScores[\"3421dfc4-8085-4af7-bf73-a46e655fc2ca\"]"
   ]
  },
  {
   "cell_type": "code",
   "execution_count": null,
   "metadata": {
    "scrolled": false
   },
   "outputs": [],
   "source": [
    "gfdfResult = compareUsingCustomCorrection(\n",
    "                                            gfdfPlaytestPretestPosttestUniqueProfilesVolunteersPhase1,\n",
    "                                            [QGenotypePhenotype],\n",
    "                                            strictGrading,\n",
    "                                        )\n",
    "analyseQuestionGroup(gfdfResult, [QGenotypePhenotype], title=\"device questions - strict grading\",\n",
    "                     plotGraphs = True, printData = True, saveFiles = False)"
   ]
  },
  {
   "cell_type": "code",
   "execution_count": null,
   "metadata": {},
   "outputs": [],
   "source": [
    "len(gfdfPlaytestPretestPosttestUniqueProfilesVolunteersPhase1)"
   ]
  },
  {
   "cell_type": "markdown",
   "metadata": {},
   "source": [
    "### c)"
   ]
  },
  {
   "cell_type": "markdown",
   "metadata": {},
   "source": [
    "#### overall binary analysis"
   ]
  },
  {
   "cell_type": "code",
   "execution_count": null,
   "metadata": {
    "scrolled": false
   },
   "outputs": [],
   "source": [
    "h2bcQuestions = [\n",
    "    #'What does this device do? RBS:PCONS:FLHDC:TER XXX', #32\n",
    "    QDeviceRbsPconsFlhdcTer,\n",
    "    #'What does this device do? PCONS:RBS:FLHDC:TER', #33\n",
    "    QDevicePconsRbsFlhdcTer,\n",
    "    #'What does this device do? PBAD:RBS:GFP:TER', #34\n",
    "    QDevicePbadRbsGfpTer,\n",
    "    #'What does this device do? PBAD:GFP:RBS:TER XXX', #35\n",
    "    QDevicePbadGfpRbsTer,\n",
    "    #'What does this device do? GFP:RBS:PCONS:TER XXX', #36\n",
    "    QDeviceGfpRbsPconsTer,\n",
    "    #'What does this device do? PCONS:GFP:RBS:TER XXX', #37\n",
    "    QDevicePconsGfpRbsTer,\n",
    "    #'What does this device do? AMPR:RBS:PCONS:TER XXX', #38\n",
    "    QDeviceAmprRbsPconsTer,\n",
    "    #'What does this device do? RBS:PCONS:AMPR:TER XXX', #39\n",
    "    QDeviceRbsPconsAmprTer,\n",
    "]\n",
    "analyseQuestionGroup(allData, h2bcQuestions, title=\"device questions - binary\")"
   ]
  },
  {
   "cell_type": "markdown",
   "metadata": {},
   "source": [
    "#### biobrick grammar analysis\n",
    "More lenient approach: only considering grammar"
   ]
  },
  {
   "cell_type": "code",
   "execution_count": null,
   "metadata": {},
   "outputs": [],
   "source": [
    "def getDeviceQuestionsGrading(correctAnsCost,halfCorAnsCost,dontKnoAnsCost,incorreAnsCost,):\n",
    "\n",
    "    r0 = DeviceAnswersPossibleAnswersEN[0]\n",
    "    r1 = DeviceAnswersPossibleAnswersEN[1]\n",
    "    r2 = DeviceAnswersPossibleAnswersEN[2]\n",
    "    r3 = DeviceAnswersPossibleAnswersEN[3]\n",
    "    r4 = DeviceAnswersPossibleAnswersEN[4]\n",
    "    r5 = DeviceAnswersPossibleAnswersEN[5]\n",
    "\n",
    "    QDeviceRbsPconsFlhdcTerCoding = {r0:correctAnsCost, r1:incorreAnsCost, r2:incorreAnsCost, r3:incorreAnsCost, r4:incorreAnsCost, r5:dontKnoAnsCost,}\n",
    "    QDevicePconsRbsFlhdcTerCoding = {r0:incorreAnsCost, r1:halfCorAnsCost, r2:halfCorAnsCost, r3:correctAnsCost, r4:halfCorAnsCost, r5:dontKnoAnsCost,}\n",
    "    QDevicePbadRbsGfpTerCoding =    {r0:incorreAnsCost, r1:halfCorAnsCost, r2:correctAnsCost, r3:halfCorAnsCost, r4:halfCorAnsCost, r5:dontKnoAnsCost,}\n",
    "    QDevicePbadGfpRbsTerCoding =    {r0:correctAnsCost, r1:incorreAnsCost, r2:incorreAnsCost, r3:incorreAnsCost, r4:incorreAnsCost, r5:dontKnoAnsCost,}\n",
    "    QDeviceGfpRbsPconsTerCoding =   {r0:correctAnsCost, r1:incorreAnsCost, r2:incorreAnsCost, r3:incorreAnsCost, r4:incorreAnsCost, r5:dontKnoAnsCost,}\n",
    "    QDevicePconsGfpRbsTerCoding =   {r0:correctAnsCost, r1:incorreAnsCost, r2:incorreAnsCost, r3:incorreAnsCost, r4:incorreAnsCost, r5:dontKnoAnsCost,}\n",
    "    QDeviceAmprRbsPconsTerCoding =  {r0:correctAnsCost, r1:incorreAnsCost, r2:incorreAnsCost, r3:incorreAnsCost, r4:incorreAnsCost, r5:dontKnoAnsCost,}\n",
    "    QDeviceRbsPconsAmprTerCoding =  {r0:correctAnsCost, r1:incorreAnsCost, r2:incorreAnsCost, r3:incorreAnsCost, r4:incorreAnsCost, r5:dontKnoAnsCost,}\n",
    "\n",
    "    return [\n",
    "    QDeviceRbsPconsFlhdcTerCoding,\n",
    "    QDevicePconsRbsFlhdcTerCoding,\n",
    "    QDevicePbadRbsGfpTerCoding,\n",
    "    QDevicePbadGfpRbsTerCoding,\n",
    "    QDeviceGfpRbsPconsTerCoding,\n",
    "    QDevicePconsGfpRbsTerCoding,\n",
    "    QDeviceAmprRbsPconsTerCoding,\n",
    "    QDeviceRbsPconsAmprTerCoding,\n",
    "    ]\n"
   ]
  },
  {
   "cell_type": "code",
   "execution_count": null,
   "metadata": {},
   "outputs": [],
   "source": [
    "baseGrading = getDeviceQuestionsGrading(1,0,0,0)\n",
    "onlyGrammarGrading = getDeviceQuestionsGrading(2,2,1,0)\n",
    "lenientGrading = getDeviceQuestionsGrading(3,2,1,0)\n",
    "# This strict grading policy penalizes errors, and gives more points for \"I don't know\" answers than to errors.\n",
    "strictGrading = getDeviceQuestionsGrading(3,1,2,0)"
   ]
  },
  {
   "cell_type": "code",
   "execution_count": null,
   "metadata": {},
   "outputs": [],
   "source": [
    "gfdfResult = compareUsingCustomCorrection(\n",
    "                                            gfdfPlaytestPretestPosttestUniqueProfilesVolunteersPhase1,\n",
    "                                            h2bcQuestions,\n",
    "                                            baseGrading,\n",
    "                                        )\n",
    "analyseQuestionGroup(gfdfResult, h2bcQuestions, title=\"device questions - base\",\n",
    "                     plotGraphs = False, printData = True, saveFiles = False)"
   ]
  },
  {
   "cell_type": "code",
   "execution_count": null,
   "metadata": {},
   "outputs": [],
   "source": [
    "gfdfResult = compareUsingCustomCorrection(\n",
    "                                            gfdfPlaytestPretestPosttestUniqueProfilesVolunteersPhase1,\n",
    "                                            h2bcQuestions,\n",
    "                                            onlyGrammarGrading,\n",
    "                                        )\n",
    "analyseQuestionGroup(gfdfResult, h2bcQuestions, title=\"device questions - grammar\",\n",
    "                     plotGraphs = False, printData = True, saveFiles = False)"
   ]
  },
  {
   "cell_type": "code",
   "execution_count": null,
   "metadata": {},
   "outputs": [],
   "source": [
    "gfdfResult = compareUsingCustomCorrection(\n",
    "                                            gfdfPlaytestPretestPosttestUniqueProfilesVolunteersPhase1,\n",
    "                                            h2bcQuestions,\n",
    "                                            lenientGrading,\n",
    "                                        )\n",
    "analyseQuestionGroup(gfdfResult, h2bcQuestions, title=\"device questions - lenient\",\n",
    "                     plotGraphs = False, printData = True, saveFiles = False)"
   ]
  },
  {
   "cell_type": "code",
   "execution_count": null,
   "metadata": {},
   "outputs": [],
   "source": [
    "gfdfResult = compareUsingCustomCorrection(\n",
    "                                            gfdfPlaytestPretestPosttestUniqueProfilesVolunteersPhase1,\n",
    "                                            h2bcQuestions,\n",
    "                                            strictGrading,\n",
    "                                        )\n",
    "analyseQuestionGroup(gfdfResult, h2bcQuestions, title=\"device questions - misconceptions\",\n",
    "                     plotGraphs = True, printData = True, saveFiles = False)"
   ]
  },
  {
   "cell_type": "markdown",
   "metadata": {},
   "source": [
    "### d)"
   ]
  },
  {
   "cell_type": "code",
   "execution_count": null,
   "metadata": {},
   "outputs": [],
   "source": [
    "h2bdQuestions = [\n",
    "    #'Represents the end of a device... TER', #20\n",
    "    QBBFunctionTER,\n",
    "    #'Represents the ability given... CDS', #22\n",
    "    QBBFunctionGameCDS,\n",
    "    #'Codes a protein... CDS', #24\n",
    "    QBBFunctionBiologyCDS,\n",
    "    #'Controls when the device is active... PR', #28\n",
    "    QBBFunctionPR,\n",
    "    #'Controls the level of expression, and thus how much the ability will be affected... RBS', #29\n",
    "    QBBFunctionRBS,\n",
    "]"
   ]
  },
  {
   "cell_type": "code",
   "execution_count": null,
   "metadata": {},
   "outputs": [],
   "source": [
    "def getBioBrickFunctionsQuestionsGrading(correctAnsCost,halfCorAnsCost,dontKnoAnsCost,incorreAnsCost,):\n",
    "\n",
    "    r0 = BioBrickAnswersPossibleAnswersEN[0]\n",
    "    r1 = BioBrickAnswersPossibleAnswersEN[1]\n",
    "    r2 = BioBrickAnswersPossibleAnswersEN[2]\n",
    "    r3 = BioBrickAnswersPossibleAnswersEN[3]\n",
    "    r4 = BioBrickAnswersPossibleAnswersEN[4]\n",
    "    r5 = BioBrickAnswersPossibleAnswersEN[5]\n",
    "    r6 = BioBrickAnswersPossibleAnswersEN[6]\n",
    "    \n",
    "    QBBFunctionTERCoding        = {r0:incorreAnsCost, r1:correctAnsCost, r2:halfCorAnsCost, r3:halfCorAnsCost, r4:halfCorAnsCost, r5:incorreAnsCost, r6:dontKnoAnsCost,}\n",
    "    QBBFunctionGameCDSCoding    = {r0:incorreAnsCost, r1:halfCorAnsCost, r2:halfCorAnsCost, r3:correctAnsCost, r4:halfCorAnsCost, r5:incorreAnsCost, r6:dontKnoAnsCost,}\n",
    "    QBBFunctionBiologyCDSCoding = {r0:incorreAnsCost, r1:halfCorAnsCost, r2:halfCorAnsCost, r3:correctAnsCost, r4:halfCorAnsCost, r5:incorreAnsCost, r6:dontKnoAnsCost,}\n",
    "    QBBFunctionPRCoding         = {r0:incorreAnsCost, r1:halfCorAnsCost, r2:correctAnsCost, r3:halfCorAnsCost, r4:halfCorAnsCost, r5:incorreAnsCost, r6:dontKnoAnsCost,}\n",
    "    QBBFunctionRBSCoding        = {r0:incorreAnsCost, r1:halfCorAnsCost, r2:halfCorAnsCost, r3:halfCorAnsCost, r4:correctAnsCost, r5:incorreAnsCost, r6:dontKnoAnsCost,}\n",
    "\n",
    "    return [\n",
    "    QBBFunctionTERCoding,\n",
    "    QBBFunctionGameCDSCoding,\n",
    "    QBBFunctionBiologyCDSCoding,\n",
    "    QBBFunctionPRCoding,\n",
    "    QBBFunctionRBSCoding,\n",
    "    ]\n"
   ]
  },
  {
   "cell_type": "code",
   "execution_count": null,
   "metadata": {},
   "outputs": [],
   "source": [
    "baseGrading = getBioBrickFunctionsQuestionsGrading(1,0,0,0)\n",
    "onlBBTypeGrading = getBioBrickFunctionsQuestionsGrading(2,2,1,0) # same grading if a BioBrick is selected as answer\n",
    "lenientGrading = getBioBrickFunctionsQuestionsGrading(3,2,1,0)\n",
    "strictGrading = getBioBrickFunctionsQuestionsGrading(3,1,2,0)"
   ]
  },
  {
   "cell_type": "code",
   "execution_count": null,
   "metadata": {
    "scrolled": false
   },
   "outputs": [],
   "source": [
    "gfdfResult = compareUsingCustomCorrection(\n",
    "                                            gfdfPlaytestPretestPosttestUniqueProfilesVolunteersPhase1,\n",
    "                                            h2bdQuestions,\n",
    "                                            baseGrading,\n",
    "                                        )\n",
    "analyseQuestionGroup(gfdfResult, h2bdQuestions, title=\"device questions - base\",\n",
    "                     plotGraphs = False, printData = True, saveFiles = False)"
   ]
  },
  {
   "cell_type": "code",
   "execution_count": null,
   "metadata": {
    "scrolled": false
   },
   "outputs": [],
   "source": [
    "gfdfResult = compareUsingCustomCorrection(\n",
    "                                            gfdfPlaytestPretestPosttestUniqueProfilesVolunteersPhase1,\n",
    "                                            h2bdQuestions,\n",
    "                                            onlBBTypeGrading,\n",
    "                                        )\n",
    "analyseQuestionGroup(gfdfResult, h2bdQuestions, title=\"device questions - BioBrick category\",\n",
    "                     plotGraphs = False, printData = True, saveFiles = False)"
   ]
  },
  {
   "cell_type": "code",
   "execution_count": null,
   "metadata": {
    "scrolled": false
   },
   "outputs": [],
   "source": [
    "gfdfResult = compareUsingCustomCorrection(\n",
    "                                            gfdfPlaytestPretestPosttestUniqueProfilesVolunteersPhase1,\n",
    "                                            h2bdQuestions,\n",
    "                                            lenientGrading,\n",
    "                                        )\n",
    "analyseQuestionGroup(gfdfResult, h2bdQuestions, title=\"device questions - lenient\",\n",
    "                     plotGraphs = False, printData = True, saveFiles = False)"
   ]
  },
  {
   "cell_type": "code",
   "execution_count": null,
   "metadata": {
    "scrolled": false
   },
   "outputs": [],
   "source": [
    "gfdfResult = compareUsingCustomCorrection(\n",
    "                                            gfdfPlaytestPretestPosttestUniqueProfilesVolunteersPhase1,\n",
    "                                            h2bdQuestions,\n",
    "                                            strictGrading,\n",
    "                                        )\n",
    "analyseQuestionGroup(gfdfResult, h2bdQuestions, title=\"device questions - misconceptions\",\n",
    "                     plotGraphs = True, printData = True, saveFiles = False)"
   ]
  },
  {
   "cell_type": "markdown",
   "metadata": {},
   "source": [
    "### e)"
   ]
  },
  {
   "cell_type": "code",
   "execution_count": null,
   "metadata": {},
   "outputs": [],
   "source": [
    "h2beQuestions = [\n",
    "    #'What does this device do? RBS:PCONS:FLHDC:TER XXX', #32\n",
    "    QDeviceRbsPconsFlhdcTer,\n",
    "    #'What does this device do? PCONS:RBS:FLHDC:TER', #33\n",
    "    QDevicePconsRbsFlhdcTer,\n",
    "    #'What does this device do? GFP:RBS:PCONS:TER XXX', #36\n",
    "    QDeviceGfpRbsPconsTer,\n",
    "    #'What does this device do? PCONS:GFP:RBS:TER XXX', #37\n",
    "    QDevicePconsGfpRbsTer,\n",
    "    #'What does this device do? AMPR:RBS:PCONS:TER XXX', #38\n",
    "    QDeviceAmprRbsPconsTer,\n",
    "    #'What does this device do? RBS:PCONS:AMPR:TER XXX', #39\n",
    "    QDeviceRbsPconsAmprTer,\n",
    "    \n",
    "    #'What does this device do? PBAD:RBS:GFP:TER', #34\n",
    "    QDevicePbadRbsGfpTer,\n",
    "    #'What does this device do? PBAD:GFP:RBS:TER XXX', #35\n",
    "    QDevicePbadGfpRbsTer,\n",
    "    #'What does this device do? GFP:RBS:PCONS:TER XXX', #36    \n",
    "    \n",
    "    #'Last question. Next page only contains remarks.Guess: you have crafted a functional device containing an arabinose-induced promoter and an arabinose Coding Sequence (CDS). What will happen?', #42\n",
    "    QDevicePbadRbsAraTer,\n",
    "]\n",
    "\n",
    "h2beStricterQuestions = [\n",
    "    \n",
    "    #'What does this device do? PBAD:RBS:GFP:TER', #34\n",
    "    QDevicePbadRbsGfpTer,\n",
    "    #'What does this device do? PBAD:GFP:RBS:TER XXX', #35\n",
    "    QDevicePbadGfpRbsTer,\n",
    "    #'What does this device do? GFP:RBS:PCONS:TER XXX', #36    \n",
    "    \n",
    "    #'Last question. Next page only contains remarks.Guess: you have crafted a functional device containing an arabinose-induced promoter and an arabinose Coding Sequence (CDS). What will happen?', #42\n",
    "    QDevicePbadRbsAraTer,\n",
    "]\n",
    "\n",
    "h2beStrictestQuestions = [ \n",
    "    \n",
    "    #'Last question. Next page only contains remarks.Guess: you have crafted a functional device containing an arabinose-induced promoter and an arabinose Coding Sequence (CDS). What will happen?', #42\n",
    "    QDevicePbadRbsAraTer,\n",
    "]"
   ]
  },
  {
   "cell_type": "code",
   "execution_count": null,
   "metadata": {
    "scrolled": false
   },
   "outputs": [],
   "source": [
    "analyseQuestionGroup(allData, h2beQuestions, title=\"induction questions - binary\")\n",
    "analyseQuestionGroup(allData, h2beStricterQuestions, title=\"induction questions - binary\")\n",
    "analyseQuestionGroup(allData, h2beStrictestQuestions, title=\"induction questions - binary\")"
   ]
  },
  {
   "cell_type": "code",
   "execution_count": null,
   "metadata": {},
   "outputs": [],
   "source": [
    "QDevicePbadRbsAraTerPossibleAnswersEN"
   ]
  },
  {
   "cell_type": "code",
   "execution_count": null,
   "metadata": {},
   "outputs": [],
   "source": [
    "def getInductionQuestionsGrading(correctAnsCost,halfCorAnsCost,dontKnoAnsCost,incorreAnsCost,):\n",
    "\n",
    "    r0 = DeviceAnswersPossibleAnswersEN[0]\n",
    "    r1 = DeviceAnswersPossibleAnswersEN[1]\n",
    "    r2 = DeviceAnswersPossibleAnswersEN[2]\n",
    "    r3 = DeviceAnswersPossibleAnswersEN[3]\n",
    "    r4 = DeviceAnswersPossibleAnswersEN[4]\n",
    "\n",
    "    r5 = QDevicePbadRbsAraTerPossibleAnswersEN[0]\n",
    "    r6 = QDevicePbadRbsAraTerPossibleAnswersEN[1]\n",
    "    r7 = QDevicePbadRbsAraTerPossibleAnswersEN[2]\n",
    "    r8 = QDevicePbadRbsAraTerPossibleAnswersEN[3]\n",
    "\n",
    "    rIDK = DeviceAnswersPossibleAnswersEN[5]\n",
    "\n",
    "#                            'The bricks are not well-ordered',\n",
    "#                                                     'It generates green fluorescence',\n",
    "#                                                     'It generates green fluorescence in presence of arabinose inducer',\n",
    "#                                                                                     'It makes it possible to move faster',\n",
    "#                                                                                                         'It generates antibiotic resistance'\n",
    "    QDeviceRbsPconsFlhdcTerGrading = {r0:halfCorAnsCost, r1:halfCorAnsCost, r2:incorreAnsCost, r3:halfCorAnsCost, r4:halfCorAnsCost, rIDK:dontKnoAnsCost,}\n",
    "    QDevicePconsRbsFlhdcTerGrading = {r0:halfCorAnsCost, r1:halfCorAnsCost, r2:incorreAnsCost, r3:halfCorAnsCost, r4:halfCorAnsCost, rIDK:dontKnoAnsCost,}\n",
    "    QDeviceGfpRbsPconsTerGrading   = {r0:halfCorAnsCost, r1:halfCorAnsCost, r2:incorreAnsCost, r3:halfCorAnsCost, r4:halfCorAnsCost, rIDK:dontKnoAnsCost,}\n",
    "    QDevicePconsGfpRbsTerGrading   = {r0:halfCorAnsCost, r1:halfCorAnsCost, r2:incorreAnsCost, r3:halfCorAnsCost, r4:halfCorAnsCost, rIDK:dontKnoAnsCost,}\n",
    "    QDeviceAmprRbsPconsTerGrading  = {r0:halfCorAnsCost, r1:halfCorAnsCost, r2:incorreAnsCost, r3:halfCorAnsCost, r4:halfCorAnsCost, rIDK:dontKnoAnsCost,}\n",
    "    QDeviceRbsPconsAmprTerGrading  = {r0:halfCorAnsCost, r1:halfCorAnsCost, r2:incorreAnsCost, r3:halfCorAnsCost, r4:halfCorAnsCost, rIDK:dontKnoAnsCost,}\n",
    "    QDevicePbadRbsGfpTerGrading    = {r0:halfCorAnsCost, r1:incorreAnsCost, r2:correctAnsCost, r3:halfCorAnsCost, r4:halfCorAnsCost, rIDK:dontKnoAnsCost,}\n",
    "    QDevicePbadGfpTbsTerGrading    = {r0:halfCorAnsCost, r1:halfCorAnsCost, r2:halfCorAnsCost, r3:halfCorAnsCost, r4:halfCorAnsCost, rIDK:dontKnoAnsCost,}\n",
    "\n",
    "    QDevicePbadRbsAraTerGrading    = {r5:halfCorAnsCost, r6:halfCorAnsCost, r7:correctAnsCost, r8:incorreAnsCost, rIDK:dontKnoAnsCost,}\n",
    "\n",
    "    return [\n",
    "    QDeviceRbsPconsFlhdcTerGrading,\n",
    "    QDevicePconsRbsFlhdcTerGrading,\n",
    "    QDeviceGfpRbsPconsTerGrading,\n",
    "    QDevicePconsGfpRbsTerGrading,\n",
    "    QDeviceAmprRbsPconsTerGrading,\n",
    "    QDeviceRbsPconsAmprTerGrading,\n",
    "    QDevicePbadRbsGfpTerGrading,\n",
    "    QDevicePbadGfpTbsTerGrading,\n",
    "    QDevicePbadRbsAraTerGrading,\n",
    "    ]"
   ]
  },
  {
   "cell_type": "code",
   "execution_count": null,
   "metadata": {},
   "outputs": [],
   "source": [
    "lenientGrading = getInductionQuestionsGrading(3,2,1,0)\n",
    "strictGrading = getInductionQuestionsGrading(3,1,2,0)"
   ]
  },
  {
   "cell_type": "code",
   "execution_count": null,
   "metadata": {
    "scrolled": false
   },
   "outputs": [],
   "source": [
    "gfdfResult = compareUsingCustomCorrection(\n",
    "                                            gfdfPlaytestPretestPosttestUniqueProfilesVolunteersPhase1,\n",
    "                                            h2beQuestions,\n",
    "                                            lenientGrading,\n",
    "                                        )\n",
    "analyseQuestionGroup(gfdfResult, h2beQuestions, title=\"induction questions - lenientGrading\",\n",
    "                     plotGraphs = False, printData = True, saveFiles = False)"
   ]
  },
  {
   "cell_type": "code",
   "execution_count": null,
   "metadata": {
    "scrolled": false
   },
   "outputs": [],
   "source": [
    "gfdfResult = compareUsingCustomCorrection(\n",
    "                                            gfdfPlaytestPretestPosttestUniqueProfilesVolunteersPhase1,\n",
    "                                            h2beQuestions,\n",
    "                                            strictGrading,\n",
    "                                        )\n",
    "analyseQuestionGroup(gfdfResult, h2beQuestions, title=\"induction questions - strictGrading\",\n",
    "                     plotGraphs = False, printData = True, saveFiles = False)"
   ]
  },
  {
   "cell_type": "code",
   "execution_count": null,
   "metadata": {},
   "outputs": [],
   "source": [
    "correctPerMaxChapter = pd.DataFrame(index = posttestScientificQuestions, columns = range(15))"
   ]
  },
  {
   "cell_type": "code",
   "execution_count": null,
   "metadata": {},
   "outputs": [],
   "source": [
    "allData.loc[:, allData.loc['maxChapter', :] == 10].columns"
   ]
  },
  {
   "cell_type": "code",
   "execution_count": null,
   "metadata": {
    "scrolled": false
   },
   "outputs": [],
   "source": [
    "# when reaching checkpoint N, what is the rate of good answer for question Q?\n",
    "maxCheckpointsDF = pd.DataFrame(index = ['maxCh'], columns=range(15))\n",
    "\n",
    "for chapter in allData.loc['maxChapter', :].unique():\n",
    "    eltsCount = len(allData.loc[:, allData.loc['maxChapter', :] == chapter].columns)\n",
    "    maxCheckpointsDF.loc['maxCh', chapter] = eltsCount\n",
    "    for q in posttestScientificQuestions:\n",
    "        interestingElts = allData.loc[q, allData.loc['maxChapter', :] == chapter]\n",
    "        scoreSum = interestingElts.sum()\n",
    "        correctPerMaxChapter.loc[q, chapter] = int(scoreSum * 100 / eltsCount)\n",
    "correctPerMaxChapterNotNan = correctPerMaxChapter.fillna(-1)\n",
    "\n",
    "_fig1 = plt.figure(figsize=(20,20))\n",
    "_ax1 = plt.subplot(111)\n",
    "_ax1.set_title(\"maxCheckpointsDF\")\n",
    "sns.heatmap(\n",
    "    correctPerMaxChapterNotNan,\n",
    "    ax=_ax1,\n",
    "    cmap=plt.cm.jet,\n",
    "    square=True,\n",
    "    annot=True,\n",
    "    fmt='d',\n",
    ")\n",
    "\n",
    "\n",
    "maxCheckpointsDFNotNan = maxCheckpointsDF.fillna(0)\n",
    "\n",
    "_fig2 = plt.figure(figsize=(14,2))\n",
    "_ax2 = plt.subplot(111)\n",
    "_ax2.set_title(\"maxCheckpointsDF\")\n",
    "sns.heatmap(\n",
    "            maxCheckpointsDFNotNan,\n",
    "            ax=_ax2,\n",
    "            cmap=plt.cm.jet,\n",
    "            square=True,\n",
    "            annot=True,\n",
    "            fmt='d',\n",
    "        )"
   ]
  },
  {
   "cell_type": "code",
   "execution_count": null,
   "metadata": {},
   "outputs": [],
   "source": [
    "corrChapterScQDF = pd.DataFrame(index=posttestScientificQuestions, columns=['corr'])\n",
    "\n",
    "# when reaching checkpoint N, what is the rate of good answer for question Q?\n",
    "for q in posttestScientificQuestions:\n",
    "    corrChapterScQDF.loc[q, 'corr'] = np.corrcoef(allData.loc[q,:].values, allData.loc['maxChapter',:].values)[1,0]\n",
    "\n",
    "corrChapterScQDFNotNan = corrChapterScQDF.fillna(-2)\n",
    "\n",
    "_fig1 = plt.figure(figsize=(14,10))\n",
    "_ax1 = plt.subplot(111)\n",
    "_ax1.set_title(\"corrChapterScQDFNotNan\")\n",
    "sns.heatmap(\n",
    "            corrChapterScQDFNotNan,\n",
    "            ax=_ax1,\n",
    "            cmap=plt.cm.jet,\n",
    "            square=True,\n",
    "            annot=True,\n",
    "            fmt='.2f',\n",
    "            vmin=-1,\n",
    "            vmax=1,\n",
    "        )"
   ]
  }
 ],
 "metadata": {
  "kernelspec": {
   "display_name": "Python 3",
   "language": "python",
   "name": "python3"
  },
  "language_info": {
   "codemirror_mode": {
    "name": "ipython",
    "version": 3
   },
   "file_extension": ".py",
   "mimetype": "text/x-python",
   "name": "python",
   "nbconvert_exporter": "python",
   "pygments_lexer": "ipython3",
   "version": "3.6.5"
  }
 },
 "nbformat": 4,
 "nbformat_minor": 2
}
