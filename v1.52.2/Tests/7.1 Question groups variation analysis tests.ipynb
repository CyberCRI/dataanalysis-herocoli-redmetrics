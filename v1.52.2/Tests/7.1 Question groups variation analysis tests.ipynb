{
 "cells": [
  {
   "cell_type": "markdown",
   "metadata": {},
   "source": [
    "# 7.1 Question groups variation analysis tests"
   ]
  },
  {
   "cell_type": "markdown",
   "metadata": {},
   "source": [
    "Table of contents\n",
    "\n",
    "[H2b Specific scientific questions](#H2b-Specific-scientific-questions)\n",
    "\n",
    "   [a\\)](#a%29)\n",
    "  \n",
    "   [b\\)](#b%29)\n",
    "  \n",
    "   [c\\)](#c%29)\n",
    "  \n",
    "   [d\\)](#d%29)\n",
    "  \n",
    "   [e\\)](#e%29)\n",
    "  \n"
   ]
  },
  {
   "cell_type": "code",
   "execution_count": null,
   "metadata": {
    "scrolled": true
   },
   "outputs": [],
   "source": [
    "%run \"../Functions/7. Question groups variation analysis.ipynb\""
   ]
  },
  {
   "cell_type": "code",
   "execution_count": null,
   "metadata": {},
   "outputs": [],
   "source": [
    "debugging = False"
   ]
  },
  {
   "cell_type": "code",
   "execution_count": null,
   "metadata": {},
   "outputs": [],
   "source": [
    "if debugging:\n",
    "    [x for x in demographicQuestions if not x in numericDemographicQuestions]\n",
    "    for entryIndex in gfdf.index:\n",
    "        try:\n",
    "            for x in getNumeric(gfdf.loc[entryIndex], _source=correctAnswers + demographicAnswers):\n",
    "                if type(x) != float:\n",
    "                    print(entryIndex)\n",
    "                break\n",
    "        except Exception:\n",
    "            print(entryIndex)\n",
    "    #getNumeric(gfdf.iloc[0], _source=correctAnswers + demographicAnswers).apply(lambda x: print(type(x)))"
   ]
  },
  {
   "cell_type": "code",
   "execution_count": null,
   "metadata": {},
   "outputs": [],
   "source": [
    "if debugging:\n",
    "    for x in getNumeric(gfdf.loc['228'], _source=correctAnswers + demographicAnswers):\n",
    "        if type(x) != float:\n",
    "            print(type(x))\n",
    "    gfdf.loc['208']"
   ]
  },
  {
   "cell_type": "code",
   "execution_count": null,
   "metadata": {},
   "outputs": [],
   "source": []
  },
  {
   "cell_type": "code",
   "execution_count": null,
   "metadata": {},
   "outputs": [],
   "source": []
  },
  {
   "cell_type": "code",
   "execution_count": null,
   "metadata": {},
   "outputs": [],
   "source": []
  },
  {
   "cell_type": "code",
   "execution_count": null,
   "metadata": {},
   "outputs": [],
   "source": [
    "[x*100/125 for x in [42, 30, 34, 33, 26, 36, 65, 56]]"
   ]
  },
  {
   "cell_type": "code",
   "execution_count": null,
   "metadata": {},
   "outputs": [],
   "source": [
    "# x is extreme opinion, y is moderate opinion\n",
    "def ratioExtreme(x,y):\n",
    "    return (x * 100)/(x + y)"
   ]
  },
  {
   "cell_type": "code",
   "execution_count": null,
   "metadata": {},
   "outputs": [],
   "source": [
    "#Bio\n",
    "ratioExtreme(8,14),ratioExtreme(10,20),ratioExtreme(10,44),ratioExtreme(12,41)"
   ]
  },
  {
   "cell_type": "code",
   "execution_count": null,
   "metadata": {},
   "outputs": [],
   "source": [
    "#SB\n",
    "ratioExtreme(14,19),ratioExtreme(16,22),ratioExtreme(8,33),ratioExtreme(10,36)"
   ]
  },
  {
   "cell_type": "code",
   "execution_count": null,
   "metadata": {},
   "outputs": [],
   "source": [
    "#VG\n",
    "ratioExtreme(5,19),ratioExtreme(8,20),ratioExtreme(42,42),ratioExtreme(46,30)"
   ]
  },
  {
   "cell_type": "code",
   "execution_count": null,
   "metadata": {},
   "outputs": [],
   "source": [
    "#engineering\n",
    "ratioExtreme(9,17),ratioExtreme(13,23),ratioExtreme(29,36),ratioExtreme(27,29)"
   ]
  },
  {
   "cell_type": "code",
   "execution_count": null,
   "metadata": {},
   "outputs": [],
   "source": [
    "scientificQuestions"
   ]
  },
  {
   "cell_type": "code",
   "execution_count": null,
   "metadata": {},
   "outputs": [],
   "source": [
    "gfdf = gfdfPlaytestPhase1PretestPosttestUniqueProfilesVolunteers.copy()\n",
    "rmdf = rmdfPlaytestPhase1PretestPosttestUniqueProfilesVolunteers.copy()\n",
    "allData = allDataPlaytestPhase1PretestPosttestUniqueProfilesVolunteers.copy()"
   ]
  },
  {
   "cell_type": "code",
   "execution_count": null,
   "metadata": {},
   "outputs": [],
   "source": [
    "saveFiles = False"
   ]
  },
  {
   "cell_type": "code",
   "execution_count": null,
   "metadata": {},
   "outputs": [],
   "source": [
    "baseGradingBase = (1,0,0,0)\n",
    "lenientGradingBase = (3,2,1,0)\n",
    "categoryLenientGradingBase = (2,2,1,0)\n",
    "# This strict grading policy penalizes errors, and gives more points for \"I don't know\" answers than to errors.\n",
    "strictGradingBase = (3,1,2,0)"
   ]
  },
  {
   "cell_type": "code",
   "execution_count": null,
   "metadata": {},
   "outputs": [],
   "source": [
    "baseMisconceptionCoding = {\n",
    "    0: \"incorrect\",\n",
    "    1: \"correct\",\n",
    "}\n",
    "lenientMisconceptionCoding = {\n",
    "    0: \"severe misconception\",\n",
    "    1: \"doesn't know\",\n",
    "    2: \"mild misconception\",\n",
    "    3: \"correct\",\n",
    "}\n",
    "categoryLenientMisconceptionCoding = {\n",
    "    0: \"misconception\",\n",
    "    1: \"doesn't know\",\n",
    "    2: \"correct category\"\n",
    "}\n",
    "strictMisconceptionCoding = {\n",
    "    0: \"severe misconception\",\n",
    "    1: \"mild misconception\",\n",
    "    2: \"doesn't know\",\n",
    "    3: \"correct\",\n",
    "}"
   ]
  },
  {
   "cell_type": "markdown",
   "metadata": {},
   "source": [
    "# Per question analysis"
   ]
  },
  {
   "cell_type": "markdown",
   "metadata": {},
   "source": [
    "## Interest variation"
   ]
  },
  {
   "cell_type": "code",
   "execution_count": null,
   "metadata": {},
   "outputs": [],
   "source": [
    "#QInterestBiology,\\\n",
    "QCuriosityBiology,\\\n",
    "QCuriositySyntheticBiology,\\\n",
    "QCuriosityEngineering,\\\n",
    "QCuriosityVideoGames,\\\n",
    "#QEnjoyed"
   ]
  },
  {
   "cell_type": "code",
   "execution_count": null,
   "metadata": {},
   "outputs": [],
   "source": [
    "curiosityQuestions = [\n",
    "    #QInterestBiology,\\\n",
    "    QCuriosityBiology,\\\n",
    "    QCuriositySyntheticBiology,\\\n",
    "    QCuriosityEngineering,\\\n",
    "    QCuriosityVideoGames,\\\n",
    "    #QEnjoyed,\\\n",
    "]\n",
    "questions = [deltaPrefix + \" \" + q for q in curiosityQuestions]\n",
    "questions"
   ]
  },
  {
   "cell_type": "code",
   "execution_count": null,
   "metadata": {
    "scrolled": false
   },
   "outputs": [],
   "source": [
    "plotPretestPosttestDeltaGfdf(allData, curiosityQuestions)"
   ]
  },
  {
   "cell_type": "code",
   "execution_count": null,
   "metadata": {},
   "outputs": [],
   "source": [
    "for q in curiosityQuestions:\n",
    "    analyseQuestion(allDataPlaytestPhase1PretestPosttestUniqueProfiles, q)"
   ]
  },
  {
   "cell_type": "markdown",
   "metadata": {},
   "source": [
    "### 1-5 scale analysis"
   ]
  },
  {
   "cell_type": "code",
   "execution_count": null,
   "metadata": {},
   "outputs": [],
   "source": [
    "# from dataFormating.ipynb\n",
    "QCuriosityCoding = {\"A lot\": 4, \"Beaucoup\": 4, \"Enormément\": 5, \"Énormément\": 5, \"Extremely\": 5, \"Moderately\": 3, \"Moyennement\": 3, \"Slightly\": 2, \"Un peu\": 2, \"I don't know\": 3, \"Je ne sais pas\": 3, \"Not at all\": 1, \"Pas du tout\": 1}\n",
    "QCuriosityBiologyCoding = QCuriosityCoding\n",
    "QCuriositySyntheticBiologyCoding = QCuriosityCoding\n",
    "QCuriosityEngineeringCoding = QCuriosityCoding\n",
    "QCuriosityVideoGamesCoding = QCuriosityCoding\n",
    "#biologyInterestCoding = {\"A lot\": 4, \"Beaucoup\": 4, \"Enormément\": 5, \"Énormément\": 5, \"Extremely\": 5, \"Moderately\": 3, \"Moyennement\": 3, \"Slightly\": 2, \"Un peu\": 2, \"I don't know\": 3, \"Je ne sais pas\": 3, \"Not at all\": 1, \"Pas du tout\": 1}\n",
    "#QEnjoyedCoding = {'Extremely': 4, 'A lot': 3, 'Not at all': 0, 'A bit': 1, 'Moderately': 2, \"No\": 0, \"Not applicable: not played yet\": -1}\n",
    "\n",
    "curiosityQuestionsCoding = [QCuriosityBiologyCoding, QCuriositySyntheticBiologyCoding, QCuriosityEngineeringCoding, QCuriosityVideoGamesCoding]"
   ]
  },
  {
   "cell_type": "code",
   "execution_count": null,
   "metadata": {},
   "outputs": [],
   "source": [
    "gfdfResult = compareUsingCustomCorrection(\n",
    "    gfdfPlaytestPhase1PretestPosttestUniqueProfiles,\n",
    "    curiosityQuestions,\n",
    "    curiosityQuestionsCoding,\n",
    ")"
   ]
  },
  {
   "cell_type": "code",
   "execution_count": null,
   "metadata": {
    "scrolled": false
   },
   "outputs": [],
   "source": [
    "plotPretestPosttestDeltaGfdf(\n",
    "    gfdfResult,\n",
    "    curiosityQuestions,\n",
    "    plotGraphs = True,\n",
    "    printData = True,\n",
    "    saveFiles = saveFiles,\n",
    "    suffix = ' 1-5 score variation'\n",
    ")"
   ]
  },
  {
   "cell_type": "markdown",
   "metadata": {},
   "source": [
    "## H2b Specific scientific questions"
   ]
  },
  {
   "cell_type": "markdown",
   "metadata": {},
   "source": [
    "### a)"
   ]
  },
  {
   "cell_type": "code",
   "execution_count": null,
   "metadata": {},
   "outputs": [],
   "source": [
    "h2baQuestions = [QGenotypePhenotype]"
   ]
  },
  {
   "cell_type": "code",
   "execution_count": null,
   "metadata": {
    "scrolled": false
   },
   "outputs": [],
   "source": [
    "plotPretestPosttestDeltaGfdf(allData, h2baQuestions, qualitativeCoding = baseMisconceptionCoding)"
   ]
  },
  {
   "cell_type": "code",
   "execution_count": null,
   "metadata": {
    "scrolled": false
   },
   "outputs": [],
   "source": [
    "graphTitleStem = \"genotype-phenotype question - \"\n",
    "analyseQuestionGroupParameters = [\n",
    "    (getQGenotypePhenotypeGrading(*baseGradingBase),    graphTitleStem + \"base grading\", baseMisconceptionCoding),\n",
    "    (getQGenotypePhenotypeGrading(*lenientGradingBase), graphTitleStem + \"lenient grading\", lenientMisconceptionCoding),\n",
    "    (getQGenotypePhenotypeGrading(*strictGradingBase),  graphTitleStem + \"strict grading\", strictMisconceptionCoding),\n",
    "]\n",
    "for grading, title, coding in analyseQuestionGroupParameters:\n",
    "    analyseQuestionGroup(\n",
    "        gfdf,\n",
    "        h2baQuestions,\n",
    "        grading,\n",
    "        title=title,\n",
    "        plotGraphs = True,\n",
    "        printData = True,\n",
    "        saveFiles = saveFiles,\n",
    "        qualitativeCoding = coding,\n",
    "    )"
   ]
  },
  {
   "cell_type": "markdown",
   "metadata": {},
   "source": [
    "### c)"
   ]
  },
  {
   "cell_type": "code",
   "execution_count": null,
   "metadata": {
    "scrolled": false
   },
   "outputs": [],
   "source": [
    "h2bcQuestions = [\n",
    "    #'What does this device do? RBS:PCONS:FLHDC:TER XXX', #32\n",
    "    QDeviceRbsPconsFlhdcTer,\n",
    "    #'What does this device do? PCONS:RBS:FLHDC:TER', #33\n",
    "    QDevicePconsRbsFlhdcTer,\n",
    "    #'What does this device do? PBAD:RBS:GFP:TER', #34\n",
    "    QDevicePbadRbsGfpTer,\n",
    "    #'What does this device do? PBAD:GFP:RBS:TER XXX', #35\n",
    "    QDevicePbadGfpRbsTer,\n",
    "    #'What does this device do? GFP:RBS:PCONS:TER XXX', #36\n",
    "    QDeviceGfpRbsPconsTer,\n",
    "    #'What does this device do? PCONS:GFP:RBS:TER XXX', #37\n",
    "    QDevicePconsGfpRbsTer,\n",
    "    #'What does this device do? AMPR:RBS:PCONS:TER XXX', #38\n",
    "    QDeviceAmprRbsPconsTer,\n",
    "    #'What does this device do? RBS:PCONS:AMPR:TER XXX', #39\n",
    "    QDeviceRbsPconsAmprTer,\n",
    "]"
   ]
  },
  {
   "cell_type": "markdown",
   "metadata": {},
   "source": [
    "#### biobrick grammar analysis"
   ]
  },
  {
   "cell_type": "code",
   "execution_count": null,
   "metadata": {
    "scrolled": false
   },
   "outputs": [],
   "source": [
    "graphTitleStem = \"device questions - \"\n",
    "analyseQuestionGroupParameters = [\n",
    "    (getDeviceQuestionsGrading(*baseGradingBase),            graphTitleStem + \"base grading\"),\n",
    "    (getDeviceQuestionsGrading(*categoryLenientGradingBase), graphTitleStem + \"category lenient grading\"),\n",
    "    (getDeviceQuestionsGrading(*lenientGradingBase),         graphTitleStem + \"lenient grading\"),\n",
    "    (getDeviceQuestionsGrading(*strictGradingBase),          graphTitleStem + \"strict grading\"),\n",
    "]\n",
    "for grading, title in analyseQuestionGroupParameters:\n",
    "    analyseQuestionGroup(\n",
    "        gfdf,\n",
    "        h2bcQuestions,\n",
    "        grading,\n",
    "        title=title,\n",
    "        plotGraphs = True, printData = True, saveFiles = saveFiles\n",
    "    )"
   ]
  },
  {
   "cell_type": "markdown",
   "metadata": {},
   "source": [
    "### d)"
   ]
  },
  {
   "cell_type": "code",
   "execution_count": null,
   "metadata": {},
   "outputs": [],
   "source": [
    "h2bdQuestions = [\n",
    "    #'Represents the end of a device... TER', #20\n",
    "    QBBFunctionTER,\n",
    "    #'Represents the ability given... CDS', #22\n",
    "    QBBFunctionGameCDS,\n",
    "    #'Codes a protein... CDS', #24\n",
    "    QBBFunctionBiologyCDS,\n",
    "    #'Controls when the device is active... PR', #28\n",
    "    QBBFunctionPR,\n",
    "    #'Controls the level of expression, and thus how much the ability will be affected... RBS', #29\n",
    "    QBBFunctionRBS,\n",
    "]"
   ]
  },
  {
   "cell_type": "code",
   "execution_count": null,
   "metadata": {
    "scrolled": false
   },
   "outputs": [],
   "source": [
    "graphTitleStem = \"biobrick function questions - \"\n",
    "analyseQuestionGroupParameters = [\n",
    "    (getBioBrickFunctionsQuestionsGrading(*baseGradingBase),            graphTitleStem + \"base grading\"),\n",
    "    (getBioBrickFunctionsQuestionsGrading(*categoryLenientGradingBase), graphTitleStem + \"category lenient grading\"),\n",
    "    (getBioBrickFunctionsQuestionsGrading(*lenientGradingBase),         graphTitleStem + \"lenient grading\"),\n",
    "    (getBioBrickFunctionsQuestionsGrading(*strictGradingBase),          graphTitleStem + \"strict grading\"),\n",
    "]\n",
    "for grading, title in analyseQuestionGroupParameters:\n",
    "    analyseQuestionGroup(\n",
    "        gfdf,\n",
    "        h2bdQuestions,\n",
    "        grading,\n",
    "        title=title,\n",
    "        plotGraphs = True, printData = True, saveFiles = saveFiles\n",
    "    )"
   ]
  },
  {
   "cell_type": "markdown",
   "metadata": {},
   "source": [
    "### e)"
   ]
  },
  {
   "cell_type": "code",
   "execution_count": null,
   "metadata": {},
   "outputs": [],
   "source": [
    "h2beQuestions = [\n",
    "    #'What does this device do? RBS:PCONS:FLHDC:TER XXX', #32\n",
    "    QDeviceRbsPconsFlhdcTer,\n",
    "    #'What does this device do? PCONS:RBS:FLHDC:TER', #33\n",
    "    QDevicePconsRbsFlhdcTer,\n",
    "    #'What does this device do? GFP:RBS:PCONS:TER XXX', #36\n",
    "    QDeviceGfpRbsPconsTer,\n",
    "    #'What does this device do? PCONS:GFP:RBS:TER XXX', #37\n",
    "    QDevicePconsGfpRbsTer,\n",
    "    #'What does this device do? AMPR:RBS:PCONS:TER XXX', #38\n",
    "    QDeviceAmprRbsPconsTer,\n",
    "    #'What does this device do? RBS:PCONS:AMPR:TER XXX', #39\n",
    "    QDeviceRbsPconsAmprTer,\n",
    "    \n",
    "    #'What does this device do? PBAD:RBS:GFP:TER', #34\n",
    "    QDevicePbadRbsGfpTer,\n",
    "    #'What does this device do? PBAD:GFP:RBS:TER XXX', #35\n",
    "    QDevicePbadGfpRbsTer,\n",
    "    #'What does this device do? GFP:RBS:PCONS:TER XXX', #36    \n",
    "    \n",
    "    #'Last question. Next page only contains remarks.Guess: you have crafted a functional device containing an arabinose-induced promoter and an arabinose Coding Sequence (CDS). What will happen?', #42\n",
    "    QDevicePbadRbsAraTer,\n",
    "]\n",
    "\n",
    "h2beStricterQuestions = [\n",
    "    \n",
    "    #'What does this device do? PBAD:RBS:GFP:TER', #34\n",
    "    QDevicePbadRbsGfpTer,\n",
    "    #'What does this device do? PBAD:GFP:RBS:TER XXX', #35\n",
    "    QDevicePbadGfpRbsTer,\n",
    "    \n",
    "    #'Last question. Next page only contains remarks.Guess: you have crafted a functional device containing an arabinose-induced promoter and an arabinose Coding Sequence (CDS). What will happen?', #42\n",
    "    QDevicePbadRbsAraTer,\n",
    "]\n",
    "\n",
    "h2beStrictestQuestions = [ \n",
    "    \n",
    "    #'Last question. Next page only contains remarks.Guess: you have crafted a functional device containing an arabinose-induced promoter and an arabinose Coding Sequence (CDS). What will happen?', #42\n",
    "    QDevicePbadRbsAraTer,\n",
    "]"
   ]
  },
  {
   "cell_type": "code",
   "execution_count": null,
   "metadata": {
    "scrolled": false
   },
   "outputs": [],
   "source": [
    "graphTitleStem1 = \"broad-sense induction questions - \"\n",
    "graphTitleStem2 = \"stricter-sense induction questions - \"\n",
    "graphTitleStem3 = \"strictest-sense induction questions - \"\n",
    "\n",
    "analyseQuestionGroupParameters = [\n",
    "    (h2beQuestions,\n",
    "     getInductionQuestionsGrading(*baseGradingBase),\n",
    "     graphTitleStem1 + \"base grading\",\n",
    "     None,\n",
    "    ),\n",
    "    (h2beQuestions,\n",
    "     getInductionQuestionsGrading(*lenientGradingBase),\n",
    "     graphTitleStem1 + \"lenient grading\",\n",
    "     None,\n",
    "    ),\n",
    "    (h2beQuestions,\n",
    "     getInductionQuestionsGrading(*strictGradingBase),\n",
    "     graphTitleStem1 + \"strict grading\" ,\n",
    "     None,\n",
    "    ),\n",
    "]\n",
    "\n",
    "analyseQuestionGroupParameters += [\n",
    "    (h2beStricterQuestions,  \n",
    "     getQuestionsGradingSubset(h2beQuestions, h2beStricterQuestions, analyseQuestionGroupParameters[0][1]),\n",
    "     graphTitleStem2 + \"base grading\",\n",
    "     None,\n",
    "    ),\n",
    "    (h2beStricterQuestions,\n",
    "     getQuestionsGradingSubset(h2beQuestions, h2beStricterQuestions, analyseQuestionGroupParameters[1][1]),\n",
    "     graphTitleStem2 + \"lenient grading\",\n",
    "     None,\n",
    "    ),\n",
    "    (h2beStricterQuestions,\n",
    "     getQuestionsGradingSubset(h2beQuestions, h2beStricterQuestions, analyseQuestionGroupParameters[2][1]),\n",
    "     graphTitleStem2 + \"strict grading\",\n",
    "     None,\n",
    "    ),\n",
    "    \n",
    "    (h2beStrictestQuestions,\n",
    "     getQuestionsGradingSubset(h2beQuestions, h2beStrictestQuestions, analyseQuestionGroupParameters[0][1]),\n",
    "     graphTitleStem3 + \"base grading\",\n",
    "     baseMisconceptionCoding,\n",
    "    ),\n",
    "    (h2beStrictestQuestions,\n",
    "     getQuestionsGradingSubset(h2beQuestions, h2beStrictestQuestions, analyseQuestionGroupParameters[1][1]),\n",
    "     graphTitleStem3 + \"lenient grading\",\n",
    "     lenientMisconceptionCoding,\n",
    "    ),\n",
    "    (h2beStrictestQuestions,\n",
    "     getQuestionsGradingSubset(h2beQuestions, h2beStrictestQuestions, analyseQuestionGroupParameters[2][1]),\n",
    "     graphTitleStem3 + \"strict grading\",\n",
    "     strictMisconceptionCoding,\n",
    "    ),\n",
    "]\n",
    "\n",
    "for questions, grading, title, coding in analyseQuestionGroupParameters:\n",
    "    analyseQuestionGroup(\n",
    "        gfdf,\n",
    "        questions,\n",
    "        grading,\n",
    "        title=title,\n",
    "        plotGraphs = True,\n",
    "        printData = True,\n",
    "        saveFiles = saveFiles,\n",
    "        qualitativeCoding = coding,\n",
    "    )"
   ]
  },
  {
   "cell_type": "code",
   "execution_count": null,
   "metadata": {},
   "outputs": [],
   "source": []
  },
  {
   "cell_type": "code",
   "execution_count": null,
   "metadata": {},
   "outputs": [],
   "source": []
  },
  {
   "cell_type": "code",
   "execution_count": null,
   "metadata": {},
   "outputs": [],
   "source": []
  },
  {
   "cell_type": "code",
   "execution_count": null,
   "metadata": {},
   "outputs": [],
   "source": []
  },
  {
   "cell_type": "code",
   "execution_count": null,
   "metadata": {},
   "outputs": [],
   "source": []
  }
 ],
 "metadata": {
  "kernelspec": {
   "display_name": "Python 3",
   "language": "python",
   "name": "python3"
  },
  "language_info": {
   "codemirror_mode": {
    "name": "ipython",
    "version": 3
   },
   "file_extension": ".py",
   "mimetype": "text/x-python",
   "name": "python",
   "nbconvert_exporter": "python",
   "pygments_lexer": "ipython3",
   "version": "3.6.5"
  }
 },
 "nbformat": 4,
 "nbformat_minor": 2
}
