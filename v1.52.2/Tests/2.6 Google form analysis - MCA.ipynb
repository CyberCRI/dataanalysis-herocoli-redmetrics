{
 "cells": [
  {
   "cell_type": "code",
   "execution_count": null,
   "metadata": {},
   "outputs": [],
   "source": [
    "# Google form analysis tests - MCA\n",
    "\n",
    "Purpose: determine in what extent the current data can accurately describe correlations, underlying factors on the score.\n",
    "Especially concerning the 'before' groups: are there underlying groups explaining the discrepancies in score? Are those groups tied to certain questions?"
   ]
  },
  {
   "cell_type": "markdown",
   "metadata": {},
   "source": [
    "## Table of Contents\n",
    "\n",
    "\n",
    "[MCA](#MCA)\n",
    "<br>\n",
    "<br>\n",
    "<br>\n",
    "<br>"
   ]
  },
  {
   "cell_type": "code",
   "execution_count": null,
   "metadata": {},
   "outputs": [],
   "source": [
    "%run \"../Functions/1. Google form analysis.ipynb\""
   ]
  },
  {
   "cell_type": "markdown",
   "metadata": {},
   "source": [
    "## MCA\n",
    "<a id=MCA />\n",
    "\n",
    "source: http://nbviewer.jupyter.org/github/esafak/mca/blob/master/docs/mca-BurgundiesExample.ipynb"
   ]
  },
  {
   "cell_type": "markdown",
   "metadata": {},
   "source": [
    "# mca - Burgundies Example"
   ]
  },
  {
   "cell_type": "markdown",
   "metadata": {},
   "source": [
    "This example demonstrated capabilities of ``mca`` package by reproducing results of [Multiple Correspondence Analysis, Hedbi & Valentin, 2007](https://www.utdallas.edu/~herve/Abdi-MCA2007-pretty.pdf)."
   ]
  },
  {
   "cell_type": "markdown",
   "metadata": {},
   "source": [
    "## Imports and loading data"
   ]
  },
  {
   "cell_type": "code",
   "execution_count": null,
   "metadata": {},
   "outputs": [],
   "source": [
    "import mca\n",
    "\n",
    "np.set_printoptions(formatter={'float': '{: 0.4f}'.format})\n",
    "pd.set_option('display.precision', 5)\n",
    "pd.set_option('display.max_columns', 25)"
   ]
  },
  {
   "cell_type": "markdown",
   "metadata": {},
   "source": [
    "For input format, `mca` uses \n",
    "[`DataFrame`](http://pandas.pydata.org/pandas-docs/dev/generated/pandas.DataFrame.html) \n",
    "from \n",
    "[`pandas`](http://pandas.pydata.org/) package. \n",
    "\n",
    "Here we use `pandas` to load CSV file with indicator matrix $X$ of categorical data with 6 observations, 10 variables and 22 levels in total. We also set up supplementary variable $j_{sup}$ and supplementary observation $i_{sup}$."
   ]
  },
  {
   "cell_type": "code",
   "execution_count": null,
   "metadata": {},
   "outputs": [],
   "source": [
    "data = pd.read_table('../../data/burgundies.csv',sep=',', skiprows=1, index_col=0, header=0)\n",
    "X = data.drop('oak_type', axis=1)\n",
    "j_sup = data.oak_type\n",
    "i_sup = np.array([0, 1, 0, 1, 0, .5, .5, 1, 0, 1, 0, 0, 1, 0, .5, .5, 1, 0, .5, .5, 0, 1])\n",
    "ncols = 10\n",
    "\n",
    "X.shape, j_sup.shape, i_sup.shape"
   ]
  },
  {
   "cell_type": "markdown",
   "metadata": {},
   "source": [
    "## Table 1"
   ]
  },
  {
   "cell_type": "markdown",
   "metadata": {},
   "source": [
    "\"Data for the barrel-aged red burgundy wines example. “Oak Type\" is an illustrative (supplementary) variable, the wine W? is an unknown wine treated as a supplementary observation.\" (Hedbi & Valentin, 2007)"
   ]
  },
  {
   "cell_type": "code",
   "execution_count": null,
   "metadata": {},
   "outputs": [],
   "source": [
    "src_index = (['Expert 1'] * 7 + ['Expert 2'] * 9 + ['Expert 3'] * 6)\n",
    "var_index = (['fruity'] * 2 + ['woody'] * 3 + ['coffee'] * 2 + ['fruity'] * 2\n",
    "             + ['roasted'] * 2 + ['vanillin'] * 3 + ['woody'] * 2 + ['fruity'] * 2\n",
    "             + ['butter'] * 2 + ['woody'] * 2)\n",
    "yn = ['y','n']; rg = ['1', '2', '3']; val_index = yn + rg + yn*3 + rg + yn*4\n",
    "col_index = pd.MultiIndex.from_arrays([src_index, var_index, val_index], \n",
    "                                      names=['source', 'variable', 'value'])\n",
    "\n",
    "table1 = pd.DataFrame(data=X.values, index=X.index, columns=col_index)\n",
    "table1.loc['W?'] = i_sup\n",
    "table1['','Oak Type',''] = j_sup\n",
    "\n",
    "table1"
   ]
  },
  {
   "cell_type": "markdown",
   "metadata": {},
   "source": [
    "## MCA"
   ]
  },
  {
   "cell_type": "markdown",
   "metadata": {},
   "source": [
    "Let's create two `MCA` instances - one with Benzécri correction enabled (default) and one without it. Parameter `ncols` denotes number of categorical variables."
   ]
  },
  {
   "cell_type": "code",
   "execution_count": null,
   "metadata": {},
   "outputs": [],
   "source": [
    "mca_ben = mca.MCA(X, ncols=ncols)\n",
    "mca_ind = mca.MCA(X, ncols=ncols, benzecri=False)\n",
    "\n",
    "print(mca.MCA.__doc__)"
   ]
  },
  {
   "cell_type": "markdown",
   "metadata": {},
   "source": [
    "## Table 2 (L, expl_var)"
   ]
  },
  {
   "cell_type": "markdown",
   "metadata": {},
   "source": [
    "\"Eigenvalues, corrected eigenvalues, proportion of explained inertia and corrected proportion of explained inertia. The eigenvalues of the Burt matrix are equal to the squared eigenvalues of the indicator matrix; The corrected eigenvalues for Benzécri and Greenacre are the same, but the proportion of explained variance differ. Eigenvalues are denoted by\n",
    "λ, proportions of explained inertia by τ (note that the average inertia used to compute Greenacre’s correction is equal to\n",
    "I = .7358).\" (Hedbi & Valentin, 2007)\n",
    "\n",
    "Field `L` contains the eigenvalues, or the *principal inertias*, of the factors. Method `expl_var` returns proportion of explained inertia for each factor, whereas Greenacre corrections may be enabled with parameter `greenacre` and `N` limits number of retained factors.\n",
    "\n",
    "Note that Burt matrix values are not included in the following table, as it is not currently implemented in `mca` package."
   ]
  },
  {
   "cell_type": "code",
   "execution_count": null,
   "metadata": {},
   "outputs": [],
   "source": [
    "data = {'Iλ': pd.Series(mca_ind.L),\n",
    "        'τI': mca_ind.expl_var(greenacre=False, N=4),\n",
    "        'Zλ': pd.Series(mca_ben.L),\n",
    "        'τZ': mca_ben.expl_var(greenacre=False, N=4),\n",
    "        'cλ': pd.Series(mca_ben.L),\n",
    "        'τc': mca_ind.expl_var(greenacre=True, N=4)}\n",
    "\n",
    "# 'Indicator Matrix', 'Benzecri Correction', 'Greenacre Correction'\n",
    "columns = ['Iλ', 'τI', 'Zλ', 'τZ', 'cλ', 'τc']\n",
    "table2 = pd.DataFrame(data=data, columns=columns).fillna(0)\n",
    "table2.index += 1\n",
    "table2.loc['Σ'] = table2.sum()\n",
    "table2.index.name = 'Factor'\n",
    "\n",
    "table2"
   ]
  },
  {
   "cell_type": "markdown",
   "metadata": {},
   "source": [
    "The inertia is simply the sum of the principle inertias:"
   ]
  },
  {
   "cell_type": "code",
   "execution_count": null,
   "metadata": {},
   "outputs": [],
   "source": [
    "mca_ind.inertia, mca_ind.L.sum(), mca_ben.inertia, mca_ben.L.sum()"
   ]
  },
  {
   "cell_type": "markdown",
   "metadata": {},
   "source": [
    "## Table 3 (fs_r, cos_r, cont_r, fs_r_sup)"
   ]
  },
  {
   "cell_type": "markdown",
   "metadata": {},
   "source": [
    "\"Factor scores, squared cosines, and contributions for the observations (I-set). The eigenvalues and\n",
    "proportions of explained inertia are corrected using Benzécri/Greenacre formula. ~~Contributions corresponding\n",
    "to negative scores are in italic.~~ The mystery wine (Wine ?) is a supplementary observation. Only the first two\n",
    "factors are reported.\"  (Hedbi & Valentin, 2007)"
   ]
  },
  {
   "cell_type": "markdown",
   "metadata": {},
   "source": [
    "Firstly, we once again tabulate eigenvalues and their proportions. This time only for the first two factors and as percentage."
   ]
  },
  {
   "cell_type": "code",
   "execution_count": null,
   "metadata": {},
   "outputs": [],
   "source": [
    "data = np.array([mca_ben.L[:2], \n",
    "                 mca_ben.expl_var(greenacre=True, N=2) * 100]).T\n",
    "df = pd.DataFrame(data=data, columns=['cλ','%c'], index=range(1,3))\n",
    "df"
   ]
  },
  {
   "cell_type": "markdown",
   "metadata": {},
   "source": [
    "Factor scores, squared cosines, and contributions for the observations are computed by `fs_r`, `cos_r` and `cont_r` methods respectively, where `r` denotes *rows* (i.e. observations). Again, `N` limits the number of retained factors.\n",
    "\n",
    "Factor scores of supplementary observation $i_{sup}$ is computed by method `fs_r_sup`.\n",
    "\n",
    "Note that squared cosines do not agree with those in the reference. See [issue #1](https://github.com/esafak/mca/issues/1)."
   ]
  },
  {
   "cell_type": "code",
   "execution_count": null,
   "metadata": {},
   "outputs": [],
   "source": [
    "fs, cos, cont = 'Factor score','Squared cosines', 'Contributions x 1000'\n",
    "table3 = pd.DataFrame(columns=X.index, index=pd.MultiIndex\n",
    "                      .from_product([[fs, cos, cont], range(1, 3)]))\n",
    "\n",
    "table3.loc[fs,    :] = mca_ben.fs_r(N=2).T\n",
    "table3.loc[cos,   :] = mca_ben.cos_r(N=2).T\n",
    "table3.loc[cont,  :] = mca_ben.cont_r(N=2).T * 1000\n",
    "table3.loc[fs, 'W?'] = mca_ben.fs_r_sup(pd.DataFrame([i_sup]), N=2)[0]\n",
    "\n",
    "np.round(table3.astype(float), 2)"
   ]
  },
  {
   "cell_type": "markdown",
   "metadata": {},
   "source": [
    "## Table 4 (fs_c, cos_c, cont_c, fs_c_sup)"
   ]
  },
  {
   "cell_type": "markdown",
   "metadata": {},
   "source": [
    "\"Factor scores, squared cosines, and contributions for the variables (J-set). The eigenvalues and\n",
    "percentages of inertia have been corrected using Benzécri/Greenacre formula. ~~Contributions corresponding to\n",
    "negative scores are in italic.~~ Oak 1 and 2 are supplementary variables.\" (Hedbi & Valentin, 2007)\n",
    "\n",
    "Computations for *columns* (i.e. variables) are analogous to those of *rows*. Before the supplementary variable factor scores can be computed, $j_{sup}$ must be converted from categorical variable into dummy indicator matrix by method `mca.dummy`."
   ]
  },
  {
   "cell_type": "code",
   "execution_count": null,
   "metadata": {},
   "outputs": [],
   "source": [
    "table4 = pd.DataFrame(columns=col_index, index=pd.MultiIndex\n",
    "                      .from_product([[fs, cos, cont], range(1, 3)]))\n",
    "table4.loc[fs,  :] = mca_ben.fs_c(N=2).T\n",
    "table4.loc[cos, :] = mca_ben.cos_c(N=2).T\n",
    "table4.loc[cont,:] = mca_ben.cont_c(N=2).T * 1000\n",
    "\n",
    "fs_c_sup = mca_ben.fs_c_sup(mca.dummy(pd.DataFrame(j_sup)), N=2)\n",
    "table4.loc[fs, ('Oak', '', 1)] = fs_c_sup[0]\n",
    "table4.loc[fs, ('Oak', '', 2)] = fs_c_sup[1]\n",
    "\n",
    "np.round(table4.astype(float), 2)"
   ]
  },
  {
   "cell_type": "markdown",
   "metadata": {},
   "source": [
    "## Figure 1"
   ]
  },
  {
   "cell_type": "markdown",
   "metadata": {},
   "source": [
    "\"Multiple Correspondence Analysis. Projections on the first 2 dimensions. The eigenvalues (λ) and\n",
    "proportion of explained inertia (τ) have been corrected with Benzécri/Greenacre formula. (a) The I set: rows\n",
    "(i.e., wines), wine ? is a supplementary element. (b) The J set: columns (i.e., adjectives). Oak 1 and Oak 2 are\n",
    "supplementary elements. (the projection points have been slightly moved to increase readability). (Projections\n",
    "from Tables 3 and 4).\" (Hedbi & Valentin, 2007)\n",
    "\n",
    "Following plots do not introduce anything new in terms of `mca` package, it just reuses factor scores from Tables 3 and 4. But everybody loves colourful graphs, so..."
   ]
  },
  {
   "cell_type": "code",
   "execution_count": null,
   "metadata": {},
   "outputs": [],
   "source": [
    "%matplotlib inline\n",
    "import matplotlib.pyplot as plt\n",
    "\n",
    "points = table3.loc[fs].values\n",
    "labels = table3.columns.values\n",
    "\n",
    "plt.figure()\n",
    "plt.margins(0.1)\n",
    "plt.axhline(0, color='gray')\n",
    "plt.axvline(0, color='gray')\n",
    "plt.xlabel('Factor 1')\n",
    "plt.ylabel('Factor 2')\n",
    "plt.scatter(*points, s=120, marker='o', c='r', alpha=.5, linewidths=0)\n",
    "for label, x, y in zip(labels, *points):\n",
    "    plt.annotate(label, xy=(x, y), xytext=(x + .03, y + .03))\n",
    "plt.show()"
   ]
  },
  {
   "cell_type": "code",
   "execution_count": null,
   "metadata": {},
   "outputs": [],
   "source": [
    "noise = 0.05 * (np.random.rand(*table4.T[fs].shape) - 0.5)\n",
    "fs_by_source = table4.T[fs].add(noise).groupby(level=['source'])\n",
    "\n",
    "fig, ax = plt.subplots()\n",
    "plt.margins(0.1)\n",
    "plt.axhline(0, color='gray')\n",
    "plt.axvline(0, color='gray')\n",
    "plt.xlabel('Factor 1')\n",
    "plt.ylabel('Factor 2')\n",
    "ax.margins(0.1)\n",
    "markers = '^', 's', 'o', 'o'\n",
    "colors = 'r', 'g', 'b', 'y'\n",
    "for fscore, marker, color in zip(fs_by_source, markers, colors):\n",
    "    label, points = fscore\n",
    "    ax.plot(*points.T.values, marker=marker, color=color, label=label, linestyle='', alpha=.5, mew=0, ms=12)\n",
    "ax.legend(numpoints=1, loc=4)\n",
    "plt.show()"
   ]
  }
 ],
 "metadata": {
  "kernelspec": {
   "display_name": "Python [conda env:python3]",
   "language": "python",
   "name": "conda-env-python3-py"
  },
  "language_info": {
   "codemirror_mode": {
    "name": "ipython",
    "version": 3
   },
   "file_extension": ".py",
   "mimetype": "text/x-python",
   "name": "python",
   "nbconvert_exporter": "python",
   "pygments_lexer": "ipython3",
   "version": "3.5.4"
  }
 },
 "nbformat": 4,
 "nbformat_minor": 1
}
