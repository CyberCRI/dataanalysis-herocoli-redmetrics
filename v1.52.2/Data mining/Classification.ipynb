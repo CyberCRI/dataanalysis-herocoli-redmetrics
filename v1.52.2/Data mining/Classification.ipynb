{
 "cells": [
  {
   "cell_type": "markdown",
   "metadata": {},
   "source": [
    "# Table of Contents\n",
    "\n",
    "[Questionnaire only](#Questionnaire-only)\n",
    "  - [Can the answers to the scientific questions be used to predict if the questionnaire was filled before or after the game?](#Can-the-answers-to-the-scientific-questions-be-used-to-predict-if-the-questionnaire-was-filled-before-or-after-the-game?)\n",
    "    - [If scientific questions are coded by answers](#If-scientific-questions-are-coded-by-answers)\n",
    "    - [If scientific questions are coded by correctedness](#If-scientific-questions-are-coded-by-correctedness)\n",
    "[RedMetrics only](#RedMetrics-only)\n",
    "  - [Can the score of a player be predicted with their RedMetrics data?](#Can-the-score-of-a-player-be-predicted-with-their-RedMetrics-data?)\n",
    "\n",
    "[Questionnaire and RedMetrics](#Questionnaire-and-RedMetrics)\n",
    "  - [Can the biology level of a player be predicted using the game data?](#Can-the-biology-level-of-a-player-be-predicted-using-the-game-data?)\n",
    "  - [Can the gaming profile of a player be predicted using the game data?](#Can-the-gaming-profile-of-a-player-be-predicted-using-the-game-data?)\n",
    "  - [Can the completion time of each chapter be used to predict if a player is going to answer a specific scientific question correctly?](#Can-the-completion-time-of-each-chapter-be-used-to-predict-if-a-player-is-going-to-answer-a-specific-scientific-question-correctly?)\n",
    "  - [Can the game data be used to predict the performance on a sub-group of scientific questions?](#Can-the-game-data-be-used-to-predict-the-performance-on-a-sub-group-of-scientific-questions?)\n",
    "    - [Using an arbitrary classification of questions](#Using-an-arbitrary-classification-of-questions)\n",
    "      - [Hard questions](#Hard-questions)\n",
    "      - [Biobrick symbol recognition](#Biobrick-symbol-recognition)\n",
    "      - [Easy questions](#Easy-questions)\n",
    "    - [Using Bloom's taxonomy](#Using-Bloom's-taxonomy)\n",
    "      - [knowledge questions](#knowledge-questions)\n",
    "      - [comprehension questions](#comprehension-questions)\n",
    "      - [application questions](#application-questions)\n",
    "      - [analysis questions](#analysis-questions)\n",
    "      - [synthesis questions](#synthesis-questions)\n",
    "  - [Can the completion time be predicted from questionnaire answers?](#Can-the-completion-time-be-predicted-from-questionnaire-answers?)\n",
    "    - [From the before questionnaire](#From-the-before-questionnaire)\n",
    "    - [From the after questionnaire](#From-the-after-questionnaire)"
   ]
  },
  {
   "cell_type": "code",
   "execution_count": 1,
   "metadata": {
    "scrolled": false
   },
   "outputs": [
    {
     "name": "stdout",
     "output_type": "stream",
     "text": [
      "rmdfTestUsers read_csv success (1/3)\n",
      "rmdf1522 read_csv success (2/3)\n",
      "rmdf160 read_csv success (3/3)\n",
      "gform read_csv success\n",
      "gformFR read_csv success\n",
      "temporalities set (user answer method)\n"
     ]
    },
    {
     "data": {
      "application/vnd.jupyter.widget-view+json": {
       "model_id": "cb3340209712450baa30a7d96d69b82f",
       "version_major": 2,
       "version_minor": 0
      },
      "text/plain": [
       "IntProgress(value=0, max=2074)"
      ]
     },
     "metadata": {},
     "output_type": "display_data"
    },
    {
     "data": {
      "application/vnd.jupyter.widget-view+json": {
       "model_id": "c539820d49624c0ea67cef22e373ba60",
       "version_major": 2,
       "version_minor": 0
      },
      "text/plain": [
       "IntProgress(value=0, max=1037)"
      ]
     },
     "metadata": {},
     "output_type": "display_data"
    },
    {
     "name": "stdout",
     "output_type": "stream",
     "text": [
      "profile info set\n"
     ]
    },
    {
     "data": {
      "application/vnd.jupyter.widget-view+json": {
       "model_id": "",
       "version_major": 2,
       "version_minor": 0
      },
      "text/plain": [
       "IntProgress(value=0, max=5)"
      ]
     },
     "metadata": {},
     "output_type": "display_data"
    },
    {
     "data": {
      "application/vnd.jupyter.widget-view+json": {
       "model_id": "",
       "version_major": 2,
       "version_minor": 0
      },
      "text/plain": [
       "IntProgress(value=0, max=4)"
      ]
     },
     "metadata": {},
     "output_type": "display_data"
    },
    {
     "data": {
      "application/vnd.jupyter.widget-view+json": {
       "model_id": "",
       "version_major": 2,
       "version_minor": 0
      },
      "text/plain": [
       "IntProgress(value=0, max=160)"
      ]
     },
     "metadata": {},
     "output_type": "display_data"
    },
    {
     "data": {
      "application/vnd.jupyter.widget-view+json": {
       "model_id": "",
       "version_major": 2,
       "version_minor": 0
      },
      "text/plain": [
       "IntProgress(value=0, max=125)"
      ]
     },
     "metadata": {},
     "output_type": "display_data"
    },
    {
     "data": {
      "application/vnd.jupyter.widget-view+json": {
       "model_id": "",
       "version_major": 2,
       "version_minor": 0
      },
      "text/plain": [
       "IntProgress(value=0, max=35)"
      ]
     },
     "metadata": {},
     "output_type": "display_data"
    },
    {
     "data": {
      "application/vnd.jupyter.widget-view+json": {
       "model_id": "ff812362a533440e8c67549ae04e1ab2",
       "version_major": 2,
       "version_minor": 0
      },
      "text/plain": [
       "FloatProgress(value=0.0, max=89.0)"
      ]
     },
     "metadata": {},
     "output_type": "display_data"
    },
    {
     "name": "stderr",
     "output_type": "stream",
     "text": [
      "dataFormating.ipynb:16: FutureWarning: pd.TimeGrouper is deprecated and will be removed; Please use pd.Grouper(freq=...)\n",
      "  \"rmdf160 read_csv success (3/3)\\n\",\n",
      "dataFormating.ipynb:16: FutureWarning: using a dict on a Series for aggregation\n",
      "is deprecated and will be removed in a future version\n",
      "  \"rmdf160 read_csv success (3/3)\\n\",\n"
     ]
    }
   ],
   "source": [
    "%run dataFormating.ipynb"
   ]
  },
  {
   "cell_type": "code",
   "execution_count": 2,
   "metadata": {},
   "outputs": [
    {
     "name": "stdout",
     "output_type": "stream",
     "text": [
      "0.19.1\n"
     ]
    }
   ],
   "source": [
    "import sklearn\n",
    "print (sklearn.__version__)"
   ]
  },
  {
   "cell_type": "code",
   "execution_count": 3,
   "metadata": {},
   "outputs": [],
   "source": [
    "from sklearn import preprocessing\n",
    "from sklearn.ensemble import RandomForestClassifier\n",
    "from sklearn.ensemble import ExtraTreesClassifier\n",
    "from sklearn.tree import DecisionTreeClassifier\n",
    "from sklearn.model_selection import cross_val_score\n",
    "from sklearn.naive_bayes import GaussianNB\n",
    "from sklearn.linear_model import LassoCV, Lasso\n",
    "from sklearn.linear_model import RidgeCV, Ridge\n",
    "\n",
    "from ipywidgets import FloatProgress\n",
    "from IPython.display import display\n",
    "\n",
    "from math import *\n",
    "\n",
    "from scipy import stats\n",
    "from scipy.stats.mstats import normaltest\n",
    "\n",
    "from matplotlib.pyplot import boxplot"
   ]
  },
  {
   "cell_type": "markdown",
   "metadata": {},
   "source": [
    "# Questionnaire only"
   ]
  },
  {
   "cell_type": "markdown",
   "metadata": {},
   "source": [
    "## Can the answers to the scientific questions be used to predict if the questionnaire was filled before or after the game?"
   ]
  },
  {
   "cell_type": "markdown",
   "metadata": {},
   "source": [
    "Note: I am using only decision tree methods here because other methods like naive bayes do not make sense on categorical data"
   ]
  },
  {
   "cell_type": "markdown",
   "metadata": {},
   "source": [
    "### If scientific questions are coded by answers"
   ]
  },
  {
   "cell_type": "code",
   "execution_count": 4,
   "metadata": {},
   "outputs": [],
   "source": [
    "# Select columns that correspond to scientific questions\n",
    "scientificColumns = [x for x in list(defForms.columns.values) if x[0] == \"Q\"]\n",
    "\n",
    "# Pick features and target\n",
    "features = defForms.loc[:, scientificColumns]\n",
    "target = defForms[\"temporality\"].astype('int') "
   ]
  },
  {
   "cell_type": "code",
   "execution_count": 5,
   "metadata": {},
   "outputs": [
    {
     "data": {
      "text/plain": [
       "0.871072796934866"
      ]
     },
     "execution_count": 5,
     "metadata": {},
     "output_type": "execute_result"
    }
   ],
   "source": [
    "# Classify using decision trees -accounts for the small size of the dataset and the categorical nature of the features\n",
    "clf = DecisionTreeClassifier(max_depth=None, min_samples_split=2, random_state=0, max_features=\"auto\")\n",
    "scores = cross_val_score(clf, features, target)\n",
    "scores.mean()"
   ]
  },
  {
   "cell_type": "code",
   "execution_count": 6,
   "metadata": {},
   "outputs": [
    {
     "data": {
      "text/plain": [
       "0.8990421455938696"
      ]
     },
     "execution_count": 6,
     "metadata": {},
     "output_type": "execute_result"
    }
   ],
   "source": [
    "# Classify using random forests -accounts for the small size of the dataset and the categorical nature of the features, limit overfitting\n",
    "clf = RandomForestClassifier(n_estimators=10, max_depth=None, min_samples_split=2, random_state=0, bootstrap=True)\n",
    "scores = cross_val_score(clf, features, target)\n",
    "scores.mean()"
   ]
  },
  {
   "cell_type": "code",
   "execution_count": 7,
   "metadata": {},
   "outputs": [
    {
     "data": {
      "text/plain": [
       "0.9045977011494252"
      ]
     },
     "execution_count": 7,
     "metadata": {},
     "output_type": "execute_result"
    }
   ],
   "source": [
    "# Classify using extra tree classifiers, more random than random forest methods\n",
    "clf = ExtraTreesClassifier(n_estimators=10, max_depth=None, min_samples_split=2, random_state=0, bootstrap=True)\n",
    "scores = cross_val_score(clf, features, target)\n",
    "scores.mean()"
   ]
  },
  {
   "cell_type": "markdown",
   "metadata": {},
   "source": [
    "Conclusion: Accuracy is around 85%. Not bad but we expected better (17/01/2018)"
   ]
  },
  {
   "cell_type": "markdown",
   "metadata": {},
   "source": [
    "## If scientific questions are coded by correctedness"
   ]
  },
  {
   "cell_type": "code",
   "execution_count": 8,
   "metadata": {},
   "outputs": [],
   "source": [
    "# Select columns that correspond to scientific questions\n",
    "scientificColumns = [x for x in list(defCorrectedForms.columns.values) if x[0] == \"Q\"]\n",
    "\n",
    "# Pick features and target\n",
    "features = defCorrectedForms.loc[:, scientificColumns]\n",
    "target = defCorrectedForms[\"temporality\"].astype('int') "
   ]
  },
  {
   "cell_type": "code",
   "execution_count": 9,
   "metadata": {},
   "outputs": [
    {
     "data": {
      "text/plain": [
       "0.960536398467433"
      ]
     },
     "execution_count": 9,
     "metadata": {},
     "output_type": "execute_result"
    }
   ],
   "source": [
    "# Classify using decision trees -accounts for the small size of the dataset and the categorical nature of the features\n",
    "clf = DecisionTreeClassifier(max_depth=None, min_samples_split=2, random_state=0, max_features=\"auto\")\n",
    "scores = cross_val_score(clf, features, target)\n",
    "scores.mean()"
   ]
  },
  {
   "cell_type": "code",
   "execution_count": 10,
   "metadata": {},
   "outputs": [
    {
     "data": {
      "text/plain": [
       "0.9045977011494252"
      ]
     },
     "execution_count": 10,
     "metadata": {},
     "output_type": "execute_result"
    }
   ],
   "source": [
    "# Classify using random forests -accounts for the small size of the dataset and the categorical nature of the features, limit overfitting\n",
    "clf = RandomForestClassifier(n_estimators=10, max_depth=None, min_samples_split=2, random_state=0, bootstrap=True)\n",
    "scores = cross_val_score(clf, features, target)\n",
    "scores.mean()"
   ]
  },
  {
   "cell_type": "code",
   "execution_count": 11,
   "metadata": {},
   "outputs": [
    {
     "data": {
      "text/plain": [
       "0.9383141762452109"
      ]
     },
     "execution_count": 11,
     "metadata": {},
     "output_type": "execute_result"
    }
   ],
   "source": [
    "# Classify using extra tree classifiers, more random than random forest methods\n",
    "clf = ExtraTreesClassifier(n_estimators=10, max_depth=None, min_samples_split=2, random_state=0, bootstrap=True)\n",
    "scores = cross_val_score(clf, features, target)\n",
    "scores.mean()"
   ]
  },
  {
   "cell_type": "markdown",
   "metadata": {},
   "source": [
    "Conclusion: Accuracy is around 80%. Not bad but we expected better (19/12/2017)"
   ]
  },
  {
   "cell_type": "markdown",
   "metadata": {},
   "source": [
    "# RedMetrics only"
   ]
  },
  {
   "cell_type": "markdown",
   "metadata": {},
   "source": [
    "## RedMetrics data"
   ]
  },
  {
   "cell_type": "code",
   "execution_count": 12,
   "metadata": {},
   "outputs": [],
   "source": [
    "def getPosttestUserIds(gfdf):\n",
    "    return gfdf[gfdf[QTemporality] == answerTemporalities[1]][QUserId].unique()"
   ]
  },
  {
   "cell_type": "code",
   "execution_count": 13,
   "metadata": {},
   "outputs": [
    {
     "data": {
      "application/vnd.jupyter.widget-view+json": {
       "model_id": "57ba8a8b8aa94bc18a4d7115fbacc58b",
       "version_major": 2,
       "version_minor": 0
      },
      "text/plain": [
       "FloatProgress(value=0.0, max=15.0)"
      ]
     },
     "metadata": {},
     "output_type": "display_data"
    },
    {
     "name": "stderr",
     "output_type": "stream",
     "text": [
      "C:\\Users\\Mikael\\Anaconda3\\lib\\site-packages\\ipykernel_launcher.py:16: FutureWarning: pd.TimeGrouper is deprecated and will be removed; Please use pd.Grouper(freq=...)\n",
      "  app.launch_new_instance()\n",
      "C:\\Users\\Mikael\\Anaconda3\\lib\\site-packages\\ipykernel_launcher.py:16: FutureWarning: using a dict on a Series for aggregation\n",
      "is deprecated and will be removed in a future version\n",
      "  app.launch_new_instance()\n"
     ]
    }
   ],
   "source": [
    "allDataWebgl1522 = prepareAllData(getAllUserVectorData(\n",
    "    getPosttestUserIds(gfdfWebgl1522UniqueProfiles),\n",
    "    rmdfWebgl1522UniqueProfiles,\n",
    "    gfdfWebgl1522UniqueProfiles,\n",
    "    _source = correctAnswers + demographicAnswers,\n",
    "    _printDebug=False))"
   ]
  },
  {
   "cell_type": "code",
   "execution_count": 14,
   "metadata": {},
   "outputs": [
    {
     "data": {
      "application/vnd.jupyter.widget-view+json": {
       "model_id": "e379a7915ca94f3dbfa550deb63390f2",
       "version_major": 2,
       "version_minor": 0
      },
      "text/plain": [
       "FloatProgress(value=0.0, max=2.0)"
      ]
     },
     "metadata": {},
     "output_type": "display_data"
    },
    {
     "name": "stderr",
     "output_type": "stream",
     "text": [
      "C:\\Users\\Mikael\\Anaconda3\\lib\\site-packages\\ipykernel_launcher.py:16: FutureWarning: pd.TimeGrouper is deprecated and will be removed; Please use pd.Grouper(freq=...)\n",
      "  app.launch_new_instance()\n",
      "C:\\Users\\Mikael\\Anaconda3\\lib\\site-packages\\ipykernel_launcher.py:16: FutureWarning: using a dict on a Series for aggregation\n",
      "is deprecated and will be removed in a future version\n",
      "  app.launch_new_instance()\n"
     ]
    }
   ],
   "source": [
    "allDataWebgl1522Volunteers = prepareAllData(getAllUserVectorData(\n",
    "    getAllResponders(gfdfWebgl1522PretestPosttestUniqueProfilesVolunteers),\n",
    "    rmdfWebgl1522PretestPosttestUniqueProfilesVolunteers,\n",
    "    gfdfWebgl1522PretestPosttestUniqueProfilesVolunteers,\n",
    "    _source = correctAnswers + demographicAnswers,\n",
    "    _printDebug=False))"
   ]
  },
  {
   "cell_type": "code",
   "execution_count": 15,
   "metadata": {},
   "outputs": [
    {
     "data": {
      "application/vnd.jupyter.widget-view+json": {
       "model_id": "2b8091802c6e45f3b173bc4516c5a461",
       "version_major": 2,
       "version_minor": 0
      },
      "text/plain": [
       "FloatProgress(value=0.0, max=29.0)"
      ]
     },
     "metadata": {},
     "output_type": "display_data"
    },
    {
     "name": "stderr",
     "output_type": "stream",
     "text": [
      "C:\\Users\\Mikael\\Anaconda3\\lib\\site-packages\\ipykernel_launcher.py:16: FutureWarning: pd.TimeGrouper is deprecated and will be removed; Please use pd.Grouper(freq=...)\n",
      "  app.launch_new_instance()\n",
      "C:\\Users\\Mikael\\Anaconda3\\lib\\site-packages\\ipykernel_launcher.py:16: FutureWarning: using a dict on a Series for aggregation\n",
      "is deprecated and will be removed in a future version\n",
      "  app.launch_new_instance()\n"
     ]
    }
   ],
   "source": [
    "allDataWebgl160 = prepareAllData(getAllUserVectorData(\n",
    "    getPosttestUserIds(gfdfWebgl160UniqueProfiles),\n",
    "    rmdfWebgl160UniqueProfiles,\n",
    "    gfdfWebgl160UniqueProfiles,\n",
    "    _source = correctAnswers + demographicAnswers,\n",
    "    _printDebug=False))"
   ]
  },
  {
   "cell_type": "code",
   "execution_count": 16,
   "metadata": {},
   "outputs": [
    {
     "data": {
      "application/vnd.jupyter.widget-view+json": {
       "model_id": "44ac3bde7cd441fbb3fbe4e151a7f253",
       "version_major": 2,
       "version_minor": 0
      },
      "text/plain": [
       "FloatProgress(value=0.0, max=1.0)"
      ]
     },
     "metadata": {},
     "output_type": "display_data"
    },
    {
     "name": "stderr",
     "output_type": "stream",
     "text": [
      "C:\\Users\\Mikael\\Anaconda3\\lib\\site-packages\\ipykernel_launcher.py:16: FutureWarning: pd.TimeGrouper is deprecated and will be removed; Please use pd.Grouper(freq=...)\n",
      "  app.launch_new_instance()\n",
      "C:\\Users\\Mikael\\Anaconda3\\lib\\site-packages\\ipykernel_launcher.py:16: FutureWarning: using a dict on a Series for aggregation\n",
      "is deprecated and will be removed in a future version\n",
      "  app.launch_new_instance()\n"
     ]
    }
   ],
   "source": [
    "allDataWebgl160Volunteers = prepareAllData(getAllUserVectorData(\n",
    "    getAllResponders(gfdfWebgl160PretestPosttestUniqueProfilesVolunteers),\n",
    "    rmdfWebgl160PretestPosttestUniqueProfilesVolunteers,\n",
    "    gfdfWebgl160PretestPosttestUniqueProfilesVolunteers,\n",
    "    _source = correctAnswers + demographicAnswers,\n",
    "    _printDebug=False))"
   ]
  },
  {
   "cell_type": "code",
   "execution_count": 17,
   "metadata": {},
   "outputs": [
    {
     "data": {
      "application/vnd.jupyter.widget-view+json": {
       "model_id": "fce53be42d2e4821a84becf00b701bfc",
       "version_major": 2,
       "version_minor": 0
      },
      "text/plain": [
       "FloatProgress(value=0.0, max=30.0)"
      ]
     },
     "metadata": {},
     "output_type": "display_data"
    },
    {
     "name": "stderr",
     "output_type": "stream",
     "text": [
      "C:\\Users\\Mikael\\Anaconda3\\lib\\site-packages\\ipykernel_launcher.py:16: FutureWarning: pd.TimeGrouper is deprecated and will be removed; Please use pd.Grouper(freq=...)\n",
      "  app.launch_new_instance()\n",
      "C:\\Users\\Mikael\\Anaconda3\\lib\\site-packages\\ipykernel_launcher.py:16: FutureWarning: using a dict on a Series for aggregation\n",
      "is deprecated and will be removed in a future version\n",
      "  app.launch_new_instance()\n"
     ]
    }
   ],
   "source": [
    "allDataPlaytestPhase2 = prepareAllData(getAllUserVectorData(\n",
    "    getAllResponders(gfdfPlaytestPretestPosttestUniqueProfilesVolunteersPhase2),\n",
    "    rmdfPlaytestPretestPosttestUniqueProfilesVolunteersPhase2,\n",
    "    gfdfPlaytestPretestPosttestUniqueProfilesVolunteersPhase2,\n",
    "    _source = correctAnswers + demographicAnswers,\n",
    "    _printDebug=False))"
   ]
  },
  {
   "cell_type": "markdown",
   "metadata": {},
   "source": [
    "## Can the score of a player be predicted with their RedMetrics data?"
   ]
  },
  {
   "cell_type": "code",
   "execution_count": 18,
   "metadata": {},
   "outputs": [],
   "source": [
    "def getAnonymousData(allDataClassif):\n",
    "    return allDataClassif.drop(\"anonymousID\", axis = 1)"
   ]
  },
  {
   "cell_type": "code",
   "execution_count": 19,
   "metadata": {},
   "outputs": [],
   "source": [
    "# columns to exclude: contain direct information on posttest score\n",
    "dropPosttestColumns = allDataClassif.columns & (deltaQuestions + posttestQuestions + [\"scoreposttest\", \"scoredelta\"])"
   ]
  },
  {
   "cell_type": "code",
   "execution_count": 20,
   "metadata": {},
   "outputs": [],
   "source": [
    "def getUnscaledFeatures(anonymousData):\n",
    "    # Only select rows where scoreafter is not negative\n",
    "    return anonymousData[anonymousData[\"scoreposttest\"] >= 0].drop(dropPosttestColumns, axis = 1)"
   ]
  },
  {
   "cell_type": "code",
   "execution_count": 21,
   "metadata": {},
   "outputs": [],
   "source": [
    "def getFeaturesTarget(allDataClassif, chosenModel = Lasso):\n",
    "    # Remove id\n",
    "    anonymousData = getAnonymousData(allDataClassif)\n",
    "\n",
    "    # Get features and target\n",
    "    # Only select rows where scoreafter is not negative\n",
    "    unscaledFeatures = getUnscaledFeatures(anonymousData)\n",
    "    target = anonymousData[anonymousData[\"scoreposttest\"] >= 0][\"scoreposttest\"]\n",
    "\n",
    "    # Center and scale data\n",
    "    #features = preprocessing.scale(unscaledFeatures)\n",
    "\n",
    "    # Center and scale data variant\n",
    "    standardScaler = preprocessing.StandardScaler()\n",
    "    standardScaler.fit(unscaledFeatures)\n",
    "    features = standardScaler.transform(unscaledFeatures)\n",
    "    \n",
    "    # Run Lasso regression with cross-validation\n",
    "    model = chosenModel()\n",
    "    scores = cross_val_score(model, features, target, cv=10)\n",
    "    boxplot(scores)\n",
    "    print(\"Accuracy: %0.2f (+/- %0.2f)\" % (scores.mean(), scores.std() * 2))\n",
    "    \n",
    "    model.fit(features, target)    \n",
    "    \n",
    "    return scores, standardScaler, model, features, target, unscaledFeatures"
   ]
  },
  {
   "cell_type": "code",
   "execution_count": 22,
   "metadata": {},
   "outputs": [
    {
     "name": "stdout",
     "output_type": "stream",
     "text": [
      "Accuracy: 0.35 (+/- 0.61)\n"
     ]
    },
    {
     "data": {
      "image/png": "[encoded data removed]",
      "text/plain": [
       "<Figure size 432x288 with 1 Axes>"
      ]
     },
     "metadata": {},
     "output_type": "display_data"
    }
   ],
   "source": [
    "scores, standardScaler, model, features, target, unscaledFeatures = getFeaturesTarget(allDataClassif)"
   ]
  },
  {
   "cell_type": "code",
   "execution_count": 23,
   "metadata": {},
   "outputs": [],
   "source": [
    "def getInvertedCriteria(allData, criteria):\n",
    "    result = allData.copy()\n",
    "    \n",
    "    if not (len(result.columns & criteria) == len(criteria)):\n",
    "        print(\"not all criteria are in input columns\")\n",
    "    \n",
    "    for criterion in criteria:\n",
    "        result[criterion] = 1 / (1 + result[criterion])\n",
    "        \n",
    "    return result"
   ]
  },
  {
   "cell_type": "code",
   "execution_count": 24,
   "metadata": {},
   "outputs": [
    {
     "name": "stdout",
     "output_type": "stream",
     "text": [
      "Accuracy: 0.37 (+/- 0.59)\n"
     ]
    },
    {
     "data": {
      "image/png": "[encoded data removed]",
      "text/plain": [
       "<Figure size 432x288 with 1 Axes>"
      ]
     },
     "metadata": {},
     "output_type": "display_data"
    }
   ],
   "source": [
    "allDataClassifInv = getAllDataClassif(getInvertedCriteria(allData, totalTimesCriteria + completionTimesCriteria))\n",
    "scoresInv, standardScalerInv, modelInv, featuresInv, targetInv, unscaledFeaturesInv = getFeaturesTarget(allDataClassifInv)"
   ]
  },
  {
   "cell_type": "markdown",
   "metadata": {},
   "source": [
    "### Prediction of a single score"
   ]
  },
  {
   "cell_type": "code",
   "execution_count": 25,
   "metadata": {},
   "outputs": [],
   "source": [
    "def getPrediction(standardScaler, model, unscaledX):\n",
    "    X = standardScaler.transform([unscaledX])\n",
    "    return model.predict(X)[0]"
   ]
  },
  {
   "cell_type": "code",
   "execution_count": 26,
   "metadata": {},
   "outputs": [],
   "source": [
    "def getPredictionVsActual(standardScaler, model, allDataClassif):\n",
    "    unscaledFeatures = getUnscaledFeatures(getAnonymousData(allDataClassif))\n",
    "    \n",
    "    result = pd.DataFrame(index = unscaledFeatures.index, columns=[\"predicted\", \"actual\", \"error\"], data = -1)\n",
    "\n",
    "    for userId in unscaledFeatures.index:\n",
    "        unscaledX = unscaledFeatures.loc[userId].values\n",
    "        actualScore = allDataClassif.loc[userId, \"scoreposttest\"]\n",
    "\n",
    "        result.loc[userId, \"predicted\"] = getPrediction(standardScaler, model, unscaledX)\n",
    "        result.loc[userId, \"actual\"] = actualScore\n",
    "        result.loc[userId, \"error\"] = result.loc[userId, \"predicted\"] - result.loc[userId, \"actual\"]\n",
    "        \n",
    "    r2Coef = model.score(standardScaler.transform(unscaledFeatures), result[\"actual\"].values)\n",
    "        \n",
    "    return result, r2Coef"
   ]
  },
  {
   "cell_type": "markdown",
   "metadata": {},
   "source": [
    "#### use allData from online campaigns"
   ]
  },
  {
   "cell_type": "code",
   "execution_count": 27,
   "metadata": {},
   "outputs": [
    {
     "name": "stdout",
     "output_type": "stream",
     "text": [
      "15:     0.628551252441208\n",
      "15 inv: 0.639847867322936\n",
      "02:     0.6357800479787149\n",
      "02 inv: 0.6996703842775331\n",
      "29:     -0.014413160309862285\n",
      "29 inv: -2.404330842694298\n",
      "01:     0.0\n",
      "01 inv: 0.0\n",
      "30:     0.031059829180810627\n",
      "30 inv: 0.0006239804092104118\n"
     ]
    }
   ],
   "source": [
    "samples = [allDataWebgl1522,\n",
    "           allDataWebgl1522Volunteers,\n",
    "           allDataWebgl160,\n",
    "           allDataWebgl160Volunteers,\n",
    "           allDataPlaytestPhase2\n",
    "          ]\n",
    "\n",
    "for sample in samples:\n",
    "    _allDataClassif = getAllDataClassif(sample)\n",
    "    result, r2Coef = getPredictionVsActual(standardScaler, model, _allDataClassif)\n",
    "    print(\"{0:0=2d}\".format(len(_allDataClassif)) + \":     \" + str(r2Coef))\n",
    "    \n",
    "    _allDataClassifInv = getAllDataClassif(getInvertedCriteria(sample, totalTimesCriteria + completionTimesCriteria))\n",
    "    resultInv, r2CoefInv = getPredictionVsActual(standardScalerInv, modelInv, _allDataClassifInv)\n",
    "    print(\"{0:0=2d}\".format(len(_allDataClassifInv)) + \" inv: \" + str(r2CoefInv))"
   ]
  },
  {
   "cell_type": "markdown",
   "metadata": {},
   "source": [
    "### Determining the most important variables"
   ]
  },
  {
   "cell_type": "code",
   "execution_count": 28,
   "metadata": {},
   "outputs": [],
   "source": [
    "def getLassoModelCoefficients(model, unscaledFeatures, useAbs = True):\n",
    "    nonNullIndices = np.nonzero(model.coef_)    \n",
    "    data = model.coef_[nonNullIndices]\n",
    "    if useAbs:\n",
    "        data = abs(model.coef_[nonNullIndices])    \n",
    "    lassoModelParameters = pd.Series(\n",
    "        index = unscaledFeatures.columns[nonNullIndices],\n",
    "        data = data\n",
    "    ).sort_values()\n",
    "    return lassoModelParameters"
   ]
  },
  {
   "cell_type": "code",
   "execution_count": 29,
   "metadata": {},
   "outputs": [
    {
     "data": {
      "text/plain": [
       "pretest Name: PR                            0.013231\n",
       "pretest Function - biology: CDS             0.018936\n",
       "maxChapter                                  0.059118\n",
       "pretest Genotype and phenotype              0.061578\n",
       "scorepretest                                0.119158\n",
       "pretest Name: CDS                           0.432130\n",
       "ch04completion                              0.488416\n",
       "pretest Ampicillin antibiotic               0.596285\n",
       "pretest Want to learn more about Biology    0.751786\n",
       "ch06completion                              1.351828\n",
       "ch05completion                              1.476089\n",
       "dtype: float64"
      ]
     },
     "execution_count": 29,
     "metadata": {},
     "output_type": "execute_result"
    }
   ],
   "source": [
    "getLassoModelCoefficients(model, unscaledFeatures)"
   ]
  },
  {
   "cell_type": "code",
   "execution_count": 30,
   "metadata": {},
   "outputs": [
    {
     "data": {
      "text/plain": [
       "pretest Studied biology                     0.002263\n",
       "pretest Genotype and phenotype              0.014219\n",
       "pretest Name: PR                            0.084836\n",
       "pretest Device: PBAD:RBS:ARA:TER            0.085873\n",
       "scorepretest                                0.103835\n",
       "maxChapter                                  0.223995\n",
       "ch04total                                   0.392676\n",
       "pretest Name: CDS                           0.417127\n",
       "ch05completion                              0.491308\n",
       "pretest Ampicillin antibiotic               0.498824\n",
       "ch07total                                   0.590746\n",
       "pretest Want to learn more about Biology    0.645466\n",
       "ch05total                                   1.899962\n",
       "dtype: float64"
      ]
     },
     "execution_count": 30,
     "metadata": {},
     "output_type": "execute_result"
    }
   ],
   "source": [
    "getLassoModelCoefficients(modelInv, unscaledFeatures)"
   ]
  },
  {
   "cell_type": "code",
   "execution_count": 31,
   "metadata": {},
   "outputs": [],
   "source": [
    "#unscaledFeatures = getUnscaledFeatures(getAnonymousData(allDataClassifWebgl160Volunteers))\n",
    "#unscaledX = unscaledFeatures.iloc[0].values\n",
    "#X = standardScaler.transform([unscaledX])\n",
    "#model.predict(X)[0]\n",
    "\n",
    "#X = (unscaledX - standardScaler.mean_) / standardScaler.scale_\n",
    "#model.predict([X])[0]\n",
    "\n",
    "#np.dot(model.coef_, X) + model.intercept_"
   ]
  },
  {
   "cell_type": "markdown",
   "metadata": {},
   "source": [
    "### Prediction of all scores"
   ]
  },
  {
   "cell_type": "code",
   "execution_count": 32,
   "metadata": {},
   "outputs": [],
   "source": [
    "if False:\n",
    "    anonymousData = getAnonymousData(allDataClassif)\n",
    "    \n",
    "    sortedUnscaledFeatures = anonymousData[anonymousData[\"scoreposttest\"] >= 0].sort_values(by=\"scoreposttest\").drop(dropPosttestColumns, axis = 1)\n",
    "    sortedTarget = sorted(anonymousData[anonymousData[\"scoreposttest\"] >= 0][\"scoreposttest\"])\n",
    "\n",
    "    # Center and scale data variant\n",
    "    sortedFeatures = standardScaler.transform(sortedUnscaledFeatures)\n",
    "\n",
    "    x = range(len(sortedFeatures))\n",
    "    alpha = 0.5\n",
    "\n",
    "    fig, ax = plt.subplots()\n",
    "    plt.title('Actual vs predicted score')\n",
    "    plt.xlabel('User index')\n",
    "    plt.ylabel('Score')\n",
    "    #plt.plot(x, model.predict(sortedFeatures), kind = 'bar')\n",
    "    #plt.plot(x, sortedTarget)\n",
    "    ax.bar(x, model.predict(sortedFeatures), alpha=alpha, label='predicted', linewidth=0)\n",
    "    ax.bar(x, sortedTarget,                  alpha=alpha, label='actual')\n",
    "    ax.legend()\n",
    "    fig.tight_layout()\n",
    "    plt.show()"
   ]
  },
  {
   "cell_type": "markdown",
   "metadata": {},
   "source": [
    "Conclusion: Score cannot be predicted by the table of RedMetrics data (19/07/2018)."
   ]
  },
  {
   "cell_type": "markdown",
   "metadata": {},
   "source": [
    "## Second degree polynomial"
   ]
  },
  {
   "cell_type": "code",
   "execution_count": 33,
   "metadata": {},
   "outputs": [],
   "source": [
    "def getFeaturesTargetSecondDegreePolynomial(allDataClassif, chosenModel = Lasso):\n",
    "    # Remove id\n",
    "    anonymousData = getAnonymousData(allDataClassif)\n",
    "\n",
    "    # Get features and target\n",
    "    # Only select rows where scoreafter is not negative\n",
    "    unscaledFeatures = getUnscaledFeatures(anonymousData)\n",
    "    target = anonymousData[anonymousData[\"scoreposttest\"] >= 0][\"scoreposttest\"]\n",
    "\n",
    "    # Add polynomial features\n",
    "    secondDegreeFeatures = preprocessing.PolynomialFeatures(degree=2, interaction_only=False, include_bias=True)\n",
    "    unscaledFeatures = secondDegreeFeatures.fit_transform(unscaledFeatures)\n",
    "\n",
    "    # Center and scale data variant\n",
    "    standardScaler = preprocessing.StandardScaler()\n",
    "    standardScaler.fit(unscaledFeatures)\n",
    "    features = standardScaler.transform(unscaledFeatures)\n",
    "    \n",
    "    # Run Lasso regression with cross-validation\n",
    "    model = chosenModel()\n",
    "    scores = cross_val_score(model, features, target, cv=10)\n",
    "    boxplot(scores)\n",
    "    print(\"Accuracy: %0.2f (+/- %0.2f)\" % (scores.mean(), scores.std() * 2))\n",
    "    \n",
    "    model.fit(features, target)\n",
    "    \n",
    "    return scores, standardScaler, model, features, target, unscaledFeatures"
   ]
  },
  {
   "cell_type": "code",
   "execution_count": 34,
   "metadata": {},
   "outputs": [
    {
     "name": "stdout",
     "output_type": "stream",
     "text": [
      "Accuracy: 0.34 (+/- 0.62)\n",
      "Accuracy: 0.37 (+/- 0.61)\n"
     ]
    },
    {
     "data": {
      "image/png": "[encoded data removed]",
      "text/plain": [
       "<Figure size 432x288 with 1 Axes>"
      ]
     },
     "metadata": {},
     "output_type": "display_data"
    }
   ],
   "source": [
    "getFeaturesTargetSecondDegreePolynomial(allDataClassif);\n",
    "getFeaturesTargetSecondDegreePolynomial(allDataClassifInv);"
   ]
  },
  {
   "cell_type": "markdown",
   "metadata": {},
   "source": [
    "Conclusion: Score cannot be predicted by the table of RedMetrics data + second degree polynomial (30/01/2018)"
   ]
  },
  {
   "cell_type": "markdown",
   "metadata": {},
   "source": [
    "Let's try by reducing the number of features"
   ]
  },
  {
   "cell_type": "code",
   "execution_count": 35,
   "metadata": {},
   "outputs": [
    {
     "name": "stdout",
     "output_type": "stream",
     "text": [
      "Accuracy: 0.32 (+/- 0.65)\n"
     ]
    },
    {
     "name": "stderr",
     "output_type": "stream",
     "text": [
      "C:\\Users\\Mikael\\Anaconda3\\lib\\site-packages\\sklearn\\preprocessing\\data.py:164: UserWarning: Numerical issues were encountered when centering the data and might not be solved. Dataset may contain too large values. You may need to prescale your features.\n",
      "  warnings.warn(\"Numerical issues were encountered \"\n"
     ]
    },
    {
     "data": {
      "text/plain": [
       "ch05completion    1.497631\n",
       "maxChapter        1.901020\n",
       "dtype: float64"
      ]
     },
     "execution_count": 35,
     "metadata": {},
     "output_type": "execute_result"
    },
    {
     "data": {
      "image/png": "[encoded data removed]",
      "text/plain": [
       "<Figure size 432x288 with 1 Axes>"
      ]
     },
     "metadata": {},
     "output_type": "display_data"
    }
   ],
   "source": [
    "# Remove id\n",
    "anonymousData = getAnonymousData(allDataClassif)\n",
    "\n",
    "# Get features and target\n",
    "# Only select rows where scoreafter is not negative\n",
    "unscaledFeatures = anonymousData[anonymousData[\"scoreposttest\"] >= 0]\n",
    "\n",
    "#unscaledFeatures = unscaledFeatures[[\"craft\", \"death\", \"add\", \"remove\", \"reach\", \"maxChapter\"] + totalTimesCriteria + completionTimesCriteria]\n",
    "#unscaledFeatures = unscaledFeatures[[\"craft\", \"death\", \"add\", \"remove\", \"reach\", \"maxChapter\"]]\n",
    "#unscaledFeatures = unscaledFeatures[totalTimesCriteria]\n",
    "#unscaledFeatures = unscaledFeatures[completionTimesCriteria]\n",
    "unscaledFeatures = unscaledFeatures[[\"maxChapter\", \"ch05completion\", \"ch07completion\", \"ch07total\", \"ch09total\"]]\n",
    "\n",
    "target = anonymousData[anonymousData[\"scoreposttest\"] >= 0][\"scoreposttest\"]\n",
    "\n",
    "# Add polynomial features\n",
    "secondDegreeFeatures = preprocessing.PolynomialFeatures(degree=2, interaction_only=False, include_bias=True)\n",
    "features = secondDegreeFeatures.fit_transform(unscaledFeatures)\n",
    "\n",
    "# Center and scale data\n",
    "features = preprocessing.scale(unscaledFeatures)\n",
    "\n",
    "# Run Lasso regression with cross-validation\n",
    "model = Lasso()\n",
    "scores = cross_val_score(model, features, target, cv=10)\n",
    "boxplot(scores)\n",
    "print(\"Accuracy: %0.2f (+/- %0.2f)\" % (scores.mean(), scores.std() * 2))\n",
    "\n",
    "model.fit(features, target)\n",
    "\n",
    "getLassoModelCoefficients(model, unscaledFeatures)"
   ]
  },
  {
   "cell_type": "code",
   "execution_count": 36,
   "metadata": {},
   "outputs": [],
   "source": [
    "def getScoresMean(allDataClassif, columnsSubset):\n",
    "    anonymousData = getAnonymousData(allDataClassif)\n",
    "    unscaledFeatures = anonymousData[anonymousData[\"scoreposttest\"] >= 0]\n",
    "    unscaledFeatures = unscaledFeatures[columnsSubset]\n",
    "    target = anonymousData[anonymousData[\"scoreposttest\"] >= 0][\"scoreposttest\"]\n",
    "    secondDegreeFeatures = preprocessing.PolynomialFeatures(degree=2, interaction_only=False, include_bias=True)\n",
    "    features = secondDegreeFeatures.fit_transform(unscaledFeatures)\n",
    "    features = preprocessing.scale(unscaledFeatures)\n",
    "    model = Lasso()\n",
    "    scores = cross_val_score(model, features, target, cv=10)\n",
    "    return scores.mean()"
   ]
  },
  {
   "cell_type": "code",
   "execution_count": 37,
   "metadata": {},
   "outputs": [
    {
     "data": {
      "text/plain": [
       "(142880.0, 3321960.0, 61124064.0, 927048304.0, 11919192480.0, 132601016340.0)"
      ]
     },
     "execution_count": 37,
     "metadata": {},
     "output_type": "execute_result"
    }
   ],
   "source": [
    "# number of possibles subsets of size n of a set of size 96\n",
    "import scipy.special\n",
    "scipy.special.binom(96, 3),\\\n",
    "scipy.special.binom(96, 4),\\\n",
    "scipy.special.binom(96, 5),\\\n",
    "scipy.special.binom(96, 6),\\\n",
    "scipy.special.binom(96, 7),\\\n",
    "scipy.special.binom(96, 8)"
   ]
  },
  {
   "cell_type": "code",
   "execution_count": 38,
   "metadata": {},
   "outputs": [
    {
     "data": {
      "text/html": [
       "<script>\n",
       "code_show_err=false; \n",
       "function code_toggle_err() {\n",
       " if (code_show_err){\n",
       " $('div.output_stderr').hide();\n",
       " } else {\n",
       " $('div.output_stderr').show();\n",
       " }\n",
       " code_show_err = !code_show_err\n",
       "} \n",
       "$( document ).ready(code_toggle_err);\n",
       "</script>\n",
       "To toggle on/off output_stderr, click <a href=\"javascript:code_toggle_err()\">here</a>."
      ],
      "text/plain": [
       "<IPython.core.display.HTML object>"
      ]
     },
     "execution_count": 38,
     "metadata": {},
     "output_type": "execute_result"
    }
   ],
   "source": [
    "from IPython.display import HTML\n",
    "HTML('''<script>\n",
    "code_show_err=false; \n",
    "function code_toggle_err() {\n",
    " if (code_show_err){\n",
    " $('div.output_stderr').hide();\n",
    " } else {\n",
    " $('div.output_stderr').show();\n",
    " }\n",
    " code_show_err = !code_show_err\n",
    "} \n",
    "$( document ).ready(code_toggle_err);\n",
    "</script>\n",
    "To toggle on/off output_stderr, click <a href=\"javascript:code_toggle_err()\">here</a>.''')"
   ]
  },
  {
   "cell_type": "code",
   "execution_count": null,
   "metadata": {
    "scrolled": false
   },
   "outputs": [
    {
     "name": "stdout",
     "output_type": "stream",
     "text": [
      "#combinations=57940519.0\n"
     ]
    },
    {
     "data": {
      "application/vnd.jupyter.widget-view+json": {
       "model_id": "a946240f80ac41bd9c50bbde8c7bb35d",
       "version_major": 2,
       "version_minor": 0
      },
      "text/plain": [
       "IntProgress(value=0, max=57940521)"
      ]
     },
     "metadata": {},
     "output_type": "display_data"
    },
    {
     "data": {
      "application/vnd.jupyter.widget-view+json": {
       "model_id": "b88be3031baf459284c6898e0ee4d7c3",
       "version_major": 2,
       "version_minor": 0
      },
      "text/plain": [
       "IntText(value=0)"
      ]
     },
     "metadata": {},
     "output_type": "display_data"
    },
    {
     "data": {
      "application/vnd.jupyter.widget-view+json": {
       "model_id": "60b0f793eb1148c787fe55861a86f108",
       "version_major": 2,
       "version_minor": 0
      },
      "text/plain": [
       "FloatText(value=0.0)"
      ]
     },
     "metadata": {},
     "output_type": "display_data"
    },
    {
     "data": {
      "application/vnd.jupyter.widget-view+json": {
       "model_id": "039d6bf4f7cf441a9b03b9744e661cda",
       "version_major": 2,
       "version_minor": 0
      },
      "text/plain": [
       "Textarea(value='')"
      ]
     },
     "metadata": {},
     "output_type": "display_data"
    }
   ],
   "source": [
    "import itertools\n",
    "import time\n",
    "import scipy.special\n",
    "import warnings\n",
    "from ipywidgets import Textarea, FloatText, ToggleButton, Checkbox\n",
    "warnings.filterwarnings('ignore')\n",
    "\n",
    "\n",
    "#adc = allDataClassif\n",
    "adc = allDataClassifInv.copy()\n",
    "\n",
    "criteria = list(\\\n",
    "    set(adc.columns)\\\n",
    "    - set(adc.columns & \\\n",
    "          (deltaQuestions + posttestQuestions + [\"scoreposttest\", \"scoredelta\", 'scoreundefined', \"anonymousID\"]))\\\n",
    ")\n",
    "maxScore = 0\n",
    "columns = []\n",
    "i = 0\n",
    "subsetSize = 5\n",
    "combinations = scipy.special.binom(len(criteria), subsetSize)\n",
    "print(\"#combinations=\"+str(combinations))\n",
    "iterations = combinations+2\n",
    "\n",
    "_progress = IntProgress(min=0, max=iterations)\n",
    "_intText = IntText(0)\n",
    "_currentBest = FloatText(0.0)\n",
    "_currentCriteria = Textarea(\"\")\n",
    "#_stopButton = ToggleButton(value=False, description='Stop')\n",
    "#_stopCheckbox = Checkbox(value=False, description='Stop')\n",
    "\n",
    "display(_progress)\n",
    "display(_intText)\n",
    "display(_currentBest)\n",
    "display(_currentCriteria)\n",
    "#display(_stopButton)\n",
    "#display(_stopCheckbox)\n",
    "\n",
    "iterator = itertools.combinations(criteria, subsetSize)\n",
    "\n",
    "start_time = time.time()\n",
    "for columnsSubset in iterator:\n",
    "    #if _stopButton.value or _stopCheckbox.value or (i >= iterations):\n",
    "    if (i >= iterations):\n",
    "        break\n",
    "    else:\n",
    "        i += 1\n",
    "        _progress.value += 1\n",
    "        _intText.value+= 1\n",
    "        score = getScoresMean(adc, list(columnsSubset))\n",
    "        if score > maxScore:\n",
    "            maxScore = score\n",
    "            _currentBest.value = score\n",
    "            columns = columnsSubset\n",
    "            _currentCriteria.value = str(columnsSubset)\n",
    "            \n",
    "print(\"--- executed %s / %s in %s seconds ---\" % (i, combinations, time.time() - start_time))\n",
    "\n",
    "maxScore, list(columnsSubset)"
   ]
  },
  {
   "cell_type": "code",
   "execution_count": null,
   "metadata": {},
   "outputs": [],
   "source": [
    "# how long to compute all\n",
    "(17 * 61124064 / 1000) / 3600,\\\n",
    "(249 * 57940519 / 15000) / 3600,\\\n",
    "(204 * 57940519 / 15000) / 3600,"
   ]
  },
  {
   "cell_type": "code",
   "execution_count": null,
   "metadata": {},
   "outputs": [],
   "source": [
    "# how much computed in some duration\n",
    "durationSeconds = 5 * 60\n",
    "durationSeconds * 1000 / 17"
   ]
  },
  {
   "cell_type": "markdown",
   "metadata": {},
   "source": [
    "### allDataClassif\n",
    "\n",
    "0.389994800369642, ['ch12completion', 'totalTime', 'pretest Studied biology']\n",
    "\n",
    "0.3899953439583282, ['scoreundefined', 'pretest Want to learn more about Biology', 'ch12total', 'ch10total', 'pretest Name: PR')]"
   ]
  },
  {
   "cell_type": "markdown",
   "metadata": {},
   "source": [
    "### allDataClassifInv\n",
    "\n",
    "0.39870229095205095, ['pretest Want to learn more about Biology', 'ch01completion', 'reach', 'pretest Example: CDS', 'pretest Played Hero.Coli']\n",
    "\n",
    "['pretest Want to learn more about Biology', 'ch01completion', 'pretest Device: PCONS:RBS:FLHDC:TER', 'ch05total', 'scorepretest']"
   ]
  },
  {
   "cell_type": "markdown",
   "metadata": {},
   "source": [
    "Conclusion: Tried different combinations, but cannot find any interesting regression (02/02/2018)"
   ]
  },
  {
   "cell_type": "markdown",
   "metadata": {},
   "source": [
    "# Questionnaire and RedMetrics"
   ]
  },
  {
   "cell_type": "markdown",
   "metadata": {},
   "source": [
    "## Can the biology level of a player be predicted using the game data?"
   ]
  },
  {
   "cell_type": "code",
   "execution_count": null,
   "metadata": {},
   "outputs": [],
   "source": [
    "# Remove id\n",
    "anonymousData = gameAndCorrectedAfterDataClassif.drop(\"anonymousID\", axis = 1)\n",
    "\n",
    "# Get features and target\n",
    "# Only select rows where scoreafter is not negative\n",
    "features = anonymousData[anonymousData[\"scoreposttest\"] >= 0]\n",
    "features = features.loc[:,\"sessionsCount\":\"completionTime\"]\n",
    "target = anonymousData[anonymousData[\"scoreposttest\"] >= 0][\"biologyStudy\"]\n",
    "\n",
    "# Add polynomial features\n",
    "secondDegreeFeatures = preprocessing.PolynomialFeatures(degree=2, interaction_only=False, include_bias=True)\n",
    "features = secondDegreeFeatures.fit_transform(features)\n",
    "\n",
    "# Center and scale data\n",
    "features = preprocessing.scale(features)"
   ]
  },
  {
   "cell_type": "code",
   "execution_count": null,
   "metadata": {},
   "outputs": [],
   "source": [
    "# Run Lasso regression with cross-validation\n",
    "model = Lasso()\n",
    "scores = cross_val_score(model, features, target, cv=10)\n",
    "boxplot(scores)\n",
    "scores"
   ]
  },
  {
   "cell_type": "markdown",
   "metadata": {
    "collapsed": true
   },
   "source": [
    "Conclusion: No (30/01/2018)"
   ]
  },
  {
   "cell_type": "markdown",
   "metadata": {},
   "source": [
    "## Can the gaming profile of a player be predicted using the game data?"
   ]
  },
  {
   "cell_type": "code",
   "execution_count": null,
   "metadata": {},
   "outputs": [],
   "source": [
    "# Remove id\n",
    "anonymousData = gameAndCorrectedAfterDataClassif.drop(\"anonymousID\", axis = 1)\n",
    "\n",
    "# Get features and target\n",
    "# Only select rows where scoreafter is not negative\n",
    "features = anonymousData.loc[:,\"sessionsCount\":\"completionTime\"]\n",
    "target = sum(anonymousData[\"gameInterest\"], anonymousData[\"gameFrequency\"])\n",
    "\n",
    "# Add polynomial features\n",
    "secondDegreeFeatures = preprocessing.PolynomialFeatures(degree=2, interaction_only=False, include_bias=True)\n",
    "features = secondDegreeFeatures.fit_transform(features)\n",
    "\n",
    "# Center and scale data\n",
    "features = preprocessing.scale(features)"
   ]
  },
  {
   "cell_type": "code",
   "execution_count": null,
   "metadata": {},
   "outputs": [],
   "source": [
    "# Run Lasso regression with cross-validation\n",
    "model = Lasso()\n",
    "scores = cross_val_score(model, features, target, cv=10)\n",
    "boxplot(scores)\n",
    "scores"
   ]
  },
  {
   "cell_type": "markdown",
   "metadata": {
    "collapsed": true
   },
   "source": [
    "Conclusion: No (30/01/2018)"
   ]
  },
  {
   "cell_type": "markdown",
   "metadata": {
    "collapsed": true
   },
   "source": [
    "## Can the completion time of each chapter be used to predict if a player is going to answer a specific scientific question correctly?"
   ]
  },
  {
   "cell_type": "code",
   "execution_count": null,
   "metadata": {},
   "outputs": [],
   "source": [
    "# Given a question tag, plot scores of cross-validated model\n",
    "def tryClassification(data, scientificQuestion):\n",
    "    # Remove id\n",
    "    anonymousData = data.drop(\"anonymousID\", axis = 1)\n",
    "\n",
    "    # Get features and target\n",
    "    # Only select rows where scoreafter is not negative\n",
    "    features = anonymousData[anonymousData[\"scoreposttest\"] >= 0]\n",
    "    features = features.iloc[:,24:37]\n",
    "    target = anonymousData[anonymousData[\"scoreposttest\"] >= 0].loc[:,scientificQuestion].astype('int')\n",
    "\n",
    "    # Add polynomial features\n",
    "    secondDegreeFeatures = preprocessing.PolynomialFeatures(degree=2, interaction_only=False, include_bias=True)\n",
    "    features = secondDegreeFeatures.fit_transform(features)\n",
    "\n",
    "    # Center and scale data\n",
    "    features = preprocessing.scale(features)\n",
    "    \n",
    "    # Classify using extra tree classifiers, more random than random forest methods\n",
    "    clf = ExtraTreesClassifier(n_estimators=10, max_depth=None, min_samples_split=2, random_state=0, bootstrap=True)\n",
    "    scores = cross_val_score(clf, features, target, cv=5)\n",
    "    \n",
    "    # Display plot\n",
    "    fig, ax = plt.subplots()\n",
    "    boxplot(scores)\n",
    "    \n",
    "    return [scores.mean(), scores.std()]"
   ]
  },
  {
   "cell_type": "code",
   "execution_count": null,
   "metadata": {
    "scrolled": false
   },
   "outputs": [],
   "source": [
    "allScores = pd.DataFrame(index = [\"Mean\", \"Var\"])\n",
    "for question in [\"QGenotypePhenotype\", \"QBioBricksDevicesComposition\", \"QAmpicillin\", \"QBBNamePlasmid\", \"QBBFunctionTER\", \"QBBNamePromoter\", \"QBBFunctionGameCDS\", \"QBBNameTerminator\", \"QBBFunctionBiologyCDS\", \"QBBNameRBS\", \"QBBExampleCDS\", \"QBBNameCDS\", \"QBBFunctionPR\", \"QBBFunctionRBS\", \"QBBFunctionPlasmid\", \"QBBNameOperator\", \"QDeviceRbsPconsFlhdcTer\", \"QDevicePconsRbsFlhdcTer\", \"QDevicePbadRbsGfpTer\", \"QDevicePbadGfpTbsTer\", \"QDeviceGfpRbsPconsTer\", \"QDevicePconsGfpRbsTer\", \"QDeviceAmprRbsPconsTer\", \"QDeviceRbsPconsAmprTer\", \"QGreenFluorescence\", \"QUnequipDevice\", \"QDevicePbadRbsAraTer\"]:\n",
    "    questionTag = question\n",
    "    scores = tryClassification(gameAndCorrectedAfterDataClassif, questionTag)\n",
    "    allScores[questionTag] = scores\n",
    "allScores"
   ]
  },
  {
   "cell_type": "markdown",
   "metadata": {},
   "source": [
    "Conclusion: Redmetrics can be used to predict answers to certain scientific questions (29/05/2018)\n",
    "TODO Raphael: Check which questions you want additional analysis for"
   ]
  },
  {
   "cell_type": "markdown",
   "metadata": {},
   "source": [
    "## Can the game data be used to predict the performance on a sub-group of scientific questions?"
   ]
  },
  {
   "cell_type": "code",
   "execution_count": null,
   "metadata": {},
   "outputs": [],
   "source": [
    "def getBoxplot(scores, title = ''):\n",
    "    # figure related code\n",
    "    fig = plt.figure()\n",
    "    ax = fig.add_subplot(111)\n",
    "    ax.boxplot(scores)\n",
    "    ax.set_title(title)"
   ]
  },
  {
   "cell_type": "code",
   "execution_count": null,
   "metadata": {},
   "outputs": [],
   "source": [
    "#pd.concat([anonymousData.loc[:,\"sessionsCount\":\"completionTime\"], anonymousData.loc[:,\"gameInterest\":\"previousPlay\"]], axis=1).columns"
   ]
  },
  {
   "cell_type": "code",
   "execution_count": null,
   "metadata": {
    "scrolled": false
   },
   "outputs": [],
   "source": [
    "#anonymousData.columns.values"
   ]
  },
  {
   "cell_type": "code",
   "execution_count": null,
   "metadata": {
    "scrolled": false
   },
   "outputs": [],
   "source": [
    "ingameCriteria = ['sessionsCount', 'scoreposttest', 'scoreundefined', 'complete',\n",
    "       'configure', 'craft', 'death', 'equip', 'unequip', 'add', 'remove',\n",
    "       'gotourl', 'pickup', 'reach', 'restart', 'selectmenu', 'start',\n",
    "       'scoredelta', 'maxChapter', 'efficiency', 'thoroughness', 'fun',\n",
    "       'completionTime', 'ch00completion', 'ch01completion',\n",
    "       'ch02completion', 'ch03completion', 'ch04completion',\n",
    "       'ch05completion', 'ch06completion', 'ch07completion',\n",
    "       'ch08completion', 'ch09completion', 'ch10completion',\n",
    "       'ch11completion', 'ch12completion', 'ch13completion',\n",
    "       'ch14completion', 'ch00total', 'ch01total', 'ch02total',\n",
    "       'ch03total', 'ch04total', 'ch05total', 'ch06total', 'ch07total',\n",
    "       'ch08total', 'ch09total', 'ch10total', 'ch11total', 'ch12total',\n",
    "       'ch13total', 'ch14total', 'totalTime']"
   ]
  },
  {
   "cell_type": "code",
   "execution_count": null,
   "metadata": {},
   "outputs": [],
   "source": [
    "# boxplot function\n",
    "#  questions: array of strings of question names\n",
    "def getPerformanceFromQuestionGroup(questions,\n",
    "                                    thresholdPercentage = 1.0,\n",
    "                                    extraTreesClassifier = False,\n",
    "                                    randomForestClassifier = False,\n",
    "                                    lasso = False,\n",
    "                                    histTarget = 0\n",
    "                                   ):\n",
    "    # Remove id\n",
    "    anonymousData = gameAndCorrectedAfterDataClassif.drop(\"anonymousID\", axis = 1)\n",
    "\n",
    "    # Get features and target\n",
    "    #features = pd.concat([anonymousData.loc[:,\"sessionsCount\":\"completionTime\"], anonymousData.loc[:,\"gameInterest\":\"previousPlay\"]], axis=1)\n",
    "    features = anonymousData.loc[:,ingameCriteria]\n",
    "    \n",
    "    digitalTarget = anonymousData.loc[:, questions].astype(int).sum(axis=1)\n",
    "    categoricalTarget = digitalTarget.apply(lambda x: 0 if x < thresholdPercentage*len(questions) else 1)\n",
    "\n",
    "    # Add polynomial features\n",
    "    secondDegreeFeatures = preprocessing.PolynomialFeatures(degree=2, interaction_only=False, include_bias=True)\n",
    "    features = secondDegreeFeatures.fit_transform(features)\n",
    "\n",
    "    # Center and scale data\n",
    "    features = preprocessing.scale(features)\n",
    "\n",
    "    if extraTreesClassifier:\n",
    "        # Classify using extra tree classifiers, more random than random forest methods\n",
    "        clf = ExtraTreesClassifier(n_estimators=10, max_depth=None, min_samples_split=2, random_state=0, bootstrap=True)\n",
    "        scores = cross_val_score(clf, features, categoricalTarget, cv=10)\n",
    "        print(\"ExtraTreesClassifier scores mean: \" + str(scores.mean()))\n",
    "\n",
    "        # Display plot\n",
    "        getBoxplot(scores, \"ExtraTreesClassifier boxplot\")\n",
    "        \n",
    "    if randomForestClassifier:\n",
    "        # Classify using random forests -accounts for the small size of the dataset and the categorical nature of the features, limit overfitting\n",
    "        clf = RandomForestClassifier(n_estimators=10, max_depth=None, min_samples_split=2, random_state=0, bootstrap=True)\n",
    "        scores = cross_val_score(clf, features, categoricalTarget)\n",
    "        print(\"RandomForestClassifier scores mean: \" + str(scores.mean()))\n",
    "\n",
    "        # Display plot\n",
    "        getBoxplot(scores, \"RandomForestClassifier boxplot\")\n",
    "        \n",
    "    if lasso:\n",
    "        # Run Lasso regression with cross-validation\n",
    "        model = Lasso()\n",
    "        scores = cross_val_score(model, features, digitalTarget, cv=10)\n",
    "        print(\"Lasso scores mean: \" + str(scores.mean()))\n",
    "\n",
    "        # Display plot\n",
    "        getBoxplot(scores, \"Lasso boxplot\")\n",
    "        \n",
    "    if histTarget > 0:\n",
    "        fig = plt.figure()\n",
    "        ax = fig.add_subplot(111)\n",
    "        ax.hist(target, bins = range(histTarget))"
   ]
  },
  {
   "cell_type": "markdown",
   "metadata": {},
   "source": [
    "### Using an arbitrary classification of questions"
   ]
  },
  {
   "cell_type": "markdown",
   "metadata": {},
   "source": [
    "#### Hard questions"
   ]
  },
  {
   "cell_type": "code",
   "execution_count": null,
   "metadata": {},
   "outputs": [],
   "source": [
    "hardQuestions = [\"QBBFunctionPR\", \"QBBNameOperator\", \"QDevicePbadRbsAraTer\"]\n",
    "getPerformanceFromQuestionGroup(hardQuestions, thresholdPercentage = 0.5, extraTreesClassifier = True, randomForestClassifier = True, lasso = True)"
   ]
  },
  {
   "cell_type": "markdown",
   "metadata": {},
   "source": [
    "Conclusion: Very high quality prediction (29/05/18)"
   ]
  },
  {
   "cell_type": "markdown",
   "metadata": {},
   "source": [
    "### Biobrick symbol recognition"
   ]
  },
  {
   "cell_type": "code",
   "execution_count": null,
   "metadata": {},
   "outputs": [],
   "source": [
    "bbSymbolRecognition = [\"QBBNamePlasmid\", \"QBBFunctionTER\", \"QBBNamePromoter\", \"QBBFunctionGameCDS\", \"QBBNameTerminator\", \"QBBFunctionBiologyCDS\", \"QBBNameRBS\", \"QBBExampleCDS\", \"QBBNameCDS\", \"QBBFunctionPR\", \"QBBFunctionRBS\", \"QBBFunctionPlasmid\", \"QBBNameOperator\"]\n",
    "getPerformanceFromQuestionGroup(bbSymbolRecognition, thresholdPercentage = 0.6, extraTreesClassifier = True, randomForestClassifier = True, lasso = True)"
   ]
  },
  {
   "cell_type": "markdown",
   "metadata": {},
   "source": [
    "Conclusion: No apparent possible prediction (1/02/2018)"
   ]
  },
  {
   "cell_type": "markdown",
   "metadata": {},
   "source": [
    "### Easy questions"
   ]
  },
  {
   "cell_type": "code",
   "execution_count": null,
   "metadata": {},
   "outputs": [],
   "source": [
    "easyQuestions = [\"QBioBricksDevicesComposition\", \"QDeviceRbsPconsFlhdcTer\", \"QGreenFluorescence\"]\n",
    "getPerformanceFromQuestionGroup(easyQuestions, thresholdPercentage = 1.0, extraTreesClassifier = True, randomForestClassifier = True, lasso = True, histTarget = 14)"
   ]
  },
  {
   "cell_type": "markdown",
   "metadata": {},
   "source": [
    "Conclusion: Inconclusive (01/02/2018)"
   ]
  },
  {
   "cell_type": "markdown",
   "metadata": {},
   "source": [
    "### Using Bloom's taxonomy\n",
    "\n",
    "Not interpreted yet."
   ]
  },
  {
   "cell_type": "markdown",
   "metadata": {},
   "source": [
    "#### knowledge questions"
   ]
  },
  {
   "cell_type": "code",
   "execution_count": null,
   "metadata": {},
   "outputs": [],
   "source": [
    "knowledgeQuestions = [\"QAmpicillin\",\n",
    "                      \"QBBNamePlasmid\",\n",
    "                      \"QBBNamePromoter\",                      \n",
    "                      \"QBBNameTerminator\",\n",
    "                      \"QBBNameRBS\",\n",
    "                      \"QBBNameCDS\",\n",
    "                      \"QBBNameOperator\",\n",
    "                     ]\n",
    "getPerformanceFromQuestionGroup(knowledgeQuestions, thresholdPercentage = 0.7, extraTreesClassifier = True, randomForestClassifier = True, lasso = True, histTarget = 14)"
   ]
  },
  {
   "cell_type": "markdown",
   "metadata": {},
   "source": [
    "#### comprehension questions"
   ]
  },
  {
   "cell_type": "code",
   "execution_count": null,
   "metadata": {},
   "outputs": [],
   "source": [
    "comprehensionQuestions = [\"QBioBricksDevicesComposition\",\n",
    "                      \"QBBFunctionTER\",\n",
    "                      \"QBBFunctionPlasmid\",                      \n",
    "                      \"QUnequipDevice\",\n",
    "                     ]\n",
    "getPerformanceFromQuestionGroup(comprehensionQuestions, thresholdPercentage = 1.0, extraTreesClassifier = True, randomForestClassifier = True, lasso = True, histTarget = 14)"
   ]
  },
  {
   "cell_type": "markdown",
   "metadata": {},
   "source": [
    "#### application questions"
   ]
  },
  {
   "cell_type": "code",
   "execution_count": null,
   "metadata": {},
   "outputs": [],
   "source": [
    "applicationQuestions = [\"QGenotypePhenotype\",\n",
    "                      \"QBBExampleCDS\",\n",
    "                      \"QGreenFluorescence\",\n",
    "                     ]\n",
    "getPerformanceFromQuestionGroup(applicationQuestions, thresholdPercentage = 1.0, extraTreesClassifier = True, randomForestClassifier = True, lasso = True, histTarget = 14)"
   ]
  },
  {
   "cell_type": "markdown",
   "metadata": {},
   "source": [
    "#### analysis questions"
   ]
  },
  {
   "cell_type": "code",
   "execution_count": null,
   "metadata": {},
   "outputs": [],
   "source": [
    "analysisQuestions = [\"QBBFunctionGameCDS\",\n",
    "                      \"QBBFunctionBiologyCDS\",\n",
    "                      \"QBBFunctionPR\",\n",
    "                      \"QBBFunctionRBS\",\n",
    "                      \"QDevicePbadRbsAraTer\",\n",
    "                     ]\n",
    "getPerformanceFromQuestionGroup(analysisQuestions, thresholdPercentage = 0.7, extraTreesClassifier = True, randomForestClassifier = True, lasso = True, histTarget = 14)"
   ]
  },
  {
   "cell_type": "markdown",
   "metadata": {},
   "source": [
    "#### synthesis questions"
   ]
  },
  {
   "cell_type": "code",
   "execution_count": null,
   "metadata": {},
   "outputs": [],
   "source": [
    "synthesisQuestions = [\"QDeviceRbsPconsFlhdcTer\",\n",
    "                      \"QDevicePconsRbsFlhdcTer\",\n",
    "                      \"QDevicePbadRbsGfpTer\",                      \n",
    "                      \"QDevicePbadGfpTbsTer\",\n",
    "                      \"QDeviceGfpRbsPconsTer\",\n",
    "                      \"QDevicePconsGfpRbsTer\",\n",
    "                      \"QDeviceAmprRbsPconsTer\",\n",
    "                      \"QDeviceRbsPconsAmprTer\",\n",
    "                     ]\n",
    "getPerformanceFromQuestionGroup(synthesisQuestions, thresholdPercentage = 1.0, extraTreesClassifier = True, randomForestClassifier = True, lasso = True, histTarget = 14)"
   ]
  },
  {
   "cell_type": "markdown",
   "metadata": {},
   "source": [
    "## Can the completion time be predicted from questionnaire answers?"
   ]
  },
  {
   "cell_type": "markdown",
   "metadata": {},
   "source": [
    "### From the before questionnaire"
   ]
  },
  {
   "cell_type": "code",
   "execution_count": null,
   "metadata": {
    "scrolled": false
   },
   "outputs": [],
   "source": [
    "# Remove id\n",
    "anonymousData = gameAndCorrectedBeforeDataClassif.drop(\"anonymousID\", axis = 1)\n",
    "\n",
    "# Get features and target\n",
    "lastColumn = 'gender_Male'\n",
    "for potentialLastColumn in ['gender_Other', 'gender_Prefer not to say']:\n",
    "    if potentialLastColumn in anonymousData.columns:\n",
    "        lastColumn = potentialLastColumn\n",
    "features = anonymousData.loc[:,\"gameInterest\":lastColumn]\n",
    "target = anonymousData.loc[:,\"completionTime\"]\n",
    "\n",
    "# Add polynomial features\n",
    "secondDegreeFeatures = preprocessing.PolynomialFeatures(degree=2, interaction_only=False, include_bias=True)\n",
    "features = secondDegreeFeatures.fit_transform(features)\n",
    "\n",
    "# Center and scale data\n",
    "features = preprocessing.scale(features)"
   ]
  },
  {
   "cell_type": "code",
   "execution_count": null,
   "metadata": {},
   "outputs": [],
   "source": [
    "# Run Lasso regression with cross-validation\n",
    "model = Lasso(max_iter=10000, alpha=10)\n",
    "scores = cross_val_score(model, features, target, cv=10)\n",
    "boxplot(scores)\n",
    "scores.mean()"
   ]
  },
  {
   "cell_type": "code",
   "execution_count": null,
   "metadata": {},
   "outputs": [],
   "source": [
    "# Try classification\n",
    "target = target.apply(lambda x: 0 if x < 7200 else 1) #0 if short, 1 if long\n",
    "\n",
    "# Classify using extra tree classifiers, more random than random forest methods\n",
    "clf = ExtraTreesClassifier(n_estimators=10, max_depth=None, min_samples_split=2, random_state=0, bootstrap=True)\n",
    "scores = cross_val_score(clf, features, target, cv=10)\n",
    "    \n",
    "# Display plot\n",
    "boxplot(scores)\n",
    "scores.mean()\n",
    "sum(target)/len(target)"
   ]
  },
  {
   "cell_type": "markdown",
   "metadata": {},
   "source": [
    "Conclusion: No (01/02/2018)"
   ]
  },
  {
   "cell_type": "markdown",
   "metadata": {},
   "source": [
    "### From the after questionnaire"
   ]
  },
  {
   "cell_type": "code",
   "execution_count": null,
   "metadata": {
    "scrolled": false
   },
   "outputs": [],
   "source": [
    "# Remove id\n",
    "anonymousData = gameAndCorrectedAfterDataClassif.drop(\"anonymousID\", axis = 1)\n",
    "\n",
    "# Get features and target\n",
    "lastColumn = 'gender_Male'\n",
    "for potentialLastColumn in ['gender_Other', 'gender_Prefer not to say']:\n",
    "    if potentialLastColumn in anonymousData.columns:\n",
    "        lastColumn = potentialLastColumn\n",
    "features = anonymousData.loc[:,\"gameInterest\":lastColumn]\n",
    "target = anonymousData.loc[:,\"completionTime\"]\n",
    "\n",
    "# Add polynomial features\n",
    "secondDegreeFeatures = preprocessing.PolynomialFeatures(degree=2, interaction_only=False, include_bias=True)\n",
    "features = secondDegreeFeatures.fit_transform(features)\n",
    "\n",
    "# Center and scale data\n",
    "features = preprocessing.scale(features)"
   ]
  },
  {
   "cell_type": "code",
   "execution_count": null,
   "metadata": {},
   "outputs": [],
   "source": [
    "# Run Lasso regression with cross-validation\n",
    "model = Lasso(max_iter=1000000)\n",
    "scores = cross_val_score(model, features, target, cv=10)\n",
    "boxplot(scores)\n",
    "scores.mean()"
   ]
  },
  {
   "cell_type": "code",
   "execution_count": null,
   "metadata": {},
   "outputs": [],
   "source": [
    "# Try classification\n",
    "target = target.apply(lambda x: 0 if x < 7200 else 1) #0 if short, 1 if long\n",
    "\n",
    "# Classify using extra tree classifiers, more random than random forest methods\n",
    "clf = ExtraTreesClassifier(n_estimators=10, max_depth=None, min_samples_split=2, random_state=0, bootstrap=True)\n",
    "scores = cross_val_score(clf, features, target, cv=10)\n",
    "    \n",
    "# Display plot\n",
    "boxplot(scores)\n",
    "scores.mean()"
   ]
  },
  {
   "cell_type": "markdown",
   "metadata": {},
   "source": [
    "Conclusion: Yes (29/05/18)"
   ]
  },
  {
   "cell_type": "code",
   "execution_count": null,
   "metadata": {},
   "outputs": [],
   "source": [
    "sum(target)"
   ]
  },
  {
   "cell_type": "code",
   "execution_count": null,
   "metadata": {},
   "outputs": [],
   "source": [
    "len(target)"
   ]
  },
  {
   "cell_type": "markdown",
   "metadata": {},
   "source": [
    "Conclusion: Yes but very unbalanced classes (29/05/18)"
   ]
  },
  {
   "cell_type": "code",
   "execution_count": null,
   "metadata": {},
   "outputs": [],
   "source": []
  }
 ],
 "metadata": {
  "kernelspec": {
   "display_name": "Python 3",
   "language": "python",
   "name": "python3"
  },
  "language_info": {
   "codemirror_mode": {
    "name": "ipython",
    "version": 3
   },
   "file_extension": ".py",
   "mimetype": "text/x-python",
   "name": "python",
   "nbconvert_exporter": "python",
   "pygments_lexer": "ipython3",
   "version": "3.6.5"
  }
 },
 "nbformat": 4,
 "nbformat_minor": 2
}
