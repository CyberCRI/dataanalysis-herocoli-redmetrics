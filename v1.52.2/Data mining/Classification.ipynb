{
 "cells": [
  {
   "cell_type": "markdown",
   "metadata": {},
   "source": [
    "# Table of Contents\n",
    "\n",
    "[Questionnaire only](#Questionnaire-only)\n",
    "  - [Can the answers to the scientific questions be used to predict if the questionnaire was filled before or after the game?](#Can-the-answers-to-the-scientific-questions-be-used-to-predict-if-the-questionnaire-was-filled-before-or-after-the-game?)\n",
    "    - [If scientific questions are coded by answers](#If-scientific-questions-are-coded-by-answers)\n",
    "    - [If scientific questions are coded by correctedness](#If-scientific-questions-are-coded-by-correctedness)\n",
    "[RedMetrics only](#RedMetrics-only)\n",
    "  - [Can the score of a player be predicted with their RedMetrics data?](#Can-the-score-of-a-player-be-predicted-with-their-RedMetrics-data?)\n",
    "\n",
    "[Questionnaire and RedMetrics](#Questionnaire-and-RedMetrics)\n",
    "  - [Can the biology level of a player be predicted using the game data?](#Can-the-biology-level-of-a-player-be-predicted-using-the-game-data?)\n",
    "  - [Can the gaming profile of a player be predicted using the game data?](#Can-the-gaming-profile-of-a-player-be-predicted-using-the-game-data?)\n",
    "  - [Can the completion time of each chapter be used to predict if a player is going to answer a specific scientific question correctly?](#Can-the-completion-time-of-each-chapter-be-used-to-predict-if-a-player-is-going-to-answer-a-specific-scientific-question-correctly?)\n",
    "  - [Can the game data be used to predict the performance on a sub-group of scientific questions?](#Can-the-game-data-be-used-to-predict-the-performance-on-a-sub-group-of-scientific-questions?)\n",
    "    - [Using an arbitrary classification of questions](#Using-an-arbitrary-classification-of-questions)\n",
    "      - [Hard questions](#Hard-questions)\n",
    "      - [Biobrick symbol recognition](#Biobrick-symbol-recognition)\n",
    "      - [Easy questions](#Easy-questions)\n",
    "    - [Using Bloom's taxonomy](#Using-Bloom's-taxonomy)\n",
    "      - [knowledge questions](#knowledge-questions)\n",
    "      - [comprehension questions](#comprehension-questions)\n",
    "      - [application questions](#application-questions)\n",
    "      - [analysis questions](#analysis-questions)\n",
    "      - [synthesis questions](#synthesis-questions)\n",
    "  - [Can the completion time be predicted from questionnaire answers?](#Can-the-completion-time-be-predicted-from-questionnaire-answers?)\n",
    "    - [From the before questionnaire](#From-the-before-questionnaire)\n",
    "    - [From the after questionnaire](#From-the-after-questionnaire)"
   ]
  },
  {
   "cell_type": "code",
   "execution_count": 1,
   "metadata": {
    "scrolled": false
   },
   "outputs": [
    {
     "name": "stdout",
     "output_type": "stream",
     "text": [
      "rmdfTestUsers read_csv success (1/3)\n",
      "rmdf1522 read_csv success (2/3)\n",
      "rmdf160 read_csv success (3/3)\n",
      "gform read_csv success\n",
      "gformFR read_csv success\n",
      "temporalities set (user answer method)\n"
     ]
    },
    {
     "data": {
      "application/vnd.jupyter.widget-view+json": {
       "model_id": "ef146daa3b9d4872a6ba3a1f107abded",
       "version_major": 2,
       "version_minor": 0
      },
      "text/plain": [
       "IntProgress(value=0, max=2074)"
      ]
     },
     "metadata": {},
     "output_type": "display_data"
    },
    {
     "data": {
      "application/vnd.jupyter.widget-view+json": {
       "model_id": "8208538680ca4847870af0b6d9428ce1",
       "version_major": 2,
       "version_minor": 0
      },
      "text/plain": [
       "IntProgress(value=0, max=1037)"
      ]
     },
     "metadata": {},
     "output_type": "display_data"
    },
    {
     "name": "stdout",
     "output_type": "stream",
     "text": [
      "profile info set\n"
     ]
    },
    {
     "data": {
      "application/vnd.jupyter.widget-view+json": {
       "model_id": "",
       "version_major": 2,
       "version_minor": 0
      },
      "text/plain": [
       "IntProgress(value=0, max=5)"
      ]
     },
     "metadata": {},
     "output_type": "display_data"
    },
    {
     "data": {
      "application/vnd.jupyter.widget-view+json": {
       "model_id": "",
       "version_major": 2,
       "version_minor": 0
      },
      "text/plain": [
       "IntProgress(value=0, max=4)"
      ]
     },
     "metadata": {},
     "output_type": "display_data"
    },
    {
     "data": {
      "application/vnd.jupyter.widget-view+json": {
       "model_id": "",
       "version_major": 2,
       "version_minor": 0
      },
      "text/plain": [
       "IntProgress(value=0, max=160)"
      ]
     },
     "metadata": {},
     "output_type": "display_data"
    },
    {
     "data": {
      "application/vnd.jupyter.widget-view+json": {
       "model_id": "",
       "version_major": 2,
       "version_minor": 0
      },
      "text/plain": [
       "IntProgress(value=0, max=125)"
      ]
     },
     "metadata": {},
     "output_type": "display_data"
    },
    {
     "data": {
      "application/vnd.jupyter.widget-view+json": {
       "model_id": "",
       "version_major": 2,
       "version_minor": 0
      },
      "text/plain": [
       "IntProgress(value=0, max=35)"
      ]
     },
     "metadata": {},
     "output_type": "display_data"
    },
    {
     "data": {
      "application/vnd.jupyter.widget-view+json": {
       "model_id": "9a99a75d01934c73a93214bd3529eae1",
       "version_major": 2,
       "version_minor": 0
      },
      "text/plain": [
       "FloatProgress(value=0.0, max=125.0)"
      ]
     },
     "metadata": {},
     "output_type": "display_data"
    },
    {
     "name": "stderr",
     "output_type": "stream",
     "text": [
      "dataFormating.ipynb:16: FutureWarning: pd.TimeGrouper is deprecated and will be removed; Please use pd.Grouper(freq=...)\n",
      "  \"rmdf160 read_csv success (3/3)\\n\",\n",
      "dataFormating.ipynb:16: FutureWarning: using a dict on a Series for aggregation\n",
      "is deprecated and will be removed in a future version\n",
      "  \"rmdf160 read_csv success (3/3)\\n\",\n"
     ]
    }
   ],
   "source": [
    "%run dataFormating.ipynb"
   ]
  },
  {
   "cell_type": "code",
   "execution_count": 2,
   "metadata": {},
   "outputs": [
    {
     "name": "stdout",
     "output_type": "stream",
     "text": [
      "0.19.1\n"
     ]
    }
   ],
   "source": [
    "import sklearn\n",
    "print (sklearn.__version__)"
   ]
  },
  {
   "cell_type": "code",
   "execution_count": 3,
   "metadata": {},
   "outputs": [],
   "source": [
    "from sklearn import preprocessing\n",
    "from sklearn.ensemble import RandomForestClassifier\n",
    "from sklearn.ensemble import ExtraTreesClassifier\n",
    "from sklearn.tree import DecisionTreeClassifier\n",
    "from sklearn.model_selection import cross_val_score\n",
    "from sklearn.naive_bayes import GaussianNB\n",
    "from sklearn.linear_model import LassoCV, Lasso\n",
    "\n",
    "from ipywidgets import FloatProgress\n",
    "from IPython.display import display\n",
    "\n",
    "from math import *\n",
    "\n",
    "from scipy import stats\n",
    "from scipy.stats.mstats import normaltest\n",
    "\n",
    "from matplotlib.pyplot import boxplot"
   ]
  },
  {
   "cell_type": "markdown",
   "metadata": {},
   "source": [
    "# Questionnaire only"
   ]
  },
  {
   "cell_type": "markdown",
   "metadata": {},
   "source": [
    "## Can the answers to the scientific questions be used to predict if the questionnaire was filled before or after the game?"
   ]
  },
  {
   "cell_type": "markdown",
   "metadata": {},
   "source": [
    "Note: I am using only decision tree methods here because other methods like naive bayes do not make sense on categorical data"
   ]
  },
  {
   "cell_type": "markdown",
   "metadata": {},
   "source": [
    "### If scientific questions are coded by answers"
   ]
  },
  {
   "cell_type": "code",
   "execution_count": 4,
   "metadata": {},
   "outputs": [],
   "source": [
    "# Select columns that correspond to scientific questions\n",
    "scientificColumns = [x for x in list(defForms.columns.values) if x[0] == \"Q\"]\n",
    "\n",
    "# Pick features and target\n",
    "features = defForms.loc[:, scientificColumns]\n",
    "target = defForms[\"temporality\"].astype('int') "
   ]
  },
  {
   "cell_type": "code",
   "execution_count": 5,
   "metadata": {},
   "outputs": [
    {
     "data": {
      "text/plain": [
       "0.8876984126984127"
      ]
     },
     "execution_count": 5,
     "metadata": {},
     "output_type": "execute_result"
    }
   ],
   "source": [
    "# Classify using decision trees -accounts for the small size of the dataset and the categorical nature of the features\n",
    "clf = DecisionTreeClassifier(max_depth=None, min_samples_split=2, random_state=0, max_features=\"auto\")\n",
    "scores = cross_val_score(clf, features, target)\n",
    "scores.mean()"
   ]
  },
  {
   "cell_type": "code",
   "execution_count": 6,
   "metadata": {},
   "outputs": [
    {
     "data": {
      "text/plain": [
       "0.9300264550264551"
      ]
     },
     "execution_count": 6,
     "metadata": {},
     "output_type": "execute_result"
    }
   ],
   "source": [
    "# Classify using random forests -accounts for the small size of the dataset and the categorical nature of the features, limit overfitting\n",
    "clf = RandomForestClassifier(n_estimators=10, max_depth=None, min_samples_split=2, random_state=0, bootstrap=True)\n",
    "scores = cross_val_score(clf, features, target)\n",
    "scores.mean()"
   ]
  },
  {
   "cell_type": "code",
   "execution_count": 7,
   "metadata": {},
   "outputs": [
    {
     "data": {
      "text/plain": [
       "0.9066137566137566"
      ]
     },
     "execution_count": 7,
     "metadata": {},
     "output_type": "execute_result"
    }
   ],
   "source": [
    "# Classify using extra tree classifiers, more random than random forest methods\n",
    "clf = ExtraTreesClassifier(n_estimators=10, max_depth=None, min_samples_split=2, random_state=0, bootstrap=True)\n",
    "scores = cross_val_score(clf, features, target)\n",
    "scores.mean()"
   ]
  },
  {
   "cell_type": "markdown",
   "metadata": {},
   "source": [
    "Conclusion: Accuracy is around 85%. Not bad but we expected better (17/01/2018)"
   ]
  },
  {
   "cell_type": "markdown",
   "metadata": {},
   "source": [
    "## If scientific questions are coded by correctedness"
   ]
  },
  {
   "cell_type": "code",
   "execution_count": 8,
   "metadata": {},
   "outputs": [],
   "source": [
    "# Select columns that correspond to scientific questions\n",
    "scientificColumns = [x for x in list(defCorrectedForms.columns.values) if x[0] == \"Q\"]\n",
    "\n",
    "# Pick features and target\n",
    "features = defCorrectedForms.loc[:, scientificColumns]\n",
    "target = defCorrectedForms[\"temporality\"].astype('int') "
   ]
  },
  {
   "cell_type": "code",
   "execution_count": 9,
   "metadata": {},
   "outputs": [
    {
     "data": {
      "text/plain": [
       "0.9278939217963608"
      ]
     },
     "execution_count": 9,
     "metadata": {},
     "output_type": "execute_result"
    }
   ],
   "source": [
    "# Classify using decision trees -accounts for the small size of the dataset and the categorical nature of the features\n",
    "clf = DecisionTreeClassifier(max_depth=None, min_samples_split=2, random_state=0, max_features=\"auto\")\n",
    "scores = cross_val_score(clf, features, target)\n",
    "scores.mean()"
   ]
  },
  {
   "cell_type": "code",
   "execution_count": 10,
   "metadata": {},
   "outputs": [
    {
     "data": {
      "text/plain": [
       "0.9400890437475803"
      ]
     },
     "execution_count": 10,
     "metadata": {},
     "output_type": "execute_result"
    }
   ],
   "source": [
    "# Classify using random forests -accounts for the small size of the dataset and the categorical nature of the features, limit overfitting\n",
    "clf = RandomForestClassifier(n_estimators=10, max_depth=None, min_samples_split=2, random_state=0, bootstrap=True)\n",
    "scores = cross_val_score(clf, features, target)\n",
    "scores.mean()"
   ]
  },
  {
   "cell_type": "code",
   "execution_count": 11,
   "metadata": {},
   "outputs": [
    {
     "data": {
      "text/plain": [
       "0.9319589624467673"
      ]
     },
     "execution_count": 11,
     "metadata": {},
     "output_type": "execute_result"
    }
   ],
   "source": [
    "# Classify using extra tree classifiers, more random than random forest methods\n",
    "clf = ExtraTreesClassifier(n_estimators=10, max_depth=None, min_samples_split=2, random_state=0, bootstrap=True)\n",
    "scores = cross_val_score(clf, features, target)\n",
    "scores.mean()"
   ]
  },
  {
   "cell_type": "markdown",
   "metadata": {},
   "source": [
    "Conclusion: Accuracy is around 80%. Not bad but we expected better (19/12/2017)"
   ]
  },
  {
   "cell_type": "markdown",
   "metadata": {},
   "source": [
    "# RedMetrics only"
   ]
  },
  {
   "cell_type": "code",
   "execution_count": 12,
   "metadata": {},
   "outputs": [
    {
     "data": {
      "text/plain": [
       "Index(['sessionsCount', 'scorepretest', 'scoreposttest', 'scoreundefined',\n",
       "       'complete', 'configure', 'craft', 'death', 'equip', 'unequip',\n",
       "       ...\n",
       "       'delta Device: GFP:RBS:PCONS:TER XXX',\n",
       "       'delta Device: PCONS:GFP:RBS:TER XXX',\n",
       "       'delta Device: AMPR:RBS:PCONS:TER XXX',\n",
       "       'delta Device: RBS:PCONS:AMPR:TER XXX', 'delta Green fluorescence',\n",
       "       'delta Unequip the movement device: effect',\n",
       "       'delta Device: PBAD:RBS:ARA:TER', 'delta Language', 'delta Temporality',\n",
       "       'anonymousID'],\n",
       "      dtype='object', length=185)"
      ]
     },
     "execution_count": 12,
     "metadata": {},
     "output_type": "execute_result"
    }
   ],
   "source": [
    "allDataClassif.columns"
   ]
  },
  {
   "cell_type": "markdown",
   "metadata": {},
   "source": [
    "## Can the score of a player be predicted with their RedMetrics data?"
   ]
  },
  {
   "cell_type": "code",
   "execution_count": 13,
   "metadata": {},
   "outputs": [],
   "source": [
    "def getAnonymousData(allDataClassif):\n",
    "    return allDataClassif.drop(\"anonymousID\", axis = 1)"
   ]
  },
  {
   "cell_type": "code",
   "execution_count": 14,
   "metadata": {},
   "outputs": [],
   "source": [
    "# columns to exclude: contain direct information on posttest score\n",
    "dropPosttestColumns = allDataClassif.columns & (deltaQuestions + posttestQuestions + [\"scoreposttest\"])"
   ]
  },
  {
   "cell_type": "code",
   "execution_count": 15,
   "metadata": {},
   "outputs": [],
   "source": [
    "def getUnscaledFeatures(anonymousData):\n",
    "    # Only select rows where scoreafter is not negative\n",
    "    return anonymousData[anonymousData[\"scoreposttest\"] >= 0].drop(dropPosttestColumns, axis = 1)"
   ]
  },
  {
   "cell_type": "code",
   "execution_count": 16,
   "metadata": {},
   "outputs": [],
   "source": [
    "def getFeaturesTarget(allDataClassif):\n",
    "    # Remove id\n",
    "    anonymousData = getAnonymousData(allDataClassif)\n",
    "\n",
    "    # Get features and target\n",
    "    # Only select rows where scoreafter is not negative\n",
    "    unscaledFeatures = getUnscaledFeatures(anonymousData)\n",
    "    target = anonymousData[anonymousData[\"scoreposttest\"] >= 0][\"scoreposttest\"]\n",
    "\n",
    "    # Center and scale data\n",
    "    #features = preprocessing.scale(unscaledFeatures)\n",
    "\n",
    "    # Center and scale data variant\n",
    "    standardScaler = preprocessing.StandardScaler()\n",
    "    standardScaler.fit(unscaledFeatures)\n",
    "    features = standardScaler.transform(unscaledFeatures)\n",
    "    \n",
    "    # Run Lasso regression with cross-validation\n",
    "    model = Lasso()\n",
    "    scores = cross_val_score(model, features, target, cv=10)\n",
    "    boxplot(scores)\n",
    "    \n",
    "    model.fit(features, target)\n",
    "    \n",
    "    return standardScaler, model, features, target, unscaledFeatures"
   ]
  },
  {
   "cell_type": "code",
   "execution_count": 58,
   "metadata": {},
   "outputs": [
    {
     "data": {
      "image/png": "[encoded data removed]",
      "text/plain": [
       "<Figure size 432x288 with 1 Axes>"
      ]
     },
     "metadata": {},
     "output_type": "display_data"
    }
   ],
   "source": [
    "standardScaler, model, features, target, unscaledFeatures = getFeaturesTarget(allDataClassif)"
   ]
  },
  {
   "cell_type": "markdown",
   "metadata": {},
   "source": [
    "### Prediction of a single score"
   ]
  },
  {
   "cell_type": "code",
   "execution_count": 18,
   "metadata": {},
   "outputs": [],
   "source": [
    "def getPrediction(standardScaler, model, unscaledX):\n",
    "    X = standardScaler.transform([unscaledX])\n",
    "    return model.predict(X)[0]"
   ]
  },
  {
   "cell_type": "code",
   "execution_count": 19,
   "metadata": {},
   "outputs": [],
   "source": [
    "def getPredictionVsActual(standardScaler, model, allDataClassif):\n",
    "    unscaledFeatures = getUnscaledFeatures(getAnonymousData(allDataClassif))\n",
    "    \n",
    "    result = pd.DataFrame(index = unscaledFeatures.index, columns=[\"predicted\", \"actual\", \"error\"], data = -1)\n",
    "\n",
    "    for userId in unscaledFeatures.index:\n",
    "        unscaledX = unscaledFeatures.loc[userId].values\n",
    "        actualScore = allDataClassif.loc[userId, \"scoreposttest\"]\n",
    "\n",
    "        result.loc[userId, \"predicted\"] = getPrediction(standardScaler, model, unscaledX)\n",
    "        result.loc[userId, \"actual\"] = actualScore\n",
    "        result.loc[userId, \"error\"] = result.loc[userId, \"predicted\"] - result.loc[userId, \"actual\"]\n",
    "        \n",
    "    return result"
   ]
  },
  {
   "cell_type": "markdown",
   "metadata": {},
   "source": [
    "#### use allData from online campaigns"
   ]
  },
  {
   "cell_type": "code",
   "execution_count": 20,
   "metadata": {},
   "outputs": [
    {
     "data": {
      "text/plain": [
       "(4, 2)"
      ]
     },
     "execution_count": 20,
     "metadata": {},
     "output_type": "execute_result"
    }
   ],
   "source": [
    "len(gfdfWebgl1522PretestPosttestUniqueProfilesVolunteers),\\\n",
    "len(gfdfWebgl160PretestPosttestUniqueProfilesVolunteers)"
   ]
  },
  {
   "cell_type": "code",
   "execution_count": 21,
   "metadata": {},
   "outputs": [],
   "source": [
    "def getPosttestUserIds(gfdf):\n",
    "    return gfdf[gfdf[QTemporality] == answerTemporalities[1]][QUserId].unique()"
   ]
  },
  {
   "cell_type": "code",
   "execution_count": 22,
   "metadata": {},
   "outputs": [
    {
     "data": {
      "application/vnd.jupyter.widget-view+json": {
       "model_id": "266cd1c18009493b8329738d8442bd10",
       "version_major": 2,
       "version_minor": 0
      },
      "text/plain": [
       "FloatProgress(value=0.0, max=15.0)"
      ]
     },
     "metadata": {},
     "output_type": "display_data"
    },
    {
     "name": "stderr",
     "output_type": "stream",
     "text": [
      "C:\\Users\\Mikael\\Anaconda3\\lib\\site-packages\\ipykernel_launcher.py:16: FutureWarning: pd.TimeGrouper is deprecated and will be removed; Please use pd.Grouper(freq=...)\n",
      "  app.launch_new_instance()\n",
      "C:\\Users\\Mikael\\Anaconda3\\lib\\site-packages\\ipykernel_launcher.py:16: FutureWarning: using a dict on a Series for aggregation\n",
      "is deprecated and will be removed in a future version\n",
      "  app.launch_new_instance()\n"
     ]
    },
    {
     "name": "stdout",
     "output_type": "stream",
     "text": [
      "warning: no pretest for u=b9be0024-b77d-4b7b-b26a-f2e3d82ecafe\n",
      "warning: no pretest for u=c4d5c2ab-a86a-4878-9b9c-3bc29628a261\n",
      "warning: no pretest for u=ee70d80e-995d-437b-9808-c6a34cfad9be\n",
      "warning: no pretest for u=3bce59e8-bf13-4a95-a6af-b6c959aa369e\n",
      "warning: no pretest for u=066d77c2-f8ef-439f-95ef-70b5a6a25cc7\n",
      "warning: no pretest for u=c6751bee-a692-4488-8b6f-51143bff7255\n",
      "warning: no pretest for u=c0c9be87-f78b-4acf-ac90-7e514a8ed58f\n",
      "warning: no pretest for u=756bdf58-4fd5-41b9-bfa3-541831952154\n",
      "warning: no pretest for u=3f675328-0bdd-469b-8bc7-3666238ee90a\n"
     ]
    }
   ],
   "source": [
    "allDataWebgl1522 = prepareAllData(getAllUserVectorData(\n",
    "    getPosttestUserIds(gfdfWebgl1522UniqueProfiles),\n",
    "    rmdfWebgl1522UniqueProfiles,\n",
    "    gfdfWebgl1522UniqueProfiles,\n",
    "    _source = correctAnswers + demographicAnswers))"
   ]
  },
  {
   "cell_type": "code",
   "execution_count": 23,
   "metadata": {},
   "outputs": [
    {
     "data": {
      "application/vnd.jupyter.widget-view+json": {
       "model_id": "ea0d1e57d55a4c2f99e86a1cfa7113f7",
       "version_major": 2,
       "version_minor": 0
      },
      "text/plain": [
       "FloatProgress(value=0.0, max=29.0)"
      ]
     },
     "metadata": {},
     "output_type": "display_data"
    },
    {
     "name": "stderr",
     "output_type": "stream",
     "text": [
      "C:\\Users\\Mikael\\Anaconda3\\lib\\site-packages\\ipykernel_launcher.py:16: FutureWarning: pd.TimeGrouper is deprecated and will be removed; Please use pd.Grouper(freq=...)\n",
      "  app.launch_new_instance()\n",
      "C:\\Users\\Mikael\\Anaconda3\\lib\\site-packages\\ipykernel_launcher.py:16: FutureWarning: using a dict on a Series for aggregation\n",
      "is deprecated and will be removed in a future version\n",
      "  app.launch_new_instance()\n"
     ]
    },
    {
     "name": "stdout",
     "output_type": "stream",
     "text": [
      "warning: no pretest for u=a54888f5-4f01-4ada-bdb4-acb690ffea29\n",
      "warning: no pretest for u=8bd09edc-d41b-49db-b28d-70936ede92f4\n",
      "warning: no pretest for u=68638e14-d6e9-427e-b6a5-d08d70de11b4\n",
      "warning: no pretest for u=cf660ca8-c15b-4981-bfec-3fc17763ca3d\n",
      "warning: no pretest for u=4485769d-b558-45ee-988b-044941e25c96\n",
      "warning: no pretest for u=3c2c28c6-0749-4411-bc32-decb36961122\n",
      "warning: no pretest for u=5f4dc96b-bddc-4ac6-993f-1540efcbecee\n",
      "warning: no pretest for u=59a78fec-045b-4baa-b10e-65acf9edbcba\n",
      "warning: no pretest for u=02b0d824-e66e-4800-8eae-b37696d743f2\n",
      "warning: no pretest for u=e2141f41-2e73-4deb-a8e4-aa7130d33b8f\n",
      "warning: no pretest for u=8a7ccb42-ba26-478d-b79f-a47f89ed8a0a\n",
      "warning: no pretest for u=d8caa333-f0a9-4fd5-a33b-7aeb5920a62c\n",
      "warning: no pretest for u=4c961975-c6ce-4dc2-9b22-44c0d539c440\n",
      "warning: no pretest for u=82c4e661-4145-4422-9b88-16f12c73accd\n",
      "warning: no pretest for u=708432db-373e-47db-985a-4aadc1ab61da\n",
      "warning: no pretest for u=60941715-80e0-42c8-829b-8274a4b332df\n",
      "warning: no pretest for u=abc35242-9e97-4c86-9da6-eb110467213f\n",
      "warning: no pretest for u=1c25f00a-b15e-4ae4-8f3a-eb75043c6c1c\n",
      "warning: no pretest for u=5363dbe4-88e2-4f7d-af35-4270813d0c8e\n",
      "warning: no pretest for u=ebb95075-66d1-42ec-9e73-62adfada4620\n",
      "warning: no pretest for u=ce3cac64-8c50-4fd2-be22-d3bf8139cb3f\n",
      "warning: no pretest for u=5c160c7d-2440-4ad0-9f4c-a9821d0b4a46\n",
      "warning: no pretest for u=cd64554f-67b3-4062-9136-3fc32f0071e6\n",
      "warning: no pretest for u=5fc55e73-6b75-4085-b074-f76d26890881\n"
     ]
    }
   ],
   "source": [
    "allDataWebgl160 = prepareAllData(getAllUserVectorData(\n",
    "    getPosttestUserIds(gfdfWebgl160UniqueProfiles),\n",
    "    rmdfWebgl160UniqueProfiles,\n",
    "    gfdfWebgl160UniqueProfiles,\n",
    "    _source = correctAnswers + demographicAnswers))"
   ]
  },
  {
   "cell_type": "code",
   "execution_count": 24,
   "metadata": {},
   "outputs": [],
   "source": [
    "allDataClassifWebgl1522 = getAllDataClassif(allDataWebgl1522)\n",
    "allDataClassifWebgl160  = getAllDataClassif(allDataWebgl160)"
   ]
  },
  {
   "cell_type": "code",
   "execution_count": 59,
   "metadata": {},
   "outputs": [
    {
     "data": {
      "text/html": [
       "<div>\n",
       "<style scoped>\n",
       "    .dataframe tbody tr th:only-of-type {\n",
       "        vertical-align: middle;\n",
       "    }\n",
       "\n",
       "    .dataframe tbody tr th {\n",
       "        vertical-align: top;\n",
       "    }\n",
       "\n",
       "    .dataframe thead th {\n",
       "        text-align: right;\n",
       "    }\n",
       "</style>\n",
       "<table border=\"1\" class=\"dataframe\">\n",
       "  <thead>\n",
       "    <tr style=\"text-align: right;\">\n",
       "      <th></th>\n",
       "      <th>predicted</th>\n",
       "      <th>actual</th>\n",
       "      <th>error</th>\n",
       "    </tr>\n",
       "  </thead>\n",
       "  <tbody>\n",
       "    <tr>\n",
       "      <th>b9be0024-b77d-4b7b-b26a-f2e3d82ecafe</th>\n",
       "      <td>0.678709</td>\n",
       "      <td>15.0</td>\n",
       "      <td>-14.321291</td>\n",
       "    </tr>\n",
       "    <tr>\n",
       "      <th>c4d5c2ab-a86a-4878-9b9c-3bc29628a261</th>\n",
       "      <td>0.678709</td>\n",
       "      <td>12.0</td>\n",
       "      <td>-11.321291</td>\n",
       "    </tr>\n",
       "    <tr>\n",
       "      <th>4e5e410c-22d4-44c7-82cc-6a25cff97da0</th>\n",
       "      <td>12.208540</td>\n",
       "      <td>18.0</td>\n",
       "      <td>-5.791460</td>\n",
       "    </tr>\n",
       "    <tr>\n",
       "      <th>8e8acb8f-c28c-4822-8209-781995b5067e</th>\n",
       "      <td>19.253703</td>\n",
       "      <td>22.0</td>\n",
       "      <td>-2.746297</td>\n",
       "    </tr>\n",
       "    <tr>\n",
       "      <th>ee70d80e-995d-437b-9808-c6a34cfad9be</th>\n",
       "      <td>0.678709</td>\n",
       "      <td>13.0</td>\n",
       "      <td>-12.321291</td>\n",
       "    </tr>\n",
       "    <tr>\n",
       "      <th>3bce59e8-bf13-4a95-a6af-b6c959aa369e</th>\n",
       "      <td>0.678709</td>\n",
       "      <td>0.0</td>\n",
       "      <td>0.678709</td>\n",
       "    </tr>\n",
       "    <tr>\n",
       "      <th>066d77c2-f8ef-439f-95ef-70b5a6a25cc7</th>\n",
       "      <td>0.678709</td>\n",
       "      <td>0.0</td>\n",
       "      <td>0.678709</td>\n",
       "    </tr>\n",
       "    <tr>\n",
       "      <th>abbf78ac-d9aa-4fb0-aa0b-f5f40a57838e</th>\n",
       "      <td>8.722084</td>\n",
       "      <td>8.0</td>\n",
       "      <td>0.722084</td>\n",
       "    </tr>\n",
       "    <tr>\n",
       "      <th>c6751bee-a692-4488-8b6f-51143bff7255</th>\n",
       "      <td>0.678709</td>\n",
       "      <td>5.0</td>\n",
       "      <td>-4.321291</td>\n",
       "    </tr>\n",
       "    <tr>\n",
       "      <th>c0c9be87-f78b-4acf-ac90-7e514a8ed58f</th>\n",
       "      <td>0.678709</td>\n",
       "      <td>9.0</td>\n",
       "      <td>-8.321291</td>\n",
       "    </tr>\n",
       "    <tr>\n",
       "      <th>2bd8c00c-bceb-4139-a50c-51b71c1f8d0f</th>\n",
       "      <td>8.722084</td>\n",
       "      <td>8.0</td>\n",
       "      <td>0.722084</td>\n",
       "    </tr>\n",
       "    <tr>\n",
       "      <th>756bdf58-4fd5-41b9-bfa3-541831952154</th>\n",
       "      <td>0.678709</td>\n",
       "      <td>0.0</td>\n",
       "      <td>0.678709</td>\n",
       "    </tr>\n",
       "    <tr>\n",
       "      <th>3f675328-0bdd-469b-8bc7-3666238ee90a</th>\n",
       "      <td>0.678709</td>\n",
       "      <td>1.0</td>\n",
       "      <td>-0.321291</td>\n",
       "    </tr>\n",
       "    <tr>\n",
       "      <th>2ad10897-b143-45f4-9a78-60ee4bcecc80</th>\n",
       "      <td>6.172364</td>\n",
       "      <td>5.0</td>\n",
       "      <td>1.172364</td>\n",
       "    </tr>\n",
       "    <tr>\n",
       "      <th>74a1a7f8-190d-4c13-9dcd-d723f6d60c4a</th>\n",
       "      <td>13.821525</td>\n",
       "      <td>14.0</td>\n",
       "      <td>-0.178475</td>\n",
       "    </tr>\n",
       "  </tbody>\n",
       "</table>\n",
       "</div>"
      ],
      "text/plain": [
       "                                      predicted  actual      error\n",
       "b9be0024-b77d-4b7b-b26a-f2e3d82ecafe   0.678709    15.0 -14.321291\n",
       "c4d5c2ab-a86a-4878-9b9c-3bc29628a261   0.678709    12.0 -11.321291\n",
       "4e5e410c-22d4-44c7-82cc-6a25cff97da0  12.208540    18.0  -5.791460\n",
       "8e8acb8f-c28c-4822-8209-781995b5067e  19.253703    22.0  -2.746297\n",
       "ee70d80e-995d-437b-9808-c6a34cfad9be   0.678709    13.0 -12.321291\n",
       "3bce59e8-bf13-4a95-a6af-b6c959aa369e   0.678709     0.0   0.678709\n",
       "066d77c2-f8ef-439f-95ef-70b5a6a25cc7   0.678709     0.0   0.678709\n",
       "abbf78ac-d9aa-4fb0-aa0b-f5f40a57838e   8.722084     8.0   0.722084\n",
       "c6751bee-a692-4488-8b6f-51143bff7255   0.678709     5.0  -4.321291\n",
       "c0c9be87-f78b-4acf-ac90-7e514a8ed58f   0.678709     9.0  -8.321291\n",
       "2bd8c00c-bceb-4139-a50c-51b71c1f8d0f   8.722084     8.0   0.722084\n",
       "756bdf58-4fd5-41b9-bfa3-541831952154   0.678709     0.0   0.678709\n",
       "3f675328-0bdd-469b-8bc7-3666238ee90a   0.678709     1.0  -0.321291\n",
       "2ad10897-b143-45f4-9a78-60ee4bcecc80   6.172364     5.0   1.172364\n",
       "74a1a7f8-190d-4c13-9dcd-d723f6d60c4a  13.821525    14.0  -0.178475"
      ]
     },
     "execution_count": 59,
     "metadata": {},
     "output_type": "execute_result"
    }
   ],
   "source": [
    "getPredictionVsActual(standardScaler, model, allDataClassifWebgl1522)"
   ]
  },
  {
   "cell_type": "code",
   "execution_count": 25,
   "metadata": {},
   "outputs": [
    {
     "data": {
      "text/html": [
       "<div>\n",
       "<style scoped>\n",
       "    .dataframe tbody tr th:only-of-type {\n",
       "        vertical-align: middle;\n",
       "    }\n",
       "\n",
       "    .dataframe tbody tr th {\n",
       "        vertical-align: top;\n",
       "    }\n",
       "\n",
       "    .dataframe thead th {\n",
       "        text-align: right;\n",
       "    }\n",
       "</style>\n",
       "<table border=\"1\" class=\"dataframe\">\n",
       "  <thead>\n",
       "    <tr style=\"text-align: right;\">\n",
       "      <th></th>\n",
       "      <th>predicted</th>\n",
       "      <th>actual</th>\n",
       "      <th>error</th>\n",
       "    </tr>\n",
       "  </thead>\n",
       "  <tbody>\n",
       "    <tr>\n",
       "      <th>a54888f5-4f01-4ada-bdb4-acb690ffea29</th>\n",
       "      <td>0.678709</td>\n",
       "      <td>0.0</td>\n",
       "      <td>0.678709</td>\n",
       "    </tr>\n",
       "    <tr>\n",
       "      <th>8bd09edc-d41b-49db-b28d-70936ede92f4</th>\n",
       "      <td>0.678709</td>\n",
       "      <td>9.0</td>\n",
       "      <td>-8.321291</td>\n",
       "    </tr>\n",
       "    <tr>\n",
       "      <th>68638e14-d6e9-427e-b6a5-d08d70de11b4</th>\n",
       "      <td>0.678709</td>\n",
       "      <td>8.0</td>\n",
       "      <td>-7.321291</td>\n",
       "    </tr>\n",
       "    <tr>\n",
       "      <th>cf660ca8-c15b-4981-bfec-3fc17763ca3d</th>\n",
       "      <td>0.678709</td>\n",
       "      <td>9.0</td>\n",
       "      <td>-8.321291</td>\n",
       "    </tr>\n",
       "    <tr>\n",
       "      <th>4485769d-b558-45ee-988b-044941e25c96</th>\n",
       "      <td>0.678709</td>\n",
       "      <td>0.0</td>\n",
       "      <td>0.678709</td>\n",
       "    </tr>\n",
       "    <tr>\n",
       "      <th>3c2c28c6-0749-4411-bc32-decb36961122</th>\n",
       "      <td>0.678709</td>\n",
       "      <td>4.0</td>\n",
       "      <td>-3.321291</td>\n",
       "    </tr>\n",
       "    <tr>\n",
       "      <th>b6945f6a-c2f0-415c-8f85-39e7665dda55</th>\n",
       "      <td>2.772737</td>\n",
       "      <td>1.0</td>\n",
       "      <td>1.772737</td>\n",
       "    </tr>\n",
       "    <tr>\n",
       "      <th>5f4dc96b-bddc-4ac6-993f-1540efcbecee</th>\n",
       "      <td>0.678709</td>\n",
       "      <td>0.0</td>\n",
       "      <td>0.678709</td>\n",
       "    </tr>\n",
       "    <tr>\n",
       "      <th>59a78fec-045b-4baa-b10e-65acf9edbcba</th>\n",
       "      <td>0.678709</td>\n",
       "      <td>6.0</td>\n",
       "      <td>-5.321291</td>\n",
       "    </tr>\n",
       "    <tr>\n",
       "      <th>02b0d824-e66e-4800-8eae-b37696d743f2</th>\n",
       "      <td>0.678709</td>\n",
       "      <td>9.0</td>\n",
       "      <td>-8.321291</td>\n",
       "    </tr>\n",
       "    <tr>\n",
       "      <th>06d921b7-174c-4251-b86e-9396634933d3</th>\n",
       "      <td>24.020406</td>\n",
       "      <td>26.0</td>\n",
       "      <td>-1.979594</td>\n",
       "    </tr>\n",
       "    <tr>\n",
       "      <th>e2141f41-2e73-4deb-a8e4-aa7130d33b8f</th>\n",
       "      <td>0.678709</td>\n",
       "      <td>7.0</td>\n",
       "      <td>-6.321291</td>\n",
       "    </tr>\n",
       "    <tr>\n",
       "      <th>8a7ccb42-ba26-478d-b79f-a47f89ed8a0a</th>\n",
       "      <td>0.678709</td>\n",
       "      <td>7.0</td>\n",
       "      <td>-6.321291</td>\n",
       "    </tr>\n",
       "    <tr>\n",
       "      <th>d8caa333-f0a9-4fd5-a33b-7aeb5920a62c</th>\n",
       "      <td>0.678709</td>\n",
       "      <td>9.0</td>\n",
       "      <td>-8.321291</td>\n",
       "    </tr>\n",
       "    <tr>\n",
       "      <th>4c961975-c6ce-4dc2-9b22-44c0d539c440</th>\n",
       "      <td>0.678709</td>\n",
       "      <td>7.0</td>\n",
       "      <td>-6.321291</td>\n",
       "    </tr>\n",
       "    <tr>\n",
       "      <th>82c4e661-4145-4422-9b88-16f12c73accd</th>\n",
       "      <td>0.678709</td>\n",
       "      <td>5.0</td>\n",
       "      <td>-4.321291</td>\n",
       "    </tr>\n",
       "    <tr>\n",
       "      <th>708432db-373e-47db-985a-4aadc1ab61da</th>\n",
       "      <td>0.678709</td>\n",
       "      <td>2.0</td>\n",
       "      <td>-1.321291</td>\n",
       "    </tr>\n",
       "    <tr>\n",
       "      <th>60941715-80e0-42c8-829b-8274a4b332df</th>\n",
       "      <td>0.678709</td>\n",
       "      <td>2.0</td>\n",
       "      <td>-1.321291</td>\n",
       "    </tr>\n",
       "    <tr>\n",
       "      <th>b8de0d52-ecde-49eb-b1c9-be48897fd5d1</th>\n",
       "      <td>18.920966</td>\n",
       "      <td>20.0</td>\n",
       "      <td>-1.079034</td>\n",
       "    </tr>\n",
       "    <tr>\n",
       "      <th>abc35242-9e97-4c86-9da6-eb110467213f</th>\n",
       "      <td>0.678709</td>\n",
       "      <td>0.0</td>\n",
       "      <td>0.678709</td>\n",
       "    </tr>\n",
       "    <tr>\n",
       "      <th>1c25f00a-b15e-4ae4-8f3a-eb75043c6c1c</th>\n",
       "      <td>0.678709</td>\n",
       "      <td>9.0</td>\n",
       "      <td>-8.321291</td>\n",
       "    </tr>\n",
       "    <tr>\n",
       "      <th>5363dbe4-88e2-4f7d-af35-4270813d0c8e</th>\n",
       "      <td>0.678709</td>\n",
       "      <td>4.0</td>\n",
       "      <td>-3.321291</td>\n",
       "    </tr>\n",
       "    <tr>\n",
       "      <th>ebb95075-66d1-42ec-9e73-62adfada4620</th>\n",
       "      <td>0.678709</td>\n",
       "      <td>0.0</td>\n",
       "      <td>0.678709</td>\n",
       "    </tr>\n",
       "    <tr>\n",
       "      <th>12ce6ff6-3ea9-44aa-9d99-9bb8ed07032f</th>\n",
       "      <td>11.148850</td>\n",
       "      <td>13.0</td>\n",
       "      <td>-1.851150</td>\n",
       "    </tr>\n",
       "    <tr>\n",
       "      <th>148832b8-0ab8-43c2-bdcb-8432f4e3f396</th>\n",
       "      <td>18.920966</td>\n",
       "      <td>20.0</td>\n",
       "      <td>-1.079034</td>\n",
       "    </tr>\n",
       "    <tr>\n",
       "      <th>ce3cac64-8c50-4fd2-be22-d3bf8139cb3f</th>\n",
       "      <td>0.678709</td>\n",
       "      <td>0.0</td>\n",
       "      <td>0.678709</td>\n",
       "    </tr>\n",
       "    <tr>\n",
       "      <th>5c160c7d-2440-4ad0-9f4c-a9821d0b4a46</th>\n",
       "      <td>0.678709</td>\n",
       "      <td>0.0</td>\n",
       "      <td>0.678709</td>\n",
       "    </tr>\n",
       "    <tr>\n",
       "      <th>cd64554f-67b3-4062-9136-3fc32f0071e6</th>\n",
       "      <td>0.678709</td>\n",
       "      <td>8.0</td>\n",
       "      <td>-7.321291</td>\n",
       "    </tr>\n",
       "    <tr>\n",
       "      <th>5fc55e73-6b75-4085-b074-f76d26890881</th>\n",
       "      <td>0.678709</td>\n",
       "      <td>0.0</td>\n",
       "      <td>0.678709</td>\n",
       "    </tr>\n",
       "  </tbody>\n",
       "</table>\n",
       "</div>"
      ],
      "text/plain": [
       "                                      predicted  actual     error\n",
       "a54888f5-4f01-4ada-bdb4-acb690ffea29   0.678709     0.0  0.678709\n",
       "8bd09edc-d41b-49db-b28d-70936ede92f4   0.678709     9.0 -8.321291\n",
       "68638e14-d6e9-427e-b6a5-d08d70de11b4   0.678709     8.0 -7.321291\n",
       "cf660ca8-c15b-4981-bfec-3fc17763ca3d   0.678709     9.0 -8.321291\n",
       "4485769d-b558-45ee-988b-044941e25c96   0.678709     0.0  0.678709\n",
       "3c2c28c6-0749-4411-bc32-decb36961122   0.678709     4.0 -3.321291\n",
       "b6945f6a-c2f0-415c-8f85-39e7665dda55   2.772737     1.0  1.772737\n",
       "5f4dc96b-bddc-4ac6-993f-1540efcbecee   0.678709     0.0  0.678709\n",
       "59a78fec-045b-4baa-b10e-65acf9edbcba   0.678709     6.0 -5.321291\n",
       "02b0d824-e66e-4800-8eae-b37696d743f2   0.678709     9.0 -8.321291\n",
       "06d921b7-174c-4251-b86e-9396634933d3  24.020406    26.0 -1.979594\n",
       "e2141f41-2e73-4deb-a8e4-aa7130d33b8f   0.678709     7.0 -6.321291\n",
       "8a7ccb42-ba26-478d-b79f-a47f89ed8a0a   0.678709     7.0 -6.321291\n",
       "d8caa333-f0a9-4fd5-a33b-7aeb5920a62c   0.678709     9.0 -8.321291\n",
       "4c961975-c6ce-4dc2-9b22-44c0d539c440   0.678709     7.0 -6.321291\n",
       "82c4e661-4145-4422-9b88-16f12c73accd   0.678709     5.0 -4.321291\n",
       "708432db-373e-47db-985a-4aadc1ab61da   0.678709     2.0 -1.321291\n",
       "60941715-80e0-42c8-829b-8274a4b332df   0.678709     2.0 -1.321291\n",
       "b8de0d52-ecde-49eb-b1c9-be48897fd5d1  18.920966    20.0 -1.079034\n",
       "abc35242-9e97-4c86-9da6-eb110467213f   0.678709     0.0  0.678709\n",
       "1c25f00a-b15e-4ae4-8f3a-eb75043c6c1c   0.678709     9.0 -8.321291\n",
       "5363dbe4-88e2-4f7d-af35-4270813d0c8e   0.678709     4.0 -3.321291\n",
       "ebb95075-66d1-42ec-9e73-62adfada4620   0.678709     0.0  0.678709\n",
       "12ce6ff6-3ea9-44aa-9d99-9bb8ed07032f  11.148850    13.0 -1.851150\n",
       "148832b8-0ab8-43c2-bdcb-8432f4e3f396  18.920966    20.0 -1.079034\n",
       "ce3cac64-8c50-4fd2-be22-d3bf8139cb3f   0.678709     0.0  0.678709\n",
       "5c160c7d-2440-4ad0-9f4c-a9821d0b4a46   0.678709     0.0  0.678709\n",
       "cd64554f-67b3-4062-9136-3fc32f0071e6   0.678709     8.0 -7.321291\n",
       "5fc55e73-6b75-4085-b074-f76d26890881   0.678709     0.0  0.678709"
      ]
     },
     "execution_count": 25,
     "metadata": {},
     "output_type": "execute_result"
    }
   ],
   "source": [
    "getPredictionVsActual(standardScaler, model, allDataClassifWebgl160)"
   ]
  },
  {
   "cell_type": "markdown",
   "metadata": {},
   "source": [
    "### Prediction of all scores"
   ]
  },
  {
   "cell_type": "code",
   "execution_count": 26,
   "metadata": {},
   "outputs": [],
   "source": [
    "if False:\n",
    "    sortedUnscaledFeatures = anonymousData[anonymousData[\"scoreposttest\"] >= 0].sort_values(by=\"scoreposttest\").drop(dropPosttestColumns, axis = 1)\n",
    "    sortedTarget = sorted(anonymousData[anonymousData[\"scoreposttest\"] >= 0][\"scoreposttest\"])\n",
    "\n",
    "    # Center and scale data variant\n",
    "    sortedFeatures = standardScaler.transform(sortedUnscaledFeatures)\n",
    "\n",
    "    x = range(len(sortedFeatures))\n",
    "    alpha = 0.5\n",
    "\n",
    "    fig, ax = plt.subplots()\n",
    "    plt.title('Actual vs predicted score')\n",
    "    plt.xlabel('User index')\n",
    "    plt.ylabel('Score')\n",
    "    #plt.plot(x, model.predict(sortedFeatures), kind = 'bar')\n",
    "    #plt.plot(x, sortedTarget)\n",
    "    ax.bar(x, model.predict(sortedFeatures), alpha=alpha, label='predicted', linewidth=0)\n",
    "    ax.bar(x, sortedTarget,                  alpha=alpha, label='actual')\n",
    "    ax.legend()\n",
    "    fig.tight_layout()\n",
    "    plt.show()"
   ]
  },
  {
   "cell_type": "markdown",
   "metadata": {},
   "source": [
    "Conclusion: Score can be predicted by the table of RedMetrics data (18/07/2018)."
   ]
  },
  {
   "cell_type": "code",
   "execution_count": 27,
   "metadata": {},
   "outputs": [
    {
     "name": "stderr",
     "output_type": "stream",
     "text": [
      "C:\\Users\\Mikael\\Anaconda3\\lib\\site-packages\\sklearn\\preprocessing\\data.py:164: UserWarning: Numerical issues were encountered when centering the data and might not be solved. Dataset may contain too large values. You may need to prescale your features.\n",
      "  warnings.warn(\"Numerical issues were encountered \"\n"
     ]
    }
   ],
   "source": [
    "# Remove id\n",
    "anonymousData = allDataClassif.drop(\"anonymousID\", axis = 1)\n",
    "\n",
    "# Get features and target\n",
    "# Only select rows where scoreafter is not negative\n",
    "features = anonymousData[anonymousData[\"scoreposttest\"] >= 0].drop(\"scoreposttest\", axis = 1)\n",
    "target = anonymousData[anonymousData[\"scoreposttest\"] >= 0][\"scoreposttest\"]\n",
    "\n",
    "# Add polynomial features\n",
    "secondDegreeFeatures = preprocessing.PolynomialFeatures(degree=2, interaction_only=False, include_bias=True)\n",
    "features = secondDegreeFeatures.fit_transform(features)\n",
    "\n",
    "# Center and scale data\n",
    "features = preprocessing.scale(features)"
   ]
  },
  {
   "cell_type": "code",
   "execution_count": 28,
   "metadata": {},
   "outputs": [
    {
     "data": {
      "text/plain": [
       "array([0.95528189, 0.95925509, 0.8792537 , 0.95363984, 0.93561055,\n",
       "       0.91621772, 0.9677488 , 0.93096553, 0.93826607, 0.94253719])"
      ]
     },
     "execution_count": 28,
     "metadata": {},
     "output_type": "execute_result"
    },
    {
     "data": {
      "image/png": "[encoded data removed]",
      "text/plain": [
       "<Figure size 432x288 with 1 Axes>"
      ]
     },
     "metadata": {},
     "output_type": "display_data"
    }
   ],
   "source": [
    "# Run Lasso regression with cross-validation\n",
    "model = Lasso()\n",
    "scores = cross_val_score(model, features, target, cv=10)\n",
    "boxplot(scores)\n",
    "scores"
   ]
  },
  {
   "cell_type": "markdown",
   "metadata": {},
   "source": [
    "Conclusion: Score cannot be predicted by the table of RedMetrics data + second degree polynomial (30/01/2018)"
   ]
  },
  {
   "cell_type": "markdown",
   "metadata": {},
   "source": [
    "Let's try by reducing the number of features"
   ]
  },
  {
   "cell_type": "code",
   "execution_count": 29,
   "metadata": {},
   "outputs": [],
   "source": [
    "stemTimesCriteria = [\"ch\" + \"{0:0=2d}\".format(i) for i in range(0,15)]\n",
    "completionTimesCriteria = [st + \"completion\" for st in stemTimesCriteria] + [\"completionTime\"]\n",
    "totalTimesCriteria = [st + \"total\" for st in stemTimesCriteria] + [\"totalTime\"]"
   ]
  },
  {
   "cell_type": "code",
   "execution_count": 30,
   "metadata": {},
   "outputs": [
    {
     "name": "stderr",
     "output_type": "stream",
     "text": [
      "C:\\Users\\Mikael\\Anaconda3\\lib\\site-packages\\sklearn\\preprocessing\\data.py:164: UserWarning: Numerical issues were encountered when centering the data and might not be solved. Dataset may contain too large values. You may need to prescale your features.\n",
      "  warnings.warn(\"Numerical issues were encountered \"\n"
     ]
    }
   ],
   "source": [
    "# Remove id\n",
    "anonymousData = allDataClassif.drop(\"anonymousID\", axis = 1)\n",
    "\n",
    "# Get features and target\n",
    "# Only select rows where scoreafter is not negative\n",
    "features = anonymousData[anonymousData[\"scoreposttest\"] >= 0]\n",
    "\n",
    "features = features[[\"craft\", \"death\", \"add\", \"remove\", \"reach\", \"maxChapter\"] + totalTimesCriteria + completionTimesCriteria]\n",
    "target = anonymousData[anonymousData[\"scoreposttest\"] >= 0][\"scoreposttest\"]\n",
    "\n",
    "# Add polynomial features\n",
    "secondDegreeFeatures = preprocessing.PolynomialFeatures(degree=2, interaction_only=False, include_bias=True)\n",
    "features = secondDegreeFeatures.fit_transform(features)\n",
    "\n",
    "# Center and scale data\n",
    "features = preprocessing.scale(features)"
   ]
  },
  {
   "cell_type": "code",
   "execution_count": 31,
   "metadata": {},
   "outputs": [
    {
     "data": {
      "text/plain": [
       "array([ 0.36592486,  0.430899  ,  0.05166824, -0.24491618,  0.35003405,\n",
       "        0.40765292,  0.38250941,  0.29846249, -0.17289975,  0.64738162])"
      ]
     },
     "execution_count": 31,
     "metadata": {},
     "output_type": "execute_result"
    },
    {
     "data": {
      "image/png": "[encoded data removed]",
      "text/plain": [
       "<Figure size 432x288 with 1 Axes>"
      ]
     },
     "metadata": {},
     "output_type": "display_data"
    }
   ],
   "source": [
    "# Run Lasso regression with cross-validation\n",
    "model = Lasso()\n",
    "scores = cross_val_score(model, features, target, cv=10)\n",
    "boxplot(scores)\n",
    "scores"
   ]
  },
  {
   "cell_type": "markdown",
   "metadata": {},
   "source": [
    "Conclusion: Tried different combinations, but cannot find any interesting regression (02/02/2018)"
   ]
  },
  {
   "cell_type": "markdown",
   "metadata": {},
   "source": [
    "# Questionnaire and RedMetrics"
   ]
  },
  {
   "cell_type": "markdown",
   "metadata": {},
   "source": [
    "## Can the biology level of a player be predicted using the game data?"
   ]
  },
  {
   "cell_type": "code",
   "execution_count": 32,
   "metadata": {},
   "outputs": [],
   "source": [
    "# Remove id\n",
    "anonymousData = gameAndCorrectedAfterDataClassif.drop(\"anonymousID\", axis = 1)\n",
    "\n",
    "# Get features and target\n",
    "# Only select rows where scoreafter is not negative\n",
    "features = anonymousData[anonymousData[\"scoreposttest\"] >= 0]\n",
    "features = features.loc[:,\"sessionsCount\":\"completionTime\"]\n",
    "target = anonymousData[anonymousData[\"scoreposttest\"] >= 0][\"biologyStudy\"]\n",
    "\n",
    "# Add polynomial features\n",
    "secondDegreeFeatures = preprocessing.PolynomialFeatures(degree=2, interaction_only=False, include_bias=True)\n",
    "features = secondDegreeFeatures.fit_transform(features)\n",
    "\n",
    "# Center and scale data\n",
    "features = preprocessing.scale(features)"
   ]
  },
  {
   "cell_type": "code",
   "execution_count": 33,
   "metadata": {},
   "outputs": [
    {
     "data": {
      "text/plain": [
       "array([-0.20066654, -0.20680147, -0.03503828, -0.94148878, -0.78800588,\n",
       "       -0.06369471, -0.00391573, -0.05202545, -0.51785574, -0.00128933])"
      ]
     },
     "execution_count": 33,
     "metadata": {},
     "output_type": "execute_result"
    },
    {
     "data": {
      "image/png": "[encoded data removed]",
      "text/plain": [
       "<Figure size 432x288 with 1 Axes>"
      ]
     },
     "metadata": {},
     "output_type": "display_data"
    }
   ],
   "source": [
    "# Run Lasso regression with cross-validation\n",
    "model = Lasso()\n",
    "scores = cross_val_score(model, features, target, cv=10)\n",
    "boxplot(scores)\n",
    "scores"
   ]
  },
  {
   "cell_type": "markdown",
   "metadata": {
    "collapsed": true
   },
   "source": [
    "Conclusion: No (30/01/2018)"
   ]
  },
  {
   "cell_type": "markdown",
   "metadata": {},
   "source": [
    "## Can the gaming profile of a player be predicted using the game data?"
   ]
  },
  {
   "cell_type": "code",
   "execution_count": 34,
   "metadata": {},
   "outputs": [],
   "source": [
    "# Remove id\n",
    "anonymousData = gameAndCorrectedAfterDataClassif.drop(\"anonymousID\", axis = 1)\n",
    "\n",
    "# Get features and target\n",
    "# Only select rows where scoreafter is not negative\n",
    "features = anonymousData.loc[:,\"sessionsCount\":\"completionTime\"]\n",
    "target = sum(anonymousData[\"gameInterest\"], anonymousData[\"gameFrequency\"])\n",
    "\n",
    "# Add polynomial features\n",
    "secondDegreeFeatures = preprocessing.PolynomialFeatures(degree=2, interaction_only=False, include_bias=True)\n",
    "features = secondDegreeFeatures.fit_transform(features)\n",
    "\n",
    "# Center and scale data\n",
    "features = preprocessing.scale(features)"
   ]
  },
  {
   "cell_type": "code",
   "execution_count": 35,
   "metadata": {},
   "outputs": [
    {
     "data": {
      "text/plain": [
       "array([-0.00236054, -0.08076277, -0.00236054, -0.25334272, -0.06184537,\n",
       "       -0.00062652, -0.08508329, -0.1057248 , -0.24054161, -0.1057248 ])"
      ]
     },
     "execution_count": 35,
     "metadata": {},
     "output_type": "execute_result"
    },
    {
     "data": {
      "image/png": "[encoded data removed]",
      "text/plain": [
       "<Figure size 432x288 with 1 Axes>"
      ]
     },
     "metadata": {},
     "output_type": "display_data"
    }
   ],
   "source": [
    "# Run Lasso regression with cross-validation\n",
    "model = Lasso()\n",
    "scores = cross_val_score(model, features, target, cv=10)\n",
    "boxplot(scores)\n",
    "scores"
   ]
  },
  {
   "cell_type": "markdown",
   "metadata": {
    "collapsed": true
   },
   "source": [
    "Conclusion: No (30/01/2018)"
   ]
  },
  {
   "cell_type": "markdown",
   "metadata": {
    "collapsed": true
   },
   "source": [
    "## Can the completion time of each chapter be used to predict if a player is going to answer a specific scientific question correctly?"
   ]
  },
  {
   "cell_type": "code",
   "execution_count": 36,
   "metadata": {},
   "outputs": [],
   "source": [
    "# Given a question tag, plot scores of cross-validated model\n",
    "def tryClassification(data, scientificQuestion):\n",
    "    # Remove id\n",
    "    anonymousData = data.drop(\"anonymousID\", axis = 1)\n",
    "\n",
    "    # Get features and target\n",
    "    # Only select rows where scoreafter is not negative\n",
    "    features = anonymousData[anonymousData[\"scoreposttest\"] >= 0]\n",
    "    features = features.iloc[:,24:37]\n",
    "    target = anonymousData[anonymousData[\"scoreposttest\"] >= 0].loc[:,scientificQuestion].astype('int')\n",
    "\n",
    "    # Add polynomial features\n",
    "    secondDegreeFeatures = preprocessing.PolynomialFeatures(degree=2, interaction_only=False, include_bias=True)\n",
    "    features = secondDegreeFeatures.fit_transform(features)\n",
    "\n",
    "    # Center and scale data\n",
    "    features = preprocessing.scale(features)\n",
    "    \n",
    "    # Classify using extra tree classifiers, more random than random forest methods\n",
    "    clf = ExtraTreesClassifier(n_estimators=10, max_depth=None, min_samples_split=2, random_state=0, bootstrap=True)\n",
    "    scores = cross_val_score(clf, features, target, cv=5)\n",
    "    \n",
    "    # Display plot\n",
    "    fig, ax = plt.subplots()\n",
    "    boxplot(scores)\n",
    "    \n",
    "    return [scores.mean(), scores.std()]"
   ]
  },
  {
   "cell_type": "code",
   "execution_count": 37,
   "metadata": {
    "scrolled": false
   },
   "outputs": [
    {
     "name": "stderr",
     "output_type": "stream",
     "text": [
      "C:\\Users\\Mikael\\Anaconda3\\lib\\site-packages\\sklearn\\preprocessing\\data.py:164: UserWarning: Numerical issues were encountered when centering the data and might not be solved. Dataset may contain too large values. You may need to prescale your features.\n",
      "  warnings.warn(\"Numerical issues were encountered \"\n",
      "C:\\Users\\Mikael\\Anaconda3\\lib\\site-packages\\sklearn\\preprocessing\\data.py:164: UserWarning: Numerical issues were encountered when centering the data and might not be solved. Dataset may contain too large values. You may need to prescale your features.\n",
      "  warnings.warn(\"Numerical issues were encountered \"\n",
      "C:\\Users\\Mikael\\Anaconda3\\lib\\site-packages\\sklearn\\preprocessing\\data.py:164: UserWarning: Numerical issues were encountered when centering the data and might not be solved. Dataset may contain too large values. You may need to prescale your features.\n",
      "  warnings.warn(\"Numerical issues were encountered \"\n",
      "C:\\Users\\Mikael\\Anaconda3\\lib\\site-packages\\sklearn\\preprocessing\\data.py:164: UserWarning: Numerical issues were encountered when centering the data and might not be solved. Dataset may contain too large values. You may need to prescale your features.\n",
      "  warnings.warn(\"Numerical issues were encountered \"\n",
      "C:\\Users\\Mikael\\Anaconda3\\lib\\site-packages\\sklearn\\preprocessing\\data.py:164: UserWarning: Numerical issues were encountered when centering the data and might not be solved. Dataset may contain too large values. You may need to prescale your features.\n",
      "  warnings.warn(\"Numerical issues were encountered \"\n",
      "C:\\Users\\Mikael\\Anaconda3\\lib\\site-packages\\sklearn\\preprocessing\\data.py:164: UserWarning: Numerical issues were encountered when centering the data and might not be solved. Dataset may contain too large values. You may need to prescale your features.\n",
      "  warnings.warn(\"Numerical issues were encountered \"\n",
      "C:\\Users\\Mikael\\Anaconda3\\lib\\site-packages\\sklearn\\preprocessing\\data.py:164: UserWarning: Numerical issues were encountered when centering the data and might not be solved. Dataset may contain too large values. You may need to prescale your features.\n",
      "  warnings.warn(\"Numerical issues were encountered \"\n",
      "C:\\Users\\Mikael\\Anaconda3\\lib\\site-packages\\sklearn\\preprocessing\\data.py:164: UserWarning: Numerical issues were encountered when centering the data and might not be solved. Dataset may contain too large values. You may need to prescale your features.\n",
      "  warnings.warn(\"Numerical issues were encountered \"\n",
      "C:\\Users\\Mikael\\Anaconda3\\lib\\site-packages\\sklearn\\preprocessing\\data.py:164: UserWarning: Numerical issues were encountered when centering the data and might not be solved. Dataset may contain too large values. You may need to prescale your features.\n",
      "  warnings.warn(\"Numerical issues were encountered \"\n",
      "C:\\Users\\Mikael\\Anaconda3\\lib\\site-packages\\sklearn\\preprocessing\\data.py:164: UserWarning: Numerical issues were encountered when centering the data and might not be solved. Dataset may contain too large values. You may need to prescale your features.\n",
      "  warnings.warn(\"Numerical issues were encountered \"\n",
      "C:\\Users\\Mikael\\Anaconda3\\lib\\site-packages\\sklearn\\preprocessing\\data.py:164: UserWarning: Numerical issues were encountered when centering the data and might not be solved. Dataset may contain too large values. You may need to prescale your features.\n",
      "  warnings.warn(\"Numerical issues were encountered \"\n",
      "C:\\Users\\Mikael\\Anaconda3\\lib\\site-packages\\sklearn\\preprocessing\\data.py:164: UserWarning: Numerical issues were encountered when centering the data and might not be solved. Dataset may contain too large values. You may need to prescale your features.\n",
      "  warnings.warn(\"Numerical issues were encountered \"\n",
      "C:\\Users\\Mikael\\Anaconda3\\lib\\site-packages\\sklearn\\preprocessing\\data.py:164: UserWarning: Numerical issues were encountered when centering the data and might not be solved. Dataset may contain too large values. You may need to prescale your features.\n",
      "  warnings.warn(\"Numerical issues were encountered \"\n",
      "C:\\Users\\Mikael\\Anaconda3\\lib\\site-packages\\sklearn\\preprocessing\\data.py:164: UserWarning: Numerical issues were encountered when centering the data and might not be solved. Dataset may contain too large values. You may need to prescale your features.\n",
      "  warnings.warn(\"Numerical issues were encountered \"\n",
      "C:\\Users\\Mikael\\Anaconda3\\lib\\site-packages\\sklearn\\preprocessing\\data.py:164: UserWarning: Numerical issues were encountered when centering the data and might not be solved. Dataset may contain too large values. You may need to prescale your features.\n",
      "  warnings.warn(\"Numerical issues were encountered \"\n",
      "C:\\Users\\Mikael\\Anaconda3\\lib\\site-packages\\sklearn\\preprocessing\\data.py:164: UserWarning: Numerical issues were encountered when centering the data and might not be solved. Dataset may contain too large values. You may need to prescale your features.\n",
      "  warnings.warn(\"Numerical issues were encountered \"\n",
      "C:\\Users\\Mikael\\Anaconda3\\lib\\site-packages\\sklearn\\preprocessing\\data.py:164: UserWarning: Numerical issues were encountered when centering the data and might not be solved. Dataset may contain too large values. You may need to prescale your features.\n",
      "  warnings.warn(\"Numerical issues were encountered \"\n",
      "C:\\Users\\Mikael\\Anaconda3\\lib\\site-packages\\sklearn\\preprocessing\\data.py:164: UserWarning: Numerical issues were encountered when centering the data and might not be solved. Dataset may contain too large values. You may need to prescale your features.\n",
      "  warnings.warn(\"Numerical issues were encountered \"\n",
      "C:\\Users\\Mikael\\Anaconda3\\lib\\site-packages\\sklearn\\preprocessing\\data.py:164: UserWarning: Numerical issues were encountered when centering the data and might not be solved. Dataset may contain too large values. You may need to prescale your features.\n",
      "  warnings.warn(\"Numerical issues were encountered \"\n",
      "C:\\Users\\Mikael\\Anaconda3\\lib\\site-packages\\sklearn\\preprocessing\\data.py:164: UserWarning: Numerical issues were encountered when centering the data and might not be solved. Dataset may contain too large values. You may need to prescale your features.\n",
      "  warnings.warn(\"Numerical issues were encountered \"\n",
      "C:\\Users\\Mikael\\Anaconda3\\lib\\site-packages\\sklearn\\preprocessing\\data.py:164: UserWarning: Numerical issues were encountered when centering the data and might not be solved. Dataset may contain too large values. You may need to prescale your features.\n",
      "  warnings.warn(\"Numerical issues were encountered \"\n",
      "C:\\Users\\Mikael\\Anaconda3\\lib\\site-packages\\matplotlib\\pyplot.py:537: RuntimeWarning: More than 20 figures have been opened. Figures created through the pyplot interface (`matplotlib.pyplot.figure`) are retained until explicitly closed and may consume too much memory. (To control this warning, see the rcParam `figure.max_open_warning`).\n",
      "  max_open_warning, RuntimeWarning)\n",
      "C:\\Users\\Mikael\\Anaconda3\\lib\\site-packages\\sklearn\\preprocessing\\data.py:164: UserWarning: Numerical issues were encountered when centering the data and might not be solved. Dataset may contain too large values. You may need to prescale your features.\n",
      "  warnings.warn(\"Numerical issues were encountered \"\n",
      "C:\\Users\\Mikael\\Anaconda3\\lib\\site-packages\\matplotlib\\pyplot.py:537: RuntimeWarning: More than 20 figures have been opened. Figures created through the pyplot interface (`matplotlib.pyplot.figure`) are retained until explicitly closed and may consume too much memory. (To control this warning, see the rcParam `figure.max_open_warning`).\n",
      "  max_open_warning, RuntimeWarning)\n",
      "C:\\Users\\Mikael\\Anaconda3\\lib\\site-packages\\sklearn\\preprocessing\\data.py:164: UserWarning: Numerical issues were encountered when centering the data and might not be solved. Dataset may contain too large values. You may need to prescale your features.\n",
      "  warnings.warn(\"Numerical issues were encountered \"\n",
      "C:\\Users\\Mikael\\Anaconda3\\lib\\site-packages\\matplotlib\\pyplot.py:537: RuntimeWarning: More than 20 figures have been opened. Figures created through the pyplot interface (`matplotlib.pyplot.figure`) are retained until explicitly closed and may consume too much memory. (To control this warning, see the rcParam `figure.max_open_warning`).\n",
      "  max_open_warning, RuntimeWarning)\n",
      "C:\\Users\\Mikael\\Anaconda3\\lib\\site-packages\\sklearn\\preprocessing\\data.py:164: UserWarning: Numerical issues were encountered when centering the data and might not be solved. Dataset may contain too large values. You may need to prescale your features.\n",
      "  warnings.warn(\"Numerical issues were encountered \"\n"
     ]
    },
    {
     "name": "stderr",
     "output_type": "stream",
     "text": [
      "C:\\Users\\Mikael\\Anaconda3\\lib\\site-packages\\matplotlib\\pyplot.py:537: RuntimeWarning: More than 20 figures have been opened. Figures created through the pyplot interface (`matplotlib.pyplot.figure`) are retained until explicitly closed and may consume too much memory. (To control this warning, see the rcParam `figure.max_open_warning`).\n",
      "  max_open_warning, RuntimeWarning)\n",
      "C:\\Users\\Mikael\\Anaconda3\\lib\\site-packages\\sklearn\\preprocessing\\data.py:164: UserWarning: Numerical issues were encountered when centering the data and might not be solved. Dataset may contain too large values. You may need to prescale your features.\n",
      "  warnings.warn(\"Numerical issues were encountered \"\n",
      "C:\\Users\\Mikael\\Anaconda3\\lib\\site-packages\\matplotlib\\pyplot.py:537: RuntimeWarning: More than 20 figures have been opened. Figures created through the pyplot interface (`matplotlib.pyplot.figure`) are retained until explicitly closed and may consume too much memory. (To control this warning, see the rcParam `figure.max_open_warning`).\n",
      "  max_open_warning, RuntimeWarning)\n",
      "C:\\Users\\Mikael\\Anaconda3\\lib\\site-packages\\sklearn\\preprocessing\\data.py:164: UserWarning: Numerical issues were encountered when centering the data and might not be solved. Dataset may contain too large values. You may need to prescale your features.\n",
      "  warnings.warn(\"Numerical issues were encountered \"\n",
      "C:\\Users\\Mikael\\Anaconda3\\lib\\site-packages\\matplotlib\\pyplot.py:537: RuntimeWarning: More than 20 figures have been opened. Figures created through the pyplot interface (`matplotlib.pyplot.figure`) are retained until explicitly closed and may consume too much memory. (To control this warning, see the rcParam `figure.max_open_warning`).\n",
      "  max_open_warning, RuntimeWarning)\n",
      "C:\\Users\\Mikael\\Anaconda3\\lib\\site-packages\\sklearn\\preprocessing\\data.py:164: UserWarning: Numerical issues were encountered when centering the data and might not be solved. Dataset may contain too large values. You may need to prescale your features.\n",
      "  warnings.warn(\"Numerical issues were encountered \"\n",
      "C:\\Users\\Mikael\\Anaconda3\\lib\\site-packages\\matplotlib\\pyplot.py:537: RuntimeWarning: More than 20 figures have been opened. Figures created through the pyplot interface (`matplotlib.pyplot.figure`) are retained until explicitly closed and may consume too much memory. (To control this warning, see the rcParam `figure.max_open_warning`).\n",
      "  max_open_warning, RuntimeWarning)\n"
     ]
    },
    {
     "data": {
      "text/html": [
       "<div>\n",
       "<style scoped>\n",
       "    .dataframe tbody tr th:only-of-type {\n",
       "        vertical-align: middle;\n",
       "    }\n",
       "\n",
       "    .dataframe tbody tr th {\n",
       "        vertical-align: top;\n",
       "    }\n",
       "\n",
       "    .dataframe thead th {\n",
       "        text-align: right;\n",
       "    }\n",
       "</style>\n",
       "<table border=\"1\" class=\"dataframe\">\n",
       "  <thead>\n",
       "    <tr style=\"text-align: right;\">\n",
       "      <th></th>\n",
       "      <th>QGenotypePhenotype</th>\n",
       "      <th>QBioBricksDevicesComposition</th>\n",
       "      <th>QAmpicillin</th>\n",
       "      <th>QBBNamePlasmid</th>\n",
       "      <th>QBBFunctionTER</th>\n",
       "      <th>QBBNamePromoter</th>\n",
       "      <th>QBBFunctionGameCDS</th>\n",
       "      <th>QBBNameTerminator</th>\n",
       "      <th>QBBFunctionBiologyCDS</th>\n",
       "      <th>QBBNameRBS</th>\n",
       "      <th>...</th>\n",
       "      <th>QDevicePconsRbsFlhdcTer</th>\n",
       "      <th>QDevicePbadRbsGfpTer</th>\n",
       "      <th>QDevicePbadGfpTbsTer</th>\n",
       "      <th>QDeviceGfpRbsPconsTer</th>\n",
       "      <th>QDevicePconsGfpRbsTer</th>\n",
       "      <th>QDeviceAmprRbsPconsTer</th>\n",
       "      <th>QDeviceRbsPconsAmprTer</th>\n",
       "      <th>QGreenFluorescence</th>\n",
       "      <th>QUnequipDevice</th>\n",
       "      <th>QDevicePbadRbsAraTer</th>\n",
       "    </tr>\n",
       "  </thead>\n",
       "  <tbody>\n",
       "    <tr>\n",
       "      <th>Mean</th>\n",
       "      <td>0.760000</td>\n",
       "      <td>0.720590</td>\n",
       "      <td>0.616000</td>\n",
       "      <td>0.640179</td>\n",
       "      <td>0.705769</td>\n",
       "      <td>0.654256</td>\n",
       "      <td>0.816</td>\n",
       "      <td>0.567436</td>\n",
       "      <td>0.761282</td>\n",
       "      <td>0.864231</td>\n",
       "      <td>...</td>\n",
       "      <td>0.632077</td>\n",
       "      <td>0.776000</td>\n",
       "      <td>0.672103</td>\n",
       "      <td>0.734692</td>\n",
       "      <td>0.752000</td>\n",
       "      <td>0.776179</td>\n",
       "      <td>0.760000</td>\n",
       "      <td>0.613872</td>\n",
       "      <td>0.623179</td>\n",
       "      <td>0.856846</td>\n",
       "    </tr>\n",
       "    <tr>\n",
       "      <th>Var</th>\n",
       "      <td>0.035247</td>\n",
       "      <td>0.053049</td>\n",
       "      <td>0.054259</td>\n",
       "      <td>0.039117</td>\n",
       "      <td>0.114707</td>\n",
       "      <td>0.063619</td>\n",
       "      <td>0.048</td>\n",
       "      <td>0.106841</td>\n",
       "      <td>0.077792</td>\n",
       "      <td>0.017477</td>\n",
       "      <td>...</td>\n",
       "      <td>0.051608</td>\n",
       "      <td>0.019596</td>\n",
       "      <td>0.027386</td>\n",
       "      <td>0.040862</td>\n",
       "      <td>0.053066</td>\n",
       "      <td>0.030263</td>\n",
       "      <td>0.043818</td>\n",
       "      <td>0.084378</td>\n",
       "      <td>0.073772</td>\n",
       "      <td>0.043850</td>\n",
       "    </tr>\n",
       "  </tbody>\n",
       "</table>\n",
       "<p>2 rows × 27 columns</p>\n",
       "</div>"
      ],
      "text/plain": [
       "      QGenotypePhenotype  QBioBricksDevicesComposition  QAmpicillin  \\\n",
       "Mean            0.760000                      0.720590     0.616000   \n",
       "Var             0.035247                      0.053049     0.054259   \n",
       "\n",
       "      QBBNamePlasmid  QBBFunctionTER  QBBNamePromoter  QBBFunctionGameCDS  \\\n",
       "Mean        0.640179        0.705769         0.654256               0.816   \n",
       "Var         0.039117        0.114707         0.063619               0.048   \n",
       "\n",
       "      QBBNameTerminator  QBBFunctionBiologyCDS  QBBNameRBS  \\\n",
       "Mean           0.567436               0.761282    0.864231   \n",
       "Var            0.106841               0.077792    0.017477   \n",
       "\n",
       "              ...           QDevicePconsRbsFlhdcTer  QDevicePbadRbsGfpTer  \\\n",
       "Mean          ...                          0.632077              0.776000   \n",
       "Var           ...                          0.051608              0.019596   \n",
       "\n",
       "      QDevicePbadGfpTbsTer  QDeviceGfpRbsPconsTer  QDevicePconsGfpRbsTer  \\\n",
       "Mean              0.672103               0.734692               0.752000   \n",
       "Var               0.027386               0.040862               0.053066   \n",
       "\n",
       "      QDeviceAmprRbsPconsTer  QDeviceRbsPconsAmprTer  QGreenFluorescence  \\\n",
       "Mean                0.776179                0.760000            0.613872   \n",
       "Var                 0.030263                0.043818            0.084378   \n",
       "\n",
       "      QUnequipDevice  QDevicePbadRbsAraTer  \n",
       "Mean        0.623179              0.856846  \n",
       "Var         0.073772              0.043850  \n",
       "\n",
       "[2 rows x 27 columns]"
      ]
     },
     "execution_count": 37,
     "metadata": {},
     "output_type": "execute_result"
    },
    {
     "data": {
      "image/png": "[encoded data removed]",
      "text/plain": [
       "<Figure size 432x288 with 1 Axes>"
      ]
     },
     "metadata": {},
     "output_type": "display_data"
    },
    {
     "data": {
      "image/png": "[encoded data removed]",
      "text/plain": [
       "<Figure size 432x288 with 1 Axes>"
      ]
     },
     "metadata": {},
     "output_type": "display_data"
    },
    {
     "data": {
      "image/png": "[encoded data removed]",
      "text/plain": [
       "<Figure size 432x288 with 1 Axes>"
      ]
     },
     "metadata": {},
     "output_type": "display_data"
    },
    {
     "data": {
      "image/png": "[encoded data removed]",
      "text/plain": [
       "<Figure size 432x288 with 1 Axes>"
      ]
     },
     "metadata": {},
     "output_type": "display_data"
    },
    {
     "data": {
      "image/png": "[encoded data removed]",
      "text/plain": [
       "<Figure size 432x288 with 1 Axes>"
      ]
     },
     "metadata": {},
     "output_type": "display_data"
    },
    {
     "data": {
      "image/png": "[encoded data removed]",
      "text/plain": [
       "<Figure size 432x288 with 1 Axes>"
      ]
     },
     "metadata": {},
     "output_type": "display_data"
    },
    {
     "data": {
      "image/png": "[encoded data removed]",
      "text/plain": [
       "<Figure size 432x288 with 1 Axes>"
      ]
     },
     "metadata": {},
     "output_type": "display_data"
    },
    {
     "data": {
      "image/png": "[encoded data removed]",
      "text/plain": [
       "<Figure size 432x288 with 1 Axes>"
      ]
     },
     "metadata": {},
     "output_type": "display_data"
    },
    {
     "data": {
      "image/png": "[encoded data removed]",
      "text/plain": [
       "<Figure size 432x288 with 1 Axes>"
      ]
     },
     "metadata": {},
     "output_type": "display_data"
    },
    {
     "data": {
      "image/png": "[encoded data removed]",
      "text/plain": [
       "<Figure size 432x288 with 1 Axes>"
      ]
     },
     "metadata": {},
     "output_type": "display_data"
    },
    {
     "data": {
      "image/png": "[encoded data removed]",
      "text/plain": [
       "<Figure size 432x288 with 1 Axes>"
      ]
     },
     "metadata": {},
     "output_type": "display_data"
    },
    {
     "data": {
      "image/png": "[encoded data removed]",
      "text/plain": [
       "<Figure size 432x288 with 1 Axes>"
      ]
     },
     "metadata": {},
     "output_type": "display_data"
    },
    {
     "data": {
      "image/png": "[encoded data removed]",
      "text/plain": [
       "<Figure size 432x288 with 1 Axes>"
      ]
     },
     "metadata": {},
     "output_type": "display_data"
    },
    {
     "data": {
      "image/png": "[encoded data removed]",
      "text/plain": [
       "<Figure size 432x288 with 1 Axes>"
      ]
     },
     "metadata": {},
     "output_type": "display_data"
    },
    {
     "data": {
      "image/png": "[encoded data removed]",
      "text/plain": [
       "<Figure size 432x288 with 1 Axes>"
      ]
     },
     "metadata": {},
     "output_type": "display_data"
    },
    {
     "data": {
      "image/png": "[encoded data removed]",
      "text/plain": [
       "<Figure size 432x288 with 1 Axes>"
      ]
     },
     "metadata": {},
     "output_type": "display_data"
    },
    {
     "data": {
      "image/png": "[encoded data removed]",
      "text/plain": [
       "<Figure size 432x288 with 1 Axes>"
      ]
     },
     "metadata": {},
     "output_type": "display_data"
    },
    {
     "data": {
      "image/png": "[encoded data removed]",
      "text/plain": [
       "<Figure size 432x288 with 1 Axes>"
      ]
     },
     "metadata": {},
     "output_type": "display_data"
    },
    {
     "data": {
      "image/png": "[encoded data removed]",
      "text/plain": [
       "<Figure size 432x288 with 1 Axes>"
      ]
     },
     "metadata": {},
     "output_type": "display_data"
    },
    {
     "data": {
      "image/png": "[encoded data removed]",
      "text/plain": [
       "<Figure size 432x288 with 1 Axes>"
      ]
     },
     "metadata": {},
     "output_type": "display_data"
    },
    {
     "data": {
      "image/png": "[encoded data removed]",
      "text/plain": [
       "<Figure size 432x288 with 1 Axes>"
      ]
     },
     "metadata": {},
     "output_type": "display_data"
    },
    {
     "data": {
      "image/png": "[encoded data removed]",
      "text/plain": [
       "<Figure size 432x288 with 1 Axes>"
      ]
     },
     "metadata": {},
     "output_type": "display_data"
    },
    {
     "data": {
      "image/png": "[encoded data removed]",
      "text/plain": [
       "<Figure size 432x288 with 1 Axes>"
      ]
     },
     "metadata": {},
     "output_type": "display_data"
    },
    {
     "data": {
      "image/png": "[encoded data removed]",
      "text/plain": [
       "<Figure size 432x288 with 1 Axes>"
      ]
     },
     "metadata": {},
     "output_type": "display_data"
    },
    {
     "data": {
      "image/png": "[encoded data removed]",
      "text/plain": [
       "<Figure size 432x288 with 1 Axes>"
      ]
     },
     "metadata": {},
     "output_type": "display_data"
    },
    {
     "data": {
      "image/png": "[encoded data removed]",
      "text/plain": [
       "<Figure size 432x288 with 1 Axes>"
      ]
     },
     "metadata": {},
     "output_type": "display_data"
    },
    {
     "data": {
      "image/png": "[encoded data removed]",
      "text/plain": [
       "<Figure size 432x288 with 1 Axes>"
      ]
     },
     "metadata": {},
     "output_type": "display_data"
    }
   ],
   "source": [
    "allScores = pd.DataFrame(index = [\"Mean\", \"Var\"])\n",
    "for question in [\"QGenotypePhenotype\", \"QBioBricksDevicesComposition\", \"QAmpicillin\", \"QBBNamePlasmid\", \"QBBFunctionTER\", \"QBBNamePromoter\", \"QBBFunctionGameCDS\", \"QBBNameTerminator\", \"QBBFunctionBiologyCDS\", \"QBBNameRBS\", \"QBBExampleCDS\", \"QBBNameCDS\", \"QBBFunctionPR\", \"QBBFunctionRBS\", \"QBBFunctionPlasmid\", \"QBBNameOperator\", \"QDeviceRbsPconsFlhdcTer\", \"QDevicePconsRbsFlhdcTer\", \"QDevicePbadRbsGfpTer\", \"QDevicePbadGfpTbsTer\", \"QDeviceGfpRbsPconsTer\", \"QDevicePconsGfpRbsTer\", \"QDeviceAmprRbsPconsTer\", \"QDeviceRbsPconsAmprTer\", \"QGreenFluorescence\", \"QUnequipDevice\", \"QDevicePbadRbsAraTer\"]:\n",
    "    questionTag = question\n",
    "    scores = tryClassification(gameAndCorrectedAfterDataClassif, questionTag)\n",
    "    allScores[questionTag] = scores\n",
    "allScores"
   ]
  },
  {
   "cell_type": "markdown",
   "metadata": {},
   "source": [
    "Conclusion: Redmetrics can be used to predict answers to certain scientific questions (29/05/2018)\n",
    "TODO Raphael: Check which questions you want additional analysis for"
   ]
  },
  {
   "cell_type": "markdown",
   "metadata": {},
   "source": [
    "## Can the game data be used to predict the performance on a sub-group of scientific questions?"
   ]
  },
  {
   "cell_type": "code",
   "execution_count": 38,
   "metadata": {},
   "outputs": [],
   "source": [
    "def getBoxplot(scores, title = ''):\n",
    "    # figure related code\n",
    "    fig = plt.figure()\n",
    "    ax = fig.add_subplot(111)\n",
    "    ax.boxplot(scores)\n",
    "    ax.set_title(title)"
   ]
  },
  {
   "cell_type": "code",
   "execution_count": 39,
   "metadata": {},
   "outputs": [],
   "source": [
    "#pd.concat([anonymousData.loc[:,\"sessionsCount\":\"completionTime\"], anonymousData.loc[:,\"gameInterest\":\"previousPlay\"]], axis=1).columns"
   ]
  },
  {
   "cell_type": "code",
   "execution_count": 40,
   "metadata": {},
   "outputs": [],
   "source": [
    "# boxplot function\n",
    "#  questions: array of strings of question names\n",
    "def getPerformanceFromQuestionGroup(questions,\n",
    "                                    thresholdPercentage = 1.0,\n",
    "                                    extraTreesClassifier = False,\n",
    "                                    randomForestClassifier = False,\n",
    "                                    lasso = False,\n",
    "                                    histTarget = 0\n",
    "                                   ):\n",
    "    # Remove id\n",
    "    anonymousData = gameAndCorrectedAfterDataClassif.drop(\"anonymousID\", axis = 1)\n",
    "\n",
    "    # Get features and target\n",
    "    features = pd.concat([anonymousData.loc[:,\"sessionsCount\":\"completionTime\"], anonymousData.loc[:,\"gameInterest\":\"previousPlay\"]], axis=1)\n",
    "    \n",
    "    digitalTarget = anonymousData.loc[:, questions].astype(int).sum(axis=1)\n",
    "    categoricalTarget = digitalTarget.apply(lambda x: 0 if x < thresholdPercentage*len(questions) else 1)\n",
    "\n",
    "    # Add polynomial features\n",
    "    secondDegreeFeatures = preprocessing.PolynomialFeatures(degree=2, interaction_only=False, include_bias=True)\n",
    "    features = secondDegreeFeatures.fit_transform(features)\n",
    "\n",
    "    # Center and scale data\n",
    "    features = preprocessing.scale(features)\n",
    "\n",
    "    if extraTreesClassifier:\n",
    "        # Classify using extra tree classifiers, more random than random forest methods\n",
    "        clf = ExtraTreesClassifier(n_estimators=10, max_depth=None, min_samples_split=2, random_state=0, bootstrap=True)\n",
    "        scores = cross_val_score(clf, features, categoricalTarget, cv=10)\n",
    "        print(\"ExtraTreesClassifier scores mean: \" + str(scores.mean()))\n",
    "\n",
    "        # Display plot\n",
    "        getBoxplot(scores, \"ExtraTreesClassifier boxplot\")\n",
    "        \n",
    "    if randomForestClassifier:\n",
    "        # Classify using random forests -accounts for the small size of the dataset and the categorical nature of the features, limit overfitting\n",
    "        clf = RandomForestClassifier(n_estimators=10, max_depth=None, min_samples_split=2, random_state=0, bootstrap=True)\n",
    "        scores = cross_val_score(clf, features, categoricalTarget)\n",
    "        print(\"RandomForestClassifier scores mean: \" + str(scores.mean()))\n",
    "\n",
    "        # Display plot\n",
    "        getBoxplot(scores, \"RandomForestClassifier boxplot\")\n",
    "        \n",
    "    if lasso:\n",
    "        # Run Lasso regression with cross-validation\n",
    "        model = Lasso()\n",
    "        scores = cross_val_score(model, features, digitalTarget, cv=10)\n",
    "        print(\"Lasso scores mean: \" + str(scores.mean()))\n",
    "\n",
    "        # Display plot\n",
    "        getBoxplot(scores, \"Lasso boxplot\")\n",
    "        \n",
    "    if histTarget > 0:\n",
    "        fig = plt.figure()\n",
    "        ax = fig.add_subplot(111)\n",
    "        ax.hist(target, bins = range(histTarget))"
   ]
  },
  {
   "cell_type": "markdown",
   "metadata": {},
   "source": [
    "### Using an arbitrary classification of questions"
   ]
  },
  {
   "cell_type": "markdown",
   "metadata": {},
   "source": [
    "#### Hard questions"
   ]
  },
  {
   "cell_type": "code",
   "execution_count": 41,
   "metadata": {},
   "outputs": [
    {
     "name": "stdout",
     "output_type": "stream",
     "text": [
      "ExtraTreesClassifier scores mean: 1.0\n",
      "RandomForestClassifier scores mean: 1.0\n",
      "Lasso scores mean: -0.2844626488532766\n"
     ]
    },
    {
     "data": {
      "image/png": "[encoded data removed]",
      "text/plain": [
       "<Figure size 432x288 with 1 Axes>"
      ]
     },
     "metadata": {},
     "output_type": "display_data"
    },
    {
     "data": {
      "image/png": "[encoded data removed]",
      "text/plain": [
       "<Figure size 432x288 with 1 Axes>"
      ]
     },
     "metadata": {},
     "output_type": "display_data"
    },
    {
     "data": {
      "image/png": "[encoded data removed]",
      "text/plain": [
       "<Figure size 432x288 with 1 Axes>"
      ]
     },
     "metadata": {},
     "output_type": "display_data"
    }
   ],
   "source": [
    "hardQuestions = [\"QBBFunctionPR\", \"QBBNameOperator\", \"QDevicePbadRbsAraTer\"]\n",
    "getPerformanceFromQuestionGroup(hardQuestions, thresholdPercentage = 1.0, extraTreesClassifier = True, randomForestClassifier = True, lasso = True)"
   ]
  },
  {
   "cell_type": "markdown",
   "metadata": {},
   "source": [
    "Conclusion: Very high quality prediction (29/05/18)"
   ]
  },
  {
   "cell_type": "markdown",
   "metadata": {},
   "source": [
    "### Biobrick symbol recognition"
   ]
  },
  {
   "cell_type": "code",
   "execution_count": 42,
   "metadata": {},
   "outputs": [
    {
     "name": "stdout",
     "output_type": "stream",
     "text": [
      "ExtraTreesClassifier scores mean: 1.0\n",
      "RandomForestClassifier scores mean: 1.0\n",
      "Lasso scores mean: 0.5999866100964696\n"
     ]
    },
    {
     "data": {
      "image/png": "[encoded data removed]",
      "text/plain": [
       "<Figure size 432x288 with 1 Axes>"
      ]
     },
     "metadata": {},
     "output_type": "display_data"
    },
    {
     "data": {
      "image/png": "[encoded data removed]",
      "text/plain": [
       "<Figure size 432x288 with 1 Axes>"
      ]
     },
     "metadata": {},
     "output_type": "display_data"
    },
    {
     "data": {
      "image/png": "[encoded data removed]",
      "text/plain": [
       "<Figure size 432x288 with 1 Axes>"
      ]
     },
     "metadata": {},
     "output_type": "display_data"
    }
   ],
   "source": [
    "bbSymbolRecognition = [\"QBBNamePlasmid\", \"QBBFunctionTER\", \"QBBNamePromoter\", \"QBBFunctionGameCDS\", \"QBBNameTerminator\", \"QBBFunctionBiologyCDS\", \"QBBNameRBS\", \"QBBExampleCDS\", \"QBBNameCDS\", \"QBBFunctionPR\", \"QBBFunctionRBS\", \"QBBFunctionPlasmid\", \"QBBNameOperator\"]\n",
    "getPerformanceFromQuestionGroup(bbSymbolRecognition, thresholdPercentage = 1.0, extraTreesClassifier = True, randomForestClassifier = True, lasso = True)"
   ]
  },
  {
   "cell_type": "markdown",
   "metadata": {},
   "source": [
    "Conclusion: No apparent possible prediction (1/02/2018)"
   ]
  },
  {
   "cell_type": "markdown",
   "metadata": {},
   "source": [
    "### Easy questions"
   ]
  },
  {
   "cell_type": "code",
   "execution_count": 43,
   "metadata": {},
   "outputs": [
    {
     "name": "stdout",
     "output_type": "stream",
     "text": [
      "ExtraTreesClassifier scores mean: 0.8144688644688646\n",
      "RandomForestClassifier scores mean: 0.784165698799845\n",
      "Lasso scores mean: -0.1767643397310685\n"
     ]
    },
    {
     "data": {
      "image/png": "[encoded data removed]",
      "text/plain": [
       "<Figure size 432x288 with 1 Axes>"
      ]
     },
     "metadata": {},
     "output_type": "display_data"
    },
    {
     "data": {
      "image/png": "[encoded data removed]",
      "text/plain": [
       "<Figure size 432x288 with 1 Axes>"
      ]
     },
     "metadata": {},
     "output_type": "display_data"
    },
    {
     "data": {
      "image/png": "[encoded data removed]",
      "text/plain": [
       "<Figure size 432x288 with 1 Axes>"
      ]
     },
     "metadata": {},
     "output_type": "display_data"
    },
    {
     "data": {
      "image/png": "[encoded data removed]",
      "text/plain": [
       "<Figure size 432x288 with 1 Axes>"
      ]
     },
     "metadata": {},
     "output_type": "display_data"
    }
   ],
   "source": [
    "easyQuestions = [\"QBioBricksDevicesComposition\", \"QDeviceRbsPconsFlhdcTer\", \"QGreenFluorescence\"]\n",
    "getPerformanceFromQuestionGroup(easyQuestions, thresholdPercentage = 1.0, extraTreesClassifier = True, randomForestClassifier = True, lasso = True, histTarget = 14)"
   ]
  },
  {
   "cell_type": "markdown",
   "metadata": {},
   "source": [
    "Conclusion: Inconclusive (01/02/2018)"
   ]
  },
  {
   "cell_type": "markdown",
   "metadata": {},
   "source": [
    "### Using Bloom's taxonomy\n",
    "\n",
    "Not interpreted yet."
   ]
  },
  {
   "cell_type": "markdown",
   "metadata": {},
   "source": [
    "#### knowledge questions"
   ]
  },
  {
   "cell_type": "code",
   "execution_count": 44,
   "metadata": {},
   "outputs": [
    {
     "name": "stdout",
     "output_type": "stream",
     "text": [
      "ExtraTreesClassifier scores mean: 1.0\n",
      "RandomForestClassifier scores mean: 1.0\n",
      "Lasso scores mean: 0.02277935741820235\n"
     ]
    },
    {
     "data": {
      "image/png": "[encoded data removed]",
      "text/plain": [
       "<Figure size 432x288 with 1 Axes>"
      ]
     },
     "metadata": {},
     "output_type": "display_data"
    },
    {
     "data": {
      "image/png": "[encoded data removed]",
      "text/plain": [
       "<Figure size 432x288 with 1 Axes>"
      ]
     },
     "metadata": {},
     "output_type": "display_data"
    },
    {
     "data": {
      "image/png": "[encoded data removed]",
      "text/plain": [
       "<Figure size 432x288 with 1 Axes>"
      ]
     },
     "metadata": {},
     "output_type": "display_data"
    },
    {
     "data": {
      "image/png": "[encoded data removed]",
      "text/plain": [
       "<Figure size 432x288 with 1 Axes>"
      ]
     },
     "metadata": {},
     "output_type": "display_data"
    }
   ],
   "source": [
    "knowledgeQuestions = [\"QAmpicillin\",\n",
    "                      \"QBBNamePlasmid\",\n",
    "                      \"QBBNamePromoter\",                      \n",
    "                      \"QBBNameTerminator\",\n",
    "                      \"QBBNameRBS\",\n",
    "                      \"QBBNameCDS\",\n",
    "                      \"QBBNameOperator\",\n",
    "                     ]\n",
    "getPerformanceFromQuestionGroup(knowledgeQuestions, thresholdPercentage = 1.0, extraTreesClassifier = True, randomForestClassifier = True, lasso = True, histTarget = 14)"
   ]
  },
  {
   "cell_type": "markdown",
   "metadata": {},
   "source": [
    "#### comprehension questions"
   ]
  },
  {
   "cell_type": "code",
   "execution_count": 45,
   "metadata": {},
   "outputs": [
    {
     "name": "stdout",
     "output_type": "stream",
     "text": [
      "ExtraTreesClassifier scores mean: 0.8079836829836828\n",
      "RandomForestClassifier scores mean: 0.8086594819436566\n",
      "Lasso scores mean: 0.055596309891976926\n"
     ]
    },
    {
     "data": {
      "image/png": "[encoded data removed]",
      "text/plain": [
       "<Figure size 432x288 with 1 Axes>"
      ]
     },
     "metadata": {},
     "output_type": "display_data"
    },
    {
     "data": {
      "image/png": "[encoded data removed]",
      "text/plain": [
       "<Figure size 432x288 with 1 Axes>"
      ]
     },
     "metadata": {},
     "output_type": "display_data"
    },
    {
     "data": {
      "image/png": "[encoded data removed]",
      "text/plain": [
       "<Figure size 432x288 with 1 Axes>"
      ]
     },
     "metadata": {},
     "output_type": "display_data"
    },
    {
     "data": {
      "image/png": "[encoded data removed]",
      "text/plain": [
       "<Figure size 432x288 with 1 Axes>"
      ]
     },
     "metadata": {},
     "output_type": "display_data"
    }
   ],
   "source": [
    "comprehensionQuestions = [\"QBioBricksDevicesComposition\",\n",
    "                      \"QBBFunctionTER\",\n",
    "                      \"QBBFunctionPlasmid\",                      \n",
    "                      \"QUnequipDevice\",\n",
    "                     ]\n",
    "getPerformanceFromQuestionGroup(comprehensionQuestions, thresholdPercentage = 1.0, extraTreesClassifier = True, randomForestClassifier = True, lasso = True, histTarget = 14)"
   ]
  },
  {
   "cell_type": "markdown",
   "metadata": {},
   "source": [
    "#### application questions"
   ]
  },
  {
   "cell_type": "code",
   "execution_count": 46,
   "metadata": {},
   "outputs": [
    {
     "name": "stdout",
     "output_type": "stream",
     "text": [
      "ExtraTreesClassifier scores mean: 0.8560606060606061\n",
      "RandomForestClassifier scores mean: 0.8480449090205188\n",
      "Lasso scores mean: -0.24845001848474046\n"
     ]
    },
    {
     "data": {
      "image/png": "[encoded data removed]",
      "text/plain": [
       "<Figure size 432x288 with 1 Axes>"
      ]
     },
     "metadata": {},
     "output_type": "display_data"
    },
    {
     "data": {
      "image/png": "[encoded data removed]",
      "text/plain": [
       "<Figure size 432x288 with 1 Axes>"
      ]
     },
     "metadata": {},
     "output_type": "display_data"
    },
    {
     "data": {
      "image/png": "[encoded data removed]",
      "text/plain": [
       "<Figure size 432x288 with 1 Axes>"
      ]
     },
     "metadata": {},
     "output_type": "display_data"
    },
    {
     "data": {
      "image/png": "[encoded data removed]",
      "text/plain": [
       "<Figure size 432x288 with 1 Axes>"
      ]
     },
     "metadata": {},
     "output_type": "display_data"
    }
   ],
   "source": [
    "applicationQuestions = [\"QGenotypePhenotype\",\n",
    "                      \"QBBExampleCDS\",\n",
    "                      \"QGreenFluorescence\",\n",
    "                     ]\n",
    "getPerformanceFromQuestionGroup(applicationQuestions, thresholdPercentage = 1.0, extraTreesClassifier = True, randomForestClassifier = True, lasso = True, histTarget = 14)"
   ]
  },
  {
   "cell_type": "markdown",
   "metadata": {},
   "source": [
    "#### analysis questions"
   ]
  },
  {
   "cell_type": "code",
   "execution_count": 47,
   "metadata": {},
   "outputs": [
    {
     "name": "stderr",
     "output_type": "stream",
     "text": [
      "C:\\Users\\Mikael\\Anaconda3\\lib\\site-packages\\sklearn\\model_selection\\_split.py:605: Warning: The least populated class in y has only 1 members, which is too few. The minimum number of members in any class cannot be less than n_splits=10.\n",
      "  % (min_groups, self.n_splits)), Warning)\n"
     ]
    },
    {
     "name": "stdout",
     "output_type": "stream",
     "text": [
      "ExtraTreesClassifier scores mean: 0.9928571428571429\n",
      "RandomForestClassifier scores mean: 0.9922480620155039\n"
     ]
    },
    {
     "name": "stderr",
     "output_type": "stream",
     "text": [
      "C:\\Users\\Mikael\\Anaconda3\\lib\\site-packages\\sklearn\\model_selection\\_split.py:605: Warning: The least populated class in y has only 1 members, which is too few. The minimum number of members in any class cannot be less than n_splits=3.\n",
      "  % (min_groups, self.n_splits)), Warning)\n"
     ]
    },
    {
     "name": "stdout",
     "output_type": "stream",
     "text": [
      "Lasso scores mean: -0.13032702995682896\n"
     ]
    },
    {
     "data": {
      "image/png": "[encoded data removed]",
      "text/plain": [
       "<Figure size 432x288 with 1 Axes>"
      ]
     },
     "metadata": {},
     "output_type": "display_data"
    },
    {
     "data": {
      "image/png": "[encoded data removed]",
      "text/plain": [
       "<Figure size 432x288 with 1 Axes>"
      ]
     },
     "metadata": {},
     "output_type": "display_data"
    },
    {
     "data": {
      "image/png": "[encoded data removed]",
      "text/plain": [
       "<Figure size 432x288 with 1 Axes>"
      ]
     },
     "metadata": {},
     "output_type": "display_data"
    },
    {
     "data": {
      "image/png": "[encoded data removed]",
      "text/plain": [
       "<Figure size 432x288 with 1 Axes>"
      ]
     },
     "metadata": {},
     "output_type": "display_data"
    }
   ],
   "source": [
    "analysisQuestions = [\"QBBFunctionGameCDS\",\n",
    "                      \"QBBFunctionBiologyCDS\",\n",
    "                      \"QBBFunctionPR\",\n",
    "                      \"QBBFunctionRBS\",\n",
    "                      \"QDevicePbadRbsAraTer\",\n",
    "                     ]\n",
    "getPerformanceFromQuestionGroup(analysisQuestions, thresholdPercentage = 1.0, extraTreesClassifier = True, randomForestClassifier = True, lasso = True, histTarget = 14)"
   ]
  },
  {
   "cell_type": "markdown",
   "metadata": {},
   "source": [
    "#### synthesis questions"
   ]
  },
  {
   "cell_type": "code",
   "execution_count": 48,
   "metadata": {},
   "outputs": [
    {
     "name": "stdout",
     "output_type": "stream",
     "text": [
      "ExtraTreesClassifier scores mean: 0.880011655011655\n",
      "RandomForestClassifier scores mean: 0.8880695783702023\n",
      "Lasso scores mean: 0.6446933508326204\n"
     ]
    },
    {
     "data": {
      "image/png": "[encoded data removed]",
      "text/plain": [
       "<Figure size 432x288 with 1 Axes>"
      ]
     },
     "metadata": {},
     "output_type": "display_data"
    },
    {
     "data": {
      "image/png": "[encoded data removed]",
      "text/plain": [
       "<Figure size 432x288 with 1 Axes>"
      ]
     },
     "metadata": {},
     "output_type": "display_data"
    },
    {
     "data": {
      "image/png": "[encoded data removed]",
      "text/plain": [
       "<Figure size 432x288 with 1 Axes>"
      ]
     },
     "metadata": {},
     "output_type": "display_data"
    },
    {
     "data": {
      "image/png": "[encoded data removed]",
      "text/plain": [
       "<Figure size 432x288 with 1 Axes>"
      ]
     },
     "metadata": {},
     "output_type": "display_data"
    }
   ],
   "source": [
    "synthesisQuestions = [\"QDeviceRbsPconsFlhdcTer\",\n",
    "                      \"QDevicePconsRbsFlhdcTer\",\n",
    "                      \"QDevicePbadRbsGfpTer\",                      \n",
    "                      \"QDevicePbadGfpTbsTer\",\n",
    "                      \"QDeviceGfpRbsPconsTer\",\n",
    "                      \"QDevicePconsGfpRbsTer\",\n",
    "                      \"QDeviceAmprRbsPconsTer\",\n",
    "                      \"QDeviceRbsPconsAmprTer\",\n",
    "                     ]\n",
    "getPerformanceFromQuestionGroup(synthesisQuestions, thresholdPercentage = 1.0, extraTreesClassifier = True, randomForestClassifier = True, lasso = True, histTarget = 14)"
   ]
  },
  {
   "cell_type": "markdown",
   "metadata": {},
   "source": [
    "## Can the completion time be predicted from questionnaire answers?"
   ]
  },
  {
   "cell_type": "markdown",
   "metadata": {},
   "source": [
    "### From the before questionnaire"
   ]
  },
  {
   "cell_type": "code",
   "execution_count": 49,
   "metadata": {
    "scrolled": false
   },
   "outputs": [],
   "source": [
    "# Remove id\n",
    "anonymousData = gameAndCorrectedBeforeDataClassif.drop(\"anonymousID\", axis = 1)\n",
    "\n",
    "# Get features and target\n",
    "lastColumn = 'gender_Male'\n",
    "for potentialLastColumn in ['gender_Other', 'gender_Prefer not to say']:\n",
    "    if potentialLastColumn in anonymousData.columns:\n",
    "        lastColumn = potentialLastColumn\n",
    "features = anonymousData.loc[:,\"gameInterest\":lastColumn]\n",
    "target = anonymousData.loc[:,\"completionTime\"]\n",
    "\n",
    "# Add polynomial features\n",
    "secondDegreeFeatures = preprocessing.PolynomialFeatures(degree=2, interaction_only=False, include_bias=True)\n",
    "features = secondDegreeFeatures.fit_transform(features)\n",
    "\n",
    "# Center and scale data\n",
    "features = preprocessing.scale(features)"
   ]
  },
  {
   "cell_type": "code",
   "execution_count": 50,
   "metadata": {},
   "outputs": [
    {
     "data": {
      "text/plain": [
       "-0.8412622294421277"
      ]
     },
     "execution_count": 50,
     "metadata": {},
     "output_type": "execute_result"
    },
    {
     "data": {
      "image/png": "[encoded data removed]",
      "text/plain": [
       "<Figure size 432x288 with 1 Axes>"
      ]
     },
     "metadata": {},
     "output_type": "display_data"
    }
   ],
   "source": [
    "# Run Lasso regression with cross-validation\n",
    "model = Lasso(max_iter=10000, alpha=10)\n",
    "scores = cross_val_score(model, features, target, cv=10)\n",
    "boxplot(scores)\n",
    "scores.mean()"
   ]
  },
  {
   "cell_type": "code",
   "execution_count": 51,
   "metadata": {},
   "outputs": [
    {
     "data": {
      "text/plain": [
       "0.888"
      ]
     },
     "execution_count": 51,
     "metadata": {},
     "output_type": "execute_result"
    },
    {
     "data": {
      "image/png": "[encoded data removed]",
      "text/plain": [
       "<Figure size 432x288 with 1 Axes>"
      ]
     },
     "metadata": {},
     "output_type": "display_data"
    }
   ],
   "source": [
    "# Try classification\n",
    "target = target.apply(lambda x: 0 if x < 7200 else 1) #0 if short, 1 if long\n",
    "\n",
    "# Classify using extra tree classifiers, more random than random forest methods\n",
    "clf = ExtraTreesClassifier(n_estimators=10, max_depth=None, min_samples_split=2, random_state=0, bootstrap=True)\n",
    "scores = cross_val_score(clf, features, target, cv=10)\n",
    "    \n",
    "# Display plot\n",
    "boxplot(scores)\n",
    "scores.mean()\n",
    "sum(target)/len(target)"
   ]
  },
  {
   "cell_type": "markdown",
   "metadata": {},
   "source": [
    "Conclusion: No (01/02/2018)"
   ]
  },
  {
   "cell_type": "markdown",
   "metadata": {},
   "source": [
    "### From the after questionnaire"
   ]
  },
  {
   "cell_type": "code",
   "execution_count": 52,
   "metadata": {
    "scrolled": false
   },
   "outputs": [],
   "source": [
    "# Remove id\n",
    "anonymousData = gameAndCorrectedAfterDataClassif.drop(\"anonymousID\", axis = 1)\n",
    "\n",
    "# Get features and target\n",
    "lastColumn = 'gender_Male'\n",
    "for potentialLastColumn in ['gender_Other', 'gender_Prefer not to say']:\n",
    "    if potentialLastColumn in anonymousData.columns:\n",
    "        lastColumn = potentialLastColumn\n",
    "features = anonymousData.loc[:,\"gameInterest\":lastColumn]\n",
    "target = anonymousData.loc[:,\"completionTime\"]\n",
    "\n",
    "# Add polynomial features\n",
    "secondDegreeFeatures = preprocessing.PolynomialFeatures(degree=2, interaction_only=False, include_bias=True)\n",
    "features = secondDegreeFeatures.fit_transform(features)\n",
    "\n",
    "# Center and scale data\n",
    "features = preprocessing.scale(features)"
   ]
  },
  {
   "cell_type": "code",
   "execution_count": 53,
   "metadata": {},
   "outputs": [
    {
     "data": {
      "text/plain": [
       "-0.5793867514042578"
      ]
     },
     "execution_count": 53,
     "metadata": {},
     "output_type": "execute_result"
    },
    {
     "data": {
      "image/png": "[encoded data removed]",
      "text/plain": [
       "<Figure size 432x288 with 1 Axes>"
      ]
     },
     "metadata": {},
     "output_type": "display_data"
    }
   ],
   "source": [
    "# Run Lasso regression with cross-validation\n",
    "model = Lasso(max_iter=1000000)\n",
    "scores = cross_val_score(model, features, target, cv=10)\n",
    "boxplot(scores)\n",
    "scores.mean()"
   ]
  },
  {
   "cell_type": "code",
   "execution_count": 54,
   "metadata": {},
   "outputs": [
    {
     "data": {
      "text/plain": [
       "0.8491758241758243"
      ]
     },
     "execution_count": 54,
     "metadata": {},
     "output_type": "execute_result"
    },
    {
     "data": {
      "image/png": "[encoded data removed]",
      "text/plain": [
       "<Figure size 432x288 with 1 Axes>"
      ]
     },
     "metadata": {},
     "output_type": "display_data"
    }
   ],
   "source": [
    "# Try classification\n",
    "target = target.apply(lambda x: 0 if x < 7200 else 1) #0 if short, 1 if long\n",
    "\n",
    "# Classify using extra tree classifiers, more random than random forest methods\n",
    "clf = ExtraTreesClassifier(n_estimators=10, max_depth=None, min_samples_split=2, random_state=0, bootstrap=True)\n",
    "scores = cross_val_score(clf, features, target, cv=10)\n",
    "    \n",
    "# Display plot\n",
    "boxplot(scores)\n",
    "scores.mean()"
   ]
  },
  {
   "cell_type": "markdown",
   "metadata": {},
   "source": [
    "Conclusion: Yes (29/05/18)"
   ]
  },
  {
   "cell_type": "code",
   "execution_count": 55,
   "metadata": {},
   "outputs": [
    {
     "data": {
      "text/plain": [
       "111"
      ]
     },
     "execution_count": 55,
     "metadata": {},
     "output_type": "execute_result"
    }
   ],
   "source": [
    "sum(target)"
   ]
  },
  {
   "cell_type": "code",
   "execution_count": 56,
   "metadata": {},
   "outputs": [
    {
     "data": {
      "text/plain": [
       "125"
      ]
     },
     "execution_count": 56,
     "metadata": {},
     "output_type": "execute_result"
    }
   ],
   "source": [
    "len(target)"
   ]
  },
  {
   "cell_type": "markdown",
   "metadata": {},
   "source": [
    "Conclusion: Yes but very unbalanced classes (29/05/18)"
   ]
  },
  {
   "cell_type": "code",
   "execution_count": null,
   "metadata": {},
   "outputs": [],
   "source": []
  }
 ],
 "metadata": {
  "kernelspec": {
   "display_name": "Python 3",
   "language": "python",
   "name": "python3"
  },
  "language_info": {
   "codemirror_mode": {
    "name": "ipython",
    "version": 3
   },
   "file_extension": ".py",
   "mimetype": "text/x-python",
   "name": "python",
   "nbconvert_exporter": "python",
   "pygments_lexer": "ipython3",
   "version": "3.6.5"
  }
 },
 "nbformat": 4,
 "nbformat_minor": 2
}
