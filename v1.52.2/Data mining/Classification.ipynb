{
 "cells": [
  {
   "cell_type": "code",
   "execution_count": 1,
   "metadata": {
    "scrolled": false
   },
   "outputs": [
    {
     "name": "stdout",
     "output_type": "stream",
     "text": [
      "rmdfTestUsers read_csv success (1/3)\n",
      "rmdf1522 read_csv success (2/3)\n",
      "rmdf160 read_csv success (3/3)\n",
      "gform read_csv success\n",
      "gformFR read_csv success\n",
      "temporalities set (user answer method)\n"
     ]
    },
    {
     "data": {
      "application/vnd.jupyter.widget-view+json": {
       "model_id": "4723fad66f2f4e81abfd257a171c5f71",
       "version_major": 2,
       "version_minor": 0
      },
      "text/plain": [
       "IntProgress(value=0, max=1708)"
      ]
     },
     "metadata": {},
     "output_type": "display_data"
    },
    {
     "data": {
      "application/vnd.jupyter.widget-view+json": {
       "model_id": "023c2d181bcb4221832dfb9b20b06986",
       "version_major": 2,
       "version_minor": 0
      },
      "text/plain": [
       "IntProgress(value=0, max=854)"
      ]
     },
     "metadata": {},
     "output_type": "display_data"
    },
    {
     "name": "stdout",
     "output_type": "stream",
     "text": [
      "profile info set\n",
      "t test: statistic=0.44942302738150924 pvalue=0.6535321184726215\n",
      "t test: statistic=-0.1969960360612056 pvalue=0.8439549239305393\n",
      "t test: statistic=-0.8852450320296444 pvalue=0.37654209947548145\n"
     ]
    },
    {
     "data": {
      "application/vnd.jupyter.widget-view+json": {
       "model_id": "806ffbf8e49d4903ab61986ed5cc6127",
       "version_major": 2,
       "version_minor": 0
      },
      "text/plain": [
       "FloatProgress(value=0.0, max=621.0)"
      ]
     },
     "metadata": {},
     "output_type": "display_data"
    },
    {
     "name": "stderr",
     "output_type": "stream",
     "text": [
      "dataFormating.ipynb:9: FutureWarning: pd.TimeGrouper is deprecated and will be removed; Please use pd.Grouper(freq=...)\n",
      "  \"outputs\": [\n",
      "dataFormating.ipynb:9: FutureWarning: using a dict on a Series for aggregation\n",
      "is deprecated and will be removed in a future version\n",
      "  \"outputs\": [\n"
     ]
    }
   ],
   "source": [
    "%run dataFormating.ipynb"
   ]
  },
  {
   "cell_type": "code",
   "execution_count": 2,
   "metadata": {},
   "outputs": [
    {
     "name": "stdout",
     "output_type": "stream",
     "text": [
      "0.19.1\n"
     ]
    }
   ],
   "source": [
    "import sklearn\n",
    "print (sklearn.__version__)"
   ]
  },
  {
   "cell_type": "code",
   "execution_count": 3,
   "metadata": {},
   "outputs": [],
   "source": [
    "from sklearn import preprocessing\n",
    "from sklearn.ensemble import RandomForestClassifier\n",
    "from sklearn.ensemble import ExtraTreesClassifier\n",
    "from sklearn.tree import DecisionTreeClassifier\n",
    "from sklearn.model_selection import cross_val_score\n",
    "from sklearn.naive_bayes import GaussianNB\n",
    "from sklearn.linear_model import LassoCV, Lasso\n",
    "\n",
    "from ipywidgets import FloatProgress\n",
    "from IPython.display import display\n",
    "\n",
    "from math import *\n",
    "\n",
    "from scipy import stats\n",
    "from scipy.stats.mstats import normaltest\n",
    "\n",
    "from matplotlib.pyplot import boxplot"
   ]
  },
  {
   "cell_type": "markdown",
   "metadata": {},
   "source": [
    "# Questionnaire only"
   ]
  },
  {
   "cell_type": "markdown",
   "metadata": {},
   "source": [
    "## Can the answers to the scientific questions be used to predict if the questionnaire was filled before or after the game?"
   ]
  },
  {
   "cell_type": "markdown",
   "metadata": {},
   "source": [
    "Note: I am using only decision tree methods here because other methods like naive bayes do not make sense on categorical data"
   ]
  },
  {
   "cell_type": "markdown",
   "metadata": {},
   "source": [
    "### If scientific questions are coded by answers"
   ]
  },
  {
   "cell_type": "code",
   "execution_count": 4,
   "metadata": {},
   "outputs": [],
   "source": [
    "# Select columns that correspond to scientific questions\n",
    "scientificColumns = [x for x in list(defForms.columns.values) if x[0] == \"Q\"]\n",
    "\n",
    "# Pick features and target\n",
    "features = defForms.loc[:, scientificColumns]\n",
    "target = defForms[\"temporality\"].astype('int') "
   ]
  },
  {
   "cell_type": "code",
   "execution_count": 5,
   "metadata": {},
   "outputs": [
    {
     "data": {
      "text/plain": [
       "0.8564814814814815"
      ]
     },
     "execution_count": 5,
     "metadata": {},
     "output_type": "execute_result"
    }
   ],
   "source": [
    "# Classify using decision trees -accounts for the small size of the dataset and the categorical nature of the features\n",
    "clf = DecisionTreeClassifier(max_depth=None, min_samples_split=2, random_state=0, max_features=\"auto\")\n",
    "scores = cross_val_score(clf, features, target)\n",
    "scores.mean()"
   ]
  },
  {
   "cell_type": "code",
   "execution_count": 6,
   "metadata": {},
   "outputs": [
    {
     "data": {
      "text/plain": [
       "0.9212962962962963"
      ]
     },
     "execution_count": 6,
     "metadata": {},
     "output_type": "execute_result"
    }
   ],
   "source": [
    "# Classify using random forests -accounts for the small size of the dataset and the categorical nature of the features, limit overfitting\n",
    "clf = RandomForestClassifier(n_estimators=10, max_depth=None, min_samples_split=2, random_state=0, bootstrap=True)\n",
    "scores = cross_val_score(clf, features, target)\n",
    "scores.mean()"
   ]
  },
  {
   "cell_type": "code",
   "execution_count": 7,
   "metadata": {},
   "outputs": [
    {
     "data": {
      "text/plain": [
       "0.9074074074074074"
      ]
     },
     "execution_count": 7,
     "metadata": {},
     "output_type": "execute_result"
    }
   ],
   "source": [
    "# Classify using extra tree classifiers, more random than random forest methods\n",
    "clf = ExtraTreesClassifier(n_estimators=10, max_depth=None, min_samples_split=2, random_state=0, bootstrap=True)\n",
    "scores = cross_val_score(clf, features, target)\n",
    "scores.mean()"
   ]
  },
  {
   "cell_type": "markdown",
   "metadata": {},
   "source": [
    "Conclusion: Accuracy is around 85%. Not bad but we expected better (17/01/2018)"
   ]
  },
  {
   "cell_type": "markdown",
   "metadata": {},
   "source": [
    "## If scientific questions are coded by correctedness"
   ]
  },
  {
   "cell_type": "code",
   "execution_count": 8,
   "metadata": {},
   "outputs": [],
   "source": [
    "# Select columns that correspond to scientific questions\n",
    "scientificColumns = [x for x in list(defCorrectedForms.columns.values) if x[0] == \"Q\"]\n",
    "\n",
    "# Pick features and target\n",
    "features = defCorrectedForms.loc[:, scientificColumns]\n",
    "target = defCorrectedForms[\"temporality\"].astype('int') "
   ]
  },
  {
   "cell_type": "code",
   "execution_count": 9,
   "metadata": {},
   "outputs": [
    {
     "data": {
      "text/plain": [
       "0.9206349206349206"
      ]
     },
     "execution_count": 9,
     "metadata": {},
     "output_type": "execute_result"
    }
   ],
   "source": [
    "# Classify using decision trees -accounts for the small size of the dataset and the categorical nature of the features\n",
    "clf = DecisionTreeClassifier(max_depth=None, min_samples_split=2, random_state=0, max_features=\"auto\")\n",
    "scores = cross_val_score(clf, features, target)\n",
    "scores.mean()"
   ]
  },
  {
   "cell_type": "code",
   "execution_count": 10,
   "metadata": {},
   "outputs": [
    {
     "data": {
      "text/plain": [
       "0.9563492063492062"
      ]
     },
     "execution_count": 10,
     "metadata": {},
     "output_type": "execute_result"
    }
   ],
   "source": [
    "# Classify using random forests -accounts for the small size of the dataset and the categorical nature of the features, limit overfitting\n",
    "clf = RandomForestClassifier(n_estimators=10, max_depth=None, min_samples_split=2, random_state=0, bootstrap=True)\n",
    "scores = cross_val_score(clf, features, target)\n",
    "scores.mean()"
   ]
  },
  {
   "cell_type": "code",
   "execution_count": 11,
   "metadata": {},
   "outputs": [
    {
     "data": {
      "text/plain": [
       "0.9484126984126983"
      ]
     },
     "execution_count": 11,
     "metadata": {},
     "output_type": "execute_result"
    }
   ],
   "source": [
    "# Classify using extra tree classifiers, more random than random forest methods\n",
    "clf = ExtraTreesClassifier(n_estimators=10, max_depth=None, min_samples_split=2, random_state=0, bootstrap=True)\n",
    "scores = cross_val_score(clf, features, target)\n",
    "scores.mean()"
   ]
  },
  {
   "cell_type": "markdown",
   "metadata": {},
   "source": [
    "Conclusion: Accuracy is around 80%. Not bad but we expected better (19/12/2017)"
   ]
  },
  {
   "cell_type": "markdown",
   "metadata": {},
   "source": [
    "# RedMetrics only"
   ]
  },
  {
   "cell_type": "code",
   "execution_count": 12,
   "metadata": {},
   "outputs": [
    {
     "data": {
      "text/plain": [
       "Index([ 'sessionsCount',   'scorepretest',  'scoreposttest', 'scoreundefined',\n",
       "             'complete',      'configure',          'craft',          'death',\n",
       "                'equip',        'unequip',            'add',         'remove',\n",
       "              'gotourl',         'pickup',          'reach',        'restart',\n",
       "           'selectmenu',          'start',     'maxChapter',     'efficiency',\n",
       "         'thoroughness',            'fun', 'completionTime',                0,\n",
       "                      1,                2,                3,                4,\n",
       "                      5,                6,                7,                8,\n",
       "                      9,               10,               11,               12,\n",
       "                     13,               14,    'anonymousID'],\n",
       "      dtype='object')"
      ]
     },
     "execution_count": 12,
     "metadata": {},
     "output_type": "execute_result"
    }
   ],
   "source": [
    "allDataClassif.columns"
   ]
  },
  {
   "cell_type": "markdown",
   "metadata": {},
   "source": [
    "## Can the score of a player be predicted with their RedMetrics data"
   ]
  },
  {
   "cell_type": "code",
   "execution_count": 13,
   "metadata": {},
   "outputs": [
    {
     "name": "stderr",
     "output_type": "stream",
     "text": [
      "C:\\Users\\Mikael\\Anaconda3\\lib\\site-packages\\sklearn\\preprocessing\\data.py:164: UserWarning: Numerical issues were encountered when centering the data and might not be solved. Dataset may contain too large values. You may need to prescale your features.\n",
      "  warnings.warn(\"Numerical issues were encountered \"\n"
     ]
    }
   ],
   "source": [
    "# Remove id\n",
    "anonymousData = allDataClassif.drop(\"anonymousID\", axis = 1)\n",
    "\n",
    "# Get features and target\n",
    "# Only select rows where scoreafter is not negative\n",
    "features = anonymousData[anonymousData[\"scoreposttest\"] >= 0].drop(\"scoreposttest\", axis = 1)\n",
    "target = anonymousData[anonymousData[\"scoreposttest\"] >= 0][\"scoreposttest\"]\n",
    "\n",
    "# Center and scale data\n",
    "features = preprocessing.scale(features)"
   ]
  },
  {
   "cell_type": "code",
   "execution_count": 14,
   "metadata": {},
   "outputs": [
    {
     "data": {
      "text/plain": [
       "array([ 0.38734439,  0.35547422,  0.22226266,  0.34926362,  0.1775114 ,\n",
       "        0.32995753,  0.32080801,  0.24895932, -0.15065389,  0.02063208])"
      ]
     },
     "execution_count": 14,
     "metadata": {},
     "output_type": "execute_result"
    },
    {
     "data": {
      "image/png": "[encoded data removed]",
      "text/plain": [
       "<Figure size 432x288 with 1 Axes>"
      ]
     },
     "metadata": {},
     "output_type": "display_data"
    }
   ],
   "source": [
    "# Run Lasso regression with cross-validation\n",
    "model = Lasso()\n",
    "scores = cross_val_score(model, features, target, cv=10)\n",
    "boxplot(scores)\n",
    "scores"
   ]
  },
  {
   "cell_type": "markdown",
   "metadata": {},
   "source": [
    "Conclusion: Score cannot be predicted by the table of RedMetrics data (30/01/2018)"
   ]
  },
  {
   "cell_type": "code",
   "execution_count": 15,
   "metadata": {},
   "outputs": [
    {
     "name": "stderr",
     "output_type": "stream",
     "text": [
      "C:\\Users\\Mikael\\Anaconda3\\lib\\site-packages\\sklearn\\preprocessing\\data.py:164: UserWarning: Numerical issues were encountered when centering the data and might not be solved. Dataset may contain too large values. You may need to prescale your features.\n",
      "  warnings.warn(\"Numerical issues were encountered \"\n"
     ]
    }
   ],
   "source": [
    "# Remove id\n",
    "anonymousData = allDataClassif.drop(\"anonymousID\", axis = 1)\n",
    "\n",
    "# Get features and target\n",
    "# Only select rows where scoreafter is not negative\n",
    "features = anonymousData[anonymousData[\"scoreposttest\"] >= 0].drop(\"scoreposttest\", axis = 1)\n",
    "target = anonymousData[anonymousData[\"scoreposttest\"] >= 0][\"scoreposttest\"]\n",
    "\n",
    "# Add polynomial features\n",
    "secondDegreeFeatures = preprocessing.PolynomialFeatures(degree=2, interaction_only=False, include_bias=True)\n",
    "features = secondDegreeFeatures.fit_transform(features)\n",
    "\n",
    "# Center and scale data\n",
    "features = preprocessing.scale(features)"
   ]
  },
  {
   "cell_type": "code",
   "execution_count": 16,
   "metadata": {},
   "outputs": [
    {
     "data": {
      "text/plain": [
       "array([ 0.3814834 ,  0.36318947,  0.19623211,  0.34008968,  0.19953215,\n",
       "        0.32658754,  0.32612501,  0.27627436, -0.16929943, -0.00926032])"
      ]
     },
     "execution_count": 16,
     "metadata": {},
     "output_type": "execute_result"
    },
    {
     "data": {
      "image/png": "[encoded data removed]",
      "text/plain": [
       "<Figure size 432x288 with 1 Axes>"
      ]
     },
     "metadata": {},
     "output_type": "display_data"
    }
   ],
   "source": [
    "# Run Lasso regression with cross-validation\n",
    "model = Lasso()\n",
    "scores = cross_val_score(model, features, target, cv=10)\n",
    "boxplot(scores)\n",
    "scores"
   ]
  },
  {
   "cell_type": "markdown",
   "metadata": {},
   "source": [
    "Conclusion: Score cannot be predicted by the table of RedMetrics data + second degree polynomial (30/01/2018)"
   ]
  },
  {
   "cell_type": "markdown",
   "metadata": {},
   "source": [
    "Let's try by reducing the number of features"
   ]
  },
  {
   "cell_type": "code",
   "execution_count": 17,
   "metadata": {},
   "outputs": [
    {
     "name": "stderr",
     "output_type": "stream",
     "text": [
      "C:\\Users\\Mikael\\Anaconda3\\lib\\site-packages\\sklearn\\preprocessing\\data.py:164: UserWarning: Numerical issues were encountered when centering the data and might not be solved. Dataset may contain too large values. You may need to prescale your features.\n",
      "  warnings.warn(\"Numerical issues were encountered \"\n"
     ]
    }
   ],
   "source": [
    "# Remove id\n",
    "anonymousData = allDataClassif.drop(\"anonymousID\", axis = 1)\n",
    "\n",
    "# Get features and target\n",
    "# Only select rows where scoreafter is not negative\n",
    "features = anonymousData[anonymousData[\"scoreposttest\"] >= 0]\n",
    "features = features[[\"craft\", \"death\", \"add\", \"remove\", \"reach\", \"maxChapter\"] + list(range(15))]\n",
    "target = anonymousData[anonymousData[\"scoreposttest\"] >= 0][\"scoreposttest\"]\n",
    "\n",
    "# Add polynomial features\n",
    "secondDegreeFeatures = preprocessing.PolynomialFeatures(degree=2, interaction_only=False, include_bias=True)\n",
    "features = secondDegreeFeatures.fit_transform(features)\n",
    "\n",
    "# Center and scale data\n",
    "features = preprocessing.scale(features)"
   ]
  },
  {
   "cell_type": "code",
   "execution_count": 18,
   "metadata": {},
   "outputs": [
    {
     "data": {
      "text/plain": [
       "array([ 0.29406717,  0.30875647,  0.0625392 ,  0.26387169,  0.12544653,\n",
       "        0.27555917,  0.29747092,  0.19396457, -0.33408368, -0.05647366])"
      ]
     },
     "execution_count": 18,
     "metadata": {},
     "output_type": "execute_result"
    },
    {
     "data": {
      "image/png": "[encoded data removed]",
      "text/plain": [
       "<Figure size 432x288 with 1 Axes>"
      ]
     },
     "metadata": {},
     "output_type": "display_data"
    }
   ],
   "source": [
    "# Run Lasso regression with cross-validation\n",
    "model = Lasso()\n",
    "scores = cross_val_score(model, features, target, cv=10)\n",
    "boxplot(scores)\n",
    "scores"
   ]
  },
  {
   "cell_type": "markdown",
   "metadata": {},
   "source": [
    "Conclusion: Tried different combinations, but cannot find any interesting regression (02/02/2018)"
   ]
  },
  {
   "cell_type": "markdown",
   "metadata": {},
   "source": [
    "# Questionnaire and RedMetrics"
   ]
  },
  {
   "cell_type": "markdown",
   "metadata": {},
   "source": [
    "## Can the biology level of a player be predicted using the game data?"
   ]
  },
  {
   "cell_type": "code",
   "execution_count": 19,
   "metadata": {},
   "outputs": [
    {
     "name": "stderr",
     "output_type": "stream",
     "text": [
      "C:\\Users\\Mikael\\Anaconda3\\lib\\site-packages\\sklearn\\preprocessing\\data.py:164: UserWarning: Numerical issues were encountered when centering the data and might not be solved. Dataset may contain too large values. You may need to prescale your features.\n",
      "  warnings.warn(\"Numerical issues were encountered \"\n"
     ]
    }
   ],
   "source": [
    "# Remove id\n",
    "anonymousData = gameAndCorrectedAfterDataClassif.drop(\"anonymousID\", axis = 1)\n",
    "\n",
    "# Get features and target\n",
    "# Only select rows where scoreafter is not negative\n",
    "features = anonymousData[anonymousData[\"scoreposttest\"] >= 0]\n",
    "features = features.loc[:,\"sessionsCount\":\"completionTime\"]\n",
    "target = anonymousData[anonymousData[\"scoreposttest\"] >= 0][\"biologyStudy\"]\n",
    "\n",
    "# Add polynomial features\n",
    "secondDegreeFeatures = preprocessing.PolynomialFeatures(degree=2, interaction_only=False, include_bias=True)\n",
    "features = secondDegreeFeatures.fit_transform(features)\n",
    "\n",
    "# Center and scale data\n",
    "features = preprocessing.scale(features)"
   ]
  },
  {
   "cell_type": "code",
   "execution_count": 20,
   "metadata": {},
   "outputs": [
    {
     "data": {
      "text/plain": [
       "array([-7.54828433e-02, -2.60318809e-01, -3.58352892e-02, -1.27990098e+00,\n",
       "       -6.31793969e-01, -1.24716109e-01, -4.24168975e-03, -5.07707598e-02,\n",
       "       -5.13244460e-01, -1.10352904e-03])"
      ]
     },
     "execution_count": 20,
     "metadata": {},
     "output_type": "execute_result"
    },
    {
     "data": {
      "image/png": "[encoded data removed]",
      "text/plain": [
       "<Figure size 432x288 with 1 Axes>"
      ]
     },
     "metadata": {},
     "output_type": "display_data"
    }
   ],
   "source": [
    "# Run Lasso regression with cross-validation\n",
    "model = Lasso()\n",
    "scores = cross_val_score(model, features, target, cv=10)\n",
    "boxplot(scores)\n",
    "scores"
   ]
  },
  {
   "cell_type": "markdown",
   "metadata": {
    "collapsed": true
   },
   "source": [
    "Conclusion: No (30/01/2018)"
   ]
  },
  {
   "cell_type": "markdown",
   "metadata": {},
   "source": [
    "## Can the gaming profile of a player be predicted using the game data?"
   ]
  },
  {
   "cell_type": "code",
   "execution_count": 21,
   "metadata": {},
   "outputs": [
    {
     "name": "stderr",
     "output_type": "stream",
     "text": [
      "C:\\Users\\Mikael\\Anaconda3\\lib\\site-packages\\sklearn\\preprocessing\\data.py:164: UserWarning: Numerical issues were encountered when centering the data and might not be solved. Dataset may contain too large values. You may need to prescale your features.\n",
      "  warnings.warn(\"Numerical issues were encountered \"\n"
     ]
    }
   ],
   "source": [
    "# Remove id\n",
    "anonymousData = gameAndCorrectedAfterDataClassif.drop(\"anonymousID\", axis = 1)\n",
    "\n",
    "# Get features and target\n",
    "# Only select rows where scoreafter is not negative\n",
    "features = anonymousData.loc[:,\"sessionsCount\":\"completionTime\"]\n",
    "target = sum(anonymousData[\"gameInterest\"], anonymousData[\"gameFrequency\"])\n",
    "\n",
    "# Add polynomial features\n",
    "secondDegreeFeatures = preprocessing.PolynomialFeatures(degree=2, interaction_only=False, include_bias=True)\n",
    "features = secondDegreeFeatures.fit_transform(features)\n",
    "\n",
    "# Center and scale data\n",
    "features = preprocessing.scale(features)"
   ]
  },
  {
   "cell_type": "code",
   "execution_count": 22,
   "metadata": {},
   "outputs": [
    {
     "data": {
      "text/plain": [
       "array([-8.72789009e-03, -3.19017570e-02, -3.61235227e-04, -4.31011923e-01,\n",
       "       -5.93004313e-02, -3.61235227e-04, -8.27419426e-02, -1.08546219e-01,\n",
       "       -2.35774342e-01, -1.08546219e-01])"
      ]
     },
     "execution_count": 22,
     "metadata": {},
     "output_type": "execute_result"
    },
    {
     "data": {
      "image/png": "[encoded data removed]",
      "text/plain": [
       "<Figure size 432x288 with 1 Axes>"
      ]
     },
     "metadata": {},
     "output_type": "display_data"
    }
   ],
   "source": [
    "# Run Lasso regression with cross-validation\n",
    "model = Lasso()\n",
    "scores = cross_val_score(model, features, target, cv=10)\n",
    "boxplot(scores)\n",
    "scores"
   ]
  },
  {
   "cell_type": "markdown",
   "metadata": {
    "collapsed": true
   },
   "source": [
    "Conclusion: No (30/01/2018)"
   ]
  },
  {
   "cell_type": "markdown",
   "metadata": {
    "collapsed": true
   },
   "source": [
    "## Can the completion time of each chapter be used to predict if a player is going to answer a specific scientific question correctly"
   ]
  },
  {
   "cell_type": "code",
   "execution_count": 23,
   "metadata": {},
   "outputs": [],
   "source": [
    "# Given a question tag, plot scores of cross-validated model\n",
    "def tryClassification(data, scientificQuestion):\n",
    "    # Remove id\n",
    "    anonymousData = data.drop(\"anonymousID\", axis = 1)\n",
    "\n",
    "    # Get features and target\n",
    "    # Only select rows where scoreafter is not negative\n",
    "    features = anonymousData[anonymousData[\"scoreposttest\"] >= 0]\n",
    "    features = features.iloc[:,24:37]\n",
    "    target = anonymousData[anonymousData[\"scoreposttest\"] >= 0].loc[:,scientificQuestion].astype('int')\n",
    "\n",
    "    # Add polynomial features\n",
    "    secondDegreeFeatures = preprocessing.PolynomialFeatures(degree=2, interaction_only=False, include_bias=True)\n",
    "    features = secondDegreeFeatures.fit_transform(features)\n",
    "\n",
    "    # Center and scale data\n",
    "    features = preprocessing.scale(features)\n",
    "    \n",
    "    # Classify using extra tree classifiers, more random than random forest methods\n",
    "    clf = ExtraTreesClassifier(n_estimators=10, max_depth=None, min_samples_split=2, random_state=0, bootstrap=True)\n",
    "    scores = cross_val_score(clf, features, target, cv=5)\n",
    "    \n",
    "    # Display plot\n",
    "    fig, ax = plt.subplots()\n",
    "    boxplot(scores)\n",
    "    \n",
    "    return [scores.mean(), scores.std()]"
   ]
  },
  {
   "cell_type": "code",
   "execution_count": 24,
   "metadata": {},
   "outputs": [
    {
     "name": "stderr",
     "output_type": "stream",
     "text": [
      "C:\\Users\\Mikael\\Anaconda3\\lib\\site-packages\\sklearn\\preprocessing\\data.py:164: UserWarning: Numerical issues were encountered when centering the data and might not be solved. Dataset may contain too large values. You may need to prescale your features.\n",
      "  warnings.warn(\"Numerical issues were encountered \"\n",
      "C:\\Users\\Mikael\\Anaconda3\\lib\\site-packages\\sklearn\\preprocessing\\data.py:164: UserWarning: Numerical issues were encountered when centering the data and might not be solved. Dataset may contain too large values. You may need to prescale your features.\n",
      "  warnings.warn(\"Numerical issues were encountered \"\n",
      "C:\\Users\\Mikael\\Anaconda3\\lib\\site-packages\\sklearn\\preprocessing\\data.py:164: UserWarning: Numerical issues were encountered when centering the data and might not be solved. Dataset may contain too large values. You may need to prescale your features.\n",
      "  warnings.warn(\"Numerical issues were encountered \"\n",
      "C:\\Users\\Mikael\\Anaconda3\\lib\\site-packages\\sklearn\\preprocessing\\data.py:164: UserWarning: Numerical issues were encountered when centering the data and might not be solved. Dataset may contain too large values. You may need to prescale your features.\n",
      "  warnings.warn(\"Numerical issues were encountered \"\n",
      "C:\\Users\\Mikael\\Anaconda3\\lib\\site-packages\\sklearn\\preprocessing\\data.py:164: UserWarning: Numerical issues were encountered when centering the data and might not be solved. Dataset may contain too large values. You may need to prescale your features.\n",
      "  warnings.warn(\"Numerical issues were encountered \"\n",
      "C:\\Users\\Mikael\\Anaconda3\\lib\\site-packages\\sklearn\\preprocessing\\data.py:164: UserWarning: Numerical issues were encountered when centering the data and might not be solved. Dataset may contain too large values. You may need to prescale your features.\n",
      "  warnings.warn(\"Numerical issues were encountered \"\n",
      "C:\\Users\\Mikael\\Anaconda3\\lib\\site-packages\\sklearn\\preprocessing\\data.py:164: UserWarning: Numerical issues were encountered when centering the data and might not be solved. Dataset may contain too large values. You may need to prescale your features.\n",
      "  warnings.warn(\"Numerical issues were encountered \"\n",
      "C:\\Users\\Mikael\\Anaconda3\\lib\\site-packages\\sklearn\\preprocessing\\data.py:164: UserWarning: Numerical issues were encountered when centering the data and might not be solved. Dataset may contain too large values. You may need to prescale your features.\n",
      "  warnings.warn(\"Numerical issues were encountered \"\n",
      "C:\\Users\\Mikael\\Anaconda3\\lib\\site-packages\\sklearn\\preprocessing\\data.py:164: UserWarning: Numerical issues were encountered when centering the data and might not be solved. Dataset may contain too large values. You may need to prescale your features.\n",
      "  warnings.warn(\"Numerical issues were encountered \"\n",
      "C:\\Users\\Mikael\\Anaconda3\\lib\\site-packages\\sklearn\\preprocessing\\data.py:164: UserWarning: Numerical issues were encountered when centering the data and might not be solved. Dataset may contain too large values. You may need to prescale your features.\n",
      "  warnings.warn(\"Numerical issues were encountered \"\n",
      "C:\\Users\\Mikael\\Anaconda3\\lib\\site-packages\\sklearn\\preprocessing\\data.py:164: UserWarning: Numerical issues were encountered when centering the data and might not be solved. Dataset may contain too large values. You may need to prescale your features.\n",
      "  warnings.warn(\"Numerical issues were encountered \"\n",
      "C:\\Users\\Mikael\\Anaconda3\\lib\\site-packages\\sklearn\\preprocessing\\data.py:164: UserWarning: Numerical issues were encountered when centering the data and might not be solved. Dataset may contain too large values. You may need to prescale your features.\n",
      "  warnings.warn(\"Numerical issues were encountered \"\n",
      "C:\\Users\\Mikael\\Anaconda3\\lib\\site-packages\\sklearn\\preprocessing\\data.py:164: UserWarning: Numerical issues were encountered when centering the data and might not be solved. Dataset may contain too large values. You may need to prescale your features.\n",
      "  warnings.warn(\"Numerical issues were encountered \"\n",
      "C:\\Users\\Mikael\\Anaconda3\\lib\\site-packages\\sklearn\\preprocessing\\data.py:164: UserWarning: Numerical issues were encountered when centering the data and might not be solved. Dataset may contain too large values. You may need to prescale your features.\n",
      "  warnings.warn(\"Numerical issues were encountered \"\n",
      "C:\\Users\\Mikael\\Anaconda3\\lib\\site-packages\\sklearn\\preprocessing\\data.py:164: UserWarning: Numerical issues were encountered when centering the data and might not be solved. Dataset may contain too large values. You may need to prescale your features.\n",
      "  warnings.warn(\"Numerical issues were encountered \"\n",
      "C:\\Users\\Mikael\\Anaconda3\\lib\\site-packages\\sklearn\\preprocessing\\data.py:164: UserWarning: Numerical issues were encountered when centering the data and might not be solved. Dataset may contain too large values. You may need to prescale your features.\n",
      "  warnings.warn(\"Numerical issues were encountered \"\n",
      "C:\\Users\\Mikael\\Anaconda3\\lib\\site-packages\\sklearn\\preprocessing\\data.py:164: UserWarning: Numerical issues were encountered when centering the data and might not be solved. Dataset may contain too large values. You may need to prescale your features.\n",
      "  warnings.warn(\"Numerical issues were encountered \"\n",
      "C:\\Users\\Mikael\\Anaconda3\\lib\\site-packages\\sklearn\\preprocessing\\data.py:164: UserWarning: Numerical issues were encountered when centering the data and might not be solved. Dataset may contain too large values. You may need to prescale your features.\n",
      "  warnings.warn(\"Numerical issues were encountered \"\n",
      "C:\\Users\\Mikael\\Anaconda3\\lib\\site-packages\\sklearn\\preprocessing\\data.py:164: UserWarning: Numerical issues were encountered when centering the data and might not be solved. Dataset may contain too large values. You may need to prescale your features.\n",
      "  warnings.warn(\"Numerical issues were encountered \"\n",
      "C:\\Users\\Mikael\\Anaconda3\\lib\\site-packages\\sklearn\\preprocessing\\data.py:164: UserWarning: Numerical issues were encountered when centering the data and might not be solved. Dataset may contain too large values. You may need to prescale your features.\n",
      "  warnings.warn(\"Numerical issues were encountered \"\n",
      "C:\\Users\\Mikael\\Anaconda3\\lib\\site-packages\\sklearn\\preprocessing\\data.py:164: UserWarning: Numerical issues were encountered when centering the data and might not be solved. Dataset may contain too large values. You may need to prescale your features.\n",
      "  warnings.warn(\"Numerical issues were encountered \"\n",
      "C:\\Users\\Mikael\\Anaconda3\\lib\\site-packages\\matplotlib\\pyplot.py:537: RuntimeWarning: More than 20 figures have been opened. Figures created through the pyplot interface (`matplotlib.pyplot.figure`) are retained until explicitly closed and may consume too much memory. (To control this warning, see the rcParam `figure.max_open_warning`).\n",
      "  max_open_warning, RuntimeWarning)\n",
      "C:\\Users\\Mikael\\Anaconda3\\lib\\site-packages\\sklearn\\preprocessing\\data.py:164: UserWarning: Numerical issues were encountered when centering the data and might not be solved. Dataset may contain too large values. You may need to prescale your features.\n",
      "  warnings.warn(\"Numerical issues were encountered \"\n",
      "C:\\Users\\Mikael\\Anaconda3\\lib\\site-packages\\matplotlib\\pyplot.py:537: RuntimeWarning: More than 20 figures have been opened. Figures created through the pyplot interface (`matplotlib.pyplot.figure`) are retained until explicitly closed and may consume too much memory. (To control this warning, see the rcParam `figure.max_open_warning`).\n",
      "  max_open_warning, RuntimeWarning)\n",
      "C:\\Users\\Mikael\\Anaconda3\\lib\\site-packages\\sklearn\\preprocessing\\data.py:164: UserWarning: Numerical issues were encountered when centering the data and might not be solved. Dataset may contain too large values. You may need to prescale your features.\n",
      "  warnings.warn(\"Numerical issues were encountered \"\n",
      "C:\\Users\\Mikael\\Anaconda3\\lib\\site-packages\\matplotlib\\pyplot.py:537: RuntimeWarning: More than 20 figures have been opened. Figures created through the pyplot interface (`matplotlib.pyplot.figure`) are retained until explicitly closed and may consume too much memory. (To control this warning, see the rcParam `figure.max_open_warning`).\n",
      "  max_open_warning, RuntimeWarning)\n",
      "C:\\Users\\Mikael\\Anaconda3\\lib\\site-packages\\sklearn\\preprocessing\\data.py:164: UserWarning: Numerical issues were encountered when centering the data and might not be solved. Dataset may contain too large values. You may need to prescale your features.\n",
      "  warnings.warn(\"Numerical issues were encountered \"\n",
      "C:\\Users\\Mikael\\Anaconda3\\lib\\site-packages\\matplotlib\\pyplot.py:537: RuntimeWarning: More than 20 figures have been opened. Figures created through the pyplot interface (`matplotlib.pyplot.figure`) are retained until explicitly closed and may consume too much memory. (To control this warning, see the rcParam `figure.max_open_warning`).\n",
      "  max_open_warning, RuntimeWarning)\n",
      "C:\\Users\\Mikael\\Anaconda3\\lib\\site-packages\\sklearn\\preprocessing\\data.py:164: UserWarning: Numerical issues were encountered when centering the data and might not be solved. Dataset may contain too large values. You may need to prescale your features.\n",
      "  warnings.warn(\"Numerical issues were encountered \"\n"
     ]
    },
    {
     "name": "stderr",
     "output_type": "stream",
     "text": [
      "C:\\Users\\Mikael\\Anaconda3\\lib\\site-packages\\matplotlib\\pyplot.py:537: RuntimeWarning: More than 20 figures have been opened. Figures created through the pyplot interface (`matplotlib.pyplot.figure`) are retained until explicitly closed and may consume too much memory. (To control this warning, see the rcParam `figure.max_open_warning`).\n",
      "  max_open_warning, RuntimeWarning)\n",
      "C:\\Users\\Mikael\\Anaconda3\\lib\\site-packages\\sklearn\\preprocessing\\data.py:164: UserWarning: Numerical issues were encountered when centering the data and might not be solved. Dataset may contain too large values. You may need to prescale your features.\n",
      "  warnings.warn(\"Numerical issues were encountered \"\n",
      "C:\\Users\\Mikael\\Anaconda3\\lib\\site-packages\\matplotlib\\pyplot.py:537: RuntimeWarning: More than 20 figures have been opened. Figures created through the pyplot interface (`matplotlib.pyplot.figure`) are retained until explicitly closed and may consume too much memory. (To control this warning, see the rcParam `figure.max_open_warning`).\n",
      "  max_open_warning, RuntimeWarning)\n",
      "C:\\Users\\Mikael\\Anaconda3\\lib\\site-packages\\sklearn\\preprocessing\\data.py:164: UserWarning: Numerical issues were encountered when centering the data and might not be solved. Dataset may contain too large values. You may need to prescale your features.\n",
      "  warnings.warn(\"Numerical issues were encountered \"\n",
      "C:\\Users\\Mikael\\Anaconda3\\lib\\site-packages\\matplotlib\\pyplot.py:537: RuntimeWarning: More than 20 figures have been opened. Figures created through the pyplot interface (`matplotlib.pyplot.figure`) are retained until explicitly closed and may consume too much memory. (To control this warning, see the rcParam `figure.max_open_warning`).\n",
      "  max_open_warning, RuntimeWarning)\n"
     ]
    },
    {
     "data": {
      "text/html": [
       "<div>\n",
       "<style scoped>\n",
       "    .dataframe tbody tr th:only-of-type {\n",
       "        vertical-align: middle;\n",
       "    }\n",
       "\n",
       "    .dataframe tbody tr th {\n",
       "        vertical-align: top;\n",
       "    }\n",
       "\n",
       "    .dataframe thead th {\n",
       "        text-align: right;\n",
       "    }\n",
       "</style>\n",
       "<table border=\"1\" class=\"dataframe\">\n",
       "  <thead>\n",
       "    <tr style=\"text-align: right;\">\n",
       "      <th></th>\n",
       "      <th>QGenotypePhenotype</th>\n",
       "      <th>QBioBricksDevicesComposition</th>\n",
       "      <th>QAmpicillin</th>\n",
       "      <th>QBBNamePlasmid</th>\n",
       "      <th>QBBFunctionTER</th>\n",
       "      <th>QBBNamePromoter</th>\n",
       "      <th>QBBFunctionGameCDS</th>\n",
       "      <th>QBBNameTerminator</th>\n",
       "      <th>QBBFunctionBiologyCDS</th>\n",
       "      <th>QBBNameRBS</th>\n",
       "      <th>...</th>\n",
       "      <th>QDevicePconsRbsFlhdcTer</th>\n",
       "      <th>QDevicePbadRbsGfpTer</th>\n",
       "      <th>QDevicePbadGfpTbsTer</th>\n",
       "      <th>QDeviceGfpRbsPconsTer</th>\n",
       "      <th>QDevicePconsGfpRbsTer</th>\n",
       "      <th>QDeviceAmprRbsPconsTer</th>\n",
       "      <th>QDeviceRbsPconsAmprTer</th>\n",
       "      <th>QGreenFluorescence</th>\n",
       "      <th>QUnequipDevice</th>\n",
       "      <th>QDevicePbadRbsAraTer</th>\n",
       "    </tr>\n",
       "  </thead>\n",
       "  <tbody>\n",
       "    <tr>\n",
       "      <th>Mean</th>\n",
       "      <td>0.747256</td>\n",
       "      <td>0.668769</td>\n",
       "      <td>0.587692</td>\n",
       "      <td>0.676282</td>\n",
       "      <td>0.637718</td>\n",
       "      <td>0.715385</td>\n",
       "      <td>0.809231</td>\n",
       "      <td>0.562462</td>\n",
       "      <td>0.794231</td>\n",
       "      <td>0.873231</td>\n",
       "      <td>...</td>\n",
       "      <td>0.635154</td>\n",
       "      <td>0.737846</td>\n",
       "      <td>0.770154</td>\n",
       "      <td>0.752436</td>\n",
       "      <td>0.770154</td>\n",
       "      <td>0.800795</td>\n",
       "      <td>0.769231</td>\n",
       "      <td>0.554487</td>\n",
       "      <td>0.600641</td>\n",
       "      <td>0.873231</td>\n",
       "    </tr>\n",
       "    <tr>\n",
       "      <th>Var</th>\n",
       "      <td>0.067512</td>\n",
       "      <td>0.093545</td>\n",
       "      <td>0.035298</td>\n",
       "      <td>0.077402</td>\n",
       "      <td>0.106800</td>\n",
       "      <td>0.045662</td>\n",
       "      <td>0.040260</td>\n",
       "      <td>0.062807</td>\n",
       "      <td>0.024359</td>\n",
       "      <td>0.013538</td>\n",
       "      <td>...</td>\n",
       "      <td>0.106449</td>\n",
       "      <td>0.112456</td>\n",
       "      <td>0.067437</td>\n",
       "      <td>0.063373</td>\n",
       "      <td>0.080423</td>\n",
       "      <td>0.045793</td>\n",
       "      <td>0.041464</td>\n",
       "      <td>0.063974</td>\n",
       "      <td>0.090419</td>\n",
       "      <td>0.028693</td>\n",
       "    </tr>\n",
       "  </tbody>\n",
       "</table>\n",
       "<p>2 rows × 27 columns</p>\n",
       "</div>"
      ],
      "text/plain": [
       "      QGenotypePhenotype  QBioBricksDevicesComposition  QAmpicillin  \\\n",
       "Mean            0.747256                      0.668769     0.587692   \n",
       "Var             0.067512                      0.093545     0.035298   \n",
       "\n",
       "      QBBNamePlasmid  QBBFunctionTER  QBBNamePromoter  QBBFunctionGameCDS  \\\n",
       "Mean        0.676282        0.637718         0.715385            0.809231   \n",
       "Var         0.077402        0.106800         0.045662            0.040260   \n",
       "\n",
       "      QBBNameTerminator  QBBFunctionBiologyCDS  QBBNameRBS  \\\n",
       "Mean           0.562462               0.794231    0.873231   \n",
       "Var            0.062807               0.024359    0.013538   \n",
       "\n",
       "              ...           QDevicePconsRbsFlhdcTer  QDevicePbadRbsGfpTer  \\\n",
       "Mean          ...                          0.635154              0.737846   \n",
       "Var           ...                          0.106449              0.112456   \n",
       "\n",
       "      QDevicePbadGfpTbsTer  QDeviceGfpRbsPconsTer  QDevicePconsGfpRbsTer  \\\n",
       "Mean              0.770154               0.752436               0.770154   \n",
       "Var               0.067437               0.063373               0.080423   \n",
       "\n",
       "      QDeviceAmprRbsPconsTer  QDeviceRbsPconsAmprTer  QGreenFluorescence  \\\n",
       "Mean                0.800795                0.769231            0.554487   \n",
       "Var                 0.045793                0.041464            0.063974   \n",
       "\n",
       "      QUnequipDevice  QDevicePbadRbsAraTer  \n",
       "Mean        0.600641              0.873231  \n",
       "Var         0.090419              0.028693  \n",
       "\n",
       "[2 rows x 27 columns]"
      ]
     },
     "execution_count": 24,
     "metadata": {},
     "output_type": "execute_result"
    },
    {
     "data": {
      "image/png": "[encoded data removed]",
      "text/plain": [
       "<Figure size 432x288 with 1 Axes>"
      ]
     },
     "metadata": {},
     "output_type": "display_data"
    },
    {
     "data": {
      "image/png": "[encoded data removed]",
      "text/plain": [
       "<Figure size 432x288 with 1 Axes>"
      ]
     },
     "metadata": {},
     "output_type": "display_data"
    },
    {
     "data": {
      "image/png": "[encoded data removed]",
      "text/plain": [
       "<Figure size 432x288 with 1 Axes>"
      ]
     },
     "metadata": {},
     "output_type": "display_data"
    },
    {
     "data": {
      "image/png": "[encoded data removed]",
      "text/plain": [
       "<Figure size 432x288 with 1 Axes>"
      ]
     },
     "metadata": {},
     "output_type": "display_data"
    },
    {
     "data": {
      "image/png": "[encoded data removed]",
      "text/plain": [
       "<Figure size 432x288 with 1 Axes>"
      ]
     },
     "metadata": {},
     "output_type": "display_data"
    },
    {
     "data": {
      "image/png": "[encoded data removed]",
      "text/plain": [
       "<Figure size 432x288 with 1 Axes>"
      ]
     },
     "metadata": {},
     "output_type": "display_data"
    },
    {
     "data": {
      "image/png": "[encoded data removed]",
      "text/plain": [
       "<Figure size 432x288 with 1 Axes>"
      ]
     },
     "metadata": {},
     "output_type": "display_data"
    },
    {
     "data": {
      "image/png": "[encoded data removed]",
      "text/plain": [
       "<Figure size 432x288 with 1 Axes>"
      ]
     },
     "metadata": {},
     "output_type": "display_data"
    },
    {
     "data": {
      "image/png": "[encoded data removed]",
      "text/plain": [
       "<Figure size 432x288 with 1 Axes>"
      ]
     },
     "metadata": {},
     "output_type": "display_data"
    },
    {
     "data": {
      "image/png": "[encoded data removed]",
      "text/plain": [
       "<Figure size 432x288 with 1 Axes>"
      ]
     },
     "metadata": {},
     "output_type": "display_data"
    },
    {
     "data": {
      "image/png": "[encoded data removed]",
      "text/plain": [
       "<Figure size 432x288 with 1 Axes>"
      ]
     },
     "metadata": {},
     "output_type": "display_data"
    },
    {
     "data": {
      "image/png": "[encoded data removed]",
      "text/plain": [
       "<Figure size 432x288 with 1 Axes>"
      ]
     },
     "metadata": {},
     "output_type": "display_data"
    },
    {
     "data": {
      "image/png": "[encoded data removed]",
      "text/plain": [
       "<Figure size 432x288 with 1 Axes>"
      ]
     },
     "metadata": {},
     "output_type": "display_data"
    },
    {
     "data": {
      "image/png": "[encoded data removed]",
      "text/plain": [
       "<Figure size 432x288 with 1 Axes>"
      ]
     },
     "metadata": {},
     "output_type": "display_data"
    },
    {
     "data": {
      "image/png": "[encoded data removed]",
      "text/plain": [
       "<Figure size 432x288 with 1 Axes>"
      ]
     },
     "metadata": {},
     "output_type": "display_data"
    },
    {
     "data": {
      "image/png": "[encoded data removed]",
      "text/plain": [
       "<Figure size 432x288 with 1 Axes>"
      ]
     },
     "metadata": {},
     "output_type": "display_data"
    },
    {
     "data": {
      "image/png": "[encoded data removed]",
      "text/plain": [
       "<Figure size 432x288 with 1 Axes>"
      ]
     },
     "metadata": {},
     "output_type": "display_data"
    },
    {
     "data": {
      "image/png": "[encoded data removed]",
      "text/plain": [
       "<Figure size 432x288 with 1 Axes>"
      ]
     },
     "metadata": {},
     "output_type": "display_data"
    },
    {
     "data": {
      "image/png": "[encoded data removed]",
      "text/plain": [
       "<Figure size 432x288 with 1 Axes>"
      ]
     },
     "metadata": {},
     "output_type": "display_data"
    },
    {
     "data": {
      "image/png": "[encoded data removed]",
      "text/plain": [
       "<Figure size 432x288 with 1 Axes>"
      ]
     },
     "metadata": {},
     "output_type": "display_data"
    },
    {
     "data": {
      "image/png": "[encoded data removed]",
      "text/plain": [
       "<Figure size 432x288 with 1 Axes>"
      ]
     },
     "metadata": {},
     "output_type": "display_data"
    },
    {
     "data": {
      "image/png": "[encoded data removed]",
      "text/plain": [
       "<Figure size 432x288 with 1 Axes>"
      ]
     },
     "metadata": {},
     "output_type": "display_data"
    },
    {
     "data": {
      "image/png": "[encoded data removed]",
      "text/plain": [
       "<Figure size 432x288 with 1 Axes>"
      ]
     },
     "metadata": {},
     "output_type": "display_data"
    },
    {
     "data": {
      "image/png": "[encoded data removed]",
      "text/plain": [
       "<Figure size 432x288 with 1 Axes>"
      ]
     },
     "metadata": {},
     "output_type": "display_data"
    },
    {
     "data": {
      "image/png": "[encoded data removed]",
      "text/plain": [
       "<Figure size 432x288 with 1 Axes>"
      ]
     },
     "metadata": {},
     "output_type": "display_data"
    },
    {
     "data": {
      "image/png": "[encoded data removed]",
      "text/plain": [
       "<Figure size 432x288 with 1 Axes>"
      ]
     },
     "metadata": {},
     "output_type": "display_data"
    },
    {
     "data": {
      "image/png": "[encoded data removed]",
      "text/plain": [
       "<Figure size 432x288 with 1 Axes>"
      ]
     },
     "metadata": {},
     "output_type": "display_data"
    }
   ],
   "source": [
    "allScores = pd.DataFrame(index = [\"Mean\", \"Var\"])\n",
    "for question in [\"QGenotypePhenotype\", \"QBioBricksDevicesComposition\", \"QAmpicillin\", \"QBBNamePlasmid\", \"QBBFunctionTER\", \"QBBNamePromoter\", \"QBBFunctionGameCDS\", \"QBBNameTerminator\", \"QBBFunctionBiologyCDS\", \"QBBNameRBS\", \"QBBExampleCDS\", \"QBBNameCDS\", \"QBBFunctionPR\", \"QBBFunctionRBS\", \"QBBFunctionPlasmid\", \"QBBNameOperator\", \"QDeviceRbsPconsFlhdcTer\", \"QDevicePconsRbsFlhdcTer\", \"QDevicePbadRbsGfpTer\", \"QDevicePbadGfpTbsTer\", \"QDeviceGfpRbsPconsTer\", \"QDevicePconsGfpRbsTer\", \"QDeviceAmprRbsPconsTer\", \"QDeviceRbsPconsAmprTer\", \"QGreenFluorescence\", \"QUnequipDevice\", \"QDevicePbadRbsAraTer\"]:\n",
    "    questionTag = question\n",
    "    scores = tryClassification(gameAndCorrectedAfterDataClassif, questionTag)\n",
    "    allScores[questionTag] = scores\n",
    "allScores"
   ]
  },
  {
   "cell_type": "markdown",
   "metadata": {},
   "source": [
    "Conclusion: Redmetrics can be used to predict answers to certain scientific questions (29/05/2018)\n",
    "TODO Raphael: Check which questions you want additional analysis for"
   ]
  },
  {
   "cell_type": "markdown",
   "metadata": {},
   "source": [
    "## Can the game data be used to predict the performance on a sub-group of scientific questions?"
   ]
  },
  {
   "cell_type": "markdown",
   "metadata": {},
   "source": [
    "### Hard questions"
   ]
  },
  {
   "cell_type": "code",
   "execution_count": 25,
   "metadata": {},
   "outputs": [
    {
     "name": "stderr",
     "output_type": "stream",
     "text": [
      "C:\\Users\\Mikael\\Anaconda3\\lib\\site-packages\\sklearn\\preprocessing\\data.py:164: UserWarning: Numerical issues were encountered when centering the data and might not be solved. Dataset may contain too large values. You may need to prescale your features.\n",
      "  warnings.warn(\"Numerical issues were encountered \"\n"
     ]
    },
    {
     "data": {
      "text/plain": [
       "1.0"
      ]
     },
     "execution_count": 25,
     "metadata": {},
     "output_type": "execute_result"
    },
    {
     "data": {
      "image/png": "[encoded data removed]",
      "text/plain": [
       "<Figure size 432x288 with 1 Axes>"
      ]
     },
     "metadata": {},
     "output_type": "display_data"
    }
   ],
   "source": [
    "# Remove id\n",
    "anonymousData = gameAndCorrectedAfterDataClassif.drop(\"anonymousID\", axis = 1)\n",
    "\n",
    "# Get features and target\n",
    "features = pd.concat([anonymousData.loc[:,\"sessionsCount\":\"completionTime\"], anonymousData.loc[:,\"gameInterest\":\"previousPlay\"]], axis=1)\n",
    "target = anonymousData.loc[:,[\"QBBFunctionPR\", \"QBBNameOperator\", \"QDevicePbadRbsAraTer\"]].astype(int).sum(axis=1)\n",
    "target = target.apply(lambda x: 0 if x < 3 else 1)\n",
    "\n",
    "# Add polynomial features\n",
    "secondDegreeFeatures = preprocessing.PolynomialFeatures(degree=2, interaction_only=False, include_bias=True)\n",
    "features = secondDegreeFeatures.fit_transform(features)\n",
    "\n",
    "# Center and scale data\n",
    "features = preprocessing.scale(features)\n",
    "    \n",
    "# Classify using extra tree classifiers, more random than random forest methods\n",
    "clf = ExtraTreesClassifier(n_estimators=10, max_depth=None, min_samples_split=2, random_state=0, bootstrap=True)\n",
    "scores = cross_val_score(clf, features, target, cv=10)\n",
    "    \n",
    "# Display plot\n",
    "boxplot(scores)\n",
    "scores.mean()"
   ]
  },
  {
   "cell_type": "code",
   "execution_count": 26,
   "metadata": {},
   "outputs": [
    {
     "data": {
      "text/plain": [
       "1.0"
      ]
     },
     "execution_count": 26,
     "metadata": {},
     "output_type": "execute_result"
    }
   ],
   "source": [
    "# Classify using random forests -accounts for the small size of the dataset and the categorical nature of the features, limit overfitting\n",
    "clf = RandomForestClassifier(n_estimators=10, max_depth=None, min_samples_split=2, random_state=0, bootstrap=True)\n",
    "scores = cross_val_score(clf, features, target)\n",
    "scores.mean()"
   ]
  },
  {
   "cell_type": "markdown",
   "metadata": {},
   "source": [
    "Conclusion: Very high quality prediction (29/05/18)"
   ]
  },
  {
   "cell_type": "markdown",
   "metadata": {},
   "source": [
    "### Biobrick symbol recognition"
   ]
  },
  {
   "cell_type": "code",
   "execution_count": 27,
   "metadata": {},
   "outputs": [
    {
     "name": "stderr",
     "output_type": "stream",
     "text": [
      "C:\\Users\\Mikael\\Anaconda3\\lib\\site-packages\\sklearn\\preprocessing\\data.py:164: UserWarning: Numerical issues were encountered when centering the data and might not be solved. Dataset may contain too large values. You may need to prescale your features.\n",
      "  warnings.warn(\"Numerical issues were encountered \"\n"
     ]
    }
   ],
   "source": [
    "# Remove id\n",
    "anonymousData = gameAndCorrectedAfterDataClassif.drop(\"anonymousID\", axis = 1)\n",
    "\n",
    "bbSymbolRecognition = [\"QBBNamePlasmid\", \"QBBFunctionTER\", \"QBBNamePromoter\", \"QBBFunctionGameCDS\", \"QBBNameTerminator\", \"QBBFunctionBiologyCDS\", \"QBBNameRBS\", \"QBBExampleCDS\", \"QBBNameCDS\", \"QBBFunctionPR\", \"QBBFunctionRBS\", \"QBBFunctionPlasmid\", \"QBBNameOperator\"]\n",
    "\n",
    "# Get features and target\n",
    "# Only select rows where scoreafter is not negative\n",
    "features = pd.concat([anonymousData.loc[:,\"sessionsCount\":\"completionTime\"], anonymousData.loc[:,\"gameInterest\":\"previousPlay\"]], axis=1)\n",
    "target = anonymousData.loc[:,bbSymbolRecognition].astype(int).sum(axis=1)\n",
    "\n",
    "# Add polynomial features\n",
    "secondDegreeFeatures = preprocessing.PolynomialFeatures(degree=2, interaction_only=False, include_bias=True)\n",
    "features = secondDegreeFeatures.fit_transform(features)\n",
    "\n",
    "# Center and scale data\n",
    "features = preprocessing.scale(features)"
   ]
  },
  {
   "cell_type": "code",
   "execution_count": 28,
   "metadata": {},
   "outputs": [
    {
     "data": {
      "text/plain": [
       "0.5945437179903345"
      ]
     },
     "execution_count": 28,
     "metadata": {},
     "output_type": "execute_result"
    },
    {
     "data": {
      "image/png": "[encoded data removed]",
      "text/plain": [
       "<Figure size 432x288 with 1 Axes>"
      ]
     },
     "metadata": {},
     "output_type": "display_data"
    }
   ],
   "source": [
    "# Run Lasso regression with cross-validation\n",
    "model = Lasso()\n",
    "scores = cross_val_score(model, features, target, cv=10)\n",
    "boxplot(scores)\n",
    "scores.mean()"
   ]
  },
  {
   "cell_type": "markdown",
   "metadata": {},
   "source": [
    "Conclusion: No apparent possible prediction (1/02/2018)"
   ]
  },
  {
   "cell_type": "markdown",
   "metadata": {},
   "source": [
    "### Easy questions"
   ]
  },
  {
   "cell_type": "code",
   "execution_count": 29,
   "metadata": {},
   "outputs": [
    {
     "name": "stderr",
     "output_type": "stream",
     "text": [
      "C:\\Users\\Mikael\\Anaconda3\\lib\\site-packages\\sklearn\\preprocessing\\data.py:164: UserWarning: Numerical issues were encountered when centering the data and might not be solved. Dataset may contain too large values. You may need to prescale your features.\n",
      "  warnings.warn(\"Numerical issues were encountered \"\n"
     ]
    }
   ],
   "source": [
    "# Remove id\n",
    "anonymousData = gameAndCorrectedAfterDataClassif.drop(\"anonymousID\", axis = 1)\n",
    "\n",
    "# Get features and target\n",
    "features = pd.concat([anonymousData.loc[:,\"sessionsCount\":\"completionTime\"], anonymousData.loc[:,\"gameInterest\":\"previousPlay\"]], axis=1)\n",
    "target = anonymousData.loc[:,[\"QBioBricksDevicesComposition\", \"QDeviceRbsPconsFlhdcTer\", \"QGreenFluorescence\"]].astype(int).sum(axis=1)\n",
    "\n",
    "# Add polynomial features\n",
    "secondDegreeFeatures = preprocessing.PolynomialFeatures(degree=2, interaction_only=False, include_bias=True)\n",
    "features = secondDegreeFeatures.fit_transform(features)\n",
    "\n",
    "# Center and scale data\n",
    "features = preprocessing.scale(features)"
   ]
  },
  {
   "cell_type": "code",
   "execution_count": 30,
   "metadata": {},
   "outputs": [
    {
     "data": {
      "text/plain": [
       "-0.23768933464830147"
      ]
     },
     "execution_count": 30,
     "metadata": {},
     "output_type": "execute_result"
    },
    {
     "data": {
      "image/png": "[encoded data removed]",
      "text/plain": [
       "<Figure size 432x288 with 1 Axes>"
      ]
     },
     "metadata": {},
     "output_type": "display_data"
    }
   ],
   "source": [
    "# Run Lasso regression with cross-validation\n",
    "model = Lasso()\n",
    "scores = cross_val_score(model, features, target, cv=10)\n",
    "boxplot(scores)\n",
    "scores.mean()"
   ]
  },
  {
   "cell_type": "code",
   "execution_count": 31,
   "metadata": {},
   "outputs": [
    {
     "data": {
      "text/plain": [
       "(array([21., 29., 34., 42.,  0.,  0.,  0.,  0.,  0.,  0.,  0.,  0.,  0.]),\n",
       " array([ 0,  1,  2,  3,  4,  5,  6,  7,  8,  9, 10, 11, 12, 13]),\n",
       " <a list of 13 Patch objects>)"
      ]
     },
     "execution_count": 31,
     "metadata": {},
     "output_type": "execute_result"
    },
    {
     "data": {
      "image/png": "[encoded data removed]",
      "text/plain": [
       "<Figure size 432x288 with 1 Axes>"
      ]
     },
     "metadata": {},
     "output_type": "display_data"
    }
   ],
   "source": [
    "plt.hist(target, bins = range(14))"
   ]
  },
  {
   "cell_type": "markdown",
   "metadata": {},
   "source": [
    "Conclusion: Inconclusive (01/02/2018)"
   ]
  },
  {
   "cell_type": "markdown",
   "metadata": {},
   "source": [
    "## Can the completion time be predicted from questionnaire answers?"
   ]
  },
  {
   "cell_type": "markdown",
   "metadata": {},
   "source": [
    "### From the before questionnaire"
   ]
  },
  {
   "cell_type": "code",
   "execution_count": 32,
   "metadata": {
    "scrolled": false
   },
   "outputs": [],
   "source": [
    "# Remove id\n",
    "anonymousData = gameAndCorrectedBeforeDataClassif.drop(\"anonymousID\", axis = 1)\n",
    "\n",
    "# Get features and target\n",
    "lastColumn = 'gender_Male'\n",
    "for potentialLastColumn in ['gender_Other', 'gender_Prefer not to say']:\n",
    "    if potentialLastColumn in anonymousData.columns:\n",
    "        lastColumn = potentialLastColumn\n",
    "features = anonymousData.loc[:,\"gameInterest\":lastColumn]\n",
    "target = anonymousData.loc[:,\"completionTime\"]\n",
    "\n",
    "# Add polynomial features\n",
    "secondDegreeFeatures = preprocessing.PolynomialFeatures(degree=2, interaction_only=False, include_bias=True)\n",
    "features = secondDegreeFeatures.fit_transform(features)\n",
    "\n",
    "# Center and scale data\n",
    "features = preprocessing.scale(features)"
   ]
  },
  {
   "cell_type": "code",
   "execution_count": 33,
   "metadata": {},
   "outputs": [
    {
     "data": {
      "text/plain": [
       "-0.3915524677477815"
      ]
     },
     "execution_count": 33,
     "metadata": {},
     "output_type": "execute_result"
    },
    {
     "data": {
      "image/png": "[encoded data removed]",
      "text/plain": [
       "<Figure size 432x288 with 1 Axes>"
      ]
     },
     "metadata": {},
     "output_type": "display_data"
    }
   ],
   "source": [
    "# Run Lasso regression with cross-validation\n",
    "model = Lasso(max_iter=10000, alpha=10)\n",
    "scores = cross_val_score(model, features, target, cv=10)\n",
    "boxplot(scores)\n",
    "scores.mean()"
   ]
  },
  {
   "cell_type": "code",
   "execution_count": 34,
   "metadata": {},
   "outputs": [
    {
     "data": {
      "text/plain": [
       "0.7619047619047619"
      ]
     },
     "execution_count": 34,
     "metadata": {},
     "output_type": "execute_result"
    },
    {
     "data": {
      "image/png": "[encoded data removed]",
      "text/plain": [
       "<Figure size 432x288 with 1 Axes>"
      ]
     },
     "metadata": {},
     "output_type": "display_data"
    }
   ],
   "source": [
    "# Try classification\n",
    "target = target.apply(lambda x: 0 if x < 7200 else 1) #0 if short, 1 if long\n",
    "\n",
    "# Classify using extra tree classifiers, more random than random forest methods\n",
    "clf = ExtraTreesClassifier(n_estimators=10, max_depth=None, min_samples_split=2, random_state=0, bootstrap=True)\n",
    "scores = cross_val_score(clf, features, target, cv=10)\n",
    "    \n",
    "# Display plot\n",
    "boxplot(scores)\n",
    "scores.mean()\n",
    "sum(target)/len(target)"
   ]
  },
  {
   "cell_type": "markdown",
   "metadata": {},
   "source": [
    "Conclusion: No (01/02/2018)"
   ]
  },
  {
   "cell_type": "markdown",
   "metadata": {},
   "source": [
    "### From the after questionnaire"
   ]
  },
  {
   "cell_type": "code",
   "execution_count": 35,
   "metadata": {
    "scrolled": false
   },
   "outputs": [],
   "source": [
    "# Remove id\n",
    "anonymousData = gameAndCorrectedAfterDataClassif.drop(\"anonymousID\", axis = 1)\n",
    "\n",
    "# Get features and target\n",
    "lastColumn = 'gender_Male'\n",
    "for potentialLastColumn in ['gender_Other', 'gender_Prefer not to say']:\n",
    "    if potentialLastColumn in anonymousData.columns:\n",
    "        lastColumn = potentialLastColumn\n",
    "features = anonymousData.loc[:,\"gameInterest\":lastColumn]\n",
    "target = anonymousData.loc[:,\"completionTime\"]\n",
    "\n",
    "# Add polynomial features\n",
    "secondDegreeFeatures = preprocessing.PolynomialFeatures(degree=2, interaction_only=False, include_bias=True)\n",
    "features = secondDegreeFeatures.fit_transform(features)\n",
    "\n",
    "# Center and scale data\n",
    "features = preprocessing.scale(features)"
   ]
  },
  {
   "cell_type": "code",
   "execution_count": 36,
   "metadata": {},
   "outputs": [
    {
     "data": {
      "text/plain": [
       "0.004601070055313694"
      ]
     },
     "execution_count": 36,
     "metadata": {},
     "output_type": "execute_result"
    },
    {
     "data": {
      "image/png": "[encoded data removed]",
      "text/plain": [
       "<Figure size 432x288 with 1 Axes>"
      ]
     },
     "metadata": {},
     "output_type": "display_data"
    }
   ],
   "source": [
    "# Run Lasso regression with cross-validation\n",
    "model = Lasso(max_iter=1000000)\n",
    "scores = cross_val_score(model, features, target, cv=10)\n",
    "boxplot(scores)\n",
    "scores.mean()"
   ]
  },
  {
   "cell_type": "code",
   "execution_count": 37,
   "metadata": {},
   "outputs": [
    {
     "data": {
      "text/plain": [
       "0.8339743589743589"
      ]
     },
     "execution_count": 37,
     "metadata": {},
     "output_type": "execute_result"
    },
    {
     "data": {
      "image/png": "[encoded data removed]",
      "text/plain": [
       "<Figure size 432x288 with 1 Axes>"
      ]
     },
     "metadata": {},
     "output_type": "display_data"
    }
   ],
   "source": [
    "# Try classification\n",
    "target = target.apply(lambda x: 0 if x < 7200 else 1) #0 if short, 1 if long\n",
    "\n",
    "# Classify using extra tree classifiers, more random than random forest methods\n",
    "clf = ExtraTreesClassifier(n_estimators=10, max_depth=None, min_samples_split=2, random_state=0, bootstrap=True)\n",
    "scores = cross_val_score(clf, features, target, cv=10)\n",
    "    \n",
    "# Display plot\n",
    "boxplot(scores)\n",
    "scores.mean()"
   ]
  },
  {
   "cell_type": "markdown",
   "metadata": {},
   "source": [
    "Conclusion: Yes (29/05/18)"
   ]
  },
  {
   "cell_type": "code",
   "execution_count": 38,
   "metadata": {},
   "outputs": [
    {
     "data": {
      "text/plain": [
       "96"
      ]
     },
     "execution_count": 38,
     "metadata": {},
     "output_type": "execute_result"
    }
   ],
   "source": [
    "sum(target)"
   ]
  },
  {
   "cell_type": "code",
   "execution_count": 39,
   "metadata": {},
   "outputs": [
    {
     "data": {
      "text/plain": [
       "126"
      ]
     },
     "execution_count": 39,
     "metadata": {},
     "output_type": "execute_result"
    }
   ],
   "source": [
    "len(target)"
   ]
  },
  {
   "cell_type": "markdown",
   "metadata": {},
   "source": [
    "Conclusion: Yes but very unbalanced classes (29/05/18)"
   ]
  },
  {
   "cell_type": "code",
   "execution_count": null,
   "metadata": {},
   "outputs": [],
   "source": []
  }
 ],
 "metadata": {
  "kernelspec": {
   "display_name": "Python 3",
   "language": "python",
   "name": "python3"
  },
  "language_info": {
   "codemirror_mode": {
    "name": "ipython",
    "version": 3
   },
   "file_extension": ".py",
   "mimetype": "text/x-python",
   "name": "python",
   "nbconvert_exporter": "python",
   "pygments_lexer": "ipython3",
   "version": "3.6.5"
  }
 },
 "nbformat": 4,
 "nbformat_minor": 2
}
