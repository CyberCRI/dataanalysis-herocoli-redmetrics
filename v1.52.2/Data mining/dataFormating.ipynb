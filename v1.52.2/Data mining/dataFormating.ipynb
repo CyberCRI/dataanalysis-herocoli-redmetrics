{
 "cells": [
  {
   "cell_type": "code",
   "execution_count": null,
   "metadata": {
    "scrolled": true
   },
   "outputs": [],
   "source": [
    "%run \"../Functions/4. User comparison.ipynb\""
   ]
  },
  {
   "cell_type": "markdown",
   "metadata": {},
   "source": [
    "# Prepare data"
   ]
  },
  {
   "cell_type": "markdown",
   "metadata": {},
   "source": [
    "### Sample selection"
   ]
  },
  {
   "cell_type": "code",
   "execution_count": null,
   "metadata": {},
   "outputs": [],
   "source": [
    "if False:\n",
    "    sampledForm = gform.copy()\n",
    "\n",
    "    sampledForm = sampleWhole.copy()\n",
    "    sampledForm = sampleLinux.copy()\n",
    "\n",
    "    # sample by time slots\n",
    "    sampledForm = samplePlaytestPhase1.copy()\n",
    "    sampledForm = samplePlaytestPhase2.copy()\n",
    "    sampledForm = samplePlaytest.copy()\n",
    "\n",
    "    # sample by filtering out userIds with multiple profiles\n",
    "    sampledForm = samplePlaytestUniqueProfilesPhase1.copy()\n",
    "    sampledForm = samplePlaytestUniqueProfilesPhase2.copy()\n",
    "    sampledForm = samplePlaytestUniqueProfiles.copy()\n",
    "\n",
    "    # sample by keeping only pretest-posttest pairs\n",
    "    sampledForm = samplePlaytestPretestPosttestUniqueProfilesPhase1.copy()\n",
    "    sampledForm = samplePlaytestPretestPosttestUniqueProfilesPhase2.copy()\n",
    "    sampledForm = samplePlaytestPretestPosttestUniqueProfiles.copy()\n",
    "    \n",
    "sampledForm = samplePlaytestPretestPosttestUniqueProfilesPhase1.copy()\n",
    "\n",
    "#rmdf = rmdfPlaytestPretestPosttestUniqueProfilesVolunteers.copy()\n",
    "rmdf = rmdfPlaytestPretestPosttestUniqueProfilesVolunteersPhase1.copy()\n",
    "#rmdf = rmdfPlaytestPretestPosttestUniqueProfilesVolunteersPhase2.copy()\n",
    "\n",
    "# interferes with getCorrections, which is gform.index-based\n",
    "#sampledForm.index = range(0, len(sampledForm))"
   ]
  },
  {
   "cell_type": "markdown",
   "metadata": {},
   "source": [
    "### Question renaming"
   ]
  },
  {
   "cell_type": "code",
   "execution_count": null,
   "metadata": {},
   "outputs": [],
   "source": [
    "# Rename columns of the Google Forms table with tags independantly of form language\n",
    "columnTagsDictionary = {\n",
    "    QTimestamp : 'timestamp',\n",
    "    QCuriosityBiology : 'QCuriosityBiology',\n",
    "    QCuriositySyntheticBiology : 'QCuriositySyntheticBiology',\n",
    "    QCuriosityVideoGames : 'QCuriosityVideoGames',\n",
    "    QCuriosityEngineering : 'QCuriosityEngineering',\n",
    "    QPlayed : 'previousPlay',\n",
    "    QAge : 'age',\n",
    "    QGender : 'gender',\n",
    "    QInterestVideoGames : 'gameInterest',\n",
    "    QInterestBiology : 'biologyInterest',\n",
    "    QStudiedBiology : 'biologyStudy',\n",
    "    QPlayVideoGames : 'gameFrequency',\n",
    "    QHeardSynBioOrBioBricks : 'synthBioKnowledge',\n",
    "    QVolunteer : 'QVolunteer',\n",
    "    QEnjoyed : 'QEnjoyed',\n",
    "    QGenotypePhenotype : 'QGenotypePhenotype',\n",
    "    QBioBricksDevicesComposition : 'QBioBricksDevicesComposition',\n",
    "    QAmpicillin : 'QAmpicillin',\n",
    "    QBBNamePlasmid : 'QBBNamePlasmid',\n",
    "    QBBFunctionTER : 'QBBFunctionTER',\n",
    "    QBBNamePromoter : 'QBBNamePromoter',\n",
    "    QBBFunctionGameCDS : 'QBBFunctionGameCDS',\n",
    "    QBBNameTerminator : 'QBBNameTerminator',\n",
    "    QBBFunctionBiologyCDS : 'QBBFunctionBiologyCDS',\n",
    "    QBBNameRBS : 'QBBNameRBS',\n",
    "    QBBExampleCDS : 'QBBExampleCDS',\n",
    "    QBBNameCDS : 'QBBNameCDS',\n",
    "    QBBFunctionPR : 'QBBFunctionPR',\n",
    "    QBBFunctionRBS : 'QBBFunctionRBS',\n",
    "    QBBFunctionPlasmid : 'QBBFunctionPlasmid',\n",
    "    QBBNameOperator : 'QBBNameOperator',\n",
    "    QDeviceRbsPconsFlhdcTer : 'QDeviceRbsPconsFlhdcTer',\n",
    "    QDevicePconsRbsFlhdcTer : 'QDevicePconsRbsFlhdcTer',\n",
    "    QDevicePbadRbsGfpTer : 'QDevicePbadRbsGfpTer',\n",
    "    QDevicePbadGfpTbsTer : 'QDevicePbadGfpTbsTer',\n",
    "    QDeviceGfpRbsPconsTer : 'QDeviceGfpRbsPconsTer',\n",
    "    QDevicePconsGfpRbsTer : 'QDevicePconsGfpRbsTer',\n",
    "    QDeviceAmprRbsPconsTer : 'QDeviceAmprRbsPconsTer',\n",
    "    QDeviceRbsPconsAmprTer : 'QDeviceRbsPconsAmprTer',\n",
    "    QGreenFluorescence : 'QGreenFluorescence',\n",
    "    QUnequipDevice : 'QUnequipDevice',\n",
    "    QDevicePbadRbsAraTer : 'QDevicePbadRbsAraTer',\n",
    "    QRemarks : 'comments',\n",
    "    QUserId : 'anonymousID',\n",
    "    QLanguage : 'lang',\n",
    "    QTemporality : 'temporality',\n",
    "}\n",
    "columnQuestions = sampledForm.columns.values.tolist()\n",
    "googleData = sampledForm.rename(columns=columnTagsDictionary)\n",
    "#googleData.head()"
   ]
  },
  {
   "cell_type": "code",
   "execution_count": null,
   "metadata": {
    "scrolled": false
   },
   "outputs": [],
   "source": [
    "# Replaces answers to scientific questions in the questionnaires by their values (True or False)\n",
    "correctedData = googleData.copy()\n",
    "scientificQuestions = pd.Index([columnTagsDictionary[question] for question in scientificQuestions])\n",
    "\n",
    "for index in range(correctedData.shape[0]):\n",
    "    # Get the correction for each subject\n",
    "    rowId = correctedData.index[index]\n",
    "    playerId = correctedData.loc[rowId,\"anonymousID\"]\n",
    "    correction = getCorrections(playerId).rename(index=columnTagsDictionary)\n",
    "    if correction.shape[1] > 0:\n",
    "        # If subject has answered questionnaire\n",
    "        # Replace scientific answers by their correction\n",
    "        for question in scientificQuestions:\n",
    "            correctedData.loc[rowId, question] = int(correction.loc[question, \"corrections\" + str(rowId)])\n",
    "    \n",
    "correctedData = correctedData.rename(columns=columnTagsDictionary)\n",
    "#correctedData.tail(15)"
   ]
  },
  {
   "cell_type": "markdown",
   "metadata": {},
   "source": [
    "### For association rule mining"
   ]
  },
  {
   "cell_type": "code",
   "execution_count": null,
   "metadata": {},
   "outputs": [],
   "source": [
    "# Get only answers to scientific questions\n",
    "correctedScientific = correctedData.loc[:, scientificQuestions]\n",
    "#correctedScientific.head()"
   ]
  },
  {
   "cell_type": "code",
   "execution_count": null,
   "metadata": {},
   "outputs": [],
   "source": [
    "correctedScientific"
   ]
  },
  {
   "cell_type": "markdown",
   "metadata": {
    "collapsed": true
   },
   "source": [
    "### For clustering"
   ]
  },
  {
   "cell_type": "markdown",
   "metadata": {},
   "source": [
    "#### With full answers"
   ]
  },
  {
   "cell_type": "code",
   "execution_count": null,
   "metadata": {},
   "outputs": [],
   "source": [
    "# Remove timestamp and comments features\n",
    "codedData = googleData.copy().drop(['timestamp', \"comments\"], axis=1)\n",
    "codedData[\"gameFrequency\"].unique()\n"
   ]
  },
  {
   "cell_type": "code",
   "execution_count": null,
   "metadata": {},
   "outputs": [],
   "source": [
    "# Code answers with integers when possible\n",
    "\n",
    "# Define equivalences\n",
    "# QCuriosityBiology\n",
    "QCuriosityBiologyCoding = {\"A lot\": 4, \"Beaucoup\": 4, \"Enormément\": 5, \"Extremely\": 5, \"Moderately\": 3, \"Moyennement\": 3, \"Slightly\": 2, \"Un peu\": 2, \"I don't know\": 3, \"Je ne sais pas\": 3, \"Not at all\": 1, \"Pas du tout\": 1}\n",
    "# QCuriositySyntheticBiology\n",
    "QCuriositySyntheticBiologyCoding = {\"A lot\": 4, \"Beaucoup\": 4, \"Enormément\": 5, \"Extremely\": 5, \"Moderately\": 3, \"Moyennement\": 3, \"Slightly\": 2, \"Un peu\": 2, \"I don't know\": 3, \"Je ne sais pas\": 3, \"Not at all\": 1, \"Pas du tout\": 1}\n",
    "# QCuriosityEngineering\n",
    "QCuriosityEngineeringCoding = {\"A lot\": 4, \"Beaucoup\": 4, \"Enormément\": 5, \"Extremely\": 5, \"Moderately\": 3, \"Moyennement\": 3, \"Slightly\": 2, \"Un peu\": 2, \"I don't know\": 3, \"Je ne sais pas\": 3, \"Not at all\": 1, \"Pas du tout\": 1}\n",
    "# QCuriosityVideoGames\n",
    "QCuriosityVideoGamesCoding = {\"A lot\": 4, \"Beaucoup\": 4, \"Enormément\": 5, \"Extremely\": 5, \"Moderately\": 3, \"Moyennement\": 3, \"Slightly\": 2, \"Un peu\": 2, \"I don't know\": 3, \"Je ne sais pas\": 3, \"Not at all\": 1, \"Pas du tout\": 1}\n",
    "# gameInterest\n",
    "gameInterestCoding = {\"A lot\": 4, \"Beaucoup\": 4, \"Enormément\": 5, \"Extremely\": 5, \"Moderately\": 3, \"Moyennement\": 3, \"Slightly\": 2, \"Un peu\": 2, \"I don't know\": 3, \"Je ne sais pas\": 3, \"Not at all\": 1, \"Pas du tout\": 1}\n",
    "# biologyStudy\n",
    "biologyStudyCoding = {\"Not even in middle school\": 0, \"Jamais\": 0, \"Jamais, pas même au collège\": 0, \"Until the end of middle school\": 1, \"Jusqu'au brevet\": 1, \"Until the end of high school\": 2, \"Jusqu'au bac\": 2, \"Until bachelor's degree\": 3, \"Jusqu'à la license\": 3, \"At least until master's degree\": 4, \"Au moins jusqu'au master\": 4, \"I don't know\": 0, \"Je ne sais pas\": 0}\n",
    "# biologyInterest\n",
    "biologyInterestCoding = {\"A lot\": 4, \"Beaucoup\": 4, \"Enormément\": 5, \"Extremely\": 5, \"Moderately\": 3, \"Moyennement\": 3, \"Slightly\": 2, \"Un peu\": 2, \"I don't know\": 3, \"Je ne sais pas\": 3, \"Not at all\": 1, \"Pas du tout\": 1}\n",
    "# gameFrequency\n",
    "gameFrequencyCoding = {\"A lot\": 4, \"Beaucoup\": 4, \"Enormément\": 5, \"Extremely\": 5, \"Moderately\": 3, \"Moyennement\": 3, \"Rarely\": 2, \"Un peu\": 2, \"I don't know\": 3, \"Je ne sais pas\": 3, \"Not at all\": 1, \"Pas du tout\": 1}\n",
    "# synthBioKnowledge\n",
    "synthBioKnowledgeCoding = {\"Yes, and I know what it means\" : 2, \"Yes, but I don't exactly know what it means\": 1, \"No\": 0}\n",
    "# previousPlay\n",
    "previousPlayCoding = {\"I played it multiple times recently\": 3, \"I played it multiple times recently on this computer\": 3, \"I played recently on an other computer\": 2, \"I played it some time ago\": 1, \"I just played for the first time\": 1, \"No / not yet\": 0, \"I don't know\": 0}\n",
    "# lang\n",
    "languageCoding = {\"en\": 0, \"fr\": 1}\n",
    "# temporality\n",
    "temporalityCoding = {\"pretest\": 0, \"posttest\": 1, \"undefined\": -5}\n",
    "# QVolunteer\n",
    "QVolunteerCoding = {\"Yes\": 1, \"No\": 0}\n",
    "# QEnjoyed\n",
    "QEnjoyedCoding = {'Extremely': 4, 'A lot': 3, 'Not at all': 0, 'A bit': 1, 'Moderately': 2, \"No\": 0, \"Not applicable: not played yet\": -1}\n",
    "\n",
    "# Fill NaN cells\n",
    "codedData[\"QCuriosityBiology\"].fillna(\"Moderately\", inplace = True)\n",
    "codedData[\"QCuriositySyntheticBiology\"].fillna(\"Moderately\", inplace = True)\n",
    "codedData[\"QCuriosityEngineering\"].fillna(\"Moderately\", inplace = True)\n",
    "codedData[\"biologyInterest\"].fillna(\"Moderately\", inplace = True)\n",
    "codedData[\"QCuriosityVideoGames\"].fillna(\"Moderately\", inplace = True)\n",
    "codedData[\"gameInterest\"].fillna(\"Moderately\", inplace = True)\n",
    "codedData[\"gameFrequency\"].fillna(\"Moderately\", inplace = True)\n",
    "codedData[\"synthBioKnowledge\"].fillna(\"No\", inplace = True)\n",
    "codedData[\"previousPlay\"].fillna(\"No / not yet\", inplace = True)\n",
    "codedData[\"QVolunteer\"].fillna(\"No\", inplace = True)\n",
    "codedData[\"QEnjoyed\"].fillna(\"No\", inplace = True)\n",
    "codedData[\"biologyStudy\"].fillna(\"I don't know\", inplace = True)\n",
    "codedData.dropna(how='any', inplace = True) # Drop those who have not answered the pretest\n",
    "\n",
    "# Replace by code\n",
    "for rowId in codedData.index.values:\n",
    "    codedData.loc[rowId, \"QCuriosityBiology\"] = QCuriosityBiologyCoding[codedData.loc[rowId, \"QCuriosityBiology\"]]\n",
    "    codedData.loc[rowId, \"QCuriositySyntheticBiology\"] = QCuriositySyntheticBiologyCoding[codedData.loc[rowId, \"QCuriositySyntheticBiology\"]]\n",
    "    codedData.loc[rowId, \"QCuriosityEngineering\"] = QCuriosityEngineeringCoding[codedData.loc[rowId, \"QCuriosityEngineering\"]]\n",
    "    codedData.loc[rowId, \"QCuriosityVideoGames\"] = QCuriosityVideoGamesCoding[codedData.loc[rowId, \"QCuriosityVideoGames\"]]\n",
    "    codedData.loc[rowId, \"gameInterest\"] = gameInterestCoding[codedData.loc[rowId, \"gameInterest\"]]\n",
    "    codedData.loc[rowId, \"biologyStudy\"] = biologyStudyCoding[codedData.loc[rowId, \"biologyStudy\"]]\n",
    "    codedData.loc[rowId, \"biologyInterest\"] = biologyInterestCoding[codedData.loc[rowId, \"biologyInterest\"]]\n",
    "    codedData.loc[rowId, \"gameFrequency\"] = gameFrequencyCoding[codedData.loc[rowId, \"gameFrequency\"]]\n",
    "    codedData.loc[rowId, \"synthBioKnowledge\"] = synthBioKnowledgeCoding[codedData.loc[rowId, \"synthBioKnowledge\"]]\n",
    "    codedData.loc[rowId, \"previousPlay\"] = previousPlayCoding[codedData.loc[rowId, \"previousPlay\"]]\n",
    "    codedData.loc[rowId, \"lang\"] = languageCoding[codedData.loc[rowId, \"lang\"]]\n",
    "    codedData.loc[rowId, \"temporality\"] = temporalityCoding[codedData.loc[rowId, \"temporality\"]]\n",
    "    codedData.loc[rowId, \"QVolunteer\"] = QVolunteerCoding[codedData.loc[rowId, \"QVolunteer\"]]\n",
    "    codedData.loc[rowId, \"QEnjoyed\"] = QEnjoyedCoding[codedData.loc[rowId, \"QEnjoyed\"]]\n",
    "    "
   ]
  },
  {
   "cell_type": "code",
   "execution_count": null,
   "metadata": {},
   "outputs": [],
   "source": [
    "# One-Hot version\n",
    "codedData = pd.get_dummies(codedData, prefix = [\"gender\", \"QGenotypePhenotype\", \"QBioBricksDevicesComposition\", \"QAmpicillin\", \"QBBNamePlasmid\", \"QBBFunctionTER\", \"QBBNamePromoter\", \"QBBFunctionGameCDS\", \"QBBNameTerminator\", \"QBBFunctionBiologyCDS\", \"QBBNameRBS\", \"QBBExampleCDS\", \"QBBNameCDS\", \"QBBFunctionPR\", \"QBBFunctionRBS\", \"QBBFunctionPlasmid\", \"QBBNameOperator\", \"QDeviceRbsPconsFlhdcTer\", \"QDevicePconsRbsFlhdcTer\", \"QDevicePbadRbsGfpTer\", \"QDevicePbadGfpTbsTer\", \"QDeviceGfpRbsPconsTer\", \"QDevicePconsGfpRbsTer\", \"QDeviceAmprRbsPconsTer\", \"QDeviceRbsPconsAmprTer\", \"QGreenFluorescence\", \"QUnequipDevice\", \"QDevicePbadRbsAraTer\"], columns = [\"gender\", \"QGenotypePhenotype\", \"QBioBricksDevicesComposition\", \"QAmpicillin\", \"QBBNamePlasmid\", \"QBBFunctionTER\", \"QBBNamePromoter\", \"QBBFunctionGameCDS\", \"QBBNameTerminator\", \"QBBFunctionBiologyCDS\", \"QBBNameRBS\", \"QBBExampleCDS\", \"QBBNameCDS\", \"QBBFunctionPR\", \"QBBFunctionRBS\", \"QBBFunctionPlasmid\", \"QBBNameOperator\", \"QDeviceRbsPconsFlhdcTer\", \"QDevicePconsRbsFlhdcTer\", \"QDevicePbadRbsGfpTer\", \"QDevicePbadGfpTbsTer\", \"QDeviceGfpRbsPconsTer\", \"QDevicePconsGfpRbsTer\", \"QDeviceAmprRbsPconsTer\", \"QDeviceRbsPconsAmprTer\", \"QGreenFluorescence\", \"QUnequipDevice\", \"QDevicePbadRbsAraTer\"])\n",
    "codedData.head()"
   ]
  },
  {
   "cell_type": "code",
   "execution_count": null,
   "metadata": {},
   "outputs": [],
   "source": [
    "# Split the forms according to temporality\n",
    "beforeForms = codedData.copy().loc[codedData[\"temporality\"] == 0,:]\n",
    "afterForms = codedData.copy().loc[codedData[\"temporality\"] == 1,:]\n",
    "undefForms = codedData.copy().loc[codedData[\"temporality\"] == -5,:]\n",
    "defForms = codedData.copy()\n",
    "# For subjects with both before and after forms, join the two\n",
    "beforeAndAfterForms = pd.merge(beforeForms, afterForms, on=\"anonymousID\", suffixes=('_before', '_after'))\n",
    "#beforeForms.head()\n",
    "#afterForms.head()\n",
    "#undefForms.head()\n",
    "#defForms.head()\n",
    "#beforeAndAfterForms.head()"
   ]
  },
  {
   "cell_type": "code",
   "execution_count": null,
   "metadata": {},
   "outputs": [],
   "source": [
    "# Remove ID feature\n",
    "allForms = codedData.copy().drop(\"anonymousID\", axis=1)\n",
    "beforeForms.drop(\"anonymousID\", axis=1, inplace = True)\n",
    "afterForms.drop(\"anonymousID\", axis=1, inplace = True)\n",
    "undefForms.drop(\"anonymousID\", axis=1, inplace = True)\n",
    "defForms.drop(\"anonymousID\", axis=1, inplace = True)\n",
    "beforeAndAfterForms.drop(\"anonymousID\", axis=1, inplace = True)"
   ]
  },
  {
   "cell_type": "markdown",
   "metadata": {},
   "source": [
    "#### With corrected scientific answers"
   ]
  },
  {
   "cell_type": "code",
   "execution_count": null,
   "metadata": {},
   "outputs": [],
   "source": [
    "# Remove timestamp and comments features\n",
    "codedCorrectedData = correctedData.copy().drop(['timestamp', \"comments\"], axis=1)\n"
   ]
  },
  {
   "cell_type": "code",
   "execution_count": null,
   "metadata": {},
   "outputs": [],
   "source": [
    "# Fill NaN cells\n",
    "codedCorrectedData[\"QCuriosityBiology\"].fillna(\"Moderately\", inplace = True)\n",
    "codedCorrectedData[\"QCuriositySyntheticBiology\"].fillna(\"Moderately\", inplace = True)\n",
    "codedCorrectedData[\"QCuriosityEngineering\"].fillna(\"Moderately\", inplace = True)\n",
    "codedCorrectedData[\"QCuriosityVideoGames\"].fillna(\"Moderately\", inplace = True)\n",
    "codedCorrectedData[\"gameInterest\"].fillna(\"Moderately\", inplace = True)\n",
    "codedCorrectedData[\"biologyInterest\"].fillna(\"Moderately\", inplace = True)\n",
    "codedCorrectedData[\"gameFrequency\"].fillna(\"Moderately\", inplace = True)\n",
    "codedCorrectedData[\"synthBioKnowledge\"].fillna(\"No\", inplace = True)\n",
    "codedCorrectedData[\"previousPlay\"].fillna(\"No / not yet\", inplace = True)\n",
    "codedCorrectedData[\"QVolunteer\"].fillna(\"No\", inplace = True)\n",
    "codedCorrectedData[\"QEnjoyed\"].fillna(\"No\", inplace = True)\n",
    "codedCorrectedData[\"synthBioKnowledge\"].fillna(\"No\", inplace = True)\n",
    "codedCorrectedData[\"biologyStudy\"].fillna(\"I don't know\", inplace = True)\n",
    "codedCorrectedData.dropna(how='any', inplace = True)\n",
    "\n",
    "# Replace by code\n",
    "for rowId in codedCorrectedData.index.values:\n",
    "    codedCorrectedData.loc[rowId, \"QCuriosityBiology\"] = QCuriosityBiologyCoding[codedCorrectedData.loc[rowId, \"QCuriosityBiology\"]]\n",
    "    codedCorrectedData.loc[rowId, \"QCuriositySyntheticBiology\"] = QCuriositySyntheticBiologyCoding[codedCorrectedData.loc[rowId, \"QCuriositySyntheticBiology\"]]\n",
    "    codedCorrectedData.loc[rowId, \"QCuriosityEngineering\"] = QCuriosityEngineeringCoding[codedCorrectedData.loc[rowId, \"QCuriosityEngineering\"]]\n",
    "    codedCorrectedData.loc[rowId, \"QCuriosityVideoGames\"] = QCuriosityVideoGamesCoding[codedCorrectedData.loc[rowId, \"QCuriosityVideoGames\"]]\n",
    "    codedCorrectedData.loc[rowId, \"gameInterest\"] = gameInterestCoding[codedCorrectedData.loc[rowId, \"gameInterest\"]]\n",
    "    codedCorrectedData.loc[rowId, \"biologyStudy\"] = biologyStudyCoding[codedCorrectedData.loc[rowId, \"biologyStudy\"]]\n",
    "    codedCorrectedData.loc[rowId, \"biologyInterest\"] = biologyInterestCoding[codedCorrectedData.loc[rowId, \"biologyInterest\"]]\n",
    "    codedCorrectedData.loc[rowId, \"gameFrequency\"] = gameFrequencyCoding[codedCorrectedData.loc[rowId, \"gameFrequency\"]]\n",
    "    codedCorrectedData.loc[rowId, \"synthBioKnowledge\"] = synthBioKnowledgeCoding[codedCorrectedData.loc[rowId, \"synthBioKnowledge\"]]\n",
    "    codedCorrectedData.loc[rowId, \"previousPlay\"] = previousPlayCoding[codedCorrectedData.loc[rowId, \"previousPlay\"]]\n",
    "    codedCorrectedData.loc[rowId, \"lang\"] = languageCoding[codedCorrectedData.loc[rowId, \"lang\"]]\n",
    "    codedCorrectedData.loc[rowId, \"temporality\"] = temporalityCoding[codedCorrectedData.loc[rowId, \"temporality\"]]\n",
    "    codedCorrectedData.loc[rowId, \"QVolunteer\"] = QVolunteerCoding[codedCorrectedData.loc[rowId, \"QVolunteer\"]]\n",
    "    codedCorrectedData.loc[rowId, \"QEnjoyed\"] = QEnjoyedCoding[codedCorrectedData.loc[rowId, \"QEnjoyed\"]]"
   ]
  },
  {
   "cell_type": "code",
   "execution_count": null,
   "metadata": {},
   "outputs": [],
   "source": [
    "# One-Hot versions of the above dataframes\n",
    "codedCorrectedData = pd.get_dummies(codedCorrectedData, prefix = [\"gender\"], columns = [\"gender\"])\n",
    "codedCorrectedData.head()"
   ]
  },
  {
   "cell_type": "code",
   "execution_count": null,
   "metadata": {},
   "outputs": [],
   "source": [
    "# Split the forms according to temporality\n",
    "beforeCorrectedForms = codedCorrectedData.copy().loc[codedCorrectedData[\"temporality\"] == 0,:]\n",
    "afterCorrectedForms = codedCorrectedData.copy().loc[codedCorrectedData[\"temporality\"] == 1,:]\n",
    "undefCorrectedForms = codedCorrectedData.copy().loc[codedCorrectedData[\"temporality\"] == -5,:]\n",
    "defCorrectedForms = codedCorrectedData.copy() # Either before or after\n",
    "# For subjects with both before and after forms, join the two\n",
    "beforeAndAfterCorrectedForms = pd.merge(beforeCorrectedForms, afterCorrectedForms, on=\"anonymousID\", suffixes=('_before', '_after'))\n",
    "#beforeCorrectedForms.head()\n",
    "#afterCorrectedForms.head()\n",
    "#undefCorrectedForms.head()\n",
    "#defCorrectedForms.head()\n",
    "#beforeAndAfterCorrectedForms.head()"
   ]
  },
  {
   "cell_type": "code",
   "execution_count": null,
   "metadata": {},
   "outputs": [],
   "source": [
    "# Remove ID feature\n",
    "allCorrectedForms = codedCorrectedData.copy().drop(\"anonymousID\", axis=1)\n",
    "beforeCorrectedForms.drop(\"anonymousID\", axis=1, inplace = True)\n",
    "afterCorrectedForms.drop(\"anonymousID\", axis=1, inplace = True)\n",
    "undefCorrectedForms.drop(\"anonymousID\", axis=1, inplace = True)\n",
    "defCorrectedForms.drop(\"anonymousID\", axis=1, inplace = True)\n",
    "beforeAndAfterCorrectedForms.drop(\"anonymousID\", axis=1, inplace = True)"
   ]
  },
  {
   "cell_type": "markdown",
   "metadata": {},
   "source": [
    "### For Classification"
   ]
  },
  {
   "cell_type": "code",
   "execution_count": null,
   "metadata": {},
   "outputs": [],
   "source": [
    "# Use defForms and defCorrectedForms for coded data"
   ]
  },
  {
   "cell_type": "markdown",
   "metadata": {},
   "source": [
    "## RedMetrics"
   ]
  },
  {
   "cell_type": "markdown",
   "metadata": {},
   "source": [
    "### For clustering"
   ]
  },
  {
   "cell_type": "code",
   "execution_count": null,
   "metadata": {},
   "outputs": [],
   "source": [
    "# Fetch RedMetrics data for subjects which answered the gform\n",
    "#allData = getAllUserVectorData(getAllResponders(), _source=[])\n",
    "allData = getAllUserVectorData( getAllResponders(sampledForm), _source = correctAnswers + demographicAnswers, _rmDF = rmdf )"
   ]
  },
  {
   "cell_type": "code",
   "execution_count": null,
   "metadata": {},
   "outputs": [],
   "source": [
    "# Put subjects as rows and features as columns\n",
    "allData = allData.transpose()\n",
    "allData.head()"
   ]
  },
  {
   "cell_type": "code",
   "execution_count": null,
   "metadata": {},
   "outputs": [],
   "source": [
    "# Drop useless columns in which all rows have the same value\n",
    "allData.drop([\"switch\", \"gotomooc\"], axis=1, inplace = True)\n",
    "# Fill NaN with negatives\n",
    "allData.fillna(-1, inplace = True)"
   ]
  },
  {
   "cell_type": "code",
   "execution_count": null,
   "metadata": {},
   "outputs": [],
   "source": [
    "# Get the subset of subjects who have answered before and after\n",
    "fullProcessData = allData[allData[\"scorepretest\"] >= 0]\n",
    "fullProcessData = fullProcessData[fullProcessData[\"scoreposttest\"] >= 0]\n",
    "#fullProcessData.loc[\"01e85778-2903-447b-bbab-dd750564ee2d\",:]"
   ]
  },
  {
   "cell_type": "markdown",
   "metadata": {},
   "source": [
    "#### Combined with questionnaire answers"
   ]
  },
  {
   "cell_type": "code",
   "execution_count": null,
   "metadata": {},
   "outputs": [],
   "source": [
    "#Get the subset of subjects who have answered the after questionnaire\n",
    "withAfterData = allData.copy()[allData[\"scoreposttest\"] >= 0]\n",
    "withAfterData['anonymousID'] = withAfterData.index\n",
    "withAfterData['anonymousID'] = withAfterData['anonymousID'].apply(lambda x: x.strip('\"'))\n",
    "# Join with questionnaire data with complete answers\n",
    "afterNotCorrected = codedData.copy().loc[codedData[\"temporality\"] == 1,:]\n",
    "gameAndAfterData = pd.merge(withAfterData, afterNotCorrected, on=\"anonymousID\")\n",
    "gameAndAfterData.drop(\"anonymousID\", axis=1, inplace = True)\n",
    "#Join with questionnaire data with corrected answers\n",
    "afterCorrected = codedCorrectedData.copy().loc[codedCorrectedData[\"temporality\"] == 1,:]\n",
    "gameAndCorrectedAfterData = pd.merge(withAfterData, afterCorrected, on=\"anonymousID\")\n",
    "gameAndCorrectedAfterData.drop(\"anonymousID\", axis=1, inplace = True)\n",
    "#gameAndAfterData.head()\n",
    "#gameAndCorrectedAfterData.head()"
   ]
  },
  {
   "cell_type": "markdown",
   "metadata": {},
   "source": [
    "### For classification"
   ]
  },
  {
   "cell_type": "code",
   "execution_count": null,
   "metadata": {},
   "outputs": [],
   "source": [
    "allDataClassif = allData.copy()\n",
    "allDataClassif['anonymousID'] = allData.index\n",
    "allDataClassif['anonymousID'] = allDataClassif['anonymousID'].apply(lambda x: x.strip('\"'))\n",
    "\n",
    "# If checkpoint not reached, set time to 3600 (1h)\n",
    "def floorCheckpoints(value):\n",
    "    if value > 3600:\n",
    "        return 3600\n",
    "    return value\n",
    "for col in allDataClassif.columns.values.tolist():\n",
    "    if isinstance(col, np.int64):\n",
    "        allDataClassif[col] = allDataClassif[col].apply(floorCheckpoints)\n",
    "allDataClassif[\"completionTime\"] = allDataClassif[\"completionTime\"].apply(lambda x: min(x, 7200))        \n",
    "\n",
    "# floor thoroughness\n",
    "allDataClassif[\"thoroughness\"]  = allDataClassif[\"thoroughness\"].apply(lambda x: min(x, 1000))"
   ]
  },
  {
   "cell_type": "markdown",
   "metadata": {},
   "source": [
    "#### Combined with questionnaire answers"
   ]
  },
  {
   "cell_type": "code",
   "execution_count": null,
   "metadata": {},
   "outputs": [],
   "source": [
    "#Join with questionnaire data with corrected answers\n",
    "gameAndCorrectedAfterDataClassif = pd.merge(withAfterData, afterCorrected, on=\"anonymousID\")\n",
    "gameAndCorrectedAfterDataClassif['anonymousID'] = gameAndCorrectedAfterDataClassif['anonymousID'].apply(lambda x: x.strip('\"'))\n",
    "gameAndCorrectedAfterDataClassif.drop([\"scorepretest\", \"temporality\"], axis=1, inplace = True)\n",
    "\n",
    "for col in gameAndCorrectedAfterDataClassif.columns.values.tolist():\n",
    "    if isinstance(col, np.int64):\n",
    "        gameAndCorrectedAfterDataClassif[col] = gameAndCorrectedAfterDataClassif[col].apply(floorCheckpoints)\n",
    "gameAndCorrectedAfterDataClassif[\"completionTime\"] = gameAndCorrectedAfterDataClassif[\"completionTime\"].apply(lambda x: min(x, 7200))\n",
    "\n",
    "# floor thoroughness\n",
    "gameAndCorrectedAfterDataClassif[\"thoroughness\"]  = gameAndCorrectedAfterDataClassif[\"thoroughness\"].apply(lambda x: min(x, 1000))"
   ]
  },
  {
   "cell_type": "code",
   "execution_count": null,
   "metadata": {},
   "outputs": [],
   "source": [
    "#Get the subset of subjects who have answered the before questionnaire\n",
    "withBeforeData = allData.copy()[allData[\"scorepretest\"] >= 0]\n",
    "withBeforeData['anonymousID'] = withBeforeData.index\n",
    "withBeforeData['anonymousID'] = withBeforeData['anonymousID'].apply(lambda x: x.strip('\"'))\n",
    "beforeCorrected = codedCorrectedData.copy().loc[codedCorrectedData[\"temporality\"] == 0,:]\n",
    "#Join with questionnaire data with corrected answers\n",
    "gameAndCorrectedBeforeDataClassif = pd.merge(withBeforeData, beforeCorrected, on=\"anonymousID\")\n",
    "gameAndCorrectedBeforeDataClassif['anonymousID'] = gameAndCorrectedBeforeDataClassif['anonymousID'].apply(lambda x: x.strip('\"'))\n",
    "gameAndCorrectedBeforeDataClassif.drop([\"scoreposttest\", \"temporality\"], axis=1, inplace = True)\n",
    "\n",
    "# If checkpoint not reached, set time to 3600 (1h)\n",
    "for col in gameAndCorrectedBeforeDataClassif.columns.values.tolist():\n",
    "    if isinstance(col, np.int64):\n",
    "        gameAndCorrectedBeforeDataClassif[col] = gameAndCorrectedBeforeDataClassif[col].apply(floorCheckpoints)\n",
    "gameAndCorrectedBeforeDataClassif[\"completionTime\"] = gameAndCorrectedBeforeDataClassif[\"completionTime\"].apply(lambda x: min(x, 7200))\n",
    "\n",
    "# floor thoroughness\n",
    "gameAndCorrectedBeforeDataClassif[\"thoroughness\"]  = gameAndCorrectedBeforeDataClassif[\"thoroughness\"].apply(lambda x: min(x, 1000))"
   ]
  },
  {
   "cell_type": "code",
   "execution_count": null,
   "metadata": {},
   "outputs": [],
   "source": []
  },
  {
   "cell_type": "code",
   "execution_count": null,
   "metadata": {},
   "outputs": [],
   "source": []
  },
  {
   "cell_type": "code",
   "execution_count": null,
   "metadata": {},
   "outputs": [],
   "source": []
  }
 ],
 "metadata": {
  "kernelspec": {
   "display_name": "Python 3",
   "language": "python",
   "name": "python3"
  },
  "language_info": {
   "codemirror_mode": {
    "name": "ipython",
    "version": 3
   },
   "file_extension": ".py",
   "mimetype": "text/x-python",
   "name": "python",
   "nbconvert_exporter": "python",
   "pygments_lexer": "ipython3",
   "version": "3.6.5"
  }
 },
 "nbformat": 4,
 "nbformat_minor": 2
}
