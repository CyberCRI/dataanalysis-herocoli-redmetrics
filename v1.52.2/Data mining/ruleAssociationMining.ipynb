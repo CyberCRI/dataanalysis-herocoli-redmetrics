{
 "cells": [
  {
   "cell_type": "code",
   "execution_count": 1,
   "metadata": {},
   "outputs": [
    {
     "name": "stdout",
     "output_type": "stream",
     "text": [
      "rmdfTestUsers read_csv success (1/3)\n",
      "rmdf1522 read_csv success (2/3)\n",
      "rmdf160 read_csv success (3/3)\n",
      "gform read_csv success\n",
      "gformFR read_csv success\n",
      "temporalities set (user answer method)\n"
     ]
    },
    {
     "data": {
      "application/vnd.jupyter.widget-view+json": {
       "model_id": "e46cd8e18ab64b6f95b785580a9f5edf",
       "version_major": 2,
       "version_minor": 0
      },
      "text/html": [
       "<p>Failed to display Jupyter Widget of type <code>IntProgress</code>.</p>\n",
       "<p>\n",
       "  If you're reading this message in the Jupyter Notebook or JupyterLab Notebook, it may mean\n",
       "  that the widgets JavaScript is still loading. If this message persists, it\n",
       "  likely means that the widgets JavaScript library is either not installed or\n",
       "  not enabled. See the <a href=\"https://ipywidgets.readthedocs.io/en/stable/user_install.html\">Jupyter\n",
       "  Widgets Documentation</a> for setup instructions.\n",
       "</p>\n",
       "<p>\n",
       "  If you're reading this message in another frontend (for example, a static\n",
       "  rendering on GitHub or <a href=\"https://nbviewer.jupyter.org/\">NBViewer</a>),\n",
       "  it may mean that your frontend doesn't currently support widgets.\n",
       "</p>\n"
      ],
      "text/plain": [
       "IntProgress(value=0, max=1708)"
      ]
     },
     "metadata": {},
     "output_type": "display_data"
    },
    {
     "data": {
      "application/vnd.jupyter.widget-view+json": {
       "model_id": "b989f33f99344733afc547414a3289f5",
       "version_major": 2,
       "version_minor": 0
      },
      "text/html": [
       "<p>Failed to display Jupyter Widget of type <code>IntProgress</code>.</p>\n",
       "<p>\n",
       "  If you're reading this message in the Jupyter Notebook or JupyterLab Notebook, it may mean\n",
       "  that the widgets JavaScript is still loading. If this message persists, it\n",
       "  likely means that the widgets JavaScript library is either not installed or\n",
       "  not enabled. See the <a href=\"https://ipywidgets.readthedocs.io/en/stable/user_install.html\">Jupyter\n",
       "  Widgets Documentation</a> for setup instructions.\n",
       "</p>\n",
       "<p>\n",
       "  If you're reading this message in another frontend (for example, a static\n",
       "  rendering on GitHub or <a href=\"https://nbviewer.jupyter.org/\">NBViewer</a>),\n",
       "  it may mean that your frontend doesn't currently support widgets.\n",
       "</p>\n"
      ],
      "text/plain": [
       "IntProgress(value=0, max=854)"
      ]
     },
     "metadata": {},
     "output_type": "display_data"
    },
    {
     "name": "stdout",
     "output_type": "stream",
     "text": [
      "profile info set\n"
     ]
    },
    {
     "data": {
      "application/vnd.jupyter.widget-view+json": {
       "model_id": "8af3ef4cb0824d18b67fbb3a5caba2ed",
       "version_major": 2,
       "version_minor": 0
      },
      "text/html": [
       "<p>Failed to display Jupyter Widget of type <code>FloatProgress</code>.</p>\n",
       "<p>\n",
       "  If you're reading this message in the Jupyter Notebook or JupyterLab Notebook, it may mean\n",
       "  that the widgets JavaScript is still loading. If this message persists, it\n",
       "  likely means that the widgets JavaScript library is either not installed or\n",
       "  not enabled. See the <a href=\"https://ipywidgets.readthedocs.io/en/stable/user_install.html\">Jupyter\n",
       "  Widgets Documentation</a> for setup instructions.\n",
       "</p>\n",
       "<p>\n",
       "  If you're reading this message in another frontend (for example, a static\n",
       "  rendering on GitHub or <a href=\"https://nbviewer.jupyter.org/\">NBViewer</a>),\n",
       "  it may mean that your frontend doesn't currently support widgets.\n",
       "</p>\n"
      ],
      "text/plain": [
       "FloatProgress(value=0.0, max=621.0)"
      ]
     },
     "metadata": {},
     "output_type": "display_data"
    },
    {
     "name": "stderr",
     "output_type": "stream",
     "text": [
      "dataFormating.ipynb:9: FutureWarning: using a dict on a Series for aggregation\n",
      "is deprecated and will be removed in a future version\n",
      "  \"outputs\": [\n"
     ]
    }
   ],
   "source": [
    "%run dataFormating.ipynb"
   ]
  },
  {
   "cell_type": "markdown",
   "metadata": {},
   "source": [
    "# What subsets of scientific questions tend to be answered correctly by the same subjects?"
   ]
  },
  {
   "cell_type": "markdown",
   "metadata": {},
   "source": [
    "## Mining"
   ]
  },
  {
   "cell_type": "code",
   "execution_count": 2,
   "metadata": {},
   "outputs": [],
   "source": [
    "from orangecontrib.associate.fpgrowth import *  \n",
    "import pandas as pd\n",
    "from numpy import *"
   ]
  },
  {
   "cell_type": "code",
   "execution_count": 3,
   "metadata": {},
   "outputs": [],
   "source": [
    "questions = correctedScientific.columns\n",
    "correctedScientificText = [[] for _ in range(correctedScientific.shape[0])]\n",
    "for q in questions:\n",
    "    for index in range(correctedScientific.shape[0]):\n",
    "        r = correctedScientific.index[index]\n",
    "        if correctedScientific.loc[r, q]:\n",
    "            correctedScientificText[index].append(q)\n",
    "#correctedScientificText"
   ]
  },
  {
   "cell_type": "code",
   "execution_count": 4,
   "metadata": {},
   "outputs": [
    {
     "data": {
      "text/plain": [
       "252"
      ]
     },
     "execution_count": 4,
     "metadata": {},
     "output_type": "execute_result"
    }
   ],
   "source": [
    "len(correctedScientificText)"
   ]
  },
  {
   "cell_type": "code",
   "execution_count": 5,
   "metadata": {},
   "outputs": [],
   "source": [
    "# Get frequent itemsets with support > 25%\n",
    "# run time < 1 min\n",
    "itemsets = frequent_itemsets(correctedScientificText, math.floor(len(correctedScientificText) * 0.25))\n",
    "#dict(itemsets)"
   ]
  },
  {
   "cell_type": "code",
   "execution_count": 6,
   "metadata": {},
   "outputs": [],
   "source": [
    "# Generate rules according to confidence, confidence > 85 %\n",
    "# run time < 5 min\n",
    "rules = association_rules(dict(itemsets), 0.85)\n",
    "#list(rules)"
   ]
  },
  {
   "cell_type": "code",
   "execution_count": 7,
   "metadata": {},
   "outputs": [
    {
     "data": {
      "text/html": [
       "<div>\n",
       "<style>\n",
       "    .dataframe thead tr:only-child th {\n",
       "        text-align: right;\n",
       "    }\n",
       "\n",
       "    .dataframe thead th {\n",
       "        text-align: left;\n",
       "    }\n",
       "\n",
       "    .dataframe tbody tr th {\n",
       "        vertical-align: top;\n",
       "    }\n",
       "</style>\n",
       "<table border=\"1\" class=\"dataframe\">\n",
       "  <thead>\n",
       "    <tr style=\"text-align: right;\">\n",
       "      <th></th>\n",
       "      <th>antecedants</th>\n",
       "      <th>consequents</th>\n",
       "      <th>support</th>\n",
       "      <th>confidence</th>\n",
       "    </tr>\n",
       "  </thead>\n",
       "  <tbody>\n",
       "    <tr>\n",
       "      <th>0</th>\n",
       "      <td>(QDeviceRbsPconsAmprTer)</td>\n",
       "      <td>(QDeviceRbsPconsFlhdcTer)</td>\n",
       "      <td>65</td>\n",
       "      <td>0.984848</td>\n",
       "    </tr>\n",
       "    <tr>\n",
       "      <th>1</th>\n",
       "      <td>(QUnequipDevice)</td>\n",
       "      <td>(QGenotypePhenotype)</td>\n",
       "      <td>66</td>\n",
       "      <td>0.868421</td>\n",
       "    </tr>\n",
       "    <tr>\n",
       "      <th>2</th>\n",
       "      <td>(QBioBricksDevicesComposition)</td>\n",
       "      <td>(QGenotypePhenotype)</td>\n",
       "      <td>69</td>\n",
       "      <td>0.907895</td>\n",
       "    </tr>\n",
       "    <tr>\n",
       "      <th>3</th>\n",
       "      <td>(QDeviceRbsPconsFlhdcTer)</td>\n",
       "      <td>(QGenotypePhenotype)</td>\n",
       "      <td>71</td>\n",
       "      <td>0.865854</td>\n",
       "    </tr>\n",
       "  </tbody>\n",
       "</table>\n",
       "</div>"
      ],
      "text/plain": [
       "                      antecedants                consequents  support  \\\n",
       "0        (QDeviceRbsPconsAmprTer)  (QDeviceRbsPconsFlhdcTer)       65   \n",
       "1                (QUnequipDevice)       (QGenotypePhenotype)       66   \n",
       "2  (QBioBricksDevicesComposition)       (QGenotypePhenotype)       69   \n",
       "3       (QDeviceRbsPconsFlhdcTer)       (QGenotypePhenotype)       71   \n",
       "\n",
       "   confidence  \n",
       "0    0.984848  \n",
       "1    0.868421  \n",
       "2    0.907895  \n",
       "3    0.865854  "
      ]
     },
     "execution_count": 7,
     "metadata": {},
     "output_type": "execute_result"
    }
   ],
   "source": [
    "# Transform rules generator into a Dataframe\n",
    "rulesDataframe = pd.DataFrame([(ant, cons, supp, conf) for ant, cons, supp, conf in rules])\n",
    "rulesDataframe.rename(columns = {0:\"antecedants\", 1:\"consequents\", 2:\"support\", 3:\"confidence\"}, inplace=True)\n",
    "rulesDataframe.head()"
   ]
  },
  {
   "cell_type": "code",
   "execution_count": 8,
   "metadata": {},
   "outputs": [],
   "source": [
    "# Save the mined rules to file\n",
    "rulesDataframe.to_csv(\"results/associationRulesMiningSupport25percentsConfidence85percents.csv\")"
   ]
  },
  {
   "cell_type": "markdown",
   "metadata": {
    "collapsed": true
   },
   "source": [
    "## Search for interesting rules\n",
    "Interesting rules are more likely to be the ones with highest confidence, the highest lift or with a bigger consequent set. Pairs can also be especially interesting"
   ]
  },
  {
   "cell_type": "code",
   "execution_count": 9,
   "metadata": {},
   "outputs": [
    {
     "data": {
      "text/html": [
       "<div>\n",
       "<style>\n",
       "    .dataframe thead tr:only-child th {\n",
       "        text-align: right;\n",
       "    }\n",
       "\n",
       "    .dataframe thead th {\n",
       "        text-align: left;\n",
       "    }\n",
       "\n",
       "    .dataframe tbody tr th {\n",
       "        vertical-align: top;\n",
       "    }\n",
       "</style>\n",
       "<table border=\"1\" class=\"dataframe\">\n",
       "  <thead>\n",
       "    <tr style=\"text-align: right;\">\n",
       "      <th></th>\n",
       "      <th>antecedants</th>\n",
       "      <th>consequents</th>\n",
       "      <th>support</th>\n",
       "      <th>confidence</th>\n",
       "    </tr>\n",
       "  </thead>\n",
       "  <tbody>\n",
       "    <tr>\n",
       "      <th>0</th>\n",
       "      <td>(QDeviceRbsPconsAmprTer)</td>\n",
       "      <td>(QDeviceRbsPconsFlhdcTer)</td>\n",
       "      <td>65</td>\n",
       "      <td>0.984848</td>\n",
       "    </tr>\n",
       "    <tr>\n",
       "      <th>2</th>\n",
       "      <td>(QBioBricksDevicesComposition)</td>\n",
       "      <td>(QGenotypePhenotype)</td>\n",
       "      <td>69</td>\n",
       "      <td>0.907895</td>\n",
       "    </tr>\n",
       "    <tr>\n",
       "      <th>1</th>\n",
       "      <td>(QUnequipDevice)</td>\n",
       "      <td>(QGenotypePhenotype)</td>\n",
       "      <td>66</td>\n",
       "      <td>0.868421</td>\n",
       "    </tr>\n",
       "    <tr>\n",
       "      <th>3</th>\n",
       "      <td>(QDeviceRbsPconsFlhdcTer)</td>\n",
       "      <td>(QGenotypePhenotype)</td>\n",
       "      <td>71</td>\n",
       "      <td>0.865854</td>\n",
       "    </tr>\n",
       "  </tbody>\n",
       "</table>\n",
       "</div>"
      ],
      "text/plain": [
       "                      antecedants                consequents  support  \\\n",
       "0        (QDeviceRbsPconsAmprTer)  (QDeviceRbsPconsFlhdcTer)       65   \n",
       "2  (QBioBricksDevicesComposition)       (QGenotypePhenotype)       69   \n",
       "1                (QUnequipDevice)       (QGenotypePhenotype)       66   \n",
       "3       (QDeviceRbsPconsFlhdcTer)       (QGenotypePhenotype)       71   \n",
       "\n",
       "   confidence  \n",
       "0    0.984848  \n",
       "2    0.907895  \n",
       "1    0.868421  \n",
       "3    0.865854  "
      ]
     },
     "execution_count": 9,
     "metadata": {},
     "output_type": "execute_result"
    }
   ],
   "source": [
    "# Sort rules by confidence\n",
    "confidenceSortedRules = rulesDataframe.sort_values(by = [\"confidence\", \"support\"], ascending=[False, False])\n",
    "confidenceSortedRules.head(50)"
   ]
  },
  {
   "cell_type": "code",
   "execution_count": 10,
   "metadata": {},
   "outputs": [
    {
     "data": {
      "text/html": [
       "<div>\n",
       "<style>\n",
       "    .dataframe thead tr:only-child th {\n",
       "        text-align: right;\n",
       "    }\n",
       "\n",
       "    .dataframe thead th {\n",
       "        text-align: left;\n",
       "    }\n",
       "\n",
       "    .dataframe tbody tr th {\n",
       "        vertical-align: top;\n",
       "    }\n",
       "</style>\n",
       "<table border=\"1\" class=\"dataframe\">\n",
       "  <thead>\n",
       "    <tr style=\"text-align: right;\">\n",
       "      <th></th>\n",
       "      <th>antecedants</th>\n",
       "      <th>consequents</th>\n",
       "      <th>support</th>\n",
       "      <th>confidence</th>\n",
       "      <th>consequentSize</th>\n",
       "    </tr>\n",
       "  </thead>\n",
       "  <tbody>\n",
       "    <tr>\n",
       "      <th>0</th>\n",
       "      <td>(QDeviceRbsPconsAmprTer)</td>\n",
       "      <td>(QDeviceRbsPconsFlhdcTer)</td>\n",
       "      <td>65</td>\n",
       "      <td>0.984848</td>\n",
       "      <td>1</td>\n",
       "    </tr>\n",
       "    <tr>\n",
       "      <th>2</th>\n",
       "      <td>(QBioBricksDevicesComposition)</td>\n",
       "      <td>(QGenotypePhenotype)</td>\n",
       "      <td>69</td>\n",
       "      <td>0.907895</td>\n",
       "      <td>1</td>\n",
       "    </tr>\n",
       "    <tr>\n",
       "      <th>1</th>\n",
       "      <td>(QUnequipDevice)</td>\n",
       "      <td>(QGenotypePhenotype)</td>\n",
       "      <td>66</td>\n",
       "      <td>0.868421</td>\n",
       "      <td>1</td>\n",
       "    </tr>\n",
       "    <tr>\n",
       "      <th>3</th>\n",
       "      <td>(QDeviceRbsPconsFlhdcTer)</td>\n",
       "      <td>(QGenotypePhenotype)</td>\n",
       "      <td>71</td>\n",
       "      <td>0.865854</td>\n",
       "      <td>1</td>\n",
       "    </tr>\n",
       "  </tbody>\n",
       "</table>\n",
       "</div>"
      ],
      "text/plain": [
       "                      antecedants                consequents  support  \\\n",
       "0        (QDeviceRbsPconsAmprTer)  (QDeviceRbsPconsFlhdcTer)       65   \n",
       "2  (QBioBricksDevicesComposition)       (QGenotypePhenotype)       69   \n",
       "1                (QUnequipDevice)       (QGenotypePhenotype)       66   \n",
       "3       (QDeviceRbsPconsFlhdcTer)       (QGenotypePhenotype)       71   \n",
       "\n",
       "   confidence  consequentSize  \n",
       "0    0.984848               1  \n",
       "2    0.907895               1  \n",
       "1    0.868421               1  \n",
       "3    0.865854               1  "
      ]
     },
     "execution_count": 10,
     "metadata": {},
     "output_type": "execute_result"
    }
   ],
   "source": [
    "# Sort rules by size of consequent set\n",
    "rulesDataframe[\"consequentSize\"] = rulesDataframe[\"consequents\"].apply(lambda x: len(x))\n",
    "consequentSortedRules = rulesDataframe.sort_values(by = [\"consequentSize\", \"confidence\", \"support\"], ascending=[False, False, False])\n",
    "consequentSortedRules.head(50)"
   ]
  },
  {
   "cell_type": "code",
   "execution_count": 11,
   "metadata": {},
   "outputs": [
    {
     "data": {
      "text/html": [
       "<div>\n",
       "<style>\n",
       "    .dataframe thead tr:only-child th {\n",
       "        text-align: right;\n",
       "    }\n",
       "\n",
       "    .dataframe thead th {\n",
       "        text-align: left;\n",
       "    }\n",
       "\n",
       "    .dataframe tbody tr th {\n",
       "        vertical-align: top;\n",
       "    }\n",
       "</style>\n",
       "<table border=\"1\" class=\"dataframe\">\n",
       "  <thead>\n",
       "    <tr style=\"text-align: right;\">\n",
       "      <th></th>\n",
       "      <th>antecedants</th>\n",
       "      <th>consequents</th>\n",
       "      <th>support</th>\n",
       "      <th>confidence</th>\n",
       "      <th>consequentSize</th>\n",
       "      <th>fusedRule</th>\n",
       "      <th>ruleSize</th>\n",
       "    </tr>\n",
       "  </thead>\n",
       "  <tbody>\n",
       "    <tr>\n",
       "      <th>0</th>\n",
       "      <td>(QDeviceRbsPconsAmprTer)</td>\n",
       "      <td>(QDeviceRbsPconsFlhdcTer)</td>\n",
       "      <td>65</td>\n",
       "      <td>0.984848</td>\n",
       "      <td>1</td>\n",
       "      <td>(QDeviceRbsPconsFlhdcTer, QDeviceRbsPconsAmprTer)</td>\n",
       "      <td>2</td>\n",
       "    </tr>\n",
       "    <tr>\n",
       "      <th>2</th>\n",
       "      <td>(QBioBricksDevicesComposition)</td>\n",
       "      <td>(QGenotypePhenotype)</td>\n",
       "      <td>69</td>\n",
       "      <td>0.907895</td>\n",
       "      <td>1</td>\n",
       "      <td>(QGenotypePhenotype, QBioBricksDevicesComposit...</td>\n",
       "      <td>2</td>\n",
       "    </tr>\n",
       "    <tr>\n",
       "      <th>1</th>\n",
       "      <td>(QUnequipDevice)</td>\n",
       "      <td>(QGenotypePhenotype)</td>\n",
       "      <td>66</td>\n",
       "      <td>0.868421</td>\n",
       "      <td>1</td>\n",
       "      <td>(QUnequipDevice, QGenotypePhenotype)</td>\n",
       "      <td>2</td>\n",
       "    </tr>\n",
       "    <tr>\n",
       "      <th>3</th>\n",
       "      <td>(QDeviceRbsPconsFlhdcTer)</td>\n",
       "      <td>(QGenotypePhenotype)</td>\n",
       "      <td>71</td>\n",
       "      <td>0.865854</td>\n",
       "      <td>1</td>\n",
       "      <td>(QDeviceRbsPconsFlhdcTer, QGenotypePhenotype)</td>\n",
       "      <td>2</td>\n",
       "    </tr>\n",
       "  </tbody>\n",
       "</table>\n",
       "</div>"
      ],
      "text/plain": [
       "                      antecedants                consequents  support  \\\n",
       "0        (QDeviceRbsPconsAmprTer)  (QDeviceRbsPconsFlhdcTer)       65   \n",
       "2  (QBioBricksDevicesComposition)       (QGenotypePhenotype)       69   \n",
       "1                (QUnequipDevice)       (QGenotypePhenotype)       66   \n",
       "3       (QDeviceRbsPconsFlhdcTer)       (QGenotypePhenotype)       71   \n",
       "\n",
       "   confidence  consequentSize  \\\n",
       "0    0.984848               1   \n",
       "2    0.907895               1   \n",
       "1    0.868421               1   \n",
       "3    0.865854               1   \n",
       "\n",
       "                                           fusedRule  ruleSize  \n",
       "0  (QDeviceRbsPconsFlhdcTer, QDeviceRbsPconsAmprTer)         2  \n",
       "2  (QGenotypePhenotype, QBioBricksDevicesComposit...         2  \n",
       "1               (QUnequipDevice, QGenotypePhenotype)         2  \n",
       "3      (QDeviceRbsPconsFlhdcTer, QGenotypePhenotype)         2  "
      ]
     },
     "execution_count": 11,
     "metadata": {},
     "output_type": "execute_result"
    }
   ],
   "source": [
    "# Select only pairs (rules with antecedent and consequent of size one)\n",
    "# Sort pairs according to confidence\n",
    "rulesDataframe[\"fusedRule\"] = rulesDataframe[[\"antecedants\", \"consequents\"]].apply(lambda x: frozenset().union(*x), axis=1)\n",
    "rulesDataframe[\"ruleSize\"] = rulesDataframe[\"fusedRule\"].apply(lambda x: len(x))\n",
    "pairRules = rulesDataframe.sort_values(by=[\"ruleSize\", \"confidence\", \"support\"], ascending=[True, False, False])\n",
    "pairRules.head(30)"
   ]
  },
  {
   "cell_type": "code",
   "execution_count": 12,
   "metadata": {},
   "outputs": [
    {
     "data": {
      "text/plain": [
       "Index(['QGenotypePhenotype', 'QBioBricksDevicesComposition', 'QAmpicillin',\n",
       "       'QBBNamePlasmid', 'QBBFunctionTER', 'QBBNamePromoter',\n",
       "       'QBBFunctionGameCDS', 'QBBNameTerminator', 'QBBFunctionBiologyCDS',\n",
       "       'QBBNameRBS', 'QBBExampleCDS', 'QBBNameCDS', 'QBBFunctionPR',\n",
       "       'QBBFunctionRBS', 'QBBFunctionPlasmid', 'QBBNameOperator',\n",
       "       'QDeviceRbsPconsFlhdcTer', 'QDevicePconsRbsFlhdcTer',\n",
       "       'QDevicePbadRbsGfpTer', 'QDevicePbadGfpTbsTer', 'QDeviceGfpRbsPconsTer',\n",
       "       'QDevicePconsGfpRbsTer', 'QDeviceAmprRbsPconsTer',\n",
       "       'QDeviceRbsPconsAmprTer', 'QGreenFluorescence', 'QUnequipDevice',\n",
       "       'QDevicePbadRbsAraTer'],\n",
       "      dtype='object')"
      ]
     },
     "execution_count": 12,
     "metadata": {},
     "output_type": "execute_result"
    }
   ],
   "source": [
    "correctedScientific.columns"
   ]
  },
  {
   "cell_type": "code",
   "execution_count": 13,
   "metadata": {
    "scrolled": false
   },
   "outputs": [
    {
     "data": {
      "text/plain": [
       "QGenotypePhenotypec              3\n",
       "QDeviceRbsPconsFlhdcTerc         1\n",
       "QBBFunctionPRc                   0\n",
       "QBioBricksDevicesCompositionc    0\n",
       "QAmpicillinc                     0\n",
       "QBBNamePlasmidc                  0\n",
       "QBBFunctionTERc                  0\n",
       "QBBNamePromoterc                 0\n",
       "QBBFunctionGameCDSc              0\n",
       "QBBNameTerminatorc               0\n",
       "QBBFunctionBiologyCDSc           0\n",
       "QBBNameRBSc                      0\n",
       "QBBExampleCDSc                   0\n",
       "QBBNameCDSc                      0\n",
       "QDevicePbadRbsAraTerc            0\n",
       "QUnequipDevicec                  0\n",
       "QBBFunctionPlasmidc              0\n",
       "QBBNameOperatorc                 0\n",
       "QDevicePconsRbsFlhdcTerc         0\n",
       "QDevicePbadRbsGfpTerc            0\n",
       "QDevicePbadGfpTbsTerc            0\n",
       "QDeviceGfpRbsPconsTerc           0\n",
       "QDevicePconsGfpRbsTerc           0\n",
       "QDeviceAmprRbsPconsTerc          0\n",
       "QDeviceRbsPconsAmprTerc          0\n",
       "QGreenFluorescencec              0\n",
       "QBBFunctionRBSc                  0\n",
       "dtype: int64"
      ]
     },
     "execution_count": 13,
     "metadata": {},
     "output_type": "execute_result"
    }
   ],
   "source": [
    "# Sort questions by number of apparition in consequents\n",
    "for q in scientificQuestions:\n",
    "    rulesDataframe[q+\"c\"] = rulesDataframe[\"consequents\"].apply(lambda x: 1 if q in x else 0)\n",
    "occurenceInConsequents = rulesDataframe.loc[:,scientificQuestions[0]+\"c\":scientificQuestions[-1]+\"c\"].sum(axis=0)\n",
    "\n",
    "occurenceInConsequents.sort_values(inplace=True, ascending=False)\n",
    "occurenceInConsequents"
   ]
  },
  {
   "cell_type": "code",
   "execution_count": 14,
   "metadata": {
    "scrolled": false
   },
   "outputs": [
    {
     "data": {
      "text/plain": [
       "QBioBricksDevicesCompositiona    1\n",
       "QDeviceRbsPconsAmprTera          1\n",
       "QDeviceRbsPconsFlhdcTera         1\n",
       "QUnequipDevicea                  1\n",
       "QDevicePbadRbsAraTera            0\n",
       "QBBNameCDSa                      0\n",
       "QAmpicillina                     0\n",
       "QBBNamePlasmida                  0\n",
       "QBBFunctionTERa                  0\n",
       "QBBNamePromotera                 0\n",
       "QBBFunctionGameCDSa              0\n",
       "QBBNameTerminatora               0\n",
       "QBBFunctionBiologyCDSa           0\n",
       "QBBNameRBSa                      0\n",
       "QBBExampleCDSa                   0\n",
       "QBBFunctionRBSa                  0\n",
       "QBBFunctionPRa                   0\n",
       "QBBFunctionPlasmida              0\n",
       "QBBNameOperatora                 0\n",
       "QDevicePconsRbsFlhdcTera         0\n",
       "QDevicePbadRbsGfpTera            0\n",
       "QDevicePbadGfpTbsTera            0\n",
       "QDeviceGfpRbsPconsTera           0\n",
       "QDevicePconsGfpRbsTera           0\n",
       "QDeviceAmprRbsPconsTera          0\n",
       "QGreenFluorescencea              0\n",
       "QGenotypePhenotypea              0\n",
       "dtype: int64"
      ]
     },
     "execution_count": 14,
     "metadata": {},
     "output_type": "execute_result"
    }
   ],
   "source": [
    "# Sort questions by number of apparition in antecedants\n",
    "for q in scientificQuestions:\n",
    "    rulesDataframe[q+\"a\"] = rulesDataframe[\"antecedants\"].apply(lambda x: 1 if q in x else 0)\n",
    "occurenceInAntecedants = rulesDataframe.loc[:,scientificQuestions[0]+\"a\":scientificQuestions[-1]+\"a\"].sum(axis=0)\n",
    "occurenceInAntecedants.sort_values(inplace=True, ascending=False)\n",
    "occurenceInAntecedants"
   ]
  },
  {
   "cell_type": "code",
   "execution_count": null,
   "metadata": {},
   "outputs": [],
   "source": []
  },
  {
   "cell_type": "code",
   "execution_count": null,
   "metadata": {},
   "outputs": [],
   "source": []
  }
 ],
 "metadata": {
  "kernelspec": {
   "display_name": "Python [conda env:python3]",
   "language": "python",
   "name": "conda-env-python3-py"
  },
  "language_info": {
   "codemirror_mode": {
    "name": "ipython",
    "version": 3
   },
   "file_extension": ".py",
   "mimetype": "text/x-python",
   "name": "python",
   "nbconvert_exporter": "python",
   "pygments_lexer": "ipython3",
   "version": "3.5.4"
  }
 },
 "nbformat": 4,
 "nbformat_minor": 2
}
