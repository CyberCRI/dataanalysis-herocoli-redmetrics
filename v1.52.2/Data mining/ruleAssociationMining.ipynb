{
 "cells": [
  {
   "cell_type": "code",
   "execution_count": null,
   "metadata": {},
   "outputs": [],
   "source": [
    "%run dataFormating.ipynb"
   ]
  },
  {
   "cell_type": "markdown",
   "metadata": {},
   "source": [
    "# What subsets of scientific questions tend to be answered correctly by the same subjects?"
   ]
  },
  {
   "cell_type": "markdown",
   "metadata": {},
   "source": [
    "## Mining"
   ]
  },
  {
   "cell_type": "code",
   "execution_count": null,
   "metadata": {},
   "outputs": [],
   "source": [
    "from orangecontrib.associate.fpgrowth import *  \n",
    "import pandas as pd\n",
    "from numpy import *"
   ]
  },
  {
   "cell_type": "code",
   "execution_count": null,
   "metadata": {},
   "outputs": [],
   "source": [
    "questions = correctedScientific.columns\n",
    "correctedScientificText = [[] for _ in range(correctedScientific.shape[0])]\n",
    "for q in questions:\n",
    "    for r in range(correctedScientific.shape[0]):\n",
    "        if correctedScientific.loc[r, q]:\n",
    "            correctedScientificText[r].append(q)\n",
    "#correctedScientificText"
   ]
  },
  {
   "cell_type": "code",
   "execution_count": null,
   "metadata": {},
   "outputs": [],
   "source": [
    "# Get frequent itemsets with support > 25%\n",
    "# run time < 1 min\n",
    "itemsets = frequent_itemsets(correctedScientificText, math.floor(len(correctedScientificText) * 0.25))\n",
    "#dict(itemsets)"
   ]
  },
  {
   "cell_type": "code",
   "execution_count": null,
   "metadata": {},
   "outputs": [],
   "source": [
    "# Generate rules according to confidence, confidence > 85 %\n",
    "# run time < 5 min\n",
    "rules = association_rules(dict(itemsets), 0.85)\n",
    "#list(rules)"
   ]
  },
  {
   "cell_type": "code",
   "execution_count": null,
   "metadata": {},
   "outputs": [],
   "source": [
    "# Transform rules generator into a Dataframe\n",
    "rulesDataframe = pd.DataFrame([(ant, cons, supp, conf) for ant, cons, supp, conf in rules])\n",
    "rulesDataframe.rename(columns = {0:\"antecedants\", 1:\"consequents\", 2:\"support\", 3:\"confidence\"}, inplace=True)\n",
    "rulesDataframe.head()"
   ]
  },
  {
   "cell_type": "code",
   "execution_count": null,
   "metadata": {},
   "outputs": [],
   "source": [
    "# Save the mined rules to file\n",
    "rulesDataframe.to_csv(\"results/associationRulesMiningSupport25percentsConfidence85percents.csv\")"
   ]
  },
  {
   "cell_type": "markdown",
   "metadata": {
    "collapsed": true
   },
   "source": [
    "## Search for interesting rules\n",
    "Interesting rules are more likely to be the ones with highest confidence, the highest lift or with a bigger consequent set. Pairs can also be especially interesting"
   ]
  },
  {
   "cell_type": "code",
   "execution_count": null,
   "metadata": {},
   "outputs": [],
   "source": [
    "# Sort rules by confidence\n",
    "confidenceSortedRules = rulesDataframe.sort_values(by = [\"confidence\", \"support\"], ascending=[False, False])\n",
    "confidenceSortedRules.head(50)"
   ]
  },
  {
   "cell_type": "code",
   "execution_count": null,
   "metadata": {},
   "outputs": [],
   "source": [
    "# Sort rules by size of consequent set\n",
    "rulesDataframe[\"consequentSize\"] = rulesDataframe[\"consequents\"].apply(lambda x: len(x))\n",
    "consequentSortedRules = rulesDataframe.sort_values(by = [\"consequentSize\", \"confidence\", \"support\"], ascending=[False, False, False])\n",
    "consequentSortedRules.head(50)"
   ]
  },
  {
   "cell_type": "code",
   "execution_count": null,
   "metadata": {},
   "outputs": [],
   "source": [
    "# Select only pairs (rules with antecedent and consequent of size one)\n",
    "# Sort pairs according to confidence\n",
    "rulesDataframe[\"fusedRule\"] = rulesDataframe[[\"antecedants\", \"consequents\"]].apply(lambda x: frozenset().union(*x), axis=1)\n",
    "rulesDataframe[\"ruleSize\"] = rulesDataframe[\"fusedRule\"].apply(lambda x: len(x))\n",
    "pairRules = rulesDataframe.sort_values(by=[\"ruleSize\", \"confidence\", \"support\"], ascending=[True, False, False])\n",
    "pairRules.head(30)"
   ]
  },
  {
   "cell_type": "code",
   "execution_count": null,
   "metadata": {},
   "outputs": [],
   "source": [
    "# Sort questions by number of apparition in consequents\n",
    "questions = list(correctedScientific.columns)\n",
    "for q in questions:\n",
    "    rulesDataframe[q+\"c\"] = rulesDataframe[\"consequents\"].apply(lambda x: 1 if q in x else 0)\n",
    "occurenceInConsequents = rulesDataframe.loc[:,\"Q1c\":\"Q27c\"].sum(axis=0)\n",
    "occurenceInConsequents.sort_values(inplace=True, ascending=False)\n",
    "occurenceInConsequents"
   ]
  },
  {
   "cell_type": "code",
   "execution_count": null,
   "metadata": {},
   "outputs": [],
   "source": [
    "# Sort questions by number of apparition in antecedants\n",
    "for q in questions:\n",
    "    rulesDataframe[q+\"a\"] = rulesDataframe[\"antecedants\"].apply(lambda x: 1 if q in x else 0)\n",
    "occurenceInAntecedants = rulesDataframe.loc[:,\"Q1a\":\"Q27a\"].sum(axis=0)\n",
    "occurenceInAntecedants.sort_values(inplace=True, ascending=False)\n",
    "occurenceInAntecedants"
   ]
  },
  {
   "cell_type": "code",
   "execution_count": null,
   "metadata": {},
   "outputs": [],
   "source": []
  },
  {
   "cell_type": "code",
   "execution_count": null,
   "metadata": {},
   "outputs": [],
   "source": []
  }
 ],
 "metadata": {
  "kernelspec": {
   "display_name": "Python [conda env:python3]",
   "language": "python",
   "name": "conda-env-python3-py"
  },
  "language_info": {
   "codemirror_mode": {
    "name": "ipython",
    "version": 3
   },
   "file_extension": ".py",
   "mimetype": "text/x-python",
   "name": "python",
   "nbconvert_exporter": "python",
   "pygments_lexer": "ipython3",
   "version": "3.5.4"
  }
 },
 "nbformat": 4,
 "nbformat_minor": 2
}
