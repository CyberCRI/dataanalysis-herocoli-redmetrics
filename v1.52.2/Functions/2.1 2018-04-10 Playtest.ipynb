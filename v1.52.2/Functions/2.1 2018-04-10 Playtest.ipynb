{
 "cells": [
  {
   "cell_type": "markdown",
   "metadata": {},
   "source": [
    "# Preparation\n",
    "<a id=preparation />"
   ]
  },
  {
   "cell_type": "code",
   "execution_count": null,
   "metadata": {
    "scrolled": true
   },
   "outputs": [],
   "source": [
    "%run \"../Functions/2. Google form analysis.ipynb\""
   ]
  },
  {
   "cell_type": "markdown",
   "metadata": {},
   "source": [
    "[Samples](#Samples)"
   ]
  },
  {
   "cell_type": "markdown",
   "metadata": {},
   "source": [
    "# April 2018 Playtest"
   ]
  },
  {
   "cell_type": "code",
   "execution_count": null,
   "metadata": {
    "scrolled": true
   },
   "outputs": [],
   "source": [
    "#rmdf1522.columns\n",
    "#'coordinates', 'customData', 'customData.biobrick', 'customData.chapter', 'customData.controls', 'customData.count', 'customData.device', 'customData.devices', 'customData.dnabit', 'customData.duration', 'customData.energy', 'customData.graphics', 'customData.language', 'customData.life', 'userId', 'customData.message', 'customData.nanobot', 'customData.newtab', 'customData.option', 'customData.plasmid', 'customData.platform', 'customData.sametab', 'customData.slot', 'customData.sound', 'customData.source', 'customData.total', 'id', 'playerCustomData', 'sessionId', 'section', 'serverTime', 'type', 'userTime'"
   ]
  },
  {
   "cell_type": "code",
   "execution_count": null,
   "metadata": {},
   "outputs": [],
   "source": [
    "#testUserId1 = 'f4589007-0809-4673-ad50-d985abe4fa65'\n",
    "#testUserId2 = '653f174e-c23f-4d3a-94f6-d26b53ac7168'\n",
    "#gform[gform[QUserId] == testUserId2]\n",
    "#testUserId2 in testUsers"
   ]
  },
  {
   "cell_type": "code",
   "execution_count": null,
   "metadata": {},
   "outputs": [],
   "source": [
    "displayResults = False"
   ]
  },
  {
   "cell_type": "markdown",
   "metadata": {},
   "source": [
    "## labels"
   ]
  },
  {
   "cell_type": "code",
   "execution_count": null,
   "metadata": {},
   "outputs": [],
   "source": [
    "# rows\n",
    "phase1Label = 'phase1'\n",
    "phase2Label = 'phase2'\n",
    "totalLabel = 'total'\n",
    "\n",
    "# columns\n",
    "playersCountLabel = 'players'\n",
    "respondentsCountLabel = 'respondents'\n",
    "respondentsExploitableCountLabel = 'exploitable respondents'\n",
    "respondentsTwiceCountLabel = 'twice respondents'\n",
    "respondentsTwiceVolunteersCountLabel = 'volunteers'\n",
    "prefixFemale = 'f '\n",
    "prefixMale = 'm '\n",
    "\n",
    "\n",
    "playtestStatistics = pd.DataFrame(\n",
    "    data = np.nan,\n",
    "    index = [phase1Label, phase2Label, totalLabel],\n",
    "    columns = [playersCountLabel]\n",
    ")"
   ]
  },
  {
   "cell_type": "markdown",
   "metadata": {},
   "source": [
    "## functions"
   ]
  },
  {
   "cell_type": "code",
   "execution_count": null,
   "metadata": {},
   "outputs": [],
   "source": [
    "def getFormattedPercentageAndAbsoluteValueFunction(total):\n",
    "    return lambda p: '{:1.1f}%'.format(p) + ' ({:.0f})'.format(round(p * total / 100))"
   ]
  },
  {
   "cell_type": "code",
   "execution_count": null,
   "metadata": {},
   "outputs": [],
   "source": [
    "# problem: counts UserIds, but there can be more than one subject per UserId\n",
    "def setCount(sample, rowLabel, columnLabel, useProfiles=True):\n",
    "    if useProfiles:\n",
    "        playtestStatistics.loc[rowLabel, columnLabel] = len(getUniqueProfiles(sample))\n",
    "    else:\n",
    "        playtestStatistics.loc[rowLabel, columnLabel] = len(sample[QUserId].unique())\n",
    "    return playtestStatistics.loc[rowLabel, columnLabel]\n",
    "\n",
    "def setGenderedCount(sampledGform, rowLabel, columnLabel, plotPie = False, title = ''):\n",
    "    femaleSample = sampledGform[sampledGform[QGender] == \"Female\"]\n",
    "    maleSample = sampledGform[sampledGform[QGender] == \"Male\"]\n",
    "\n",
    "    tCount = setCount(sampledGform, rowLabel, columnLabel)\n",
    "    fCount = setCount(femaleSample, rowLabel, prefixFemale + columnLabel)\n",
    "    mCount = setCount(maleSample, rowLabel, prefixMale + columnLabel)\n",
    "    oCount = tCount-fCount-mCount\n",
    "    \n",
    "    if plotPie:\n",
    "        plt.pie([fCount, mCount, oCount], labels=['Female', 'Male', 'Other/Unspecified/Unknown'],\\\n",
    "                autopct=getFormattedPercentageAndAbsoluteValueFunction(tCount),\\\n",
    "                shadow=True)\n",
    "        plt.title(title)\n",
    "        plt.show()"
   ]
  },
  {
   "cell_type": "code",
   "execution_count": null,
   "metadata": {},
   "outputs": [],
   "source": [
    "def getUniqueProfiles(sampleForm):\n",
    "    playtestProfiles = sampleForm.loc[:,[QUserId, QAge, QGender]]\n",
    "    playtestProfiles.drop_duplicates(subset=[QUserId, QAge, QGender], keep='first', inplace=True)\n",
    "    return playtestProfiles"
   ]
  },
  {
   "cell_type": "code",
   "execution_count": null,
   "metadata": {},
   "outputs": [],
   "source": [
    "# samples using UserIds associated with unique profiles\n",
    "def getUserIdsWithUniqueProfile(sampleForm):\n",
    "    multipleProfiles = sampleForm.loc[:, [QUserId, QAge, QGender]].drop_duplicates()[QUserId].value_counts()\n",
    "    multipleProfiles = multipleProfiles[multipleProfiles != 1]    \n",
    "    return sampleForm[~sampleForm[QUserId].isin(multipleProfiles.index)]"
   ]
  },
  {
   "cell_type": "code",
   "execution_count": null,
   "metadata": {},
   "outputs": [],
   "source": [
    "#multipleProfiles = samplePlaytest.loc[:, [QUserId, QAge, QGender]].drop_duplicates()[QUserId].value_counts()\n",
    "#multipleProfiles = multipleProfiles[multipleProfiles != 1]\n",
    "#for userId in multipleProfiles.index:\n",
    "#    print(str(samplePlaytest[samplePlaytest[QUserId] == userId].loc[:, [QUserId, QAge, QGender]]))"
   ]
  },
  {
   "cell_type": "code",
   "execution_count": null,
   "metadata": {},
   "outputs": [],
   "source": [
    "def getTicksByStep(minValue, maxValue, step):\n",
    "    start = minValue + step - (minValue % step)\n",
    "    end = maxValue - (maxValue % step) + step\n",
    "\n",
    "    ticks = [x for x in range(start, end, step)]\n",
    "    ticks = np.append([minValue], ticks)\n",
    "    ticks = np.append(ticks, [maxValue])\n",
    "\n",
    "    return ticks"
   ]
  },
  {
   "cell_type": "code",
   "execution_count": null,
   "metadata": {},
   "outputs": [],
   "source": [
    "def getTicks(minValue, maxValue, step = 0, labelCount = 0):\n",
    "    if step == 0 and labelCount != 0:\n",
    "        step = int((maxValue - minValue + 1) / labelCount)\n",
    "    return getTicksByStep(minValue, maxValue, step)"
   ]
  },
  {
   "cell_type": "code",
   "execution_count": null,
   "metadata": {},
   "outputs": [],
   "source": [
    "def plotAge(sampleForm, title = 'Âge des participants', xlabel = 'Âge', ylabel = 'Nombre'):\n",
    "    playtestProfiles = getUniqueProfiles(sampleForm)\n",
    "\n",
    "    ages = playtestProfiles[QAge].value_counts().sort_index()\n",
    "    minAge = ages.index.min()\n",
    "    maxAge = ages.index.max()\n",
    "    ages = pd.Series(ages, index=range(minAge, maxAge+1)).fillna(0)\n",
    "    \n",
    "    yticks = getTicks(int(ages.min()), int(ages.max()), labelCount = 5)\n",
    "    ax = ages.plot(kind='bar', yticks=yticks)\n",
    "    \n",
    "    #ax = ages.plot(kind='bar')\n",
    "    plt.xlabel(xlabel)\n",
    "    plt.ylabel(ylabel)\n",
    "    \n",
    "    # xticks like yticks doesn't work\n",
    "    # workaround\n",
    "    xticks = getTicks(minAge, maxAge, step = 5)\n",
    "    newTicks = xticks - minAge\n",
    "    newLabels = xticks\n",
    "    ax.xaxis.set_ticks(newTicks)\n",
    "    ax.xaxis.set_ticklabels(newLabels)\n",
    "    \n",
    "    plt.title(title)\n",
    "    plt.show()"
   ]
  },
  {
   "cell_type": "code",
   "execution_count": null,
   "metadata": {},
   "outputs": [],
   "source": [
    "#sampleForm = samplePlaytest.copy()\n",
    "#pivotalAgesList = [3,15,25,35,45,55]\n",
    "#title = 'Âge des participants'\n",
    "\n",
    "def plotAgeGroups(sampleForm, pivotalAgesList = [], title = 'Âge des participants',\\\n",
    "                  showCount = False, unknownAgeLabel = 'unknown'):\n",
    "    playtestProfiles = getUniqueProfiles(sampleForm)\n",
    "\n",
    "    ages = playtestProfiles[QAge]\n",
    "    maxAge = ages.max()\n",
    "    minAge = ages.min()\n",
    "    otherAge = maxAge + 1\n",
    "\n",
    "    pivotalAgesList.sort()\n",
    "    pivotalAgesList = [x for x in pivotalAgesList if (x < maxAge and x > minAge)]\n",
    "    pivotalAgesList = np.append(pivotalAgesList, [maxAge, otherAge])\n",
    "\n",
    "    ageBins = pd.Series(0,index=pivotalAgesList)\n",
    "    labels = pd.Series('+++',index=pivotalAgesList)\n",
    "    previous = str(minAge)\n",
    "\n",
    "    for pivot in pivotalAgesList:\n",
    "        if pivot != otherAge:\n",
    "            ageBins[pivot] = len(ages[ages <= pivot])\n",
    "            labels[pivot] = previous + '-' + str(pivot)\n",
    "            if showCount:\n",
    "                labels[pivot] += \" (\" + str(ageBins[pivot]) + \")\"\n",
    "            ages = ages[ages > pivot]\n",
    "            previous = str(pivot)\n",
    "        else:\n",
    "            ages = playtestProfiles[QAge]\n",
    "            ageBins[otherAge] = len(ages[pd.isnull(ages)])\n",
    "            labels[otherAge] = unknownAgeLabel\n",
    "            if showCount:\n",
    "                labels[otherAge] += \" (\" + str(ageBins[otherAge]) + \")\"\n",
    "\n",
    "    plt.pie(ageBins.values, labels=labels,\\\n",
    "            #autopct='%1.1f%%',\\\n",
    "            autopct=getFormattedPercentageAndAbsoluteValueFunction(len(playtestProfiles)),\\\n",
    "            shadow=True)\n",
    "    plt.title(title)\n",
    "    plt.show()"
   ]
  },
  {
   "cell_type": "code",
   "execution_count": null,
   "metadata": {},
   "outputs": [],
   "source": [
    "def plotGender(sampleForm, title = '', labels = ['Femmes', 'Hommes', 'Autres/Non précisé']):\n",
    "    playtestProfiles = getUniqueProfiles(sampleForm)\n",
    "\n",
    "    fCount = len(playtestProfiles[playtestProfiles[QGender] == 'Female'])\n",
    "    mCount = len(playtestProfiles[playtestProfiles[QGender] == 'Male'])\n",
    "    tCount = len(playtestProfiles)\n",
    "    oCount = tCount-fCount-mCount\n",
    "\n",
    "    plt.pie([fCount, mCount, oCount], labels=labels,\\\n",
    "            autopct=getFormattedPercentageAndAbsoluteValueFunction(tCount),\\\n",
    "            shadow=True)\n",
    "    plt.title(title)\n",
    "    plt.show()\n",
    "    print(\"t=\"+str(tCount))\n",
    "    print(\"f=\"+str(fCount))\n",
    "    print(\"m=\"+str(mCount))\n",
    "    print(\"o=\"+str(oCount))"
   ]
  },
  {
   "cell_type": "code",
   "execution_count": null,
   "metadata": {},
   "outputs": [],
   "source": [
    "def getDuplicates(sample, columns):\n",
    "    sampled = sample.loc[:,columns]\n",
    "    return sampled,sampled[sampled.duplicated()]"
   ]
  },
  {
   "cell_type": "code",
   "execution_count": null,
   "metadata": {},
   "outputs": [],
   "source": [
    "#sample = samplePlaytest.copy()\n",
    "#columns = [QUserId, QAge, QGender, QTemporality]\n",
    "def getTimedAssembledDuplicates(sample, columns, displayColumns = []):\n",
    "    if len(displayColumns) == 0:\n",
    "        displayColumns = columns\n",
    "        \n",
    "    sampled,duplicates = getDuplicates(sample, columns)\n",
    "    dupIndex = pd.Index([])\n",
    "    for dup in duplicates.values:\n",
    "        dupbool = [(x == dup).all() for x in sampled.values]\n",
    "        dupIndex = dupIndex.union(sampled.index[dupbool])\n",
    "    result = sample.loc[dupIndex, displayColumns].sort_values(by = displayColumns)\n",
    "    return result"
   ]
  },
  {
   "cell_type": "code",
   "execution_count": null,
   "metadata": {},
   "outputs": [],
   "source": [
    "# handpicked error cases\n",
    "pretestPosttestPairsErrorCases = [\n",
    "  # 2 posttests\n",
    "    \"4b19e51b-c81f-4cbb-af72-0dced3bbb52b\",\n",
    "    \"1e6cb7d9-56f5-48a5-9bb8-14885325add6\",\n",
    "    \"9562d4e4-3d36-4399-a95f-7784328c2683\",\n",
    "\n",
    "  # 1 posttest\n",
    "    \"e79d806e-3d0b-49f8-a5e8-23de5548b770\",\n",
    "    \"8d1f1ec8-379e-4ec6-88ba-2fdc1d0989be\",\n",
    "\n",
    "  # 1 pretest\n",
    "    \"3006900c-37d2-44dd-a8e6-674f6fd1cae3\",\n",
    "    \"721cb935-f939-40ae-b56f-01d97ea23604\",\n",
    "\n",
    "  # 2 posttests, 1 pretest\n",
    "    \"38ef3b8d-dedc-4224-be1c-5d7372973cc0\",\n",
    "    \"96470842-aa9a-4802-9e23-38060a1980b4\",\n",
    "\n",
    "  # 2 pretests\n",
    "    \"f8920e82-1cdf-43a0-aedb-06ddaf9960d6\",\n",
    "    \"86c71536-ee24-4c3d-b856-6a97b63f6217\",\n",
    "\n",
    "  # 1 pretest, 1 posttest on 2 different days\n",
    "    \"4cdb6030-4547-4c8f-9d9e-286cff786157\",\n",
    "    \"9d09b624-c719-446b-a738-e7059dd1a8f4\",\n",
    "]\n",
    "#incorrectPairsSurveys = samplePlaytestUniqueProfiles[samplePlaytestUniqueProfiles[QUserId].isin(pretestPosttestPairsErrorCases)]\n",
    "#len(incorrectPairsSurveys)"
   ]
  },
  {
   "cell_type": "code",
   "execution_count": null,
   "metadata": {},
   "outputs": [],
   "source": [
    "#_gformDF = incorrectPairsSurveys.copy()\n",
    "#_gformDF = gform.copy()\n",
    "\n",
    "def getPerfectPretestPostestPairs(_gformDF):\n",
    "    #counter = 0\n",
    "    #userIdsToKeep = _gformDF[QUserId].unique()\n",
    "    #print(\"step\" + str(counter) + \": \" + str(len(userIdsToKeep)))\n",
    "    #counter+=1\n",
    "\n",
    "    # remove incomplete data\n",
    "    #  consequently removes posttests without pretests\n",
    "    _gformDF2 = getWithoutIncompleteAnswers(_gformDF)\n",
    "    #print(\"step\" + str(counter) + \": \" + str(len(_gformDF2[QUserId].unique())))\n",
    "    #counter+=1\n",
    "\n",
    "    # keep userIds with exactly 1 pretest and posttest\n",
    "    #userIdsToKeep = []\n",
    "    valueCounts = _gformDF2[_gformDF2[QTemporality] == answerTemporalities[0]][QUserId].value_counts()\n",
    "    _gformDF3 = _gformDF2[_gformDF2[QUserId].isin(valueCounts[valueCounts == 1].index.values)]\n",
    "    #print(\"step\" + str(counter) + \": \" + str(len(_gformDF3[QUserId].unique())))\n",
    "    #counter+=1\n",
    "\n",
    "    valueCounts = _gformDF3[_gformDF3[QTemporality] == answerTemporalities[1]][QUserId].value_counts()\n",
    "    _gformDF4 = _gformDF3[_gformDF3[QUserId].isin(valueCounts[valueCounts == 1].index.values)]\n",
    "    #print(\"step\" + str(counter) + \": \" + str(len(_gformDF4[QUserId].unique())))\n",
    "    #counter+=1\n",
    "    \n",
    "    def getFloorDayFromUserIdAndTemporality(userId,i,df):\n",
    "        return df[(df[QUserId] == userId)\\\n",
    "              &(df[QTemporality] == answerTemporalities[i])]\\\n",
    "            .iloc[0][QTimestamp].floor('d')\n",
    "\n",
    "    # only keep those with pretest-posttest pairs on the same day\n",
    "    userIds = _gformDF4[QUserId].unique()\n",
    "    userIdsDF = pd.DataFrame(pd.NaT, index=userIds, columns=[\"0\",\"1\"])\n",
    "    for i in [0, 1]:\n",
    "        userIdsDF[str(i)] = pd.Series([getFloorDayFromUserIdAndTemporality(x,i,_gformDF4) for x in userIds], index = userIds)\n",
    "    userIds = userIdsDF.index[userIdsDF.loc[:,\"0\"] == userIdsDF.loc[:,\"1\"]]\n",
    "    _gformDF5 = _gformDF4[_gformDF4[QUserId].isin(userIds)]\n",
    "    #print(\"step\" + str(counter) + \": \" + str(len(_gformDF5[QUserId].unique())))\n",
    "    #counter+=1\n",
    "\n",
    "    return _gformDF5"
   ]
  },
  {
   "cell_type": "code",
   "execution_count": null,
   "metadata": {},
   "outputs": [],
   "source": [
    "def getVolunteers(sample):\n",
    "    volunteerUserIds = sample[sample[QVolunteer].isin(yesNoPositives)][QUserId]\n",
    "    return sample[sample[QUserId].isin(volunteerUserIds)]"
   ]
  },
  {
   "cell_type": "markdown",
   "metadata": {},
   "source": [
    "## Dates"
   ]
  },
  {
   "cell_type": "code",
   "execution_count": null,
   "metadata": {},
   "outputs": [],
   "source": [
    "playtest2018Phase1Days = [\n",
    "    pd.Timestamp('2018-04-10', tz='utc'),\t# Tuesday\n",
    "    pd.Timestamp('2018-04-11', tz='utc'),\t# Wednesday\n",
    "\n",
    "    pd.Timestamp('2018-04-13', tz='utc'),\t# Friday\n",
    "    pd.Timestamp('2018-04-14', tz='utc'),\t# Saturday\n",
    "\n",
    "\n",
    "    pd.Timestamp('2018-04-17', tz='utc'),\t# Tuesday\n",
    "    pd.Timestamp('2018-04-18', tz='utc'),\t# Wednesday\n",
    "\n",
    "    pd.Timestamp('2018-04-20', tz='utc'),\t# Friday\n",
    "    pd.Timestamp('2018-04-21', tz='utc'),\t# Saturday\n",
    "\n",
    "\n",
    "    pd.Timestamp('2018-04-24', tz='utc'),\t# Tuesday\n",
    "    pd.Timestamp('2018-04-25', tz='utc'),\t# Wednesday\n",
    "]\n",
    "\n",
    "playtest2018Phase2Days = [\n",
    "    pd.Timestamp('2018-04-27', tz='utc'),\t# Friday\n",
    "    pd.Timestamp('2018-04-28', tz='utc'),\t# Saturday\n",
    "]\n",
    "\n",
    "playtest2018Days = np.append(playtest2018Phase1Days, playtest2018Phase2Days).tolist()"
   ]
  },
  {
   "cell_type": "code",
   "execution_count": null,
   "metadata": {},
   "outputs": [],
   "source": [
    "playtest2018EuBerTimeStartTime = datetime.time(11, 0)\n",
    "playtest2018EuBerTimeEndTime = datetime.time(19, 0)"
   ]
  },
  {
   "cell_type": "markdown",
   "metadata": {},
   "source": [
    "### aliases for experiment boundaries"
   ]
  },
  {
   "cell_type": "code",
   "execution_count": null,
   "metadata": {},
   "outputs": [],
   "source": [
    "playtest2018Phase1StartDate = pd.Timestamp.combine(min(playtest2018Phase1Days).date(), playtest2018EuBerTimeStartTime).tz_localize('Europe/Berlin')\n",
    "playtest2018Phase1EndDate   = pd.Timestamp.combine(max(playtest2018Phase1Days).date(), playtest2018EuBerTimeEndTime).tz_localize('Europe/Berlin')\n",
    "playtest2018Phase2StartDate = pd.Timestamp.combine(min(playtest2018Phase2Days).date(), playtest2018EuBerTimeStartTime).tz_localize('Europe/Berlin')\n",
    "playtest2018Phase2EndDate   = pd.Timestamp.combine(max(playtest2018Phase2Days).date(), playtest2018EuBerTimeEndTime).tz_localize('Europe/Berlin')\n",
    "playtest2018Phase1StartDate,playtest2018Phase1EndDate,playtest2018Phase2StartDate,playtest2018Phase2EndDate"
   ]
  },
  {
   "cell_type": "code",
   "execution_count": null,
   "metadata": {},
   "outputs": [],
   "source": [
    "# warning: timestamp = pd.Timestamp('2018-04-24 11:00:11.381000+0000', tz='Europe/Berlin')\n",
    "#  actually yields Timestamp('2018-04-24 13:00:11.381000+0200', tz='Europe/Berlin') because\n",
    "#  '+....' codes for timezone, eg here '+0000' codes for UTC timezone\n",
    "\n",
    "def isPlaytest(timestamp, days = playtest2018Days):\n",
    "    euBerTimestamp = timestamp.tz_convert('Europe/Berlin')\n",
    "    euBerTimestampTime = euBerTimestamp.time()\n",
    "    result = (timestamp.tz_convert('utc').floor('d') in days)\\\n",
    "    and (euBerTimestampTime >= playtest2018EuBerTimeStartTime)\\\n",
    "    and (playtest2018EuBerTimeEndTime >= euBerTimestampTime)\n",
    "    return result\n",
    "\n",
    "def isPlaytestPhase1(timestamp):\n",
    "    return isPlaytest(timestamp, days = playtest2018Phase1Days)\n",
    "\n",
    "def isPlaytestPhase2(timestamp):\n",
    "    return isPlaytest(timestamp, days = playtest2018Phase2Days)"
   ]
  },
  {
   "cell_type": "markdown",
   "metadata": {},
   "source": [
    "#### isPlaytest day and hour test"
   ]
  },
  {
   "cell_type": "code",
   "execution_count": null,
   "metadata": {},
   "outputs": [],
   "source": [
    "assert(~any([isPlaytest(x) for x in playtest2018Phase1Days]))"
   ]
  },
  {
   "cell_type": "code",
   "execution_count": null,
   "metadata": {},
   "outputs": [],
   "source": [
    "testCorrectTimes = [\n",
    "                pd.Timestamp('11:00:00', tz='Europe/Berlin').tz_convert('utc'),\n",
    "                pd.Timestamp('12:43:00', tz='Europe/Berlin').tz_convert('utc'),\n",
    "                pd.Timestamp('14:58:00', tz='Europe/Berlin').tz_convert('utc'),\n",
    "                pd.Timestamp('16:38:00', tz='Europe/Berlin').tz_convert('utc'),\n",
    "                pd.Timestamp('19:00:00', tz='Europe/Berlin').tz_convert('utc'),\n",
    "]\n",
    "testIncorrectTimes = [\n",
    "                pd.Timestamp('19:01:00', tz='Europe/Berlin').tz_convert('utc'),\n",
    "                pd.Timestamp('21:43:00', tz='Europe/Berlin').tz_convert('utc'),\n",
    "                pd.Timestamp('23:13:00', tz='Europe/Berlin').tz_convert('utc'),\n",
    "                pd.Timestamp('06:41:00', tz='Europe/Berlin').tz_convert('utc'),\n",
    "                pd.Timestamp('10:59:00', tz='Europe/Berlin').tz_convert('utc'),\n",
    "]\n",
    "\n",
    "for time in testCorrectTimes:\n",
    "    correctPlaytestTimes = [pd.Timestamp.combine(x.date(), time.time()).tz_localize('utc') for x in playtest2018Phase1Days]\n",
    "    assert(all([isPlaytest(x) for x in correctPlaytestTimes]))\n",
    "    \n",
    "for time in testIncorrectTimes:\n",
    "    correctPlaytestTimes = [pd.Timestamp.combine(x.date(), time.time()).tz_localize('utc') for x in playtest2018Phase1Days]\n",
    "    assert(~any([isPlaytest(x) for x in correctPlaytestTimes]))"
   ]
  },
  {
   "cell_type": "markdown",
   "metadata": {},
   "source": [
    "## Samples\n",
    "samples based on dates and platform"
   ]
  },
  {
   "cell_type": "code",
   "execution_count": null,
   "metadata": {},
   "outputs": [],
   "source": [
    "sampleWhole = getWithoutTest(gform)\n",
    "\n",
    "# rmdfConcat is rmdf1522 + rmdf160\n",
    "rmdfLinuxPlatform = rmdfConcat[rmdfConcat['customData.platform'] == '\"linuxplayer\"']\n",
    "rmdfLinuxPlatform = rmdfConcat[rmdfConcat[QUserId].isin(rmdfLinuxPlatform[QUserId])]\n",
    "\n",
    "# sample by platform using RedMetrics\n",
    "sampleLinux = getWithoutTest(sampleWhole[sampleWhole[QUserId].isin(rmdfLinuxPlatform[QUserId].unique())])\n",
    "\n",
    "# sample by time slots\n",
    "samplePlaytestPhase1 = sampleLinux[sampleLinux[QTimestamp].apply(isPlaytestPhase1)]\n",
    "samplePlaytestPhase2 = sampleLinux[sampleLinux[QTimestamp].apply(isPlaytestPhase2)]\n",
    "samplePlaytest = pd.concat([samplePlaytestPhase1, samplePlaytestPhase2])\n",
    "\n",
    "# sample by filtering out userIds with multiple profiles\n",
    "#  better solution: take those multiple profiles into account, eg by creating new userIds for them\n",
    "samplePlaytestUniqueProfilesPhase1 = getUserIdsWithUniqueProfile(samplePlaytestPhase1)\n",
    "samplePlaytestUniqueProfilesPhase2 = getUserIdsWithUniqueProfile(samplePlaytestPhase2)\n",
    "samplePlaytestUniqueProfiles       = getUserIdsWithUniqueProfile(samplePlaytest)\n",
    "\n",
    "# sample by keeping only pretest-posttest pairs\n",
    "samplePlaytestPretestPosttestUniqueProfilesPhase1 = getPerfectPretestPostestPairs(samplePlaytestUniqueProfilesPhase1)\n",
    "samplePlaytestPretestPosttestUniqueProfilesPhase2 = getPerfectPretestPostestPairs(samplePlaytestUniqueProfilesPhase2)\n",
    "samplePlaytestPretestPosttestUniqueProfiles       = getPerfectPretestPostestPairs(samplePlaytestUniqueProfiles)\n",
    "\n",
    "# sample according to the answer to the Volunteering question\n",
    "samplePlaytestPretestPosttestUniqueProfilesVolunteersPhase1 = getVolunteers(samplePlaytestPretestPosttestUniqueProfilesPhase1)\n",
    "samplePlaytestPretestPosttestUniqueProfilesVolunteersPhase2 = getVolunteers(samplePlaytestPretestPosttestUniqueProfilesPhase2)\n",
    "samplePlaytestPretestPosttestUniqueProfilesVolunteers       = getVolunteers(samplePlaytestPretestPosttestUniqueProfiles)"
   ]
  },
  {
   "cell_type": "code",
   "execution_count": null,
   "metadata": {},
   "outputs": [],
   "source": [
    "if displayResults:\n",
    "#if True:\n",
    "    print(\"sampleWhole=\"+str(len(sampleWhole)))\n",
    "    print(\"sampleLinux=\"+str(len(sampleLinux)))\n",
    "    print(\"samplePlaytestPhase1=\"+str(len(samplePlaytestPhase1)))\n",
    "    print(\"samplePlaytestPhase2=\"+str(len(samplePlaytestPhase2)))\n",
    "    print(\"samplePlaytest=\"+str(len(samplePlaytest)))\n",
    "    print(\"samplePlaytestUniqueProfilesPhase1=\"+str(len(samplePlaytestUniqueProfilesPhase1)))\n",
    "    print(\"samplePlaytestUniqueProfilesPhase2=\"+str(len(samplePlaytestUniqueProfilesPhase2)))\n",
    "    print(\"samplePlaytestUniqueProfiles=\"+str(len(samplePlaytestUniqueProfiles)))\n",
    "    print(\"samplePlaytestPretestPosttestUniqueProfilesPhase1=\"+str(len(samplePlaytestPretestPosttestUniqueProfilesPhase1)))\n",
    "    print(\"samplePlaytestPretestPosttestUniqueProfilesPhase2=\"+str(len(samplePlaytestPretestPosttestUniqueProfilesPhase2)))\n",
    "    print(\"samplePlaytestPretestPosttestUniqueProfiles=\"+str(len(samplePlaytestPretestPosttestUniqueProfiles)))\n",
    "    print(\"samplePlaytestPretestPosttestUniqueProfilesVolunteersPhase1=\"+str(len(samplePlaytestPretestPosttestUniqueProfilesVolunteersPhase1)))\n",
    "    print(\"samplePlaytestPretestPosttestUniqueProfilesVolunteersPhase2=\"+str(len(samplePlaytestPretestPosttestUniqueProfilesVolunteersPhase2)))\n",
    "    print(\"samplePlaytestPretestPosttestUniqueProfilesVolunteers=\"+str(len(samplePlaytestPretestPosttestUniqueProfilesVolunteers)))\n",
    "    \n",
    "    print()\n",
    "    print(\"unique userIds sampleWhole=\" + str(sampleWhole[QUserId].nunique()))\n",
    "    print(\"unique userIds sampleLinux=\" + str(sampleLinux[QUserId].nunique()))\n",
    "    print(\"unique userIds samplePlaytestPhase1=\" + str(samplePlaytestPhase1[QUserId].nunique()))\n",
    "    print(\"unique userIds samplePlaytestPhase2=\" + str(samplePlaytestPhase2[QUserId].nunique()))\n",
    "    print(\"unique userIds samplePlaytest=\" + str(samplePlaytest[QUserId].nunique()))\n",
    "    print(\"unique userIds samplePlaytestUniqueProfilesPhase1=\" + str(samplePlaytestUniqueProfilesPhase1[QUserId].nunique()))\n",
    "    print(\"unique userIds samplePlaytestUniqueProfilesPhase2=\" + str(samplePlaytestUniqueProfilesPhase2[QUserId].nunique()))\n",
    "    print(\"unique userIds samplePlaytestUniqueProfiles=\" + str(samplePlaytestUniqueProfiles[QUserId].nunique()))\n",
    "    print(\"unique userIds samplePlaytestPretestPosttestUniqueProfilesPhase1=\" + str(samplePlaytestPretestPosttestUniqueProfilesPhase1[QUserId].nunique()))\n",
    "    print(\"unique userIds samplePlaytestPretestPosttestUniqueProfilesPhase2=\" + str(samplePlaytestPretestPosttestUniqueProfilesPhase2[QUserId].nunique()))\n",
    "    print(\"unique userIds samplePlaytestPretestPosttestUniqueProfiles=\" + str(samplePlaytestPretestPosttestUniqueProfiles[QUserId].nunique()))\n",
    "    print(\"unique userIds samplePlaytestPretestPosttestUniqueProfilesVolunteersPhase1=\"+str(samplePlaytestPretestPosttestUniqueProfilesVolunteersPhase1[QUserId].nunique()))\n",
    "    print(\"unique userIds samplePlaytestPretestPosttestUniqueProfilesVolunteersPhase2=\"+str(samplePlaytestPretestPosttestUniqueProfilesVolunteersPhase2[QUserId].nunique()))\n",
    "    print(\"unique userIds samplePlaytestPretestPosttestUniqueProfilesVolunteers=\"+str(samplePlaytestPretestPosttestUniqueProfilesVolunteers[QUserId].nunique()))"
   ]
  },
  {
   "cell_type": "markdown",
   "metadata": {},
   "source": [
    "#### Checks on the profiles counts - search for duplicates"
   ]
  },
  {
   "cell_type": "code",
   "execution_count": null,
   "metadata": {},
   "outputs": [],
   "source": [
    "if False:\n",
    "    # duplicate profiles\n",
    "    #  may be people who filled in the same survey twice in a row\n",
    "    #  or different people who happened to belong to same demographic group and play on same unreset computer\n",
    "    #  Only way to differentiate: look at RedMetrics events\n",
    "    columns = [QUserId, QAge, QGender, QTemporality]\n",
    "    displayColumns = [QUserId, QAge, QGender, QTemporality, QTimestamp]\n",
    "    duplicates = getTimedAssembledDuplicates(samplePlaytest, columns, displayColumns)\n",
    "    grouped = duplicates.groupby(columns)\n",
    "    grouped.size()"
   ]
  },
  {
   "cell_type": "code",
   "execution_count": null,
   "metadata": {},
   "outputs": [],
   "source": [
    "if False:\n",
    "    # duplicates per day\n",
    "    duplicatesPerDay = duplicates.copy()\n",
    "    duplicatesPerDay.loc[:, QTimestamp] = duplicatesPerDay.loc[:, QTimestamp].apply(pd.Timestamp.date)\n",
    "    duplicatesPerDay.groupby(QTimestamp).size()"
   ]
  },
  {
   "cell_type": "code",
   "execution_count": null,
   "metadata": {},
   "outputs": [],
   "source": [
    "if False:\n",
    "    # duplicates or just unpaired surveys? (ie pretest wihtout posttest or conversely)\n",
    "    #  timely repartition of redmetrics events is inconclusive: analysis of RedMetrics events is necessary\n",
    "    duplicates['diff'] = duplicates[QTimestamp].diff()\n",
    "    duplicates"
   ]
  },
  {
   "cell_type": "code",
   "execution_count": null,
   "metadata": {},
   "outputs": [],
   "source": [
    "#userId = duplicates.loc[666, QUserId]\n",
    "#n = 0\n",
    "#userId = \"29b739fc-4f9f-4f5e-bfee-8ba12de4b7fa\"\n",
    "#rmdf = rmdfConcat\n",
    "#surveys = gform.copy()\n",
    "\n",
    "def plotEventsPerMinute(userId, rmdf, surveys = [], n = 0):\n",
    "    print(\"\\n\\nuserId=\"+str(userId))\n",
    "    times = rmdf[rmdf[QUserId] == userId]['userTime']\n",
    "    times.index = range(len(times))\n",
    "    days = times.dt.date\n",
    "    # compute day of experiment\n",
    "    ratios = [len(days[days == d])/len(days) for d in days.unique()]\n",
    "    ratioratios = pd.Series([r/max(ratios) for r in ratios], index = days.unique())\n",
    "    importantDays = days.unique()[ratioratios > 0.05]\n",
    "    if len(importantDays) > 1:\n",
    "        print(\"more than one important day!\")\n",
    "    times = times.dt.floor('min')\n",
    "    times = times[times.dt.date.isin(importantDays)]\n",
    "    startGraph = times.min()\n",
    "    endGraph = times.max()\n",
    "    print(\"\\nevents:\\nfirst:\" + str(startGraph) + \"\\nlast:\" + str(endGraph))\n",
    "    minutesCount = int((endGraph - startGraph).total_seconds()/60)\n",
    "\n",
    "    fig = plt.figure()\n",
    "    ax = fig.add_subplot(111)\n",
    "\n",
    "    xrot = 45\n",
    "    alpha = 0.5\n",
    "\n",
    "    if(len(surveys) > 0):\n",
    "        surveySubmissions = surveys[surveys[QUserId] == userId]\n",
    "        surveySubmissionsTimes = surveySubmissions[QTimestamp].dt.floor('min')\n",
    "        startGraph = min(startGraph, surveySubmissionsTimes.min())\n",
    "        endGraph = max(endGraph, surveySubmissionsTimes.max())\n",
    "        minutesCount = int((endGraph - startGraph).total_seconds()/60)\n",
    "\n",
    "        pretestSubmissions = surveySubmissions[surveySubmissions[QTemporality] == answerTemporalities[0]][QTimestamp].dt.floor('min')\n",
    "        posttestSubmissions = surveySubmissions[surveySubmissions[QTemporality] == answerTemporalities[1]][QTimestamp].dt.floor('min')\n",
    "\n",
    "        ax2 = ax.twinx()\n",
    "        ax3 = ax.twinx()\n",
    "        \n",
    "        ax2.set_yticks([])\n",
    "        ax3.set_yticks([])\n",
    "        ax2.set_yticklabels([])\n",
    "        ax3.set_yticklabels([])\n",
    "\n",
    "    plotRange = (startGraph,endGraph)\n",
    "        \n",
    "    times.hist(bins=minutesCount, ax = ax, xrot = xrot, color='blue', alpha=alpha, range=plotRange, grid=False)\n",
    "\n",
    "    if(len(surveys) > 0):\n",
    "\n",
    "        if len(pretestSubmissions) > 0:\n",
    "            print(\"\\npretests:\\n\" + str(pretestSubmissions))\n",
    "            pretestSubmissions[n:].hist(bins = 20, ax = ax2, xrot = xrot, color='green', alpha=alpha, range=plotRange, grid=False)\n",
    "\n",
    "        if len(posttestSubmissions) > 0:\n",
    "            print(\"\\nposttests:\\n\" + str(posttestSubmissions))\n",
    "            posttestSubmissions.hist(bins = 20, ax = ax3, xrot = xrot, color='red', alpha=alpha, range=plotRange, grid=False)\n",
    "\n",
    "    plt.show()"
   ]
  },
  {
   "cell_type": "code",
   "execution_count": null,
   "metadata": {},
   "outputs": [],
   "source": [
    "def getResetConfigurationEvents(rmdf):\n",
    "    rmdf[(rmdf['type'] == 'selectmenu') & (rmdf['customData.option'] == '\"RESETCONFIGURATION\"')].loc[:, [QUserId, 'userTime', 'customData.option']]"
   ]
  },
  {
   "cell_type": "code",
   "execution_count": null,
   "metadata": {},
   "outputs": [],
   "source": [
    "def getProfileCounts(sampleForm, n = 0):\n",
    "    sampled = sampleForm.loc[:,[QUserId, QGender, QAge]].drop_duplicates()[QUserId].value_counts().sort_values(ascending=False)\n",
    "    return sampled[sampled >= n]"
   ]
  },
  {
   "cell_type": "code",
   "execution_count": null,
   "metadata": {},
   "outputs": [],
   "source": [
    "if False:\n",
    "    plotEventsPerMinute(\"e3fc1686-6802-4e36-9877-d1bb226a6f72\", rmdfConcat, samplePlaytest)"
   ]
  },
  {
   "cell_type": "code",
   "execution_count": null,
   "metadata": {},
   "outputs": [],
   "source": [
    "if False:\n",
    "    gform[gform[QUserId] == \"29b739fc-4f9f-4f5e-bfee-8ba12de4b7fa\"].loc[:, [QUserId, QAge, QGender, QTemporality, QTimestamp]]"
   ]
  },
  {
   "cell_type": "code",
   "execution_count": null,
   "metadata": {
    "scrolled": false
   },
   "outputs": [],
   "source": [
    "if False:\n",
    "    for userId in duplicates[QUserId].unique():\n",
    "        print(str(samplePlaytest[samplePlaytest[QUserId] == userId].loc[:,displayColumns]))\n",
    "        plotEventsPerMinute(userId, rmdfConcat, gform)"
   ]
  },
  {
   "cell_type": "code",
   "execution_count": null,
   "metadata": {},
   "outputs": [],
   "source": [
    "if False:\n",
    "    getTimedAssembledDuplicates(samplePlaytest, [QUserId, QAge, QGender], [QUserId, QAge, QGender, QTemporality, QTimestamp])"
   ]
  },
  {
   "cell_type": "markdown",
   "metadata": {},
   "source": [
    "------------"
   ]
  },
  {
   "cell_type": "markdown",
   "metadata": {},
   "source": [
    "# Global analysis of player paths"
   ]
  },
  {
   "cell_type": "code",
   "execution_count": null,
   "metadata": {},
   "outputs": [],
   "source": [
    "#userIds = _gformDF4[QUserId].unique()\n",
    "#userIds = pd.DataFrame(pd.NaT, index=userIds, columns=[\"0\",\"1\"])\n",
    "#for i in [0, 1]:\n",
    "#    userIds[str(i)] = pd.Series([getFloorDayFromUserIdAndTemporality(x,i) for x in userIds.index.values], index = userIds.index)\n",
    "#userIds.index[userIds.loc[:,\"0\"] == userIds.loc[:,\"1\"]]"
   ]
  },
  {
   "cell_type": "code",
   "execution_count": null,
   "metadata": {},
   "outputs": [],
   "source": [
    "if False:\n",
    "    getProfileCounts(samplePlaytestUniqueProfilesPhase2, 2)"
   ]
  },
  {
   "cell_type": "code",
   "execution_count": null,
   "metadata": {},
   "outputs": [],
   "source": [
    "if False:\n",
    "    for userId in samplePlaytestUniqueProfiles[QUserId].unique():\n",
    "        plotEventsPerMinute(userId, rmdfConcat, samplePlaytestUniqueProfiles)"
   ]
  },
  {
   "cell_type": "code",
   "execution_count": null,
   "metadata": {
    "scrolled": false
   },
   "outputs": [],
   "source": [
    "if False:\n",
    "    for userId in samplePlaytestPretestPosttestUniqueProfiles[QUserId].unique():\n",
    "        plotEventsPerMinute(userId, rmdfConcat, samplePlaytestUniqueProfiles)"
   ]
  },
  {
   "cell_type": "markdown",
   "metadata": {},
   "source": [
    "------------"
   ]
  },
  {
   "cell_type": "code",
   "execution_count": null,
   "metadata": {},
   "outputs": [],
   "source": [
    "gformProfiles = getUniqueProfiles(gform)\n",
    "wholeProfiles = getUniqueProfiles(sampleWhole)\n",
    "linuxProfiles = getUniqueProfiles(sampleLinux)\n",
    "len(gformProfiles), len(wholeProfiles), len(linuxProfiles)"
   ]
  },
  {
   "cell_type": "code",
   "execution_count": null,
   "metadata": {},
   "outputs": [],
   "source": [
    "playtestProfiles = getUniqueProfiles(samplePlaytest)\n",
    "playtestProfilesPhase1 = getUniqueProfiles(samplePlaytestPhase1)\n",
    "playtestProfilesPhase2 = getUniqueProfiles(samplePlaytestPhase2)\n",
    "\n",
    "assert(len(playtestProfiles) == len(playtestProfilesPhase1) + len(playtestProfilesPhase2))\n",
    "\n",
    "len(playtestProfiles),\\\n",
    "len(playtestProfilesPhase1),\\\n",
    "len(playtestProfilesPhase2)"
   ]
  },
  {
   "cell_type": "code",
   "execution_count": null,
   "metadata": {},
   "outputs": [],
   "source": [
    "shouldBeEmpty = samplePlaytest[((samplePlaytest[QTimestamp] > playtest2018Phase1EndDate)&(samplePlaytest[QTimestamp] < playtest2018Phase2StartDate))]\n",
    "assert(len(shouldBeEmpty) == 0)"
   ]
  },
  {
   "cell_type": "code",
   "execution_count": null,
   "metadata": {},
   "outputs": [],
   "source": [
    "playtestProfiles = playtestProfiles.dropna(how='any')\n",
    "playtestProfilesPhase1 = playtestProfilesPhase1.dropna(how='any')\n",
    "playtestProfilesPhase2 = playtestProfilesPhase2.dropna(how='any')\n",
    "\n",
    "assert(len(playtestProfiles) == len(playtestProfilesPhase1) + len(playtestProfilesPhase2))\n",
    "\n",
    "len(playtestProfiles),\\\n",
    "len(playtestProfilesPhase1),\\\n",
    "len(playtestProfilesPhase2)"
   ]
  },
  {
   "cell_type": "code",
   "execution_count": null,
   "metadata": {},
   "outputs": [],
   "source": [
    "# intersections based on userId and/or questions\n",
    "s1 = pd.merge(playtestProfilesPhase1, playtestProfilesPhase2, how='inner', on=[QUserId])\n",
    "s2 = pd.merge(playtestProfilesPhase1, playtestProfilesPhase2, how='inner', on=[QUserId, QAge, QGender])\n",
    "len(s1), len(s2)"
   ]
  },
  {
   "cell_type": "code",
   "execution_count": null,
   "metadata": {},
   "outputs": [],
   "source": [
    "playtestProfiles[QUserId].nunique(), playtestProfilesPhase1[QUserId].nunique(), playtestProfilesPhase2[QUserId].nunique(), "
   ]
  },
  {
   "cell_type": "markdown",
   "metadata": {},
   "source": [
    "#### RedMetrics dataframes"
   ]
  },
  {
   "cell_type": "code",
   "execution_count": null,
   "metadata": {},
   "outputs": [],
   "source": [
    "# rmdfConcat is rmdf1522 + rmdf160\n",
    "# rmdfLinuxPlatform\n",
    "\n",
    "# sample by time slots\n",
    "rmdfPlaytestPhase1 = rmdfLinuxPlatform[rmdfLinuxPlatform[QUserId].isin(samplePlaytestPhase1[QUserId])]\n",
    "rmdfPlaytestPhase1 = rmdfPlaytestPhase1[rmdfPlaytestPhase1['userTime'].apply(isPlaytestPhase1)]\n",
    "rmdfPlaytestPhase2 = rmdfLinuxPlatform[rmdfLinuxPlatform[QUserId].isin(samplePlaytestPhase2[QUserId])]\n",
    "rmdfPlaytestPhase2 = rmdfPlaytestPhase2[rmdfPlaytestPhase2['userTime'].apply(isPlaytestPhase2)]\n",
    "rmdfPlaytest = pd.concat([rmdfPlaytestPhase1, rmdfPlaytestPhase2])\n",
    "\n",
    "# sample by filtering out userIds with multiple profiles\n",
    "#  better solution: take those multiple profiles into account, eg by creating new userIds for them\n",
    "rmdfPlaytestUniqueProfilesPhase1 = rmdfPlaytestPhase1[rmdfPlaytestPhase1[QUserId].isin(samplePlaytestUniqueProfilesPhase1[QUserId])]\n",
    "rmdfPlaytestUniqueProfilesPhase2 = rmdfPlaytestPhase2[rmdfPlaytestPhase2[QUserId].isin(samplePlaytestUniqueProfilesPhase2[QUserId])]\n",
    "rmdfPlaytestUniqueProfiles = pd.concat([rmdfPlaytestUniqueProfilesPhase1, rmdfPlaytestUniqueProfilesPhase2])\n",
    "\n",
    "# sample by keeping only pretest-posttest pairs\n",
    "rmdfPlaytestPretestPosttestUniqueProfilesPhase1 = rmdfPlaytestUniqueProfilesPhase1[rmdfPlaytestUniqueProfilesPhase1[QUserId]\\\n",
    "                                  .isin(samplePlaytestPretestPosttestUniqueProfilesPhase1[QUserId])]\n",
    "rmdfPlaytestPretestPosttestUniqueProfilesPhase2 = rmdfPlaytestUniqueProfilesPhase2[rmdfPlaytestUniqueProfilesPhase2[QUserId]\\\n",
    "                                  .isin(samplePlaytestPretestPosttestUniqueProfilesPhase2[QUserId])]\n",
    "rmdfPlaytestPretestPosttestUniqueProfiles = pd.concat(\\\n",
    "                                  [rmdfPlaytestPretestPosttestUniqueProfilesPhase1, rmdfPlaytestPretestPosttestUniqueProfilesPhase2])\n",
    "\n",
    "# sample according to the answer to the Volunteering question\n",
    "rmdfPlaytestPretestPosttestUniqueProfilesVolunteersPhase1 =\\\n",
    "                rmdfPlaytestPretestPosttestUniqueProfilesPhase1[rmdfPlaytestPretestPosttestUniqueProfilesPhase1[QUserId]\\\n",
    "                .isin(samplePlaytestPretestPosttestUniqueProfilesVolunteersPhase1[QUserId])]\n",
    "rmdfPlaytestPretestPosttestUniqueProfilesVolunteersPhase2 =\\\n",
    "                rmdfPlaytestPretestPosttestUniqueProfilesPhase2[rmdfPlaytestPretestPosttestUniqueProfilesPhase2[QUserId]\\\n",
    "                .isin(samplePlaytestPretestPosttestUniqueProfilesVolunteersPhase2[QUserId])]\n",
    "rmdfPlaytestPretestPosttestUniqueProfilesVolunteers       =\\\n",
    "                rmdfPlaytestPretestPosttestUniqueProfiles[rmdfPlaytestPretestPosttestUniqueProfiles[QUserId]\\\n",
    "                .isin(samplePlaytestPretestPosttestUniqueProfilesVolunteers[QUserId])]"
   ]
  },
  {
   "cell_type": "code",
   "execution_count": null,
   "metadata": {},
   "outputs": [],
   "source": [
    "assert(rmdfPlaytest[QUserId].nunique()       == samplePlaytest[QUserId].nunique())\n",
    "assert(rmdfPlaytestPhase1[QUserId].nunique() == samplePlaytestPhase1[QUserId].nunique())\n",
    "assert(rmdfPlaytestPhase2[QUserId].nunique() == samplePlaytestPhase2[QUserId].nunique())"
   ]
  },
  {
   "cell_type": "markdown",
   "metadata": {},
   "source": [
    "### players"
   ]
  },
  {
   "cell_type": "code",
   "execution_count": null,
   "metadata": {},
   "outputs": [],
   "source": [
    "thresholdGameEventsCount = 10\n",
    "thresholdTimedelta = pd.Timedelta('0 days 00:05:00.000000')\n",
    "\n",
    "playedEnoughTime = []\n",
    "playedEnoughEvents = []\n",
    "\n",
    "for userId in samplePlaytest[QUserId].unique():\n",
    "    rows = rmdfPlaytest[rmdfPlaytest[QUserId] == userId]\n",
    "    if len(rows) > thresholdGameEventsCount:\n",
    "        playedEnoughEvents.append(userId)\n",
    "    delta = rows['userTime'].max() - rows['userTime'].min()\n",
    "    if delta > thresholdTimedelta:\n",
    "        playedEnoughTime.append(userId)\n",
    "        \n",
    "len(samplePlaytest[QUserId].unique()), len(playedEnoughTime), len(playedEnoughEvents)"
   ]
  },
  {
   "cell_type": "code",
   "execution_count": null,
   "metadata": {},
   "outputs": [],
   "source": [
    "setCount(samplePlaytestPhase1, phase1Label, playersCountLabel)\n",
    "setCount(samplePlaytestPhase2, phase2Label, playersCountLabel)\n",
    "setCount(samplePlaytest,       totalLabel,  playersCountLabel)\n",
    "    \n",
    "#assert(playtestStatistics.loc[totalLabel, playersCountLabel] == \\\n",
    "#    playtestStatistics.loc[phase1Label, playersCountLabel]\\\n",
    "#    + playtestStatistics.loc[phase2Label, playersCountLabel])\n",
    "\n",
    "playtestStatistics"
   ]
  },
  {
   "cell_type": "markdown",
   "metadata": {},
   "source": [
    "### all playtest respondents"
   ]
  },
  {
   "cell_type": "code",
   "execution_count": null,
   "metadata": {},
   "outputs": [],
   "source": [
    "if displayResults:\n",
    "    plotGender(samplePlaytest,'Sexe des participants')"
   ]
  },
  {
   "cell_type": "code",
   "execution_count": null,
   "metadata": {},
   "outputs": [],
   "source": [
    "if displayResults:\n",
    "    plotGender(samplePlaytestPhase1,'Gender of participants', labels = ['Female', 'Male', 'Other/Not given'])"
   ]
  },
  {
   "cell_type": "code",
   "execution_count": null,
   "metadata": {
    "scrolled": true
   },
   "outputs": [],
   "source": [
    "if displayResults:\n",
    "    plotGender(samplePlaytestPhase2,'Sexe des participants, phase 2')"
   ]
  },
  {
   "cell_type": "code",
   "execution_count": null,
   "metadata": {},
   "outputs": [],
   "source": [
    "if displayResults:\n",
    "    plotAge(samplePlaytest, \"Âge des participants, total\")\n",
    "    plotAge(samplePlaytestPhase1, \"Age of participants\", xlabel = 'Age', ylabel = 'Number')\n",
    "    plotAge(samplePlaytestPhase2, \"Âge des participants, phase 2\")\n",
    "    plotAge(samplePlaytestPretestPosttestUniqueProfilesVolunteersPhase1, \"Age of volunteers\", xlabel = 'Age', ylabel = 'Number')"
   ]
  },
  {
   "cell_type": "code",
   "execution_count": null,
   "metadata": {},
   "outputs": [],
   "source": [
    "if displayResults:\n",
    "    plotAgeGroups(samplePlaytest, pivotalAgesList = [1,15,25,35,45], title = 'Âge des participants', showCount = False, unknownAgeLabel =\"inconnu\")\n",
    "    plotAgeGroups(samplePlaytestPhase1, pivotalAgesList = [1,15,25,35,45], title = 'Age of participants', showCount = False)\n",
    "    plotAgeGroups(samplePlaytestPhase2, pivotalAgesList = [1,15,25,35,45], title = 'Âge des participants, phase 2', showCount = False)\n",
    "    plotAgeGroups(samplePlaytestPretestPosttestUniqueProfilesVolunteersPhase1, pivotalAgesList = [1,15,25,35,45], title = 'Age of volunteers', showCount = False)"
   ]
  },
  {
   "cell_type": "code",
   "execution_count": null,
   "metadata": {},
   "outputs": [],
   "source": [
    "setGenderedCount(samplePlaytestPhase1, phase1Label, respondentsCountLabel)\n",
    "setGenderedCount(samplePlaytestPhase2, phase2Label, respondentsCountLabel)\n",
    "setGenderedCount(samplePlaytest,       totalLabel,  respondentsCountLabel,\\\n",
    "                 plotPie = displayResults, title = 'Gender of respondents')\n",
    "\n",
    "assert(playtestStatistics.loc[totalLabel, respondentsCountLabel] ==\\\n",
    "       playtestStatistics.loc[phase1Label, respondentsCountLabel]\\\n",
    "      + playtestStatistics.loc[phase2Label, respondentsCountLabel])\n",
    "\n",
    "playtestStatistics"
   ]
  },
  {
   "cell_type": "code",
   "execution_count": null,
   "metadata": {},
   "outputs": [],
   "source": [
    "setGenderedCount(samplePlaytestUniqueProfilesPhase1, phase1Label, respondentsExploitableCountLabel)\n",
    "setGenderedCount(samplePlaytestUniqueProfilesPhase2, phase2Label, respondentsExploitableCountLabel)\n",
    "setGenderedCount(samplePlaytestUniqueProfiles,       totalLabel,  respondentsExploitableCountLabel,\\\n",
    "                 plotPie = displayResults, title = 'Gender of exploitable respondents')\n",
    "\n",
    "assert(playtestStatistics.loc[totalLabel, respondentsExploitableCountLabel] ==\\\n",
    "       playtestStatistics.loc[phase1Label, respondentsExploitableCountLabel]\\\n",
    "      + playtestStatistics.loc[phase2Label, respondentsExploitableCountLabel])\n",
    "\n",
    "playtestStatistics"
   ]
  },
  {
   "cell_type": "code",
   "execution_count": null,
   "metadata": {},
   "outputs": [],
   "source": [
    "# answers per userId\n",
    "# => gform.indexes per userId\n",
    "#indicesPerUserId = gform[QUserId].value_counts()\n",
    "#indicesPerUserId"
   ]
  },
  {
   "cell_type": "markdown",
   "metadata": {},
   "source": [
    "### twice respondents"
   ]
  },
  {
   "cell_type": "code",
   "execution_count": null,
   "metadata": {},
   "outputs": [],
   "source": [
    "setGenderedCount(samplePlaytestPretestPosttestUniqueProfilesPhase1, phase1Label, respondentsTwiceCountLabel)\n",
    "setGenderedCount(samplePlaytestPretestPosttestUniqueProfilesPhase2, phase2Label, respondentsTwiceCountLabel)\n",
    "setGenderedCount(samplePlaytestPretestPosttestUniqueProfiles,       totalLabel,  respondentsTwiceCountLabel,\\\n",
    "                 plotPie = displayResults, title = 'Gender of participants (pretest-posttest)')\n",
    "\n",
    "assert(playtestStatistics.loc[totalLabel, respondentsTwiceCountLabel] ==\\\n",
    "       playtestStatistics.loc[phase1Label, respondentsTwiceCountLabel]\\\n",
    "      + playtestStatistics.loc[phase2Label, respondentsTwiceCountLabel])\n",
    "\n",
    "playtestStatistics"
   ]
  },
  {
   "cell_type": "code",
   "execution_count": null,
   "metadata": {},
   "outputs": [],
   "source": [
    "if displayResults:\n",
    "    (samplePlaytestPretestPosttestUniqueProfiles, 'Age repartition of pretest-posttest participants')"
   ]
  },
  {
   "cell_type": "markdown",
   "metadata": {},
   "source": [
    "### Volunteers"
   ]
  },
  {
   "cell_type": "code",
   "execution_count": null,
   "metadata": {},
   "outputs": [],
   "source": [
    "setGenderedCount(samplePlaytestPretestPosttestUniqueProfilesVolunteersPhase1, phase1Label, respondentsTwiceVolunteersCountLabel,\\\n",
    "                 plotPie = displayResults, title = 'Gender of participants (pretest-posttest volunteers)')\n",
    "setGenderedCount(samplePlaytestPretestPosttestUniqueProfilesVolunteersPhase2, phase2Label, respondentsTwiceVolunteersCountLabel)\n",
    "setGenderedCount(samplePlaytestPretestPosttestUniqueProfilesVolunteers,       totalLabel,  respondentsTwiceVolunteersCountLabel,\\\n",
    "                 plotPie = displayResults, title = 'Gender of participants (pretest-posttest volunteers)')\n",
    "\n",
    "assert(playtestStatistics.loc[totalLabel, respondentsTwiceVolunteersCountLabel] ==\\\n",
    "       playtestStatistics.loc[phase1Label, respondentsTwiceVolunteersCountLabel]\\\n",
    "      + playtestStatistics.loc[phase2Label, respondentsTwiceVolunteersCountLabel])\n",
    "\n",
    "playtestStatistics"
   ]
  },
  {
   "cell_type": "markdown",
   "metadata": {},
   "source": [
    "### Sankey diagram"
   ]
  },
  {
   "cell_type": "code",
   "execution_count": null,
   "metadata": {},
   "outputs": [],
   "source": [
    "from matplotlib.sankey import Sankey"
   ]
  },
  {
   "cell_type": "code",
   "execution_count": null,
   "metadata": {},
   "outputs": [],
   "source": [
    "groupLabel = phase1Label\n",
    "players = playtestStatistics.loc[groupLabel, playersCountLabel]\n",
    "minus = pd.Series()\n",
    "\n",
    "minus[respondentsCountLabel]                = playtestStatistics.loc[groupLabel, respondentsCountLabel]\\\n",
    "\t\t\t\t\t\t\t\t\t\t\t\t- playtestStatistics.loc[groupLabel, playersCountLabel]\n",
    "minus[respondentsExploitableCountLabel]     = playtestStatistics.loc[groupLabel, respondentsExploitableCountLabel]\\\n",
    "\t\t\t\t\t\t\t\t\t\t\t\t- playtestStatistics.loc[groupLabel, respondentsCountLabel]\n",
    "minus[respondentsTwiceCountLabel]           = playtestStatistics.loc[groupLabel, respondentsTwiceCountLabel]\\\n",
    "\t\t\t\t\t\t\t\t\t\t\t\t- playtestStatistics.loc[groupLabel, respondentsExploitableCountLabel]\n",
    "minus[respondentsTwiceVolunteersCountLabel] = playtestStatistics.loc[groupLabel, respondentsTwiceVolunteersCountLabel]\\\n",
    "\t\t\t\t\t\t\t\t\t\t\t\t- playtestStatistics.loc[groupLabel, respondentsTwiceCountLabel]"
   ]
  },
  {
   "cell_type": "code",
   "execution_count": null,
   "metadata": {},
   "outputs": [],
   "source": [
    "if displayResults:\n",
    "#if True: \n",
    "    # source: https://flothesof.github.io/sankey-tutorial-matplotlib.html\n",
    "    fig = plt.figure(figsize=(12, 12))\n",
    "    ax = fig.add_subplot(1, 1, 1, xticks=[], yticks=[])\n",
    "    diagrams = Sankey(flows=[\n",
    "               #input\n",
    "                        players,\n",
    "               #output\n",
    "                        -players-minus.sum(),\n",
    "               #losses\n",
    "                        minus[respondentsTwiceVolunteersCountLabel], \n",
    "                        minus[respondentsTwiceCountLabel], \n",
    "                        minus[respondentsExploitableCountLabel], \n",
    "                        minus[respondentsCountLabel] \n",
    "                ],\n",
    "           labels=[\n",
    "               #input\n",
    "                       playersCountLabel,\n",
    "               #output\n",
    "                       \"exploitable sample\",\n",
    "               #losses\n",
    "                       \"non-respondents to optional questions\",\n",
    "                       \"non-\"+respondentsTwiceCountLabel,\n",
    "                       \"technical error\",\n",
    "                       \"non-\"+respondentsCountLabel\n",
    "                ],\n",
    "\n",
    "           orientations=[\n",
    "               #input\n",
    "                        0,\n",
    "               #output\n",
    "                        0,\n",
    "               #losses\n",
    "                        -1, -1, -1, -1\n",
    "               ],\n",
    "           rotation=-90,\n",
    "            ax=ax,\n",
    "           scale = 1/players\n",
    "          ).finish()\n",
    "    plt.title(\"Playtest participants flow\")\n",
    "    for diagram in diagrams:\n",
    "        diagram.text.set_fontweight('bold')\n",
    "        diagram.text.set_fontsize('20')\n",
    "        for text in diagram.texts:\n",
    "            text.set_fontsize('14')"
   ]
  },
  {
   "cell_type": "markdown",
   "metadata": {},
   "source": [
    "#### drafts"
   ]
  },
  {
   "cell_type": "code",
   "execution_count": null,
   "metadata": {},
   "outputs": [],
   "source": [
    "gform[gform[QTemporality] == answerTemporalities[0]][QEnjoyed].apply(str).value_counts()"
   ]
  },
  {
   "cell_type": "code",
   "execution_count": null,
   "metadata": {},
   "outputs": [],
   "source": [
    "gform[QAge].apply(str).value_counts()['nan']"
   ]
  },
  {
   "cell_type": "code",
   "execution_count": null,
   "metadata": {},
   "outputs": [],
   "source": [
    "gform[gform[QAge].apply(str) == 'nan'][QTemporality].unique()"
   ]
  }
 ],
 "metadata": {
  "kernelspec": {
   "display_name": "Python [conda env:python3]",
   "language": "python",
   "name": "conda-env-python3-py"
  },
  "language_info": {
   "codemirror_mode": {
    "name": "ipython",
    "version": 3
   },
   "file_extension": ".py",
   "mimetype": "text/x-python",
   "name": "python",
   "nbconvert_exporter": "python",
   "pygments_lexer": "ipython3",
   "version": "3.5.4"
  }
 },
 "nbformat": 4,
 "nbformat_minor": 2
}
