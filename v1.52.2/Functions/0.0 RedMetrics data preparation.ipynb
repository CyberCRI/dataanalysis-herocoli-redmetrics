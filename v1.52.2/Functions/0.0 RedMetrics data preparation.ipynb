{
 "cells": [
  {
   "cell_type": "markdown",
   "metadata": {},
   "source": [
    "# Preparation\n",
    "\n",
    "Imports libraries\n",
    "\n",
    "Loads RedMetrics data"
   ]
  },
  {
   "cell_type": "code",
   "execution_count": null,
   "metadata": {},
   "outputs": [],
   "source": [
    "%matplotlib inline\n",
    "\n",
    "import numpy as np\n",
    "import pandas as pd\n",
    "import matplotlib.pyplot as plt\n",
    "import matplotlib.cm as cm\n",
    "import seaborn as sns\n",
    "import re\n",
    "import json\n",
    "import datetime\n",
    "\n",
    "from random import randint\n",
    "from ipywidgets import FloatProgress,IntProgress,IntText,Text,interact,interactive,IntSlider,FloatSlider\n",
    "from IPython.display import display\n",
    "from itertools import chain"
   ]
  },
  {
   "cell_type": "code",
   "execution_count": null,
   "metadata": {},
   "outputs": [],
   "source": [
    "pd.__version__"
   ]
  },
  {
   "cell_type": "code",
   "execution_count": null,
   "metadata": {},
   "outputs": [],
   "source": [
    "np.__version__"
   ]
  },
  {
   "cell_type": "code",
   "execution_count": null,
   "metadata": {},
   "outputs": [],
   "source": [
    "processRMDF1522 = not ('rmdf1522' in globals())\n",
    "processRMDF160 = not ('rmdf160' in globals())\n",
    "processRMDFTest = not ('rmrdftest' in globals())"
   ]
  },
  {
   "cell_type": "markdown",
   "metadata": {},
   "source": [
    "### common variables"
   ]
  },
  {
   "cell_type": "code",
   "execution_count": null,
   "metadata": {},
   "outputs": [],
   "source": [
    "last1522DataFilesNamesStem = \"2018-04-27\"\n",
    "dataFilesNamesStem = \"2018-05-23\"\n",
    "\n",
    "dataFolderPath = \"../../data/\"\n",
    "version1522Suffix = '-1.52.2'\n",
    "version160Suffix = '-1.60'\n",
    "processedSuffix = \"-processed\"\n",
    "testUsersSuffix = \"-testUsers\"\n",
    "testSuffix = \".test\"\n",
    "csvEncoding = 'utf-8'\n",
    "csvSuffix = '.csv'\n",
    "\n",
    "checkpointsStem = \"tutorial1.Checkpoint\""
   ]
  },
  {
   "cell_type": "code",
   "execution_count": null,
   "metadata": {},
   "outputs": [],
   "source": [
    "processedRMDF1522Path = dataFolderPath + last1522DataFilesNamesStem + version1522Suffix + processedSuffix + csvSuffix\n",
    "processedRMDF160Path  = dataFolderPath + dataFilesNamesStem         + version160Suffix  + processedSuffix + csvSuffix\n",
    "\n",
    "rmrdf1522Path         = dataFolderPath + last1522DataFilesNamesStem + version1522Suffix                   + csvSuffix\n",
    "rmrdf160Path          = dataFolderPath + dataFilesNamesStem         + version160Suffix                    + csvSuffix\n",
    "\n",
    "rmrdfTestPath         = dataFolderPath + dataFilesNamesStem         + testSuffix                          + csvSuffix\n",
    "testUsersPath         = dataFolderPath                              + testUsersSuffix                     + csvSuffix"
   ]
  },
  {
   "cell_type": "code",
   "execution_count": null,
   "metadata": {},
   "outputs": [],
   "source": [
    "rmdfLoadColumnNames = ['id', 'serverTime', 'userTime',\\\n",
    "                   'playerId', 'playerCustomData',\\\n",
    "                   'type', 'coordinates','section',\\\n",
    "                   'customData.biobrick', 'customData.devices',\\\n",
    "                   'customData.slot', 'customData.sound',\\\n",
    "                   'customData','customData.duration',\\\n",
    "                   'customData.nanobot', 'customData.language',\\\n",
    "                   'customData.controls', 'customData.chapter',\\\n",
    "                   'customData.life','customData.source',\\\n",
    "                   'customData.platform','customData.localplayerguid',\\\n",
    "                   'customData.sametab', 'customData.device',\\\n",
    "                   'customData.energy', 'customData.option',\\\n",
    "                   'customData.newtab','customData.dnabit',\\\n",
    "                   'customData.count', 'customData.plasmid',\\\n",
    "                   'customData.total', 'customData.message',\\\n",
    "                   'customData.graphics']"
   ]
  },
  {
   "cell_type": "code",
   "execution_count": null,
   "metadata": {},
   "outputs": [],
   "source": [
    "### columns\n",
    "# In RedMetrics data, 'playerId' is actually a session ID.\n",
    "# Permanent player IDs are stored as 'localplayerguid' in 'customdata' attached to 'start' events.\n",
    "rmdfMinimalInitializationColumns = ['customData.localplayerguid']\n",
    "rmdfInitializationColumns = ['customData.localplayerguid', 'playerId', 'type', 'serverTime', 'customData.platform']\n",
    "# TODO check use\n",
    "# rmdfRelevantColumns = ['sessionId', 'serverTime', 'userId', 'customData.platform']\n",
    "rmdfPlayerFilteringColumns = ['sessionId', 'userId', 'customData.platform', 'serverTime']\n",
    "rmdfCheckpointsRelevantColumns = ['sessionId', 'userId', 'type', 'section']\n",
    "rmdfRelevantColumns = ['customData.localplayerguid', 'playerId', 'type']\n",
    "rmdfRenamedRelevantColumns = ['userId', 'sessionId', 'type']"
   ]
  },
  {
   "cell_type": "markdown",
   "metadata": {},
   "source": [
    "# Functions"
   ]
  },
  {
   "cell_type": "code",
   "execution_count": null,
   "metadata": {},
   "outputs": [],
   "source": [
    "## Loading\n",
    "### Data format fixes\n",
    "def userIdConverter(uId):\n",
    "    sUID = str(uId)\n",
    "    if(sUID.startswith('n')):# == 'nan' or == 'null'):\n",
    "        return ''\n",
    "    else:\n",
    "        return sUID.replace('\"','')\n",
    "\n",
    "# date string to pd.Timestamp\n",
    "#  RedMetrics timestamps are always UTC according to doc\n",
    "#  https://github.com/CyberCRI/RedMetrics/blob/master/API.md\n",
    "rmdfDateparse = lambda x: pd.to_datetime(x, utc=True)\n",
    "\n",
    "def safeGetNormalizedRedMetricsCSV( df ):\n",
    "    return df.rename(index=str, columns={'customData.localplayerguid' : 'userId', 'playerId': 'sessionId'})\n",
    "    \n",
    "def getNormalizedRedMetricsCSV( df ):\n",
    "    newColumns = np.unique(np.concatenate((rmdfMinimalInitializationColumns, df.columns.values)))\n",
    "    return safeGetNormalizedRedMetricsCSV(df.loc[:,newColumns])\n",
    "\n",
    "def writeTestUsers(testUsers):\n",
    "    testUsers.to_csv(testUsersPath, encoding=csvEncoding)\n",
    "\n",
    "def writeRMDF(rmdf, rmdfPath):\n",
    "    rmdf.to_csv(rmdfPath, encoding=csvEncoding)"
   ]
  },
  {
   "cell_type": "markdown",
   "metadata": {},
   "source": [
    "## Filtering"
   ]
  },
  {
   "cell_type": "code",
   "execution_count": null,
   "metadata": {},
   "outputs": [],
   "source": [
    "def getAllSessions( _rmDF, dropna ):\n",
    "    _result = _rmDF.loc[:, rmdfRenamedRelevantColumns]\n",
    "    _result = _result[_result['type']=='start']\n",
    "    _result = _result.drop('type', 1)\n",
    "    if dropna:\n",
    "        _result = _result.dropna(how='any')\n",
    "    return _result\n",
    "\n",
    "def getTestSessions(_rmDF, _rmTestDF, includeAndroid = True, includeEditor = True, includeTest = True):\n",
    "\n",
    "    rmDFTestSessions = set()\n",
    "    rmTestDFTestSessions = set()\n",
    "\n",
    "    #  - have 'android' or '...editor' as platform\n",
    "    if(includeAndroid):\n",
    "        rmDFTestSessions |= set(_rmDF[_rmDF['customData.platform'].isin(['\"android\"'])]['sessionId'])\n",
    "    if(includeEditor):\n",
    "        rmDFTestSessions |= set(_rmDF[_rmDF['customData.platform'].apply(lambda s: str(s).endswith('editor\"'))]['sessionId'])\n",
    "    #print(str(len(rmDFTestSessions)))\n",
    "\n",
    "    #  - are in the RedMetrics test channel\n",
    "    if(includeTest):\n",
    "        rmTestDFTestSessions = set(_rmTestDF['sessionId'])\n",
    "    #print(str(len(rmTestDFTestSessions)))\n",
    "\n",
    "    #  - belong to a user who has a session of the type above\n",
    "    # all the sessions above\n",
    "    testSessions = rmDFTestSessions | rmTestDFTestSessions\n",
    "\n",
    "    return testSessions\n",
    "\n",
    "# gets sessions which either:\n",
    "#  - have 'android' or '...editor' as platform\n",
    "#  - are in the RedMetrics test channel\n",
    "#  - belong to a user who has a session of the type above\n",
    "def getTestUsersSessions(_rmDF, _rmTestDF, includeAndroid = True, includeEditor = True, includeTest = True):\n",
    "\n",
    "    # tables of association of user-sessions\n",
    "    rmDFUsersSessions = getAllSessions(_rmDF, False)\n",
    "    rmTestDFUsersSessions = getAllSessions(_rmTestDF, False)\n",
    "    userSessions = pd.concat([rmDFUsersSessions,rmTestDFUsersSessions])\n",
    "\n",
    "    testSessions = getTestSessions(_rmDF, _rmTestDF,\n",
    "                                   includeAndroid = includeAndroid, includeEditor = includeEditor, includeTest = includeTest)\n",
    "\n",
    "    # all the users\n",
    "    rmDFTestUsers = set(rmDFUsersSessions[rmDFUsersSessions['sessionId'].isin(testSessions)]['userId'].dropna())\n",
    "    rmTestDFTestUsers = set(_rmTestDF['userId'].dropna())\n",
    "    rmTestDFTestUsers.remove('')\n",
    "    testUsers = rmDFTestUsers | rmTestDFTestUsers\n",
    "    # all the sessions which belong to these users\n",
    "    allTestSessions = set(rmDFUsersSessions[rmDFUsersSessions['userId'].isin(testUsers)]['sessionId'].dropna())\n",
    "\n",
    "    return (testUsers,allTestSessions)"
   ]
  },
  {
   "cell_type": "markdown",
   "metadata": {},
   "source": [
    "## Load and process"
   ]
  },
  {
   "cell_type": "code",
   "execution_count": null,
   "metadata": {},
   "outputs": [],
   "source": [
    "# if the processing of the rmrdfs has already been done,\n",
    "# just load the preprocessed rmdfs\n",
    "#if processRMDF1522:\n",
    "def loadProcessedRMDFs():\n",
    "    ## Try loading the pre-processed dataframe\n",
    "    rmdfTestUsers = set()\n",
    "    rmdf1522 = []\n",
    "    rmdf160 = []\n",
    "    try:\n",
    "\n",
    "        rmdfTestUsers = set(pd.read_csv(testUsersPath, dtype=str)['userId'])\n",
    "        print(\"rmdfTestUsers read_csv success (1/3)\")\n",
    "        \n",
    "        rmdf1522 = pd.read_csv(\\\n",
    "                            processedRMDF1522Path,\\\n",
    "                            dtype=str, parse_dates=['serverTime','userTime'],\\\n",
    "                            date_parser=rmdfDateparse,\\\n",
    "                           )\n",
    "        if rmdf1522.columns[0] == 'Unnamed: 0':\n",
    "            rmdf1522 = rmdf1522.iloc[:,1:]\n",
    "        print(\"rmdf1522 read_csv success (2/3)\")\n",
    "\n",
    "        rmdf160 = pd.read_csv(\\\n",
    "                            processedRMDF160Path,\\\n",
    "                            dtype=str, parse_dates=['serverTime','userTime'],\\\n",
    "                            date_parser=rmdfDateparse,\\\n",
    "                           )\n",
    "        if rmdf160.columns[0] == 'Unnamed: 0':\n",
    "            rmdf160 = rmdf160.iloc[:,1:]\n",
    "        print(\"rmdf160 read_csv success (3/3)\")\n",
    "\n",
    "    except FileNotFoundError:\n",
    "        print(\"rmdfs will be loaded, processed, saved\")\n",
    "\n",
    "    return (rmdfTestUsers, rmdf1522, rmdf160)\n",
    "\n",
    "\n",
    "### RMDFTest loading\n",
    "# necessary variables for RMDFTest loading:\n",
    "# dataFolderPath\n",
    "# dataFilesNamesStem\n",
    "# dateparse\n",
    "# userIdConverter\n",
    "# rmdfLoadColumnNames\n",
    "# getNormalizedRedMetricsCSV\n",
    "\n",
    "# raw redmetrics df loading\n",
    "def loadRMRDF(rmdfPath):\n",
    "    rmrdf  = pd.read_csv(\\\n",
    "                            rmdfPath,\\\n",
    "                            dtype=str,\\\n",
    "                            parse_dates=['serverTime','userTime'],\\\n",
    "                            date_parser=rmdfDateparse,\\\n",
    "                            converters={'customData.localplayerguid':userIdConverter},\\\n",
    "                         )\n",
    "    rmrdf = rmrdf.loc[:,rmdfLoadColumnNames]\n",
    "    normalizedRMDF = getNormalizedRedMetricsCSV(rmrdf)\n",
    "    return normalizedRMDF\n",
    "\n",
    "# processing of raw redmetrics dfs\n",
    "# rmdfTestUsers is a set\n",
    "# rmdf1522 is assumed to be set\n",
    "# rmrdfPath raw df path for reading\n",
    "# rmdfPath processed df path for writing\n",
    "def processRMDF(rmrdfPath, rmdfPath, normalizedRMDFTest, rmdfTestUsers):\n",
    "    #print(\"processRMDF start\")\n",
    "    normalizedRMDF = loadRMRDF(rmrdfPath)\n",
    "\n",
    "    #print(\"call to getTestUsersSessions...\")\n",
    "    (testUsers, allTestSessions) = getTestUsersSessions(_rmDF = normalizedRMDF, _rmTestDF = normalizedRMDFTest)\n",
    "    #print(\"call to getTestUsersSessions done\")\n",
    "    rmdf = normalizedRMDF[~normalizedRMDF['sessionId'].isin(allTestSessions)]\n",
    "    \n",
    "    # check that testUsers is a subset of the known rmdfTestUsers\n",
    "    ## print(\"#testUsers=\"+str(len(testUsers)))\n",
    "    #if \"userId\" in testUsers:\n",
    "        #print(\"userId in testUsers\")\n",
    "    #if \"userId\" in rmdfTestUsers:\n",
    "        #print(\"userId in rmdfTestUsers\")\n",
    "        \n",
    "    #print(\"subset test\")\n",
    "    #print(type(testUsers))\n",
    "    #print(type(rmdfTestUsers))\n",
    "    if not testUsers.issubset(rmdfTestUsers):\n",
    "        diff = testUsers.difference(rmdfTestUsers)\n",
    "        #print(\"found \" + str(len(diff)) + \" unknown test users in rmdf \" + str(diff))\n",
    "#########################################################################################################\n",
    "        testUsers = testUsers | rmdfTestUsers\n",
    "#########################################################################################################\n",
    "        testUsers = pd.DataFrame(data=list(testUsers), columns=['userId'])\n",
    "        writeTestUsers(testUsers)\n",
    "\n",
    "    #print(\"userSessions\")\n",
    "    userSessions = rmdf[rmdf['userId']!=''].loc[:,['userId','sessionId']].dropna(how='any').drop_duplicates()\n",
    "    \n",
    "    intProgress = IntProgress(min=0, max=len(userSessions.index))\n",
    "    display(intProgress)\n",
    "    intText = IntText(0)\n",
    "    display(intText)\n",
    "    \n",
    "    #print(\"loop starting\")\n",
    "    for userSessionsIndex in userSessions.index:\n",
    "        intProgress.value += 1\n",
    "        intText.value += 1\n",
    "        \n",
    "        userId = userSessions.loc[userSessionsIndex, 'userId']\n",
    "        sessionId = userSessions.loc[userSessionsIndex, 'sessionId']\n",
    "        rmdf.loc[rmdf['sessionId']==sessionId,'userId'] = userId\n",
    "\n",
    "    #rmdf1522['userId'].nunique(),userSessions['userId'].nunique(),\\\n",
    "    #rmdf1522[~rmdf1522['userId'].isin(userSessions['userId'].unique())],\\\n",
    "    #userSessions[~userSessions['userId'].isin(rmdf1522['userId'].unique())]\n",
    "\n",
    "#### Saving to csv\n",
    "    #print(\"saving to csv\")\n",
    "    writeRMDF(rmdf, rmdfPath)\n",
    "    #print(\"processRMDF done\")\n",
    "    \n",
    "    return (rmdf, testUsers)"
   ]
  },
  {
   "cell_type": "markdown",
   "metadata": {},
   "source": [
    "# Execution"
   ]
  },
  {
   "cell_type": "code",
   "execution_count": null,
   "metadata": {},
   "outputs": [],
   "source": [
    "processRMDF1522 = not ('rmdf1522' in globals())\n",
    "processRMDF160 = not ('rmdf160' in globals())\n",
    "processRMDFTest = not ('normalizedRMDFTest' in globals())"
   ]
  },
  {
   "cell_type": "code",
   "execution_count": null,
   "metadata": {},
   "outputs": [],
   "source": [
    "processRMDF1522, processRMDF160, processRMDFTest"
   ]
  },
  {
   "cell_type": "code",
   "execution_count": null,
   "metadata": {
    "scrolled": true
   },
   "outputs": [],
   "source": [
    "if processRMDF1522 or processRMDF160 or processRMDFTest:\n",
    "    \n",
    "    ## calls\n",
    "    #print(\"STEP 1\")\n",
    "    (rmdfTestUsers, rmdf1522, rmdf160) = loadProcessedRMDFs()\n",
    "    #print(type(rmdfTestUsers))\n",
    "\n",
    "    process1522 = (len(rmdf1522) == 0)\n",
    "    process160  = (len(rmdf160)  == 0)\n",
    "\n",
    "    normalizedRMDFTest = []\n",
    "    testUsers = []\n",
    "\n",
    "    if process1522 or process160:\n",
    "        #print(\"STEP test\")\n",
    "        normalizedRMDFTest = loadRMRDF(rmrdfTestPath)\n",
    "    if process1522:\n",
    "        #print(\"STEP 1522\")\n",
    "        (rmdf1522, testUsers) = processRMDF(rmrdf1522Path, processedRMDF1522Path, normalizedRMDFTest, rmdfTestUsers)\n",
    "    if process160:\n",
    "        #print(\"STEP 160\")\n",
    "        (rmdf160, testUsers) = processRMDF(rmrdf160Path, processedRMDF160Path, normalizedRMDFTest, rmdfTestUsers)\n",
    "    \n",
    "    # concatenation of all redmetrics events pertaining to 1.52.2 survey: rmdf1522 and rmdf160\n",
    "    rmdfConcat = pd.concat([rmdf1522, rmdf160])\n",
    "    rmdfConcat.index = range(0, len(rmdfConcat.index))\n",
    "    \n",
    "    #print(\"STEP done\")\n",
    "#else:\n",
    "    #print(\"all done\")"
   ]
  },
  {
   "cell_type": "code",
   "execution_count": null,
   "metadata": {},
   "outputs": [],
   "source": [
    "#rmdf1522['userId'].nunique(), rmdf160['userId'].nunique()"
   ]
  },
  {
   "cell_type": "code",
   "execution_count": null,
   "metadata": {},
   "outputs": [],
   "source": [
    "#rmdf1522['userTime'].min()"
   ]
  },
  {
   "cell_type": "markdown",
   "metadata": {},
   "source": [
    "# All versions"
   ]
  },
  {
   "cell_type": "markdown",
   "metadata": {},
   "source": [
    "rdf = pd.concat([part100, \n",
    "                      part131, part132, part133, \n",
    "                      part140, \n",
    "                      part150, part151, part1522])\n",
    "\n",
    "df = getNormalizedRedMetricsCSV(rdf)"
   ]
  },
  {
   "cell_type": "markdown",
   "metadata": {},
   "source": [
    "# Old versions"
   ]
  },
  {
   "cell_type": "markdown",
   "metadata": {},
   "source": [
    "rdf100 = pd.read_csv(\"../../data/1.0.csv\")\n",
    "rdf131 = pd.read_csv(\"../../data/1.31.csv\")\n",
    "rdf132 = pd.read_csv(\"../../data/1.32.csv\")\n",
    "rdf133 = pd.read_csv(\"../../data/1.33.csv\")\n",
    "rdf140 = pd.read_csv(\"../../data/1.40.csv\")\n",
    "rdf150 = pd.read_csv(\"../../data/1.50.csv\")\n",
    "rdf151 = pd.read_csv(\"../../data/1.51.csv\")\n",
    "\n",
    "part100 = rdf100.loc[:,relevantColumns]\n",
    "part131 = rdf131.loc[:,relevantColumns]\n",
    "part132 = rdf132.loc[:,relevantColumns]\n",
    "part133 = rdf133.loc[:,relevantColumns]\n",
    "part140 = rdf140.loc[:,relevantColumns]\n",
    "part150 = rdf150.loc[:,relevantColumns]\n",
    "part151 = rdf151.loc[:,relevantColumns]"
   ]
  },
  {
   "cell_type": "markdown",
   "metadata": {},
   "source": [
    "# Tests"
   ]
  },
  {
   "cell_type": "markdown",
   "metadata": {},
   "source": [
    "rdftest = pd.read_csv(\"../../data/2017-10-11.test.csv\")\n",
    "dftest = getNormalizedRedMetricsCSV(rdftest)"
   ]
  },
  {
   "cell_type": "markdown",
   "metadata": {},
   "source": [
    "TOD: get rid of warning\n",
    "    \n",
    "    DtypeWarning: Columns (18,22,28,32,38) have mixed types. Specify dtype option on import or set low_memory=False.\n",
    "    interactivity=interactivity, compiler=compiler, result=result)\n",
    "\n",
    "using https://stackoverflow.com/questions/24251219/pandas-read-csv-low-memory-and-dtype-options"
   ]
  }
 ],
 "metadata": {
  "kernelspec": {
   "display_name": "Python [conda env:python3]",
   "language": "python",
   "name": "conda-env-python3-py"
  },
  "language_info": {
   "codemirror_mode": {
    "name": "ipython",
    "version": 3
   },
   "file_extension": ".py",
   "mimetype": "text/x-python",
   "name": "python",
   "nbconvert_exporter": "python",
   "pygments_lexer": "ipython3",
   "version": "3.5.4"
  }
 },
 "nbformat": 4,
 "nbformat_minor": 1
}
