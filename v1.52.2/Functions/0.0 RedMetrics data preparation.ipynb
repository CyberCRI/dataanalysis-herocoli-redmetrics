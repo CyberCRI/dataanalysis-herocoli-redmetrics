{
 "cells": [
  {
   "cell_type": "markdown",
   "metadata": {},
   "source": [
    "# Preparation\n",
    "\n",
    "Imports libraries\n",
    "\n",
    "Loads RedMetrics data"
   ]
  },
  {
   "cell_type": "code",
   "execution_count": null,
   "metadata": {},
   "outputs": [],
   "source": [
    "%matplotlib inline\n",
    "\n",
    "import numpy as np\n",
    "import pandas as pd\n",
    "import matplotlib.pyplot as plt\n",
    "import matplotlib.cm as cm\n",
    "import seaborn as sns\n",
    "import re\n",
    "import json\n",
    "import datetime\n",
    "\n",
    "from random import randint\n",
    "from ipywidgets import FloatProgress,IntProgress,IntText,Text,interact\n",
    "from IPython.display import display\n",
    "from itertools import chain"
   ]
  },
  {
   "cell_type": "code",
   "execution_count": null,
   "metadata": {},
   "outputs": [],
   "source": [
    "pd.__version__"
   ]
  },
  {
   "cell_type": "code",
   "execution_count": null,
   "metadata": {},
   "outputs": [],
   "source": [
    "np.__version__"
   ]
  },
  {
   "cell_type": "code",
   "execution_count": null,
   "metadata": {},
   "outputs": [],
   "source": [
    "processRMDF1522 = not ('rmdf1522' in globals())\n",
    "processRMDFTest = not ('rmrdftest' in globals())"
   ]
  },
  {
   "cell_type": "markdown",
   "metadata": {},
   "source": [
    "### common variables"
   ]
  },
  {
   "cell_type": "code",
   "execution_count": null,
   "metadata": {},
   "outputs": [],
   "source": [
    "dataFilesNamesStem = \"2018-04-27\"\n",
    "versionSuffix = '-1.52.2'\n",
    "dataFolderPath = \"../../data/\"\n",
    "csvEncoding = 'utf-8'\n",
    "csvSuffix = '.csv'\n",
    "\n",
    "checkpointsStem = \"tutorial1.Checkpoint\""
   ]
  },
  {
   "cell_type": "markdown",
   "metadata": {},
   "source": [
    "# Version 1.52.2"
   ]
  },
  {
   "cell_type": "code",
   "execution_count": null,
   "metadata": {},
   "outputs": [],
   "source": [
    "if processRMDF1522 or processRMDFTest:\n",
    "    # date string to pd.Timestamp\n",
    "    #  RedMetrics timestamps are always UTC according to doc\n",
    "    #  https://github.com/CyberCRI/RedMetrics/blob/master/API.md\n",
    "    dateparse = lambda x: pd.to_datetime(x, utc=True)\n",
    "\n",
    "if processRMDF1522:\n",
    "    ## Try loading the pre-processed dataframe\n",
    "    processedRMDF1522Path = dataFolderPath + dataFilesNamesStem + versionSuffix + \"-processed\" + csvSuffix\n",
    "    testUsers1522Path     = dataFolderPath + dataFilesNamesStem + versionSuffix + \"-testUsers\" + csvSuffix\n",
    "    processRMDF1522 = False\n",
    "    try:\n",
    "        rmdf1522 = pd.read_csv(\\\n",
    "                            processedRMDF1522Path,\\\n",
    "                            dtype=str, parse_dates=['serverTime','userTime'],\\\n",
    "                            date_parser=dateparse,\\\n",
    "                           )\n",
    "        if rmdf1522.columns[0] == 'Unnamed: 0':\n",
    "            rmdf1522 = rmdf1522.iloc[:,1:]\n",
    "        testUsers = pd.read_csv(testUsers1522Path, dtype=str).loc[:,['userId']]\n",
    "        print(\"rmdf1522 read_csv success\")\n",
    "    except FileNotFoundError:\n",
    "        print(\"rmdf1522 read_csv failed: now loading, processing, saving rmdf1522\")\n",
    "        processRMDF1522 = True"
   ]
  },
  {
   "cell_type": "markdown",
   "metadata": {},
   "source": [
    "### columns"
   ]
  },
  {
   "cell_type": "code",
   "execution_count": null,
   "metadata": {},
   "outputs": [],
   "source": [
    "if processRMDF1522 or processRMDFTest:\n",
    "    # In RedMetrics data, 'playerId' is actually a session ID.\n",
    "    # Permanent player IDs are stored as 'localplayerguid' in 'customdata' attached to 'start' events.\n",
    "    minimalInitializationColumns = ['customData.localplayerguid']\n",
    "    initializationColumns = ['customData.localplayerguid', 'playerId', 'type', 'serverTime', 'customData.platform']\n",
    "    relevantColumns = ['sessionId', 'serverTime', 'userId', 'customData.platform']\n",
    "    playerFilteringColumns = ['sessionId', 'userId', 'customData.platform', 'serverTime']\n",
    "    checkpointsRelevantColumns = ['sessionId', 'userId', 'type', 'section']"
   ]
  },
  {
   "cell_type": "markdown",
   "metadata": {},
   "source": [
    "### dataframes for the different game versions"
   ]
  },
  {
   "cell_type": "code",
   "execution_count": null,
   "metadata": {},
   "outputs": [],
   "source": [
    "if processRMDF1522 or processRMDFTest:\n",
    "    def getNormalizedRedMetricsCSV( df ):\n",
    "        newColumns = np.unique(np.concatenate((minimalInitializationColumns, df.columns.values)))\n",
    "        return safeGetNormalizedRedMetricsCSV(df.loc[:,newColumns])\n",
    "\n",
    "    def safeGetNormalizedRedMetricsCSV( df ):\n",
    "        return df.rename(index=str, columns={'customData.localplayerguid' : 'userId', 'playerId': 'sessionId'})\n",
    "\n",
    "    relevantColumns = ['customData.localplayerguid', 'playerId', 'type']\n",
    "    renamedRelevantColumns = ['userId', 'sessionId', 'type']"
   ]
  },
  {
   "cell_type": "markdown",
   "metadata": {},
   "source": [
    "# Old versions"
   ]
  },
  {
   "cell_type": "markdown",
   "metadata": {},
   "source": [
    "rdf100 = pd.read_csv(\"../../data/1.0.csv\")\n",
    "rdf131 = pd.read_csv(\"../../data/1.31.csv\")\n",
    "rdf132 = pd.read_csv(\"../../data/1.32.csv\")\n",
    "rdf133 = pd.read_csv(\"../../data/1.33.csv\")\n",
    "rdf140 = pd.read_csv(\"../../data/1.40.csv\")\n",
    "rdf150 = pd.read_csv(\"../../data/1.50.csv\")\n",
    "rdf151 = pd.read_csv(\"../../data/1.51.csv\")\n",
    "\n",
    "part100 = rdf100.loc[:,relevantColumns]\n",
    "part131 = rdf131.loc[:,relevantColumns]\n",
    "part132 = rdf132.loc[:,relevantColumns]\n",
    "part133 = rdf133.loc[:,relevantColumns]\n",
    "part140 = rdf140.loc[:,relevantColumns]\n",
    "part150 = rdf150.loc[:,relevantColumns]\n",
    "part151 = rdf151.loc[:,relevantColumns]"
   ]
  },
  {
   "cell_type": "markdown",
   "metadata": {},
   "source": [
    "# Tests"
   ]
  },
  {
   "cell_type": "markdown",
   "metadata": {},
   "source": [
    "rdftest = pd.read_csv(\"../../data/2017-10-11.test.csv\")\n",
    "dftest = getNormalizedRedMetricsCSV(rdftest)"
   ]
  },
  {
   "cell_type": "markdown",
   "metadata": {},
   "source": [
    "## Filtering"
   ]
  },
  {
   "cell_type": "code",
   "execution_count": null,
   "metadata": {},
   "outputs": [],
   "source": [
    "if processRMDF1522:\n",
    "    \n",
    "    def getAllSessions( _rmDF, dropna ):\n",
    "        _result = _rmDF.loc[:, renamedRelevantColumns]\n",
    "        _result = _result[_result['type']=='start']\n",
    "        _result = _result.drop('type', 1)\n",
    "        if dropna:\n",
    "            _result = _result.dropna(how='any')\n",
    "        return _result\n",
    "\n",
    "    def getTestSessions(_rmDF, _rmTestDF, includeAndroid = True, includeEditor = True, includeTest = True):\n",
    "\n",
    "        rmDFTestSessions = set()\n",
    "        rmTestDFTestSessions = set()\n",
    "\n",
    "        #  - have 'android' or '...editor' as platform\n",
    "        if(includeAndroid):\n",
    "            rmDFTestSessions |= set(_rmDF[_rmDF['customData.platform'].isin(['\"android\"'])]['sessionId'])\n",
    "        if(includeEditor):\n",
    "            rmDFTestSessions |= set(_rmDF[_rmDF['customData.platform'].apply(lambda s: str(s).endswith('editor\"'))]['sessionId'])\n",
    "        #print(str(len(rmDFTestSessions)))\n",
    "\n",
    "        #  - are in the RedMetrics test channel\n",
    "        if(includeTest):\n",
    "            rmTestDFTestSessions = set(_rmTestDF['sessionId'])\n",
    "        #print(str(len(rmTestDFTestSessions)))\n",
    "\n",
    "        #  - belong to a user who has a session of the type above\n",
    "        # all the sessions above\n",
    "        testSessions = rmDFTestSessions | rmTestDFTestSessions\n",
    "\n",
    "        return testSessions\n",
    "\n",
    "    # gets sessions which either:\n",
    "    #  - have 'android' or '...editor' as platform\n",
    "    #  - are in the RedMetrics test channel\n",
    "    #  - belong to a user who has a session of the type above\n",
    "    def getTestUsersSessions(_rmDF, _rmTestDF, includeAndroid = True, includeEditor = True, includeTest = True):\n",
    "\n",
    "        # tables of association of user-sessions\n",
    "        rmDFUsersSessions = getAllSessions(_rmDF, False)\n",
    "        rmTestDFUsersSessions = getAllSessions(_rmTestDF, False)\n",
    "        userSessions = pd.concat([rmDFUsersSessions,rmTestDFUsersSessions])\n",
    "\n",
    "        testSessions = getTestSessions(_rmDF, _rmTestDF,\n",
    "                                       includeAndroid = includeAndroid, includeEditor = includeEditor, includeTest = includeTest)\n",
    "\n",
    "        # all the users\n",
    "        rmDFTestUsers = set(rmDFUsersSessions[rmDFUsersSessions['sessionId'].isin(testSessions)]['userId'].dropna())\n",
    "        rmTestDFTestUsers = set(_rmTestDF['userId'].dropna())\n",
    "        rmTestDFTestUsers.remove('')\n",
    "        testUsers = rmDFTestUsers | rmTestDFTestUsers\n",
    "        # all the sessions which belong to these users\n",
    "        allTestSessions = set(rmDFUsersSessions[rmDFUsersSessions['userId'].isin(testUsers)]['sessionId'].dropna())\n",
    "\n",
    "        return (testUsers,allTestSessions)"
   ]
  },
  {
   "cell_type": "markdown",
   "metadata": {},
   "source": [
    "TOD: get rid of warning\n",
    "    \n",
    "    DtypeWarning: Columns (18,22,28,32,38) have mixed types. Specify dtype option on import or set low_memory=False.\n",
    "    interactivity=interactivity, compiler=compiler, result=result)\n",
    "\n",
    "using https://stackoverflow.com/questions/24251219/pandas-read-csv-low-memory-and-dtype-options"
   ]
  },
  {
   "cell_type": "markdown",
   "metadata": {},
   "source": [
    "## Loading\n",
    "### Data format fixes"
   ]
  },
  {
   "cell_type": "code",
   "execution_count": null,
   "metadata": {},
   "outputs": [],
   "source": [
    "if processRMDF1522 or processRMDFTest:\n",
    "    \n",
    "    def userIdConverter(uId):\n",
    "        sUID = str(uId)\n",
    "        if(sUID.startswith('n')):# == 'nan' or == 'null'):\n",
    "            return ''\n",
    "        else:\n",
    "            return sUID.replace('\"','')\n",
    "\n",
    "    loadColumnNames = ['id', 'serverTime', 'userTime',\\\n",
    "                       'playerId', 'playerCustomData',\\\n",
    "                       'type', 'coordinates','section',\\\n",
    "                       'customData.biobrick', 'customData.devices',\\\n",
    "                       'customData.slot', 'customData.sound',\\\n",
    "                       'customData','customData.duration',\\\n",
    "                       'customData.nanobot', 'customData.language',\\\n",
    "                       'customData.controls', 'customData.chapter',\\\n",
    "                       'customData.life','customData.source',\\\n",
    "                       'customData.platform','customData.localplayerguid',\\\n",
    "                       'customData.sametab', 'customData.device',\\\n",
    "                       'customData.energy', 'customData.option',\\\n",
    "                       'customData.newtab','customData.dnabit',\\\n",
    "                       'customData.count', 'customData.plasmid',\\\n",
    "                       'customData.total', 'customData.message',\\\n",
    "                       'customData.graphics']"
   ]
  },
  {
   "cell_type": "markdown",
   "metadata": {},
   "source": [
    "### RMDFTest loading"
   ]
  },
  {
   "cell_type": "code",
   "execution_count": null,
   "metadata": {},
   "outputs": [],
   "source": [
    "# necessary variables for RMDFTest loading:\n",
    "# dataFolderPath\n",
    "# dataFilesNamesStem\n",
    "# dateparse\n",
    "# userIdConverter\n",
    "# loadColumnNames\n",
    "# getNormalizedRedMetricsCSV"
   ]
  },
  {
   "cell_type": "code",
   "execution_count": null,
   "metadata": {},
   "outputs": [],
   "source": [
    "if processRMDFTest:\n",
    "    rmrdftest = pd.read_csv(\\\n",
    "                                dataFolderPath + dataFilesNamesStem + \".test\" + csvSuffix,\\\n",
    "                                dtype=str,\\\n",
    "                                parse_dates=['serverTime','userTime'],\\\n",
    "                                date_parser=dateparse,\\\n",
    "                                converters={'customData.localplayerguid':userIdConverter},\\\n",
    "                           )\n",
    "    rmrdftest = rmrdftest.loc[:,loadColumnNames]\n",
    "    normalizedRMDFTest = getNormalizedRedMetricsCSV(rmrdftest)\n",
    "\n",
    "\n",
    "if(processRMDF1522):\n",
    "    \n",
    "    rmrdf1522  = pd.read_csv(\\\n",
    "                            dataFolderPath + dataFilesNamesStem + versionSuffix + csvSuffix,\\\n",
    "                            dtype=str,\\\n",
    "                            parse_dates=['serverTime','userTime'],\\\n",
    "                            date_parser=dateparse,\\\n",
    "                            converters={'customData.localplayerguid':userIdConverter},\\\n",
    "                         )\n",
    "    rmrdf1522 = rmrdf1522.loc[:,loadColumnNames]\n",
    "    part1522 = rmrdf1522.loc[:,relevantColumns]\n",
    "    normalizedRMDF1522 = getNormalizedRedMetricsCSV(rmrdf1522)\n",
    "\n",
    "    (testUsers, allTestSessions) = getTestUsersSessions(_rmDF = normalizedRMDF1522, _rmTestDF = normalizedRMDFTest)\n",
    "    rmdf1522 = normalizedRMDF1522[~normalizedRMDF1522['sessionId'].isin(allTestSessions)]\n",
    "    \n",
    "    testUsers = pd.DataFrame(data=list(testUsers), columns=['userId'])\n",
    "    testUsers.to_csv(testUsers1522Path, encoding=csvEncoding)\n",
    "\n",
    "    userSessions = rmdf1522[rmdf1522['userId']!=''].loc[:,['userId','sessionId']]\n",
    "    \n",
    "    intProgress = IntProgress(min=0, max=len(userSessions.index))\n",
    "    display(intProgress)\n",
    "    intText = IntText(0)\n",
    "    display(intText)\n",
    "    \n",
    "    for userSessionsIndex in userSessions.index:\n",
    "        intProgress.value += 1\n",
    "        intText.value += 1\n",
    "        \n",
    "        userId = userSessions.loc[userSessionsIndex, 'userId']\n",
    "        sessionId = userSessions.loc[userSessionsIndex, 'sessionId']\n",
    "        rmdf1522.loc[rmdf1522['sessionId']==sessionId,'userId'] = userId\n",
    "\n",
    "    rmdf1522['userId'].nunique(),userSessions['userId'].nunique(),\\\n",
    "    rmdf1522[~rmdf1522['userId'].isin(userSessions['userId'].unique())],\\\n",
    "    userSessions[~userSessions['userId'].isin(rmdf1522['userId'].unique())]"
   ]
  },
  {
   "cell_type": "markdown",
   "metadata": {},
   "source": [
    "#### Saving to csv"
   ]
  },
  {
   "cell_type": "code",
   "execution_count": null,
   "metadata": {},
   "outputs": [],
   "source": [
    "if(processRMDF1522):\n",
    "    rmdf1522.to_csv(processedRMDF1522Path, encoding=csvEncoding)"
   ]
  },
  {
   "cell_type": "markdown",
   "metadata": {},
   "source": [
    "# All versions"
   ]
  },
  {
   "cell_type": "markdown",
   "metadata": {},
   "source": [
    "rdf = pd.concat([part100, \n",
    "                      part131, part132, part133, \n",
    "                      part140, \n",
    "                      part150, part151, part1522])\n",
    "\n",
    "df = getNormalizedRedMetricsCSV(rdf)"
   ]
  }
 ],
 "metadata": {
  "kernelspec": {
   "display_name": "Python [conda env:python3]",
   "language": "python",
   "name": "conda-env-python3-py"
  },
  "language_info": {
   "codemirror_mode": {
    "name": "ipython",
    "version": 3
   },
   "file_extension": ".py",
   "mimetype": "text/x-python",
   "name": "python",
   "nbconvert_exporter": "python",
   "pygments_lexer": "ipython3",
   "version": "3.5.4"
  }
 },
 "nbformat": 4,
 "nbformat_minor": 1
}
