{
 "cells": [
  {
   "cell_type": "markdown",
   "metadata": {},
   "source": [
    "# Sampling"
   ]
  },
  {
   "cell_type": "markdown",
   "metadata": {},
   "source": [
    "[Preparation](#Preparation)\n",
    "\n",
    "Constants\n",
    "\n",
    "Functions\n",
    "\n",
    "[2018-03-23 - 2018-04-27 Online campaign - 1.52.2](#2018-03-23---2018-04-27-Online-campaign---1.52.2)\n",
    "\n",
    "[2018-04-27 - 2018-07-05 Online campaign - 1.60](#2018-04-27---2018-07-05-Online-campaign---1.60)\n",
    "\n",
    "[2018-04-10 - 2018-04-28 Playtest - 1.52.2 & 1.60](#2018-04-10---2018-04-28-Playtest---1.52.2-&-1.60)\n",
    "\n",
    "  - [Dates](#Dates)\n",
    "  - [Samples](#Samples)\n",
    "  \n",
    "[Sample analysis](#Sample-analysis)\n",
    "\n",
    "  Checks on the profiles counts - search for duplicates  \n",
    "  Global analysis of player paths\n",
    "\n",
    "Checks on the profiles counts - search for duplicates\n",
    "\n",
    "Global analysis of player paths\n",
    "\n",
    "Sankey diagram"
   ]
  },
  {
   "cell_type": "markdown",
   "metadata": {},
   "source": [
    "## Preparation"
   ]
  },
  {
   "cell_type": "code",
   "execution_count": null,
   "metadata": {
    "scrolled": false
   },
   "outputs": [],
   "source": [
    "%run \"../Functions/2. Google form analysis.ipynb\""
   ]
  },
  {
   "cell_type": "code",
   "execution_count": null,
   "metadata": {
    "scrolled": true
   },
   "outputs": [],
   "source": [
    "#rmdf1522.columns\n",
    "#'coordinates', 'customData', 'customData.biobrick', 'customData.chapter', 'customData.controls', 'customData.count', 'customData.device', 'customData.devices', 'customData.dnabit', 'customData.duration', 'customData.energy', 'customData.graphics', 'customData.language', 'customData.life', 'userId', 'customData.message', 'customData.nanobot', 'customData.newtab', 'customData.option', 'customData.plasmid', 'customData.platform', 'customData.sametab', 'customData.slot', 'customData.sound', 'customData.source', 'customData.total', 'id', 'playerCustomData', 'sessionId', 'section', 'serverTime', 'type', 'userTime'"
   ]
  },
  {
   "cell_type": "code",
   "execution_count": null,
   "metadata": {},
   "outputs": [],
   "source": [
    "#testUserId1 = 'f4589007-0809-4673-ad50-d985abe4fa65'\n",
    "#testUserId2 = '653f174e-c23f-4d3a-94f6-d26b53ac7168'\n",
    "#gform[gform[QUserId] == testUserId2]\n",
    "#testUserId2 in testUsers"
   ]
  },
  {
   "cell_type": "code",
   "execution_count": null,
   "metadata": {},
   "outputs": [],
   "source": [
    "displayResults = False"
   ]
  },
  {
   "cell_type": "markdown",
   "metadata": {},
   "source": [
    "# Constants"
   ]
  },
  {
   "cell_type": "code",
   "execution_count": null,
   "metadata": {},
   "outputs": [],
   "source": [
    "# rows\n",
    "phase1Label = 'phase1'\n",
    "phase2Label = 'phase2'\n",
    "totalLabel = 'total'\n",
    "\n",
    "# columns\n",
    "playersCountLabel = 'players'\n",
    "respondentsCountLabel = 'respondents'\n",
    "respondentsExploitableCountLabel = 'exploitable respondents'\n",
    "respondentsTwiceCountLabel = 'twice respondents'\n",
    "respondentsTwiceVolunteersCountLabel = 'volunteers'\n",
    "prefixFemale = 'f '\n",
    "prefixMale = 'm '\n",
    "\n",
    "# graph titles and axes\n",
    "chainingString = \", \"\n",
    "totalSuffix = chainingString + totalLabel\n",
    "phase1Suffix = chainingString + phase1Label\n",
    "phase2Suffix = chainingString + phase2Label\n",
    "twiceRespondentsSuffix = chainingString + respondentsTwiceCountLabel\n",
    "volunteersSuffix = chainingString + respondentsTwiceVolunteersCountLabel\n",
    "\n",
    "ageTitleEnglish = \"Age of participants\"\n",
    "ageVolunteersTitleEnglish = \"Age of volunteers\"\n",
    "ageXLabelEnglish = \"Age\"\n",
    "ageYLabelEnglish = \"Count\"\n",
    "unknownAgeLabelEnglish = \"unknown\"\n",
    "\n",
    "ageTitleFrench = \"Âge des participants\"\n",
    "ageFemaleTitleFrench = \"Âge des participantes\"\n",
    "ageXLabelFrench = \"Âge\"\n",
    "ageYLabelFrench = \"Nombre\"\n",
    "unknownAgeLabelFrench = \"inconnu\"\n",
    "\n",
    "genderLabelsEnglish = ['Females', 'Males', 'Other/Unspecified/Unknown']\n",
    "genderLabelsFrench = ['Femmes', 'Hommes', 'Autres/Non précisé/Inconnu']\n",
    "genderTitleEnglish = 'Gender of respondents'\n",
    "genderExploitableTitleEnglish = 'Gender of exploitable respondents'\n",
    "genderTitleFrench = 'Sexe des personnes interrogées'\n",
    "\n",
    "playtestStatistics = pd.DataFrame(\n",
    "    data = np.nan,\n",
    "    index = [phase1Label, phase2Label, totalLabel],\n",
    "    columns = [playersCountLabel]\n",
    ")"
   ]
  },
  {
   "cell_type": "markdown",
   "metadata": {},
   "source": [
    "# Functions"
   ]
  },
  {
   "cell_type": "code",
   "execution_count": null,
   "metadata": {},
   "outputs": [],
   "source": [
    "def getFormattedPercentageAndAbsoluteValueFunction(total):\n",
    "    return lambda p: '{:1.1f}%'.format(p) + ' ({:.0f})'.format(round(p * total / 100))"
   ]
  },
  {
   "cell_type": "code",
   "execution_count": null,
   "metadata": {},
   "outputs": [],
   "source": [
    "# problem: counts UserIds, but there can be more than one subject per UserId\n",
    "def setCount(_gfDF, rowLabel, columnLabel, useProfiles=True):\n",
    "    if useProfiles:\n",
    "        playtestStatistics.loc[rowLabel, columnLabel] = len(getUniqueProfiles(_gfDF))\n",
    "    else:\n",
    "        playtestStatistics.loc[rowLabel, columnLabel] = len(_gfDF[QUserId].unique())\n",
    "    return playtestStatistics.loc[rowLabel, columnLabel]\n",
    "\n",
    "def setGenderedCount(sampledGform, rowLabel, columnLabel, plotPie = False, title = ''):\n",
    "    femaleSample = sampledGform[sampledGform[QGender] == \"Female\"]\n",
    "    maleSample = sampledGform[sampledGform[QGender] == \"Male\"]\n",
    "\n",
    "    tCount = setCount(sampledGform, rowLabel, columnLabel)\n",
    "    fCount = setCount(femaleSample, rowLabel, prefixFemale + columnLabel)\n",
    "    mCount = setCount(maleSample, rowLabel, prefixMale + columnLabel)\n",
    "    oCount = tCount-fCount-mCount\n",
    "    \n",
    "    if plotPie:\n",
    "        plt.pie([fCount, mCount, oCount], labels=genderLabelsEnglish,\\\n",
    "                autopct=getFormattedPercentageAndAbsoluteValueFunction(tCount),\\\n",
    "                shadow=True)\n",
    "        plt.title(title)\n",
    "        plt.show()"
   ]
  },
  {
   "cell_type": "code",
   "execution_count": null,
   "metadata": {},
   "outputs": [],
   "source": [
    "def getUniqueProfiles(_gfDF):\n",
    "    playtestProfiles = _gfDF.loc[:,[QUserId, QAge, QGender]]\n",
    "    playtestProfiles.drop_duplicates(subset=[QUserId, QAge, QGender], keep='first', inplace=True)\n",
    "    return playtestProfiles"
   ]
  },
  {
   "cell_type": "code",
   "execution_count": null,
   "metadata": {},
   "outputs": [],
   "source": [
    "# samples using UserIds associated with unique profiles\n",
    "def getUserIdsWithUniqueProfile(_gfDF):\n",
    "    multipleProfiles = _gfDF.loc[:, [QUserId, QAge, QGender]].drop_duplicates()[QUserId].value_counts()\n",
    "    multipleProfiles = multipleProfiles[multipleProfiles != 1]    \n",
    "    return _gfDF[~_gfDF[QUserId].isin(multipleProfiles.index)]"
   ]
  },
  {
   "cell_type": "code",
   "execution_count": null,
   "metadata": {},
   "outputs": [],
   "source": [
    "#multipleProfiles = gfdfPlaytest.loc[:, [QUserId, QAge, QGender]].drop_duplicates()[QUserId].value_counts()\n",
    "#multipleProfiles = multipleProfiles[multipleProfiles != 1]\n",
    "#for userId in multipleProfiles.index:\n",
    "#    print(str(gfdfPlaytest[gfdfPlaytest[QUserId] == userId].loc[:, [QUserId, QAge, QGender]]))"
   ]
  },
  {
   "cell_type": "code",
   "execution_count": null,
   "metadata": {},
   "outputs": [],
   "source": [
    "def getTicksByStep(minValue, maxValue, step):\n",
    "    start = minValue + step - (minValue % step)\n",
    "    end = maxValue - (maxValue % step) + step\n",
    "\n",
    "    ticks = [x for x in range(start, end, step)]\n",
    "    ticks = np.append([minValue], ticks)\n",
    "    ticks = np.append(ticks, [maxValue])\n",
    "\n",
    "    return ticks"
   ]
  },
  {
   "cell_type": "code",
   "execution_count": null,
   "metadata": {},
   "outputs": [],
   "source": [
    "def getTicks(minValue, maxValue, step = 0, labelCount = 0):\n",
    "    if step == 0 and labelCount != 0:\n",
    "        step = int((maxValue - minValue + 1) / labelCount)\n",
    "    return getTicksByStep(minValue, maxValue, step)"
   ]
  },
  {
   "cell_type": "code",
   "execution_count": null,
   "metadata": {},
   "outputs": [],
   "source": [
    "def plotAge(_gfDF, title = ageTitleEnglish, xlabel = ageXLabelEnglish, ylabel = ageYLabelEnglish):\n",
    "    playtestProfiles = getUniqueProfiles(_gfDF)\n",
    "\n",
    "    ages = playtestProfiles[QAge].value_counts().sort_index()\n",
    "    minAge = ages.index.min()\n",
    "    maxAge = ages.index.max()\n",
    "    ages = pd.Series(ages, index=range(minAge, maxAge+1)).fillna(0)\n",
    "    \n",
    "    yticks = getTicks(int(ages.min()), int(ages.max()), labelCount = 5)\n",
    "    ax = ages.plot(kind='bar', yticks=yticks)\n",
    "    \n",
    "    #ax = ages.plot(kind='bar')\n",
    "    plt.xlabel(xlabel)\n",
    "    plt.ylabel(ylabel)\n",
    "    \n",
    "    # xticks like yticks doesn't work\n",
    "    # workaround\n",
    "    xticks = getTicks(minAge, maxAge, step = 5)\n",
    "    newTicks = xticks - minAge\n",
    "    newLabels = xticks\n",
    "    ax.xaxis.set_ticks(newTicks)\n",
    "    ax.xaxis.set_ticklabels(newLabels)\n",
    "    \n",
    "    plt.title(title)\n",
    "    plt.show()"
   ]
  },
  {
   "cell_type": "code",
   "execution_count": null,
   "metadata": {},
   "outputs": [],
   "source": [
    "#_gfDF = gfdfPlaytest.copy()\n",
    "#pivotalAgesList = [3,15,25,35,45,55]\n",
    "#title = ageTitleEnglish\n",
    "\n",
    "def plotAgeGroups(_gfDF, pivotalAgesList = [], title = ageTitleEnglish,\\\n",
    "                  showCount = False, unknownAgeLabel = unknownAgeLabelEnglish):\n",
    "    playtestProfiles = getUniqueProfiles(_gfDF)\n",
    "\n",
    "    ages = playtestProfiles[QAge]\n",
    "    maxAge = ages.max()\n",
    "    minAge = ages.min()\n",
    "    otherAge = maxAge + 1\n",
    "\n",
    "    pivotalAgesList.sort()\n",
    "    pivotalAgesList = [x for x in pivotalAgesList if (x < maxAge and x > minAge)]\n",
    "    pivotalAgesList = np.append(pivotalAgesList, [maxAge, otherAge])\n",
    "\n",
    "    ageBins = pd.Series(0,index=pivotalAgesList)\n",
    "    labels = pd.Series('+++',index=pivotalAgesList)\n",
    "    previous = str(minAge)\n",
    "\n",
    "    for pivot in pivotalAgesList:\n",
    "        if pivot != otherAge:\n",
    "            ageBins[pivot] = len(ages[ages <= pivot])\n",
    "            labels[pivot] = previous + '-' + str(pivot)\n",
    "            if showCount:\n",
    "                labels[pivot] += \" (\" + str(ageBins[pivot]) + \")\"\n",
    "            ages = ages[ages > pivot]\n",
    "            previous = str(pivot)\n",
    "        else:\n",
    "            ages = playtestProfiles[QAge]\n",
    "            ageBins[otherAge] = len(ages[pd.isnull(ages)])\n",
    "            labels[otherAge] = unknownAgeLabel\n",
    "            if showCount:\n",
    "                labels[otherAge] += \" (\" + str(ageBins[otherAge]) + \")\"\n",
    "\n",
    "    plt.pie(ageBins.values, labels=labels,\\\n",
    "            #autopct='%1.1f%%',\\\n",
    "            autopct=getFormattedPercentageAndAbsoluteValueFunction(len(playtestProfiles)),\\\n",
    "            shadow=True)\n",
    "    plt.title(title)\n",
    "    plt.show()"
   ]
  },
  {
   "cell_type": "code",
   "execution_count": null,
   "metadata": {},
   "outputs": [],
   "source": [
    "def plotGender(_gfDF, title = '', labels = genderLabelsEnglish):\n",
    "    playtestProfiles = getUniqueProfiles(_gfDF)\n",
    "\n",
    "    fCount = len(playtestProfiles[playtestProfiles[QGender] == 'Female'])\n",
    "    mCount = len(playtestProfiles[playtestProfiles[QGender] == 'Male'])\n",
    "    tCount = len(playtestProfiles)\n",
    "    oCount = tCount-fCount-mCount\n",
    "\n",
    "    plt.pie([fCount, mCount, oCount], labels=labels,\\\n",
    "            autopct=getFormattedPercentageAndAbsoluteValueFunction(tCount),\\\n",
    "            shadow=True)\n",
    "    plt.title(title)\n",
    "    plt.show()\n",
    "    print(\"t=\"+str(tCount))\n",
    "    print(\"f=\"+str(fCount))\n",
    "    print(\"m=\"+str(mCount))\n",
    "    print(\"o=\"+str(oCount))"
   ]
  },
  {
   "cell_type": "code",
   "execution_count": null,
   "metadata": {},
   "outputs": [],
   "source": [
    "def getDuplicates(_gfDF, columns):\n",
    "    sampled = _gfDF.loc[:,columns]\n",
    "    return sampled,sampled[sampled.duplicated()]"
   ]
  },
  {
   "cell_type": "code",
   "execution_count": null,
   "metadata": {},
   "outputs": [],
   "source": [
    "#_gfDF = gfdfPlaytest.copy()\n",
    "#columns = [QUserId, QAge, QGender, QTemporality]\n",
    "def getTimedAssembledDuplicates(_gfDF, columns, displayColumns = []):\n",
    "    if len(displayColumns) == 0:\n",
    "        displayColumns = columns\n",
    "        \n",
    "    sampled,duplicates = getDuplicates(_gfDF, columns)\n",
    "    dupIndex = pd.Index([])\n",
    "    for dup in duplicates.values:\n",
    "        dupbool = [(x == dup).all() for x in sampled.values]\n",
    "        dupIndex = dupIndex.union(sampled.index[dupbool])\n",
    "    result = _gfDF.loc[dupIndex, displayColumns].sort_values(by = displayColumns)\n",
    "    return result"
   ]
  },
  {
   "cell_type": "code",
   "execution_count": null,
   "metadata": {},
   "outputs": [],
   "source": [
    "#_gformDF = incorrectPairsSurveys.copy()\n",
    "#_gformDF = gform.copy()\n",
    "\n",
    "def getPerfectPretestPostestPairs(_gformDF):\n",
    "    #counter = 0\n",
    "    #userIdsToKeep = _gformDF[QUserId].unique()\n",
    "    #print(\"step\" + str(counter) + \": \" + str(len(userIdsToKeep)))\n",
    "    #counter+=1\n",
    "\n",
    "    # remove incomplete data\n",
    "    #  consequently removes posttests without pretests\n",
    "    _gformDF2 = getWithoutIncompleteAnswers(_gformDF)\n",
    "    #print(\"step\" + str(counter) + \": \" + str(len(_gformDF2[QUserId].unique())))\n",
    "    #counter+=1\n",
    "\n",
    "    # keep userIds with exactly 1 pretest and posttest\n",
    "    #userIdsToKeep = []\n",
    "    valueCounts = _gformDF2[_gformDF2[QTemporality] == answerTemporalities[0]][QUserId].value_counts()\n",
    "    _gformDF3 = _gformDF2[_gformDF2[QUserId].isin(valueCounts[valueCounts == 1].index.values)]\n",
    "    #print(\"step\" + str(counter) + \": \" + str(len(_gformDF3[QUserId].unique())))\n",
    "    #counter+=1\n",
    "\n",
    "    valueCounts = _gformDF3[_gformDF3[QTemporality] == answerTemporalities[1]][QUserId].value_counts()\n",
    "    _gformDF4 = _gformDF3[_gformDF3[QUserId].isin(valueCounts[valueCounts == 1].index.values)]\n",
    "    #print(\"step\" + str(counter) + \": \" + str(len(_gformDF4[QUserId].unique())))\n",
    "    #counter+=1\n",
    "    \n",
    "    def getFloorDayFromUserIdAndTemporality(userId,i,df):\n",
    "        return df[(df[QUserId] == userId)\\\n",
    "              &(df[QTemporality] == answerTemporalities[i])]\\\n",
    "            .iloc[0][QTimestamp].floor('d')\n",
    "\n",
    "    # only keep those with pretest-posttest pairs on the same day\n",
    "    userIds = _gformDF4[QUserId].unique()\n",
    "    userIdsDF = pd.DataFrame(pd.NaT, index=userIds, columns=[\"0\",\"1\"])\n",
    "    for i in [0, 1]:\n",
    "        userIdsDF[str(i)] = pd.Series([getFloorDayFromUserIdAndTemporality(x,i,_gformDF4) for x in userIds], index = userIds)\n",
    "    userIds = userIdsDF.index[userIdsDF.loc[:,\"0\"] == userIdsDF.loc[:,\"1\"]]\n",
    "    _gformDF5 = _gformDF4[_gformDF4[QUserId].isin(userIds)]\n",
    "    #print(\"step\" + str(counter) + \": \" + str(len(_gformDF5[QUserId].unique())))\n",
    "    #counter+=1\n",
    "\n",
    "    return _gformDF5"
   ]
  },
  {
   "cell_type": "code",
   "execution_count": null,
   "metadata": {},
   "outputs": [],
   "source": [
    "def getVolunteers(_gfDF):\n",
    "    volunteerUserIds = _gfDF[_gfDF[QVolunteer].isin(yesNoPositives)][QUserId]\n",
    "    return _gfDF[_gfDF[QUserId].isin(volunteerUserIds)]"
   ]
  },
  {
   "cell_type": "code",
   "execution_count": null,
   "metadata": {},
   "outputs": [],
   "source": [
    "def getMaxPlayDuration(rmdf, gfdf, printDebugMessages = True):\n",
    "    maxMinutesCount = 1\n",
    "    minuteCounts = pd.Series(index=rmdf[QUserId].unique(), data=1)\n",
    "    \n",
    "    _progress = IntProgress(min=0, max=len(rmdf[QUserId].unique()))\n",
    "    display(_progress)\n",
    "    \n",
    "    for userId in rmdf[QUserId].unique():\n",
    "        \n",
    "        _progress.value += 1\n",
    "        \n",
    "        times = rmdf[rmdf[QUserId] == userId]['userTime']\n",
    "        times.index = range(len(times))\n",
    "        \n",
    "        days = times.dt.date\n",
    "        # compute day of experiment\n",
    "        ratios = [len(days[days == d])/len(days) for d in days.unique()]\n",
    "        ratioratios = pd.Series([r/max(ratios) for r in ratios], index = days.unique())\n",
    "        importantDays = days.unique()[ratioratios > 0.05]\n",
    "        if len(importantDays) > 1:\n",
    "            if printDebugMessages:\n",
    "                print(\"more than one important day!\")\n",
    "        \n",
    "        times = times.dt.floor('min')\n",
    "        times = times[times.dt.date.isin(importantDays)]\n",
    "        startGraph = times.min()\n",
    "        endGraph = times.max()\n",
    "\n",
    "        if(len(gfdf) > 0):\n",
    "            surveySubmissions = gfdf[gfdf[QUserId] == userId]\n",
    "            surveySubmissionsTimes = surveySubmissions[QTimestamp].dt.floor('min')\n",
    "            startGraph = min(startGraph, surveySubmissionsTimes.min())\n",
    "            endGraph = max(endGraph, surveySubmissionsTimes.max())\n",
    "        minutesCount = int((endGraph - startGraph).total_seconds()/60)\n",
    "        minuteCounts[userId] = minutesCount\n",
    "        if minutesCount > maxMinutesCount:\n",
    "            maxMinutesCount = minutesCount\n",
    "            \n",
    "    _progress.close()\n",
    "    del _progress\n",
    "    return maxMinutesCount, minuteCounts"
   ]
  },
  {
   "cell_type": "code",
   "execution_count": null,
   "metadata": {},
   "outputs": [],
   "source": [
    "#userId = duplicates.loc[666, QUserId]\n",
    "#nPretestSubmissions = 0\n",
    "#userId = \"29b739fc-4f9f-4f5e-bfee-8ba12de4b7fa\"\n",
    "#rmdf = rmdfConcat\n",
    "#surveys = gform.copy()\n",
    "\n",
    "def plotEventsPerMinute(userId, rmdf, surveys = [], nPretestSubmissions = 0, ax = np.nan, printDebugMessages = False, minBinCount = 1):#, vmax = 60):\n",
    "    if printDebugMessages:\n",
    "        print(\"\\n\\nuserId=\"+str(userId))\n",
    "    times = rmdf[rmdf[QUserId] == userId]['userTime']\n",
    "    times.index = range(len(times))\n",
    "    days = times.dt.date\n",
    "    # compute day of experiment\n",
    "    ratios = [len(days[days == d])/len(days) for d in days.unique()]\n",
    "    ratioratios = pd.Series([r/max(ratios) for r in ratios], index = days.unique())\n",
    "    importantDays = days.unique()[ratioratios > 0.05]\n",
    "    if len(importantDays) > 1:\n",
    "        if printDebugMessages:\n",
    "            print(\"more than one important day!\")\n",
    "    times = times.dt.floor('min')\n",
    "    times = times[times.dt.date.isin(importantDays)]\n",
    "    startGraph = times.min()\n",
    "    endGraph = times.max()\n",
    "    if printDebugMessages:\n",
    "        print(\"\\nevents:\\nfirst:\" + str(startGraph) + \"\\nlast:\" + str(endGraph))\n",
    "    \n",
    "\n",
    "    if pd.isnull(ax):\n",
    "        fig = plt.figure()\n",
    "        ax = fig.add_subplot(111)\n",
    "\n",
    "    xrot = 45\n",
    "    alpha = 0.5\n",
    "\n",
    "    if(len(surveys) > 0):\n",
    "        surveySubmissions = surveys[surveys[QUserId] == userId]\n",
    "        surveySubmissionsTimes = surveySubmissions[QTimestamp].dt.floor('min')\n",
    "        startGraph = min(startGraph, surveySubmissionsTimes.min())\n",
    "        endGraph = max(endGraph, surveySubmissionsTimes.max())\n",
    "\n",
    "        pretestSubmissions = surveySubmissions[surveySubmissions[QTemporality] == answerTemporalities[0]][QTimestamp].dt.floor('min')\n",
    "        posttestSubmissions = surveySubmissions[surveySubmissions[QTemporality] == answerTemporalities[1]][QTimestamp].dt.floor('min')\n",
    "\n",
    "        if len(pretestSubmissions) > 0:\n",
    "            ax2 = ax.twinx()\n",
    "            ax2.set_yticks([])\n",
    "            ax2.set_yticklabels([])\n",
    "        if len(posttestSubmissions) > 0:\n",
    "            ax3 = ax.twinx()\n",
    "            ax3.set_yticks([])\n",
    "            ax3.set_yticklabels([])\n",
    "       \n",
    "    if len(times) == 0:\n",
    "        if printDebugMessages:\n",
    "            print(\"len(times) == 0\")\n",
    "    \n",
    "    minutesCount = int((endGraph - startGraph).total_seconds()/60)\n",
    "    binCount = max(minBinCount,minutesCount)\n",
    "    endGraph = startGraph + pd.Timedelta(minutes=binCount)\n",
    "    plotRange = (startGraph,endGraph)    \n",
    "    \n",
    "    #kwds = dict('vmax'=vmax)\n",
    "    #kwds = {'vmax': vmax}\n",
    "    #ymin, ymax = plt.ylim()\n",
    "    #plt.ylim(0, vmax)\n",
    "    times.hist(bins=binCount, ax=ax, xrot=xrot, color='blue', alpha=alpha, range=plotRange, grid=False)\n",
    "    #plt.ylim(ymin, ymax)\n",
    "    \n",
    "    if(len(surveys) > 0):\n",
    "\n",
    "        if len(pretestSubmissions) > 0:\n",
    "            if printDebugMessages:\n",
    "                print(\"\\npretests:\\n\" + str(pretestSubmissions))\n",
    "            pretestSubmissions[nPretestSubmissions:].hist(bins = 20, ax = ax2, xrot = xrot, color='green', alpha=alpha, range=plotRange, grid=False)\n",
    "\n",
    "        if len(posttestSubmissions) > 0:\n",
    "            if printDebugMessages:\n",
    "                print(\"\\nposttests:\\n\" + str(posttestSubmissions))\n",
    "            posttestSubmissions.hist(bins = 20, ax = ax3, xrot = xrot, color='red', alpha=alpha, range=plotRange, grid=False)\n",
    "\n",
    "    #plt.show()"
   ]
  },
  {
   "cell_type": "code",
   "execution_count": null,
   "metadata": {},
   "outputs": [],
   "source": [
    "def getResetConfigurationEvents(rmdf):\n",
    "    rmdf[(rmdf['type'] == 'selectmenu') & (rmdf['customData.option'] == '\"RESETCONFIGURATION\"')].loc[:, [QUserId, 'userTime', 'customData.option']]"
   ]
  },
  {
   "cell_type": "code",
   "execution_count": null,
   "metadata": {},
   "outputs": [],
   "source": [
    "# returns the userIds with multiple gender-age profiles\n",
    "def getProfileCounts(_gfDF, n = 0):\n",
    "    sampled = _gfDF.loc[:,[QUserId, QGender, QAge]].drop_duplicates()[QUserId].value_counts().sort_values(ascending=False)\n",
    "    return sampled[sampled >= n]"
   ]
  },
  {
   "cell_type": "code",
   "execution_count": null,
   "metadata": {},
   "outputs": [],
   "source": [
    "def getRmdfFromPlatform(_rmDF, platform):\n",
    "    rmDF = _rmDF[_rmDF['customData.platform'] == platform]\n",
    "    rmDF = _rmDF[_rmDF[QUserId].isin(rmDF[QUserId])]\n",
    "    return rmDF"
   ]
  },
  {
   "cell_type": "code",
   "execution_count": null,
   "metadata": {},
   "outputs": [],
   "source": [
    "def getGfdfFromRmdf(_gfDF, _rmDF, useDate = True):\n",
    "    if useDate:\n",
    "        dates = [_rmDF['userTime'].min(),_rmDF['userTime'].max()]\n",
    "        _gfDF = _gfDF[(_gfDF[QTimestamp] >= dates[0]) & (_gfDF[QTimestamp] <= dates[1])]\n",
    "    _gfDF = getWithoutTest(_gfDF[_gfDF[QUserId].isin(_rmDF[QUserId].unique())])\n",
    "    return _gfDF"
   ]
  },
  {
   "cell_type": "code",
   "execution_count": null,
   "metadata": {},
   "outputs": [],
   "source": [
    "def getRmdfFromGfdf(rmdf, gfdf, clamp = False):\n",
    "    uniqueUserIds = gfdf[QUserId].unique()\n",
    "    result = rmdf[rmdf[QUserId].isin(uniqueUserIds)]\n",
    "    if clamp:\n",
    "        \n",
    "        result2 = pd.DataFrame()\n",
    "        \n",
    "        _progress = IntProgress(min=0, max=len(uniqueUserIds))\n",
    "        display(_progress)\n",
    "        \n",
    "        for userId in uniqueUserIds:\n",
    "            _progress.value += 1\n",
    "            \n",
    "            surveys = gfdf[gfdf[QUserId] == userId]\n",
    "            pretest = surveys[surveys[QTemporality]==answerTemporalities[0]].iloc[0]\n",
    "            posttest = surveys[surveys[QTemporality]==answerTemporalities[1]].iloc[0]\n",
    "            \n",
    "            filtered = result[(result[QUserId]==userId)\\\n",
    "                   & (pretest[QTimestamp] < result['userTime'])\\\n",
    "                   & (posttest[QTimestamp] > result['userTime'])]\n",
    "            \n",
    "            if len(result2) > 0:\n",
    "                result2 = pd.concat([result2, filtered])\n",
    "            else:\n",
    "                result2 = filtered\n",
    "        result = result2\n",
    "        _progress.close()\n",
    "        del _progress\n",
    "    return result"
   ]
  },
  {
   "cell_type": "code",
   "execution_count": null,
   "metadata": {},
   "outputs": [],
   "source": [
    "def getSamples(gfdf, rmdf, platform, clamp = True, isInTimeSlot = np.nan):\n",
    "        \n",
    "    rmdfPlatform = getRmdfFromPlatform(rmdf, platform)\n",
    "    gfdfPlatform = getGfdfFromRmdf(gfdf, rmdfPlatform)\n",
    "    \n",
    "    if pd.isnull(isInTimeSlot):\n",
    "        gfdfTimed = gfdfPlatform\n",
    "        rmdfTimed = rmdfPlatform\n",
    "    else:\n",
    "        gfdfTimed = gfdfPlatform[gfdfPlatform[QTimestamp].apply(isInTimeSlot)]\n",
    "        rmdfTimed = rmdfPlatform[rmdfPlatform[QUserId].isin(gfdfTimed[QUserId])]\n",
    "        rmdfTimed = rmdfTimed[rmdfTimed['userTime'].apply(isInTimeSlot)]\n",
    "    \n",
    "    # sample by filtering out userIds with multiple profiles\n",
    "    #  better solution: take those multiple profiles into account, eg by creating new userIds for them\n",
    "    gfdfUniqueProfiles = getUserIdsWithUniqueProfile(gfdfTimed)\n",
    "    # sample by keeping only pretest-posttest pairs\n",
    "    gfdfPretestPosttestUniqueProfiles = getPerfectPretestPostestPairs(gfdfUniqueProfiles)\n",
    "    # sample according to the answer to the Volunteering question\n",
    "    gfdfPretestPosttestUniqueProfilesVolunteers = getVolunteers(gfdfPretestPosttestUniqueProfiles)\n",
    "    \n",
    "    rmdfUniqueProfiles = getRmdfFromGfdf(rmdfTimed, gfdfUniqueProfiles)\n",
    "    rmdfPretestPosttestUniqueProfiles = getRmdfFromGfdf(rmdfUniqueProfiles, gfdfPretestPosttestUniqueProfiles, clamp = clamp)\n",
    "    rmdfPretestPosttestUniqueProfilesVolunteers = getRmdfFromGfdf(rmdfPretestPosttestUniqueProfiles,\\\n",
    "                                                                  gfdfPretestPosttestUniqueProfilesVolunteers)\n",
    "        \n",
    "    return rmdfPlatform, rmdfTimed, rmdfUniqueProfiles, rmdfPretestPosttestUniqueProfiles, rmdfPretestPosttestUniqueProfilesVolunteers,\\\n",
    "gfdfPlatform, gfdfTimed, gfdfUniqueProfiles, gfdfPretestPosttestUniqueProfiles, gfdfPretestPosttestUniqueProfilesVolunteers"
   ]
  },
  {
   "cell_type": "code",
   "execution_count": null,
   "metadata": {},
   "outputs": [],
   "source": [
    "def printAllSampleCounts(\n",
    "    baseGfdf,\n",
    "    gfdfPlatform,\n",
    "    gfdfTimeConstrained,\n",
    "    gfdfPlatformUniqueProfiles,\n",
    "    gfdfPlatformPretestPosttestUniqueProfiles,\n",
    "    gfdfPlatformPretestPosttestUniqueProfilesVolunteers,\n",
    "    title=\"\",\n",
    "):\n",
    "    if displayResults:\n",
    "        pretests = gfdfTimeConstrained[gfdfTimeConstrained[QTemporality] == answerTemporalities[0]][QUserId]\n",
    "        posttests = gfdfTimeConstrained[gfdfTimeConstrained[QTemporality] == answerTemporalities[1]][QUserId]\n",
    "        both = pd.concat([pretests[pretests.isin(posttests)], posttests[posttests.isin(pretests)]])\n",
    "\n",
    "        pretestsUnique = set(pretests)\n",
    "        posttestsUnique = set(posttests)    \n",
    "        bothUnique = pretestsUnique.intersection(posttestsUnique)\n",
    "\n",
    "        print(title)\n",
    "        print(\"Base=\"+str(len(baseGfdf)))\n",
    "        print(\"Platform=\"+str(len(gfdfPlatform)))\n",
    "        print(\"TimeConstrained=\"+str(len(gfdfTimeConstrained)))\n",
    "        print(\"pretests=\"+str(len(pretests)))\n",
    "        print(\"posttests=\"+str(len(posttests)))\n",
    "        print(\"both=\"+str(len(both)))\n",
    "        print(\"UniqueProfiles=\"+str(len(gfdfPlatformUniqueProfiles)))\n",
    "        print(\"PretestPosttestUniqueProfiles=\"+str(len(gfdfPlatformPretestPosttestUniqueProfiles)))\n",
    "        print(\"PretestPosttestUniqueProfilesVolunteers=\"+str(len(gfdfPlatformPretestPosttestUniqueProfilesVolunteers)))\n",
    "\n",
    "        print()\n",
    "        print(\"unique userIds Base=\"+str(baseGfdf[QUserId].nunique()))\n",
    "        print(\"unique userIds Platform=\"+str(gfdfPlatform[QUserId].nunique()))\n",
    "        print(\"unique userIds TimeConstrained=\"+str(gfdfTimeConstrained[QUserId].nunique()))\n",
    "        print(\"unique userIds pretests=\"+str(len(pretestsUnique)))\n",
    "        print(\"unique userIds posttests=\"+str(len(posttestsUnique)))\n",
    "        print(\"unique userIds both=\"+str(len(bothUnique)))\n",
    "        print(\"unique userIds UniqueProfiles=\"+str(gfdfPlatformUniqueProfiles[QUserId].nunique()))\n",
    "        print(\"unique userIds PretestPosttestUniqueProfiles=\"+str(gfdfPlatformPretestPosttestUniqueProfiles[QUserId].nunique()))\n",
    "        print(\"unique userIds PretestPosttestUniqueProfilesVolunteers=\"+str(gfdfPlatformPretestPosttestUniqueProfilesVolunteers[QUserId].nunique()))"
   ]
  },
  {
   "cell_type": "code",
   "execution_count": null,
   "metadata": {
    "scrolled": false
   },
   "outputs": [],
   "source": [
    "def plotUserActivity(_gfDF, _rmDF, useOneGraph = True):\n",
    "    \n",
    "    sizePerRow = 6\n",
    "    graphsPerRow = 5\n",
    "    \n",
    "    i = 0\n",
    "    uniques = _gfDF[QUserId].unique()\n",
    "    _progress = IntProgress(min=0, max=len(uniques))\n",
    "    display(_progress)\n",
    "    \n",
    "    if (len(uniques) > graphsPerRow) and useOneGraph:\n",
    "        f, axarr = plt.subplots(len(uniques)//graphsPerRow+1, graphsPerRow, figsize=(20, (len(uniques)//graphsPerRow)*sizePerRow))\n",
    "        \n",
    "    for userId in uniques:\n",
    "        if (len(uniques) <= graphsPerRow) or (not useOneGraph):\n",
    "            if i%graphsPerRow == 0:\n",
    "                f, axarr = plt.subplots(1, graphsPerRow, figsize=(20, sizePerRow))\n",
    "            ax = axarr[i%graphsPerRow]\n",
    "        else:\n",
    "            ax = axarr[i//graphsPerRow, i%graphsPerRow] \n",
    "            \n",
    "        # minBinCount is the minimal number of minutes on each subgraph\n",
    "        plotEventsPerMinute(userId, _rmDF, _gfDF, ax=ax, minBinCount=30, printDebugMessages=False)#, vmax = 60)\n",
    "        i += 1\n",
    "        _progress.value += 1\n",
    "        \n",
    "    _progress.close()\n",
    "    del _progress"
   ]
  },
  {
   "cell_type": "code",
   "execution_count": null,
   "metadata": {},
   "outputs": [],
   "source": [
    "def getScoresSimplified(_gfDF):\n",
    "    binarized = getAllBinarized(_gfDF)\n",
    "    binarized.index = _gfDF.index\n",
    "    scores = np.dot(binarized,np.ones(len(binarized.columns)))\n",
    "    return scores, binarized"
   ]
  },
  {
   "cell_type": "markdown",
   "metadata": {},
   "source": [
    "# Common treatment before sampling"
   ]
  },
  {
   "cell_type": "markdown",
   "metadata": {},
   "source": [
    "## Common treatment"
   ]
  },
  {
   "cell_type": "code",
   "execution_count": null,
   "metadata": {},
   "outputs": [],
   "source": [
    "sampleWhole = getWithoutTest(gform)"
   ]
  },
  {
   "cell_type": "markdown",
   "metadata": {},
   "source": [
    "## Common online treatment"
   ]
  },
  {
   "cell_type": "markdown",
   "metadata": {},
   "source": [
    "# 2018-03-23 - 2018-04-27 Online campaign - 1.52.2"
   ]
  },
  {
   "cell_type": "code",
   "execution_count": null,
   "metadata": {},
   "outputs": [],
   "source": [
    "rmdfWebgl1522, rmdfWebgl1522Timed, rmdfWebgl1522UniqueProfiles, rmdfWebgl1522PretestPosttestUniqueProfiles, rmdfWebgl1522PretestPosttestUniqueProfilesVolunteers,\\\n",
    "gfdfWebgl1522, gfdfWebgl1522Timed, gfdfWebgl1522UniqueProfiles, gfdfWebgl1522PretestPosttestUniqueProfiles, gfdfWebgl1522PretestPosttestUniqueProfilesVolunteers\\\n",
    "= getSamples(sampleWhole, rmdf1522, '\"webglplayer\"')"
   ]
  },
  {
   "cell_type": "code",
   "execution_count": null,
   "metadata": {},
   "outputs": [],
   "source": [
    "printAllSampleCounts(\n",
    "    sampleWhole,\n",
    "    gfdfWebgl1522,\n",
    "    gfdfWebgl1522Timed,\n",
    "    gfdfWebgl1522UniqueProfiles,\n",
    "    gfdfWebgl1522PretestPosttestUniqueProfiles,\n",
    "    gfdfWebgl1522PretestPosttestUniqueProfilesVolunteers,\n",
    "    title=\"\",\n",
    ")"
   ]
  },
  {
   "cell_type": "markdown",
   "metadata": {},
   "source": [
    "# 2018-04-27 - 2018-07-05 Online campaign - 1.60"
   ]
  },
  {
   "cell_type": "code",
   "execution_count": null,
   "metadata": {},
   "outputs": [],
   "source": [
    "rmdfWebgl160, rmdfWebgl160Timed, rmdfWebgl160UniqueProfiles, rmdfWebgl160PretestPosttestUniqueProfiles, rmdfWebgl160PretestPosttestUniqueProfilesVolunteers,\\\n",
    "gfdfWebgl160, gfdfWebgl160Timed, gfdfWebgl160UniqueProfiles, gfdfWebgl160PretestPosttestUniqueProfiles, gfdfWebgl160PretestPosttestUniqueProfilesVolunteers\\\n",
    "= getSamples(sampleWhole, rmdf160, '\"webglplayer\"')"
   ]
  },
  {
   "cell_type": "code",
   "execution_count": null,
   "metadata": {},
   "outputs": [],
   "source": [
    "printAllSampleCounts(\n",
    "    sampleWhole,\n",
    "    gfdfWebgl160,\n",
    "    gfdfWebgl160Timed,\n",
    "    gfdfWebgl160UniqueProfiles,\n",
    "    gfdfWebgl160PretestPosttestUniqueProfiles,\n",
    "    gfdfWebgl160PretestPosttestUniqueProfilesVolunteers,\n",
    "    title=\"\",\n",
    ")"
   ]
  },
  {
   "cell_type": "markdown",
   "metadata": {},
   "source": [
    "# 2018-04-10 - 2018-04-28 Playtest - 1.52.2 & 1.60"
   ]
  },
  {
   "cell_type": "markdown",
   "metadata": {},
   "source": [
    "## Dates"
   ]
  },
  {
   "cell_type": "code",
   "execution_count": null,
   "metadata": {},
   "outputs": [],
   "source": [
    "playtest2018Phase1Days = [\n",
    "    pd.Timestamp('2018-04-10', tz='utc'),\t# Tuesday\n",
    "    pd.Timestamp('2018-04-11', tz='utc'),\t# Wednesday\n",
    "\n",
    "    pd.Timestamp('2018-04-13', tz='utc'),\t# Friday\n",
    "    pd.Timestamp('2018-04-14', tz='utc'),\t# Saturday\n",
    "\n",
    "\n",
    "    pd.Timestamp('2018-04-17', tz='utc'),\t# Tuesday\n",
    "    pd.Timestamp('2018-04-18', tz='utc'),\t# Wednesday\n",
    "\n",
    "    pd.Timestamp('2018-04-20', tz='utc'),\t# Friday\n",
    "    pd.Timestamp('2018-04-21', tz='utc'),\t# Saturday\n",
    "\n",
    "\n",
    "    pd.Timestamp('2018-04-24', tz='utc'),\t# Tuesday\n",
    "    pd.Timestamp('2018-04-25', tz='utc'),\t# Wednesday\n",
    "]\n",
    "\n",
    "playtest2018Phase2Days = [\n",
    "    pd.Timestamp('2018-04-27', tz='utc'),\t# Friday\n",
    "    pd.Timestamp('2018-04-28', tz='utc'),\t# Saturday\n",
    "]\n",
    "\n",
    "playtest2018Days = np.append(playtest2018Phase1Days, playtest2018Phase2Days).tolist()"
   ]
  },
  {
   "cell_type": "code",
   "execution_count": null,
   "metadata": {},
   "outputs": [],
   "source": [
    "playtest2018EuBerTimeStartTime = datetime.time(11, 0)\n",
    "playtest2018EuBerTimeEndTime = datetime.time(19, 0)"
   ]
  },
  {
   "cell_type": "markdown",
   "metadata": {},
   "source": [
    "### aliases for experiment boundaries"
   ]
  },
  {
   "cell_type": "code",
   "execution_count": null,
   "metadata": {},
   "outputs": [],
   "source": [
    "playtest2018Phase1StartDate = pd.Timestamp.combine(min(playtest2018Phase1Days).date(), playtest2018EuBerTimeStartTime).tz_localize('Europe/Berlin')\n",
    "playtest2018Phase1EndDate   = pd.Timestamp.combine(max(playtest2018Phase1Days).date(), playtest2018EuBerTimeEndTime).tz_localize('Europe/Berlin')\n",
    "playtest2018Phase2StartDate = pd.Timestamp.combine(min(playtest2018Phase2Days).date(), playtest2018EuBerTimeStartTime).tz_localize('Europe/Berlin')\n",
    "playtest2018Phase2EndDate   = pd.Timestamp.combine(max(playtest2018Phase2Days).date(), playtest2018EuBerTimeEndTime).tz_localize('Europe/Berlin')\n",
    "playtest2018Phase1StartDate,playtest2018Phase1EndDate,playtest2018Phase2StartDate,playtest2018Phase2EndDate"
   ]
  },
  {
   "cell_type": "code",
   "execution_count": null,
   "metadata": {},
   "outputs": [],
   "source": [
    "# warning: timestamp = pd.Timestamp('2018-04-24 11:00:11.381000+0000', tz='Europe/Berlin')\n",
    "#  actually yields Timestamp('2018-04-24 13:00:11.381000+0200', tz='Europe/Berlin') because\n",
    "#  '+....' codes for timezone, eg here '+0000' codes for UTC timezone\n",
    "\n",
    "def isPlaytest(timestamp, days = playtest2018Days):\n",
    "    euBerTimestamp = timestamp.tz_convert('Europe/Berlin')\n",
    "    euBerTimestampTime = euBerTimestamp.time()\n",
    "    result = (timestamp.tz_convert('utc').floor('d') in days)\\\n",
    "    and (euBerTimestampTime >= playtest2018EuBerTimeStartTime)\\\n",
    "    and (playtest2018EuBerTimeEndTime >= euBerTimestampTime)\n",
    "    return result\n",
    "\n",
    "def isPlaytestPhase1(timestamp):\n",
    "    return isPlaytest(timestamp, days = playtest2018Phase1Days)\n",
    "\n",
    "def isPlaytestPhase2(timestamp):\n",
    "    return isPlaytest(timestamp, days = playtest2018Phase2Days)"
   ]
  },
  {
   "cell_type": "markdown",
   "metadata": {},
   "source": [
    "#### isPlaytest day and hour test"
   ]
  },
  {
   "cell_type": "code",
   "execution_count": null,
   "metadata": {},
   "outputs": [],
   "source": [
    "assert(~any([isPlaytest(x) for x in playtest2018Phase1Days]))"
   ]
  },
  {
   "cell_type": "code",
   "execution_count": null,
   "metadata": {},
   "outputs": [],
   "source": [
    "# handpicked error cases for April 2018 Playtest\n",
    "pretestPosttestPairsErrorCases = [\n",
    "  # 2 posttests\n",
    "    \"4b19e51b-c81f-4cbb-af72-0dced3bbb52b\",\n",
    "    \"1e6cb7d9-56f5-48a5-9bb8-14885325add6\",\n",
    "    \"9562d4e4-3d36-4399-a95f-7784328c2683\",\n",
    "\n",
    "  # 1 posttest\n",
    "    \"e79d806e-3d0b-49f8-a5e8-23de5548b770\",\n",
    "    \"8d1f1ec8-379e-4ec6-88ba-2fdc1d0989be\",\n",
    "\n",
    "  # 1 pretest\n",
    "    \"3006900c-37d2-44dd-a8e6-674f6fd1cae3\",\n",
    "    \"721cb935-f939-40ae-b56f-01d97ea23604\",\n",
    "\n",
    "  # 2 posttests, 1 pretest\n",
    "    \"38ef3b8d-dedc-4224-be1c-5d7372973cc0\",\n",
    "    \"96470842-aa9a-4802-9e23-38060a1980b4\",\n",
    "\n",
    "  # 2 pretests\n",
    "    \"f8920e82-1cdf-43a0-aedb-06ddaf9960d6\",\n",
    "    \"86c71536-ee24-4c3d-b856-6a97b63f6217\",\n",
    "\n",
    "  # 1 pretest, 1 posttest on 2 different days\n",
    "    \"4cdb6030-4547-4c8f-9d9e-286cff786157\",\n",
    "    \"9d09b624-c719-446b-a738-e7059dd1a8f4\",\n",
    "]\n",
    "#incorrectPairsSurveys = gfdfPlaytestUniqueProfiles[gfdfPlaytestUniqueProfiles[QUserId].isin(pretestPosttestPairsErrorCases)]\n",
    "#len(incorrectPairsSurveys)"
   ]
  },
  {
   "cell_type": "code",
   "execution_count": null,
   "metadata": {},
   "outputs": [],
   "source": [
    "testCorrectTimes = [\n",
    "                pd.Timestamp('11:00:00', tz='Europe/Berlin').tz_convert('utc'),\n",
    "                pd.Timestamp('12:43:00', tz='Europe/Berlin').tz_convert('utc'),\n",
    "                pd.Timestamp('14:58:00', tz='Europe/Berlin').tz_convert('utc'),\n",
    "                pd.Timestamp('16:38:00', tz='Europe/Berlin').tz_convert('utc'),\n",
    "                pd.Timestamp('19:00:00', tz='Europe/Berlin').tz_convert('utc'),\n",
    "]\n",
    "testIncorrectTimes = [\n",
    "                pd.Timestamp('19:01:00', tz='Europe/Berlin').tz_convert('utc'),\n",
    "                pd.Timestamp('21:43:00', tz='Europe/Berlin').tz_convert('utc'),\n",
    "                pd.Timestamp('23:13:00', tz='Europe/Berlin').tz_convert('utc'),\n",
    "                pd.Timestamp('06:41:00', tz='Europe/Berlin').tz_convert('utc'),\n",
    "                pd.Timestamp('10:59:00', tz='Europe/Berlin').tz_convert('utc'),\n",
    "]\n",
    "\n",
    "for time in testCorrectTimes:\n",
    "    correctPlaytestTimes = [pd.Timestamp.combine(x.date(), time.time()).tz_localize('utc') for x in playtest2018Phase1Days]\n",
    "    assert(all([isPlaytest(x) for x in correctPlaytestTimes]))\n",
    "    \n",
    "for time in testIncorrectTimes:\n",
    "    correctPlaytestTimes = [pd.Timestamp.combine(x.date(), time.time()).tz_localize('utc') for x in playtest2018Phase1Days]\n",
    "    assert(~any([isPlaytest(x) for x in correctPlaytestTimes]))"
   ]
  },
  {
   "cell_type": "markdown",
   "metadata": {},
   "source": [
    "## Samples\n",
    "samples based on dates and platform"
   ]
  },
  {
   "cell_type": "code",
   "execution_count": null,
   "metadata": {},
   "outputs": [],
   "source": [
    "rmdfLinux, rmdfPlaytest, rmdfPlaytestUniqueProfiles, rmdfPlaytestPretestPosttestUniqueProfiles, rmdfPlaytestPretestPosttestUniqueProfilesVolunteers,\\\n",
    "gfdfLinux, gfdfPlaytest, gfdfPlaytestUniqueProfiles, gfdfPlaytestPretestPosttestUniqueProfiles, gfdfPlaytestPretestPosttestUniqueProfilesVolunteers\\\n",
    "= getSamples(sampleWhole, rmdfConcat, '\"linuxplayer\"', isInTimeSlot = isPlaytest)"
   ]
  },
  {
   "cell_type": "code",
   "execution_count": null,
   "metadata": {},
   "outputs": [],
   "source": [
    "rmdfLinux, rmdfPlaytestPhase1, rmdfPlaytestUniqueProfilesPhase1, rmdfPlaytestPretestPosttestUniqueProfilesPhase1, rmdfPlaytestPretestPosttestUniqueProfilesVolunteersPhase1,\\\n",
    "gfdfLinux, gfdfPlaytestPhase1, gfdfPlaytestUniqueProfilesPhase1, gfdfPlaytestPretestPosttestUniqueProfilesPhase1, gfdfPlaytestPretestPosttestUniqueProfilesVolunteersPhase1\\\n",
    "= getSamples(sampleWhole, rmdfConcat, '\"linuxplayer\"', isInTimeSlot = isPlaytestPhase1)"
   ]
  },
  {
   "cell_type": "code",
   "execution_count": null,
   "metadata": {},
   "outputs": [],
   "source": [
    "rmdfLinux, rmdfPlaytestPhase2, rmdfPlaytestUniqueProfilesPhase2, rmdfPlaytestPretestPosttestUniqueProfilesPhase2, rmdfPlaytestPretestPosttestUniqueProfilesVolunteersPhase2,\\\n",
    "gfdfLinux, gfdfPlaytestPhase2, gfdfPlaytestUniqueProfilesPhase2, gfdfPlaytestPretestPosttestUniqueProfilesPhase2, gfdfPlaytestPretestPosttestUniqueProfilesVolunteersPhase2\\\n",
    "= getSamples(sampleWhole, rmdfConcat, '\"linuxplayer\"', isInTimeSlot = isPlaytestPhase2)"
   ]
  },
  {
   "cell_type": "code",
   "execution_count": null,
   "metadata": {},
   "outputs": [],
   "source": [
    "len(gfdfPlaytestUniqueProfiles[QUserId].unique()),\\\n",
    "len(gfdfPlaytestUniqueProfilesPhase1[QUserId].unique()),\\\n",
    "len(gfdfPlaytestUniqueProfilesPhase2[QUserId].unique())"
   ]
  },
  {
   "cell_type": "code",
   "execution_count": null,
   "metadata": {},
   "outputs": [],
   "source": [
    "printAllSampleCounts(\n",
    "    sampleWhole,\n",
    "    gfdfLinux,\n",
    "    gfdfPlaytest,\n",
    "    gfdfPlaytestUniqueProfiles,\n",
    "    gfdfPlaytestPretestPosttestUniqueProfiles,\n",
    "    gfdfPlaytestPretestPosttestUniqueProfilesVolunteers,\n",
    "    title=\"Playtest total\",\n",
    ")"
   ]
  },
  {
   "cell_type": "code",
   "execution_count": null,
   "metadata": {},
   "outputs": [],
   "source": [
    "printAllSampleCounts(\n",
    "    sampleWhole,\n",
    "    gfdfLinux,\n",
    "    gfdfPlaytestPhase1,\n",
    "    gfdfPlaytestUniqueProfilesPhase1,\n",
    "    gfdfPlaytestPretestPosttestUniqueProfilesPhase1,\n",
    "    gfdfPlaytestPretestPosttestUniqueProfilesVolunteersPhase1,\n",
    "    title=\"Playtest Phase1\",\n",
    ")"
   ]
  },
  {
   "cell_type": "code",
   "execution_count": null,
   "metadata": {},
   "outputs": [],
   "source": [
    "printAllSampleCounts(\n",
    "    sampleWhole,\n",
    "    gfdfLinux,\n",
    "    gfdfPlaytestPhase2,\n",
    "    gfdfPlaytestUniqueProfilesPhase2,\n",
    "    gfdfPlaytestPretestPosttestUniqueProfilesPhase2,\n",
    "    gfdfPlaytestPretestPosttestUniqueProfilesVolunteersPhase2,\n",
    "    title=\"Playtest Phase2\",\n",
    ")"
   ]
  },
  {
   "cell_type": "markdown",
   "metadata": {},
   "source": [
    "## Phase 1 vs Phase 2 comparison"
   ]
  },
  {
   "cell_type": "markdown",
   "metadata": {},
   "source": [
    "### Scores"
   ]
  },
  {
   "cell_type": "code",
   "execution_count": null,
   "metadata": {},
   "outputs": [],
   "source": [
    "scoresPhase1, binarizedPhase1 = getScoresSimplified(gfdfPlaytestPretestPosttestUniqueProfilesVolunteersPhase1)\n",
    "scoresPhase2, binarizedPhase2 = getScoresSimplified(gfdfPlaytestPretestPosttestUniqueProfilesVolunteersPhase2)"
   ]
  },
  {
   "cell_type": "code",
   "execution_count": null,
   "metadata": {},
   "outputs": [],
   "source": [
    "ttest = ttest_ind(scoresPhase1, scoresPhase2)\n",
    "ttest\n",
    "#print(\"t test: statistic=\" + repr(ttest.statistic) + \" pvalue=\" + repr(ttest.pvalue))"
   ]
  },
  {
   "cell_type": "code",
   "execution_count": null,
   "metadata": {},
   "outputs": [],
   "source": [
    "scoresPhase1, binarizedPhase1 = getScoresSimplified(gfdfPlaytestPretestPosttestUniqueProfilesPhase1)\n",
    "scoresPhase2, binarizedPhase2 = getScoresSimplified(gfdfPlaytestPretestPosttestUniqueProfilesPhase2)"
   ]
  },
  {
   "cell_type": "code",
   "execution_count": null,
   "metadata": {},
   "outputs": [],
   "source": [
    "ttest = ttest_ind(scoresPhase1, scoresPhase2)\n",
    "ttest\n",
    "#print(\"t test: statistic=\" + repr(ttest.statistic) + \" pvalue=\" + repr(ttest.pvalue))"
   ]
  },
  {
   "cell_type": "code",
   "execution_count": null,
   "metadata": {},
   "outputs": [],
   "source": [
    "scoresPhase1, binarizedPhase1 = getScoresSimplified(gfdfPlaytestUniqueProfilesPhase1)\n",
    "scoresPhase2, binarizedPhase2 = getScoresSimplified(gfdfPlaytestUniqueProfilesPhase2)"
   ]
  },
  {
   "cell_type": "code",
   "execution_count": null,
   "metadata": {},
   "outputs": [],
   "source": [
    "ttest = ttest_ind(scoresPhase1, scoresPhase2)\n",
    "ttest\n",
    "#print(\"t test: statistic=\" + repr(ttest.statistic) + \" pvalue=\" + repr(ttest.pvalue))"
   ]
  },
  {
   "cell_type": "markdown",
   "metadata": {},
   "source": [
    "# Sample analysis"
   ]
  },
  {
   "cell_type": "code",
   "execution_count": null,
   "metadata": {},
   "outputs": [],
   "source": [
    "#gfdf = gfdfWebgl1522\n",
    "#rmdf = rmdfWebgl1522\n",
    "\n",
    "gfdf = gfdfWebgl160\n",
    "rmdf = rmdfWebgl160\n",
    "\n",
    "#gfdf = gfdfPlaytest\n",
    "#rmdf = rmdfLinux\n",
    "\n",
    "#gfdf = gfdfPlaytestPhase1\n",
    "#rmdf = rmdfLinux\n",
    "\n",
    "#gfdf = gfdfPlaytestPhase2\n",
    "#rmdf = rmdfLinux"
   ]
  },
  {
   "cell_type": "markdown",
   "metadata": {},
   "source": [
    "## Checks on the profiles counts - search for duplicates"
   ]
  },
  {
   "cell_type": "code",
   "execution_count": null,
   "metadata": {},
   "outputs": [],
   "source": [
    "if False:\n",
    "    # duplicate profiles\n",
    "    #  may be people who filled in the same survey twice in a row\n",
    "    #  or different people who happened to belong to same demographic group and play on same unreset computer\n",
    "    #  Only way to differentiate: look at RedMetrics events\n",
    "    columns = [QUserId, QAge, QGender, QTemporality]\n",
    "    displayColumns = [QUserId, QAge, QGender, QTemporality, QTimestamp]\n",
    "    duplicates = getTimedAssembledDuplicates(gfdf, columns, displayColumns)\n",
    "    grouped = duplicates.groupby(columns)\n",
    "    grouped.size()"
   ]
  },
  {
   "cell_type": "code",
   "execution_count": null,
   "metadata": {},
   "outputs": [],
   "source": [
    "if False:\n",
    "    # duplicates per day\n",
    "    duplicatesPerDay = duplicates.copy()\n",
    "    duplicatesPerDay.loc[:, QTimestamp] = duplicatesPerDay.loc[:, QTimestamp].apply(pd.Timestamp.date)\n",
    "    duplicatesPerDay.groupby(QTimestamp).size()"
   ]
  },
  {
   "cell_type": "code",
   "execution_count": null,
   "metadata": {},
   "outputs": [],
   "source": [
    "if False:\n",
    "    # duplicates or just unpaired surveys? (ie pretest wihtout posttest or conversely)\n",
    "    #  timely repartition of redmetrics events is inconclusive: analysis of RedMetrics events is necessary\n",
    "    duplicates['diff'] = duplicates[QTimestamp].diff()\n",
    "    duplicates"
   ]
  },
  {
   "cell_type": "code",
   "execution_count": null,
   "metadata": {},
   "outputs": [],
   "source": [
    "if False:\n",
    "    plotEventsPerMinute(\"e3fc1686-6802-4e36-9877-d1bb226a6f72\", rmdf, gfdf)"
   ]
  },
  {
   "cell_type": "code",
   "execution_count": null,
   "metadata": {},
   "outputs": [],
   "source": [
    "if False:\n",
    "    gform[gform[QUserId] == \"29b739fc-4f9f-4f5e-bfee-8ba12de4b7fa\"].loc[:, [QUserId, QAge, QGender, QTemporality, QTimestamp]]"
   ]
  },
  {
   "cell_type": "code",
   "execution_count": null,
   "metadata": {
    "scrolled": false
   },
   "outputs": [],
   "source": [
    "if False:\n",
    "    for userId in duplicates[QUserId].unique():\n",
    "        print(str(gfdf[gfdf[QUserId] == userId].loc[:,displayColumns]))\n",
    "        plotEventsPerMinute(userId, rmdf, gform)"
   ]
  },
  {
   "cell_type": "code",
   "execution_count": null,
   "metadata": {},
   "outputs": [],
   "source": [
    "if False:\n",
    "    getTimedAssembledDuplicates(gfdf, [QUserId, QAge, QGender], [QUserId, QAge, QGender, QTemporality, QTimestamp])"
   ]
  },
  {
   "cell_type": "markdown",
   "metadata": {},
   "source": [
    "------------"
   ]
  },
  {
   "cell_type": "markdown",
   "metadata": {},
   "source": [
    "## Global analysis of player paths"
   ]
  },
  {
   "cell_type": "code",
   "execution_count": null,
   "metadata": {},
   "outputs": [],
   "source": [
    "#userIds = _gformDF4[QUserId].unique()\n",
    "#userIds = pd.DataFrame(pd.NaT, index=userIds, columns=[\"0\",\"1\"])\n",
    "#for i in [0, 1]:\n",
    "#    userIds[str(i)] = pd.Series([getFloorDayFromUserIdAndTemporality(x,i) for x in userIds.index.values], index = userIds.index)\n",
    "#userIds.index[userIds.loc[:,\"0\"] == userIds.loc[:,\"1\"]]"
   ]
  },
  {
   "cell_type": "code",
   "execution_count": null,
   "metadata": {},
   "outputs": [],
   "source": [
    "if displayResults:\n",
    "    maxMinutesCount, minuteCounts = getMaxPlayDuration(rmdf, gfdf, printDebugMessages = False)\n",
    "    minuteCounts.name = \"time spent on the game (s)\"\n",
    "    minuteCountsUpperBound = minuteCounts.mean() + 2 * minuteCounts.std()\n",
    "    minuteCountsNoOutlier = minuteCounts.drop(index=minuteCounts[minuteCounts >= minuteCountsUpperBound].index)\n",
    "    ax = sns.distplot(minuteCountsNoOutlier.sort_values(),rug=True,)\n",
    "    minuteCounts.max(), minuteCounts.min(), minuteCounts.mean(), minuteCounts.median(),\\\n",
    "    minuteCountsNoOutlier.max(), minuteCountsNoOutlier.min(), minuteCountsNoOutlier.mean(), minuteCountsNoOutlier.median(),"
   ]
  },
  {
   "cell_type": "code",
   "execution_count": null,
   "metadata": {},
   "outputs": [],
   "source": [
    "profilesCount = []\n",
    "if False:\n",
    "    profilesCount = getProfileCounts(gfdf, 1)\n",
    "profilesCount"
   ]
  },
  {
   "cell_type": "code",
   "execution_count": null,
   "metadata": {
    "scrolled": false
   },
   "outputs": [],
   "source": [
    "if False:\n",
    "    i = 0\n",
    "    uniques = gfdf[QUserId].unique()#[:10]\n",
    "    _progress = IntProgress(min=0, max=len(uniques))\n",
    "    display(_progress)\n",
    "    f, axarr = plt.subplots(len(uniques)//5+1, 5, figsize=(20,70))\n",
    "    \n",
    "    for userId in uniques:\n",
    "        ax = axarr[i//5, i%5]\n",
    "        plotEventsPerMinute(userId, rmdf, gfdf, ax=ax, minBinCount=minuteCountsNoOutlier.max())\n",
    "        i += 1\n",
    "        _progress.value += 1\n",
    "        \n",
    "    _progress.close()\n",
    "    del _progress"
   ]
  },
  {
   "cell_type": "code",
   "execution_count": null,
   "metadata": {},
   "outputs": [],
   "source": [
    "#rmdfClamped = getRmdfFromGfdf(rmdfPlaytestPretestPosttestUniqueProfilesPhase1, gfdfPlaytestPretestPosttestUniqueProfilesVolunteersPhase1, clamp = True)"
   ]
  },
  {
   "cell_type": "code",
   "execution_count": null,
   "metadata": {},
   "outputs": [],
   "source": [
    "if displayResults:\n",
    "    plotUserActivity(gfdfPlaytestPretestPosttestUniqueProfilesVolunteersPhase1,\\\n",
    "                rmdfPlaytestPretestPosttestUniqueProfilesVolunteersPhase1)"
   ]
  },
  {
   "cell_type": "code",
   "execution_count": null,
   "metadata": {},
   "outputs": [],
   "source": [
    "if displayResults:\n",
    "    plotUserActivity(gfdfWebgl1522,\\\n",
    "                rmdfWebgl1522)"
   ]
  },
  {
   "cell_type": "code",
   "execution_count": null,
   "metadata": {},
   "outputs": [],
   "source": [
    "if displayResults:\n",
    "    plotUserActivity(gfdfWebgl160,\\\n",
    "                rmdfWebgl160)"
   ]
  },
  {
   "cell_type": "markdown",
   "metadata": {},
   "source": [
    "------------"
   ]
  },
  {
   "cell_type": "code",
   "execution_count": null,
   "metadata": {},
   "outputs": [],
   "source": [
    "gformProfiles = getUniqueProfiles(gform)\n",
    "wholeProfiles = getUniqueProfiles(sampleWhole)\n",
    "linuxProfiles = getUniqueProfiles(gfdfLinux)\n",
    "len(gformProfiles), len(wholeProfiles), len(linuxProfiles)"
   ]
  },
  {
   "cell_type": "code",
   "execution_count": null,
   "metadata": {},
   "outputs": [],
   "source": [
    "playtestProfiles = getUniqueProfiles(gfdfPlaytest)\n",
    "playtestProfilesPhase1 = getUniqueProfiles(gfdfPlaytestPhase1)\n",
    "playtestProfilesPhase2 = getUniqueProfiles(gfdfPlaytestPhase2)\n",
    "\n",
    "assert(len(playtestProfiles) == len(playtestProfilesPhase1) + len(playtestProfilesPhase2))\n",
    "\n",
    "len(playtestProfiles),\\\n",
    "len(playtestProfilesPhase1),\\\n",
    "len(playtestProfilesPhase2)"
   ]
  },
  {
   "cell_type": "code",
   "execution_count": null,
   "metadata": {},
   "outputs": [],
   "source": [
    "shouldBeEmpty = gfdfPlaytest[((gfdfPlaytest[QTimestamp] > playtest2018Phase1EndDate)&(gfdfPlaytest[QTimestamp] < playtest2018Phase2StartDate))]\n",
    "assert(len(shouldBeEmpty) == 0)"
   ]
  },
  {
   "cell_type": "code",
   "execution_count": null,
   "metadata": {},
   "outputs": [],
   "source": [
    "playtestProfiles = playtestProfiles.dropna(how='any')\n",
    "playtestProfilesPhase1 = playtestProfilesPhase1.dropna(how='any')\n",
    "playtestProfilesPhase2 = playtestProfilesPhase2.dropna(how='any')\n",
    "\n",
    "assert(len(playtestProfiles) == len(playtestProfilesPhase1) + len(playtestProfilesPhase2))\n",
    "\n",
    "len(playtestProfiles),\\\n",
    "len(playtestProfilesPhase1),\\\n",
    "len(playtestProfilesPhase2)"
   ]
  },
  {
   "cell_type": "code",
   "execution_count": null,
   "metadata": {},
   "outputs": [],
   "source": [
    "# intersections based on userId and/or questions\n",
    "s1 = pd.merge(playtestProfilesPhase1, playtestProfilesPhase2, how='inner', on=[QUserId])\n",
    "s2 = pd.merge(playtestProfilesPhase1, playtestProfilesPhase2, how='inner', on=[QUserId, QAge, QGender])\n",
    "len(s1), len(s2)"
   ]
  },
  {
   "cell_type": "code",
   "execution_count": null,
   "metadata": {},
   "outputs": [],
   "source": [
    "playtestProfiles[QUserId].nunique(), playtestProfilesPhase1[QUserId].nunique(), playtestProfilesPhase2[QUserId].nunique(), "
   ]
  },
  {
   "cell_type": "code",
   "execution_count": null,
   "metadata": {},
   "outputs": [],
   "source": [
    "assert(rmdfPlaytest[QUserId].nunique()       == gfdfPlaytest[QUserId].nunique())\n",
    "assert(rmdfPlaytestPhase1[QUserId].nunique() == gfdfPlaytestPhase1[QUserId].nunique())\n",
    "assert(rmdfPlaytestPhase2[QUserId].nunique() == gfdfPlaytestPhase2[QUserId].nunique())"
   ]
  },
  {
   "cell_type": "markdown",
   "metadata": {},
   "source": [
    "## Players"
   ]
  },
  {
   "cell_type": "code",
   "execution_count": null,
   "metadata": {},
   "outputs": [],
   "source": [
    "thresholdGameEventsCount = 10\n",
    "thresholdTimedelta = pd.Timedelta('0 days 00:05:00.000000')\n",
    "\n",
    "playedEnoughTime = []\n",
    "playedEnoughEvents = []\n",
    "\n",
    "for userId in gfdfPlaytest[QUserId].unique():\n",
    "    rows = rmdfPlaytest[rmdfPlaytest[QUserId] == userId]\n",
    "    if len(rows) > thresholdGameEventsCount:\n",
    "        playedEnoughEvents.append(userId)\n",
    "    delta = rows['userTime'].max() - rows['userTime'].min()\n",
    "    if delta > thresholdTimedelta:\n",
    "        playedEnoughTime.append(userId)\n",
    "        \n",
    "len(gfdfPlaytest[QUserId].unique()), len(playedEnoughTime), len(playedEnoughEvents)"
   ]
  },
  {
   "cell_type": "code",
   "execution_count": null,
   "metadata": {},
   "outputs": [],
   "source": [
    "setCount(gfdfPlaytestPhase1, phase1Label, playersCountLabel)\n",
    "setCount(gfdfPlaytestPhase2, phase2Label, playersCountLabel)\n",
    "setCount(gfdfPlaytest,       totalLabel,  playersCountLabel)\n",
    "    \n",
    "#assert(playtestStatistics.loc[totalLabel, playersCountLabel] == \\\n",
    "#    playtestStatistics.loc[phase1Label, playersCountLabel]\\\n",
    "#    + playtestStatistics.loc[phase2Label, playersCountLabel])\n",
    "\n",
    "playtestStatistics"
   ]
  },
  {
   "cell_type": "markdown",
   "metadata": {},
   "source": [
    "## All playtest respondents"
   ]
  },
  {
   "cell_type": "code",
   "execution_count": null,
   "metadata": {},
   "outputs": [],
   "source": [
    "if displayResults:\n",
    "    plotGender(gfdfPlaytest, genderTitleFrench)"
   ]
  },
  {
   "cell_type": "code",
   "execution_count": null,
   "metadata": {},
   "outputs": [],
   "source": [
    "if displayResults:\n",
    "    plotGender(gfdfPlaytestPhase1, genderTitleEnglish + phase1Suffix, labels = genderLabelsEnglish)"
   ]
  },
  {
   "cell_type": "code",
   "execution_count": null,
   "metadata": {
    "scrolled": true
   },
   "outputs": [],
   "source": [
    "if displayResults:\n",
    "    plotGender(gfdfPlaytestPhase2, genderTitleEnglish + phase2Suffix)"
   ]
  },
  {
   "cell_type": "code",
   "execution_count": null,
   "metadata": {},
   "outputs": [],
   "source": [
    "if displayResults:\n",
    "    plotAge(gfdfPlaytest, ageTitleEnglish + totalSuffix)\n",
    "    plotAge(gfdfPlaytestPhase1, ageTitleEnglish, xlabel = ageXLabelEnglish, ylabel = ageYLabelEnglish)\n",
    "    plotAge(gfdfPlaytestPhase2, ageTitleEnglish + phase2Suffix)\n",
    "    plotAge(gfdfPlaytestPretestPosttestUniqueProfilesVolunteersPhase1, ageVolunteersTitleEnglish, xlabel = ageXLabelEnglish, ylabel = ageYLabelEnglish)"
   ]
  },
  {
   "cell_type": "code",
   "execution_count": null,
   "metadata": {},
   "outputs": [],
   "source": [
    "# For DITOS\n",
    "\n",
    "if False:\n",
    "    if displayResults:\n",
    "        femaleParticipants = gfdfPlaytest[gfdfPlaytest[QGender]==\"Female\"]\n",
    "        plotAge(femaleParticipants, ageFemaleTitleFrench)\n",
    "        femaleParticipants[QAge].value_counts()\n",
    "        plotAgeGroups(femaleParticipants, pivotalAgesList = [1,15,25,35,45], title = ageFemaleTitleFrench, showCount = False, unknownAgeLabel = unknownAgeLabelFrench)"
   ]
  },
  {
   "cell_type": "code",
   "execution_count": null,
   "metadata": {},
   "outputs": [],
   "source": [
    "if displayResults:\n",
    "    plotAgeGroups(gfdfPlaytest,       pivotalAgesList = [1,15,25,35,45], title = ageTitleEnglish+totalSuffix, showCount = False, unknownAgeLabel =unknownAgeLabelEnglish)\n",
    "    plotAgeGroups(gfdfPlaytestPhase1, pivotalAgesList = [1,15,25,35,45], title = ageTitleEnglish+phase1Suffix, showCount = False)\n",
    "    plotAgeGroups(gfdfPlaytestPhase2, pivotalAgesList = [1,15,25,35,45], title = ageTitleEnglish+phase2Suffix, showCount = False)\n",
    "    plotAgeGroups(gfdfPlaytestPretestPosttestUniqueProfilesVolunteersPhase1, pivotalAgesList = [1,15,25,35,45], title = ageVolunteersTitleEnglish, showCount = False)"
   ]
  },
  {
   "cell_type": "code",
   "execution_count": null,
   "metadata": {},
   "outputs": [],
   "source": [
    "setGenderedCount(gfdfPlaytestPhase1, phase1Label, respondentsCountLabel)\n",
    "setGenderedCount(gfdfPlaytestPhase2, phase2Label, respondentsCountLabel)\n",
    "setGenderedCount(gfdfPlaytest,       totalLabel,  respondentsCountLabel,\\\n",
    "                 plotPie = displayResults, title = genderTitleEnglish)\n",
    "\n",
    "assert(playtestStatistics.loc[totalLabel, respondentsCountLabel] ==\\\n",
    "       playtestStatistics.loc[phase1Label, respondentsCountLabel]\\\n",
    "      + playtestStatistics.loc[phase2Label, respondentsCountLabel])\n",
    "\n",
    "playtestStatistics"
   ]
  },
  {
   "cell_type": "code",
   "execution_count": null,
   "metadata": {},
   "outputs": [],
   "source": [
    "setGenderedCount(gfdfPlaytestUniqueProfilesPhase1, phase1Label, respondentsExploitableCountLabel)\n",
    "setGenderedCount(gfdfPlaytestUniqueProfilesPhase2, phase2Label, respondentsExploitableCountLabel)\n",
    "setGenderedCount(gfdfPlaytestUniqueProfiles,       totalLabel,  respondentsExploitableCountLabel,\\\n",
    "                 plotPie = displayResults, title = genderExploitableTitleEnglish)\n",
    "\n",
    "assert(playtestStatistics.loc[totalLabel, respondentsExploitableCountLabel] ==\\\n",
    "       playtestStatistics.loc[phase1Label, respondentsExploitableCountLabel]\\\n",
    "      + playtestStatistics.loc[phase2Label, respondentsExploitableCountLabel])\n",
    "\n",
    "playtestStatistics"
   ]
  },
  {
   "cell_type": "code",
   "execution_count": null,
   "metadata": {},
   "outputs": [],
   "source": [
    "# answers per userId\n",
    "# => gform.indexes per userId\n",
    "#indicesPerUserId = gform[QUserId].value_counts()\n",
    "#indicesPerUserId"
   ]
  },
  {
   "cell_type": "markdown",
   "metadata": {},
   "source": [
    "### Twice respondents"
   ]
  },
  {
   "cell_type": "code",
   "execution_count": null,
   "metadata": {},
   "outputs": [],
   "source": [
    "setGenderedCount(gfdfPlaytestPretestPosttestUniqueProfilesPhase1, phase1Label, respondentsTwiceCountLabel)\n",
    "setGenderedCount(gfdfPlaytestPretestPosttestUniqueProfilesPhase2, phase2Label, respondentsTwiceCountLabel)\n",
    "setGenderedCount(gfdfPlaytestPretestPosttestUniqueProfiles,       totalLabel,  respondentsTwiceCountLabel,\\\n",
    "                 plotPie = displayResults, title = genderTitleEnglish + twiceRespondentsSuffix)\n",
    "\n",
    "assert(playtestStatistics.loc[totalLabel, respondentsTwiceCountLabel] ==\\\n",
    "       playtestStatistics.loc[phase1Label, respondentsTwiceCountLabel]\\\n",
    "      + playtestStatistics.loc[phase2Label, respondentsTwiceCountLabel])\n",
    "\n",
    "playtestStatistics"
   ]
  },
  {
   "cell_type": "code",
   "execution_count": null,
   "metadata": {},
   "outputs": [],
   "source": [
    "if displayResults:\n",
    "    (gfdfPlaytestPretestPosttestUniqueProfiles, 'Age repartition of pretest-posttest participants')"
   ]
  },
  {
   "cell_type": "markdown",
   "metadata": {},
   "source": [
    "### Volunteers"
   ]
  },
  {
   "cell_type": "code",
   "execution_count": null,
   "metadata": {},
   "outputs": [],
   "source": [
    "setGenderedCount(gfdfPlaytestPretestPosttestUniqueProfilesVolunteersPhase1, phase1Label, respondentsTwiceVolunteersCountLabel,\\\n",
    "                 plotPie = displayResults, title = genderTitleEnglish + phase1Suffix + volunteersSuffix)\n",
    "setGenderedCount(gfdfPlaytestPretestPosttestUniqueProfilesVolunteersPhase2, phase2Label, respondentsTwiceVolunteersCountLabel)\n",
    "setGenderedCount(gfdfPlaytestPretestPosttestUniqueProfilesVolunteers,       totalLabel,  respondentsTwiceVolunteersCountLabel,\\\n",
    "                 plotPie = displayResults, title = genderTitleEnglish + totalSuffix + volunteersSuffix)\n",
    "\n",
    "assert(playtestStatistics.loc[totalLabel, respondentsTwiceVolunteersCountLabel] ==\\\n",
    "       playtestStatistics.loc[phase1Label, respondentsTwiceVolunteersCountLabel]\\\n",
    "      + playtestStatistics.loc[phase2Label, respondentsTwiceVolunteersCountLabel])\n",
    "\n",
    "playtestStatistics"
   ]
  },
  {
   "cell_type": "markdown",
   "metadata": {},
   "source": [
    "# Sankey diagram"
   ]
  },
  {
   "cell_type": "code",
   "execution_count": null,
   "metadata": {},
   "outputs": [],
   "source": [
    "from matplotlib.sankey import Sankey"
   ]
  },
  {
   "cell_type": "code",
   "execution_count": null,
   "metadata": {},
   "outputs": [],
   "source": [
    "groupLabel = totalLabel\n",
    "players = playtestStatistics.loc[groupLabel, playersCountLabel]\n",
    "minus = pd.Series()\n",
    "\n",
    "minus[respondentsCountLabel]                = playtestStatistics.loc[groupLabel, respondentsCountLabel]\\\n",
    "                                                - playtestStatistics.loc[groupLabel, playersCountLabel]\n",
    "minus[respondentsExploitableCountLabel]     = playtestStatistics.loc[groupLabel, respondentsExploitableCountLabel]\\\n",
    "                                                - playtestStatistics.loc[groupLabel, respondentsCountLabel]\n",
    "minus[respondentsTwiceCountLabel]           = playtestStatistics.loc[groupLabel, respondentsTwiceCountLabel]\\\n",
    "                                                - playtestStatistics.loc[groupLabel, respondentsExploitableCountLabel]\n",
    "minus[respondentsTwiceVolunteersCountLabel] = playtestStatistics.loc[groupLabel, respondentsTwiceVolunteersCountLabel]\\\n",
    "                                                - playtestStatistics.loc[groupLabel, respondentsTwiceCountLabel]"
   ]
  },
  {
   "cell_type": "code",
   "execution_count": null,
   "metadata": {},
   "outputs": [],
   "source": [
    "if displayResults:\n",
    "#if True: \n",
    "    # source: https://flothesof.github.io/sankey-tutorial-matplotlib.html\n",
    "    fig = plt.figure(figsize=(12, 12))\n",
    "    ax = fig.add_subplot(1, 1, 1, xticks=[], yticks=[])\n",
    "    diagrams = Sankey(flows=[\n",
    "               #input\n",
    "                        players,\n",
    "               #output\n",
    "                        -players-minus.sum(),\n",
    "               #losses\n",
    "                        minus[respondentsTwiceVolunteersCountLabel], \n",
    "                        minus[respondentsTwiceCountLabel], \n",
    "                        minus[respondentsExploitableCountLabel], \n",
    "                        minus[respondentsCountLabel] \n",
    "                ],\n",
    "\n",
    "# English\n",
    "           labels=[\n",
    "               #input\n",
    "                       playersCountLabel,\n",
    "               #output\n",
    "                       \"exploitable sample\",\n",
    "               #losses\n",
    "                       \"non-respondents to optional questions\",\n",
    "                       \"non-\"+respondentsTwiceCountLabel,\n",
    "                       \"technical error\",\n",
    "                       \"non-\"+respondentsCountLabel\n",
    "                ],\n",
    "\n",
    "## French\n",
    "#           labels=[\n",
    "#               #input\n",
    "#                       \"joueurs\",\n",
    "#               #output\n",
    "#                       \"échantillon exploitable\",\n",
    "#               #losses\n",
    "#                       \"n'ont pas répondu\\naux questions facultatives\",\n",
    "#                       \"n'ont pas répondu une fois\\nau prétest et au posttest\",\n",
    "#                       \"problème technique\",\n",
    "#                       \"n'ont répondu\\nà aucun questionnaire\"\n",
    "#                ],\n",
    "\n",
    "           orientations=[\n",
    "               #input\n",
    "                        0,\n",
    "               #output\n",
    "                        0,\n",
    "               #losses\n",
    "                        -1, -1, -1, -1\n",
    "               ],\n",
    "           rotation=-90,\n",
    "            ax=ax,\n",
    "           scale = 1/players\n",
    "          ).finish()\n",
    "    plt.title(\"Sankey diagram of experiment participants\")\n",
    "#    plt.title(\"Diagramme de Sankey des participants à l'expérience\")\n",
    "    for diagram in diagrams:\n",
    "        diagram.text.set_fontweight('bold')\n",
    "        diagram.text.set_fontsize('20')\n",
    "        for text in diagram.texts:\n",
    "            text.set_fontsize('14')"
   ]
  },
  {
   "cell_type": "markdown",
   "metadata": {},
   "source": [
    "#### drafts"
   ]
  },
  {
   "cell_type": "code",
   "execution_count": null,
   "metadata": {},
   "outputs": [],
   "source": [
    "gform[gform[QTemporality] == answerTemporalities[0]][QEnjoyed].apply(str).value_counts()"
   ]
  },
  {
   "cell_type": "code",
   "execution_count": null,
   "metadata": {},
   "outputs": [],
   "source": [
    "gform[QAge].apply(str).value_counts()['nan']"
   ]
  },
  {
   "cell_type": "code",
   "execution_count": null,
   "metadata": {},
   "outputs": [],
   "source": [
    "gform[gform[QAge].apply(str) == 'nan'][QTemporality].unique()"
   ]
  }
 ],
 "metadata": {
  "kernelspec": {
   "display_name": "Python 3",
   "language": "python",
   "name": "python3"
  },
  "language_info": {
   "codemirror_mode": {
    "name": "ipython",
    "version": 3
   },
   "file_extension": ".py",
   "mimetype": "text/x-python",
   "name": "python",
   "nbconvert_exporter": "python",
   "pygments_lexer": "ipython3",
   "version": "3.6.5"
  }
 },
 "nbformat": 4,
 "nbformat_minor": 2
}
