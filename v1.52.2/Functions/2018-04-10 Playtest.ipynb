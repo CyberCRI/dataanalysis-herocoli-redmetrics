{
 "cells": [
  {
   "cell_type": "markdown",
   "metadata": {},
   "source": [
    "# Preparation\n",
    "<a id=preparation />"
   ]
  },
  {
   "cell_type": "code",
   "execution_count": null,
   "metadata": {},
   "outputs": [],
   "source": [
    "%run \"../Functions/6. Time analysis.ipynb\"\n",
    "%run \"../Functions/Plot.ipynb\""
   ]
  },
  {
   "cell_type": "markdown",
   "metadata": {},
   "source": [
    "# April 2018 Playtest"
   ]
  },
  {
   "cell_type": "code",
   "execution_count": null,
   "metadata": {
    "scrolled": true
   },
   "outputs": [],
   "source": [
    "rmdf1522.columns"
   ]
  },
  {
   "cell_type": "code",
   "execution_count": null,
   "metadata": {},
   "outputs": [],
   "source": [
    "#testUserId1 = 'f4589007-0809-4673-ad50-d985abe4fa65'\n",
    "#testUserId2 = '653f174e-c23f-4d3a-94f6-d26b53ac7168'\n",
    "#gform[gform[QUserId] == testUserId2]\n",
    "#testUserId2 in testUsers"
   ]
  },
  {
   "cell_type": "code",
   "execution_count": null,
   "metadata": {},
   "outputs": [],
   "source": [
    "# rows\n",
    "phase1Label = 'phase1'\n",
    "phase2Label = 'phase2'\n",
    "totalLabel = 'total'\n",
    "\n",
    "# columns\n",
    "playersCountLabel = 'players'\n",
    "respondersCountLabel = 'responders'\n",
    "respondersTwiceCountLabel = 'twice responders'\n",
    "prefixFemale = 'f '\n",
    "prefixMale = 'm '\n",
    "\n",
    "\n",
    "playtestStatistics = pd.DataFrame(\n",
    "    data = np.nan,\n",
    "    index = [phase1Label, phase2Label, totalLabel],\n",
    "    columns = [playersCountLabel]\n",
    ")\n",
    "\n",
    "def setCount(rmdf, rowLabel, columnLabel):\n",
    "    playtestStatistics.loc[rowLabel, columnLabel] = len(rmdf[QUserId].unique())\n",
    "    return playtestStatistics.loc[rowLabel, columnLabel]\n",
    "\n",
    "def setGenderedCount(rmdf, sampledGform, rowLabel, columnLabel, plotPie = False, title = ''):\n",
    "    femaleResponders = sampledGform[sampledGform[QGender] == \"Female\"][QUserId]\n",
    "    maleResponders = sampledGform[sampledGform[QGender] == \"Male\"][QUserId]\n",
    "\n",
    "    femaleSample = rmdf[rmdf[QUserId].isin(femaleResponders)]\n",
    "    maleSample = rmdf[rmdf[QUserId].isin(maleResponders)]\n",
    "\n",
    "    tCount = setCount(rmdf, rowLabel, columnLabel)\n",
    "    fCount = setCount(femaleSample, rowLabel, prefixFemale + columnLabel)\n",
    "    mCount = setCount(maleSample, rowLabel, prefixMale + columnLabel)\n",
    "    oCount = tCount-fCount-mCount\n",
    "    \n",
    "    if plotPie:\n",
    "        plt.pie([fCount, mCount, oCount], labels=['Female', 'Male', 'Other/Unknown'], autopct='%1.1f%%', shadow=True)\n",
    "        plt.title(title)\n",
    "        plt.show()"
   ]
  },
  {
   "cell_type": "code",
   "execution_count": null,
   "metadata": {},
   "outputs": [],
   "source": [
    "def getUniqueProfiles(sampleForm):\n",
    "    playtestProfiles = sampleForm.loc[:,[QUserId, QAge, QGender]]\n",
    "    playtestProfiles.drop_duplicates(subset=[QUserId, QAge, QGender],keep='first',inplace=True)\n",
    "    return playtestProfiles"
   ]
  },
  {
   "cell_type": "code",
   "execution_count": null,
   "metadata": {},
   "outputs": [],
   "source": [
    "def plotAge(sampleForm, title, xlabel = 'Âge', ylabel = 'Nombre'):\n",
    "    playtestProfiles = getUniqueProfiles(sampleForm)\n",
    "    \n",
    "    respondersAge = playtestProfiles[QAge]\n",
    "    respondersAge = respondersAge.value_counts()\n",
    "    respondersAge = pd.Series(respondersAge.index.values, index=respondersAge)\n",
    "    respondersAge.hist(bins=20)\n",
    "    plt.xlabel(xlabel)\n",
    "    plt.ylabel(ylabel)\n",
    "    plt.title(title)\n",
    "    plt.show()"
   ]
  },
  {
   "cell_type": "code",
   "execution_count": null,
   "metadata": {},
   "outputs": [],
   "source": [
    "def plotGender(sampleForm, title = '', labels = ['Femmes', 'Hommes', 'Autres/Inconnu']):\n",
    "    playtestProfiles = getUniqueProfiles(sampleForm)\n",
    "\n",
    "    fCount = len(playtestProfiles[playtestProfiles[QGender] == 'Female'])\n",
    "    mCount = len(playtestProfiles[playtestProfiles[QGender] == 'Male'])\n",
    "    tCount = len(playtestProfiles)\n",
    "    oCount = tCount-fCount-mCount\n",
    "\n",
    "    plt.pie([fCount, mCount, oCount], labels=labels, autopct='%1.1f%%', shadow=True)\n",
    "    plt.title(title)\n",
    "    plt.show()\n",
    "    print(\"t=\"+str(tCount))\n",
    "    print(\"f=\"+str(fCount))\n",
    "    print(\"m=\"+str(mCount))\n",
    "    print(\"o=\"+str(oCount))"
   ]
  },
  {
   "cell_type": "markdown",
   "metadata": {},
   "source": [
    "## Dates"
   ]
  },
  {
   "cell_type": "code",
   "execution_count": null,
   "metadata": {},
   "outputs": [],
   "source": [
    "#rmdf1522.iloc[0]['userTime'],type(rmdf1522.iloc[0]['userTime'])\n",
    "playtest2018Phase1StartDate = pd.Timestamp('2018-04-10 11:00:00')\n",
    "playtest2018Phase1EndDate = pd.Timestamp('2018-04-25 19:00:00')\n",
    "playtest2018Phase2StartDate = pd.Timestamp('2018-04-27 11:00:00')\n",
    "playtest2018Phase2EndDate = pd.Timestamp('2018-04-28 19:00:00')\n",
    "playtest2018Phase1StartDate,playtest2018Phase1EndDate,playtest2018Phase2StartDate,playtest2018Phase2EndDate"
   ]
  },
  {
   "cell_type": "code",
   "execution_count": null,
   "metadata": {},
   "outputs": [],
   "source": [
    "# samples based on dates and platform\n",
    "sampleWhole = getWithoutTest(gform)\n",
    "\n",
    "rmdfLinuxPlatform = rmdf1522[rmdf1522['customData.platform'] == '\"linuxplayer\"']\n",
    "sampleLinux = sampleWhole[sampleWhole[QUserId].isin(rmdfLinuxPlatform[QUserId].unique())]\n",
    "\n",
    "samplePlaytest = sampleLinux[((sampleLinux[QTimestamp] > playtest2018Phase1StartDate)&(sampleLinux[QTimestamp] < playtest2018Phase2EndDate))]\n",
    "samplePlaytestPhase1 = samplePlaytest[samplePlaytest[QTimestamp] < playtest2018Phase1EndDate]\n",
    "samplePlaytestPhase2 = sampleWhole[((sampleWhole[QTimestamp] > playtest2018Phase2StartDate)&(sampleWhole[QTimestamp] < playtest2018Phase2EndDate))]\n",
    "\n",
    "samplePlaytestPretestPosttest = getPerfectPretestPostestPairs(samplePlaytest)\n",
    "samplePlaytestPretestPosttestPhase1 = getPerfectPretestPostestPairs(samplePlaytestPhase1)\n",
    "samplePlaytestPretestPosttestPhase2 = getPerfectPretestPostestPairs(samplePlaytestPhase2)"
   ]
  },
  {
   "cell_type": "code",
   "execution_count": null,
   "metadata": {},
   "outputs": [],
   "source": [
    "rmdfPlaytest = rmdfLinuxPlatform[((rmdfLinuxPlatform['userTime'] > playtest2018Phase1StartDate)&(rmdfLinuxPlatform['userTime'] < playtest2018Phase2EndDate))]\n",
    "rmdfPlaytest = rmdfPlaytest[rmdfPlaytest[QUserId].isin(samplePlaytest[QUserId].unique())]\n",
    "\n",
    "rmdfPlaytestPhase1 = rmdfPlaytest[rmdfPlaytest[QUserId].isin(samplePlaytestPhase1[QUserId])]\n",
    "rmdfPlaytestPhase1 = rmdfPlaytestPhase1[rmdfPlaytestPhase1['userTime'] < playtest2018Phase1EndDate]\n",
    "rmdfPlaytestPhase2 = rmdfPlaytest[rmdfPlaytest[QUserId].isin(samplePlaytestPhase2[QUserId])]\n",
    "rmdfPlaytestPhase2 = rmdfPlaytestPhase2[rmdfPlaytestPhase2['userTime'] > playtest2018Phase2StartDate]\n",
    "\n",
    "rmdfPlaytestPretestPosttest = rmdfPlaytest[rmdfPlaytest[QUserId].isin(samplePlaytestPretestPosttest[QUserId])]\n",
    "rmdfPlaytestPretestPosttestPhase1 = rmdfPlaytestPhase1[rmdfPlaytestPhase1[QUserId].isin(samplePlaytestPretestPosttestPhase1[QUserId])]\n",
    "rmdfPlaytestPretestPosttestPhase2 = rmdfPlaytestPhase2[rmdfPlaytestPhase2[QUserId].isin(samplePlaytestPretestPosttestPhase2[QUserId])]"
   ]
  },
  {
   "cell_type": "markdown",
   "metadata": {},
   "source": [
    "### players"
   ]
  },
  {
   "cell_type": "code",
   "execution_count": null,
   "metadata": {},
   "outputs": [],
   "source": [
    "thresholdGameEventsCount = 10\n",
    "thresholdTimedelta = pd.Timedelta('0 days 00:05:00.000000')\n",
    "\n",
    "playedEnoughTime = []\n",
    "playedEnoughEvents = []\n",
    "\n",
    "for userId in samplePlaytest[QUserId].unique():\n",
    "    rows = rmdfPlaytest[rmdfPlaytest[QUserId] == userId]\n",
    "    if len(rows) > thresholdGameEventsCount:\n",
    "        playedEnoughEvents.append(userId)\n",
    "    delta = rows['userTime'].max() - rows['userTime'].min()\n",
    "    if delta > thresholdTimedelta:\n",
    "        playedEnoughTime.append(userId)\n",
    "        \n",
    "len(samplePlaytest[QUserId].unique()), len(playedEnoughTime), len(playedEnoughEvents)"
   ]
  },
  {
   "cell_type": "code",
   "execution_count": null,
   "metadata": {},
   "outputs": [],
   "source": [
    "setCount(rmdfPlaytestPhase1, phase1Label, playersCountLabel)\n",
    "setCount(rmdfPlaytestPhase2, phase2Label, playersCountLabel)\n",
    "setCount(rmdfPlaytest, totalLabel, playersCountLabel)\n",
    "    \n",
    "assert(playtestStatistics.loc[totalLabel, playersCountLabel] == \\\n",
    "    playtestStatistics.loc[phase1Label, playersCountLabel]\\\n",
    "    + playtestStatistics.loc[phase2Label, playersCountLabel])\n",
    "\n",
    "playtestStatistics"
   ]
  },
  {
   "cell_type": "markdown",
   "metadata": {},
   "source": [
    "### all playtest responders"
   ]
  },
  {
   "cell_type": "code",
   "execution_count": null,
   "metadata": {},
   "outputs": [],
   "source": [
    "plotGender(samplePlaytest,'Sexe des participants, phase 1')"
   ]
  },
  {
   "cell_type": "code",
   "execution_count": null,
   "metadata": {
    "scrolled": true
   },
   "outputs": [],
   "source": [
    "plotGender(samplePlaytestPhase2,'Sexe des participants, phase 2')"
   ]
  },
  {
   "cell_type": "code",
   "execution_count": null,
   "metadata": {},
   "outputs": [],
   "source": [
    "len(playtestProfiles[QAge])"
   ]
  },
  {
   "cell_type": "code",
   "execution_count": null,
   "metadata": {},
   "outputs": [],
   "source": [
    "playtestProfiles[QAge].value_counts()"
   ]
  },
  {
   "cell_type": "code",
   "execution_count": null,
   "metadata": {},
   "outputs": [],
   "source": [
    "playtestProfiles = getUniqueProfiles(samplePlaytest)\n",
    "    \n",
    "respondersAge = playtestProfiles[QAge]\n",
    "respondersAge = respondersAge.value_counts()\n",
    "respondersAge = pd.Series(respondersAge.index.values, index=respondersAge)\n",
    "respondersAge.hist()#bins=20)\n",
    "plt.xlabel('xlabel')\n",
    "plt.ylabel('ylabel')\n",
    "plt.title('title')\n",
    "plt.show()"
   ]
  },
  {
   "cell_type": "code",
   "execution_count": null,
   "metadata": {},
   "outputs": [],
   "source": [
    "plotAge(samplePlaytest, \"Âge des participants, phase 1\")"
   ]
  },
  {
   "cell_type": "code",
   "execution_count": null,
   "metadata": {},
   "outputs": [],
   "source": [
    "plotAge(samplePlaytestPhase2, \"Âge des participants, phase 2\")"
   ]
  },
  {
   "cell_type": "code",
   "execution_count": null,
   "metadata": {},
   "outputs": [],
   "source": [
    "setGenderedCount(rmdfPlaytestPretestPosttestPhase1, samplePlaytestPhase1, phase1Label, respondersCountLabel)\n",
    "setGenderedCount(rmdfPlaytestPretestPosttestPhase2, samplePlaytestPhase2,  phase2Label, respondersCountLabel)\n",
    "setGenderedCount(rmdfPlaytestPretestPosttest, samplePlaytest,  totalLabel, respondersCountLabel, plotPie = True, title = 'Gender of participants (all)')\n",
    "\n",
    "assert(playtestStatistics.loc[totalLabel, respondersCountLabel] ==\\\n",
    "       playtestStatistics.loc[phase1Label, respondersCountLabel]\\\n",
    "      + playtestStatistics.loc[phase2Label, respondersCountLabel])\n",
    "\n",
    "playtestStatistics"
   ]
  },
  {
   "cell_type": "code",
   "execution_count": null,
   "metadata": {},
   "outputs": [],
   "source": [
    "# answers per userId\n",
    "# => gform.indexes per userId\n",
    "indicesPerUserId = gform[QUserId].value_counts()\n",
    "#indicesPerUserId"
   ]
  },
  {
   "cell_type": "markdown",
   "metadata": {},
   "source": [
    "### twice responders"
   ]
  },
  {
   "cell_type": "code",
   "execution_count": null,
   "metadata": {},
   "outputs": [],
   "source": [
    "twiceResponders = getPerfectPretestPostestPairs(gform)\n",
    "playtestTwiceResponders = twiceResponders[twiceResponders[QUserId].isin(samplePlaytest[QUserId])]\n",
    "\n",
    "uniquePlaytestPhase1TwiceResponders = samplePlaytestPhase1[samplePlaytestPhase1[QUserId].isin(playtestTwiceResponders[QUserId])]\n",
    "uniquePlaytestPhase2TwiceResponders = samplePlaytestPhase2[samplePlaytestPhase2[QUserId].isin(playtestTwiceResponders[QUserId])]\n",
    "uniquePlaytestTwiceResponders = samplePlaytest[samplePlaytest[QUserId].isin(playtestTwiceResponders[QUserId])]\n",
    "\n",
    "setGenderedCount(uniquePlaytestPhase1TwiceResponders, playtestTwiceResponders, phase1Label, respondersTwiceCountLabel)\n",
    "setGenderedCount(uniquePlaytestPhase2TwiceResponders, playtestTwiceResponders,  phase2Label, respondersTwiceCountLabel)\n",
    "setGenderedCount(uniquePlaytestTwiceResponders, playtestTwiceResponders,  totalLabel, respondersTwiceCountLabel, plotPie = True, title = 'Gender of participants (pretest-posttest)')\n",
    "\n",
    "assert(playtestStatistics.loc[totalLabel, respondersTwiceCountLabel] ==\\\n",
    "       playtestStatistics.loc[phase1Label, respondersTwiceCountLabel]\\\n",
    "      + playtestStatistics.loc[phase2Label, respondersTwiceCountLabel])\n",
    "\n",
    "playtestStatistics"
   ]
  },
  {
   "cell_type": "code",
   "execution_count": null,
   "metadata": {},
   "outputs": [],
   "source": [
    "plotAge(allPlaytestResponders, 'Age repartition of all participants')"
   ]
  },
  {
   "cell_type": "code",
   "execution_count": null,
   "metadata": {},
   "outputs": [],
   "source": [
    "plotAge(playtestTwiceResponders, 'Age repartition of pretest-posttest participants')"
   ]
  },
  {
   "cell_type": "code",
   "execution_count": null,
   "metadata": {},
   "outputs": [],
   "source": []
  }
 ],
 "metadata": {
  "kernelspec": {
   "display_name": "Python [conda env:python3]",
   "language": "python",
   "name": "conda-env-python3-py"
  },
  "language_info": {
   "codemirror_mode": {
    "name": "ipython",
    "version": 3
   },
   "file_extension": ".py",
   "mimetype": "text/x-python",
   "name": "python",
   "nbconvert_exporter": "python",
   "pygments_lexer": "ipython3",
   "version": "3.5.4"
  }
 },
 "nbformat": 4,
 "nbformat_minor": 2
}
