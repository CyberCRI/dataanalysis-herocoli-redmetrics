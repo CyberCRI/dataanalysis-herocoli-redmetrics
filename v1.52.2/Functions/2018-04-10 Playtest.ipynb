{
 "cells": [
  {
   "cell_type": "markdown",
   "metadata": {},
   "source": [
    "# Preparation\n",
    "<a id=preparation />"
   ]
  },
  {
   "cell_type": "code",
   "execution_count": null,
   "metadata": {},
   "outputs": [],
   "source": [
    "%run \"../Functions/6. Time analysis.ipynb\"\n",
    "%run \"../Functions/Plot.ipynb\""
   ]
  },
  {
   "cell_type": "markdown",
   "metadata": {},
   "source": [
    "# April 2018 Playtest"
   ]
  },
  {
   "cell_type": "code",
   "execution_count": null,
   "metadata": {
    "scrolled": true
   },
   "outputs": [],
   "source": [
    "rmdf1522.columns"
   ]
  },
  {
   "cell_type": "code",
   "execution_count": null,
   "metadata": {},
   "outputs": [],
   "source": [
    "#testUserId1 = 'f4589007-0809-4673-ad50-d985abe4fa65'\n",
    "#testUserId2 = '653f174e-c23f-4d3a-94f6-d26b53ac7168'\n",
    "#gform[gform[QUserId] == testUserId2]\n",
    "#testUserId2 in testUsers"
   ]
  },
  {
   "cell_type": "code",
   "execution_count": null,
   "metadata": {},
   "outputs": [],
   "source": [
    "# rows\n",
    "phase1Label = 'phase1'\n",
    "phase2Label = 'phase2'\n",
    "totalLabel = 'total'\n",
    "\n",
    "# columns\n",
    "playersCountLabel = 'players'\n",
    "respondersCountLabel = 'responders'\n",
    "respondersTwiceCountLabel = 'twice responders'\n",
    "prefixFemale = 'f '\n",
    "prefixMale = 'm '\n",
    "\n",
    "\n",
    "playtestStatistics = pd.DataFrame(\n",
    "    data = np.nan,\n",
    "    index = [phase1Label, phase2Label, totalLabel],\n",
    "    columns = [playersCountLabel]\n",
    ")\n",
    "\n",
    "def setCount(rmdf, rowLabel, columnLabel):\n",
    "    playtestStatistics.loc[rowLabel, columnLabel] = len(rmdf[QUserId].unique())\n",
    "    return playtestStatistics.loc[rowLabel, columnLabel]\n",
    "\n",
    "def setGenderedCount(rmdf, sampledGform, rowLabel, columnLabel, plotPie = False, title = ''):\n",
    "    femaleResponders = sampledGform[sampledGform[QGender] == \"Female\"][QUserId]\n",
    "    maleResponders = sampledGform[sampledGform[QGender] == \"Male\"][QUserId]\n",
    "\n",
    "    femaleSample = rmdf[rmdf[QUserId].isin(femaleResponders)]\n",
    "    maleSample = rmdf[rmdf[QUserId].isin(maleResponders)]\n",
    "\n",
    "    tCount = setCount(rmdf, rowLabel, columnLabel)\n",
    "    fCount = setCount(femaleSample, rowLabel, prefixFemale + columnLabel)\n",
    "    mCount = setCount(maleSample, rowLabel, prefixMale + columnLabel)\n",
    "    oCount = tCount-fCount-mCount\n",
    "    \n",
    "    if plotPie:\n",
    "        plt.pie([fCount, mCount, oCount], labels=['Female', 'Male', 'Other/Unknown'], autopct='%1.1f%%', shadow=True)\n",
    "        plt.title(title)\n",
    "        plt.show()"
   ]
  },
  {
   "cell_type": "code",
   "execution_count": null,
   "metadata": {},
   "outputs": [],
   "source": [
    "def getUniqueProfiles(sampleForm):\n",
    "    playtestProfiles = sampleForm.loc[:,[QUserId, QAge, QGender]]\n",
    "    playtestProfiles.drop_duplicates(subset=[QUserId, QAge, QGender], keep='first', inplace=True)\n",
    "    return playtestProfiles"
   ]
  },
  {
   "cell_type": "code",
   "execution_count": null,
   "metadata": {},
   "outputs": [],
   "source": [
    "def getTicksByStep(minValue, maxValue, step):\n",
    "    start = minValue + step - (minValue % step)\n",
    "    end = maxValue - (maxValue % step) + step\n",
    "\n",
    "    ticks = [x for x in range(start, end, step)]\n",
    "    ticks = np.append([minValue], ticks)\n",
    "    ticks = np.append(ticks, [maxValue])\n",
    "\n",
    "    return ticks"
   ]
  },
  {
   "cell_type": "code",
   "execution_count": null,
   "metadata": {},
   "outputs": [],
   "source": [
    "def getTicks(minValue, maxValue, step = 0, labelCount = 0):\n",
    "    if step == 0 and labelCount != 0:\n",
    "        step = int((maxValue - minValue + 1) / labelCount)\n",
    "    return getTicksByStep(minValue, maxValue, step)"
   ]
  },
  {
   "cell_type": "code",
   "execution_count": null,
   "metadata": {},
   "outputs": [],
   "source": [
    "def plotAge(sampleForm, title = 'Âge des participants', xlabel = 'Âge', ylabel = 'Nombre'):\n",
    "    playtestProfiles = getUniqueProfiles(sampleForm)\n",
    "\n",
    "    ages = playtestProfiles[QAge].value_counts().sort_index()\n",
    "    minAge = ages.index.min()\n",
    "    maxAge = ages.index.max()\n",
    "    ages = pd.Series(ages, index=range(minAge, maxAge+1)).fillna(0)\n",
    "    \n",
    "    yticks = getTicks(int(ages.min()), int(ages.max()), labelCount = 5)\n",
    "    ax = ages.plot(kind='bar', yticks=yticks)\n",
    "    \n",
    "    #ax = ages.plot(kind='bar')\n",
    "    plt.xlabel(xlabel)\n",
    "    plt.ylabel(ylabel)\n",
    "    \n",
    "    # xticks like yticks doesn't work\n",
    "    # workaround\n",
    "    xticks = getTicks(minAge, maxAge, step = 5)\n",
    "    newTicks = xticks - minAge\n",
    "    newLabels = xticks\n",
    "    ax.xaxis.set_ticks(newTicks)\n",
    "    ax.xaxis.set_ticklabels(newLabels)\n",
    "    \n",
    "    plt.title(title)\n",
    "    plt.show()"
   ]
  },
  {
   "cell_type": "code",
   "execution_count": null,
   "metadata": {},
   "outputs": [],
   "source": [
    "#sampleForm = samplePlaytest.copy()\n",
    "#pivotalAgesList = [3,15,25,35,45,55]\n",
    "#title = 'Âge des participants'\n",
    "\n",
    "def plotAgeGroups(sampleForm, pivotalAgesList = [], title = 'Âge des participants', showCount = True):\n",
    "    playtestProfiles = getUniqueProfiles(sampleForm)\n",
    "\n",
    "    ages = playtestProfiles[QAge]\n",
    "    maxAge = ages.max()\n",
    "    minAge = ages.min()\n",
    "\n",
    "    pivotalAgesList.sort()\n",
    "    pivotalAgesList = [x for x in pivotalAgesList if (x < maxAge and x > minAge)]\n",
    "    pivotalAgesList = np.append(pivotalAgesList, [maxAge])\n",
    "\n",
    "    ageBins = pd.Series(0,index=pivotalAgesList)\n",
    "    labels = pd.Series('+++',index=pivotalAgesList)\n",
    "    previous = str(minAge)\n",
    "\n",
    "    for pivot in pivotalAgesList:\n",
    "            ageBins[pivot] = len(ages[ages <= pivot])\n",
    "            labels[pivot] = previous + '-' + str(pivot)\n",
    "            if showCount:\n",
    "                labels[pivot] += \" (\" + str(ageBins[pivot]) + \")\"\n",
    "            ages = ages[ages >= pivot]\n",
    "            previous = str(pivot)\n",
    "\n",
    "    plt.pie(ageBins.values, labels=labels, autopct='%1.1f%%', shadow=True)\n",
    "    plt.title(title)\n",
    "    plt.show()"
   ]
  },
  {
   "cell_type": "code",
   "execution_count": null,
   "metadata": {},
   "outputs": [],
   "source": [
    "def plotGender(sampleForm, title = '', labels = ['Femmes', 'Hommes', 'Autres/Non précisé']):\n",
    "    playtestProfiles = getUniqueProfiles(sampleForm)\n",
    "\n",
    "    fCount = len(playtestProfiles[playtestProfiles[QGender] == 'Female'])\n",
    "    mCount = len(playtestProfiles[playtestProfiles[QGender] == 'Male'])\n",
    "    tCount = len(playtestProfiles)\n",
    "    oCount = tCount-fCount-mCount\n",
    "\n",
    "    plt.pie([fCount, mCount, oCount], labels=labels, autopct='%1.1f%%', shadow=True)\n",
    "    plt.title(title)\n",
    "    plt.show()\n",
    "    print(\"t=\"+str(tCount))\n",
    "    print(\"f=\"+str(fCount))\n",
    "    print(\"m=\"+str(mCount))\n",
    "    print(\"o=\"+str(oCount))"
   ]
  },
  {
   "cell_type": "code",
   "execution_count": null,
   "metadata": {},
   "outputs": [],
   "source": [
    "def getDuplicates(sample, columns):\n",
    "    sampled = sample.loc[:,columns]\n",
    "    return sampled,sampled[sampled.duplicated()]"
   ]
  },
  {
   "cell_type": "code",
   "execution_count": null,
   "metadata": {},
   "outputs": [],
   "source": [
    "#sample = samplePlaytest.copy()\n",
    "#columns = [QUserId, QAge, QGender, QTemporality]\n",
    "def getTimedAssembledDuplicates(sample, columns, displayColumns = []):\n",
    "    if len(displayColumns) == 0:\n",
    "        displayColumns = columns\n",
    "        \n",
    "    sampled,duplicates = getDuplicates(sample, columns)\n",
    "    dupIndex = pd.Index([])\n",
    "    for dup in duplicates.values:\n",
    "        dupbool = [(x == dup).all() for x in sampled.values]\n",
    "        dupIndex = dupIndex.union(sampled.index[dupbool])\n",
    "    result = sample.loc[dupIndex, displayColumns].sort_values(by = displayColumns)\n",
    "    return result"
   ]
  },
  {
   "cell_type": "markdown",
   "metadata": {},
   "source": [
    "## Dates"
   ]
  },
  {
   "cell_type": "code",
   "execution_count": null,
   "metadata": {},
   "outputs": [],
   "source": [
    "rmdf1522['userTime'].min()"
   ]
  },
  {
   "cell_type": "code",
   "execution_count": null,
   "metadata": {
    "scrolled": true
   },
   "outputs": [],
   "source": [
    "#rmdf1522.iloc[0]['userTime'],type(rmdf1522.iloc[0]['userTime'])\n",
    "playtest2018Phase1StartDate = pd.Timestamp('2018-04-10 11:00:00', tz='Europe/Berlin')\n",
    "playtest2018Phase1EndDate = pd.Timestamp('2018-04-25 19:00:00', tz='Europe/Berlin')\n",
    "playtest2018Phase2StartDate = pd.Timestamp('2018-04-27 11:00:00', tz='Europe/Berlin')\n",
    "playtest2018Phase2EndDate = pd.Timestamp('2018-04-28 19:00:00', tz='Europe/Berlin')\n",
    "playtest2018Phase1StartDate,playtest2018Phase1EndDate,playtest2018Phase2StartDate,playtest2018Phase2EndDate"
   ]
  },
  {
   "cell_type": "markdown",
   "metadata": {},
   "source": [
    "## Samples"
   ]
  },
  {
   "cell_type": "code",
   "execution_count": null,
   "metadata": {},
   "outputs": [],
   "source": [
    "# samples based on dates and platform\n",
    "\n",
    "\n",
    "sampleWhole = getWithoutTest(gform)\n",
    "\n",
    "# rmdfConcat is rmdf1522 + rmdf160\n",
    "rmdfLinuxPlatform = rmdfConcat[rmdfConcat['customData.platform'] == '\"linuxplayer\"']\n",
    "\n",
    "sampleLinux = sampleWhole[sampleWhole[QUserId].isin(rmdfLinuxPlatform[QUserId].unique())]\n",
    "\n",
    "samplePlaytest = sampleLinux[((sampleLinux[QTimestamp] > playtest2018Phase1StartDate)&(sampleLinux[QTimestamp] < playtest2018Phase2EndDate))]\n",
    "samplePlaytestPhase1 = samplePlaytest[samplePlaytest[QTimestamp] < playtest2018Phase1EndDate]\n",
    "samplePlaytestPhase2 = samplePlaytest[(samplePlaytest[QTimestamp] > playtest2018Phase2StartDate)]\n",
    "\n",
    "samplePlaytestPretestPosttest = getPerfectPretestPostestPairs(samplePlaytest)\n",
    "samplePlaytestPretestPosttestPhase1 = getPerfectPretestPostestPairs(samplePlaytestPhase1)\n",
    "samplePlaytestPretestPosttestPhase2 = getPerfectPretestPostestPairs(samplePlaytestPhase2)"
   ]
  },
  {
   "cell_type": "markdown",
   "metadata": {},
   "source": [
    "#### Checks on the profiles counts"
   ]
  },
  {
   "cell_type": "code",
   "execution_count": null,
   "metadata": {},
   "outputs": [],
   "source": [
    "# duplicate profiles\n",
    "columns = [QUserId, QAge, QGender, QTemporality]\n",
    "displayColumns = [QUserId, QAge, QGender, QTemporality, QTimestamp]\n",
    "duplicates = getTimedAssembledDuplicates(samplePlaytest, columns, displayColumns)\n",
    "grouped = duplicates.groupby(columns)\n",
    "grouped.size()"
   ]
  },
  {
   "cell_type": "code",
   "execution_count": null,
   "metadata": {},
   "outputs": [],
   "source": [
    "# duplicates per day\n",
    "duplicatesPerDay = duplicates.copy()\n",
    "duplicatesPerDay.loc[:, QTimestamp] = duplicatesPerDay.loc[:, QTimestamp].apply(pd.Timestamp.date)\n",
    "duplicatesPerDay.groupby(QTimestamp).size()"
   ]
  },
  {
   "cell_type": "code",
   "execution_count": null,
   "metadata": {},
   "outputs": [],
   "source": [
    "# duplicates or just unpaired surveys? (ie pretest wihtout posttest or conversely)\n",
    "# look at timely repartition of redmetrics events\n",
    "duplicates"
   ]
  },
  {
   "cell_type": "code",
   "execution_count": null,
   "metadata": {},
   "outputs": [],
   "source": [
    "#userId = duplicates.loc[666, QUserId]\n",
    "#n = 0\n",
    "#userId = \"29b739fc-4f9f-4f5e-bfee-8ba12de4b7fa\"\n",
    "#rmdf = rmdfConcat\n",
    "#surveys = gform.copy()\n",
    "\n",
    "def plotEventsPerMinute(userId, rmdf, surveys = [], n = 0):\n",
    "    print(\"\\n\\nuserId=\"+str(userId))\n",
    "    times = rmdf[rmdf[QUserId] == userId]['userTime']\n",
    "    times.index = range(len(times))\n",
    "    days = times.dt.date\n",
    "    # compute day of experiment\n",
    "    ratios = [len(days[days == d])/len(days) for d in days.unique()]\n",
    "    ratioratios = pd.Series([r/max(ratios) for r in ratios], index = days.unique())\n",
    "    importantDays = days.unique()[ratioratios > 0.05]\n",
    "    if len(importantDays) > 1:\n",
    "        print(\"more than one important day!\")\n",
    "    times = times.dt.floor('min')\n",
    "    times = times[times.dt.date.isin(importantDays)]\n",
    "    startGraph = times.min()\n",
    "    endGraph = times.max()\n",
    "    print(\"\\nevents:\\nfirst:\" + str(startGraph) + \"\\nlast:\" + str(endGraph))\n",
    "    minutesCount = int((endGraph - startGraph).total_seconds()/60)\n",
    "\n",
    "    fig = plt.figure()\n",
    "    ax = fig.add_subplot(111)\n",
    "\n",
    "    xrot = 45\n",
    "    alpha = 0.5\n",
    "\n",
    "    if(len(surveys) > 0):\n",
    "        surveySubmissions = surveys[surveys[QUserId] == userId]\n",
    "        surveySubmissionsTimes = surveySubmissions[QTimestamp].dt.floor('min')\n",
    "        startGraph = min(startGraph, surveySubmissionsTimes.min())\n",
    "        endGraph = max(endGraph, surveySubmissionsTimes.max())\n",
    "        minutesCount = int((endGraph - startGraph).total_seconds()/60)\n",
    "\n",
    "        pretestSubmissions = surveySubmissions[surveySubmissions[QTemporality] == answerTemporalities[0]][QTimestamp].dt.floor('min')\n",
    "        posttestSubmissions = surveySubmissions[surveySubmissions[QTemporality] == answerTemporalities[1]][QTimestamp].dt.floor('min')\n",
    "\n",
    "        ax2 = ax.twinx()\n",
    "        ax3 = ax.twinx()\n",
    "        \n",
    "        ax2.set_yticks([])\n",
    "        ax3.set_yticks([])\n",
    "        ax2.set_yticklabels([])\n",
    "        ax3.set_yticklabels([])\n",
    "\n",
    "    plotRange = (startGraph,endGraph)\n",
    "        \n",
    "    times.hist(bins=minutesCount, ax = ax, xrot = xrot, color='blue', alpha=alpha, range=plotRange, grid=False)\n",
    "\n",
    "    if(len(surveys) > 0):\n",
    "\n",
    "        if len(pretestSubmissions) > 0:\n",
    "            print(\"\\npretests:\\n\" + str(pretestSubmissions))\n",
    "            pretestSubmissions[n:].hist(bins = 20, ax = ax2, xrot = xrot, color='green', alpha=alpha, range=plotRange, grid=False)\n",
    "\n",
    "        if len(posttestSubmissions) > 0:\n",
    "            print(\"\\nposttests:\\n\" + str(posttestSubmissions))\n",
    "            posttestSubmissions.hist(bins = 20, ax = ax3, xrot = xrot, color='red', alpha=alpha, range=plotRange, grid=False)\n",
    "\n",
    "    plt.show()"
   ]
  },
  {
   "cell_type": "code",
   "execution_count": null,
   "metadata": {},
   "outputs": [],
   "source": [
    "def getResetConfigurationEvents(rmdf):\n",
    "    rmdf[(rmdf['type'] == 'selectmenu') & (rmdf['customData.option'] == '\"RESETCONFIGURATION\"')].loc[:, [QUserId, 'userTime', 'customData.option']]"
   ]
  },
  {
   "cell_type": "code",
   "execution_count": null,
   "metadata": {},
   "outputs": [],
   "source": [
    "plotEventsPerMinute(\"e3fc1686-6802-4e36-9877-d1bb226a6f72\", rmdfConcat, samplePlaytest)"
   ]
  },
  {
   "cell_type": "code",
   "execution_count": null,
   "metadata": {
    "scrolled": false
   },
   "outputs": [],
   "source": [
    "for userId in samplePlaytest[QUserId].unique():\n",
    "    plotEventsPerMinute(userId, rmdfConcat, samplePlaytest)"
   ]
  },
  {
   "cell_type": "code",
   "execution_count": null,
   "metadata": {
    "scrolled": false
   },
   "outputs": [],
   "source": [
    "for userId in duplicates[QUserId].unique():\n",
    "    plotEventsPerMinute(userId, rmdfConcat, gform)"
   ]
  },
  {
   "cell_type": "code",
   "execution_count": null,
   "metadata": {},
   "outputs": [],
   "source": [
    "getTimedAssembledDuplicates(samplePlaytest, [QUserId, QAge, QGender], [QUserId, QAge, QGender, QTemporality, QTimestamp])"
   ]
  },
  {
   "cell_type": "markdown",
   "metadata": {},
   "source": [
    "------------"
   ]
  },
  {
   "cell_type": "code",
   "execution_count": null,
   "metadata": {},
   "outputs": [],
   "source": [
    "gformProfiles = getUniqueProfiles(gform)\n",
    "wholeProfiles = getUniqueProfiles(sampleWhole)\n",
    "linuxProfiles = getUniqueProfiles(sampleLinux)\n",
    "len(gformProfiles), len(wholeProfiles), len(linuxProfiles)"
   ]
  },
  {
   "cell_type": "code",
   "execution_count": null,
   "metadata": {},
   "outputs": [],
   "source": [
    "playtestProfiles = getUniqueProfiles(samplePlaytest)\n",
    "playtestProfilesPhase1 = getUniqueProfiles(samplePlaytestPhase1)\n",
    "playtestProfilesPhase2 = getUniqueProfiles(samplePlaytestPhase2)\n",
    "\n",
    "assert(len(playtestProfiles) == len(playtestProfilesPhase1) + len(playtestProfilesPhase2))\n",
    "\n",
    "len(playtestProfiles),\\\n",
    "len(playtestProfilesPhase1),\\\n",
    "len(playtestProfilesPhase2)"
   ]
  },
  {
   "cell_type": "code",
   "execution_count": null,
   "metadata": {},
   "outputs": [],
   "source": [
    "shouldBeEmpty = samplePlaytest[((samplePlaytest[QTimestamp] > playtest2018Phase1EndDate)&(samplePlaytest[QTimestamp] < playtest2018Phase2StartDate))]\n",
    "assert(len(shouldBeEmpty) == 0)"
   ]
  },
  {
   "cell_type": "code",
   "execution_count": null,
   "metadata": {},
   "outputs": [],
   "source": [
    "playtestProfiles = playtestProfiles.dropna(how='any')\n",
    "playtestProfilesPhase1 = playtestProfilesPhase1.dropna(how='any')\n",
    "playtestProfilesPhase2 = playtestProfilesPhase2.dropna(how='any')\n",
    "\n",
    "assert(len(playtestProfiles) == len(playtestProfilesPhase1) + len(playtestProfilesPhase2))\n",
    "\n",
    "len(playtestProfiles),\\\n",
    "len(playtestProfilesPhase1),\\\n",
    "len(playtestProfilesPhase2)"
   ]
  },
  {
   "cell_type": "code",
   "execution_count": null,
   "metadata": {},
   "outputs": [],
   "source": [
    "# intersections based on userId and/or questions\n",
    "s1 = pd.merge(playtestProfilesPhase1, playtestProfilesPhase2, how='inner', on=[QUserId])\n",
    "s2 = pd.merge(playtestProfilesPhase1, playtestProfilesPhase2, how='inner', on=[QUserId, QAge, QGender])\n",
    "len(s1), len(s2)"
   ]
  },
  {
   "cell_type": "code",
   "execution_count": null,
   "metadata": {},
   "outputs": [],
   "source": [
    "playtestProfiles[QUserId].nunique(), playtestProfilesPhase1[QUserId].nunique(), playtestProfilesPhase2[QUserId].nunique(), "
   ]
  },
  {
   "cell_type": "markdown",
   "metadata": {},
   "source": [
    "#### RedMetrics dataframes"
   ]
  },
  {
   "cell_type": "code",
   "execution_count": null,
   "metadata": {},
   "outputs": [],
   "source": [
    "rmdfPlaytest = rmdfLinuxPlatform[((rmdfLinuxPlatform['userTime'] > playtest2018Phase1StartDate)&(rmdfLinuxPlatform['userTime'] < playtest2018Phase2EndDate))]\n",
    "rmdfPlaytest = rmdfPlaytest[rmdfPlaytest[QUserId].isin(samplePlaytest[QUserId].unique())]\n",
    "\n",
    "rmdfPlaytestPhase1 = rmdfPlaytest[rmdfPlaytest[QUserId].isin(samplePlaytestPhase1[QUserId])]\n",
    "rmdfPlaytestPhase1 = rmdfPlaytestPhase1[rmdfPlaytestPhase1['userTime'] < playtest2018Phase1EndDate]\n",
    "rmdfPlaytestPhase2 = rmdfPlaytest[rmdfPlaytest[QUserId].isin(samplePlaytestPhase2[QUserId])]\n",
    "rmdfPlaytestPhase2 = rmdfPlaytestPhase2[rmdfPlaytestPhase2['userTime'] > playtest2018Phase2StartDate]\n",
    "\n",
    "rmdfPlaytestPretestPosttest = rmdfPlaytest[rmdfPlaytest[QUserId].isin(samplePlaytestPretestPosttest[QUserId])]\n",
    "rmdfPlaytestPretestPosttestPhase1 = rmdfPlaytestPhase1[rmdfPlaytestPhase1[QUserId].isin(samplePlaytestPretestPosttestPhase1[QUserId])]\n",
    "rmdfPlaytestPretestPosttestPhase2 = rmdfPlaytestPhase2[rmdfPlaytestPhase2[QUserId].isin(samplePlaytestPretestPosttestPhase2[QUserId])]"
   ]
  },
  {
   "cell_type": "code",
   "execution_count": null,
   "metadata": {},
   "outputs": [],
   "source": [
    "assert(rmdfPlaytest[QUserId].nunique()       == samplePlaytest[QUserId].nunique())\n",
    "assert(rmdfPlaytestPhase1[QUserId].nunique() == samplePlaytestPhase1[QUserId].nunique())\n",
    "assert(rmdfPlaytestPhase2[QUserId].nunique() == samplePlaytestPhase2[QUserId].nunique())"
   ]
  },
  {
   "cell_type": "markdown",
   "metadata": {},
   "source": [
    "### players"
   ]
  },
  {
   "cell_type": "code",
   "execution_count": null,
   "metadata": {},
   "outputs": [],
   "source": [
    "thresholdGameEventsCount = 10\n",
    "thresholdTimedelta = pd.Timedelta('0 days 00:05:00.000000')\n",
    "\n",
    "playedEnoughTime = []\n",
    "playedEnoughEvents = []\n",
    "\n",
    "for userId in samplePlaytest[QUserId].unique():\n",
    "    rows = rmdfPlaytest[rmdfPlaytest[QUserId] == userId]\n",
    "    if len(rows) > thresholdGameEventsCount:\n",
    "        playedEnoughEvents.append(userId)\n",
    "    delta = rows['userTime'].max() - rows['userTime'].min()\n",
    "    if delta > thresholdTimedelta:\n",
    "        playedEnoughTime.append(userId)\n",
    "        \n",
    "len(samplePlaytest[QUserId].unique()), len(playedEnoughTime), len(playedEnoughEvents)"
   ]
  },
  {
   "cell_type": "code",
   "execution_count": null,
   "metadata": {},
   "outputs": [],
   "source": [
    "setCount(rmdfPlaytestPhase1, phase1Label, playersCountLabel)\n",
    "setCount(rmdfPlaytestPhase2, phase2Label, playersCountLabel)\n",
    "setCount(rmdfPlaytest, totalLabel, playersCountLabel)\n",
    "    \n",
    "#assert(playtestStatistics.loc[totalLabel, playersCountLabel] == \\\n",
    "#    playtestStatistics.loc[phase1Label, playersCountLabel]\\\n",
    "#    + playtestStatistics.loc[phase2Label, playersCountLabel])\n",
    "\n",
    "playtestStatistics"
   ]
  },
  {
   "cell_type": "markdown",
   "metadata": {},
   "source": [
    "### all playtest responders"
   ]
  },
  {
   "cell_type": "code",
   "execution_count": null,
   "metadata": {},
   "outputs": [],
   "source": [
    "plotGender(samplePlaytest,'Sexe des participants, phase 1')"
   ]
  },
  {
   "cell_type": "code",
   "execution_count": null,
   "metadata": {
    "scrolled": true
   },
   "outputs": [],
   "source": [
    "plotGender(samplePlaytestPhase2,'Sexe des participants, phase 2')"
   ]
  },
  {
   "cell_type": "code",
   "execution_count": null,
   "metadata": {},
   "outputs": [],
   "source": [
    "plotAge(samplePlaytest, \"Âge des participants, total\")\n",
    "plotAge(samplePlaytestPhase1, \"Âge des participants, phase 1\")\n",
    "plotAge(samplePlaytestPhase2, \"Âge des participants, phase 2\")"
   ]
  },
  {
   "cell_type": "code",
   "execution_count": null,
   "metadata": {},
   "outputs": [],
   "source": [
    "plotAgeGroups(samplePlaytest, pivotalAgesList = [1,15,25,35,45], title = 'Âge des participants, total', showCount = True)\n",
    "plotAgeGroups(samplePlaytestPhase1, pivotalAgesList = [1,15,25,35,45], title = 'Âge des participants, phase 1', showCount = True)\n",
    "plotAgeGroups(samplePlaytestPhase2, pivotalAgesList = [1,15,25,35,45], title = 'Âge des participants, phase 2', showCount = True)"
   ]
  },
  {
   "cell_type": "code",
   "execution_count": null,
   "metadata": {},
   "outputs": [],
   "source": [
    "setGenderedCount(rmdfPlaytestPretestPosttestPhase1, samplePlaytestPhase1, phase1Label, respondersCountLabel)\n",
    "setGenderedCount(rmdfPlaytestPretestPosttestPhase2, samplePlaytestPhase2,  phase2Label, respondersCountLabel)\n",
    "setGenderedCount(rmdfPlaytestPretestPosttest, samplePlaytest,  totalLabel, respondersCountLabel, plotPie = True, title = 'Gender of participants (all)')\n",
    "\n",
    "assert(playtestStatistics.loc[totalLabel, respondersCountLabel] ==\\\n",
    "       playtestStatistics.loc[phase1Label, respondersCountLabel]\\\n",
    "      + playtestStatistics.loc[phase2Label, respondersCountLabel])\n",
    "\n",
    "playtestStatistics"
   ]
  },
  {
   "cell_type": "code",
   "execution_count": null,
   "metadata": {},
   "outputs": [],
   "source": [
    "# answers per userId\n",
    "# => gform.indexes per userId\n",
    "indicesPerUserId = gform[QUserId].value_counts()\n",
    "#indicesPerUserId"
   ]
  },
  {
   "cell_type": "markdown",
   "metadata": {},
   "source": [
    "### twice responders"
   ]
  },
  {
   "cell_type": "code",
   "execution_count": null,
   "metadata": {},
   "outputs": [],
   "source": [
    "twiceResponders = getPerfectPretestPostestPairs(gform)\n",
    "playtestTwiceResponders = twiceResponders[twiceResponders[QUserId].isin(samplePlaytest[QUserId])]\n",
    "\n",
    "uniquePlaytestPhase1TwiceResponders = samplePlaytestPhase1[samplePlaytestPhase1[QUserId].isin(playtestTwiceResponders[QUserId])]\n",
    "uniquePlaytestPhase2TwiceResponders = samplePlaytestPhase2[samplePlaytestPhase2[QUserId].isin(playtestTwiceResponders[QUserId])]\n",
    "uniquePlaytestTwiceResponders = samplePlaytest[samplePlaytest[QUserId].isin(playtestTwiceResponders[QUserId])]\n",
    "\n",
    "setGenderedCount(uniquePlaytestPhase1TwiceResponders, playtestTwiceResponders, phase1Label, respondersTwiceCountLabel)\n",
    "setGenderedCount(uniquePlaytestPhase2TwiceResponders, playtestTwiceResponders,  phase2Label, respondersTwiceCountLabel)\n",
    "setGenderedCount(uniquePlaytestTwiceResponders, playtestTwiceResponders,  totalLabel, respondersTwiceCountLabel, plotPie = True, title = 'Gender of participants (pretest-posttest)')\n",
    "\n",
    "assert(playtestStatistics.loc[totalLabel, respondersTwiceCountLabel] ==\\\n",
    "       playtestStatistics.loc[phase1Label, respondersTwiceCountLabel]\\\n",
    "      + playtestStatistics.loc[phase2Label, respondersTwiceCountLabel])\n",
    "\n",
    "playtestStatistics"
   ]
  },
  {
   "cell_type": "code",
   "execution_count": null,
   "metadata": {},
   "outputs": [],
   "source": [
    "plotAge(playtestTwiceResponders, 'Age repartition of pretest-posttest participants')"
   ]
  },
  {
   "cell_type": "code",
   "execution_count": null,
   "metadata": {},
   "outputs": [],
   "source": [
    "gform[gform[QTemporality] == answerTemporalities[0]][QEnjoyed].apply(str).value_counts()"
   ]
  },
  {
   "cell_type": "code",
   "execution_count": null,
   "metadata": {},
   "outputs": [],
   "source": [
    "gform[QAge].apply(str).value_counts()['nan']"
   ]
  },
  {
   "cell_type": "code",
   "execution_count": null,
   "metadata": {},
   "outputs": [],
   "source": [
    "gform[gform[QAge].apply(str) == 'nan'][QTemporality].unique()"
   ]
  }
 ],
 "metadata": {
  "kernelspec": {
   "display_name": "Python [conda env:python3]",
   "language": "python",
   "name": "conda-env-python3-py"
  },
  "language_info": {
   "codemirror_mode": {
    "name": "ipython",
    "version": 3
   },
   "file_extension": ".py",
   "mimetype": "text/x-python",
   "name": "python",
   "nbconvert_exporter": "python",
   "pygments_lexer": "ipython3",
   "version": "3.5.4"
  }
 },
 "nbformat": 4,
 "nbformat_minor": 2
}
