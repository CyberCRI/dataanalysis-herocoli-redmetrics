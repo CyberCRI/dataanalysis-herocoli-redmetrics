{
 "cells": [
  {
   "cell_type": "markdown",
   "metadata": {},
   "source": [
    "# Question groups variation analysis\n",
    "\n",
    "Pretest posttest answers variation analysis"
   ]
  },
  {
   "cell_type": "markdown",
   "metadata": {},
   "source": [
    "## Table of Contents\n",
    "\n",
    "[Preparation](#Preparation)\n",
    "\n",
    "[Functions](#Functions)"
   ]
  },
  {
   "cell_type": "markdown",
   "metadata": {},
   "source": [
    "# Preparation"
   ]
  },
  {
   "cell_type": "code",
   "execution_count": null,
   "metadata": {
    "scrolled": false
   },
   "outputs": [],
   "source": [
    "from pySankey import sankey\n",
    "\n",
    "%run \"../Functions/6. Time analysis.ipynb\""
   ]
  },
  {
   "cell_type": "markdown",
   "metadata": {},
   "source": [
    "# Functions"
   ]
  },
  {
   "cell_type": "markdown",
   "metadata": {},
   "source": [
    "## Per question analysis"
   ]
  },
  {
   "cell_type": "markdown",
   "metadata": {},
   "source": [
    "### Interest variation"
   ]
  },
  {
   "cell_type": "markdown",
   "metadata": {},
   "source": [
    "### Binary analysis"
   ]
  },
  {
   "cell_type": "code",
   "execution_count": null,
   "metadata": {},
   "outputs": [],
   "source": [
    "def analyseQuestion(allData, q):\n",
    "    pretestScores  = allData.loc[answerTemporalities[0] + \" \" + q, :]\n",
    "    posttestScores = allData.loc[answerTemporalities[1] + \" \" + q, :]\n",
    "    deltaScores    = allData.loc[deltaPrefix            + \" \" + q, :]\n",
    "    print(\"variation: %0.2f (+/- %0.2f)\" % (deltaScores.mean(), deltaScores.std()))\n",
    "    print(\"from %0.2f (+/- %0.2f) to %0.2f (+/- %0.2f)\" % \\\n",
    "          (pretestScores.mean(), pretestScores.std(),\\\n",
    "           posttestScores.mean(), posttestScores.std(),))\n",
    "    plt.boxplot(deltaScores)\n",
    "    plt.show()"
   ]
  },
  {
   "cell_type": "code",
   "execution_count": null,
   "metadata": {},
   "outputs": [],
   "source": [
    "# questionsCoding contains points attributed to each answer\n",
    "def compareUsingCustomCorrection(gfdf, questions, questionsCoding):\n",
    "    \n",
    "    minPotentialScore = 0\n",
    "    maxPotentialScore = 0\n",
    "    for gradingDictionary in questionsCoding:\n",
    "        minPotentialScore += min(gradingDictionary.values())\n",
    "        maxPotentialScore += max(gradingDictionary.values())\n",
    "    minPotentialScore, maxPotentialScore \n",
    "    print(\"%s < score < %s\" % (minPotentialScore, maxPotentialScore))\n",
    "    \n",
    "    # split temporalities\n",
    "    gfdfPretest = gfdf[gfdf[QTemporality]==answerTemporalities[0]]\n",
    "    gfdfPretest.index = gfdfPretest[QUserId]\n",
    "    gfdfPostest = gfdf[gfdf[QTemporality]==answerTemporalities[1]]\n",
    "    gfdfPostest.index = gfdfPostest[QUserId]\n",
    "\n",
    "    # only keep relevant questions\n",
    "    gfdfPretest = gfdfPretest.loc[:, questions]\n",
    "    gfdfPostest = gfdfPostest.loc[:, questions]\n",
    "\n",
    "    # code the answers\n",
    "    for (q, c) in zip(questions, questionsCoding):\n",
    "        gfdfPretest[q] = gfdfPretest[q].apply(lambda t: c[t])\n",
    "        gfdfPostest[q] = gfdfPostest[q].apply(lambda t: c[t])\n",
    "\n",
    "    # compute delta\n",
    "    # gfdfDelta = gfdfPostest - gfdfPretest\n",
    "    \n",
    "    gfdfResult = gfdfPostest - gfdfPretest\n",
    "    gfdfResult.columns =  [deltaPrefix + \" \" + q for q in questions]\n",
    "    gfdfResult[[answerTemporalities[0] + \" \" + q for q in questions]] = gfdfPretest\n",
    "    gfdfResult[[answerTemporalities[1] + \" \" + q for q in questions]] = gfdfPostest\n",
    "     \n",
    "    return gfdfResult.T"
   ]
  },
  {
   "cell_type": "code",
   "execution_count": null,
   "metadata": {
    "scrolled": false
   },
   "outputs": [],
   "source": [
    "def plotPretestPosttestDeltaGfdf(allData, questions,\n",
    "                                 plotGraphs = True, printData = True, saveFiles = False,\n",
    "                                 title = \"\", suffix = \"\"):\n",
    "    \n",
    "    variationSuffix = ' - variation'\n",
    "    pretestPosttestSuffix = ' - pretest posttest'\n",
    "    sankeySuffix = ' - Sankey'\n",
    "            \n",
    "    # sample size\n",
    "    print(\"n = \" + str(len(allData.columns)))\n",
    "    print()\n",
    "    print()\n",
    "    for q in questions:\n",
    "        deltaScores    = allData.loc[deltaPrefix + \" \" +q             ,:]\n",
    "        pretestScores  = allData.loc[answerTemporalities[0] + \" \" + q ,:]\n",
    "        posttestScores = allData.loc[answerTemporalities[1] + \" \" + q ,:]\n",
    "\n",
    "        if printData:\n",
    "            print(q)\n",
    "            print(\"variation: %0.2f (+/- %0.2f)\" % (deltaScores.mean(), deltaScores.std()))\n",
    "            print(\"from %0.2f (+/- %0.2f) to %0.2f (+/- %0.2f)\" % \\\n",
    "                  (pretestScores.mean(),  pretestScores.std(),\\\n",
    "                   posttestScores.mean(), posttestScores.std(),))\n",
    "            print(ttest_ind(pretestScores, posttestScores))\n",
    "        if plotGraphs:\n",
    "            #plt.boxplot(deltaScores)\n",
    "            #plt.show()\n",
    "            \n",
    "            fig = plt.figure()\n",
    "            ax = plt.subplot(111)\n",
    "#            if pd.isnull(deltaScores).any():\n",
    "#                print(\"pd.isnull(deltaScores).any(): \" + str(deltaScores.index[pd.isnull(deltaScores)]))\n",
    "            plt.hist(deltaScores, bins=int(max(deltaScores) - min(deltaScores) + 1), figure = fig)\n",
    "            #sns.distplot(deltaScores, bins = np.arange(min(deltaScores),max(deltaScores)))\n",
    "            if len(title) == 0:\n",
    "                _title = '\"' + q + '\"' + variationSuffix + suffix\n",
    "            else:\n",
    "                _title = title + variationSuffix\n",
    "            plt.title(_title)    \n",
    "            plt.xlabel(\"score variation\")\n",
    "            plt.ylabel(\"count\")\n",
    "            plt.show()\n",
    "            if saveFiles:\n",
    "                fig.savefig(_title.replace('\"', \"\"))\n",
    "\n",
    "        \n",
    "            fig = plt.figure()\n",
    "            ax = plt.subplot(111)\n",
    "            plt.hist(pretestScores, bins=int(max(pretestScores) - min(pretestScores) + 1), label='pretest', alpha=0.5, figure = fig)\n",
    "            plt.hist(posttestScores, bins=int(max(posttestScores) - min(posttestScores) + 1), label='posttest', alpha=0.5, figure = fig)\n",
    "            plt.legend()\n",
    "            \n",
    "            if len(title) == 0:\n",
    "                _title = '\"' + q + '\"' + pretestPosttestSuffix + suffix\n",
    "            else:\n",
    "                _title = title + pretestPosttestSuffix\n",
    "            plt.title(_title)\n",
    "            plt.xlabel(\"score\")\n",
    "            plt.ylabel(\"count\")\n",
    "            plt.show()\n",
    "            if saveFiles:\n",
    "                fig.savefig(_title.replace('\"', \"\"))\n",
    "            \n",
    "            classesDF = pd.DataFrame(columns = ['pretest', 'posttest'])\n",
    "            # indexes should be scorePretest->scorePosttest for each such existing pair\n",
    "            # label is then the str(score)\n",
    "\n",
    "            weight = pd.Series()\n",
    "            for userId in pretestScores.index:\n",
    "                changeIndex  = \"{0:0=2d}\".format(int(pretestScores[userId]))+\"->{0:0=2d}\".format(int(posttestScores[userId]))\n",
    "                if changeIndex in weight.index:\n",
    "                    weight[changeIndex] += 1\n",
    "                else:\n",
    "                    weight[changeIndex] = 1\n",
    "                classesDF.loc[changeIndex, 'pretest'] = str(int(pretestScores[userId])) + \" (\" + str(len(pretestScores[pretestScores == pretestScores[userId]])) + \")\"\n",
    "                classesDF.loc[changeIndex, 'posttest'] = str(int(posttestScores[userId])) + \" (\" + str(len(posttestScores[posttestScores == posttestScores[userId]])) + \")\"\n",
    "            classesDF = classesDF.sort_index()\n",
    "            weight = weight.sort_index()\n",
    "            weight = weight.values.astype(float)\n",
    "            \n",
    "            if len(title) == 0:\n",
    "                _title = '\"' + q + '\"' + sankeySuffix + suffix\n",
    "            else:\n",
    "                _title = title + sankeySuffix\n",
    "            if saveFiles:\n",
    "                filename = _title.replace('\"', \"\")\n",
    "            else:\n",
    "                filename = None\n",
    "            sankey.sankey(\n",
    "                left=classesDF['pretest'].values, right=classesDF['posttest'].values,\n",
    "                rightWeight=weight, leftWeight=weight, aspect=20, fontsize=20,\n",
    "                figureName=filename\n",
    "            )\n",
    "            plt.title(_title)\n",
    "        \n",
    "        if printData:\n",
    "            print()\n",
    "            print()\n",
    "            print()"
   ]
  }
 ],
 "metadata": {
  "kernelspec": {
   "display_name": "Python 3",
   "language": "python",
   "name": "python3"
  },
  "language_info": {
   "codemirror_mode": {
    "name": "ipython",
    "version": 3
   },
   "file_extension": ".py",
   "mimetype": "text/x-python",
   "name": "python",
   "nbconvert_exporter": "python",
   "pygments_lexer": "ipython3",
   "version": "3.6.5"
  }
 },
 "nbformat": 4,
 "nbformat_minor": 2
}
