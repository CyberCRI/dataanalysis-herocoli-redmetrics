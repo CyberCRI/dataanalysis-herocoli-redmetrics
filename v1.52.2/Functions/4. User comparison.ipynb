{
 "cells": [
  {
   "cell_type": "markdown",
   "metadata": {},
   "source": [
    "# User comparison"
   ]
  },
  {
   "cell_type": "markdown",
   "metadata": {},
   "source": [
    "# Table of Contents\n",
    "\n",
    "1.  [Preparation](#preparation)\n",
    "\n",
    "2.  [Functions](#functions)\n",
    "\n",
    "3.  [Tests](#tests)"
   ]
  },
  {
   "cell_type": "markdown",
   "metadata": {},
   "source": [
    "# Preparation\n",
    "<a id=preparation />"
   ]
  },
  {
   "cell_type": "code",
   "execution_count": null,
   "metadata": {
    "scrolled": false
   },
   "outputs": [],
   "source": [
    "%run \"../Functions/3. Per session and per user analysis.ipynb\""
   ]
  },
  {
   "cell_type": "markdown",
   "metadata": {
    "collapsed": true
   },
   "source": [
    "# Functions\n",
    "<a id=functions />"
   ]
  },
  {
   "cell_type": "code",
   "execution_count": null,
   "metadata": {},
   "outputs": [],
   "source": [
    "def getAllUsers( dataframe ):\n",
    "    allUserIds = np.array(dataframe['userId'].unique())\n",
    "    allUserIds = [i for i in allUserIds if not i in ['nan', np.nan, 'null']]\n",
    "    return allUserIds"
   ]
  },
  {
   "cell_type": "code",
   "execution_count": null,
   "metadata": {},
   "outputs": [],
   "source": [
    "# _source is used as correction source, if we want to include answers to these questions\n",
    "def getAllUserVectorData( userIds, _rmDF, _gfDF, _source = correctAnswers):\n",
    "    \n",
    "    # result\n",
    "    isInitialized = False\n",
    "    allData = []\n",
    "\n",
    "    f = FloatProgress(min=0, max=len(userIds))\n",
    "    display(f)\n",
    "    \n",
    "    for userId in userIds:\n",
    "        #print(str(userId))\n",
    "        f.value += 1\n",
    "        dataVector = getUserDataVector(userId, _rmDF = _rmDF, _gfDF = _gfDF, _source = _source)\n",
    "        if not isInitialized:\n",
    "            isInitialized = True\n",
    "            allData = dataVector\n",
    "        else:\n",
    "            allData = pd.concat([allData, dataVector], axis=1)\n",
    "\n",
    "    #print('done')\n",
    "    return allData"
   ]
  },
  {
   "cell_type": "code",
   "execution_count": null,
   "metadata": {},
   "outputs": [],
   "source": [
    "def getAllUserVectorDataCustom(_rmDF, _gfDF, before, after, gfMode = False, rmMode = True, sessionCount = 1):\n",
    "    userIds = []\n",
    "\n",
    "    if (before and after):\n",
    "        userIds = getSurveysOfUsersWhoAnsweredBoth(_gfDF, gfMode = gfMode, rmMode = rmMode)\n",
    "    elif before:\n",
    "        if rmMode:\n",
    "            userIds = getRMBefores(_gfDF)\n",
    "        else:\n",
    "            userIds = getGFBefores(_gfDF)\n",
    "    elif after:\n",
    "        if rmMode:\n",
    "            userIds = getRMAfters(_gfDF)\n",
    "        else:\n",
    "            userIds = getGFormAfters(_gfDF)\n",
    "    if(len(userIds) > 0):\n",
    "        userIds = userIds[localplayerguidkey]\n",
    "        allUserVectorData = getAllUserVectorData(userIds, _rmDF = _rmDF, _gfDF = _gfDF)\n",
    "        allUserVectorData = allUserVectorData.T\n",
    "        result = allUserVectorData[allUserVectorData['sessionsCount'] == sessionCount].T\n",
    "        return result\n",
    "    else:\n",
    "        print(\"no matching user\")\n",
    "        return []"
   ]
  },
  {
   "cell_type": "code",
   "execution_count": null,
   "metadata": {},
   "outputs": [],
   "source": [
    "methods = ['pearson', 'kendall', 'spearman']\n",
    "def plotAllUserVectorDataCorrelationMatrix(\n",
    "    _allUserVectorData,\n",
    "    _method = methods[0], \n",
    "    _title='RedMetrics Correlations', \n",
    "    _abs=False,\n",
    "    _clustered=False, \n",
    "    _figsize = (20,20),\n",
    "    columnSubset=[] \n",
    "):\n",
    "    \n",
    "    _progress = FloatProgress(min=0, max=4)\n",
    "    display(_progress)\n",
    "    \n",
    "    # computation of subset\n",
    "    if len(columnSubset) > 0 and pd.Series(columnSubset).isin(_allUserVectorData.columns).all():\n",
    "        _allUserVectorData = _allUserVectorData.loc[:,columnSubset]\n",
    "    \n",
    "    # computation of correlation matrix\n",
    "    _m = _method\n",
    "    if(not (_method in methods)):\n",
    "        _m = methods[0]\n",
    "    _correlation = _allUserVectorData.astype(float).corr(_m)\n",
    "    _progress.value += 1\n",
    "    if(_abs):\n",
    "        _correlation = _correlation.abs()\n",
    "    _progress.value += 1\n",
    "        \n",
    "    vmin=-1\n",
    "    if _abs:\n",
    "        vmin=0\n",
    "    vmax=1\n",
    "        \n",
    "    # plot\n",
    "    \n",
    "    if(_clustered):\n",
    "    # removing NaNs\n",
    "    # can't cluster NaN lines in _correlation\n",
    "    # copied/pasted from '2. Google form analysis.ipynb' plotCorrelationMatrix\n",
    "        _notNaNsIndices = []\n",
    "        _notNaNsColumns = []\n",
    "        for index in _correlation.index:\n",
    "            if(~pd.isnull(_correlation.loc[index,:]).all()):\n",
    "                _notNaNsIndices.append(index)\n",
    "        \n",
    "        _correlation = _correlation.loc[_notNaNsIndices,_notNaNsIndices]\n",
    "        _progress.value += 1\n",
    "        sns.clustermap(\n",
    "            _correlation,\n",
    "            cmap=plt.cm.jet,\n",
    "            square=True,\n",
    "            figsize=_figsize,\n",
    "            vmin=vmin,\n",
    "            vmax=vmax,\n",
    "        )\n",
    "    else:\n",
    "        _fig = plt.figure(figsize=_figsize)\n",
    "        _ax = plt.subplot(111)\n",
    "        _ax.set_title(_title)\n",
    "        _progress.value += 1\n",
    "        sns.heatmap(\n",
    "            _correlation,\n",
    "            ax=_ax,\n",
    "            cmap=plt.cm.jet,\n",
    "            square=True,\n",
    "            vmin=vmin,\n",
    "            vmax=vmax,\n",
    "        )\n",
    "    _progress.value += 1"
   ]
  }
 ],
 "metadata": {
  "kernelspec": {
   "display_name": "Python 3",
   "language": "python",
   "name": "python3"
  },
  "language_info": {
   "codemirror_mode": {
    "name": "ipython",
    "version": 3
   },
   "file_extension": ".py",
   "mimetype": "text/x-python",
   "name": "python",
   "nbconvert_exporter": "python",
   "pygments_lexer": "ipython3",
   "version": "3.6.5"
  }
 },
 "nbformat": 4,
 "nbformat_minor": 1
}
