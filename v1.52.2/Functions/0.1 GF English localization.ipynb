{
 "cells": [
  {
   "cell_type": "markdown",
   "metadata": {},
   "source": [
    "# English localization\n",
    "\n",
    "Static list of correct answers in English."
   ]
  },
  {
   "cell_type": "markdown",
   "metadata": {},
   "source": [
    "[Additional columns](#addcol)\n",
    "    \n",
    "  - [Language column](#lang)\n",
    "    \n",
    "  - [Preparation for temporalities](#temp)\n",
    "  \n",
    "[Renaming](#renaming)\n",
    "  \n",
    "[List of answers](#enform)\n",
    "        \n",
    "  - [Scientific questions](#ensciform)\n",
    "        \n",
    "  - [Demographic questions](#endemform)\n",
    "    \n",
    "  - [Language selection](#langsel)\n",
    "\n",
    "[Basic operations](#basicops)\n",
    "\n",
    "[Checkpoint / Question matching](#checkquestmatch)"
   ]
  },
  {
   "cell_type": "code",
   "execution_count": null,
   "metadata": {
    "scrolled": true
   },
   "outputs": [],
   "source": [
    "%run \"0.0 RedMetrics data preparation.ipynb\""
   ]
  },
  {
   "cell_type": "code",
   "execution_count": null,
   "metadata": {},
   "outputs": [],
   "source": [
    "# string constants\n",
    "\n",
    "csvEncoding = 'utf-8'\n",
    "gformPath = \"../../data/Google forms/\"\n",
    "genericFormName = '-gform'\n",
    "\n",
    "enLanguageID = 'en'\n",
    "enSuffix = '-' + enLanguageID\n",
    "\n",
    "frLanguageID = 'fr'\n",
    "frSuffix = '-' + frLanguageID\n",
    "frTranslationsPath             = gformPath + 'translations'      + versionSuffix + frSuffix + csvSuffix\n",
    "frCorrectScientificAnswersPath = gformPath + 'CorrectScientific' + versionSuffix + frSuffix + csvSuffix\n",
    "frDemographicAnswersPath       = gformPath + 'Demographic-'      + versionSuffix + frSuffix + csvSuffix"
   ]
  },
  {
   "cell_type": "code",
   "execution_count": null,
   "metadata": {},
   "outputs": [],
   "source": [
    "processGFormEN = not ('gformEN1522' in globals())\n",
    "if processGFormEN:\n",
    "    # tz='Europe/Berlin' time\n",
    "    dateparseGForm = lambda x: pd.Timestamp(x.split(' GMT')[0], tz='Europe/Berlin').tz_convert('utc')"
   ]
  },
  {
   "cell_type": "code",
   "execution_count": null,
   "metadata": {},
   "outputs": [],
   "source": [
    "if processGFormEN:    \n",
    "    # dataFilesNamesStem is created in Preparation.ipynb\n",
    "    try:\n",
    "        gformEN1522 = pd.read_csv(\\\n",
    "                            gformPath + dataFilesNamesStem + genericFormName + versionSuffix + enSuffix + csvSuffix,\\\n",
    "                            dtype=str,\\\n",
    "                            parse_dates=['Timestamp'],\\\n",
    "                            date_parser=dateparseGForm,\\\n",
    "                             )\n",
    "        print(\"gformEN read_csv success\")\n",
    "    except FileNotFoundError:\n",
    "        print(\"gformEN read_csv failed\")"
   ]
  },
  {
   "cell_type": "markdown",
   "metadata": {},
   "source": [
    "## Additional columns\n",
    "<a id=addcol />"
   ]
  },
  {
   "cell_type": "markdown",
   "metadata": {},
   "source": [
    "#### Language column\n",
    "<a id=lang />"
   ]
  },
  {
   "cell_type": "code",
   "execution_count": null,
   "metadata": {},
   "outputs": [],
   "source": [
    "if processGFormEN:\n",
    "    gformEN1522['Language'] = pd.Series(enLanguageID, index=gformEN1522.index)"
   ]
  },
  {
   "cell_type": "markdown",
   "metadata": {},
   "source": [
    "#### Preparation for temporalities\n",
    "<a id=temp />"
   ]
  },
  {
   "cell_type": "code",
   "execution_count": null,
   "metadata": {},
   "outputs": [],
   "source": [
    "if processGFormEN:    \n",
    "    # when did the user answer the questionnaire? After playing, before playing, undefined?\n",
    "    answerTemporalities = ['pretest', 'posttest', 'undefined'];\n",
    "    gformEN1522['Temporality'] = pd.Series(answerTemporalities[2], index=gformEN1522.index)"
   ]
  },
  {
   "cell_type": "markdown",
   "metadata": {},
   "source": [
    "### Displays all unique answers to every question\n",
    "\n",
    "printIndex = -12\n",
    "avoidIndexes = [-12, -9, 28, 29, 30, 31]\n",
    "for question in gform.columns:\n",
    "    if (printIndex not in avoidIndexes):\n",
    "        print(\"Q\" + str(printIndex) + \" \" + question \\\n",
    "             + \"\\n\" + str(gform[question].unique()) + \"\\n\\n\")\n",
    "    printIndex = printIndex + 1"
   ]
  },
  {
   "cell_type": "markdown",
   "metadata": {},
   "source": [
    "## Renaming\n",
    "<a id=renaming />"
   ]
  },
  {
   "cell_type": "markdown",
   "metadata": {},
   "source": [
    "Labels are made more explicit. Their naming was done automatically by Google forms."
   ]
  },
  {
   "cell_type": "code",
   "execution_count": null,
   "metadata": {},
   "outputs": [],
   "source": [
    "pd.Index(gformEN1522.columns)"
   ]
  },
  {
   "cell_type": "code",
   "execution_count": null,
   "metadata": {},
   "outputs": [],
   "source": [
    "if processGFormEN:\n",
    "    renamedQuestions = pd.Index([\n",
    "'Timestamp',\n",
    "'Are you interested in learning more about...Biology',\n",
    "'Are you interested in learning more about...Synthetic biology',\n",
    "'Are you interested in learning more about...Video games',\n",
    "'Are you interested in learning more about...Engineering',\n",
    "'Have you ever played Hero.Coli?',\n",
    "'How old are you?',\n",
    "'What is your gender?',\n",
    "'Are you interested in video games?',\n",
    "'Are you interested in biology?',\n",
    "'How long have you studied biology?',\n",
    "'Do you play video games?',\n",
    "'Have you ever heard about synthetic biology or BioBricks, outside of Hero.Coli?',\n",
    "'Do you volunteer to contribute to our study by answering 9 more questions? (5 min)',\n",
    "'Did you enjoy playing the game?',\n",
    "'In order to modify the abilities of the bacterium, you have to...',\n",
    "'What are BioBricks and devices?',\n",
    "'Find the antibiotic:',\n",
    "'Plasmid is...',\n",
    "'Represents the end of a device... TER',\n",
    "'Promoter is...',\n",
    "'Represents the ability given... CDS',\n",
    "'Terminator is...',\n",
    "'Codes a protein... CDS',\n",
    "'RBS is...',\n",
    "'Can represent GFP... CDS',\n",
    "'Coding Sequence is...',\n",
    "'Controls when the device is active... PCONS',\n",
    "'Controls the level of expression, and thus how much the ability will be affected... RBS',\n",
    "'Makes it possible to equip an additional device. PLASMID',\n",
    "'Operator is... XXX',\n",
    "'What does this device do? RBS:PCONS:FLHDC:TER XXX',\n",
    "'What does this device do? PCONS:RBS:FLHDC:TER',\n",
    "'What does this device do? PBAD:RBS:GFP:TER',\n",
    "'What does this device do? PBAD:GFP:TBS:TER XXX',\n",
    "'What does this device do? GFP:RBS:PCONS:TER XXX',\n",
    "'What does this device do? PCONS:GFP:RBS:TER XXX',\n",
    "'What does this device do? AMPR:RBS:PCONS:TER XXX',\n",
    "'What does this device do? RBS:PCONS:AMPR:TER XXX',\n",
    "'When does green fluorescence happen?',\n",
    "'What happens when you unequip the movement device?',\n",
    "'Last question. Next page only contains remarks.Guess: you have crafted a functional device containing an arabinose-inducd promoter and an arabinose Coding Sequence (CDS). What will happen?',\n",
    "'You can write down remarks here.',\n",
    "'userID',\n",
    "'Language',\n",
    "'Temporality'\n",
    "])"
   ]
  },
  {
   "cell_type": "code",
   "execution_count": null,
   "metadata": {},
   "outputs": [],
   "source": [
    "if processGFormEN:\n",
    "    gformEN1522.columns = renamedQuestions"
   ]
  },
  {
   "cell_type": "code",
   "execution_count": null,
   "metadata": {},
   "outputs": [],
   "source": [
    "pd.DataFrame(gformEN1522.loc[0,:])"
   ]
  },
  {
   "cell_type": "markdown",
   "metadata": {},
   "source": [
    "## List of answers\n",
    "<a id=enform />"
   ]
  },
  {
   "cell_type": "markdown",
   "metadata": {},
   "source": [
    "### Scientific questions\n",
    "<a id=ensciform />"
   ]
  },
  {
   "cell_type": "code",
   "execution_count": null,
   "metadata": {},
   "outputs": [],
   "source": [
    "if processGFormEN:\n",
    "    correctAnswersEN = pd.Series(\n",
    "        [\n",
    "\n",
    "    # Timestamp\n",
    "                [], #1\n",
    "\n",
    "    # Basic demographics questions\n",
    "                [], #2\n",
    "                [], #3\n",
    "                [], #4\n",
    "                [], #5\n",
    "\n",
    "    # Basic biology questions\n",
    "                [], #6\n",
    "                [], #7\n",
    "                [], #8\n",
    "                [], #9\n",
    "\n",
    "    # Your experience with Hero.Coli\n",
    "                [], #10\n",
    "                [], #11\n",
    "                [], #12\n",
    "                [], #13\n",
    "\n",
    "    # General mechanics of the game\n",
    "                [\"Edit the DNA of the bacterium\"], #14\n",
    "                [\"DNA sequences\"], #15\n",
    "\n",
    "    # BioBricks\n",
    "                [\"Terminator\"], #16\n",
    "                [\"Promoter\"], #17\n",
    "                [\"Coding Sequence\"], #18\n",
    "                [\"RBS\"], #19\n",
    "\n",
    "    # BioBrick functions\n",
    "                [\"It shows the end of the device\"], #20\n",
    "                [\"It controls when the device is active\"], #21\n",
    "                [\"It controls which protein is produced, and thus which ability is affected\"], #22\n",
    "                [\"It controls the level of expression, and thus how much the ability will be affected\"], #23\n",
    "\n",
    "    # Devices\n",
    "                [\"Option 1\"], #24\n",
    "                [\"Under blue light, when the GFP device is equipped\"], #25\n",
    "                [\"Flagella quickly disappear one by one\"], #26\n",
    "\n",
    "    # Devices\n",
    "                [\"A plasmid - it makes it possible to equip an additional device\"], #27\n",
    "\n",
    "    # Device symbols\n",
    "                [\"It generates green fluorescence\"], #28\n",
    "                [\"It makes it possible to move faster\"], #29\n",
    "                [\"It generates antibiotic resistance\"], #30\n",
    "                [\"It generates green fluorescence in presence of l-arabinose\"], #31\n",
    "\n",
    "    # Device symbols\n",
    "                [\"It generates green fluorescence\"], #32\n",
    "                [\"It makes it possible to move faster\"], #33\n",
    "                [\"It generates antibiotic resistance\"], #34\n",
    "                [\"It generates green fluorescence in presence of l-arabinose\"], #35\n",
    "\n",
    "    # Beyond the game\n",
    "                [\"After being induced, it would produce more and\"], #36\n",
    "                [\"If it produces YFP under cyan light\",\n",
    "                 \"If it produced YFP under cyan light\"], #37\n",
    "                [\"E. Coli\"], #38\n",
    "                [\"Flagella\"], #39\n",
    "                [\"Ampicillin\"], #40\n",
    "\n",
    "    # Remarks\n",
    "                [], #41\n",
    "\n",
    "    # ID\n",
    "                [], #42\n",
    "\n",
    "    # Language\n",
    "                [], #43\n",
    "\n",
    "    # Temporality\n",
    "                [], #44\n",
    "\n",
    "            ], index = gformEN1522.columns\n",
    "    )\n",
    "    #correctAnswersEN"
   ]
  },
  {
   "cell_type": "markdown",
   "metadata": {},
   "source": [
    "### Demographic questions\n",
    "<a id=endemform />"
   ]
  },
  {
   "cell_type": "code",
   "execution_count": null,
   "metadata": {},
   "outputs": [],
   "source": [
    "if processGFormEN:\n",
    "    interestPositives = [\"A lot\", \"Extremely\", \"Moderately\"]\n",
    "\n",
    "    gameInterestPositives = interestPositives\n",
    "    frequencyPositives = interestPositives\n",
    "    agePositives = [18,19,20,21,22,23]\n",
    "    genderPositives = [\"Female\"]\n",
    "\n",
    "    biologyStudyPositives = [\"Until bachelor's degree\", \"At least until master's degree\"]\n",
    "    biologyInterestPositives = interestPositives\n",
    "    yesNoIdontknowPositives = [\"Yes\"]\n",
    "\n",
    "    previousPlayPositives = [\"Multiple times\",\"A few times\",\"Once\",\"Yes\"]\n",
    "\n",
    "    languagePositives = [enLanguageID]\n",
    "\n",
    "    temporalityPositives = [answerTemporalities[1]]\n",
    "\n",
    "\n",
    "    demographicAnswersEN = pd.Series(\n",
    "        [\n",
    "\n",
    "    # Timestamp\n",
    "                [], #1\n",
    "\n",
    "    # Basic demographics questions\n",
    "                interestPositives, #2\n",
    "                frequencyPositives, #3\n",
    "                agePositives, #4\n",
    "                genderPositives, #5\n",
    "\n",
    "    # Basic biology questions\n",
    "                biologyStudyPositives, #6\n",
    "                biologyInterestPositives, #7\n",
    "                yesNoIdontknowPositives, #8\n",
    "                yesNoIdontknowPositives, #9\n",
    "\n",
    "    # Your experience with Hero.Coli\n",
    "                previousPlayPositives, #10\n",
    "                previousPlayPositives, #11\n",
    "                previousPlayPositives, #12\n",
    "                previousPlayPositives, #13\n",
    "\n",
    "    # General mechanics of the game\n",
    "                [], #14\n",
    "                [], #15\n",
    "\n",
    "    # BioBricks\n",
    "                [], #16\n",
    "                [], #17\n",
    "                [], #18\n",
    "                [], #19\n",
    "\n",
    "    # BioBrick functions\n",
    "                [], #20\n",
    "                [], #21\n",
    "                [], #22\n",
    "                [], #23\n",
    "\n",
    "    # Devices\n",
    "                [], #24\n",
    "                [], #25\n",
    "                [], #26\n",
    "\n",
    "    # Devices\n",
    "                [], #27\n",
    "\n",
    "    # Device symbols\n",
    "                [], #28\n",
    "                [], #29\n",
    "                [], #30\n",
    "                [], #31\n",
    "\n",
    "    # Device symbols\n",
    "                [], #32\n",
    "                [], #33\n",
    "                [], #34\n",
    "                [], #35\n",
    "\n",
    "    # Beyond the game\n",
    "                [], #36\n",
    "                [], #37\n",
    "                [], #38\n",
    "                [], #39\n",
    "                [], #40\n",
    "\n",
    "    # Remarks\n",
    "                [], #41\n",
    "\n",
    "    # ID\n",
    "                [], #42\n",
    "\n",
    "    # Language\n",
    "                languagePositives, #43\n",
    "\n",
    "    # Temporality\n",
    "                temporalityPositives, #44\n",
    "\n",
    "            ], index = gformEN1522.columns\n",
    "    )\n",
    "    #demographicAnswersEN"
   ]
  },
  {
   "cell_type": "markdown",
   "metadata": {},
   "source": [
    "### Language selection\n",
    "<a id=langsel />"
   ]
  },
  {
   "cell_type": "code",
   "execution_count": null,
   "metadata": {},
   "outputs": [],
   "source": [
    "if processGFormEN:\n",
    "    correctAnswers = correctAnswersEN"
   ]
  },
  {
   "cell_type": "code",
   "execution_count": null,
   "metadata": {},
   "outputs": [],
   "source": [
    "if processGFormEN:\n",
    "    demographicAnswers = demographicAnswersEN"
   ]
  },
  {
   "cell_type": "markdown",
   "metadata": {},
   "source": [
    "## Basic operations\n",
    "<a id=basicops />"
   ]
  },
  {
   "cell_type": "markdown",
   "metadata": {},
   "source": [
    "### Access\n",
    "For instance, access to the correct answer to the 19th question."
   ]
  },
  {
   "cell_type": "code",
   "execution_count": null,
   "metadata": {},
   "outputs": [],
   "source": [
    "#correctAnswers.loc[gformEN1522.columns[19]]"
   ]
  },
  {
   "cell_type": "markdown",
   "metadata": {},
   "source": [
    "## Checkpoint / Question matching\n",
    "<a id=checkquestmatch />"
   ]
  },
  {
   "cell_type": "markdown",
   "metadata": {},
   "source": [
    "### cf [Hero.Coli knowledge content document](https://docs.google.com/spreadsheets/d/1QF8YZzeRwrWxsWMMGpS5yeZBCtco9PqpzoPUdrKldbI/edit#gid=0)"
   ]
  },
  {
   "cell_type": "code",
   "execution_count": null,
   "metadata": {},
   "outputs": [],
   "source": [
    "if processGFormEN:\n",
    "    checkpointQuestionMatching = pd.DataFrame(\n",
    "        {\n",
    "            'checkpoint' : [\n",
    "\n",
    "                # \"Timestamp\", # 1\n",
    "                '',\n",
    "\n",
    "            # Basic demographics questions\n",
    "                # \"Are you interested in video games?\", # 2\n",
    "                '',\n",
    "                # \"Do you play video games?\", # 3\n",
    "                '',\n",
    "                # \"How old are you?\", # 4\n",
    "                '',\n",
    "                # \"What is your gender?\", # 5\n",
    "                '',\n",
    "\n",
    "            # Basic biology questions\n",
    "                # \"How long have you studied biology?\", # 6\n",
    "                '',\n",
    "                # \"Are you interested in biology?\", # 7\n",
    "                '',\n",
    "                # \"Before playing Hero.Coli, had you ever heard about synthetic biology?\", # 8\n",
    "                '',\n",
    "                # \"Before playing Hero.Coli, had you ever heard about BioBricks?\", # 9\n",
    "                '',\n",
    "\n",
    "            # Your experience with Hero.Coli\n",
    "                # \"Have you ever played an older version of Hero.Coli before?\", # 10\n",
    "                '',\n",
    "                # \"Have you played the current version of Hero.Coli?\", # 11\n",
    "                '',\n",
    "                # \"Have you played the arcade cabinet version of Hero.Coli?\", # 12\n",
    "                '',\n",
    "                # \"Have you played the Android version of Hero.Coli?\", # 13\n",
    "                '',\n",
    "\n",
    "            # General mechanics of the game\n",
    "                # \"In order to modify the abilities of the bacterium, you have to...\", # 14\n",
    "                'tutorial1.Checkpoint00',\n",
    "                # \"What are BioBricks and devices?\", # 15\n",
    "                'tutorial1.Checkpoint00',\n",
    "\n",
    "            # BioBricks\n",
    "                # \"What is the name of this BioBrick?\", # 16\n",
    "                'tutorial1.Checkpoint05',\n",
    "                # \"What is the name of this BioBrick?\", # 17\n",
    "                'tutorial1.Checkpoint05',\n",
    "                # \"What is the name of this BioBrick?\", # 18\n",
    "                'tutorial1.Checkpoint02',\n",
    "                # \"What is the name of this BioBrick?\", # 19\n",
    "                'tutorial1.Checkpoint01',\n",
    "\n",
    "            # BioBrick functions\n",
    "                # \"What does this BioBrick do?\", # 20\n",
    "                'tutorial1.Checkpoint05',\n",
    "                # \"What does this BioBrick do?\", # 21\n",
    "                'tutorial1.Checkpoint05',\n",
    "                # \"What does this BioBrick do?\", # 22\n",
    "                'tutorial1.Checkpoint02',\n",
    "                # \"What does this BioBrick do?\", # 23\n",
    "                'tutorial1.Checkpoint01',\n",
    "\n",
    "            # Devices\n",
    "                # \"Pick the case where the BioBricks are well-ordered:\", # 24\n",
    "                'tutorial1.Checkpoint01',\n",
    "                # \"When does green fluorescence happen?\", # 25\n",
    "                'tutorial1.Checkpoint02',\n",
    "                # \"What happens when you unequip the movement device?\", # 26\n",
    "                'tutorial1.Checkpoint00',\n",
    "\n",
    "            # Devices\n",
    "                # \"What is this?\", # 27\n",
    "                'tutorial1.Checkpoint05',\n",
    "\n",
    "            # Device symbols\n",
    "                # \"What does this device do?\", # 28\n",
    "                'tutorial1.Checkpoint02',\n",
    "                # \"What does this device do?\", # 29\n",
    "                'tutorial1.Checkpoint02',\n",
    "                # \"What does this device do?\", # 30\n",
    "                'tutorial1.Checkpoint13',\n",
    "                # \"What does this device do?\", # 31\n",
    "                'tutorial1.Checkpoint05',\n",
    "\n",
    "            # Device symbols\n",
    "                # \"What does this device do?\", # 32\n",
    "                'tutorial1.Checkpoint02',\n",
    "                # \"What does this device do?\", # 33\n",
    "                'tutorial1.Checkpoint02',\n",
    "                # \"What does this device do?\", # 34\n",
    "                'tutorial1.Checkpoint13',\n",
    "                # \"What does this device do?\", # 35\n",
    "                'tutorial1.Checkpoint05',\n",
    "\n",
    "            # Beyond the game\n",
    "                # \"Guess: what would a device producing l-arabinose do, \\\n",
    "                    # if it started with a l-arabinose-induced promoter?\", # 36\n",
    "                'tutorial1.Checkpoint05',\n",
    "                # \"Guess: the bacterium would glow yellow...\", # 37\n",
    "                'tutorial1.Checkpoint02',\n",
    "                # \"What is the species of the bacterium of the game?\", # 38\n",
    "                'tutorial1.Checkpoint00',\n",
    "                # \"What is the scientific name of the tails of the bacterium?\", # 39\n",
    "                'tutorial1.Checkpoint00',\n",
    "                # \"Find the antibiotic:\", # 40\n",
    "                'tutorial1.Checkpoint02',\n",
    "\n",
    "            # Remarks\n",
    "                # \"You can write down remarks here.\", # 41\n",
    "                '',\n",
    "\n",
    "            # Thanks to have filled this study!\n",
    "                # \"Do not edit -  pre-filled anonymous ID\" # 42\n",
    "                '',\n",
    "\n",
    "                # Language\n",
    "                '',\n",
    "\n",
    "                # Temporality\n",
    "                '',\n",
    "            ]\n",
    "        }, index = gformEN1522.columns\n",
    "    )\n",
    "    #checkpointQuestionMatching"
   ]
  },
  {
   "cell_type": "code",
   "execution_count": null,
   "metadata": {},
   "outputs": [],
   "source": [
    "#checkpointQuestionMatching['checkpoint'][20]"
   ]
  },
  {
   "cell_type": "code",
   "execution_count": null,
   "metadata": {},
   "outputs": [],
   "source": [
    "#checkpointQuestionMatching.loc[gformEN1522.columns[20], 'checkpoint']"
   ]
  },
  {
   "cell_type": "code",
   "execution_count": null,
   "metadata": {
    "scrolled": true
   },
   "outputs": [],
   "source": [
    "if processGFormEN:\n",
    "    def getUniqueSortedCheckpoints( checkpoints ):\n",
    "        result = checkpoints.unique()\n",
    "        result = result[result!='']\n",
    "        result = pd.Series(result)\n",
    "        result = result.sort_values()\n",
    "        result.index = range(0, len(result))\n",
    "        return result"
   ]
  },
  {
   "cell_type": "code",
   "execution_count": null,
   "metadata": {},
   "outputs": [],
   "source": [
    "if processGFormEN:\n",
    "    validableCheckpoints = getUniqueSortedCheckpoints(checkpointQuestionMatching['checkpoint'])"
   ]
  }
 ],
 "metadata": {
  "kernelspec": {
   "display_name": "Python [conda env:python3]",
   "language": "python",
   "name": "conda-env-python3-py"
  },
  "language_info": {
   "codemirror_mode": {
    "name": "ipython",
    "version": 3
   },
   "file_extension": ".py",
   "mimetype": "text/x-python",
   "name": "python",
   "nbconvert_exporter": "python",
   "pygments_lexer": "ipython3",
   "version": "3.5.4"
  }
 },
 "nbformat": 4,
 "nbformat_minor": 1
}
