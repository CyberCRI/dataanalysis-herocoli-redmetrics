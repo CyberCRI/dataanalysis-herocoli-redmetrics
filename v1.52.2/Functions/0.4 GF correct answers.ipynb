{
 "cells": [
  {
   "cell_type": "markdown",
   "metadata": {},
   "source": [
    "# Google form correct answers"
   ]
  },
  {
   "cell_type": "markdown",
   "metadata": {},
   "source": [
    "All possible and correct answers in English and French."
   ]
  },
  {
   "cell_type": "code",
   "execution_count": null,
   "metadata": {},
   "outputs": [],
   "source": [
    "%run \"0.2 GF French localization.ipynb\""
   ]
  },
  {
   "cell_type": "markdown",
   "metadata": {},
   "source": [
    "[Localization](#loc)\n",
    "    \n",
    "[Merge and save](#merge)"
   ]
  },
  {
   "cell_type": "markdown",
   "metadata": {},
   "source": [
    "## Localization\n",
    "<a id=loc />"
   ]
  },
  {
   "cell_type": "code",
   "execution_count": null,
   "metadata": {},
   "outputs": [],
   "source": [
    "processGForm = not ('gform' in globals())\n",
    "if processGForm:\n",
    "    gformFR1522.columns = gformEN1522.columns"
   ]
  },
  {
   "cell_type": "markdown",
   "metadata": {},
   "source": [
    "#### getTranslatedForm tinkering"
   ]
  },
  {
   "cell_type": "code",
   "execution_count": null,
   "metadata": {},
   "outputs": [],
   "source": [
    "#type(gformFR1522.index), type(gformEN1522.index)"
   ]
  },
  {
   "cell_type": "markdown",
   "metadata": {},
   "source": [
    "if processGForm:\n",
    "    localizedForm = gformFR1522.copy()\n",
    "    localizedPossibleAnswers = questionsAnswersTranslationsFR.copy()\n",
    "\n",
    "    #def getTranslatedForm( localizedForm, localizedPossibleAnswers ):\n",
    "    result = localizedForm.copy()\n",
    "    result.index = pd.Series(result.index).apply(str)\n",
    "    localizedPossibleAnswers.index = pd.Series(localizedPossibleAnswers.index).apply(str)\n",
    "\n",
    "    # translate answers\n",
    "    for question in result.columns:\n",
    "        for index in result.index:\n",
    "            answer = result.loc[index, question]\n",
    "            if (\n",
    "                0 != len(localizedPossibleAnswers.loc[question])\n",
    "                and\n",
    "                (answer in localizedPossibleAnswers.loc[question][0])\n",
    "            ):  \n",
    "                #print(result.loc[index, question])\n",
    "                #print(localizedPossibleAnswers.loc[question][0][answer])\n",
    "                result.loc[index, question] =\\\n",
    "                localizedPossibleAnswers.loc[question][0][answer]\n",
    "\n",
    "    # translate questions\n",
    "    result = result.rename(columns=dict(zip(localizedForm.columns,gformEN1522.columns)))\n",
    "\n",
    "    #result"
   ]
  },
  {
   "cell_type": "markdown",
   "metadata": {},
   "source": [
    "answer = gformFR.loc[index, question]\n",
    "answer"
   ]
  },
  {
   "cell_type": "code",
   "execution_count": null,
   "metadata": {},
   "outputs": [],
   "source": [
    "if processGForm:\n",
    "    # returns an English-indexed, English-localized answer dataframe\n",
    "    #  from a French-indexed, French-localized dataframe\n",
    "    def getTranslatedForm( _localizedForm, localizedPossibleAnswers ):\n",
    "        result = localizedForm.copy()\n",
    "        result.index = pd.Series(result.index).apply(str)\n",
    "        localizedPossibleAnswers.index = pd.Series(localizedPossibleAnswers.index).apply(str)\n",
    "\n",
    "        # translate answers\n",
    "        for question in result.columns:\n",
    "            for index in result.index:\n",
    "                answer = result.loc[index, question]\n",
    "                if (\n",
    "                    0 != len(localizedPossibleAnswers.loc[question])\n",
    "                    and\n",
    "                    (answer in localizedPossibleAnswers.loc[question][0])\n",
    "                ):  \n",
    "                    #print(result.loc[index, question])\n",
    "                    #print(localizedPossibleAnswers.loc[question][0][answer])\n",
    "                    result.loc[index, question] =\\\n",
    "                    localizedPossibleAnswers.loc[question][0][answer]\n",
    "\n",
    "        # translate questions\n",
    "        result = result.rename(columns=dict(zip(localizedForm.columns,gformEN1522.columns)))\n",
    "\n",
    "        return result"
   ]
  },
  {
   "cell_type": "markdown",
   "metadata": {},
   "source": [
    "## Merge and save\n",
    "<a id=merge />"
   ]
  },
  {
   "cell_type": "code",
   "execution_count": null,
   "metadata": {},
   "outputs": [],
   "source": [
    "if processGForm:\n",
    "    gform = pd.concat([gformEN1522, getTranslatedForm( gformFR1522, questionsAnswersTranslationsFR )])\n",
    "    gform.index = range(0, len(gform.index))\n",
    "    gform.to_csv(mergedPath, encoding=csvEncoding)"
   ]
  }
 ],
 "metadata": {
  "kernelspec": {
   "display_name": "Python [conda env:python3]",
   "language": "python",
   "name": "conda-env-python3-py"
  },
  "language_info": {
   "codemirror_mode": {
    "name": "ipython",
    "version": 3
   },
   "file_extension": ".py",
   "mimetype": "text/x-python",
   "name": "python",
   "nbconvert_exporter": "python",
   "pygments_lexer": "ipython3",
   "version": "3.5.4"
  }
 },
 "nbformat": 4,
 "nbformat_minor": 1
}
