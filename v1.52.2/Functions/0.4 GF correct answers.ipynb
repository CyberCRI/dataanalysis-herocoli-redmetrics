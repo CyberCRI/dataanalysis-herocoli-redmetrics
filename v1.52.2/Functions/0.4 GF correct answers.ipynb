{
 "cells": [
  {
   "cell_type": "markdown",
   "metadata": {},
   "source": [
    "# Google form correct answers"
   ]
  },
  {
   "cell_type": "markdown",
   "metadata": {},
   "source": [
    "All possible and correct answers in English and French."
   ]
  },
  {
   "cell_type": "code",
   "execution_count": null,
   "metadata": {},
   "outputs": [],
   "source": [
    "%run \"../Functions/0.2 GF French localization.ipynb\""
   ]
  },
  {
   "cell_type": "markdown",
   "metadata": {},
   "source": [
    "[Localization](#loc)\n",
    "\n",
    "[Explicitation](#Explicitation)\n",
    "    \n",
    "[Merge and save](#merge)"
   ]
  },
  {
   "cell_type": "markdown",
   "metadata": {},
   "source": [
    "## Localization\n",
    "<a id=loc />"
   ]
  },
  {
   "cell_type": "code",
   "execution_count": null,
   "metadata": {},
   "outputs": [],
   "source": [
    "processGForm = not ('gform' in globals())\n",
    "if processGForm:\n",
    "    gformFR1522.columns = gformEN1522.columns"
   ]
  },
  {
   "cell_type": "markdown",
   "metadata": {},
   "source": [
    "#### getTranslatedForm tinkering"
   ]
  },
  {
   "cell_type": "code",
   "execution_count": null,
   "metadata": {},
   "outputs": [],
   "source": [
    "#type(gformFR1522.index), type(gformEN1522.index)"
   ]
  },
  {
   "cell_type": "markdown",
   "metadata": {},
   "source": [
    "if processGForm:\n",
    "    localizedForm = gformFR1522.copy()\n",
    "    localizedPossibleAnswers = questionsAnswersTranslationsFR.copy()\n",
    "\n",
    "    #def getTranslatedForm( localizedForm, localizedPossibleAnswers ):\n",
    "    result = localizedForm.copy()\n",
    "    result.index = pd.Series(result.index).apply(str)\n",
    "    localizedPossibleAnswers.index = pd.Series(localizedPossibleAnswers.index).apply(str)\n",
    "\n",
    "    # translate answers\n",
    "    for question in result.columns:\n",
    "        for index in result.index:\n",
    "            answer = result.loc[index, question]\n",
    "            if (\n",
    "                0 != len(localizedPossibleAnswers.loc[question])\n",
    "                and\n",
    "                (answer in localizedPossibleAnswers.loc[question][0])\n",
    "            ):  \n",
    "                #print(result.loc[index, question])\n",
    "                #print(localizedPossibleAnswers.loc[question][0][answer])\n",
    "                result.loc[index, question] =\\\n",
    "                localizedPossibleAnswers.loc[question][0][answer]\n",
    "\n",
    "    # translate questions\n",
    "    result = result.rename(columns=dict(zip(localizedForm.columns,gformEN1522.columns)))\n",
    "\n",
    "    #result"
   ]
  },
  {
   "cell_type": "markdown",
   "metadata": {},
   "source": [
    "answer = gformFR.loc[index, question]\n",
    "answer"
   ]
  },
  {
   "cell_type": "code",
   "execution_count": null,
   "metadata": {},
   "outputs": [],
   "source": [
    "if processGForm:\n",
    "    # returns an English-indexed, English-localized answer dataframe\n",
    "    #  from a French-indexed, French-localized dataframe\n",
    "    def getTranslatedForm( _localizedForm, localizedPossibleAnswers ):\n",
    "        result = _localizedForm.copy()\n",
    "        result.index = pd.Series(result.index).apply(str)\n",
    "        localizedPossibleAnswers.index = pd.Series(localizedPossibleAnswers.index).apply(str)\n",
    "\n",
    "        # translate answers\n",
    "        for question in result.columns:\n",
    "            for index in result.index:\n",
    "                answer = result.loc[index, question]\n",
    "                if (\n",
    "                    0 != len(localizedPossibleAnswers.loc[question])\n",
    "                    and\n",
    "                    (answer in localizedPossibleAnswers.loc[question][0])\n",
    "                ):  \n",
    "                    #print(result.loc[index, question])\n",
    "                    #print(localizedPossibleAnswers.loc[question][0][answer])\n",
    "                    result.loc[index, question] =\\\n",
    "                    localizedPossibleAnswers.loc[question][0][answer]\n",
    "\n",
    "        # translate questions\n",
    "        result = result.rename(columns=dict(zip(_localizedForm.columns,gformEN1522.columns)))\n",
    "\n",
    "        return result"
   ]
  },
  {
   "cell_type": "markdown",
   "metadata": {},
   "source": [
    "## Explicitation"
   ]
  },
  {
   "cell_type": "code",
   "execution_count": null,
   "metadata": {},
   "outputs": [],
   "source": [
    "if processGForm:\n",
    "\n",
    "    # plain possible answers\n",
    "    bioBrickPlainPossibleAnswers = [\\\n",
    "        \"None of these\",\n",
    "        \"1\",                   # \"TER\",\n",
    "        \"2\",                   # \"PR\",\n",
    "        \"3\",                   # \"CDS\",\n",
    "        \"4\",                   # \"RBS\",\n",
    "        \"5\",                   # \"Plasmid\",\n",
    "        \"I don't know\",        \n",
    "        ]\n",
    "    \n",
    "    # explicitation of BioBrick answers\n",
    "    bioBrickAnswersExplicitation = [\\\n",
    "        \"None of these\",\n",
    "        \"TER\",               # 1\n",
    "        \"PR\",                # 2\n",
    "        \"CDS\",               # 3\n",
    "        \"RBS\",               # 4\n",
    "        \"Plasmid\",           # 5\n",
    "        \"I don't know\",\n",
    "        ]\n",
    "\n",
    "    biobrickExplicitation = [dict(zip(bioBrickPlainPossibleAnswers, bioBrickAnswersExplicitation))]\n",
    "\n",
    "    answersExplicitation = pd.Series(\n",
    "        [\n",
    "\n",
    "    # Timestamp\n",
    "            #'Timestamp', #01\n",
    "                [],\n",
    "\n",
    "    # Basic engagement questions\n",
    "            #'Are you interested in learning more about...Biology', #02\n",
    "                [],\n",
    "            #'Are you interested in learning more about...Synthetic biology', #03\n",
    "                [],\n",
    "            #'Are you interested in learning more about...Video games', #04\n",
    "                [],\n",
    "            #'Are you interested in learning more about...Engineering', #05\n",
    "                [],\n",
    "\n",
    "    # Experience with Hero.Coli\n",
    "            #'Have you ever played Hero.Coli?', #06\n",
    "                [],\n",
    "\n",
    "    # Basic demographics questions\n",
    "            #'How old are you?', #07\n",
    "                [],\n",
    "            #'What is your gender?', #08\n",
    "                [],\n",
    "            #'Are you interested in video games?', #09\n",
    "                [],\n",
    "            #'Are you interested in biology?', #10\n",
    "                [],\n",
    "            #'How long have you studied biology?', #11\n",
    "                [],\n",
    "            #'Do you play video games?', #12\n",
    "                [],\n",
    "\n",
    "    # Basic biology questions\n",
    "            #'Have you ever heard about synthetic biology or BioBricks, outside of Hero.Coli?', #13\n",
    "                [],\n",
    "\n",
    "    # Basic engagement questions\n",
    "            #'Do you volunteer to contribute to our study by answering 9 more questions? (5 min)', #14\n",
    "                [],\n",
    "            #'Did you enjoy playing the game?', #15\n",
    "                [],\n",
    "\n",
    "    # General mechanics of the game\n",
    "            #'In order to modify the abilities of the bacterium, you have to...', #16\n",
    "                [],\n",
    "            #'What are BioBricks and devices?', #17\n",
    "                [],\n",
    "            #'Find the antibiotic:', #18\n",
    "                [],\n",
    "\n",
    "    # BioBrick names and functions\n",
    "            #'Plasmid is...', #19\n",
    "                biobrickExplicitation,\n",
    "            #'Represents the end of a device... TER', #20\n",
    "                biobrickExplicitation,\n",
    "            #'Promoter is...', #21\n",
    "                biobrickExplicitation,\n",
    "            #'Represents the ability given... CDS', #22\n",
    "                biobrickExplicitation,\n",
    "            #'Terminator is...', #23\n",
    "                biobrickExplicitation,\n",
    "            #'Codes a protein... CDS', #24\n",
    "                biobrickExplicitation,\n",
    "            #'RBS is...', #25\n",
    "                biobrickExplicitation,\n",
    "            #'Can represent GFP... CDS', #26\n",
    "                biobrickExplicitation,\n",
    "            #'Coding Sequence is...', #27\n",
    "                biobrickExplicitation,\n",
    "            #'Controls when the device is active... PR', #28\n",
    "                biobrickExplicitation,\n",
    "            #'Controls the level of expression, and thus how much the ability will be affected... RBS', #29\n",
    "                biobrickExplicitation,\n",
    "            #'Makes it possible to equip an additional device. Plasmid', #30\n",
    "                biobrickExplicitation,\n",
    "            #'Operator is... XXX', #31\n",
    "                biobrickExplicitation,\n",
    "\n",
    "    # Device symbols\n",
    "            #'What does this device do? RBS:PCONS:FLHDC:TER XXX', #32\n",
    "                [],\n",
    "            #'What does this device do? PCONS:RBS:FLHDC:TER', #33\n",
    "                [],\n",
    "            #'What does this device do? PBAD:RBS:GFP:TER', #34\n",
    "                [],\n",
    "            #'What does this device do? PBAD:GFP:RBS:TER XXX', #35\n",
    "                [],\n",
    "            #'What does this device do? GFP:RBS:PCONS:TER XXX', #36\n",
    "                [],\n",
    "            #'What does this device do? PCONS:GFP:RBS:TER XXX', #37\n",
    "                [],\n",
    "            #'What does this device do? AMPR:RBS:PCONS:TER XXX', #38\n",
    "                [],\n",
    "            #'What does this device do? RBS:PCONS:AMPR:TER XXX', #39\n",
    "                [],\n",
    "\n",
    "    # Beyond the game\n",
    "            #'When does green fluorescence happen?', #40\n",
    "                [],\n",
    "            #'What happens when you unequip the movement device?', #41\n",
    "                [],\n",
    "            #'Last question. Next page only contains remarks.Guess: you have crafted a functional device containing an arabinose-induced promoter and an arabinose Coding Sequence (CDS). What will happen?', #42\n",
    "                [],\n",
    "\n",
    "    # Remarks\n",
    "            #'You can write down remarks here.', #43\n",
    "                [],\n",
    "\n",
    "    # Technical data\n",
    "            #'userId', #44\n",
    "                [],\n",
    "            #'Language', #45\n",
    "                [],\n",
    "            #'Temporality' #46\n",
    "                [],\n",
    "\n",
    "            ], index = gformEN1522.columns\n",
    "    )\n",
    "    #answersExplicitation\n",
    "    #answersExplicitation.loc['Are you interested in video games?']['Beaucoup']"
   ]
  },
  {
   "cell_type": "markdown",
   "metadata": {},
   "source": [
    "## Merge and process common treatment\n",
    "<a id=merge />"
   ]
  },
  {
   "cell_type": "markdown",
   "metadata": {},
   "source": [
    "### code to find and filter out test answers"
   ]
  },
  {
   "cell_type": "code",
   "execution_count": null,
   "metadata": {},
   "outputs": [],
   "source": [
    "# criterion: age != 0\n",
    "def getWithoutTest(sample):\n",
    "    return sample[sample[QAge] != 0]\n",
    "\n",
    "# not used to filter out tests due to false positives\n",
    "def getContainString(sample, string):\n",
    "    return sample[sample[QRemarks].apply(lambda s: str(s).find(string) != -1)]"
   ]
  },
  {
   "cell_type": "code",
   "execution_count": null,
   "metadata": {
    "scrolled": false
   },
   "outputs": [],
   "source": [
    "if processGForm:\n",
    "    gform = pd.concat([gformEN1522, getTranslatedForm( gformFR1522, questionsAnswersTranslationsFR )])\n",
    "    gform.index = range(0, len(gform.index))"
   ]
  },
  {
   "cell_type": "code",
   "execution_count": null,
   "metadata": {},
   "outputs": [],
   "source": [
    "if processGForm:\n",
    "    gform = getTranslatedForm( gform, answersExplicitation )\n",
    "    gform.index = range(0, len(gform.index))"
   ]
  },
  {
   "cell_type": "code",
   "execution_count": null,
   "metadata": {},
   "outputs": [],
   "source": [
    "if processGForm:\n",
    "    # filter out test answers and add test users to testUsers DataFrame,\n",
    "    #  which is defined in 0.0 RedMetrics data preparation.ipynb\n",
    "    gformTestUserIds = set(gform[gform[QAge] == 0][QUserId].unique())\n",
    "    #allTestUsers = set(testUsers.values[0])\n",
    "    allTestUsers = list(set(testUsers) | gformTestUserIds)\n",
    "    testUsers = pd.DataFrame(data=allTestUsers, columns=['userId'])"
   ]
  },
  {
   "cell_type": "code",
   "execution_count": null,
   "metadata": {
    "scrolled": false
   },
   "outputs": [],
   "source": [
    "if processGForm:\n",
    "    # filter out associated redmetrics events\n",
    "    rmdf1522 = rmdf1522[~rmdf1522[QUserId].isin(gformTestUserIds)]\n",
    "    rmdf160 = rmdf160[~rmdf160[QUserId].isin(gformTestUserIds)]\n",
    "    rmdfConcat = rmdfConcat[~rmdfConcat[QUserId].isin(gformTestUserIds)]\n",
    "\n",
    "    gform = getWithoutTest(gform)"
   ]
  },
  {
   "cell_type": "code",
   "execution_count": null,
   "metadata": {},
   "outputs": [],
   "source": [
    "if processGForm:\n",
    "    writeTestUsers(testUsers)\n",
    "    writeRMDF(rmdf1522, processedRMDF1522Path)\n",
    "    writeRMDF(rmdf160, processedRMDF160Path)"
   ]
  },
  {
   "cell_type": "markdown",
   "metadata": {},
   "source": [
    "# Save"
   ]
  },
  {
   "cell_type": "code",
   "execution_count": null,
   "metadata": {},
   "outputs": [],
   "source": [
    "if processGForm:\n",
    "    gform.to_csv(mergedPath, encoding=csvEncoding)"
   ]
  }
 ],
 "metadata": {
  "kernelspec": {
   "display_name": "Python 3",
   "language": "python",
   "name": "python3"
  },
  "language_info": {
   "codemirror_mode": {
    "name": "ipython",
    "version": 3
   },
   "file_extension": ".py",
   "mimetype": "text/x-python",
   "name": "python",
   "nbconvert_exporter": "python",
   "pygments_lexer": "ipython3",
   "version": "3.6.5"
  }
 },
 "nbformat": 4,
 "nbformat_minor": 1
}
