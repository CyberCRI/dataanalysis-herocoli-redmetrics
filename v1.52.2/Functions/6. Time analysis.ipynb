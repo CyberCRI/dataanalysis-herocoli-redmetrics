{
 "cells": [
  {
   "cell_type": "markdown",
   "metadata": {},
   "source": [
    "# 6. Time analysis"
   ]
  },
  {
   "cell_type": "code",
   "execution_count": null,
   "metadata": {},
   "outputs": [],
   "source": [
    "%run \"../Functions/5. Game map analysis.ipynb\"\n",
    "print(\"6. Time analysis\")"
   ]
  },
  {
   "cell_type": "code",
   "execution_count": null,
   "metadata": {},
   "outputs": [],
   "source": [
    "minimum152Date = min(min(rmdf1522['userTime']), min(gform[QTimestamp])).date()\n",
    "maximum152Date = max(max(rmdf1522['userTime']), max(gform[QTimestamp])).date()\n",
    "minimum152Date, maximum152Date"
   ]
  },
  {
   "cell_type": "code",
   "execution_count": null,
   "metadata": {},
   "outputs": [],
   "source": [
    "def plotPerDay(valuesPerDay, title='', loc=2, startDate=None, endDate=None):\n",
    "\n",
    "    dateIndex = valuesPerDay.index\n",
    "\n",
    "    if (startDate == None):\n",
    "        startDate = min(dateIndex)\n",
    "    if (endDate == None):\n",
    "        endDate = max(dateIndex)\n",
    "\n",
    "    dateIndex = pd.date_range(startDate, endDate)\n",
    "    valuesPerDay = valuesPerDay.reindex(dateIndex, fill_value=0)\n",
    "\n",
    "    ax1 = valuesPerDay.sort_index().plot(\n",
    "        rot=90,\n",
    "        label='per day',\n",
    "        legend=False,\n",
    "        color='blue',\n",
    "    )\n",
    "    ax1.set_ylabel(\"per day\")\n",
    "    h1, l1 = ax1.get_legend_handles_labels()\n",
    "\n",
    "    ax2 = np.cumsum(valuesPerDay.sort_index()).plot(\n",
    "        rot=90,\n",
    "        label='cumulative',\n",
    "        legend=False,\n",
    "        secondary_y=True,\n",
    "        color='red'\n",
    "    )\n",
    "    ax2.set_ylabel(\"cumulative\")\n",
    "    h2, l2 = ax2.get_legend_handles_labels()\n",
    "\n",
    "    plt.legend(h1+h2, l1+l2, loc=loc)\n",
    "    plt.title(title)\n",
    "    plt.show()"
   ]
  },
  {
   "cell_type": "code",
   "execution_count": null,
   "metadata": {},
   "outputs": [],
   "source": [
    "def plotPerDay2(valuesPerDay, title='', loc=0, startDate=None, endDate=None):\n",
    "\n",
    "    dateIndex = valuesPerDay.index\n",
    "\n",
    "    if (startDate == None):\n",
    "        startDate = min(dateIndex)\n",
    "    if (endDate == None):\n",
    "        endDate = max(dateIndex)\n",
    "\n",
    "    dateIndex = pd.date_range(startDate, endDate)\n",
    "    valuesPerDay = valuesPerDay.reindex(dateIndex, fill_value=0)\n",
    "    \n",
    "    fig = plt.figure()\n",
    "    ax1 = fig.add_subplot(111)\n",
    "\n",
    "    ax1.plot(valuesPerDay.sort_index().index, valuesPerDay.sort_index(), label='per day', color='blue')\n",
    "    plt.xticks(rotation='vertical')\n",
    "    ax2 = ax1.twinx()\n",
    "    ax2.plot(valuesPerDay.sort_index().index, np.cumsum(valuesPerDay.sort_index()), label='cumulative', color='red')\n",
    "\n",
    "    lines, labels = ax1.get_legend_handles_labels()\n",
    "    lines2, labels2 = ax2.get_legend_handles_labels()\n",
    "    ax2.legend(lines + lines2, labels + labels2, loc=loc)\n",
    "\n",
    "    ax1.set_ylabel(\"per day\")\n",
    "    ax2.set_ylabel(\"cumulative\")\n",
    "    plt.title(title)\n",
    "    plt.show()"
   ]
  }
 ],
 "metadata": {
  "kernelspec": {
   "display_name": "Python 3",
   "language": "python",
   "name": "python3"
  },
  "language_info": {
   "codemirror_mode": {
    "name": "ipython",
    "version": 3
   },
   "file_extension": ".py",
   "mimetype": "text/x-python",
   "name": "python",
   "nbconvert_exporter": "python",
   "pygments_lexer": "ipython3",
   "version": "3.6.5"
  }
 },
 "nbformat": 4,
 "nbformat_minor": 2
}
