{
 "cells": [
  {
   "cell_type": "markdown",
   "metadata": {},
   "source": [
    "# Preparation"
   ]
  },
  {
   "cell_type": "code",
   "execution_count": 2,
   "metadata": {
    "collapsed": false
   },
   "outputs": [],
   "source": [
    "%run Preparation.ipynb"
   ]
  },
  {
   "cell_type": "code",
   "execution_count": 3,
   "metadata": {
    "collapsed": false
   },
   "outputs": [],
   "source": [
    "#df100 = pd.read_csv(\"data/1.0.csv\")\n",
    "#df131 = pd.read_csv(\"data/1.31.csv\")\n",
    "#df132 = pd.read_csv(\"data/1.32.csv\")\n",
    "#df133 = pd.read_csv(\"data/1.33.csv\")\n",
    "#df140 = pd.read_csv(\"data/1.40.csv\")\n",
    "#df150 = pd.read_csv(\"data/1.50.csv\")\n",
    "df151 = pd.read_csv(\"data/1.51.csv\")\n",
    "df152 = pd.read_csv(\"data/1.52.csv\")\n",
    "\n",
    "relevantColumns = ['id', 'type', 'customData.platform']\n",
    "\n",
    "#part100 = df100.loc[:,relevantColumns]\n",
    "#part131 = df131.loc[:,relevantColumns]\n",
    "#part132 = df132.loc[:,relevantColumns]\n",
    "#part133 = df133.loc[:,relevantColumns]\n",
    "#part140 = df140.loc[:,relevantColumns]\n",
    "#part150 = df150.loc[:,relevantColumns]\n",
    "part151 = df151.loc[:,relevantColumns]\n",
    "part152 = df152.loc[:,relevantColumns]\n",
    "\n",
    "#df = pd.concat([part100, part131, part132, part133, part140, part150, part151, part152])\n",
    "df = pd.concat([part151, part152])\n",
    "#df = part152"
   ]
  },
  {
   "cell_type": "markdown",
   "metadata": {},
   "source": [
    "## Unique Platforms"
   ]
  },
  {
   "cell_type": "markdown",
   "metadata": {},
   "source": [
    "Unique platforms"
   ]
  },
  {
   "cell_type": "code",
   "execution_count": 6,
   "metadata": {
    "collapsed": false
   },
   "outputs": [
    {
     "data": {
      "text/plain": [
       "array(['\"webglplayer\"', nan, '\"windowsplayer\"', '\"windowseditor\"',\n",
       "       '\"osxplayer\"', '\"android\"', '\"osxeditor\"'], dtype=object)"
      ]
     },
     "execution_count": 6,
     "metadata": {},
     "output_type": "execute_result"
    }
   ],
   "source": [
    "platforms = df[\"customData.platform\"].unique()\n",
    "platforms"
   ]
  },
  {
   "cell_type": "code",
   "execution_count": 7,
   "metadata": {
    "collapsed": false
   },
   "outputs": [
    {
     "name": "stdout",
     "output_type": "stream",
     "text": [
      "platforms.head()=\n"
     ]
    },
    {
     "ename": "AttributeError",
     "evalue": "'numpy.ndarray' object has no attribute 'head'",
     "output_type": "error",
     "traceback": [
      "\u001b[0;31m---------------------------------------------------------------------------\u001b[0m",
      "\u001b[0;31mAttributeError\u001b[0m                            Traceback (most recent call last)",
      "\u001b[0;32m<ipython-input-7-0d08d725fc85>\u001b[0m in \u001b[0;36m<module>\u001b[0;34m()\u001b[0m\n\u001b[1;32m      1\u001b[0m \u001b[0;32mprint\u001b[0m \u001b[0;34m'platforms.head()='\u001b[0m\u001b[0;34m\u001b[0m\u001b[0m\n\u001b[0;32m----> 2\u001b[0;31m \u001b[0mplatforms\u001b[0m\u001b[0;34m.\u001b[0m\u001b[0mhead\u001b[0m\u001b[0;34m(\u001b[0m\u001b[0;34m)\u001b[0m\u001b[0;34m\u001b[0m\u001b[0m\n\u001b[0m",
      "\u001b[0;31mAttributeError\u001b[0m: 'numpy.ndarray' object has no attribute 'head'"
     ]
    }
   ],
   "source": [
    "print 'platforms.head()='\n",
    "platforms.head()"
   ]
  }
 ],
 "metadata": {
  "kernelspec": {
   "display_name": "Python 2",
   "language": "python",
   "name": "python2"
  },
  "language_info": {
   "codemirror_mode": {
    "name": "ipython",
    "version": 2
   },
   "file_extension": ".py",
   "mimetype": "text/x-python",
   "name": "python",
   "nbconvert_exporter": "python",
   "pygments_lexer": "ipython2",
   "version": "2.7.10"
  }
 },
 "nbformat": 4,
 "nbformat_minor": 0
}
