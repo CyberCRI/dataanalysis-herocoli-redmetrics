{
 "cells": [
  {
   "cell_type": "markdown",
   "metadata": {},
   "source": [
    "# Preparation"
   ]
  },
  {
   "cell_type": "code",
   "execution_count": null,
   "metadata": {},
   "outputs": [],
   "source": [
    "%matplotlib inline\n",
    "\n",
    "import numpy as np\n",
    "import pandas as pd\n",
    "import matplotlib.pyplot as plt \n",
    "import seaborn as sns\n",
    "import re\n",
    "\n",
    "from random import randint\n",
    "from ipywidgets import FloatProgress,IntProgress,IntText\n",
    "from IPython.display import display"
   ]
  },
  {
   "cell_type": "code",
   "execution_count": null,
   "metadata": {},
   "outputs": [],
   "source": [
    "pd.__version__"
   ]
  },
  {
   "cell_type": "code",
   "execution_count": null,
   "metadata": {},
   "outputs": [],
   "source": [
    "np.__version__"
   ]
  },
  {
   "cell_type": "markdown",
   "metadata": {},
   "source": [
    "### common variables"
   ]
  },
  {
   "cell_type": "code",
   "execution_count": null,
   "metadata": {},
   "outputs": [],
   "source": [
    "dataFilesNamesStem = \"2018-02-07\"\n",
    "dataFolderPath = \"../../data/\"\n",
    "csvEncoding = 'utf-8'"
   ]
  },
  {
   "cell_type": "code",
   "execution_count": null,
   "metadata": {},
   "outputs": [],
   "source": [
    "checkpointsStem = \"tutorial1.Checkpoint\""
   ]
  },
  {
   "cell_type": "markdown",
   "metadata": {},
   "source": [
    "### columns"
   ]
  },
  {
   "cell_type": "code",
   "execution_count": null,
   "metadata": {},
   "outputs": [],
   "source": [
    "# In RedMetrics data, 'playerId' is actually a session ID.\n",
    "# Permanent player IDs are stored as 'localplayerguid' in 'customdata' attached to 'start' events.\n",
    "minimalInitializationColumns = ['customData.localplayerguid']\n",
    "initializationColumns = ['customData.localplayerguid', 'playerId', 'type', 'serverTime', 'customData.platform']\n",
    "relevantColumns = ['sessionId', 'serverTime', 'userId', 'customData.platform']\n",
    "playerFilteringColumns = ['sessionId', 'userId', 'customData.platform', 'serverTime']\n",
    "checkpointsRelevantColumns = ['sessionId', 'userId', 'type', 'section']"
   ]
  },
  {
   "cell_type": "markdown",
   "metadata": {},
   "source": [
    "### dataframes for the different game versions"
   ]
  },
  {
   "cell_type": "code",
   "execution_count": null,
   "metadata": {},
   "outputs": [],
   "source": [
    "def getNormalizedRedMetricsCSV( df ):\n",
    "    newColumns = np.unique(np.concatenate((minimalInitializationColumns, df.columns.values)))\n",
    "    return safeGetNormalizedRedMetricsCSV(df.loc[:,newColumns])\n",
    "\n",
    "def safeGetNormalizedRedMetricsCSV( df ):\n",
    "    return df.rename(index=str, columns={'customData.localplayerguid' : 'userId', 'playerId': 'sessionId'})"
   ]
  },
  {
   "cell_type": "code",
   "execution_count": null,
   "metadata": {},
   "outputs": [],
   "source": [
    "relevantColumns = ['customData.localplayerguid', 'playerId', 'type']\n",
    "renamedRelevantColumns = ['userId', 'sessionId', 'type']"
   ]
  },
  {
   "cell_type": "markdown",
   "metadata": {},
   "source": [
    "# Old versions"
   ]
  },
  {
   "cell_type": "markdown",
   "metadata": {},
   "source": [
    "rdf100 = pd.read_csv(\"../../data/1.0.csv\")\n",
    "rdf131 = pd.read_csv(\"../../data/1.31.csv\")\n",
    "rdf132 = pd.read_csv(\"../../data/1.32.csv\")\n",
    "rdf133 = pd.read_csv(\"../../data/1.33.csv\")\n",
    "rdf140 = pd.read_csv(\"../../data/1.40.csv\")\n",
    "rdf150 = pd.read_csv(\"../../data/1.50.csv\")\n",
    "rdf151 = pd.read_csv(\"../../data/1.51.csv\")\n",
    "\n",
    "part100 = rdf100.loc[:,relevantColumns]\n",
    "part131 = rdf131.loc[:,relevantColumns]\n",
    "part132 = rdf132.loc[:,relevantColumns]\n",
    "part133 = rdf133.loc[:,relevantColumns]\n",
    "part140 = rdf140.loc[:,relevantColumns]\n",
    "part150 = rdf150.loc[:,relevantColumns]\n",
    "part151 = rdf151.loc[:,relevantColumns]"
   ]
  },
  {
   "cell_type": "markdown",
   "metadata": {},
   "source": [
    "# Tests"
   ]
  },
  {
   "cell_type": "markdown",
   "metadata": {},
   "source": [
    "rdftest = pd.read_csv(\"../../data/2017-10-11.test.csv\")\n",
    "dftest = getNormalizedRedMetricsCSV(rdftest)"
   ]
  },
  {
   "cell_type": "markdown",
   "metadata": {},
   "source": [
    "# Version 1.52"
   ]
  },
  {
   "cell_type": "code",
   "execution_count": null,
   "metadata": {},
   "outputs": [],
   "source": [
    "# date string to pd.Timestamp\n",
    "#  RedMetrics timestamps are always UTC according to doc\n",
    "#  https://github.com/CyberCRI/RedMetrics/blob/master/API.md\n",
    "dateparse = lambda x: pd.to_datetime(x, utc=True)"
   ]
  },
  {
   "cell_type": "code",
   "execution_count": null,
   "metadata": {},
   "outputs": [],
   "source": [
    "## Try loading the pre-processed dataframe\n",
    "processedRMDF152Path = dataFolderPath + dataFilesNamesStem + \".1.52-processed.csv\"\n",
    "processRMDF152 = False\n",
    "try:\n",
    "    rmdf152 = pd.read_csv(\\\n",
    "                        processedRMDF152Path,\\\n",
    "                        dtype=str, parse_dates=['serverTime','userTime'],\\\n",
    "                        date_parser=dateparse,\\\n",
    "                       )\n",
    "    print(\"rmdf152 read_csv success\")\n",
    "except FileNotFoundError:\n",
    "    print(\"rmdf152 read_csv failed: now loading, processing, saving rmdf152\")\n",
    "    processRMDF152 = True"
   ]
  },
  {
   "cell_type": "markdown",
   "metadata": {},
   "source": [
    "## Filtering"
   ]
  },
  {
   "cell_type": "code",
   "execution_count": null,
   "metadata": {},
   "outputs": [],
   "source": [
    "def getAllSessions( _rmDF, dropna ):\n",
    "    _result = _rmDF.loc[:, renamedRelevantColumns]\n",
    "    _result = _result[_result['type']=='start']\n",
    "    _result = _result.drop('type', 1)\n",
    "    if dropna:\n",
    "        _result = _result.dropna(how='any')\n",
    "    return _result"
   ]
  },
  {
   "cell_type": "code",
   "execution_count": null,
   "metadata": {},
   "outputs": [],
   "source": [
    "# gets sessions which either:\n",
    "#  - have 'android' or '...editor' as platform\n",
    "#  - are in the RedMetrics test channel\n",
    "#  - belong to a user who has a session of the type above\n",
    "def getTestSessions(_rmDF, _rmTestDF):\n",
    "\n",
    "    # tables of association of user-sessions\n",
    "    rmDFUsersSessions = getAllSessions(_rmDF, False)\n",
    "    rmTestDFUsersSessions = getAllSessions(_rmTestDF, False)\n",
    "    userSessions = pd.concat([rmDFUsersSessions,rmTestDFUsersSessions])\n",
    "\n",
    "    #  - have 'android' or '...editor' as platform\n",
    "    rmDFTestSessions = set(_rmDF[_rmDF['customData.platform'].apply(lambda s: str(s).endswith('editor\"'))]['sessionId'])\n",
    "    rmDFTestSessions |= set(_rmDF[_rmDF['customData.platform'].isin(['\"android\"'])]['sessionId'])\n",
    "    #print(str(len(rmDFTestSessions)))\n",
    "\n",
    "    #  - are in the RedMetrics test channel\n",
    "    rmTestDFTestSessions = set(_rmTestDF['sessionId'])\n",
    "    #print(str(len(rmTestDFTestSessions)))\n",
    "\n",
    "    #  - belong to a user who has a session of the type above\n",
    "    # all the sessions above\n",
    "    testSessions = rmDFTestSessions | rmTestDFTestSessions\n",
    "    # all the users\n",
    "    rmDFTestUsers = set(rmDFUsersSessions[rmDFUsersSessions['sessionId'].isin(testSessions)]['userId'].dropna())\n",
    "    rmTestDFTestUsers = set(_rmTestDF['userId'].dropna())\n",
    "    testUsers = rmDFTestUsers | rmTestDFTestUsers\n",
    "    # all the sessions which belong to these users\n",
    "    result = set(rmDFUsersSessions[rmDFUsersSessions['userId'].isin(testUsers)]['sessionId'].dropna())\n",
    "\n",
    "    return result"
   ]
  },
  {
   "cell_type": "markdown",
   "metadata": {},
   "source": [
    "TOD: get rid of warning\n",
    "    \n",
    "    DtypeWarning: Columns (18,22,28,32,38) have mixed types. Specify dtype option on import or set low_memory=False.\n",
    "    interactivity=interactivity, compiler=compiler, result=result)\n",
    "\n",
    "using https://stackoverflow.com/questions/24251219/pandas-read-csv-low-memory-and-dtype-options"
   ]
  },
  {
   "cell_type": "markdown",
   "metadata": {},
   "source": [
    "## Loading\n",
    "### Data format fixes"
   ]
  },
  {
   "cell_type": "code",
   "execution_count": null,
   "metadata": {},
   "outputs": [],
   "source": [
    "def userIdConverter(uId):\n",
    "    sUID = str(uId)\n",
    "    if(sUID.startswith('n')):# == 'nan' or == 'null'):\n",
    "        return ''\n",
    "    else:\n",
    "        return sUID.replace('\"','')\n",
    "    \n",
    "loadColumnNames = ['id', 'serverTime', 'userTime',\\\n",
    "                   'playerId', 'playerCustomData',\\\n",
    "                   'type', 'coordinates','section',\\\n",
    "                   'customData.biobrick', 'customData.devices',\\\n",
    "                   'customData.slot', 'customData.sound',\\\n",
    "                   'customData','customData.duration',\\\n",
    "                   'customData.nanobot', 'customData.language',\\\n",
    "                   'customData.controls', 'customData.chapter',\\\n",
    "                   'customData.life','customData.source',\\\n",
    "                   'customData.platform','customData.localplayerguid',\\\n",
    "                   'customData.sametab', 'customData.device',\\\n",
    "                   'customData.energy', 'customData.option',\\\n",
    "                   'customData.newtab','customData.dnabit',\\\n",
    "                   'customData.count', 'customData.plasmid',\\\n",
    "                   'customData.total', 'customData.message',\\\n",
    "                   'customData.graphics']\n",
    "\n",
    "if(processRMDF152):\n",
    "    rmrdf152  = pd.read_csv(\\\n",
    "                            dataFolderPath + dataFilesNamesStem + \".1.52.csv\",\\\n",
    "                            dtype=str, parse_dates=['serverTime','userTime'],\\\n",
    "                            date_parser=dateparse,\\\n",
    "                            converters={'customData.localplayerguid':userIdConverter},\\\n",
    "#                            names=loadColumnNames,\\\n",
    "                         )\n",
    "    \n",
    "    rmrdftest = pd.read_csv(dataFolderPath + dataFilesNamesStem + \".test.csv\", dtype=str, parse_dates=['serverTime','userTime'],date_parser=dateparse)\n",
    "    \n",
    "    rmrdf152 = rmrdf152.loc[:,loadColumnNames]\n",
    "    rmrdftest = rmrdftest.loc[:,loadColumnNames]"
   ]
  },
  {
   "cell_type": "code",
   "execution_count": null,
   "metadata": {},
   "outputs": [],
   "source": [
    "if(processRMDF152):\n",
    "    part152 = rmrdf152.loc[:,relevantColumns]\n",
    "\n",
    "    normalizedRMDF152  = getNormalizedRedMetricsCSV(rmrdf152)\n",
    "    normalizedRMDFTest = getNormalizedRedMetricsCSV(rmrdftest)"
   ]
  },
  {
   "cell_type": "code",
   "execution_count": null,
   "metadata": {},
   "outputs": [],
   "source": [
    "if(processRMDF152):\n",
    "    testSessions = getTestSessions(_rmDF = normalizedRMDF152, _rmTestDF = normalizedRMDFTest)\n",
    "    rmdf152 = normalizedRMDF152[~normalizedRMDF152['sessionId'].isin(testSessions)]\n",
    "\n",
    "    #print(len(normalizedRMDF152['sessionId'].unique()),len(testSessions),len(rmdf152['sessionId'].unique()))"
   ]
  },
  {
   "cell_type": "code",
   "execution_count": null,
   "metadata": {
    "scrolled": true
   },
   "outputs": [],
   "source": [
    "if(processRMDF152):\n",
    "    userSessions = rmdf152[rmdf152['userId']!=''].loc[:,['userId','sessionId']]\n",
    "    \n",
    "    intProgress = IntProgress(min=0, max=len(userSessions.index))\n",
    "    display(intProgress)\n",
    "    intText = IntText(0)\n",
    "    display(intText)\n",
    "    \n",
    "    for userSessionsIndex in userSessions.index:\n",
    "        intProgress.value += 1\n",
    "        intText.value += 1\n",
    "        \n",
    "        userId = userSessions.loc[userSessionsIndex, 'userId']\n",
    "        sessionId = userSessions.loc[userSessionsIndex, 'sessionId']\n",
    "        rmdf152.loc[rmdf152['sessionId']==sessionId,'userId'] = userId"
   ]
  },
  {
   "cell_type": "code",
   "execution_count": null,
   "metadata": {},
   "outputs": [],
   "source": [
    "if(processRMDF152):\n",
    "    rmdf152['userId'].nunique(),userSessions['userId'].nunique(),\\\n",
    "    rmdf152[~rmdf152['userId'].isin(userSessions['userId'].unique())],\\\n",
    "    userSessions[~userSessions['userId'].isin(rmdf152['userId'].unique())]"
   ]
  },
  {
   "cell_type": "markdown",
   "metadata": {},
   "source": [
    "#### Saving to csv"
   ]
  },
  {
   "cell_type": "code",
   "execution_count": null,
   "metadata": {},
   "outputs": [],
   "source": [
    "if(processRMDF152):\n",
    "    rmdf152.to_csv(processedRMDF152Path, encoding=csvEncoding)"
   ]
  },
  {
   "cell_type": "markdown",
   "metadata": {},
   "source": [
    "# All versions"
   ]
  },
  {
   "cell_type": "markdown",
   "metadata": {},
   "source": [
    "rdf = pd.concat([part100, \n",
    "                      part131, part132, part133, \n",
    "                      part140, \n",
    "                      part150, part151, part152])\n",
    "\n",
    "df = getNormalizedRedMetricsCSV(rdf)"
   ]
  }
 ],
 "metadata": {
  "kernelspec": {
   "display_name": "Python [conda env:python3]",
   "language": "python",
   "name": "conda-env-python3-py"
  }
 },
 "nbformat": 4,
 "nbformat_minor": 1
}
