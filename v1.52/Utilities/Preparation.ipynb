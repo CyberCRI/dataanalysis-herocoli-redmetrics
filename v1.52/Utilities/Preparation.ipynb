{
 "cells": [
  {
   "cell_type": "markdown",
   "metadata": {},
   "source": [
    "# Preparation"
   ]
  },
  {
   "cell_type": "code",
   "execution_count": 1,
   "metadata": {
    "collapsed": true
   },
   "outputs": [],
   "source": [
    "%matplotlib inline\n",
    "\n",
    "import numpy as np\n",
    "import pandas as pd\n",
    "import matplotlib.pyplot as plt \n",
    "import seaborn as sns"
   ]
  },
  {
   "cell_type": "code",
   "execution_count": 2,
   "metadata": {
    "collapsed": false
   },
   "outputs": [
    {
     "data": {
      "text/plain": [
       "'0.20.3'"
      ]
     },
     "execution_count": 2,
     "metadata": {},
     "output_type": "execute_result"
    }
   ],
   "source": [
    "pd.__version__"
   ]
  },
  {
   "cell_type": "code",
   "execution_count": 3,
   "metadata": {
    "collapsed": false
   },
   "outputs": [
    {
     "data": {
      "text/plain": [
       "'1.13.1'"
      ]
     },
     "execution_count": 3,
     "metadata": {},
     "output_type": "execute_result"
    }
   ],
   "source": [
    "np.__version__"
   ]
  },
  {
   "cell_type": "markdown",
   "metadata": {},
   "source": [
    "### common variables"
   ]
  },
  {
   "cell_type": "code",
   "execution_count": 4,
   "metadata": {
    "collapsed": true
   },
   "outputs": [],
   "source": [
    "checkpointsStem = \"tutorial1.Checkpoint\";\n",
    "# used in Static data/Google form correct answers.ipynb'\n",
    "language = 'English'\n",
    "#language = 'French'"
   ]
  },
  {
   "cell_type": "markdown",
   "metadata": {},
   "source": [
    "### columns"
   ]
  },
  {
   "cell_type": "code",
   "execution_count": 5,
   "metadata": {
    "collapsed": true
   },
   "outputs": [],
   "source": [
    "# In RedMetrics data, 'playerId' is actually a session ID.\n",
    "# Permanent player IDs are stored as 'localplayerguid' in 'customdata' attached to 'start' events.\n",
    "minimalInitializationColumns = ['customData.localplayerguid']\n",
    "initializationColumns = ['customData.localplayerguid', 'playerId', 'type', 'serverTime', 'customData.platform']\n",
    "relevantColumns = ['sessionId', 'serverTime', 'userId', 'customData.platform']\n",
    "playerFilteringColumns = ['sessionId', 'userId', 'customData.platform', 'serverTime']\n",
    "checkpointsRelevantColumns = ['sessionId', 'userId', 'type', 'section']"
   ]
  },
  {
   "cell_type": "markdown",
   "metadata": {},
   "source": [
    "### dataframes for the different game versions"
   ]
  },
  {
   "cell_type": "code",
   "execution_count": 6,
   "metadata": {
    "collapsed": true
   },
   "outputs": [],
   "source": [
    "def getNormalizedRedMetricsCSV( df ):\n",
    "    newColumns = np.unique(np.concatenate((minimalInitializationColumns, df.columns.values)))\n",
    "    return safeGetNormalizedRedMetricsCSV(df.loc[:,newColumns])\n",
    "\n",
    "def safeGetNormalizedRedMetricsCSV( df ):\n",
    "    return df.rename(index=str, columns={'customData.localplayerguid' : 'userId', 'playerId': 'sessionId'})"
   ]
  },
  {
   "cell_type": "code",
   "execution_count": 7,
   "metadata": {
    "collapsed": false
   },
   "outputs": [
    {
     "name": "stderr",
     "output_type": "stream",
     "text": [
      "C:\\Users\\Mikael\\Anaconda3\\lib\\site-packages\\IPython\\core\\interactiveshell.py:2902: DtypeWarning: Columns (18,22,28,32,38) have mixed types. Specify dtype option on import or set low_memory=False.\n",
      "  interactivity=interactivity, compiler=compiler, result=result)\n",
      "C:\\Users\\Mikael\\Anaconda3\\lib\\site-packages\\IPython\\core\\interactiveshell.py:2902: DtypeWarning: Columns (14,15,16,17,18,20,21,22,25,26,27,30,33,34,35,36,37,38,39,40,41,42,43) have mixed types. Specify dtype option on import or set low_memory=False.\n",
      "  interactivity=interactivity, compiler=compiler, result=result)\n"
     ]
    }
   ],
   "source": [
    "rdf100 = pd.read_csv(\"../../data/1.0.csv\")\n",
    "rdf131 = pd.read_csv(\"../../data/1.31.csv\")\n",
    "rdf132 = pd.read_csv(\"../../data/1.32.csv\")\n",
    "rdf133 = pd.read_csv(\"../../data/1.33.csv\")\n",
    "rdf140 = pd.read_csv(\"../../data/1.40.csv\")\n",
    "rdf150 = pd.read_csv(\"../../data/1.50.csv\")\n",
    "rdf151 = pd.read_csv(\"../../data/1.51.csv\")\n",
    "rdf152 = pd.read_csv(\"../../data/2017-11-02.1.52.csv\")\n",
    "rdftest = pd.read_csv(\"../../data/2017-10-11.test.csv\")\n",
    "\n",
    "relevantColumns = ['customData.localplayerguid', 'playerId', 'type']\n",
    "renamedRelevantColumns = ['userId', 'sessionId', 'type']\n",
    "\n",
    "part100 = rdf100.loc[:,relevantColumns]\n",
    "part131 = rdf131.loc[:,relevantColumns]\n",
    "part132 = rdf132.loc[:,relevantColumns]\n",
    "part133 = rdf133.loc[:,relevantColumns]\n",
    "part140 = rdf140.loc[:,relevantColumns]\n",
    "part150 = rdf150.loc[:,relevantColumns]\n",
    "part151 = rdf151.loc[:,relevantColumns]\n",
    "part152 = rdf152.loc[:,relevantColumns]\n",
    "\n",
    "dfconcat = pd.concat([part100, \n",
    "                      part131, part132, part133, \n",
    "                      part140, \n",
    "                      part150, part151, part152])\n",
    "\n",
    "df = getNormalizedRedMetricsCSV(dfconcat)\n",
    "df152 = getNormalizedRedMetricsCSV(rdf152)\n",
    "\n",
    "rdf = getNormalizedRedMetricsCSV(pd.concat([rdf100,\n",
    "                  rdf131, rdf132, rdf133,\n",
    "                  rdf140,\n",
    "                  rdf150, rdf151, rdf152]))\n",
    "rdftest = getNormalizedRedMetricsCSV(rdftest)"
   ]
  },
  {
   "cell_type": "markdown",
   "metadata": {},
   "source": [
    "### user ids"
   ]
  },
  {
   "cell_type": "code",
   "execution_count": 8,
   "metadata": {
    "collapsed": true
   },
   "outputs": [],
   "source": [
    "arcadeCabinetID = '\"deb089c0-9be3-4b75-9b27-28963c77b10c\"';\n",
    "devPCID1 = '\"7412a447-8177-48e9-82c5-cb31032f76a9\"'\n",
    "devPCID2 = '\"7bb82da4-293a-4597-ba62-cc432b5898a5\"'\n",
    "devPCID3 = '\"2036f6f4-50a1-4f94-8d4e-bfca814bbda8\"'\n",
    "devPCID4 = '\"30d15b5f-2cf6-46c9-b187-c16a62f4259f\"'\n",
    "\n",
    "devPCID5 = '\"7825d421-d668-4481-898a-46b51efe40f0\"'\n",
    "devPCID6 = '\"97cdfb48-40e8-498e-afde-98f7290679f9\"'\n",
    "devPCID7 = '\"3161ae02-6abd-4834-8208-686c4cd5363c\"'\n",
    "# possibly a tablet: a4d4b030-9117-4331-ba48-90dc05a7e65a\n",
    "\n",
    "excludedIDs = ['null', devPCID1, devPCID2, devPCID3, devPCID4, devPCID5];"
   ]
  }
 ],
 "metadata": {
  "kernelspec": {
   "display_name": "Python 3",
   "language": "python",
   "name": "python3"
  },
  "language_info": {
   "codemirror_mode": {
    "name": "ipython",
    "version": 3
   },
   "file_extension": ".py",
   "mimetype": "text/x-python",
   "name": "python",
   "nbconvert_exporter": "python",
   "pygments_lexer": "ipython3",
   "version": "3.5.4"
  }
 },
 "nbformat": 4,
 "nbformat_minor": 0
}
