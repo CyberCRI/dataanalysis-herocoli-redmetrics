{
 "cells": [
  {
   "cell_type": "code",
   "execution_count": 29,
   "metadata": {
    "collapsed": true
   },
   "outputs": [],
   "source": [
    "%matplotlib inline\n",
    "\n",
    "import numpy as np\n",
    "import pandas as pd\n",
    "import matplotlib.pyplot as plt \n",
    "import seaborn as sns"
   ]
  },
  {
   "cell_type": "code",
   "execution_count": 30,
   "metadata": {
    "collapsed": false
   },
   "outputs": [
    {
     "data": {
      "text/plain": [
       "'0.20.3'"
      ]
     },
     "execution_count": 30,
     "metadata": {},
     "output_type": "execute_result"
    }
   ],
   "source": [
    "pd.__version__"
   ]
  },
  {
   "cell_type": "code",
   "execution_count": 31,
   "metadata": {
    "collapsed": false
   },
   "outputs": [
    {
     "data": {
      "text/plain": [
       "'1.13.1'"
      ]
     },
     "execution_count": 31,
     "metadata": {},
     "output_type": "execute_result"
    }
   ],
   "source": [
    "np.__version__"
   ]
  },
  {
   "cell_type": "code",
   "execution_count": 32,
   "metadata": {
    "collapsed": true
   },
   "outputs": [],
   "source": [
    "# In RedMetrics data, 'playerId' is actually a session ID.\n",
    "# Permanent player IDs are stored as 'localplayerguid' in 'customdata' attached to 'start' events.\n",
    "minimalInitializationColumns = ['customData.localplayerguid']\n",
    "initializationColumns = ['customData.localplayerguid', 'playerId', 'type', 'serverTime', 'customData.platform']\n",
    "relevantColumns = ['sessionId', 'serverTime', 'userId', 'customData.platform']\n",
    "playerFilteringColumns = ['sessionId', 'userId', 'customData.platform', 'serverTime']\n",
    "checkpointsRelevantColumns = ['sessionId', 'userId', 'type', 'section']\n",
    "checkpointsStem = \"tutorial1.Checkpoint\";\n",
    "\n",
    "arcadeCabinetID = '\"deb089c0-9be3-4b75-9b27-28963c77b10c\"';\n",
    "devPCID1 = '\"7412a447-8177-48e9-82c5-cb31032f76a9\"'\n",
    "devPCID2 = '\"7bb82da4-293a-4597-ba62-cc432b5898a5\"'\n",
    "devPCID3 = '\"2036f6f4-50a1-4f94-8d4e-bfca814bbda8\"'\n",
    "devPCID4 = '\"30d15b5f-2cf6-46c9-b187-c16a62f4259f\"'\n",
    "\n",
    "devPCID5 = '\"7825d421-d668-4481-898a-46b51efe40f0\"'\n",
    "devPCID6 = '\"97cdfb48-40e8-498e-afde-98f7290679f9\"'\n",
    "devPCID7 = '\"3161ae02-6abd-4834-8208-686c4cd5363c\"'\n",
    "# possibly a tablet: a4d4b030-9117-4331-ba48-90dc05a7e65a\n",
    "\n",
    "excludedIDs = ['null', devPCID1, devPCID2, devPCID3, devPCID4, devPCID5];\n",
    "\n",
    "# used in Static data/Google form correct answers.ipynb'\n",
    "language = 'English'\n",
    "#language = 'French'\n",
    "\n",
    "\n",
    "def getNormalizedRedMetricsCSV( df ):\n",
    "    newColumns = np.unique(np.concatenate((minimalInitializationColumns, df.columns.values)))\n",
    "    return safeGetNormalizedRedMetricsCSV(df.loc[:,newColumns])\n",
    "\n",
    "def safeGetNormalizedRedMetricsCSV( df ):\n",
    "    return df.rename(index=str, columns={'customData.localplayerguid' : 'userId', 'playerId': 'sessionId'})"
   ]
  },
  {
   "cell_type": "markdown",
   "metadata": {},
   "source": [
    "# Tests"
   ]
  },
  {
   "cell_type": "markdown",
   "metadata": {},
   "source": [
    "df2 = pd.DataFrame({\n",
    "\t'customData.localplayerguid' : 1,\n",
    "\t'playerId' : 2,\n",
    "\t'C' : 3,\n",
    "\t'D' : '4',\n",
    "\t'E' : pd.Categorical([\"test\",\"train\",\"test\",\"train\",\"test\",\"train\"]),\n",
    "\t'F' : 'aaaaaa'\n",
    "\t}, index=[0,1,2,3,4,5])\n",
    "df2"
   ]
  },
  {
   "cell_type": "markdown",
   "metadata": {},
   "source": [
    "newColumns = np.unique(np.concatenate((minimalInitializationColumns, df2.columns.values)))\n",
    "newColumns"
   ]
  },
  {
   "cell_type": "markdown",
   "metadata": {},
   "source": [
    "df3 = df2.loc[:,newColumns]\n",
    "df3"
   ]
  },
  {
   "cell_type": "markdown",
   "metadata": {},
   "source": [
    "df4 = df3.rename(index=str, columns={'customData.localplayerguid' : 'userId', 'playerId': 'sessionId'})\n",
    "df4"
   ]
  },
  {
   "cell_type": "markdown",
   "metadata": {},
   "source": [
    "df5 = getNormalizedRedMetricsCSV( df2 )\n",
    "df5"
   ]
  }
 ],
 "metadata": {
  "kernelspec": {
   "display_name": "Python 3",
   "language": "python",
   "name": "python3"
  },
  "language_info": {
   "codemirror_mode": {
    "name": "ipython",
    "version": 3
   },
   "file_extension": ".py",
   "mimetype": "text/x-python",
   "name": "python",
   "nbconvert_exporter": "python",
   "pygments_lexer": "ipython3",
   "version": "3.5.4"
  }
 },
 "nbformat": 4,
 "nbformat_minor": 0
}
