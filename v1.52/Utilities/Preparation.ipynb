{
 "cells": [
  {
   "cell_type": "markdown",
   "metadata": {},
   "source": [
    "# Preparation\n",
    "\n",
    "Imports libraries\n",
    "\n",
    "Loads RedMetrics data"
   ]
  },
  {
   "cell_type": "code",
   "execution_count": null,
   "metadata": {},
   "outputs": [],
   "source": [
    "%matplotlib inline\n",
    "\n",
    "import numpy as np\n",
    "import pandas as pd\n",
    "import matplotlib.pyplot as plt \n",
    "import seaborn as sns\n",
    "import re\n",
    "import json\n",
    "\n",
    "from random import randint\n",
    "from ipywidgets import FloatProgress,IntProgress,IntText\n",
    "from IPython.display import display"
   ]
  },
  {
   "cell_type": "code",
   "execution_count": null,
   "metadata": {},
   "outputs": [],
   "source": [
    "pd.__version__"
   ]
  },
  {
   "cell_type": "code",
   "execution_count": null,
   "metadata": {},
   "outputs": [],
   "source": [
    "np.__version__"
   ]
  },
  {
   "cell_type": "code",
   "execution_count": null,
   "metadata": {},
   "outputs": [],
   "source": [
    "processRMDF152 = not ('rmdf152' in globals())\n",
    "processRMDFTest = not ('rmrdftest' in globals())"
   ]
  },
  {
   "cell_type": "markdown",
   "metadata": {},
   "source": [
    "### common variables"
   ]
  },
  {
   "cell_type": "code",
   "execution_count": null,
   "metadata": {},
   "outputs": [],
   "source": [
    "dataFilesNamesStem = \"2018-03-23\"\n",
    "dataFolderPath = \"../../data/\"\n",
    "csvEncoding = 'utf-8'\n",
    "\n",
    "checkpointsStem = \"tutorial1.Checkpoint\""
   ]
  },
  {
   "cell_type": "markdown",
   "metadata": {},
   "source": [
    "# Version 1.52"
   ]
  },
  {
   "cell_type": "code",
   "execution_count": null,
   "metadata": {},
   "outputs": [],
   "source": [
    "if processRMDF152 or processRMDFTest:\n",
    "    # date string to pd.Timestamp\n",
    "    #  RedMetrics timestamps are always UTC according to doc\n",
    "    #  https://github.com/CyberCRI/RedMetrics/blob/master/API.md\n",
    "    dateparse = lambda x: pd.to_datetime(x, utc=True)\n",
    "\n",
    "if processRMDF152:\n",
    "    ## Try loading the pre-processed dataframe\n",
    "    processedRMDF152Path = dataFolderPath + dataFilesNamesStem + \".1.52-processed.csv\"\n",
    "    testUsers152Path = dataFolderPath + dataFilesNamesStem + \".1.52-testUsers.csv\"\n",
    "    processRMDF152 = False\n",
    "    try:\n",
    "        rmdf152 = pd.read_csv(\\\n",
    "                            processedRMDF152Path,\\\n",
    "                            dtype=str, parse_dates=['serverTime','userTime'],\\\n",
    "                            date_parser=dateparse,\\\n",
    "                           )\n",
    "        testUsers = pd.read_csv(testUsers152Path, dtype=str).loc[:,['userId']]\n",
    "        print(\"rmdf152 read_csv success\")\n",
    "    except FileNotFoundError:\n",
    "        print(\"rmdf152 read_csv failed: now loading, processing, saving rmdf152\")\n",
    "        processRMDF152 = True"
   ]
  },
  {
   "cell_type": "markdown",
   "metadata": {},
   "source": [
    "### columns"
   ]
  },
  {
   "cell_type": "code",
   "execution_count": null,
   "metadata": {},
   "outputs": [],
   "source": [
    "if processRMDF152 or processRMDFTest:\n",
    "    # In RedMetrics data, 'playerId' is actually a session ID.\n",
    "    # Permanent player IDs are stored as 'localplayerguid' in 'customdata' attached to 'start' events.\n",
    "    minimalInitializationColumns = ['customData.localplayerguid']\n",
    "    initializationColumns = ['customData.localplayerguid', 'playerId', 'type', 'serverTime', 'customData.platform']\n",
    "    relevantColumns = ['sessionId', 'serverTime', 'userId', 'customData.platform']\n",
    "    playerFilteringColumns = ['sessionId', 'userId', 'customData.platform', 'serverTime']\n",
    "    checkpointsRelevantColumns = ['sessionId', 'userId', 'type', 'section']"
   ]
  },
  {
   "cell_type": "markdown",
   "metadata": {},
   "source": [
    "### dataframes for the different game versions"
   ]
  },
  {
   "cell_type": "code",
   "execution_count": null,
   "metadata": {},
   "outputs": [],
   "source": [
    "if processRMDF152 or processRMDFTest:\n",
    "    def getNormalizedRedMetricsCSV( df ):\n",
    "        newColumns = np.unique(np.concatenate((minimalInitializationColumns, df.columns.values)))\n",
    "        return safeGetNormalizedRedMetricsCSV(df.loc[:,newColumns])\n",
    "\n",
    "    def safeGetNormalizedRedMetricsCSV( df ):\n",
    "        return df.rename(index=str, columns={'customData.localplayerguid' : 'userId', 'playerId': 'sessionId'})\n",
    "\n",
    "    relevantColumns = ['customData.localplayerguid', 'playerId', 'type']\n",
    "    renamedRelevantColumns = ['userId', 'sessionId', 'type']"
   ]
  },
  {
   "cell_type": "markdown",
   "metadata": {},
   "source": [
    "# Old versions"
   ]
  },
  {
   "cell_type": "markdown",
   "metadata": {},
   "source": [
    "rdf100 = pd.read_csv(\"../../data/1.0.csv\")\n",
    "rdf131 = pd.read_csv(\"../../data/1.31.csv\")\n",
    "rdf132 = pd.read_csv(\"../../data/1.32.csv\")\n",
    "rdf133 = pd.read_csv(\"../../data/1.33.csv\")\n",
    "rdf140 = pd.read_csv(\"../../data/1.40.csv\")\n",
    "rdf150 = pd.read_csv(\"../../data/1.50.csv\")\n",
    "rdf151 = pd.read_csv(\"../../data/1.51.csv\")\n",
    "\n",
    "part100 = rdf100.loc[:,relevantColumns]\n",
    "part131 = rdf131.loc[:,relevantColumns]\n",
    "part132 = rdf132.loc[:,relevantColumns]\n",
    "part133 = rdf133.loc[:,relevantColumns]\n",
    "part140 = rdf140.loc[:,relevantColumns]\n",
    "part150 = rdf150.loc[:,relevantColumns]\n",
    "part151 = rdf151.loc[:,relevantColumns]"
   ]
  },
  {
   "cell_type": "markdown",
   "metadata": {},
   "source": [
    "# Tests"
   ]
  },
  {
   "cell_type": "markdown",
   "metadata": {},
   "source": [
    "rdftest = pd.read_csv(\"../../data/2017-10-11.test.csv\")\n",
    "dftest = getNormalizedRedMetricsCSV(rdftest)"
   ]
  },
  {
   "cell_type": "markdown",
   "metadata": {},
   "source": [
    "## Filtering"
   ]
  },
  {
   "cell_type": "code",
   "execution_count": null,
   "metadata": {},
   "outputs": [],
   "source": [
    "if processRMDF152:\n",
    "    \n",
    "    def getAllSessions( _rmDF, dropna ):\n",
    "        _result = _rmDF.loc[:, renamedRelevantColumns]\n",
    "        _result = _result[_result['type']=='start']\n",
    "        _result = _result.drop('type', 1)\n",
    "        if dropna:\n",
    "            _result = _result.dropna(how='any')\n",
    "        return _result\n",
    "\n",
    "    def getTestSessions(_rmDF, _rmTestDF, includeAndroid = True, includeEditor = True, includeTest = True):\n",
    "\n",
    "        rmDFTestSessions = set()\n",
    "        rmTestDFTestSessions = set()\n",
    "\n",
    "        #  - have 'android' or '...editor' as platform\n",
    "        if(includeAndroid):\n",
    "            rmDFTestSessions |= set(_rmDF[_rmDF['customData.platform'].isin(['\"android\"'])]['sessionId'])\n",
    "        if(includeEditor):\n",
    "            rmDFTestSessions |= set(_rmDF[_rmDF['customData.platform'].apply(lambda s: str(s).endswith('editor\"'))]['sessionId'])\n",
    "        #print(str(len(rmDFTestSessions)))\n",
    "\n",
    "        #  - are in the RedMetrics test channel\n",
    "        if(includeTest):\n",
    "            rmTestDFTestSessions = set(_rmTestDF['sessionId'])\n",
    "        #print(str(len(rmTestDFTestSessions)))\n",
    "\n",
    "        #  - belong to a user who has a session of the type above\n",
    "        # all the sessions above\n",
    "        testSessions = rmDFTestSessions | rmTestDFTestSessions\n",
    "\n",
    "        return testSessions\n",
    "\n",
    "    # gets sessions which either:\n",
    "    #  - have 'android' or '...editor' as platform\n",
    "    #  - are in the RedMetrics test channel\n",
    "    #  - belong to a user who has a session of the type above\n",
    "    def getTestUsersSessions(_rmDF, _rmTestDF, includeAndroid = True, includeEditor = True, includeTest = True):\n",
    "\n",
    "        # tables of association of user-sessions\n",
    "        rmDFUsersSessions = getAllSessions(_rmDF, False)\n",
    "        rmTestDFUsersSessions = getAllSessions(_rmTestDF, False)\n",
    "        userSessions = pd.concat([rmDFUsersSessions,rmTestDFUsersSessions])\n",
    "\n",
    "        testSessions = getTestSessions(_rmDF, _rmTestDF,\n",
    "                                       includeAndroid = includeAndroid, includeEditor = includeEditor, includeTest = includeTest)\n",
    "\n",
    "        # all the users\n",
    "        rmDFTestUsers = set(rmDFUsersSessions[rmDFUsersSessions['sessionId'].isin(testSessions)]['userId'].dropna())\n",
    "        rmTestDFTestUsers = set(_rmTestDF['userId'].dropna())\n",
    "        rmTestDFTestUsers.remove('')\n",
    "        testUsers = rmDFTestUsers | rmTestDFTestUsers\n",
    "        # all the sessions which belong to these users\n",
    "        allTestSessions = set(rmDFUsersSessions[rmDFUsersSessions['userId'].isin(testUsers)]['sessionId'].dropna())\n",
    "\n",
    "        return (testUsers,allTestSessions)"
   ]
  },
  {
   "cell_type": "markdown",
   "metadata": {},
   "source": [
    "TOD: get rid of warning\n",
    "    \n",
    "    DtypeWarning: Columns (18,22,28,32,38) have mixed types. Specify dtype option on import or set low_memory=False.\n",
    "    interactivity=interactivity, compiler=compiler, result=result)\n",
    "\n",
    "using https://stackoverflow.com/questions/24251219/pandas-read-csv-low-memory-and-dtype-options"
   ]
  },
  {
   "cell_type": "markdown",
   "metadata": {},
   "source": [
    "## Loading\n",
    "### Data format fixes"
   ]
  },
  {
   "cell_type": "code",
   "execution_count": null,
   "metadata": {},
   "outputs": [],
   "source": [
    "if processRMDF152 or processRMDFTest:\n",
    "    \n",
    "    def userIdConverter(uId):\n",
    "        sUID = str(uId)\n",
    "        if(sUID.startswith('n')):# == 'nan' or == 'null'):\n",
    "            return ''\n",
    "        else:\n",
    "            return sUID.replace('\"','')\n",
    "\n",
    "    loadColumnNames = ['id', 'serverTime', 'userTime',\\\n",
    "                       'playerId', 'playerCustomData',\\\n",
    "                       'type', 'coordinates','section',\\\n",
    "                       'customData.biobrick', 'customData.devices',\\\n",
    "                       'customData.slot', 'customData.sound',\\\n",
    "                       'customData','customData.duration',\\\n",
    "                       'customData.nanobot', 'customData.language',\\\n",
    "                       'customData.controls', 'customData.chapter',\\\n",
    "                       'customData.life','customData.source',\\\n",
    "                       'customData.platform','customData.localplayerguid',\\\n",
    "                       'customData.sametab', 'customData.device',\\\n",
    "                       'customData.energy', 'customData.option',\\\n",
    "                       'customData.newtab','customData.dnabit',\\\n",
    "                       'customData.count', 'customData.plasmid',\\\n",
    "                       'customData.total', 'customData.message',\\\n",
    "                       'customData.graphics']"
   ]
  },
  {
   "cell_type": "markdown",
   "metadata": {},
   "source": [
    "### RMDFTest loading"
   ]
  },
  {
   "cell_type": "code",
   "execution_count": null,
   "metadata": {},
   "outputs": [],
   "source": [
    "# necessary variables for RMDFTest loading:\n",
    "# dataFolderPath\n",
    "# dataFilesNamesStem\n",
    "# dateparse\n",
    "# userIdConverter\n",
    "# loadColumnNames\n",
    "# getNormalizedRedMetricsCSV"
   ]
  },
  {
   "cell_type": "code",
   "execution_count": null,
   "metadata": {},
   "outputs": [],
   "source": [
    "if processRMDFTest:\n",
    "    rmrdftest = pd.read_csv(\\\n",
    "                                dataFolderPath + dataFilesNamesStem + \".test.csv\",\\\n",
    "                                dtype=str,\\\n",
    "                                parse_dates=['serverTime','userTime'],\\\n",
    "                                date_parser=dateparse,\\\n",
    "                                converters={'customData.localplayerguid':userIdConverter},\\\n",
    "                           )\n",
    "    rmrdftest = rmrdftest.loc[:,loadColumnNames]\n",
    "    normalizedRMDFTest = getNormalizedRedMetricsCSV(rmrdftest)\n",
    "\n",
    "\n",
    "if(processRMDF152):\n",
    "    \n",
    "    rmrdf152  = pd.read_csv(\\\n",
    "                            dataFolderPath + dataFilesNamesStem + \".1.52.csv\",\\\n",
    "                            dtype=str,\\\n",
    "                            parse_dates=['serverTime','userTime'],\\\n",
    "                            date_parser=dateparse,\\\n",
    "                            converters={'customData.localplayerguid':userIdConverter},\\\n",
    "                         )\n",
    "    rmrdf152 = rmrdf152.loc[:,loadColumnNames]\n",
    "    part152 = rmrdf152.loc[:,relevantColumns]\n",
    "    normalizedRMDF152  = getNormalizedRedMetricsCSV(rmrdf152)\n",
    "\n",
    "    (testUsers, allTestSessions) = getTestUsersSessions(_rmDF = normalizedRMDF152, _rmTestDF = normalizedRMDFTest)\n",
    "    rmdf152 = normalizedRMDF152[~normalizedRMDF152['sessionId'].isin(allTestSessions)]\n",
    "    \n",
    "    testUsers = pd.DataFrame(data=list(testUsers), columns=['userId'])\n",
    "    testUsers.to_csv(testUsers152Path, encoding=csvEncoding)\n",
    "\n",
    "    userSessions = rmdf152[rmdf152['userId']!=''].loc[:,['userId','sessionId']]\n",
    "    \n",
    "    intProgress = IntProgress(min=0, max=len(userSessions.index))\n",
    "    display(intProgress)\n",
    "    intText = IntText(0)\n",
    "    display(intText)\n",
    "    \n",
    "    for userSessionsIndex in userSessions.index:\n",
    "        intProgress.value += 1\n",
    "        intText.value += 1\n",
    "        \n",
    "        userId = userSessions.loc[userSessionsIndex, 'userId']\n",
    "        sessionId = userSessions.loc[userSessionsIndex, 'sessionId']\n",
    "        rmdf152.loc[rmdf152['sessionId']==sessionId,'userId'] = userId\n",
    "\n",
    "    rmdf152['userId'].nunique(),userSessions['userId'].nunique(),\\\n",
    "    rmdf152[~rmdf152['userId'].isin(userSessions['userId'].unique())],\\\n",
    "    userSessions[~userSessions['userId'].isin(rmdf152['userId'].unique())]"
   ]
  },
  {
   "cell_type": "markdown",
   "metadata": {},
   "source": [
    "#### Saving to csv"
   ]
  },
  {
   "cell_type": "code",
   "execution_count": null,
   "metadata": {},
   "outputs": [],
   "source": [
    "if(processRMDF152):\n",
    "    rmdf152.to_csv(processedRMDF152Path, encoding=csvEncoding)"
   ]
  },
  {
   "cell_type": "markdown",
   "metadata": {},
   "source": [
    "# All versions"
   ]
  },
  {
   "cell_type": "markdown",
   "metadata": {},
   "source": [
    "rdf = pd.concat([part100, \n",
    "                      part131, part132, part133, \n",
    "                      part140, \n",
    "                      part150, part151, part152])\n",
    "\n",
    "df = getNormalizedRedMetricsCSV(rdf)"
   ]
  }
 ],
 "metadata": {
  "kernelspec": {
   "display_name": "Python [conda env:python3]",
   "language": "python",
   "name": "conda-env-python3-py"
  },
  "language_info": {
   "codemirror_mode": {
    "name": "ipython",
    "version": 3
   },
   "file_extension": ".py",
   "mimetype": "text/x-python",
   "name": "python",
   "nbconvert_exporter": "python",
   "pygments_lexer": "ipython3",
   "version": "3.5.4"
  }
 },
 "nbformat": 4,
 "nbformat_minor": 1
}
