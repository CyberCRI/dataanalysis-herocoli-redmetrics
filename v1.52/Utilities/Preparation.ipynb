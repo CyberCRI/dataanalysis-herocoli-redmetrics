{
 "cells": [
  {
   "cell_type": "markdown",
   "metadata": {},
   "source": [
    "# Preparation"
   ]
  },
  {
   "cell_type": "code",
   "execution_count": null,
   "metadata": {},
   "outputs": [],
   "source": [
    "%matplotlib inline\n",
    "\n",
    "import numpy as np\n",
    "import pandas as pd\n",
    "import matplotlib.pyplot as plt \n",
    "import seaborn as sns\n",
    "\n",
    "from ipywidgets import FloatProgress\n",
    "from IPython.display import display"
   ]
  },
  {
   "cell_type": "code",
   "execution_count": null,
   "metadata": {},
   "outputs": [],
   "source": [
    "pd.__version__"
   ]
  },
  {
   "cell_type": "code",
   "execution_count": null,
   "metadata": {},
   "outputs": [],
   "source": [
    "np.__version__"
   ]
  },
  {
   "cell_type": "markdown",
   "metadata": {},
   "source": [
    "### common variables"
   ]
  },
  {
   "cell_type": "code",
   "execution_count": null,
   "metadata": {},
   "outputs": [],
   "source": [
    "checkpointsStem = \"tutorial1.Checkpoint\";"
   ]
  },
  {
   "cell_type": "markdown",
   "metadata": {},
   "source": [
    "### columns"
   ]
  },
  {
   "cell_type": "code",
   "execution_count": null,
   "metadata": {},
   "outputs": [],
   "source": [
    "# In RedMetrics data, 'playerId' is actually a session ID.\n",
    "# Permanent player IDs are stored as 'localplayerguid' in 'customdata' attached to 'start' events.\n",
    "minimalInitializationColumns = ['customData.localplayerguid']\n",
    "initializationColumns = ['customData.localplayerguid', 'playerId', 'type', 'serverTime', 'customData.platform']\n",
    "relevantColumns = ['sessionId', 'serverTime', 'userId', 'customData.platform']\n",
    "playerFilteringColumns = ['sessionId', 'userId', 'customData.platform', 'serverTime']\n",
    "checkpointsRelevantColumns = ['sessionId', 'userId', 'type', 'section']"
   ]
  },
  {
   "cell_type": "markdown",
   "metadata": {},
   "source": [
    "### dataframes for the different game versions"
   ]
  },
  {
   "cell_type": "code",
   "execution_count": null,
   "metadata": {},
   "outputs": [],
   "source": [
    "def getNormalizedRedMetricsCSV( df ):\n",
    "    newColumns = np.unique(np.concatenate((minimalInitializationColumns, df.columns.values)))\n",
    "    return safeGetNormalizedRedMetricsCSV(df.loc[:,newColumns])\n",
    "\n",
    "def safeGetNormalizedRedMetricsCSV( df ):\n",
    "    return df.rename(index=str, columns={'customData.localplayerguid' : 'userId', 'playerId': 'sessionId'})"
   ]
  },
  {
   "cell_type": "code",
   "execution_count": null,
   "metadata": {},
   "outputs": [],
   "source": [
    "relevantColumns = ['customData.localplayerguid', 'playerId', 'type']\n",
    "renamedRelevantColumns = ['userId', 'sessionId', 'type']"
   ]
  },
  {
   "cell_type": "markdown",
   "metadata": {},
   "source": [
    "# Old versions"
   ]
  },
  {
   "cell_type": "markdown",
   "metadata": {},
   "source": [
    "rdf100 = pd.read_csv(\"../../data/1.0.csv\")\n",
    "rdf131 = pd.read_csv(\"../../data/1.31.csv\")\n",
    "rdf132 = pd.read_csv(\"../../data/1.32.csv\")\n",
    "rdf133 = pd.read_csv(\"../../data/1.33.csv\")\n",
    "rdf140 = pd.read_csv(\"../../data/1.40.csv\")\n",
    "rdf150 = pd.read_csv(\"../../data/1.50.csv\")\n",
    "rdf151 = pd.read_csv(\"../../data/1.51.csv\")\n",
    "\n",
    "part100 = rdf100.loc[:,relevantColumns]\n",
    "part131 = rdf131.loc[:,relevantColumns]\n",
    "part132 = rdf132.loc[:,relevantColumns]\n",
    "part133 = rdf133.loc[:,relevantColumns]\n",
    "part140 = rdf140.loc[:,relevantColumns]\n",
    "part150 = rdf150.loc[:,relevantColumns]\n",
    "part151 = rdf151.loc[:,relevantColumns]"
   ]
  },
  {
   "cell_type": "markdown",
   "metadata": {},
   "source": [
    "# Tests"
   ]
  },
  {
   "cell_type": "markdown",
   "metadata": {},
   "source": [
    "rdftest = pd.read_csv(\"../../data/2017-10-11.test.csv\")\n",
    "dftest = getNormalizedRedMetricsCSV(rdftest)"
   ]
  },
  {
   "cell_type": "markdown",
   "metadata": {},
   "source": [
    "# Version 1.52"
   ]
  },
  {
   "cell_type": "code",
   "execution_count": null,
   "metadata": {},
   "outputs": [],
   "source": [
    "dataFilesNamesStem = \"2018-01-15\"\n",
    "\n",
    "rdf152 = pd.read_csv(\"../../data/\" + dataFilesNamesStem + \".1.52.csv\")\n",
    "\n",
    "part152 = rdf152.loc[:,relevantColumns]\n",
    "\n",
    "df152 = getNormalizedRedMetricsCSV(rdf152)"
   ]
  },
  {
   "cell_type": "markdown",
   "metadata": {},
   "source": [
    "# All versions"
   ]
  },
  {
   "cell_type": "markdown",
   "metadata": {},
   "source": [
    "rdf = pd.concat([part100, \n",
    "                      part131, part132, part133, \n",
    "                      part140, \n",
    "                      part150, part151, part152])\n",
    "\n",
    "df = getNormalizedRedMetricsCSV(rdf)"
   ]
  },
  {
   "cell_type": "markdown",
   "metadata": {},
   "source": [
    "### user ids"
   ]
  },
  {
   "cell_type": "markdown",
   "metadata": {},
   "source": [
    "#### TODO FIXME automatize through switchversion events or using tests' logs *dftest*"
   ]
  },
  {
   "cell_type": "code",
   "execution_count": null,
   "metadata": {},
   "outputs": [],
   "source": [
    "arcadeCabinetID = '\"deb089c0-9be3-4b75-9b27-28963c77b10c\"';\n",
    "devPCID1 = '\"7412a447-8177-48e9-82c5-cb31032f76a9\"'\n",
    "devPCID2 = '\"7bb82da4-293a-4597-ba62-cc432b5898a5\"'\n",
    "devPCID3 = '\"2036f6f4-50a1-4f94-8d4e-bfca814bbda8\"'\n",
    "devPCID4 = '\"30d15b5f-2cf6-46c9-b187-c16a62f4259f\"'\n",
    "\n",
    "devPCID5 = '\"7825d421-d668-4481-898a-46b51efe40f0\"'\n",
    "devPCID6 = '\"97cdfb48-40e8-498e-afde-98f7290679f9\"'\n",
    "devPCID7 = '\"3161ae02-6abd-4834-8208-686c4cd5363c\"'\n",
    "# possibly a tablet: a4d4b030-9117-4331-ba48-90dc05a7e65a\n",
    "\n",
    "excludedIDs = ['null', devPCID1, devPCID2, devPCID3, devPCID4, devPCID5];"
   ]
  }
 ],
 "metadata": {
  "kernelspec": {
   "display_name": "Python [conda env:python3]",
   "language": "python",
   "name": "conda-env-python3-py"
  },
  "language_info": {
   "codemirror_mode": {
    "name": "ipython",
    "version": 3
   },
   "file_extension": ".py",
   "mimetype": "text/x-python",
   "name": "python",
   "nbconvert_exporter": "python",
   "pygments_lexer": "ipython3",
   "version": "3.5.4"
  }
 },
 "nbformat": 4,
 "nbformat_minor": 1
}
