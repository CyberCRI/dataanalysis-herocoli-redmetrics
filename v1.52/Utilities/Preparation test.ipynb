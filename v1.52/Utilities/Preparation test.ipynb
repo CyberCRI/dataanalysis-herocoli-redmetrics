{
 "cells": [
  {
   "cell_type": "markdown",
   "metadata": {},
   "source": [
    "# Preparation test"
   ]
  },
  {
   "cell_type": "code",
   "execution_count": null,
   "metadata": {},
   "outputs": [],
   "source": [
    "%run \"Preparation.ipynb\""
   ]
  },
  {
   "cell_type": "markdown",
   "metadata": {},
   "source": [
    "# Tests"
   ]
  },
  {
   "cell_type": "code",
   "execution_count": null,
   "metadata": {},
   "outputs": [],
   "source": [
    "df2 = pd.DataFrame({\n",
    "\t'customData.localplayerguid' : 1,\n",
    "\t'playerId' : 2,\n",
    "\t'C' : 3,\n",
    "\t'D' : '4',\n",
    "\t'E' : pd.Categorical([\"test\",\"train\",\"test\",\"train\",\"test\",\"train\"]),\n",
    "\t'F' : 'aaaaaa'\n",
    "\t}, index=[0,1,2,3,4,5])\n",
    "df2"
   ]
  },
  {
   "cell_type": "code",
   "execution_count": null,
   "metadata": {},
   "outputs": [],
   "source": [
    "newColumns = np.unique(np.concatenate((minimalInitializationColumns, df2.columns.values)))\n",
    "newColumns"
   ]
  },
  {
   "cell_type": "code",
   "execution_count": null,
   "metadata": {},
   "outputs": [],
   "source": [
    "df3 = df2.loc[:,newColumns]\n",
    "df3"
   ]
  },
  {
   "cell_type": "code",
   "execution_count": null,
   "metadata": {},
   "outputs": [],
   "source": [
    "df4 = df3.rename(index=str, columns={'customData.localplayerguid' : 'userId', 'playerId': 'sessionId'})\n",
    "df4"
   ]
  },
  {
   "cell_type": "code",
   "execution_count": null,
   "metadata": {},
   "outputs": [],
   "source": [
    "df5 = getNormalizedRedMetricsCSV( df2 )\n",
    "df5"
   ]
  },
  {
   "cell_type": "markdown",
   "metadata": {},
   "source": [
    "#### getAllSessions tinkering"
   ]
  },
  {
   "cell_type": "code",
   "execution_count": null,
   "metadata": {},
   "outputs": [],
   "source": [
    "_rmDF = rmdf152\n",
    "dropna = False\n",
    "\n",
    "#def getAllSessions( _rmDF, dropna ):\n",
    "_result = _rmDF.loc[:, renamedRelevantColumns]\n",
    "_result = _result[_result['type']=='start']\n",
    "_result = _result.drop('type', 1)\n",
    "if dropna:\n",
    "    _result = _result.dropna(how='any')\n",
    "_result"
   ]
  },
  {
   "cell_type": "markdown",
   "metadata": {},
   "source": [
    "#### getTestSessions tinkering"
   ]
  },
  {
   "cell_type": "code",
   "execution_count": null,
   "metadata": {},
   "outputs": [],
   "source": [
    "_rmDF = rmdf152\n",
    "_rmTestDF = dftest\n",
    "\n",
    "# gets sessions which either:\n",
    "#  - have 'android' or '...editor' as platform\n",
    "#  - are in the RedMetrics test channel\n",
    "#  - belong to a user who has a session of the type above\n",
    "#def getTestSessions(_rmDF, _rmTestDF):\n",
    "\n",
    "# tables of association of user-sessions\n",
    "rmDFUsersSessions = getAllSessions(_rmDF, False)\n",
    "rmTestDFUsersSessions = getAllSessions(_rmTestDF, False)\n",
    "userSessions = pd.concat([rmDFUsersSessions,rmTestDFUsersSessions])\n",
    "\n",
    "#  - have 'android' or '...editor' as platform\n",
    "rmDFTestSessions = set(_rmDF[_rmDF['customData.platform'].apply(lambda s: str(s).endswith('editor\"'))]['sessionId'])\n",
    "rmDFTestSessions |= set(_rmDF[_rmDF['customData.platform'].isin(['\"android\"'])]['sessionId'])\n",
    "#print(str(len(rmDFTestSessions)))\n",
    "\n",
    "#  - are in the RedMetrics test channel\n",
    "rmTestDFTestSessions = set(_rmTestDF['sessionId'])\n",
    "#print(str(len(rmTestDFTestSessions)))\n",
    "\n",
    "#  - belong to a user who has a session of the type above\n",
    "# all the sessions above\n",
    "testSessions = rmDFTestSessions | rmTestDFTestSessions\n",
    "# all the users\n",
    "rmDFTestUsers = set(rmDFUsersSessions[rmDFUsersSessions['sessionId'].isin(testSessions)]['userId'].dropna())\n",
    "rmTestDFTestUsers = set(_rmTestDF['userId'].dropna())\n",
    "testUsers = rmDFTestUsers | rmTestDFTestUsers\n",
    "# all the sessions which belong to these users\n",
    "result = set(rmDFUsersSessions[rmDFUsersSessions['userId'].isin(testUsers)]['sessionId'].dropna())\n",
    "\n",
    "len(result)"
   ]
  },
  {
   "cell_type": "code",
   "execution_count": null,
   "metadata": {},
   "outputs": [],
   "source": [
    "testSessions = result\n",
    "filteredrmDF152 = rmdf152[~rmdf152['sessionId'].isin(testSessions)]\n",
    "\n",
    "len(rmdf152['sessionId'].unique()),len(testSessions),len(filteredrmDF152['sessionId'].unique())\n",
    "\n",
    "len(rmdf152[rmdf152['customData.platform']=='\"linuxplayer\"']['userId'].unique()),\\\n",
    "len(filteredrmDF152[filteredrmDF152['customData.platform']=='\"linuxplayer\"']['userId'].unique())\n",
    "\n",
    "_rmDF = filteredrmDF152\n",
    "temporaryMax = 0\n",
    "userIdOfMax = 0\n",
    "_sessionsList = getAllSessions( _rmDF, True )\n",
    "for userId in _rmDF[_rmDF['customData.platform']=='\"linuxplayer\"']['userId'].unique():\n",
    "    allSessions = _sessionsList[_sessionsList['userId']==userId].drop_duplicates()\n",
    "    count = allSessions['sessionId'].nunique()\n",
    "    if(count > temporaryMax):\n",
    "        temporaryMax = count\n",
    "        userIdOfMax = userId\n",
    "userIdOfMax, temporaryMax\n",
    "\n",
    "rmdf152['customData.platform'].dropna().unique()\n",
    "\n",
    "filteredrmDF152['customData.platform'].dropna().unique()"
   ]
  },
  {
   "cell_type": "markdown",
   "metadata": {},
   "source": [
    "#### getTestSessions tinkering"
   ]
  },
  {
   "cell_type": "code",
   "execution_count": null,
   "metadata": {},
   "outputs": [],
   "source": [
    "_rmDF = rmdf152\n",
    "_rmTestDF = normalizedRMDFTest\n",
    "includeAndroid = True\n",
    "includeEditor = True\n",
    "includeTest = True\n",
    "#def getTestSessions(_rmDF, _rmTestDF, includeAndroid = True, includeEditor = True, includeTest = True):\n",
    "    \n",
    "rmDFTestSessions = set()\n",
    "rmTestDFTestSessions = set()\n",
    "\n",
    "#  - have 'android' or '...editor' as platform\n",
    "if(includeAndroid):\n",
    "    rmDFTestSessions |= set(_rmDF[_rmDF['customData.platform'].isin(['\"android\"'])]['sessionId'])\n",
    "if(includeEditor):\n",
    "    rmDFTestSessions |= set(_rmDF[_rmDF['customData.platform'].apply(lambda s: str(s).endswith('editor\"'))]['sessionId'])\n",
    "#print(str(len(rmDFTestSessions)))\n",
    "\n",
    "#  - are in the RedMetrics test channel\n",
    "if(includeTest):\n",
    "    rmTestDFTestSessions = set(_rmTestDF['sessionId'])\n",
    "#print(str(len(rmTestDFTestSessions)))\n",
    "\n",
    "#  - belong to a user who has a session of the type above\n",
    "# all the sessions above\n",
    "testSessions = rmDFTestSessions | rmTestDFTestSessions\n",
    "\n",
    "testSessions"
   ]
  },
  {
   "cell_type": "markdown",
   "metadata": {},
   "source": [
    "#### getTestUsersSessions tinkering"
   ]
  },
  {
   "cell_type": "code",
   "execution_count": null,
   "metadata": {},
   "outputs": [],
   "source": [
    "_rmDF = rmdf152\n",
    "_rmTestDF = normalizedRMDFTest\n",
    "includeAndroid = True\n",
    "includeEditor = True\n",
    "includeTest = True\n",
    "\n",
    "# gets sessions which either:\n",
    "#  - have 'android' or '...editor' as platform\n",
    "#  - are in the RedMetrics test channel\n",
    "#  - belong to a user who has a session of the type above\n",
    "#def getTestUsersSessions(_rmDF, _rmTestDF, includeAndroid = True, includeEditor = True, includeTest = True):\n",
    "\n",
    "# tables of association of user-sessions\n",
    "rmDFUsersSessions = getAllSessions(_rmDF, False)\n",
    "rmTestDFUsersSessions = getAllSessions(_rmTestDF, False)\n",
    "userSessions = pd.concat([rmDFUsersSessions,rmTestDFUsersSessions])\n",
    "\n",
    "testSessions = getTestSessions(_rmDF, _rmTestDF,\n",
    "                               includeAndroid = includeAndroid, includeEditor = includeEditor, includeTest = includeTest)\n",
    "\n",
    "# all the users\n",
    "rmDFTestUsers = set(rmDFUsersSessions[rmDFUsersSessions['sessionId'].isin(testSessions)]['userId'].dropna())\n",
    "rmTestDFTestUsers = set(_rmTestDF['userId'].dropna())\n",
    "rmTestDFTestUsers.remove('')\n",
    "testUsers = rmDFTestUsers | rmTestDFTestUsers\n",
    "# all the sessions which belong to these users\n",
    "allTestSessions = set(rmDFUsersSessions[rmDFUsersSessions['userId'].isin(testUsers)]['sessionId'].dropna())\n",
    "\n",
    "#(testUsers,allTestSessions)"
   ]
  },
  {
   "cell_type": "code",
   "execution_count": null,
   "metadata": {},
   "outputs": [],
   "source": [
    "testUsers = pd.DataFrame(data=list(testUsers), columns=['userId'])\n",
    "testUsers152Path = dataFolderPath + dataFilesNamesStem + \".1.52-testUsers.csv\"\n",
    "testUsers.to_csv(testUsers152Path, encoding=csvEncoding)\n",
    "testUsers2 = pd.read_csv(testUsers152Path, dtype=str).loc[:,['userId']]"
   ]
  },
  {
   "cell_type": "code",
   "execution_count": null,
   "metadata": {},
   "outputs": [],
   "source": [
    "(testUsers == testUsers2).all()"
   ]
  }
 ],
 "metadata": {
  "kernelspec": {
   "display_name": "Python [conda env:python3]",
   "language": "python",
   "name": "conda-env-python3-py"
  },
  "language_info": {
   "codemirror_mode": {
    "name": "ipython",
    "version": 3
   },
   "file_extension": ".py",
   "mimetype": "text/x-python",
   "name": "python",
   "nbconvert_exporter": "python",
   "pygments_lexer": "ipython3",
   "version": "3.5.4"
  }
 },
 "nbformat": 4,
 "nbformat_minor": 1
}
