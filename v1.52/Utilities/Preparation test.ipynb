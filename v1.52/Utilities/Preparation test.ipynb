{
 "cells": [
  {
   "cell_type": "markdown",
   "metadata": {},
   "source": [
    "# Preparation test"
   ]
  },
  {
   "cell_type": "code",
   "execution_count": null,
   "metadata": {},
   "outputs": [],
   "source": [
    "%run \"Preparation.ipynb\""
   ]
  },
  {
   "cell_type": "markdown",
   "metadata": {},
   "source": [
    "# Tests"
   ]
  },
  {
   "cell_type": "code",
   "execution_count": null,
   "metadata": {},
   "outputs": [],
   "source": [
    "df2 = pd.DataFrame({\n",
    "\t'customData.localplayerguid' : 1,\n",
    "\t'playerId' : 2,\n",
    "\t'C' : 3,\n",
    "\t'D' : '4',\n",
    "\t'E' : pd.Categorical([\"test\",\"train\",\"test\",\"train\",\"test\",\"train\"]),\n",
    "\t'F' : 'aaaaaa'\n",
    "\t}, index=[0,1,2,3,4,5])\n",
    "df2"
   ]
  },
  {
   "cell_type": "code",
   "execution_count": null,
   "metadata": {},
   "outputs": [],
   "source": [
    "newColumns = np.unique(np.concatenate((minimalInitializationColumns, df2.columns.values)))\n",
    "newColumns"
   ]
  },
  {
   "cell_type": "code",
   "execution_count": null,
   "metadata": {},
   "outputs": [],
   "source": [
    "df3 = df2.loc[:,newColumns]\n",
    "df3"
   ]
  },
  {
   "cell_type": "code",
   "execution_count": null,
   "metadata": {},
   "outputs": [],
   "source": [
    "df4 = df3.rename(index=str, columns={'customData.localplayerguid' : 'userId', 'playerId': 'sessionId'})\n",
    "df4"
   ]
  },
  {
   "cell_type": "code",
   "execution_count": null,
   "metadata": {},
   "outputs": [],
   "source": [
    "df5 = getNormalizedRedMetricsCSV( df2 )\n",
    "df5"
   ]
  },
  {
   "cell_type": "markdown",
   "metadata": {},
   "source": [
    "#### getAllSessions tinkering"
   ]
  },
  {
   "cell_type": "code",
   "execution_count": null,
   "metadata": {},
   "outputs": [],
   "source": [
    "_rmDF = df152\n",
    "dropna = False\n",
    "\n",
    "#def getAllSessions( _rmDF, dropna ):\n",
    "_result = _rmDF.loc[:, renamedRelevantColumns]\n",
    "_result = _result[_result['type']=='start']\n",
    "_result = _result.drop('type', 1)\n",
    "if dropna:\n",
    "    _result = _result.dropna(how='any')\n",
    "_result"
   ]
  },
  {
   "cell_type": "markdown",
   "metadata": {},
   "source": [
    "#### getTestSessions tinkering"
   ]
  },
  {
   "cell_type": "code",
   "execution_count": null,
   "metadata": {},
   "outputs": [],
   "source": [
    "_rmDF = df152\n",
    "_rmTestDF = dftest\n",
    "\n",
    "# gets sessions which either:\n",
    "#  - have 'android' or '...editor' as platform\n",
    "#  - are in the RedMetrics test channel\n",
    "#  - belong to a user who has a session of the type above\n",
    "#def getTestSessions(_rmDF, _rmTestDF):\n",
    "\n",
    "# tables of association of user-sessions\n",
    "rmDFUsersSessions = getAllSessions(_rmDF, False)\n",
    "rmTestDFUsersSessions = getAllSessions(_rmTestDF, False)\n",
    "userSessions = pd.concat([rmDFUsersSessions,rmTestDFUsersSessions])\n",
    "\n",
    "#  - have 'android' or '...editor' as platform\n",
    "rmDFTestSessions = set(_rmDF[_rmDF['customData.platform'].apply(lambda s: str(s).endswith('editor\"'))]['sessionId'])\n",
    "rmDFTestSessions |= set(_rmDF[_rmDF['customData.platform'].isin(['\"android\"'])]['sessionId'])\n",
    "#print(str(len(rmDFTestSessions)))\n",
    "\n",
    "#  - are in the RedMetrics test channel\n",
    "rmTestDFTestSessions = set(_rmTestDF['sessionId'])\n",
    "#print(str(len(rmTestDFTestSessions)))\n",
    "\n",
    "#  - belong to a user who has a session of the type above\n",
    "# all the sessions above\n",
    "testSessions = rmDFTestSessions | rmTestDFTestSessions\n",
    "# all the users\n",
    "rmDFTestUsers = set(rmDFUsersSessions[rmDFUsersSessions['sessionId'].isin(testSessions)]['userId'].dropna())\n",
    "rmTestDFTestUsers = set(_rmTestDF['userId'].dropna())\n",
    "testUsers = rmDFTestUsers | rmTestDFTestUsers\n",
    "# all the sessions which belong to these users\n",
    "result = set(rmDFUsersSessions[rmDFUsersSessions['userId'].isin(testUsers)]['sessionId'].dropna())\n",
    "\n",
    "len(result)"
   ]
  },
  {
   "cell_type": "code",
   "execution_count": null,
   "metadata": {},
   "outputs": [],
   "source": [
    "testSessions = result\n",
    "filteredDF152 = df152[~df152['sessionId'].isin(testSessions)]\n",
    "\n",
    "len(df152['sessionId'].unique()),len(testSessions),len(filteredDF152['sessionId'].unique())\n",
    "\n",
    "len(df152[df152['customData.platform']=='\"linuxplayer\"']['userId'].unique()),\\\n",
    "len(filteredDF152[filteredDF152['customData.platform']=='\"linuxplayer\"']['userId'].unique())\n",
    "\n",
    "_rmDF = filteredDF152\n",
    "temporaryMax = 0\n",
    "userIdOfMax = 0\n",
    "_sessionsList = getAllSessions( _rmDF, True )\n",
    "for userId in _rmDF[_rmDF['customData.platform']=='\"linuxplayer\"']['userId'].unique():\n",
    "    allSessions = _sessionsList[_sessionsList['userId']==userId].drop_duplicates()\n",
    "    count = allSessions['sessionId'].nunique()\n",
    "    if(count > temporaryMax):\n",
    "        temporaryMax = count\n",
    "        userIdOfMax = userId\n",
    "userIdOfMax, temporaryMax\n",
    "\n",
    "df152['customData.platform'].dropna().unique()\n",
    "\n",
    "filteredDF152['customData.platform'].dropna().unique()"
   ]
  }
 ],
 "metadata": {
  "kernelspec": {
   "display_name": "Python [conda env:python3]",
   "language": "python",
   "name": "conda-env-python3-py"
  },
  "language_info": {
   "codemirror_mode": {
    "name": "ipython",
    "version": 3
   },
   "file_extension": ".py",
   "mimetype": "text/x-python",
   "name": "python",
   "nbconvert_exporter": "python",
   "pygments_lexer": "ipython3",
   "version": "3.5.4"
  }
 },
 "nbformat": 4,
 "nbformat_minor": 1
}
