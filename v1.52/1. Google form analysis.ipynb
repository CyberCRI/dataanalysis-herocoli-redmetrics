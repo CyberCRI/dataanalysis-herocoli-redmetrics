{
 "cells": [
  {
   "cell_type": "markdown",
   "metadata": {},
   "source": [
    "# Google form analysis\n",
    "\n",
    "Analysis of results extracted from Google forms in csv format."
   ]
  },
  {
   "cell_type": "markdown",
   "metadata": {},
   "source": [
    "## Preparation"
   ]
  },
  {
   "cell_type": "code",
   "execution_count": 3,
   "metadata": {
    "collapsed": false,
    "scrolled": false
   },
   "outputs": [
    {
     "name": "stderr",
     "output_type": "stream",
     "text": [
      "C:\\Users\\Mikael\\Anaconda3\\lib\\site-packages\\IPython\\core\\interactiveshell.py:2902: DtypeWarning: Columns (24,32,34) have mixed types. Specify dtype option on import or set low_memory=False.\n",
      "  interactivity=interactivity, compiler=compiler, result=result)\n"
     ]
    }
   ],
   "source": [
    "%run \"Utilities/Preparation.ipynb\""
   ]
  },
  {
   "cell_type": "markdown",
   "metadata": {},
   "source": [
    "# Functions\n",
    "<a id=functions />"
   ]
  },
  {
   "cell_type": "code",
   "execution_count": 4,
   "metadata": {
    "collapsed": false
   },
   "outputs": [],
   "source": [
    "#user id in format localplayerguid = '\"8d352896-a3f1-471c-8439-0f426df901c1\"'\n",
    "\n",
    "def getAllResponders():\n",
    "    userIds = gform[localplayerguidkey].values\n",
    "    result = []\n",
    "    for id in userIds:\n",
    "        result.append('\"' + id + '\"')\n",
    "    return result\n",
    "\n",
    "def hasAnswered( userId ):\n",
    "    return userId.replace('\"','') in gform[localplayerguidkey].values\n",
    "\n",
    "def getAnswers( userId):\n",
    "    answers = gform[gform[localplayerguidkey]==userId.replace('\"','')]\n",
    "    columnAnswers = answers.T\n",
    "    columnAnswers.columns = ['answers']\n",
    "    return columnAnswers\n",
    "\n",
    "def getCorrections( userId):\n",
    "    columnAnswers = getAnswers( userId )\n",
    "    \n",
    "    columnAnswers['correct'] = columnAnswers['answers']\n",
    "\n",
    "    for index in range(0, 10):\n",
    "        columnAnswers['correct'][index] = 'NaN'\n",
    "    for index in range(10, len(columnAnswers.values)-1):\n",
    "        columnAnswers['correct'][index] = str(columnAnswers['answers'][index]).startswith(str(correctAnswers['correctAnswer'][index]))\n",
    "    columnAnswers['correct'][len(columnAnswers.values)-1] = 'NaN'\n",
    "    return columnAnswers\n",
    "\n",
    "#function that returns the score from user id\n",
    "def getScore( userId ):\n",
    "    if hasAnswered( userId ):\n",
    "        columnAnswers = getCorrections( userId)\n",
    "        score = (columnAnswers['correct']).value_counts()[True]\n",
    "        return score\n",
    "    else:\n",
    "        return np.NaN\n",
    "\n",
    "#function that returns the list of checkpoints from user id\n",
    "def getValidatedCheckpoints( userId ):\n",
    "    columnAnswers = getCorrections( userId)\n",
    "    questionnaireValidatedCheckpointsPerQuestion = pd.Series(np.nan, index=range(len(checkpointQuestionMatching)))\n",
    "    \n",
    "    for index in range(0, len(questionnaireValidatedCheckpointsPerQuestion)):\n",
    "        if columnAnswers['correct'][index]==True:\n",
    "            questionnaireValidatedCheckpointsPerQuestion[index] = checkpointQuestionMatching['checkpoint'][index]\n",
    "        else:\n",
    "            questionnaireValidatedCheckpointsPerQuestion[index] = ''\n",
    "    \n",
    "    questionnaireValidatedCheckpoints = questionnaireValidatedCheckpointsPerQuestion.unique()\n",
    "    questionnaireValidatedCheckpoints = questionnaireValidatedCheckpoints[questionnaireValidatedCheckpoints!='']\n",
    "    questionnaireValidatedCheckpoints = pd.Series(questionnaireValidatedCheckpoints)\n",
    "    questionnaireValidatedCheckpoints = questionnaireValidatedCheckpoints.sort_values()\n",
    "    questionnaireValidatedCheckpoints.index = range(0, len(questionnaireValidatedCheckpoints))\n",
    "    return questionnaireValidatedCheckpoints\n",
    "\n",
    "def getNonValidated( checkpoints ):\n",
    "    return pd.Series(np.setdiff1d(checkpointQuestionMatching['checkpoint'].values, checkpoints.values))\n",
    "\n",
    "def getNonValidatedCheckpoints( userId ):\n",
    "    validated = getValidatedCheckpoints( userId )\n",
    "    return getNonValidated(validated)\n",
    "\n"
   ]
  }
 ],
 "metadata": {
  "kernelspec": {
   "display_name": "Python 3",
   "language": "python",
   "name": "python3"
  },
  "language_info": {
   "codemirror_mode": {
    "name": "ipython",
    "version": 3
   },
   "file_extension": ".py",
   "mimetype": "text/x-python",
   "name": "python",
   "nbconvert_exporter": "python",
   "pygments_lexer": "ipython3",
   "version": "3.5.4"
  }
 },
 "nbformat": 4,
 "nbformat_minor": 0
}
