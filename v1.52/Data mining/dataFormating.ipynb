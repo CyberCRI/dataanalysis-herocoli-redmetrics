{
 "cells": [
  {
   "cell_type": "code",
   "execution_count": null,
   "metadata": {
    "collapsed": false,
    "scrolled": false
   },
   "outputs": [],
   "source": [
    "%run \"../Functions/1. Google form analysis.ipynb\"\n",
    "%run \"../Functions/4. User comparison.ipynb\""
   ]
  },
  {
   "cell_type": "markdown",
   "metadata": {},
   "source": [
    "# Prepare data"
   ]
  },
  {
   "cell_type": "markdown",
   "metadata": {},
   "source": [
    "## Prepare Google form data"
   ]
  },
  {
   "cell_type": "code",
   "execution_count": null,
   "metadata": {
    "collapsed": false
   },
   "outputs": [],
   "source": [
    "setAnswerTemporalities(gform)\n",
    "#gform.head()"
   ]
  },
  {
   "cell_type": "code",
   "execution_count": null,
   "metadata": {
    "collapsed": true
   },
   "outputs": [],
   "source": [
    "# Rename columns of the Google Forms table with tags independantly of form language\n",
    "columnTags = [\"timestamp\", \"gameInterest\", \"gameFrequency\", \"age\", \"gender\", \"biologyStudy\", \"biologyInterest\", \"synthBioKnowledge\", \"biobrickKnowledge\", \"previousVersion\", \"previousPlay\", \"arcadePlay\", \"androidPlay\", \"Q1\", \"Q2\", \"Q3\", \"Q4\", \"Q5\", \"Q6\", \"Q7\", \"Q8\", \"Q9\", \"Q10\", \"Q11\", \"Q12\", \"Q13\", \"Q14\", \"Q15\", \"Q16\", \"Q17\", \"Q18\", \"Q19\", \"Q20\", \"Q21\", \"Q22\", \"Q23\", \"Q24\", \"Q25\", \"Q26\", \"Q27\", \"comments\", \"anonymousID\", \"lang\", \"temporality\"]\n",
    "columnQuestions = gform.columns.values.tolist()\n",
    "googleData = gform.rename(columns=dict(zip(columnQuestions, columnTags)))\n",
    "#googleData.head()"
   ]
  },
  {
   "cell_type": "code",
   "execution_count": null,
   "metadata": {
    "collapsed": false,
    "scrolled": false
   },
   "outputs": [],
   "source": [
    "# Replaces answers to scientific questions in the questionnaires by their values (True or False)\n",
    "correctedData = googleData.copy()\n",
    "for rowId in range(correctedData.shape[0]):\n",
    "    # Get the correction for each subject\n",
    "    playerId = correctedData.loc[rowId, \"anonymousID\"]\n",
    "    correction = getCorrections(playerId)\n",
    "    if correction.shape[1] > 0:\n",
    "        # If subject has answered questionnaire\n",
    "        correction = correction.rename(index=dict(zip(columnQuestions, columnTags)))\n",
    "        # Replace scientific answers by their correction\n",
    "        for questionId in range(27):\n",
    "            questionTag = \"Q\" + str(questionId + 1)\n",
    "            correctedData.loc[rowId, questionTag] = int(correction.loc[questionTag, \"corrections\" + str(rowId)])\n",
    "    \n",
    "#correctedData.head()"
   ]
  },
  {
   "cell_type": "code",
   "execution_count": null,
   "metadata": {
    "collapsed": false
   },
   "outputs": [],
   "source": [
    "list(zip(columnQuestions, columnTags))"
   ]
  },
  {
   "cell_type": "markdown",
   "metadata": {},
   "source": [
    "## For association rule mining"
   ]
  },
  {
   "cell_type": "code",
   "execution_count": null,
   "metadata": {
    "collapsed": true
   },
   "outputs": [],
   "source": [
    "# Get only answers to scientific questions\n",
    "correctedScientific = correctedData.loc[:, \"Q1\":\"Q27\"]\n",
    "#correctedScientific.head()"
   ]
  },
  {
   "cell_type": "markdown",
   "metadata": {
    "collapsed": true
   },
   "source": [
    "## For clustering"
   ]
  },
  {
   "cell_type": "code",
   "execution_count": null,
   "metadata": {
    "collapsed": true
   },
   "outputs": [],
   "source": [
    "# Remove timestamp and comments features\n",
    "codedData = googleData.copy().drop(['timestamp', \"comments\"], axis=1)\n",
    "#googleData.head()"
   ]
  },
  {
   "cell_type": "code",
   "execution_count": null,
   "metadata": {
    "collapsed": true
   },
   "outputs": [],
   "source": [
    "# Code answers with integers when possible\n",
    "\n",
    "# Define equivalences\n",
    "# gameInterest\n",
    "gameInterestCoding = {\"A lot\": 4, \"Beaucoup\": 4, \"Enormément\": 5, \"Extremely\": 5, \"Moderately\": 3, \"Moyennement\": 3, \"Slightly\": 2, \"Un peu\": 2, \"I don't know\": 3, \"Je ne sais pas\": 3, \"Not at all\": 1, \"Pas du tout\": 1}\n",
    "# gameFrequency\n",
    "gameFrequencyCoding = {\"A lot\": 4, \"Beaucoup\": 4, \"Enormément\": 5, \"Extremely\": 5, \"Moderately\": 3, \"Moyennement\": 3, \"Rarely\": 2, \"Un peu\": 2, \"I don't know\": 3, \"Je ne sais pas\": 3, \"Not at all\": 1, \"Pas du tout\": 1}\n",
    "# biologyStudy\n",
    "biologyStudyCoding = {\"Not even in middle school\": 0, \"Jamais\": 0, \"Jamais, pas même au collège\": 0, \"Until the end of middle school\": 1, \"Jusqu'au brevet\": 1, \"Until the end of high school\": 2, \"Jusqu'au bac\": 2, \"Until bachelor's degree\": 3, \"Jusqu'à la license\": 3, \"At least until master's degree\": 4, \"Au moins jusqu'au master\": 4, \"I don't know\": 0, \"Je ne sais pas\": 0}\n",
    "# biologyInterest\n",
    "biologyInterestCoding = {\"A lot\": 4, \"Beaucoup\": 4, \"Enormément\": 5, \"Extremely\": 5, \"Moderately\": 3, \"Moyennement\": 3, \"Slightly\": 2, \"Un peu\": 2, \"I don't know\": 3, \"Je ne sais pas\": 3, \"Not at all\": 1, \"Pas du tout\": 1}\n",
    "# synthBioKnowledge\n",
    "# biobrickKnowledge\n",
    "previousKnowledgeCoding = {\"Yes\": 1, \"No\": 0, \"I don't know\": 0, \"Oui\": 1, 'Non': 0, \"Je ne sais pas\": 0}\n",
    "# previousVersion\n",
    "# previousPlay\n",
    "# arcadePlay\n",
    "# androidPlay\n",
    "previousPlayCoding = {\"Multiple times\": 3, \"A few times\": 2, \"Once\": 1, \"Yes\": 1, \"No\": 0, \"I don't know\": 0, \"De nombreuses fois\": 3, \"Quelques fois\": 2, \"Une fois\": 1, \"Oui\": 1, \"Non\": 0, \"Je ne sais pas\": 0}\n",
    "# lang\n",
    "languageCoding = {\"en\": 0, \"fr\": 1}\n",
    "# temporality\n",
    "temporalityCoding = {\"before\": 0, \"after\": 1, \"undefined\": -5}\n",
    "\n",
    "# Fill NaN cells\n",
    "codedData[\"biobrickKnowledge\"].fillna(\"I don't know\", inplace = True)\n",
    "codedData[\"arcadePlay\"].fillna(\"I don't know\", inplace = True)\n",
    "codedData[\"androidPlay\"].fillna(\"I don't know\", inplace = True)\n",
    "codedData[\"previousPlay\"].fillna(\"I don't know\", inplace = True)\n",
    "\n",
    "# Replace by code\n",
    "for rowId in range(codedData.shape[0]):\n",
    "    codedData.loc[rowId, \"gameInterest\"] = gameInterestCoding[codedData.loc[rowId, \"gameInterest\"]]\n",
    "    codedData.loc[rowId, \"gameFrequency\"] = gameFrequencyCoding[codedData.loc[rowId, \"gameFrequency\"]]\n",
    "    codedData.loc[rowId, \"biologyStudy\"] = biologyStudyCoding[codedData.loc[rowId, \"biologyStudy\"]]\n",
    "    codedData.loc[rowId, \"biologyInterest\"] = biologyInterestCoding[codedData.loc[rowId, \"biologyInterest\"]]\n",
    "    codedData.loc[rowId, \"synthBioKnowledge\"] = previousKnowledgeCoding[codedData.loc[rowId, \"synthBioKnowledge\"]]\n",
    "    codedData.loc[rowId, \"biobrickKnowledge\"] = previousKnowledgeCoding[codedData.loc[rowId, \"biobrickKnowledge\"]]\n",
    "    codedData.loc[rowId, \"previousVersion\"] = previousPlayCoding[codedData.loc[rowId, \"previousVersion\"]]\n",
    "    codedData.loc[rowId, \"previousPlay\"] = previousPlayCoding[codedData.loc[rowId, \"previousPlay\"]]\n",
    "    codedData.loc[rowId, \"arcadePlay\"] = previousPlayCoding[codedData.loc[rowId, \"arcadePlay\"]]\n",
    "    codedData.loc[rowId, \"androidPlay\"] = previousPlayCoding[codedData.loc[rowId, \"androidPlay\"]]\n",
    "    codedData.loc[rowId, \"lang\"] = languageCoding[codedData.loc[rowId, \"lang\"]]\n",
    "    codedData.loc[rowId, \"temporality\"] = temporalityCoding[codedData.loc[rowId, \"temporality\"]]\n",
    "    "
   ]
  },
  {
   "cell_type": "code",
   "execution_count": null,
   "metadata": {
    "collapsed": true
   },
   "outputs": [],
   "source": [
    "# One-Hot versions of the above dataframes\n",
    "codedData = pd.get_dummies(codedData, prefix = [\"gender\", \"Q1\", \"Q2\", \"Q3\", \"Q4\", \"Q5\", \"Q6\", \"Q7\", \"Q8\", \"Q9\", \"Q10\", \"Q11\", \"Q12\", \"Q13\", \"Q14\", \"Q15\", \"Q16\", \"Q17\", \"Q18\", \"Q19\", \"Q20\", \"Q21\", \"Q22\", \"Q23\", \"Q24\", \"Q25\", \"Q26\", \"Q27\"], columns = [\"gender\", \"Q1\", \"Q2\", \"Q3\", \"Q4\", \"Q5\", \"Q6\", \"Q7\", \"Q8\", \"Q9\", \"Q10\", \"Q11\", \"Q12\", \"Q13\", \"Q14\", \"Q15\", \"Q16\", \"Q17\", \"Q18\", \"Q19\", \"Q20\", \"Q21\", \"Q22\", \"Q23\", \"Q24\", \"Q25\", \"Q26\", \"Q27\"])\n",
    "#codedData.head()"
   ]
  },
  {
   "cell_type": "code",
   "execution_count": null,
   "metadata": {
    "collapsed": false
   },
   "outputs": [],
   "source": [
    "# Split the forms according to temporality\n",
    "beforeForms = codedData.loc[codedData[\"temporality\"] == 0,:]\n",
    "afterForms = codedData.loc[codedData[\"temporality\"] == 1,:]\n",
    "undefForms = codedData.loc[codedData[\"temporality\"] == -5,:]\n",
    "defForms = codedData.loc[codedData[\"temporality\"] >= 0,:] # Either before or after\n",
    "# For subjects with both before and after forms, join the two\n",
    "beforeAndAfterForms = pd.merge(beforeForms, afterForms, on=\"anonymousID\", suffixes=('_before', '_after'))\n",
    "#beforeForms.head()\n",
    "#afterForms.head()\n",
    "#undefForms.head()\n",
    "#defForms.head()\n",
    "#beforeAndAfterForms.head()"
   ]
  },
  {
   "cell_type": "code",
   "execution_count": null,
   "metadata": {
    "collapsed": false
   },
   "outputs": [],
   "source": [
    "# Remove ID feature\n",
    "beforeForms.drop(\"anonymousID\", axis=1, inplace = True)\n",
    "afterForms.drop(\"anonymousID\", axis=1, inplace = True)\n",
    "undefForms.drop(\"anonymousID\", axis=1, inplace = True)\n",
    "defForms.drop(\"anonymousID\", axis=1, inplace = True)\n",
    "beforeAndAfterForms.drop(\"anonymousID\", axis=1, inplace = True)"
   ]
  },
  {
   "cell_type": "code",
   "execution_count": null,
   "metadata": {
    "collapsed": true
   },
   "outputs": [],
   "source": []
  }
 ],
 "metadata": {
  "kernelspec": {
   "display_name": "Python 3",
   "language": "python",
   "name": "python3"
  },
  "language_info": {
   "codemirror_mode": {
    "name": "ipython",
    "version": 3
   },
   "file_extension": ".py",
   "mimetype": "text/x-python",
   "name": "python",
   "nbconvert_exporter": "python",
   "pygments_lexer": "ipython3",
   "version": "3.5.4"
  }
 },
 "nbformat": 4,
 "nbformat_minor": 2
}
