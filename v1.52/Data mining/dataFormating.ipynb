{
 "cells": [
  {
   "cell_type": "code",
   "execution_count": 20,
   "metadata": {
    "scrolled": true
   },
   "outputs": [
    {
     "name": "stderr",
     "output_type": "stream",
     "text": [
      "/home/emma/anaconda3/lib/python3.6/site-packages/IPython/core/interactiveshell.py:2698: DtypeWarning: Columns (18,22,28,32,38) have mixed types. Specify dtype option on import or set low_memory=False.\n",
      "  interactivity=interactivity, compiler=compiler, result=result)\n",
      "/home/emma/anaconda3/lib/python3.6/site-packages/IPython/core/interactiveshell.py:2698: DtypeWarning: Columns (14,15,16,17,18,20,21,22,25,26,27,30,33,34,35,36,37,38,39,40,41,42,43) have mixed types. Specify dtype option on import or set low_memory=False.\n",
      "  interactivity=interactivity, compiler=compiler, result=result)\n",
      "/home/emma/anaconda3/lib/python3.6/site-packages/IPython/core/interactiveshell.py:2698: DtypeWarning: Columns (18,22,28,32,38) have mixed types. Specify dtype option on import or set low_memory=False.\n",
      "  interactivity=interactivity, compiler=compiler, result=result)\n",
      "/home/emma/anaconda3/lib/python3.6/site-packages/IPython/core/interactiveshell.py:2698: DtypeWarning: Columns (14,15,16,17,18,20,21,22,25,26,27,30,33,34,35,36,37,38,39,40,41,42,43) have mixed types. Specify dtype option on import or set low_memory=False.\n",
      "  interactivity=interactivity, compiler=compiler, result=result)\n",
      "/home/emma/anaconda3/lib/python3.6/site-packages/IPython/core/interactiveshell.py:2698: DtypeWarning: Columns (18,22,28,32,38) have mixed types. Specify dtype option on import or set low_memory=False.\n",
      "  interactivity=interactivity, compiler=compiler, result=result)\n",
      "/home/emma/anaconda3/lib/python3.6/site-packages/IPython/core/interactiveshell.py:2698: DtypeWarning: Columns (14,15,16,17,18,20,21,22,25,26,27,30,33,34,35,36,37,38,39,40,41,42,43) have mixed types. Specify dtype option on import or set low_memory=False.\n",
      "  interactivity=interactivity, compiler=compiler, result=result)\n",
      "/home/emma/anaconda3/lib/python3.6/site-packages/IPython/core/interactiveshell.py:2698: DtypeWarning: Columns (18,22,28,32,38) have mixed types. Specify dtype option on import or set low_memory=False.\n",
      "  interactivity=interactivity, compiler=compiler, result=result)\n",
      "/home/emma/anaconda3/lib/python3.6/site-packages/IPython/core/interactiveshell.py:2698: DtypeWarning: Columns (14,15,16,17,18,20,21,22,25,26,27,30,33,34,35,36,37,38,39,40,41,42,43) have mixed types. Specify dtype option on import or set low_memory=False.\n",
      "  interactivity=interactivity, compiler=compiler, result=result)\n"
     ]
    }
   ],
   "source": [
    "%run \"../Functions/1. Google form analysis.ipynb\"\n",
    "%run \"../Functions/4. User comparison.ipynb\""
   ]
  },
  {
   "cell_type": "markdown",
   "metadata": {},
   "source": [
    "# Prepare data"
   ]
  },
  {
   "cell_type": "markdown",
   "metadata": {},
   "source": [
    "## Prepare Google form data"
   ]
  },
  {
   "cell_type": "code",
   "execution_count": 21,
   "metadata": {
    "collapsed": true
   },
   "outputs": [],
   "source": [
    "setAnswerTemporalities(gform)\n",
    "#gform.head()"
   ]
  },
  {
   "cell_type": "code",
   "execution_count": 22,
   "metadata": {
    "collapsed": true
   },
   "outputs": [],
   "source": [
    "# Rename columns of the Google Forms table with tags independantly of form language\n",
    "columnTags = [\"timestamp\", \"gameInterest\", \"gameFrequency\", \"age\", \"gender\", \"biologyStudy\", \"biologyInterest\", \"synthBioKnowledge\", \"biobrickKnowledge\", \"previousVersion\", \"previousPlay\", \"arcadePlay\", \"androidPlay\", \"Q1\", \"Q2\", \"Q3\", \"Q4\", \"Q5\", \"Q6\", \"Q7\", \"Q8\", \"Q9\", \"Q10\", \"Q11\", \"Q12\", \"Q13\", \"Q14\", \"Q15\", \"Q16\", \"Q17\", \"Q18\", \"Q19\", \"Q20\", \"Q21\", \"Q22\", \"Q23\", \"Q24\", \"Q25\", \"Q26\", \"Q27\", \"comments\", \"anonymousID\", \"lang\", \"temporality\"]\n",
    "columnQuestions = gform.columns.values.tolist()\n",
    "googleData = gform.rename(columns=dict(zip(columnQuestions, columnTags)))\n",
    "#googleData.head()"
   ]
  },
  {
   "cell_type": "code",
   "execution_count": 23,
   "metadata": {
    "collapsed": true,
    "scrolled": false
   },
   "outputs": [],
   "source": [
    "# Replaces answers to scientific questions in the questionnaires by their values (True or False)\n",
    "correctedData = googleData.copy()\n",
    "for rowId in range(correctedData.shape[0]):\n",
    "    # Get the correction for each subject\n",
    "    playerId = correctedData.loc[rowId, \"anonymousID\"]\n",
    "    correction = getCorrections(playerId)\n",
    "    if correction.shape[1] > 0:\n",
    "        # If subject has answered questionnaire\n",
    "        correction = correction.rename(index=dict(zip(columnQuestions, columnTags)))\n",
    "        # Replace scientific answers by their correction\n",
    "        for questionId in range(27):\n",
    "            questionTag = \"Q\" + str(questionId + 1)\n",
    "            correctedData.loc[rowId, questionTag] = int(correction.loc[questionTag, \"corrections\" + str(rowId)])\n",
    "    \n",
    "#correctedData.tail(15)"
   ]
  },
  {
   "cell_type": "code",
   "execution_count": 24,
   "metadata": {},
   "outputs": [
    {
     "data": {
      "text/plain": [
       "[('Timestamp', 'timestamp'),\n",
       " ('Are you interested in video games?', 'gameInterest'),\n",
       " ('Do you play video games?', 'gameFrequency'),\n",
       " ('How old are you?', 'age'),\n",
       " ('What is your gender?', 'gender'),\n",
       " ('How long have you studied biology?', 'biologyStudy'),\n",
       " ('Are you interested in biology?', 'biologyInterest'),\n",
       " ('Before playing Hero.Coli, had you ever heard about synthetic biology?',\n",
       "  'synthBioKnowledge'),\n",
       " ('Before playing Hero.Coli, had you ever heard about BioBricks?',\n",
       "  'biobrickKnowledge'),\n",
       " ('Have you ever played an older version of Hero.Coli before?',\n",
       "  'previousVersion'),\n",
       " ('Have you played the current version of Hero.Coli?', 'previousPlay'),\n",
       " ('Have you played the arcade cabinet version of Hero.Coli?', 'arcadePlay'),\n",
       " ('Have you played the Android version of Hero.Coli?', 'androidPlay'),\n",
       " ('In order to modify the abilities of the bacterium, you have to...', 'Q1'),\n",
       " ('What are BioBricks and devices?', 'Q2'),\n",
       " ('What is the name of this BioBrick?', 'Q3'),\n",
       " ('What is the name of this BioBrick?.1', 'Q4'),\n",
       " ('What is the name of this BioBrick?.2', 'Q5'),\n",
       " ('What is the name of this BioBrick?.3', 'Q6'),\n",
       " ('What does this BioBrick do?', 'Q7'),\n",
       " ('What does this BioBrick do?.1', 'Q8'),\n",
       " ('What does this BioBrick do?.2', 'Q9'),\n",
       " ('What does this BioBrick do?.3', 'Q10'),\n",
       " ('Pick the case where the BioBricks are well-ordered:', 'Q11'),\n",
       " ('When does green fluorescence happen?', 'Q12'),\n",
       " ('What happens when you unequip the movement device?', 'Q13'),\n",
       " ('What is this?', 'Q14'),\n",
       " ('What does this device do?', 'Q15'),\n",
       " ('What does this device do?.1', 'Q16'),\n",
       " ('What does this device do?.2', 'Q17'),\n",
       " ('What does this device do?.3', 'Q18'),\n",
       " ('What does this device do?.4', 'Q19'),\n",
       " ('What does this device do?.5', 'Q20'),\n",
       " ('What does this device do?.6', 'Q21'),\n",
       " ('What does this device do?.7', 'Q22'),\n",
       " ('Guess: what would a device producing l-arabinose do, if it started with a l-arabinose-induced promoter?',\n",
       "  'Q23'),\n",
       " ('Guess: the bacterium would glow yellow...', 'Q24'),\n",
       " ('What is the species of the bacterium of the game?', 'Q25'),\n",
       " ('What is the scientific name of the tails of the bacterium?', 'Q26'),\n",
       " ('Find the antibiotic:', 'Q27'),\n",
       " ('You can write down remarks here.', 'comments'),\n",
       " ('Do not edit -  pre-filled anonymous ID', 'anonymousID'),\n",
       " ('Language', 'lang'),\n",
       " ('Temporality', 'temporality')]"
      ]
     },
     "execution_count": 24,
     "metadata": {},
     "output_type": "execute_result"
    }
   ],
   "source": [
    "list(zip(columnQuestions, columnTags))"
   ]
  },
  {
   "cell_type": "markdown",
   "metadata": {},
   "source": [
    "## For association rule mining"
   ]
  },
  {
   "cell_type": "code",
   "execution_count": 25,
   "metadata": {
    "collapsed": true
   },
   "outputs": [],
   "source": [
    "# Get only answers to scientific questions\n",
    "correctedScientific = correctedData.loc[:, \"Q1\":\"Q27\"]\n",
    "#correctedScientific.head()"
   ]
  },
  {
   "cell_type": "markdown",
   "metadata": {
    "collapsed": true
   },
   "source": [
    "## For clustering"
   ]
  },
  {
   "cell_type": "markdown",
   "metadata": {},
   "source": [
    "### With full answers"
   ]
  },
  {
   "cell_type": "code",
   "execution_count": 26,
   "metadata": {
    "collapsed": true
   },
   "outputs": [],
   "source": [
    "# Remove timestamp and comments features\n",
    "codedData = googleData.copy().drop(['timestamp', \"comments\"], axis=1)\n",
    "#codedData.head()"
   ]
  },
  {
   "cell_type": "code",
   "execution_count": 27,
   "metadata": {
    "collapsed": true
   },
   "outputs": [],
   "source": [
    "# Code answers with integers when possible\n",
    "\n",
    "# Define equivalences\n",
    "# gameInterest\n",
    "gameInterestCoding = {\"A lot\": 4, \"Beaucoup\": 4, \"Enormément\": 5, \"Extremely\": 5, \"Moderately\": 3, \"Moyennement\": 3, \"Slightly\": 2, \"Un peu\": 2, \"I don't know\": 3, \"Je ne sais pas\": 3, \"Not at all\": 1, \"Pas du tout\": 1}\n",
    "# gameFrequency\n",
    "gameFrequencyCoding = {\"A lot\": 4, \"Beaucoup\": 4, \"Enormément\": 5, \"Extremely\": 5, \"Moderately\": 3, \"Moyennement\": 3, \"Rarely\": 2, \"Un peu\": 2, \"I don't know\": 3, \"Je ne sais pas\": 3, \"Not at all\": 1, \"Pas du tout\": 1}\n",
    "# biologyStudy\n",
    "biologyStudyCoding = {\"Not even in middle school\": 0, \"Jamais\": 0, \"Jamais, pas même au collège\": 0, \"Until the end of middle school\": 1, \"Jusqu'au brevet\": 1, \"Until the end of high school\": 2, \"Jusqu'au bac\": 2, \"Until bachelor's degree\": 3, \"Jusqu'à la license\": 3, \"At least until master's degree\": 4, \"Au moins jusqu'au master\": 4, \"I don't know\": 0, \"Je ne sais pas\": 0}\n",
    "# biologyInterest\n",
    "biologyInterestCoding = {\"A lot\": 4, \"Beaucoup\": 4, \"Enormément\": 5, \"Extremely\": 5, \"Moderately\": 3, \"Moyennement\": 3, \"Slightly\": 2, \"Un peu\": 2, \"I don't know\": 3, \"Je ne sais pas\": 3, \"Not at all\": 1, \"Pas du tout\": 1}\n",
    "# synthBioKnowledge\n",
    "# biobrickKnowledge\n",
    "previousKnowledgeCoding = {\"Yes\": 1, \"No\": 0, \"I don't know\": 0, \"Oui\": 1, 'Non': 0, \"Je ne sais pas\": 0}\n",
    "# previousVersion\n",
    "# previousPlay\n",
    "# arcadePlay\n",
    "# androidPlay\n",
    "previousPlayCoding = {\"Multiple times\": 3, \"A few times\": 2, \"Once\": 1, \"Yes\": 1, \"No\": 0, \"I don't know\": 0, \"De nombreuses fois\": 3, \"Quelques fois\": 2, \"Une fois\": 1, \"Oui\": 1, \"Non\": 0, \"Je ne sais pas\": 0}\n",
    "# lang\n",
    "languageCoding = {\"en\": 0, \"fr\": 1}\n",
    "# temporality\n",
    "temporalityCoding = {\"before\": 0, \"after\": 1, \"undefined\": -5}\n",
    "\n",
    "# Fill NaN cells\n",
    "codedData[\"biobrickKnowledge\"].fillna(\"I don't know\", inplace = True)\n",
    "codedData[\"arcadePlay\"].fillna(\"I don't know\", inplace = True)\n",
    "codedData[\"androidPlay\"].fillna(\"I don't know\", inplace = True)\n",
    "codedData[\"previousPlay\"].fillna(\"I don't know\", inplace = True)\n",
    "\n",
    "# Replace by code\n",
    "for rowId in range(codedData.shape[0]):\n",
    "    codedData.loc[rowId, \"gameInterest\"] = gameInterestCoding[codedData.loc[rowId, \"gameInterest\"]]\n",
    "    codedData.loc[rowId, \"gameFrequency\"] = gameFrequencyCoding[codedData.loc[rowId, \"gameFrequency\"]]\n",
    "    codedData.loc[rowId, \"biologyStudy\"] = biologyStudyCoding[codedData.loc[rowId, \"biologyStudy\"]]\n",
    "    codedData.loc[rowId, \"biologyInterest\"] = biologyInterestCoding[codedData.loc[rowId, \"biologyInterest\"]]\n",
    "    codedData.loc[rowId, \"synthBioKnowledge\"] = previousKnowledgeCoding[codedData.loc[rowId, \"synthBioKnowledge\"]]\n",
    "    codedData.loc[rowId, \"biobrickKnowledge\"] = previousKnowledgeCoding[codedData.loc[rowId, \"biobrickKnowledge\"]]\n",
    "    codedData.loc[rowId, \"previousVersion\"] = previousPlayCoding[codedData.loc[rowId, \"previousVersion\"]]\n",
    "    codedData.loc[rowId, \"previousPlay\"] = previousPlayCoding[codedData.loc[rowId, \"previousPlay\"]]\n",
    "    codedData.loc[rowId, \"arcadePlay\"] = previousPlayCoding[codedData.loc[rowId, \"arcadePlay\"]]\n",
    "    codedData.loc[rowId, \"androidPlay\"] = previousPlayCoding[codedData.loc[rowId, \"androidPlay\"]]\n",
    "    codedData.loc[rowId, \"lang\"] = languageCoding[codedData.loc[rowId, \"lang\"]]\n",
    "    codedData.loc[rowId, \"temporality\"] = temporalityCoding[codedData.loc[rowId, \"temporality\"]]\n",
    "    "
   ]
  },
  {
   "cell_type": "code",
   "execution_count": 28,
   "metadata": {
    "collapsed": true
   },
   "outputs": [],
   "source": [
    "# One-Hot version\n",
    "codedData = pd.get_dummies(codedData, prefix = [\"gender\", \"Q1\", \"Q2\", \"Q3\", \"Q4\", \"Q5\", \"Q6\", \"Q7\", \"Q8\", \"Q9\", \"Q10\", \"Q11\", \"Q12\", \"Q13\", \"Q14\", \"Q15\", \"Q16\", \"Q17\", \"Q18\", \"Q19\", \"Q20\", \"Q21\", \"Q22\", \"Q23\", \"Q24\", \"Q25\", \"Q26\", \"Q27\"], columns = [\"gender\", \"Q1\", \"Q2\", \"Q3\", \"Q4\", \"Q5\", \"Q6\", \"Q7\", \"Q8\", \"Q9\", \"Q10\", \"Q11\", \"Q12\", \"Q13\", \"Q14\", \"Q15\", \"Q16\", \"Q17\", \"Q18\", \"Q19\", \"Q20\", \"Q21\", \"Q22\", \"Q23\", \"Q24\", \"Q25\", \"Q26\", \"Q27\"])\n",
    "#codedData.head()"
   ]
  },
  {
   "cell_type": "code",
   "execution_count": 29,
   "metadata": {
    "collapsed": true
   },
   "outputs": [],
   "source": [
    "# Split the forms according to temporality\n",
    "beforeForms = codedData.copy().loc[codedData[\"temporality\"] == 0,:]\n",
    "afterForms = codedData.copy().loc[codedData[\"temporality\"] == 1,:]\n",
    "undefForms = codedData.copy().loc[codedData[\"temporality\"] == -5,:]\n",
    "defForms = codedData.copy().loc[codedData[\"temporality\"] >= 0,:] # Either before or after\n",
    "# For subjects with both before and after forms, join the two\n",
    "beforeAndAfterForms = pd.merge(beforeForms, afterForms, on=\"anonymousID\", suffixes=('_before', '_after'))\n",
    "#beforeForms.head()\n",
    "#afterForms.head()\n",
    "#undefForms.head()\n",
    "#defForms.head()\n",
    "#beforeAndAfterForms.head()"
   ]
  },
  {
   "cell_type": "code",
   "execution_count": 30,
   "metadata": {
    "collapsed": true
   },
   "outputs": [],
   "source": [
    "# Remove ID feature\n",
    "allForms = codedData.copy().drop(\"anonymousID\", axis=1)\n",
    "beforeForms.drop(\"anonymousID\", axis=1, inplace = True)\n",
    "afterForms.drop(\"anonymousID\", axis=1, inplace = True)\n",
    "undefForms.drop(\"anonymousID\", axis=1, inplace = True)\n",
    "defForms.drop(\"anonymousID\", axis=1, inplace = True)\n",
    "beforeAndAfterForms.drop(\"anonymousID\", axis=1, inplace = True)"
   ]
  },
  {
   "cell_type": "markdown",
   "metadata": {},
   "source": [
    "### With corrected scientific answers"
   ]
  },
  {
   "cell_type": "code",
   "execution_count": 31,
   "metadata": {
    "collapsed": true
   },
   "outputs": [],
   "source": [
    "# Remove timestamp and comments features\n",
    "codedCorrectedData = correctedData.copy().drop(['timestamp', \"comments\"], axis=1)"
   ]
  },
  {
   "cell_type": "code",
   "execution_count": 32,
   "metadata": {
    "collapsed": true
   },
   "outputs": [],
   "source": [
    "# Fill NaN cells\n",
    "codedCorrectedData[\"biobrickKnowledge\"].fillna(\"I don't know\", inplace = True)\n",
    "codedCorrectedData[\"arcadePlay\"].fillna(\"I don't know\", inplace = True)\n",
    "codedCorrectedData[\"androidPlay\"].fillna(\"I don't know\", inplace = True)\n",
    "codedCorrectedData[\"previousPlay\"].fillna(\"I don't know\", inplace = True)\n",
    "\n",
    "# Replace by code\n",
    "for rowId in range(codedData.shape[0]):\n",
    "    codedCorrectedData.loc[rowId, \"gameInterest\"] = gameInterestCoding[codedCorrectedData.loc[rowId, \"gameInterest\"]]\n",
    "    codedCorrectedData.loc[rowId, \"gameFrequency\"] = gameFrequencyCoding[codedCorrectedData.loc[rowId, \"gameFrequency\"]]\n",
    "    codedCorrectedData.loc[rowId, \"biologyStudy\"] = biologyStudyCoding[codedCorrectedData.loc[rowId, \"biologyStudy\"]]\n",
    "    codedCorrectedData.loc[rowId, \"biologyInterest\"] = biologyInterestCoding[codedCorrectedData.loc[rowId, \"biologyInterest\"]]\n",
    "    codedCorrectedData.loc[rowId, \"synthBioKnowledge\"] = previousKnowledgeCoding[codedCorrectedData.loc[rowId, \"synthBioKnowledge\"]]\n",
    "    codedCorrectedData.loc[rowId, \"biobrickKnowledge\"] = previousKnowledgeCoding[codedCorrectedData.loc[rowId, \"biobrickKnowledge\"]]\n",
    "    codedCorrectedData.loc[rowId, \"previousVersion\"] = previousPlayCoding[codedCorrectedData.loc[rowId, \"previousVersion\"]]\n",
    "    codedCorrectedData.loc[rowId, \"previousPlay\"] = previousPlayCoding[codedCorrectedData.loc[rowId, \"previousPlay\"]]\n",
    "    codedCorrectedData.loc[rowId, \"arcadePlay\"] = previousPlayCoding[codedCorrectedData.loc[rowId, \"arcadePlay\"]]\n",
    "    codedCorrectedData.loc[rowId, \"androidPlay\"] = previousPlayCoding[codedCorrectedData.loc[rowId, \"androidPlay\"]]\n",
    "    codedCorrectedData.loc[rowId, \"lang\"] = languageCoding[codedCorrectedData.loc[rowId, \"lang\"]]\n",
    "    codedCorrectedData.loc[rowId, \"temporality\"] = temporalityCoding[codedCorrectedData.loc[rowId, \"temporality\"]]"
   ]
  },
  {
   "cell_type": "code",
   "execution_count": 33,
   "metadata": {},
   "outputs": [
    {
     "data": {
      "text/html": [
       "<div>\n",
       "<style>\n",
       "    .dataframe thead tr:only-child th {\n",
       "        text-align: right;\n",
       "    }\n",
       "\n",
       "    .dataframe thead th {\n",
       "        text-align: left;\n",
       "    }\n",
       "\n",
       "    .dataframe tbody tr th {\n",
       "        vertical-align: top;\n",
       "    }\n",
       "</style>\n",
       "<table border=\"1\" class=\"dataframe\">\n",
       "  <thead>\n",
       "    <tr style=\"text-align: right;\">\n",
       "      <th></th>\n",
       "      <th>gameInterest</th>\n",
       "      <th>gameFrequency</th>\n",
       "      <th>age</th>\n",
       "      <th>biologyStudy</th>\n",
       "      <th>biologyInterest</th>\n",
       "      <th>synthBioKnowledge</th>\n",
       "      <th>biobrickKnowledge</th>\n",
       "      <th>previousVersion</th>\n",
       "      <th>previousPlay</th>\n",
       "      <th>arcadePlay</th>\n",
       "      <th>...</th>\n",
       "      <th>Q25</th>\n",
       "      <th>Q26</th>\n",
       "      <th>Q27</th>\n",
       "      <th>anonymousID</th>\n",
       "      <th>lang</th>\n",
       "      <th>temporality</th>\n",
       "      <th>gender_Female</th>\n",
       "      <th>gender_Male</th>\n",
       "      <th>gender_Other</th>\n",
       "      <th>gender_Prefer not to say</th>\n",
       "    </tr>\n",
       "  </thead>\n",
       "  <tbody>\n",
       "    <tr>\n",
       "      <th>0</th>\n",
       "      <td>5</td>\n",
       "      <td>5</td>\n",
       "      <td>23</td>\n",
       "      <td>3</td>\n",
       "      <td>5</td>\n",
       "      <td>1</td>\n",
       "      <td>0</td>\n",
       "      <td>0</td>\n",
       "      <td>1</td>\n",
       "      <td>0</td>\n",
       "      <td>...</td>\n",
       "      <td>1</td>\n",
       "      <td>1</td>\n",
       "      <td>1</td>\n",
       "      <td>8d352896-a3f1-471c-8439-0f426df901c1</td>\n",
       "      <td>0</td>\n",
       "      <td>1</td>\n",
       "      <td>1</td>\n",
       "      <td>0</td>\n",
       "      <td>0</td>\n",
       "      <td>0</td>\n",
       "    </tr>\n",
       "    <tr>\n",
       "      <th>1</th>\n",
       "      <td>3</td>\n",
       "      <td>3</td>\n",
       "      <td>28</td>\n",
       "      <td>2</td>\n",
       "      <td>3</td>\n",
       "      <td>1</td>\n",
       "      <td>0</td>\n",
       "      <td>0</td>\n",
       "      <td>1</td>\n",
       "      <td>0</td>\n",
       "      <td>...</td>\n",
       "      <td>1</td>\n",
       "      <td>1</td>\n",
       "      <td>1</td>\n",
       "      <td>7037c5b2-c286-498e-9784-9a061c778609</td>\n",
       "      <td>0</td>\n",
       "      <td>1</td>\n",
       "      <td>0</td>\n",
       "      <td>0</td>\n",
       "      <td>1</td>\n",
       "      <td>0</td>\n",
       "    </tr>\n",
       "    <tr>\n",
       "      <th>2</th>\n",
       "      <td>4</td>\n",
       "      <td>3</td>\n",
       "      <td>20</td>\n",
       "      <td>3</td>\n",
       "      <td>3</td>\n",
       "      <td>0</td>\n",
       "      <td>0</td>\n",
       "      <td>0</td>\n",
       "      <td>1</td>\n",
       "      <td>0</td>\n",
       "      <td>...</td>\n",
       "      <td>1</td>\n",
       "      <td>1</td>\n",
       "      <td>1</td>\n",
       "      <td>5c4939b5-425b-4d19-b5d2-0384a515539e</td>\n",
       "      <td>0</td>\n",
       "      <td>1</td>\n",
       "      <td>1</td>\n",
       "      <td>0</td>\n",
       "      <td>0</td>\n",
       "      <td>0</td>\n",
       "    </tr>\n",
       "    <tr>\n",
       "      <th>3</th>\n",
       "      <td>3</td>\n",
       "      <td>3</td>\n",
       "      <td>0</td>\n",
       "      <td>0</td>\n",
       "      <td>3</td>\n",
       "      <td>0</td>\n",
       "      <td>0</td>\n",
       "      <td>0</td>\n",
       "      <td>1</td>\n",
       "      <td>0</td>\n",
       "      <td>...</td>\n",
       "      <td>1</td>\n",
       "      <td>1</td>\n",
       "      <td>1</td>\n",
       "      <td>7825d421-d668-4481-898a-46b51efe40f0</td>\n",
       "      <td>0</td>\n",
       "      <td>-5</td>\n",
       "      <td>0</td>\n",
       "      <td>0</td>\n",
       "      <td>1</td>\n",
       "      <td>0</td>\n",
       "    </tr>\n",
       "    <tr>\n",
       "      <th>4</th>\n",
       "      <td>3</td>\n",
       "      <td>3</td>\n",
       "      <td>21</td>\n",
       "      <td>3</td>\n",
       "      <td>4</td>\n",
       "      <td>1</td>\n",
       "      <td>0</td>\n",
       "      <td>0</td>\n",
       "      <td>1</td>\n",
       "      <td>0</td>\n",
       "      <td>...</td>\n",
       "      <td>1</td>\n",
       "      <td>1</td>\n",
       "      <td>1</td>\n",
       "      <td>acb9c989-b4a6-4c4d-81cc-6b5783ec71d8</td>\n",
       "      <td>0</td>\n",
       "      <td>1</td>\n",
       "      <td>0</td>\n",
       "      <td>1</td>\n",
       "      <td>0</td>\n",
       "      <td>0</td>\n",
       "    </tr>\n",
       "  </tbody>\n",
       "</table>\n",
       "<p>5 rows × 45 columns</p>\n",
       "</div>"
      ],
      "text/plain": [
       "  gameInterest gameFrequency  age biologyStudy biologyInterest  \\\n",
       "0            5             5   23            3               5   \n",
       "1            3             3   28            2               3   \n",
       "2            4             3   20            3               3   \n",
       "3            3             3    0            0               3   \n",
       "4            3             3   21            3               4   \n",
       "\n",
       "  synthBioKnowledge biobrickKnowledge previousVersion previousPlay arcadePlay  \\\n",
       "0                 1                 0               0            1          0   \n",
       "1                 1                 0               0            1          0   \n",
       "2                 0                 0               0            1          0   \n",
       "3                 0                 0               0            1          0   \n",
       "4                 1                 0               0            1          0   \n",
       "\n",
       "            ...            Q25 Q26 Q27                           anonymousID  \\\n",
       "0           ...              1   1   1  8d352896-a3f1-471c-8439-0f426df901c1   \n",
       "1           ...              1   1   1  7037c5b2-c286-498e-9784-9a061c778609   \n",
       "2           ...              1   1   1  5c4939b5-425b-4d19-b5d2-0384a515539e   \n",
       "3           ...              1   1   1  7825d421-d668-4481-898a-46b51efe40f0   \n",
       "4           ...              1   1   1  acb9c989-b4a6-4c4d-81cc-6b5783ec71d8   \n",
       "\n",
       "  lang temporality gender_Female gender_Male gender_Other  \\\n",
       "0    0           1             1           0            0   \n",
       "1    0           1             0           0            1   \n",
       "2    0           1             1           0            0   \n",
       "3    0          -5             0           0            1   \n",
       "4    0           1             0           1            0   \n",
       "\n",
       "  gender_Prefer not to say  \n",
       "0                        0  \n",
       "1                        0  \n",
       "2                        0  \n",
       "3                        0  \n",
       "4                        0  \n",
       "\n",
       "[5 rows x 45 columns]"
      ]
     },
     "execution_count": 33,
     "metadata": {},
     "output_type": "execute_result"
    }
   ],
   "source": [
    "# One-Hot versions of the above dataframes\n",
    "codedCorrectedData = pd.get_dummies(codedCorrectedData, prefix = [\"gender\"], columns = [\"gender\"])\n",
    "codedCorrectedData.head()"
   ]
  },
  {
   "cell_type": "code",
   "execution_count": 34,
   "metadata": {
    "collapsed": true
   },
   "outputs": [],
   "source": [
    "# Split the forms according to temporality\n",
    "beforeCorrectedForms = codedCorrectedData.copy().loc[codedCorrectedData[\"temporality\"] == 0,:]\n",
    "afterCorrectedForms = codedCorrectedData.copy().loc[codedCorrectedData[\"temporality\"] == 1,:]\n",
    "undefCorrectedForms = codedCorrectedData.copy().loc[codedCorrectedData[\"temporality\"] == -5,:]\n",
    "defCorrectedForms = codedCorrectedData.copy().loc[codedCorrectedData[\"temporality\"] >= 0,:] # Either before or after\n",
    "# For subjects with both before and after forms, join the two\n",
    "beforeAndAfterCorrectedForms = pd.merge(beforeCorrectedForms, afterCorrectedForms, on=\"anonymousID\", suffixes=('_before', '_after'))\n",
    "#beforeCorrectedForms.head()\n",
    "#afterCorrectedForms.head()\n",
    "#undefCorrectedForms.head()\n",
    "#defCorrectedForms.head()\n",
    "#beforeAndAfterCorrectedForms.head()"
   ]
  },
  {
   "cell_type": "code",
   "execution_count": 35,
   "metadata": {
    "collapsed": true
   },
   "outputs": [],
   "source": [
    "# Remove ID feature\n",
    "allCorrectedForms = codedCorrectedData.copy().drop(\"anonymousID\", axis=1)\n",
    "beforeCorrectedForms.drop(\"anonymousID\", axis=1, inplace = True)\n",
    "afterCorrectedForms.drop(\"anonymousID\", axis=1, inplace = True)\n",
    "undefCorrectedForms.drop(\"anonymousID\", axis=1, inplace = True)\n",
    "defCorrectedForms.drop(\"anonymousID\", axis=1, inplace = True)\n",
    "beforeAndAfterCorrectedForms.drop(\"anonymousID\", axis=1, inplace = True)"
   ]
  },
  {
   "cell_type": "code",
   "execution_count": null,
   "metadata": {},
   "outputs": [],
   "source": []
  },
  {
   "cell_type": "code",
   "execution_count": null,
   "metadata": {
    "collapsed": true
   },
   "outputs": [],
   "source": []
  }
 ],
 "metadata": {
  "kernelspec": {
   "display_name": "Python 3",
   "language": "python",
   "name": "python3"
  },
  "language_info": {
   "codemirror_mode": {
    "name": "ipython",
    "version": 3
   },
   "file_extension": ".py",
   "mimetype": "text/x-python",
   "name": "python",
   "nbconvert_exporter": "python",
   "pygments_lexer": "ipython3",
   "version": "3.6.3"
  }
 },
 "nbformat": 4,
 "nbformat_minor": 2
}
