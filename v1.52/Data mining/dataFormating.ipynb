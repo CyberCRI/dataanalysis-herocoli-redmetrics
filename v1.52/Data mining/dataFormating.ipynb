{
 "cells": [
  {
   "cell_type": "code",
   "execution_count": 101,
   "metadata": {
    "scrolled": false
   },
   "outputs": [
    {
     "name": "stderr",
     "output_type": "stream",
     "text": [
      "/home/emma/anaconda3/lib/python3.6/site-packages/IPython/core/interactiveshell.py:2698: DtypeWarning: Columns (18,21,22,28,32,38) have mixed types. Specify dtype option on import or set low_memory=False.\n",
      "  interactivity=interactivity, compiler=compiler, result=result)\n",
      "/home/emma/anaconda3/lib/python3.6/site-packages/IPython/core/interactiveshell.py:2698: DtypeWarning: Columns (14,15,16,17,18,20,21,22,25,26,27,30,33,34,35,36,37,38,39,40,41,42,43) have mixed types. Specify dtype option on import or set low_memory=False.\n",
      "  interactivity=interactivity, compiler=compiler, result=result)\n",
      "/home/emma/anaconda3/lib/python3.6/site-packages/IPython/core/interactiveshell.py:2698: DtypeWarning: Columns (18,21,22,28,32,38) have mixed types. Specify dtype option on import or set low_memory=False.\n",
      "  interactivity=interactivity, compiler=compiler, result=result)\n",
      "/home/emma/anaconda3/lib/python3.6/site-packages/IPython/core/interactiveshell.py:2698: DtypeWarning: Columns (14,15,16,17,18,20,21,22,25,26,27,30,33,34,35,36,37,38,39,40,41,42,43) have mixed types. Specify dtype option on import or set low_memory=False.\n",
      "  interactivity=interactivity, compiler=compiler, result=result)\n",
      "/home/emma/anaconda3/lib/python3.6/site-packages/IPython/core/interactiveshell.py:2698: DtypeWarning: Columns (18,21,22,28,32,38) have mixed types. Specify dtype option on import or set low_memory=False.\n",
      "  interactivity=interactivity, compiler=compiler, result=result)\n",
      "/home/emma/anaconda3/lib/python3.6/site-packages/IPython/core/interactiveshell.py:2698: DtypeWarning: Columns (14,15,16,17,18,20,21,22,25,26,27,30,33,34,35,36,37,38,39,40,41,42,43) have mixed types. Specify dtype option on import or set low_memory=False.\n",
      "  interactivity=interactivity, compiler=compiler, result=result)\n",
      "/home/emma/anaconda3/lib/python3.6/site-packages/IPython/core/interactiveshell.py:2698: DtypeWarning: Columns (18,21,22,28,32,38) have mixed types. Specify dtype option on import or set low_memory=False.\n",
      "  interactivity=interactivity, compiler=compiler, result=result)\n",
      "/home/emma/anaconda3/lib/python3.6/site-packages/IPython/core/interactiveshell.py:2698: DtypeWarning: Columns (14,15,16,17,18,20,21,22,25,26,27,30,33,34,35,36,37,38,39,40,41,42,43) have mixed types. Specify dtype option on import or set low_memory=False.\n",
      "  interactivity=interactivity, compiler=compiler, result=result)\n"
     ]
    }
   ],
   "source": [
    "%run \"../Functions/1. Google form analysis.ipynb\"\n",
    "%run \"../Functions/4. User comparison.ipynb\""
   ]
  },
  {
   "cell_type": "markdown",
   "metadata": {},
   "source": [
    "# Prepare data"
   ]
  },
  {
   "cell_type": "markdown",
   "metadata": {},
   "source": [
    "## Prepare Google form data"
   ]
  },
  {
   "cell_type": "code",
   "execution_count": 102,
   "metadata": {},
   "outputs": [
    {
     "name": "stderr",
     "output_type": "stream",
     "text": [
      "/home/emma/anaconda3/lib/python3.6/site-packages/ipykernel_launcher.py:7: SettingWithCopyWarning: \n",
      "A value is trying to be set on a copy of a slice from a DataFrame\n",
      "\n",
      "See the caveats in the documentation: http://pandas.pydata.org/pandas-docs/stable/indexing.html#indexing-view-versus-copy\n",
      "  import sys\n"
     ]
    }
   ],
   "source": [
    "setAnswerTemporalities(gform)\n",
    "#gform.head()"
   ]
  },
  {
   "cell_type": "code",
   "execution_count": 103,
   "metadata": {
    "collapsed": true
   },
   "outputs": [],
   "source": [
    "# Rename columns of the Google Forms table with tags independantly of form language\n",
    "columnTags = [\"timestamp\", \"gameInterest\", \"gameFrequency\", \"age\", \"gender\", \"biologyStudy\", \"biologyInterest\", \"synthBioKnowledge\", \"biobrickKnowledge\", \"previousVersion\", \"previousPlay\", \"arcadePlay\", \"androidPlay\", \"Q1\", \"Q2\", \"Q3\", \"Q4\", \"Q5\", \"Q6\", \"Q7\", \"Q8\", \"Q9\", \"Q10\", \"Q11\", \"Q12\", \"Q13\", \"Q14\", \"Q15\", \"Q16\", \"Q17\", \"Q18\", \"Q19\", \"Q20\", \"Q21\", \"Q22\", \"Q23\", \"Q24\", \"Q25\", \"Q26\", \"Q27\", \"comments\", \"anonymousID\", \"lang\", \"temporality\"]\n",
    "columnQuestions = gform.columns.values.tolist()\n",
    "googleData = gform.rename(columns=dict(zip(columnQuestions, columnTags)))\n",
    "#googleData.head()"
   ]
  },
  {
   "cell_type": "code",
   "execution_count": 104,
   "metadata": {
    "collapsed": true
   },
   "outputs": [],
   "source": [
    "# Replaces answers to scientific questions in the questionnaires by their values (True or False)\n",
    "correctedData = googleData.copy()\n",
    "for rowId in range(correctedData.shape[0]):\n",
    "    # Get the correction for each subject\n",
    "    playerId = correctedData.loc[rowId, \"anonymousID\"]\n",
    "    correction = getCorrections(playerId)\n",
    "    if correction.shape[1] > 0:\n",
    "        # If subject has answered questionnaire\n",
    "        correction = correction.rename(index=dict(zip(columnQuestions, columnTags)))\n",
    "        # Replace scientific answers by their correction\n",
    "        for questionId in range(27):\n",
    "            questionTag = \"Q\" + str(questionId + 1)\n",
    "            correctedData.loc[rowId, questionTag] = int(correction.loc[questionTag, \"corrections\" + str(rowId)])\n",
    "    \n",
    "#correctedData.head()"
   ]
  },
  {
   "cell_type": "code",
   "execution_count": 105,
   "metadata": {},
   "outputs": [
    {
     "data": {
      "text/plain": [
       "[('Timestamp', 'timestamp'),\n",
       " ('Are you interested in video games?', 'gameInterest'),\n",
       " ('Do you play video games?', 'gameFrequency'),\n",
       " ('How old are you?', 'age'),\n",
       " ('What is your gender?', 'gender'),\n",
       " ('How long have you studied biology?', 'biologyStudy'),\n",
       " ('Are you interested in biology?', 'biologyInterest'),\n",
       " ('Before playing Hero.Coli, had you ever heard about synthetic biology?',\n",
       "  'synthBioKnowledge'),\n",
       " ('Before playing Hero.Coli, had you ever heard about BioBricks?',\n",
       "  'biobrickKnowledge'),\n",
       " ('Have you ever played an older version of Hero.Coli before?',\n",
       "  'previousVersion'),\n",
       " ('Have you played the current version of Hero.Coli?', 'previousPlay'),\n",
       " ('Have you played the arcade cabinet version of Hero.Coli?', 'arcadePlay'),\n",
       " ('Have you played the Android version of Hero.Coli?', 'androidPlay'),\n",
       " ('In order to modify the abilities of the bacterium, you have to...', 'Q1'),\n",
       " ('What are BioBricks and devices?', 'Q2'),\n",
       " ('What is the name of this BioBrick?', 'Q3'),\n",
       " ('What is the name of this BioBrick?.1', 'Q4'),\n",
       " ('What is the name of this BioBrick?.2', 'Q5'),\n",
       " ('What is the name of this BioBrick?.3', 'Q6'),\n",
       " ('What does this BioBrick do?', 'Q7'),\n",
       " ('What does this BioBrick do?.1', 'Q8'),\n",
       " ('What does this BioBrick do?.2', 'Q9'),\n",
       " ('What does this BioBrick do?.3', 'Q10'),\n",
       " ('Pick the case where the BioBricks are well-ordered:', 'Q11'),\n",
       " ('When does green fluorescence happen?', 'Q12'),\n",
       " ('What happens when you unequip the movement device?', 'Q13'),\n",
       " ('What is this?', 'Q14'),\n",
       " ('What does this device do?', 'Q15'),\n",
       " ('What does this device do?.1', 'Q16'),\n",
       " ('What does this device do?.2', 'Q17'),\n",
       " ('What does this device do?.3', 'Q18'),\n",
       " ('What does this device do?.4', 'Q19'),\n",
       " ('What does this device do?.5', 'Q20'),\n",
       " ('What does this device do?.6', 'Q21'),\n",
       " ('What does this device do?.7', 'Q22'),\n",
       " ('Guess: what would a device producing l-arabinose do, if it started with a l-arabinose-induced promoter?',\n",
       "  'Q23'),\n",
       " ('Guess: the bacterium would glow yellow...', 'Q24'),\n",
       " ('What is the species of the bacterium of the game?', 'Q25'),\n",
       " ('What is the scientific name of the tails of the bacterium?', 'Q26'),\n",
       " ('Find the antibiotic:', 'Q27'),\n",
       " ('You can write down remarks here.', 'comments'),\n",
       " ('Do not edit -  pre-filled anonymous ID', 'anonymousID'),\n",
       " ('Language', 'lang'),\n",
       " ('Temporality', 'temporality')]"
      ]
     },
     "execution_count": 105,
     "metadata": {},
     "output_type": "execute_result"
    }
   ],
   "source": [
    "list(zip(columnQuestions, columnTags))"
   ]
  },
  {
   "cell_type": "markdown",
   "metadata": {},
   "source": [
    "## For association rule mining"
   ]
  },
  {
   "cell_type": "code",
   "execution_count": 106,
   "metadata": {
    "collapsed": true
   },
   "outputs": [],
   "source": [
    "# Get only answers to scientific questions\n",
    "correctedScientific = correctedData.loc[:, \"Q1\":\"Q27\"]\n",
    "#correctedScientific.head()"
   ]
  },
  {
   "cell_type": "markdown",
   "metadata": {
    "collapsed": true
   },
   "source": [
    "## For clustering"
   ]
  },
  {
   "cell_type": "code",
   "execution_count": 119,
   "metadata": {},
   "outputs": [],
   "source": [
    "# Remove timestamp and comments features\n",
    "codedData = googleData.copy().drop(['timestamp', \"comments\"], axis=1)\n",
    "#googleData.head()"
   ]
  },
  {
   "cell_type": "code",
   "execution_count": 120,
   "metadata": {},
   "outputs": [],
   "source": [
    "# Code answers with integers when possible\n",
    "\n",
    "# Define equivalences\n",
    "# gameInterest\n",
    "gameInterestCoding = {\"A lot\": 4, \"Beaucoup\": 4, \"Enormément\": 5, \"Extremely\": 5, \"Moderately\": 3, \"Moyennement\": 3, \"Slightly\": 2, \"Un peu\": 2, \"I don't know\": 3, \"Je ne sais pas\": 3, \"Not at all\": 1, \"Pas du tout\": 1}\n",
    "# gameFrequency\n",
    "gameFrequencyCoding = {\"A lot\": 4, \"Beaucoup\": 4, \"Enormément\": 5, \"Extremely\": 5, \"Moderately\": 3, \"Moyennement\": 3, \"Rarely\": 2, \"Un peu\": 2, \"I don't know\": 3, \"Je ne sais pas\": 3, \"Not at all\": 1, \"Pas du tout\": 1}\n",
    "# biologyStudy\n",
    "biologyStudyCoding = {\"Not even in middle school\": 0, \"Jamais\": 0, \"Jamais, pas même au collège\": 0, \"Until the end of middle school\": 1, \"Jusqu'au brevet\": 1, \"Until the end of high school\": 2, \"Jusqu'au bac\": 2, \"Until bachelor's degree\": 3, \"Jusqu'à la license\": 3, \"At least until master's degree\": 4, \"Au moins jusqu'au master\": 4, \"I don't know\": 0, \"Je ne sais pas\": 0}\n",
    "# biologyInterest\n",
    "biologyInterestCoding = {\"A lot\": 4, \"Beaucoup\": 4, \"Enormément\": 5, \"Extremely\": 5, \"Moderately\": 3, \"Moyennement\": 3, \"Slightly\": 2, \"Un peu\": 2, \"I don't know\": 3, \"Je ne sais pas\": 3, \"Not at all\": 1, \"Pas du tout\": 1}\n",
    "# synthBioKnowledge\n",
    "# biobrickKnowledge\n",
    "previousKnowledgeCoding = {\"Yes\": 1, \"No\": 0, \"I don't know\": 0, \"Oui\": 1, 'Non': 0, \"Je ne sais pas\": 0}\n",
    "# previousVersion\n",
    "# previousPlay\n",
    "# arcadePlay\n",
    "# androidPlay\n",
    "previousPlayCoding = {\"Multiple times\": 3, \"A few times\": 2, \"Once\": 1, \"Yes\": 1, \"No\": 0, \"I don't know\": 0, \"De nombreuses fois\": 3, \"Quelques fois\": 2, \"Une fois\": 1, \"Oui\": 1, \"Non\": 0, \"Je ne sais pas\": 0}\n",
    "# lang\n",
    "languageCoding = {\"en\": 0, \"fr\": 1}\n",
    "# temporality\n",
    "temporalityCoding = {\"before\": 0, \"after\": 1, \"undefined\": -5}\n",
    "\n",
    "# Fill NaN cells\n",
    "codedData[\"biobrickKnowledge\"].fillna(\"I don't know\", inplace = True)\n",
    "codedData[\"arcadePlay\"].fillna(\"I don't know\", inplace = True)\n",
    "codedData[\"androidPlay\"].fillna(\"I don't know\", inplace = True)\n",
    "codedData[\"previousPlay\"].fillna(\"I don't know\", inplace = True)\n",
    "\n",
    "# Replace by code\n",
    "for rowId in range(codedData.shape[0]):\n",
    "    codedData.loc[rowId, \"gameInterest\"] = gameInterestCoding[codedData.loc[rowId, \"gameInterest\"]]\n",
    "    codedData.loc[rowId, \"gameFrequency\"] = gameFrequencyCoding[codedData.loc[rowId, \"gameFrequency\"]]\n",
    "    codedData.loc[rowId, \"biologyStudy\"] = biologyStudyCoding[codedData.loc[rowId, \"biologyStudy\"]]\n",
    "    codedData.loc[rowId, \"biologyInterest\"] = biologyInterestCoding[codedData.loc[rowId, \"biologyInterest\"]]\n",
    "    codedData.loc[rowId, \"synthBioKnowledge\"] = previousKnowledgeCoding[codedData.loc[rowId, \"synthBioKnowledge\"]]\n",
    "    codedData.loc[rowId, \"biobrickKnowledge\"] = previousKnowledgeCoding[codedData.loc[rowId, \"biobrickKnowledge\"]]\n",
    "    codedData.loc[rowId, \"previousVersion\"] = previousPlayCoding[codedData.loc[rowId, \"previousVersion\"]]\n",
    "    codedData.loc[rowId, \"previousPlay\"] = previousPlayCoding[codedData.loc[rowId, \"previousPlay\"]]\n",
    "    codedData.loc[rowId, \"arcadePlay\"] = previousPlayCoding[codedData.loc[rowId, \"arcadePlay\"]]\n",
    "    codedData.loc[rowId, \"androidPlay\"] = previousPlayCoding[codedData.loc[rowId, \"androidPlay\"]]\n",
    "    codedData.loc[rowId, \"lang\"] = languageCoding[codedData.loc[rowId, \"lang\"]]\n",
    "    codedData.loc[rowId, \"temporality\"] = temporalityCoding[codedData.loc[rowId, \"temporality\"]]\n",
    "    "
   ]
  },
  {
   "cell_type": "code",
   "execution_count": 121,
   "metadata": {},
   "outputs": [],
   "source": [
    "# One-Hot versions of the above dataframes\n",
    "codedData = pd.get_dummies(codedData, prefix = [\"gender\", \"Q1\", \"Q2\", \"Q3\", \"Q4\", \"Q5\", \"Q6\", \"Q7\", \"Q8\", \"Q9\", \"Q10\", \"Q11\", \"Q12\", \"Q13\", \"Q14\", \"Q15\", \"Q16\", \"Q17\", \"Q18\", \"Q19\", \"Q20\", \"Q21\", \"Q22\", \"Q23\", \"Q24\", \"Q25\", \"Q26\", \"Q27\"], columns = [\"gender\", \"Q1\", \"Q2\", \"Q3\", \"Q4\", \"Q5\", \"Q6\", \"Q7\", \"Q8\", \"Q9\", \"Q10\", \"Q11\", \"Q12\", \"Q13\", \"Q14\", \"Q15\", \"Q16\", \"Q17\", \"Q18\", \"Q19\", \"Q20\", \"Q21\", \"Q22\", \"Q23\", \"Q24\", \"Q25\", \"Q26\", \"Q27\"])\n",
    "#codedData.head()"
   ]
  },
  {
   "cell_type": "code",
   "execution_count": 124,
   "metadata": {},
   "outputs": [
    {
     "data": {
      "text/html": [
       "<div>\n",
       "<style>\n",
       "    .dataframe thead tr:only-child th {\n",
       "        text-align: right;\n",
       "    }\n",
       "\n",
       "    .dataframe thead th {\n",
       "        text-align: left;\n",
       "    }\n",
       "\n",
       "    .dataframe tbody tr th {\n",
       "        vertical-align: top;\n",
       "    }\n",
       "</style>\n",
       "<table border=\"1\" class=\"dataframe\">\n",
       "  <thead>\n",
       "    <tr style=\"text-align: right;\">\n",
       "      <th></th>\n",
       "      <th>gameInterest_before</th>\n",
       "      <th>gameFrequency_before</th>\n",
       "      <th>age_before</th>\n",
       "      <th>biologyStudy_before</th>\n",
       "      <th>biologyInterest_before</th>\n",
       "      <th>synthBioKnowledge_before</th>\n",
       "      <th>biobrickKnowledge_before</th>\n",
       "      <th>previousVersion_before</th>\n",
       "      <th>previousPlay_before</th>\n",
       "      <th>arcadePlay_before</th>\n",
       "      <th>...</th>\n",
       "      <th>Q26_Des flagelles_after</th>\n",
       "      <th>Q26_Flagella_after</th>\n",
       "      <th>Q26_I don't know_after</th>\n",
       "      <th>Q26_Je ne sais pas_after</th>\n",
       "      <th>Q26_Plasmids_after</th>\n",
       "      <th>Q27_Ampicillin_after</th>\n",
       "      <th>Q27_Ampicilline_after</th>\n",
       "      <th>Q27_Arabinose_after</th>\n",
       "      <th>Q27_I don't know_after</th>\n",
       "      <th>Q27_Je ne sais pas_after</th>\n",
       "    </tr>\n",
       "  </thead>\n",
       "  <tbody>\n",
       "    <tr>\n",
       "      <th>0</th>\n",
       "      <td>4</td>\n",
       "      <td>2</td>\n",
       "      <td>19</td>\n",
       "      <td>2</td>\n",
       "      <td>5</td>\n",
       "      <td>1</td>\n",
       "      <td>0</td>\n",
       "      <td>0</td>\n",
       "      <td>0</td>\n",
       "      <td>0</td>\n",
       "      <td>...</td>\n",
       "      <td>0</td>\n",
       "      <td>1</td>\n",
       "      <td>0</td>\n",
       "      <td>0</td>\n",
       "      <td>0</td>\n",
       "      <td>1</td>\n",
       "      <td>0</td>\n",
       "      <td>0</td>\n",
       "      <td>0</td>\n",
       "      <td>0</td>\n",
       "    </tr>\n",
       "    <tr>\n",
       "      <th>1</th>\n",
       "      <td>3</td>\n",
       "      <td>2</td>\n",
       "      <td>18</td>\n",
       "      <td>3</td>\n",
       "      <td>5</td>\n",
       "      <td>1</td>\n",
       "      <td>0</td>\n",
       "      <td>0</td>\n",
       "      <td>0</td>\n",
       "      <td>0</td>\n",
       "      <td>...</td>\n",
       "      <td>1</td>\n",
       "      <td>0</td>\n",
       "      <td>0</td>\n",
       "      <td>0</td>\n",
       "      <td>0</td>\n",
       "      <td>0</td>\n",
       "      <td>1</td>\n",
       "      <td>0</td>\n",
       "      <td>0</td>\n",
       "      <td>0</td>\n",
       "    </tr>\n",
       "    <tr>\n",
       "      <th>2</th>\n",
       "      <td>4</td>\n",
       "      <td>3</td>\n",
       "      <td>17</td>\n",
       "      <td>1</td>\n",
       "      <td>2</td>\n",
       "      <td>1</td>\n",
       "      <td>0</td>\n",
       "      <td>0</td>\n",
       "      <td>0</td>\n",
       "      <td>0</td>\n",
       "      <td>...</td>\n",
       "      <td>1</td>\n",
       "      <td>0</td>\n",
       "      <td>0</td>\n",
       "      <td>0</td>\n",
       "      <td>0</td>\n",
       "      <td>0</td>\n",
       "      <td>1</td>\n",
       "      <td>0</td>\n",
       "      <td>0</td>\n",
       "      <td>0</td>\n",
       "    </tr>\n",
       "    <tr>\n",
       "      <th>3</th>\n",
       "      <td>2</td>\n",
       "      <td>2</td>\n",
       "      <td>18</td>\n",
       "      <td>2</td>\n",
       "      <td>5</td>\n",
       "      <td>1</td>\n",
       "      <td>1</td>\n",
       "      <td>0</td>\n",
       "      <td>0</td>\n",
       "      <td>0</td>\n",
       "      <td>...</td>\n",
       "      <td>0</td>\n",
       "      <td>1</td>\n",
       "      <td>0</td>\n",
       "      <td>0</td>\n",
       "      <td>0</td>\n",
       "      <td>1</td>\n",
       "      <td>0</td>\n",
       "      <td>0</td>\n",
       "      <td>0</td>\n",
       "      <td>0</td>\n",
       "    </tr>\n",
       "    <tr>\n",
       "      <th>4</th>\n",
       "      <td>3</td>\n",
       "      <td>3</td>\n",
       "      <td>18</td>\n",
       "      <td>1</td>\n",
       "      <td>4</td>\n",
       "      <td>1</td>\n",
       "      <td>0</td>\n",
       "      <td>0</td>\n",
       "      <td>0</td>\n",
       "      <td>0</td>\n",
       "      <td>...</td>\n",
       "      <td>1</td>\n",
       "      <td>0</td>\n",
       "      <td>0</td>\n",
       "      <td>0</td>\n",
       "      <td>0</td>\n",
       "      <td>0</td>\n",
       "      <td>1</td>\n",
       "      <td>0</td>\n",
       "      <td>0</td>\n",
       "      <td>0</td>\n",
       "    </tr>\n",
       "  </tbody>\n",
       "</table>\n",
       "<p>5 rows × 409 columns</p>\n",
       "</div>"
      ],
      "text/plain": [
       "  gameInterest_before gameFrequency_before  age_before biologyStudy_before  \\\n",
       "0                   4                    2          19                   2   \n",
       "1                   3                    2          18                   3   \n",
       "2                   4                    3          17                   1   \n",
       "3                   2                    2          18                   2   \n",
       "4                   3                    3          18                   1   \n",
       "\n",
       "  biologyInterest_before synthBioKnowledge_before biobrickKnowledge_before  \\\n",
       "0                      5                        1                        0   \n",
       "1                      5                        1                        0   \n",
       "2                      2                        1                        0   \n",
       "3                      5                        1                        1   \n",
       "4                      4                        1                        0   \n",
       "\n",
       "  previousVersion_before previousPlay_before arcadePlay_before  \\\n",
       "0                      0                   0                 0   \n",
       "1                      0                   0                 0   \n",
       "2                      0                   0                 0   \n",
       "3                      0                   0                 0   \n",
       "4                      0                   0                 0   \n",
       "\n",
       "             ...            Q26_Des flagelles_after Q26_Flagella_after  \\\n",
       "0            ...                                  0                  1   \n",
       "1            ...                                  1                  0   \n",
       "2            ...                                  1                  0   \n",
       "3            ...                                  0                  1   \n",
       "4            ...                                  1                  0   \n",
       "\n",
       "  Q26_I don't know_after Q26_Je ne sais pas_after  Q26_Plasmids_after  \\\n",
       "0                      0                        0                   0   \n",
       "1                      0                        0                   0   \n",
       "2                      0                        0                   0   \n",
       "3                      0                        0                   0   \n",
       "4                      0                        0                   0   \n",
       "\n",
       "   Q27_Ampicillin_after  Q27_Ampicilline_after  Q27_Arabinose_after  \\\n",
       "0                     1                      0                    0   \n",
       "1                     0                      1                    0   \n",
       "2                     0                      1                    0   \n",
       "3                     1                      0                    0   \n",
       "4                     0                      1                    0   \n",
       "\n",
       "   Q27_I don't know_after  Q27_Je ne sais pas_after  \n",
       "0                       0                         0  \n",
       "1                       0                         0  \n",
       "2                       0                         0  \n",
       "3                       0                         0  \n",
       "4                       0                         0  \n",
       "\n",
       "[5 rows x 409 columns]"
      ]
     },
     "execution_count": 124,
     "metadata": {},
     "output_type": "execute_result"
    }
   ],
   "source": [
    "# Split the forms according to temporality\n",
    "beforeForms = codedData.loc[codedData[\"temporality\"] == 0,:]\n",
    "afterForms = codedData.loc[codedData[\"temporality\"] == 1,:]\n",
    "undefForms = codedData.loc[codedData[\"temporality\"] == -5,:]\n",
    "defForms = codedData.loc[codedData[\"temporality\"] >= 0,:] # Either before or after\n",
    "# For subjects with both before and after forms, join the two\n",
    "beforeAndAfterForms = pd.merge(beforeForms, afterForms, on=\"anonymousID\", suffixes=('_before', '_after'))\n",
    "#beforeForms.head()\n",
    "#afterForms.head()\n",
    "#undefForms.head()\n",
    "#defForms.head()\n",
    "#beforeAndAfterForms.head()"
   ]
  },
  {
   "cell_type": "code",
   "execution_count": 128,
   "metadata": {},
   "outputs": [
    {
     "ename": "ValueError",
     "evalue": "labels ['anonymousID'] not contained in axis",
     "output_type": "error",
     "traceback": [
      "\u001b[0;31m---------------------------------------------------------------------------\u001b[0m",
      "\u001b[0;31mValueError\u001b[0m                                Traceback (most recent call last)",
      "\u001b[0;32m<ipython-input-128-fe68eb4d6c12>\u001b[0m in \u001b[0;36m<module>\u001b[0;34m()\u001b[0m\n\u001b[1;32m      1\u001b[0m \u001b[0;31m# Remove ID feature\u001b[0m\u001b[0;34m\u001b[0m\u001b[0;34m\u001b[0m\u001b[0m\n\u001b[0;32m----> 2\u001b[0;31m \u001b[0mbeforeForms\u001b[0m\u001b[0;34m.\u001b[0m\u001b[0mdrop\u001b[0m\u001b[0;34m(\u001b[0m\u001b[0;34m\"anonymousID\"\u001b[0m\u001b[0;34m,\u001b[0m \u001b[0maxis\u001b[0m\u001b[0;34m=\u001b[0m\u001b[0;36m1\u001b[0m\u001b[0;34m,\u001b[0m \u001b[0minplace\u001b[0m \u001b[0;34m=\u001b[0m \u001b[0;32mTrue\u001b[0m\u001b[0;34m)\u001b[0m\u001b[0;34m\u001b[0m\u001b[0m\n\u001b[0m\u001b[1;32m      3\u001b[0m \u001b[0mafterForms\u001b[0m\u001b[0;34m.\u001b[0m\u001b[0mdrop\u001b[0m\u001b[0;34m(\u001b[0m\u001b[0;34m\"anonymousID\"\u001b[0m\u001b[0;34m,\u001b[0m \u001b[0maxis\u001b[0m\u001b[0;34m=\u001b[0m\u001b[0;36m1\u001b[0m\u001b[0;34m,\u001b[0m \u001b[0minplace\u001b[0m \u001b[0;34m=\u001b[0m \u001b[0;32mTrue\u001b[0m\u001b[0;34m)\u001b[0m\u001b[0;34m\u001b[0m\u001b[0m\n\u001b[1;32m      4\u001b[0m \u001b[0mundefForms\u001b[0m\u001b[0;34m.\u001b[0m\u001b[0mdrop\u001b[0m\u001b[0;34m(\u001b[0m\u001b[0;34m\"anonymousID\"\u001b[0m\u001b[0;34m,\u001b[0m \u001b[0maxis\u001b[0m\u001b[0;34m=\u001b[0m\u001b[0;36m1\u001b[0m\u001b[0;34m,\u001b[0m \u001b[0minplace\u001b[0m \u001b[0;34m=\u001b[0m \u001b[0;32mTrue\u001b[0m\u001b[0;34m)\u001b[0m\u001b[0;34m\u001b[0m\u001b[0m\n\u001b[1;32m      5\u001b[0m \u001b[0mdefForms\u001b[0m\u001b[0;34m.\u001b[0m\u001b[0mdrop\u001b[0m\u001b[0;34m(\u001b[0m\u001b[0;34m\"anonymousID\"\u001b[0m\u001b[0;34m,\u001b[0m \u001b[0maxis\u001b[0m\u001b[0;34m=\u001b[0m\u001b[0;36m1\u001b[0m\u001b[0;34m,\u001b[0m \u001b[0minplace\u001b[0m \u001b[0;34m=\u001b[0m \u001b[0;32mTrue\u001b[0m\u001b[0;34m)\u001b[0m\u001b[0;34m\u001b[0m\u001b[0m\n",
      "\u001b[0;32m~/anaconda3/lib/python3.6/site-packages/pandas/core/generic.py\u001b[0m in \u001b[0;36mdrop\u001b[0;34m(self, labels, axis, level, inplace, errors)\u001b[0m\n\u001b[1;32m   2159\u001b[0m                 \u001b[0mnew_axis\u001b[0m \u001b[0;34m=\u001b[0m \u001b[0maxis\u001b[0m\u001b[0;34m.\u001b[0m\u001b[0mdrop\u001b[0m\u001b[0;34m(\u001b[0m\u001b[0mlabels\u001b[0m\u001b[0;34m,\u001b[0m \u001b[0mlevel\u001b[0m\u001b[0;34m=\u001b[0m\u001b[0mlevel\u001b[0m\u001b[0;34m,\u001b[0m \u001b[0merrors\u001b[0m\u001b[0;34m=\u001b[0m\u001b[0merrors\u001b[0m\u001b[0;34m)\u001b[0m\u001b[0;34m\u001b[0m\u001b[0m\n\u001b[1;32m   2160\u001b[0m             \u001b[0;32melse\u001b[0m\u001b[0;34m:\u001b[0m\u001b[0;34m\u001b[0m\u001b[0m\n\u001b[0;32m-> 2161\u001b[0;31m                 \u001b[0mnew_axis\u001b[0m \u001b[0;34m=\u001b[0m \u001b[0maxis\u001b[0m\u001b[0;34m.\u001b[0m\u001b[0mdrop\u001b[0m\u001b[0;34m(\u001b[0m\u001b[0mlabels\u001b[0m\u001b[0;34m,\u001b[0m \u001b[0merrors\u001b[0m\u001b[0;34m=\u001b[0m\u001b[0merrors\u001b[0m\u001b[0;34m)\u001b[0m\u001b[0;34m\u001b[0m\u001b[0m\n\u001b[0m\u001b[1;32m   2162\u001b[0m             \u001b[0mdropped\u001b[0m \u001b[0;34m=\u001b[0m \u001b[0mself\u001b[0m\u001b[0;34m.\u001b[0m\u001b[0mreindex\u001b[0m\u001b[0;34m(\u001b[0m\u001b[0;34m**\u001b[0m\u001b[0;34m{\u001b[0m\u001b[0maxis_name\u001b[0m\u001b[0;34m:\u001b[0m \u001b[0mnew_axis\u001b[0m\u001b[0;34m}\u001b[0m\u001b[0;34m)\u001b[0m\u001b[0;34m\u001b[0m\u001b[0m\n\u001b[1;32m   2163\u001b[0m             \u001b[0;32mtry\u001b[0m\u001b[0;34m:\u001b[0m\u001b[0;34m\u001b[0m\u001b[0m\n",
      "\u001b[0;32m~/anaconda3/lib/python3.6/site-packages/pandas/core/indexes/base.py\u001b[0m in \u001b[0;36mdrop\u001b[0;34m(self, labels, errors)\u001b[0m\n\u001b[1;32m   3622\u001b[0m             \u001b[0;32mif\u001b[0m \u001b[0merrors\u001b[0m \u001b[0;34m!=\u001b[0m \u001b[0;34m'ignore'\u001b[0m\u001b[0;34m:\u001b[0m\u001b[0;34m\u001b[0m\u001b[0m\n\u001b[1;32m   3623\u001b[0m                 raise ValueError('labels %s not contained in axis' %\n\u001b[0;32m-> 3624\u001b[0;31m                                  labels[mask])\n\u001b[0m\u001b[1;32m   3625\u001b[0m             \u001b[0mindexer\u001b[0m \u001b[0;34m=\u001b[0m \u001b[0mindexer\u001b[0m\u001b[0;34m[\u001b[0m\u001b[0;34m~\u001b[0m\u001b[0mmask\u001b[0m\u001b[0;34m]\u001b[0m\u001b[0;34m\u001b[0m\u001b[0m\n\u001b[1;32m   3626\u001b[0m         \u001b[0;32mreturn\u001b[0m \u001b[0mself\u001b[0m\u001b[0;34m.\u001b[0m\u001b[0mdelete\u001b[0m\u001b[0;34m(\u001b[0m\u001b[0mindexer\u001b[0m\u001b[0;34m)\u001b[0m\u001b[0;34m\u001b[0m\u001b[0m\n",
      "\u001b[0;31mValueError\u001b[0m: labels ['anonymousID'] not contained in axis"
     ]
    }
   ],
   "source": [
    "# Remove ID feature\n",
    "beforeForms.drop(\"anonymousID\", axis=1, inplace = True)\n",
    "afterForms.drop(\"anonymousID\", axis=1, inplace = True)\n",
    "undefForms.drop(\"anonymousID\", axis=1, inplace = True)\n",
    "defForms.drop(\"anonymousID\", axis=1, inplace = True)\n",
    "beforeAndAfterForms.drop(\"anonymousID\", axis=1, inplace = True)"
   ]
  },
  {
   "cell_type": "code",
   "execution_count": null,
   "metadata": {
    "collapsed": true
   },
   "outputs": [],
   "source": []
  }
 ],
 "metadata": {
  "kernelspec": {
   "display_name": "Python 3",
   "language": "python",
   "name": "python3"
  },
  "language_info": {
   "codemirror_mode": {
    "name": "ipython",
    "version": 3
   },
   "file_extension": ".py",
   "mimetype": "text/x-python",
   "name": "python",
   "nbconvert_exporter": "python",
   "pygments_lexer": "ipython3",
   "version": "3.6.3"
  }
 },
 "nbformat": 4,
 "nbformat_minor": 2
}
