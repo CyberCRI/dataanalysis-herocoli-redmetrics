{
 "cells": [
  {
   "cell_type": "code",
   "execution_count": 1,
   "metadata": {
    "collapsed": false,
    "scrolled": true
   },
   "outputs": [
    {
     "name": "stderr",
     "output_type": "stream",
     "text": [
      "C:\\Users\\Mikael\\Anaconda3\\lib\\site-packages\\IPython\\core\\interactiveshell.py:2902: DtypeWarning: Columns (18,21,22,28,32,38) have mixed types. Specify dtype option on import or set low_memory=False.\n",
      "  interactivity=interactivity, compiler=compiler, result=result)\n",
      "C:\\Users\\Mikael\\Anaconda3\\lib\\site-packages\\IPython\\core\\interactiveshell.py:2902: DtypeWarning: Columns (14,15,16,17,18,20,21,22,25,26,27,30,33,34,35,36,37,38,39,40,41,42,43) have mixed types. Specify dtype option on import or set low_memory=False.\n",
      "  interactivity=interactivity, compiler=compiler, result=result)\n",
      "C:\\Users\\Mikael\\Anaconda3\\lib\\site-packages\\IPython\\core\\interactiveshell.py:2902: DtypeWarning: Columns (18,21,22,28,32,38) have mixed types. Specify dtype option on import or set low_memory=False.\n",
      "  interactivity=interactivity, compiler=compiler, result=result)\n",
      "C:\\Users\\Mikael\\Anaconda3\\lib\\site-packages\\IPython\\core\\interactiveshell.py:2902: DtypeWarning: Columns (14,15,16,17,18,20,21,22,25,26,27,30,33,34,35,36,37,38,39,40,41,42,43) have mixed types. Specify dtype option on import or set low_memory=False.\n",
      "  interactivity=interactivity, compiler=compiler, result=result)\n"
     ]
    }
   ],
   "source": [
    "%run \"../Functions/4. User comparison.ipynb\""
   ]
  },
  {
   "cell_type": "markdown",
   "metadata": {},
   "source": [
    "# Prepare data"
   ]
  },
  {
   "cell_type": "markdown",
   "metadata": {},
   "source": [
    "## Prepare Google form data"
   ]
  },
  {
   "cell_type": "code",
   "execution_count": 2,
   "metadata": {
    "collapsed": true
   },
   "outputs": [],
   "source": [
    "# Rename columns of the Google Forms table with tags independantly of form language\n",
    "columnTags = [\"timestamp\", \"gameInterest\", \"gameFrequency\", \"age\", \"gender\", \"biologyStudy\", \"biologyInterest\", \"synthBioKnowledge\", \"biobrickKnowledge\", \"previousVersion\", \"previousPlay\", \"arcadePlay\", \"androidPlay\", \"Q1\", \"Q2\", \"Q3\", \"Q4\", \"Q5\", \"Q6\", \"Q7\", \"Q8\", \"Q9\", \"Q10\", \"Q11\", \"Q12\", \"Q13\", \"Q14\", \"Q15\", \"Q16\", \"Q17\", \"Q18\", \"Q19\", \"Q20\", \"Q21\", \"Q22\", \"Q23\", \"Q24\", \"Q25\", \"Q26\", \"Q27\", \"comments\", \"anonymousID\"]\n",
    "columnQuestions = gform.columns.values.tolist()\n",
    "googleData = gform.rename(columns=dict(zip(columnQuestions, columnTags)))\n",
    "#googleData.head()"
   ]
  },
  {
   "cell_type": "code",
   "execution_count": 3,
   "metadata": {
    "collapsed": true
   },
   "outputs": [],
   "source": [
    "# Replaces answers to scientific questions in the questionnaires by their values (True or False)\n",
    "correctedData = googleData\n",
    "for rowId in range(correctedData.shape[0]):\n",
    "    # Get the correction for each subject\n",
    "    playerId = correctedData.loc[rowId, \"anonymousID\"]\n",
    "    correction = getCorrections(playerId)\n",
    "    if correction.shape[1] > 0:\n",
    "        # If subject has answered questionnaire\n",
    "        correction = correction.rename(index=dict(zip(columnQuestions, columnTags)))\n",
    "        # Replace scientific answers by their correction\n",
    "        for questionId in range(27):\n",
    "            questionTag = \"Q\" + str(questionId + 1)\n",
    "            correctedData.loc[rowId, questionTag] = int(correction.loc[questionTag, \"corrections\" + str(rowId)])\n",
    "    \n",
    "#correctedData.head()"
   ]
  },
  {
   "cell_type": "code",
   "execution_count": 8,
   "metadata": {
    "collapsed": false
   },
   "outputs": [
    {
     "data": {
      "text/plain": [
       "[('Timestamp', 'timestamp'),\n",
       " ('Are you interested in video games?', 'gameInterest'),\n",
       " ('Do you play video games?', 'gameFrequency'),\n",
       " ('How old are you?', 'age'),\n",
       " ('What is your gender?', 'gender'),\n",
       " ('How long have you studied biology?', 'biologyStudy'),\n",
       " ('Are you interested in biology?', 'biologyInterest'),\n",
       " ('Before playing Hero.Coli, had you ever heard about synthetic biology?',\n",
       "  'synthBioKnowledge'),\n",
       " ('Before playing Hero.Coli, had you ever heard about BioBricks?',\n",
       "  'biobrickKnowledge'),\n",
       " ('Have you ever played an older version of Hero.Coli before?',\n",
       "  'previousVersion'),\n",
       " ('Have you played the current version of Hero.Coli?', 'previousPlay'),\n",
       " ('Have you played the arcade cabinet version of Hero.Coli?', 'arcadePlay'),\n",
       " ('Have you played the Android version of Hero.Coli?', 'androidPlay'),\n",
       " ('In order to modify the abilities of the bacterium, you have to...', 'Q1'),\n",
       " ('What are BioBricks and devices?', 'Q2'),\n",
       " ('What is the name of this BioBrick?', 'Q3'),\n",
       " ('What is the name of this BioBrick?.1', 'Q4'),\n",
       " ('What is the name of this BioBrick?.2', 'Q5'),\n",
       " ('What is the name of this BioBrick?.3', 'Q6'),\n",
       " ('What does this BioBrick do?', 'Q7'),\n",
       " ('What does this BioBrick do?.1', 'Q8'),\n",
       " ('What does this BioBrick do?.2', 'Q9'),\n",
       " ('What does this BioBrick do?.3', 'Q10'),\n",
       " ('Pick the case where the BioBricks are well-ordered:', 'Q11'),\n",
       " ('When does green fluorescence happen?', 'Q12'),\n",
       " ('What happens when you unequip the movement device?', 'Q13'),\n",
       " ('What is this?', 'Q14'),\n",
       " ('What does this device do?', 'Q15'),\n",
       " ('What does this device do?.1', 'Q16'),\n",
       " ('What does this device do?.2', 'Q17'),\n",
       " ('What does this device do?.3', 'Q18'),\n",
       " ('What does this device do?.4', 'Q19'),\n",
       " ('What does this device do?.5', 'Q20'),\n",
       " ('What does this device do?.6', 'Q21'),\n",
       " ('What does this device do?.7', 'Q22'),\n",
       " ('Guess: what would a device producing l-arabinose do, if it started with a l-arabinose-induced promoter?',\n",
       "  'Q23'),\n",
       " ('Guess: the bacterium would glow yellow...', 'Q24'),\n",
       " ('What is the species of the bacterium of the game?', 'Q25'),\n",
       " ('What is the scientific name of the tails of the bacterium?', 'Q26'),\n",
       " ('Find the antibiotic:', 'Q27'),\n",
       " ('You can write down remarks here.', 'comments'),\n",
       " ('Do not edit -  pre-filled anonymous ID', 'anonymousID')]"
      ]
     },
     "execution_count": 8,
     "metadata": {},
     "output_type": "execute_result"
    }
   ],
   "source": [
    "list(zip(columnQuestions, columnTags))"
   ]
  },
  {
   "cell_type": "markdown",
   "metadata": {},
   "source": [
    "## For association rule mining"
   ]
  },
  {
   "cell_type": "code",
   "execution_count": 4,
   "metadata": {
    "collapsed": true
   },
   "outputs": [],
   "source": [
    "# Get only answers to scientific questions\n",
    "correctedScientific = correctedData.loc[:, \"Q1\":\"Q27\"]\n",
    "#correctedScientific.head()"
   ]
  },
  {
   "cell_type": "code",
   "execution_count": 5,
   "metadata": {
    "collapsed": true
   },
   "outputs": [],
   "source": [
    "# Save database in file\n",
    "correctedScientific.to_csv(\"dataForOrange/correctedScientific.csv\")"
   ]
  },
  {
   "cell_type": "code",
   "execution_count": null,
   "metadata": {
    "collapsed": true
   },
   "outputs": [],
   "source": []
  },
  {
   "cell_type": "code",
   "execution_count": null,
   "metadata": {
    "collapsed": true
   },
   "outputs": [],
   "source": []
  },
  {
   "cell_type": "code",
   "execution_count": null,
   "metadata": {
    "collapsed": true
   },
   "outputs": [],
   "source": []
  }
 ],
 "metadata": {
  "kernelspec": {
   "display_name": "Python 3",
   "language": "python",
   "name": "python3"
  },
  "language_info": {
   "codemirror_mode": {
    "name": "ipython",
    "version": 3
   },
   "file_extension": ".py",
   "mimetype": "text/x-python",
   "name": "python",
   "nbconvert_exporter": "python",
   "pygments_lexer": "ipython3",
   "version": "3.5.4"
  }
 },
 "nbformat": 4,
 "nbformat_minor": 2
}
