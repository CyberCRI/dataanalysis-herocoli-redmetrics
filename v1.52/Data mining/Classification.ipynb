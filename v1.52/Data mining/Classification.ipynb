{
 "cells": [
  {
   "cell_type": "code",
   "execution_count": 358,
   "metadata": {},
   "outputs": [
    {
     "name": "stderr",
     "output_type": "stream",
     "text": [
      "/home/emma/anaconda3/lib/python3.6/site-packages/IPython/core/interactiveshell.py:2698: DtypeWarning: Columns (18,22,28,32,38) have mixed types. Specify dtype option on import or set low_memory=False.\n",
      "  interactivity=interactivity, compiler=compiler, result=result)\n",
      "/home/emma/anaconda3/lib/python3.6/site-packages/IPython/core/interactiveshell.py:2698: DtypeWarning: Columns (18,22,28,32,38) have mixed types. Specify dtype option on import or set low_memory=False.\n",
      "  interactivity=interactivity, compiler=compiler, result=result)\n",
      "/home/emma/anaconda3/lib/python3.6/site-packages/IPython/core/interactiveshell.py:2698: DtypeWarning: Columns (18,22,28,32,38) have mixed types. Specify dtype option on import or set low_memory=False.\n",
      "  interactivity=interactivity, compiler=compiler, result=result)\n",
      "/home/emma/anaconda3/lib/python3.6/site-packages/IPython/core/interactiveshell.py:2698: DtypeWarning: Columns (18,22,28,32,38) have mixed types. Specify dtype option on import or set low_memory=False.\n",
      "  interactivity=interactivity, compiler=compiler, result=result)\n"
     ]
    },
    {
     "name": "stdout",
     "output_type": "stream",
     "text": [
      "temporalities already set\n"
     ]
    },
    {
     "data": {
      "application/vnd.jupyter.widget-view+json": {
       "model_id": "aa7e81ceb3bf41a19ff25d0946bed2d3",
       "version_major": 2,
       "version_minor": 0
      },
      "text/plain": [
       "A Jupyter Widget"
      ]
     },
     "metadata": {},
     "output_type": "display_data"
    }
   ],
   "source": [
    "%run dataFormating.ipynb"
   ]
  },
  {
   "cell_type": "code",
   "execution_count": 359,
   "metadata": {
    "collapsed": true
   },
   "outputs": [],
   "source": [
    "from sklearn import preprocessing\n",
    "from sklearn.ensemble import RandomForestClassifier\n",
    "from sklearn.ensemble import ExtraTreesClassifier\n",
    "from sklearn.tree import DecisionTreeClassifier\n",
    "from sklearn.model_selection import cross_val_score\n",
    "from sklearn.naive_bayes import GaussianNB\n",
    "from sklearn.linear_model import LassoCV, Lasso\n",
    "\n",
    "from ipywidgets import FloatProgress\n",
    "from IPython.display import display\n",
    "\n",
    "from math import *\n",
    "\n",
    "from scipy import stats\n",
    "from scipy.stats.mstats import normaltest\n",
    "\n",
    "from matplotlib.pyplot import boxplot"
   ]
  },
  {
   "cell_type": "markdown",
   "metadata": {},
   "source": [
    "# Questionnaire only"
   ]
  },
  {
   "cell_type": "markdown",
   "metadata": {},
   "source": [
    "## Can the answers to the scientific questions be used to predict if the questionnaire was filled before or after the game?"
   ]
  },
  {
   "cell_type": "markdown",
   "metadata": {},
   "source": [
    "Note: I am using only decision tree methods here because other methods like naive bayes do not make sense on categorical data"
   ]
  },
  {
   "cell_type": "markdown",
   "metadata": {},
   "source": [
    "### If scientific questions are coded by answers"
   ]
  },
  {
   "cell_type": "code",
   "execution_count": 360,
   "metadata": {
    "collapsed": true
   },
   "outputs": [],
   "source": [
    "# Select columns that correspond to scientific questions\n",
    "scientificColumns = [x for x in list(defForms.columns.values) if x[0] == \"Q\"]\n",
    "\n",
    "# Pick features and target\n",
    "features = defForms.loc[:, scientificColumns]\n",
    "target = defForms[\"temporality\"].astype('int') "
   ]
  },
  {
   "cell_type": "code",
   "execution_count": 361,
   "metadata": {},
   "outputs": [
    {
     "data": {
      "text/plain": [
       "0.7912048877522023"
      ]
     },
     "execution_count": 361,
     "metadata": {},
     "output_type": "execute_result"
    }
   ],
   "source": [
    "# Classify using decision trees -accounts for the small size of the dataset and the categorical nature of the features\n",
    "clf = DecisionTreeClassifier(max_depth=None, min_samples_split=2, random_state=0, max_features=\"auto\")\n",
    "scores = cross_val_score(clf, features, target)\n",
    "scores.mean()"
   ]
  },
  {
   "cell_type": "code",
   "execution_count": 362,
   "metadata": {},
   "outputs": [
    {
     "data": {
      "text/plain": [
       "0.8494600738846264"
      ]
     },
     "execution_count": 362,
     "metadata": {},
     "output_type": "execute_result"
    }
   ],
   "source": [
    "# Classify using random forests -accounts for the small size of the dataset and the categorical nature of the features, limit overfitting\n",
    "clf = RandomForestClassifier(n_estimators=10, max_depth=None, min_samples_split=2, random_state=0, bootstrap=True)\n",
    "scores = cross_val_score(clf, features, target)\n",
    "scores.mean()"
   ]
  },
  {
   "cell_type": "code",
   "execution_count": 363,
   "metadata": {},
   "outputs": [
    {
     "data": {
      "text/plain": [
       "0.8543620346689401"
      ]
     },
     "execution_count": 363,
     "metadata": {},
     "output_type": "execute_result"
    }
   ],
   "source": [
    "# Classify using extra tree classifiers, more random than random forest methods\n",
    "clf = ExtraTreesClassifier(n_estimators=10, max_depth=None, min_samples_split=2, random_state=0, bootstrap=True)\n",
    "scores = cross_val_score(clf, features, target)\n",
    "scores.mean()"
   ]
  },
  {
   "cell_type": "markdown",
   "metadata": {},
   "source": [
    "Conclusion: Accuracy is around 85%. Not bad but we expected better (17/01/2018)"
   ]
  },
  {
   "cell_type": "markdown",
   "metadata": {},
   "source": [
    "## If scientific questions are coded by correctedness"
   ]
  },
  {
   "cell_type": "code",
   "execution_count": 364,
   "metadata": {
    "collapsed": true
   },
   "outputs": [],
   "source": [
    "# Select columns that correspond to scientific questions\n",
    "scientificColumns = [x for x in list(defCorrectedForms.columns.values) if x[0] == \"Q\"]\n",
    "\n",
    "# Pick features and target\n",
    "features = defCorrectedForms.loc[:, scientificColumns]\n",
    "target = defCorrectedForms[\"temporality\"].astype('int') "
   ]
  },
  {
   "cell_type": "code",
   "execution_count": 365,
   "metadata": {},
   "outputs": [
    {
     "data": {
      "text/plain": [
       "0.7623614663256607"
      ]
     },
     "execution_count": 365,
     "metadata": {},
     "output_type": "execute_result"
    }
   ],
   "source": [
    "# Classify using decision trees -accounts for the small size of the dataset and the categorical nature of the features\n",
    "clf = DecisionTreeClassifier(max_depth=None, min_samples_split=2, random_state=0, max_features=\"auto\")\n",
    "scores = cross_val_score(clf, features, target)\n",
    "scores.mean()"
   ]
  },
  {
   "cell_type": "code",
   "execution_count": 366,
   "metadata": {},
   "outputs": [
    {
     "data": {
      "text/plain": [
       "0.8204745666382496"
      ]
     },
     "execution_count": 366,
     "metadata": {},
     "output_type": "execute_result"
    }
   ],
   "source": [
    "# Classify using random forests -accounts for the small size of the dataset and the categorical nature of the features, limit overfitting\n",
    "clf = RandomForestClassifier(n_estimators=10, max_depth=None, min_samples_split=2, random_state=0, bootstrap=True)\n",
    "scores = cross_val_score(clf, features, target)\n",
    "scores.mean()"
   ]
  },
  {
   "cell_type": "code",
   "execution_count": 367,
   "metadata": {},
   "outputs": [
    {
     "data": {
      "text/plain": [
       "0.8349673202614379"
      ]
     },
     "execution_count": 367,
     "metadata": {},
     "output_type": "execute_result"
    }
   ],
   "source": [
    "# Classify using extra tree classifiers, more random than random forest methods\n",
    "clf = ExtraTreesClassifier(n_estimators=10, max_depth=None, min_samples_split=2, random_state=0, bootstrap=True)\n",
    "scores = cross_val_score(clf, features, target)\n",
    "scores.mean()"
   ]
  },
  {
   "cell_type": "markdown",
   "metadata": {},
   "source": [
    "Conclusion: Accuracy is around 80%. Not bad but we expected better (19/12/2017)"
   ]
  },
  {
   "cell_type": "markdown",
   "metadata": {},
   "source": [
    "# RedMetrics only"
   ]
  },
  {
   "cell_type": "code",
   "execution_count": 407,
   "metadata": {},
   "outputs": [
    {
     "data": {
      "text/plain": [
       "Index([ 'sessionsCount',    'scorebefore',     'scoreafter', 'scoreundefined',\n",
       "             'complete',      'configure',          'craft',          'death',\n",
       "                'equip',        'unequip',            'add',         'remove',\n",
       "              'gotourl',         'pickup',          'reach',        'restart',\n",
       "           'selectmenu',          'start',     'maxChapter',     'efficiency',\n",
       "         'thoroughness',            'fun', 'completionTime',                0,\n",
       "                      1,                2,                3,                4,\n",
       "                      5,                6,                7,                8,\n",
       "                      9,               10,               11,               12,\n",
       "                     13,               14,    'anonymousID'],\n",
       "      dtype='object')"
      ]
     },
     "execution_count": 407,
     "metadata": {},
     "output_type": "execute_result"
    }
   ],
   "source": [
    "allDataClassif.columns"
   ]
  },
  {
   "cell_type": "markdown",
   "metadata": {},
   "source": [
    "## Can the score of a player be predicted with their RedMetrics data"
   ]
  },
  {
   "cell_type": "code",
   "execution_count": 370,
   "metadata": {},
   "outputs": [],
   "source": [
    "# Remove id\n",
    "anonymousData = allDataClassif.drop(\"anonymousID\", axis = 1)\n",
    "\n",
    "# Get features and target\n",
    "# Only select rows where scoreafter is not negative\n",
    "features = anonymousData[anonymousData[\"scoreafter\"] >= 0].drop(\"scoreafter\", axis = 1)\n",
    "target = anonymousData[anonymousData[\"scoreafter\"] >= 0][\"scoreafter\"]\n",
    "\n",
    "# Center and scale data\n",
    "features = preprocessing.scale(features)"
   ]
  },
  {
   "cell_type": "code",
   "execution_count": 371,
   "metadata": {},
   "outputs": [
    {
     "data": {
      "text/plain": [
       "array([ 0.32221241, -0.14436848, -0.35236721,  0.23748306,  0.22637224,\n",
       "       -0.01832237, -6.30148091, -0.28263959, -6.33055608, -0.21467596])"
      ]
     },
     "execution_count": 371,
     "metadata": {},
     "output_type": "execute_result"
    },
    {
     "data": {
      "image/png": "[encoded data removed]",
      "text/plain": [
       "<matplotlib.figure.Figure at 0x7ff264dc97f0>"
      ]
     },
     "metadata": {},
     "output_type": "display_data"
    }
   ],
   "source": [
    "# Run Lasso regression with cross-validation\n",
    "model = Lasso()\n",
    "scores = cross_val_score(model, features, target, cv=10)\n",
    "boxplot(scores)\n",
    "scores"
   ]
  },
  {
   "cell_type": "markdown",
   "metadata": {},
   "source": [
    "Conclusion: Score cannot be predicted by the table of RedMetrics data (30/01/2018)"
   ]
  },
  {
   "cell_type": "code",
   "execution_count": 399,
   "metadata": {},
   "outputs": [
    {
     "name": "stderr",
     "output_type": "stream",
     "text": [
      "/home/emma/anaconda3/lib/python3.6/site-packages/sklearn/preprocessing/data.py:164: UserWarning: Numerical issues were encountered when centering the data and might not be solved. Dataset may contain too large values. You may need to prescale your features.\n",
      "  warnings.warn(\"Numerical issues were encountered \"\n"
     ]
    }
   ],
   "source": [
    "# Remove id\n",
    "anonymousData = allDataClassif.drop(\"anonymousID\", axis = 1)\n",
    "\n",
    "# Get features and target\n",
    "# Only select rows where scoreafter is not negative\n",
    "features = anonymousData[anonymousData[\"scoreafter\"] >= 0].drop(\"scoreafter\", axis = 1)\n",
    "target = anonymousData[anonymousData[\"scoreafter\"] >= 0][\"scoreafter\"]\n",
    "\n",
    "# Add polynomial features\n",
    "secondDegreeFeatures = preprocessing.PolynomialFeatures(degree=2, interaction_only=False, include_bias=True)\n",
    "features = secondDegreeFeatures.fit_transform(features)\n",
    "\n",
    "# Center and scale data\n",
    "features = preprocessing.scale(features)"
   ]
  },
  {
   "cell_type": "code",
   "execution_count": 400,
   "metadata": {},
   "outputs": [
    {
     "data": {
      "text/plain": [
       "array([ 0.21943413, -0.24440393, -0.29632835,  0.18044028,  0.20804568,\n",
       "       -0.01391892, -5.56615887,  0.0218108 , -6.08697306, -0.33196164])"
      ]
     },
     "execution_count": 400,
     "metadata": {},
     "output_type": "execute_result"
    },
    {
     "data": {
      "image/png": "[encoded data removed]",
      "text/plain": [
       "<matplotlib.figure.Figure at 0x7ff21bab8780>"
      ]
     },
     "metadata": {},
     "output_type": "display_data"
    }
   ],
   "source": [
    "# Run Lasso regression with cross-validation\n",
    "model = Lasso()\n",
    "scores = cross_val_score(model, features, target, cv=10)\n",
    "boxplot(scores)\n",
    "scores"
   ]
  },
  {
   "cell_type": "markdown",
   "metadata": {},
   "source": [
    "Conclusion: Score cannot be predicted by the table of RedMetrics data + second degree polynomial (30/01/2018)"
   ]
  },
  {
   "cell_type": "markdown",
   "metadata": {},
   "source": [
    "Let's try by reducing the number of features"
   ]
  },
  {
   "cell_type": "code",
   "execution_count": 401,
   "metadata": {},
   "outputs": [],
   "source": [
    "# Remove id\n",
    "anonymousData = allDataClassif.drop(\"anonymousID\", axis = 1)\n",
    "\n",
    "# Get features and target\n",
    "# Only select rows where scoreafter is not negative\n",
    "features = anonymousData[anonymousData[\"scoreafter\"] >= 0]\n",
    "features = features[[\"craft\", \"death\", \"add\", \"remove\", \"reach\", \"maxChapter\"] + list(range(15))]\n",
    "target = anonymousData[anonymousData[\"scoreafter\"] >= 0][\"scoreafter\"]\n",
    "\n",
    "# Add polynomial features\n",
    "secondDegreeFeatures = preprocessing.PolynomialFeatures(degree=2, interaction_only=False, include_bias=True)\n",
    "features = secondDegreeFeatures.fit_transform(features)\n",
    "\n",
    "# Center and scale data\n",
    "features = preprocessing.scale(features)"
   ]
  },
  {
   "cell_type": "code",
   "execution_count": 402,
   "metadata": {},
   "outputs": [
    {
     "data": {
      "text/plain": [
       "array([ 0.21438932, -0.21052777, -0.12576408,  0.11988908,  0.23608696,\n",
       "       -0.03527969, -5.25189611, -0.39728224, -8.17428117, -0.2656018 ])"
      ]
     },
     "execution_count": 402,
     "metadata": {},
     "output_type": "execute_result"
    },
    {
     "data": {
      "image/png": "[encoded data removed]",
      "text/plain": [
       "<matplotlib.figure.Figure at 0x7ff21bc35c18>"
      ]
     },
     "metadata": {},
     "output_type": "display_data"
    }
   ],
   "source": [
    "# Run Lasso regression with cross-validation\n",
    "model = Lasso()\n",
    "scores = cross_val_score(model, features, target, cv=10)\n",
    "boxplot(scores)\n",
    "scores"
   ]
  },
  {
   "cell_type": "markdown",
   "metadata": {},
   "source": [
    "Conclusion: Tried different combinations, but cannot find any interesting regression (02/02/2018)"
   ]
  },
  {
   "cell_type": "markdown",
   "metadata": {},
   "source": [
    "# Questionnaire and RedMetrics"
   ]
  },
  {
   "cell_type": "markdown",
   "metadata": {},
   "source": [
    "## Can the biology level of a player be predicted using the game data?"
   ]
  },
  {
   "cell_type": "code",
   "execution_count": 410,
   "metadata": {},
   "outputs": [
    {
     "name": "stderr",
     "output_type": "stream",
     "text": [
      "/home/emma/anaconda3/lib/python3.6/site-packages/sklearn/preprocessing/data.py:164: UserWarning: Numerical issues were encountered when centering the data and might not be solved. Dataset may contain too large values. You may need to prescale your features.\n",
      "  warnings.warn(\"Numerical issues were encountered \"\n"
     ]
    }
   ],
   "source": [
    "# Remove id\n",
    "anonymousData = gameAndCorrectedAfterDataClassif.drop(\"anonymousID\", axis = 1)\n",
    "\n",
    "# Get features and target\n",
    "# Only select rows where scoreafter is not negative\n",
    "features = anonymousData[anonymousData[\"scoreafter\"] >= 0]\n",
    "features = features.loc[:,\"sessionsCount\":\"completionTime\"]\n",
    "target = anonymousData[anonymousData[\"scoreafter\"] >= 0][\"biologyStudy\"]\n",
    "\n",
    "# Add polynomial features\n",
    "secondDegreeFeatures = preprocessing.PolynomialFeatures(degree=2, interaction_only=False, include_bias=True)\n",
    "features = secondDegreeFeatures.fit_transform(features)\n",
    "\n",
    "# Center and scale data\n",
    "features = preprocessing.scale(features)"
   ]
  },
  {
   "cell_type": "code",
   "execution_count": 411,
   "metadata": {},
   "outputs": [
    {
     "data": {
      "text/plain": [
       "array([-2.        , -0.92729767, -0.14233842, -1.19506173, -0.09876543,\n",
       "       -1.27336861, -0.39506173, -0.04565572, -7.2       , -2.98765432])"
      ]
     },
     "execution_count": 411,
     "metadata": {},
     "output_type": "execute_result"
    },
    {
     "data": {
      "image/png": "[encoded data removed]",
      "text/plain": [
       "<matplotlib.figure.Figure at 0x7ff21613ac88>"
      ]
     },
     "metadata": {},
     "output_type": "display_data"
    }
   ],
   "source": [
    "# Run Lasso regression with cross-validation\n",
    "model = Lasso()\n",
    "scores = cross_val_score(model, features, target, cv=10)\n",
    "boxplot(scores)\n",
    "scores"
   ]
  },
  {
   "cell_type": "markdown",
   "metadata": {
    "collapsed": true
   },
   "source": [
    "Conclusion: No (30/01/2018)"
   ]
  },
  {
   "cell_type": "markdown",
   "metadata": {},
   "source": [
    "## Can the gaming profile of a player be predicted using the game data?"
   ]
  },
  {
   "cell_type": "code",
   "execution_count": 412,
   "metadata": {},
   "outputs": [
    {
     "name": "stderr",
     "output_type": "stream",
     "text": [
      "/home/emma/anaconda3/lib/python3.6/site-packages/sklearn/preprocessing/data.py:164: UserWarning: Numerical issues were encountered when centering the data and might not be solved. Dataset may contain too large values. You may need to prescale your features.\n",
      "  warnings.warn(\"Numerical issues were encountered \"\n"
     ]
    }
   ],
   "source": [
    "# Remove id\n",
    "anonymousData = gameAndCorrectedAfterDataClassif.drop(\"anonymousID\", axis = 1)\n",
    "\n",
    "# Get features and target\n",
    "# Only select rows where scoreafter is not negative\n",
    "features = anonymousData.loc[:,\"sessionsCount\":\"completionTime\"]\n",
    "target = sum(anonymousData[\"gameInterest\"], anonymousData[\"gameFrequency\"])\n",
    "\n",
    "# Add polynomial features\n",
    "secondDegreeFeatures = preprocessing.PolynomialFeatures(degree=2, interaction_only=False, include_bias=True)\n",
    "features = secondDegreeFeatures.fit_transform(features)\n",
    "\n",
    "# Center and scale data\n",
    "features = preprocessing.scale(features)"
   ]
  },
  {
   "cell_type": "code",
   "execution_count": 413,
   "metadata": {},
   "outputs": [
    {
     "data": {
      "text/plain": [
       "array([-0.72565158, -0.97831978, -0.10432099, -0.20454545, -0.00383142,\n",
       "       -0.06520062, -0.00653595, -0.0017094 , -0.19790498, -0.00653595])"
      ]
     },
     "execution_count": 413,
     "metadata": {},
     "output_type": "execute_result"
    },
    {
     "data": {
      "image/png": "[encoded data removed]",
      "text/plain": [
       "<matplotlib.figure.Figure at 0x7ff2184e1860>"
      ]
     },
     "metadata": {},
     "output_type": "display_data"
    }
   ],
   "source": [
    "# Run Lasso regression with cross-validation\n",
    "model = Lasso()\n",
    "scores = cross_val_score(model, features, target, cv=10)\n",
    "boxplot(scores)\n",
    "scores"
   ]
  },
  {
   "cell_type": "markdown",
   "metadata": {
    "collapsed": true
   },
   "source": [
    "Conclusion: No (30/01/2018)"
   ]
  },
  {
   "cell_type": "markdown",
   "metadata": {
    "collapsed": true
   },
   "source": [
    "## Can the completion time of each chapter be used to predict if a player is going to answer a specific scientific question correctly"
   ]
  },
  {
   "cell_type": "code",
   "execution_count": 416,
   "metadata": {
    "collapsed": true
   },
   "outputs": [],
   "source": [
    "# Given a question tag, plot scores of cross-validated model\n",
    "def tryClassification(data, scientificQuestion):\n",
    "    # Remove id\n",
    "    anonymousData = data.drop(\"anonymousID\", axis = 1)\n",
    "\n",
    "    # Get features and target\n",
    "    # Only select rows where scoreafter is not negative\n",
    "    features = anonymousData[anonymousData[\"scoreafter\"] >= 0]\n",
    "    features = features.iloc[:,24:37]\n",
    "    target = anonymousData[anonymousData[\"scoreafter\"] >= 0].loc[:,scientificQuestion].astype('int')\n",
    "\n",
    "    # Add polynomial features\n",
    "    secondDegreeFeatures = preprocessing.PolynomialFeatures(degree=2, interaction_only=False, include_bias=True)\n",
    "    features = secondDegreeFeatures.fit_transform(features)\n",
    "\n",
    "    # Center and scale data\n",
    "    features = preprocessing.scale(features)\n",
    "    \n",
    "    # Classify using extra tree classifiers, more random than random forest methods\n",
    "    clf = ExtraTreesClassifier(n_estimators=10, max_depth=None, min_samples_split=2, random_state=0, bootstrap=True)\n",
    "    scores = cross_val_score(clf, features, target, cv=5)\n",
    "    \n",
    "    # Display plot\n",
    "    fig, ax = plt.subplots()\n",
    "    boxplot(scores)\n",
    "    \n",
    "    return [scores.mean(), scores.std()]"
   ]
  },
  {
   "cell_type": "code",
   "execution_count": 417,
   "metadata": {},
   "outputs": [
    {
     "name": "stderr",
     "output_type": "stream",
     "text": [
      "/home/emma/anaconda3/lib/python3.6/site-packages/matplotlib/pyplot.py:523: RuntimeWarning: More than 20 figures have been opened. Figures created through the pyplot interface (`matplotlib.pyplot.figure`) are retained until explicitly closed and may consume too much memory. (To control this warning, see the rcParam `figure.max_open_warning`).\n",
      "  max_open_warning, RuntimeWarning)\n",
      "/home/emma/anaconda3/lib/python3.6/site-packages/matplotlib/pyplot.py:523: RuntimeWarning: More than 20 figures have been opened. Figures created through the pyplot interface (`matplotlib.pyplot.figure`) are retained until explicitly closed and may consume too much memory. (To control this warning, see the rcParam `figure.max_open_warning`).\n",
      "  max_open_warning, RuntimeWarning)\n",
      "/home/emma/anaconda3/lib/python3.6/site-packages/matplotlib/pyplot.py:523: RuntimeWarning: More than 20 figures have been opened. Figures created through the pyplot interface (`matplotlib.pyplot.figure`) are retained until explicitly closed and may consume too much memory. (To control this warning, see the rcParam `figure.max_open_warning`).\n",
      "  max_open_warning, RuntimeWarning)\n",
      "/home/emma/anaconda3/lib/python3.6/site-packages/matplotlib/pyplot.py:523: RuntimeWarning: More than 20 figures have been opened. Figures created through the pyplot interface (`matplotlib.pyplot.figure`) are retained until explicitly closed and may consume too much memory. (To control this warning, see the rcParam `figure.max_open_warning`).\n",
      "  max_open_warning, RuntimeWarning)\n",
      "/home/emma/anaconda3/lib/python3.6/site-packages/matplotlib/pyplot.py:523: RuntimeWarning: More than 20 figures have been opened. Figures created through the pyplot interface (`matplotlib.pyplot.figure`) are retained until explicitly closed and may consume too much memory. (To control this warning, see the rcParam `figure.max_open_warning`).\n",
      "  max_open_warning, RuntimeWarning)\n",
      "/home/emma/anaconda3/lib/python3.6/site-packages/sklearn/model_selection/_split.py:605: Warning: The least populated class in y has only 3 members, which is too few. The minimum number of members in any class cannot be less than n_splits=5.\n",
      "  % (min_groups, self.n_splits)), Warning)\n",
      "/home/emma/anaconda3/lib/python3.6/site-packages/matplotlib/pyplot.py:523: RuntimeWarning: More than 20 figures have been opened. Figures created through the pyplot interface (`matplotlib.pyplot.figure`) are retained until explicitly closed and may consume too much memory. (To control this warning, see the rcParam `figure.max_open_warning`).\n",
      "  max_open_warning, RuntimeWarning)\n",
      "/home/emma/anaconda3/lib/python3.6/site-packages/matplotlib/pyplot.py:523: RuntimeWarning: More than 20 figures have been opened. Figures created through the pyplot interface (`matplotlib.pyplot.figure`) are retained until explicitly closed and may consume too much memory. (To control this warning, see the rcParam `figure.max_open_warning`).\n",
      "  max_open_warning, RuntimeWarning)\n"
     ]
    },
    {
     "data": {
      "text/html": [
       "<div>\n",
       "<style>\n",
       "    .dataframe thead tr:only-child th {\n",
       "        text-align: right;\n",
       "    }\n",
       "\n",
       "    .dataframe thead th {\n",
       "        text-align: left;\n",
       "    }\n",
       "\n",
       "    .dataframe tbody tr th {\n",
       "        vertical-align: top;\n",
       "    }\n",
       "</style>\n",
       "<table border=\"1\" class=\"dataframe\">\n",
       "  <thead>\n",
       "    <tr style=\"text-align: right;\">\n",
       "      <th></th>\n",
       "      <th>Q1</th>\n",
       "      <th>Q2</th>\n",
       "      <th>Q3</th>\n",
       "      <th>Q4</th>\n",
       "      <th>Q5</th>\n",
       "      <th>Q6</th>\n",
       "      <th>Q7</th>\n",
       "      <th>Q8</th>\n",
       "      <th>Q9</th>\n",
       "      <th>Q10</th>\n",
       "      <th>...</th>\n",
       "      <th>Q18</th>\n",
       "      <th>Q19</th>\n",
       "      <th>Q20</th>\n",
       "      <th>Q21</th>\n",
       "      <th>Q22</th>\n",
       "      <th>Q23</th>\n",
       "      <th>Q24</th>\n",
       "      <th>Q25</th>\n",
       "      <th>Q26</th>\n",
       "      <th>Q27</th>\n",
       "    </tr>\n",
       "  </thead>\n",
       "  <tbody>\n",
       "    <tr>\n",
       "      <th>Mean</th>\n",
       "      <td>0.883333</td>\n",
       "      <td>0.694755</td>\n",
       "      <td>0.740093</td>\n",
       "      <td>0.618881</td>\n",
       "      <td>0.501166</td>\n",
       "      <td>0.567016</td>\n",
       "      <td>0.649068</td>\n",
       "      <td>0.632517</td>\n",
       "      <td>0.633333</td>\n",
       "      <td>0.700000</td>\n",
       "      <td>...</td>\n",
       "      <td>0.736713</td>\n",
       "      <td>0.900000</td>\n",
       "      <td>0.916667</td>\n",
       "      <td>0.900000</td>\n",
       "      <td>0.733333</td>\n",
       "      <td>0.568298</td>\n",
       "      <td>0.502797</td>\n",
       "      <td>0.603263</td>\n",
       "      <td>0.921795</td>\n",
       "      <td>0.900000</td>\n",
       "    </tr>\n",
       "    <tr>\n",
       "      <th>Var</th>\n",
       "      <td>0.066667</td>\n",
       "      <td>0.131371</td>\n",
       "      <td>0.117066</td>\n",
       "      <td>0.087231</td>\n",
       "      <td>0.130244</td>\n",
       "      <td>0.141231</td>\n",
       "      <td>0.083366</td>\n",
       "      <td>0.066308</td>\n",
       "      <td>0.113039</td>\n",
       "      <td>0.040825</td>\n",
       "      <td>...</td>\n",
       "      <td>0.084589</td>\n",
       "      <td>0.033333</td>\n",
       "      <td>0.000000</td>\n",
       "      <td>0.033333</td>\n",
       "      <td>0.177951</td>\n",
       "      <td>0.046130</td>\n",
       "      <td>0.068674</td>\n",
       "      <td>0.092707</td>\n",
       "      <td>0.068850</td>\n",
       "      <td>0.033333</td>\n",
       "    </tr>\n",
       "  </tbody>\n",
       "</table>\n",
       "<p>2 rows × 27 columns</p>\n",
       "</div>"
      ],
      "text/plain": [
       "            Q1        Q2        Q3        Q4        Q5        Q6        Q7  \\\n",
       "Mean  0.883333  0.694755  0.740093  0.618881  0.501166  0.567016  0.649068   \n",
       "Var   0.066667  0.131371  0.117066  0.087231  0.130244  0.141231  0.083366   \n",
       "\n",
       "            Q8        Q9       Q10    ...          Q18       Q19       Q20  \\\n",
       "Mean  0.632517  0.633333  0.700000    ...     0.736713  0.900000  0.916667   \n",
       "Var   0.066308  0.113039  0.040825    ...     0.084589  0.033333  0.000000   \n",
       "\n",
       "           Q21       Q22       Q23       Q24       Q25       Q26       Q27  \n",
       "Mean  0.900000  0.733333  0.568298  0.502797  0.603263  0.921795  0.900000  \n",
       "Var   0.033333  0.177951  0.046130  0.068674  0.092707  0.068850  0.033333  \n",
       "\n",
       "[2 rows x 27 columns]"
      ]
     },
     "execution_count": 417,
     "metadata": {},
     "output_type": "execute_result"
    },
    {
     "data": {
      "image/png": "[encoded data removed]",
      "text/plain": [
       "<matplotlib.figure.Figure at 0x7ff2167c67f0>"
      ]
     },
     "metadata": {},
     "output_type": "display_data"
    },
    {
     "data": {
      "image/png": "[encoded data removed]",
      "text/plain": [
       "<matplotlib.figure.Figure at 0x7ff2187ec9e8>"
      ]
     },
     "metadata": {},
     "output_type": "display_data"
    },
    {
     "data": {
      "image/png": "[encoded data removed]",
      "text/plain": [
       "<matplotlib.figure.Figure at 0x7ff1f9adaa20>"
      ]
     },
     "metadata": {},
     "output_type": "display_data"
    },
    {
     "data": {
      "image/png": "[encoded data removed]",
      "text/plain": [
       "<matplotlib.figure.Figure at 0x7ff21b70bb00>"
      ]
     },
     "metadata": {},
     "output_type": "display_data"
    },
    {
     "data": {
      "image/png": "[encoded data removed]",
      "text/plain": [
       "<matplotlib.figure.Figure at 0x7ff215b36748>"
      ]
     },
     "metadata": {},
     "output_type": "display_data"
    },
    {
     "data": {
      "image/png": "[encoded data removed]",
      "text/plain": [
       "<matplotlib.figure.Figure at 0x7ff21bc657b8>"
      ]
     },
     "metadata": {},
     "output_type": "display_data"
    },
    {
     "data": {
      "image/png": "[encoded data removed]",
      "text/plain": [
       "<matplotlib.figure.Figure at 0x7ff217f322e8>"
      ]
     },
     "metadata": {},
     "output_type": "display_data"
    },
    {
     "data": {
      "image/png": "[encoded data removed]",
      "text/plain": [
       "<matplotlib.figure.Figure at 0x7ff2191f9860>"
      ]
     },
     "metadata": {},
     "output_type": "display_data"
    },
    {
     "data": {
      "image/png": "[encoded data removed]",
      "text/plain": [
       "<matplotlib.figure.Figure at 0x7ff2171a5320>"
      ]
     },
     "metadata": {},
     "output_type": "display_data"
    },
    {
     "data": {
      "image/png": "[encoded data removed]",
      "text/plain": [
       "<matplotlib.figure.Figure at 0x7ff21ac66940>"
      ]
     },
     "metadata": {},
     "output_type": "display_data"
    },
    {
     "data": {
      "image/png": "[encoded data removed]",
      "text/plain": [
       "<matplotlib.figure.Figure at 0x7ff21bb40438>"
      ]
     },
     "metadata": {},
     "output_type": "display_data"
    },
    {
     "data": {
      "image/png": "[encoded data removed]",
      "text/plain": [
       "<matplotlib.figure.Figure at 0x7ff21a649d30>"
      ]
     },
     "metadata": {},
     "output_type": "display_data"
    },
    {
     "data": {
      "image/png": "[encoded data removed]",
      "text/plain": [
       "<matplotlib.figure.Figure at 0x7ff2191f1fd0>"
      ]
     },
     "metadata": {},
     "output_type": "display_data"
    },
    {
     "data": {
      "image/png": "[encoded data removed]",
      "text/plain": [
       "<matplotlib.figure.Figure at 0x7ff218e5ae10>"
      ]
     },
     "metadata": {},
     "output_type": "display_data"
    },
    {
     "data": {
      "image/png": "[encoded data removed]",
      "text/plain": [
       "<matplotlib.figure.Figure at 0x7ff21bf46978>"
      ]
     },
     "metadata": {},
     "output_type": "display_data"
    },
    {
     "data": {
      "image/png": "[encoded data removed]",
      "text/plain": [
       "<matplotlib.figure.Figure at 0x7ff219b0a4a8>"
      ]
     },
     "metadata": {},
     "output_type": "display_data"
    },
    {
     "data": {
      "image/png": "[encoded data removed]",
      "text/plain": [
       "<matplotlib.figure.Figure at 0x7ff216314cc0>"
      ]
     },
     "metadata": {},
     "output_type": "display_data"
    },
    {
     "data": {
      "image/png": "[encoded data removed]",
      "text/plain": [
       "<matplotlib.figure.Figure at 0x7ff2180a49e8>"
      ]
     },
     "metadata": {},
     "output_type": "display_data"
    },
    {
     "data": {
      "image/png": "[encoded data removed]",
      "text/plain": [
       "<matplotlib.figure.Figure at 0x7ff22cd5a588>"
      ]
     },
     "metadata": {},
     "output_type": "display_data"
    },
    {
     "data": {
      "image/png": "[encoded data removed]",
      "text/plain": [
       "<matplotlib.figure.Figure at 0x7ff21894e978>"
      ]
     },
     "metadata": {},
     "output_type": "display_data"
    },
    {
     "data": {
      "image/png": "[encoded data removed]",
      "text/plain": [
       "<matplotlib.figure.Figure at 0x7ff21917cf98>"
      ]
     },
     "metadata": {},
     "output_type": "display_data"
    },
    {
     "data": {
      "image/png": "[encoded data removed]",
      "text/plain": [
       "<matplotlib.figure.Figure at 0x7ff215097978>"
      ]
     },
     "metadata": {},
     "output_type": "display_data"
    },
    {
     "data": {
      "image/png": "[encoded data removed]",
      "text/plain": [
       "<matplotlib.figure.Figure at 0x7ff218b736a0>"
      ]
     },
     "metadata": {},
     "output_type": "display_data"
    },
    {
     "data": {
      "image/png": "[encoded data removed]",
      "text/plain": [
       "<matplotlib.figure.Figure at 0x7ff219109128>"
      ]
     },
     "metadata": {},
     "output_type": "display_data"
    },
    {
     "data": {
      "image/png": "[encoded data removed]",
      "text/plain": [
       "<matplotlib.figure.Figure at 0x7ff1fc706c88>"
      ]
     },
     "metadata": {},
     "output_type": "display_data"
    },
    {
     "data": {
      "image/png": "[encoded data removed]",
      "text/plain": [
       "<matplotlib.figure.Figure at 0x7ff21a651550>"
      ]
     },
     "metadata": {},
     "output_type": "display_data"
    },
    {
     "data": {
      "image/png": "[encoded data removed]",
      "text/plain": [
       "<matplotlib.figure.Figure at 0x7ff218bc4588>"
      ]
     },
     "metadata": {},
     "output_type": "display_data"
    }
   ],
   "source": [
    "allScores = pd.DataFrame(index = [\"Mean\", \"Var\"])\n",
    "for questionNb in range(27):\n",
    "    questionTag = \"Q\" + str(questionNb + 1)\n",
    "    scores = tryClassification(gameAndCorrectedAfterDataClassif, questionTag)\n",
    "    allScores[questionTag] = scores\n",
    "allScores"
   ]
  },
  {
   "cell_type": "markdown",
   "metadata": {},
   "source": [
    "Conclusion: Redmetrics can be used to predict answers to certain scientific questions (30/01/2018)\n",
    "TODO Raphael: Check which questions you want additional analysis for"
   ]
  },
  {
   "cell_type": "markdown",
   "metadata": {},
   "source": [
    "## Can the game data be used to predict the performance on a sub-group of scientific questions?"
   ]
  },
  {
   "cell_type": "markdown",
   "metadata": {},
   "source": [
    "### Hard questions Q17-Q21-Q23-Q24"
   ]
  },
  {
   "cell_type": "code",
   "execution_count": 418,
   "metadata": {},
   "outputs": [
    {
     "name": "stderr",
     "output_type": "stream",
     "text": [
      "/home/emma/anaconda3/lib/python3.6/site-packages/sklearn/preprocessing/data.py:164: UserWarning: Numerical issues were encountered when centering the data and might not be solved. Dataset may contain too large values. You may need to prescale your features.\n",
      "  warnings.warn(\"Numerical issues were encountered \"\n"
     ]
    },
    {
     "data": {
      "text/plain": [
       "0.7095238095238096"
      ]
     },
     "execution_count": 418,
     "metadata": {},
     "output_type": "execute_result"
    },
    {
     "data": {
      "image/png": "[encoded data removed]",
      "text/plain": [
       "<matplotlib.figure.Figure at 0x7ff21bc356d8>"
      ]
     },
     "metadata": {},
     "output_type": "display_data"
    }
   ],
   "source": [
    "# Remove id\n",
    "anonymousData = gameAndCorrectedAfterDataClassif.drop(\"anonymousID\", axis = 1)\n",
    "\n",
    "# Get features and target\n",
    "features = pd.concat([anonymousData.loc[:,\"sessionsCount\":\"completionTime\"], anonymousData.loc[:,\"gameInterest\":\"androidPlay\"]], axis=1)\n",
    "target = anonymousData.loc[:,[\"Q17\", \"Q21\", \"Q23\", \"Q24\"]].astype(int).sum(axis=1)\n",
    "target = target.apply(lambda x: 0 if x < 3 else 1)\n",
    "\n",
    "# Add polynomial features\n",
    "secondDegreeFeatures = preprocessing.PolynomialFeatures(degree=2, interaction_only=False, include_bias=True)\n",
    "features = secondDegreeFeatures.fit_transform(features)\n",
    "\n",
    "# Center and scale data\n",
    "features = preprocessing.scale(features)\n",
    "    \n",
    "# Classify using extra tree classifiers, more random than random forest methods\n",
    "clf = ExtraTreesClassifier(n_estimators=10, max_depth=None, min_samples_split=2, random_state=0, bootstrap=True)\n",
    "scores = cross_val_score(clf, features, target, cv=10)\n",
    "    \n",
    "# Display plot\n",
    "boxplot(scores)\n",
    "scores.mean()"
   ]
  },
  {
   "cell_type": "code",
   "execution_count": 419,
   "metadata": {},
   "outputs": [
    {
     "data": {
      "text/plain": [
       "0.6527568922305765"
      ]
     },
     "execution_count": 419,
     "metadata": {},
     "output_type": "execute_result"
    }
   ],
   "source": [
    "# Classify using random forests -accounts for the small size of the dataset and the categorical nature of the features, limit overfitting\n",
    "clf = RandomForestClassifier(n_estimators=10, max_depth=None, min_samples_split=2, random_state=0, bootstrap=True)\n",
    "scores = cross_val_score(clf, features, target)\n",
    "scores.mean()"
   ]
  },
  {
   "cell_type": "markdown",
   "metadata": {},
   "source": [
    "Conclusion: Low quality prediction (1/02/2018)"
   ]
  },
  {
   "cell_type": "markdown",
   "metadata": {},
   "source": [
    "### Biobrick symbol recognition Q3 -> Q10"
   ]
  },
  {
   "cell_type": "code",
   "execution_count": 420,
   "metadata": {},
   "outputs": [
    {
     "name": "stderr",
     "output_type": "stream",
     "text": [
      "/home/emma/anaconda3/lib/python3.6/site-packages/sklearn/preprocessing/data.py:164: UserWarning: Numerical issues were encountered when centering the data and might not be solved. Dataset may contain too large values. You may need to prescale your features.\n",
      "  warnings.warn(\"Numerical issues were encountered \"\n"
     ]
    }
   ],
   "source": [
    "# Remove id\n",
    "anonymousData = gameAndCorrectedAfterDataClassif.drop(\"anonymousID\", axis = 1)\n",
    "\n",
    "# Get features and target\n",
    "# Only select rows where scoreafter is not negative\n",
    "features = pd.concat([anonymousData.loc[:,\"sessionsCount\":\"completionTime\"], anonymousData.loc[:,\"gameInterest\":\"androidPlay\"]], axis=1)\n",
    "target = anonymousData.loc[:,\"Q3\":\"Q10\"].astype(int).sum(axis=1)\n",
    "\n",
    "# Add polynomial features\n",
    "secondDegreeFeatures = preprocessing.PolynomialFeatures(degree=2, interaction_only=False, include_bias=True)\n",
    "features = secondDegreeFeatures.fit_transform(features)\n",
    "\n",
    "# Center and scale data\n",
    "features = preprocessing.scale(features)"
   ]
  },
  {
   "cell_type": "code",
   "execution_count": 421,
   "metadata": {},
   "outputs": [
    {
     "data": {
      "text/plain": [
       "0.47305899430461434"
      ]
     },
     "execution_count": 421,
     "metadata": {},
     "output_type": "execute_result"
    },
    {
     "data": {
      "image/png": "[encoded data removed]",
      "text/plain": [
       "<matplotlib.figure.Figure at 0x7ff2184e11d0>"
      ]
     },
     "metadata": {},
     "output_type": "display_data"
    }
   ],
   "source": [
    "# Run Lasso regression with cross-validation\n",
    "model = Lasso()\n",
    "scores = cross_val_score(model, features, target, cv=10)\n",
    "boxplot(scores)\n",
    "scores.mean()"
   ]
  },
  {
   "cell_type": "markdown",
   "metadata": {},
   "source": [
    "Conclusion: No apparent possible prediction (1/02/2018)"
   ]
  },
  {
   "cell_type": "markdown",
   "metadata": {},
   "source": [
    "### Easy questions Q1->Q7-Q9-Q10-Q15-Q16-Q19-Q20"
   ]
  },
  {
   "cell_type": "code",
   "execution_count": 422,
   "metadata": {},
   "outputs": [
    {
     "name": "stderr",
     "output_type": "stream",
     "text": [
      "/home/emma/anaconda3/lib/python3.6/site-packages/sklearn/preprocessing/data.py:164: UserWarning: Numerical issues were encountered when centering the data and might not be solved. Dataset may contain too large values. You may need to prescale your features.\n",
      "  warnings.warn(\"Numerical issues were encountered \"\n"
     ]
    }
   ],
   "source": [
    "# Remove id\n",
    "anonymousData = gameAndCorrectedAfterDataClassif.drop(\"anonymousID\", axis = 1)\n",
    "\n",
    "# Get features and target\n",
    "features = pd.concat([anonymousData.loc[:,\"sessionsCount\":\"completionTime\"], anonymousData.loc[:,\"gameInterest\":\"androidPlay\"]], axis=1)\n",
    "target = anonymousData.loc[:,[\"Q1\", \"Q2\", \"Q3\", \"Q4\", \"Q5\", \"Q6\", \"Q7\", \"Q9\", \"Q10\", \"Q15\", \"Q16\", \"Q19\", \"Q20\"]].astype(int).sum(axis=1)\n",
    "\n",
    "# Add polynomial features\n",
    "secondDegreeFeatures = preprocessing.PolynomialFeatures(degree=2, interaction_only=False, include_bias=True)\n",
    "features = secondDegreeFeatures.fit_transform(features)\n",
    "\n",
    "# Center and scale data\n",
    "features = preprocessing.scale(features)"
   ]
  },
  {
   "cell_type": "code",
   "execution_count": 423,
   "metadata": {},
   "outputs": [
    {
     "data": {
      "text/plain": [
       "0.6378100084330245"
      ]
     },
     "execution_count": 423,
     "metadata": {},
     "output_type": "execute_result"
    },
    {
     "data": {
      "image/png": "[encoded data removed]",
      "text/plain": [
       "<matplotlib.figure.Figure at 0x7ff21b707630>"
      ]
     },
     "metadata": {},
     "output_type": "display_data"
    }
   ],
   "source": [
    "# Run Lasso regression with cross-validation\n",
    "model = Lasso()\n",
    "scores = cross_val_score(model, features, target, cv=10)\n",
    "boxplot(scores)\n",
    "scores.mean()"
   ]
  },
  {
   "cell_type": "code",
   "execution_count": 424,
   "metadata": {},
   "outputs": [
    {
     "data": {
      "text/plain": [
       "(array([ 2.,  0.,  1.,  2.,  1.,  1.,  3.,  2.,  0.,  2.,  9., 10., 27.]),\n",
       " array([ 0,  1,  2,  3,  4,  5,  6,  7,  8,  9, 10, 11, 12, 13]),\n",
       " <a list of 13 Patch objects>)"
      ]
     },
     "execution_count": 424,
     "metadata": {},
     "output_type": "execute_result"
    },
    {
     "data": {
      "image/png": "[encoded data removed]",
      "text/plain": [
       "<matplotlib.figure.Figure at 0x7ff1f9ee8f60>"
      ]
     },
     "metadata": {},
     "output_type": "display_data"
    }
   ],
   "source": [
    "plt.hist(target, bins = range(14))"
   ]
  },
  {
   "cell_type": "markdown",
   "metadata": {},
   "source": [
    "Conclusion: Inconclusive (01/02/2018)"
   ]
  },
  {
   "cell_type": "markdown",
   "metadata": {},
   "source": [
    "## Can the completion time be predicted from questionnaire answers?"
   ]
  },
  {
   "cell_type": "markdown",
   "metadata": {},
   "source": [
    "### From the before questionnaire"
   ]
  },
  {
   "cell_type": "code",
   "execution_count": 452,
   "metadata": {
    "collapsed": true
   },
   "outputs": [],
   "source": [
    "# Remove id\n",
    "anonymousData = gameAndCorrectedBeforeDataClassif.drop(\"anonymousID\", axis = 1)\n",
    "\n",
    "# Get features and target\n",
    "features = anonymousData.loc[:,\"gameInterest\":\"gender_Prefer not to say\"]\n",
    "target = anonymousData.loc[:,\"completionTime\"]\n",
    "\n",
    "# Add polynomial features\n",
    "secondDegreeFeatures = preprocessing.PolynomialFeatures(degree=2, interaction_only=False, include_bias=True)\n",
    "features = secondDegreeFeatures.fit_transform(features)\n",
    "\n",
    "# Center and scale data\n",
    "features = preprocessing.scale(features)"
   ]
  },
  {
   "cell_type": "code",
   "execution_count": 445,
   "metadata": {},
   "outputs": [
    {
     "data": {
      "text/plain": [
       "-1.3806794002805851"
      ]
     },
     "execution_count": 445,
     "metadata": {},
     "output_type": "execute_result"
    },
    {
     "data": {
      "image/png": "[encoded data removed]",
      "text/plain": [
       "<matplotlib.figure.Figure at 0x7ff21ba45d68>"
      ]
     },
     "metadata": {},
     "output_type": "display_data"
    }
   ],
   "source": [
    "# Run Lasso regression with cross-validation\n",
    "model = Lasso(max_iter=10000, alpha=10)\n",
    "scores = cross_val_score(model, features, target, cv=10)\n",
    "boxplot(scores)\n",
    "scores.mean()"
   ]
  },
  {
   "cell_type": "code",
   "execution_count": 453,
   "metadata": {},
   "outputs": [
    {
     "data": {
      "text/plain": [
       "0.7328767123287672"
      ]
     },
     "execution_count": 453,
     "metadata": {},
     "output_type": "execute_result"
    },
    {
     "data": {
      "image/png": "[encoded data removed]",
      "text/plain": [
       "<matplotlib.figure.Figure at 0x7ff21957a2e8>"
      ]
     },
     "metadata": {},
     "output_type": "display_data"
    }
   ],
   "source": [
    "# Try classification\n",
    "target = target.apply(lambda x: 0 if x < 7200 else 1) #0 if short, 1 if long\n",
    "\n",
    "# Classify using extra tree classifiers, more random than random forest methods\n",
    "clf = ExtraTreesClassifier(n_estimators=10, max_depth=None, min_samples_split=2, random_state=0, bootstrap=True)\n",
    "scores = cross_val_score(clf, features, target, cv=10)\n",
    "    \n",
    "# Display plot\n",
    "boxplot(scores)\n",
    "scores.mean()\n",
    "sum(target)/len(target)"
   ]
  },
  {
   "cell_type": "markdown",
   "metadata": {},
   "source": [
    "Conclusion: No (01/02/2018)"
   ]
  },
  {
   "cell_type": "markdown",
   "metadata": {},
   "source": [
    "### From the after questionnaire"
   ]
  },
  {
   "cell_type": "code",
   "execution_count": 355,
   "metadata": {
    "collapsed": true
   },
   "outputs": [],
   "source": [
    "# Remove id\n",
    "anonymousData = gameAndCorrectedAfterDataClassif.drop(\"anonymousID\", axis = 1)\n",
    "\n",
    "# Get features and target\n",
    "features = anonymousData.loc[:,\"gameInterest\":\"gender_Prefer not to say\"]\n",
    "target = anonymousData.loc[:,\"completionTime\"]\n",
    "\n",
    "# Add polynomial features\n",
    "secondDegreeFeatures = preprocessing.PolynomialFeatures(degree=2, interaction_only=False, include_bias=True)\n",
    "features = secondDegreeFeatures.fit_transform(features)\n",
    "\n",
    "# Center and scale data\n",
    "features = preprocessing.scale(features)"
   ]
  },
  {
   "cell_type": "code",
   "execution_count": 356,
   "metadata": {},
   "outputs": [
    {
     "data": {
      "text/plain": [
       "-10.437875580600997"
      ]
     },
     "execution_count": 356,
     "metadata": {},
     "output_type": "execute_result"
    },
    {
     "data": {
      "image/png": "[encoded data removed]",
      "text/plain": [
       "<matplotlib.figure.Figure at 0x7ff208512320>"
      ]
     },
     "metadata": {},
     "output_type": "display_data"
    }
   ],
   "source": [
    "# Run Lasso regression with cross-validation\n",
    "model = Lasso()\n",
    "scores = cross_val_score(model, features, target, cv=10)\n",
    "boxplot(scores)\n",
    "scores.mean()"
   ]
  },
  {
   "cell_type": "code",
   "execution_count": 357,
   "metadata": {},
   "outputs": [
    {
     "data": {
      "text/plain": [
       "0.6747619047619048"
      ]
     },
     "execution_count": 357,
     "metadata": {},
     "output_type": "execute_result"
    },
    {
     "data": {
      "image/png": "[encoded data removed]",
      "text/plain": [
       "<matplotlib.figure.Figure at 0x7ff21c022fd0>"
      ]
     },
     "metadata": {},
     "output_type": "display_data"
    }
   ],
   "source": [
    "# Try classification\n",
    "target = target.apply(lambda x: 0 if x < 10000 else 1) #0 if short, 1 if long\n",
    "\n",
    "# Classify using extra tree classifiers, more random than random forest methods\n",
    "clf = ExtraTreesClassifier(n_estimators=10, max_depth=None, min_samples_split=2, random_state=0, bootstrap=True)\n",
    "scores = cross_val_score(clf, features, target, cv=10)\n",
    "    \n",
    "# Display plot\n",
    "boxplot(scores)\n",
    "scores.mean()"
   ]
  },
  {
   "cell_type": "markdown",
   "metadata": {},
   "source": [
    "Conclusion: No (01/02/2018)"
   ]
  },
  {
   "cell_type": "code",
   "execution_count": null,
   "metadata": {
    "collapsed": true
   },
   "outputs": [],
   "source": []
  },
  {
   "cell_type": "code",
   "execution_count": null,
   "metadata": {
    "collapsed": true
   },
   "outputs": [],
   "source": []
  }
 ],
 "metadata": {
  "kernelspec": {
   "display_name": "Python 3",
   "language": "python",
   "name": "python3"
  },
  "language_info": {
   "codemirror_mode": {
    "name": "ipython",
    "version": 3
   },
   "file_extension": ".py",
   "mimetype": "text/x-python",
   "name": "python",
   "nbconvert_exporter": "python",
   "pygments_lexer": "ipython3",
   "version": "3.6.3"
  }
 },
 "nbformat": 4,
 "nbformat_minor": 2
}
