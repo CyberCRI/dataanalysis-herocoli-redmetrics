{
 "cells": [
  {
   "cell_type": "code",
   "execution_count": 3,
   "metadata": {},
   "outputs": [
    {
     "name": "stderr",
     "output_type": "stream",
     "text": [
      "/home/emma/anaconda3/lib/python3.6/site-packages/IPython/core/interactiveshell.py:2698: DtypeWarning: Columns (18,22,28,32,38) have mixed types. Specify dtype option on import or set low_memory=False.\n",
      "  interactivity=interactivity, compiler=compiler, result=result)\n",
      "/home/emma/anaconda3/lib/python3.6/site-packages/IPython/core/interactiveshell.py:2698: DtypeWarning: Columns (18,22,28,32,38) have mixed types. Specify dtype option on import or set low_memory=False.\n",
      "  interactivity=interactivity, compiler=compiler, result=result)\n",
      "/home/emma/anaconda3/lib/python3.6/site-packages/IPython/core/interactiveshell.py:2698: DtypeWarning: Columns (18,22,28,32,38) have mixed types. Specify dtype option on import or set low_memory=False.\n",
      "  interactivity=interactivity, compiler=compiler, result=result)\n",
      "/home/emma/anaconda3/lib/python3.6/site-packages/IPython/core/interactiveshell.py:2698: DtypeWarning: Columns (18,22,28,32,38) have mixed types. Specify dtype option on import or set low_memory=False.\n",
      "  interactivity=interactivity, compiler=compiler, result=result)\n"
     ]
    },
    {
     "data": {
      "application/vnd.jupyter.widget-view+json": {
       "model_id": "b7c2623e31144fd8ae5dbe9b6c188e03",
       "version_major": 2,
       "version_minor": 0
      },
      "text/plain": [
       "A Jupyter Widget"
      ]
     },
     "metadata": {},
     "output_type": "display_data"
    },
    {
     "name": "stdout",
     "output_type": "stream",
     "text": [
      "\"00dbbdca-d86c-4bc9-803c-0602e0153f68\"\n",
      "\"01e85778-2903-447b-bbab-dd750564ee2d\"\n",
      "\"0916ecad-850e-4bfb-b8d4-e9e8f66c52d4\"\n",
      "\"0ceae1e4-b8c8-4578-a157-4facbff9f899\"\n",
      "\"15b73e25-5e0e-4216-943b-0279ae97b416\"\n",
      "\"18102cfd-8ef0-42f1-9f05-30fc7779979c\"\n",
      "\"1a03bc9e-bed4-4ddd-be7f-af23b1d5eb65\"\n",
      "\"1f27519a-971f-4e39-bac7-9920bfc4b05b\"\n",
      "\"24d954e3-23d4-4368-9b10-a1462d2c50d0\"\n",
      "\"2734a37d-4ba5-454f-bf85-1f7b767138f6\"\n",
      "\"2b91e6b2-d5ed-42e1-8bf5-dc23aeaf7e6a\"\n",
      "\"3505d082-e62f-4d76-8dda-4ca6dc2d7c6c\"\n",
      "\"3685a015-fa97-4457-ad73-da1c50210fe1\"\n",
      "\"3d733347-0313-441a-b77c-3e4046042a53\"\n",
      "\"3ef14300-4987-4b54-a56c-5b6d1f8a24a1\"\n",
      "\"3fe0632f-b218-41c3-adfd-27083f271c19\"\n",
      "\"44fe6cda-3f3e-4a6d-857e-4f22c3787202\"\n",
      "\"4a859cce-5826-4807-9e1d-4dd5eba16180\"\n",
      "\"4cd1abad-a077-46a1-bbe4-7a83594de09e\"\n",
      "\"4dbc1a0a-e1d2-44dd-833c-62252a56bfd6\"\n",
      "\"5151a69c-201b-45ec-954a-460a07443f96\"\n",
      "\"58d22690-8604-41cf-a5b7-d71fb3b9ad5b\"\n",
      "\"5977184a-1be2-4725-9b48-f2782dc03efb\"\n",
      "\"5c4939b5-425b-4d19-b5d2-0384a515539e\"\n",
      "\"5ca76986-9cac-4824-82ef-e20b81199e1a\"\n",
      "\"5d9e5030-50dc-4fcd-be4b-1b4fcd40097d\"\n",
      "\"5e8dd563-9049-4da4-ab54-42e472ba6f41\"\n",
      "\"5e978fb3-316a-42ba-bb58-00856353838d\"\n",
      "\"5ecf601d-4eac-433e-8056-3a5b9eda0555\"\n",
      "\"649ca070-48aa-43a9-a43e-5fbf2464f5d7\"\n",
      "\"6a90224e-ff76-4bf8-9784-f2b257b974c1\"\n",
      "\"6b5d392d-b737-49ef-99af-e8c445ff6379\"\n",
      "\"7037c5b2-c286-498e-9784-9a061c778609\"\n",
      "\"72002481-18a1-4de2-8749-553bbabe119e\"\n",
      "\"74cfbbd0-eb35-467c-9bad-221ac73a7444\"\n",
      "\"75e264d6-af94-4975-bb18-50cac09894c4\"\n",
      "\"7c8320de-0489-4092-be86-d323064c3dd9\"\n",
      "\"7ea5c999-8001-4eee-9cdf-580d0783ce5c\"\n",
      "\"87df544d-a2c8-4fd8-9d4d-cffd0b8eee5a\"\n",
      "\"8ca16c7a-70a6-4723-bd72-65b8485a2e86\"\n",
      "\"8d352896-a3f1-471c-8439-0f426df901c1\"\n",
      "\"9385861a-b7bf-48cc-aa47-9aec96c016e7\"\n",
      "\"94ce899a-9720-49bd-b6b2-7118b767298c\"\n",
      "\"97f6ae4f-e2a6-4721-8936-f759c8867f6a\"\n",
      "\"9880ce9d-c6fc-476e-98a9-a9e8c8f7fcdc\"\n",
      "\"998cde9b-39cb-49ea-a5b6-d492d4b8d84a\"\n",
      "\"9a2e8271-a84d-4b3c-a670-2d65326ed824\"\n",
      "\"9ee4164c-8a5b-4ebc-98ec-9aef76badf6b\"\n",
      "\"a4d4b030-9117-4331-ba48-90dc05a7e65a\"\n",
      "\"a7936587-8b71-43b6-9c61-17b2c2b55de3\"\n",
      "\"a9f9efd2-b6bf-4bda-97d1-3620800bd62f\"\n",
      "\"acb9c989-b4a6-4c4d-81cc-6b5783ec71d8\"\n",
      "\"ae79c99a-451a-4071-a078-03ddde6019f7\"\n",
      "\"af0e03b4-6016-4ca1-8482-dbb8fa0ae457\"\n",
      "\"b10050f7-aad0-4a7f-8f6f-46ad56ca1bbe\"\n",
      "\"ba202bbc-af77-42e8-85ff-e25b871717d5\"\n",
      "\"bbca0320-db34-4ce4-ab87-39e303c177c5\"\n",
      "\"bdc1c38d-dce7-4c00-8ea2-9514643bc09f\"\n",
      "\"bfdfd356-5d6f-4696-a2f1-c1dc338aa64b\"\n",
      "\"bffd0877-e77e-470a-b0f9-a9cdc6ff0a09\"\n",
      "\"c67ab381-44e8-4699-b953-6c81a54a0513\"\n",
      "\"cad582e3-1868-4c8f-a932-74d7498c9934\"\n",
      "\"d10a70ec-0d38-4332-bfdb-cfdc38ef9603\"\n",
      "\"d3cf1687-6c27-45e7-ada7-6619ef639dbe\"\n",
      "\"d4179256-4a86-4e91-9ffb-9235c56ac203\"\n",
      "\"d6826fd9-a6fc-4046-b974-68e50576183f\"\n",
      "\"dd0597c2-a245-4752-8637-d78c50e49a68\"\n",
      "\"deb089c0-9be3-4b75-9b27-28963c77b10c\"\n",
      "\"df4f13e0-a9da-4acd-a0a4-d33bb84493d4\"\n",
      "\"e16c0b19-a5c1-4c2d-ad0b-f54d96bced69\"\n",
      "\"e63a2fc6-50bd-4417-a712-fe688bf8e242\"\n",
      "\"e87957e0-2aa7-48b9-9ee8-86e25e45a8ab\"\n",
      "\"f252cd36-b9a9-472b-9605-2a5e3cc799c7\"\n",
      "\"f66d0304-820c-44d0-914a-7271ac4aa654\"\n",
      "\"f8506e50-a569-4bab-88cd-4a0237aeb197\"\n",
      "\"fa873073-af62-4ab0-bf76-b3864762b550\"\n",
      "\"fad5b543-2e7f-48be-ad1b-5398dc720539\"\n",
      "\"fd5864bb-268e-4935-a7bc-3d807ce788b1\"\n",
      "done\n"
     ]
    }
   ],
   "source": [
    "%run dataFormating.ipynb"
   ]
  },
  {
   "cell_type": "code",
   "execution_count": 78,
   "metadata": {
    "collapsed": true
   },
   "outputs": [],
   "source": [
    "from sklearn import preprocessing\n",
    "from sklearn.ensemble import RandomForestClassifier\n",
    "from sklearn.ensemble import ExtraTreesClassifier\n",
    "from sklearn.tree import DecisionTreeClassifier\n",
    "from sklearn.model_selection import cross_val_score\n",
    "from sklearn.naive_bayes import GaussianNB\n",
    "\n",
    "from ipywidgets import FloatProgress\n",
    "from IPython.display import display\n",
    "\n",
    "from math import *\n",
    "\n",
    "from scipy import stats\n",
    "from scipy.stats.mstats import normaltest"
   ]
  },
  {
   "cell_type": "markdown",
   "metadata": {},
   "source": [
    "# Questionnaire only"
   ]
  },
  {
   "cell_type": "markdown",
   "metadata": {},
   "source": [
    "## Can the answers to the scientific questions be used to predict if the questionnaire was filled before or after the game?"
   ]
  },
  {
   "cell_type": "markdown",
   "metadata": {},
   "source": [
    "Note: I am using only decision tree methods here because other methods like naive bayes do not make sense on categorical data"
   ]
  },
  {
   "cell_type": "markdown",
   "metadata": {},
   "source": [
    "### If scientific questions are coded by answers"
   ]
  },
  {
   "cell_type": "code",
   "execution_count": 71,
   "metadata": {},
   "outputs": [],
   "source": [
    "# Select columns that correspond to scientific questions\n",
    "scientificColumns = [x for x in list(defForms.columns.values) if x[0] == \"Q\"]\n",
    "\n",
    "# Pick features and target\n",
    "features = defForms.loc[:, scientificColumns]\n",
    "target = defForms[\"temporality\"].astype('int') "
   ]
  },
  {
   "cell_type": "code",
   "execution_count": 72,
   "metadata": {},
   "outputs": [
    {
     "data": {
      "text/plain": [
       "0.64376218323586754"
      ]
     },
     "execution_count": 72,
     "metadata": {},
     "output_type": "execute_result"
    }
   ],
   "source": [
    "# Classify using decision trees -accounts for the small size of the dataset and the categorical nature of the features\n",
    "clf = DecisionTreeClassifier(max_depth=None, min_samples_split=2, random_state=0)\n",
    "scores = cross_val_score(clf, features, target)\n",
    "scores.mean()"
   ]
  },
  {
   "cell_type": "code",
   "execution_count": 73,
   "metadata": {},
   "outputs": [
    {
     "data": {
      "text/plain": [
       "0.73830409356725146"
      ]
     },
     "execution_count": 73,
     "metadata": {},
     "output_type": "execute_result"
    }
   ],
   "source": [
    "# Classify using random forests -accounts for the small size of the dataset and the categorical nature of the features, limit overfitting\n",
    "clf = RandomForestClassifier(n_estimators=10, max_depth=None, min_samples_split=2, random_state=0)\n",
    "scores = cross_val_score(clf, features, target)\n",
    "scores.mean()"
   ]
  },
  {
   "cell_type": "code",
   "execution_count": 74,
   "metadata": {},
   "outputs": [
    {
     "data": {
      "text/plain": [
       "0.68031189083820676"
      ]
     },
     "execution_count": 74,
     "metadata": {},
     "output_type": "execute_result"
    }
   ],
   "source": [
    "# Classify using extra tree classifiers, more random than random forest methods\n",
    "clf = ExtraTreesClassifier(n_estimators=10, max_depth=None, min_samples_split=2, random_state=0)\n",
    "scores = cross_val_score(clf, features, target)\n",
    "scores.mean()"
   ]
  },
  {
   "cell_type": "markdown",
   "metadata": {},
   "source": [
    "Conclusion: Accuracy is around 70%. Not bad but we expected better (19/12/2017)"
   ]
  },
  {
   "cell_type": "markdown",
   "metadata": {},
   "source": [
    "## If scientific questions are coded by correctedness"
   ]
  },
  {
   "cell_type": "code",
   "execution_count": 81,
   "metadata": {},
   "outputs": [],
   "source": [
    "# Select columns that correspond to scientific questions\n",
    "scientificColumns = [x for x in list(defCorrectedForms.columns.values) if x[0] == \"Q\"]\n",
    "\n",
    "# Pick features and target\n",
    "features = defCorrectedForms.loc[:, scientificColumns]\n",
    "target = defCorrectedForms[\"temporality\"].astype('int') "
   ]
  },
  {
   "cell_type": "code",
   "execution_count": 82,
   "metadata": {},
   "outputs": [
    {
     "data": {
      "text/plain": [
       "0.58089668615984402"
      ]
     },
     "execution_count": 82,
     "metadata": {},
     "output_type": "execute_result"
    }
   ],
   "source": [
    "# Classify using decision trees -accounts for the small size of the dataset and the categorical nature of the features\n",
    "clf = DecisionTreeClassifier(max_depth=None, min_samples_split=2, random_state=0)\n",
    "scores = cross_val_score(clf, features, target)\n",
    "scores.mean()"
   ]
  },
  {
   "cell_type": "code",
   "execution_count": 83,
   "metadata": {},
   "outputs": [
    {
     "data": {
      "text/plain": [
       "0.71832358674463936"
      ]
     },
     "execution_count": 83,
     "metadata": {},
     "output_type": "execute_result"
    }
   ],
   "source": [
    "# Classify using random forests -accounts for the small size of the dataset and the categorical nature of the features, limit overfitting\n",
    "clf = RandomForestClassifier(n_estimators=10, max_depth=None, min_samples_split=2, random_state=0)\n",
    "scores = cross_val_score(clf, features, target)\n",
    "scores.mean()"
   ]
  },
  {
   "cell_type": "code",
   "execution_count": 84,
   "metadata": {},
   "outputs": [
    {
     "data": {
      "text/plain": [
       "0.62670565302144254"
      ]
     },
     "execution_count": 84,
     "metadata": {},
     "output_type": "execute_result"
    }
   ],
   "source": [
    "# Classify using extra tree classifiers, more random than random forest methods\n",
    "clf = ExtraTreesClassifier(n_estimators=10, max_depth=None, min_samples_split=2, random_state=0)\n",
    "scores = cross_val_score(clf, features, target)\n",
    "scores.mean()"
   ]
  },
  {
   "cell_type": "markdown",
   "metadata": {},
   "source": [
    "Conclusion: Accuracy is around 70%. Not bad but we expected better (19/12/2017)"
   ]
  },
  {
   "cell_type": "markdown",
   "metadata": {},
   "source": [
    "# RedMetrics only"
   ]
  },
  {
   "cell_type": "markdown",
   "metadata": {},
   "source": [
    "# Questionnaire and RedMetrics"
   ]
  },
  {
   "cell_type": "code",
   "execution_count": null,
   "metadata": {
    "collapsed": true
   },
   "outputs": [],
   "source": []
  },
  {
   "cell_type": "code",
   "execution_count": null,
   "metadata": {
    "collapsed": true
   },
   "outputs": [],
   "source": []
  },
  {
   "cell_type": "code",
   "execution_count": null,
   "metadata": {
    "collapsed": true
   },
   "outputs": [],
   "source": []
  },
  {
   "cell_type": "code",
   "execution_count": null,
   "metadata": {
    "collapsed": true
   },
   "outputs": [],
   "source": []
  },
  {
   "cell_type": "code",
   "execution_count": null,
   "metadata": {
    "collapsed": true
   },
   "outputs": [],
   "source": []
  },
  {
   "cell_type": "code",
   "execution_count": 75,
   "metadata": {},
   "outputs": [
    {
     "data": {
      "text/plain": [
       "0.77952755905511806"
      ]
     },
     "execution_count": 75,
     "metadata": {},
     "output_type": "execute_result"
    }
   ],
   "source": [
    "# Assuming features independance\n",
    "# Check if features roughly follow a Gaussian distribution\n",
    "gaussianTest = stats.mstats.normaltest(features, axis = 0)\n",
    "percentOfGaussianFeatures = gaussianTest[0].count() / len(gaussianTest[0])\n",
    "percentOfGaussianFeatures"
   ]
  },
  {
   "cell_type": "code",
   "execution_count": 87,
   "metadata": {},
   "outputs": [
    {
     "data": {
      "text/plain": [
       "0.73586744639376223"
      ]
     },
     "execution_count": 87,
     "metadata": {},
     "output_type": "execute_result"
    }
   ],
   "source": [
    "# Lets try a Gaussian Naive Bayes classifier\n",
    "clf = GaussianNB()\n",
    "scores = cross_val_score(clf, features, target)\n",
    "scores.mean()"
   ]
  }
 ],
 "metadata": {
  "kernelspec": {
   "display_name": "Python 3",
   "language": "python",
   "name": "python3"
  },
  "language_info": {
   "codemirror_mode": {
    "name": "ipython",
    "version": 3
   },
   "file_extension": ".py",
   "mimetype": "text/x-python",
   "name": "python",
   "nbconvert_exporter": "python",
   "pygments_lexer": "ipython3",
   "version": "3.6.3"
  }
 },
 "nbformat": 4,
 "nbformat_minor": 2
}
