{
 "cells": [
  {
   "cell_type": "code",
   "execution_count": 153,
   "metadata": {},
   "outputs": [
    {
     "name": "stderr",
     "output_type": "stream",
     "text": [
      "/home/emma/anaconda3/lib/python3.6/site-packages/IPython/core/interactiveshell.py:2698: DtypeWarning: Columns (18,22,28,32,38) have mixed types. Specify dtype option on import or set low_memory=False.\n",
      "  interactivity=interactivity, compiler=compiler, result=result)\n",
      "/home/emma/anaconda3/lib/python3.6/site-packages/IPython/core/interactiveshell.py:2698: DtypeWarning: Columns (18,22,28,32,38) have mixed types. Specify dtype option on import or set low_memory=False.\n",
      "  interactivity=interactivity, compiler=compiler, result=result)\n",
      "/home/emma/anaconda3/lib/python3.6/site-packages/IPython/core/interactiveshell.py:2698: DtypeWarning: Columns (18,22,28,32,38) have mixed types. Specify dtype option on import or set low_memory=False.\n",
      "  interactivity=interactivity, compiler=compiler, result=result)\n",
      "/home/emma/anaconda3/lib/python3.6/site-packages/IPython/core/interactiveshell.py:2698: DtypeWarning: Columns (18,22,28,32,38) have mixed types. Specify dtype option on import or set low_memory=False.\n",
      "  interactivity=interactivity, compiler=compiler, result=result)\n"
     ]
    },
    {
     "name": "stdout",
     "output_type": "stream",
     "text": [
      "temporalities already set\n"
     ]
    },
    {
     "data": {
      "application/vnd.jupyter.widget-view+json": {
       "model_id": "0d70a7244e91451a8329681dffdf0442",
       "version_major": 2,
       "version_minor": 0
      },
      "text/plain": [
       "A Jupyter Widget"
      ]
     },
     "metadata": {},
     "output_type": "display_data"
    }
   ],
   "source": [
    "%run dataFormating.ipynb"
   ]
  },
  {
   "cell_type": "code",
   "execution_count": 154,
   "metadata": {
    "collapsed": true
   },
   "outputs": [],
   "source": [
    "from sklearn import preprocessing\n",
    "from sklearn.ensemble import RandomForestClassifier\n",
    "from sklearn.ensemble import ExtraTreesClassifier\n",
    "from sklearn.tree import DecisionTreeClassifier\n",
    "from sklearn.model_selection import cross_val_score\n",
    "from sklearn.naive_bayes import GaussianNB\n",
    "from sklearn.linear_model import LassoCV, Lasso\n",
    "\n",
    "from ipywidgets import FloatProgress\n",
    "from IPython.display import display\n",
    "\n",
    "from math import *\n",
    "\n",
    "from scipy import stats\n",
    "from scipy.stats.mstats import normaltest\n",
    "\n",
    "from matplotlib.pyplot import boxplot"
   ]
  },
  {
   "cell_type": "markdown",
   "metadata": {},
   "source": [
    "# Questionnaire only"
   ]
  },
  {
   "cell_type": "markdown",
   "metadata": {},
   "source": [
    "## Can the answers to the scientific questions be used to predict if the questionnaire was filled before or after the game?"
   ]
  },
  {
   "cell_type": "markdown",
   "metadata": {},
   "source": [
    "Note: I am using only decision tree methods here because other methods like naive bayes do not make sense on categorical data"
   ]
  },
  {
   "cell_type": "markdown",
   "metadata": {},
   "source": [
    "### If scientific questions are coded by answers"
   ]
  },
  {
   "cell_type": "code",
   "execution_count": 155,
   "metadata": {
    "collapsed": true
   },
   "outputs": [],
   "source": [
    "# Select columns that correspond to scientific questions\n",
    "scientificColumns = [x for x in list(defForms.columns.values) if x[0] == \"Q\"]\n",
    "\n",
    "# Pick features and target\n",
    "features = defForms.loc[:, scientificColumns]\n",
    "target = defForms[\"temporality\"].astype('int') "
   ]
  },
  {
   "cell_type": "code",
   "execution_count": 156,
   "metadata": {},
   "outputs": [
    {
     "data": {
      "text/plain": [
       "0.7912048877522023"
      ]
     },
     "execution_count": 156,
     "metadata": {},
     "output_type": "execute_result"
    }
   ],
   "source": [
    "# Classify using decision trees -accounts for the small size of the dataset and the categorical nature of the features\n",
    "clf = DecisionTreeClassifier(max_depth=None, min_samples_split=2, random_state=0, max_features=\"auto\")\n",
    "scores = cross_val_score(clf, features, target)\n",
    "scores.mean()"
   ]
  },
  {
   "cell_type": "code",
   "execution_count": 157,
   "metadata": {},
   "outputs": [
    {
     "data": {
      "text/plain": [
       "0.8494600738846264"
      ]
     },
     "execution_count": 157,
     "metadata": {},
     "output_type": "execute_result"
    }
   ],
   "source": [
    "# Classify using random forests -accounts for the small size of the dataset and the categorical nature of the features, limit overfitting\n",
    "clf = RandomForestClassifier(n_estimators=10, max_depth=None, min_samples_split=2, random_state=0, bootstrap=True)\n",
    "scores = cross_val_score(clf, features, target)\n",
    "scores.mean()"
   ]
  },
  {
   "cell_type": "code",
   "execution_count": 158,
   "metadata": {},
   "outputs": [
    {
     "data": {
      "text/plain": [
       "0.8543620346689401"
      ]
     },
     "execution_count": 158,
     "metadata": {},
     "output_type": "execute_result"
    }
   ],
   "source": [
    "# Classify using extra tree classifiers, more random than random forest methods\n",
    "clf = ExtraTreesClassifier(n_estimators=10, max_depth=None, min_samples_split=2, random_state=0, bootstrap=True)\n",
    "scores = cross_val_score(clf, features, target)\n",
    "scores.mean()"
   ]
  },
  {
   "cell_type": "markdown",
   "metadata": {},
   "source": [
    "Conclusion: Accuracy is around 75%. Not bad but we expected better (17/01/2018)"
   ]
  },
  {
   "cell_type": "markdown",
   "metadata": {},
   "source": [
    "## If scientific questions are coded by correctedness"
   ]
  },
  {
   "cell_type": "code",
   "execution_count": 159,
   "metadata": {
    "collapsed": true
   },
   "outputs": [],
   "source": [
    "# Select columns that correspond to scientific questions\n",
    "scientificColumns = [x for x in list(defCorrectedForms.columns.values) if x[0] == \"Q\"]\n",
    "\n",
    "# Pick features and target\n",
    "features = defCorrectedForms.loc[:, scientificColumns]\n",
    "target = defCorrectedForms[\"temporality\"].astype('int') "
   ]
  },
  {
   "cell_type": "code",
   "execution_count": 160,
   "metadata": {},
   "outputs": [
    {
     "data": {
      "text/plain": [
       "0.7623614663256607"
      ]
     },
     "execution_count": 160,
     "metadata": {},
     "output_type": "execute_result"
    }
   ],
   "source": [
    "# Classify using decision trees -accounts for the small size of the dataset and the categorical nature of the features\n",
    "clf = DecisionTreeClassifier(max_depth=None, min_samples_split=2, random_state=0, max_features=\"auto\")\n",
    "scores = cross_val_score(clf, features, target)\n",
    "scores.mean()"
   ]
  },
  {
   "cell_type": "code",
   "execution_count": 161,
   "metadata": {},
   "outputs": [
    {
     "data": {
      "text/plain": [
       "0.8204745666382496"
      ]
     },
     "execution_count": 161,
     "metadata": {},
     "output_type": "execute_result"
    }
   ],
   "source": [
    "# Classify using random forests -accounts for the small size of the dataset and the categorical nature of the features, limit overfitting\n",
    "clf = RandomForestClassifier(n_estimators=10, max_depth=None, min_samples_split=2, random_state=0, bootstrap=True)\n",
    "scores = cross_val_score(clf, features, target)\n",
    "scores.mean()"
   ]
  },
  {
   "cell_type": "code",
   "execution_count": 162,
   "metadata": {},
   "outputs": [
    {
     "data": {
      "text/plain": [
       "0.8349673202614379"
      ]
     },
     "execution_count": 162,
     "metadata": {},
     "output_type": "execute_result"
    }
   ],
   "source": [
    "# Classify using extra tree classifiers, more random than random forest methods\n",
    "clf = ExtraTreesClassifier(n_estimators=10, max_depth=None, min_samples_split=2, random_state=0, bootstrap=True)\n",
    "scores = cross_val_score(clf, features, target)\n",
    "scores.mean()"
   ]
  },
  {
   "cell_type": "markdown",
   "metadata": {},
   "source": [
    "Conclusion: Accuracy is around 75%. Not bad but we expected better (19/12/2017)"
   ]
  },
  {
   "cell_type": "markdown",
   "metadata": {},
   "source": [
    "# RedMetrics only"
   ]
  },
  {
   "cell_type": "code",
   "execution_count": 163,
   "metadata": {},
   "outputs": [
    {
     "data": {
      "text/html": [
       "<div>\n",
       "<style>\n",
       "    .dataframe thead tr:only-child th {\n",
       "        text-align: right;\n",
       "    }\n",
       "\n",
       "    .dataframe thead th {\n",
       "        text-align: left;\n",
       "    }\n",
       "\n",
       "    .dataframe tbody tr th {\n",
       "        vertical-align: top;\n",
       "    }\n",
       "</style>\n",
       "<table border=\"1\" class=\"dataframe\">\n",
       "  <thead>\n",
       "    <tr style=\"text-align: right;\">\n",
       "      <th></th>\n",
       "      <th>sessionsCount</th>\n",
       "      <th>scorebefore</th>\n",
       "      <th>scoreafter</th>\n",
       "      <th>scoreundefined</th>\n",
       "      <th>complete</th>\n",
       "      <th>configure</th>\n",
       "      <th>craft</th>\n",
       "      <th>death</th>\n",
       "      <th>equip</th>\n",
       "      <th>unequip</th>\n",
       "      <th>...</th>\n",
       "      <th>7</th>\n",
       "      <th>8</th>\n",
       "      <th>9</th>\n",
       "      <th>10</th>\n",
       "      <th>11</th>\n",
       "      <th>12</th>\n",
       "      <th>13</th>\n",
       "      <th>14</th>\n",
       "      <th>completionTime</th>\n",
       "      <th>anonymousID</th>\n",
       "    </tr>\n",
       "  </thead>\n",
       "  <tbody>\n",
       "    <tr>\n",
       "      <th>\"8d352896-a3f1-471c-8439-0f426df901c1\"</th>\n",
       "      <td>1.0</td>\n",
       "      <td>18.0</td>\n",
       "      <td>-1.0</td>\n",
       "      <td>-1.0</td>\n",
       "      <td>0.0</td>\n",
       "      <td>0.0</td>\n",
       "      <td>5.0</td>\n",
       "      <td>5.0</td>\n",
       "      <td>16.0</td>\n",
       "      <td>1.0</td>\n",
       "      <td>...</td>\n",
       "      <td>3600.000</td>\n",
       "      <td>3600.000</td>\n",
       "      <td>3600.000</td>\n",
       "      <td>3600.000</td>\n",
       "      <td>3600.000</td>\n",
       "      <td>3600.000</td>\n",
       "      <td>3600.000</td>\n",
       "      <td>3600.000</td>\n",
       "      <td>9.223372e+10</td>\n",
       "      <td>8d352896-a3f1-471c-8439-0f426df901c1</td>\n",
       "    </tr>\n",
       "    <tr>\n",
       "      <th>\"7037c5b2-c286-498e-9784-9a061c778609\"</th>\n",
       "      <td>2.0</td>\n",
       "      <td>-1.0</td>\n",
       "      <td>22.0</td>\n",
       "      <td>-1.0</td>\n",
       "      <td>2.0</td>\n",
       "      <td>0.0</td>\n",
       "      <td>45.0</td>\n",
       "      <td>25.0</td>\n",
       "      <td>3.0</td>\n",
       "      <td>4.0</td>\n",
       "      <td>...</td>\n",
       "      <td>175.314</td>\n",
       "      <td>183.037</td>\n",
       "      <td>547.511</td>\n",
       "      <td>158.229</td>\n",
       "      <td>6.438</td>\n",
       "      <td>27.503</td>\n",
       "      <td>155.083</td>\n",
       "      <td>142.235</td>\n",
       "      <td>2.821648e+03</td>\n",
       "      <td>7037c5b2-c286-498e-9784-9a061c778609</td>\n",
       "    </tr>\n",
       "    <tr>\n",
       "      <th>\"5c4939b5-425b-4d19-b5d2-0384a515539e\"</th>\n",
       "      <td>1.0</td>\n",
       "      <td>-1.0</td>\n",
       "      <td>15.0</td>\n",
       "      <td>-1.0</td>\n",
       "      <td>0.0</td>\n",
       "      <td>0.0</td>\n",
       "      <td>7.0</td>\n",
       "      <td>11.0</td>\n",
       "      <td>25.0</td>\n",
       "      <td>3.0</td>\n",
       "      <td>...</td>\n",
       "      <td>3600.000</td>\n",
       "      <td>3600.000</td>\n",
       "      <td>3600.000</td>\n",
       "      <td>3600.000</td>\n",
       "      <td>3600.000</td>\n",
       "      <td>3600.000</td>\n",
       "      <td>3600.000</td>\n",
       "      <td>3600.000</td>\n",
       "      <td>9.223372e+10</td>\n",
       "      <td>5c4939b5-425b-4d19-b5d2-0384a515539e</td>\n",
       "    </tr>\n",
       "    <tr>\n",
       "      <th>\"acb9c989-b4a6-4c4d-81cc-6b5783ec71d8\"</th>\n",
       "      <td>1.0</td>\n",
       "      <td>23.0</td>\n",
       "      <td>-1.0</td>\n",
       "      <td>-1.0</td>\n",
       "      <td>0.0</td>\n",
       "      <td>1.0</td>\n",
       "      <td>11.0</td>\n",
       "      <td>11.0</td>\n",
       "      <td>16.0</td>\n",
       "      <td>3.0</td>\n",
       "      <td>...</td>\n",
       "      <td>3600.000</td>\n",
       "      <td>3600.000</td>\n",
       "      <td>3600.000</td>\n",
       "      <td>3600.000</td>\n",
       "      <td>3600.000</td>\n",
       "      <td>3600.000</td>\n",
       "      <td>3600.000</td>\n",
       "      <td>3600.000</td>\n",
       "      <td>9.223372e+10</td>\n",
       "      <td>acb9c989-b4a6-4c4d-81cc-6b5783ec71d8</td>\n",
       "    </tr>\n",
       "    <tr>\n",
       "      <th>\"1a03bc9e-bed4-4ddd-be7f-af23b1d5eb65\"</th>\n",
       "      <td>1.0</td>\n",
       "      <td>3.0</td>\n",
       "      <td>-1.0</td>\n",
       "      <td>-1.0</td>\n",
       "      <td>0.0</td>\n",
       "      <td>1.0</td>\n",
       "      <td>10.0</td>\n",
       "      <td>118.0</td>\n",
       "      <td>133.0</td>\n",
       "      <td>7.0</td>\n",
       "      <td>...</td>\n",
       "      <td>137.950</td>\n",
       "      <td>274.981</td>\n",
       "      <td>53.203</td>\n",
       "      <td>64.183</td>\n",
       "      <td>3.634</td>\n",
       "      <td>4.095</td>\n",
       "      <td>3600.000</td>\n",
       "      <td>3600.000</td>\n",
       "      <td>1.844675e+10</td>\n",
       "      <td>1a03bc9e-bed4-4ddd-be7f-af23b1d5eb65</td>\n",
       "    </tr>\n",
       "    <tr>\n",
       "      <th>\"3685a015-fa97-4457-ad73-da1c50210fe1\"</th>\n",
       "      <td>1.0</td>\n",
       "      <td>2.0</td>\n",
       "      <td>21.0</td>\n",
       "      <td>-1.0</td>\n",
       "      <td>0.0</td>\n",
       "      <td>0.0</td>\n",
       "      <td>19.0</td>\n",
       "      <td>54.0</td>\n",
       "      <td>79.0</td>\n",
       "      <td>11.0</td>\n",
       "      <td>...</td>\n",
       "      <td>3600.000</td>\n",
       "      <td>3600.000</td>\n",
       "      <td>3600.000</td>\n",
       "      <td>3600.000</td>\n",
       "      <td>3600.000</td>\n",
       "      <td>3600.000</td>\n",
       "      <td>3600.000</td>\n",
       "      <td>3600.000</td>\n",
       "      <td>8.301035e+10</td>\n",
       "      <td>3685a015-fa97-4457-ad73-da1c50210fe1</td>\n",
       "    </tr>\n",
       "    <tr>\n",
       "      <th>\"9a2e8271-a84d-4b3c-a670-2d65326ed824\"</th>\n",
       "      <td>1.0</td>\n",
       "      <td>-1.0</td>\n",
       "      <td>-1.0</td>\n",
       "      <td>3.0</td>\n",
       "      <td>0.0</td>\n",
       "      <td>1.0</td>\n",
       "      <td>1.0</td>\n",
       "      <td>0.0</td>\n",
       "      <td>0.0</td>\n",
       "      <td>0.0</td>\n",
       "      <td>...</td>\n",
       "      <td>3600.000</td>\n",
       "      <td>3600.000</td>\n",
       "      <td>3600.000</td>\n",
       "      <td>3600.000</td>\n",
       "      <td>3600.000</td>\n",
       "      <td>3600.000</td>\n",
       "      <td>3600.000</td>\n",
       "      <td>3600.000</td>\n",
       "      <td>1.383506e+11</td>\n",
       "      <td>9a2e8271-a84d-4b3c-a670-2d65326ed824</td>\n",
       "    </tr>\n",
       "    <tr>\n",
       "      <th>\"bfdfd356-5d6f-4696-a2f1-c1dc338aa64b\"</th>\n",
       "      <td>4.0</td>\n",
       "      <td>6.0</td>\n",
       "      <td>19.0</td>\n",
       "      <td>-1.0</td>\n",
       "      <td>0.0</td>\n",
       "      <td>1.0</td>\n",
       "      <td>12.0</td>\n",
       "      <td>67.0</td>\n",
       "      <td>69.0</td>\n",
       "      <td>17.0</td>\n",
       "      <td>...</td>\n",
       "      <td>96.493</td>\n",
       "      <td>236.166</td>\n",
       "      <td>86.135</td>\n",
       "      <td>55.430</td>\n",
       "      <td>5.048</td>\n",
       "      <td>9.579</td>\n",
       "      <td>971.505</td>\n",
       "      <td>3600.000</td>\n",
       "      <td>9.223376e+09</td>\n",
       "      <td>bfdfd356-5d6f-4696-a2f1-c1dc338aa64b</td>\n",
       "    </tr>\n",
       "    <tr>\n",
       "      <th>\"a7936587-8b71-43b6-9c61-17b2c2b55de3\"</th>\n",
       "      <td>2.0</td>\n",
       "      <td>4.0</td>\n",
       "      <td>13.0</td>\n",
       "      <td>-1.0</td>\n",
       "      <td>0.0</td>\n",
       "      <td>1.0</td>\n",
       "      <td>5.0</td>\n",
       "      <td>19.0</td>\n",
       "      <td>16.0</td>\n",
       "      <td>2.0</td>\n",
       "      <td>...</td>\n",
       "      <td>3600.000</td>\n",
       "      <td>3600.000</td>\n",
       "      <td>3600.000</td>\n",
       "      <td>3600.000</td>\n",
       "      <td>3600.000</td>\n",
       "      <td>3600.000</td>\n",
       "      <td>3600.000</td>\n",
       "      <td>3600.000</td>\n",
       "      <td>1.199038e+11</td>\n",
       "      <td>a7936587-8b71-43b6-9c61-17b2c2b55de3</td>\n",
       "    </tr>\n",
       "    <tr>\n",
       "      <th>\"7ea5c999-8001-4eee-9cdf-580d0783ce5c\"</th>\n",
       "      <td>1.0</td>\n",
       "      <td>-1.0</td>\n",
       "      <td>-1.0</td>\n",
       "      <td>4.0</td>\n",
       "      <td>0.0</td>\n",
       "      <td>0.0</td>\n",
       "      <td>0.0</td>\n",
       "      <td>0.0</td>\n",
       "      <td>0.0</td>\n",
       "      <td>0.0</td>\n",
       "      <td>...</td>\n",
       "      <td>3600.000</td>\n",
       "      <td>3600.000</td>\n",
       "      <td>3600.000</td>\n",
       "      <td>3600.000</td>\n",
       "      <td>3600.000</td>\n",
       "      <td>3600.000</td>\n",
       "      <td>3600.000</td>\n",
       "      <td>3600.000</td>\n",
       "      <td>1.383506e+11</td>\n",
       "      <td>7ea5c999-8001-4eee-9cdf-580d0783ce5c</td>\n",
       "    </tr>\n",
       "    <tr>\n",
       "      <th>\"5977184a-1be2-4725-9b48-f2782dc03efb\"</th>\n",
       "      <td>1.0</td>\n",
       "      <td>5.0</td>\n",
       "      <td>25.0</td>\n",
       "      <td>-1.0</td>\n",
       "      <td>1.0</td>\n",
       "      <td>0.0</td>\n",
       "      <td>21.0</td>\n",
       "      <td>61.0</td>\n",
       "      <td>35.0</td>\n",
       "      <td>4.0</td>\n",
       "      <td>...</td>\n",
       "      <td>200.448</td>\n",
       "      <td>45.973</td>\n",
       "      <td>415.828</td>\n",
       "      <td>145.692</td>\n",
       "      <td>4.657</td>\n",
       "      <td>6.108</td>\n",
       "      <td>154.528</td>\n",
       "      <td>552.617</td>\n",
       "      <td>4.183384e+03</td>\n",
       "      <td>5977184a-1be2-4725-9b48-f2782dc03efb</td>\n",
       "    </tr>\n",
       "    <tr>\n",
       "      <th>\"e63a2fc6-50bd-4417-a712-fe688bf8e242\"</th>\n",
       "      <td>1.0</td>\n",
       "      <td>11.0</td>\n",
       "      <td>24.0</td>\n",
       "      <td>-1.0</td>\n",
       "      <td>1.0</td>\n",
       "      <td>1.0</td>\n",
       "      <td>14.0</td>\n",
       "      <td>89.0</td>\n",
       "      <td>50.0</td>\n",
       "      <td>6.0</td>\n",
       "      <td>...</td>\n",
       "      <td>131.179</td>\n",
       "      <td>225.304</td>\n",
       "      <td>57.402</td>\n",
       "      <td>133.610</td>\n",
       "      <td>4.475</td>\n",
       "      <td>7.004</td>\n",
       "      <td>373.978</td>\n",
       "      <td>523.955</td>\n",
       "      <td>3.329655e+03</td>\n",
       "      <td>e63a2fc6-50bd-4417-a712-fe688bf8e242</td>\n",
       "    </tr>\n",
       "    <tr>\n",
       "      <th>\"2b91e6b2-d5ed-42e1-8bf5-dc23aeaf7e6a\"</th>\n",
       "      <td>1.0</td>\n",
       "      <td>8.0</td>\n",
       "      <td>22.0</td>\n",
       "      <td>-1.0</td>\n",
       "      <td>0.0</td>\n",
       "      <td>1.0</td>\n",
       "      <td>15.0</td>\n",
       "      <td>86.0</td>\n",
       "      <td>4.0</td>\n",
       "      <td>7.0</td>\n",
       "      <td>...</td>\n",
       "      <td>503.443</td>\n",
       "      <td>36.178</td>\n",
       "      <td>328.575</td>\n",
       "      <td>190.958</td>\n",
       "      <td>6.591</td>\n",
       "      <td>17.667</td>\n",
       "      <td>523.832</td>\n",
       "      <td>3600.000</td>\n",
       "      <td>9.223375e+09</td>\n",
       "      <td>2b91e6b2-d5ed-42e1-8bf5-dc23aeaf7e6a</td>\n",
       "    </tr>\n",
       "    <tr>\n",
       "      <th>\"bffd0877-e77e-470a-b0f9-a9cdc6ff0a09\"</th>\n",
       "      <td>2.0</td>\n",
       "      <td>9.0</td>\n",
       "      <td>23.0</td>\n",
       "      <td>-1.0</td>\n",
       "      <td>0.0</td>\n",
       "      <td>0.0</td>\n",
       "      <td>16.0</td>\n",
       "      <td>68.0</td>\n",
       "      <td>39.0</td>\n",
       "      <td>6.0</td>\n",
       "      <td>...</td>\n",
       "      <td>210.319</td>\n",
       "      <td>162.231</td>\n",
       "      <td>276.479</td>\n",
       "      <td>51.728</td>\n",
       "      <td>8.852</td>\n",
       "      <td>35.436</td>\n",
       "      <td>696.862</td>\n",
       "      <td>3600.000</td>\n",
       "      <td>9.223376e+09</td>\n",
       "      <td>bffd0877-e77e-470a-b0f9-a9cdc6ff0a09</td>\n",
       "    </tr>\n",
       "    <tr>\n",
       "      <th>\"97f6ae4f-e2a6-4721-8936-f759c8867f6a\"</th>\n",
       "      <td>3.0</td>\n",
       "      <td>3.0</td>\n",
       "      <td>26.0</td>\n",
       "      <td>-1.0</td>\n",
       "      <td>1.0</td>\n",
       "      <td>1.0</td>\n",
       "      <td>25.0</td>\n",
       "      <td>24.0</td>\n",
       "      <td>2.0</td>\n",
       "      <td>1.0</td>\n",
       "      <td>...</td>\n",
       "      <td>29.509</td>\n",
       "      <td>302.965</td>\n",
       "      <td>48.040</td>\n",
       "      <td>83.472</td>\n",
       "      <td>6.303</td>\n",
       "      <td>7.321</td>\n",
       "      <td>631.794</td>\n",
       "      <td>60.184</td>\n",
       "      <td>2.153956e+03</td>\n",
       "      <td>97f6ae4f-e2a6-4721-8936-f759c8867f6a</td>\n",
       "    </tr>\n",
       "    <tr>\n",
       "      <th>\"3ef14300-4987-4b54-a56c-5b6d1f8a24a1\"</th>\n",
       "      <td>1.0</td>\n",
       "      <td>0.0</td>\n",
       "      <td>14.0</td>\n",
       "      <td>-1.0</td>\n",
       "      <td>0.0</td>\n",
       "      <td>0.0</td>\n",
       "      <td>14.0</td>\n",
       "      <td>47.0</td>\n",
       "      <td>74.0</td>\n",
       "      <td>4.0</td>\n",
       "      <td>...</td>\n",
       "      <td>147.819</td>\n",
       "      <td>1319.949</td>\n",
       "      <td>80.488</td>\n",
       "      <td>3600.000</td>\n",
       "      <td>3600.000</td>\n",
       "      <td>3600.000</td>\n",
       "      <td>3600.000</td>\n",
       "      <td>3600.000</td>\n",
       "      <td>4.611686e+10</td>\n",
       "      <td>3ef14300-4987-4b54-a56c-5b6d1f8a24a1</td>\n",
       "    </tr>\n",
       "    <tr>\n",
       "      <th>\"6b5d392d-b737-49ef-99af-e8c445ff6379\"</th>\n",
       "      <td>3.0</td>\n",
       "      <td>2.0</td>\n",
       "      <td>6.0</td>\n",
       "      <td>-1.0</td>\n",
       "      <td>0.0</td>\n",
       "      <td>0.0</td>\n",
       "      <td>29.0</td>\n",
       "      <td>53.0</td>\n",
       "      <td>109.0</td>\n",
       "      <td>2.0</td>\n",
       "      <td>...</td>\n",
       "      <td>249.959</td>\n",
       "      <td>101.361</td>\n",
       "      <td>85.457</td>\n",
       "      <td>45.889</td>\n",
       "      <td>3.721</td>\n",
       "      <td>6.519</td>\n",
       "      <td>150.380</td>\n",
       "      <td>3600.000</td>\n",
       "      <td>9.223374e+09</td>\n",
       "      <td>6b5d392d-b737-49ef-99af-e8c445ff6379</td>\n",
       "    </tr>\n",
       "    <tr>\n",
       "      <th>\"5ecf601d-4eac-433e-8056-3a5b9eda0555\"</th>\n",
       "      <td>1.0</td>\n",
       "      <td>4.0</td>\n",
       "      <td>24.0</td>\n",
       "      <td>-1.0</td>\n",
       "      <td>1.0</td>\n",
       "      <td>0.0</td>\n",
       "      <td>16.0</td>\n",
       "      <td>71.0</td>\n",
       "      <td>48.0</td>\n",
       "      <td>1.0</td>\n",
       "      <td>...</td>\n",
       "      <td>262.944</td>\n",
       "      <td>253.472</td>\n",
       "      <td>81.843</td>\n",
       "      <td>109.253</td>\n",
       "      <td>3.196</td>\n",
       "      <td>53.734</td>\n",
       "      <td>512.331</td>\n",
       "      <td>143.972</td>\n",
       "      <td>3.813643e+03</td>\n",
       "      <td>5ecf601d-4eac-433e-8056-3a5b9eda0555</td>\n",
       "    </tr>\n",
       "    <tr>\n",
       "      <th>\"00dbbdca-d86c-4bc9-803c-0602e0153f68\"</th>\n",
       "      <td>2.0</td>\n",
       "      <td>23.0</td>\n",
       "      <td>-1.0</td>\n",
       "      <td>-1.0</td>\n",
       "      <td>0.0</td>\n",
       "      <td>1.0</td>\n",
       "      <td>4.0</td>\n",
       "      <td>8.0</td>\n",
       "      <td>7.0</td>\n",
       "      <td>2.0</td>\n",
       "      <td>...</td>\n",
       "      <td>3600.000</td>\n",
       "      <td>3600.000</td>\n",
       "      <td>3600.000</td>\n",
       "      <td>3600.000</td>\n",
       "      <td>3600.000</td>\n",
       "      <td>3600.000</td>\n",
       "      <td>3600.000</td>\n",
       "      <td>3600.000</td>\n",
       "      <td>1.199038e+11</td>\n",
       "      <td>00dbbdca-d86c-4bc9-803c-0602e0153f68</td>\n",
       "    </tr>\n",
       "    <tr>\n",
       "      <th>\"1f27519a-971f-4e39-bac7-9920bfc4b05b\"</th>\n",
       "      <td>1.0</td>\n",
       "      <td>-1.0</td>\n",
       "      <td>-1.0</td>\n",
       "      <td>23.0</td>\n",
       "      <td>0.0</td>\n",
       "      <td>0.0</td>\n",
       "      <td>0.0</td>\n",
       "      <td>0.0</td>\n",
       "      <td>0.0</td>\n",
       "      <td>0.0</td>\n",
       "      <td>...</td>\n",
       "      <td>3600.000</td>\n",
       "      <td>3600.000</td>\n",
       "      <td>3600.000</td>\n",
       "      <td>3600.000</td>\n",
       "      <td>3600.000</td>\n",
       "      <td>3600.000</td>\n",
       "      <td>3600.000</td>\n",
       "      <td>3600.000</td>\n",
       "      <td>1.383506e+11</td>\n",
       "      <td>1f27519a-971f-4e39-bac7-9920bfc4b05b</td>\n",
       "    </tr>\n",
       "    <tr>\n",
       "      <th>\"d3cf1687-6c27-45e7-ada7-6619ef639dbe\"</th>\n",
       "      <td>2.0</td>\n",
       "      <td>25.0</td>\n",
       "      <td>-1.0</td>\n",
       "      <td>-1.0</td>\n",
       "      <td>0.0</td>\n",
       "      <td>1.0</td>\n",
       "      <td>7.0</td>\n",
       "      <td>16.0</td>\n",
       "      <td>16.0</td>\n",
       "      <td>2.0</td>\n",
       "      <td>...</td>\n",
       "      <td>3600.000</td>\n",
       "      <td>3600.000</td>\n",
       "      <td>3600.000</td>\n",
       "      <td>3600.000</td>\n",
       "      <td>3600.000</td>\n",
       "      <td>3600.000</td>\n",
       "      <td>3600.000</td>\n",
       "      <td>3600.000</td>\n",
       "      <td>9.223372e+10</td>\n",
       "      <td>d3cf1687-6c27-45e7-ada7-6619ef639dbe</td>\n",
       "    </tr>\n",
       "    <tr>\n",
       "      <th>\"8ca16c7a-70a6-4723-bd72-65b8485a2e86\"</th>\n",
       "      <td>0.0</td>\n",
       "      <td>-1.0</td>\n",
       "      <td>-1.0</td>\n",
       "      <td>27.0</td>\n",
       "      <td>0.0</td>\n",
       "      <td>0.0</td>\n",
       "      <td>0.0</td>\n",
       "      <td>0.0</td>\n",
       "      <td>0.0</td>\n",
       "      <td>0.0</td>\n",
       "      <td>...</td>\n",
       "      <td>3600.000</td>\n",
       "      <td>3600.000</td>\n",
       "      <td>3600.000</td>\n",
       "      <td>3600.000</td>\n",
       "      <td>3600.000</td>\n",
       "      <td>3600.000</td>\n",
       "      <td>3600.000</td>\n",
       "      <td>3600.000</td>\n",
       "      <td>1.383506e+11</td>\n",
       "      <td>8ca16c7a-70a6-4723-bd72-65b8485a2e86</td>\n",
       "    </tr>\n",
       "    <tr>\n",
       "      <th>\"74cfbbd0-eb35-467c-9bad-221ac73a7444\"</th>\n",
       "      <td>1.0</td>\n",
       "      <td>26.0</td>\n",
       "      <td>-1.0</td>\n",
       "      <td>6.0</td>\n",
       "      <td>0.0</td>\n",
       "      <td>1.0</td>\n",
       "      <td>21.0</td>\n",
       "      <td>27.0</td>\n",
       "      <td>10.0</td>\n",
       "      <td>2.0</td>\n",
       "      <td>...</td>\n",
       "      <td>71.236</td>\n",
       "      <td>39.684</td>\n",
       "      <td>71.602</td>\n",
       "      <td>56.339</td>\n",
       "      <td>3.604</td>\n",
       "      <td>22.439</td>\n",
       "      <td>140.646</td>\n",
       "      <td>123.366</td>\n",
       "      <td>1.597612e+03</td>\n",
       "      <td>74cfbbd0-eb35-467c-9bad-221ac73a7444</td>\n",
       "    </tr>\n",
       "    <tr>\n",
       "      <th>\"e16c0b19-a5c1-4c2d-ad0b-f54d96bced69\"</th>\n",
       "      <td>3.0</td>\n",
       "      <td>0.0</td>\n",
       "      <td>24.0</td>\n",
       "      <td>-1.0</td>\n",
       "      <td>1.0</td>\n",
       "      <td>0.0</td>\n",
       "      <td>14.0</td>\n",
       "      <td>25.0</td>\n",
       "      <td>83.0</td>\n",
       "      <td>18.0</td>\n",
       "      <td>...</td>\n",
       "      <td>42.322</td>\n",
       "      <td>86.216</td>\n",
       "      <td>168.255</td>\n",
       "      <td>50.913</td>\n",
       "      <td>3.948</td>\n",
       "      <td>51.698</td>\n",
       "      <td>264.895</td>\n",
       "      <td>177.624</td>\n",
       "      <td>2.194946e+03</td>\n",
       "      <td>e16c0b19-a5c1-4c2d-ad0b-f54d96bced69</td>\n",
       "    </tr>\n",
       "    <tr>\n",
       "      <th>\"9ee4164c-8a5b-4ebc-98ec-9aef76badf6b\"</th>\n",
       "      <td>1.0</td>\n",
       "      <td>-1.0</td>\n",
       "      <td>-1.0</td>\n",
       "      <td>1.0</td>\n",
       "      <td>0.0</td>\n",
       "      <td>0.0</td>\n",
       "      <td>0.0</td>\n",
       "      <td>0.0</td>\n",
       "      <td>0.0</td>\n",
       "      <td>0.0</td>\n",
       "      <td>...</td>\n",
       "      <td>3600.000</td>\n",
       "      <td>3600.000</td>\n",
       "      <td>3600.000</td>\n",
       "      <td>3600.000</td>\n",
       "      <td>3600.000</td>\n",
       "      <td>3600.000</td>\n",
       "      <td>3600.000</td>\n",
       "      <td>3600.000</td>\n",
       "      <td>1.383506e+11</td>\n",
       "      <td>9ee4164c-8a5b-4ebc-98ec-9aef76badf6b</td>\n",
       "    </tr>\n",
       "    <tr>\n",
       "      <th>\"fad5b543-2e7f-48be-ad1b-5398dc720539\"</th>\n",
       "      <td>1.0</td>\n",
       "      <td>-1.0</td>\n",
       "      <td>23.0</td>\n",
       "      <td>-1.0</td>\n",
       "      <td>0.0</td>\n",
       "      <td>0.0</td>\n",
       "      <td>9.0</td>\n",
       "      <td>23.0</td>\n",
       "      <td>18.0</td>\n",
       "      <td>3.0</td>\n",
       "      <td>...</td>\n",
       "      <td>3600.000</td>\n",
       "      <td>3600.000</td>\n",
       "      <td>3600.000</td>\n",
       "      <td>3600.000</td>\n",
       "      <td>3600.000</td>\n",
       "      <td>3600.000</td>\n",
       "      <td>3600.000</td>\n",
       "      <td>3600.000</td>\n",
       "      <td>8.301035e+10</td>\n",
       "      <td>fad5b543-2e7f-48be-ad1b-5398dc720539</td>\n",
       "    </tr>\n",
       "    <tr>\n",
       "      <th>\"d4179256-4a86-4e91-9ffb-9235c56ac203\"</th>\n",
       "      <td>1.0</td>\n",
       "      <td>-1.0</td>\n",
       "      <td>-1.0</td>\n",
       "      <td>24.0</td>\n",
       "      <td>0.0</td>\n",
       "      <td>0.0</td>\n",
       "      <td>0.0</td>\n",
       "      <td>0.0</td>\n",
       "      <td>0.0</td>\n",
       "      <td>0.0</td>\n",
       "      <td>...</td>\n",
       "      <td>3600.000</td>\n",
       "      <td>3600.000</td>\n",
       "      <td>3600.000</td>\n",
       "      <td>3600.000</td>\n",
       "      <td>3600.000</td>\n",
       "      <td>3600.000</td>\n",
       "      <td>3600.000</td>\n",
       "      <td>3600.000</td>\n",
       "      <td>1.383506e+11</td>\n",
       "      <td>d4179256-4a86-4e91-9ffb-9235c56ac203</td>\n",
       "    </tr>\n",
       "    <tr>\n",
       "      <th>\"4cd1abad-a077-46a1-bbe4-7a83594de09e\"</th>\n",
       "      <td>3.0</td>\n",
       "      <td>25.0</td>\n",
       "      <td>22.0</td>\n",
       "      <td>-1.0</td>\n",
       "      <td>0.0</td>\n",
       "      <td>0.0</td>\n",
       "      <td>8.0</td>\n",
       "      <td>5.0</td>\n",
       "      <td>6.0</td>\n",
       "      <td>1.0</td>\n",
       "      <td>...</td>\n",
       "      <td>3600.000</td>\n",
       "      <td>3600.000</td>\n",
       "      <td>3600.000</td>\n",
       "      <td>3600.000</td>\n",
       "      <td>3600.000</td>\n",
       "      <td>3600.000</td>\n",
       "      <td>3600.000</td>\n",
       "      <td>3600.000</td>\n",
       "      <td>8.301035e+10</td>\n",
       "      <td>4cd1abad-a077-46a1-bbe4-7a83594de09e</td>\n",
       "    </tr>\n",
       "    <tr>\n",
       "      <th>\"0ceae1e4-b8c8-4578-a157-4facbff9f899\"</th>\n",
       "      <td>4.0</td>\n",
       "      <td>-1.0</td>\n",
       "      <td>10.0</td>\n",
       "      <td>27.0</td>\n",
       "      <td>1.0</td>\n",
       "      <td>1.0</td>\n",
       "      <td>17.0</td>\n",
       "      <td>18.0</td>\n",
       "      <td>27.0</td>\n",
       "      <td>1.0</td>\n",
       "      <td>...</td>\n",
       "      <td>37.581</td>\n",
       "      <td>163.611</td>\n",
       "      <td>196.894</td>\n",
       "      <td>61.738</td>\n",
       "      <td>250.349</td>\n",
       "      <td>-31.806</td>\n",
       "      <td>41.346</td>\n",
       "      <td>189.956</td>\n",
       "      <td>2.200663e+03</td>\n",
       "      <td>0ceae1e4-b8c8-4578-a157-4facbff9f899</td>\n",
       "    </tr>\n",
       "    <tr>\n",
       "      <th>\"d10a70ec-0d38-4332-bfdb-cfdc38ef9603\"</th>\n",
       "      <td>2.0</td>\n",
       "      <td>2.0</td>\n",
       "      <td>27.0</td>\n",
       "      <td>-1.0</td>\n",
       "      <td>1.0</td>\n",
       "      <td>0.0</td>\n",
       "      <td>29.0</td>\n",
       "      <td>30.0</td>\n",
       "      <td>44.0</td>\n",
       "      <td>11.0</td>\n",
       "      <td>...</td>\n",
       "      <td>68.345</td>\n",
       "      <td>161.618</td>\n",
       "      <td>51.471</td>\n",
       "      <td>15.093</td>\n",
       "      <td>4.596</td>\n",
       "      <td>6.439</td>\n",
       "      <td>127.410</td>\n",
       "      <td>199.541</td>\n",
       "      <td>1.962210e+03</td>\n",
       "      <td>d10a70ec-0d38-4332-bfdb-cfdc38ef9603</td>\n",
       "    </tr>\n",
       "    <tr>\n",
       "      <th>...</th>\n",
       "      <td>...</td>\n",
       "      <td>...</td>\n",
       "      <td>...</td>\n",
       "      <td>...</td>\n",
       "      <td>...</td>\n",
       "      <td>...</td>\n",
       "      <td>...</td>\n",
       "      <td>...</td>\n",
       "      <td>...</td>\n",
       "      <td>...</td>\n",
       "      <td>...</td>\n",
       "      <td>...</td>\n",
       "      <td>...</td>\n",
       "      <td>...</td>\n",
       "      <td>...</td>\n",
       "      <td>...</td>\n",
       "      <td>...</td>\n",
       "      <td>...</td>\n",
       "      <td>...</td>\n",
       "      <td>...</td>\n",
       "      <td>...</td>\n",
       "    </tr>\n",
       "    <tr>\n",
       "      <th>\"9437eb7b-0811-4b36-b772-17eb7d876231\"</th>\n",
       "      <td>0.0</td>\n",
       "      <td>-1.0</td>\n",
       "      <td>-1.0</td>\n",
       "      <td>0.0</td>\n",
       "      <td>0.0</td>\n",
       "      <td>0.0</td>\n",
       "      <td>0.0</td>\n",
       "      <td>0.0</td>\n",
       "      <td>0.0</td>\n",
       "      <td>0.0</td>\n",
       "      <td>...</td>\n",
       "      <td>3600.000</td>\n",
       "      <td>3600.000</td>\n",
       "      <td>3600.000</td>\n",
       "      <td>3600.000</td>\n",
       "      <td>3600.000</td>\n",
       "      <td>3600.000</td>\n",
       "      <td>3600.000</td>\n",
       "      <td>3600.000</td>\n",
       "      <td>1.383506e+11</td>\n",
       "      <td>9437eb7b-0811-4b36-b772-17eb7d876231</td>\n",
       "    </tr>\n",
       "    <tr>\n",
       "      <th>\"cf95f1c7-35b8-49bb-8058-b249db4be5ca\"</th>\n",
       "      <td>0.0</td>\n",
       "      <td>-1.0</td>\n",
       "      <td>-1.0</td>\n",
       "      <td>3.0</td>\n",
       "      <td>0.0</td>\n",
       "      <td>0.0</td>\n",
       "      <td>0.0</td>\n",
       "      <td>0.0</td>\n",
       "      <td>0.0</td>\n",
       "      <td>0.0</td>\n",
       "      <td>...</td>\n",
       "      <td>3600.000</td>\n",
       "      <td>3600.000</td>\n",
       "      <td>3600.000</td>\n",
       "      <td>3600.000</td>\n",
       "      <td>3600.000</td>\n",
       "      <td>3600.000</td>\n",
       "      <td>3600.000</td>\n",
       "      <td>3600.000</td>\n",
       "      <td>1.383506e+11</td>\n",
       "      <td>cf95f1c7-35b8-49bb-8058-b249db4be5ca</td>\n",
       "    </tr>\n",
       "    <tr>\n",
       "      <th>\"d0205bfd-ae2e-41d5-a9f1-23287d7bc664\"</th>\n",
       "      <td>0.0</td>\n",
       "      <td>-1.0</td>\n",
       "      <td>-1.0</td>\n",
       "      <td>0.0</td>\n",
       "      <td>0.0</td>\n",
       "      <td>0.0</td>\n",
       "      <td>0.0</td>\n",
       "      <td>0.0</td>\n",
       "      <td>0.0</td>\n",
       "      <td>0.0</td>\n",
       "      <td>...</td>\n",
       "      <td>3600.000</td>\n",
       "      <td>3600.000</td>\n",
       "      <td>3600.000</td>\n",
       "      <td>3600.000</td>\n",
       "      <td>3600.000</td>\n",
       "      <td>3600.000</td>\n",
       "      <td>3600.000</td>\n",
       "      <td>3600.000</td>\n",
       "      <td>1.383506e+11</td>\n",
       "      <td>d0205bfd-ae2e-41d5-a9f1-23287d7bc664</td>\n",
       "    </tr>\n",
       "    <tr>\n",
       "      <th>\"c5c3dfa3-067e-46e7-88c7-876d79afc3f9\"</th>\n",
       "      <td>0.0</td>\n",
       "      <td>-1.0</td>\n",
       "      <td>-1.0</td>\n",
       "      <td>3.0</td>\n",
       "      <td>0.0</td>\n",
       "      <td>0.0</td>\n",
       "      <td>0.0</td>\n",
       "      <td>0.0</td>\n",
       "      <td>0.0</td>\n",
       "      <td>0.0</td>\n",
       "      <td>...</td>\n",
       "      <td>3600.000</td>\n",
       "      <td>3600.000</td>\n",
       "      <td>3600.000</td>\n",
       "      <td>3600.000</td>\n",
       "      <td>3600.000</td>\n",
       "      <td>3600.000</td>\n",
       "      <td>3600.000</td>\n",
       "      <td>3600.000</td>\n",
       "      <td>1.383506e+11</td>\n",
       "      <td>c5c3dfa3-067e-46e7-88c7-876d79afc3f9</td>\n",
       "    </tr>\n",
       "    <tr>\n",
       "      <th>\"8492b291-71f1-40cd-b480-b9a6957e8dd5\"</th>\n",
       "      <td>1.0</td>\n",
       "      <td>1.0</td>\n",
       "      <td>-1.0</td>\n",
       "      <td>-1.0</td>\n",
       "      <td>0.0</td>\n",
       "      <td>0.0</td>\n",
       "      <td>3.0</td>\n",
       "      <td>5.0</td>\n",
       "      <td>1.0</td>\n",
       "      <td>1.0</td>\n",
       "      <td>...</td>\n",
       "      <td>3600.000</td>\n",
       "      <td>3600.000</td>\n",
       "      <td>3600.000</td>\n",
       "      <td>3600.000</td>\n",
       "      <td>3600.000</td>\n",
       "      <td>3600.000</td>\n",
       "      <td>3600.000</td>\n",
       "      <td>3600.000</td>\n",
       "      <td>1.199038e+11</td>\n",
       "      <td>8492b291-71f1-40cd-b480-b9a6957e8dd5</td>\n",
       "    </tr>\n",
       "    <tr>\n",
       "      <th>\"91182fa0-c474-4d7c-9a2c-f13766a43f5a\"</th>\n",
       "      <td>1.0</td>\n",
       "      <td>5.0</td>\n",
       "      <td>-1.0</td>\n",
       "      <td>-1.0</td>\n",
       "      <td>0.0</td>\n",
       "      <td>0.0</td>\n",
       "      <td>4.0</td>\n",
       "      <td>1.0</td>\n",
       "      <td>13.0</td>\n",
       "      <td>1.0</td>\n",
       "      <td>...</td>\n",
       "      <td>3600.000</td>\n",
       "      <td>3600.000</td>\n",
       "      <td>3600.000</td>\n",
       "      <td>3600.000</td>\n",
       "      <td>3600.000</td>\n",
       "      <td>3600.000</td>\n",
       "      <td>3600.000</td>\n",
       "      <td>3600.000</td>\n",
       "      <td>1.199038e+11</td>\n",
       "      <td>91182fa0-c474-4d7c-9a2c-f13766a43f5a</td>\n",
       "    </tr>\n",
       "    <tr>\n",
       "      <th>\"814ef4d3-eef9-4ea0-9413-da54321bc8b7\"</th>\n",
       "      <td>0.0</td>\n",
       "      <td>-1.0</td>\n",
       "      <td>-1.0</td>\n",
       "      <td>2.0</td>\n",
       "      <td>0.0</td>\n",
       "      <td>0.0</td>\n",
       "      <td>0.0</td>\n",
       "      <td>0.0</td>\n",
       "      <td>0.0</td>\n",
       "      <td>0.0</td>\n",
       "      <td>...</td>\n",
       "      <td>3600.000</td>\n",
       "      <td>3600.000</td>\n",
       "      <td>3600.000</td>\n",
       "      <td>3600.000</td>\n",
       "      <td>3600.000</td>\n",
       "      <td>3600.000</td>\n",
       "      <td>3600.000</td>\n",
       "      <td>3600.000</td>\n",
       "      <td>1.383506e+11</td>\n",
       "      <td>814ef4d3-eef9-4ea0-9413-da54321bc8b7</td>\n",
       "    </tr>\n",
       "    <tr>\n",
       "      <th>\"c3575834-f9c3-4286-b0f2-dd3fce668f6c\"</th>\n",
       "      <td>0.0</td>\n",
       "      <td>-1.0</td>\n",
       "      <td>-1.0</td>\n",
       "      <td>0.0</td>\n",
       "      <td>0.0</td>\n",
       "      <td>0.0</td>\n",
       "      <td>0.0</td>\n",
       "      <td>0.0</td>\n",
       "      <td>0.0</td>\n",
       "      <td>0.0</td>\n",
       "      <td>...</td>\n",
       "      <td>3600.000</td>\n",
       "      <td>3600.000</td>\n",
       "      <td>3600.000</td>\n",
       "      <td>3600.000</td>\n",
       "      <td>3600.000</td>\n",
       "      <td>3600.000</td>\n",
       "      <td>3600.000</td>\n",
       "      <td>3600.000</td>\n",
       "      <td>1.383506e+11</td>\n",
       "      <td>c3575834-f9c3-4286-b0f2-dd3fce668f6c</td>\n",
       "    </tr>\n",
       "    <tr>\n",
       "      <th>\"46fe6001-0f24-4bcd-a070-59ae46aff3c4\"</th>\n",
       "      <td>1.0</td>\n",
       "      <td>3.0</td>\n",
       "      <td>-1.0</td>\n",
       "      <td>-1.0</td>\n",
       "      <td>0.0</td>\n",
       "      <td>0.0</td>\n",
       "      <td>2.0</td>\n",
       "      <td>1.0</td>\n",
       "      <td>1.0</td>\n",
       "      <td>1.0</td>\n",
       "      <td>...</td>\n",
       "      <td>3600.000</td>\n",
       "      <td>3600.000</td>\n",
       "      <td>3600.000</td>\n",
       "      <td>3600.000</td>\n",
       "      <td>3600.000</td>\n",
       "      <td>3600.000</td>\n",
       "      <td>3600.000</td>\n",
       "      <td>3600.000</td>\n",
       "      <td>1.199038e+11</td>\n",
       "      <td>46fe6001-0f24-4bcd-a070-59ae46aff3c4</td>\n",
       "    </tr>\n",
       "    <tr>\n",
       "      <th>\"bd3ee15b-e1f0-4532-9525-d59204abd295\"</th>\n",
       "      <td>1.0</td>\n",
       "      <td>7.0</td>\n",
       "      <td>-1.0</td>\n",
       "      <td>-1.0</td>\n",
       "      <td>0.0</td>\n",
       "      <td>0.0</td>\n",
       "      <td>5.0</td>\n",
       "      <td>5.0</td>\n",
       "      <td>8.0</td>\n",
       "      <td>1.0</td>\n",
       "      <td>...</td>\n",
       "      <td>3600.000</td>\n",
       "      <td>3600.000</td>\n",
       "      <td>3600.000</td>\n",
       "      <td>3600.000</td>\n",
       "      <td>3600.000</td>\n",
       "      <td>3600.000</td>\n",
       "      <td>3600.000</td>\n",
       "      <td>3600.000</td>\n",
       "      <td>1.199038e+11</td>\n",
       "      <td>bd3ee15b-e1f0-4532-9525-d59204abd295</td>\n",
       "    </tr>\n",
       "    <tr>\n",
       "      <th>\"7efa9eb0-98c4-4189-bca9-55e2cac55d93\"</th>\n",
       "      <td>2.0</td>\n",
       "      <td>2.0</td>\n",
       "      <td>-1.0</td>\n",
       "      <td>-1.0</td>\n",
       "      <td>0.0</td>\n",
       "      <td>0.0</td>\n",
       "      <td>21.0</td>\n",
       "      <td>114.0</td>\n",
       "      <td>28.0</td>\n",
       "      <td>1.0</td>\n",
       "      <td>...</td>\n",
       "      <td>95.789</td>\n",
       "      <td>91.670</td>\n",
       "      <td>71.500</td>\n",
       "      <td>79.675</td>\n",
       "      <td>4.183</td>\n",
       "      <td>90.821</td>\n",
       "      <td>370.913</td>\n",
       "      <td>3600.000</td>\n",
       "      <td>9.223374e+09</td>\n",
       "      <td>7efa9eb0-98c4-4189-bca9-55e2cac55d93</td>\n",
       "    </tr>\n",
       "    <tr>\n",
       "      <th>\"779126bb-b53f-449c-b287-0ac2487bbf17\"</th>\n",
       "      <td>1.0</td>\n",
       "      <td>13.0</td>\n",
       "      <td>-1.0</td>\n",
       "      <td>-1.0</td>\n",
       "      <td>0.0</td>\n",
       "      <td>0.0</td>\n",
       "      <td>8.0</td>\n",
       "      <td>7.0</td>\n",
       "      <td>34.0</td>\n",
       "      <td>3.0</td>\n",
       "      <td>...</td>\n",
       "      <td>3600.000</td>\n",
       "      <td>3600.000</td>\n",
       "      <td>3600.000</td>\n",
       "      <td>3600.000</td>\n",
       "      <td>3600.000</td>\n",
       "      <td>3600.000</td>\n",
       "      <td>3600.000</td>\n",
       "      <td>3600.000</td>\n",
       "      <td>9.223372e+10</td>\n",
       "      <td>779126bb-b53f-449c-b287-0ac2487bbf17</td>\n",
       "    </tr>\n",
       "    <tr>\n",
       "      <th>\"97420fdd-d4dd-4672-850c-89aab565f43e\"</th>\n",
       "      <td>0.0</td>\n",
       "      <td>-1.0</td>\n",
       "      <td>-1.0</td>\n",
       "      <td>0.0</td>\n",
       "      <td>0.0</td>\n",
       "      <td>0.0</td>\n",
       "      <td>0.0</td>\n",
       "      <td>0.0</td>\n",
       "      <td>0.0</td>\n",
       "      <td>0.0</td>\n",
       "      <td>...</td>\n",
       "      <td>3600.000</td>\n",
       "      <td>3600.000</td>\n",
       "      <td>3600.000</td>\n",
       "      <td>3600.000</td>\n",
       "      <td>3600.000</td>\n",
       "      <td>3600.000</td>\n",
       "      <td>3600.000</td>\n",
       "      <td>3600.000</td>\n",
       "      <td>1.383506e+11</td>\n",
       "      <td>97420fdd-d4dd-4672-850c-89aab565f43e</td>\n",
       "    </tr>\n",
       "    <tr>\n",
       "      <th>\"ca5746e8-a74a-4643-aafe-7c24055b6fd1\"</th>\n",
       "      <td>0.0</td>\n",
       "      <td>-1.0</td>\n",
       "      <td>-1.0</td>\n",
       "      <td>13.0</td>\n",
       "      <td>0.0</td>\n",
       "      <td>0.0</td>\n",
       "      <td>0.0</td>\n",
       "      <td>0.0</td>\n",
       "      <td>0.0</td>\n",
       "      <td>0.0</td>\n",
       "      <td>...</td>\n",
       "      <td>3600.000</td>\n",
       "      <td>3600.000</td>\n",
       "      <td>3600.000</td>\n",
       "      <td>3600.000</td>\n",
       "      <td>3600.000</td>\n",
       "      <td>3600.000</td>\n",
       "      <td>3600.000</td>\n",
       "      <td>3600.000</td>\n",
       "      <td>1.383506e+11</td>\n",
       "      <td>ca5746e8-a74a-4643-aafe-7c24055b6fd1</td>\n",
       "    </tr>\n",
       "    <tr>\n",
       "      <th>\"c88a68d7-9789-4f2e-b403-c6da20ca691c\"</th>\n",
       "      <td>1.0</td>\n",
       "      <td>2.0</td>\n",
       "      <td>-1.0</td>\n",
       "      <td>-1.0</td>\n",
       "      <td>1.0</td>\n",
       "      <td>0.0</td>\n",
       "      <td>15.0</td>\n",
       "      <td>24.0</td>\n",
       "      <td>107.0</td>\n",
       "      <td>49.0</td>\n",
       "      <td>...</td>\n",
       "      <td>162.921</td>\n",
       "      <td>172.733</td>\n",
       "      <td>66.596</td>\n",
       "      <td>16.499</td>\n",
       "      <td>3.814</td>\n",
       "      <td>6.722</td>\n",
       "      <td>271.197</td>\n",
       "      <td>830.786</td>\n",
       "      <td>3.680273e+03</td>\n",
       "      <td>c88a68d7-9789-4f2e-b403-c6da20ca691c</td>\n",
       "    </tr>\n",
       "    <tr>\n",
       "      <th>\"973e662b-8523-40e6-a5ad-314f7cb581ba\"</th>\n",
       "      <td>0.0</td>\n",
       "      <td>-1.0</td>\n",
       "      <td>-1.0</td>\n",
       "      <td>7.0</td>\n",
       "      <td>0.0</td>\n",
       "      <td>0.0</td>\n",
       "      <td>0.0</td>\n",
       "      <td>0.0</td>\n",
       "      <td>0.0</td>\n",
       "      <td>0.0</td>\n",
       "      <td>...</td>\n",
       "      <td>3600.000</td>\n",
       "      <td>3600.000</td>\n",
       "      <td>3600.000</td>\n",
       "      <td>3600.000</td>\n",
       "      <td>3600.000</td>\n",
       "      <td>3600.000</td>\n",
       "      <td>3600.000</td>\n",
       "      <td>3600.000</td>\n",
       "      <td>1.383506e+11</td>\n",
       "      <td>973e662b-8523-40e6-a5ad-314f7cb581ba</td>\n",
       "    </tr>\n",
       "    <tr>\n",
       "      <th>\"cebbb087-9691-4573-bb88-81874b7f5227\"</th>\n",
       "      <td>1.0</td>\n",
       "      <td>4.0</td>\n",
       "      <td>-1.0</td>\n",
       "      <td>-1.0</td>\n",
       "      <td>0.0</td>\n",
       "      <td>0.0</td>\n",
       "      <td>5.0</td>\n",
       "      <td>13.0</td>\n",
       "      <td>18.0</td>\n",
       "      <td>1.0</td>\n",
       "      <td>...</td>\n",
       "      <td>3600.000</td>\n",
       "      <td>3600.000</td>\n",
       "      <td>3600.000</td>\n",
       "      <td>3600.000</td>\n",
       "      <td>3600.000</td>\n",
       "      <td>3600.000</td>\n",
       "      <td>3600.000</td>\n",
       "      <td>3600.000</td>\n",
       "      <td>9.223372e+10</td>\n",
       "      <td>cebbb087-9691-4573-bb88-81874b7f5227</td>\n",
       "    </tr>\n",
       "    <tr>\n",
       "      <th>\"d1b956bd-4ee2-4294-864b-33d00203e279\"</th>\n",
       "      <td>0.0</td>\n",
       "      <td>-1.0</td>\n",
       "      <td>-1.0</td>\n",
       "      <td>2.0</td>\n",
       "      <td>0.0</td>\n",
       "      <td>0.0</td>\n",
       "      <td>0.0</td>\n",
       "      <td>0.0</td>\n",
       "      <td>0.0</td>\n",
       "      <td>0.0</td>\n",
       "      <td>...</td>\n",
       "      <td>3600.000</td>\n",
       "      <td>3600.000</td>\n",
       "      <td>3600.000</td>\n",
       "      <td>3600.000</td>\n",
       "      <td>3600.000</td>\n",
       "      <td>3600.000</td>\n",
       "      <td>3600.000</td>\n",
       "      <td>3600.000</td>\n",
       "      <td>1.383506e+11</td>\n",
       "      <td>d1b956bd-4ee2-4294-864b-33d00203e279</td>\n",
       "    </tr>\n",
       "    <tr>\n",
       "      <th>\"029bb661-603f-42e2-a3f9-b27c59ef031a\"</th>\n",
       "      <td>1.0</td>\n",
       "      <td>5.0</td>\n",
       "      <td>-1.0</td>\n",
       "      <td>-1.0</td>\n",
       "      <td>0.0</td>\n",
       "      <td>0.0</td>\n",
       "      <td>3.0</td>\n",
       "      <td>2.0</td>\n",
       "      <td>4.0</td>\n",
       "      <td>1.0</td>\n",
       "      <td>...</td>\n",
       "      <td>3600.000</td>\n",
       "      <td>3600.000</td>\n",
       "      <td>3600.000</td>\n",
       "      <td>3600.000</td>\n",
       "      <td>3600.000</td>\n",
       "      <td>3600.000</td>\n",
       "      <td>3600.000</td>\n",
       "      <td>3600.000</td>\n",
       "      <td>1.199038e+11</td>\n",
       "      <td>029bb661-603f-42e2-a3f9-b27c59ef031a</td>\n",
       "    </tr>\n",
       "    <tr>\n",
       "      <th>\"86d96d07-d168-48a8-9e96-6e7ad8474b44\"</th>\n",
       "      <td>1.0</td>\n",
       "      <td>0.0</td>\n",
       "      <td>-1.0</td>\n",
       "      <td>-1.0</td>\n",
       "      <td>0.0</td>\n",
       "      <td>0.0</td>\n",
       "      <td>11.0</td>\n",
       "      <td>12.0</td>\n",
       "      <td>11.0</td>\n",
       "      <td>1.0</td>\n",
       "      <td>...</td>\n",
       "      <td>3600.000</td>\n",
       "      <td>3600.000</td>\n",
       "      <td>3600.000</td>\n",
       "      <td>3600.000</td>\n",
       "      <td>3600.000</td>\n",
       "      <td>3600.000</td>\n",
       "      <td>3600.000</td>\n",
       "      <td>3600.000</td>\n",
       "      <td>7.378698e+10</td>\n",
       "      <td>86d96d07-d168-48a8-9e96-6e7ad8474b44</td>\n",
       "    </tr>\n",
       "    <tr>\n",
       "      <th>\"808c009c-dd04-4bca-86e7-98b7afebd3b5\"</th>\n",
       "      <td>3.0</td>\n",
       "      <td>0.0</td>\n",
       "      <td>-1.0</td>\n",
       "      <td>-1.0</td>\n",
       "      <td>0.0</td>\n",
       "      <td>0.0</td>\n",
       "      <td>3.0</td>\n",
       "      <td>1.0</td>\n",
       "      <td>4.0</td>\n",
       "      <td>1.0</td>\n",
       "      <td>...</td>\n",
       "      <td>3600.000</td>\n",
       "      <td>3600.000</td>\n",
       "      <td>3600.000</td>\n",
       "      <td>3600.000</td>\n",
       "      <td>3600.000</td>\n",
       "      <td>3600.000</td>\n",
       "      <td>3600.000</td>\n",
       "      <td>3600.000</td>\n",
       "      <td>1.199038e+11</td>\n",
       "      <td>808c009c-dd04-4bca-86e7-98b7afebd3b5</td>\n",
       "    </tr>\n",
       "    <tr>\n",
       "      <th>\"e6672e08-f6e0-4c7c-b6ed-ebe63b1e25cd\"</th>\n",
       "      <td>1.0</td>\n",
       "      <td>2.0</td>\n",
       "      <td>-1.0</td>\n",
       "      <td>-1.0</td>\n",
       "      <td>0.0</td>\n",
       "      <td>0.0</td>\n",
       "      <td>3.0</td>\n",
       "      <td>0.0</td>\n",
       "      <td>1.0</td>\n",
       "      <td>1.0</td>\n",
       "      <td>...</td>\n",
       "      <td>3600.000</td>\n",
       "      <td>3600.000</td>\n",
       "      <td>3600.000</td>\n",
       "      <td>3600.000</td>\n",
       "      <td>3600.000</td>\n",
       "      <td>3600.000</td>\n",
       "      <td>3600.000</td>\n",
       "      <td>3600.000</td>\n",
       "      <td>1.199038e+11</td>\n",
       "      <td>e6672e08-f6e0-4c7c-b6ed-ebe63b1e25cd</td>\n",
       "    </tr>\n",
       "    <tr>\n",
       "      <th>\"ec6b1850-83d6-48b0-9bb9-32ed6c9b30bd\"</th>\n",
       "      <td>1.0</td>\n",
       "      <td>-1.0</td>\n",
       "      <td>-1.0</td>\n",
       "      <td>11.0</td>\n",
       "      <td>0.0</td>\n",
       "      <td>0.0</td>\n",
       "      <td>0.0</td>\n",
       "      <td>0.0</td>\n",
       "      <td>0.0</td>\n",
       "      <td>0.0</td>\n",
       "      <td>...</td>\n",
       "      <td>3600.000</td>\n",
       "      <td>3600.000</td>\n",
       "      <td>3600.000</td>\n",
       "      <td>3600.000</td>\n",
       "      <td>3600.000</td>\n",
       "      <td>3600.000</td>\n",
       "      <td>3600.000</td>\n",
       "      <td>3600.000</td>\n",
       "      <td>1.383506e+11</td>\n",
       "      <td>ec6b1850-83d6-48b0-9bb9-32ed6c9b30bd</td>\n",
       "    </tr>\n",
       "    <tr>\n",
       "      <th>\"6574a1d8-6b05-471a-9f6b-5e2c8bc10cdc\"</th>\n",
       "      <td>1.0</td>\n",
       "      <td>-1.0</td>\n",
       "      <td>-1.0</td>\n",
       "      <td>0.0</td>\n",
       "      <td>0.0</td>\n",
       "      <td>0.0</td>\n",
       "      <td>1.0</td>\n",
       "      <td>0.0</td>\n",
       "      <td>1.0</td>\n",
       "      <td>1.0</td>\n",
       "      <td>...</td>\n",
       "      <td>3600.000</td>\n",
       "      <td>3600.000</td>\n",
       "      <td>3600.000</td>\n",
       "      <td>3600.000</td>\n",
       "      <td>3600.000</td>\n",
       "      <td>3600.000</td>\n",
       "      <td>3600.000</td>\n",
       "      <td>3600.000</td>\n",
       "      <td>1.383506e+11</td>\n",
       "      <td>6574a1d8-6b05-471a-9f6b-5e2c8bc10cdc</td>\n",
       "    </tr>\n",
       "    <tr>\n",
       "      <th>\"415b77e2-f7aa-4588-94a5-b008a7fcf2ea\"</th>\n",
       "      <td>0.0</td>\n",
       "      <td>-1.0</td>\n",
       "      <td>-1.0</td>\n",
       "      <td>6.0</td>\n",
       "      <td>0.0</td>\n",
       "      <td>0.0</td>\n",
       "      <td>0.0</td>\n",
       "      <td>0.0</td>\n",
       "      <td>0.0</td>\n",
       "      <td>0.0</td>\n",
       "      <td>...</td>\n",
       "      <td>3600.000</td>\n",
       "      <td>3600.000</td>\n",
       "      <td>3600.000</td>\n",
       "      <td>3600.000</td>\n",
       "      <td>3600.000</td>\n",
       "      <td>3600.000</td>\n",
       "      <td>3600.000</td>\n",
       "      <td>3600.000</td>\n",
       "      <td>1.383506e+11</td>\n",
       "      <td>415b77e2-f7aa-4588-94a5-b008a7fcf2ea</td>\n",
       "    </tr>\n",
       "    <tr>\n",
       "      <th>\"265aec7e-8fe5-4d51-8c53-976314aeccfe\"</th>\n",
       "      <td>0.0</td>\n",
       "      <td>-1.0</td>\n",
       "      <td>-1.0</td>\n",
       "      <td>1.0</td>\n",
       "      <td>0.0</td>\n",
       "      <td>0.0</td>\n",
       "      <td>0.0</td>\n",
       "      <td>0.0</td>\n",
       "      <td>0.0</td>\n",
       "      <td>0.0</td>\n",
       "      <td>...</td>\n",
       "      <td>3600.000</td>\n",
       "      <td>3600.000</td>\n",
       "      <td>3600.000</td>\n",
       "      <td>3600.000</td>\n",
       "      <td>3600.000</td>\n",
       "      <td>3600.000</td>\n",
       "      <td>3600.000</td>\n",
       "      <td>3600.000</td>\n",
       "      <td>1.383506e+11</td>\n",
       "      <td>265aec7e-8fe5-4d51-8c53-976314aeccfe</td>\n",
       "    </tr>\n",
       "    <tr>\n",
       "      <th>\"44322542-50b2-429b-93fb-012d09c95522\"</th>\n",
       "      <td>1.0</td>\n",
       "      <td>0.0</td>\n",
       "      <td>-1.0</td>\n",
       "      <td>-1.0</td>\n",
       "      <td>0.0</td>\n",
       "      <td>0.0</td>\n",
       "      <td>16.0</td>\n",
       "      <td>6.0</td>\n",
       "      <td>8.0</td>\n",
       "      <td>3.0</td>\n",
       "      <td>...</td>\n",
       "      <td>3600.000</td>\n",
       "      <td>3600.000</td>\n",
       "      <td>3600.000</td>\n",
       "      <td>3600.000</td>\n",
       "      <td>3600.000</td>\n",
       "      <td>3600.000</td>\n",
       "      <td>3600.000</td>\n",
       "      <td>3600.000</td>\n",
       "      <td>8.301035e+10</td>\n",
       "      <td>44322542-50b2-429b-93fb-012d09c95522</td>\n",
       "    </tr>\n",
       "    <tr>\n",
       "      <th>\"fb8cfb6c-06ef-4e75-8cf3-2676ff71db27\"</th>\n",
       "      <td>1.0</td>\n",
       "      <td>2.0</td>\n",
       "      <td>-1.0</td>\n",
       "      <td>-1.0</td>\n",
       "      <td>0.0</td>\n",
       "      <td>0.0</td>\n",
       "      <td>5.0</td>\n",
       "      <td>2.0</td>\n",
       "      <td>15.0</td>\n",
       "      <td>1.0</td>\n",
       "      <td>...</td>\n",
       "      <td>3600.000</td>\n",
       "      <td>3600.000</td>\n",
       "      <td>3600.000</td>\n",
       "      <td>3600.000</td>\n",
       "      <td>3600.000</td>\n",
       "      <td>3600.000</td>\n",
       "      <td>3600.000</td>\n",
       "      <td>3600.000</td>\n",
       "      <td>1.106805e+11</td>\n",
       "      <td>fb8cfb6c-06ef-4e75-8cf3-2676ff71db27</td>\n",
       "    </tr>\n",
       "    <tr>\n",
       "      <th>\"02fcf13a-3616-438f-b426-9cd43a6cf6b8\"</th>\n",
       "      <td>0.0</td>\n",
       "      <td>-1.0</td>\n",
       "      <td>-1.0</td>\n",
       "      <td>0.0</td>\n",
       "      <td>0.0</td>\n",
       "      <td>0.0</td>\n",
       "      <td>0.0</td>\n",
       "      <td>0.0</td>\n",
       "      <td>0.0</td>\n",
       "      <td>0.0</td>\n",
       "      <td>...</td>\n",
       "      <td>3600.000</td>\n",
       "      <td>3600.000</td>\n",
       "      <td>3600.000</td>\n",
       "      <td>3600.000</td>\n",
       "      <td>3600.000</td>\n",
       "      <td>3600.000</td>\n",
       "      <td>3600.000</td>\n",
       "      <td>3600.000</td>\n",
       "      <td>1.383506e+11</td>\n",
       "      <td>02fcf13a-3616-438f-b426-9cd43a6cf6b8</td>\n",
       "    </tr>\n",
       "    <tr>\n",
       "      <th>\"9c7c31e4-5127-4cf5-aea6-f6df693f78ba\"</th>\n",
       "      <td>1.0</td>\n",
       "      <td>0.0</td>\n",
       "      <td>-1.0</td>\n",
       "      <td>-1.0</td>\n",
       "      <td>0.0</td>\n",
       "      <td>0.0</td>\n",
       "      <td>3.0</td>\n",
       "      <td>0.0</td>\n",
       "      <td>3.0</td>\n",
       "      <td>1.0</td>\n",
       "      <td>...</td>\n",
       "      <td>3600.000</td>\n",
       "      <td>3600.000</td>\n",
       "      <td>3600.000</td>\n",
       "      <td>3600.000</td>\n",
       "      <td>3600.000</td>\n",
       "      <td>3600.000</td>\n",
       "      <td>3600.000</td>\n",
       "      <td>3600.000</td>\n",
       "      <td>1.199038e+11</td>\n",
       "      <td>9c7c31e4-5127-4cf5-aea6-f6df693f78ba</td>\n",
       "    </tr>\n",
       "  </tbody>\n",
       "</table>\n",
       "<p>308 rows × 36 columns</p>\n",
       "</div>"
      ],
      "text/plain": [
       "                                        sessionsCount  scorebefore  \\\n",
       "\"8d352896-a3f1-471c-8439-0f426df901c1\"            1.0         18.0   \n",
       "\"7037c5b2-c286-498e-9784-9a061c778609\"            2.0         -1.0   \n",
       "\"5c4939b5-425b-4d19-b5d2-0384a515539e\"            1.0         -1.0   \n",
       "\"acb9c989-b4a6-4c4d-81cc-6b5783ec71d8\"            1.0         23.0   \n",
       "\"1a03bc9e-bed4-4ddd-be7f-af23b1d5eb65\"            1.0          3.0   \n",
       "\"3685a015-fa97-4457-ad73-da1c50210fe1\"            1.0          2.0   \n",
       "\"9a2e8271-a84d-4b3c-a670-2d65326ed824\"            1.0         -1.0   \n",
       "\"bfdfd356-5d6f-4696-a2f1-c1dc338aa64b\"            4.0          6.0   \n",
       "\"a7936587-8b71-43b6-9c61-17b2c2b55de3\"            2.0          4.0   \n",
       "\"7ea5c999-8001-4eee-9cdf-580d0783ce5c\"            1.0         -1.0   \n",
       "\"5977184a-1be2-4725-9b48-f2782dc03efb\"            1.0          5.0   \n",
       "\"e63a2fc6-50bd-4417-a712-fe688bf8e242\"            1.0         11.0   \n",
       "\"2b91e6b2-d5ed-42e1-8bf5-dc23aeaf7e6a\"            1.0          8.0   \n",
       "\"bffd0877-e77e-470a-b0f9-a9cdc6ff0a09\"            2.0          9.0   \n",
       "\"97f6ae4f-e2a6-4721-8936-f759c8867f6a\"            3.0          3.0   \n",
       "\"3ef14300-4987-4b54-a56c-5b6d1f8a24a1\"            1.0          0.0   \n",
       "\"6b5d392d-b737-49ef-99af-e8c445ff6379\"            3.0          2.0   \n",
       "\"5ecf601d-4eac-433e-8056-3a5b9eda0555\"            1.0          4.0   \n",
       "\"00dbbdca-d86c-4bc9-803c-0602e0153f68\"            2.0         23.0   \n",
       "\"1f27519a-971f-4e39-bac7-9920bfc4b05b\"            1.0         -1.0   \n",
       "\"d3cf1687-6c27-45e7-ada7-6619ef639dbe\"            2.0         25.0   \n",
       "\"8ca16c7a-70a6-4723-bd72-65b8485a2e86\"            0.0         -1.0   \n",
       "\"74cfbbd0-eb35-467c-9bad-221ac73a7444\"            1.0         26.0   \n",
       "\"e16c0b19-a5c1-4c2d-ad0b-f54d96bced69\"            3.0          0.0   \n",
       "\"9ee4164c-8a5b-4ebc-98ec-9aef76badf6b\"            1.0         -1.0   \n",
       "\"fad5b543-2e7f-48be-ad1b-5398dc720539\"            1.0         -1.0   \n",
       "\"d4179256-4a86-4e91-9ffb-9235c56ac203\"            1.0         -1.0   \n",
       "\"4cd1abad-a077-46a1-bbe4-7a83594de09e\"            3.0         25.0   \n",
       "\"0ceae1e4-b8c8-4578-a157-4facbff9f899\"            4.0         -1.0   \n",
       "\"d10a70ec-0d38-4332-bfdb-cfdc38ef9603\"            2.0          2.0   \n",
       "...                                               ...          ...   \n",
       "\"9437eb7b-0811-4b36-b772-17eb7d876231\"            0.0         -1.0   \n",
       "\"cf95f1c7-35b8-49bb-8058-b249db4be5ca\"            0.0         -1.0   \n",
       "\"d0205bfd-ae2e-41d5-a9f1-23287d7bc664\"            0.0         -1.0   \n",
       "\"c5c3dfa3-067e-46e7-88c7-876d79afc3f9\"            0.0         -1.0   \n",
       "\"8492b291-71f1-40cd-b480-b9a6957e8dd5\"            1.0          1.0   \n",
       "\"91182fa0-c474-4d7c-9a2c-f13766a43f5a\"            1.0          5.0   \n",
       "\"814ef4d3-eef9-4ea0-9413-da54321bc8b7\"            0.0         -1.0   \n",
       "\"c3575834-f9c3-4286-b0f2-dd3fce668f6c\"            0.0         -1.0   \n",
       "\"46fe6001-0f24-4bcd-a070-59ae46aff3c4\"            1.0          3.0   \n",
       "\"bd3ee15b-e1f0-4532-9525-d59204abd295\"            1.0          7.0   \n",
       "\"7efa9eb0-98c4-4189-bca9-55e2cac55d93\"            2.0          2.0   \n",
       "\"779126bb-b53f-449c-b287-0ac2487bbf17\"            1.0         13.0   \n",
       "\"97420fdd-d4dd-4672-850c-89aab565f43e\"            0.0         -1.0   \n",
       "\"ca5746e8-a74a-4643-aafe-7c24055b6fd1\"            0.0         -1.0   \n",
       "\"c88a68d7-9789-4f2e-b403-c6da20ca691c\"            1.0          2.0   \n",
       "\"973e662b-8523-40e6-a5ad-314f7cb581ba\"            0.0         -1.0   \n",
       "\"cebbb087-9691-4573-bb88-81874b7f5227\"            1.0          4.0   \n",
       "\"d1b956bd-4ee2-4294-864b-33d00203e279\"            0.0         -1.0   \n",
       "\"029bb661-603f-42e2-a3f9-b27c59ef031a\"            1.0          5.0   \n",
       "\"86d96d07-d168-48a8-9e96-6e7ad8474b44\"            1.0          0.0   \n",
       "\"808c009c-dd04-4bca-86e7-98b7afebd3b5\"            3.0          0.0   \n",
       "\"e6672e08-f6e0-4c7c-b6ed-ebe63b1e25cd\"            1.0          2.0   \n",
       "\"ec6b1850-83d6-48b0-9bb9-32ed6c9b30bd\"            1.0         -1.0   \n",
       "\"6574a1d8-6b05-471a-9f6b-5e2c8bc10cdc\"            1.0         -1.0   \n",
       "\"415b77e2-f7aa-4588-94a5-b008a7fcf2ea\"            0.0         -1.0   \n",
       "\"265aec7e-8fe5-4d51-8c53-976314aeccfe\"            0.0         -1.0   \n",
       "\"44322542-50b2-429b-93fb-012d09c95522\"            1.0          0.0   \n",
       "\"fb8cfb6c-06ef-4e75-8cf3-2676ff71db27\"            1.0          2.0   \n",
       "\"02fcf13a-3616-438f-b426-9cd43a6cf6b8\"            0.0         -1.0   \n",
       "\"9c7c31e4-5127-4cf5-aea6-f6df693f78ba\"            1.0          0.0   \n",
       "\n",
       "                                        scoreafter  scoreundefined  complete  \\\n",
       "\"8d352896-a3f1-471c-8439-0f426df901c1\"        -1.0            -1.0       0.0   \n",
       "\"7037c5b2-c286-498e-9784-9a061c778609\"        22.0            -1.0       2.0   \n",
       "\"5c4939b5-425b-4d19-b5d2-0384a515539e\"        15.0            -1.0       0.0   \n",
       "\"acb9c989-b4a6-4c4d-81cc-6b5783ec71d8\"        -1.0            -1.0       0.0   \n",
       "\"1a03bc9e-bed4-4ddd-be7f-af23b1d5eb65\"        -1.0            -1.0       0.0   \n",
       "\"3685a015-fa97-4457-ad73-da1c50210fe1\"        21.0            -1.0       0.0   \n",
       "\"9a2e8271-a84d-4b3c-a670-2d65326ed824\"        -1.0             3.0       0.0   \n",
       "\"bfdfd356-5d6f-4696-a2f1-c1dc338aa64b\"        19.0            -1.0       0.0   \n",
       "\"a7936587-8b71-43b6-9c61-17b2c2b55de3\"        13.0            -1.0       0.0   \n",
       "\"7ea5c999-8001-4eee-9cdf-580d0783ce5c\"        -1.0             4.0       0.0   \n",
       "\"5977184a-1be2-4725-9b48-f2782dc03efb\"        25.0            -1.0       1.0   \n",
       "\"e63a2fc6-50bd-4417-a712-fe688bf8e242\"        24.0            -1.0       1.0   \n",
       "\"2b91e6b2-d5ed-42e1-8bf5-dc23aeaf7e6a\"        22.0            -1.0       0.0   \n",
       "\"bffd0877-e77e-470a-b0f9-a9cdc6ff0a09\"        23.0            -1.0       0.0   \n",
       "\"97f6ae4f-e2a6-4721-8936-f759c8867f6a\"        26.0            -1.0       1.0   \n",
       "\"3ef14300-4987-4b54-a56c-5b6d1f8a24a1\"        14.0            -1.0       0.0   \n",
       "\"6b5d392d-b737-49ef-99af-e8c445ff6379\"         6.0            -1.0       0.0   \n",
       "\"5ecf601d-4eac-433e-8056-3a5b9eda0555\"        24.0            -1.0       1.0   \n",
       "\"00dbbdca-d86c-4bc9-803c-0602e0153f68\"        -1.0            -1.0       0.0   \n",
       "\"1f27519a-971f-4e39-bac7-9920bfc4b05b\"        -1.0            23.0       0.0   \n",
       "\"d3cf1687-6c27-45e7-ada7-6619ef639dbe\"        -1.0            -1.0       0.0   \n",
       "\"8ca16c7a-70a6-4723-bd72-65b8485a2e86\"        -1.0            27.0       0.0   \n",
       "\"74cfbbd0-eb35-467c-9bad-221ac73a7444\"        -1.0             6.0       0.0   \n",
       "\"e16c0b19-a5c1-4c2d-ad0b-f54d96bced69\"        24.0            -1.0       1.0   \n",
       "\"9ee4164c-8a5b-4ebc-98ec-9aef76badf6b\"        -1.0             1.0       0.0   \n",
       "\"fad5b543-2e7f-48be-ad1b-5398dc720539\"        23.0            -1.0       0.0   \n",
       "\"d4179256-4a86-4e91-9ffb-9235c56ac203\"        -1.0            24.0       0.0   \n",
       "\"4cd1abad-a077-46a1-bbe4-7a83594de09e\"        22.0            -1.0       0.0   \n",
       "\"0ceae1e4-b8c8-4578-a157-4facbff9f899\"        10.0            27.0       1.0   \n",
       "\"d10a70ec-0d38-4332-bfdb-cfdc38ef9603\"        27.0            -1.0       1.0   \n",
       "...                                            ...             ...       ...   \n",
       "\"9437eb7b-0811-4b36-b772-17eb7d876231\"        -1.0             0.0       0.0   \n",
       "\"cf95f1c7-35b8-49bb-8058-b249db4be5ca\"        -1.0             3.0       0.0   \n",
       "\"d0205bfd-ae2e-41d5-a9f1-23287d7bc664\"        -1.0             0.0       0.0   \n",
       "\"c5c3dfa3-067e-46e7-88c7-876d79afc3f9\"        -1.0             3.0       0.0   \n",
       "\"8492b291-71f1-40cd-b480-b9a6957e8dd5\"        -1.0            -1.0       0.0   \n",
       "\"91182fa0-c474-4d7c-9a2c-f13766a43f5a\"        -1.0            -1.0       0.0   \n",
       "\"814ef4d3-eef9-4ea0-9413-da54321bc8b7\"        -1.0             2.0       0.0   \n",
       "\"c3575834-f9c3-4286-b0f2-dd3fce668f6c\"        -1.0             0.0       0.0   \n",
       "\"46fe6001-0f24-4bcd-a070-59ae46aff3c4\"        -1.0            -1.0       0.0   \n",
       "\"bd3ee15b-e1f0-4532-9525-d59204abd295\"        -1.0            -1.0       0.0   \n",
       "\"7efa9eb0-98c4-4189-bca9-55e2cac55d93\"        -1.0            -1.0       0.0   \n",
       "\"779126bb-b53f-449c-b287-0ac2487bbf17\"        -1.0            -1.0       0.0   \n",
       "\"97420fdd-d4dd-4672-850c-89aab565f43e\"        -1.0             0.0       0.0   \n",
       "\"ca5746e8-a74a-4643-aafe-7c24055b6fd1\"        -1.0            13.0       0.0   \n",
       "\"c88a68d7-9789-4f2e-b403-c6da20ca691c\"        -1.0            -1.0       1.0   \n",
       "\"973e662b-8523-40e6-a5ad-314f7cb581ba\"        -1.0             7.0       0.0   \n",
       "\"cebbb087-9691-4573-bb88-81874b7f5227\"        -1.0            -1.0       0.0   \n",
       "\"d1b956bd-4ee2-4294-864b-33d00203e279\"        -1.0             2.0       0.0   \n",
       "\"029bb661-603f-42e2-a3f9-b27c59ef031a\"        -1.0            -1.0       0.0   \n",
       "\"86d96d07-d168-48a8-9e96-6e7ad8474b44\"        -1.0            -1.0       0.0   \n",
       "\"808c009c-dd04-4bca-86e7-98b7afebd3b5\"        -1.0            -1.0       0.0   \n",
       "\"e6672e08-f6e0-4c7c-b6ed-ebe63b1e25cd\"        -1.0            -1.0       0.0   \n",
       "\"ec6b1850-83d6-48b0-9bb9-32ed6c9b30bd\"        -1.0            11.0       0.0   \n",
       "\"6574a1d8-6b05-471a-9f6b-5e2c8bc10cdc\"        -1.0             0.0       0.0   \n",
       "\"415b77e2-f7aa-4588-94a5-b008a7fcf2ea\"        -1.0             6.0       0.0   \n",
       "\"265aec7e-8fe5-4d51-8c53-976314aeccfe\"        -1.0             1.0       0.0   \n",
       "\"44322542-50b2-429b-93fb-012d09c95522\"        -1.0            -1.0       0.0   \n",
       "\"fb8cfb6c-06ef-4e75-8cf3-2676ff71db27\"        -1.0            -1.0       0.0   \n",
       "\"02fcf13a-3616-438f-b426-9cd43a6cf6b8\"        -1.0             0.0       0.0   \n",
       "\"9c7c31e4-5127-4cf5-aea6-f6df693f78ba\"        -1.0            -1.0       0.0   \n",
       "\n",
       "                                        configure  craft  death  equip  \\\n",
       "\"8d352896-a3f1-471c-8439-0f426df901c1\"        0.0    5.0    5.0   16.0   \n",
       "\"7037c5b2-c286-498e-9784-9a061c778609\"        0.0   45.0   25.0    3.0   \n",
       "\"5c4939b5-425b-4d19-b5d2-0384a515539e\"        0.0    7.0   11.0   25.0   \n",
       "\"acb9c989-b4a6-4c4d-81cc-6b5783ec71d8\"        1.0   11.0   11.0   16.0   \n",
       "\"1a03bc9e-bed4-4ddd-be7f-af23b1d5eb65\"        1.0   10.0  118.0  133.0   \n",
       "\"3685a015-fa97-4457-ad73-da1c50210fe1\"        0.0   19.0   54.0   79.0   \n",
       "\"9a2e8271-a84d-4b3c-a670-2d65326ed824\"        1.0    1.0    0.0    0.0   \n",
       "\"bfdfd356-5d6f-4696-a2f1-c1dc338aa64b\"        1.0   12.0   67.0   69.0   \n",
       "\"a7936587-8b71-43b6-9c61-17b2c2b55de3\"        1.0    5.0   19.0   16.0   \n",
       "\"7ea5c999-8001-4eee-9cdf-580d0783ce5c\"        0.0    0.0    0.0    0.0   \n",
       "\"5977184a-1be2-4725-9b48-f2782dc03efb\"        0.0   21.0   61.0   35.0   \n",
       "\"e63a2fc6-50bd-4417-a712-fe688bf8e242\"        1.0   14.0   89.0   50.0   \n",
       "\"2b91e6b2-d5ed-42e1-8bf5-dc23aeaf7e6a\"        1.0   15.0   86.0    4.0   \n",
       "\"bffd0877-e77e-470a-b0f9-a9cdc6ff0a09\"        0.0   16.0   68.0   39.0   \n",
       "\"97f6ae4f-e2a6-4721-8936-f759c8867f6a\"        1.0   25.0   24.0    2.0   \n",
       "\"3ef14300-4987-4b54-a56c-5b6d1f8a24a1\"        0.0   14.0   47.0   74.0   \n",
       "\"6b5d392d-b737-49ef-99af-e8c445ff6379\"        0.0   29.0   53.0  109.0   \n",
       "\"5ecf601d-4eac-433e-8056-3a5b9eda0555\"        0.0   16.0   71.0   48.0   \n",
       "\"00dbbdca-d86c-4bc9-803c-0602e0153f68\"        1.0    4.0    8.0    7.0   \n",
       "\"1f27519a-971f-4e39-bac7-9920bfc4b05b\"        0.0    0.0    0.0    0.0   \n",
       "\"d3cf1687-6c27-45e7-ada7-6619ef639dbe\"        1.0    7.0   16.0   16.0   \n",
       "\"8ca16c7a-70a6-4723-bd72-65b8485a2e86\"        0.0    0.0    0.0    0.0   \n",
       "\"74cfbbd0-eb35-467c-9bad-221ac73a7444\"        1.0   21.0   27.0   10.0   \n",
       "\"e16c0b19-a5c1-4c2d-ad0b-f54d96bced69\"        0.0   14.0   25.0   83.0   \n",
       "\"9ee4164c-8a5b-4ebc-98ec-9aef76badf6b\"        0.0    0.0    0.0    0.0   \n",
       "\"fad5b543-2e7f-48be-ad1b-5398dc720539\"        0.0    9.0   23.0   18.0   \n",
       "\"d4179256-4a86-4e91-9ffb-9235c56ac203\"        0.0    0.0    0.0    0.0   \n",
       "\"4cd1abad-a077-46a1-bbe4-7a83594de09e\"        0.0    8.0    5.0    6.0   \n",
       "\"0ceae1e4-b8c8-4578-a157-4facbff9f899\"        1.0   17.0   18.0   27.0   \n",
       "\"d10a70ec-0d38-4332-bfdb-cfdc38ef9603\"        0.0   29.0   30.0   44.0   \n",
       "...                                           ...    ...    ...    ...   \n",
       "\"9437eb7b-0811-4b36-b772-17eb7d876231\"        0.0    0.0    0.0    0.0   \n",
       "\"cf95f1c7-35b8-49bb-8058-b249db4be5ca\"        0.0    0.0    0.0    0.0   \n",
       "\"d0205bfd-ae2e-41d5-a9f1-23287d7bc664\"        0.0    0.0    0.0    0.0   \n",
       "\"c5c3dfa3-067e-46e7-88c7-876d79afc3f9\"        0.0    0.0    0.0    0.0   \n",
       "\"8492b291-71f1-40cd-b480-b9a6957e8dd5\"        0.0    3.0    5.0    1.0   \n",
       "\"91182fa0-c474-4d7c-9a2c-f13766a43f5a\"        0.0    4.0    1.0   13.0   \n",
       "\"814ef4d3-eef9-4ea0-9413-da54321bc8b7\"        0.0    0.0    0.0    0.0   \n",
       "\"c3575834-f9c3-4286-b0f2-dd3fce668f6c\"        0.0    0.0    0.0    0.0   \n",
       "\"46fe6001-0f24-4bcd-a070-59ae46aff3c4\"        0.0    2.0    1.0    1.0   \n",
       "\"bd3ee15b-e1f0-4532-9525-d59204abd295\"        0.0    5.0    5.0    8.0   \n",
       "\"7efa9eb0-98c4-4189-bca9-55e2cac55d93\"        0.0   21.0  114.0   28.0   \n",
       "\"779126bb-b53f-449c-b287-0ac2487bbf17\"        0.0    8.0    7.0   34.0   \n",
       "\"97420fdd-d4dd-4672-850c-89aab565f43e\"        0.0    0.0    0.0    0.0   \n",
       "\"ca5746e8-a74a-4643-aafe-7c24055b6fd1\"        0.0    0.0    0.0    0.0   \n",
       "\"c88a68d7-9789-4f2e-b403-c6da20ca691c\"        0.0   15.0   24.0  107.0   \n",
       "\"973e662b-8523-40e6-a5ad-314f7cb581ba\"        0.0    0.0    0.0    0.0   \n",
       "\"cebbb087-9691-4573-bb88-81874b7f5227\"        0.0    5.0   13.0   18.0   \n",
       "\"d1b956bd-4ee2-4294-864b-33d00203e279\"        0.0    0.0    0.0    0.0   \n",
       "\"029bb661-603f-42e2-a3f9-b27c59ef031a\"        0.0    3.0    2.0    4.0   \n",
       "\"86d96d07-d168-48a8-9e96-6e7ad8474b44\"        0.0   11.0   12.0   11.0   \n",
       "\"808c009c-dd04-4bca-86e7-98b7afebd3b5\"        0.0    3.0    1.0    4.0   \n",
       "\"e6672e08-f6e0-4c7c-b6ed-ebe63b1e25cd\"        0.0    3.0    0.0    1.0   \n",
       "\"ec6b1850-83d6-48b0-9bb9-32ed6c9b30bd\"        0.0    0.0    0.0    0.0   \n",
       "\"6574a1d8-6b05-471a-9f6b-5e2c8bc10cdc\"        0.0    1.0    0.0    1.0   \n",
       "\"415b77e2-f7aa-4588-94a5-b008a7fcf2ea\"        0.0    0.0    0.0    0.0   \n",
       "\"265aec7e-8fe5-4d51-8c53-976314aeccfe\"        0.0    0.0    0.0    0.0   \n",
       "\"44322542-50b2-429b-93fb-012d09c95522\"        0.0   16.0    6.0    8.0   \n",
       "\"fb8cfb6c-06ef-4e75-8cf3-2676ff71db27\"        0.0    5.0    2.0   15.0   \n",
       "\"02fcf13a-3616-438f-b426-9cd43a6cf6b8\"        0.0    0.0    0.0    0.0   \n",
       "\"9c7c31e4-5127-4cf5-aea6-f6df693f78ba\"        0.0    3.0    0.0    3.0   \n",
       "\n",
       "                                        unequip  \\\n",
       "\"8d352896-a3f1-471c-8439-0f426df901c1\"      1.0   \n",
       "\"7037c5b2-c286-498e-9784-9a061c778609\"      4.0   \n",
       "\"5c4939b5-425b-4d19-b5d2-0384a515539e\"      3.0   \n",
       "\"acb9c989-b4a6-4c4d-81cc-6b5783ec71d8\"      3.0   \n",
       "\"1a03bc9e-bed4-4ddd-be7f-af23b1d5eb65\"      7.0   \n",
       "\"3685a015-fa97-4457-ad73-da1c50210fe1\"     11.0   \n",
       "\"9a2e8271-a84d-4b3c-a670-2d65326ed824\"      0.0   \n",
       "\"bfdfd356-5d6f-4696-a2f1-c1dc338aa64b\"     17.0   \n",
       "\"a7936587-8b71-43b6-9c61-17b2c2b55de3\"      2.0   \n",
       "\"7ea5c999-8001-4eee-9cdf-580d0783ce5c\"      0.0   \n",
       "\"5977184a-1be2-4725-9b48-f2782dc03efb\"      4.0   \n",
       "\"e63a2fc6-50bd-4417-a712-fe688bf8e242\"      6.0   \n",
       "\"2b91e6b2-d5ed-42e1-8bf5-dc23aeaf7e6a\"      7.0   \n",
       "\"bffd0877-e77e-470a-b0f9-a9cdc6ff0a09\"      6.0   \n",
       "\"97f6ae4f-e2a6-4721-8936-f759c8867f6a\"      1.0   \n",
       "\"3ef14300-4987-4b54-a56c-5b6d1f8a24a1\"      4.0   \n",
       "\"6b5d392d-b737-49ef-99af-e8c445ff6379\"      2.0   \n",
       "\"5ecf601d-4eac-433e-8056-3a5b9eda0555\"      1.0   \n",
       "\"00dbbdca-d86c-4bc9-803c-0602e0153f68\"      2.0   \n",
       "\"1f27519a-971f-4e39-bac7-9920bfc4b05b\"      0.0   \n",
       "\"d3cf1687-6c27-45e7-ada7-6619ef639dbe\"      2.0   \n",
       "\"8ca16c7a-70a6-4723-bd72-65b8485a2e86\"      0.0   \n",
       "\"74cfbbd0-eb35-467c-9bad-221ac73a7444\"      2.0   \n",
       "\"e16c0b19-a5c1-4c2d-ad0b-f54d96bced69\"     18.0   \n",
       "\"9ee4164c-8a5b-4ebc-98ec-9aef76badf6b\"      0.0   \n",
       "\"fad5b543-2e7f-48be-ad1b-5398dc720539\"      3.0   \n",
       "\"d4179256-4a86-4e91-9ffb-9235c56ac203\"      0.0   \n",
       "\"4cd1abad-a077-46a1-bbe4-7a83594de09e\"      1.0   \n",
       "\"0ceae1e4-b8c8-4578-a157-4facbff9f899\"      1.0   \n",
       "\"d10a70ec-0d38-4332-bfdb-cfdc38ef9603\"     11.0   \n",
       "...                                         ...   \n",
       "\"9437eb7b-0811-4b36-b772-17eb7d876231\"      0.0   \n",
       "\"cf95f1c7-35b8-49bb-8058-b249db4be5ca\"      0.0   \n",
       "\"d0205bfd-ae2e-41d5-a9f1-23287d7bc664\"      0.0   \n",
       "\"c5c3dfa3-067e-46e7-88c7-876d79afc3f9\"      0.0   \n",
       "\"8492b291-71f1-40cd-b480-b9a6957e8dd5\"      1.0   \n",
       "\"91182fa0-c474-4d7c-9a2c-f13766a43f5a\"      1.0   \n",
       "\"814ef4d3-eef9-4ea0-9413-da54321bc8b7\"      0.0   \n",
       "\"c3575834-f9c3-4286-b0f2-dd3fce668f6c\"      0.0   \n",
       "\"46fe6001-0f24-4bcd-a070-59ae46aff3c4\"      1.0   \n",
       "\"bd3ee15b-e1f0-4532-9525-d59204abd295\"      1.0   \n",
       "\"7efa9eb0-98c4-4189-bca9-55e2cac55d93\"      1.0   \n",
       "\"779126bb-b53f-449c-b287-0ac2487bbf17\"      3.0   \n",
       "\"97420fdd-d4dd-4672-850c-89aab565f43e\"      0.0   \n",
       "\"ca5746e8-a74a-4643-aafe-7c24055b6fd1\"      0.0   \n",
       "\"c88a68d7-9789-4f2e-b403-c6da20ca691c\"     49.0   \n",
       "\"973e662b-8523-40e6-a5ad-314f7cb581ba\"      0.0   \n",
       "\"cebbb087-9691-4573-bb88-81874b7f5227\"      1.0   \n",
       "\"d1b956bd-4ee2-4294-864b-33d00203e279\"      0.0   \n",
       "\"029bb661-603f-42e2-a3f9-b27c59ef031a\"      1.0   \n",
       "\"86d96d07-d168-48a8-9e96-6e7ad8474b44\"      1.0   \n",
       "\"808c009c-dd04-4bca-86e7-98b7afebd3b5\"      1.0   \n",
       "\"e6672e08-f6e0-4c7c-b6ed-ebe63b1e25cd\"      1.0   \n",
       "\"ec6b1850-83d6-48b0-9bb9-32ed6c9b30bd\"      0.0   \n",
       "\"6574a1d8-6b05-471a-9f6b-5e2c8bc10cdc\"      1.0   \n",
       "\"415b77e2-f7aa-4588-94a5-b008a7fcf2ea\"      0.0   \n",
       "\"265aec7e-8fe5-4d51-8c53-976314aeccfe\"      0.0   \n",
       "\"44322542-50b2-429b-93fb-012d09c95522\"      3.0   \n",
       "\"fb8cfb6c-06ef-4e75-8cf3-2676ff71db27\"      1.0   \n",
       "\"02fcf13a-3616-438f-b426-9cd43a6cf6b8\"      0.0   \n",
       "\"9c7c31e4-5127-4cf5-aea6-f6df693f78ba\"      1.0   \n",
       "\n",
       "                                                        ...                   \\\n",
       "\"8d352896-a3f1-471c-8439-0f426df901c1\"                  ...                    \n",
       "\"7037c5b2-c286-498e-9784-9a061c778609\"                  ...                    \n",
       "\"5c4939b5-425b-4d19-b5d2-0384a515539e\"                  ...                    \n",
       "\"acb9c989-b4a6-4c4d-81cc-6b5783ec71d8\"                  ...                    \n",
       "\"1a03bc9e-bed4-4ddd-be7f-af23b1d5eb65\"                  ...                    \n",
       "\"3685a015-fa97-4457-ad73-da1c50210fe1\"                  ...                    \n",
       "\"9a2e8271-a84d-4b3c-a670-2d65326ed824\"                  ...                    \n",
       "\"bfdfd356-5d6f-4696-a2f1-c1dc338aa64b\"                  ...                    \n",
       "\"a7936587-8b71-43b6-9c61-17b2c2b55de3\"                  ...                    \n",
       "\"7ea5c999-8001-4eee-9cdf-580d0783ce5c\"                  ...                    \n",
       "\"5977184a-1be2-4725-9b48-f2782dc03efb\"                  ...                    \n",
       "\"e63a2fc6-50bd-4417-a712-fe688bf8e242\"                  ...                    \n",
       "\"2b91e6b2-d5ed-42e1-8bf5-dc23aeaf7e6a\"                  ...                    \n",
       "\"bffd0877-e77e-470a-b0f9-a9cdc6ff0a09\"                  ...                    \n",
       "\"97f6ae4f-e2a6-4721-8936-f759c8867f6a\"                  ...                    \n",
       "\"3ef14300-4987-4b54-a56c-5b6d1f8a24a1\"                  ...                    \n",
       "\"6b5d392d-b737-49ef-99af-e8c445ff6379\"                  ...                    \n",
       "\"5ecf601d-4eac-433e-8056-3a5b9eda0555\"                  ...                    \n",
       "\"00dbbdca-d86c-4bc9-803c-0602e0153f68\"                  ...                    \n",
       "\"1f27519a-971f-4e39-bac7-9920bfc4b05b\"                  ...                    \n",
       "\"d3cf1687-6c27-45e7-ada7-6619ef639dbe\"                  ...                    \n",
       "\"8ca16c7a-70a6-4723-bd72-65b8485a2e86\"                  ...                    \n",
       "\"74cfbbd0-eb35-467c-9bad-221ac73a7444\"                  ...                    \n",
       "\"e16c0b19-a5c1-4c2d-ad0b-f54d96bced69\"                  ...                    \n",
       "\"9ee4164c-8a5b-4ebc-98ec-9aef76badf6b\"                  ...                    \n",
       "\"fad5b543-2e7f-48be-ad1b-5398dc720539\"                  ...                    \n",
       "\"d4179256-4a86-4e91-9ffb-9235c56ac203\"                  ...                    \n",
       "\"4cd1abad-a077-46a1-bbe4-7a83594de09e\"                  ...                    \n",
       "\"0ceae1e4-b8c8-4578-a157-4facbff9f899\"                  ...                    \n",
       "\"d10a70ec-0d38-4332-bfdb-cfdc38ef9603\"                  ...                    \n",
       "...                                                     ...                    \n",
       "\"9437eb7b-0811-4b36-b772-17eb7d876231\"                  ...                    \n",
       "\"cf95f1c7-35b8-49bb-8058-b249db4be5ca\"                  ...                    \n",
       "\"d0205bfd-ae2e-41d5-a9f1-23287d7bc664\"                  ...                    \n",
       "\"c5c3dfa3-067e-46e7-88c7-876d79afc3f9\"                  ...                    \n",
       "\"8492b291-71f1-40cd-b480-b9a6957e8dd5\"                  ...                    \n",
       "\"91182fa0-c474-4d7c-9a2c-f13766a43f5a\"                  ...                    \n",
       "\"814ef4d3-eef9-4ea0-9413-da54321bc8b7\"                  ...                    \n",
       "\"c3575834-f9c3-4286-b0f2-dd3fce668f6c\"                  ...                    \n",
       "\"46fe6001-0f24-4bcd-a070-59ae46aff3c4\"                  ...                    \n",
       "\"bd3ee15b-e1f0-4532-9525-d59204abd295\"                  ...                    \n",
       "\"7efa9eb0-98c4-4189-bca9-55e2cac55d93\"                  ...                    \n",
       "\"779126bb-b53f-449c-b287-0ac2487bbf17\"                  ...                    \n",
       "\"97420fdd-d4dd-4672-850c-89aab565f43e\"                  ...                    \n",
       "\"ca5746e8-a74a-4643-aafe-7c24055b6fd1\"                  ...                    \n",
       "\"c88a68d7-9789-4f2e-b403-c6da20ca691c\"                  ...                    \n",
       "\"973e662b-8523-40e6-a5ad-314f7cb581ba\"                  ...                    \n",
       "\"cebbb087-9691-4573-bb88-81874b7f5227\"                  ...                    \n",
       "\"d1b956bd-4ee2-4294-864b-33d00203e279\"                  ...                    \n",
       "\"029bb661-603f-42e2-a3f9-b27c59ef031a\"                  ...                    \n",
       "\"86d96d07-d168-48a8-9e96-6e7ad8474b44\"                  ...                    \n",
       "\"808c009c-dd04-4bca-86e7-98b7afebd3b5\"                  ...                    \n",
       "\"e6672e08-f6e0-4c7c-b6ed-ebe63b1e25cd\"                  ...                    \n",
       "\"ec6b1850-83d6-48b0-9bb9-32ed6c9b30bd\"                  ...                    \n",
       "\"6574a1d8-6b05-471a-9f6b-5e2c8bc10cdc\"                  ...                    \n",
       "\"415b77e2-f7aa-4588-94a5-b008a7fcf2ea\"                  ...                    \n",
       "\"265aec7e-8fe5-4d51-8c53-976314aeccfe\"                  ...                    \n",
       "\"44322542-50b2-429b-93fb-012d09c95522\"                  ...                    \n",
       "\"fb8cfb6c-06ef-4e75-8cf3-2676ff71db27\"                  ...                    \n",
       "\"02fcf13a-3616-438f-b426-9cd43a6cf6b8\"                  ...                    \n",
       "\"9c7c31e4-5127-4cf5-aea6-f6df693f78ba\"                  ...                    \n",
       "\n",
       "                                               7         8         9  \\\n",
       "\"8d352896-a3f1-471c-8439-0f426df901c1\"  3600.000  3600.000  3600.000   \n",
       "\"7037c5b2-c286-498e-9784-9a061c778609\"   175.314   183.037   547.511   \n",
       "\"5c4939b5-425b-4d19-b5d2-0384a515539e\"  3600.000  3600.000  3600.000   \n",
       "\"acb9c989-b4a6-4c4d-81cc-6b5783ec71d8\"  3600.000  3600.000  3600.000   \n",
       "\"1a03bc9e-bed4-4ddd-be7f-af23b1d5eb65\"   137.950   274.981    53.203   \n",
       "\"3685a015-fa97-4457-ad73-da1c50210fe1\"  3600.000  3600.000  3600.000   \n",
       "\"9a2e8271-a84d-4b3c-a670-2d65326ed824\"  3600.000  3600.000  3600.000   \n",
       "\"bfdfd356-5d6f-4696-a2f1-c1dc338aa64b\"    96.493   236.166    86.135   \n",
       "\"a7936587-8b71-43b6-9c61-17b2c2b55de3\"  3600.000  3600.000  3600.000   \n",
       "\"7ea5c999-8001-4eee-9cdf-580d0783ce5c\"  3600.000  3600.000  3600.000   \n",
       "\"5977184a-1be2-4725-9b48-f2782dc03efb\"   200.448    45.973   415.828   \n",
       "\"e63a2fc6-50bd-4417-a712-fe688bf8e242\"   131.179   225.304    57.402   \n",
       "\"2b91e6b2-d5ed-42e1-8bf5-dc23aeaf7e6a\"   503.443    36.178   328.575   \n",
       "\"bffd0877-e77e-470a-b0f9-a9cdc6ff0a09\"   210.319   162.231   276.479   \n",
       "\"97f6ae4f-e2a6-4721-8936-f759c8867f6a\"    29.509   302.965    48.040   \n",
       "\"3ef14300-4987-4b54-a56c-5b6d1f8a24a1\"   147.819  1319.949    80.488   \n",
       "\"6b5d392d-b737-49ef-99af-e8c445ff6379\"   249.959   101.361    85.457   \n",
       "\"5ecf601d-4eac-433e-8056-3a5b9eda0555\"   262.944   253.472    81.843   \n",
       "\"00dbbdca-d86c-4bc9-803c-0602e0153f68\"  3600.000  3600.000  3600.000   \n",
       "\"1f27519a-971f-4e39-bac7-9920bfc4b05b\"  3600.000  3600.000  3600.000   \n",
       "\"d3cf1687-6c27-45e7-ada7-6619ef639dbe\"  3600.000  3600.000  3600.000   \n",
       "\"8ca16c7a-70a6-4723-bd72-65b8485a2e86\"  3600.000  3600.000  3600.000   \n",
       "\"74cfbbd0-eb35-467c-9bad-221ac73a7444\"    71.236    39.684    71.602   \n",
       "\"e16c0b19-a5c1-4c2d-ad0b-f54d96bced69\"    42.322    86.216   168.255   \n",
       "\"9ee4164c-8a5b-4ebc-98ec-9aef76badf6b\"  3600.000  3600.000  3600.000   \n",
       "\"fad5b543-2e7f-48be-ad1b-5398dc720539\"  3600.000  3600.000  3600.000   \n",
       "\"d4179256-4a86-4e91-9ffb-9235c56ac203\"  3600.000  3600.000  3600.000   \n",
       "\"4cd1abad-a077-46a1-bbe4-7a83594de09e\"  3600.000  3600.000  3600.000   \n",
       "\"0ceae1e4-b8c8-4578-a157-4facbff9f899\"    37.581   163.611   196.894   \n",
       "\"d10a70ec-0d38-4332-bfdb-cfdc38ef9603\"    68.345   161.618    51.471   \n",
       "...                                          ...       ...       ...   \n",
       "\"9437eb7b-0811-4b36-b772-17eb7d876231\"  3600.000  3600.000  3600.000   \n",
       "\"cf95f1c7-35b8-49bb-8058-b249db4be5ca\"  3600.000  3600.000  3600.000   \n",
       "\"d0205bfd-ae2e-41d5-a9f1-23287d7bc664\"  3600.000  3600.000  3600.000   \n",
       "\"c5c3dfa3-067e-46e7-88c7-876d79afc3f9\"  3600.000  3600.000  3600.000   \n",
       "\"8492b291-71f1-40cd-b480-b9a6957e8dd5\"  3600.000  3600.000  3600.000   \n",
       "\"91182fa0-c474-4d7c-9a2c-f13766a43f5a\"  3600.000  3600.000  3600.000   \n",
       "\"814ef4d3-eef9-4ea0-9413-da54321bc8b7\"  3600.000  3600.000  3600.000   \n",
       "\"c3575834-f9c3-4286-b0f2-dd3fce668f6c\"  3600.000  3600.000  3600.000   \n",
       "\"46fe6001-0f24-4bcd-a070-59ae46aff3c4\"  3600.000  3600.000  3600.000   \n",
       "\"bd3ee15b-e1f0-4532-9525-d59204abd295\"  3600.000  3600.000  3600.000   \n",
       "\"7efa9eb0-98c4-4189-bca9-55e2cac55d93\"    95.789    91.670    71.500   \n",
       "\"779126bb-b53f-449c-b287-0ac2487bbf17\"  3600.000  3600.000  3600.000   \n",
       "\"97420fdd-d4dd-4672-850c-89aab565f43e\"  3600.000  3600.000  3600.000   \n",
       "\"ca5746e8-a74a-4643-aafe-7c24055b6fd1\"  3600.000  3600.000  3600.000   \n",
       "\"c88a68d7-9789-4f2e-b403-c6da20ca691c\"   162.921   172.733    66.596   \n",
       "\"973e662b-8523-40e6-a5ad-314f7cb581ba\"  3600.000  3600.000  3600.000   \n",
       "\"cebbb087-9691-4573-bb88-81874b7f5227\"  3600.000  3600.000  3600.000   \n",
       "\"d1b956bd-4ee2-4294-864b-33d00203e279\"  3600.000  3600.000  3600.000   \n",
       "\"029bb661-603f-42e2-a3f9-b27c59ef031a\"  3600.000  3600.000  3600.000   \n",
       "\"86d96d07-d168-48a8-9e96-6e7ad8474b44\"  3600.000  3600.000  3600.000   \n",
       "\"808c009c-dd04-4bca-86e7-98b7afebd3b5\"  3600.000  3600.000  3600.000   \n",
       "\"e6672e08-f6e0-4c7c-b6ed-ebe63b1e25cd\"  3600.000  3600.000  3600.000   \n",
       "\"ec6b1850-83d6-48b0-9bb9-32ed6c9b30bd\"  3600.000  3600.000  3600.000   \n",
       "\"6574a1d8-6b05-471a-9f6b-5e2c8bc10cdc\"  3600.000  3600.000  3600.000   \n",
       "\"415b77e2-f7aa-4588-94a5-b008a7fcf2ea\"  3600.000  3600.000  3600.000   \n",
       "\"265aec7e-8fe5-4d51-8c53-976314aeccfe\"  3600.000  3600.000  3600.000   \n",
       "\"44322542-50b2-429b-93fb-012d09c95522\"  3600.000  3600.000  3600.000   \n",
       "\"fb8cfb6c-06ef-4e75-8cf3-2676ff71db27\"  3600.000  3600.000  3600.000   \n",
       "\"02fcf13a-3616-438f-b426-9cd43a6cf6b8\"  3600.000  3600.000  3600.000   \n",
       "\"9c7c31e4-5127-4cf5-aea6-f6df693f78ba\"  3600.000  3600.000  3600.000   \n",
       "\n",
       "                                              10        11        12  \\\n",
       "\"8d352896-a3f1-471c-8439-0f426df901c1\"  3600.000  3600.000  3600.000   \n",
       "\"7037c5b2-c286-498e-9784-9a061c778609\"   158.229     6.438    27.503   \n",
       "\"5c4939b5-425b-4d19-b5d2-0384a515539e\"  3600.000  3600.000  3600.000   \n",
       "\"acb9c989-b4a6-4c4d-81cc-6b5783ec71d8\"  3600.000  3600.000  3600.000   \n",
       "\"1a03bc9e-bed4-4ddd-be7f-af23b1d5eb65\"    64.183     3.634     4.095   \n",
       "\"3685a015-fa97-4457-ad73-da1c50210fe1\"  3600.000  3600.000  3600.000   \n",
       "\"9a2e8271-a84d-4b3c-a670-2d65326ed824\"  3600.000  3600.000  3600.000   \n",
       "\"bfdfd356-5d6f-4696-a2f1-c1dc338aa64b\"    55.430     5.048     9.579   \n",
       "\"a7936587-8b71-43b6-9c61-17b2c2b55de3\"  3600.000  3600.000  3600.000   \n",
       "\"7ea5c999-8001-4eee-9cdf-580d0783ce5c\"  3600.000  3600.000  3600.000   \n",
       "\"5977184a-1be2-4725-9b48-f2782dc03efb\"   145.692     4.657     6.108   \n",
       "\"e63a2fc6-50bd-4417-a712-fe688bf8e242\"   133.610     4.475     7.004   \n",
       "\"2b91e6b2-d5ed-42e1-8bf5-dc23aeaf7e6a\"   190.958     6.591    17.667   \n",
       "\"bffd0877-e77e-470a-b0f9-a9cdc6ff0a09\"    51.728     8.852    35.436   \n",
       "\"97f6ae4f-e2a6-4721-8936-f759c8867f6a\"    83.472     6.303     7.321   \n",
       "\"3ef14300-4987-4b54-a56c-5b6d1f8a24a1\"  3600.000  3600.000  3600.000   \n",
       "\"6b5d392d-b737-49ef-99af-e8c445ff6379\"    45.889     3.721     6.519   \n",
       "\"5ecf601d-4eac-433e-8056-3a5b9eda0555\"   109.253     3.196    53.734   \n",
       "\"00dbbdca-d86c-4bc9-803c-0602e0153f68\"  3600.000  3600.000  3600.000   \n",
       "\"1f27519a-971f-4e39-bac7-9920bfc4b05b\"  3600.000  3600.000  3600.000   \n",
       "\"d3cf1687-6c27-45e7-ada7-6619ef639dbe\"  3600.000  3600.000  3600.000   \n",
       "\"8ca16c7a-70a6-4723-bd72-65b8485a2e86\"  3600.000  3600.000  3600.000   \n",
       "\"74cfbbd0-eb35-467c-9bad-221ac73a7444\"    56.339     3.604    22.439   \n",
       "\"e16c0b19-a5c1-4c2d-ad0b-f54d96bced69\"    50.913     3.948    51.698   \n",
       "\"9ee4164c-8a5b-4ebc-98ec-9aef76badf6b\"  3600.000  3600.000  3600.000   \n",
       "\"fad5b543-2e7f-48be-ad1b-5398dc720539\"  3600.000  3600.000  3600.000   \n",
       "\"d4179256-4a86-4e91-9ffb-9235c56ac203\"  3600.000  3600.000  3600.000   \n",
       "\"4cd1abad-a077-46a1-bbe4-7a83594de09e\"  3600.000  3600.000  3600.000   \n",
       "\"0ceae1e4-b8c8-4578-a157-4facbff9f899\"    61.738   250.349   -31.806   \n",
       "\"d10a70ec-0d38-4332-bfdb-cfdc38ef9603\"    15.093     4.596     6.439   \n",
       "...                                          ...       ...       ...   \n",
       "\"9437eb7b-0811-4b36-b772-17eb7d876231\"  3600.000  3600.000  3600.000   \n",
       "\"cf95f1c7-35b8-49bb-8058-b249db4be5ca\"  3600.000  3600.000  3600.000   \n",
       "\"d0205bfd-ae2e-41d5-a9f1-23287d7bc664\"  3600.000  3600.000  3600.000   \n",
       "\"c5c3dfa3-067e-46e7-88c7-876d79afc3f9\"  3600.000  3600.000  3600.000   \n",
       "\"8492b291-71f1-40cd-b480-b9a6957e8dd5\"  3600.000  3600.000  3600.000   \n",
       "\"91182fa0-c474-4d7c-9a2c-f13766a43f5a\"  3600.000  3600.000  3600.000   \n",
       "\"814ef4d3-eef9-4ea0-9413-da54321bc8b7\"  3600.000  3600.000  3600.000   \n",
       "\"c3575834-f9c3-4286-b0f2-dd3fce668f6c\"  3600.000  3600.000  3600.000   \n",
       "\"46fe6001-0f24-4bcd-a070-59ae46aff3c4\"  3600.000  3600.000  3600.000   \n",
       "\"bd3ee15b-e1f0-4532-9525-d59204abd295\"  3600.000  3600.000  3600.000   \n",
       "\"7efa9eb0-98c4-4189-bca9-55e2cac55d93\"    79.675     4.183    90.821   \n",
       "\"779126bb-b53f-449c-b287-0ac2487bbf17\"  3600.000  3600.000  3600.000   \n",
       "\"97420fdd-d4dd-4672-850c-89aab565f43e\"  3600.000  3600.000  3600.000   \n",
       "\"ca5746e8-a74a-4643-aafe-7c24055b6fd1\"  3600.000  3600.000  3600.000   \n",
       "\"c88a68d7-9789-4f2e-b403-c6da20ca691c\"    16.499     3.814     6.722   \n",
       "\"973e662b-8523-40e6-a5ad-314f7cb581ba\"  3600.000  3600.000  3600.000   \n",
       "\"cebbb087-9691-4573-bb88-81874b7f5227\"  3600.000  3600.000  3600.000   \n",
       "\"d1b956bd-4ee2-4294-864b-33d00203e279\"  3600.000  3600.000  3600.000   \n",
       "\"029bb661-603f-42e2-a3f9-b27c59ef031a\"  3600.000  3600.000  3600.000   \n",
       "\"86d96d07-d168-48a8-9e96-6e7ad8474b44\"  3600.000  3600.000  3600.000   \n",
       "\"808c009c-dd04-4bca-86e7-98b7afebd3b5\"  3600.000  3600.000  3600.000   \n",
       "\"e6672e08-f6e0-4c7c-b6ed-ebe63b1e25cd\"  3600.000  3600.000  3600.000   \n",
       "\"ec6b1850-83d6-48b0-9bb9-32ed6c9b30bd\"  3600.000  3600.000  3600.000   \n",
       "\"6574a1d8-6b05-471a-9f6b-5e2c8bc10cdc\"  3600.000  3600.000  3600.000   \n",
       "\"415b77e2-f7aa-4588-94a5-b008a7fcf2ea\"  3600.000  3600.000  3600.000   \n",
       "\"265aec7e-8fe5-4d51-8c53-976314aeccfe\"  3600.000  3600.000  3600.000   \n",
       "\"44322542-50b2-429b-93fb-012d09c95522\"  3600.000  3600.000  3600.000   \n",
       "\"fb8cfb6c-06ef-4e75-8cf3-2676ff71db27\"  3600.000  3600.000  3600.000   \n",
       "\"02fcf13a-3616-438f-b426-9cd43a6cf6b8\"  3600.000  3600.000  3600.000   \n",
       "\"9c7c31e4-5127-4cf5-aea6-f6df693f78ba\"  3600.000  3600.000  3600.000   \n",
       "\n",
       "                                              13        14  completionTime  \\\n",
       "\"8d352896-a3f1-471c-8439-0f426df901c1\"  3600.000  3600.000    9.223372e+10   \n",
       "\"7037c5b2-c286-498e-9784-9a061c778609\"   155.083   142.235    2.821648e+03   \n",
       "\"5c4939b5-425b-4d19-b5d2-0384a515539e\"  3600.000  3600.000    9.223372e+10   \n",
       "\"acb9c989-b4a6-4c4d-81cc-6b5783ec71d8\"  3600.000  3600.000    9.223372e+10   \n",
       "\"1a03bc9e-bed4-4ddd-be7f-af23b1d5eb65\"  3600.000  3600.000    1.844675e+10   \n",
       "\"3685a015-fa97-4457-ad73-da1c50210fe1\"  3600.000  3600.000    8.301035e+10   \n",
       "\"9a2e8271-a84d-4b3c-a670-2d65326ed824\"  3600.000  3600.000    1.383506e+11   \n",
       "\"bfdfd356-5d6f-4696-a2f1-c1dc338aa64b\"   971.505  3600.000    9.223376e+09   \n",
       "\"a7936587-8b71-43b6-9c61-17b2c2b55de3\"  3600.000  3600.000    1.199038e+11   \n",
       "\"7ea5c999-8001-4eee-9cdf-580d0783ce5c\"  3600.000  3600.000    1.383506e+11   \n",
       "\"5977184a-1be2-4725-9b48-f2782dc03efb\"   154.528   552.617    4.183384e+03   \n",
       "\"e63a2fc6-50bd-4417-a712-fe688bf8e242\"   373.978   523.955    3.329655e+03   \n",
       "\"2b91e6b2-d5ed-42e1-8bf5-dc23aeaf7e6a\"   523.832  3600.000    9.223375e+09   \n",
       "\"bffd0877-e77e-470a-b0f9-a9cdc6ff0a09\"   696.862  3600.000    9.223376e+09   \n",
       "\"97f6ae4f-e2a6-4721-8936-f759c8867f6a\"   631.794    60.184    2.153956e+03   \n",
       "\"3ef14300-4987-4b54-a56c-5b6d1f8a24a1\"  3600.000  3600.000    4.611686e+10   \n",
       "\"6b5d392d-b737-49ef-99af-e8c445ff6379\"   150.380  3600.000    9.223374e+09   \n",
       "\"5ecf601d-4eac-433e-8056-3a5b9eda0555\"   512.331   143.972    3.813643e+03   \n",
       "\"00dbbdca-d86c-4bc9-803c-0602e0153f68\"  3600.000  3600.000    1.199038e+11   \n",
       "\"1f27519a-971f-4e39-bac7-9920bfc4b05b\"  3600.000  3600.000    1.383506e+11   \n",
       "\"d3cf1687-6c27-45e7-ada7-6619ef639dbe\"  3600.000  3600.000    9.223372e+10   \n",
       "\"8ca16c7a-70a6-4723-bd72-65b8485a2e86\"  3600.000  3600.000    1.383506e+11   \n",
       "\"74cfbbd0-eb35-467c-9bad-221ac73a7444\"   140.646   123.366    1.597612e+03   \n",
       "\"e16c0b19-a5c1-4c2d-ad0b-f54d96bced69\"   264.895   177.624    2.194946e+03   \n",
       "\"9ee4164c-8a5b-4ebc-98ec-9aef76badf6b\"  3600.000  3600.000    1.383506e+11   \n",
       "\"fad5b543-2e7f-48be-ad1b-5398dc720539\"  3600.000  3600.000    8.301035e+10   \n",
       "\"d4179256-4a86-4e91-9ffb-9235c56ac203\"  3600.000  3600.000    1.383506e+11   \n",
       "\"4cd1abad-a077-46a1-bbe4-7a83594de09e\"  3600.000  3600.000    8.301035e+10   \n",
       "\"0ceae1e4-b8c8-4578-a157-4facbff9f899\"    41.346   189.956    2.200663e+03   \n",
       "\"d10a70ec-0d38-4332-bfdb-cfdc38ef9603\"   127.410   199.541    1.962210e+03   \n",
       "...                                          ...       ...             ...   \n",
       "\"9437eb7b-0811-4b36-b772-17eb7d876231\"  3600.000  3600.000    1.383506e+11   \n",
       "\"cf95f1c7-35b8-49bb-8058-b249db4be5ca\"  3600.000  3600.000    1.383506e+11   \n",
       "\"d0205bfd-ae2e-41d5-a9f1-23287d7bc664\"  3600.000  3600.000    1.383506e+11   \n",
       "\"c5c3dfa3-067e-46e7-88c7-876d79afc3f9\"  3600.000  3600.000    1.383506e+11   \n",
       "\"8492b291-71f1-40cd-b480-b9a6957e8dd5\"  3600.000  3600.000    1.199038e+11   \n",
       "\"91182fa0-c474-4d7c-9a2c-f13766a43f5a\"  3600.000  3600.000    1.199038e+11   \n",
       "\"814ef4d3-eef9-4ea0-9413-da54321bc8b7\"  3600.000  3600.000    1.383506e+11   \n",
       "\"c3575834-f9c3-4286-b0f2-dd3fce668f6c\"  3600.000  3600.000    1.383506e+11   \n",
       "\"46fe6001-0f24-4bcd-a070-59ae46aff3c4\"  3600.000  3600.000    1.199038e+11   \n",
       "\"bd3ee15b-e1f0-4532-9525-d59204abd295\"  3600.000  3600.000    1.199038e+11   \n",
       "\"7efa9eb0-98c4-4189-bca9-55e2cac55d93\"   370.913  3600.000    9.223374e+09   \n",
       "\"779126bb-b53f-449c-b287-0ac2487bbf17\"  3600.000  3600.000    9.223372e+10   \n",
       "\"97420fdd-d4dd-4672-850c-89aab565f43e\"  3600.000  3600.000    1.383506e+11   \n",
       "\"ca5746e8-a74a-4643-aafe-7c24055b6fd1\"  3600.000  3600.000    1.383506e+11   \n",
       "\"c88a68d7-9789-4f2e-b403-c6da20ca691c\"   271.197   830.786    3.680273e+03   \n",
       "\"973e662b-8523-40e6-a5ad-314f7cb581ba\"  3600.000  3600.000    1.383506e+11   \n",
       "\"cebbb087-9691-4573-bb88-81874b7f5227\"  3600.000  3600.000    9.223372e+10   \n",
       "\"d1b956bd-4ee2-4294-864b-33d00203e279\"  3600.000  3600.000    1.383506e+11   \n",
       "\"029bb661-603f-42e2-a3f9-b27c59ef031a\"  3600.000  3600.000    1.199038e+11   \n",
       "\"86d96d07-d168-48a8-9e96-6e7ad8474b44\"  3600.000  3600.000    7.378698e+10   \n",
       "\"808c009c-dd04-4bca-86e7-98b7afebd3b5\"  3600.000  3600.000    1.199038e+11   \n",
       "\"e6672e08-f6e0-4c7c-b6ed-ebe63b1e25cd\"  3600.000  3600.000    1.199038e+11   \n",
       "\"ec6b1850-83d6-48b0-9bb9-32ed6c9b30bd\"  3600.000  3600.000    1.383506e+11   \n",
       "\"6574a1d8-6b05-471a-9f6b-5e2c8bc10cdc\"  3600.000  3600.000    1.383506e+11   \n",
       "\"415b77e2-f7aa-4588-94a5-b008a7fcf2ea\"  3600.000  3600.000    1.383506e+11   \n",
       "\"265aec7e-8fe5-4d51-8c53-976314aeccfe\"  3600.000  3600.000    1.383506e+11   \n",
       "\"44322542-50b2-429b-93fb-012d09c95522\"  3600.000  3600.000    8.301035e+10   \n",
       "\"fb8cfb6c-06ef-4e75-8cf3-2676ff71db27\"  3600.000  3600.000    1.106805e+11   \n",
       "\"02fcf13a-3616-438f-b426-9cd43a6cf6b8\"  3600.000  3600.000    1.383506e+11   \n",
       "\"9c7c31e4-5127-4cf5-aea6-f6df693f78ba\"  3600.000  3600.000    1.199038e+11   \n",
       "\n",
       "                                                                 anonymousID  \n",
       "\"8d352896-a3f1-471c-8439-0f426df901c1\"  8d352896-a3f1-471c-8439-0f426df901c1  \n",
       "\"7037c5b2-c286-498e-9784-9a061c778609\"  7037c5b2-c286-498e-9784-9a061c778609  \n",
       "\"5c4939b5-425b-4d19-b5d2-0384a515539e\"  5c4939b5-425b-4d19-b5d2-0384a515539e  \n",
       "\"acb9c989-b4a6-4c4d-81cc-6b5783ec71d8\"  acb9c989-b4a6-4c4d-81cc-6b5783ec71d8  \n",
       "\"1a03bc9e-bed4-4ddd-be7f-af23b1d5eb65\"  1a03bc9e-bed4-4ddd-be7f-af23b1d5eb65  \n",
       "\"3685a015-fa97-4457-ad73-da1c50210fe1\"  3685a015-fa97-4457-ad73-da1c50210fe1  \n",
       "\"9a2e8271-a84d-4b3c-a670-2d65326ed824\"  9a2e8271-a84d-4b3c-a670-2d65326ed824  \n",
       "\"bfdfd356-5d6f-4696-a2f1-c1dc338aa64b\"  bfdfd356-5d6f-4696-a2f1-c1dc338aa64b  \n",
       "\"a7936587-8b71-43b6-9c61-17b2c2b55de3\"  a7936587-8b71-43b6-9c61-17b2c2b55de3  \n",
       "\"7ea5c999-8001-4eee-9cdf-580d0783ce5c\"  7ea5c999-8001-4eee-9cdf-580d0783ce5c  \n",
       "\"5977184a-1be2-4725-9b48-f2782dc03efb\"  5977184a-1be2-4725-9b48-f2782dc03efb  \n",
       "\"e63a2fc6-50bd-4417-a712-fe688bf8e242\"  e63a2fc6-50bd-4417-a712-fe688bf8e242  \n",
       "\"2b91e6b2-d5ed-42e1-8bf5-dc23aeaf7e6a\"  2b91e6b2-d5ed-42e1-8bf5-dc23aeaf7e6a  \n",
       "\"bffd0877-e77e-470a-b0f9-a9cdc6ff0a09\"  bffd0877-e77e-470a-b0f9-a9cdc6ff0a09  \n",
       "\"97f6ae4f-e2a6-4721-8936-f759c8867f6a\"  97f6ae4f-e2a6-4721-8936-f759c8867f6a  \n",
       "\"3ef14300-4987-4b54-a56c-5b6d1f8a24a1\"  3ef14300-4987-4b54-a56c-5b6d1f8a24a1  \n",
       "\"6b5d392d-b737-49ef-99af-e8c445ff6379\"  6b5d392d-b737-49ef-99af-e8c445ff6379  \n",
       "\"5ecf601d-4eac-433e-8056-3a5b9eda0555\"  5ecf601d-4eac-433e-8056-3a5b9eda0555  \n",
       "\"00dbbdca-d86c-4bc9-803c-0602e0153f68\"  00dbbdca-d86c-4bc9-803c-0602e0153f68  \n",
       "\"1f27519a-971f-4e39-bac7-9920bfc4b05b\"  1f27519a-971f-4e39-bac7-9920bfc4b05b  \n",
       "\"d3cf1687-6c27-45e7-ada7-6619ef639dbe\"  d3cf1687-6c27-45e7-ada7-6619ef639dbe  \n",
       "\"8ca16c7a-70a6-4723-bd72-65b8485a2e86\"  8ca16c7a-70a6-4723-bd72-65b8485a2e86  \n",
       "\"74cfbbd0-eb35-467c-9bad-221ac73a7444\"  74cfbbd0-eb35-467c-9bad-221ac73a7444  \n",
       "\"e16c0b19-a5c1-4c2d-ad0b-f54d96bced69\"  e16c0b19-a5c1-4c2d-ad0b-f54d96bced69  \n",
       "\"9ee4164c-8a5b-4ebc-98ec-9aef76badf6b\"  9ee4164c-8a5b-4ebc-98ec-9aef76badf6b  \n",
       "\"fad5b543-2e7f-48be-ad1b-5398dc720539\"  fad5b543-2e7f-48be-ad1b-5398dc720539  \n",
       "\"d4179256-4a86-4e91-9ffb-9235c56ac203\"  d4179256-4a86-4e91-9ffb-9235c56ac203  \n",
       "\"4cd1abad-a077-46a1-bbe4-7a83594de09e\"  4cd1abad-a077-46a1-bbe4-7a83594de09e  \n",
       "\"0ceae1e4-b8c8-4578-a157-4facbff9f899\"  0ceae1e4-b8c8-4578-a157-4facbff9f899  \n",
       "\"d10a70ec-0d38-4332-bfdb-cfdc38ef9603\"  d10a70ec-0d38-4332-bfdb-cfdc38ef9603  \n",
       "...                                                                      ...  \n",
       "\"9437eb7b-0811-4b36-b772-17eb7d876231\"  9437eb7b-0811-4b36-b772-17eb7d876231  \n",
       "\"cf95f1c7-35b8-49bb-8058-b249db4be5ca\"  cf95f1c7-35b8-49bb-8058-b249db4be5ca  \n",
       "\"d0205bfd-ae2e-41d5-a9f1-23287d7bc664\"  d0205bfd-ae2e-41d5-a9f1-23287d7bc664  \n",
       "\"c5c3dfa3-067e-46e7-88c7-876d79afc3f9\"  c5c3dfa3-067e-46e7-88c7-876d79afc3f9  \n",
       "\"8492b291-71f1-40cd-b480-b9a6957e8dd5\"  8492b291-71f1-40cd-b480-b9a6957e8dd5  \n",
       "\"91182fa0-c474-4d7c-9a2c-f13766a43f5a\"  91182fa0-c474-4d7c-9a2c-f13766a43f5a  \n",
       "\"814ef4d3-eef9-4ea0-9413-da54321bc8b7\"  814ef4d3-eef9-4ea0-9413-da54321bc8b7  \n",
       "\"c3575834-f9c3-4286-b0f2-dd3fce668f6c\"  c3575834-f9c3-4286-b0f2-dd3fce668f6c  \n",
       "\"46fe6001-0f24-4bcd-a070-59ae46aff3c4\"  46fe6001-0f24-4bcd-a070-59ae46aff3c4  \n",
       "\"bd3ee15b-e1f0-4532-9525-d59204abd295\"  bd3ee15b-e1f0-4532-9525-d59204abd295  \n",
       "\"7efa9eb0-98c4-4189-bca9-55e2cac55d93\"  7efa9eb0-98c4-4189-bca9-55e2cac55d93  \n",
       "\"779126bb-b53f-449c-b287-0ac2487bbf17\"  779126bb-b53f-449c-b287-0ac2487bbf17  \n",
       "\"97420fdd-d4dd-4672-850c-89aab565f43e\"  97420fdd-d4dd-4672-850c-89aab565f43e  \n",
       "\"ca5746e8-a74a-4643-aafe-7c24055b6fd1\"  ca5746e8-a74a-4643-aafe-7c24055b6fd1  \n",
       "\"c88a68d7-9789-4f2e-b403-c6da20ca691c\"  c88a68d7-9789-4f2e-b403-c6da20ca691c  \n",
       "\"973e662b-8523-40e6-a5ad-314f7cb581ba\"  973e662b-8523-40e6-a5ad-314f7cb581ba  \n",
       "\"cebbb087-9691-4573-bb88-81874b7f5227\"  cebbb087-9691-4573-bb88-81874b7f5227  \n",
       "\"d1b956bd-4ee2-4294-864b-33d00203e279\"  d1b956bd-4ee2-4294-864b-33d00203e279  \n",
       "\"029bb661-603f-42e2-a3f9-b27c59ef031a\"  029bb661-603f-42e2-a3f9-b27c59ef031a  \n",
       "\"86d96d07-d168-48a8-9e96-6e7ad8474b44\"  86d96d07-d168-48a8-9e96-6e7ad8474b44  \n",
       "\"808c009c-dd04-4bca-86e7-98b7afebd3b5\"  808c009c-dd04-4bca-86e7-98b7afebd3b5  \n",
       "\"e6672e08-f6e0-4c7c-b6ed-ebe63b1e25cd\"  e6672e08-f6e0-4c7c-b6ed-ebe63b1e25cd  \n",
       "\"ec6b1850-83d6-48b0-9bb9-32ed6c9b30bd\"  ec6b1850-83d6-48b0-9bb9-32ed6c9b30bd  \n",
       "\"6574a1d8-6b05-471a-9f6b-5e2c8bc10cdc\"  6574a1d8-6b05-471a-9f6b-5e2c8bc10cdc  \n",
       "\"415b77e2-f7aa-4588-94a5-b008a7fcf2ea\"  415b77e2-f7aa-4588-94a5-b008a7fcf2ea  \n",
       "\"265aec7e-8fe5-4d51-8c53-976314aeccfe\"  265aec7e-8fe5-4d51-8c53-976314aeccfe  \n",
       "\"44322542-50b2-429b-93fb-012d09c95522\"  44322542-50b2-429b-93fb-012d09c95522  \n",
       "\"fb8cfb6c-06ef-4e75-8cf3-2676ff71db27\"  fb8cfb6c-06ef-4e75-8cf3-2676ff71db27  \n",
       "\"02fcf13a-3616-438f-b426-9cd43a6cf6b8\"  02fcf13a-3616-438f-b426-9cd43a6cf6b8  \n",
       "\"9c7c31e4-5127-4cf5-aea6-f6df693f78ba\"  9c7c31e4-5127-4cf5-aea6-f6df693f78ba  \n",
       "\n",
       "[308 rows x 36 columns]"
      ]
     },
     "execution_count": 163,
     "metadata": {},
     "output_type": "execute_result"
    }
   ],
   "source": [
    "allDataClassif"
   ]
  },
  {
   "cell_type": "markdown",
   "metadata": {},
   "source": [
    "## Can the score of a player be predicted with their RedMetrics data"
   ]
  },
  {
   "cell_type": "code",
   "execution_count": 164,
   "metadata": {},
   "outputs": [
    {
     "name": "stderr",
     "output_type": "stream",
     "text": [
      "/home/emma/anaconda3/lib/python3.6/site-packages/sklearn/preprocessing/data.py:164: UserWarning: Numerical issues were encountered when centering the data and might not be solved. Dataset may contain too large values. You may need to prescale your features.\n",
      "  warnings.warn(\"Numerical issues were encountered \"\n"
     ]
    }
   ],
   "source": [
    "# Remove id\n",
    "anonymousData = allDataClassif.drop(\"anonymousID\", axis = 1)\n",
    "\n",
    "# Get features and target\n",
    "# Only select rows where scoreafter is not negative\n",
    "features = anonymousData[anonymousData[\"scoreafter\"] >= 0].drop(\"scoreafter\", axis = 1)\n",
    "target = anonymousData[anonymousData[\"scoreafter\"] >= 0][\"scoreafter\"]\n",
    "\n",
    "# Center and scale data\n",
    "features = preprocessing.scale(features)"
   ]
  },
  {
   "cell_type": "code",
   "execution_count": 165,
   "metadata": {},
   "outputs": [
    {
     "data": {
      "text/plain": [
       "array([ 0.33306747, -0.22191005, -0.04128753,  0.23467137,  0.21134954,\n",
       "       -0.03229432, -6.25942513, -0.42207437, -6.78194108, -0.21028043])"
      ]
     },
     "execution_count": 165,
     "metadata": {},
     "output_type": "execute_result"
    },
    {
     "data": {
      "image/png": "[encoded data removed]",
      "text/plain": [
       "<matplotlib.figure.Figure at 0x7f39b86d5b70>"
      ]
     },
     "metadata": {},
     "output_type": "display_data"
    }
   ],
   "source": [
    "# Run Lasso regression with cross-validation\n",
    "model = Lasso()\n",
    "scores = cross_val_score(model, features, target, cv=10)\n",
    "boxplot(scores)\n",
    "scores"
   ]
  },
  {
   "cell_type": "markdown",
   "metadata": {},
   "source": [
    "Conclusion: Score cannot be predicted by the table of RedMetrics data (30/01/2018)"
   ]
  },
  {
   "cell_type": "code",
   "execution_count": 166,
   "metadata": {},
   "outputs": [
    {
     "name": "stderr",
     "output_type": "stream",
     "text": [
      "/home/emma/anaconda3/lib/python3.6/site-packages/sklearn/preprocessing/data.py:164: UserWarning: Numerical issues were encountered when centering the data and might not be solved. Dataset may contain too large values. You may need to prescale your features.\n",
      "  warnings.warn(\"Numerical issues were encountered \"\n"
     ]
    }
   ],
   "source": [
    "# Remove id\n",
    "anonymousData = allDataClassif.drop(\"anonymousID\", axis = 1)\n",
    "\n",
    "# Get features and target\n",
    "# Only select rows where scoreafter is not negative\n",
    "features = anonymousData[anonymousData[\"scoreafter\"] >= 0].drop(\"scoreafter\", axis = 1)\n",
    "target = anonymousData[anonymousData[\"scoreafter\"] >= 0][\"scoreafter\"]\n",
    "\n",
    "# Add polynomial features\n",
    "secondDegreeFeatures = preprocessing.PolynomialFeatures(degree=2, interaction_only=False, include_bias=True)\n",
    "features = secondDegreeFeatures.fit_transform(features)\n",
    "\n",
    "# Center and scale data\n",
    "features = preprocessing.scale(features)"
   ]
  },
  {
   "cell_type": "code",
   "execution_count": 167,
   "metadata": {},
   "outputs": [
    {
     "data": {
      "text/plain": [
       "array([ 0.13014122, -0.21644092, -0.07950353,  0.14988117,  0.21610374,\n",
       "        0.02491909, -8.52822151, -0.34108571, -6.44812503, -0.33395473])"
      ]
     },
     "execution_count": 167,
     "metadata": {},
     "output_type": "execute_result"
    },
    {
     "data": {
      "image/png": "[encoded data removed]",
      "text/plain": [
       "<matplotlib.figure.Figure at 0x7f39a7576d68>"
      ]
     },
     "metadata": {},
     "output_type": "display_data"
    }
   ],
   "source": [
    "# Run Lasso regression with cross-validation\n",
    "model = Lasso()\n",
    "scores = cross_val_score(model, features, target, cv=10)\n",
    "boxplot(scores)\n",
    "scores"
   ]
  },
  {
   "cell_type": "markdown",
   "metadata": {},
   "source": [
    "Conclusion: Score cannot be predicted by the table of RedMetrics data + second degree polynomial (30/01/2018)"
   ]
  },
  {
   "cell_type": "markdown",
   "metadata": {},
   "source": [
    "Let's try by reducing the number of features"
   ]
  },
  {
   "cell_type": "code",
   "execution_count": 168,
   "metadata": {
    "collapsed": true
   },
   "outputs": [],
   "source": [
    "# Remove id\n",
    "anonymousData = allDataClassif.drop(\"anonymousID\", axis = 1)\n",
    "\n",
    "# Get features and target\n",
    "# Only select rows where scoreafter is not negative\n",
    "features = anonymousData[anonymousData[\"scoreafter\"] >= 0]\n",
    "features = features[[\"craft\", \"death\", \"add\", \"remove\", \"reach\", \"maxChapter\"] + list(range(15))]\n",
    "target = anonymousData[anonymousData[\"scoreafter\"] >= 0][\"scoreafter\"]\n",
    "\n",
    "# Add polynomial features\n",
    "secondDegreeFeatures = preprocessing.PolynomialFeatures(degree=2, interaction_only=False, include_bias=True)\n",
    "features = secondDegreeFeatures.fit_transform(features)\n",
    "\n",
    "# Center and scale data\n",
    "features = preprocessing.scale(features)"
   ]
  },
  {
   "cell_type": "code",
   "execution_count": 169,
   "metadata": {},
   "outputs": [
    {
     "data": {
      "text/plain": [
       "array([ 0.21438932, -0.21052777, -0.12576408,  0.11988908,  0.23608696,\n",
       "       -0.03527969, -5.25189611, -0.39728224, -8.17428117, -0.2656018 ])"
      ]
     },
     "execution_count": 169,
     "metadata": {},
     "output_type": "execute_result"
    },
    {
     "data": {
      "image/png": "[encoded data removed]",
      "text/plain": [
       "<matplotlib.figure.Figure at 0x7f39a52b1da0>"
      ]
     },
     "metadata": {},
     "output_type": "display_data"
    }
   ],
   "source": [
    "# Run Lasso regression with cross-validation\n",
    "model = Lasso()\n",
    "scores = cross_val_score(model, features, target, cv=10)\n",
    "boxplot(scores)\n",
    "scores"
   ]
  },
  {
   "cell_type": "markdown",
   "metadata": {},
   "source": [
    "Conclusion: Tried different combinations, but cannot find any interesting regression"
   ]
  },
  {
   "cell_type": "markdown",
   "metadata": {},
   "source": [
    "# Questionnaire and RedMetrics"
   ]
  },
  {
   "cell_type": "markdown",
   "metadata": {},
   "source": [
    "## Can the biology level of a player be predicted using the game data?"
   ]
  },
  {
   "cell_type": "code",
   "execution_count": 170,
   "metadata": {
    "collapsed": true
   },
   "outputs": [],
   "source": [
    "# Remove id\n",
    "anonymousData = gameAndCorrectedAfterDataClassif.drop(\"anonymousID\", axis = 1)\n",
    "\n",
    "# Get features and target\n",
    "# Only select rows where scoreafter is not negative\n",
    "features = anonymousData[anonymousData[\"scoreafter\"] >= 0]\n",
    "features = features.loc[:,\"sessionsCount\":\"maxChapter\"]\n",
    "target = anonymousData[anonymousData[\"scoreafter\"] >= 0][\"biologyStudy\"]\n",
    "\n",
    "# Add polynomial features\n",
    "secondDegreeFeatures = preprocessing.PolynomialFeatures(degree=2, interaction_only=False, include_bias=True)\n",
    "features = secondDegreeFeatures.fit_transform(features)\n",
    "\n",
    "# Center and scale data\n",
    "features = preprocessing.scale(features)"
   ]
  },
  {
   "cell_type": "code",
   "execution_count": 171,
   "metadata": {},
   "outputs": [
    {
     "data": {
      "text/plain": [
       "array([-2.        , -0.92729767, -0.14233842, -1.19506173, -0.09876543,\n",
       "       -1.27336861, -0.39506173, -0.04565572, -7.2       , -2.98765432])"
      ]
     },
     "execution_count": 171,
     "metadata": {},
     "output_type": "execute_result"
    },
    {
     "data": {
      "image/png": "[encoded data removed]",
      "text/plain": [
       "<matplotlib.figure.Figure at 0x7f39a777fc88>"
      ]
     },
     "metadata": {},
     "output_type": "display_data"
    }
   ],
   "source": [
    "# Run Lasso regression with cross-validation\n",
    "model = Lasso()\n",
    "scores = cross_val_score(model, features, target, cv=10)\n",
    "boxplot(scores)\n",
    "scores"
   ]
  },
  {
   "cell_type": "markdown",
   "metadata": {
    "collapsed": true
   },
   "source": [
    "Conclusion: No (30/01/2018)"
   ]
  },
  {
   "cell_type": "markdown",
   "metadata": {},
   "source": [
    "## Can the gaming profile of a player be predicted using the game data?"
   ]
  },
  {
   "cell_type": "code",
   "execution_count": 172,
   "metadata": {
    "collapsed": true
   },
   "outputs": [],
   "source": [
    "# Remove id\n",
    "anonymousData = gameAndCorrectedAfterDataClassif.drop(\"anonymousID\", axis = 1)\n",
    "\n",
    "# Get features and target\n",
    "# Only select rows where scoreafter is not negative\n",
    "features = anonymousData.loc[:,\"sessionsCount\":\"maxChapter\"]\n",
    "target = sum(anonymousData[\"gameInterest\"], anonymousData[\"gameFrequency\"])\n",
    "\n",
    "# Add polynomial features\n",
    "secondDegreeFeatures = preprocessing.PolynomialFeatures(degree=2, interaction_only=False, include_bias=True)\n",
    "features = secondDegreeFeatures.fit_transform(features)\n",
    "\n",
    "# Center and scale data\n",
    "features = preprocessing.scale(features)"
   ]
  },
  {
   "cell_type": "code",
   "execution_count": 173,
   "metadata": {},
   "outputs": [
    {
     "data": {
      "text/plain": [
       "array([-0.72565158, -0.97831978, -0.10432099, -0.20454545, -0.00383142,\n",
       "       -0.06520062, -0.00653595, -0.0017094 , -0.19790498, -0.00653595])"
      ]
     },
     "execution_count": 173,
     "metadata": {},
     "output_type": "execute_result"
    },
    {
     "data": {
      "image/png": "[encoded data removed]",
      "text/plain": [
       "<matplotlib.figure.Figure at 0x7f39a49320f0>"
      ]
     },
     "metadata": {},
     "output_type": "display_data"
    }
   ],
   "source": [
    "# Run Lasso regression with cross-validation\n",
    "model = Lasso()\n",
    "scores = cross_val_score(model, features, target, cv=10)\n",
    "boxplot(scores)\n",
    "scores"
   ]
  },
  {
   "cell_type": "markdown",
   "metadata": {
    "collapsed": true
   },
   "source": [
    "Conclusion: No (30/01/2018)"
   ]
  },
  {
   "cell_type": "markdown",
   "metadata": {
    "collapsed": true
   },
   "source": [
    "## Can the completion time of each chapter be used to predict if a player is going to answer a specific scientific question correctly"
   ]
  },
  {
   "cell_type": "code",
   "execution_count": 174,
   "metadata": {
    "collapsed": true
   },
   "outputs": [],
   "source": [
    "# Given a question tag, plot scores of cross-validated model\n",
    "def tryClassification(data, scientificQuestion):\n",
    "    # Remove id\n",
    "    anonymousData = data.drop(\"anonymousID\", axis = 1)\n",
    "\n",
    "    # Get features and target\n",
    "    # Only select rows where scoreafter is not negative\n",
    "    features = anonymousData[anonymousData[\"scoreafter\"] >= 0]\n",
    "    features = features.loc[:,\"sessionsCount\":\"maxChapter\"]\n",
    "    target = anonymousData[anonymousData[\"scoreafter\"] >= 0].loc[:,scientificQuestion].astype('int')\n",
    "\n",
    "    # Add polynomial features\n",
    "    secondDegreeFeatures = preprocessing.PolynomialFeatures(degree=2, interaction_only=False, include_bias=True)\n",
    "    features = secondDegreeFeatures.fit_transform(features)\n",
    "\n",
    "    # Center and scale data\n",
    "    features = preprocessing.scale(features)\n",
    "    \n",
    "    # Classify using extra tree classifiers, more random than random forest methods\n",
    "    clf = ExtraTreesClassifier(n_estimators=10, max_depth=None, min_samples_split=2, random_state=0, bootstrap=True)\n",
    "    scores = cross_val_score(clf, features, target, cv=5)\n",
    "    \n",
    "    # Display plot\n",
    "    fig, ax = plt.subplots()\n",
    "    boxplot(scores)\n",
    "    \n",
    "    return [scores.mean(), scores.std()]"
   ]
  },
  {
   "cell_type": "code",
   "execution_count": 175,
   "metadata": {},
   "outputs": [
    {
     "name": "stderr",
     "output_type": "stream",
     "text": [
      "/home/emma/anaconda3/lib/python3.6/site-packages/matplotlib/pyplot.py:523: RuntimeWarning: More than 20 figures have been opened. Figures created through the pyplot interface (`matplotlib.pyplot.figure`) are retained until explicitly closed and may consume too much memory. (To control this warning, see the rcParam `figure.max_open_warning`).\n",
      "  max_open_warning, RuntimeWarning)\n",
      "/home/emma/anaconda3/lib/python3.6/site-packages/matplotlib/pyplot.py:523: RuntimeWarning: More than 20 figures have been opened. Figures created through the pyplot interface (`matplotlib.pyplot.figure`) are retained until explicitly closed and may consume too much memory. (To control this warning, see the rcParam `figure.max_open_warning`).\n",
      "  max_open_warning, RuntimeWarning)\n",
      "/home/emma/anaconda3/lib/python3.6/site-packages/matplotlib/pyplot.py:523: RuntimeWarning: More than 20 figures have been opened. Figures created through the pyplot interface (`matplotlib.pyplot.figure`) are retained until explicitly closed and may consume too much memory. (To control this warning, see the rcParam `figure.max_open_warning`).\n",
      "  max_open_warning, RuntimeWarning)\n",
      "/home/emma/anaconda3/lib/python3.6/site-packages/matplotlib/pyplot.py:523: RuntimeWarning: More than 20 figures have been opened. Figures created through the pyplot interface (`matplotlib.pyplot.figure`) are retained until explicitly closed and may consume too much memory. (To control this warning, see the rcParam `figure.max_open_warning`).\n",
      "  max_open_warning, RuntimeWarning)\n",
      "/home/emma/anaconda3/lib/python3.6/site-packages/matplotlib/pyplot.py:523: RuntimeWarning: More than 20 figures have been opened. Figures created through the pyplot interface (`matplotlib.pyplot.figure`) are retained until explicitly closed and may consume too much memory. (To control this warning, see the rcParam `figure.max_open_warning`).\n",
      "  max_open_warning, RuntimeWarning)\n",
      "/home/emma/anaconda3/lib/python3.6/site-packages/sklearn/model_selection/_split.py:605: Warning: The least populated class in y has only 3 members, which is too few. The minimum number of members in any class cannot be less than n_splits=5.\n",
      "  % (min_groups, self.n_splits)), Warning)\n",
      "/home/emma/anaconda3/lib/python3.6/site-packages/matplotlib/pyplot.py:523: RuntimeWarning: More than 20 figures have been opened. Figures created through the pyplot interface (`matplotlib.pyplot.figure`) are retained until explicitly closed and may consume too much memory. (To control this warning, see the rcParam `figure.max_open_warning`).\n",
      "  max_open_warning, RuntimeWarning)\n",
      "/home/emma/anaconda3/lib/python3.6/site-packages/matplotlib/pyplot.py:523: RuntimeWarning: More than 20 figures have been opened. Figures created through the pyplot interface (`matplotlib.pyplot.figure`) are retained until explicitly closed and may consume too much memory. (To control this warning, see the rcParam `figure.max_open_warning`).\n",
      "  max_open_warning, RuntimeWarning)\n"
     ]
    },
    {
     "data": {
      "text/html": [
       "<div>\n",
       "<style>\n",
       "    .dataframe thead tr:only-child th {\n",
       "        text-align: right;\n",
       "    }\n",
       "\n",
       "    .dataframe thead th {\n",
       "        text-align: left;\n",
       "    }\n",
       "\n",
       "    .dataframe tbody tr th {\n",
       "        vertical-align: top;\n",
       "    }\n",
       "</style>\n",
       "<table border=\"1\" class=\"dataframe\">\n",
       "  <thead>\n",
       "    <tr style=\"text-align: right;\">\n",
       "      <th></th>\n",
       "      <th>Q1</th>\n",
       "      <th>Q2</th>\n",
       "      <th>Q3</th>\n",
       "      <th>Q4</th>\n",
       "      <th>Q5</th>\n",
       "      <th>Q6</th>\n",
       "      <th>Q7</th>\n",
       "      <th>Q8</th>\n",
       "      <th>Q9</th>\n",
       "      <th>Q10</th>\n",
       "      <th>...</th>\n",
       "      <th>Q18</th>\n",
       "      <th>Q19</th>\n",
       "      <th>Q20</th>\n",
       "      <th>Q21</th>\n",
       "      <th>Q22</th>\n",
       "      <th>Q23</th>\n",
       "      <th>Q24</th>\n",
       "      <th>Q25</th>\n",
       "      <th>Q26</th>\n",
       "      <th>Q27</th>\n",
       "    </tr>\n",
       "  </thead>\n",
       "  <tbody>\n",
       "    <tr>\n",
       "      <th>Mean</th>\n",
       "      <td>0.933333</td>\n",
       "      <td>0.767249</td>\n",
       "      <td>0.837995</td>\n",
       "      <td>0.589161</td>\n",
       "      <td>0.668298</td>\n",
       "      <td>0.563986</td>\n",
       "      <td>0.765967</td>\n",
       "      <td>0.685548</td>\n",
       "      <td>0.800000</td>\n",
       "      <td>0.850000</td>\n",
       "      <td>...</td>\n",
       "      <td>0.786946</td>\n",
       "      <td>0.916667</td>\n",
       "      <td>0.916667</td>\n",
       "      <td>0.933333</td>\n",
       "      <td>0.716667</td>\n",
       "      <td>0.499883</td>\n",
       "      <td>0.594872</td>\n",
       "      <td>0.723660</td>\n",
       "      <td>0.952564</td>\n",
       "      <td>0.916667</td>\n",
       "    </tr>\n",
       "    <tr>\n",
       "      <th>Var</th>\n",
       "      <td>0.033333</td>\n",
       "      <td>0.057002</td>\n",
       "      <td>0.062591</td>\n",
       "      <td>0.135103</td>\n",
       "      <td>0.141898</td>\n",
       "      <td>0.076982</td>\n",
       "      <td>0.063945</td>\n",
       "      <td>0.164329</td>\n",
       "      <td>0.113039</td>\n",
       "      <td>0.062361</td>\n",
       "      <td>...</td>\n",
       "      <td>0.149727</td>\n",
       "      <td>0.052705</td>\n",
       "      <td>0.000000</td>\n",
       "      <td>0.033333</td>\n",
       "      <td>0.171594</td>\n",
       "      <td>0.126439</td>\n",
       "      <td>0.086258</td>\n",
       "      <td>0.147496</td>\n",
       "      <td>0.038802</td>\n",
       "      <td>0.000000</td>\n",
       "    </tr>\n",
       "  </tbody>\n",
       "</table>\n",
       "<p>2 rows × 27 columns</p>\n",
       "</div>"
      ],
      "text/plain": [
       "            Q1        Q2        Q3        Q4        Q5        Q6        Q7  \\\n",
       "Mean  0.933333  0.767249  0.837995  0.589161  0.668298  0.563986  0.765967   \n",
       "Var   0.033333  0.057002  0.062591  0.135103  0.141898  0.076982  0.063945   \n",
       "\n",
       "            Q8        Q9       Q10    ...          Q18       Q19       Q20  \\\n",
       "Mean  0.685548  0.800000  0.850000    ...     0.786946  0.916667  0.916667   \n",
       "Var   0.164329  0.113039  0.062361    ...     0.149727  0.052705  0.000000   \n",
       "\n",
       "           Q21       Q22       Q23       Q24       Q25       Q26       Q27  \n",
       "Mean  0.933333  0.716667  0.499883  0.594872  0.723660  0.952564  0.916667  \n",
       "Var   0.033333  0.171594  0.126439  0.086258  0.147496  0.038802  0.000000  \n",
       "\n",
       "[2 rows x 27 columns]"
      ]
     },
     "execution_count": 175,
     "metadata": {},
     "output_type": "execute_result"
    },
    {
     "data": {
      "image/png": "[encoded data removed]",
      "text/plain": [
       "<matplotlib.figure.Figure at 0x7f39a0e87438>"
      ]
     },
     "metadata": {},
     "output_type": "display_data"
    },
    {
     "data": {
      "image/png": "[encoded data removed]",
      "text/plain": [
       "<matplotlib.figure.Figure at 0x7f39a7576a58>"
      ]
     },
     "metadata": {},
     "output_type": "display_data"
    },
    {
     "data": {
      "image/png": "[encoded data removed]",
      "text/plain": [
       "<matplotlib.figure.Figure at 0x7f39a64af940>"
      ]
     },
     "metadata": {},
     "output_type": "display_data"
    },
    {
     "data": {
      "image/png": "[encoded data removed]",
      "text/plain": [
       "<matplotlib.figure.Figure at 0x7f39a3f2ebe0>"
      ]
     },
     "metadata": {},
     "output_type": "display_data"
    },
    {
     "data": {
      "image/png": "[encoded data removed]",
      "text/plain": [
       "<matplotlib.figure.Figure at 0x7f39a7c2aa58>"
      ]
     },
     "metadata": {},
     "output_type": "display_data"
    },
    {
     "data": {
      "image/png": "[encoded data removed]",
      "text/plain": [
       "<matplotlib.figure.Figure at 0x7f3982953208>"
      ]
     },
     "metadata": {},
     "output_type": "display_data"
    },
    {
     "data": {
      "image/png": "[encoded data removed]",
      "text/plain": [
       "<matplotlib.figure.Figure at 0x7f39a08b32e8>"
      ]
     },
     "metadata": {},
     "output_type": "display_data"
    },
    {
     "data": {
      "image/png": "[encoded data removed]",
      "text/plain": [
       "<matplotlib.figure.Figure at 0x7f39a437fc50>"
      ]
     },
     "metadata": {},
     "output_type": "display_data"
    },
    {
     "data": {
      "image/png": "[encoded data removed]",
      "text/plain": [
       "<matplotlib.figure.Figure at 0x7f39a5a22940>"
      ]
     },
     "metadata": {},
     "output_type": "display_data"
    },
    {
     "data": {
      "image/png": "[encoded data removed]",
      "text/plain": [
       "<matplotlib.figure.Figure at 0x7f39b0ec3c18>"
      ]
     },
     "metadata": {},
     "output_type": "display_data"
    },
    {
     "data": {
      "image/png": "[encoded data removed]",
      "text/plain": [
       "<matplotlib.figure.Figure at 0x7f39941df080>"
      ]
     },
     "metadata": {},
     "output_type": "display_data"
    },
    {
     "data": {
      "image/png": "[encoded data removed]",
      "text/plain": [
       "<matplotlib.figure.Figure at 0x7f39a0a16c18>"
      ]
     },
     "metadata": {},
     "output_type": "display_data"
    },
    {
     "data": {
      "image/png": "[encoded data removed]",
      "text/plain": [
       "<matplotlib.figure.Figure at 0x7f39a3dd7b38>"
      ]
     },
     "metadata": {},
     "output_type": "display_data"
    },
    {
     "data": {
      "image/png": "[encoded data removed]",
      "text/plain": [
       "<matplotlib.figure.Figure at 0x7f39a37703c8>"
      ]
     },
     "metadata": {},
     "output_type": "display_data"
    },
    {
     "data": {
      "image/png": "[encoded data removed]",
      "text/plain": [
       "<matplotlib.figure.Figure at 0x7f39a3770e10>"
      ]
     },
     "metadata": {},
     "output_type": "display_data"
    },
    {
     "data": {
      "image/png": "[encoded data removed]",
      "text/plain": [
       "<matplotlib.figure.Figure at 0x7f39a17ee7b8>"
      ]
     },
     "metadata": {},
     "output_type": "display_data"
    },
    {
     "data": {
      "image/png": "[encoded data removed]",
      "text/plain": [
       "<matplotlib.figure.Figure at 0x7f39a3770358>"
      ]
     },
     "metadata": {},
     "output_type": "display_data"
    },
    {
     "data": {
      "image/png": "[encoded data removed]",
      "text/plain": [
       "<matplotlib.figure.Figure at 0x7f39a4a8d6d8>"
      ]
     },
     "metadata": {},
     "output_type": "display_data"
    },
    {
     "data": {
      "image/png": "[encoded data removed]",
      "text/plain": [
       "<matplotlib.figure.Figure at 0x7f3986005128>"
      ]
     },
     "metadata": {},
     "output_type": "display_data"
    },
    {
     "data": {
      "image/png": "[encoded data removed]",
      "text/plain": [
       "<matplotlib.figure.Figure at 0x7f39a37701d0>"
      ]
     },
     "metadata": {},
     "output_type": "display_data"
    },
    {
     "data": {
      "image/png": "[encoded data removed]",
      "text/plain": [
       "<matplotlib.figure.Figure at 0x7f39a1ff2dd8>"
      ]
     },
     "metadata": {},
     "output_type": "display_data"
    },
    {
     "data": {
      "image/png": "[encoded data removed]",
      "text/plain": [
       "<matplotlib.figure.Figure at 0x7f39a76de668>"
      ]
     },
     "metadata": {},
     "output_type": "display_data"
    },
    {
     "data": {
      "image/png": "[encoded data removed]",
      "text/plain": [
       "<matplotlib.figure.Figure at 0x7f39b86de0b8>"
      ]
     },
     "metadata": {},
     "output_type": "display_data"
    },
    {
     "data": {
      "image/png": "[encoded data removed]",
      "text/plain": [
       "<matplotlib.figure.Figure at 0x7f39a5594128>"
      ]
     },
     "metadata": {},
     "output_type": "display_data"
    },
    {
     "data": {
      "image/png": "[encoded data removed]",
      "text/plain": [
       "<matplotlib.figure.Figure at 0x7f39a5b996d8>"
      ]
     },
     "metadata": {},
     "output_type": "display_data"
    },
    {
     "data": {
      "image/png": "[encoded data removed]",
      "text/plain": [
       "<matplotlib.figure.Figure at 0x7f39b687f710>"
      ]
     },
     "metadata": {},
     "output_type": "display_data"
    },
    {
     "data": {
      "image/png": "[encoded data removed]",
      "text/plain": [
       "<matplotlib.figure.Figure at 0x7f39a5f124a8>"
      ]
     },
     "metadata": {},
     "output_type": "display_data"
    }
   ],
   "source": [
    "allScores = pd.DataFrame(index = [\"Mean\", \"Var\"])\n",
    "for questionNb in range(27):\n",
    "    questionTag = \"Q\" + str(questionNb + 1)\n",
    "    scores = tryClassification(gameAndCorrectedAfterDataClassif, questionTag)\n",
    "    allScores[questionTag] = scores\n",
    "allScores"
   ]
  },
  {
   "cell_type": "markdown",
   "metadata": {},
   "source": [
    "Conclusion: Redmetrics can be used to predict answers to certain scientific questions (30/01/2018)\n",
    "TODO Raphael: Check which questions you want additional analysis for"
   ]
  },
  {
   "cell_type": "markdown",
   "metadata": {},
   "source": [
    "## Can the game data be used to predict the performance on a sub-group of scientific questions?"
   ]
  },
  {
   "cell_type": "markdown",
   "metadata": {},
   "source": [
    "### Hard questions Q17-Q21-Q23-Q24"
   ]
  },
  {
   "cell_type": "code",
   "execution_count": 176,
   "metadata": {},
   "outputs": [
    {
     "data": {
      "text/plain": [
       "0.7352380952380952"
      ]
     },
     "execution_count": 176,
     "metadata": {},
     "output_type": "execute_result"
    },
    {
     "data": {
      "image/png": "[encoded data removed]",
      "text/plain": [
       "<matplotlib.figure.Figure at 0x7f39a52ccf60>"
      ]
     },
     "metadata": {},
     "output_type": "display_data"
    }
   ],
   "source": [
    "# Remove id\n",
    "anonymousData = gameAndCorrectedAfterDataClassif.drop(\"anonymousID\", axis = 1)\n",
    "\n",
    "# Get features and target\n",
    "features = pd.concat([anonymousData.loc[:,\"sessionsCount\":\"maxChapter\"], anonymousData.loc[:,\"gameInterest\":\"androidPlay\"]], axis=1)\n",
    "target = anonymousData.loc[:,[\"Q17\", \"Q21\", \"Q23\", \"Q24\"]].astype(int).sum(axis=1)\n",
    "target = target.apply(lambda x: 0 if x < 3 else 1)\n",
    "\n",
    "# Add polynomial features\n",
    "secondDegreeFeatures = preprocessing.PolynomialFeatures(degree=2, interaction_only=False, include_bias=True)\n",
    "features = secondDegreeFeatures.fit_transform(features)\n",
    "\n",
    "# Center and scale data\n",
    "features = preprocessing.scale(features)\n",
    "    \n",
    "# Classify using extra tree classifiers, more random than random forest methods\n",
    "clf = ExtraTreesClassifier(n_estimators=10, max_depth=None, min_samples_split=2, random_state=0, bootstrap=True)\n",
    "scores = cross_val_score(clf, features, target, cv=10)\n",
    "    \n",
    "# Display plot\n",
    "boxplot(scores)\n",
    "scores.mean()"
   ]
  },
  {
   "cell_type": "code",
   "execution_count": 177,
   "metadata": {},
   "outputs": [
    {
     "data": {
      "text/plain": [
       "0.7670426065162906"
      ]
     },
     "execution_count": 177,
     "metadata": {},
     "output_type": "execute_result"
    }
   ],
   "source": [
    "# Classify using random forests -accounts for the small size of the dataset and the categorical nature of the features, limit overfitting\n",
    "clf = RandomForestClassifier(n_estimators=10, max_depth=None, min_samples_split=2, random_state=0, bootstrap=True)\n",
    "scores = cross_val_score(clf, features, target)\n",
    "scores.mean()"
   ]
  },
  {
   "cell_type": "markdown",
   "metadata": {},
   "source": [
    "Conclusion: Low quality prediction (1/02/2018)"
   ]
  },
  {
   "cell_type": "markdown",
   "metadata": {},
   "source": [
    "### Biobrick symbol recognition Q3 -> Q10"
   ]
  },
  {
   "cell_type": "code",
   "execution_count": 178,
   "metadata": {},
   "outputs": [],
   "source": [
    "# Remove id\n",
    "anonymousData = gameAndCorrectedAfterDataClassif.drop(\"anonymousID\", axis = 1)\n",
    "\n",
    "# Get features and target\n",
    "# Only select rows where scoreafter is not negative\n",
    "features = pd.concat([anonymousData.loc[:,\"sessionsCount\":\"maxChapter\"], anonymousData.loc[:,\"gameInterest\":\"androidPlay\"]], axis=1)\n",
    "target = anonymousData.loc[:,\"Q3\":\"Q10\"].astype(int).sum(axis=1)\n",
    "\n",
    "# Add polynomial features\n",
    "secondDegreeFeatures = preprocessing.PolynomialFeatures(degree=2, interaction_only=False, include_bias=True)\n",
    "features = secondDegreeFeatures.fit_transform(features)\n",
    "\n",
    "# Center and scale data\n",
    "features = preprocessing.scale(features)"
   ]
  },
  {
   "cell_type": "code",
   "execution_count": 179,
   "metadata": {},
   "outputs": [
    {
     "data": {
      "text/plain": [
       "0.4730589943046143"
      ]
     },
     "execution_count": 179,
     "metadata": {},
     "output_type": "execute_result"
    },
    {
     "data": {
      "image/png": "[encoded data removed]",
      "text/plain": [
       "<matplotlib.figure.Figure at 0x7f39a44ddc18>"
      ]
     },
     "metadata": {},
     "output_type": "display_data"
    }
   ],
   "source": [
    "# Run Lasso regression with cross-validation\n",
    "model = Lasso()\n",
    "scores = cross_val_score(model, features, target, cv=10)\n",
    "boxplot(scores)\n",
    "scores.mean()"
   ]
  },
  {
   "cell_type": "markdown",
   "metadata": {},
   "source": [
    "Conclusion: No apparent possible prediction (1/02/2018)"
   ]
  },
  {
   "cell_type": "markdown",
   "metadata": {},
   "source": [
    "### Easy questions Q1->Q7-Q9-Q10-Q15-Q16-Q19-Q20"
   ]
  },
  {
   "cell_type": "code",
   "execution_count": 180,
   "metadata": {
    "collapsed": true
   },
   "outputs": [],
   "source": [
    "# Remove id\n",
    "anonymousData = gameAndCorrectedAfterDataClassif.drop(\"anonymousID\", axis = 1)\n",
    "\n",
    "# Get features and target\n",
    "features = pd.concat([anonymousData.loc[:,\"sessionsCount\":\"maxChapter\"], anonymousData.loc[:,\"gameInterest\":\"androidPlay\"]], axis=1)\n",
    "target = anonymousData.loc[:,[\"Q1\", \"Q2\", \"Q3\", \"Q4\", \"Q5\", \"Q6\", \"Q7\", \"Q9\", \"Q10\", \"Q15\", \"Q16\", \"Q19\", \"Q20\"]].astype(int).sum(axis=1)\n",
    "\n",
    "# Add polynomial features\n",
    "secondDegreeFeatures = preprocessing.PolynomialFeatures(degree=2, interaction_only=False, include_bias=True)\n",
    "features = secondDegreeFeatures.fit_transform(features)\n",
    "\n",
    "# Center and scale data\n",
    "features = preprocessing.scale(features)"
   ]
  },
  {
   "cell_type": "code",
   "execution_count": 181,
   "metadata": {},
   "outputs": [
    {
     "data": {
      "text/plain": [
       "0.6378100084330243"
      ]
     },
     "execution_count": 181,
     "metadata": {},
     "output_type": "execute_result"
    },
    {
     "data": {
      "image/png": "[encoded data removed]",
      "text/plain": [
       "<matplotlib.figure.Figure at 0x7f39a1b22a90>"
      ]
     },
     "metadata": {},
     "output_type": "display_data"
    }
   ],
   "source": [
    "# Run Lasso regression with cross-validation\n",
    "model = Lasso()\n",
    "scores = cross_val_score(model, features, target, cv=10)\n",
    "boxplot(scores)\n",
    "scores.mean()"
   ]
  },
  {
   "cell_type": "code",
   "execution_count": 182,
   "metadata": {},
   "outputs": [
    {
     "data": {
      "text/plain": [
       "(array([ 2.,  0.,  1.,  2.,  1.,  1.,  3.,  2.,  0.,  2.,  9., 10., 27.]),\n",
       " array([ 0,  1,  2,  3,  4,  5,  6,  7,  8,  9, 10, 11, 12, 13]),\n",
       " <a list of 13 Patch objects>)"
      ]
     },
     "execution_count": 182,
     "metadata": {},
     "output_type": "execute_result"
    },
    {
     "data": {
      "image/png": "[encoded data removed]",
      "text/plain": [
       "<matplotlib.figure.Figure at 0x7f39a5ef2208>"
      ]
     },
     "metadata": {},
     "output_type": "display_data"
    }
   ],
   "source": [
    "plt.hist(target, bins = range(14))"
   ]
  },
  {
   "cell_type": "markdown",
   "metadata": {},
   "source": [
    "Conclusion: Inconclusive (01/02/2018)"
   ]
  },
  {
   "cell_type": "markdown",
   "metadata": {},
   "source": [
    "## Can the completion time be predicted from questionnaire answers?"
   ]
  },
  {
   "cell_type": "markdown",
   "metadata": {},
   "source": [
    "### From the before questionnaire"
   ]
  },
  {
   "cell_type": "code",
   "execution_count": 183,
   "metadata": {},
   "outputs": [],
   "source": [
    "# Remove id\n",
    "anonymousData = gameAndCorrectedBeforeDataClassif.drop(\"anonymousID\", axis = 1)\n",
    "\n",
    "# Get features and target\n",
    "features = anonymousData.loc[:,\"gameInterest\":\"gender_Prefer not to say\"]\n",
    "target = anonymousData.loc[:,\"completionTime\"]\n",
    "\n",
    "# Add polynomial features\n",
    "secondDegreeFeatures = preprocessing.PolynomialFeatures(degree=2, interaction_only=False, include_bias=True)\n",
    "features = secondDegreeFeatures.fit_transform(features)\n",
    "\n",
    "# Center and scale data\n",
    "features = preprocessing.scale(features)"
   ]
  },
  {
   "cell_type": "code",
   "execution_count": 184,
   "metadata": {},
   "outputs": [
    {
     "name": "stderr",
     "output_type": "stream",
     "text": [
      "/home/emma/anaconda3/lib/python3.6/site-packages/sklearn/linear_model/coordinate_descent.py:491: ConvergenceWarning: Objective did not converge. You might want to increase the number of iterations. Fitting data with very small alpha may cause precision problems.\n",
      "  ConvergenceWarning)\n",
      "/home/emma/anaconda3/lib/python3.6/site-packages/sklearn/linear_model/coordinate_descent.py:491: ConvergenceWarning: Objective did not converge. You might want to increase the number of iterations. Fitting data with very small alpha may cause precision problems.\n",
      "  ConvergenceWarning)\n",
      "/home/emma/anaconda3/lib/python3.6/site-packages/sklearn/linear_model/coordinate_descent.py:491: ConvergenceWarning: Objective did not converge. You might want to increase the number of iterations. Fitting data with very small alpha may cause precision problems.\n",
      "  ConvergenceWarning)\n",
      "/home/emma/anaconda3/lib/python3.6/site-packages/sklearn/linear_model/coordinate_descent.py:491: ConvergenceWarning: Objective did not converge. You might want to increase the number of iterations. Fitting data with very small alpha may cause precision problems.\n",
      "  ConvergenceWarning)\n",
      "/home/emma/anaconda3/lib/python3.6/site-packages/sklearn/linear_model/coordinate_descent.py:491: ConvergenceWarning: Objective did not converge. You might want to increase the number of iterations. Fitting data with very small alpha may cause precision problems.\n",
      "  ConvergenceWarning)\n",
      "/home/emma/anaconda3/lib/python3.6/site-packages/sklearn/linear_model/coordinate_descent.py:491: ConvergenceWarning: Objective did not converge. You might want to increase the number of iterations. Fitting data with very small alpha may cause precision problems.\n",
      "  ConvergenceWarning)\n",
      "/home/emma/anaconda3/lib/python3.6/site-packages/sklearn/linear_model/coordinate_descent.py:491: ConvergenceWarning: Objective did not converge. You might want to increase the number of iterations. Fitting data with very small alpha may cause precision problems.\n",
      "  ConvergenceWarning)\n",
      "/home/emma/anaconda3/lib/python3.6/site-packages/sklearn/linear_model/coordinate_descent.py:491: ConvergenceWarning: Objective did not converge. You might want to increase the number of iterations. Fitting data with very small alpha may cause precision problems.\n",
      "  ConvergenceWarning)\n",
      "/home/emma/anaconda3/lib/python3.6/site-packages/sklearn/linear_model/coordinate_descent.py:491: ConvergenceWarning: Objective did not converge. You might want to increase the number of iterations. Fitting data with very small alpha may cause precision problems.\n",
      "  ConvergenceWarning)\n"
     ]
    },
    {
     "data": {
      "text/plain": [
       "-84.41743388693787"
      ]
     },
     "execution_count": 184,
     "metadata": {},
     "output_type": "execute_result"
    },
    {
     "data": {
      "image/png": "[encoded data removed]",
      "text/plain": [
       "<matplotlib.figure.Figure at 0x7f39a1b22400>"
      ]
     },
     "metadata": {},
     "output_type": "display_data"
    }
   ],
   "source": [
    "# Run Lasso regression with cross-validation\n",
    "model = Lasso()\n",
    "scores = cross_val_score(model, features, target, cv=10)\n",
    "boxplot(scores)\n",
    "scores.mean()"
   ]
  },
  {
   "cell_type": "code",
   "execution_count": 185,
   "metadata": {},
   "outputs": [
    {
     "data": {
      "text/plain": [
       "0.6752747252747253"
      ]
     },
     "execution_count": 185,
     "metadata": {},
     "output_type": "execute_result"
    },
    {
     "data": {
      "image/png": "[encoded data removed]",
      "text/plain": [
       "<matplotlib.figure.Figure at 0x7f39a6e70b70>"
      ]
     },
     "metadata": {},
     "output_type": "display_data"
    }
   ],
   "source": [
    "# Try classification\n",
    "target = target.apply(lambda x: 0 if x < 10000 else 1) #0 if short, 1 if long\n",
    "\n",
    "# Classify using extra tree classifiers, more random than random forest methods\n",
    "clf = ExtraTreesClassifier(n_estimators=10, max_depth=None, min_samples_split=2, random_state=0, bootstrap=True)\n",
    "scores = cross_val_score(clf, features, target, cv=10)\n",
    "    \n",
    "# Display plot\n",
    "boxplot(scores)\n",
    "scores.mean()"
   ]
  },
  {
   "cell_type": "markdown",
   "metadata": {},
   "source": [
    "Conclusion: No (01/02/2018)"
   ]
  },
  {
   "cell_type": "markdown",
   "metadata": {},
   "source": [
    "### From the after questionnaire"
   ]
  },
  {
   "cell_type": "code",
   "execution_count": 197,
   "metadata": {
    "collapsed": true
   },
   "outputs": [],
   "source": [
    "# Remove id\n",
    "anonymousData = gameAndCorrectedAfterDataClassif.drop(\"anonymousID\", axis = 1)\n",
    "\n",
    "# Get features and target\n",
    "features = anonymousData.loc[:,\"gameInterest\":\"gender_Prefer not to say\"]\n",
    "target = anonymousData.loc[:,\"completionTime\"]\n",
    "\n",
    "# Add polynomial features\n",
    "secondDegreeFeatures = preprocessing.PolynomialFeatures(degree=2, interaction_only=False, include_bias=True)\n",
    "features = secondDegreeFeatures.fit_transform(features)\n",
    "\n",
    "# Center and scale data\n",
    "features = preprocessing.scale(features)"
   ]
  },
  {
   "cell_type": "code",
   "execution_count": 198,
   "metadata": {},
   "outputs": [
    {
     "data": {
      "text/plain": [
       "-10.437875580600997"
      ]
     },
     "execution_count": 198,
     "metadata": {},
     "output_type": "execute_result"
    },
    {
     "data": {
      "image/png": "[encoded data removed]",
      "text/plain": [
       "<matplotlib.figure.Figure at 0x7f39a20b3e80>"
      ]
     },
     "metadata": {},
     "output_type": "display_data"
    }
   ],
   "source": [
    "# Run Lasso regression with cross-validation\n",
    "model = Lasso()\n",
    "scores = cross_val_score(model, features, target, cv=10)\n",
    "boxplot(scores)\n",
    "scores.mean()"
   ]
  },
  {
   "cell_type": "code",
   "execution_count": 199,
   "metadata": {},
   "outputs": [
    {
     "data": {
      "text/plain": [
       "0.6747619047619048"
      ]
     },
     "execution_count": 199,
     "metadata": {},
     "output_type": "execute_result"
    },
    {
     "data": {
      "image/png": "[encoded data removed]",
      "text/plain": [
       "<matplotlib.figure.Figure at 0x7f39a73d1b70>"
      ]
     },
     "metadata": {},
     "output_type": "display_data"
    }
   ],
   "source": [
    "# Try classification\n",
    "target = target.apply(lambda x: 0 if x < 10000 else 1) #0 if short, 1 if long\n",
    "\n",
    "# Classify using extra tree classifiers, more random than random forest methods\n",
    "clf = ExtraTreesClassifier(n_estimators=10, max_depth=None, min_samples_split=2, random_state=0, bootstrap=True)\n",
    "scores = cross_val_score(clf, features, target, cv=10)\n",
    "    \n",
    "# Display plot\n",
    "boxplot(scores)\n",
    "scores.mean()"
   ]
  },
  {
   "cell_type": "markdown",
   "metadata": {},
   "source": [
    "Conclusion: No (01/02/2018)"
   ]
  },
  {
   "cell_type": "code",
   "execution_count": null,
   "metadata": {},
   "outputs": [],
   "source": [
    "\n"
   ]
  },
  {
   "cell_type": "code",
   "execution_count": null,
   "metadata": {
    "collapsed": true
   },
   "outputs": [],
   "source": []
  }
 ],
 "metadata": {
  "kernelspec": {
   "display_name": "Python 3",
   "language": "python",
   "name": "python3"
  },
  "language_info": {
   "codemirror_mode": {
    "name": "ipython",
    "version": 3
   },
   "file_extension": ".py",
   "mimetype": "text/x-python",
   "name": "python",
   "nbconvert_exporter": "python",
   "pygments_lexer": "ipython3",
   "version": "3.6.3"
  }
 },
 "nbformat": 4,
 "nbformat_minor": 2
}
