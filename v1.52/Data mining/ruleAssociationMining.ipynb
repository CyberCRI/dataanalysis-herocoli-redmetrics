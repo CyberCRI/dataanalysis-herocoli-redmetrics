{
 "cells": [
  {
   "cell_type": "code",
   "execution_count": 1,
   "metadata": {
    "collapsed": false
   },
   "outputs": [
    {
     "name": "stderr",
     "output_type": "stream",
     "text": [
      "C:\\Users\\Mikael\\Anaconda3\\lib\\site-packages\\IPython\\core\\interactiveshell.py:2902: DtypeWarning: Columns (18,21,22,28,32,38) have mixed types. Specify dtype option on import or set low_memory=False.\n",
      "  interactivity=interactivity, compiler=compiler, result=result)\n",
      "C:\\Users\\Mikael\\Anaconda3\\lib\\site-packages\\IPython\\core\\interactiveshell.py:2902: DtypeWarning: Columns (14,15,16,17,18,20,21,22,25,26,27,30,33,34,35,36,37,38,39,40,41,42,43) have mixed types. Specify dtype option on import or set low_memory=False.\n",
      "  interactivity=interactivity, compiler=compiler, result=result)\n",
      "C:\\Users\\Mikael\\Anaconda3\\lib\\site-packages\\IPython\\core\\interactiveshell.py:2902: DtypeWarning: Columns (18,21,22,28,32,38) have mixed types. Specify dtype option on import or set low_memory=False.\n",
      "  interactivity=interactivity, compiler=compiler, result=result)\n",
      "C:\\Users\\Mikael\\Anaconda3\\lib\\site-packages\\IPython\\core\\interactiveshell.py:2902: DtypeWarning: Columns (14,15,16,17,18,20,21,22,25,26,27,30,33,34,35,36,37,38,39,40,41,42,43) have mixed types. Specify dtype option on import or set low_memory=False.\n",
      "  interactivity=interactivity, compiler=compiler, result=result)\n"
     ]
    }
   ],
   "source": [
    "%run dataFormating.ipynb"
   ]
  },
  {
   "cell_type": "markdown",
   "metadata": {},
   "source": [
    "# What subsets of scientific questions tend to be answered correctly by the same subjects?"
   ]
  },
  {
   "cell_type": "markdown",
   "metadata": {},
   "source": [
    "## Mining"
   ]
  },
  {
   "cell_type": "code",
   "execution_count": 6,
   "metadata": {
    "collapsed": true
   },
   "outputs": [],
   "source": [
    "from orangecontrib.associate.fpgrowth import *  \n",
    "import pandas as pd\n",
    "from numpy import *"
   ]
  },
  {
   "cell_type": "code",
   "execution_count": 18,
   "metadata": {
    "collapsed": false
   },
   "outputs": [
    {
     "data": {
      "text/plain": [
       "[(frozenset({0}), 59),\n",
       " (frozenset({18}), 52),\n",
       " (frozenset({0, 18}), 47),\n",
       " (frozenset({14}), 44),\n",
       " (frozenset({0, 14}), 40)]"
      ]
     },
     "execution_count": 18,
     "metadata": {},
     "output_type": "execute_result"
    }
   ],
   "source": [
    "itemsets = frequent_itemsets(array(correctedScientific), 10)\n",
    "list(itemsets)[:5]"
   ]
  },
  {
   "cell_type": "code",
   "execution_count": 15,
   "metadata": {
    "collapsed": false
   },
   "outputs": [
    {
     "data": {
      "text/plain": [
       "0"
      ]
     },
     "execution_count": 15,
     "metadata": {},
     "output_type": "execute_result"
    }
   ],
   "source": [
    "rules = association_rules(dict(itemsets), .8)\n",
    "rules = list(rules)\n",
    "len(rules)"
   ]
  },
  {
   "cell_type": "code",
   "execution_count": null,
   "metadata": {
    "collapsed": true
   },
   "outputs": [],
   "source": [
    "import pandas as pd\n",
    "from mlxtend.frequent_patterns import apriori\n",
    "from mlxtend.frequent_patterns import association_rules"
   ]
  },
  {
   "cell_type": "code",
   "execution_count": null,
   "metadata": {
    "collapsed": false
   },
   "outputs": [],
   "source": [
    "# Get frequent itemsets with support > 5%\n",
    "# run time < 15 min\n",
    "partial = correctedScientific.iloc[:, 0:18] #For now can only compute the rules for 18 questions\n",
    "frequent_itemsets = apriori(partial, min_support=0.25, use_colnames=True)\n",
    "frequent_itemsets.shape\n",
    "#frequent_itemsets"
   ]
  },
  {
   "cell_type": "code",
   "execution_count": null,
   "metadata": {
    "collapsed": false
   },
   "outputs": [],
   "source": [
    "# Generate rules according to confidence\n",
    "# < run time < \n",
    "rules = association_rules(frequent_itemsets, metric=\"confidence\", min_threshold=0.9)\n",
    "rules.head()"
   ]
  },
  {
   "cell_type": "code",
   "execution_count": null,
   "metadata": {
    "collapsed": true
   },
   "outputs": [],
   "source": [
    "# Save the mined rules to file\n",
    "#rules.to_csv(\"results/associationRulesMiningSupport25percentsConfidence90percents.csv\")"
   ]
  },
  {
   "cell_type": "markdown",
   "metadata": {
    "collapsed": true
   },
   "source": [
    "## Search for interesting rules\n",
    "Interesting rules are more likely to be the ones with highest confidence, the highest lift or with a bigger consequent set. Pairs can also be especially interesting"
   ]
  },
  {
   "cell_type": "code",
   "execution_count": null,
   "metadata": {
    "collapsed": false
   },
   "outputs": [],
   "source": [
    "# Sort rules by confidence and lift\n",
    "confidenceSortedRules = rules.sort_values(by = [\"confidence\", \"lift\"], ascending=[False, False])\n",
    "confidenceSortedRules.head(50)"
   ]
  },
  {
   "cell_type": "code",
   "execution_count": null,
   "metadata": {
    "collapsed": false
   },
   "outputs": [],
   "source": [
    "# Sort rules by size of consequent set\n",
    "rules[\"consequentSize\"] = rules[\"consequents\"].apply(lambda x: len(x))\n",
    "consequentSortedRules = rules.sort_values(by = [\"consequentSize\", \"confidence\", \"lift\"], ascending=[False, False, False])\n",
    "consequentSortedRules.head(50)"
   ]
  },
  {
   "cell_type": "code",
   "execution_count": null,
   "metadata": {
    "collapsed": false
   },
   "outputs": [],
   "source": [
    "# Select only pairs (rules with antecedent and consequent of size one)\n",
    "# Sort pairs according to confidence\n",
    "rules[\"fusedRule\"] = rules[[\"antecedants\", \"consequents\"]].apply(lambda x: frozenset().union(*x), axis=1)\n",
    "rules[\"ruleSize\"] = rules[\"fusedRule\"].apply(lambda x: len(x))\n",
    "pairRules = rules.sort_values(by=[\"ruleSize\", \"confidence\", \"lift\"], ascending=[True, False, False])\n",
    "pairRules.head(30)"
   ]
  },
  {
   "cell_type": "code",
   "execution_count": null,
   "metadata": {
    "collapsed": false
   },
   "outputs": [],
   "source": [
    "# Sort questions by number of apparition in consequents\n",
    "questions = list(correctedScientific.columns)\n",
    "for q in questions:\n",
    "    rules[q+\"c\"] = rules[\"consequents\"].apply(lambda x: 1 if q in x else 0)\n",
    "occurenceInConsequents = rules.loc[:,\"Q1c\":\"Q27c\"].sum(axis=0)\n",
    "occurenceInConsequents"
   ]
  },
  {
   "cell_type": "code",
   "execution_count": null,
   "metadata": {
    "collapsed": false
   },
   "outputs": [],
   "source": [
    "# Sort questions by number of apparition in antecedants\n",
    "for q in questions:\n",
    "    rules[q+\"a\"] = rules[\"antecedants\"].apply(lambda x: 1 if q in x else 0)\n",
    "occurenceInAntecedants = rules.loc[:,\"Q1a\":\"Q27a\"].sum(axis=0)\n",
    "occurenceInAntecedants"
   ]
  },
  {
   "cell_type": "code",
   "execution_count": null,
   "metadata": {
    "collapsed": true
   },
   "outputs": [],
   "source": []
  },
  {
   "cell_type": "code",
   "execution_count": null,
   "metadata": {
    "collapsed": true
   },
   "outputs": [],
   "source": []
  }
 ],
 "metadata": {
  "kernelspec": {
   "display_name": "Python 3",
   "language": "python",
   "name": "python3"
  },
  "language_info": {
   "codemirror_mode": {
    "name": "ipython",
    "version": 3
   },
   "file_extension": ".py",
   "mimetype": "text/x-python",
   "name": "python",
   "nbconvert_exporter": "python",
   "pygments_lexer": "ipython3",
   "version": "3.5.4"
  }
 },
 "nbformat": 4,
 "nbformat_minor": 2
}
