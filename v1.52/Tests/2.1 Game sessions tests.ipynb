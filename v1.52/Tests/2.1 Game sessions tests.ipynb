{
 "cells": [
  {
   "cell_type": "markdown",
   "metadata": {},
   "source": [
    "# Preparation"
   ]
  },
  {
   "cell_type": "code",
   "execution_count": 15,
   "metadata": {
    "collapsed": false
   },
   "outputs": [
    {
     "name": "stderr",
     "output_type": "stream",
     "text": [
      "C:\\Users\\Mikael\\Anaconda3\\lib\\site-packages\\IPython\\core\\interactiveshell.py:2902: DtypeWarning: Columns (24,32,34) have mixed types. Specify dtype option on import or set low_memory=False.\n",
      "  interactivity=interactivity, compiler=compiler, result=result)\n"
     ]
    }
   ],
   "source": [
    "%run \"../Functions/2. Game sessions.ipynb\""
   ]
  },
  {
   "cell_type": "markdown",
   "metadata": {},
   "source": [
    "# Tests"
   ]
  },
  {
   "cell_type": "code",
   "execution_count": 16,
   "metadata": {
    "collapsed": false,
    "scrolled": false
   },
   "outputs": [
    {
     "data": {
      "text/plain": [
       "2997"
      ]
     },
     "execution_count": 16,
     "metadata": {},
     "output_type": "execute_result"
    }
   ],
   "source": [
    "sessionscount = rdf[\"sessionId\"].nunique()\n",
    "sessionscount"
   ]
  },
  {
   "cell_type": "code",
   "execution_count": 17,
   "metadata": {
    "collapsed": false
   },
   "outputs": [
    {
     "data": {
      "text/plain": [
       "array([nan, '\"windowseditor\"', '\"windowswebplayer\"', '\"osxwebplayer\"',\n",
       "       '\"osxeditor\"', '\"webglplayer\"', '\"osxplayer\"', '\"windowsplayer\"',\n",
       "       '\"android\"', '\"linuxplayer\"'], dtype=object)"
      ]
     },
     "execution_count": 17,
     "metadata": {},
     "output_type": "execute_result"
    }
   ],
   "source": [
    "platforms = rdf[\"customData.platform\"].unique()\n",
    "platforms"
   ]
  },
  {
   "cell_type": "markdown",
   "metadata": {},
   "source": [
    "print(\"part100=\"+str(part100.head(1)))\n",
    "print(\"part131=\"+str(part131.head(1)))\n",
    "print(\"part132=\"+str(part132.head(1)))\n",
    "print(\"part133=\"+str(part133.head(1)))\n",
    "print(\"part140=\"+str(part140.head(1)))\n",
    "print(\"part150=\"+str(part150.head(1)))\n",
    "print(\"part151=\"+str(part151.head(1)))\n",
    "print(\"part152=\"+str(part152.head(1)))\n",
    "print(\"df=\"+str(df.head(1)))"
   ]
  },
  {
   "cell_type": "code",
   "execution_count": 18,
   "metadata": {
    "collapsed": true
   },
   "outputs": [],
   "source": [
    "testGUID = '\"0bb50c7b-d9c4-466d-b906-84e46896f41d\"'"
   ]
  },
  {
   "cell_type": "code",
   "execution_count": 19,
   "metadata": {
    "collapsed": false
   },
   "outputs": [
    {
     "data": {
      "text/plain": [
       "5"
      ]
     },
     "execution_count": 19,
     "metadata": {},
     "output_type": "execute_result"
    }
   ],
   "source": [
    "# includewithoutusers=True will count sessions that do not have any userId attached\n",
    "countSessions( rdf, testGUID, True)"
   ]
  },
  {
   "cell_type": "markdown",
   "metadata": {},
   "source": [
    "print(\"part100=\"+str(part100.columns))\n",
    "print(\"part131=\"+str(part131.columns))\n",
    "print(\"part132=\"+str(part132.columns))\n",
    "print(\"part133=\"+str(part133.columns))\n",
    "print(\"part140=\"+str(part140.columns))\n",
    "print(\"part150=\"+str(part150.columns))\n",
    "print(\"part151=\"+str(part151.columns))\n",
    "print(\"part152=\"+str(part152.columns))\n",
    "\n",
    "print(\"dfconcat=\"+str(dfconcat.columns))\n",
    "\n",
    "print(\"df=\"+str(df.columns))"
   ]
  },
  {
   "cell_type": "markdown",
   "metadata": {},
   "source": [
    "df.columns"
   ]
  },
  {
   "cell_type": "code",
   "execution_count": 20,
   "metadata": {
    "collapsed": false,
    "scrolled": false
   },
   "outputs": [
    {
     "data": {
      "text/html": [
       "<div>\n",
       "<style>\n",
       "    .dataframe thead tr:only-child th {\n",
       "        text-align: right;\n",
       "    }\n",
       "\n",
       "    .dataframe thead th {\n",
       "        text-align: left;\n",
       "    }\n",
       "\n",
       "    .dataframe tbody tr th {\n",
       "        vertical-align: top;\n",
       "    }\n",
       "</style>\n",
       "<table border=\"1\" class=\"dataframe\">\n",
       "  <thead>\n",
       "    <tr style=\"text-align: right;\">\n",
       "      <th></th>\n",
       "      <th>userId</th>\n",
       "      <th>sessionId</th>\n",
       "    </tr>\n",
       "  </thead>\n",
       "  <tbody>\n",
       "    <tr>\n",
       "      <th>2837</th>\n",
       "      <td>\"0bb50c7b-d9c4-466d-b906-84e46896f41d\"</td>\n",
       "      <td>78353b53-1083-452a-bcd6-6d5ae7b81e1e</td>\n",
       "    </tr>\n",
       "    <tr>\n",
       "      <th>2838</th>\n",
       "      <td>\"0bb50c7b-d9c4-466d-b906-84e46896f41d\"</td>\n",
       "      <td>e7c44e50-daeb-4755-8432-c7d337f5c8e8</td>\n",
       "    </tr>\n",
       "    <tr>\n",
       "      <th>2841</th>\n",
       "      <td>\"0bb50c7b-d9c4-466d-b906-84e46896f41d\"</td>\n",
       "      <td>7195155f-8db4-4f8b-b586-9ed67d5fcb56</td>\n",
       "    </tr>\n",
       "    <tr>\n",
       "      <th>2843</th>\n",
       "      <td>\"0bb50c7b-d9c4-466d-b906-84e46896f41d\"</td>\n",
       "      <td>58bf9eed-be24-4128-881b-aec23f6a34b3</td>\n",
       "    </tr>\n",
       "    <tr>\n",
       "      <th>2857</th>\n",
       "      <td>\"0bb50c7b-d9c4-466d-b906-84e46896f41d\"</td>\n",
       "      <td>7e75b052-ed53-4b08-a1f8-83404e9f4870</td>\n",
       "    </tr>\n",
       "  </tbody>\n",
       "</table>\n",
       "</div>"
      ],
      "text/plain": [
       "                                      userId  \\\n",
       "2837  \"0bb50c7b-d9c4-466d-b906-84e46896f41d\"   \n",
       "2838  \"0bb50c7b-d9c4-466d-b906-84e46896f41d\"   \n",
       "2841  \"0bb50c7b-d9c4-466d-b906-84e46896f41d\"   \n",
       "2843  \"0bb50c7b-d9c4-466d-b906-84e46896f41d\"   \n",
       "2857  \"0bb50c7b-d9c4-466d-b906-84e46896f41d\"   \n",
       "\n",
       "                                 sessionId  \n",
       "2837  78353b53-1083-452a-bcd6-6d5ae7b81e1e  \n",
       "2838  e7c44e50-daeb-4755-8432-c7d337f5c8e8  \n",
       "2841  7195155f-8db4-4f8b-b586-9ed67d5fcb56  \n",
       "2843  58bf9eed-be24-4128-881b-aec23f6a34b3  \n",
       "2857  7e75b052-ed53-4b08-a1f8-83404e9f4870  "
      ]
     },
     "execution_count": 20,
     "metadata": {},
     "output_type": "execute_result"
    }
   ],
   "source": [
    "sessionsList = getAllSessionsOfUser(rdf, testGUID, True)\n",
    "sessionsList"
   ]
  },
  {
   "cell_type": "code",
   "execution_count": 21,
   "metadata": {
    "collapsed": false,
    "scrolled": true
   },
   "outputs": [
    {
     "data": {
      "text/html": [
       "<div>\n",
       "<style>\n",
       "    .dataframe thead tr:only-child th {\n",
       "        text-align: right;\n",
       "    }\n",
       "\n",
       "    .dataframe thead th {\n",
       "        text-align: left;\n",
       "    }\n",
       "\n",
       "    .dataframe tbody tr th {\n",
       "        vertical-align: top;\n",
       "    }\n",
       "</style>\n",
       "<table border=\"1\" class=\"dataframe\">\n",
       "  <thead>\n",
       "    <tr style=\"text-align: right;\">\n",
       "      <th></th>\n",
       "      <th>coordinates</th>\n",
       "      <th>customData</th>\n",
       "      <th>customData.biobrick</th>\n",
       "      <th>customData.chapter</th>\n",
       "      <th>customData.controls</th>\n",
       "      <th>customData.count</th>\n",
       "      <th>customData.device</th>\n",
       "      <th>customData.devices</th>\n",
       "      <th>customData.dnabit</th>\n",
       "      <th>customData.duration</th>\n",
       "      <th>...</th>\n",
       "      <th>playerBirthdate</th>\n",
       "      <th>playerCountry</th>\n",
       "      <th>playerCustomData</th>\n",
       "      <th>playerExternalId</th>\n",
       "      <th>playerGender</th>\n",
       "      <th>sessionId</th>\n",
       "      <th>playerRegion</th>\n",
       "      <th>section</th>\n",
       "      <th>serverTime</th>\n",
       "      <th>userTime</th>\n",
       "    </tr>\n",
       "  </thead>\n",
       "  <tbody>\n",
       "  </tbody>\n",
       "</table>\n",
       "<p>0 rows × 39 columns</p>\n",
       "</div>"
      ],
      "text/plain": [
       "Empty DataFrame\n",
       "Columns: [coordinates, customData, customData.biobrick, customData.chapter, customData.controls, customData.count, customData.device, customData.devices, customData.dnabit, customData.duration, customData.energy, customData.gamelevel, customData.graphics, customData.language, customData.life, userId, customData.message, customData.nanobot, customData.newtab, customData.option, customData.plasmid, customData.platform, customData.sametab, customData.slot, customData.sound, customData.source, customData.total, gameVersion, id, playerBirthdate, playerCountry, playerCustomData, playerExternalId, playerGender, sessionId, playerRegion, section, serverTime, userTime]\n",
       "Index: []\n",
       "\n",
       "[0 rows x 39 columns]"
      ]
     },
     "execution_count": 21,
     "metadata": {},
     "output_type": "execute_result"
    }
   ],
   "source": [
    "sessionsList = rdf[rdf['type']=='start']\n",
    "sessionsList = sessionsList.drop('type', 1)\n",
    "sessionsList = sessionsList.dropna(how='any')\n",
    "userSessionsList = sessionsList[sessionsList['userId']==testGUID]\n",
    "userSessionsList"
   ]
  },
  {
   "cell_type": "code",
   "execution_count": 22,
   "metadata": {
    "collapsed": false
   },
   "outputs": [
    {
     "data": {
      "text/plain": [
       "2349"
      ]
     },
     "execution_count": 22,
     "metadata": {},
     "output_type": "execute_result"
    }
   ],
   "source": [
    "#print(testGUID)\n",
    "sessionsList = getAllSessions(df, testGUID)\n",
    "#sessionsList = getAllSessions(df, testGUID.replace('\"',''))\n",
    "#print(type(sessionsList))\n",
    "sessionsList.shape[0]"
   ]
  },
  {
   "cell_type": "code",
   "execution_count": 23,
   "metadata": {
    "collapsed": false
   },
   "outputs": [],
   "source": [
    "test = devPCID5.replace('\"','')\n",
    "#print(test)\n",
    "#print(devPCID5)"
   ]
  },
  {
   "cell_type": "code",
   "execution_count": 24,
   "metadata": {
    "collapsed": false
   },
   "outputs": [
    {
     "data": {
      "text/html": [
       "<div>\n",
       "<style>\n",
       "    .dataframe thead tr:only-child th {\n",
       "        text-align: right;\n",
       "    }\n",
       "\n",
       "    .dataframe thead th {\n",
       "        text-align: left;\n",
       "    }\n",
       "\n",
       "    .dataframe tbody tr th {\n",
       "        vertical-align: top;\n",
       "    }\n",
       "</style>\n",
       "<table border=\"1\" class=\"dataframe\">\n",
       "  <thead>\n",
       "    <tr style=\"text-align: right;\">\n",
       "      <th></th>\n",
       "      <th>userId</th>\n",
       "      <th>sessionId</th>\n",
       "    </tr>\n",
       "  </thead>\n",
       "  <tbody>\n",
       "    <tr>\n",
       "      <th>2833</th>\n",
       "      <td>\"bcdc67e1-11a7-4a52-9ddf-735a60bcea63\"</td>\n",
       "      <td>155ebc22-ccad-4f44-a619-4cc2496a88ba</td>\n",
       "    </tr>\n",
       "    <tr>\n",
       "      <th>2834</th>\n",
       "      <td>\"d01f5d57-c5fb-42a2-bb35-432c61277f46\"</td>\n",
       "      <td>a4d4df1d-1394-423b-aa3f-ad0bcc86110f</td>\n",
       "    </tr>\n",
       "    <tr>\n",
       "      <th>2837</th>\n",
       "      <td>\"0bb50c7b-d9c4-466d-b906-84e46896f41d\"</td>\n",
       "      <td>78353b53-1083-452a-bcd6-6d5ae7b81e1e</td>\n",
       "    </tr>\n",
       "    <tr>\n",
       "      <th>2838</th>\n",
       "      <td>\"0bb50c7b-d9c4-466d-b906-84e46896f41d\"</td>\n",
       "      <td>e7c44e50-daeb-4755-8432-c7d337f5c8e8</td>\n",
       "    </tr>\n",
       "    <tr>\n",
       "      <th>2841</th>\n",
       "      <td>\"0bb50c7b-d9c4-466d-b906-84e46896f41d\"</td>\n",
       "      <td>7195155f-8db4-4f8b-b586-9ed67d5fcb56</td>\n",
       "    </tr>\n",
       "  </tbody>\n",
       "</table>\n",
       "</div>"
      ],
      "text/plain": [
       "                                      userId  \\\n",
       "2833  \"bcdc67e1-11a7-4a52-9ddf-735a60bcea63\"   \n",
       "2834  \"d01f5d57-c5fb-42a2-bb35-432c61277f46\"   \n",
       "2837  \"0bb50c7b-d9c4-466d-b906-84e46896f41d\"   \n",
       "2838  \"0bb50c7b-d9c4-466d-b906-84e46896f41d\"   \n",
       "2841  \"0bb50c7b-d9c4-466d-b906-84e46896f41d\"   \n",
       "\n",
       "                                 sessionId  \n",
       "2833  155ebc22-ccad-4f44-a619-4cc2496a88ba  \n",
       "2834  a4d4df1d-1394-423b-aa3f-ad0bcc86110f  \n",
       "2837  78353b53-1083-452a-bcd6-6d5ae7b81e1e  \n",
       "2838  e7c44e50-daeb-4755-8432-c7d337f5c8e8  \n",
       "2841  7195155f-8db4-4f8b-b586-9ed67d5fcb56  "
      ]
     },
     "execution_count": 24,
     "metadata": {},
     "output_type": "execute_result"
    }
   ],
   "source": [
    "allSessions = getAllSessions( df, True )\n",
    "allSessions.head()"
   ]
  },
  {
   "cell_type": "code",
   "execution_count": 25,
   "metadata": {
    "collapsed": false
   },
   "outputs": [
    {
     "data": {
      "text/html": [
       "<div>\n",
       "<style>\n",
       "    .dataframe thead tr:only-child th {\n",
       "        text-align: right;\n",
       "    }\n",
       "\n",
       "    .dataframe thead th {\n",
       "        text-align: left;\n",
       "    }\n",
       "\n",
       "    .dataframe tbody tr th {\n",
       "        vertical-align: top;\n",
       "    }\n",
       "</style>\n",
       "<table border=\"1\" class=\"dataframe\">\n",
       "  <thead>\n",
       "    <tr style=\"text-align: right;\">\n",
       "      <th></th>\n",
       "      <th>userId</th>\n",
       "      <th>counts</th>\n",
       "    </tr>\n",
       "  </thead>\n",
       "  <tbody>\n",
       "    <tr>\n",
       "      <th>917</th>\n",
       "      <td>\"a8ba2b83-c911-489c-98be-5fde646c46de\"</td>\n",
       "      <td>140</td>\n",
       "    </tr>\n",
       "    <tr>\n",
       "      <th>1223</th>\n",
       "      <td>\"deb089c0-9be3-4b75-9b27-28963c77b10c\"</td>\n",
       "      <td>35</td>\n",
       "    </tr>\n",
       "    <tr>\n",
       "      <th>877</th>\n",
       "      <td>\"a151ad65-75fd-4dc1-b466-8852e6f085d2\"</td>\n",
       "      <td>30</td>\n",
       "    </tr>\n",
       "    <tr>\n",
       "      <th>431</th>\n",
       "      <td>\"4dbc2f43-421c-4e23-85d4-f17723ff8c66\"</td>\n",
       "      <td>27</td>\n",
       "    </tr>\n",
       "    <tr>\n",
       "      <th>752</th>\n",
       "      <td>\"89f8da5a-fdb8-4d47-b71f-fa01c0fa320f\"</td>\n",
       "      <td>18</td>\n",
       "    </tr>\n",
       "    <tr>\n",
       "      <th>1180</th>\n",
       "      <td>\"d6826fd9-a6fc-4046-b974-68e50576183f\"</td>\n",
       "      <td>18</td>\n",
       "    </tr>\n",
       "    <tr>\n",
       "      <th>486</th>\n",
       "      <td>\"57e2b6b7-c308-4492-9228-f753d5b3044c\"</td>\n",
       "      <td>16</td>\n",
       "    </tr>\n",
       "    <tr>\n",
       "      <th>1179</th>\n",
       "      <td>\"d6007d58-33dd-4a36-8918-8473f0afc22a\"</td>\n",
       "      <td>14</td>\n",
       "    </tr>\n",
       "    <tr>\n",
       "      <th>165</th>\n",
       "      <td>\"1f742172-0443-4fc7-b38a-621fa62b323f\"</td>\n",
       "      <td>13</td>\n",
       "    </tr>\n",
       "    <tr>\n",
       "      <th>404</th>\n",
       "      <td>\"47e7b80b-fd20-49ad-bf54-d31da5430016\"</td>\n",
       "      <td>13</td>\n",
       "    </tr>\n",
       "  </tbody>\n",
       "</table>\n",
       "</div>"
      ],
      "text/plain": [
       "                                      userId  counts\n",
       "917   \"a8ba2b83-c911-489c-98be-5fde646c46de\"     140\n",
       "1223  \"deb089c0-9be3-4b75-9b27-28963c77b10c\"      35\n",
       "877   \"a151ad65-75fd-4dc1-b466-8852e6f085d2\"      30\n",
       "431   \"4dbc2f43-421c-4e23-85d4-f17723ff8c66\"      27\n",
       "752   \"89f8da5a-fdb8-4d47-b71f-fa01c0fa320f\"      18\n",
       "1180  \"d6826fd9-a6fc-4046-b974-68e50576183f\"      18\n",
       "486   \"57e2b6b7-c308-4492-9228-f753d5b3044c\"      16\n",
       "1179  \"d6007d58-33dd-4a36-8918-8473f0afc22a\"      14\n",
       "165   \"1f742172-0443-4fc7-b38a-621fa62b323f\"      13\n",
       "404   \"47e7b80b-fd20-49ad-bf54-d31da5430016\"      13"
      ]
     },
     "execution_count": 25,
     "metadata": {},
     "output_type": "execute_result"
    }
   ],
   "source": [
    "allSessions.groupby('userId').size().reset_index(name='counts').sort_values(by='counts', ascending=False).head(10)"
   ]
  },
  {
   "cell_type": "code",
   "execution_count": 26,
   "metadata": {
    "collapsed": false
   },
   "outputs": [
    {
     "data": {
      "text/html": [
       "<div>\n",
       "<style>\n",
       "    .dataframe thead tr:only-child th {\n",
       "        text-align: right;\n",
       "    }\n",
       "\n",
       "    .dataframe thead th {\n",
       "        text-align: left;\n",
       "    }\n",
       "\n",
       "    .dataframe tbody tr th {\n",
       "        vertical-align: top;\n",
       "    }\n",
       "</style>\n",
       "<table border=\"1\" class=\"dataframe\">\n",
       "  <thead>\n",
       "    <tr style=\"text-align: right;\">\n",
       "      <th></th>\n",
       "      <th>userId</th>\n",
       "      <th>counts</th>\n",
       "    </tr>\n",
       "  </thead>\n",
       "  <tbody>\n",
       "    <tr>\n",
       "      <th>216</th>\n",
       "      <td>\"deb089c0-9be3-4b75-9b27-28963c77b10c\"</td>\n",
       "      <td>35</td>\n",
       "    </tr>\n",
       "    <tr>\n",
       "      <th>208</th>\n",
       "      <td>\"d6826fd9-a6fc-4046-b974-68e50576183f\"</td>\n",
       "      <td>18</td>\n",
       "    </tr>\n",
       "    <tr>\n",
       "      <th>84</th>\n",
       "      <td>\"57e2b6b7-c308-4492-9228-f753d5b3044c\"</td>\n",
       "      <td>16</td>\n",
       "    </tr>\n",
       "    <tr>\n",
       "      <th>30</th>\n",
       "      <td>\"1f742172-0443-4fc7-b38a-621fa62b323f\"</td>\n",
       "      <td>13</td>\n",
       "    </tr>\n",
       "    <tr>\n",
       "      <th>161</th>\n",
       "      <td>\"a4d4b030-9117-4331-ba48-90dc05a7e65a\"</td>\n",
       "      <td>11</td>\n",
       "    </tr>\n",
       "    <tr>\n",
       "      <th>158</th>\n",
       "      <td>\"a151ad65-75fd-4dc1-b466-8852e6f085d2\"</td>\n",
       "      <td>10</td>\n",
       "    </tr>\n",
       "    <tr>\n",
       "      <th>39</th>\n",
       "      <td>\"257b955f-0252-46a8-9089-e37ad2d53f04\"</td>\n",
       "      <td>8</td>\n",
       "    </tr>\n",
       "    <tr>\n",
       "      <th>140</th>\n",
       "      <td>\"93098530-62fc-4092-a041-b5adff8b7f54\"</td>\n",
       "      <td>8</td>\n",
       "    </tr>\n",
       "    <tr>\n",
       "      <th>121</th>\n",
       "      <td>\"7cece567-45d0-42e7-9870-3f83fb7de271\"</td>\n",
       "      <td>7</td>\n",
       "    </tr>\n",
       "    <tr>\n",
       "      <th>146</th>\n",
       "      <td>\"9880ce9d-c6fc-476e-98a9-a9e8c8f7fcdc\"</td>\n",
       "      <td>6</td>\n",
       "    </tr>\n",
       "  </tbody>\n",
       "</table>\n",
       "</div>"
      ],
      "text/plain": [
       "                                     userId  counts\n",
       "216  \"deb089c0-9be3-4b75-9b27-28963c77b10c\"      35\n",
       "208  \"d6826fd9-a6fc-4046-b974-68e50576183f\"      18\n",
       "84   \"57e2b6b7-c308-4492-9228-f753d5b3044c\"      16\n",
       "30   \"1f742172-0443-4fc7-b38a-621fa62b323f\"      13\n",
       "161  \"a4d4b030-9117-4331-ba48-90dc05a7e65a\"      11\n",
       "158  \"a151ad65-75fd-4dc1-b466-8852e6f085d2\"      10\n",
       "39   \"257b955f-0252-46a8-9089-e37ad2d53f04\"       8\n",
       "140  \"93098530-62fc-4092-a041-b5adff8b7f54\"       8\n",
       "121  \"7cece567-45d0-42e7-9870-3f83fb7de271\"       7\n",
       "146  \"9880ce9d-c6fc-476e-98a9-a9e8c8f7fcdc\"       6"
      ]
     },
     "execution_count": 26,
     "metadata": {},
     "output_type": "execute_result"
    }
   ],
   "source": [
    "getUserSessionsCounts(getNormalizedRedMetricsCSV(part152)).head(10)"
   ]
  },
  {
   "cell_type": "code",
   "execution_count": 27,
   "metadata": {
    "collapsed": false,
    "scrolled": true
   },
   "outputs": [
    {
     "data": {
      "text/html": [
       "<div>\n",
       "<style>\n",
       "    .dataframe thead tr:only-child th {\n",
       "        text-align: right;\n",
       "    }\n",
       "\n",
       "    .dataframe thead th {\n",
       "        text-align: left;\n",
       "    }\n",
       "\n",
       "    .dataframe tbody tr th {\n",
       "        vertical-align: top;\n",
       "    }\n",
       "</style>\n",
       "<table border=\"1\" class=\"dataframe\">\n",
       "  <thead>\n",
       "    <tr>\n",
       "      <th></th>\n",
       "      <th>sessionId</th>\n",
       "    </tr>\n",
       "    <tr>\n",
       "      <th></th>\n",
       "      <th>count</th>\n",
       "    </tr>\n",
       "    <tr>\n",
       "      <th>userId</th>\n",
       "      <th></th>\n",
       "    </tr>\n",
       "  </thead>\n",
       "  <tbody>\n",
       "    <tr>\n",
       "      <th>\"001c95c6-8207-43dc-a51b-adf0c6e005d7\"</th>\n",
       "      <td>1</td>\n",
       "    </tr>\n",
       "    <tr>\n",
       "      <th>\"004d41be-083b-48c4-a0c4-a17967269f5a\"</th>\n",
       "      <td>1</td>\n",
       "    </tr>\n",
       "    <tr>\n",
       "      <th>\"00b0cddb-70cd-47ca-bbc7-695179b28a33\"</th>\n",
       "      <td>1</td>\n",
       "    </tr>\n",
       "    <tr>\n",
       "      <th>\"00cf9a9d-d588-47a9-87f4-ebd788e32b8b\"</th>\n",
       "      <td>1</td>\n",
       "    </tr>\n",
       "    <tr>\n",
       "      <th>\"0102e08c-2a4e-4860-b4e2-7a4e9d474c58\"</th>\n",
       "      <td>1</td>\n",
       "    </tr>\n",
       "  </tbody>\n",
       "</table>\n",
       "</div>"
      ],
      "text/plain": [
       "                                       sessionId\n",
       "                                           count\n",
       "userId                                          \n",
       "\"001c95c6-8207-43dc-a51b-adf0c6e005d7\"         1\n",
       "\"004d41be-083b-48c4-a0c4-a17967269f5a\"         1\n",
       "\"00b0cddb-70cd-47ca-bbc7-695179b28a33\"         1\n",
       "\"00cf9a9d-d588-47a9-87f4-ebd788e32b8b\"         1\n",
       "\"0102e08c-2a4e-4860-b4e2-7a4e9d474c58\"         1"
      ]
     },
     "execution_count": 27,
     "metadata": {},
     "output_type": "execute_result"
    }
   ],
   "source": [
    "allSessions.groupby('userId').agg(['count']).head() #.sort_values(by='sessionId', ascending=False).head(10)"
   ]
  },
  {
   "cell_type": "code",
   "execution_count": 28,
   "metadata": {
    "collapsed": true
   },
   "outputs": [],
   "source": [
    "#df2 = pd.concat([df151, df152])\n",
    "#df2.head(2)\n",
    "#print(df2.columns)\n",
    "#df2columns = df2.columns.values\n",
    "#type(df2columns)\n",
    "#df2columns\n",
    "#newColumns = np.concatenate((minimalInitializationColumns, df2columns))\n",
    "#newColumns\n",
    "#df2 = getNormalizedRedMetricsCSV(df)"
   ]
  }
 ],
 "metadata": {
  "kernelspec": {
   "display_name": "Python 3",
   "language": "python",
   "name": "python3"
  },
  "language_info": {
   "codemirror_mode": {
    "name": "ipython",
    "version": 3
   },
   "file_extension": ".py",
   "mimetype": "text/x-python",
   "name": "python",
   "nbconvert_exporter": "python",
   "pygments_lexer": "ipython3",
   "version": "3.5.4"
  }
 },
 "nbformat": 4,
 "nbformat_minor": 0
}
