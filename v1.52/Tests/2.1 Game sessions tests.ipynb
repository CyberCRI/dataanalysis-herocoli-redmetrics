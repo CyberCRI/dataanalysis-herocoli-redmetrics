{
 "cells": [
  {
   "cell_type": "markdown",
   "metadata": {},
   "source": [
    "# Preparation"
   ]
  },
  {
   "cell_type": "code",
   "execution_count": null,
   "metadata": {},
   "outputs": [],
   "source": [
    "%run \"../Functions/2. Game sessions.ipynb\""
   ]
  },
  {
   "cell_type": "code",
   "execution_count": null,
   "metadata": {},
   "outputs": [],
   "source": [
    "import unidecode"
   ]
  },
  {
   "cell_type": "markdown",
   "metadata": {},
   "source": [
    "# Tests"
   ]
  },
  {
   "cell_type": "markdown",
   "metadata": {},
   "source": [
    "# Tinkering"
   ]
  },
  {
   "cell_type": "code",
   "execution_count": null,
   "metadata": {},
   "outputs": [],
   "source": [
    "accented_string = \"Enormément\"\n",
    "# accented_string is of type 'unicode'\n",
    "\n",
    "unaccented_string = unidecode.unidecode(accented_string)\n",
    "unaccented_string\n",
    "# unaccented_string contains 'Malaga'and is of type 'str'"
   ]
  },
  {
   "cell_type": "markdown",
   "metadata": {},
   "source": [
    "#### getUserSessions tinkering"
   ]
  },
  {
   "cell_type": "code",
   "execution_count": null,
   "metadata": {},
   "outputs": [],
   "source": [
    "_rmDF = rmdf152\n",
    "userId = 'e8fed737-7c65-49c8-bf84-f8ae71c094f8'\n",
    "#userId = getRandomRedMetricsGUID(_rmdf)\n",
    "\n",
    "#def getUserSessions( _rmDF, userId):\n",
    "result = _rmDF.loc[:,['userId','sessionId']][_rmDF['userId']==userId]['sessionId'].drop_duplicates().dropna(how='any')\n",
    "result"
   ]
  },
  {
   "cell_type": "code",
   "execution_count": null,
   "metadata": {},
   "outputs": [],
   "source": [
    "_sessionIndex = randint(0,len(result)-1)\n",
    "_guid = result.iloc[_sessionIndex]\n",
    "_guid"
   ]
  },
  {
   "cell_type": "code",
   "execution_count": null,
   "metadata": {},
   "outputs": [],
   "source": [
    "userId"
   ]
  },
  {
   "cell_type": "markdown",
   "metadata": {},
   "source": [
    "#### getTranslatedForm tinkering"
   ]
  },
  {
   "cell_type": "code",
   "execution_count": null,
   "metadata": {},
   "outputs": [],
   "source": [
    "questionsAnswersTranslationsFR.T"
   ]
  },
  {
   "cell_type": "code",
   "execution_count": null,
   "metadata": {},
   "outputs": [],
   "source": [
    "questionsAnswersTranslationsFR.loc[\"Are you interested in video games?\"]"
   ]
  },
  {
   "cell_type": "code",
   "execution_count": null,
   "metadata": {},
   "outputs": [],
   "source": [
    "questionsAnswersTranslationsFR.loc[\"Do you play video games?\"]"
   ]
  },
  {
   "cell_type": "code",
   "execution_count": null,
   "metadata": {},
   "outputs": [],
   "source": [
    "localizedFormFR = gformFR\n",
    "\n",
    "# returns an English-indexed, English-localized answer dataframe\n",
    "#  from a French-indexed, French-localized dataframe\n",
    "#def getTranslatedForm( localizedFormFR ):\n",
    "result = localizedFormFR.copy()\n",
    "\n",
    "# translate answers\n",
    "for question in result.columns:\n",
    "    for index in result.index:\n",
    "        answer = result.loc[index, question]\n",
    "        if (0 != len(questionsAnswersTranslationsFR.loc[question])):\n",
    "            if (answer in questionsAnswersTranslationsFR.loc[question]):\n",
    "                result.loc[index, question] =\\\n",
    "                questionsAnswersTranslationsFR.loc[question][answer]\n",
    "            else:\n",
    "                print(question)\n",
    "                #print(index)\n",
    "                print(answer)\n",
    "                print(questionsAnswersTranslationsFR.loc[question])\n",
    "                print()\n",
    "                print()\n",
    "                print()\n",
    "\n",
    "# translate questions\n",
    "result = result.rename(columns=dict(zip(localizedFormFR.columns,gformEN.columns)))\n",
    "\n",
    "result.T"
   ]
  },
  {
   "cell_type": "code",
   "execution_count": null,
   "metadata": {},
   "outputs": [],
   "source": [
    "len(questionsAnswersTranslationsFR.loc['Timestamp'])"
   ]
  },
  {
   "cell_type": "code",
   "execution_count": null,
   "metadata": {},
   "outputs": [],
   "source": [
    "getTranslatedForm( gformFR, questionsAnswersTranslationsFR ).iloc[1]"
   ]
  },
  {
   "cell_type": "markdown",
   "metadata": {},
   "source": [
    "### getRandomRedMetricsGUID tinkering"
   ]
  },
  {
   "cell_type": "code",
   "execution_count": null,
   "metadata": {},
   "outputs": [],
   "source": [
    "from random import randint\n",
    "uniqueUsers = rmdf152['userId'].dropna().unique()\n",
    "userCount = len(uniqueUsers)\n",
    "testlocalplayerguid = '0'\n",
    "while (not isGUIDFormat(testlocalplayerguid)):\n",
    "    userIndex = randint(0,userCount-1)\n",
    "    testlocalplayerguid = uniqueUsers[userIndex]\n",
    "testlocalplayerguid"
   ]
  },
  {
   "cell_type": "code",
   "execution_count": null,
   "metadata": {
    "scrolled": false
   },
   "outputs": [],
   "source": [
    "sessionscount = rmdf152[\"sessionId\"].nunique()\n",
    "sessionscount"
   ]
  },
  {
   "cell_type": "code",
   "execution_count": null,
   "metadata": {},
   "outputs": [],
   "source": [
    "platforms = rmdf152[\"customData.platform\"].unique()\n",
    "platforms"
   ]
  },
  {
   "cell_type": "markdown",
   "metadata": {},
   "source": [
    "print(\"part100=\"+str(part100.head(1)))\n",
    "print(\"part131=\"+str(part131.head(1)))\n",
    "print(\"part132=\"+str(part132.head(1)))\n",
    "print(\"part133=\"+str(part133.head(1)))\n",
    "print(\"part140=\"+str(part140.head(1)))\n",
    "print(\"part150=\"+str(part150.head(1)))\n",
    "print(\"part151=\"+str(part151.head(1)))\n",
    "print(\"part152=\"+str(part152.head(1)))\n",
    "print(\"df=\"+str(df.head(1)))"
   ]
  },
  {
   "cell_type": "code",
   "execution_count": null,
   "metadata": {},
   "outputs": [],
   "source": [
    "testGUID = '\"4dbc2f43-421c-4e23-85d4-f17723ff8c66\"'"
   ]
  },
  {
   "cell_type": "code",
   "execution_count": null,
   "metadata": {},
   "outputs": [],
   "source": [
    "# includewithoutusers=True will count sessions that do not have any userId attached\n",
    "getSessionsCount( rmdf152, testGUID)"
   ]
  },
  {
   "cell_type": "markdown",
   "metadata": {},
   "source": [
    "print(\"part100=\"+str(part100.columns))\n",
    "print(\"part131=\"+str(part131.columns))\n",
    "print(\"part132=\"+str(part132.columns))\n",
    "print(\"part133=\"+str(part133.columns))\n",
    "print(\"part140=\"+str(part140.columns))\n",
    "print(\"part150=\"+str(part150.columns))\n",
    "print(\"part151=\"+str(part151.columns))\n",
    "print(\"part152=\"+str(part152.columns))\n",
    "\n",
    "print(\"dfconcat=\"+str(dfconcat.columns))\n",
    "\n",
    "print(\"df=\"+str(df.columns))"
   ]
  },
  {
   "cell_type": "markdown",
   "metadata": {},
   "source": [
    "df.columns"
   ]
  },
  {
   "cell_type": "code",
   "execution_count": null,
   "metadata": {
    "scrolled": false
   },
   "outputs": [],
   "source": [
    "sessionsList = getUserSessions(rmdf152, testGUID)\n",
    "sessionsList"
   ]
  },
  {
   "cell_type": "code",
   "execution_count": null,
   "metadata": {
    "scrolled": true
   },
   "outputs": [],
   "source": [
    "sessionsList = rmdf152[rmdf152['type']=='start']\n",
    "sessionsList = sessionsList.drop('type', 1)\n",
    "sessionsList = sessionsList.dropna(how='any')\n",
    "userSessionsList = sessionsList[sessionsList['userId']==testGUID]\n",
    "userSessionsList"
   ]
  },
  {
   "cell_type": "code",
   "execution_count": null,
   "metadata": {},
   "outputs": [],
   "source": [
    "#print(testGUID)\n",
    "sessionsList = getUserSessions(rmdf152, testGUID)\n",
    "#sessionsList = getAllSessions(rmdf152, testGUID.replace('\"',''))\n",
    "#print(type(sessionsList))\n",
    "sessionsList.shape[0]"
   ]
  },
  {
   "cell_type": "code",
   "execution_count": null,
   "metadata": {},
   "outputs": [],
   "source": [
    "allSessions = rmdf152.loc[:,['userId', 'sessionId']].drop_duplicates()\n",
    "allSessions.head()"
   ]
  },
  {
   "cell_type": "code",
   "execution_count": null,
   "metadata": {},
   "outputs": [],
   "source": [
    "allSessions.groupby('userId').size().reset_index(name='counts').sort_values(by='counts', ascending=False).head(10)"
   ]
  },
  {
   "cell_type": "code",
   "execution_count": null,
   "metadata": {},
   "outputs": [],
   "source": [
    "#getUserSessionsCounts(getNormalizedRedMetricsCSV(part152)).head(10)"
   ]
  },
  {
   "cell_type": "code",
   "execution_count": null,
   "metadata": {
    "scrolled": true
   },
   "outputs": [],
   "source": [
    "allSessions.groupby('userId').agg(['count']).head() #.sort_values(by='sessionId', ascending=False).head(10)"
   ]
  },
  {
   "cell_type": "code",
   "execution_count": null,
   "metadata": {},
   "outputs": [],
   "source": [
    "#df2 = pd.concat([df151, rmdf152])\n",
    "#df2.head(2)\n",
    "#print(df2.columns)\n",
    "#df2columns = df2.columns.values\n",
    "#type(df2columns)\n",
    "#df2columns\n",
    "#newColumns = np.concatenate((minimalInitializationColumns, df2columns))\n",
    "#newColumns\n",
    "#df2 = getNormalizedRedMetricsCSV(df)"
   ]
  },
  {
   "cell_type": "markdown",
   "metadata": {},
   "source": [
    "#### getRandomSessionGUID tinkering"
   ]
  },
  {
   "cell_type": "code",
   "execution_count": null,
   "metadata": {},
   "outputs": [],
   "source": [
    "getRandomSessionGUID()"
   ]
  },
  {
   "cell_type": "code",
   "execution_count": null,
   "metadata": {},
   "outputs": [],
   "source": [
    "_userId = '\"e8fed737-7c65-49c8-bf84-f8ae71c094f8\"'\n",
    "type(rmdf152['userId'].dropna().unique()), type(getUserSessions( rmdf152, _userId ))"
   ]
  },
  {
   "cell_type": "code",
   "execution_count": null,
   "metadata": {},
   "outputs": [],
   "source": [
    "_userId = 'e8fed737-7c65-49c8-bf84-f8ae71c094f8'\n",
    "_uniqueSessions = getUserSessions( rmdf152, _userId )\n",
    "len(_uniqueSessions)\n",
    "_uniqueSessions"
   ]
  },
  {
   "cell_type": "code",
   "execution_count": null,
   "metadata": {},
   "outputs": [],
   "source": [
    "#_userId = ''\n",
    "_userId = '\"e8fed737-7c65-49c8-bf84-f8ae71c094f8\"'\n",
    "\n",
    "#def getRandomSessionGUID( _userId = '' ):    \n",
    "rmId = _userId\n",
    "if( not(isGUIDFormat(_userId))):\n",
    "   rmId = getRandomRedMetricsGUID()\n",
    "\n",
    "_uniqueSessions = getUserSessions( rmdf152, rmId )\n",
    "\n",
    "_sessionsCount = len(_uniqueSessions)\n",
    "_guid = \"\"\n",
    "_sessionIndex = randint(0,_sessionsCount-1)\n",
    "_guid = _uniqueSessions.iloc[_sessionIndex]\n",
    "_guid"
   ]
  },
  {
   "cell_type": "code",
   "execution_count": null,
   "metadata": {},
   "outputs": [],
   "source": [
    "rmId"
   ]
  },
  {
   "cell_type": "code",
   "execution_count": null,
   "metadata": {},
   "outputs": [],
   "source": [
    "_sessionIndex"
   ]
  },
  {
   "cell_type": "code",
   "execution_count": null,
   "metadata": {},
   "outputs": [],
   "source": [
    "_sessionsCount"
   ]
  },
  {
   "cell_type": "code",
   "execution_count": null,
   "metadata": {},
   "outputs": [],
   "source": [
    "randint(0,0)"
   ]
  },
  {
   "cell_type": "code",
   "execution_count": null,
   "metadata": {},
   "outputs": [],
   "source": [
    "_uniqueSessions"
   ]
  },
  {
   "cell_type": "code",
   "execution_count": null,
   "metadata": {},
   "outputs": [],
   "source": [
    "getRandomSessionGUID()"
   ]
  },
  {
   "cell_type": "markdown",
   "metadata": {},
   "source": [
    "#### getFirstEventDate tinkering"
   ]
  },
  {
   "cell_type": "code",
   "execution_count": null,
   "metadata": {},
   "outputs": [],
   "source": [
    "userId = testGUID\n",
    "\n",
    "#print('----------------------uid='+str(uid)+'----------------------')\n",
    "sessions = getUserSessions(rmdf152, userId)\n",
    "\n",
    "firstGameTime = pd.to_datetime('2050-12-31T12:59:59.000Z', utc=True)\n",
    "\n",
    "for session in sessions:\n",
    "    #print('-----------------------------------------session='+str(session))\n",
    "    timedEvents = rmdf152[rmdf152['sessionId']==session]\n",
    "    timedEvents = timedEvents.dropna(subset=['section'])\n",
    "\n",
    "    if(len(timedEvents) > 0):\n",
    "        timedEvents['userTime'] = timedEvents['userTime'].map(lambda t: pd.to_datetime(t, utc=True))\n",
    "\n",
    "        earliest = timedEvents['userTime'].min()\n",
    "        if(earliest < firstGameTime):\n",
    "            firstGameTime = earliest\n",
    "    #else:\n",
    "        #print('no event with section')\n",
    "#print('-----------------------------------------')\n",
    "print(\"firstGameTime=\" + str(firstGameTime))"
   ]
  },
  {
   "cell_type": "code",
   "execution_count": null,
   "metadata": {},
   "outputs": [],
   "source": [
    "rmdf152[rmdf152['userId']==userId]"
   ]
  },
  {
   "cell_type": "code",
   "execution_count": null,
   "metadata": {},
   "outputs": [],
   "source": [
    "sessions = getUserSessions(rmdf152, userId)\n",
    "sessions"
   ]
  }
 ],
 "metadata": {
  "kernelspec": {
   "display_name": "Python [conda env:python3]",
   "language": "python",
   "name": "conda-env-python3-py"
  },
  "language_info": {
   "codemirror_mode": {
    "name": "ipython",
    "version": 3
   },
   "file_extension": ".py",
   "mimetype": "text/x-python",
   "name": "python",
   "nbconvert_exporter": "python",
   "pygments_lexer": "ipython3",
   "version": "3.5.4"
  }
 },
 "nbformat": 4,
 "nbformat_minor": 1
}
