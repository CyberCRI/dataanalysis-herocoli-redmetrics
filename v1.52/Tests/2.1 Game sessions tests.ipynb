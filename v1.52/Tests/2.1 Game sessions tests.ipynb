{
 "cells": [
  {
   "cell_type": "markdown",
   "metadata": {},
   "source": [
    "# Preparation"
   ]
  },
  {
   "cell_type": "code",
   "execution_count": null,
   "metadata": {
    "collapsed": false
   },
   "outputs": [],
   "source": [
    "%run \"../Functions/2. Game sessions.ipynb\""
   ]
  },
  {
   "cell_type": "markdown",
   "metadata": {},
   "source": [
    "# Tests"
   ]
  },
  {
   "cell_type": "markdown",
   "metadata": {},
   "source": [
    "# Tinkering"
   ]
  },
  {
   "cell_type": "code",
   "execution_count": null,
   "metadata": {
    "collapsed": false
   },
   "outputs": [],
   "source": [
    "accented_string2\n",
    "unaccented_string2 = unidecode.unidecode(accented_string2)\n",
    "unaccented_string2"
   ]
  },
  {
   "cell_type": "code",
   "execution_count": null,
   "metadata": {
    "collapsed": false
   },
   "outputs": [],
   "source": [
    "accented_string = \"Enormément\"\n",
    "# accented_string is of type 'unicode'\n",
    "\n",
    "unaccented_string = unidecode.unidecode(accented_string)\n",
    "unaccented_string\n",
    "# unaccented_string contains 'Malaga'and is of type 'str'"
   ]
  },
  {
   "cell_type": "markdown",
   "metadata": {},
   "source": [
    "#### getTranslatedForm tinkering"
   ]
  },
  {
   "cell_type": "code",
   "execution_count": null,
   "metadata": {
    "collapsed": false
   },
   "outputs": [],
   "source": [
    "questionsAnswersTranslationsFR.T"
   ]
  },
  {
   "cell_type": "code",
   "execution_count": null,
   "metadata": {
    "collapsed": false
   },
   "outputs": [],
   "source": [
    "questionsAnswersTranslationsFR.loc[\"Vous intéressez-vous aux jeux vidéos ?\"]"
   ]
  },
  {
   "cell_type": "code",
   "execution_count": null,
   "metadata": {
    "collapsed": false
   },
   "outputs": [],
   "source": [
    "questionsAnswersTranslationsFR.loc[\"Jouez-vous aux jeux vidéos ?\"]"
   ]
  },
  {
   "cell_type": "code",
   "execution_count": null,
   "metadata": {
    "collapsed": false
   },
   "outputs": [],
   "source": [
    "localizedFormFR = gformFR\n",
    "\n",
    "# returns an English-indexed, English-localized answer dataframe\n",
    "#  from a French-indexed, French-localized dataframe\n",
    "#def getTranslatedForm( localizedFormFR ):\n",
    "result = localizedFormFR.copy()\n",
    "\n",
    "# translate answers\n",
    "for question in result.columns:\n",
    "    for index in result.index:\n",
    "        answer = result.loc[index, question]\n",
    "        if (0 != len(questionsAnswersTranslationsFR.loc[question])):\n",
    "            if (answer in questionsAnswersTranslationsFR.loc[question]):\n",
    "                result.loc[index, question] =\\\n",
    "                questionsAnswersTranslationsFR.loc[question][answer]\n",
    "            else:\n",
    "                print(question)\n",
    "                #print(index)\n",
    "                print(answer)\n",
    "                print(questionsAnswersTranslationsFR.loc[question])\n",
    "                print()\n",
    "                print()\n",
    "                print()\n",
    "\n",
    "# translate questions\n",
    "result = result.rename(columns=dict(zip(localizedFormFR.columns,gformEN.columns)))\n",
    "\n",
    "result.T"
   ]
  },
  {
   "cell_type": "code",
   "execution_count": null,
   "metadata": {
    "collapsed": false
   },
   "outputs": [],
   "source": [
    "len(questionsAnswersTranslationsFR.loc['Timestamp'])"
   ]
  },
  {
   "cell_type": "code",
   "execution_count": null,
   "metadata": {
    "collapsed": false
   },
   "outputs": [],
   "source": [
    "getTranslatedForm( gformFR ).T"
   ]
  },
  {
   "cell_type": "markdown",
   "metadata": {},
   "source": [
    "### getRandomRedMetricsGUID tinkering"
   ]
  },
  {
   "cell_type": "code",
   "execution_count": null,
   "metadata": {
    "collapsed": false
   },
   "outputs": [],
   "source": [
    "from random import randint\n",
    "uniqueUsers = df152['userId'].dropna().unique()\n",
    "userCount = len(uniqueUsers)\n",
    "testlocalplayerguid = '0'\n",
    "while (not isRedMetricsGUIDFormat(testlocalplayerguid)):\n",
    "    userIndex = randint(0,userCount-1)\n",
    "    testlocalplayerguid = uniqueUsers[userIndex]\n",
    "testlocalplayerguid"
   ]
  },
  {
   "cell_type": "code",
   "execution_count": null,
   "metadata": {
    "collapsed": false,
    "scrolled": false
   },
   "outputs": [],
   "source": [
    "sessionscount = rdf[\"sessionId\"].nunique()\n",
    "sessionscount"
   ]
  },
  {
   "cell_type": "code",
   "execution_count": null,
   "metadata": {
    "collapsed": false
   },
   "outputs": [],
   "source": [
    "platforms = rdf[\"customData.platform\"].unique()\n",
    "platforms"
   ]
  },
  {
   "cell_type": "markdown",
   "metadata": {},
   "source": [
    "print(\"part100=\"+str(part100.head(1)))\n",
    "print(\"part131=\"+str(part131.head(1)))\n",
    "print(\"part132=\"+str(part132.head(1)))\n",
    "print(\"part133=\"+str(part133.head(1)))\n",
    "print(\"part140=\"+str(part140.head(1)))\n",
    "print(\"part150=\"+str(part150.head(1)))\n",
    "print(\"part151=\"+str(part151.head(1)))\n",
    "print(\"part152=\"+str(part152.head(1)))\n",
    "print(\"df=\"+str(df.head(1)))"
   ]
  },
  {
   "cell_type": "code",
   "execution_count": null,
   "metadata": {
    "collapsed": true
   },
   "outputs": [],
   "source": [
    "testGUID = '\"4dbc2f43-421c-4e23-85d4-f17723ff8c66\"'"
   ]
  },
  {
   "cell_type": "code",
   "execution_count": null,
   "metadata": {
    "collapsed": false
   },
   "outputs": [],
   "source": [
    "# includewithoutusers=True will count sessions that do not have any userId attached\n",
    "countSessions( rdf, testGUID, True)"
   ]
  },
  {
   "cell_type": "markdown",
   "metadata": {},
   "source": [
    "print(\"part100=\"+str(part100.columns))\n",
    "print(\"part131=\"+str(part131.columns))\n",
    "print(\"part132=\"+str(part132.columns))\n",
    "print(\"part133=\"+str(part133.columns))\n",
    "print(\"part140=\"+str(part140.columns))\n",
    "print(\"part150=\"+str(part150.columns))\n",
    "print(\"part151=\"+str(part151.columns))\n",
    "print(\"part152=\"+str(part152.columns))\n",
    "\n",
    "print(\"dfconcat=\"+str(dfconcat.columns))\n",
    "\n",
    "print(\"df=\"+str(df.columns))"
   ]
  },
  {
   "cell_type": "markdown",
   "metadata": {},
   "source": [
    "df.columns"
   ]
  },
  {
   "cell_type": "code",
   "execution_count": null,
   "metadata": {
    "collapsed": false,
    "scrolled": false
   },
   "outputs": [],
   "source": [
    "sessionsList = getAllSessionsOfUser(rdf, testGUID, True)\n",
    "sessionsList"
   ]
  },
  {
   "cell_type": "code",
   "execution_count": null,
   "metadata": {
    "collapsed": false,
    "scrolled": true
   },
   "outputs": [],
   "source": [
    "sessionsList = rdf[rdf['type']=='start']\n",
    "sessionsList = sessionsList.drop('type', 1)\n",
    "sessionsList = sessionsList.dropna(how='any')\n",
    "userSessionsList = sessionsList[sessionsList['userId']==testGUID]\n",
    "userSessionsList"
   ]
  },
  {
   "cell_type": "code",
   "execution_count": null,
   "metadata": {
    "collapsed": false
   },
   "outputs": [],
   "source": [
    "#print(testGUID)\n",
    "sessionsList = getAllSessions(df, testGUID)\n",
    "#sessionsList = getAllSessions(df, testGUID.replace('\"',''))\n",
    "#print(type(sessionsList))\n",
    "sessionsList.shape[0]"
   ]
  },
  {
   "cell_type": "code",
   "execution_count": null,
   "metadata": {
    "collapsed": false
   },
   "outputs": [],
   "source": [
    "test = devPCID5.replace('\"','')\n",
    "#print(test)\n",
    "#print(devPCID5)"
   ]
  },
  {
   "cell_type": "code",
   "execution_count": null,
   "metadata": {
    "collapsed": false
   },
   "outputs": [],
   "source": [
    "allSessions = getAllSessions( df, True )\n",
    "allSessions.head()"
   ]
  },
  {
   "cell_type": "code",
   "execution_count": null,
   "metadata": {
    "collapsed": false
   },
   "outputs": [],
   "source": [
    "allSessions.groupby('userId').size().reset_index(name='counts').sort_values(by='counts', ascending=False).head(10)"
   ]
  },
  {
   "cell_type": "code",
   "execution_count": null,
   "metadata": {
    "collapsed": false
   },
   "outputs": [],
   "source": [
    "getUserSessionsCounts(getNormalizedRedMetricsCSV(part152)).head(10)"
   ]
  },
  {
   "cell_type": "code",
   "execution_count": null,
   "metadata": {
    "collapsed": false,
    "scrolled": true
   },
   "outputs": [],
   "source": [
    "allSessions.groupby('userId').agg(['count']).head() #.sort_values(by='sessionId', ascending=False).head(10)"
   ]
  },
  {
   "cell_type": "code",
   "execution_count": null,
   "metadata": {
    "collapsed": true
   },
   "outputs": [],
   "source": [
    "#df2 = pd.concat([df151, df152])\n",
    "#df2.head(2)\n",
    "#print(df2.columns)\n",
    "#df2columns = df2.columns.values\n",
    "#type(df2columns)\n",
    "#df2columns\n",
    "#newColumns = np.concatenate((minimalInitializationColumns, df2columns))\n",
    "#newColumns\n",
    "#df2 = getNormalizedRedMetricsCSV(df)"
   ]
  },
  {
   "cell_type": "markdown",
   "metadata": {},
   "source": [
    "#### getRandomSessionGUID tinkering"
   ]
  },
  {
   "cell_type": "code",
   "execution_count": null,
   "metadata": {
    "collapsed": false
   },
   "outputs": [],
   "source": [
    "getRandomSessionGUID()"
   ]
  },
  {
   "cell_type": "code",
   "execution_count": null,
   "metadata": {
    "collapsed": false
   },
   "outputs": [],
   "source": [
    "_userId = '\"e8fed737-7c65-49c8-bf84-f8ae71c094f8\"'\n",
    "type(df152['userId'].dropna().unique()), type(getAllSessionsOfUser( df152, _userId ))"
   ]
  },
  {
   "cell_type": "code",
   "execution_count": null,
   "metadata": {
    "collapsed": false
   },
   "outputs": [],
   "source": [
    "_userId = '\"e8fed737-7c65-49c8-bf84-f8ae71c094f8\"'\n",
    "_uniqueSessions = getAllSessionsOfUser( df152, _userId )\n",
    "len(_uniqueSessions)"
   ]
  },
  {
   "cell_type": "code",
   "execution_count": null,
   "metadata": {
    "collapsed": false
   },
   "outputs": [],
   "source": [
    "#_userId = ''\n",
    "_userId = '\"e8fed737-7c65-49c8-bf84-f8ae71c094f8\"'\n",
    "\n",
    "#def getRandomSessionGUID( _userId = '' ):    \n",
    "rmId = _userId\n",
    "if( not(isRedMetricsGUIDFormat(_userId))):\n",
    "   rmId = getRandomRedMetricsGUID()\n",
    "\n",
    "_uniqueSessions = getAllSessionsOfUser( df152, rmId )\n",
    "\n",
    "_sessionsCount = len(_uniqueSessions)\n",
    "_guid = \"\"\n",
    "_sessionIndex = randint(0,_sessionsCount-1)\n",
    "_guid = _uniqueSessions.iloc[_sessionIndex,1]\n",
    "_guid"
   ]
  },
  {
   "cell_type": "code",
   "execution_count": null,
   "metadata": {
    "collapsed": false
   },
   "outputs": [],
   "source": [
    "rmId"
   ]
  },
  {
   "cell_type": "code",
   "execution_count": null,
   "metadata": {
    "collapsed": false
   },
   "outputs": [],
   "source": [
    "_sessionIndex"
   ]
  },
  {
   "cell_type": "code",
   "execution_count": null,
   "metadata": {
    "collapsed": false
   },
   "outputs": [],
   "source": [
    "_sessionsCount"
   ]
  },
  {
   "cell_type": "code",
   "execution_count": null,
   "metadata": {
    "collapsed": false
   },
   "outputs": [],
   "source": [
    "randint(0,0)"
   ]
  },
  {
   "cell_type": "code",
   "execution_count": null,
   "metadata": {
    "collapsed": false
   },
   "outputs": [],
   "source": [
    "_uniqueSessions"
   ]
  },
  {
   "cell_type": "code",
   "execution_count": null,
   "metadata": {
    "collapsed": false
   },
   "outputs": [],
   "source": [
    "getRandomSessionGUID()"
   ]
  },
  {
   "cell_type": "markdown",
   "metadata": {},
   "source": [
    "#### getFirstEventDate tinkering"
   ]
  },
  {
   "cell_type": "code",
   "execution_count": null,
   "metadata": {
    "collapsed": false
   },
   "outputs": [],
   "source": [
    "userId = testGUID\n",
    "\n",
    "#print('----------------------uid='+str(uid)+'----------------------')\n",
    "sessions = getAllSessionsOfUser(df152, userId, True)\n",
    "\n",
    "firstGameTime = pd.to_datetime('2050-12-31T12:59:59.000Z', utc=True)\n",
    "\n",
    "for session in sessions['sessionId']:\n",
    "    #print('-----------------------------------------session='+str(session))\n",
    "    timedEvents = df152[df152['sessionId']==session]\n",
    "    timedEvents = timedEvents.dropna(subset=['section'])\n",
    "\n",
    "    if(len(timedEvents) > 0):\n",
    "        timedEvents['userTime'] = timedEvents['userTime'].map(lambda t: pd.to_datetime(t, utc=True))\n",
    "\n",
    "        earliest = timedEvents['userTime'].min()\n",
    "        if(earliest < firstGameTime):\n",
    "            firstGameTime = earliest\n",
    "    #else:\n",
    "        #print('no event with section')\n",
    "#print('-----------------------------------------')\n",
    "print(\"firstGameTime=\" + str(firstGameTime))"
   ]
  },
  {
   "cell_type": "code",
   "execution_count": null,
   "metadata": {
    "collapsed": false
   },
   "outputs": [],
   "source": [
    "df152[df152['userId']==userId]"
   ]
  },
  {
   "cell_type": "code",
   "execution_count": null,
   "metadata": {
    "collapsed": false
   },
   "outputs": [],
   "source": [
    "sessions = getAllSessionsOfUser(df152, userId, True)\n",
    "sessions"
   ]
  }
 ],
 "metadata": {
  "kernelspec": {
   "display_name": "Python 3",
   "language": "python",
   "name": "python3"
  },
  "language_info": {
   "codemirror_mode": {
    "name": "ipython",
    "version": 3
   },
   "file_extension": ".py",
   "mimetype": "text/x-python",
   "name": "python",
   "nbconvert_exporter": "python",
   "pygments_lexer": "ipython3",
   "version": "3.5.4"
  }
 },
 "nbformat": 4,
 "nbformat_minor": 0
}
