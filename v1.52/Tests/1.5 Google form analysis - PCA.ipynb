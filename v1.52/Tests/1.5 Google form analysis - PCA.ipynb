{
 "cells": [
  {
   "cell_type": "markdown",
   "metadata": {},
   "source": [
    "# Google form analysis tests\n",
    "\n",
    "Purpose: determine in what extent the current data can accurately describe correlations, underlying factors on the score.\n",
    "Especially concerning the 'before' groups: are there underlying groups explaining the discrepancies in score? Are those groups tied to certain questions?\n",
    "\n",
    "## Table of Contents\n",
    "\n",
    "\n",
    "[Sorted total answers to questions](#sortedtotalanswers)\n",
    "\n",
    "[Cross-samples t-tests](#crossttests)\n",
    "\n",
    "   - [biologists vs non-biologists](#biologistsvsnonbiologists)\n",
    "   \n",
    "   - [biologists vs non-biologists *before*](#biologistsvsnonbiologistsbefore)\n",
    "   \n",
    "[PCAs](#PCAs)\n",
    "<br>\n",
    "<br>\n",
    "<br>\n",
    "<br>"
   ]
  },
  {
   "cell_type": "code",
   "execution_count": null,
   "metadata": {},
   "outputs": [],
   "source": [
    "%run \"../Functions/1. Google form analysis.ipynb\""
   ]
  },
  {
   "cell_type": "markdown",
   "metadata": {},
   "source": [
    "## PCAs\n",
    "<a id=PCAs />"
   ]
  },
  {
   "cell_type": "markdown",
   "metadata": {},
   "source": [
    "Purpose: find out which questions have the more weight in the computation of the score.\n",
    "\n",
    "\n",
    "Other leads: LDA, ANOVA.\n",
    "\n",
    "\n",
    "Source for PCA: http://sebastianraschka.com/Articles/2015_pca_in_3_steps.html"
   ]
  },
  {
   "cell_type": "code",
   "execution_count": null,
   "metadata": {},
   "outputs": [],
   "source": [
    "binarized = getAllBinarized()"
   ]
  },
  {
   "cell_type": "code",
   "execution_count": null,
   "metadata": {},
   "outputs": [],
   "source": [
    "score = np.dot(binarized,np.ones(len(binarized.columns)))"
   ]
  },
  {
   "cell_type": "code",
   "execution_count": null,
   "metadata": {},
   "outputs": [],
   "source": [
    "dimensions = binarized.shape[1]\n",
    "dimensions"
   ]
  },
  {
   "cell_type": "code",
   "execution_count": null,
   "metadata": {},
   "outputs": [],
   "source": [
    "binarized['class'] = 'default'"
   ]
  },
  {
   "cell_type": "code",
   "execution_count": null,
   "metadata": {},
   "outputs": [],
   "source": [
    "# split data table into data X and class labels y\n",
    "\n",
    "X = binarized.iloc[:,0:dimensions].values\n",
    "y = binarized.iloc[:,dimensions].values"
   ]
  },
  {
   "cell_type": "markdown",
   "metadata": {},
   "source": [
    "### Standardizing"
   ]
  },
  {
   "cell_type": "code",
   "execution_count": null,
   "metadata": {},
   "outputs": [],
   "source": [
    "from sklearn.preprocessing import StandardScaler\n",
    "X_std = StandardScaler().fit_transform(X)"
   ]
  },
  {
   "cell_type": "markdown",
   "metadata": {},
   "source": [
    "## 1 - Eigendecomposition - Computing Eigenvectors and Eigenvalues"
   ]
  },
  {
   "cell_type": "markdown",
   "metadata": {},
   "source": [
    "### Covariance Matrix"
   ]
  },
  {
   "cell_type": "code",
   "execution_count": null,
   "metadata": {},
   "outputs": [],
   "source": [
    "mean_vec = np.mean(X_std, axis=0)\n",
    "cov_mat = (X_std - mean_vec).T.dot((X_std - mean_vec)) / (X_std.shape[0]-1)\n",
    "print('Covariance matrix \\n%s' %cov_mat)"
   ]
  },
  {
   "cell_type": "code",
   "execution_count": null,
   "metadata": {},
   "outputs": [],
   "source": [
    "print('NumPy covariance matrix: \\n%s' %np.cov(X_std.T))"
   ]
  },
  {
   "cell_type": "markdown",
   "metadata": {},
   "source": [
    "#### eigendecomposition on the covariance matrix:"
   ]
  },
  {
   "cell_type": "code",
   "execution_count": null,
   "metadata": {},
   "outputs": [],
   "source": [
    "cov_mat = np.cov(X_std.T)\n",
    "eig_vals, eig_vecs = np.linalg.eig(cov_mat)\n",
    "\n",
    "#print('Eigenvectors \\n%s' %eig_vecs)\n",
    "print('\\nEigenvalues \\n%s' %eig_vals)"
   ]
  },
  {
   "cell_type": "markdown",
   "metadata": {},
   "source": [
    "### Correlation Matrix\n",
    "\n",
    "#### Eigendecomposition of the standardized data based on the correlation matrix:"
   ]
  },
  {
   "cell_type": "code",
   "execution_count": null,
   "metadata": {
    "scrolled": true
   },
   "outputs": [],
   "source": [
    "cor_mat1 = np.corrcoef(X_std.T)\n",
    "eig_vals, eig_vecs = np.linalg.eig(cor_mat1)\n",
    "\n",
    "#print('Eigenvectors \\n%s' %eig_vecs)\n",
    "print('\\nEigenvalues \\n%s' %eig_vals)"
   ]
  },
  {
   "cell_type": "markdown",
   "metadata": {},
   "source": [
    "#### Eigendecomposition of the raw data based on the correlation matrix:"
   ]
  },
  {
   "cell_type": "markdown",
   "metadata": {},
   "source": [
    "cor_mat2 = np.corrcoef(binarized.T)\n",
    "eig_vals, eig_vecs = np.linalg.eig(cor_mat2)\n",
    "\n",
    "#print('Eigenvectors \\n%s' %eig_vecs)\n",
    "print('\\nEigenvalues \\n%s' %eig_vals)"
   ]
  },
  {
   "cell_type": "markdown",
   "metadata": {},
   "source": [
    "### Singular Vector Decomposition"
   ]
  },
  {
   "cell_type": "code",
   "execution_count": null,
   "metadata": {},
   "outputs": [],
   "source": [
    "u,s,v = np.linalg.svd(X_std.T)"
   ]
  },
  {
   "cell_type": "code",
   "execution_count": null,
   "metadata": {},
   "outputs": [],
   "source": [
    "s"
   ]
  },
  {
   "cell_type": "markdown",
   "metadata": {},
   "source": [
    "## 2 - Selecting Principal Components"
   ]
  },
  {
   "cell_type": "code",
   "execution_count": null,
   "metadata": {},
   "outputs": [],
   "source": [
    "for ev in eig_vecs:\n",
    "    np.testing.assert_array_almost_equal(1.0, np.linalg.norm(ev))\n",
    "print('Everything ok!')"
   ]
  },
  {
   "cell_type": "code",
   "execution_count": null,
   "metadata": {},
   "outputs": [],
   "source": [
    "# Make a list of (eigenvalue, eigenvector) tuples\n",
    "eig_pairs = [(np.abs(eig_vals[i]), eig_vecs[:,i]) for i in range(len(eig_vals))]\n",
    "\n",
    "# Sort the (eigenvalue, eigenvector) tuples from high to low\n",
    "eig_pairs.sort()\n",
    "eig_pairs.reverse()\n",
    "\n",
    "# Visually confirm that the list is correctly sorted by decreasing eigenvalues\n",
    "print('Eigenvalues in descending order:')\n",
    "for i in eig_pairs:\n",
    "    print(i[0])"
   ]
  },
  {
   "cell_type": "code",
   "execution_count": null,
   "metadata": {},
   "outputs": [],
   "source": [
    "tot = sum(eig_vals)\n",
    "var_exp = [(i / tot)*100 for i in sorted(eig_vals, reverse=True)]\n",
    "cum_var_exp = np.cumsum(var_exp)\n",
    "\n",
    "with plt.style.context('seaborn-whitegrid'):\n",
    "    plt.figure(figsize=(6, 4))\n",
    "\n",
    "    plt.bar(range(dimensions), var_exp, alpha=0.5, align='center',\n",
    "            label='individual explained variance')\n",
    "    plt.step(range(dimensions), cum_var_exp, where='mid',\n",
    "             label='cumulative explained variance')\n",
    "    plt.ylabel('Explained variance ratio')\n",
    "    plt.xlabel('Principal components')\n",
    "    plt.legend(loc='best')\n",
    "    plt.tight_layout()"
   ]
  },
  {
   "cell_type": "code",
   "execution_count": null,
   "metadata": {},
   "outputs": [],
   "source": [
    "var_exp[:5]"
   ]
  },
  {
   "cell_type": "code",
   "execution_count": null,
   "metadata": {},
   "outputs": [],
   "source": [
    "cum_var_exp[:5]"
   ]
  },
  {
   "cell_type": "markdown",
   "metadata": {},
   "source": [
    "### Projection Matrix"
   ]
  },
  {
   "cell_type": "code",
   "execution_count": null,
   "metadata": {
    "scrolled": true
   },
   "outputs": [],
   "source": [
    "matrix_w = np.hstack((eig_pairs[0][1].reshape(dimensions,1),\n",
    "                      eig_pairs[1][1].reshape(dimensions,1)))\n",
    "\n",
    "print('Matrix W:\\n', matrix_w)"
   ]
  },
  {
   "cell_type": "markdown",
   "metadata": {},
   "source": [
    "## 3 - Projection Onto the New Feature Space"
   ]
  },
  {
   "cell_type": "code",
   "execution_count": null,
   "metadata": {},
   "outputs": [],
   "source": [
    "gform.columns"
   ]
  },
  {
   "cell_type": "code",
   "execution_count": null,
   "metadata": {
    "scrolled": true
   },
   "outputs": [],
   "source": [
    "colors = ('blue','red','green','magenta','cyan','purple','yellow','black','white')\n",
    "len(colors)"
   ]
  },
  {
   "cell_type": "code",
   "execution_count": null,
   "metadata": {},
   "outputs": [],
   "source": [
    "Y = X_std.dot(matrix_w)"
   ]
  },
  {
   "cell_type": "code",
   "execution_count": null,
   "metadata": {},
   "outputs": [],
   "source": [
    "with plt.style.context('seaborn-whitegrid'):\n",
    "    plt.figure(figsize=(6, 4))\n",
    "    ax = plt.subplot(111)\n",
    "    plt.scatter(Y[:, 0], Y[:, 1])\n",
    "    plt.xlabel('Principal Component 1')\n",
    "    plt.ylabel('Principal Component 2')\n",
    "    plt.title(\"base PCA\")\n",
    "    plt.show()"
   ]
  },
  {
   "cell_type": "markdown",
   "metadata": {},
   "source": [
    "import mca"
   ]
  },
  {
   "cell_type": "markdown",
   "metadata": {},
   "source": [
    "X = binarized.iloc[:,0:dimensions].values\n",
    "y = binarized.iloc[:,dimensions].values"
   ]
  },
  {
   "cell_type": "markdown",
   "metadata": {},
   "source": [
    "X_std.shape"
   ]
  },
  {
   "cell_type": "markdown",
   "metadata": {},
   "source": [
    "xstddf = pd.DataFrame(X_std)"
   ]
  },
  {
   "cell_type": "markdown",
   "metadata": {},
   "source": [
    "Y2 = mca.MCA(xstddf, ncols=dimensions)"
   ]
  },
  {
   "cell_type": "markdown",
   "metadata": {},
   "source": [
    "with plt.style.context('seaborn-whitegrid'):\n",
    "    plt.figure(figsize=(6, 4))\n",
    "    ax = plt.subplot(111)\n",
    "    plt.scatter(Y2[:, 0], Y2[:, 1])\n",
    "    plt.xlabel('Principal Component 1')\n",
    "    plt.ylabel('Principal Component 2')\n",
    "    plt.title(\"base MCA\")\n",
    "    plt.show()"
   ]
  },
  {
   "cell_type": "code",
   "execution_count": null,
   "metadata": {},
   "outputs": [],
   "source": [
    "# classNames is a tuple\n",
    "def classifyAndPlot(classNames, classes, title = '', rainbow = False):\n",
    "    defaultClassName = ''\n",
    "\n",
    "    sampleSize = 0\n",
    "    for classIndex in range(0, len(classes)):\n",
    "        sampleSize += len(classes[classIndex])\n",
    "    if(sampleSize < gform.shape[0]):\n",
    "        if(len(classNames) == len(classes) + 1):\n",
    "            defaultClassName = classNames[-1]\n",
    "        else:\n",
    "            defaultClassName = 'other'\n",
    "            classNames.append(defaultClassName)\n",
    "\n",
    "    for labelIndex in binarized.index:\n",
    "        i = int(labelIndex[len('corrections'):])\n",
    "        isUserSet = False\n",
    "        for classIndex in range(0, len(classes)):\n",
    "            if(gform.iloc[i][localplayerguidkey] in classes[classIndex].values):\n",
    "                binarized.loc[labelIndex,'class'] = classNames[classIndex]\n",
    "                isUserSet = True\n",
    "        if not isUserSet:\n",
    "            if not (defaultClassName in classNames):\n",
    "                print(\"unexpected error: check the exhaustiveness of the provided classes\")\n",
    "            binarized.loc[labelIndex,'class'] = defaultClassName\n",
    "    y = binarized.iloc[:,dimensions].values\n",
    "\n",
    "    with plt.style.context('seaborn-whitegrid'):\n",
    "        plt.figure(figsize=(6, 4))\n",
    "        ax = plt.subplot(111)\n",
    "\n",
    "        colors = ('blue','red','green','magenta','cyan','purple','yellow','black','white')\n",
    "        if (rainbow or len(classNames) > len(colors)):\n",
    "            colors = plt.cm.rainbow(np.linspace(1, 0, len(classNames)))\n",
    "        colors = colors[:len(classNames)]\n",
    "\n",
    "        for lab, col in zip(classNames,colors):\n",
    "            plt.scatter(Y[y==lab, 0],\n",
    "                        Y[y==lab, 1],\n",
    "                        label=lab,\n",
    "                        c=col)\n",
    "        plt.xlabel('Principal Component 1')\n",
    "        plt.ylabel('Principal Component 2')\n",
    "\n",
    "        # source https://stackoverflow.com/questions/4700614/how-to-put-the-legend-out-of-the-plot\n",
    "        # Put a legend to the right of the current axis\n",
    "        ax.legend(loc='center left', bbox_to_anchor=(1, 0.5))\n",
    "\n",
    "        if(len(title) > 0):\n",
    "            plt.title(title)\n",
    "\n",
    "        plt.show()"
   ]
  },
  {
   "cell_type": "code",
   "execution_count": null,
   "metadata": {},
   "outputs": [],
   "source": [
    "answered = binarized[binarized['Guess: the bacterium would glow yellow...'] == 1]\n",
    "indices = answered.index.map(lambda label: int(label[len('corrections'):]))\n",
    "surveys = gform.iloc[indices][localplayerguidkey]\n",
    "#classifyAndPlot(['guessed', 'did not'], [surveys])\n",
    "title = 'test title'\n",
    "rainbow = True\n",
    "alreadyDefaultClassName = True\n",
    "\n",
    "classNames = ['guessed', 'did not']\n",
    "classes = [surveys]\n",
    "\n",
    "# classNames is a tuple\n",
    "#def classifyAndPlot(classNames, classes, title = '', rainbow = False):\n",
    "defaultClassName = ''\n",
    "\n",
    "sampleSize = 0\n",
    "for classIndex in range(0, len(classes)):\n",
    "    sampleSize += len(classes[classIndex])\n",
    "if(sampleSize < gform.shape[0]):\n",
    "    if(len(classNames) == len(classes) + 1):\n",
    "        defaultClassName = classNames[-1]\n",
    "    else:\n",
    "        defaultClassName = 'other'\n",
    "        classNames.append(defaultClassName)\n",
    "    \n",
    "for labelIndex in binarized.index:\n",
    "    i = int(labelIndex[len('corrections'):])\n",
    "    isUserSet = False\n",
    "    for classIndex in range(0, len(classes)):\n",
    "        if(gform.iloc[i][localplayerguidkey] in classes[classIndex].values):\n",
    "            binarized.loc[labelIndex,'class'] = classNames[classIndex]\n",
    "            isUserSet = True\n",
    "    if not isUserSet:\n",
    "        if not (defaultClassName in classNames):\n",
    "            print(\"unexpected error: check the exhaustiveness of the provided classes\")\n",
    "        binarized.loc[labelIndex,'class'] = defaultClassName\n",
    "y = binarized.iloc[:,dimensions].values\n",
    "\n",
    "with plt.style.context('seaborn-whitegrid'):\n",
    "    plt.figure(figsize=(6, 4))\n",
    "    ax = plt.subplot(111)\n",
    "\n",
    "    colors = ('blue','red','green','magenta','cyan','purple','yellow','black','white')\n",
    "    if (rainbow or len(classNames) > len(colors)):\n",
    "        colors = plt.cm.rainbow(np.linspace(1, 0, len(classNames)))\n",
    "    colors = colors[:len(classNames)]\n",
    "\n",
    "    for lab, col in zip(classNames,colors):\n",
    "        plt.scatter(Y[y==lab, 0],\n",
    "                    Y[y==lab, 1],\n",
    "                    label=lab,\n",
    "                    c=col)\n",
    "    plt.xlabel('Principal Component 1')\n",
    "    plt.ylabel('Principal Component 2')\n",
    "\n",
    "    # source https://stackoverflow.com/questions/4700614/how-to-put-the-legend-out-of-the-plot\n",
    "    # Put a legend to the right of the current axis\n",
    "    ax.legend(loc='center left', bbox_to_anchor=(1, 0.5))\n",
    "\n",
    "    if(len(title) > 0):\n",
    "        plt.title(title)\n",
    "\n",
    "    plt.show()"
   ]
  },
  {
   "cell_type": "code",
   "execution_count": null,
   "metadata": {},
   "outputs": [],
   "source": [
    "answered = binarized[binarized['Guess: the bacterium would glow yellow...'] == 1]\n",
    "indices = answered.index.map(lambda label: int(label[len('corrections'):]))\n",
    "surveys = gform.iloc[indices][localplayerguidkey]\n",
    "classifyAndPlot(['guessed', 'did not'], [surveys])"
   ]
  },
  {
   "cell_type": "code",
   "execution_count": null,
   "metadata": {
    "scrolled": false
   },
   "outputs": [],
   "source": [
    "classifyAndPlot(['biologist', 'other'], [getSurveysOfBiologists(gform, True)[localplayerguidkey]], title = 'biologists and non-biologists')"
   ]
  },
  {
   "cell_type": "code",
   "execution_count": null,
   "metadata": {
    "scrolled": false
   },
   "outputs": [],
   "source": [
    "classifyAndPlot(['gamer', 'other'], [getSurveysOfGamers(gform, True)[localplayerguidkey]], title = 'gamers and non-gamers')"
   ]
  },
  {
   "cell_type": "code",
   "execution_count": null,
   "metadata": {},
   "outputs": [],
   "source": [
    "classNames = []\n",
    "classes = []\n",
    "for answer in gform['Are you interested in biology?'].value_counts().index:\n",
    "    classNames.append(answer)\n",
    "    classes.append(gform[gform['Are you interested in biology?'] == answer][localplayerguidkey])\n",
    "classNames.append('other')\n",
    "classifyAndPlot(classNames, classes, rainbow = True, title = 'interest in biology')"
   ]
  },
  {
   "cell_type": "markdown",
   "metadata": {},
   "source": [
    "### TODO: find simple way to plot scores"
   ]
  },
  {
   "cell_type": "code",
   "execution_count": null,
   "metadata": {},
   "outputs": [],
   "source": [
    "#np.plot(score)"
   ]
  },
  {
   "cell_type": "code",
   "execution_count": null,
   "metadata": {},
   "outputs": [],
   "source": [
    "classNames = []\n",
    "classes = []\n",
    "for thisScore in np.unique(score):\n",
    "    classNames.append(thisScore)\n",
    "    index = np.where(score == thisScore)[0]\n",
    "    classes.append( gform.loc[index][localplayerguidkey])\n",
    "classifyAndPlot(classNames, classes, rainbow = True, title = 'score')"
   ]
  },
  {
   "cell_type": "code",
   "execution_count": null,
   "metadata": {},
   "outputs": [],
   "source": [
    "classNames = []\n",
    "classes = []\n",
    "question = 'How old are you?'\n",
    "for answer in np.sort(gform[question].unique()):\n",
    "    classNames.append(answer)\n",
    "    classes.append(gform[gform[question] == answer][localplayerguidkey])\n",
    "classifyAndPlot(classNames, classes, rainbow = True, title = 'age')"
   ]
  },
  {
   "cell_type": "code",
   "execution_count": null,
   "metadata": {},
   "outputs": [],
   "source": [
    "gform.columns[:5]"
   ]
  },
  {
   "cell_type": "code",
   "execution_count": null,
   "metadata": {
    "scrolled": false
   },
   "outputs": [],
   "source": [
    "# questions to avoid:\n",
    "#0 Timestamp\n",
    "#3 Age\n",
    "#40 Remarks\n",
    "#41 ID\n",
    "\n",
    "from itertools import chain\n",
    "questionRange = chain(range(1,3), range(4,40), range(42,44))\n",
    "for questionIndex in questionRange:\n",
    "    question = gform.columns[questionIndex]\n",
    "    classNames = []\n",
    "    classes = []\n",
    "    for answer in gform[question].value_counts().index:\n",
    "        classNames.append(answer)\n",
    "        classes.append(gform[gform[question] == answer][localplayerguidkey])\n",
    "    classifyAndPlot(classNames, classes, title = question, rainbow = False)"
   ]
  },
  {
   "cell_type": "code",
   "execution_count": null,
   "metadata": {},
   "outputs": [],
   "source": [
    "eig_vals"
   ]
  },
  {
   "cell_type": "code",
   "execution_count": null,
   "metadata": {},
   "outputs": [],
   "source": [
    "eig_vecs[0]"
   ]
  },
  {
   "cell_type": "code",
   "execution_count": null,
   "metadata": {},
   "outputs": [],
   "source": [
    "maxComponentIndex = np.argmax(abs(eig_vecs[0]))\n",
    "binarized.columns[maxComponentIndex]"
   ]
  },
  {
   "cell_type": "code",
   "execution_count": null,
   "metadata": {},
   "outputs": [],
   "source": [
    "sum(eig_vecs[0]*eig_vecs[0])\n",
    "eig_vecs[0]"
   ]
  },
  {
   "cell_type": "code",
   "execution_count": null,
   "metadata": {},
   "outputs": [],
   "source": [
    "sortedIndices = []\n",
    "descendingWeights = np.sort(abs(eig_vecs[0]))[::-1]\n",
    "for sortedComponent in descendingWeights:\n",
    "    sortedIndices.append(np.where(abs(eig_vecs[0]) == sortedComponent)[0][0])\n",
    "sortedQuestions0 = pd.DataFrame(index = descendingWeights, data = binarized.columns[sortedIndices])\n",
    "sortedQuestions0"
   ]
  },
  {
   "cell_type": "code",
   "execution_count": null,
   "metadata": {},
   "outputs": [],
   "source": []
  },
  {
   "cell_type": "code",
   "execution_count": null,
   "metadata": {},
   "outputs": [],
   "source": [
    "def accessFirst(a):\n",
    "    return a[0]\n",
    "sortedQuestionsLastIndex = 10\n",
    "array1 = np.arange(sortedQuestionsLastIndex+1.)/(sortedQuestionsLastIndex + 1.)\n",
    "sortedQuestionsLastIndex+1,\\\n",
    "len(np.unique(np.apply_along_axis(accessFirst, 1, cm.Accent(array1)))),\\\n",
    "len(np.unique(np.apply_along_axis(accessFirst, 1, cm.Dark2(array1)))),\\\n",
    "len(np.unique(np.apply_along_axis(accessFirst, 1, cm.Paired(array1)))),\\\n",
    "len(np.unique(np.apply_along_axis(accessFirst, 1, cm.Pastel1(array1)))),\\\n",
    "len(np.unique(np.apply_along_axis(accessFirst, 1, cm.Pastel2(array1)))),\\\n",
    "len(np.unique(np.apply_along_axis(accessFirst, 1, cm.Set1(array1)))),\\\n",
    "len(np.unique(np.apply_along_axis(accessFirst, 1, cm.Set2(array1)))),\\\n",
    "len(np.unique(np.apply_along_axis(accessFirst, 1, cm.Set3(array1)))),\\"
   ]
  },
  {
   "cell_type": "code",
   "execution_count": null,
   "metadata": {},
   "outputs": [],
   "source": [
    "from matplotlib import cm\n",
    "\n",
    "def displayQuestionsContributions(\\\n",
    "                                  sortedQuestions,\\\n",
    "                                  title = \"Contributions of questions to component\",\\\n",
    "                                  sortedQuestionsLastIndex = 10\\\n",
    "                                 ):\n",
    "    colors=cm.Set3(np.arange(sortedQuestionsLastIndex+1.)/(sortedQuestionsLastIndex + 1.))\n",
    "    \n",
    "    sortedQuestionsLabelsArray = np.append(sortedQuestions.values.flatten()[:sortedQuestionsLastIndex], 'others')\n",
    "    sortedQuestionsValuesArray = np.append(sortedQuestions.index[:sortedQuestionsLastIndex], sum(sortedQuestions.index[sortedQuestionsLastIndex:]))\n",
    "\n",
    "    fig1, ax1 = plt.subplots()\n",
    "\n",
    "    ax1.pie(sortedQuestionsValuesArray, labels=sortedQuestionsLabelsArray, autopct='%1.1f%%', startangle=100, colors = colors)\n",
    "    ax1.axis('equal')\n",
    "    \n",
    "    # cf https://matplotlib.org/users/customizing.html\n",
    "    plt.rcParams['patch.linewidth'] = 0\n",
    "    plt.rcParams['text.color'] = '#2b2b2b'\n",
    "    \n",
    "    plt.title(title)\n",
    "    plt.tight_layout()\n",
    "    plt.show()"
   ]
  },
  {
   "cell_type": "code",
   "execution_count": null,
   "metadata": {},
   "outputs": [],
   "source": [
    "displayQuestionsContributions(sortedQuestions0, sortedQuestionsLastIndex = 10, title = 'Contributions of questions to component 1')"
   ]
  },
  {
   "cell_type": "code",
   "execution_count": null,
   "metadata": {},
   "outputs": [],
   "source": [
    "sum(sortedQuestions0.index**2)"
   ]
  },
  {
   "cell_type": "code",
   "execution_count": null,
   "metadata": {
    "scrolled": false
   },
   "outputs": [],
   "source": [
    "sortedIndices = []\n",
    "descendingWeights = np.sort(abs(eig_vecs[1]))[::-1]\n",
    "for sortedComponent in descendingWeights:\n",
    "    sortedIndices.append(np.where(abs(eig_vecs[1]) == sortedComponent)[0][0])\n",
    "sortedQuestions1 = pd.DataFrame(index = descendingWeights, data = binarized.columns[sortedIndices])\n",
    "sortedQuestions1"
   ]
  },
  {
   "cell_type": "code",
   "execution_count": null,
   "metadata": {},
   "outputs": [],
   "source": [
    "displayQuestionsContributions(sortedQuestions1, sortedQuestionsLastIndex = 10, title = 'Contributions of questions to component 2')"
   ]
  },
  {
   "cell_type": "code",
   "execution_count": null,
   "metadata": {},
   "outputs": [],
   "source": [
    "sum(sortedQuestions1.index**2)"
   ]
  }
 ],
 "metadata": {
  "kernelspec": {
   "display_name": "Python [conda env:python3]",
   "language": "python",
   "name": "conda-env-python3-py"
  },
  "language_info": {
   "codemirror_mode": {
    "name": "ipython",
    "version": 3
   },
   "file_extension": ".py",
   "mimetype": "text/x-python",
   "name": "python",
   "nbconvert_exporter": "python",
   "pygments_lexer": "ipython3",
   "version": "3.5.4"
  }
 },
 "nbformat": 4,
 "nbformat_minor": 2
}
