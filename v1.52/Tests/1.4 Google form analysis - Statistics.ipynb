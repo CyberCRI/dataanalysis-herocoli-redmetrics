{
 "cells": [
  {
   "cell_type": "markdown",
   "metadata": {},
   "source": [
    "# Google form analysis tests\n",
    "\n",
    "Purpose: determine in what extent the current data can accurately describe correlations, underlying factors on the score.\n",
    "Especially concerning the 'before' groups: are there underlying groups explaining the discrepancies in score? Are those groups tied to certain questions?\n",
    "\n",
    "## Table of Contents\n",
    "\n",
    "\n",
    "[Cross-samples t-tests](#crossttests)\n",
    "\n",
    "   - [biologists vs non-biologists](#biologistsvsnonbiologists)\n",
    "   \n",
    "   - [biologists vs non-biologists *before*](#biologistsvsnonbiologistsbefore)\n",
    "   \n",
    "[PCAs](#PCAs)"
   ]
  },
  {
   "cell_type": "code",
   "execution_count": null,
   "metadata": {},
   "outputs": [],
   "source": [
    "%run \"../Functions/1. Google form analysis.ipynb\""
   ]
  },
  {
   "cell_type": "markdown",
   "metadata": {},
   "source": [
    "## Cross-samples t-tests\n",
    "<a id=crossttests />\n",
    "\n",
    "\n",
    "Purpose: find out whether a question can be used to discriminate different groups."
   ]
  },
  {
   "cell_type": "markdown",
   "metadata": {},
   "source": [
    "### biologists vs non-biologists\n",
    "<a id=biologistsvsnonbiologists />"
   ]
  },
  {
   "cell_type": "code",
   "execution_count": null,
   "metadata": {},
   "outputs": [],
   "source": [
    "biologists = getSurveysOfBiologists(gform)\n",
    "nonBiologists = gform.drop(biologists.index)\n",
    "biologistsScores = biologists.apply(getGFormRowScore, axis=1)\n",
    "nonBiologistsScores = nonBiologists.apply(getGFormRowScore, axis=1)\n",
    "#print(len(gform), len(biologists), len(nonBiologists))\n",
    "#print(len(gform), len(biologistsScores), len(nonBiologistsScores))\n",
    "#print(type(biologistsScores), len(biologistsScores),\\\n",
    "#type(nonBiologistsScores), len(nonBiologistsScores))\n",
    "ttest = ttest_ind(biologistsScores, nonBiologistsScores)\n",
    "ttest"
   ]
  },
  {
   "cell_type": "code",
   "execution_count": null,
   "metadata": {},
   "outputs": [],
   "source": [
    "biologistsScores.values"
   ]
  },
  {
   "cell_type": "code",
   "execution_count": null,
   "metadata": {},
   "outputs": [],
   "source": [
    "np.std(biologistsScores)"
   ]
  },
  {
   "cell_type": "code",
   "execution_count": null,
   "metadata": {},
   "outputs": [],
   "source": [
    "np.std(nonBiologistsScores)"
   ]
  },
  {
   "cell_type": "markdown",
   "metadata": {},
   "source": [
    "Conclusion: the two groups have distinct scores."
   ]
  },
  {
   "cell_type": "markdown",
   "metadata": {},
   "source": [
    "### biologists vs non-biologists *before*\n",
    "<a id=biologistsvsnonbiologistsbefore />"
   ]
  },
  {
   "cell_type": "code",
   "execution_count": null,
   "metadata": {},
   "outputs": [],
   "source": [
    "gfBefores = getGFormBefores(gform)\n",
    "biologistsBefores = getSurveysOfBiologists(gfBefores, hardPolicy = False)\n",
    "nonBiologistsBefores = gfBefores.drop(biologistsBefores.index)\n",
    "biologistsBeforesScores = biologistsBefores.apply(getGFormRowScore, axis=1)\n",
    "nonBiologistsBeforesScores = nonBiologistsBefores.apply(getGFormRowScore, axis=1)\n",
    "#print(len(gfBefores), len(biologistsBefores), len(nonBiologistsBefores))\n",
    "#print(len(gfBefores), len(biologistsBeforesScores), len(nonBiologistsBeforesScores))\n",
    "#print(type(biologistsScores), len(biologistsScores),\\\n",
    "#type(nonBiologistsScores), len(nonBiologistsScores))\n",
    "ttest = ttest_ind(biologistsBeforesScores, nonBiologistsBeforesScores)\n",
    "ttest"
   ]
  },
  {
   "cell_type": "code",
   "execution_count": null,
   "metadata": {},
   "outputs": [],
   "source": [
    "np.std(biologistsBeforesScores)"
   ]
  },
  {
   "cell_type": "code",
   "execution_count": null,
   "metadata": {},
   "outputs": [],
   "source": [
    "nonBiologistsBeforesScores"
   ]
  },
  {
   "cell_type": "code",
   "execution_count": null,
   "metadata": {},
   "outputs": [],
   "source": [
    "np.std(nonBiologistsBeforesScores)"
   ]
  },
  {
   "cell_type": "markdown",
   "metadata": {},
   "source": [
    "## PCAs\n",
    "<a id=PCAs />\n",
    "\n",
    "\n",
    "Purpose: find out which questions hqve the more weight in the computation of the score.\n",
    "\n",
    "Other leads: LDA, ANOVA."
   ]
  },
  {
   "cell_type": "code",
   "execution_count": null,
   "metadata": {},
   "outputs": [],
   "source": [
    "binarized = getAllBinarized()"
   ]
  },
  {
   "cell_type": "code",
   "execution_count": null,
   "metadata": {},
   "outputs": [],
   "source": [
    "score = np.dot(binarized,np.ones(len(binarized.columns)))"
   ]
  },
  {
   "cell_type": "markdown",
   "metadata": {},
   "source": [
    "### Standardizing"
   ]
  },
  {
   "cell_type": "code",
   "execution_count": null,
   "metadata": {},
   "outputs": [],
   "source": [
    "from sklearn.preprocessing import StandardScaler\n",
    "Q_std = StandardScaler().fit_transform(binarized)"
   ]
  },
  {
   "cell_type": "markdown",
   "metadata": {},
   "source": [
    "### Covariance Matrix"
   ]
  },
  {
   "cell_type": "code",
   "execution_count": null,
   "metadata": {},
   "outputs": [],
   "source": [
    "mean_vec = np.mean(Q_std, axis=0)\n",
    "cov_mat = (Q_std - mean_vec).T.dot((Q_std - mean_vec)) / (Q_std.shape[0]-1)\n",
    "print('Covariance matrix \\n%s' %cov_mat)"
   ]
  },
  {
   "cell_type": "markdown",
   "metadata": {},
   "source": [
    "#### eigendecomposition on the covariance matrix:"
   ]
  },
  {
   "cell_type": "code",
   "execution_count": null,
   "metadata": {},
   "outputs": [],
   "source": [
    "cov_mat = np.cov(Q_std.T)\n",
    "eig_vals, eig_vecs = np.linalg.eig(cov_mat)\n",
    "\n",
    "#print('Eigenvectors \\n%s' %eig_vecs)\n",
    "print('\\nEigenvalues \\n%s' %eig_vals)"
   ]
  },
  {
   "cell_type": "markdown",
   "metadata": {},
   "source": [
    "### Correlation Matrix\n",
    "\n",
    "#### Eigendecomposition of the standardized data based on the correlation matrix:"
   ]
  },
  {
   "cell_type": "code",
   "execution_count": null,
   "metadata": {
    "scrolled": true
   },
   "outputs": [],
   "source": [
    "cor_mat1 = np.corrcoef(Q_std.T)\n",
    "eig_vals, eig_vecs = np.linalg.eig(cor_mat1)\n",
    "\n",
    "#print('Eigenvectors \\n%s' %eig_vecs)\n",
    "print('\\nEigenvalues \\n%s' %eig_vals)"
   ]
  },
  {
   "cell_type": "markdown",
   "metadata": {},
   "source": [
    "#### Eigendecomposition of the raw data based on the correlation matrix:"
   ]
  },
  {
   "cell_type": "code",
   "execution_count": null,
   "metadata": {},
   "outputs": [],
   "source": [
    "cor_mat2 = np.corrcoef(binarized.T)\n",
    "eig_vals, eig_vecs = np.linalg.eig(cor_mat2)\n",
    "\n",
    "#print('Eigenvectors \\n%s' %eig_vecs)\n",
    "print('\\nEigenvalues \\n%s' %eig_vals)"
   ]
  }
 ],
 "metadata": {
  "kernelspec": {
   "display_name": "Python [conda env:python3]",
   "language": "python",
   "name": "conda-env-python3-py"
  },
  "language_info": {
   "codemirror_mode": {
    "name": "ipython",
    "version": 3
   },
   "file_extension": ".py",
   "mimetype": "text/x-python",
   "name": "python",
   "nbconvert_exporter": "python",
   "pygments_lexer": "ipython3",
   "version": "3.5.4"
  }
 },
 "nbformat": 4,
 "nbformat_minor": 2
}
