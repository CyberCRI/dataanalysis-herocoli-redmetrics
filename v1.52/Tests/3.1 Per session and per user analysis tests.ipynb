{
 "cells": [
  {
   "cell_type": "markdown",
   "metadata": {},
   "source": [
    "# Per session and per user analysis\n",
    "Analysis of users.\n",
    "\n",
    "\n",
    "\n",
    "# Table of Contents\n",
    "\n",
    "1.  [Preparation](#preparation)\n",
    "\n",
    "2.  [Function tests](#functests)\n",
    "\n",
    "3. [User metrics checks](#checkusermetrics)\n",
    "\n",
    "# Preparation\n",
    "<a id=preparation />"
   ]
  },
  {
   "cell_type": "code",
   "execution_count": null,
   "metadata": {
    "scrolled": true
   },
   "outputs": [],
   "source": [
    "%run \"../Functions/3. Per session and per user analysis.ipynb\""
   ]
  },
  {
   "cell_type": "code",
   "execution_count": null,
   "metadata": {},
   "outputs": [],
   "source": [
    "df152.head()"
   ]
  },
  {
   "cell_type": "markdown",
   "metadata": {},
   "source": [
    "# Per-session analysis"
   ]
  },
  {
   "cell_type": "code",
   "execution_count": null,
   "metadata": {
    "scrolled": false
   },
   "outputs": [],
   "source": [
    "\n",
    "\n",
    "testSessionId = \"fab3ea03-6ff1-483f-a90a-74ff47d0b556\"\n",
    "\n",
    "perSession = df152[df152['type']=='reach'].loc[:,perSessionRelevantColumns]\n",
    "perSession = perSession[perSession['sessionId']==testSessionId]\n",
    "perSession = perSession[perSession['section'].str.startswith('tutorial', na=False)]\n",
    "perSession"
   ]
  },
  {
   "cell_type": "code",
   "execution_count": null,
   "metadata": {},
   "outputs": [],
   "source": [
    "allSessions = getAllSessions( df152, True )\n",
    "allSessions.head()"
   ]
  },
  {
   "cell_type": "code",
   "execution_count": null,
   "metadata": {},
   "outputs": [],
   "source": [
    "allSessions[allSessions['sessionId']==testSessionId]"
   ]
  },
  {
   "cell_type": "code",
   "execution_count": null,
   "metadata": {},
   "outputs": [],
   "source": [
    "allSessions[allSessions['userId']=='\"e2f8d5e4-cccd-4d1a-909b-c9c92f6b83c1\"']"
   ]
  },
  {
   "cell_type": "markdown",
   "metadata": {},
   "source": [
    "# Per user analysis"
   ]
  },
  {
   "cell_type": "code",
   "execution_count": null,
   "metadata": {},
   "outputs": [],
   "source": [
    "# English-speaking user who answered the questionnaire - cf 'Google form analysis.ipynb'.\n",
    "localplayerguid = '\"8d352896-a3f1-471c-8439-0f426df901c1\"'\n",
    "#localplayerguid = '\"7037c5b2-c286-498e-9784-9a061c778609\"'\n",
    "#localplayerguid = '\"5c4939b5-425b-4d19-b5d2-0384a515539e\"'\n",
    "#localplayerguid = '\"7825d421-d668-4481-898a-46b51efe40f0\"'\n",
    "#localplayerguid = '\"acb9c989-b4a6-4c4d-81cc-6b5783ec71d8\"'\n",
    "localplayerguid"
   ]
  },
  {
   "cell_type": "code",
   "execution_count": null,
   "metadata": {},
   "outputs": [],
   "source": [
    "perUserRelevantColumns = ['sessionId', 'serverTime', 'section']"
   ]
  },
  {
   "cell_type": "code",
   "execution_count": null,
   "metadata": {},
   "outputs": [],
   "source": [
    "sessionsList = getAllSessionsOfUser(df152, localplayerguid, True)\n",
    "sessionsList"
   ]
  },
  {
   "cell_type": "code",
   "execution_count": null,
   "metadata": {},
   "outputs": [],
   "source": [
    "# List all 'reach' events with those sessionIds.\n",
    "perUser = df152[df152['type']=='reach'].loc[:,perUserRelevantColumns]\n",
    "perUser = perUser[perUser['sessionId'].isin(sessionsList['sessionId'])]\n",
    "perUser = perUser[perUser['section'].str.startswith('tutorial', na=False)]\n",
    "perUser.describe()\n",
    "perUser.head()"
   ]
  },
  {
   "cell_type": "markdown",
   "metadata": {},
   "source": [
    "# Common analysis"
   ]
  },
  {
   "cell_type": "markdown",
   "metadata": {},
   "source": [
    "#### Switch here between users and sessions."
   ]
  },
  {
   "cell_type": "code",
   "execution_count": null,
   "metadata": {},
   "outputs": [],
   "source": [
    "#sectionsList = perSession\n",
    "sectionsList = perUser"
   ]
  },
  {
   "cell_type": "code",
   "execution_count": null,
   "metadata": {},
   "outputs": [],
   "source": [
    "timedSections = sectionsList.groupby(\"section\").agg({ \"serverTime\": np.min })\n",
    "timedSections.head()"
   ]
  },
  {
   "cell_type": "code",
   "execution_count": null,
   "metadata": {},
   "outputs": [],
   "source": [
    "timedSections[\"firstReached\"] = pd.to_datetime(timedSections[\"serverTime\"])\n",
    "timedSections.head()"
   ]
  },
  {
   "cell_type": "code",
   "execution_count": null,
   "metadata": {
    "scrolled": true
   },
   "outputs": [],
   "source": [
    "timedSections[\"firstCompletionDuration\"] = timedSections[\"firstReached\"].diff()\n",
    "timedSections"
   ]
  },
  {
   "cell_type": "markdown",
   "metadata": {},
   "source": [
    "#### getCheckpointsTimes tinkering"
   ]
  },
  {
   "cell_type": "code",
   "execution_count": null,
   "metadata": {},
   "outputs": [],
   "source": [
    "testUser = unsafeGetRedMetricsGUIDFormat(getRandomGFormGUID())\n",
    "testSession = getRandomSessionGUID( _userId = testUser )"
   ]
  },
  {
   "cell_type": "code",
   "execution_count": null,
   "metadata": {},
   "outputs": [],
   "source": [
    "timedSections1 = getCheckpointsTimes(testSession)\n",
    "timedSections1"
   ]
  },
  {
   "cell_type": "code",
   "execution_count": null,
   "metadata": {
    "scrolled": false
   },
   "outputs": [],
   "source": [
    "sessionId = testSession\n",
    "timedSections = []\n",
    "\n",
    "# Returns a given session's checkpoints, the first server time at which they were reached, and completion time\n",
    "#def getCheckpointsTimes( sessionId ):\n",
    "perSession = reachEvents[reachEvents['sessionId']==sessionId]\n",
    "perSession = perSession[perSession['section'].str.startswith('tutorial', na=False)]\n",
    "\n",
    "timedSections = pd.DataFrame(data=0, columns=timedSectionsReachedColumns,index=timedSectionsIndex)\n",
    "timedSections[\"serverTime\"] = perSession.groupby(\"section\").agg({ \"serverTime\": np.min })\n",
    "timedSections[\"firstReached\"] = pd.to_datetime(timedSections[\"serverTime\"])\n",
    "timedSections[\"firstCompletionDuration\"] = timedSections[\"firstReached\"].diff()\n",
    "#if(\"tutorial1.Checkpoint00\" in timedSections.index):\n",
    "#    timedSections.loc[\"tutorial1.Checkpoint00\",\"firstCompletionDuration\"] = 0\n",
    "\n",
    "timedSections = timedSections.fillna(0)\n",
    "\n",
    "timedSections"
   ]
  },
  {
   "cell_type": "code",
   "execution_count": null,
   "metadata": {},
   "outputs": [],
   "source": [
    "len(timedSections)"
   ]
  },
  {
   "cell_type": "code",
   "execution_count": null,
   "metadata": {},
   "outputs": [],
   "source": [
    "chapter = \"tutorial1.Checkpoint01\"\n",
    "time = ''\n",
    "if(not chapter in timedSections.index):    \n",
    "    print(\"no timed sections\")\n",
    "else:\n",
    "    time = timedSections.loc[chapter,\"firstCompletionDuration\"]\n",
    "time"
   ]
  },
  {
   "cell_type": "code",
   "execution_count": null,
   "metadata": {
    "scrolled": false
   },
   "outputs": [],
   "source": [
    "timedSections1 == timedSections"
   ]
  },
  {
   "cell_type": "code",
   "execution_count": null,
   "metadata": {},
   "outputs": [],
   "source": [
    "reachEvents.iloc[0,0]"
   ]
  },
  {
   "cell_type": "markdown",
   "metadata": {},
   "source": [
    "# Function tests\n",
    "<a id=functests />"
   ]
  },
  {
   "cell_type": "code",
   "execution_count": null,
   "metadata": {},
   "outputs": [],
   "source": [
    "#'\"7412a447-8177-48e9-82c5-cb31032f76a9\"': didn't answer\n",
    "testUser = unsafeGetRedMetricsGUIDFormat(getRandomGFormGUID())\n",
    "testResult = getUserDataVector(testUser)\n",
    "print(testUser)\n",
    "testResult"
   ]
  },
  {
   "cell_type": "code",
   "execution_count": null,
   "metadata": {},
   "outputs": [],
   "source": [
    "testResult[testUser]['death']"
   ]
  },
  {
   "cell_type": "code",
   "execution_count": null,
   "metadata": {},
   "outputs": [],
   "source": [
    "testResult = getUserDataVector('\"e2f8d5e4-cccd-4d1a-909b-c9c92f6b83c1\"')\n",
    "testResult"
   ]
  },
  {
   "cell_type": "code",
   "execution_count": null,
   "metadata": {},
   "outputs": [],
   "source": [
    "testResult = getUserDataVector('\"8d352896-a3f1-471c-8439-0f426df901c1\"')\n",
    "testResult"
   ]
  },
  {
   "cell_type": "code",
   "execution_count": null,
   "metadata": {
    "scrolled": true
   },
   "outputs": [],
   "source": [
    "gformNotEnough = []\n",
    "print(gformNotEnough)\n",
    "\n",
    "gformNotEnough.append(5)\n",
    "print(gformNotEnough)\n",
    "\n",
    "gformNotEnough = pd.Series(gformNotEnough)\n",
    "print(gformNotEnough)\n",
    "\n",
    "gformNotEnough = np.array([])\n",
    "print(gformNotEnough)\n",
    "\n",
    "gformNotEnough = np.append(gformNotEnough, [5])\n",
    "print(gformNotEnough)\n",
    "\n",
    "gformNotEnough = pd.Series(gformNotEnough)\n",
    "print(gformNotEnough)\n",
    "\n",
    "testNonVal = pd.Series(['tutorial1.Checkpoint13'])"
   ]
  },
  {
   "cell_type": "markdown",
   "metadata": {},
   "source": [
    "#### getDiscrepancyGameGForm tinkering"
   ]
  },
  {
   "cell_type": "code",
   "execution_count": null,
   "metadata": {},
   "outputs": [],
   "source": [
    "randomguid = getRandomRedMetricsGUID()\n",
    "randomguid"
   ]
  },
  {
   "cell_type": "code",
   "execution_count": null,
   "metadata": {},
   "outputs": [],
   "source": [
    "gformNonVal = getNonValidatedCheckpoints(randomguid)\n",
    "gformNonVal"
   ]
  },
  {
   "cell_type": "code",
   "execution_count": null,
   "metadata": {},
   "outputs": [],
   "source": [
    "gformVal = getValidatedCheckpoints(randomguid)\n",
    "gformVal"
   ]
  },
  {
   "cell_type": "code",
   "execution_count": null,
   "metadata": {},
   "outputs": [],
   "source": [
    "gameVal = getUserCheckpoints( randomguid )\n",
    "gameVal"
   ]
  },
  {
   "cell_type": "markdown",
   "metadata": {},
   "source": [
    "#sorted, unique values in series1 that are not in series2\n",
    "#np.setdiff1d(series1.values, series2.values)\n",
    "\n",
    "#user has answered questions whose answer they haven't seen in the game\n",
    "gameNotEnough = pd.Series(np.setdiff1d(gformVal.values, gameVal.values))\n"
   ]
  },
  {
   "cell_type": "code",
   "execution_count": null,
   "metadata": {},
   "outputs": [],
   "source": [
    "\n",
    "#user has not answered questions whose answer they have seen in the game\n",
    "gformNotEnough = []\n",
    "maxGameVal = ''"
   ]
  },
  {
   "cell_type": "markdown",
   "metadata": {},
   "source": [
    "if gameVal.values.size!=0:\n",
    "    gameVal.values.max()\n",
    "for nonVal in gformNonVal.values:\n",
    "    if nonVal >= maxGameVal:\n",
    "        gformNotEnough.append(nonVal)    \n",
    "gformNotEnough = pd.Series(gformNotEnough)"
   ]
  },
  {
   "cell_type": "markdown",
   "metadata": {},
   "source": [
    "getDiscrepancyGameGForm( randomguid )"
   ]
  },
  {
   "cell_type": "code",
   "execution_count": null,
   "metadata": {},
   "outputs": [],
   "source": [
    "getUserCheckpoints(localplayerguid)"
   ]
  },
  {
   "cell_type": "code",
   "execution_count": null,
   "metadata": {},
   "outputs": [],
   "source": [
    "test = getValidatedCheckpoints(localplayerguid)\n",
    "test\n",
    "\n",
    "max = test.values.max()\n",
    "max\n",
    "\n",
    "getNonValidatedCheckpoints(localplayerguid)\n",
    "\n",
    "testlocalplayerguid = '\"7412a447-8177-48e9-82c5-cb31032f76a9\"'\n",
    "\n",
    "test = pd.DataFrame({\n",
    "                        'section' : ['tutorial1.Checkpoint00', 'tutorial1.Checkpoint01', 'tutorial1.Checkpoint02'],\n",
    "                        'serverTime' : ['0', '1', '2'],\n",
    "                        'firstReached' : ['0', '1', '2'],\n",
    "                        'firstCompletionDuration' : ['0', '1', '2'],\n",
    "                    })\n",
    "test\n",
    "#pd.DataFrame({  'A' : 1.,\n",
    "#                'B' : pd.Timestamp('20130102'),\n",
    "#                'C' : pd.Series(1,index=list(range(4)),dtype='float32'),\n",
    "#                'D' : np.array([3] * 4,dtype='int32'),\n",
    "#                'E' : pd.Categorical([\"test\",\"train\",\"test\",\"train\"]),\n",
    "#                'F' : 'foo' })"
   ]
  },
  {
   "cell_type": "code",
   "execution_count": null,
   "metadata": {
    "scrolled": true
   },
   "outputs": [],
   "source": [
    "testSr = pd.Series([])\n",
    "testSr.values.size"
   ]
  },
  {
   "cell_type": "code",
   "execution_count": null,
   "metadata": {},
   "outputs": [],
   "source": [
    "checkpointTimes = getCheckpointsTimes('\"958a0e85-1634-4559-bce6-d6af28b7e649\"')\n",
    "checkpointTimes"
   ]
  },
  {
   "cell_type": "code",
   "execution_count": null,
   "metadata": {
    "scrolled": true
   },
   "outputs": [],
   "source": [
    "type(checkpointTimes)"
   ]
  },
  {
   "cell_type": "code",
   "execution_count": null,
   "metadata": {},
   "outputs": [],
   "source": [
    "testDF = pd.DataFrame({}, columns=checkpointTimes.columns)\n",
    "testDF"
   ]
  },
  {
   "cell_type": "code",
   "execution_count": null,
   "metadata": {},
   "outputs": [],
   "source": [
    "testDF['serverTime']['testIndex'] = np.nan\n",
    "testDF"
   ]
  },
  {
   "cell_type": "code",
   "execution_count": null,
   "metadata": {},
   "outputs": [],
   "source": [
    "testDF = testDF.add({'serverTime': 'a', 'firstReached': 'b', 'firstCompletionDuration': 'c'})\n",
    "testDF"
   ]
  },
  {
   "cell_type": "code",
   "execution_count": null,
   "metadata": {},
   "outputs": [],
   "source": [
    "othersessionId = \"c430c60c-d7cb-4fc5-893b-dce440696caf\"\n",
    "checkpointTimes = getCheckpointsTimes(othersessionId)\n",
    "checkpointTimes"
   ]
  },
  {
   "cell_type": "code",
   "execution_count": null,
   "metadata": {},
   "outputs": [],
   "source": [
    "checkpointTimes.loc[checkpointTimes.index[0]]"
   ]
  },
  {
   "cell_type": "code",
   "execution_count": null,
   "metadata": {},
   "outputs": [],
   "source": [
    "checkpointTimes.loc[checkpointTimes.index[0]].name"
   ]
  },
  {
   "cell_type": "code",
   "execution_count": null,
   "metadata": {},
   "outputs": [],
   "source": [
    "reachEvents.head()"
   ]
  },
  {
   "cell_type": "code",
   "execution_count": null,
   "metadata": {},
   "outputs": [],
   "source": [
    "perSession = reachEvents[reachEvents['sessionId']==othersessionId]\n",
    "perSession.head()"
   ]
  },
  {
   "cell_type": "code",
   "execution_count": null,
   "metadata": {},
   "outputs": [],
   "source": [
    "perSession = perSession[perSession['section'].str.startswith('tutorial', na=False)]\n",
    "perSession.head()"
   ]
  },
  {
   "cell_type": "code",
   "execution_count": null,
   "metadata": {},
   "outputs": [],
   "source": [
    "timedSections = perSession.groupby(\"section\").agg({ \"serverTime\": np.min })\n",
    "timedSections.head()"
   ]
  },
  {
   "cell_type": "code",
   "execution_count": null,
   "metadata": {},
   "outputs": [],
   "source": [
    "timedSections[\"firstReached\"] = pd.to_datetime(timedSections[\"serverTime\"])\n",
    "timedSections.head()"
   ]
  },
  {
   "cell_type": "code",
   "execution_count": null,
   "metadata": {
    "scrolled": true
   },
   "outputs": [],
   "source": [
    "timedSections[\"firstCompletionDuration\"] = timedSections[\"firstReached\"].diff()\n",
    "timedSections.head()"
   ]
  },
  {
   "cell_type": "code",
   "execution_count": null,
   "metadata": {},
   "outputs": [],
   "source": [
    "pd.melt(timedSections).head(1)"
   ]
  },
  {
   "cell_type": "code",
   "execution_count": null,
   "metadata": {
    "scrolled": true
   },
   "outputs": [],
   "source": [
    "timedSections.unstack().reset_index().drop('level_0', axis=1).head(1)"
   ]
  },
  {
   "cell_type": "code",
   "execution_count": null,
   "metadata": {},
   "outputs": [],
   "source": [
    "timedSections.columns"
   ]
  },
  {
   "cell_type": "code",
   "execution_count": null,
   "metadata": {},
   "outputs": [],
   "source": [
    "timedSections.index"
   ]
  },
  {
   "cell_type": "code",
   "execution_count": null,
   "metadata": {},
   "outputs": [],
   "source": [
    "#timedSections[timedSections['section']=='tutorial1.Checkpoint00']\n",
    "#timedSections['section']\n",
    "#timedSections.unstack().reset_index().drop('level_0', axis=1)"
   ]
  },
  {
   "cell_type": "code",
   "execution_count": null,
   "metadata": {},
   "outputs": [],
   "source": [
    "timedSections['serverTime']['tutorial1.Checkpoint00']"
   ]
  },
  {
   "cell_type": "code",
   "execution_count": null,
   "metadata": {},
   "outputs": [],
   "source": [
    "timedSections['firstReached']['tutorial1.Checkpoint00']"
   ]
  },
  {
   "cell_type": "code",
   "execution_count": null,
   "metadata": {},
   "outputs": [],
   "source": [
    "testTimeStamp = pd.Timestamp('2017-01-12 11:00:15.511000')\n",
    "testTimeStamp"
   ]
  },
  {
   "cell_type": "code",
   "execution_count": null,
   "metadata": {},
   "outputs": [],
   "source": [
    "timedSections.loc['tutorial1.Checkpoint00']"
   ]
  },
  {
   "cell_type": "code",
   "execution_count": null,
   "metadata": {},
   "outputs": [],
   "source": [
    "timedSections.loc['tutorial1.Checkpoint00']['serverTime']"
   ]
  },
  {
   "cell_type": "code",
   "execution_count": null,
   "metadata": {},
   "outputs": [],
   "source": [
    "for checkpoint in timedSections.index:\n",
    "    print(checkpoint)"
   ]
  },
  {
   "cell_type": "code",
   "execution_count": null,
   "metadata": {},
   "outputs": [],
   "source": [
    "#timedSections = []\n",
    "\n",
    "#times = getCheckpointsTimes( sessionId )\n",
    "\n",
    "for checkpoint in timedSections.index:\n",
    "    if testTimeStamp < timedSections['firstReached'][checkpoint]:\n",
    "        print(checkpoint)"
   ]
  },
  {
   "cell_type": "code",
   "execution_count": null,
   "metadata": {},
   "outputs": [],
   "source": [
    "timedSections.empty"
   ]
  },
  {
   "cell_type": "code",
   "execution_count": null,
   "metadata": {},
   "outputs": [],
   "source": [
    "checkpointTimes.index"
   ]
  },
  {
   "cell_type": "code",
   "execution_count": null,
   "metadata": {},
   "outputs": [],
   "source": [
    "checkpointTimes.columns"
   ]
  },
  {
   "cell_type": "code",
   "execution_count": null,
   "metadata": {},
   "outputs": [],
   "source": [
    "testTimedSections = pd.DataFrame(data=None, columns=timedSectionsReachedColumns,index=timedSectionsIndex)\n",
    "testTimedSections"
   ]
  },
  {
   "cell_type": "code",
   "execution_count": null,
   "metadata": {},
   "outputs": [],
   "source": [
    "timedSectionsReachedColumns"
   ]
  },
  {
   "cell_type": "markdown",
   "metadata": {},
   "source": [
    "#### getCheckpointsTimesUser tinkering"
   ]
  },
  {
   "cell_type": "code",
   "execution_count": null,
   "metadata": {},
   "outputs": [],
   "source": [
    "# incomplete game\n",
    "_userId = '\"dfe8f036-8641-4d6c-8411-8a8346bb0402\"'\n",
    "#_userId = getRandomRedMetricsGUID()\n",
    "_sessionsList = []\n",
    "_rmDF = df152\n",
    "\n",
    "# Returns a given user's checkpoints, the first server time at which they were reached, and completion time\n",
    "#def getCheckpointsTimesUser( _userId, _sessionsList = [], _rmDF = df152 ):\n",
    "# List of associated sessions\n",
    "if( len(_sessionsList) == 0):\n",
    "    _sessionsList = getAllSessionsOfUser( _rmDF, _userId, True )\n",
    "\n",
    "# Call getCheckpointsTimes on all sessions associated with user,\n",
    "# then merge by taking oldest checkpoint completion\n",
    "_timedSections = pd.DataFrame(data=0, columns=timedSectionsReachedColumns,index=timedSectionsIndex)\n",
    "_timedSections[\"serverTime\"] = ''\n",
    "_timedSections[\"firstReached\"] = pd.Timestamp(0)\n",
    "_timedSections[\"firstCompletionDuration\"] = pd.Timedelta.max\n",
    "\n",
    "# merge\n",
    "# for each checkpoint reached, update if necessary\n",
    "for _sessionId in _sessionsList['sessionId']:        \n",
    "    _thisSessionTimes = getCheckpointsTimes( _sessionId )\n",
    "\n",
    "    for _checkpointName in _thisSessionTimes.index:\n",
    "        if ((_thisSessionTimes.loc[_checkpointName, 'firstReached'] != pd.Timestamp(0))\n",
    "            and\n",
    "            ((_timedSections.loc[_checkpointName, 'firstReached'] == pd.Timestamp(0))\n",
    "            or (_timedSections.loc[_checkpointName, 'firstReached'] > _thisSessionTimes.loc[_checkpointName, 'firstReached']))\n",
    "           ):\n",
    "            _timedSections.loc[_checkpointName, 'serverTime'] = _thisSessionTimes.loc[_checkpointName, 'serverTime']\n",
    "            _timedSections.loc[_checkpointName, 'firstReached'] = _thisSessionTimes.loc[_checkpointName, 'firstReached']\n",
    "            _timedSections.loc[_checkpointName, 'firstCompletionDuration'] = _thisSessionTimes.loc[_checkpointName, 'firstCompletionDuration']\n",
    "\n",
    "_timedSections"
   ]
  },
  {
   "cell_type": "markdown",
   "metadata": {},
   "source": [
    "print('second pass')\n",
    "            \n",
    "previous = ''\n",
    "for checkpointName in thisSessionTimes.index:\n",
    "    if(checkpointName != \"tutorial1.Checkpoint00\"):\n",
    "        if(\n",
    "            timedSections.loc[previous,\"firstReached\"] != pd.Timestamp(0)\n",
    "            and\n",
    "            timedSections.loc[checkpointName,\"firstReached\"] != pd.Timestamp(0)\n",
    "        ):\n",
    "            timedSections.loc[checkpointName,\"firstCompletionDuration\"] =\\\n",
    "            timedSections.loc[checkpointName,\"firstReached\"] - timedSections.loc[previous,\"firstReached\"]\n",
    "    previous = checkpointName\n",
    "#timedSections[\"firstCompletionDuration\"] = timedSections[\"firstReached\"].diff()\n",
    "timedSections"
   ]
  },
  {
   "cell_type": "code",
   "execution_count": null,
   "metadata": {},
   "outputs": [],
   "source": [
    "timedSections[\"test\"] = range(0,len(timedSections[\"firstReached\"]))"
   ]
  },
  {
   "cell_type": "code",
   "execution_count": null,
   "metadata": {},
   "outputs": [],
   "source": [
    "timedSections[\"test\"].diff()"
   ]
  },
  {
   "cell_type": "code",
   "execution_count": null,
   "metadata": {},
   "outputs": [],
   "source": [
    "timedSections[\"firstReached\"].fillna(pd.Timestamp.max)"
   ]
  },
  {
   "cell_type": "code",
   "execution_count": null,
   "metadata": {},
   "outputs": [],
   "source": [
    "timedSections[\"firstReached\"][:14].diff()"
   ]
  },
  {
   "cell_type": "code",
   "execution_count": null,
   "metadata": {},
   "outputs": [],
   "source": [
    "nanVar = np.nan\n",
    "if(np.isnan(nanVar)):\n",
    "    print('np.isnan(nan)')\n",
    "else:\n",
    "    print('not np.isnan(nan)')\n",
    "if(nanVar == np.nan):\n",
    "    print('np.nan == np.nan')\n",
    "else:\n",
    "    print('np.nan != np.nan')"
   ]
  },
  {
   "cell_type": "code",
   "execution_count": null,
   "metadata": {},
   "outputs": [],
   "source": [
    "natVar = np.datetime64('NaT')\n",
    "#if(np.isnat(natVar)):\n",
    "#    print('np.isnat(NaT)')\n",
    "#else:\n",
    "#    print('not np.isnat(NaT)')\n",
    "if(natVar == np.datetime64('NaT')):\n",
    "    print('np.NaT == np.NaT')\n",
    "else:\n",
    "    print('np.NaT != np.NaT')"
   ]
  },
  {
   "cell_type": "code",
   "execution_count": null,
   "metadata": {},
   "outputs": [],
   "source": [
    "checkpointName = 'tutorial1.Checkpoint00'\n",
    "timedSections['firstReached'][checkpointName]"
   ]
  },
  {
   "cell_type": "code",
   "execution_count": null,
   "metadata": {},
   "outputs": [],
   "source": [
    "timedSections"
   ]
  },
  {
   "cell_type": "code",
   "execution_count": null,
   "metadata": {},
   "outputs": [],
   "source": [
    "checkpointName"
   ]
  },
  {
   "cell_type": "code",
   "execution_count": null,
   "metadata": {},
   "outputs": [],
   "source": [
    "checkpointTimesUser = getCheckpointsTimesUser(testlocalplayerguid)\n",
    "checkpointTimesUser"
   ]
  },
  {
   "cell_type": "code",
   "execution_count": null,
   "metadata": {},
   "outputs": [],
   "source": [
    "checkpointTimesUser = getCheckpointsTimesUser(testlocalplayerguid)\n",
    "checkpointTimesUser"
   ]
  },
  {
   "cell_type": "code",
   "execution_count": null,
   "metadata": {},
   "outputs": [],
   "source": [
    "checkpointTimesUser['firstCompletionDuration']"
   ]
  },
  {
   "cell_type": "code",
   "execution_count": null,
   "metadata": {
    "scrolled": false
   },
   "outputs": [],
   "source": [
    "testTimedSections = pd.DataFrame(data=None, columns=timedSectionsReachedColumns,index=timedSectionsIndex)\n",
    "#testTimedSections['firstReached']['tutorial1.Checkpoint01'] = pd.Timestamp('20130102')\n",
    "testTimedSections[\"firstCompletionDuration\"] = testTimedSections[\"firstReached\"].diff()\n",
    "testTimedSections"
   ]
  },
  {
   "cell_type": "code",
   "execution_count": null,
   "metadata": {},
   "outputs": [],
   "source": [
    "# user \"e2f8d5e4-cccd-4d1a-909b-c9c92f6b83c1\"\n",
    "# session testSessionId\n",
    "getDeaths(testSessionId)\n",
    "testResult = getDeathsUser('\"e2f8d5e4-cccd-4d1a-909b-c9c92f6b83c1\"')\n",
    "testResult\n",
    "testResult.index\n",
    "#localplayerguid\n",
    "#\"8bd5d335-d20e-4db5-9979-feb668ba7c71\"\n",
    "getDeaths(\"8bd5d335-d20e-4db5-9979-feb668ba7c71\")\n",
    "getDeathsUser(localplayerguid)"
   ]
  },
  {
   "cell_type": "code",
   "execution_count": null,
   "metadata": {},
   "outputs": [],
   "source": [
    "eventSectionsColumns"
   ]
  },
  {
   "cell_type": "code",
   "execution_count": null,
   "metadata": {},
   "outputs": [],
   "source": [
    "perSessionRelevantColumns"
   ]
  },
  {
   "cell_type": "code",
   "execution_count": null,
   "metadata": {},
   "outputs": [],
   "source": [
    "sectionsEvents = getSectionsEvents('death', testSessionId)\n",
    "sectionsEvents"
   ]
  },
  {
   "cell_type": "code",
   "execution_count": null,
   "metadata": {},
   "outputs": [],
   "source": [
    "testResult = getUserSectionsEvents('death', '\"e2f8d5e4-cccd-4d1a-909b-c9c92f6b83c1\"')\n",
    "testResult"
   ]
  },
  {
   "cell_type": "code",
   "execution_count": null,
   "metadata": {
    "scrolled": true
   },
   "outputs": [],
   "source": [
    "getUserSectionsEventsTotal('death', '\"e2f8d5e4-cccd-4d1a-909b-c9c92f6b83c1\"')"
   ]
  },
  {
   "cell_type": "markdown",
   "metadata": {},
   "source": [
    "#### getUserCraftEventsTotal tinkering"
   ]
  },
  {
   "cell_type": "code",
   "execution_count": null,
   "metadata": {},
   "outputs": [],
   "source": [
    "# craftEventCodes = list([\"equip\",\"unequip\",\"add\",\"remove\"])\n",
    "eventCode = 'equip'\n",
    "userId = getRandomRedMetricsGUID()\n",
    "sessionsList=[]\n",
    "_rmDF = df152\n",
    "\n",
    "#def getUserCraftEventsTotal( eventCode, userId, sessionsList=[], _rmDF = df152 ):\n",
    "if(len(sessionsList) == 0):\n",
    "    sessionsList = getAllSessionsOfUser( _rmDF, userId, True )\n",
    "\n",
    "result = 0\n",
    "    \n",
    "if eventCode in craftEventCodes:\n",
    "    eventType = craftEventsColumns['eventType'][eventCode]\n",
    "    events = _rmDF[_rmDF['type']==eventType]\n",
    "    events = events[events[craftEventsColumns['column'][eventCode]].notnull()]\n",
    "    perSession = events[events['sessionId'].isin(sessionsList['sessionId'])]\n",
    "    result = len(perSession)\n",
    "else:\n",
    "    print(\"incorrect event code '\" + eventCode + \"'\")\n",
    "result, userId"
   ]
  },
  {
   "cell_type": "code",
   "execution_count": null,
   "metadata": {},
   "outputs": [],
   "source": []
  },
  {
   "cell_type": "markdown",
   "metadata": {},
   "source": [
    "#### getUserEventsTotal tinkering"
   ]
  },
  {
   "cell_type": "code",
   "execution_count": null,
   "metadata": {},
   "outputs": [],
   "source": [
    "eventType = 'death'\n",
    "#userId = '\"e2f8d5e4-cccd-4d1a-909b-c9c92f6b83c1\"'\n",
    "userId = getRandomRedMetricsGUID()\n",
    "sessionsList=[]\n",
    "_rmDF = df152\n",
    "\n",
    "#def getUserEventsTotal( eventType, userId, sessionsList=[], _rmDF = df152 ):\n",
    "if(len(sessionsList) == 0):\n",
    "    sessionsList = getAllSessionsOfUser( _rmDF, userId, True )\n",
    "\n",
    "sessionEvents = _rmDF[_rmDF['type']==eventType]\n",
    "perSession = sessionEvents[sessionEvents['sessionId'].isin(sessionsList['sessionId'])]\n",
    "len(perSession)"
   ]
  },
  {
   "cell_type": "markdown",
   "metadata": {},
   "source": [
    "#### getSessionDataPreview tinkering"
   ]
  },
  {
   "cell_type": "code",
   "execution_count": null,
   "metadata": {},
   "outputs": [],
   "source": [
    "_GFUserId = getSurveysOfBiologists(gform)[localplayerguidkey].iloc[2]\n",
    "#sample = gform[gform[localplayerguidkey] == _GFUserId]\n",
    "_RMUserId = unsafeGetRedMetricsGUIDFormat(_GFUserId)"
   ]
  },
  {
   "cell_type": "code",
   "execution_count": null,
   "metadata": {},
   "outputs": [],
   "source": [
    "_rmDF[_rmDF['sessionId'] == _sessionId]['type'].value_counts()"
   ]
  },
  {
   "cell_type": "code",
   "execution_count": null,
   "metadata": {},
   "outputs": [],
   "source": [
    "_rmDF = df152\n",
    "sessions = getAllSessionsOfUser( _rmDF, _RMUserId, True )\n",
    "_sessionId = sessions['sessionId'].iloc[0]\n",
    "\n",
    "# for per-session, manual analysis\n",
    "#def getSessionDataPreview( _sessionId, _rmDF ):\n",
    "\n",
    "_logs = _rmDF[_rmDF['sessionId'] == _sessionId]\n",
    "\n",
    "_timedEvents = _logs['userTime']\n",
    "_timedEvents = _timedEvents.map(lambda t: pd.to_datetime(t, utc=True))\n",
    "_timedEvents = _timedEvents.sort_values()\n",
    "_platform = _logs['customData.platform'].dropna()[0]\n",
    "_events = _logs['type'].value_counts()\n",
    "result = {\n",
    "    'first' : _timedEvents.iloc[0],\n",
    "    'last' : _timedEvents.iloc[-1],\n",
    "    'platform' : _platform,\n",
    "    'events' : _events\n",
    "}\n",
    "print(result)"
   ]
  },
  {
   "cell_type": "code",
   "execution_count": null,
   "metadata": {},
   "outputs": [],
   "source": [
    "events, first, last, platform, = result.values()"
   ]
  },
  {
   "cell_type": "code",
   "execution_count": null,
   "metadata": {},
   "outputs": [],
   "source": [
    "first, last, platform, events"
   ]
  },
  {
   "cell_type": "markdown",
   "metadata": {},
   "source": [
    "#### getUserDataPreview tinkering"
   ]
  },
  {
   "cell_type": "code",
   "execution_count": null,
   "metadata": {},
   "outputs": [],
   "source": [
    "_GFUserId = getSurveysOfBiologists(gform)[localplayerguidkey].iloc[2]\n",
    "#sample = gform[gform[localplayerguidkey] == _GFUserId]\n",
    "_RMUserId = unsafeGetRedMetricsGUIDFormat(_GFUserId)"
   ]
  },
  {
   "cell_type": "code",
   "execution_count": null,
   "metadata": {},
   "outputs": [],
   "source": [
    "events, first, last, platform"
   ]
  },
  {
   "cell_type": "code",
   "execution_count": null,
   "metadata": {},
   "outputs": [],
   "source": [
    "events"
   ]
  },
  {
   "cell_type": "code",
   "execution_count": null,
   "metadata": {},
   "outputs": [],
   "source": [
    "sdp = getSessionDataPreview(_sessionId, _rmDF = _rmDF)"
   ]
  },
  {
   "cell_type": "code",
   "execution_count": null,
   "metadata": {},
   "outputs": [],
   "source": [
    "sdp"
   ]
  },
  {
   "cell_type": "code",
   "execution_count": null,
   "metadata": {
    "scrolled": false
   },
   "outputs": [],
   "source": [
    "#_GFUserId = getRandomGFormGUID()\n",
    "#_RMUserId = unsafeGetRedMetricsGUIDFormat(_GFUserId)\n",
    "_rmDF = df152\n",
    "scoreLabel = 'score'\n",
    "\n",
    "# for per-user, manual analysis\n",
    "#def getUserDataPreview( _RMUserId, _rmDF = df152 ):\n",
    "_GFUserId = unsafeGetGFormGUIDFormat(_RMUserId)\n",
    "result = pd.DataFrame(\n",
    "    columns = [_RMUserId]\n",
    ")\n",
    "\n",
    "#    [ ] RM\n",
    "result.loc['REDMETRICS ANALYSIS'] = ' '\n",
    "#      [ ] sessions count\n",
    "sessions = getAllSessionsOfUser( _rmDF, _RMUserId, True )\n",
    "result.loc['sessions', _RMUserId] = len(sessions)\n",
    "#      [ ] first event date\n",
    "result.loc['firstEvent', _RMUserId] = getFirstEventDate( _RMUserId )\n",
    "#      [ ] time played\n",
    "#      [ ] dates played\n",
    "#      [ ] first played, last played\n",
    "sessionIds = sessions['sessionId']\n",
    "for _sessionIdIndex in range(0, len(sessions['sessionId'])):\n",
    "    _sessionId = sessionIds.iloc[_sessionIdIndex]\n",
    "    sdp = getSessionDataPreview(_sessionId, _rmDF = _rmDF)\n",
    "\n",
    "    result.loc['session' + str(_sessionIdIndex) + ' platform',_RMUserId] = sdp['platform']\n",
    "    result.loc['session' + str(_sessionIdIndex) + ' first',_RMUserId] = sdp['first']\n",
    "    result.loc['session' + str(_sessionIdIndex) + ' last',_RMUserId] = sdp['last']\n",
    "    result.loc['session' + str(_sessionIdIndex) + ' events',_RMUserId] = str(sdp['events'])\n",
    "#      [ ] best chapter\n",
    "#      [ ] counts of events: deaths, crafts,...\n",
    "\n",
    "#    [ ] GF\n",
    "result.loc['GFORM ANALYSIS'] = ' '\n",
    "#      [ ] score(s)\n",
    "score = getScore( _RMUserId )\n",
    "for _temporality in score.columns:\n",
    "    _score = score.loc[scoreLabel,_temporality]\n",
    "    if(len(_score)>0):\n",
    "        if(_temporality == 'before'):\n",
    "            _score = _score[len(_score)-1]\n",
    "        else:\n",
    "            _score = _score[0]\n",
    "    else:\n",
    "        _score = np.nan\n",
    "    result.loc[scoreLabel+_temporality,_RMUserId] = _score\n",
    "#        [ ] progression\n",
    "#      [ ] demographics\n",
    "result.loc[scoreLabel+'s',_RMUserId] = str(score.values)\n",
    "\n",
    "gfDataPreview = getGFormDataPreview(_GFUserId, gform)\n",
    "features = {1: 'date', 2: 'temporality RM', 3: 'temporality GF', 4: 'score', 5: 'genderAge'}\n",
    "for key in gfDataPreview:\n",
    "    for featureKey in features:\n",
    "        result.loc[key + ' ' + features[featureKey]] = str(gfDataPreview[key][features[featureKey]])\n",
    "    index = 0\n",
    "    for match in gfDataPreview[key]['demographic matches']:\n",
    "        result.loc[key + ' demographic match ' + str(index)] = repr(match)\n",
    "        index += 1\n",
    "     \n",
    "result"
   ]
  },
  {
   "cell_type": "code",
   "execution_count": null,
   "metadata": {},
   "outputs": [],
   "source": [
    "answerTemporalities"
   ]
  },
  {
   "cell_type": "code",
   "execution_count": null,
   "metadata": {},
   "outputs": [],
   "source": [
    "getUserDataPreview(undefinedId)"
   ]
  },
  {
   "cell_type": "code",
   "execution_count": null,
   "metadata": {},
   "outputs": [],
   "source": [
    "for undefinedId in gform[gform['Temporality'] == answerTemporalities[2]][localplayerguidkey]:\n",
    "    getUserDataPreview(undefinedId)"
   ]
  },
  {
   "cell_type": "code",
   "execution_count": null,
   "metadata": {},
   "outputs": [],
   "source": [
    "\n",
    "\n"
   ]
  },
  {
   "cell_type": "markdown",
   "metadata": {},
   "source": [
    "# Checks on user metrics\n",
    "<a id=checkusermetrics />"
   ]
  },
  {
   "cell_type": "markdown",
   "metadata": {},
   "source": [
    "### Sequence of actions\n",
    "\n",
    "    sandbox\n",
    "    crafting\n",
    "    equip device\n",
    "    unequip device\n",
    "    add PCONS\n",
    "    add 6\n",
    "    add Ampicillin\n",
    "    add T\n",
    "    > auto craft\n",
    "    > auto equip\n",
    "    remove T\n",
    "    > auto unequip\n",
    "    add T\n",
    "    > auto equip\n",
    "    add 12\n",
    "    > auto craft\n",
    "    > auto equip\n",
    "    add 6\n",
    "    > auto equip\n",
    "    exit crafting\n",
    "    dies\n",
    "    > auto unequip\n",
    "    set language to english"
   ]
  },
  {
   "cell_type": "code",
   "execution_count": null,
   "metadata": {
    "scrolled": false
   },
   "outputs": [],
   "source": [
    "rdfcrafttest = pd.read_csv(\"../../data/2017-10-10.craft-test.csv\")\n",
    "rdfcrafttest = getNormalizedRedMetricsCSV(rdfcrafttest)\n",
    "rdfcrafttest"
   ]
  },
  {
   "cell_type": "code",
   "execution_count": null,
   "metadata": {},
   "outputs": [],
   "source": [
    "craftEventsColumns"
   ]
  },
  {
   "cell_type": "code",
   "execution_count": null,
   "metadata": {},
   "outputs": [],
   "source": [
    "craftEventsColumns['column']['equip']"
   ]
  },
  {
   "cell_type": "code",
   "execution_count": null,
   "metadata": {},
   "outputs": [],
   "source": [
    "type(craftEventCodes)"
   ]
  },
  {
   "cell_type": "code",
   "execution_count": null,
   "metadata": {},
   "outputs": [],
   "source": [
    "test = np.unique(np.concatenate((perSessionRelevantColumns, [craftEventsColumns['column']['equip']])))\n",
    "test"
   ]
  },
  {
   "cell_type": "code",
   "execution_count": null,
   "metadata": {},
   "outputs": [],
   "source": [
    "# user 344 adds\n",
    "#'\"e2f8d5e4-cccd-4d1a-909b-c9c92f6b83c1\"'\n",
    "# one of its sessions\n",
    "# fab3ea03-6ff1-483f-a90a-74ff47d0b556\n",
    "#\n",
    "# user 22 adds\n",
    "#'\"8d352896-a3f1-471c-8439-0f426df901c1\"'\n",
    "#\n",
    "\n",
    "# session test\n",
    "craftSessionTest = getSectionsCraftEvents('equip', \"fab3ea03-6ff1-483f-a90a-74ff47d0b556\")\n",
    "# user test\n",
    "craftUserTest = getUserSectionsCraftEvents('equip', '\"e2f8d5e4-cccd-4d1a-909b-c9c92f6b83c1\"')\n",
    "# user count test\n",
    "craftUserTestCount = getUserSectionsCraftEventsTotal('equip', '\"e2f8d5e4-cccd-4d1a-909b-c9c92f6b83c1\"')\n",
    "craftUserTestCount"
   ]
  },
  {
   "cell_type": "code",
   "execution_count": null,
   "metadata": {},
   "outputs": [],
   "source": [
    "print(\"craftSessionTest=\" + str(craftSessionTest))\n",
    "print(\"craftUserTest=\" + str(craftUserTest))\n",
    "print(\"craftUserTestCount=\" + str(craftUserTestCount))"
   ]
  },
  {
   "cell_type": "code",
   "execution_count": null,
   "metadata": {},
   "outputs": [],
   "source": [
    "columnName = craftEventsColumns['column']['equip']\n",
    "columnName"
   ]
  },
  {
   "cell_type": "code",
   "execution_count": null,
   "metadata": {},
   "outputs": [],
   "source": [
    "result = list([])\n",
    "for entry in df152[columnName]:\n",
    "    if not pd.isnull(entry):\n",
    "        result.append(entry)\n",
    "result"
   ]
  },
  {
   "cell_type": "code",
   "execution_count": null,
   "metadata": {},
   "outputs": [],
   "source": [
    "#df152[columnName].notnull()"
   ]
  },
  {
   "cell_type": "code",
   "execution_count": null,
   "metadata": {},
   "outputs": [],
   "source": [
    "sectionsEvents = pd.DataFrame(0, columns=eventSectionsCountColumns, index=range(0))\n",
    "sectionsEvents"
   ]
  },
  {
   "cell_type": "code",
   "execution_count": null,
   "metadata": {},
   "outputs": [],
   "source": [
    "#events = df152[df152['type']==eventType and not df152[craftEventsColumns['column'][eventCode]].isnull()].loc[:,perSessionRelevantColumns]"
   ]
  },
  {
   "cell_type": "code",
   "execution_count": null,
   "metadata": {},
   "outputs": [],
   "source": []
  },
  {
   "cell_type": "markdown",
   "metadata": {},
   "source": [
    "#### getUserDataVector tinkering"
   ]
  },
  {
   "cell_type": "code",
   "execution_count": null,
   "metadata": {},
   "outputs": [],
   "source": [
    "testUser = unsafeGetRedMetricsGUIDFormat(getRandomGFormGUID())\n",
    "print(testUser)\n",
    "#testResult = getUserDataVector(testUser)\n",
    "#testResult"
   ]
  },
  {
   "cell_type": "code",
   "execution_count": null,
   "metadata": {},
   "outputs": [],
   "source": []
  },
  {
   "cell_type": "code",
   "execution_count": null,
   "metadata": {},
   "outputs": [],
   "source": [
    "userId = unsafeGetRedMetricsGUIDFormat(getRandomGFormGUID())\n",
    "#userId = '\"1f27519a-971f-4e39-bac7-9920bfc4b05b\"' #undefined temporality\n",
    "print(userId)\n",
    "isRMId = True\n",
    "_source = correctAnswers\n",
    "_rmDF = df152\n",
    "\n",
    "#def getUserDataVector( userId, isRMId = True, _source = [], _rmDF = df152 ):\n",
    "rmUserId = userId\n",
    "if(not isRMId):\n",
    "    rmUserId = unsafeGetRedMetricsGUIDFormat(userId)\n",
    "\n",
    "sessionsList = getAllSessionsOfUser( _rmDF, rmUserId, True )\n",
    "\n",
    "columnName = str(rmUserId)\n",
    "\n",
    "data = pd.DataFrame(0, columns=[columnName],index=userDataVectorIndex)\n",
    "\n",
    "score = getScore( rmUserId )\n",
    "for _temporality in score.columns:\n",
    "    _score = score.loc[scoreLabel,_temporality]\n",
    "    if(len(_score)>0):\n",
    "        if(_temporality == 'before'):\n",
    "            _score = _score[len(_score)-1]\n",
    "        else:\n",
    "            _score = _score[0]\n",
    "    else:\n",
    "        _score = np.nan\n",
    "    data.loc[scoreLabel+_temporality,columnName] = _score\n",
    "\n",
    "data.loc['sessionsCount',columnName] = countSessions( rmUserId, False, sessionsList, _rmDF = _rmDF)\n",
    "\n",
    "for eventName in simpleEvents:\n",
    "    if eventName in craftEventCodes:\n",
    "        data.loc[eventName,columnName] = getUserCraftEventsTotal(eventName, rmUserId, sessionsList)\n",
    "    else:\n",
    "        data.loc[eventName,columnName] = getUserEventsTotal(eventName, rmUserId, sessionsList)\n",
    "    #elif eventName in noSectionEventCodes:\n",
    "    #    data.loc[eventName,columnName] = getUserEventsTotal(eventName, rmUserId, sessionsList)\n",
    "    #else:\n",
    "    #    data.loc[eventName,columnName] = getUserSectionsEventsTotal(eventName, rmUserId, sessionsList)\n",
    "\n",
    "# time spent on each chapter\n",
    "times = getCheckpointsTimesUser(rmUserId)\n",
    "\n",
    "for chapter in timedSectionsIndex:\n",
    "    data.loc[chapter,columnName] = times.loc[chapter,\"firstCompletionDuration\"].total_seconds()\n",
    "    \n",
    "if(len(_source) != 0):\n",
    "    gfUserId = unsafeGetGFormGUIDFormat(rmUserId)\n",
    "    gformLine = gform[gform[localplayerguidkey] == gfUserId]\n",
    "    afters = gformLine[gformLine['Temporality'] == 'after']\n",
    "    if(len(afters) > 0):\n",
    "        gformLine = afters.iloc[0]\n",
    "    else:\n",
    "        befores = gformLine[gformLine['Temporality'] == 'before']\n",
    "        if(len(befores) > 0):\n",
    "            gformLine = befores.iloc[len(befores)-1]\n",
    "        else:\n",
    "            gformLine = gformLine.iloc[len(gformLine)-1]\n",
    "\n",
    "    # add data from the gform: binary score on each question\n",
    "    gformData = getBinarized(gformLine, _source = _source)\n",
    "    \n",
    "    for question in gformData.index:\n",
    "        data.loc[question,columnName] = gformData.loc[question]\n",
    "    \n",
    "data"
   ]
  },
  {
   "cell_type": "code",
   "execution_count": null,
   "metadata": {},
   "outputs": [],
   "source": [
    "times"
   ]
  },
  {
   "cell_type": "code",
   "execution_count": null,
   "metadata": {},
   "outputs": [],
   "source": [
    "eventName"
   ]
  },
  {
   "cell_type": "code",
   "execution_count": null,
   "metadata": {},
   "outputs": [],
   "source": [
    "getUserSectionsEvents( 'start', userId, sessionsList )"
   ]
  },
  {
   "cell_type": "code",
   "execution_count": null,
   "metadata": {},
   "outputs": [],
   "source": [
    "perSession = perSession[perSession['section'].str.startswith('tutorial', na=False)]"
   ]
  }
 ],
 "metadata": {
  "kernelspec": {
   "display_name": "Python [conda env:python3]",
   "language": "python",
   "name": "conda-env-python3-py"
  },
  "language_info": {
   "codemirror_mode": {
    "name": "ipython",
    "version": 3
   },
   "file_extension": ".py",
   "mimetype": "text/x-python",
   "name": "python",
   "nbconvert_exporter": "python",
   "pygments_lexer": "ipython3",
   "version": "3.5.4"
  }
 },
 "nbformat": 4,
 "nbformat_minor": 1
}
