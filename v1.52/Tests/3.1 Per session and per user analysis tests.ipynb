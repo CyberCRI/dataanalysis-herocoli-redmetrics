{
 "cells": [
  {
   "cell_type": "markdown",
   "metadata": {},
   "source": [
    "# Per session and per user analysis\n",
    "\n",
    "Analysis of users."
   ]
  },
  {
   "cell_type": "markdown",
   "metadata": {},
   "source": [
    "# Table of Contents\n",
    "\n",
    "1.  [Preparation](#preparation)\n",
    "\n",
    "2.  [Function tests](#functests)\n",
    "\n",
    "3. [User metrics checks](#checkusermetrics)"
   ]
  },
  {
   "cell_type": "markdown",
   "metadata": {},
   "source": [
    "# Preparation\n",
    "<a id=preparation />"
   ]
  },
  {
   "cell_type": "code",
   "execution_count": null,
   "metadata": {
    "scrolled": true
   },
   "outputs": [],
   "source": [
    "%run \"../Functions/3. Per session and per user analysis.ipynb\""
   ]
  },
  {
   "cell_type": "code",
   "execution_count": null,
   "metadata": {},
   "outputs": [],
   "source": [
    "df152.head()"
   ]
  },
  {
   "cell_type": "markdown",
   "metadata": {},
   "source": [
    "# Per-session analysis"
   ]
  },
  {
   "cell_type": "code",
   "execution_count": null,
   "metadata": {
    "scrolled": false
   },
   "outputs": [],
   "source": [
    "\n",
    "\n",
    "testSessionId = \"fab3ea03-6ff1-483f-a90a-74ff47d0b556\"\n",
    "\n",
    "perSession = df152[df152['type']=='reach'].loc[:,perSessionRelevantColumns]\n",
    "perSession = perSession[perSession['sessionId']==testSessionId]\n",
    "perSession = perSession[perSession['section'].str.startswith('tutorial', na=False)]\n",
    "perSession"
   ]
  },
  {
   "cell_type": "code",
   "execution_count": null,
   "metadata": {},
   "outputs": [],
   "source": [
    "allSessions = getAllSessions( df152, True )\n",
    "allSessions.head()"
   ]
  },
  {
   "cell_type": "code",
   "execution_count": null,
   "metadata": {},
   "outputs": [],
   "source": [
    "allSessions[allSessions['sessionId']==testSessionId]"
   ]
  },
  {
   "cell_type": "code",
   "execution_count": null,
   "metadata": {},
   "outputs": [],
   "source": [
    "allSessions[allSessions['userId']=='\"e2f8d5e4-cccd-4d1a-909b-c9c92f6b83c1\"']"
   ]
  },
  {
   "cell_type": "markdown",
   "metadata": {},
   "source": [
    "# Per user analysis"
   ]
  },
  {
   "cell_type": "code",
   "execution_count": null,
   "metadata": {},
   "outputs": [],
   "source": [
    "# English-speaking user who answered the questionnaire - cf 'Google form analysis.ipynb'.\n",
    "localplayerguid = '\"8d352896-a3f1-471c-8439-0f426df901c1\"'\n",
    "#localplayerguid = '\"7037c5b2-c286-498e-9784-9a061c778609\"'\n",
    "#localplayerguid = '\"5c4939b5-425b-4d19-b5d2-0384a515539e\"'\n",
    "#localplayerguid = '\"7825d421-d668-4481-898a-46b51efe40f0\"'\n",
    "#localplayerguid = '\"acb9c989-b4a6-4c4d-81cc-6b5783ec71d8\"'\n",
    "localplayerguid"
   ]
  },
  {
   "cell_type": "code",
   "execution_count": null,
   "metadata": {},
   "outputs": [],
   "source": [
    "perUserRelevantColumns = ['sessionId', 'serverTime', 'section']"
   ]
  },
  {
   "cell_type": "code",
   "execution_count": null,
   "metadata": {},
   "outputs": [],
   "source": [
    "sessionsList = getAllSessionsOfUser(df152, localplayerguid, True)\n",
    "sessionsList"
   ]
  },
  {
   "cell_type": "code",
   "execution_count": null,
   "metadata": {},
   "outputs": [],
   "source": [
    "# List all 'reach' events with those sessionIds.\n",
    "perUser = df152[df152['type']=='reach'].loc[:,perUserRelevantColumns]\n",
    "perUser = perUser[perUser['sessionId'].isin(sessionsList['sessionId'])]\n",
    "perUser = perUser[perUser['section'].str.startswith('tutorial', na=False)]\n",
    "perUser.describe()\n",
    "perUser.head()"
   ]
  },
  {
   "cell_type": "markdown",
   "metadata": {},
   "source": [
    "# Common analysis"
   ]
  },
  {
   "cell_type": "markdown",
   "metadata": {},
   "source": [
    "#### Switch here between users and sessions."
   ]
  },
  {
   "cell_type": "code",
   "execution_count": null,
   "metadata": {},
   "outputs": [],
   "source": [
    "#sectionsList = perSession\n",
    "sectionsList = perUser"
   ]
  },
  {
   "cell_type": "code",
   "execution_count": null,
   "metadata": {},
   "outputs": [],
   "source": [
    "timedSections = sectionsList.groupby(\"section\").agg({ \"serverTime\": np.min })\n",
    "timedSections.head()"
   ]
  },
  {
   "cell_type": "code",
   "execution_count": null,
   "metadata": {},
   "outputs": [],
   "source": [
    "timedSections[\"firstReached\"] = pd.to_datetime(timedSections[\"serverTime\"])\n",
    "timedSections.head()"
   ]
  },
  {
   "cell_type": "code",
   "execution_count": null,
   "metadata": {
    "scrolled": true
   },
   "outputs": [],
   "source": [
    "timedSections[\"firstCompletionDuration\"] = timedSections[\"firstReached\"].diff()\n",
    "timedSections"
   ]
  },
  {
   "cell_type": "markdown",
   "metadata": {},
   "source": [
    "#### getCheckpointsTimes tinkering"
   ]
  },
  {
   "cell_type": "code",
   "execution_count": null,
   "metadata": {},
   "outputs": [],
   "source": [
    "testUser = unsafeGetRedMetricsGUIDFormat(getRandomGFormGUID())\n",
    "testSession = getRandomSessionGUID( _userId = testUser )"
   ]
  },
  {
   "cell_type": "code",
   "execution_count": null,
   "metadata": {},
   "outputs": [],
   "source": [
    "timedSections1 = getCheckpointsTimes(testSession)\n",
    "timedSections1"
   ]
  },
  {
   "cell_type": "code",
   "execution_count": null,
   "metadata": {
    "scrolled": false
   },
   "outputs": [],
   "source": [
    "sessionId = testSession\n",
    "timedSections = []\n",
    "\n",
    "# Returns a given session's checkpoints, the first server time at which they were reached, and completion time\n",
    "#def getCheckpointsTimes( sessionId ):\n",
    "perSession = reachEvents[reachEvents['sessionId']==sessionId]\n",
    "perSession = perSession[perSession['section'].str.startswith('tutorial', na=False)]\n",
    "\n",
    "timedSections = pd.DataFrame(data=0, columns=timedSectionsReachedColumns,index=timedSectionsIndex)\n",
    "timedSections[\"serverTime\"] = perSession.groupby(\"section\").agg({ \"serverTime\": np.min })\n",
    "timedSections[\"firstReached\"] = pd.to_datetime(timedSections[\"serverTime\"])\n",
    "timedSections[\"firstCompletionDuration\"] = timedSections[\"firstReached\"].diff()\n",
    "#if(\"tutorial1.Checkpoint00\" in timedSections.index):\n",
    "#    timedSections.loc[\"tutorial1.Checkpoint00\",\"firstCompletionDuration\"] = 0\n",
    "\n",
    "timedSections = timedSections.fillna(0)\n",
    "\n",
    "timedSections"
   ]
  },
  {
   "cell_type": "code",
   "execution_count": null,
   "metadata": {},
   "outputs": [],
   "source": [
    "len(timedSections)"
   ]
  },
  {
   "cell_type": "code",
   "execution_count": null,
   "metadata": {},
   "outputs": [],
   "source": [
    "chapter = \"tutorial1.Checkpoint01\"\n",
    "time = ''\n",
    "if(not chapter in timedSections.index):    \n",
    "    print(\"no timed sections\")\n",
    "else:\n",
    "    time = timedSections.loc[chapter,\"firstCompletionDuration\"]\n",
    "time"
   ]
  },
  {
   "cell_type": "code",
   "execution_count": null,
   "metadata": {
    "scrolled": false
   },
   "outputs": [],
   "source": [
    "timedSections1 == timedSections"
   ]
  },
  {
   "cell_type": "code",
   "execution_count": null,
   "metadata": {},
   "outputs": [],
   "source": [
    "reachEvents.iloc[0,0]"
   ]
  },
  {
   "cell_type": "markdown",
   "metadata": {},
   "source": [
    "# Function tests\n",
    "<a id=functests />"
   ]
  },
  {
   "cell_type": "code",
   "execution_count": null,
   "metadata": {},
   "outputs": [],
   "source": [
    "#'\"7412a447-8177-48e9-82c5-cb31032f76a9\"': didn't answer\n",
    "testUser = unsafeGetRedMetricsGUIDFormat(getRandomGFormGUID())\n",
    "testResult = getUserDataVector(testUser)\n",
    "print(testUser)\n",
    "testResult"
   ]
  },
  {
   "cell_type": "code",
   "execution_count": null,
   "metadata": {},
   "outputs": [],
   "source": [
    "testResult[testUser]['death']"
   ]
  },
  {
   "cell_type": "code",
   "execution_count": null,
   "metadata": {},
   "outputs": [],
   "source": [
    "testResult = getUserDataVector('\"e2f8d5e4-cccd-4d1a-909b-c9c92f6b83c1\"')\n",
    "testResult"
   ]
  },
  {
   "cell_type": "code",
   "execution_count": null,
   "metadata": {},
   "outputs": [],
   "source": [
    "testResult = getUserDataVector('\"8d352896-a3f1-471c-8439-0f426df901c1\"')\n",
    "testResult"
   ]
  },
  {
   "cell_type": "code",
   "execution_count": null,
   "metadata": {
    "scrolled": true
   },
   "outputs": [],
   "source": [
    "gformNotEnough = []\n",
    "print(gformNotEnough)\n",
    "\n",
    "gformNotEnough.append(5)\n",
    "print(gformNotEnough)\n",
    "\n",
    "gformNotEnough = pd.Series(gformNotEnough)\n",
    "print(gformNotEnough)\n",
    "\n",
    "gformNotEnough = np.array([])\n",
    "print(gformNotEnough)\n",
    "\n",
    "gformNotEnough = np.append(gformNotEnough, [5])\n",
    "print(gformNotEnough)\n",
    "\n",
    "gformNotEnough = pd.Series(gformNotEnough)\n",
    "print(gformNotEnough)\n",
    "\n",
    "testNonVal = pd.Series(['tutorial1.Checkpoint13'])"
   ]
  },
  {
   "cell_type": "markdown",
   "metadata": {},
   "source": [
    "#### getDiscrepancyGameGForm tinkering"
   ]
  },
  {
   "cell_type": "code",
   "execution_count": null,
   "metadata": {},
   "outputs": [],
   "source": [
    "randomguid = getRandomRedMetricsGUID()\n",
    "randomguid"
   ]
  },
  {
   "cell_type": "code",
   "execution_count": null,
   "metadata": {},
   "outputs": [],
   "source": [
    "gformNonVal = getNonValidatedCheckpoints(randomguid)\n",
    "gformNonVal"
   ]
  },
  {
   "cell_type": "code",
   "execution_count": null,
   "metadata": {},
   "outputs": [],
   "source": [
    "gformVal = getValidatedCheckpoints(randomguid)\n",
    "gformVal"
   ]
  },
  {
   "cell_type": "code",
   "execution_count": null,
   "metadata": {},
   "outputs": [],
   "source": [
    "gameVal = getUserCheckpoints( randomguid )\n",
    "gameVal"
   ]
  },
  {
   "cell_type": "markdown",
   "metadata": {},
   "source": [
    "#sorted, unique values in series1 that are not in series2\n",
    "#np.setdiff1d(series1.values, series2.values)\n",
    "\n",
    "#user has answered questions whose answer they haven't seen in the game\n",
    "gameNotEnough = pd.Series(np.setdiff1d(gformVal.values, gameVal.values))\n"
   ]
  },
  {
   "cell_type": "code",
   "execution_count": null,
   "metadata": {},
   "outputs": [],
   "source": [
    "\n",
    "#user has not answered questions whose answer they have seen in the game\n",
    "gformNotEnough = []\n",
    "maxGameVal = ''"
   ]
  },
  {
   "cell_type": "markdown",
   "metadata": {},
   "source": [
    "if gameVal.values.size!=0:\n",
    "    gameVal.values.max()\n",
    "for nonVal in gformNonVal.values:\n",
    "    if nonVal >= maxGameVal:\n",
    "        gformNotEnough.append(nonVal)    \n",
    "gformNotEnough = pd.Series(gformNotEnough)"
   ]
  },
  {
   "cell_type": "markdown",
   "metadata": {},
   "source": [
    "getDiscrepancyGameGForm( randomguid )"
   ]
  },
  {
   "cell_type": "code",
   "execution_count": null,
   "metadata": {},
   "outputs": [],
   "source": [
    "getUserCheckpoints(localplayerguid)"
   ]
  },
  {
   "cell_type": "code",
   "execution_count": null,
   "metadata": {},
   "outputs": [],
   "source": [
    "test = getValidatedCheckpoints(localplayerguid)\n",
    "test\n",
    "\n",
    "max = test.values.max()\n",
    "max\n",
    "\n",
    "getNonValidatedCheckpoints(localplayerguid)\n",
    "\n",
    "testlocalplayerguid = '\"7412a447-8177-48e9-82c5-cb31032f76a9\"'\n",
    "\n",
    "test = pd.DataFrame({\n",
    "                        'section' : ['tutorial1.Checkpoint00', 'tutorial1.Checkpoint01', 'tutorial1.Checkpoint02'],\n",
    "                        'serverTime' : ['0', '1', '2'],\n",
    "                        'firstReached' : ['0', '1', '2'],\n",
    "                        'firstCompletionDuration' : ['0', '1', '2'],\n",
    "                    })\n",
    "test\n",
    "#pd.DataFrame({  'A' : 1.,\n",
    "#                'B' : pd.Timestamp('20130102'),\n",
    "#                'C' : pd.Series(1,index=list(range(4)),dtype='float32'),\n",
    "#                'D' : np.array([3] * 4,dtype='int32'),\n",
    "#                'E' : pd.Categorical([\"test\",\"train\",\"test\",\"train\"]),\n",
    "#                'F' : 'foo' })"
   ]
  },
  {
   "cell_type": "code",
   "execution_count": null,
   "metadata": {
    "scrolled": true
   },
   "outputs": [],
   "source": [
    "testSr = pd.Series([])\n",
    "testSr.values.size"
   ]
  },
  {
   "cell_type": "code",
   "execution_count": null,
   "metadata": {},
   "outputs": [],
   "source": [
    "checkpointTimes = getCheckpointsTimes('\"958a0e85-1634-4559-bce6-d6af28b7e649\"')\n",
    "checkpointTimes"
   ]
  },
  {
   "cell_type": "code",
   "execution_count": null,
   "metadata": {
    "scrolled": true
   },
   "outputs": [],
   "source": [
    "type(checkpointTimes)"
   ]
  },
  {
   "cell_type": "code",
   "execution_count": null,
   "metadata": {},
   "outputs": [],
   "source": [
    "testDF = pd.DataFrame({}, columns=checkpointTimes.columns)\n",
    "testDF"
   ]
  },
  {
   "cell_type": "code",
   "execution_count": null,
   "metadata": {},
   "outputs": [],
   "source": [
    "testDF['serverTime']['testIndex'] = np.nan\n",
    "testDF"
   ]
  },
  {
   "cell_type": "code",
   "execution_count": null,
   "metadata": {},
   "outputs": [],
   "source": [
    "testDF = testDF.add({'serverTime': 'a', 'firstReached': 'b', 'firstCompletionDuration': 'c'})\n",
    "testDF"
   ]
  },
  {
   "cell_type": "code",
   "execution_count": null,
   "metadata": {},
   "outputs": [],
   "source": [
    "othersessionId = \"c430c60c-d7cb-4fc5-893b-dce440696caf\"\n",
    "checkpointTimes = getCheckpointsTimes(othersessionId)\n",
    "checkpointTimes"
   ]
  },
  {
   "cell_type": "code",
   "execution_count": null,
   "metadata": {},
   "outputs": [],
   "source": [
    "checkpointTimes.loc[checkpointTimes.index[0]]"
   ]
  },
  {
   "cell_type": "code",
   "execution_count": null,
   "metadata": {},
   "outputs": [],
   "source": [
    "checkpointTimes.loc[checkpointTimes.index[0]].name"
   ]
  },
  {
   "cell_type": "code",
   "execution_count": null,
   "metadata": {},
   "outputs": [],
   "source": [
    "reachEvents.head()"
   ]
  },
  {
   "cell_type": "code",
   "execution_count": null,
   "metadata": {},
   "outputs": [],
   "source": [
    "perSession = reachEvents[reachEvents['sessionId']==othersessionId]\n",
    "perSession.head()"
   ]
  },
  {
   "cell_type": "code",
   "execution_count": null,
   "metadata": {},
   "outputs": [],
   "source": [
    "perSession = perSession[perSession['section'].str.startswith('tutorial', na=False)]\n",
    "perSession.head()"
   ]
  },
  {
   "cell_type": "code",
   "execution_count": null,
   "metadata": {},
   "outputs": [],
   "source": [
    "timedSections = perSession.groupby(\"section\").agg({ \"serverTime\": np.min })\n",
    "timedSections.head()"
   ]
  },
  {
   "cell_type": "code",
   "execution_count": null,
   "metadata": {},
   "outputs": [],
   "source": [
    "timedSections[\"firstReached\"] = pd.to_datetime(timedSections[\"serverTime\"])\n",
    "timedSections.head()"
   ]
  },
  {
   "cell_type": "code",
   "execution_count": null,
   "metadata": {
    "scrolled": true
   },
   "outputs": [],
   "source": [
    "timedSections[\"firstCompletionDuration\"] = timedSections[\"firstReached\"].diff()\n",
    "timedSections.head()"
   ]
  },
  {
   "cell_type": "code",
   "execution_count": null,
   "metadata": {},
   "outputs": [],
   "source": [
    "pd.melt(timedSections).head(1)"
   ]
  },
  {
   "cell_type": "code",
   "execution_count": null,
   "metadata": {
    "scrolled": true
   },
   "outputs": [],
   "source": [
    "timedSections.unstack().reset_index().drop('level_0', axis=1).head(1)"
   ]
  },
  {
   "cell_type": "code",
   "execution_count": null,
   "metadata": {},
   "outputs": [],
   "source": [
    "timedSections.columns"
   ]
  },
  {
   "cell_type": "code",
   "execution_count": null,
   "metadata": {},
   "outputs": [],
   "source": [
    "timedSections.index"
   ]
  },
  {
   "cell_type": "code",
   "execution_count": null,
   "metadata": {},
   "outputs": [],
   "source": [
    "#timedSections[timedSections['section']=='tutorial1.Checkpoint00']\n",
    "#timedSections['section']\n",
    "#timedSections.unstack().reset_index().drop('level_0', axis=1)"
   ]
  },
  {
   "cell_type": "code",
   "execution_count": null,
   "metadata": {},
   "outputs": [],
   "source": [
    "timedSections['serverTime']['tutorial1.Checkpoint00']"
   ]
  },
  {
   "cell_type": "code",
   "execution_count": null,
   "metadata": {},
   "outputs": [],
   "source": [
    "timedSections['firstReached']['tutorial1.Checkpoint00']"
   ]
  },
  {
   "cell_type": "code",
   "execution_count": null,
   "metadata": {},
   "outputs": [],
   "source": [
    "testTimeStamp = pd.Timestamp('2017-01-12 11:00:15.511000')\n",
    "testTimeStamp"
   ]
  },
  {
   "cell_type": "code",
   "execution_count": null,
   "metadata": {},
   "outputs": [],
   "source": [
    "timedSections.loc['tutorial1.Checkpoint00']"
   ]
  },
  {
   "cell_type": "code",
   "execution_count": null,
   "metadata": {},
   "outputs": [],
   "source": [
    "timedSections.loc['tutorial1.Checkpoint00']['serverTime']"
   ]
  },
  {
   "cell_type": "code",
   "execution_count": null,
   "metadata": {},
   "outputs": [],
   "source": [
    "for checkpoint in timedSections.index:\n",
    "    print(checkpoint)"
   ]
  },
  {
   "cell_type": "code",
   "execution_count": null,
   "metadata": {},
   "outputs": [],
   "source": [
    "#timedSections = []\n",
    "\n",
    "#times = getCheckpointsTimes( sessionId )\n",
    "\n",
    "for checkpoint in timedSections.index:\n",
    "    if testTimeStamp < timedSections['firstReached'][checkpoint]:\n",
    "        print(checkpoint)"
   ]
  },
  {
   "cell_type": "code",
   "execution_count": null,
   "metadata": {},
   "outputs": [],
   "source": [
    "timedSections.empty"
   ]
  },
  {
   "cell_type": "code",
   "execution_count": null,
   "metadata": {},
   "outputs": [],
   "source": [
    "checkpointTimes.index"
   ]
  },
  {
   "cell_type": "code",
   "execution_count": null,
   "metadata": {},
   "outputs": [],
   "source": [
    "checkpointTimes.columns"
   ]
  },
  {
   "cell_type": "code",
   "execution_count": null,
   "metadata": {},
   "outputs": [],
   "source": [
    "testTimedSections = pd.DataFrame(data=None, columns=timedSectionsReachedColumns,index=timedSectionsIndex)\n",
    "testTimedSections"
   ]
  },
  {
   "cell_type": "code",
   "execution_count": null,
   "metadata": {},
   "outputs": [],
   "source": [
    "timedSectionsReachedColumns"
   ]
  },
  {
   "cell_type": "markdown",
   "metadata": {},
   "source": [
    "#### getCheckpointsTimesUser tinkering"
   ]
  },
  {
   "cell_type": "code",
   "execution_count": null,
   "metadata": {},
   "outputs": [],
   "source": [
    "#pd.Timestamp.min - pd.Timedelta('2 days 00:00:00')"
   ]
  },
  {
   "cell_type": "code",
   "execution_count": null,
   "metadata": {
    "scrolled": true
   },
   "outputs": [],
   "source": [
    "# incomplete game\n",
    "testlocalplayerguid = '\"dfe8f036-8641-4d6c-8411-8a8346bb0402\"'\n",
    "#testlocalplayerguid = getRandomRedMetricsGUID()\n",
    "\n",
    "#def getCheckpointsTimesUser( _userId, _sessionsList = {} ):\n",
    "sessionsList = getAllSessionsOfUser( df152, testlocalplayerguid, True )\n",
    "\n",
    "timedSections = pd.DataFrame(data=0, columns=timedSectionsReachedColumns,index=timedSectionsIndex)\n",
    "timedSections[\"serverTime\"] = ''\n",
    "timedSections[\"firstReached\"] = pd.Timestamp(0)\n",
    "timedSections[\"firstCompletionDuration\"] = pd.Timedelta.max\n",
    "\n",
    "print(testlocalplayerguid)\n",
    "timedSections"
   ]
  },
  {
   "cell_type": "code",
   "execution_count": null,
   "metadata": {},
   "outputs": [],
   "source": [
    "for sessionId in sessionsList['sessionId']:        \n",
    "    thisSessionTimes = getCheckpointsTimes( sessionId )\n",
    "\n",
    "    for checkpointName in thisSessionTimes.index:\n",
    "        if ((thisSessionTimes.loc[checkpointName, 'firstReached'] != pd.Timestamp(0))\n",
    "            and\n",
    "            ((timedSections.loc[checkpointName, 'firstReached'] == pd.Timestamp(0))\n",
    "            or (timedSections.loc[checkpointName, 'firstReached'] > thisSessionTimes.loc[checkpointName, 'firstReached']))\n",
    "           ):\n",
    "            timedSections.loc[checkpointName, 'serverTime'] = thisSessionTimes.loc[checkpointName, 'serverTime']\n",
    "            timedSections.loc[checkpointName, 'firstReached'] = thisSessionTimes.loc[checkpointName, 'firstReached']\n",
    "            timedSections.loc[checkpointName, 'firstCompletionDuration'] = thisSessionTimes.loc[checkpointName, 'firstCompletionDuration']\n",
    "timedSections"
   ]
  },
  {
   "cell_type": "code",
   "execution_count": null,
   "metadata": {},
   "outputs": [],
   "source": [
    "thisSessionTimes"
   ]
  },
  {
   "cell_type": "code",
   "execution_count": null,
   "metadata": {},
   "outputs": [],
   "source": [
    "timedSections"
   ]
  },
  {
   "cell_type": "code",
   "execution_count": null,
   "metadata": {},
   "outputs": [],
   "source": [
    "print('second pass')\n",
    "            \n",
    "previous = ''\n",
    "for checkpointName in times.index:\n",
    "    if(checkpointName != \"tutorial1.Checkpoint00\"):\n",
    "        if(\n",
    "            timedSections.loc[previous,\"firstReached\"] != pd.Timestamp(0)\n",
    "            and\n",
    "            timedSections.loc[checkpointName,\"firstReached\"] != pd.Timestamp(0)\n",
    "        ):\n",
    "            timedSections.loc[checkpointName,\"firstCompletionDuration\"] =\\\n",
    "            timedSections.loc[checkpointName,\"firstReached\"] - timedSections.loc[previous,\"firstReached\"]\n",
    "    previous = checkpointName\n",
    "#timedSections[\"firstCompletionDuration\"] = timedSections[\"firstReached\"].diff()\n",
    "timedSections"
   ]
  },
  {
   "cell_type": "code",
   "execution_count": null,
   "metadata": {},
   "outputs": [],
   "source": [
    "type(timedSections.loc[\"tutorial1.Checkpoint01\",\"serverTime\"]),\\\n",
    "type(timedSections.loc[\"tutorial1.Checkpoint01\",\"firstReached\"]),\\\n",
    "type(timedSections.loc[\"tutorial1.Checkpoint01\",\"firstCompletionDuration\"])"
   ]
  },
  {
   "cell_type": "code",
   "execution_count": null,
   "metadata": {},
   "outputs": [],
   "source": [
    "type(timedSections.loc[\"tutorial1.Checkpoint14\",\"serverTime\"]),\\\n",
    "type(timedSections.loc[\"tutorial1.Checkpoint14\",\"firstReached\"]),\\\n",
    "type(timedSections.loc[\"tutorial1.Checkpoint14\",\"firstCompletionDuration\"])"
   ]
  },
  {
   "cell_type": "code",
   "execution_count": null,
   "metadata": {},
   "outputs": [],
   "source": [
    "timedSections[\"test\"] = range(0,len(timedSections[\"firstReached\"]))"
   ]
  },
  {
   "cell_type": "code",
   "execution_count": null,
   "metadata": {},
   "outputs": [],
   "source": [
    "timedSections[\"test\"].diff()"
   ]
  },
  {
   "cell_type": "code",
   "execution_count": null,
   "metadata": {},
   "outputs": [],
   "source": [
    "timedSections[\"firstReached\"].fillna(pd.Timestamp.max)"
   ]
  },
  {
   "cell_type": "code",
   "execution_count": null,
   "metadata": {},
   "outputs": [],
   "source": [
    "timedSections[\"firstReached\"][:14].diff()"
   ]
  },
  {
   "cell_type": "code",
   "execution_count": null,
   "metadata": {},
   "outputs": [],
   "source": [
    "nanVar = np.nan\n",
    "if(np.isnan(nanVar)):\n",
    "    print('np.isnan(nan)')\n",
    "else:\n",
    "    print('not np.isnan(nan)')\n",
    "if(nanVar == np.nan):\n",
    "    print('np.nan == np.nan')\n",
    "else:\n",
    "    print('np.nan != np.nan')"
   ]
  },
  {
   "cell_type": "code",
   "execution_count": null,
   "metadata": {},
   "outputs": [],
   "source": [
    "natVar = np.datetime64('NaT')\n",
    "#if(np.isnat(natVar)):\n",
    "#    print('np.isnat(NaT)')\n",
    "#else:\n",
    "#    print('not np.isnat(NaT)')\n",
    "if(natVar == np.datetime64('NaT')):\n",
    "    print('np.NaT == np.NaT')\n",
    "else:\n",
    "    print('np.NaT != np.NaT')"
   ]
  },
  {
   "cell_type": "code",
   "execution_count": null,
   "metadata": {},
   "outputs": [],
   "source": [
    "timedSections['firstReached'][checkpointName]"
   ]
  },
  {
   "cell_type": "code",
   "execution_count": null,
   "metadata": {},
   "outputs": [],
   "source": [
    "timedSections"
   ]
  },
  {
   "cell_type": "code",
   "execution_count": null,
   "metadata": {},
   "outputs": [],
   "source": [
    "checkpointName"
   ]
  },
  {
   "cell_type": "code",
   "execution_count": null,
   "metadata": {},
   "outputs": [],
   "source": [
    "checkpointTimesUser = getCheckpointsTimesUser(testlocalplayerguid)\n",
    "checkpointTimesUser"
   ]
  },
  {
   "cell_type": "code",
   "execution_count": null,
   "metadata": {},
   "outputs": [],
   "source": [
    "checkpointTimesUser = getCheckpointsTimesUser(testlocalplayerguid)\n",
    "checkpointTimesUser"
   ]
  },
  {
   "cell_type": "code",
   "execution_count": null,
   "metadata": {},
   "outputs": [],
   "source": [
    "checkpointTimesUser['firstCompletionDuration']"
   ]
  },
  {
   "cell_type": "code",
   "execution_count": null,
   "metadata": {
    "scrolled": false
   },
   "outputs": [],
   "source": [
    "testTimedSections = pd.DataFrame(data=None, columns=timedSectionsReachedColumns,index=timedSectionsIndex)\n",
    "#testTimedSections['firstReached']['tutorial1.Checkpoint01'] = pd.Timestamp('20130102')\n",
    "testTimedSections[\"firstCompletionDuration\"] = testTimedSections[\"firstReached\"].diff()\n",
    "testTimedSections"
   ]
  },
  {
   "cell_type": "code",
   "execution_count": null,
   "metadata": {},
   "outputs": [],
   "source": [
    "# user \"e2f8d5e4-cccd-4d1a-909b-c9c92f6b83c1\"\n",
    "# session testSessionId\n",
    "getDeaths(testSessionId)\n",
    "testResult = getDeathsUser('\"e2f8d5e4-cccd-4d1a-909b-c9c92f6b83c1\"')\n",
    "testResult\n",
    "testResult.index\n",
    "#localplayerguid\n",
    "#\"8bd5d335-d20e-4db5-9979-feb668ba7c71\"\n",
    "getDeaths(\"8bd5d335-d20e-4db5-9979-feb668ba7c71\")\n",
    "getDeathsUser(localplayerguid)"
   ]
  },
  {
   "cell_type": "code",
   "execution_count": null,
   "metadata": {},
   "outputs": [],
   "source": [
    "eventSectionsColumns"
   ]
  },
  {
   "cell_type": "code",
   "execution_count": null,
   "metadata": {},
   "outputs": [],
   "source": [
    "perSessionRelevantColumns"
   ]
  },
  {
   "cell_type": "code",
   "execution_count": null,
   "metadata": {},
   "outputs": [],
   "source": [
    "sectionsEvents = getSectionsEvents('death', testSessionId)\n",
    "sectionsEvents"
   ]
  },
  {
   "cell_type": "code",
   "execution_count": null,
   "metadata": {},
   "outputs": [],
   "source": [
    "testResult = getUserSectionsEvents('death', '\"e2f8d5e4-cccd-4d1a-909b-c9c92f6b83c1\"')\n",
    "testResult"
   ]
  },
  {
   "cell_type": "code",
   "execution_count": null,
   "metadata": {
    "scrolled": true
   },
   "outputs": [],
   "source": [
    "getUserSectionsEventsTotal('death', '\"e2f8d5e4-cccd-4d1a-909b-c9c92f6b83c1\"')"
   ]
  },
  {
   "cell_type": "markdown",
   "metadata": {},
   "source": [
    "#### getUserCraftEventsTotal tinkering"
   ]
  },
  {
   "cell_type": "code",
   "execution_count": null,
   "metadata": {},
   "outputs": [],
   "source": [
    "# craftEventCodes = list([\"equip\",\"unequip\",\"add\",\"remove\"])\n",
    "eventCode = 'equip'\n",
    "userId = getRandomRedMetricsGUID()\n",
    "sessionsList=[]\n",
    "\n",
    "#def getUserCraftEventsTotal( eventCode, userId, sessionsList=[] ):\n",
    "if(len(sessionsList) == 0):\n",
    "    sessionsList = getAllSessionsOfUser( df152, userId, True )\n",
    "\n",
    "result = 0\n",
    "    \n",
    "if eventCode in craftEventCodes:\n",
    "    eventType = craftEventsColumns['eventType'][eventCode]\n",
    "    events = df152[df152['type']==eventType]\n",
    "    events = events[events[craftEventsColumns['column'][eventCode]].notnull()]\n",
    "    perSession = events[events['sessionId'].isin(sessionsList['sessionId'])]\n",
    "    result = len(perSession)\n",
    "else:\n",
    "    print(\"incorrect event code '\" + eventCode + \"'\")\n",
    "result, userId"
   ]
  },
  {
   "cell_type": "code",
   "execution_count": null,
   "metadata": {},
   "outputs": [],
   "source": []
  },
  {
   "cell_type": "markdown",
   "metadata": {},
   "source": [
    "#### getUserEventsTotal tinkering"
   ]
  },
  {
   "cell_type": "code",
   "execution_count": null,
   "metadata": {},
   "outputs": [],
   "source": [
    "eventType = 'death'\n",
    "#userId = '\"e2f8d5e4-cccd-4d1a-909b-c9c92f6b83c1\"'\n",
    "userId = getRandomRedMetricsGUID()\n",
    "\n",
    "#if(len(sessionsList) == 0):\n",
    "sessionsList = getAllSessionsOfUser( df152, userId, True )\n",
    "#print(\"#sessions=\" + str(len(sessionsList)))\n",
    "        \n",
    "result = 0\n",
    "\n",
    "\n",
    "sessionEvents = df152[df152['type']==eventType]\n",
    "perSession = sessionEvents[sessionEvents['sessionId'].isin(sessionsList['sessionId'])]\n",
    "\n",
    "result = len(perSession)\n",
    "result"
   ]
  },
  {
   "cell_type": "code",
   "execution_count": null,
   "metadata": {},
   "outputs": [],
   "source": []
  },
  {
   "cell_type": "markdown",
   "metadata": {},
   "source": [
    "# Checks on user metrics\n",
    "<a id=checkusermetrics />"
   ]
  },
  {
   "cell_type": "markdown",
   "metadata": {},
   "source": [
    "### Sequence of actions\n",
    "\n",
    "    sandbox\n",
    "    crafting\n",
    "    equip device\n",
    "    unequip device\n",
    "    add PCONS\n",
    "    add 6\n",
    "    add Ampicillin\n",
    "    add T\n",
    "    > auto craft\n",
    "    > auto equip\n",
    "    remove T\n",
    "    > auto unequip\n",
    "    add T\n",
    "    > auto equip\n",
    "    add 12\n",
    "    > auto craft\n",
    "    > auto equip\n",
    "    add 6\n",
    "    > auto equip\n",
    "    exit crafting\n",
    "    dies\n",
    "    > auto unequip\n",
    "    set language to english"
   ]
  },
  {
   "cell_type": "code",
   "execution_count": null,
   "metadata": {
    "scrolled": false
   },
   "outputs": [],
   "source": [
    "rdfcrafttest = pd.read_csv(\"../../data/2017-10-10.craft-test.csv\")\n",
    "rdfcrafttest = getNormalizedRedMetricsCSV(rdfcrafttest)\n",
    "rdfcrafttest"
   ]
  },
  {
   "cell_type": "code",
   "execution_count": null,
   "metadata": {},
   "outputs": [],
   "source": [
    "craftEventsColumns"
   ]
  },
  {
   "cell_type": "code",
   "execution_count": null,
   "metadata": {},
   "outputs": [],
   "source": [
    "craftEventsColumns['column']['equip']"
   ]
  },
  {
   "cell_type": "code",
   "execution_count": null,
   "metadata": {},
   "outputs": [],
   "source": [
    "type(craftEventCodes)"
   ]
  },
  {
   "cell_type": "code",
   "execution_count": null,
   "metadata": {},
   "outputs": [],
   "source": [
    "test = np.unique(np.concatenate((perSessionRelevantColumns, [craftEventsColumns['column']['equip']])))\n",
    "test"
   ]
  },
  {
   "cell_type": "code",
   "execution_count": null,
   "metadata": {},
   "outputs": [],
   "source": [
    "# user 344 adds\n",
    "#'\"e2f8d5e4-cccd-4d1a-909b-c9c92f6b83c1\"'\n",
    "# one of its sessions\n",
    "# fab3ea03-6ff1-483f-a90a-74ff47d0b556\n",
    "#\n",
    "# user 22 adds\n",
    "#'\"8d352896-a3f1-471c-8439-0f426df901c1\"'\n",
    "#\n",
    "\n",
    "# session test\n",
    "craftSessionTest = getSectionsCraftEvents('equip', \"fab3ea03-6ff1-483f-a90a-74ff47d0b556\")\n",
    "# user test\n",
    "craftUserTest = getUserSectionsCraftEvents('equip', '\"e2f8d5e4-cccd-4d1a-909b-c9c92f6b83c1\"')\n",
    "# user count test\n",
    "craftUserTestCount = getUserSectionsCraftEventsTotal('equip', '\"e2f8d5e4-cccd-4d1a-909b-c9c92f6b83c1\"')\n",
    "craftUserTestCount"
   ]
  },
  {
   "cell_type": "code",
   "execution_count": null,
   "metadata": {},
   "outputs": [],
   "source": [
    "print(\"craftSessionTest=\" + str(craftSessionTest))\n",
    "print(\"craftUserTest=\" + str(craftUserTest))\n",
    "print(\"craftUserTestCount=\" + str(craftUserTestCount))"
   ]
  },
  {
   "cell_type": "code",
   "execution_count": null,
   "metadata": {},
   "outputs": [],
   "source": [
    "columnName = craftEventsColumns['column']['equip']\n",
    "columnName"
   ]
  },
  {
   "cell_type": "code",
   "execution_count": null,
   "metadata": {},
   "outputs": [],
   "source": [
    "result = list([])\n",
    "for entry in df152[columnName]:\n",
    "    if not pd.isnull(entry):\n",
    "        result.append(entry)\n",
    "result"
   ]
  },
  {
   "cell_type": "code",
   "execution_count": null,
   "metadata": {},
   "outputs": [],
   "source": [
    "#df152[columnName].notnull()"
   ]
  },
  {
   "cell_type": "code",
   "execution_count": null,
   "metadata": {},
   "outputs": [],
   "source": [
    "sectionsEvents = pd.DataFrame(0, columns=eventSectionsCountColumns, index=range(0))\n",
    "sectionsEvents"
   ]
  },
  {
   "cell_type": "code",
   "execution_count": null,
   "metadata": {},
   "outputs": [],
   "source": [
    "#events = df152[df152['type']==eventType and not df152[craftEventsColumns['column'][eventCode]].isnull()].loc[:,perSessionRelevantColumns]"
   ]
  },
  {
   "cell_type": "code",
   "execution_count": null,
   "metadata": {},
   "outputs": [],
   "source": []
  },
  {
   "cell_type": "markdown",
   "metadata": {},
   "source": [
    "#### getUserDataVector tinkering"
   ]
  },
  {
   "cell_type": "code",
   "execution_count": null,
   "metadata": {},
   "outputs": [],
   "source": [
    "testUser = unsafeGetRedMetricsGUIDFormat(getRandomGFormGUID())\n",
    "print(testUser)\n",
    "#testResult = getUserDataVector(testUser)\n",
    "#testResult"
   ]
  },
  {
   "cell_type": "code",
   "execution_count": null,
   "metadata": {},
   "outputs": [],
   "source": []
  },
  {
   "cell_type": "code",
   "execution_count": null,
   "metadata": {},
   "outputs": [],
   "source": [
    "userId = unsafeGetRedMetricsGUIDFormat(getRandomGFormGUID())\n",
    "#userId = '\"1f27519a-971f-4e39-bac7-9920bfc4b05b\"' #undefined temporality\n",
    "print(userId)\n",
    "isRMId = True\n",
    "_source = correctAnswers\n",
    "\n",
    "#def getUserDataVector( userId, isRMId = True, _source = [] ):\n",
    "rmUserId = userId\n",
    "if(not isRMId):\n",
    "    rmUserId = unsafeGetRedMetricsGUIDFormat(userId)\n",
    "\n",
    "sessionsList = getAllSessionsOfUser( df152, rmUserId, True )\n",
    "\n",
    "columnName = str(rmUserId)\n",
    "\n",
    "data = pd.DataFrame(0, columns=[columnName],index=userDataVectorIndex)\n",
    "\n",
    "score = getScore( rmUserId )\n",
    "for _temporality in score.columns:\n",
    "    _score = score.loc[scoreLabel,_temporality]\n",
    "    if(len(_score)>0):\n",
    "        if(_temporality == 'before'):\n",
    "            _score = _score[len(_score)-1]\n",
    "        else:\n",
    "            _score = _score[0]\n",
    "    else:\n",
    "        _score = np.nan\n",
    "    data.loc[scoreLabel+_temporality,columnName] = _score\n",
    "\n",
    "data.loc['sessionsCount',columnName] = countSessions( df152, rmUserId, False, sessionsList)\n",
    "\n",
    "for eventName in simpleEvents:\n",
    "    if eventName in craftEventCodes:\n",
    "        data.loc[eventName,columnName] = getUserCraftEventsTotal(eventName, rmUserId, sessionsList)\n",
    "    else:\n",
    "        data.loc[eventName,columnName] = getUserEventsTotal(eventName, rmUserId, sessionsList)\n",
    "    #elif eventName in noSectionEventCodes:\n",
    "    #    data.loc[eventName,columnName] = getUserEventsTotal(eventName, rmUserId, sessionsList)\n",
    "    #else:\n",
    "    #    data.loc[eventName,columnName] = getUserSectionsEventsTotal(eventName, rmUserId, sessionsList)\n",
    "\n",
    "# time spent on each chapter\n",
    "times = getCheckpointsTimesUser(rmUserId)\n",
    "\n",
    "for chapter in timedSectionsIndex:\n",
    "    data.loc[chapter,columnName] = times.loc[chapter,\"firstCompletionDuration\"].total_seconds()\n",
    "    \n",
    "if(len(_source) != 0):\n",
    "    gfUserId = unsafeGetGFormGUIDFormat(rmUserId)\n",
    "    gformLine = gform[gform[localplayerguidkey] == gfUserId]\n",
    "    afters = gformLine[gformLine['Temporality'] == 'after']\n",
    "    if(len(afters) > 0):\n",
    "        gformLine = afters.iloc[0]\n",
    "    else:\n",
    "        befores = gformLine[gformLine['Temporality'] == 'before']\n",
    "        if(len(befores) > 0):\n",
    "            gformLine = befores.iloc[len(befores)-1]\n",
    "        else:\n",
    "            gformLine = gformLine.iloc[len(gformLine)-1]\n",
    "\n",
    "    # add data from the gform: binary score on each question\n",
    "    gformData = getBinarized(gformLine, _source = _source)\n",
    "    \n",
    "    for question in gformData.index:\n",
    "        data.loc[question,columnName] = gformData.loc[question]\n",
    "    \n",
    "data"
   ]
  },
  {
   "cell_type": "code",
   "execution_count": null,
   "metadata": {},
   "outputs": [],
   "source": [
    "times"
   ]
  },
  {
   "cell_type": "code",
   "execution_count": null,
   "metadata": {},
   "outputs": [],
   "source": [
    "eventName"
   ]
  },
  {
   "cell_type": "code",
   "execution_count": null,
   "metadata": {},
   "outputs": [],
   "source": [
    "getUserSectionsEvents( 'start', userId, sessionsList )"
   ]
  },
  {
   "cell_type": "code",
   "execution_count": null,
   "metadata": {},
   "outputs": [],
   "source": [
    "perSession = perSession[perSession['section'].str.startswith('tutorial', na=False)]"
   ]
  }
 ],
 "metadata": {
  "kernelspec": {
   "display_name": "Python [conda env:python3]",
   "language": "python",
   "name": "conda-env-python3-py"
  },
  "language_info": {
   "codemirror_mode": {
    "name": "ipython",
    "version": 3
   },
   "file_extension": ".py",
   "mimetype": "text/x-python",
   "name": "python",
   "nbconvert_exporter": "python",
   "pygments_lexer": "ipython3",
   "version": "3.5.4"
  }
 },
 "nbformat": 4,
 "nbformat_minor": 1
}
