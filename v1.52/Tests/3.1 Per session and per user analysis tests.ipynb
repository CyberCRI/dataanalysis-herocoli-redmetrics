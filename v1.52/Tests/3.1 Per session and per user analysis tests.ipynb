{
 "cells": [
  {
   "cell_type": "markdown",
   "metadata": {},
   "source": [
    "# Per session and per user analysis\n",
    "\n",
    "Analysis of users."
   ]
  },
  {
   "cell_type": "markdown",
   "metadata": {},
   "source": [
    "# Table of Contents\n",
    "\n",
    "1.  [Preparation](#preparation)\n",
    "\n",
    "2.  [Function tests](#functests)"
   ]
  },
  {
   "cell_type": "markdown",
   "metadata": {},
   "source": [
    "# Preparation\n",
    "<a id=preparation />"
   ]
  },
  {
   "cell_type": "code",
   "execution_count": 84,
   "metadata": {
    "collapsed": false
   },
   "outputs": [
    {
     "name": "stderr",
     "output_type": "stream",
     "text": [
      "C:\\Users\\Mikael\\Anaconda3\\lib\\site-packages\\IPython\\core\\interactiveshell.py:2902: DtypeWarning: Columns (24,32,34) have mixed types. Specify dtype option on import or set low_memory=False.\n",
      "  interactivity=interactivity, compiler=compiler, result=result)\n"
     ]
    }
   ],
   "source": [
    "%run \"../Functions/3. Per session and per user analysis.ipynb\""
   ]
  },
  {
   "cell_type": "code",
   "execution_count": 85,
   "metadata": {
    "collapsed": false
   },
   "outputs": [
    {
     "data": {
      "text/html": [
       "<div>\n",
       "<style>\n",
       "    .dataframe thead tr:only-child th {\n",
       "        text-align: right;\n",
       "    }\n",
       "\n",
       "    .dataframe thead th {\n",
       "        text-align: left;\n",
       "    }\n",
       "\n",
       "    .dataframe tbody tr th {\n",
       "        vertical-align: top;\n",
       "    }\n",
       "</style>\n",
       "<table border=\"1\" class=\"dataframe\">\n",
       "  <thead>\n",
       "    <tr style=\"text-align: right;\">\n",
       "      <th></th>\n",
       "      <th>coordinates</th>\n",
       "      <th>customData</th>\n",
       "      <th>customData.biobrick</th>\n",
       "      <th>customData.chapter</th>\n",
       "      <th>customData.controls</th>\n",
       "      <th>customData.count</th>\n",
       "      <th>customData.device</th>\n",
       "      <th>customData.devices</th>\n",
       "      <th>customData.dnabit</th>\n",
       "      <th>customData.duration</th>\n",
       "      <th>...</th>\n",
       "      <th>playerCountry</th>\n",
       "      <th>playerCustomData</th>\n",
       "      <th>playerExternalId</th>\n",
       "      <th>playerGender</th>\n",
       "      <th>sessionId</th>\n",
       "      <th>playerRegion</th>\n",
       "      <th>section</th>\n",
       "      <th>serverTime</th>\n",
       "      <th>type</th>\n",
       "      <th>userTime</th>\n",
       "    </tr>\n",
       "  </thead>\n",
       "  <tbody>\n",
       "    <tr>\n",
       "      <th>0</th>\n",
       "      <td>[-229, -608]</td>\n",
       "      <td>NaN</td>\n",
       "      <td>NaN</td>\n",
       "      <td>NaN</td>\n",
       "      <td>NaN</td>\n",
       "      <td>NaN</td>\n",
       "      <td>NaN</td>\n",
       "      <td>NaN</td>\n",
       "      <td>NaN</td>\n",
       "      <td>NaN</td>\n",
       "      <td>...</td>\n",
       "      <td>NaN</td>\n",
       "      <td>NaN</td>\n",
       "      <td>NaN</td>\n",
       "      <td>NaN</td>\n",
       "      <td>b724663c-b32a-4079-9f8f-896762b272d1</td>\n",
       "      <td>NaN</td>\n",
       "      <td>NaN</td>\n",
       "      <td>2017-04-12T08:57:48.448Z</td>\n",
       "      <td>start</td>\n",
       "      <td>2017-04-12T08:57:49.752Z</td>\n",
       "    </tr>\n",
       "    <tr>\n",
       "      <th>1</th>\n",
       "      <td>[-229, -608]</td>\n",
       "      <td>NaN</td>\n",
       "      <td>NaN</td>\n",
       "      <td>NaN</td>\n",
       "      <td>NaN</td>\n",
       "      <td>NaN</td>\n",
       "      <td>NaN</td>\n",
       "      <td>\"\"</td>\n",
       "      <td>NaN</td>\n",
       "      <td>NaN</td>\n",
       "      <td>...</td>\n",
       "      <td>NaN</td>\n",
       "      <td>NaN</td>\n",
       "      <td>NaN</td>\n",
       "      <td>NaN</td>\n",
       "      <td>b724663c-b32a-4079-9f8f-896762b272d1</td>\n",
       "      <td>NaN</td>\n",
       "      <td>NaN</td>\n",
       "      <td>2017-04-12T08:58:14.441Z</td>\n",
       "      <td>selectmenu</td>\n",
       "      <td>2017-04-12T08:58:15.799Z</td>\n",
       "    </tr>\n",
       "    <tr>\n",
       "      <th>2</th>\n",
       "      <td>[-125, 373]</td>\n",
       "      <td>NaN</td>\n",
       "      <td>NaN</td>\n",
       "      <td>NaN</td>\n",
       "      <td>NaN</td>\n",
       "      <td>NaN</td>\n",
       "      <td>\"PRLACI:RBS1:REPR2:DTER\"</td>\n",
       "      <td>\"slot0[PRLACI:RBS1:REPR2:DTER]\"</td>\n",
       "      <td>NaN</td>\n",
       "      <td>NaN</td>\n",
       "      <td>...</td>\n",
       "      <td>NaN</td>\n",
       "      <td>NaN</td>\n",
       "      <td>NaN</td>\n",
       "      <td>NaN</td>\n",
       "      <td>b724663c-b32a-4079-9f8f-896762b272d1</td>\n",
       "      <td>NaN</td>\n",
       "      <td>NaN</td>\n",
       "      <td>2017-04-12T08:58:26.229Z</td>\n",
       "      <td>add</td>\n",
       "      <td>2017-04-12T08:58:27.575Z</td>\n",
       "    </tr>\n",
       "    <tr>\n",
       "      <th>3</th>\n",
       "      <td>[-125, 373]</td>\n",
       "      <td>NaN</td>\n",
       "      <td>NaN</td>\n",
       "      <td>NaN</td>\n",
       "      <td>NaN</td>\n",
       "      <td>NaN</td>\n",
       "      <td>NaN</td>\n",
       "      <td>NaN</td>\n",
       "      <td>NaN</td>\n",
       "      <td>NaN</td>\n",
       "      <td>...</td>\n",
       "      <td>NaN</td>\n",
       "      <td>NaN</td>\n",
       "      <td>NaN</td>\n",
       "      <td>NaN</td>\n",
       "      <td>b724663c-b32a-4079-9f8f-896762b272d1</td>\n",
       "      <td>NaN</td>\n",
       "      <td>NaN</td>\n",
       "      <td>2017-04-12T08:58:37.640Z</td>\n",
       "      <td>switchfromgameversion</td>\n",
       "      <td>2017-04-12T08:58:38.987Z</td>\n",
       "    </tr>\n",
       "    <tr>\n",
       "      <th>4</th>\n",
       "      <td>[-229, -608]</td>\n",
       "      <td>NaN</td>\n",
       "      <td>NaN</td>\n",
       "      <td>NaN</td>\n",
       "      <td>NaN</td>\n",
       "      <td>NaN</td>\n",
       "      <td>NaN</td>\n",
       "      <td>NaN</td>\n",
       "      <td>NaN</td>\n",
       "      <td>NaN</td>\n",
       "      <td>...</td>\n",
       "      <td>NaN</td>\n",
       "      <td>NaN</td>\n",
       "      <td>NaN</td>\n",
       "      <td>NaN</td>\n",
       "      <td>2d76c4ef-f260-4963-82f4-ff598d2a63b4</td>\n",
       "      <td>NaN</td>\n",
       "      <td>NaN</td>\n",
       "      <td>2017-04-12T09:30:51.879Z</td>\n",
       "      <td>start</td>\n",
       "      <td>2017-04-12T09:30:31.060Z</td>\n",
       "    </tr>\n",
       "  </tbody>\n",
       "</table>\n",
       "<p>5 rows × 38 columns</p>\n",
       "</div>"
      ],
      "text/plain": [
       "    coordinates customData customData.biobrick customData.chapter  \\\n",
       "0  [-229, -608]        NaN                 NaN                NaN   \n",
       "1  [-229, -608]        NaN                 NaN                NaN   \n",
       "2   [-125, 373]        NaN                 NaN                NaN   \n",
       "3   [-125, 373]        NaN                 NaN                NaN   \n",
       "4  [-229, -608]        NaN                 NaN                NaN   \n",
       "\n",
       "  customData.controls customData.count         customData.device  \\\n",
       "0                 NaN              NaN                       NaN   \n",
       "1                 NaN              NaN                       NaN   \n",
       "2                 NaN              NaN  \"PRLACI:RBS1:REPR2:DTER\"   \n",
       "3                 NaN              NaN                       NaN   \n",
       "4                 NaN              NaN                       NaN   \n",
       "\n",
       "                customData.devices customData.dnabit customData.duration  \\\n",
       "0                              NaN               NaN                 NaN   \n",
       "1                               \"\"               NaN                 NaN   \n",
       "2  \"slot0[PRLACI:RBS1:REPR2:DTER]\"               NaN                 NaN   \n",
       "3                              NaN               NaN                 NaN   \n",
       "4                              NaN               NaN                 NaN   \n",
       "\n",
       "             ...            playerCountry playerCustomData playerExternalId  \\\n",
       "0            ...                      NaN              NaN              NaN   \n",
       "1            ...                      NaN              NaN              NaN   \n",
       "2            ...                      NaN              NaN              NaN   \n",
       "3            ...                      NaN              NaN              NaN   \n",
       "4            ...                      NaN              NaN              NaN   \n",
       "\n",
       "  playerGender                             sessionId playerRegion section  \\\n",
       "0          NaN  b724663c-b32a-4079-9f8f-896762b272d1          NaN     NaN   \n",
       "1          NaN  b724663c-b32a-4079-9f8f-896762b272d1          NaN     NaN   \n",
       "2          NaN  b724663c-b32a-4079-9f8f-896762b272d1          NaN     NaN   \n",
       "3          NaN  b724663c-b32a-4079-9f8f-896762b272d1          NaN     NaN   \n",
       "4          NaN  2d76c4ef-f260-4963-82f4-ff598d2a63b4          NaN     NaN   \n",
       "\n",
       "                 serverTime                   type                  userTime  \n",
       "0  2017-04-12T08:57:48.448Z                  start  2017-04-12T08:57:49.752Z  \n",
       "1  2017-04-12T08:58:14.441Z             selectmenu  2017-04-12T08:58:15.799Z  \n",
       "2  2017-04-12T08:58:26.229Z                    add  2017-04-12T08:58:27.575Z  \n",
       "3  2017-04-12T08:58:37.640Z  switchfromgameversion  2017-04-12T08:58:38.987Z  \n",
       "4  2017-04-12T09:30:51.879Z                  start  2017-04-12T09:30:31.060Z  \n",
       "\n",
       "[5 rows x 38 columns]"
      ]
     },
     "execution_count": 85,
     "metadata": {},
     "output_type": "execute_result"
    }
   ],
   "source": [
    "df152.head()"
   ]
  },
  {
   "cell_type": "markdown",
   "metadata": {},
   "source": [
    "# Per-session analysis"
   ]
  },
  {
   "cell_type": "code",
   "execution_count": 86,
   "metadata": {
    "collapsed": false,
    "scrolled": false
   },
   "outputs": [
    {
     "data": {
      "text/html": [
       "<div>\n",
       "<style>\n",
       "    .dataframe thead tr:only-child th {\n",
       "        text-align: right;\n",
       "    }\n",
       "\n",
       "    .dataframe thead th {\n",
       "        text-align: left;\n",
       "    }\n",
       "\n",
       "    .dataframe tbody tr th {\n",
       "        vertical-align: top;\n",
       "    }\n",
       "</style>\n",
       "<table border=\"1\" class=\"dataframe\">\n",
       "  <thead>\n",
       "    <tr style=\"text-align: right;\">\n",
       "      <th></th>\n",
       "      <th>sessionId</th>\n",
       "      <th>serverTime</th>\n",
       "      <th>section</th>\n",
       "    </tr>\n",
       "  </thead>\n",
       "  <tbody>\n",
       "    <tr>\n",
       "      <th>21777</th>\n",
       "      <td>fab3ea03-6ff1-483f-a90a-74ff47d0b556</td>\n",
       "      <td>2017-08-22T22:05:18.293Z</td>\n",
       "      <td>tutorial1.Checkpoint00</td>\n",
       "    </tr>\n",
       "    <tr>\n",
       "      <th>21783</th>\n",
       "      <td>fab3ea03-6ff1-483f-a90a-74ff47d0b556</td>\n",
       "      <td>2017-08-22T22:08:17.799Z</td>\n",
       "      <td>tutorial1.Checkpoint01</td>\n",
       "    </tr>\n",
       "    <tr>\n",
       "      <th>21798</th>\n",
       "      <td>fab3ea03-6ff1-483f-a90a-74ff47d0b556</td>\n",
       "      <td>2017-08-22T22:13:28.227Z</td>\n",
       "      <td>tutorial1.Checkpoint02</td>\n",
       "    </tr>\n",
       "    <tr>\n",
       "      <th>21803</th>\n",
       "      <td>fab3ea03-6ff1-483f-a90a-74ff47d0b556</td>\n",
       "      <td>2017-08-22T22:15:27.959Z</td>\n",
       "      <td>tutorial1.Checkpoint03</td>\n",
       "    </tr>\n",
       "    <tr>\n",
       "      <th>21809</th>\n",
       "      <td>fab3ea03-6ff1-483f-a90a-74ff47d0b556</td>\n",
       "      <td>2017-08-22T22:16:11.658Z</td>\n",
       "      <td>tutorial1.Checkpoint04</td>\n",
       "    </tr>\n",
       "    <tr>\n",
       "      <th>21822</th>\n",
       "      <td>fab3ea03-6ff1-483f-a90a-74ff47d0b556</td>\n",
       "      <td>2017-08-22T22:19:29.421Z</td>\n",
       "      <td>tutorial1.Checkpoint03</td>\n",
       "    </tr>\n",
       "    <tr>\n",
       "      <th>21823</th>\n",
       "      <td>fab3ea03-6ff1-483f-a90a-74ff47d0b556</td>\n",
       "      <td>2017-08-22T22:19:47.058Z</td>\n",
       "      <td>tutorial1.Checkpoint04</td>\n",
       "    </tr>\n",
       "    <tr>\n",
       "      <th>21824</th>\n",
       "      <td>fab3ea03-6ff1-483f-a90a-74ff47d0b556</td>\n",
       "      <td>2017-08-22T22:20:12.739Z</td>\n",
       "      <td>tutorial1.Checkpoint05</td>\n",
       "    </tr>\n",
       "    <tr>\n",
       "      <th>22065</th>\n",
       "      <td>fab3ea03-6ff1-483f-a90a-74ff47d0b556</td>\n",
       "      <td>2017-08-22T22:34:32.438Z</td>\n",
       "      <td>tutorial1.Checkpoint06</td>\n",
       "    </tr>\n",
       "    <tr>\n",
       "      <th>22081</th>\n",
       "      <td>fab3ea03-6ff1-483f-a90a-74ff47d0b556</td>\n",
       "      <td>2017-08-22T22:37:59.659Z</td>\n",
       "      <td>tutorial1.Checkpoint07</td>\n",
       "    </tr>\n",
       "    <tr>\n",
       "      <th>22186</th>\n",
       "      <td>fab3ea03-6ff1-483f-a90a-74ff47d0b556</td>\n",
       "      <td>2017-08-22T22:45:27.478Z</td>\n",
       "      <td>tutorial1.Checkpoint08</td>\n",
       "    </tr>\n",
       "    <tr>\n",
       "      <th>22192</th>\n",
       "      <td>fab3ea03-6ff1-483f-a90a-74ff47d0b556</td>\n",
       "      <td>2017-08-22T22:46:34.417Z</td>\n",
       "      <td>tutorial1.Checkpoint09</td>\n",
       "    </tr>\n",
       "    <tr>\n",
       "      <th>22196</th>\n",
       "      <td>fab3ea03-6ff1-483f-a90a-74ff47d0b556</td>\n",
       "      <td>2017-08-22T22:47:39.021Z</td>\n",
       "      <td>tutorial1.Checkpoint10</td>\n",
       "    </tr>\n",
       "    <tr>\n",
       "      <th>22199</th>\n",
       "      <td>fab3ea03-6ff1-483f-a90a-74ff47d0b556</td>\n",
       "      <td>2017-08-22T22:47:46.360Z</td>\n",
       "      <td>tutorial1.Checkpoint11</td>\n",
       "    </tr>\n",
       "    <tr>\n",
       "      <th>22201</th>\n",
       "      <td>fab3ea03-6ff1-483f-a90a-74ff47d0b556</td>\n",
       "      <td>2017-08-22T22:48:16.857Z</td>\n",
       "      <td>tutorial1.Checkpoint12</td>\n",
       "    </tr>\n",
       "    <tr>\n",
       "      <th>22282</th>\n",
       "      <td>fab3ea03-6ff1-483f-a90a-74ff47d0b556</td>\n",
       "      <td>2017-08-22T22:53:44.320Z</td>\n",
       "      <td>tutorial1.Checkpoint13</td>\n",
       "    </tr>\n",
       "  </tbody>\n",
       "</table>\n",
       "</div>"
      ],
      "text/plain": [
       "                                  sessionId                serverTime  \\\n",
       "21777  fab3ea03-6ff1-483f-a90a-74ff47d0b556  2017-08-22T22:05:18.293Z   \n",
       "21783  fab3ea03-6ff1-483f-a90a-74ff47d0b556  2017-08-22T22:08:17.799Z   \n",
       "21798  fab3ea03-6ff1-483f-a90a-74ff47d0b556  2017-08-22T22:13:28.227Z   \n",
       "21803  fab3ea03-6ff1-483f-a90a-74ff47d0b556  2017-08-22T22:15:27.959Z   \n",
       "21809  fab3ea03-6ff1-483f-a90a-74ff47d0b556  2017-08-22T22:16:11.658Z   \n",
       "21822  fab3ea03-6ff1-483f-a90a-74ff47d0b556  2017-08-22T22:19:29.421Z   \n",
       "21823  fab3ea03-6ff1-483f-a90a-74ff47d0b556  2017-08-22T22:19:47.058Z   \n",
       "21824  fab3ea03-6ff1-483f-a90a-74ff47d0b556  2017-08-22T22:20:12.739Z   \n",
       "22065  fab3ea03-6ff1-483f-a90a-74ff47d0b556  2017-08-22T22:34:32.438Z   \n",
       "22081  fab3ea03-6ff1-483f-a90a-74ff47d0b556  2017-08-22T22:37:59.659Z   \n",
       "22186  fab3ea03-6ff1-483f-a90a-74ff47d0b556  2017-08-22T22:45:27.478Z   \n",
       "22192  fab3ea03-6ff1-483f-a90a-74ff47d0b556  2017-08-22T22:46:34.417Z   \n",
       "22196  fab3ea03-6ff1-483f-a90a-74ff47d0b556  2017-08-22T22:47:39.021Z   \n",
       "22199  fab3ea03-6ff1-483f-a90a-74ff47d0b556  2017-08-22T22:47:46.360Z   \n",
       "22201  fab3ea03-6ff1-483f-a90a-74ff47d0b556  2017-08-22T22:48:16.857Z   \n",
       "22282  fab3ea03-6ff1-483f-a90a-74ff47d0b556  2017-08-22T22:53:44.320Z   \n",
       "\n",
       "                      section  \n",
       "21777  tutorial1.Checkpoint00  \n",
       "21783  tutorial1.Checkpoint01  \n",
       "21798  tutorial1.Checkpoint02  \n",
       "21803  tutorial1.Checkpoint03  \n",
       "21809  tutorial1.Checkpoint04  \n",
       "21822  tutorial1.Checkpoint03  \n",
       "21823  tutorial1.Checkpoint04  \n",
       "21824  tutorial1.Checkpoint05  \n",
       "22065  tutorial1.Checkpoint06  \n",
       "22081  tutorial1.Checkpoint07  \n",
       "22186  tutorial1.Checkpoint08  \n",
       "22192  tutorial1.Checkpoint09  \n",
       "22196  tutorial1.Checkpoint10  \n",
       "22199  tutorial1.Checkpoint11  \n",
       "22201  tutorial1.Checkpoint12  \n",
       "22282  tutorial1.Checkpoint13  "
      ]
     },
     "execution_count": 86,
     "metadata": {},
     "output_type": "execute_result"
    }
   ],
   "source": [
    "\n",
    "\n",
    "testSessionId = \"fab3ea03-6ff1-483f-a90a-74ff47d0b556\"\n",
    "\n",
    "perSession = df152[df152['type']=='reach'].loc[:,perSessionRelevantColumns]\n",
    "perSession = perSession[perSession['sessionId']==testSessionId]\n",
    "perSession = perSession[perSession['section'].str.startswith('tutorial', na=False)]\n",
    "perSession"
   ]
  },
  {
   "cell_type": "code",
   "execution_count": 87,
   "metadata": {
    "collapsed": false
   },
   "outputs": [
    {
     "data": {
      "text/html": [
       "<div>\n",
       "<style>\n",
       "    .dataframe thead tr:only-child th {\n",
       "        text-align: right;\n",
       "    }\n",
       "\n",
       "    .dataframe thead th {\n",
       "        text-align: left;\n",
       "    }\n",
       "\n",
       "    .dataframe tbody tr th {\n",
       "        vertical-align: top;\n",
       "    }\n",
       "</style>\n",
       "<table border=\"1\" class=\"dataframe\">\n",
       "  <thead>\n",
       "    <tr style=\"text-align: right;\">\n",
       "      <th></th>\n",
       "      <th>userId</th>\n",
       "      <th>sessionId</th>\n",
       "    </tr>\n",
       "  </thead>\n",
       "  <tbody>\n",
       "    <tr>\n",
       "      <th>0</th>\n",
       "      <td>\"4dbc2f43-421c-4e23-85d4-f17723ff8c66\"</td>\n",
       "      <td>b724663c-b32a-4079-9f8f-896762b272d1</td>\n",
       "    </tr>\n",
       "    <tr>\n",
       "      <th>4</th>\n",
       "      <td>\"1a8924de-7cc6-4ff5-8735-4cddac309117\"</td>\n",
       "      <td>2d76c4ef-f260-4963-82f4-ff598d2a63b4</td>\n",
       "    </tr>\n",
       "    <tr>\n",
       "      <th>67</th>\n",
       "      <td>\"1a8924de-7cc6-4ff5-8735-4cddac309117\"</td>\n",
       "      <td>6a9893c1-da09-42c7-832e-4d0746fa779e</td>\n",
       "    </tr>\n",
       "    <tr>\n",
       "      <th>74</th>\n",
       "      <td>\"a6483353-5db1-4c6c-98d7-b6328d0f4456\"</td>\n",
       "      <td>c430c60c-d7cb-4fc5-893b-dce440696caf</td>\n",
       "    </tr>\n",
       "    <tr>\n",
       "      <th>88</th>\n",
       "      <td>\"0fa88384-3115-4ebd-990d-6bd29214c04f\"</td>\n",
       "      <td>72dc3209-bd46-4026-91f0-44d2a7298175</td>\n",
       "    </tr>\n",
       "  </tbody>\n",
       "</table>\n",
       "</div>"
      ],
      "text/plain": [
       "                                    userId  \\\n",
       "0   \"4dbc2f43-421c-4e23-85d4-f17723ff8c66\"   \n",
       "4   \"1a8924de-7cc6-4ff5-8735-4cddac309117\"   \n",
       "67  \"1a8924de-7cc6-4ff5-8735-4cddac309117\"   \n",
       "74  \"a6483353-5db1-4c6c-98d7-b6328d0f4456\"   \n",
       "88  \"0fa88384-3115-4ebd-990d-6bd29214c04f\"   \n",
       "\n",
       "                               sessionId  \n",
       "0   b724663c-b32a-4079-9f8f-896762b272d1  \n",
       "4   2d76c4ef-f260-4963-82f4-ff598d2a63b4  \n",
       "67  6a9893c1-da09-42c7-832e-4d0746fa779e  \n",
       "74  c430c60c-d7cb-4fc5-893b-dce440696caf  \n",
       "88  72dc3209-bd46-4026-91f0-44d2a7298175  "
      ]
     },
     "execution_count": 87,
     "metadata": {},
     "output_type": "execute_result"
    }
   ],
   "source": [
    "allSessions = getAllSessions( df152, True )\n",
    "allSessions.head()"
   ]
  },
  {
   "cell_type": "code",
   "execution_count": 88,
   "metadata": {
    "collapsed": false
   },
   "outputs": [
    {
     "data": {
      "text/html": [
       "<div>\n",
       "<style>\n",
       "    .dataframe thead tr:only-child th {\n",
       "        text-align: right;\n",
       "    }\n",
       "\n",
       "    .dataframe thead th {\n",
       "        text-align: left;\n",
       "    }\n",
       "\n",
       "    .dataframe tbody tr th {\n",
       "        vertical-align: top;\n",
       "    }\n",
       "</style>\n",
       "<table border=\"1\" class=\"dataframe\">\n",
       "  <thead>\n",
       "    <tr style=\"text-align: right;\">\n",
       "      <th></th>\n",
       "      <th>userId</th>\n",
       "      <th>sessionId</th>\n",
       "    </tr>\n",
       "  </thead>\n",
       "  <tbody>\n",
       "    <tr>\n",
       "      <th>21771</th>\n",
       "      <td>\"e2f8d5e4-cccd-4d1a-909b-c9c92f6b83c1\"</td>\n",
       "      <td>fab3ea03-6ff1-483f-a90a-74ff47d0b556</td>\n",
       "    </tr>\n",
       "  </tbody>\n",
       "</table>\n",
       "</div>"
      ],
      "text/plain": [
       "                                       userId  \\\n",
       "21771  \"e2f8d5e4-cccd-4d1a-909b-c9c92f6b83c1\"   \n",
       "\n",
       "                                  sessionId  \n",
       "21771  fab3ea03-6ff1-483f-a90a-74ff47d0b556  "
      ]
     },
     "execution_count": 88,
     "metadata": {},
     "output_type": "execute_result"
    }
   ],
   "source": [
    "allSessions[allSessions['sessionId']==testSessionId]"
   ]
  },
  {
   "cell_type": "code",
   "execution_count": 89,
   "metadata": {
    "collapsed": false
   },
   "outputs": [
    {
     "data": {
      "text/html": [
       "<div>\n",
       "<style>\n",
       "    .dataframe thead tr:only-child th {\n",
       "        text-align: right;\n",
       "    }\n",
       "\n",
       "    .dataframe thead th {\n",
       "        text-align: left;\n",
       "    }\n",
       "\n",
       "    .dataframe tbody tr th {\n",
       "        vertical-align: top;\n",
       "    }\n",
       "</style>\n",
       "<table border=\"1\" class=\"dataframe\">\n",
       "  <thead>\n",
       "    <tr style=\"text-align: right;\">\n",
       "      <th></th>\n",
       "      <th>userId</th>\n",
       "      <th>sessionId</th>\n",
       "    </tr>\n",
       "  </thead>\n",
       "  <tbody>\n",
       "    <tr>\n",
       "      <th>21771</th>\n",
       "      <td>\"e2f8d5e4-cccd-4d1a-909b-c9c92f6b83c1\"</td>\n",
       "      <td>fab3ea03-6ff1-483f-a90a-74ff47d0b556</td>\n",
       "    </tr>\n",
       "  </tbody>\n",
       "</table>\n",
       "</div>"
      ],
      "text/plain": [
       "                                       userId  \\\n",
       "21771  \"e2f8d5e4-cccd-4d1a-909b-c9c92f6b83c1\"   \n",
       "\n",
       "                                  sessionId  \n",
       "21771  fab3ea03-6ff1-483f-a90a-74ff47d0b556  "
      ]
     },
     "execution_count": 89,
     "metadata": {},
     "output_type": "execute_result"
    }
   ],
   "source": [
    "allSessions[allSessions['userId']=='\"e2f8d5e4-cccd-4d1a-909b-c9c92f6b83c1\"']"
   ]
  },
  {
   "cell_type": "markdown",
   "metadata": {},
   "source": [
    "# Per user analysis"
   ]
  },
  {
   "cell_type": "code",
   "execution_count": 90,
   "metadata": {
    "collapsed": false
   },
   "outputs": [
    {
     "data": {
      "text/plain": [
       "'\"8d352896-a3f1-471c-8439-0f426df901c1\"'"
      ]
     },
     "execution_count": 90,
     "metadata": {},
     "output_type": "execute_result"
    }
   ],
   "source": [
    "# English-speaking user who answered the questionnaire - cf 'Google form analysis.ipynb'.\n",
    "localplayerguid = '\"8d352896-a3f1-471c-8439-0f426df901c1\"'\n",
    "#localplayerguid = '\"7037c5b2-c286-498e-9784-9a061c778609\"'\n",
    "#localplayerguid = '\"5c4939b5-425b-4d19-b5d2-0384a515539e\"'\n",
    "#localplayerguid = '\"7825d421-d668-4481-898a-46b51efe40f0\"'\n",
    "#localplayerguid = '\"acb9c989-b4a6-4c4d-81cc-6b5783ec71d8\"'\n",
    "localplayerguid"
   ]
  },
  {
   "cell_type": "code",
   "execution_count": 91,
   "metadata": {
    "collapsed": false
   },
   "outputs": [],
   "source": [
    "perUserRelevantColumns = ['sessionId', 'serverTime', 'section']"
   ]
  },
  {
   "cell_type": "code",
   "execution_count": 92,
   "metadata": {
    "collapsed": false
   },
   "outputs": [],
   "source": [
    "sessionsList = getAllSessionsOfUser(df152, localplayerguid, True)"
   ]
  },
  {
   "cell_type": "code",
   "execution_count": 93,
   "metadata": {
    "collapsed": false
   },
   "outputs": [
    {
     "data": {
      "text/html": [
       "<div>\n",
       "<style>\n",
       "    .dataframe thead tr:only-child th {\n",
       "        text-align: right;\n",
       "    }\n",
       "\n",
       "    .dataframe thead th {\n",
       "        text-align: left;\n",
       "    }\n",
       "\n",
       "    .dataframe tbody tr th {\n",
       "        vertical-align: top;\n",
       "    }\n",
       "</style>\n",
       "<table border=\"1\" class=\"dataframe\">\n",
       "  <thead>\n",
       "    <tr style=\"text-align: right;\">\n",
       "      <th></th>\n",
       "      <th>sessionId</th>\n",
       "      <th>serverTime</th>\n",
       "      <th>section</th>\n",
       "    </tr>\n",
       "  </thead>\n",
       "  <tbody>\n",
       "    <tr>\n",
       "      <th>19988</th>\n",
       "      <td>8bd5d335-d20e-4db5-9979-feb668ba7c71</td>\n",
       "      <td>2017-08-18T14:01:06.876Z</td>\n",
       "      <td>tutorial1.Checkpoint00</td>\n",
       "    </tr>\n",
       "    <tr>\n",
       "      <th>19995</th>\n",
       "      <td>8bd5d335-d20e-4db5-9979-feb668ba7c71</td>\n",
       "      <td>2017-08-18T14:02:17.575Z</td>\n",
       "      <td>tutorial1.Checkpoint01</td>\n",
       "    </tr>\n",
       "    <tr>\n",
       "      <th>20018</th>\n",
       "      <td>8bd5d335-d20e-4db5-9979-feb668ba7c71</td>\n",
       "      <td>2017-08-18T14:09:41.769Z</td>\n",
       "      <td>tutorial1.Checkpoint02</td>\n",
       "    </tr>\n",
       "    <tr>\n",
       "      <th>20023</th>\n",
       "      <td>8bd5d335-d20e-4db5-9979-feb668ba7c71</td>\n",
       "      <td>2017-08-18T14:10:52.544Z</td>\n",
       "      <td>tutorial1.Checkpoint03</td>\n",
       "    </tr>\n",
       "    <tr>\n",
       "      <th>20028</th>\n",
       "      <td>8bd5d335-d20e-4db5-9979-feb668ba7c71</td>\n",
       "      <td>2017-08-18T14:11:04.463Z</td>\n",
       "      <td>tutorial1.Checkpoint04</td>\n",
       "    </tr>\n",
       "  </tbody>\n",
       "</table>\n",
       "</div>"
      ],
      "text/plain": [
       "                                  sessionId                serverTime  \\\n",
       "19988  8bd5d335-d20e-4db5-9979-feb668ba7c71  2017-08-18T14:01:06.876Z   \n",
       "19995  8bd5d335-d20e-4db5-9979-feb668ba7c71  2017-08-18T14:02:17.575Z   \n",
       "20018  8bd5d335-d20e-4db5-9979-feb668ba7c71  2017-08-18T14:09:41.769Z   \n",
       "20023  8bd5d335-d20e-4db5-9979-feb668ba7c71  2017-08-18T14:10:52.544Z   \n",
       "20028  8bd5d335-d20e-4db5-9979-feb668ba7c71  2017-08-18T14:11:04.463Z   \n",
       "\n",
       "                      section  \n",
       "19988  tutorial1.Checkpoint00  \n",
       "19995  tutorial1.Checkpoint01  \n",
       "20018  tutorial1.Checkpoint02  \n",
       "20023  tutorial1.Checkpoint03  \n",
       "20028  tutorial1.Checkpoint04  "
      ]
     },
     "execution_count": 93,
     "metadata": {},
     "output_type": "execute_result"
    }
   ],
   "source": [
    "# List all 'reach' events with those sessionIds.\n",
    "perUser = df152[df152['type']=='reach'].loc[:,perUserRelevantColumns]\n",
    "perUser = perUser[perUser['sessionId'].isin(sessionsList['sessionId'])]\n",
    "perUser = perUser[perUser['section'].str.startswith('tutorial', na=False)]\n",
    "perUser.describe()\n",
    "perUser.head()"
   ]
  },
  {
   "cell_type": "markdown",
   "metadata": {},
   "source": [
    "# Common analysis"
   ]
  },
  {
   "cell_type": "markdown",
   "metadata": {},
   "source": [
    "#### Switch here between users and sessions."
   ]
  },
  {
   "cell_type": "code",
   "execution_count": 94,
   "metadata": {
    "collapsed": true
   },
   "outputs": [],
   "source": [
    "#sectionsList = perSession\n",
    "sectionsList = perUser"
   ]
  },
  {
   "cell_type": "code",
   "execution_count": 95,
   "metadata": {
    "collapsed": false
   },
   "outputs": [
    {
     "data": {
      "text/html": [
       "<div>\n",
       "<style>\n",
       "    .dataframe thead tr:only-child th {\n",
       "        text-align: right;\n",
       "    }\n",
       "\n",
       "    .dataframe thead th {\n",
       "        text-align: left;\n",
       "    }\n",
       "\n",
       "    .dataframe tbody tr th {\n",
       "        vertical-align: top;\n",
       "    }\n",
       "</style>\n",
       "<table border=\"1\" class=\"dataframe\">\n",
       "  <thead>\n",
       "    <tr style=\"text-align: right;\">\n",
       "      <th></th>\n",
       "      <th>serverTime</th>\n",
       "    </tr>\n",
       "    <tr>\n",
       "      <th>section</th>\n",
       "      <th></th>\n",
       "    </tr>\n",
       "  </thead>\n",
       "  <tbody>\n",
       "    <tr>\n",
       "      <th>tutorial1.Checkpoint00</th>\n",
       "      <td>2017-08-18T14:01:06.876Z</td>\n",
       "    </tr>\n",
       "    <tr>\n",
       "      <th>tutorial1.Checkpoint01</th>\n",
       "      <td>2017-08-18T14:02:17.575Z</td>\n",
       "    </tr>\n",
       "    <tr>\n",
       "      <th>tutorial1.Checkpoint02</th>\n",
       "      <td>2017-08-18T14:09:41.769Z</td>\n",
       "    </tr>\n",
       "    <tr>\n",
       "      <th>tutorial1.Checkpoint03</th>\n",
       "      <td>2017-08-18T14:10:52.544Z</td>\n",
       "    </tr>\n",
       "    <tr>\n",
       "      <th>tutorial1.Checkpoint04</th>\n",
       "      <td>2017-08-18T14:11:04.463Z</td>\n",
       "    </tr>\n",
       "  </tbody>\n",
       "</table>\n",
       "</div>"
      ],
      "text/plain": [
       "                                      serverTime\n",
       "section                                         \n",
       "tutorial1.Checkpoint00  2017-08-18T14:01:06.876Z\n",
       "tutorial1.Checkpoint01  2017-08-18T14:02:17.575Z\n",
       "tutorial1.Checkpoint02  2017-08-18T14:09:41.769Z\n",
       "tutorial1.Checkpoint03  2017-08-18T14:10:52.544Z\n",
       "tutorial1.Checkpoint04  2017-08-18T14:11:04.463Z"
      ]
     },
     "execution_count": 95,
     "metadata": {},
     "output_type": "execute_result"
    }
   ],
   "source": [
    "timedSections = sectionsList.groupby(\"section\").agg({ \"serverTime\": np.min })\n",
    "timedSections.head()"
   ]
  },
  {
   "cell_type": "code",
   "execution_count": 96,
   "metadata": {
    "collapsed": false
   },
   "outputs": [
    {
     "data": {
      "text/html": [
       "<div>\n",
       "<style>\n",
       "    .dataframe thead tr:only-child th {\n",
       "        text-align: right;\n",
       "    }\n",
       "\n",
       "    .dataframe thead th {\n",
       "        text-align: left;\n",
       "    }\n",
       "\n",
       "    .dataframe tbody tr th {\n",
       "        vertical-align: top;\n",
       "    }\n",
       "</style>\n",
       "<table border=\"1\" class=\"dataframe\">\n",
       "  <thead>\n",
       "    <tr style=\"text-align: right;\">\n",
       "      <th></th>\n",
       "      <th>serverTime</th>\n",
       "      <th>firstReached</th>\n",
       "    </tr>\n",
       "    <tr>\n",
       "      <th>section</th>\n",
       "      <th></th>\n",
       "      <th></th>\n",
       "    </tr>\n",
       "  </thead>\n",
       "  <tbody>\n",
       "    <tr>\n",
       "      <th>tutorial1.Checkpoint00</th>\n",
       "      <td>2017-08-18T14:01:06.876Z</td>\n",
       "      <td>2017-08-18 14:01:06.876</td>\n",
       "    </tr>\n",
       "    <tr>\n",
       "      <th>tutorial1.Checkpoint01</th>\n",
       "      <td>2017-08-18T14:02:17.575Z</td>\n",
       "      <td>2017-08-18 14:02:17.575</td>\n",
       "    </tr>\n",
       "    <tr>\n",
       "      <th>tutorial1.Checkpoint02</th>\n",
       "      <td>2017-08-18T14:09:41.769Z</td>\n",
       "      <td>2017-08-18 14:09:41.769</td>\n",
       "    </tr>\n",
       "    <tr>\n",
       "      <th>tutorial1.Checkpoint03</th>\n",
       "      <td>2017-08-18T14:10:52.544Z</td>\n",
       "      <td>2017-08-18 14:10:52.544</td>\n",
       "    </tr>\n",
       "    <tr>\n",
       "      <th>tutorial1.Checkpoint04</th>\n",
       "      <td>2017-08-18T14:11:04.463Z</td>\n",
       "      <td>2017-08-18 14:11:04.463</td>\n",
       "    </tr>\n",
       "  </tbody>\n",
       "</table>\n",
       "</div>"
      ],
      "text/plain": [
       "                                      serverTime            firstReached\n",
       "section                                                                 \n",
       "tutorial1.Checkpoint00  2017-08-18T14:01:06.876Z 2017-08-18 14:01:06.876\n",
       "tutorial1.Checkpoint01  2017-08-18T14:02:17.575Z 2017-08-18 14:02:17.575\n",
       "tutorial1.Checkpoint02  2017-08-18T14:09:41.769Z 2017-08-18 14:09:41.769\n",
       "tutorial1.Checkpoint03  2017-08-18T14:10:52.544Z 2017-08-18 14:10:52.544\n",
       "tutorial1.Checkpoint04  2017-08-18T14:11:04.463Z 2017-08-18 14:11:04.463"
      ]
     },
     "execution_count": 96,
     "metadata": {},
     "output_type": "execute_result"
    }
   ],
   "source": [
    "timedSections[\"firstReached\"] = pd.to_datetime(timedSections[\"serverTime\"])\n",
    "timedSections.head()"
   ]
  },
  {
   "cell_type": "code",
   "execution_count": 97,
   "metadata": {
    "collapsed": false,
    "scrolled": true
   },
   "outputs": [
    {
     "data": {
      "text/html": [
       "<div>\n",
       "<style>\n",
       "    .dataframe thead tr:only-child th {\n",
       "        text-align: right;\n",
       "    }\n",
       "\n",
       "    .dataframe thead th {\n",
       "        text-align: left;\n",
       "    }\n",
       "\n",
       "    .dataframe tbody tr th {\n",
       "        vertical-align: top;\n",
       "    }\n",
       "</style>\n",
       "<table border=\"1\" class=\"dataframe\">\n",
       "  <thead>\n",
       "    <tr style=\"text-align: right;\">\n",
       "      <th></th>\n",
       "      <th>serverTime</th>\n",
       "      <th>firstReached</th>\n",
       "      <th>firstCompletionDuration</th>\n",
       "    </tr>\n",
       "    <tr>\n",
       "      <th>section</th>\n",
       "      <th></th>\n",
       "      <th></th>\n",
       "      <th></th>\n",
       "    </tr>\n",
       "  </thead>\n",
       "  <tbody>\n",
       "    <tr>\n",
       "      <th>tutorial1.Checkpoint00</th>\n",
       "      <td>2017-08-18T14:01:06.876Z</td>\n",
       "      <td>2017-08-18 14:01:06.876</td>\n",
       "      <td>NaT</td>\n",
       "    </tr>\n",
       "    <tr>\n",
       "      <th>tutorial1.Checkpoint01</th>\n",
       "      <td>2017-08-18T14:02:17.575Z</td>\n",
       "      <td>2017-08-18 14:02:17.575</td>\n",
       "      <td>00:01:10.699000</td>\n",
       "    </tr>\n",
       "    <tr>\n",
       "      <th>tutorial1.Checkpoint02</th>\n",
       "      <td>2017-08-18T14:09:41.769Z</td>\n",
       "      <td>2017-08-18 14:09:41.769</td>\n",
       "      <td>00:07:24.194000</td>\n",
       "    </tr>\n",
       "    <tr>\n",
       "      <th>tutorial1.Checkpoint03</th>\n",
       "      <td>2017-08-18T14:10:52.544Z</td>\n",
       "      <td>2017-08-18 14:10:52.544</td>\n",
       "      <td>00:01:10.775000</td>\n",
       "    </tr>\n",
       "    <tr>\n",
       "      <th>tutorial1.Checkpoint04</th>\n",
       "      <td>2017-08-18T14:11:04.463Z</td>\n",
       "      <td>2017-08-18 14:11:04.463</td>\n",
       "      <td>00:00:11.919000</td>\n",
       "    </tr>\n",
       "  </tbody>\n",
       "</table>\n",
       "</div>"
      ],
      "text/plain": [
       "                                      serverTime            firstReached  \\\n",
       "section                                                                    \n",
       "tutorial1.Checkpoint00  2017-08-18T14:01:06.876Z 2017-08-18 14:01:06.876   \n",
       "tutorial1.Checkpoint01  2017-08-18T14:02:17.575Z 2017-08-18 14:02:17.575   \n",
       "tutorial1.Checkpoint02  2017-08-18T14:09:41.769Z 2017-08-18 14:09:41.769   \n",
       "tutorial1.Checkpoint03  2017-08-18T14:10:52.544Z 2017-08-18 14:10:52.544   \n",
       "tutorial1.Checkpoint04  2017-08-18T14:11:04.463Z 2017-08-18 14:11:04.463   \n",
       "\n",
       "                       firstCompletionDuration  \n",
       "section                                         \n",
       "tutorial1.Checkpoint00                     NaT  \n",
       "tutorial1.Checkpoint01         00:01:10.699000  \n",
       "tutorial1.Checkpoint02         00:07:24.194000  \n",
       "tutorial1.Checkpoint03         00:01:10.775000  \n",
       "tutorial1.Checkpoint04         00:00:11.919000  "
      ]
     },
     "execution_count": 97,
     "metadata": {},
     "output_type": "execute_result"
    }
   ],
   "source": [
    "timedSections[\"firstCompletionDuration\"] = timedSections[\"firstReached\"].diff()\n",
    "timedSections"
   ]
  },
  {
   "cell_type": "markdown",
   "metadata": {},
   "source": [
    "# Function tests\n",
    "<a id=functests />"
   ]
  },
  {
   "cell_type": "code",
   "execution_count": 98,
   "metadata": {
    "collapsed": false
   },
   "outputs": [
    {
     "data": {
      "text/html": [
       "<div>\n",
       "<style>\n",
       "    .dataframe thead tr:only-child th {\n",
       "        text-align: right;\n",
       "    }\n",
       "\n",
       "    .dataframe thead th {\n",
       "        text-align: left;\n",
       "    }\n",
       "\n",
       "    .dataframe tbody tr th {\n",
       "        vertical-align: top;\n",
       "    }\n",
       "</style>\n",
       "<table border=\"1\" class=\"dataframe\">\n",
       "  <thead>\n",
       "    <tr style=\"text-align: right;\">\n",
       "      <th></th>\n",
       "      <th>\"7412a447-8177-48e9-82c5-cb31032f76a9\"</th>\n",
       "    </tr>\n",
       "  </thead>\n",
       "  <tbody>\n",
       "    <tr>\n",
       "      <th>score</th>\n",
       "      <td>NaN</td>\n",
       "    </tr>\n",
       "    <tr>\n",
       "      <th>sessionsCount</th>\n",
       "      <td>4.0</td>\n",
       "    </tr>\n",
       "    <tr>\n",
       "      <th>complete</th>\n",
       "      <td>0.0</td>\n",
       "    </tr>\n",
       "    <tr>\n",
       "      <th>configure</th>\n",
       "      <td>0.0</td>\n",
       "    </tr>\n",
       "    <tr>\n",
       "      <th>craft</th>\n",
       "      <td>1.0</td>\n",
       "    </tr>\n",
       "    <tr>\n",
       "      <th>death</th>\n",
       "      <td>1.0</td>\n",
       "    </tr>\n",
       "    <tr>\n",
       "      <th>equip</th>\n",
       "      <td>1.0</td>\n",
       "    </tr>\n",
       "    <tr>\n",
       "      <th>gotomooc</th>\n",
       "      <td>0.0</td>\n",
       "    </tr>\n",
       "    <tr>\n",
       "      <th>gotourl</th>\n",
       "      <td>0.0</td>\n",
       "    </tr>\n",
       "    <tr>\n",
       "      <th>pickup</th>\n",
       "      <td>1.0</td>\n",
       "    </tr>\n",
       "    <tr>\n",
       "      <th>reach</th>\n",
       "      <td>2.0</td>\n",
       "    </tr>\n",
       "    <tr>\n",
       "      <th>restart</th>\n",
       "      <td>0.0</td>\n",
       "    </tr>\n",
       "    <tr>\n",
       "      <th>selectmenu</th>\n",
       "      <td>0.0</td>\n",
       "    </tr>\n",
       "    <tr>\n",
       "      <th>start</th>\n",
       "      <td>0.0</td>\n",
       "    </tr>\n",
       "    <tr>\n",
       "      <th>switch</th>\n",
       "      <td>0.0</td>\n",
       "    </tr>\n",
       "    <tr>\n",
       "      <th>unequip</th>\n",
       "      <td>0.0</td>\n",
       "    </tr>\n",
       "  </tbody>\n",
       "</table>\n",
       "</div>"
      ],
      "text/plain": [
       "               \"7412a447-8177-48e9-82c5-cb31032f76a9\"\n",
       "score                                             NaN\n",
       "sessionsCount                                     4.0\n",
       "complete                                          0.0\n",
       "configure                                         0.0\n",
       "craft                                             1.0\n",
       "death                                             1.0\n",
       "equip                                             1.0\n",
       "gotomooc                                          0.0\n",
       "gotourl                                           0.0\n",
       "pickup                                            1.0\n",
       "reach                                             2.0\n",
       "restart                                           0.0\n",
       "selectmenu                                        0.0\n",
       "start                                             0.0\n",
       "switch                                            0.0\n",
       "unequip                                           0.0"
      ]
     },
     "execution_count": 98,
     "metadata": {},
     "output_type": "execute_result"
    }
   ],
   "source": [
    "testResult = getUserDataVector('\"7412a447-8177-48e9-82c5-cb31032f76a9\"')\n",
    "testResult"
   ]
  },
  {
   "cell_type": "code",
   "execution_count": 99,
   "metadata": {
    "collapsed": false
   },
   "outputs": [
    {
     "data": {
      "text/plain": [
       "1.0"
      ]
     },
     "execution_count": 99,
     "metadata": {},
     "output_type": "execute_result"
    }
   ],
   "source": [
    "testResult['\"7412a447-8177-48e9-82c5-cb31032f76a9\"']['death']"
   ]
  },
  {
   "cell_type": "code",
   "execution_count": 100,
   "metadata": {
    "collapsed": false
   },
   "outputs": [
    {
     "data": {
      "text/html": [
       "<div>\n",
       "<style>\n",
       "    .dataframe thead tr:only-child th {\n",
       "        text-align: right;\n",
       "    }\n",
       "\n",
       "    .dataframe thead th {\n",
       "        text-align: left;\n",
       "    }\n",
       "\n",
       "    .dataframe tbody tr th {\n",
       "        vertical-align: top;\n",
       "    }\n",
       "</style>\n",
       "<table border=\"1\" class=\"dataframe\">\n",
       "  <thead>\n",
       "    <tr style=\"text-align: right;\">\n",
       "      <th></th>\n",
       "      <th>\"e2f8d5e4-cccd-4d1a-909b-c9c92f6b83c1\"</th>\n",
       "    </tr>\n",
       "  </thead>\n",
       "  <tbody>\n",
       "    <tr>\n",
       "      <th>score</th>\n",
       "      <td>NaN</td>\n",
       "    </tr>\n",
       "    <tr>\n",
       "      <th>sessionsCount</th>\n",
       "      <td>1.0</td>\n",
       "    </tr>\n",
       "    <tr>\n",
       "      <th>complete</th>\n",
       "      <td>0.0</td>\n",
       "    </tr>\n",
       "    <tr>\n",
       "      <th>configure</th>\n",
       "      <td>0.0</td>\n",
       "    </tr>\n",
       "    <tr>\n",
       "      <th>craft</th>\n",
       "      <td>23.0</td>\n",
       "    </tr>\n",
       "    <tr>\n",
       "      <th>death</th>\n",
       "      <td>17.0</td>\n",
       "    </tr>\n",
       "    <tr>\n",
       "      <th>equip</th>\n",
       "      <td>344.0</td>\n",
       "    </tr>\n",
       "    <tr>\n",
       "      <th>gotomooc</th>\n",
       "      <td>0.0</td>\n",
       "    </tr>\n",
       "    <tr>\n",
       "      <th>gotourl</th>\n",
       "      <td>0.0</td>\n",
       "    </tr>\n",
       "    <tr>\n",
       "      <th>pickup</th>\n",
       "      <td>18.0</td>\n",
       "    </tr>\n",
       "    <tr>\n",
       "      <th>reach</th>\n",
       "      <td>16.0</td>\n",
       "    </tr>\n",
       "    <tr>\n",
       "      <th>restart</th>\n",
       "      <td>1.0</td>\n",
       "    </tr>\n",
       "    <tr>\n",
       "      <th>selectmenu</th>\n",
       "      <td>3.0</td>\n",
       "    </tr>\n",
       "    <tr>\n",
       "      <th>start</th>\n",
       "      <td>0.0</td>\n",
       "    </tr>\n",
       "    <tr>\n",
       "      <th>switch</th>\n",
       "      <td>0.0</td>\n",
       "    </tr>\n",
       "    <tr>\n",
       "      <th>unequip</th>\n",
       "      <td>82.0</td>\n",
       "    </tr>\n",
       "  </tbody>\n",
       "</table>\n",
       "</div>"
      ],
      "text/plain": [
       "               \"e2f8d5e4-cccd-4d1a-909b-c9c92f6b83c1\"\n",
       "score                                             NaN\n",
       "sessionsCount                                     1.0\n",
       "complete                                          0.0\n",
       "configure                                         0.0\n",
       "craft                                            23.0\n",
       "death                                            17.0\n",
       "equip                                           344.0\n",
       "gotomooc                                          0.0\n",
       "gotourl                                           0.0\n",
       "pickup                                           18.0\n",
       "reach                                            16.0\n",
       "restart                                           1.0\n",
       "selectmenu                                        3.0\n",
       "start                                             0.0\n",
       "switch                                            0.0\n",
       "unequip                                          82.0"
      ]
     },
     "execution_count": 100,
     "metadata": {},
     "output_type": "execute_result"
    }
   ],
   "source": [
    "testResult = getUserDataVector('\"e2f8d5e4-cccd-4d1a-909b-c9c92f6b83c1\"')\n",
    "testResult"
   ]
  },
  {
   "cell_type": "code",
   "execution_count": 101,
   "metadata": {
    "collapsed": false
   },
   "outputs": [
    {
     "data": {
      "text/html": [
       "<div>\n",
       "<style>\n",
       "    .dataframe thead tr:only-child th {\n",
       "        text-align: right;\n",
       "    }\n",
       "\n",
       "    .dataframe thead th {\n",
       "        text-align: left;\n",
       "    }\n",
       "\n",
       "    .dataframe tbody tr th {\n",
       "        vertical-align: top;\n",
       "    }\n",
       "</style>\n",
       "<table border=\"1\" class=\"dataframe\">\n",
       "  <thead>\n",
       "    <tr style=\"text-align: right;\">\n",
       "      <th></th>\n",
       "      <th>\"8d352896-a3f1-471c-8439-0f426df901c1\"</th>\n",
       "    </tr>\n",
       "  </thead>\n",
       "  <tbody>\n",
       "    <tr>\n",
       "      <th>score</th>\n",
       "      <td>19</td>\n",
       "    </tr>\n",
       "    <tr>\n",
       "      <th>sessionsCount</th>\n",
       "      <td>1</td>\n",
       "    </tr>\n",
       "    <tr>\n",
       "      <th>complete</th>\n",
       "      <td>0</td>\n",
       "    </tr>\n",
       "    <tr>\n",
       "      <th>configure</th>\n",
       "      <td>0</td>\n",
       "    </tr>\n",
       "    <tr>\n",
       "      <th>craft</th>\n",
       "      <td>4</td>\n",
       "    </tr>\n",
       "    <tr>\n",
       "      <th>death</th>\n",
       "      <td>5</td>\n",
       "    </tr>\n",
       "    <tr>\n",
       "      <th>equip</th>\n",
       "      <td>22</td>\n",
       "    </tr>\n",
       "    <tr>\n",
       "      <th>gotomooc</th>\n",
       "      <td>0</td>\n",
       "    </tr>\n",
       "    <tr>\n",
       "      <th>gotourl</th>\n",
       "      <td>0</td>\n",
       "    </tr>\n",
       "    <tr>\n",
       "      <th>pickup</th>\n",
       "      <td>9</td>\n",
       "    </tr>\n",
       "    <tr>\n",
       "      <th>reach</th>\n",
       "      <td>7</td>\n",
       "    </tr>\n",
       "    <tr>\n",
       "      <th>restart</th>\n",
       "      <td>0</td>\n",
       "    </tr>\n",
       "    <tr>\n",
       "      <th>selectmenu</th>\n",
       "      <td>0</td>\n",
       "    </tr>\n",
       "    <tr>\n",
       "      <th>start</th>\n",
       "      <td>0</td>\n",
       "    </tr>\n",
       "    <tr>\n",
       "      <th>switch</th>\n",
       "      <td>0</td>\n",
       "    </tr>\n",
       "    <tr>\n",
       "      <th>unequip</th>\n",
       "      <td>0</td>\n",
       "    </tr>\n",
       "  </tbody>\n",
       "</table>\n",
       "</div>"
      ],
      "text/plain": [
       "               \"8d352896-a3f1-471c-8439-0f426df901c1\"\n",
       "score                                              19\n",
       "sessionsCount                                       1\n",
       "complete                                            0\n",
       "configure                                           0\n",
       "craft                                               4\n",
       "death                                               5\n",
       "equip                                              22\n",
       "gotomooc                                            0\n",
       "gotourl                                             0\n",
       "pickup                                              9\n",
       "reach                                               7\n",
       "restart                                             0\n",
       "selectmenu                                          0\n",
       "start                                               0\n",
       "switch                                              0\n",
       "unequip                                             0"
      ]
     },
     "execution_count": 101,
     "metadata": {},
     "output_type": "execute_result"
    }
   ],
   "source": [
    "testResult = getUserDataVector('\"8d352896-a3f1-471c-8439-0f426df901c1\"')\n",
    "testResult"
   ]
  },
  {
   "cell_type": "code",
   "execution_count": 102,
   "metadata": {
    "collapsed": false
   },
   "outputs": [
    {
     "name": "stdout",
     "output_type": "stream",
     "text": [
      "[]\n",
      "[5]\n",
      "0    5\n",
      "dtype: int64\n",
      "[]\n",
      "[ 5.]\n",
      "0    5.0\n",
      "dtype: float64\n"
     ]
    },
    {
     "data": {
      "text/html": [
       "<div>\n",
       "<style>\n",
       "    .dataframe thead tr:only-child th {\n",
       "        text-align: right;\n",
       "    }\n",
       "\n",
       "    .dataframe thead th {\n",
       "        text-align: left;\n",
       "    }\n",
       "\n",
       "    .dataframe tbody tr th {\n",
       "        vertical-align: top;\n",
       "    }\n",
       "</style>\n",
       "<table border=\"1\" class=\"dataframe\">\n",
       "  <thead>\n",
       "    <tr style=\"text-align: right;\">\n",
       "      <th></th>\n",
       "      <th>firstCompletionDuration</th>\n",
       "      <th>firstReached</th>\n",
       "      <th>section</th>\n",
       "      <th>serverTime</th>\n",
       "    </tr>\n",
       "  </thead>\n",
       "  <tbody>\n",
       "    <tr>\n",
       "      <th>0</th>\n",
       "      <td>0</td>\n",
       "      <td>0</td>\n",
       "      <td>tutorial1.Checkpoint00</td>\n",
       "      <td>0</td>\n",
       "    </tr>\n",
       "    <tr>\n",
       "      <th>1</th>\n",
       "      <td>1</td>\n",
       "      <td>1</td>\n",
       "      <td>tutorial1.Checkpoint01</td>\n",
       "      <td>1</td>\n",
       "    </tr>\n",
       "    <tr>\n",
       "      <th>2</th>\n",
       "      <td>2</td>\n",
       "      <td>2</td>\n",
       "      <td>tutorial1.Checkpoint02</td>\n",
       "      <td>2</td>\n",
       "    </tr>\n",
       "  </tbody>\n",
       "</table>\n",
       "</div>"
      ],
      "text/plain": [
       "  firstCompletionDuration firstReached                 section serverTime\n",
       "0                       0            0  tutorial1.Checkpoint00          0\n",
       "1                       1            1  tutorial1.Checkpoint01          1\n",
       "2                       2            2  tutorial1.Checkpoint02          2"
      ]
     },
     "execution_count": 102,
     "metadata": {},
     "output_type": "execute_result"
    }
   ],
   "source": [
    "gformNotEnough = []\n",
    "print(gformNotEnough)\n",
    "\n",
    "gformNotEnough.append(5)\n",
    "print(gformNotEnough)\n",
    "\n",
    "gformNotEnough = pd.Series(gformNotEnough)\n",
    "print(gformNotEnough)\n",
    "\n",
    "gformNotEnough = np.array([])\n",
    "print(gformNotEnough)\n",
    "\n",
    "gformNotEnough = np.append(gformNotEnough, [5])\n",
    "print(gformNotEnough)\n",
    "\n",
    "gformNotEnough = pd.Series(gformNotEnough)\n",
    "print(gformNotEnough)\n",
    "\n",
    "testNonVal = pd.Series(['tutorial1.Checkpoint13'])\n",
    "\n",
    "gformNonVal = getNonValidatedCheckpoints(localplayerguid)\n",
    "gformNonVal\n",
    "\n",
    "getUserCheckpoints( localplayerguid )\n",
    "\n",
    "getDiscrepancyGameGForm( localplayerguid )\n",
    "\n",
    "getUserCheckpoints(localplayerguid)\n",
    "\n",
    "test = getValidatedCheckpoints(localplayerguid)\n",
    "test\n",
    "\n",
    "max = test.values.max()\n",
    "max\n",
    "\n",
    "getNonValidatedCheckpoints(localplayerguid)\n",
    "\n",
    "testlocalplayerguid = '\"7412a447-8177-48e9-82c5-cb31032f76a9\"'\n",
    "\n",
    "test = pd.DataFrame({\n",
    "                        'section' : ['tutorial1.Checkpoint00', 'tutorial1.Checkpoint01', 'tutorial1.Checkpoint02'],\n",
    "                        'serverTime' : ['0', '1', '2'],\n",
    "                        'firstReached' : ['0', '1', '2'],\n",
    "                        'firstCompletionDuration' : ['0', '1', '2'],\n",
    "                    })\n",
    "test\n",
    "#pd.DataFrame({  'A' : 1.,\n",
    "#                'B' : pd.Timestamp('20130102'),\n",
    "#                'C' : pd.Series(1,index=list(range(4)),dtype='float32'),\n",
    "#                'D' : np.array([3] * 4,dtype='int32'),\n",
    "#                'E' : pd.Categorical([\"test\",\"train\",\"test\",\"train\"]),\n",
    "#                'F' : 'foo' })"
   ]
  },
  {
   "cell_type": "code",
   "execution_count": 103,
   "metadata": {
    "collapsed": false,
    "scrolled": true
   },
   "outputs": [
    {
     "data": {
      "text/plain": [
       "0"
      ]
     },
     "execution_count": 103,
     "metadata": {},
     "output_type": "execute_result"
    }
   ],
   "source": [
    "testSr = pd.Series([])\n",
    "testSr.values.size"
   ]
  },
  {
   "cell_type": "code",
   "execution_count": 104,
   "metadata": {
    "collapsed": false
   },
   "outputs": [
    {
     "data": {
      "text/html": [
       "<div>\n",
       "<style>\n",
       "    .dataframe thead tr:only-child th {\n",
       "        text-align: right;\n",
       "    }\n",
       "\n",
       "    .dataframe thead th {\n",
       "        text-align: left;\n",
       "    }\n",
       "\n",
       "    .dataframe tbody tr th {\n",
       "        vertical-align: top;\n",
       "    }\n",
       "</style>\n",
       "<table border=\"1\" class=\"dataframe\">\n",
       "  <thead>\n",
       "    <tr style=\"text-align: right;\">\n",
       "      <th></th>\n",
       "      <th>serverTime</th>\n",
       "      <th>firstReached</th>\n",
       "      <th>firstCompletionDuration</th>\n",
       "    </tr>\n",
       "    <tr>\n",
       "      <th>section</th>\n",
       "      <th></th>\n",
       "      <th></th>\n",
       "      <th></th>\n",
       "    </tr>\n",
       "  </thead>\n",
       "  <tbody>\n",
       "  </tbody>\n",
       "</table>\n",
       "</div>"
      ],
      "text/plain": [
       "Empty DataFrame\n",
       "Columns: [serverTime, firstReached, firstCompletionDuration]\n",
       "Index: []"
      ]
     },
     "execution_count": 104,
     "metadata": {},
     "output_type": "execute_result"
    }
   ],
   "source": [
    "checkpointTimes = getCheckpointsTimes('\"958a0e85-1634-4559-bce6-d6af28b7e649\"')\n",
    "checkpointTimes"
   ]
  },
  {
   "cell_type": "code",
   "execution_count": 105,
   "metadata": {
    "collapsed": false,
    "scrolled": true
   },
   "outputs": [
    {
     "data": {
      "text/plain": [
       "pandas.core.frame.DataFrame"
      ]
     },
     "execution_count": 105,
     "metadata": {},
     "output_type": "execute_result"
    }
   ],
   "source": [
    "type(checkpointTimes)"
   ]
  },
  {
   "cell_type": "code",
   "execution_count": 106,
   "metadata": {
    "collapsed": false
   },
   "outputs": [
    {
     "data": {
      "text/html": [
       "<div>\n",
       "<style>\n",
       "    .dataframe thead tr:only-child th {\n",
       "        text-align: right;\n",
       "    }\n",
       "\n",
       "    .dataframe thead th {\n",
       "        text-align: left;\n",
       "    }\n",
       "\n",
       "    .dataframe tbody tr th {\n",
       "        vertical-align: top;\n",
       "    }\n",
       "</style>\n",
       "<table border=\"1\" class=\"dataframe\">\n",
       "  <thead>\n",
       "    <tr style=\"text-align: right;\">\n",
       "      <th></th>\n",
       "      <th>serverTime</th>\n",
       "      <th>firstReached</th>\n",
       "      <th>firstCompletionDuration</th>\n",
       "    </tr>\n",
       "  </thead>\n",
       "  <tbody>\n",
       "  </tbody>\n",
       "</table>\n",
       "</div>"
      ],
      "text/plain": [
       "Empty DataFrame\n",
       "Columns: [serverTime, firstReached, firstCompletionDuration]\n",
       "Index: []"
      ]
     },
     "execution_count": 106,
     "metadata": {},
     "output_type": "execute_result"
    }
   ],
   "source": [
    "testDF = pd.DataFrame({}, columns=checkpointTimes.columns)\n",
    "testDF"
   ]
  },
  {
   "cell_type": "code",
   "execution_count": 107,
   "metadata": {
    "collapsed": false
   },
   "outputs": [
    {
     "data": {
      "text/html": [
       "<div>\n",
       "<style>\n",
       "    .dataframe thead tr:only-child th {\n",
       "        text-align: right;\n",
       "    }\n",
       "\n",
       "    .dataframe thead th {\n",
       "        text-align: left;\n",
       "    }\n",
       "\n",
       "    .dataframe tbody tr th {\n",
       "        vertical-align: top;\n",
       "    }\n",
       "</style>\n",
       "<table border=\"1\" class=\"dataframe\">\n",
       "  <thead>\n",
       "    <tr style=\"text-align: right;\">\n",
       "      <th></th>\n",
       "      <th>serverTime</th>\n",
       "      <th>firstReached</th>\n",
       "      <th>firstCompletionDuration</th>\n",
       "    </tr>\n",
       "  </thead>\n",
       "  <tbody>\n",
       "  </tbody>\n",
       "</table>\n",
       "</div>"
      ],
      "text/plain": [
       "Empty DataFrame\n",
       "Columns: [serverTime, firstReached, firstCompletionDuration]\n",
       "Index: []"
      ]
     },
     "execution_count": 107,
     "metadata": {},
     "output_type": "execute_result"
    }
   ],
   "source": [
    "testDF['serverTime']['testIndex'] = np.nan\n",
    "testDF"
   ]
  },
  {
   "cell_type": "code",
   "execution_count": 108,
   "metadata": {
    "collapsed": false
   },
   "outputs": [
    {
     "data": {
      "text/html": [
       "<div>\n",
       "<style>\n",
       "    .dataframe thead tr:only-child th {\n",
       "        text-align: right;\n",
       "    }\n",
       "\n",
       "    .dataframe thead th {\n",
       "        text-align: left;\n",
       "    }\n",
       "\n",
       "    .dataframe tbody tr th {\n",
       "        vertical-align: top;\n",
       "    }\n",
       "</style>\n",
       "<table border=\"1\" class=\"dataframe\">\n",
       "  <thead>\n",
       "    <tr style=\"text-align: right;\">\n",
       "      <th></th>\n",
       "      <th>serverTime</th>\n",
       "      <th>firstReached</th>\n",
       "      <th>firstCompletionDuration</th>\n",
       "    </tr>\n",
       "  </thead>\n",
       "  <tbody>\n",
       "  </tbody>\n",
       "</table>\n",
       "</div>"
      ],
      "text/plain": [
       "Empty DataFrame\n",
       "Columns: [serverTime, firstReached, firstCompletionDuration]\n",
       "Index: []"
      ]
     },
     "execution_count": 108,
     "metadata": {},
     "output_type": "execute_result"
    }
   ],
   "source": [
    "testDF = testDF.add({'serverTime': 'a', 'firstReached': 'b', 'firstCompletionDuration': 'c'})\n",
    "testDF"
   ]
  },
  {
   "cell_type": "code",
   "execution_count": 109,
   "metadata": {
    "collapsed": false
   },
   "outputs": [
    {
     "data": {
      "text/html": [
       "<div>\n",
       "<style>\n",
       "    .dataframe thead tr:only-child th {\n",
       "        text-align: right;\n",
       "    }\n",
       "\n",
       "    .dataframe thead th {\n",
       "        text-align: left;\n",
       "    }\n",
       "\n",
       "    .dataframe tbody tr th {\n",
       "        vertical-align: top;\n",
       "    }\n",
       "</style>\n",
       "<table border=\"1\" class=\"dataframe\">\n",
       "  <thead>\n",
       "    <tr style=\"text-align: right;\">\n",
       "      <th></th>\n",
       "      <th>serverTime</th>\n",
       "      <th>firstReached</th>\n",
       "      <th>firstCompletionDuration</th>\n",
       "    </tr>\n",
       "    <tr>\n",
       "      <th>section</th>\n",
       "      <th></th>\n",
       "      <th></th>\n",
       "      <th></th>\n",
       "    </tr>\n",
       "  </thead>\n",
       "  <tbody>\n",
       "    <tr>\n",
       "      <th>tutorial1.Checkpoint00</th>\n",
       "      <td>2017-04-12T11:00:15.511Z</td>\n",
       "      <td>2017-04-12 11:00:15.511</td>\n",
       "      <td>NaT</td>\n",
       "    </tr>\n",
       "    <tr>\n",
       "      <th>tutorial1.Checkpoint01</th>\n",
       "      <td>2017-04-12T11:01:47.948Z</td>\n",
       "      <td>2017-04-12 11:01:47.948</td>\n",
       "      <td>00:01:32.437000</td>\n",
       "    </tr>\n",
       "  </tbody>\n",
       "</table>\n",
       "</div>"
      ],
      "text/plain": [
       "                                      serverTime            firstReached  \\\n",
       "section                                                                    \n",
       "tutorial1.Checkpoint00  2017-04-12T11:00:15.511Z 2017-04-12 11:00:15.511   \n",
       "tutorial1.Checkpoint01  2017-04-12T11:01:47.948Z 2017-04-12 11:01:47.948   \n",
       "\n",
       "                       firstCompletionDuration  \n",
       "section                                         \n",
       "tutorial1.Checkpoint00                     NaT  \n",
       "tutorial1.Checkpoint01         00:01:32.437000  "
      ]
     },
     "execution_count": 109,
     "metadata": {},
     "output_type": "execute_result"
    }
   ],
   "source": [
    "othersessionId = \"c430c60c-d7cb-4fc5-893b-dce440696caf\"\n",
    "checkpointTimes = getCheckpointsTimes(othersessionId)\n",
    "checkpointTimes"
   ]
  },
  {
   "cell_type": "code",
   "execution_count": 110,
   "metadata": {
    "collapsed": false
   },
   "outputs": [
    {
     "data": {
      "text/plain": [
       "serverTime                   2017-04-12T11:00:15.511Z\n",
       "firstReached               2017-04-12 11:00:15.511000\n",
       "firstCompletionDuration                           NaT\n",
       "Name: tutorial1.Checkpoint00, dtype: object"
      ]
     },
     "execution_count": 110,
     "metadata": {},
     "output_type": "execute_result"
    }
   ],
   "source": [
    "checkpointTimes.loc[checkpointTimes.index[0]]"
   ]
  },
  {
   "cell_type": "code",
   "execution_count": 111,
   "metadata": {
    "collapsed": false
   },
   "outputs": [
    {
     "data": {
      "text/plain": [
       "'tutorial1.Checkpoint00'"
      ]
     },
     "execution_count": 111,
     "metadata": {},
     "output_type": "execute_result"
    }
   ],
   "source": [
    "checkpointTimes.loc[checkpointTimes.index[0]].name"
   ]
  },
  {
   "cell_type": "code",
   "execution_count": 112,
   "metadata": {
    "collapsed": false
   },
   "outputs": [
    {
     "data": {
      "text/html": [
       "<div>\n",
       "<style>\n",
       "    .dataframe thead tr:only-child th {\n",
       "        text-align: right;\n",
       "    }\n",
       "\n",
       "    .dataframe thead th {\n",
       "        text-align: left;\n",
       "    }\n",
       "\n",
       "    .dataframe tbody tr th {\n",
       "        vertical-align: top;\n",
       "    }\n",
       "</style>\n",
       "<table border=\"1\" class=\"dataframe\">\n",
       "  <thead>\n",
       "    <tr style=\"text-align: right;\">\n",
       "      <th></th>\n",
       "      <th>sessionId</th>\n",
       "      <th>serverTime</th>\n",
       "      <th>section</th>\n",
       "    </tr>\n",
       "  </thead>\n",
       "  <tbody>\n",
       "    <tr>\n",
       "      <th>10</th>\n",
       "      <td>2d76c4ef-f260-4963-82f4-ff598d2a63b4</td>\n",
       "      <td>2017-04-12T09:32:58.854Z</td>\n",
       "      <td>tutorial1.Checkpoint00</td>\n",
       "    </tr>\n",
       "    <tr>\n",
       "      <th>18</th>\n",
       "      <td>2d76c4ef-f260-4963-82f4-ff598d2a63b4</td>\n",
       "      <td>2017-04-12T09:34:25.657Z</td>\n",
       "      <td>tutorial1.Checkpoint01</td>\n",
       "    </tr>\n",
       "    <tr>\n",
       "      <th>69</th>\n",
       "      <td>6a9893c1-da09-42c7-832e-4d0746fa779e</td>\n",
       "      <td>2017-04-12T09:47:06.436Z</td>\n",
       "      <td>tutorial1.Checkpoint01</td>\n",
       "    </tr>\n",
       "    <tr>\n",
       "      <th>79</th>\n",
       "      <td>c430c60c-d7cb-4fc5-893b-dce440696caf</td>\n",
       "      <td>2017-04-12T11:00:15.511Z</td>\n",
       "      <td>tutorial1.Checkpoint00</td>\n",
       "    </tr>\n",
       "    <tr>\n",
       "      <th>85</th>\n",
       "      <td>c430c60c-d7cb-4fc5-893b-dce440696caf</td>\n",
       "      <td>2017-04-12T11:01:47.948Z</td>\n",
       "      <td>tutorial1.Checkpoint01</td>\n",
       "    </tr>\n",
       "  </tbody>\n",
       "</table>\n",
       "</div>"
      ],
      "text/plain": [
       "                               sessionId                serverTime  \\\n",
       "10  2d76c4ef-f260-4963-82f4-ff598d2a63b4  2017-04-12T09:32:58.854Z   \n",
       "18  2d76c4ef-f260-4963-82f4-ff598d2a63b4  2017-04-12T09:34:25.657Z   \n",
       "69  6a9893c1-da09-42c7-832e-4d0746fa779e  2017-04-12T09:47:06.436Z   \n",
       "79  c430c60c-d7cb-4fc5-893b-dce440696caf  2017-04-12T11:00:15.511Z   \n",
       "85  c430c60c-d7cb-4fc5-893b-dce440696caf  2017-04-12T11:01:47.948Z   \n",
       "\n",
       "                   section  \n",
       "10  tutorial1.Checkpoint00  \n",
       "18  tutorial1.Checkpoint01  \n",
       "69  tutorial1.Checkpoint01  \n",
       "79  tutorial1.Checkpoint00  \n",
       "85  tutorial1.Checkpoint01  "
      ]
     },
     "execution_count": 112,
     "metadata": {},
     "output_type": "execute_result"
    }
   ],
   "source": [
    "reachEvents.head()"
   ]
  },
  {
   "cell_type": "code",
   "execution_count": 113,
   "metadata": {
    "collapsed": false
   },
   "outputs": [
    {
     "data": {
      "text/html": [
       "<div>\n",
       "<style>\n",
       "    .dataframe thead tr:only-child th {\n",
       "        text-align: right;\n",
       "    }\n",
       "\n",
       "    .dataframe thead th {\n",
       "        text-align: left;\n",
       "    }\n",
       "\n",
       "    .dataframe tbody tr th {\n",
       "        vertical-align: top;\n",
       "    }\n",
       "</style>\n",
       "<table border=\"1\" class=\"dataframe\">\n",
       "  <thead>\n",
       "    <tr style=\"text-align: right;\">\n",
       "      <th></th>\n",
       "      <th>sessionId</th>\n",
       "      <th>serverTime</th>\n",
       "      <th>section</th>\n",
       "    </tr>\n",
       "  </thead>\n",
       "  <tbody>\n",
       "    <tr>\n",
       "      <th>79</th>\n",
       "      <td>c430c60c-d7cb-4fc5-893b-dce440696caf</td>\n",
       "      <td>2017-04-12T11:00:15.511Z</td>\n",
       "      <td>tutorial1.Checkpoint00</td>\n",
       "    </tr>\n",
       "    <tr>\n",
       "      <th>85</th>\n",
       "      <td>c430c60c-d7cb-4fc5-893b-dce440696caf</td>\n",
       "      <td>2017-04-12T11:01:47.948Z</td>\n",
       "      <td>tutorial1.Checkpoint01</td>\n",
       "    </tr>\n",
       "  </tbody>\n",
       "</table>\n",
       "</div>"
      ],
      "text/plain": [
       "                               sessionId                serverTime  \\\n",
       "79  c430c60c-d7cb-4fc5-893b-dce440696caf  2017-04-12T11:00:15.511Z   \n",
       "85  c430c60c-d7cb-4fc5-893b-dce440696caf  2017-04-12T11:01:47.948Z   \n",
       "\n",
       "                   section  \n",
       "79  tutorial1.Checkpoint00  \n",
       "85  tutorial1.Checkpoint01  "
      ]
     },
     "execution_count": 113,
     "metadata": {},
     "output_type": "execute_result"
    }
   ],
   "source": [
    "perSession = reachEvents[reachEvents['sessionId']==othersessionId]\n",
    "perSession.head()"
   ]
  },
  {
   "cell_type": "code",
   "execution_count": 114,
   "metadata": {
    "collapsed": false
   },
   "outputs": [
    {
     "data": {
      "text/html": [
       "<div>\n",
       "<style>\n",
       "    .dataframe thead tr:only-child th {\n",
       "        text-align: right;\n",
       "    }\n",
       "\n",
       "    .dataframe thead th {\n",
       "        text-align: left;\n",
       "    }\n",
       "\n",
       "    .dataframe tbody tr th {\n",
       "        vertical-align: top;\n",
       "    }\n",
       "</style>\n",
       "<table border=\"1\" class=\"dataframe\">\n",
       "  <thead>\n",
       "    <tr style=\"text-align: right;\">\n",
       "      <th></th>\n",
       "      <th>sessionId</th>\n",
       "      <th>serverTime</th>\n",
       "      <th>section</th>\n",
       "    </tr>\n",
       "  </thead>\n",
       "  <tbody>\n",
       "    <tr>\n",
       "      <th>79</th>\n",
       "      <td>c430c60c-d7cb-4fc5-893b-dce440696caf</td>\n",
       "      <td>2017-04-12T11:00:15.511Z</td>\n",
       "      <td>tutorial1.Checkpoint00</td>\n",
       "    </tr>\n",
       "    <tr>\n",
       "      <th>85</th>\n",
       "      <td>c430c60c-d7cb-4fc5-893b-dce440696caf</td>\n",
       "      <td>2017-04-12T11:01:47.948Z</td>\n",
       "      <td>tutorial1.Checkpoint01</td>\n",
       "    </tr>\n",
       "  </tbody>\n",
       "</table>\n",
       "</div>"
      ],
      "text/plain": [
       "                               sessionId                serverTime  \\\n",
       "79  c430c60c-d7cb-4fc5-893b-dce440696caf  2017-04-12T11:00:15.511Z   \n",
       "85  c430c60c-d7cb-4fc5-893b-dce440696caf  2017-04-12T11:01:47.948Z   \n",
       "\n",
       "                   section  \n",
       "79  tutorial1.Checkpoint00  \n",
       "85  tutorial1.Checkpoint01  "
      ]
     },
     "execution_count": 114,
     "metadata": {},
     "output_type": "execute_result"
    }
   ],
   "source": [
    "perSession = perSession[perSession['section'].str.startswith('tutorial', na=False)]\n",
    "perSession.head()"
   ]
  },
  {
   "cell_type": "code",
   "execution_count": 115,
   "metadata": {
    "collapsed": false
   },
   "outputs": [
    {
     "data": {
      "text/html": [
       "<div>\n",
       "<style>\n",
       "    .dataframe thead tr:only-child th {\n",
       "        text-align: right;\n",
       "    }\n",
       "\n",
       "    .dataframe thead th {\n",
       "        text-align: left;\n",
       "    }\n",
       "\n",
       "    .dataframe tbody tr th {\n",
       "        vertical-align: top;\n",
       "    }\n",
       "</style>\n",
       "<table border=\"1\" class=\"dataframe\">\n",
       "  <thead>\n",
       "    <tr style=\"text-align: right;\">\n",
       "      <th></th>\n",
       "      <th>serverTime</th>\n",
       "    </tr>\n",
       "    <tr>\n",
       "      <th>section</th>\n",
       "      <th></th>\n",
       "    </tr>\n",
       "  </thead>\n",
       "  <tbody>\n",
       "    <tr>\n",
       "      <th>tutorial1.Checkpoint00</th>\n",
       "      <td>2017-04-12T11:00:15.511Z</td>\n",
       "    </tr>\n",
       "    <tr>\n",
       "      <th>tutorial1.Checkpoint01</th>\n",
       "      <td>2017-04-12T11:01:47.948Z</td>\n",
       "    </tr>\n",
       "  </tbody>\n",
       "</table>\n",
       "</div>"
      ],
      "text/plain": [
       "                                      serverTime\n",
       "section                                         \n",
       "tutorial1.Checkpoint00  2017-04-12T11:00:15.511Z\n",
       "tutorial1.Checkpoint01  2017-04-12T11:01:47.948Z"
      ]
     },
     "execution_count": 115,
     "metadata": {},
     "output_type": "execute_result"
    }
   ],
   "source": [
    "timedSections = perSession.groupby(\"section\").agg({ \"serverTime\": np.min })\n",
    "timedSections.head()"
   ]
  },
  {
   "cell_type": "code",
   "execution_count": 116,
   "metadata": {
    "collapsed": false
   },
   "outputs": [
    {
     "data": {
      "text/html": [
       "<div>\n",
       "<style>\n",
       "    .dataframe thead tr:only-child th {\n",
       "        text-align: right;\n",
       "    }\n",
       "\n",
       "    .dataframe thead th {\n",
       "        text-align: left;\n",
       "    }\n",
       "\n",
       "    .dataframe tbody tr th {\n",
       "        vertical-align: top;\n",
       "    }\n",
       "</style>\n",
       "<table border=\"1\" class=\"dataframe\">\n",
       "  <thead>\n",
       "    <tr style=\"text-align: right;\">\n",
       "      <th></th>\n",
       "      <th>serverTime</th>\n",
       "      <th>firstReached</th>\n",
       "    </tr>\n",
       "    <tr>\n",
       "      <th>section</th>\n",
       "      <th></th>\n",
       "      <th></th>\n",
       "    </tr>\n",
       "  </thead>\n",
       "  <tbody>\n",
       "    <tr>\n",
       "      <th>tutorial1.Checkpoint00</th>\n",
       "      <td>2017-04-12T11:00:15.511Z</td>\n",
       "      <td>2017-04-12 11:00:15.511</td>\n",
       "    </tr>\n",
       "    <tr>\n",
       "      <th>tutorial1.Checkpoint01</th>\n",
       "      <td>2017-04-12T11:01:47.948Z</td>\n",
       "      <td>2017-04-12 11:01:47.948</td>\n",
       "    </tr>\n",
       "  </tbody>\n",
       "</table>\n",
       "</div>"
      ],
      "text/plain": [
       "                                      serverTime            firstReached\n",
       "section                                                                 \n",
       "tutorial1.Checkpoint00  2017-04-12T11:00:15.511Z 2017-04-12 11:00:15.511\n",
       "tutorial1.Checkpoint01  2017-04-12T11:01:47.948Z 2017-04-12 11:01:47.948"
      ]
     },
     "execution_count": 116,
     "metadata": {},
     "output_type": "execute_result"
    }
   ],
   "source": [
    "timedSections[\"firstReached\"] = pd.to_datetime(timedSections[\"serverTime\"])\n",
    "timedSections.head()"
   ]
  },
  {
   "cell_type": "code",
   "execution_count": 117,
   "metadata": {
    "collapsed": false,
    "scrolled": true
   },
   "outputs": [
    {
     "data": {
      "text/html": [
       "<div>\n",
       "<style>\n",
       "    .dataframe thead tr:only-child th {\n",
       "        text-align: right;\n",
       "    }\n",
       "\n",
       "    .dataframe thead th {\n",
       "        text-align: left;\n",
       "    }\n",
       "\n",
       "    .dataframe tbody tr th {\n",
       "        vertical-align: top;\n",
       "    }\n",
       "</style>\n",
       "<table border=\"1\" class=\"dataframe\">\n",
       "  <thead>\n",
       "    <tr style=\"text-align: right;\">\n",
       "      <th></th>\n",
       "      <th>serverTime</th>\n",
       "      <th>firstReached</th>\n",
       "      <th>firstCompletionDuration</th>\n",
       "    </tr>\n",
       "    <tr>\n",
       "      <th>section</th>\n",
       "      <th></th>\n",
       "      <th></th>\n",
       "      <th></th>\n",
       "    </tr>\n",
       "  </thead>\n",
       "  <tbody>\n",
       "    <tr>\n",
       "      <th>tutorial1.Checkpoint00</th>\n",
       "      <td>2017-04-12T11:00:15.511Z</td>\n",
       "      <td>2017-04-12 11:00:15.511</td>\n",
       "      <td>NaT</td>\n",
       "    </tr>\n",
       "    <tr>\n",
       "      <th>tutorial1.Checkpoint01</th>\n",
       "      <td>2017-04-12T11:01:47.948Z</td>\n",
       "      <td>2017-04-12 11:01:47.948</td>\n",
       "      <td>00:01:32.437000</td>\n",
       "    </tr>\n",
       "  </tbody>\n",
       "</table>\n",
       "</div>"
      ],
      "text/plain": [
       "                                      serverTime            firstReached  \\\n",
       "section                                                                    \n",
       "tutorial1.Checkpoint00  2017-04-12T11:00:15.511Z 2017-04-12 11:00:15.511   \n",
       "tutorial1.Checkpoint01  2017-04-12T11:01:47.948Z 2017-04-12 11:01:47.948   \n",
       "\n",
       "                       firstCompletionDuration  \n",
       "section                                         \n",
       "tutorial1.Checkpoint00                     NaT  \n",
       "tutorial1.Checkpoint01         00:01:32.437000  "
      ]
     },
     "execution_count": 117,
     "metadata": {},
     "output_type": "execute_result"
    }
   ],
   "source": [
    "timedSections[\"firstCompletionDuration\"] = timedSections[\"firstReached\"].diff()\n",
    "timedSections.head()"
   ]
  },
  {
   "cell_type": "code",
   "execution_count": 118,
   "metadata": {
    "collapsed": false
   },
   "outputs": [
    {
     "data": {
      "text/html": [
       "<div>\n",
       "<style>\n",
       "    .dataframe thead tr:only-child th {\n",
       "        text-align: right;\n",
       "    }\n",
       "\n",
       "    .dataframe thead th {\n",
       "        text-align: left;\n",
       "    }\n",
       "\n",
       "    .dataframe tbody tr th {\n",
       "        vertical-align: top;\n",
       "    }\n",
       "</style>\n",
       "<table border=\"1\" class=\"dataframe\">\n",
       "  <thead>\n",
       "    <tr style=\"text-align: right;\">\n",
       "      <th></th>\n",
       "      <th>variable</th>\n",
       "      <th>value</th>\n",
       "    </tr>\n",
       "  </thead>\n",
       "  <tbody>\n",
       "    <tr>\n",
       "      <th>0</th>\n",
       "      <td>serverTime</td>\n",
       "      <td>2017-04-12T11:00:15.511Z</td>\n",
       "    </tr>\n",
       "  </tbody>\n",
       "</table>\n",
       "</div>"
      ],
      "text/plain": [
       "     variable                     value\n",
       "0  serverTime  2017-04-12T11:00:15.511Z"
      ]
     },
     "execution_count": 118,
     "metadata": {},
     "output_type": "execute_result"
    }
   ],
   "source": [
    "pd.melt(timedSections).head(1)"
   ]
  },
  {
   "cell_type": "code",
   "execution_count": 119,
   "metadata": {
    "collapsed": false,
    "scrolled": true
   },
   "outputs": [
    {
     "data": {
      "text/html": [
       "<div>\n",
       "<style>\n",
       "    .dataframe thead tr:only-child th {\n",
       "        text-align: right;\n",
       "    }\n",
       "\n",
       "    .dataframe thead th {\n",
       "        text-align: left;\n",
       "    }\n",
       "\n",
       "    .dataframe tbody tr th {\n",
       "        vertical-align: top;\n",
       "    }\n",
       "</style>\n",
       "<table border=\"1\" class=\"dataframe\">\n",
       "  <thead>\n",
       "    <tr style=\"text-align: right;\">\n",
       "      <th></th>\n",
       "      <th>section</th>\n",
       "      <th>0</th>\n",
       "    </tr>\n",
       "  </thead>\n",
       "  <tbody>\n",
       "    <tr>\n",
       "      <th>0</th>\n",
       "      <td>tutorial1.Checkpoint00</td>\n",
       "      <td>2017-04-12T11:00:15.511Z</td>\n",
       "    </tr>\n",
       "  </tbody>\n",
       "</table>\n",
       "</div>"
      ],
      "text/plain": [
       "                  section                         0\n",
       "0  tutorial1.Checkpoint00  2017-04-12T11:00:15.511Z"
      ]
     },
     "execution_count": 119,
     "metadata": {},
     "output_type": "execute_result"
    }
   ],
   "source": [
    "timedSections.unstack().reset_index().drop('level_0', axis=1).head(1)"
   ]
  },
  {
   "cell_type": "code",
   "execution_count": 120,
   "metadata": {
    "collapsed": false
   },
   "outputs": [
    {
     "data": {
      "text/plain": [
       "Index(['serverTime', 'firstReached', 'firstCompletionDuration'], dtype='object')"
      ]
     },
     "execution_count": 120,
     "metadata": {},
     "output_type": "execute_result"
    }
   ],
   "source": [
    "timedSections.columns"
   ]
  },
  {
   "cell_type": "code",
   "execution_count": 121,
   "metadata": {
    "collapsed": false
   },
   "outputs": [
    {
     "data": {
      "text/plain": [
       "Index(['tutorial1.Checkpoint00', 'tutorial1.Checkpoint01'], dtype='object', name='section')"
      ]
     },
     "execution_count": 121,
     "metadata": {},
     "output_type": "execute_result"
    }
   ],
   "source": [
    "timedSections.index"
   ]
  },
  {
   "cell_type": "code",
   "execution_count": 122,
   "metadata": {
    "collapsed": false
   },
   "outputs": [],
   "source": [
    "#timedSections[timedSections['section']=='tutorial1.Checkpoint00']\n",
    "#timedSections['section']\n",
    "#timedSections.unstack().reset_index().drop('level_0', axis=1)"
   ]
  },
  {
   "cell_type": "code",
   "execution_count": 123,
   "metadata": {
    "collapsed": false
   },
   "outputs": [
    {
     "data": {
      "text/plain": [
       "'2017-04-12T11:00:15.511Z'"
      ]
     },
     "execution_count": 123,
     "metadata": {},
     "output_type": "execute_result"
    }
   ],
   "source": [
    "timedSections['serverTime']['tutorial1.Checkpoint00']"
   ]
  },
  {
   "cell_type": "code",
   "execution_count": 124,
   "metadata": {
    "collapsed": false
   },
   "outputs": [
    {
     "data": {
      "text/plain": [
       "Timestamp('2017-04-12 11:00:15.511000')"
      ]
     },
     "execution_count": 124,
     "metadata": {},
     "output_type": "execute_result"
    }
   ],
   "source": [
    "timedSections['firstReached']['tutorial1.Checkpoint00']"
   ]
  },
  {
   "cell_type": "code",
   "execution_count": 125,
   "metadata": {
    "collapsed": false
   },
   "outputs": [
    {
     "data": {
      "text/plain": [
       "Timestamp('2017-01-12 11:00:15.511000')"
      ]
     },
     "execution_count": 125,
     "metadata": {},
     "output_type": "execute_result"
    }
   ],
   "source": [
    "testTimeStamp = pd.Timestamp('2017-01-12 11:00:15.511000')\n",
    "testTimeStamp"
   ]
  },
  {
   "cell_type": "code",
   "execution_count": 126,
   "metadata": {
    "collapsed": false
   },
   "outputs": [
    {
     "data": {
      "text/plain": [
       "serverTime                   2017-04-12T11:00:15.511Z\n",
       "firstReached               2017-04-12 11:00:15.511000\n",
       "firstCompletionDuration                           NaT\n",
       "Name: tutorial1.Checkpoint00, dtype: object"
      ]
     },
     "execution_count": 126,
     "metadata": {},
     "output_type": "execute_result"
    }
   ],
   "source": [
    "timedSections.loc['tutorial1.Checkpoint00']"
   ]
  },
  {
   "cell_type": "code",
   "execution_count": 127,
   "metadata": {
    "collapsed": false
   },
   "outputs": [
    {
     "data": {
      "text/plain": [
       "'2017-04-12T11:00:15.511Z'"
      ]
     },
     "execution_count": 127,
     "metadata": {},
     "output_type": "execute_result"
    }
   ],
   "source": [
    "timedSections.loc['tutorial1.Checkpoint00']['serverTime']"
   ]
  },
  {
   "cell_type": "code",
   "execution_count": 128,
   "metadata": {
    "collapsed": false
   },
   "outputs": [
    {
     "name": "stdout",
     "output_type": "stream",
     "text": [
      "tutorial1.Checkpoint00\n",
      "tutorial1.Checkpoint01\n"
     ]
    }
   ],
   "source": [
    "for checkpoint in timedSections.index:\n",
    "    print(checkpoint)"
   ]
  },
  {
   "cell_type": "code",
   "execution_count": 129,
   "metadata": {
    "collapsed": false
   },
   "outputs": [
    {
     "name": "stdout",
     "output_type": "stream",
     "text": [
      "tutorial1.Checkpoint00\n",
      "tutorial1.Checkpoint01\n"
     ]
    }
   ],
   "source": [
    "#timedSections = []\n",
    "\n",
    "#times = getCheckpointsTimes( sessionId )\n",
    "\n",
    "for checkpoint in timedSections.index:\n",
    "    if testTimeStamp < timedSections['firstReached'][checkpoint]:\n",
    "        print(checkpoint)"
   ]
  },
  {
   "cell_type": "code",
   "execution_count": 130,
   "metadata": {
    "collapsed": false
   },
   "outputs": [
    {
     "data": {
      "text/plain": [
       "False"
      ]
     },
     "execution_count": 130,
     "metadata": {},
     "output_type": "execute_result"
    }
   ],
   "source": [
    "timedSections.empty"
   ]
  },
  {
   "cell_type": "code",
   "execution_count": 131,
   "metadata": {
    "collapsed": false
   },
   "outputs": [
    {
     "data": {
      "text/plain": [
       "Index(['tutorial1.Checkpoint00', 'tutorial1.Checkpoint01'], dtype='object', name='section')"
      ]
     },
     "execution_count": 131,
     "metadata": {},
     "output_type": "execute_result"
    }
   ],
   "source": [
    "checkpointTimes.index"
   ]
  },
  {
   "cell_type": "code",
   "execution_count": 132,
   "metadata": {
    "collapsed": false
   },
   "outputs": [
    {
     "data": {
      "text/plain": [
       "Index(['serverTime', 'firstReached', 'firstCompletionDuration'], dtype='object')"
      ]
     },
     "execution_count": 132,
     "metadata": {},
     "output_type": "execute_result"
    }
   ],
   "source": [
    "checkpointTimes.columns"
   ]
  },
  {
   "cell_type": "code",
   "execution_count": 133,
   "metadata": {
    "collapsed": false
   },
   "outputs": [
    {
     "data": {
      "text/html": [
       "<div>\n",
       "<style>\n",
       "    .dataframe thead tr:only-child th {\n",
       "        text-align: right;\n",
       "    }\n",
       "\n",
       "    .dataframe thead th {\n",
       "        text-align: left;\n",
       "    }\n",
       "\n",
       "    .dataframe tbody tr th {\n",
       "        vertical-align: top;\n",
       "    }\n",
       "</style>\n",
       "<table border=\"1\" class=\"dataframe\">\n",
       "  <thead>\n",
       "    <tr style=\"text-align: right;\">\n",
       "      <th></th>\n",
       "      <th>serverTime</th>\n",
       "      <th>firstReached</th>\n",
       "      <th>firstCompletionDuration</th>\n",
       "    </tr>\n",
       "  </thead>\n",
       "  <tbody>\n",
       "    <tr>\n",
       "      <th>tutorial1.Checkpoint00</th>\n",
       "      <td>NaN</td>\n",
       "      <td>NaN</td>\n",
       "      <td>NaN</td>\n",
       "    </tr>\n",
       "    <tr>\n",
       "      <th>tutorial1.Checkpoint01</th>\n",
       "      <td>NaN</td>\n",
       "      <td>NaN</td>\n",
       "      <td>NaN</td>\n",
       "    </tr>\n",
       "    <tr>\n",
       "      <th>tutorial1.Checkpoint02</th>\n",
       "      <td>NaN</td>\n",
       "      <td>NaN</td>\n",
       "      <td>NaN</td>\n",
       "    </tr>\n",
       "    <tr>\n",
       "      <th>tutorial1.Checkpoint03</th>\n",
       "      <td>NaN</td>\n",
       "      <td>NaN</td>\n",
       "      <td>NaN</td>\n",
       "    </tr>\n",
       "    <tr>\n",
       "      <th>tutorial1.Checkpoint04</th>\n",
       "      <td>NaN</td>\n",
       "      <td>NaN</td>\n",
       "      <td>NaN</td>\n",
       "    </tr>\n",
       "    <tr>\n",
       "      <th>tutorial1.Checkpoint05</th>\n",
       "      <td>NaN</td>\n",
       "      <td>NaN</td>\n",
       "      <td>NaN</td>\n",
       "    </tr>\n",
       "    <tr>\n",
       "      <th>tutorial1.Checkpoint06</th>\n",
       "      <td>NaN</td>\n",
       "      <td>NaN</td>\n",
       "      <td>NaN</td>\n",
       "    </tr>\n",
       "    <tr>\n",
       "      <th>tutorial1.Checkpoint07</th>\n",
       "      <td>NaN</td>\n",
       "      <td>NaN</td>\n",
       "      <td>NaN</td>\n",
       "    </tr>\n",
       "    <tr>\n",
       "      <th>tutorial1.Checkpoint08</th>\n",
       "      <td>NaN</td>\n",
       "      <td>NaN</td>\n",
       "      <td>NaN</td>\n",
       "    </tr>\n",
       "    <tr>\n",
       "      <th>tutorial1.Checkpoint09</th>\n",
       "      <td>NaN</td>\n",
       "      <td>NaN</td>\n",
       "      <td>NaN</td>\n",
       "    </tr>\n",
       "    <tr>\n",
       "      <th>tutorial1.Checkpoint10</th>\n",
       "      <td>NaN</td>\n",
       "      <td>NaN</td>\n",
       "      <td>NaN</td>\n",
       "    </tr>\n",
       "    <tr>\n",
       "      <th>tutorial1.Checkpoint11</th>\n",
       "      <td>NaN</td>\n",
       "      <td>NaN</td>\n",
       "      <td>NaN</td>\n",
       "    </tr>\n",
       "    <tr>\n",
       "      <th>tutorial1.Checkpoint12</th>\n",
       "      <td>NaN</td>\n",
       "      <td>NaN</td>\n",
       "      <td>NaN</td>\n",
       "    </tr>\n",
       "    <tr>\n",
       "      <th>tutorial1.Checkpoint13</th>\n",
       "      <td>NaN</td>\n",
       "      <td>NaN</td>\n",
       "      <td>NaN</td>\n",
       "    </tr>\n",
       "    <tr>\n",
       "      <th>tutorial1.Checkpoint14</th>\n",
       "      <td>NaN</td>\n",
       "      <td>NaN</td>\n",
       "      <td>NaN</td>\n",
       "    </tr>\n",
       "  </tbody>\n",
       "</table>\n",
       "</div>"
      ],
      "text/plain": [
       "                       serverTime firstReached firstCompletionDuration\n",
       "tutorial1.Checkpoint00        NaN          NaN                     NaN\n",
       "tutorial1.Checkpoint01        NaN          NaN                     NaN\n",
       "tutorial1.Checkpoint02        NaN          NaN                     NaN\n",
       "tutorial1.Checkpoint03        NaN          NaN                     NaN\n",
       "tutorial1.Checkpoint04        NaN          NaN                     NaN\n",
       "tutorial1.Checkpoint05        NaN          NaN                     NaN\n",
       "tutorial1.Checkpoint06        NaN          NaN                     NaN\n",
       "tutorial1.Checkpoint07        NaN          NaN                     NaN\n",
       "tutorial1.Checkpoint08        NaN          NaN                     NaN\n",
       "tutorial1.Checkpoint09        NaN          NaN                     NaN\n",
       "tutorial1.Checkpoint10        NaN          NaN                     NaN\n",
       "tutorial1.Checkpoint11        NaN          NaN                     NaN\n",
       "tutorial1.Checkpoint12        NaN          NaN                     NaN\n",
       "tutorial1.Checkpoint13        NaN          NaN                     NaN\n",
       "tutorial1.Checkpoint14        NaN          NaN                     NaN"
      ]
     },
     "execution_count": 133,
     "metadata": {},
     "output_type": "execute_result"
    }
   ],
   "source": [
    "testTimedSections = pd.DataFrame(data=None, columns=timedSectionsReachedColumns,index=timedSectionsIndex)\n",
    "testTimedSections"
   ]
  },
  {
   "cell_type": "code",
   "execution_count": 134,
   "metadata": {
    "collapsed": false,
    "scrolled": false
   },
   "outputs": [
    {
     "data": {
      "text/html": [
       "<div>\n",
       "<style>\n",
       "    .dataframe thead tr:only-child th {\n",
       "        text-align: right;\n",
       "    }\n",
       "\n",
       "    .dataframe thead th {\n",
       "        text-align: left;\n",
       "    }\n",
       "\n",
       "    .dataframe tbody tr th {\n",
       "        vertical-align: top;\n",
       "    }\n",
       "</style>\n",
       "<table border=\"1\" class=\"dataframe\">\n",
       "  <thead>\n",
       "    <tr style=\"text-align: right;\">\n",
       "      <th></th>\n",
       "      <th>serverTime</th>\n",
       "      <th>firstReached</th>\n",
       "      <th>firstCompletionDuration</th>\n",
       "    </tr>\n",
       "  </thead>\n",
       "  <tbody>\n",
       "    <tr>\n",
       "      <th>tutorial1.Checkpoint00</th>\n",
       "      <td>NaN</td>\n",
       "      <td>NaN</td>\n",
       "      <td>NaN</td>\n",
       "    </tr>\n",
       "    <tr>\n",
       "      <th>tutorial1.Checkpoint01</th>\n",
       "      <td>NaN</td>\n",
       "      <td>NaN</td>\n",
       "      <td>NaN</td>\n",
       "    </tr>\n",
       "    <tr>\n",
       "      <th>tutorial1.Checkpoint02</th>\n",
       "      <td>NaN</td>\n",
       "      <td>NaN</td>\n",
       "      <td>NaN</td>\n",
       "    </tr>\n",
       "    <tr>\n",
       "      <th>tutorial1.Checkpoint03</th>\n",
       "      <td>NaN</td>\n",
       "      <td>NaN</td>\n",
       "      <td>NaN</td>\n",
       "    </tr>\n",
       "    <tr>\n",
       "      <th>tutorial1.Checkpoint04</th>\n",
       "      <td>NaN</td>\n",
       "      <td>NaN</td>\n",
       "      <td>NaN</td>\n",
       "    </tr>\n",
       "    <tr>\n",
       "      <th>tutorial1.Checkpoint05</th>\n",
       "      <td>NaN</td>\n",
       "      <td>NaN</td>\n",
       "      <td>NaN</td>\n",
       "    </tr>\n",
       "    <tr>\n",
       "      <th>tutorial1.Checkpoint06</th>\n",
       "      <td>NaN</td>\n",
       "      <td>NaN</td>\n",
       "      <td>NaN</td>\n",
       "    </tr>\n",
       "    <tr>\n",
       "      <th>tutorial1.Checkpoint07</th>\n",
       "      <td>NaN</td>\n",
       "      <td>NaN</td>\n",
       "      <td>NaN</td>\n",
       "    </tr>\n",
       "    <tr>\n",
       "      <th>tutorial1.Checkpoint08</th>\n",
       "      <td>NaN</td>\n",
       "      <td>NaN</td>\n",
       "      <td>NaN</td>\n",
       "    </tr>\n",
       "    <tr>\n",
       "      <th>tutorial1.Checkpoint09</th>\n",
       "      <td>NaN</td>\n",
       "      <td>NaN</td>\n",
       "      <td>NaN</td>\n",
       "    </tr>\n",
       "    <tr>\n",
       "      <th>tutorial1.Checkpoint10</th>\n",
       "      <td>NaN</td>\n",
       "      <td>NaN</td>\n",
       "      <td>NaN</td>\n",
       "    </tr>\n",
       "    <tr>\n",
       "      <th>tutorial1.Checkpoint11</th>\n",
       "      <td>NaN</td>\n",
       "      <td>NaN</td>\n",
       "      <td>NaN</td>\n",
       "    </tr>\n",
       "    <tr>\n",
       "      <th>tutorial1.Checkpoint12</th>\n",
       "      <td>NaN</td>\n",
       "      <td>NaN</td>\n",
       "      <td>NaN</td>\n",
       "    </tr>\n",
       "    <tr>\n",
       "      <th>tutorial1.Checkpoint13</th>\n",
       "      <td>NaN</td>\n",
       "      <td>NaN</td>\n",
       "      <td>NaN</td>\n",
       "    </tr>\n",
       "    <tr>\n",
       "      <th>tutorial1.Checkpoint14</th>\n",
       "      <td>NaN</td>\n",
       "      <td>NaN</td>\n",
       "      <td>NaN</td>\n",
       "    </tr>\n",
       "  </tbody>\n",
       "</table>\n",
       "</div>"
      ],
      "text/plain": [
       "                       serverTime firstReached firstCompletionDuration\n",
       "tutorial1.Checkpoint00        NaN          NaN                     NaN\n",
       "tutorial1.Checkpoint01        NaN          NaN                     NaN\n",
       "tutorial1.Checkpoint02        NaN          NaN                     NaN\n",
       "tutorial1.Checkpoint03        NaN          NaN                     NaN\n",
       "tutorial1.Checkpoint04        NaN          NaN                     NaN\n",
       "tutorial1.Checkpoint05        NaN          NaN                     NaN\n",
       "tutorial1.Checkpoint06        NaN          NaN                     NaN\n",
       "tutorial1.Checkpoint07        NaN          NaN                     NaN\n",
       "tutorial1.Checkpoint08        NaN          NaN                     NaN\n",
       "tutorial1.Checkpoint09        NaN          NaN                     NaN\n",
       "tutorial1.Checkpoint10        NaN          NaN                     NaN\n",
       "tutorial1.Checkpoint11        NaN          NaN                     NaN\n",
       "tutorial1.Checkpoint12        NaN          NaN                     NaN\n",
       "tutorial1.Checkpoint13        NaN          NaN                     NaN\n",
       "tutorial1.Checkpoint14        NaN          NaN                     NaN"
      ]
     },
     "execution_count": 134,
     "metadata": {},
     "output_type": "execute_result"
    }
   ],
   "source": [
    "getCheckpointsTimesUser(testlocalplayerguid)['firstCompletionDuration']\n",
    "getCheckpointsTimesUser(testlocalplayerguid)\n",
    "testTimedSections = pd.DataFrame(data=None, columns=timedSectionsReachedColumns,index=timedSectionsIndex)\n",
    "#testTimedSections['firstReached']['tutorial1.Checkpoint01'] = pd.Timestamp('20130102')\n",
    "testTimedSections[\"firstCompletionDuration\"] = testTimedSections[\"firstReached\"].diff()\n",
    "testTimedSections"
   ]
  },
  {
   "cell_type": "code",
   "execution_count": 135,
   "metadata": {
    "collapsed": false
   },
   "outputs": [
    {
     "data": {
      "text/html": [
       "<div>\n",
       "<style>\n",
       "    .dataframe thead tr:only-child th {\n",
       "        text-align: right;\n",
       "    }\n",
       "\n",
       "    .dataframe thead th {\n",
       "        text-align: left;\n",
       "    }\n",
       "\n",
       "    .dataframe tbody tr th {\n",
       "        vertical-align: top;\n",
       "    }\n",
       "</style>\n",
       "<table border=\"1\" class=\"dataframe\">\n",
       "  <thead>\n",
       "    <tr style=\"text-align: right;\">\n",
       "      <th></th>\n",
       "      <th>deathsCount</th>\n",
       "    </tr>\n",
       "  </thead>\n",
       "  <tbody>\n",
       "    <tr>\n",
       "      <th>tutorial1.Checkpoint00</th>\n",
       "      <td>0</td>\n",
       "    </tr>\n",
       "    <tr>\n",
       "      <th>tutorial1.Checkpoint01</th>\n",
       "      <td>1</td>\n",
       "    </tr>\n",
       "    <tr>\n",
       "      <th>tutorial1.Checkpoint02</th>\n",
       "      <td>0</td>\n",
       "    </tr>\n",
       "    <tr>\n",
       "      <th>tutorial1.Checkpoint03</th>\n",
       "      <td>4</td>\n",
       "    </tr>\n",
       "    <tr>\n",
       "      <th>tutorial1.Checkpoint04</th>\n",
       "      <td>0</td>\n",
       "    </tr>\n",
       "    <tr>\n",
       "      <th>tutorial1.Checkpoint05</th>\n",
       "      <td>0</td>\n",
       "    </tr>\n",
       "    <tr>\n",
       "      <th>tutorial1.Checkpoint06</th>\n",
       "      <td>0</td>\n",
       "    </tr>\n",
       "    <tr>\n",
       "      <th>tutorial1.Checkpoint07</th>\n",
       "      <td>0</td>\n",
       "    </tr>\n",
       "    <tr>\n",
       "      <th>tutorial1.Checkpoint08</th>\n",
       "      <td>0</td>\n",
       "    </tr>\n",
       "    <tr>\n",
       "      <th>tutorial1.Checkpoint09</th>\n",
       "      <td>0</td>\n",
       "    </tr>\n",
       "    <tr>\n",
       "      <th>tutorial1.Checkpoint10</th>\n",
       "      <td>0</td>\n",
       "    </tr>\n",
       "    <tr>\n",
       "      <th>tutorial1.Checkpoint11</th>\n",
       "      <td>0</td>\n",
       "    </tr>\n",
       "    <tr>\n",
       "      <th>tutorial1.Checkpoint12</th>\n",
       "      <td>0</td>\n",
       "    </tr>\n",
       "    <tr>\n",
       "      <th>tutorial1.Checkpoint13</th>\n",
       "      <td>0</td>\n",
       "    </tr>\n",
       "    <tr>\n",
       "      <th>tutorial1.Checkpoint14</th>\n",
       "      <td>0</td>\n",
       "    </tr>\n",
       "  </tbody>\n",
       "</table>\n",
       "</div>"
      ],
      "text/plain": [
       "                        deathsCount\n",
       "tutorial1.Checkpoint00            0\n",
       "tutorial1.Checkpoint01            1\n",
       "tutorial1.Checkpoint02            0\n",
       "tutorial1.Checkpoint03            4\n",
       "tutorial1.Checkpoint04            0\n",
       "tutorial1.Checkpoint05            0\n",
       "tutorial1.Checkpoint06            0\n",
       "tutorial1.Checkpoint07            0\n",
       "tutorial1.Checkpoint08            0\n",
       "tutorial1.Checkpoint09            0\n",
       "tutorial1.Checkpoint10            0\n",
       "tutorial1.Checkpoint11            0\n",
       "tutorial1.Checkpoint12            0\n",
       "tutorial1.Checkpoint13            0\n",
       "tutorial1.Checkpoint14            0"
      ]
     },
     "execution_count": 135,
     "metadata": {},
     "output_type": "execute_result"
    }
   ],
   "source": [
    "# user \"e2f8d5e4-cccd-4d1a-909b-c9c92f6b83c1\"\n",
    "# session testSessionId\n",
    "getDeaths(testSessionId)\n",
    "testResult = getDeathsUser('\"e2f8d5e4-cccd-4d1a-909b-c9c92f6b83c1\"')\n",
    "testResult\n",
    "testResult.index\n",
    "#localplayerguid\n",
    "#\"8bd5d335-d20e-4db5-9979-feb668ba7c71\"\n",
    "getDeaths(\"8bd5d335-d20e-4db5-9979-feb668ba7c71\")\n",
    "getDeathsUser(localplayerguid)"
   ]
  },
  {
   "cell_type": "code",
   "execution_count": 136,
   "metadata": {
    "collapsed": false
   },
   "outputs": [
    {
     "data": {
      "text/html": [
       "<div>\n",
       "<style>\n",
       "    .dataframe thead tr:only-child th {\n",
       "        text-align: right;\n",
       "    }\n",
       "\n",
       "    .dataframe thead th {\n",
       "        text-align: left;\n",
       "    }\n",
       "\n",
       "    .dataframe tbody tr th {\n",
       "        vertical-align: top;\n",
       "    }\n",
       "</style>\n",
       "<table border=\"1\" class=\"dataframe\">\n",
       "  <thead>\n",
       "    <tr style=\"text-align: right;\">\n",
       "      <th></th>\n",
       "      <th>count</th>\n",
       "    </tr>\n",
       "  </thead>\n",
       "  <tbody>\n",
       "    <tr>\n",
       "      <th>tutorial1.Checkpoint00</th>\n",
       "      <td>0</td>\n",
       "    </tr>\n",
       "    <tr>\n",
       "      <th>tutorial1.Checkpoint01</th>\n",
       "      <td>0</td>\n",
       "    </tr>\n",
       "    <tr>\n",
       "      <th>tutorial1.Checkpoint02</th>\n",
       "      <td>0</td>\n",
       "    </tr>\n",
       "    <tr>\n",
       "      <th>tutorial1.Checkpoint03</th>\n",
       "      <td>2</td>\n",
       "    </tr>\n",
       "    <tr>\n",
       "      <th>tutorial1.Checkpoint04</th>\n",
       "      <td>0</td>\n",
       "    </tr>\n",
       "    <tr>\n",
       "      <th>tutorial1.Checkpoint05</th>\n",
       "      <td>3</td>\n",
       "    </tr>\n",
       "    <tr>\n",
       "      <th>tutorial1.Checkpoint06</th>\n",
       "      <td>4</td>\n",
       "    </tr>\n",
       "    <tr>\n",
       "      <th>tutorial1.Checkpoint07</th>\n",
       "      <td>0</td>\n",
       "    </tr>\n",
       "    <tr>\n",
       "      <th>tutorial1.Checkpoint08</th>\n",
       "      <td>1</td>\n",
       "    </tr>\n",
       "    <tr>\n",
       "      <th>tutorial1.Checkpoint09</th>\n",
       "      <td>2</td>\n",
       "    </tr>\n",
       "    <tr>\n",
       "      <th>tutorial1.Checkpoint10</th>\n",
       "      <td>0</td>\n",
       "    </tr>\n",
       "    <tr>\n",
       "      <th>tutorial1.Checkpoint11</th>\n",
       "      <td>1</td>\n",
       "    </tr>\n",
       "    <tr>\n",
       "      <th>tutorial1.Checkpoint12</th>\n",
       "      <td>2</td>\n",
       "    </tr>\n",
       "    <tr>\n",
       "      <th>tutorial1.Checkpoint13</th>\n",
       "      <td>2</td>\n",
       "    </tr>\n",
       "    <tr>\n",
       "      <th>tutorial1.Checkpoint14</th>\n",
       "      <td>0</td>\n",
       "    </tr>\n",
       "  </tbody>\n",
       "</table>\n",
       "</div>"
      ],
      "text/plain": [
       "                        count\n",
       "tutorial1.Checkpoint00      0\n",
       "tutorial1.Checkpoint01      0\n",
       "tutorial1.Checkpoint02      0\n",
       "tutorial1.Checkpoint03      2\n",
       "tutorial1.Checkpoint04      0\n",
       "tutorial1.Checkpoint05      3\n",
       "tutorial1.Checkpoint06      4\n",
       "tutorial1.Checkpoint07      0\n",
       "tutorial1.Checkpoint08      1\n",
       "tutorial1.Checkpoint09      2\n",
       "tutorial1.Checkpoint10      0\n",
       "tutorial1.Checkpoint11      1\n",
       "tutorial1.Checkpoint12      2\n",
       "tutorial1.Checkpoint13      2\n",
       "tutorial1.Checkpoint14      0"
      ]
     },
     "execution_count": 136,
     "metadata": {},
     "output_type": "execute_result"
    }
   ],
   "source": [
    "getSectionsEvents('death', testSessionId)\n",
    "testResult = getUserSectionsEvents('death', '\"e2f8d5e4-cccd-4d1a-909b-c9c92f6b83c1\"')\n",
    "testResult"
   ]
  },
  {
   "cell_type": "code",
   "execution_count": 137,
   "metadata": {
    "collapsed": false
   },
   "outputs": [
    {
     "data": {
      "text/plain": [
       "17"
      ]
     },
     "execution_count": 137,
     "metadata": {},
     "output_type": "execute_result"
    }
   ],
   "source": [
    "getUserSectionsEventsTotal('death', '\"e2f8d5e4-cccd-4d1a-909b-c9c92f6b83c1\"')"
   ]
  }
 ],
 "metadata": {
  "kernelspec": {
   "display_name": "Python 3",
   "language": "python",
   "name": "python3"
  },
  "language_info": {
   "codemirror_mode": {
    "name": "ipython",
    "version": 3
   },
   "file_extension": ".py",
   "mimetype": "text/x-python",
   "name": "python",
   "nbconvert_exporter": "python",
   "pygments_lexer": "ipython3",
   "version": "3.5.4"
  }
 },
 "nbformat": 4,
 "nbformat_minor": 0
}
