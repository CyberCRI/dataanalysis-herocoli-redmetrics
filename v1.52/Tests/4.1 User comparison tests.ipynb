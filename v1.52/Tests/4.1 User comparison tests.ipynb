{
 "cells": [
  {
   "cell_type": "markdown",
   "metadata": {},
   "source": [
    "# User comparison tests"
   ]
  },
  {
   "cell_type": "markdown",
   "metadata": {
    "collapsed": true
   },
   "source": [
    "# Table of Contents\n",
    "\n",
    "[Preparation](#preparation)\n",
    "\n",
    "[User data vectors](#userdatavectors)\n",
    "\n",
    "[User lists](#userlists)\n",
    "\n",
    "[Sessions' checkpoints](#sessionscheckpoints)\n",
    "\n",
    "[Assembly](#assembly)\n",
    "\n",
    "[Time](#time)"
   ]
  },
  {
   "cell_type": "markdown",
   "metadata": {},
   "source": [
    "# Preparation\n",
    "<a id=preparation />"
   ]
  },
  {
   "cell_type": "code",
   "execution_count": null,
   "metadata": {
    "collapsed": false,
    "scrolled": true
   },
   "outputs": [],
   "source": [
    "%run \"../Functions/1. Google form analysis.ipynb\"\n",
    "%run \"../Functions/4. User comparison.ipynb\""
   ]
  },
  {
   "cell_type": "markdown",
   "metadata": {},
   "source": [
    "# Data vectors of users\n",
    "<a id=userdatavectors />"
   ]
  },
  {
   "cell_type": "code",
   "execution_count": null,
   "metadata": {
    "collapsed": false
   },
   "outputs": [],
   "source": [
    "#getAllResponders()"
   ]
  },
  {
   "cell_type": "code",
   "execution_count": null,
   "metadata": {
    "collapsed": true
   },
   "outputs": [],
   "source": [
    "setAnswerTemporalities(gform)"
   ]
  },
  {
   "cell_type": "code",
   "execution_count": null,
   "metadata": {
    "collapsed": false,
    "scrolled": true
   },
   "outputs": [],
   "source": [
    "# small sample\n",
    "#allData = getAllUserVectorData( getAllUsers( df152 )[:10] )\n",
    "\n",
    "# complete set\n",
    "#allData = getAllUserVectorData( getAllUsers( df152 ) )\n",
    "\n",
    "# subjects who answered the gform\n",
    "allData = getAllUserVectorData( getAllResponders() )\n",
    "\n",
    "# 10 subjects who answered the gform\n",
    "#allData = getAllUserVectorData( getAllResponders()[:10] )"
   ]
  },
  {
   "cell_type": "code",
   "execution_count": null,
   "metadata": {
    "collapsed": false
   },
   "outputs": [],
   "source": [
    "gform['Temporality'].unique()"
   ]
  },
  {
   "cell_type": "code",
   "execution_count": null,
   "metadata": {
    "collapsed": false
   },
   "outputs": [],
   "source": [
    "allData.loc['scoreundefined'].dropna()"
   ]
  },
  {
   "cell_type": "code",
   "execution_count": null,
   "metadata": {
    "collapsed": false
   },
   "outputs": [],
   "source": [
    "getAllUsers(df152)[:10]"
   ]
  },
  {
   "cell_type": "code",
   "execution_count": null,
   "metadata": {
    "collapsed": false,
    "scrolled": true
   },
   "outputs": [],
   "source": [
    "len(getAllUsers(df152))"
   ]
  },
  {
   "cell_type": "markdown",
   "metadata": {
    "collapsed": true
   },
   "source": [
    "# List of users and their sessions\n",
    "<a id=userlists />"
   ]
  },
  {
   "cell_type": "code",
   "execution_count": null,
   "metadata": {
    "collapsed": true
   },
   "outputs": [],
   "source": [
    "userSessionsRelevantColumns = ['customData.localplayerguid', 'sessionId']\n",
    "userSessions = df152[df152['type']=='start'].loc[:,userSessionsRelevantColumns]"
   ]
  },
  {
   "cell_type": "code",
   "execution_count": null,
   "metadata": {
    "collapsed": false
   },
   "outputs": [],
   "source": [
    "userSessions = userSessions.rename(index=str, columns={'customData.localplayerguid': 'userId'})\n",
    "userSessions.head()"
   ]
  },
  {
   "cell_type": "code",
   "execution_count": null,
   "metadata": {
    "collapsed": false
   },
   "outputs": [],
   "source": [
    "#groupedUserSessions = userSessions.groupby('customData.localplayerguid')\n",
    "#groupedUserSessions.head()\n",
    "#groupedUserSessions.describe().head()"
   ]
  },
  {
   "cell_type": "markdown",
   "metadata": {},
   "source": [
    "# List of sessions with their checkpoints achievements\n",
    "<a id=sessionscheckpoints />"
   ]
  },
  {
   "cell_type": "code",
   "execution_count": null,
   "metadata": {
    "collapsed": false
   },
   "outputs": [],
   "source": [
    "checkpointsRelevantColumns = ['sessionId', 'customData.localplayerguid', 'type', 'section', 'userTime']\n",
    "checkpoints = df152.loc[:, checkpointsRelevantColumns]\n",
    "\n",
    "checkpoints = checkpoints[checkpoints['type']=='reach'].loc[:,['section','sessionId','userTime']]\n",
    "checkpoints = checkpoints[checkpoints['section'].str.startswith('tutorial', na=False)]\n",
    "#checkpoints = checkpoints.groupby(\"sessionId\")\n",
    "#checkpoints = checkpoints.max()\n",
    "checkpoints.head()"
   ]
  },
  {
   "cell_type": "markdown",
   "metadata": {},
   "source": [
    "# Assembly of both\n",
    "<a id=assembly />"
   ]
  },
  {
   "cell_type": "code",
   "execution_count": null,
   "metadata": {
    "collapsed": false,
    "scrolled": true
   },
   "outputs": [],
   "source": [
    "#assembled = userSessions.combine_first(checkpoints)\n",
    "assembled = pd.merge(userSessions, checkpoints, on='sessionId', how='outer')\n",
    "assembled.head()"
   ]
  },
  {
   "cell_type": "code",
   "execution_count": null,
   "metadata": {
    "collapsed": false
   },
   "outputs": [],
   "source": [
    "userSections = assembled.drop('sessionId', 1)\n",
    "userSections.head()"
   ]
  },
  {
   "cell_type": "code",
   "execution_count": null,
   "metadata": {
    "collapsed": false,
    "scrolled": true
   },
   "outputs": [],
   "source": [
    "userSections = userSections.dropna()\n",
    "userSections.head()"
   ]
  },
  {
   "cell_type": "code",
   "execution_count": null,
   "metadata": {
    "collapsed": false
   },
   "outputs": [],
   "source": [
    "checkpoints = userSections.groupby(\"userId\")\n",
    "checkpoints = checkpoints.max()\n",
    "checkpoints.head()"
   ]
  },
  {
   "cell_type": "markdown",
   "metadata": {},
   "source": [
    "# Time analysis\n",
    "<a id=time />"
   ]
  },
  {
   "cell_type": "code",
   "execution_count": null,
   "metadata": {
    "collapsed": false,
    "scrolled": false
   },
   "outputs": [],
   "source": [
    "#userTimedSections = userSections.groupby(\"userId\").agg({ \"userTime\": np.min })\n",
    "#userTimedSections = userSections.groupby(\"userId\")\n",
    "userTimes = userSections.groupby(\"userId\").agg({ \"userTime\": [np.min, np.max] })\n",
    "userTimes[\"duration\"] = pd.to_datetime(userTimes[\"userTime\"][\"amax\"]) - pd.to_datetime(userTimes[\"userTime\"][\"amin\"])\n",
    "userTimes[\"duration\"] = userTimes[\"duration\"].map(lambda x: np.timedelta64(x, 's'))\n",
    "userTimes = userTimes.sort_values(by=['duration'], ascending=[False])\n",
    "userTimes.head()"
   ]
  },
  {
   "cell_type": "code",
   "execution_count": null,
   "metadata": {
    "collapsed": false
   },
   "outputs": [],
   "source": [
    "userTimes.loc[:,'duration']\n",
    "userTimes = userTimes[4:]\n",
    "userTimes[\"duration_seconds\"] = userTimes[\"duration\"].map(lambda x: pd.Timedelta(x).seconds)\n",
    "maxDuration = np.max(userTimes[\"duration_seconds\"])\n",
    "userTimes[\"duration_rank\"] = userTimes[\"duration_seconds\"].rank(ascending=False)\n",
    "userTimes.plot(x=\"duration_rank\", y=\"duration_seconds\")\n",
    "plt.xlabel(\"game session\")\n",
    "plt.ylabel(\"time played (s)\")\n",
    "plt.legend('')\n",
    "plt.xlim(0, 139)\n",
    "plt.ylim(0, maxDuration)"
   ]
  },
  {
   "cell_type": "code",
   "execution_count": null,
   "metadata": {
    "collapsed": false
   },
   "outputs": [],
   "source": [
    "userTimedSections = userSections.groupby(\"section\").agg({ \"userTime\": np.min })\n",
    "userTimedSections"
   ]
  },
  {
   "cell_type": "code",
   "execution_count": null,
   "metadata": {
    "collapsed": false
   },
   "outputs": [],
   "source": [
    "userTimedSections[\"firstReached\"] = pd.to_datetime(userTimedSections[\"userTime\"])\n",
    "userTimedSections.head()"
   ]
  },
  {
   "cell_type": "code",
   "execution_count": null,
   "metadata": {
    "collapsed": false
   },
   "outputs": [],
   "source": [
    "userTimedSections.drop('userTime', 1)\n",
    "userTimedSections.head()"
   ]
  },
  {
   "cell_type": "code",
   "execution_count": null,
   "metadata": {
    "collapsed": false
   },
   "outputs": [],
   "source": [
    "userTimedSections[\"firstCompletionDuration\"] = userTimedSections[\"firstReached\"].diff()\n",
    "userTimedSections.head()"
   ]
  }
 ],
 "metadata": {
  "kernelspec": {
   "display_name": "Python 2",
   "language": "python",
   "name": "python2"
  }
 },
 "nbformat": 4,
 "nbformat_minor": 0
}
