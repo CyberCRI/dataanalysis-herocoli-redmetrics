{
 "cells": [
  {
   "cell_type": "markdown",
   "metadata": {},
   "source": [
    "# User comparison tests"
   ]
  },
  {
   "cell_type": "markdown",
   "metadata": {
    "collapsed": true
   },
   "source": [
    "# Table of Contents\n",
    "\n",
    "[Preparation](#preparation)\n",
    "\n",
    "[User data vectors](#userdatavectors)\n",
    "\n",
    "[User lists](#userlists)\n",
    "\n",
    "[Sessions' checkpoints](#sessionscheckpoints)\n",
    "\n",
    "[Assembly](#assembly)\n",
    "\n",
    "[Time](#time)"
   ]
  },
  {
   "cell_type": "markdown",
   "metadata": {},
   "source": [
    "# Preparation\n",
    "<a id=preparation />"
   ]
  },
  {
   "cell_type": "code",
   "execution_count": 18,
   "metadata": {
    "collapsed": false,
    "scrolled": false
   },
   "outputs": [
    {
     "name": "stderr",
     "output_type": "stream",
     "text": [
      "C:\\Users\\Mikael\\Anaconda3\\lib\\site-packages\\IPython\\core\\interactiveshell.py:2902: DtypeWarning: Columns (18,22,28,32,38) have mixed types. Specify dtype option on import or set low_memory=False.\n",
      "  interactivity=interactivity, compiler=compiler, result=result)\n",
      "C:\\Users\\Mikael\\Anaconda3\\lib\\site-packages\\IPython\\core\\interactiveshell.py:2902: DtypeWarning: Columns (14,15,16,17,18,20,21,22,25,26,27,30,33,34,35,36,37,38,39,40,41,42,43) have mixed types. Specify dtype option on import or set low_memory=False.\n",
      "  interactivity=interactivity, compiler=compiler, result=result)\n"
     ]
    }
   ],
   "source": [
    "%run \"../Functions/4. User comparison.ipynb\""
   ]
  },
  {
   "cell_type": "markdown",
   "metadata": {},
   "source": [
    "# Data vectors of users\n",
    "<a id=userdatavectors />"
   ]
  },
  {
   "cell_type": "code",
   "execution_count": 19,
   "metadata": {
    "collapsed": false
   },
   "outputs": [
    {
     "data": {
      "text/plain": [
       "['\"8d352896-a3f1-471c-8439-0f426df901c1\"',\n",
       " '\"7037c5b2-c286-498e-9784-9a061c778609\"',\n",
       " '\"5c4939b5-425b-4d19-b5d2-0384a515539e\"',\n",
       " '\"7825d421-d668-4481-898a-46b51efe40f0\"']"
      ]
     },
     "execution_count": 19,
     "metadata": {},
     "output_type": "execute_result"
    }
   ],
   "source": [
    "getAllResponders()"
   ]
  },
  {
   "cell_type": "code",
   "execution_count": 20,
   "metadata": {
    "collapsed": false,
    "scrolled": true
   },
   "outputs": [
    {
     "name": "stdout",
     "output_type": "stream",
     "text": [
      "\"4dbc2f43-421c-4e23-85d4-f17723ff8c66\"\n",
      "\"1a8924de-7cc6-4ff5-8735-4cddac309117\"\n",
      "\"a6483353-5db1-4c6c-98d7-b6328d0f4456\"\n",
      "\"0fa88384-3115-4ebd-990d-6bd29214c04f\"\n",
      "\"1f742172-0443-4fc7-b38a-621fa62b323f\"\n",
      "\"8116ab59-446b-4dfb-8154-445f5ac84a1e\"\n",
      "\"9abd384c-2f36-4de6-8cd4-af32cb2459ff\"\n",
      "\"a151ad65-75fd-4dc1-b466-8852e6f085d2\"\n",
      "\"4c617aef-2e03-4f56-b863-89d4f44128ef\"\n",
      "\"7412a447-8177-48e9-82c5-cb31032f76a9\"\n",
      "done\n"
     ]
    }
   ],
   "source": [
    "# small sample\n",
    "allData = getAllUserVectorData( getAllUsers( df152 )[:10] )\n",
    "\n",
    "# complete set\n",
    "#allData = getAllUserVectorData( getAllUsers( df152 ) )\n",
    "\n",
    "# subjects which answered the gform\n",
    "#allData = getAllUserVectorData( getAllResponders() )"
   ]
  },
  {
   "cell_type": "code",
   "execution_count": 21,
   "metadata": {
    "collapsed": false
   },
   "outputs": [
    {
     "data": {
      "text/html": [
       "<div>\n",
       "<style>\n",
       "    .dataframe thead tr:only-child th {\n",
       "        text-align: right;\n",
       "    }\n",
       "\n",
       "    .dataframe thead th {\n",
       "        text-align: left;\n",
       "    }\n",
       "\n",
       "    .dataframe tbody tr th {\n",
       "        vertical-align: top;\n",
       "    }\n",
       "</style>\n",
       "<table border=\"1\" class=\"dataframe\">\n",
       "  <thead>\n",
       "    <tr style=\"text-align: right;\">\n",
       "      <th></th>\n",
       "      <th>\"4dbc2f43-421c-4e23-85d4-f17723ff8c66\"</th>\n",
       "      <th>\"1a8924de-7cc6-4ff5-8735-4cddac309117\"</th>\n",
       "      <th>\"a6483353-5db1-4c6c-98d7-b6328d0f4456\"</th>\n",
       "      <th>\"0fa88384-3115-4ebd-990d-6bd29214c04f\"</th>\n",
       "      <th>\"1f742172-0443-4fc7-b38a-621fa62b323f\"</th>\n",
       "      <th>\"8116ab59-446b-4dfb-8154-445f5ac84a1e\"</th>\n",
       "      <th>\"9abd384c-2f36-4de6-8cd4-af32cb2459ff\"</th>\n",
       "      <th>\"a151ad65-75fd-4dc1-b466-8852e6f085d2\"</th>\n",
       "      <th>\"4c617aef-2e03-4f56-b863-89d4f44128ef\"</th>\n",
       "      <th>\"7412a447-8177-48e9-82c5-cb31032f76a9\"</th>\n",
       "    </tr>\n",
       "  </thead>\n",
       "  <tbody>\n",
       "    <tr>\n",
       "      <th>score</th>\n",
       "      <td>NaN</td>\n",
       "      <td>NaN</td>\n",
       "      <td>NaN</td>\n",
       "      <td>NaN</td>\n",
       "      <td>NaN</td>\n",
       "      <td>NaN</td>\n",
       "      <td>NaN</td>\n",
       "      <td>NaN</td>\n",
       "      <td>NaN</td>\n",
       "      <td>NaN</td>\n",
       "    </tr>\n",
       "    <tr>\n",
       "      <th>sessionsCount</th>\n",
       "      <td>2.0</td>\n",
       "      <td>2.0</td>\n",
       "      <td>1.0</td>\n",
       "      <td>1.0</td>\n",
       "      <td>13.0</td>\n",
       "      <td>1.0</td>\n",
       "      <td>1.0</td>\n",
       "      <td>10.0</td>\n",
       "      <td>2.0</td>\n",
       "      <td>4.0</td>\n",
       "    </tr>\n",
       "    <tr>\n",
       "      <th>complete</th>\n",
       "      <td>0.0</td>\n",
       "      <td>0.0</td>\n",
       "      <td>0.0</td>\n",
       "      <td>0.0</td>\n",
       "      <td>0.0</td>\n",
       "      <td>0.0</td>\n",
       "      <td>0.0</td>\n",
       "      <td>0.0</td>\n",
       "      <td>0.0</td>\n",
       "      <td>0.0</td>\n",
       "    </tr>\n",
       "    <tr>\n",
       "      <th>configure</th>\n",
       "      <td>0.0</td>\n",
       "      <td>0.0</td>\n",
       "      <td>0.0</td>\n",
       "      <td>1.0</td>\n",
       "      <td>0.0</td>\n",
       "      <td>0.0</td>\n",
       "      <td>0.0</td>\n",
       "      <td>0.0</td>\n",
       "      <td>0.0</td>\n",
       "      <td>0.0</td>\n",
       "    </tr>\n",
       "    <tr>\n",
       "      <th>craft</th>\n",
       "      <td>1.0</td>\n",
       "      <td>3.0</td>\n",
       "      <td>1.0</td>\n",
       "      <td>1.0</td>\n",
       "      <td>16.0</td>\n",
       "      <td>0.0</td>\n",
       "      <td>1.0</td>\n",
       "      <td>0.0</td>\n",
       "      <td>0.0</td>\n",
       "      <td>1.0</td>\n",
       "    </tr>\n",
       "    <tr>\n",
       "      <th>death</th>\n",
       "      <td>0.0</td>\n",
       "      <td>6.0</td>\n",
       "      <td>0.0</td>\n",
       "      <td>0.0</td>\n",
       "      <td>13.0</td>\n",
       "      <td>0.0</td>\n",
       "      <td>0.0</td>\n",
       "      <td>0.0</td>\n",
       "      <td>0.0</td>\n",
       "      <td>1.0</td>\n",
       "    </tr>\n",
       "    <tr>\n",
       "      <th>equip</th>\n",
       "      <td>0.0</td>\n",
       "      <td>30.0</td>\n",
       "      <td>0.0</td>\n",
       "      <td>0.0</td>\n",
       "      <td>9.0</td>\n",
       "      <td>0.0</td>\n",
       "      <td>0.0</td>\n",
       "      <td>0.0</td>\n",
       "      <td>0.0</td>\n",
       "      <td>0.0</td>\n",
       "    </tr>\n",
       "    <tr>\n",
       "      <th>unequip</th>\n",
       "      <td>0.0</td>\n",
       "      <td>0.0</td>\n",
       "      <td>0.0</td>\n",
       "      <td>0.0</td>\n",
       "      <td>3.0</td>\n",
       "      <td>0.0</td>\n",
       "      <td>0.0</td>\n",
       "      <td>0.0</td>\n",
       "      <td>0.0</td>\n",
       "      <td>0.0</td>\n",
       "    </tr>\n",
       "    <tr>\n",
       "      <th>add</th>\n",
       "      <td>2.0</td>\n",
       "      <td>7.0</td>\n",
       "      <td>1.0</td>\n",
       "      <td>1.0</td>\n",
       "      <td>38.0</td>\n",
       "      <td>0.0</td>\n",
       "      <td>1.0</td>\n",
       "      <td>0.0</td>\n",
       "      <td>0.0</td>\n",
       "      <td>1.0</td>\n",
       "    </tr>\n",
       "    <tr>\n",
       "      <th>remove</th>\n",
       "      <td>0.0</td>\n",
       "      <td>0.0</td>\n",
       "      <td>0.0</td>\n",
       "      <td>0.0</td>\n",
       "      <td>1.0</td>\n",
       "      <td>0.0</td>\n",
       "      <td>0.0</td>\n",
       "      <td>0.0</td>\n",
       "      <td>0.0</td>\n",
       "      <td>0.0</td>\n",
       "    </tr>\n",
       "    <tr>\n",
       "      <th>gotomooc</th>\n",
       "      <td>0.0</td>\n",
       "      <td>0.0</td>\n",
       "      <td>0.0</td>\n",
       "      <td>0.0</td>\n",
       "      <td>0.0</td>\n",
       "      <td>0.0</td>\n",
       "      <td>0.0</td>\n",
       "      <td>0.0</td>\n",
       "      <td>0.0</td>\n",
       "      <td>0.0</td>\n",
       "    </tr>\n",
       "    <tr>\n",
       "      <th>gotourl</th>\n",
       "      <td>0.0</td>\n",
       "      <td>0.0</td>\n",
       "      <td>0.0</td>\n",
       "      <td>0.0</td>\n",
       "      <td>0.0</td>\n",
       "      <td>0.0</td>\n",
       "      <td>0.0</td>\n",
       "      <td>0.0</td>\n",
       "      <td>0.0</td>\n",
       "      <td>0.0</td>\n",
       "    </tr>\n",
       "    <tr>\n",
       "      <th>pickup</th>\n",
       "      <td>0.0</td>\n",
       "      <td>2.0</td>\n",
       "      <td>1.0</td>\n",
       "      <td>1.0</td>\n",
       "      <td>14.0</td>\n",
       "      <td>0.0</td>\n",
       "      <td>1.0</td>\n",
       "      <td>0.0</td>\n",
       "      <td>0.0</td>\n",
       "      <td>1.0</td>\n",
       "    </tr>\n",
       "    <tr>\n",
       "      <th>reach</th>\n",
       "      <td>1.0</td>\n",
       "      <td>3.0</td>\n",
       "      <td>2.0</td>\n",
       "      <td>3.0</td>\n",
       "      <td>18.0</td>\n",
       "      <td>0.0</td>\n",
       "      <td>2.0</td>\n",
       "      <td>0.0</td>\n",
       "      <td>0.0</td>\n",
       "      <td>2.0</td>\n",
       "    </tr>\n",
       "    <tr>\n",
       "      <th>restart</th>\n",
       "      <td>0.0</td>\n",
       "      <td>0.0</td>\n",
       "      <td>0.0</td>\n",
       "      <td>0.0</td>\n",
       "      <td>0.0</td>\n",
       "      <td>0.0</td>\n",
       "      <td>0.0</td>\n",
       "      <td>0.0</td>\n",
       "      <td>0.0</td>\n",
       "      <td>0.0</td>\n",
       "    </tr>\n",
       "    <tr>\n",
       "      <th>selectmenu</th>\n",
       "      <td>1.0</td>\n",
       "      <td>0.0</td>\n",
       "      <td>0.0</td>\n",
       "      <td>0.0</td>\n",
       "      <td>1.0</td>\n",
       "      <td>0.0</td>\n",
       "      <td>0.0</td>\n",
       "      <td>0.0</td>\n",
       "      <td>0.0</td>\n",
       "      <td>0.0</td>\n",
       "    </tr>\n",
       "    <tr>\n",
       "      <th>start</th>\n",
       "      <td>0.0</td>\n",
       "      <td>0.0</td>\n",
       "      <td>0.0</td>\n",
       "      <td>0.0</td>\n",
       "      <td>0.0</td>\n",
       "      <td>0.0</td>\n",
       "      <td>0.0</td>\n",
       "      <td>0.0</td>\n",
       "      <td>0.0</td>\n",
       "      <td>0.0</td>\n",
       "    </tr>\n",
       "    <tr>\n",
       "      <th>switch</th>\n",
       "      <td>0.0</td>\n",
       "      <td>0.0</td>\n",
       "      <td>0.0</td>\n",
       "      <td>0.0</td>\n",
       "      <td>0.0</td>\n",
       "      <td>0.0</td>\n",
       "      <td>0.0</td>\n",
       "      <td>0.0</td>\n",
       "      <td>0.0</td>\n",
       "      <td>0.0</td>\n",
       "    </tr>\n",
       "  </tbody>\n",
       "</table>\n",
       "</div>"
      ],
      "text/plain": [
       "               \"4dbc2f43-421c-4e23-85d4-f17723ff8c66\"  \\\n",
       "score                                             NaN   \n",
       "sessionsCount                                     2.0   \n",
       "complete                                          0.0   \n",
       "configure                                         0.0   \n",
       "craft                                             1.0   \n",
       "death                                             0.0   \n",
       "equip                                             0.0   \n",
       "unequip                                           0.0   \n",
       "add                                               2.0   \n",
       "remove                                            0.0   \n",
       "gotomooc                                          0.0   \n",
       "gotourl                                           0.0   \n",
       "pickup                                            0.0   \n",
       "reach                                             1.0   \n",
       "restart                                           0.0   \n",
       "selectmenu                                        1.0   \n",
       "start                                             0.0   \n",
       "switch                                            0.0   \n",
       "\n",
       "               \"1a8924de-7cc6-4ff5-8735-4cddac309117\"  \\\n",
       "score                                             NaN   \n",
       "sessionsCount                                     2.0   \n",
       "complete                                          0.0   \n",
       "configure                                         0.0   \n",
       "craft                                             3.0   \n",
       "death                                             6.0   \n",
       "equip                                            30.0   \n",
       "unequip                                           0.0   \n",
       "add                                               7.0   \n",
       "remove                                            0.0   \n",
       "gotomooc                                          0.0   \n",
       "gotourl                                           0.0   \n",
       "pickup                                            2.0   \n",
       "reach                                             3.0   \n",
       "restart                                           0.0   \n",
       "selectmenu                                        0.0   \n",
       "start                                             0.0   \n",
       "switch                                            0.0   \n",
       "\n",
       "               \"a6483353-5db1-4c6c-98d7-b6328d0f4456\"  \\\n",
       "score                                             NaN   \n",
       "sessionsCount                                     1.0   \n",
       "complete                                          0.0   \n",
       "configure                                         0.0   \n",
       "craft                                             1.0   \n",
       "death                                             0.0   \n",
       "equip                                             0.0   \n",
       "unequip                                           0.0   \n",
       "add                                               1.0   \n",
       "remove                                            0.0   \n",
       "gotomooc                                          0.0   \n",
       "gotourl                                           0.0   \n",
       "pickup                                            1.0   \n",
       "reach                                             2.0   \n",
       "restart                                           0.0   \n",
       "selectmenu                                        0.0   \n",
       "start                                             0.0   \n",
       "switch                                            0.0   \n",
       "\n",
       "               \"0fa88384-3115-4ebd-990d-6bd29214c04f\"  \\\n",
       "score                                             NaN   \n",
       "sessionsCount                                     1.0   \n",
       "complete                                          0.0   \n",
       "configure                                         1.0   \n",
       "craft                                             1.0   \n",
       "death                                             0.0   \n",
       "equip                                             0.0   \n",
       "unequip                                           0.0   \n",
       "add                                               1.0   \n",
       "remove                                            0.0   \n",
       "gotomooc                                          0.0   \n",
       "gotourl                                           0.0   \n",
       "pickup                                            1.0   \n",
       "reach                                             3.0   \n",
       "restart                                           0.0   \n",
       "selectmenu                                        0.0   \n",
       "start                                             0.0   \n",
       "switch                                            0.0   \n",
       "\n",
       "               \"1f742172-0443-4fc7-b38a-621fa62b323f\"  \\\n",
       "score                                             NaN   \n",
       "sessionsCount                                    13.0   \n",
       "complete                                          0.0   \n",
       "configure                                         0.0   \n",
       "craft                                            16.0   \n",
       "death                                            13.0   \n",
       "equip                                             9.0   \n",
       "unequip                                           3.0   \n",
       "add                                              38.0   \n",
       "remove                                            1.0   \n",
       "gotomooc                                          0.0   \n",
       "gotourl                                           0.0   \n",
       "pickup                                           14.0   \n",
       "reach                                            18.0   \n",
       "restart                                           0.0   \n",
       "selectmenu                                        1.0   \n",
       "start                                             0.0   \n",
       "switch                                            0.0   \n",
       "\n",
       "               \"8116ab59-446b-4dfb-8154-445f5ac84a1e\"  \\\n",
       "score                                             NaN   \n",
       "sessionsCount                                     1.0   \n",
       "complete                                          0.0   \n",
       "configure                                         0.0   \n",
       "craft                                             0.0   \n",
       "death                                             0.0   \n",
       "equip                                             0.0   \n",
       "unequip                                           0.0   \n",
       "add                                               0.0   \n",
       "remove                                            0.0   \n",
       "gotomooc                                          0.0   \n",
       "gotourl                                           0.0   \n",
       "pickup                                            0.0   \n",
       "reach                                             0.0   \n",
       "restart                                           0.0   \n",
       "selectmenu                                        0.0   \n",
       "start                                             0.0   \n",
       "switch                                            0.0   \n",
       "\n",
       "               \"9abd384c-2f36-4de6-8cd4-af32cb2459ff\"  \\\n",
       "score                                             NaN   \n",
       "sessionsCount                                     1.0   \n",
       "complete                                          0.0   \n",
       "configure                                         0.0   \n",
       "craft                                             1.0   \n",
       "death                                             0.0   \n",
       "equip                                             0.0   \n",
       "unequip                                           0.0   \n",
       "add                                               1.0   \n",
       "remove                                            0.0   \n",
       "gotomooc                                          0.0   \n",
       "gotourl                                           0.0   \n",
       "pickup                                            1.0   \n",
       "reach                                             2.0   \n",
       "restart                                           0.0   \n",
       "selectmenu                                        0.0   \n",
       "start                                             0.0   \n",
       "switch                                            0.0   \n",
       "\n",
       "               \"a151ad65-75fd-4dc1-b466-8852e6f085d2\"  \\\n",
       "score                                             NaN   \n",
       "sessionsCount                                    10.0   \n",
       "complete                                          0.0   \n",
       "configure                                         0.0   \n",
       "craft                                             0.0   \n",
       "death                                             0.0   \n",
       "equip                                             0.0   \n",
       "unequip                                           0.0   \n",
       "add                                               0.0   \n",
       "remove                                            0.0   \n",
       "gotomooc                                          0.0   \n",
       "gotourl                                           0.0   \n",
       "pickup                                            0.0   \n",
       "reach                                             0.0   \n",
       "restart                                           0.0   \n",
       "selectmenu                                        0.0   \n",
       "start                                             0.0   \n",
       "switch                                            0.0   \n",
       "\n",
       "               \"4c617aef-2e03-4f56-b863-89d4f44128ef\"  \\\n",
       "score                                             NaN   \n",
       "sessionsCount                                     2.0   \n",
       "complete                                          0.0   \n",
       "configure                                         0.0   \n",
       "craft                                             0.0   \n",
       "death                                             0.0   \n",
       "equip                                             0.0   \n",
       "unequip                                           0.0   \n",
       "add                                               0.0   \n",
       "remove                                            0.0   \n",
       "gotomooc                                          0.0   \n",
       "gotourl                                           0.0   \n",
       "pickup                                            0.0   \n",
       "reach                                             0.0   \n",
       "restart                                           0.0   \n",
       "selectmenu                                        0.0   \n",
       "start                                             0.0   \n",
       "switch                                            0.0   \n",
       "\n",
       "               \"7412a447-8177-48e9-82c5-cb31032f76a9\"  \n",
       "score                                             NaN  \n",
       "sessionsCount                                     4.0  \n",
       "complete                                          0.0  \n",
       "configure                                         0.0  \n",
       "craft                                             1.0  \n",
       "death                                             1.0  \n",
       "equip                                             0.0  \n",
       "unequip                                           0.0  \n",
       "add                                               1.0  \n",
       "remove                                            0.0  \n",
       "gotomooc                                          0.0  \n",
       "gotourl                                           0.0  \n",
       "pickup                                            1.0  \n",
       "reach                                             2.0  \n",
       "restart                                           0.0  \n",
       "selectmenu                                        0.0  \n",
       "start                                             0.0  \n",
       "switch                                            0.0  "
      ]
     },
     "execution_count": 21,
     "metadata": {},
     "output_type": "execute_result"
    }
   ],
   "source": [
    "allData"
   ]
  },
  {
   "cell_type": "code",
   "execution_count": 22,
   "metadata": {
    "collapsed": false
   },
   "outputs": [
    {
     "data": {
      "text/plain": [
       "['\"4dbc2f43-421c-4e23-85d4-f17723ff8c66\"',\n",
       " '\"1a8924de-7cc6-4ff5-8735-4cddac309117\"',\n",
       " '\"a6483353-5db1-4c6c-98d7-b6328d0f4456\"',\n",
       " '\"0fa88384-3115-4ebd-990d-6bd29214c04f\"',\n",
       " '\"1f742172-0443-4fc7-b38a-621fa62b323f\"',\n",
       " '\"8116ab59-446b-4dfb-8154-445f5ac84a1e\"',\n",
       " '\"9abd384c-2f36-4de6-8cd4-af32cb2459ff\"',\n",
       " '\"a151ad65-75fd-4dc1-b466-8852e6f085d2\"',\n",
       " '\"4c617aef-2e03-4f56-b863-89d4f44128ef\"',\n",
       " '\"7412a447-8177-48e9-82c5-cb31032f76a9\"']"
      ]
     },
     "execution_count": 22,
     "metadata": {},
     "output_type": "execute_result"
    }
   ],
   "source": [
    "getAllUsers(df152)[:10]"
   ]
  },
  {
   "cell_type": "code",
   "execution_count": 23,
   "metadata": {
    "collapsed": false,
    "scrolled": true
   },
   "outputs": [
    {
     "data": {
      "text/plain": [
       "575"
      ]
     },
     "execution_count": 23,
     "metadata": {},
     "output_type": "execute_result"
    }
   ],
   "source": [
    "len(getAllUsers(df152))"
   ]
  },
  {
   "cell_type": "markdown",
   "metadata": {
    "collapsed": true
   },
   "source": [
    "# List of users and their sessions\n",
    "<a id=userlists />"
   ]
  },
  {
   "cell_type": "code",
   "execution_count": 24,
   "metadata": {
    "collapsed": true
   },
   "outputs": [],
   "source": [
    "userSessionsRelevantColumns = ['customData.localplayerguid', 'sessionId']\n",
    "userSessions = df152[df152['type']=='start'].loc[:,userSessionsRelevantColumns]"
   ]
  },
  {
   "cell_type": "code",
   "execution_count": 25,
   "metadata": {
    "collapsed": false
   },
   "outputs": [
    {
     "data": {
      "text/html": [
       "<div>\n",
       "<style>\n",
       "    .dataframe thead tr:only-child th {\n",
       "        text-align: right;\n",
       "    }\n",
       "\n",
       "    .dataframe thead th {\n",
       "        text-align: left;\n",
       "    }\n",
       "\n",
       "    .dataframe tbody tr th {\n",
       "        vertical-align: top;\n",
       "    }\n",
       "</style>\n",
       "<table border=\"1\" class=\"dataframe\">\n",
       "  <thead>\n",
       "    <tr style=\"text-align: right;\">\n",
       "      <th></th>\n",
       "      <th>userId</th>\n",
       "      <th>sessionId</th>\n",
       "    </tr>\n",
       "  </thead>\n",
       "  <tbody>\n",
       "    <tr>\n",
       "      <th>0</th>\n",
       "      <td>NaN</td>\n",
       "      <td>b724663c-b32a-4079-9f8f-896762b272d1</td>\n",
       "    </tr>\n",
       "    <tr>\n",
       "      <th>4</th>\n",
       "      <td>NaN</td>\n",
       "      <td>2d76c4ef-f260-4963-82f4-ff598d2a63b4</td>\n",
       "    </tr>\n",
       "    <tr>\n",
       "      <th>67</th>\n",
       "      <td>NaN</td>\n",
       "      <td>6a9893c1-da09-42c7-832e-4d0746fa779e</td>\n",
       "    </tr>\n",
       "    <tr>\n",
       "      <th>74</th>\n",
       "      <td>NaN</td>\n",
       "      <td>c430c60c-d7cb-4fc5-893b-dce440696caf</td>\n",
       "    </tr>\n",
       "    <tr>\n",
       "      <th>88</th>\n",
       "      <td>NaN</td>\n",
       "      <td>72dc3209-bd46-4026-91f0-44d2a7298175</td>\n",
       "    </tr>\n",
       "  </tbody>\n",
       "</table>\n",
       "</div>"
      ],
      "text/plain": [
       "    userId                             sessionId\n",
       "0      NaN  b724663c-b32a-4079-9f8f-896762b272d1\n",
       "4      NaN  2d76c4ef-f260-4963-82f4-ff598d2a63b4\n",
       "67     NaN  6a9893c1-da09-42c7-832e-4d0746fa779e\n",
       "74     NaN  c430c60c-d7cb-4fc5-893b-dce440696caf\n",
       "88     NaN  72dc3209-bd46-4026-91f0-44d2a7298175"
      ]
     },
     "execution_count": 25,
     "metadata": {},
     "output_type": "execute_result"
    }
   ],
   "source": [
    "userSessions = userSessions.rename(index=str, columns={'customData.localplayerguid': 'userId'})\n",
    "userSessions.head()"
   ]
  },
  {
   "cell_type": "code",
   "execution_count": 26,
   "metadata": {
    "collapsed": false
   },
   "outputs": [],
   "source": [
    "#groupedUserSessions = userSessions.groupby('customData.localplayerguid')\n",
    "#groupedUserSessions.head()\n",
    "#groupedUserSessions.describe().head()"
   ]
  },
  {
   "cell_type": "markdown",
   "metadata": {},
   "source": [
    "# List of sessions with their checkpoints achievements\n",
    "<a id=sessionscheckpoints />"
   ]
  },
  {
   "cell_type": "code",
   "execution_count": 27,
   "metadata": {
    "collapsed": false
   },
   "outputs": [
    {
     "data": {
      "text/html": [
       "<div>\n",
       "<style>\n",
       "    .dataframe thead tr:only-child th {\n",
       "        text-align: right;\n",
       "    }\n",
       "\n",
       "    .dataframe thead th {\n",
       "        text-align: left;\n",
       "    }\n",
       "\n",
       "    .dataframe tbody tr th {\n",
       "        vertical-align: top;\n",
       "    }\n",
       "</style>\n",
       "<table border=\"1\" class=\"dataframe\">\n",
       "  <thead>\n",
       "    <tr style=\"text-align: right;\">\n",
       "      <th></th>\n",
       "      <th>section</th>\n",
       "      <th>sessionId</th>\n",
       "      <th>userTime</th>\n",
       "    </tr>\n",
       "  </thead>\n",
       "  <tbody>\n",
       "    <tr>\n",
       "      <th>10</th>\n",
       "      <td>tutorial1.Checkpoint00</td>\n",
       "      <td>2d76c4ef-f260-4963-82f4-ff598d2a63b4</td>\n",
       "      <td>2017-04-12T09:32:37.505Z</td>\n",
       "    </tr>\n",
       "    <tr>\n",
       "      <th>18</th>\n",
       "      <td>tutorial1.Checkpoint01</td>\n",
       "      <td>2d76c4ef-f260-4963-82f4-ff598d2a63b4</td>\n",
       "      <td>2017-04-12T09:34:03.736Z</td>\n",
       "    </tr>\n",
       "    <tr>\n",
       "      <th>69</th>\n",
       "      <td>tutorial1.Checkpoint01</td>\n",
       "      <td>6a9893c1-da09-42c7-832e-4d0746fa779e</td>\n",
       "      <td>2017-04-12T09:46:39.764Z</td>\n",
       "    </tr>\n",
       "    <tr>\n",
       "      <th>79</th>\n",
       "      <td>tutorial1.Checkpoint00</td>\n",
       "      <td>c430c60c-d7cb-4fc5-893b-dce440696caf</td>\n",
       "      <td>2017-04-12T11:00:15.037Z</td>\n",
       "    </tr>\n",
       "    <tr>\n",
       "      <th>85</th>\n",
       "      <td>tutorial1.Checkpoint01</td>\n",
       "      <td>c430c60c-d7cb-4fc5-893b-dce440696caf</td>\n",
       "      <td>2017-04-12T11:01:47.407Z</td>\n",
       "    </tr>\n",
       "  </tbody>\n",
       "</table>\n",
       "</div>"
      ],
      "text/plain": [
       "                   section                             sessionId  \\\n",
       "10  tutorial1.Checkpoint00  2d76c4ef-f260-4963-82f4-ff598d2a63b4   \n",
       "18  tutorial1.Checkpoint01  2d76c4ef-f260-4963-82f4-ff598d2a63b4   \n",
       "69  tutorial1.Checkpoint01  6a9893c1-da09-42c7-832e-4d0746fa779e   \n",
       "79  tutorial1.Checkpoint00  c430c60c-d7cb-4fc5-893b-dce440696caf   \n",
       "85  tutorial1.Checkpoint01  c430c60c-d7cb-4fc5-893b-dce440696caf   \n",
       "\n",
       "                    userTime  \n",
       "10  2017-04-12T09:32:37.505Z  \n",
       "18  2017-04-12T09:34:03.736Z  \n",
       "69  2017-04-12T09:46:39.764Z  \n",
       "79  2017-04-12T11:00:15.037Z  \n",
       "85  2017-04-12T11:01:47.407Z  "
      ]
     },
     "execution_count": 27,
     "metadata": {},
     "output_type": "execute_result"
    }
   ],
   "source": [
    "checkpointsRelevantColumns = ['sessionId', 'customData.localplayerguid', 'type', 'section', 'userTime']\n",
    "checkpoints = df152.loc[:, checkpointsRelevantColumns]\n",
    "\n",
    "checkpoints = checkpoints[checkpoints['type']=='reach'].loc[:,['section','sessionId','userTime']]\n",
    "checkpoints = checkpoints[checkpoints['section'].str.startswith('tutorial', na=False)]\n",
    "#checkpoints = checkpoints.groupby(\"sessionId\")\n",
    "#checkpoints = checkpoints.max()\n",
    "checkpoints.head()"
   ]
  },
  {
   "cell_type": "markdown",
   "metadata": {},
   "source": [
    "# Assembly of both\n",
    "<a id=assembly />"
   ]
  },
  {
   "cell_type": "code",
   "execution_count": 28,
   "metadata": {
    "collapsed": false,
    "scrolled": true
   },
   "outputs": [
    {
     "data": {
      "text/html": [
       "<div>\n",
       "<style>\n",
       "    .dataframe thead tr:only-child th {\n",
       "        text-align: right;\n",
       "    }\n",
       "\n",
       "    .dataframe thead th {\n",
       "        text-align: left;\n",
       "    }\n",
       "\n",
       "    .dataframe tbody tr th {\n",
       "        vertical-align: top;\n",
       "    }\n",
       "</style>\n",
       "<table border=\"1\" class=\"dataframe\">\n",
       "  <thead>\n",
       "    <tr style=\"text-align: right;\">\n",
       "      <th></th>\n",
       "      <th>userId</th>\n",
       "      <th>sessionId</th>\n",
       "      <th>section</th>\n",
       "      <th>userTime</th>\n",
       "    </tr>\n",
       "  </thead>\n",
       "  <tbody>\n",
       "    <tr>\n",
       "      <th>0</th>\n",
       "      <td>NaN</td>\n",
       "      <td>b724663c-b32a-4079-9f8f-896762b272d1</td>\n",
       "      <td>NaN</td>\n",
       "      <td>NaN</td>\n",
       "    </tr>\n",
       "    <tr>\n",
       "      <th>1</th>\n",
       "      <td>NaN</td>\n",
       "      <td>2d76c4ef-f260-4963-82f4-ff598d2a63b4</td>\n",
       "      <td>tutorial1.Checkpoint00</td>\n",
       "      <td>2017-04-12T09:32:37.505Z</td>\n",
       "    </tr>\n",
       "    <tr>\n",
       "      <th>2</th>\n",
       "      <td>NaN</td>\n",
       "      <td>2d76c4ef-f260-4963-82f4-ff598d2a63b4</td>\n",
       "      <td>tutorial1.Checkpoint01</td>\n",
       "      <td>2017-04-12T09:34:03.736Z</td>\n",
       "    </tr>\n",
       "    <tr>\n",
       "      <th>3</th>\n",
       "      <td>NaN</td>\n",
       "      <td>6a9893c1-da09-42c7-832e-4d0746fa779e</td>\n",
       "      <td>tutorial1.Checkpoint01</td>\n",
       "      <td>2017-04-12T09:46:39.764Z</td>\n",
       "    </tr>\n",
       "    <tr>\n",
       "      <th>4</th>\n",
       "      <td>NaN</td>\n",
       "      <td>c430c60c-d7cb-4fc5-893b-dce440696caf</td>\n",
       "      <td>tutorial1.Checkpoint00</td>\n",
       "      <td>2017-04-12T11:00:15.037Z</td>\n",
       "    </tr>\n",
       "  </tbody>\n",
       "</table>\n",
       "</div>"
      ],
      "text/plain": [
       "   userId                             sessionId                 section  \\\n",
       "0     NaN  b724663c-b32a-4079-9f8f-896762b272d1                     NaN   \n",
       "1     NaN  2d76c4ef-f260-4963-82f4-ff598d2a63b4  tutorial1.Checkpoint00   \n",
       "2     NaN  2d76c4ef-f260-4963-82f4-ff598d2a63b4  tutorial1.Checkpoint01   \n",
       "3     NaN  6a9893c1-da09-42c7-832e-4d0746fa779e  tutorial1.Checkpoint01   \n",
       "4     NaN  c430c60c-d7cb-4fc5-893b-dce440696caf  tutorial1.Checkpoint00   \n",
       "\n",
       "                   userTime  \n",
       "0                       NaN  \n",
       "1  2017-04-12T09:32:37.505Z  \n",
       "2  2017-04-12T09:34:03.736Z  \n",
       "3  2017-04-12T09:46:39.764Z  \n",
       "4  2017-04-12T11:00:15.037Z  "
      ]
     },
     "execution_count": 28,
     "metadata": {},
     "output_type": "execute_result"
    }
   ],
   "source": [
    "#assembled = userSessions.combine_first(checkpoints)\n",
    "assembled = pd.merge(userSessions, checkpoints, on='sessionId', how='outer')\n",
    "assembled.head()"
   ]
  },
  {
   "cell_type": "code",
   "execution_count": 29,
   "metadata": {
    "collapsed": false
   },
   "outputs": [
    {
     "data": {
      "text/html": [
       "<div>\n",
       "<style>\n",
       "    .dataframe thead tr:only-child th {\n",
       "        text-align: right;\n",
       "    }\n",
       "\n",
       "    .dataframe thead th {\n",
       "        text-align: left;\n",
       "    }\n",
       "\n",
       "    .dataframe tbody tr th {\n",
       "        vertical-align: top;\n",
       "    }\n",
       "</style>\n",
       "<table border=\"1\" class=\"dataframe\">\n",
       "  <thead>\n",
       "    <tr style=\"text-align: right;\">\n",
       "      <th></th>\n",
       "      <th>userId</th>\n",
       "      <th>section</th>\n",
       "      <th>userTime</th>\n",
       "    </tr>\n",
       "  </thead>\n",
       "  <tbody>\n",
       "    <tr>\n",
       "      <th>0</th>\n",
       "      <td>NaN</td>\n",
       "      <td>NaN</td>\n",
       "      <td>NaN</td>\n",
       "    </tr>\n",
       "    <tr>\n",
       "      <th>1</th>\n",
       "      <td>NaN</td>\n",
       "      <td>tutorial1.Checkpoint00</td>\n",
       "      <td>2017-04-12T09:32:37.505Z</td>\n",
       "    </tr>\n",
       "    <tr>\n",
       "      <th>2</th>\n",
       "      <td>NaN</td>\n",
       "      <td>tutorial1.Checkpoint01</td>\n",
       "      <td>2017-04-12T09:34:03.736Z</td>\n",
       "    </tr>\n",
       "    <tr>\n",
       "      <th>3</th>\n",
       "      <td>NaN</td>\n",
       "      <td>tutorial1.Checkpoint01</td>\n",
       "      <td>2017-04-12T09:46:39.764Z</td>\n",
       "    </tr>\n",
       "    <tr>\n",
       "      <th>4</th>\n",
       "      <td>NaN</td>\n",
       "      <td>tutorial1.Checkpoint00</td>\n",
       "      <td>2017-04-12T11:00:15.037Z</td>\n",
       "    </tr>\n",
       "  </tbody>\n",
       "</table>\n",
       "</div>"
      ],
      "text/plain": [
       "   userId                 section                  userTime\n",
       "0     NaN                     NaN                       NaN\n",
       "1     NaN  tutorial1.Checkpoint00  2017-04-12T09:32:37.505Z\n",
       "2     NaN  tutorial1.Checkpoint01  2017-04-12T09:34:03.736Z\n",
       "3     NaN  tutorial1.Checkpoint01  2017-04-12T09:46:39.764Z\n",
       "4     NaN  tutorial1.Checkpoint00  2017-04-12T11:00:15.037Z"
      ]
     },
     "execution_count": 29,
     "metadata": {},
     "output_type": "execute_result"
    }
   ],
   "source": [
    "userSections = assembled.drop('sessionId', 1)\n",
    "userSections.head()"
   ]
  },
  {
   "cell_type": "code",
   "execution_count": 30,
   "metadata": {
    "collapsed": false,
    "scrolled": true
   },
   "outputs": [
    {
     "data": {
      "text/html": [
       "<div>\n",
       "<style>\n",
       "    .dataframe thead tr:only-child th {\n",
       "        text-align: right;\n",
       "    }\n",
       "\n",
       "    .dataframe thead th {\n",
       "        text-align: left;\n",
       "    }\n",
       "\n",
       "    .dataframe tbody tr th {\n",
       "        vertical-align: top;\n",
       "    }\n",
       "</style>\n",
       "<table border=\"1\" class=\"dataframe\">\n",
       "  <thead>\n",
       "    <tr style=\"text-align: right;\">\n",
       "      <th></th>\n",
       "      <th>userId</th>\n",
       "      <th>section</th>\n",
       "      <th>userTime</th>\n",
       "    </tr>\n",
       "  </thead>\n",
       "  <tbody>\n",
       "  </tbody>\n",
       "</table>\n",
       "</div>"
      ],
      "text/plain": [
       "Empty DataFrame\n",
       "Columns: [userId, section, userTime]\n",
       "Index: []"
      ]
     },
     "execution_count": 30,
     "metadata": {},
     "output_type": "execute_result"
    }
   ],
   "source": [
    "userSections = userSections.dropna()\n",
    "userSections.head()"
   ]
  },
  {
   "cell_type": "code",
   "execution_count": 31,
   "metadata": {
    "collapsed": false
   },
   "outputs": [
    {
     "data": {
      "text/html": [
       "<div>\n",
       "<style>\n",
       "    .dataframe thead tr:only-child th {\n",
       "        text-align: right;\n",
       "    }\n",
       "\n",
       "    .dataframe thead th {\n",
       "        text-align: left;\n",
       "    }\n",
       "\n",
       "    .dataframe tbody tr th {\n",
       "        vertical-align: top;\n",
       "    }\n",
       "</style>\n",
       "<table border=\"1\" class=\"dataframe\">\n",
       "  <thead>\n",
       "    <tr style=\"text-align: right;\">\n",
       "      <th></th>\n",
       "      <th>section</th>\n",
       "      <th>userTime</th>\n",
       "    </tr>\n",
       "    <tr>\n",
       "      <th>userId</th>\n",
       "      <th></th>\n",
       "      <th></th>\n",
       "    </tr>\n",
       "  </thead>\n",
       "  <tbody>\n",
       "  </tbody>\n",
       "</table>\n",
       "</div>"
      ],
      "text/plain": [
       "Empty DataFrame\n",
       "Columns: [section, userTime]\n",
       "Index: []"
      ]
     },
     "execution_count": 31,
     "metadata": {},
     "output_type": "execute_result"
    }
   ],
   "source": [
    "checkpoints = userSections.groupby(\"userId\")\n",
    "checkpoints = checkpoints.max()\n",
    "checkpoints.head()"
   ]
  },
  {
   "cell_type": "markdown",
   "metadata": {},
   "source": [
    "# Time analysis\n",
    "<a id=time />"
   ]
  },
  {
   "cell_type": "code",
   "execution_count": 32,
   "metadata": {
    "collapsed": false,
    "scrolled": false
   },
   "outputs": [
    {
     "data": {
      "text/html": [
       "<div>\n",
       "<style>\n",
       "    .dataframe thead tr:only-child th {\n",
       "        text-align: right;\n",
       "    }\n",
       "\n",
       "    .dataframe thead th {\n",
       "        text-align: left;\n",
       "    }\n",
       "\n",
       "    .dataframe tbody tr th {\n",
       "        vertical-align: top;\n",
       "    }\n",
       "</style>\n",
       "<table border=\"1\" class=\"dataframe\">\n",
       "  <thead>\n",
       "    <tr>\n",
       "      <th></th>\n",
       "      <th colspan=\"2\" halign=\"left\">userTime</th>\n",
       "      <th>duration</th>\n",
       "    </tr>\n",
       "    <tr>\n",
       "      <th></th>\n",
       "      <th>amin</th>\n",
       "      <th>amax</th>\n",
       "      <th></th>\n",
       "    </tr>\n",
       "    <tr>\n",
       "      <th>userId</th>\n",
       "      <th></th>\n",
       "      <th></th>\n",
       "      <th></th>\n",
       "    </tr>\n",
       "  </thead>\n",
       "  <tbody>\n",
       "  </tbody>\n",
       "</table>\n",
       "</div>"
      ],
      "text/plain": [
       "Empty DataFrame\n",
       "Columns: [(userTime, amin), (userTime, amax), (duration, )]\n",
       "Index: []"
      ]
     },
     "execution_count": 32,
     "metadata": {},
     "output_type": "execute_result"
    }
   ],
   "source": [
    "#userTimedSections = userSections.groupby(\"userId\").agg({ \"userTime\": np.min })\n",
    "#userTimedSections = userSections.groupby(\"userId\")\n",
    "userTimes = userSections.groupby(\"userId\").agg({ \"userTime\": [np.min, np.max] })\n",
    "userTimes[\"duration\"] = pd.to_datetime(userTimes[\"userTime\"][\"amax\"]) - pd.to_datetime(userTimes[\"userTime\"][\"amin\"])\n",
    "userTimes[\"duration\"] = userTimes[\"duration\"].map(lambda x: np.timedelta64(x, 's'))\n",
    "userTimes = userTimes.sort_values(by=['duration'], ascending=[False])\n",
    "userTimes.head()"
   ]
  },
  {
   "cell_type": "code",
   "execution_count": 33,
   "metadata": {
    "collapsed": false
   },
   "outputs": [
    {
     "ename": "TypeError",
     "evalue": "Empty 'DataFrame': no numeric data to plot",
     "output_type": "error",
     "traceback": [
      "\u001b[1;31m---------------------------------------------------------------------------\u001b[0m",
      "\u001b[1;31mTypeError\u001b[0m                                 Traceback (most recent call last)",
      "\u001b[1;32m<ipython-input-33-98ef86505500>\u001b[0m in \u001b[0;36m<module>\u001b[1;34m()\u001b[0m\n\u001b[0;32m      4\u001b[0m \u001b[0mmaxDuration\u001b[0m \u001b[1;33m=\u001b[0m \u001b[0mnp\u001b[0m\u001b[1;33m.\u001b[0m\u001b[0mmax\u001b[0m\u001b[1;33m(\u001b[0m\u001b[0muserTimes\u001b[0m\u001b[1;33m[\u001b[0m\u001b[1;34m\"duration_seconds\"\u001b[0m\u001b[1;33m]\u001b[0m\u001b[1;33m)\u001b[0m\u001b[1;33m\u001b[0m\u001b[0m\n\u001b[0;32m      5\u001b[0m \u001b[0muserTimes\u001b[0m\u001b[1;33m[\u001b[0m\u001b[1;34m\"duration_rank\"\u001b[0m\u001b[1;33m]\u001b[0m \u001b[1;33m=\u001b[0m \u001b[0muserTimes\u001b[0m\u001b[1;33m[\u001b[0m\u001b[1;34m\"duration_seconds\"\u001b[0m\u001b[1;33m]\u001b[0m\u001b[1;33m.\u001b[0m\u001b[0mrank\u001b[0m\u001b[1;33m(\u001b[0m\u001b[0mascending\u001b[0m\u001b[1;33m=\u001b[0m\u001b[1;32mFalse\u001b[0m\u001b[1;33m)\u001b[0m\u001b[1;33m\u001b[0m\u001b[0m\n\u001b[1;32m----> 6\u001b[1;33m \u001b[0muserTimes\u001b[0m\u001b[1;33m.\u001b[0m\u001b[0mplot\u001b[0m\u001b[1;33m(\u001b[0m\u001b[0mx\u001b[0m\u001b[1;33m=\u001b[0m\u001b[1;34m\"duration_rank\"\u001b[0m\u001b[1;33m,\u001b[0m \u001b[0my\u001b[0m\u001b[1;33m=\u001b[0m\u001b[1;34m\"duration_seconds\"\u001b[0m\u001b[1;33m)\u001b[0m\u001b[1;33m\u001b[0m\u001b[0m\n\u001b[0m\u001b[0;32m      7\u001b[0m \u001b[0mplt\u001b[0m\u001b[1;33m.\u001b[0m\u001b[0mxlabel\u001b[0m\u001b[1;33m(\u001b[0m\u001b[1;34m\"game session\"\u001b[0m\u001b[1;33m)\u001b[0m\u001b[1;33m\u001b[0m\u001b[0m\n\u001b[0;32m      8\u001b[0m \u001b[0mplt\u001b[0m\u001b[1;33m.\u001b[0m\u001b[0mylabel\u001b[0m\u001b[1;33m(\u001b[0m\u001b[1;34m\"time played (s)\"\u001b[0m\u001b[1;33m)\u001b[0m\u001b[1;33m\u001b[0m\u001b[0m\n",
      "\u001b[1;32mC:\\Users\\Mikael\\Anaconda3\\lib\\site-packages\\pandas\\plotting\\_core.py\u001b[0m in \u001b[0;36m__call__\u001b[1;34m(self, x, y, kind, ax, subplots, sharex, sharey, layout, figsize, use_index, title, grid, legend, style, logx, logy, loglog, xticks, yticks, xlim, ylim, rot, fontsize, colormap, table, yerr, xerr, secondary_y, sort_columns, **kwds)\u001b[0m\n\u001b[0;32m   2625\u001b[0m                           \u001b[0mfontsize\u001b[0m\u001b[1;33m=\u001b[0m\u001b[0mfontsize\u001b[0m\u001b[1;33m,\u001b[0m \u001b[0mcolormap\u001b[0m\u001b[1;33m=\u001b[0m\u001b[0mcolormap\u001b[0m\u001b[1;33m,\u001b[0m \u001b[0mtable\u001b[0m\u001b[1;33m=\u001b[0m\u001b[0mtable\u001b[0m\u001b[1;33m,\u001b[0m\u001b[1;33m\u001b[0m\u001b[0m\n\u001b[0;32m   2626\u001b[0m                           \u001b[0myerr\u001b[0m\u001b[1;33m=\u001b[0m\u001b[0myerr\u001b[0m\u001b[1;33m,\u001b[0m \u001b[0mxerr\u001b[0m\u001b[1;33m=\u001b[0m\u001b[0mxerr\u001b[0m\u001b[1;33m,\u001b[0m \u001b[0msecondary_y\u001b[0m\u001b[1;33m=\u001b[0m\u001b[0msecondary_y\u001b[0m\u001b[1;33m,\u001b[0m\u001b[1;33m\u001b[0m\u001b[0m\n\u001b[1;32m-> 2627\u001b[1;33m                           sort_columns=sort_columns, **kwds)\n\u001b[0m\u001b[0;32m   2628\u001b[0m     \u001b[0m__call__\u001b[0m\u001b[1;33m.\u001b[0m\u001b[0m__doc__\u001b[0m \u001b[1;33m=\u001b[0m \u001b[0mplot_frame\u001b[0m\u001b[1;33m.\u001b[0m\u001b[0m__doc__\u001b[0m\u001b[1;33m\u001b[0m\u001b[0m\n\u001b[0;32m   2629\u001b[0m \u001b[1;33m\u001b[0m\u001b[0m\n",
      "\u001b[1;32mC:\\Users\\Mikael\\Anaconda3\\lib\\site-packages\\pandas\\plotting\\_core.py\u001b[0m in \u001b[0;36mplot_frame\u001b[1;34m(data, x, y, kind, ax, subplots, sharex, sharey, layout, figsize, use_index, title, grid, legend, style, logx, logy, loglog, xticks, yticks, xlim, ylim, rot, fontsize, colormap, table, yerr, xerr, secondary_y, sort_columns, **kwds)\u001b[0m\n\u001b[0;32m   1867\u001b[0m                  \u001b[0myerr\u001b[0m\u001b[1;33m=\u001b[0m\u001b[0myerr\u001b[0m\u001b[1;33m,\u001b[0m \u001b[0mxerr\u001b[0m\u001b[1;33m=\u001b[0m\u001b[0mxerr\u001b[0m\u001b[1;33m,\u001b[0m\u001b[1;33m\u001b[0m\u001b[0m\n\u001b[0;32m   1868\u001b[0m                  \u001b[0msecondary_y\u001b[0m\u001b[1;33m=\u001b[0m\u001b[0msecondary_y\u001b[0m\u001b[1;33m,\u001b[0m \u001b[0msort_columns\u001b[0m\u001b[1;33m=\u001b[0m\u001b[0msort_columns\u001b[0m\u001b[1;33m,\u001b[0m\u001b[1;33m\u001b[0m\u001b[0m\n\u001b[1;32m-> 1869\u001b[1;33m                  **kwds)\n\u001b[0m\u001b[0;32m   1870\u001b[0m \u001b[1;33m\u001b[0m\u001b[0m\n\u001b[0;32m   1871\u001b[0m \u001b[1;33m\u001b[0m\u001b[0m\n",
      "\u001b[1;32mC:\\Users\\Mikael\\Anaconda3\\lib\\site-packages\\pandas\\plotting\\_core.py\u001b[0m in \u001b[0;36m_plot\u001b[1;34m(data, x, y, subplots, ax, kind, **kwds)\u001b[0m\n\u001b[0;32m   1692\u001b[0m         \u001b[0mplot_obj\u001b[0m \u001b[1;33m=\u001b[0m \u001b[0mklass\u001b[0m\u001b[1;33m(\u001b[0m\u001b[0mdata\u001b[0m\u001b[1;33m,\u001b[0m \u001b[0msubplots\u001b[0m\u001b[1;33m=\u001b[0m\u001b[0msubplots\u001b[0m\u001b[1;33m,\u001b[0m \u001b[0max\u001b[0m\u001b[1;33m=\u001b[0m\u001b[0max\u001b[0m\u001b[1;33m,\u001b[0m \u001b[0mkind\u001b[0m\u001b[1;33m=\u001b[0m\u001b[0mkind\u001b[0m\u001b[1;33m,\u001b[0m \u001b[1;33m**\u001b[0m\u001b[0mkwds\u001b[0m\u001b[1;33m)\u001b[0m\u001b[1;33m\u001b[0m\u001b[0m\n\u001b[0;32m   1693\u001b[0m \u001b[1;33m\u001b[0m\u001b[0m\n\u001b[1;32m-> 1694\u001b[1;33m     \u001b[0mplot_obj\u001b[0m\u001b[1;33m.\u001b[0m\u001b[0mgenerate\u001b[0m\u001b[1;33m(\u001b[0m\u001b[1;33m)\u001b[0m\u001b[1;33m\u001b[0m\u001b[0m\n\u001b[0m\u001b[0;32m   1695\u001b[0m     \u001b[0mplot_obj\u001b[0m\u001b[1;33m.\u001b[0m\u001b[0mdraw\u001b[0m\u001b[1;33m(\u001b[0m\u001b[1;33m)\u001b[0m\u001b[1;33m\u001b[0m\u001b[0m\n\u001b[0;32m   1696\u001b[0m     \u001b[1;32mreturn\u001b[0m \u001b[0mplot_obj\u001b[0m\u001b[1;33m.\u001b[0m\u001b[0mresult\u001b[0m\u001b[1;33m\u001b[0m\u001b[0m\n",
      "\u001b[1;32mC:\\Users\\Mikael\\Anaconda3\\lib\\site-packages\\pandas\\plotting\\_core.py\u001b[0m in \u001b[0;36mgenerate\u001b[1;34m(self)\u001b[0m\n\u001b[0;32m    241\u001b[0m     \u001b[1;32mdef\u001b[0m \u001b[0mgenerate\u001b[0m\u001b[1;33m(\u001b[0m\u001b[0mself\u001b[0m\u001b[1;33m)\u001b[0m\u001b[1;33m:\u001b[0m\u001b[1;33m\u001b[0m\u001b[0m\n\u001b[0;32m    242\u001b[0m         \u001b[0mself\u001b[0m\u001b[1;33m.\u001b[0m\u001b[0m_args_adjust\u001b[0m\u001b[1;33m(\u001b[0m\u001b[1;33m)\u001b[0m\u001b[1;33m\u001b[0m\u001b[0m\n\u001b[1;32m--> 243\u001b[1;33m         \u001b[0mself\u001b[0m\u001b[1;33m.\u001b[0m\u001b[0m_compute_plot_data\u001b[0m\u001b[1;33m(\u001b[0m\u001b[1;33m)\u001b[0m\u001b[1;33m\u001b[0m\u001b[0m\n\u001b[0m\u001b[0;32m    244\u001b[0m         \u001b[0mself\u001b[0m\u001b[1;33m.\u001b[0m\u001b[0m_setup_subplots\u001b[0m\u001b[1;33m(\u001b[0m\u001b[1;33m)\u001b[0m\u001b[1;33m\u001b[0m\u001b[0m\n\u001b[0;32m    245\u001b[0m         \u001b[0mself\u001b[0m\u001b[1;33m.\u001b[0m\u001b[0m_make_plot\u001b[0m\u001b[1;33m(\u001b[0m\u001b[1;33m)\u001b[0m\u001b[1;33m\u001b[0m\u001b[0m\n",
      "\u001b[1;32mC:\\Users\\Mikael\\Anaconda3\\lib\\site-packages\\pandas\\plotting\\_core.py\u001b[0m in \u001b[0;36m_compute_plot_data\u001b[1;34m(self)\u001b[0m\n\u001b[0;32m    350\u001b[0m         \u001b[1;32mif\u001b[0m \u001b[0mis_empty\u001b[0m\u001b[1;33m:\u001b[0m\u001b[1;33m\u001b[0m\u001b[0m\n\u001b[0;32m    351\u001b[0m             raise TypeError('Empty {0!r}: no numeric data to '\n\u001b[1;32m--> 352\u001b[1;33m                             'plot'.format(numeric_data.__class__.__name__))\n\u001b[0m\u001b[0;32m    353\u001b[0m \u001b[1;33m\u001b[0m\u001b[0m\n\u001b[0;32m    354\u001b[0m         \u001b[0mself\u001b[0m\u001b[1;33m.\u001b[0m\u001b[0mdata\u001b[0m \u001b[1;33m=\u001b[0m \u001b[0mnumeric_data\u001b[0m\u001b[1;33m\u001b[0m\u001b[0m\n",
      "\u001b[1;31mTypeError\u001b[0m: Empty 'DataFrame': no numeric data to plot"
     ]
    }
   ],
   "source": [
    "userTimes.loc[:,'duration']\n",
    "userTimes = userTimes[4:]\n",
    "userTimes[\"duration_seconds\"] = userTimes[\"duration\"].map(lambda x: pd.Timedelta(x).seconds)\n",
    "maxDuration = np.max(userTimes[\"duration_seconds\"])\n",
    "userTimes[\"duration_rank\"] = userTimes[\"duration_seconds\"].rank(ascending=False)\n",
    "userTimes.plot(x=\"duration_rank\", y=\"duration_seconds\")\n",
    "plt.xlabel(\"game session\")\n",
    "plt.ylabel(\"time played (s)\")\n",
    "plt.legend('')\n",
    "plt.xlim(0, 139)\n",
    "plt.ylim(0, maxDuration)"
   ]
  },
  {
   "cell_type": "code",
   "execution_count": null,
   "metadata": {
    "collapsed": false
   },
   "outputs": [],
   "source": [
    "userTimedSections = userSections.groupby(\"section\").agg({ \"userTime\": np.min })\n",
    "userTimedSections"
   ]
  },
  {
   "cell_type": "code",
   "execution_count": null,
   "metadata": {
    "collapsed": false
   },
   "outputs": [],
   "source": [
    "userTimedSections[\"firstReached\"] = pd.to_datetime(userTimedSections[\"userTime\"])\n",
    "userTimedSections.head()"
   ]
  },
  {
   "cell_type": "code",
   "execution_count": null,
   "metadata": {
    "collapsed": false
   },
   "outputs": [],
   "source": [
    "userTimedSections.drop('userTime', 1)\n",
    "userTimedSections.head()"
   ]
  },
  {
   "cell_type": "code",
   "execution_count": null,
   "metadata": {
    "collapsed": false
   },
   "outputs": [],
   "source": [
    "userTimedSections[\"firstCompletionDuration\"] = userTimedSections[\"firstReached\"].diff()\n",
    "userTimedSections.head()"
   ]
  }
 ],
 "metadata": {
  "kernelspec": {
   "display_name": "Python 3",
   "language": "python",
   "name": "python3"
  },
  "language_info": {
   "codemirror_mode": {
    "name": "ipython",
    "version": 3
   },
   "file_extension": ".py",
   "mimetype": "text/x-python",
   "name": "python",
   "nbconvert_exporter": "python",
   "pygments_lexer": "ipython3",
   "version": "3.5.4"
  }
 },
 "nbformat": 4,
 "nbformat_minor": 0
}
