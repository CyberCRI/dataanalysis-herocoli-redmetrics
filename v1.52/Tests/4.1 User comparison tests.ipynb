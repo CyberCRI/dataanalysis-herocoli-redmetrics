{
 "cells": [
  {
   "cell_type": "markdown",
   "metadata": {
    "nbpresent": {
     "id": "aed29d65-2a5e-4222-91cd-8cec6212be81"
    }
   },
   "source": [
    "# User comparison tests"
   ]
  },
  {
   "cell_type": "markdown",
   "metadata": {
    "collapsed": true,
    "nbpresent": {
     "id": "05b90953-a8ea-4185-9d79-1944c24473db"
    }
   },
   "source": [
    "# Table of Contents\n",
    "\n",
    "[Preparation](#preparation)\n",
    "\n",
    "[User data vectors](#userdatavectors)\n",
    "\n",
    "[User lists](#userlists)\n",
    "\n",
    "[Sessions' checkpoints](#sessionscheckpoints)\n",
    "\n",
    "[Assembly](#assembly)\n",
    "\n",
    "[Time](#time)"
   ]
  },
  {
   "cell_type": "markdown",
   "metadata": {
    "nbpresent": {
     "id": "6cff6135-7f12-4aa2-97e4-723b6c7b1f1f"
    }
   },
   "source": [
    "# Preparation\n",
    "<a id=preparation />"
   ]
  },
  {
   "cell_type": "code",
   "execution_count": null,
   "metadata": {
    "nbpresent": {
     "id": "a7e3d768-ab41-4d9a-90cf-ccde3d98aa91"
    },
    "scrolled": true
   },
   "outputs": [],
   "source": [
    "%run \"../Functions/1. Google form analysis.ipynb\"\n",
    "%run \"../Functions/4. User comparison.ipynb\""
   ]
  },
  {
   "cell_type": "markdown",
   "metadata": {
    "nbpresent": {
     "id": "c43d4a76-1f60-4c1e-848c-aeefb4dcb131"
    }
   },
   "source": [
    "# Data vectors of users\n",
    "<a id=userdatavectors />"
   ]
  },
  {
   "cell_type": "code",
   "execution_count": null,
   "metadata": {
    "nbpresent": {
     "id": "a906d231-0de5-4956-ad74-4a3dd9636aa2"
    }
   },
   "outputs": [],
   "source": [
    "#getAllResponders()"
   ]
  },
  {
   "cell_type": "code",
   "execution_count": null,
   "metadata": {
    "nbpresent": {
     "id": "8d370c25-5825-4c59-adac-9d07a6ee26ba"
    }
   },
   "outputs": [],
   "source": [
    "setAnswerTemporalities(gform)"
   ]
  },
  {
   "cell_type": "markdown",
   "metadata": {},
   "source": [
    "# getAllUserVectorData"
   ]
  },
  {
   "cell_type": "code",
   "execution_count": null,
   "metadata": {
    "nbpresent": {
     "id": "2379ace8-7d98-4f66-ae5b-4e2ab8495848"
    }
   },
   "outputs": [],
   "source": [
    "# small sample\n",
    "#allData = getAllUserVectorData( getAllUsers( df152 )[:10] )\n",
    "\n",
    "# complete set\n",
    "#allData = getAllUserVectorData( getAllUsers( df152 ) )\n",
    "\n",
    "# subjects who answered the gform\n",
    "allData = getAllUserVectorData( getAllResponders() )\n",
    "\n",
    "# 10 subjects who answered the gform\n",
    "#allData = getAllUserVectorData( getAllResponders()[:10] )"
   ]
  },
  {
   "cell_type": "code",
   "execution_count": null,
   "metadata": {},
   "outputs": [],
   "source": [
    "len(allData.columns)"
   ]
  },
  {
   "cell_type": "code",
   "execution_count": null,
   "metadata": {},
   "outputs": [],
   "source": [
    "userIds = getAllResponders()\n",
    "_source = correctAnswers"
   ]
  },
  {
   "cell_type": "code",
   "execution_count": null,
   "metadata": {},
   "outputs": [],
   "source": [
    "# _source is used as correction source, if we want to include answers to these questions\n",
    "#def getAllUserVectorData( userIds, _source = [] ):\n",
    "    \n",
    "# result\n",
    "isInitialized = False\n",
    "allData = []\n",
    "\n",
    "f = FloatProgress(min=0, max=len(userIds))\n",
    "display(f)\n",
    "\n",
    "for userId in userIds:\n",
    "    #print(str(userId))\n",
    "    f.value += 1\n",
    "    if not isInitialized:\n",
    "        isInitialized = True\n",
    "        allData = getUserDataVector(userId, _source = _source)\n",
    "    else:\n",
    "        allData = pd.concat([allData, getUserDataVector(userId, _source = _source)], axis=1)\n",
    "\n",
    "#print('done')\n",
    "allData"
   ]
  },
  {
   "cell_type": "code",
   "execution_count": null,
   "metadata": {},
   "outputs": [],
   "source": [
    "userId"
   ]
  },
  {
   "cell_type": "markdown",
   "metadata": {},
   "source": [
    "# Correlation Matrix"
   ]
  },
  {
   "cell_type": "code",
   "execution_count": null,
   "metadata": {},
   "outputs": [],
   "source": [
    "methods = ['pearson', 'kendall', 'spearman']\n",
    "\n",
    "_allUserVectorData = allData.T\n",
    "_method = methods[0]\n",
    "_title='RedMetrics Correlations'\n",
    "_abs=True\n",
    "_clustered=False\n",
    "_figsize = (20,20)\n",
    "\n",
    "\n",
    "#def plotAllUserVectorDataCorrelationMatrix(\n",
    "#    _allUserVectorData,\n",
    "#    _method = methods[0], \n",
    "#    _title='RedMetrics Correlations', \n",
    "#    _abs=False,\n",
    "#    _clustered=False, \n",
    "#    _figsize = (20,20)\n",
    "#):\n",
    "    \n",
    "_progress = FloatProgress(min=0, max=3)\n",
    "display(_progress)\n",
    "\n",
    "# computation of correlation matrix\n",
    "_m = _method\n",
    "if(not (_method in methods)):\n",
    "    _m = methods[0]\n",
    "_correlation = _allUserVectorData.astype(float).corr(_m)\n",
    "_progress.value += 1\n",
    "if(_abs):\n",
    "    _correlation = _correlation.abs()\n",
    "_progress.value += 1\n",
    "\n",
    "# plot\n",
    "if(_clustered):\n",
    "    sns.clustermap(_correlation,cmap=plt.cm.jet,square=True,figsize=_figsize)\n",
    "else:\n",
    "    _fig = plt.figure(figsize=_figsize)\n",
    "    _ax = plt.subplot(111)\n",
    "    _ax.set_title(_title)\n",
    "    sns.heatmap(_correlation,ax=_ax,cmap=plt.cm.jet,square=True)\n",
    "_progress.value += 1"
   ]
  },
  {
   "cell_type": "code",
   "execution_count": null,
   "metadata": {},
   "outputs": [],
   "source": []
  },
  {
   "cell_type": "code",
   "execution_count": null,
   "metadata": {},
   "outputs": [],
   "source": []
  },
  {
   "cell_type": "code",
   "execution_count": null,
   "metadata": {
    "nbpresent": {
     "id": "66d50c55-eac7-4e64-8111-51faf69925fa"
    }
   },
   "outputs": [],
   "source": [
    "gform['Temporality'].unique()"
   ]
  },
  {
   "cell_type": "code",
   "execution_count": null,
   "metadata": {
    "nbpresent": {
     "id": "de512148-31b2-46cc-89c5-02e2a47b4e52"
    }
   },
   "outputs": [],
   "source": [
    "allData.loc['scoreundefined'].dropna()"
   ]
  },
  {
   "cell_type": "code",
   "execution_count": null,
   "metadata": {
    "nbpresent": {
     "id": "0791a8b5-9d78-469b-ae75-838ea0965d51"
    }
   },
   "outputs": [],
   "source": [
    "getAllUsers(df152)[:10]"
   ]
  },
  {
   "cell_type": "code",
   "execution_count": null,
   "metadata": {
    "nbpresent": {
     "id": "20871a93-5b4a-4958-80fd-33fc4dfc05a4"
    },
    "scrolled": true
   },
   "outputs": [],
   "source": [
    "len(getAllUsers(df152))"
   ]
  },
  {
   "cell_type": "markdown",
   "metadata": {
    "collapsed": true,
    "nbpresent": {
     "id": "e1fee37b-82e6-4305-b4c6-4b41261faec8"
    }
   },
   "source": [
    "# List of users and their sessions\n",
    "<a id=userlists />"
   ]
  },
  {
   "cell_type": "code",
   "execution_count": null,
   "metadata": {
    "nbpresent": {
     "id": "6fc1da1e-54ec-4d4a-adf9-05dcf7b5c2c7"
    }
   },
   "outputs": [],
   "source": [
    "userSessionsRelevantColumns = ['customData.localplayerguid', 'sessionId']\n",
    "userSessions = df152[df152['type']=='start'].loc[:,userSessionsRelevantColumns]"
   ]
  },
  {
   "cell_type": "code",
   "execution_count": null,
   "metadata": {
    "nbpresent": {
     "id": "26c27634-cb9a-459c-a0ba-0016131646b4"
    }
   },
   "outputs": [],
   "source": [
    "userSessions = userSessions.rename(index=str, columns={'customData.localplayerguid': 'userId'})\n",
    "userSessions.head()"
   ]
  },
  {
   "cell_type": "code",
   "execution_count": null,
   "metadata": {
    "nbpresent": {
     "id": "33c064ca-0d18-48c7-a0d7-7670f0ac2eb1"
    }
   },
   "outputs": [],
   "source": [
    "#groupedUserSessions = userSessions.groupby('customData.localplayerguid')\n",
    "#groupedUserSessions.head()\n",
    "#groupedUserSessions.describe().head()"
   ]
  },
  {
   "cell_type": "markdown",
   "metadata": {
    "nbpresent": {
     "id": "86192a2d-d42c-4fb5-83cb-28d877cefb16"
    }
   },
   "source": [
    "# List of sessions with their checkpoints achievements\n",
    "<a id=sessionscheckpoints />"
   ]
  },
  {
   "cell_type": "code",
   "execution_count": null,
   "metadata": {
    "nbpresent": {
     "id": "e5f6b9b2-ceee-4711-86b2-f7ea6f04b4a7"
    }
   },
   "outputs": [],
   "source": [
    "checkpointsRelevantColumns = ['sessionId', 'customData.localplayerguid', 'type', 'section', 'userTime']\n",
    "checkpoints = df152.loc[:, checkpointsRelevantColumns]\n",
    "\n",
    "checkpoints = checkpoints[checkpoints['type']=='reach'].loc[:,['section','sessionId','userTime']]\n",
    "checkpoints = checkpoints[checkpoints['section'].str.startswith('tutorial', na=False)]\n",
    "#checkpoints = checkpoints.groupby(\"sessionId\")\n",
    "#checkpoints = checkpoints.max()\n",
    "checkpoints.head()"
   ]
  },
  {
   "cell_type": "markdown",
   "metadata": {
    "nbpresent": {
     "id": "798e6365-168d-486f-b3ed-26dfcaa54e09"
    }
   },
   "source": [
    "# Assembly of both\n",
    "<a id=assembly />"
   ]
  },
  {
   "cell_type": "code",
   "execution_count": null,
   "metadata": {
    "nbpresent": {
     "id": "79623513-336f-4a27-a275-0894c9eaf162"
    },
    "scrolled": true
   },
   "outputs": [],
   "source": [
    "#assembled = userSessions.combine_first(checkpoints)\n",
    "assembled = pd.merge(userSessions, checkpoints, on='sessionId', how='outer')\n",
    "assembled.head()"
   ]
  },
  {
   "cell_type": "code",
   "execution_count": null,
   "metadata": {
    "nbpresent": {
     "id": "1547ecca-adf7-4480-af05-39aa92a9da01"
    }
   },
   "outputs": [],
   "source": [
    "userSections = assembled.drop('sessionId', 1)\n",
    "userSections.head()"
   ]
  },
  {
   "cell_type": "code",
   "execution_count": null,
   "metadata": {
    "nbpresent": {
     "id": "f1215553-99e2-44b8-ade8-0c451ca9711c"
    },
    "scrolled": true
   },
   "outputs": [],
   "source": [
    "userSections = userSections.dropna()\n",
    "userSections.head()"
   ]
  },
  {
   "cell_type": "code",
   "execution_count": null,
   "metadata": {
    "nbpresent": {
     "id": "8c84aa32-09a4-4687-a66e-be2d10c327be"
    }
   },
   "outputs": [],
   "source": [
    "checkpoints = userSections.groupby(\"userId\")\n",
    "checkpoints = checkpoints.max()\n",
    "checkpoints.head()"
   ]
  },
  {
   "cell_type": "markdown",
   "metadata": {
    "nbpresent": {
     "id": "33b0ca8f-0654-42c7-b023-60a161c87f62"
    }
   },
   "source": [
    "# Time analysis\n",
    "<a id=time />"
   ]
  },
  {
   "cell_type": "code",
   "execution_count": null,
   "metadata": {
    "nbpresent": {
     "id": "1f8701bf-7b3f-4929-afc5-499bfcfb19e2"
    },
    "scrolled": false
   },
   "outputs": [],
   "source": [
    "#userTimedSections = userSections.groupby(\"userId\").agg({ \"userTime\": np.min })\n",
    "#userTimedSections = userSections.groupby(\"userId\")\n",
    "userTimes = userSections.groupby(\"userId\").agg({ \"userTime\": [np.min, np.max] })\n",
    "userTimes[\"duration\"] = pd.to_datetime(userTimes[\"userTime\"][\"amax\"]) - pd.to_datetime(userTimes[\"userTime\"][\"amin\"])\n",
    "userTimes[\"duration\"] = userTimes[\"duration\"].map(lambda x: np.timedelta64(x, 's'))\n",
    "userTimes = userTimes.sort_values(by=['duration'], ascending=[False])\n",
    "userTimes.head()"
   ]
  },
  {
   "cell_type": "markdown",
   "metadata": {
    "nbpresent": {
     "id": "3240a394-9573-410e-b0d3-ea5b5647f87f"
    }
   },
   "source": [
    "# TODO"
   ]
  },
  {
   "cell_type": "markdown",
   "metadata": {
    "nbpresent": {
     "id": "d0c2522e-27eb-4bd0-a765-1daff0e3b4dc"
    }
   },
   "source": [
    "userTimes.loc[:,'duration']\n",
    "userTimes = userTimes[4:]\n",
    "userTimes[\"duration_seconds\"] = userTimes[\"duration\"].map(lambda x: pd.Timedelta(x).seconds)\n",
    "maxDuration = np.max(userTimes[\"duration_seconds\"])\n",
    "userTimes[\"duration_rank\"] = userTimes[\"duration_seconds\"].rank(ascending=False)\n",
    "userTimes.plot(x=\"duration_rank\", y=\"duration_seconds\")\n",
    "plt.xlabel(\"game session\")\n",
    "plt.ylabel(\"time played (s)\")\n",
    "plt.legend('')\n",
    "plt.xlim(0, 139)\n",
    "plt.ylim(0, maxDuration)"
   ]
  },
  {
   "cell_type": "markdown",
   "metadata": {
    "nbpresent": {
     "id": "8c810726-bae0-4775-9d00-d31f49b05772"
    }
   },
   "source": [
    "userTimedSections = userSections.groupby(\"section\").agg({ \"userTime\": np.min })\n",
    "userTimedSections"
   ]
  },
  {
   "cell_type": "markdown",
   "metadata": {
    "nbpresent": {
     "id": "e5e691ea-d9c3-4745-b37d-7570b919acab"
    }
   },
   "source": [
    "userTimedSections[\"firstReached\"] = pd.to_datetime(userTimedSections[\"userTime\"])\n",
    "userTimedSections.head()"
   ]
  },
  {
   "cell_type": "markdown",
   "metadata": {
    "nbpresent": {
     "id": "dee5c9d3-293e-4abf-8e3e-0ebbb412b8fa"
    }
   },
   "source": [
    "userTimedSections.drop('userTime', 1)\n",
    "userTimedSections.head()"
   ]
  },
  {
   "cell_type": "markdown",
   "metadata": {
    "nbpresent": {
     "id": "b0ea45e7-df23-493c-83bf-6484661aca60"
    }
   },
   "source": [
    "userTimedSections[\"firstCompletionDuration\"] = userTimedSections[\"firstReached\"].diff()\n",
    "userTimedSections.head()"
   ]
  },
  {
   "cell_type": "code",
   "execution_count": null,
   "metadata": {},
   "outputs": [],
   "source": [
    "sessionCount = 1\n",
    "_rmDF = df152\n",
    "sample = gform\n",
    "before = False\n",
    "after = True\n",
    "gfMode = False\n",
    "rmMode = True\n",
    "\n",
    "#def getAllUserVectorDataCustom(before, after, gfMode = False, rmMode = True, sessionCount = 1, _rmDF = df152)\n",
    "userIds = []\n",
    "\n",
    "if (before and after):\n",
    "    userIds = getSurveysOfUsersWhoAnsweredBoth(sample, gfMode = gfMode, rmMode = rmMode)\n",
    "elif before:\n",
    "    if rmMode:\n",
    "        userIds = getRMBefores(sample)\n",
    "    else:\n",
    "        userIds = getGFBefores(sample)\n",
    "elif after:\n",
    "    if rmMode:\n",
    "        userIds = getRMAfters(sample)\n",
    "    else:\n",
    "        userIds = getGFormAfters(sample)\n",
    "if(len(userIds) > 0):\n",
    "    userIds = userIds[localplayerguidkey]\n",
    "    rmUIDs = userIds.map(unsafeGetRedMetricsGUIDFormat)\n",
    "    allUserVectorData = getAllUserVectorData(rmUIDs, _rmDF = _rmDF)\n",
    "    allUserVectorData = allUserVectorData.T\n",
    "    result = allUserVectorData[allUserVectorData['sessionsCount'] == sessionCount].T\n",
    "    result\n",
    "else:\n",
    "    print(\"no matching user\")\n",
    "    []"
   ]
  },
  {
   "cell_type": "code",
   "execution_count": null,
   "metadata": {},
   "outputs": [],
   "source": [
    "result"
   ]
  },
  {
   "cell_type": "code",
   "execution_count": null,
   "metadata": {},
   "outputs": [],
   "source": [
    "getAllUserVectorDataCustom(False, True)"
   ]
  },
  {
   "cell_type": "code",
   "execution_count": null,
   "metadata": {},
   "outputs": [],
   "source": [
    "userIdsBoth = getSurveysOfUsersWhoAnsweredBoth(gform, gfMode = True, rmMode = True)[localplayerguidkey]\n",
    "rmUIDBoth = userIdsBoth.map(unsafeGetRedMetricsGUIDFormat)\n",
    "allUserVectorData = getAllUserVectorData(rmUIDBoth)\n",
    "allUserVectorData = allUserVectorData.T\n",
    "return allUserVectorData[allUserVectorData['sessionsCount'] == 1]"
   ]
  }
 ],
 "metadata": {
  "kernelspec": {
   "display_name": "Python [conda env:python3]",
   "language": "python",
   "name": "conda-env-python3-py"
  },
  "language_info": {
   "codemirror_mode": {
    "name": "ipython",
    "version": 3
   },
   "file_extension": ".py",
   "mimetype": "text/x-python",
   "name": "python",
   "nbconvert_exporter": "python",
   "pygments_lexer": "ipython3",
   "version": "3.5.4"
  },
  "nbpresent": {
   "slides": {
    "3ff435fc-6c0e-4e86-aa5b-2f2f1e1252f4": {
     "id": "3ff435fc-6c0e-4e86-aa5b-2f2f1e1252f4",
     "prev": null,
     "regions": {
      "bc0987be-291b-4583-a9da-40d4760581df": {
       "attrs": {
        "height": 0.8,
        "width": 0.8,
        "x": 0.1,
        "y": 0.1
       },
       "content": {
        "cell": "b0ea45e7-df23-493c-83bf-6484661aca60",
        "part": "whole"
       },
       "id": "bc0987be-291b-4583-a9da-40d4760581df"
      }
     }
    }
   },
   "themes": {}
  }
 },
 "nbformat": 4,
 "nbformat_minor": 1
}
