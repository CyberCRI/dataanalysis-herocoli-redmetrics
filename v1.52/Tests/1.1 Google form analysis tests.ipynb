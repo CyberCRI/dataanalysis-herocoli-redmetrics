{
 "cells": [
  {
   "cell_type": "markdown",
   "metadata": {},
   "source": [
    "# Google form analysis tests\n",
    "\n",
    "## Table of Contents\n",
    "\n",
    "\n",
    "['Google form analysis' functions checks](#funcchecks)\n",
    "\n",
    "[Google form loading](#gformload)\n",
    "   \n",
    "   - [Selection of a question](#selquest)\n",
    "\n",
    "   - [Selection of a user's answers](#selusans)\n",
    "\n",
    "[checking answers](#checkans)\n",
    "\n",
    "[comparison of checkpoints completion and answers](#compcheckans)\n",
    "\n",
    "[answers submitted through time](#ansthrutime)\n",
    "\n",
    "[merge English and French answers](#mergelang)"
   ]
  },
  {
   "cell_type": "code",
   "execution_count": null,
   "metadata": {
    "scrolled": true
   },
   "outputs": [],
   "source": [
    "%run \"../Functions/1. Google form analysis.ipynb\""
   ]
  },
  {
   "cell_type": "code",
   "execution_count": null,
   "metadata": {},
   "outputs": [],
   "source": [
    "# Localplayerguids of users who answered the questionnaire (see below).\n",
    "# French\n",
    "#localplayerguid = 'a4d4b030-9117-4331-ba48-90dc05a7e65a'\n",
    "#localplayerguid = 'd6826fd9-a6fc-4046-b974-68e50576183f'\n",
    "#localplayerguid = 'deb089c0-9be3-4b75-9b27-28963c77b10c'\n",
    "#localplayerguid = '75e264d6-af94-4975-bb18-50cac09894c4'\n",
    "#localplayerguid = '3d733347-0313-441a-b77c-3e4046042a53'\n",
    "# English\n",
    "localplayerguid = '8d352896-a3f1-471c-8439-0f426df901c1'\n",
    "#localplayerguid = '7037c5b2-c286-498e-9784-9a061c778609'\n",
    "#localplayerguid = '5c4939b5-425b-4d19-b5d2-0384a515539e'\n",
    "#localplayerguid = '7825d421-d668-4481-898a-46b51efe40f0'\n",
    "#localplayerguid = 'acb9c989-b4a6-4c4d-81cc-6b5783ec71d8'\n",
    "#localplayerguid = devPCID5"
   ]
  },
  {
   "cell_type": "markdown",
   "metadata": {},
   "source": [
    "## 'Google form analysis' functions checks\n",
    "<a id=funcchecks />"
   ]
  },
  {
   "cell_type": "markdown",
   "metadata": {},
   "source": [
    "### copy-paste for unit tests\n",
    "\n",
    "(userIDThatDidNotAnswer)\n",
    "(userID1AnswerEN)\n",
    "(userIDAnswersEN)\n",
    "(userID1ScoreEN)\n",
    "(userIDScoresEN)\n",
    "(userID1AnswerFR)\n",
    "(userIDAnswersFR)\n",
    "(userID1ScoreFR)\n",
    "(userIDScoresFR)\n",
    "(userIDAnswersENFR)"
   ]
  },
  {
   "cell_type": "markdown",
   "metadata": {},
   "source": [
    "#### getAllResponders"
   ]
  },
  {
   "cell_type": "code",
   "execution_count": null,
   "metadata": {},
   "outputs": [],
   "source": [
    "len(getAllResponders())"
   ]
  },
  {
   "cell_type": "markdown",
   "metadata": {},
   "source": [
    "#### hasAnswered"
   ]
  },
  {
   "cell_type": "code",
   "execution_count": null,
   "metadata": {},
   "outputs": [],
   "source": [
    "assert(not hasAnswered( userIDThatDidNotAnswer )), \"User has NOT answered\""
   ]
  },
  {
   "cell_type": "code",
   "execution_count": null,
   "metadata": {},
   "outputs": [],
   "source": [
    "assert(hasAnswered( userID1AnswerEN )), \"User HAS answered\""
   ]
  },
  {
   "cell_type": "code",
   "execution_count": null,
   "metadata": {},
   "outputs": [],
   "source": [
    "assert(hasAnswered( userIDAnswersEN )), \"User HAS answered\""
   ]
  },
  {
   "cell_type": "code",
   "execution_count": null,
   "metadata": {},
   "outputs": [],
   "source": [
    "assert(hasAnswered( userID1AnswerFR )), \"User HAS answered\""
   ]
  },
  {
   "cell_type": "code",
   "execution_count": null,
   "metadata": {},
   "outputs": [],
   "source": [
    "assert(hasAnswered( userIDAnswersFR )), \"User HAS answered\""
   ]
  },
  {
   "cell_type": "code",
   "execution_count": null,
   "metadata": {},
   "outputs": [],
   "source": [
    "assert(hasAnswered( userIDAnswersENFR )), \"User HAS answered\""
   ]
  },
  {
   "cell_type": "markdown",
   "metadata": {},
   "source": [
    "#### getAnswers"
   ]
  },
  {
   "cell_type": "code",
   "execution_count": null,
   "metadata": {
    "scrolled": true
   },
   "outputs": [],
   "source": [
    "assert (len(getAnswers( userIDThatDidNotAnswer ).columns) == 0),\"Too many answers\""
   ]
  },
  {
   "cell_type": "code",
   "execution_count": null,
   "metadata": {},
   "outputs": [],
   "source": [
    "assert (len(getAnswers( userID1AnswerEN ).columns) == 1),\"Too many answers\""
   ]
  },
  {
   "cell_type": "code",
   "execution_count": null,
   "metadata": {},
   "outputs": [],
   "source": [
    "assert (len(getAnswers( userIDAnswersEN ).columns) >= 2),\"Not enough answers\""
   ]
  },
  {
   "cell_type": "code",
   "execution_count": null,
   "metadata": {},
   "outputs": [],
   "source": [
    "assert (len(getAnswers( userID1AnswerFR ).columns) == 1),\"Not enough columns\""
   ]
  },
  {
   "cell_type": "code",
   "execution_count": null,
   "metadata": {},
   "outputs": [],
   "source": [
    "assert (len(getAnswers( userIDAnswersFR ).columns) >= 2),\"Not enough answers\""
   ]
  },
  {
   "cell_type": "code",
   "execution_count": null,
   "metadata": {},
   "outputs": [],
   "source": [
    "assert (len(getAnswers( userIDAnswersENFR ).columns) >= 2),\"Not enough answers\""
   ]
  },
  {
   "cell_type": "markdown",
   "metadata": {},
   "source": [
    "#### getCorrections"
   ]
  },
  {
   "cell_type": "code",
   "execution_count": null,
   "metadata": {},
   "outputs": [],
   "source": [
    "assert (len(getCorrections( userIDThatDidNotAnswer ).columns) == 0),\"Too many answers\""
   ]
  },
  {
   "cell_type": "code",
   "execution_count": null,
   "metadata": {},
   "outputs": [],
   "source": [
    "assert (len(getCorrections( userID1AnswerEN ).columns) == 2),\"Too many answers\""
   ]
  },
  {
   "cell_type": "code",
   "execution_count": null,
   "metadata": {},
   "outputs": [],
   "source": [
    "assert (len(getCorrections( userIDAnswersEN ).columns) >= 4),\"Not enough answers\""
   ]
  },
  {
   "cell_type": "code",
   "execution_count": null,
   "metadata": {},
   "outputs": [],
   "source": [
    "assert (len(getCorrections( userID1AnswerFR ).columns) == 2),\"Too many answers\""
   ]
  },
  {
   "cell_type": "code",
   "execution_count": null,
   "metadata": {},
   "outputs": [],
   "source": [
    "assert (len(getCorrections( userIDAnswersFR ).columns) >= 4),\"Not enough answers\""
   ]
  },
  {
   "cell_type": "code",
   "execution_count": null,
   "metadata": {},
   "outputs": [],
   "source": [
    "assert (len(getCorrections( userIDAnswersENFR ).columns) >= 4),\"Not enough answers\""
   ]
  },
  {
   "cell_type": "markdown",
   "metadata": {},
   "source": [
    "#### getScore"
   ]
  },
  {
   "cell_type": "code",
   "execution_count": null,
   "metadata": {},
   "outputs": [],
   "source": []
  },
  {
   "cell_type": "code",
   "execution_count": null,
   "metadata": {
    "scrolled": true
   },
   "outputs": [],
   "source": [
    "assert (len(pd.DataFrame(getScore( userIDThatDidNotAnswer ).values.flatten().tolist()).values.flatten().tolist()) == 0),\"Too many answers\""
   ]
  },
  {
   "cell_type": "code",
   "execution_count": null,
   "metadata": {},
   "outputs": [],
   "source": [
    "score = getScore( userID1AnswerEN )\n",
    "#print(score)\n",
    "assert (\n",
    "    (len(score.values.flatten()) == 3)\n",
    "    and\n",
    "    score['before'][0][0] == 23\n",
    "),\"Incorrect score\""
   ]
  },
  {
   "cell_type": "code",
   "execution_count": null,
   "metadata": {},
   "outputs": [],
   "source": [
    "score = getScore( userIDAnswersEN )\n",
    "#print(score)\n",
    "assert (\n",
    "    (len(score.values.flatten()) == 3)\n",
    "    and\n",
    "    score['before'][0][0] == 5\n",
    "    and\n",
    "    score['after'][0][0] == 25\n",
    "),\"Incorrect score\""
   ]
  },
  {
   "cell_type": "code",
   "execution_count": null,
   "metadata": {},
   "outputs": [],
   "source": [
    "score = getScore( userID1AnswerFR )\n",
    "#print(score)\n",
    "assert (\n",
    "    (len(score.values.flatten()) == 3)\n",
    "    and\n",
    "    score['before'][0][0] == 23\n",
    "),\"Incorrect score\""
   ]
  },
  {
   "cell_type": "code",
   "execution_count": null,
   "metadata": {},
   "outputs": [],
   "source": [
    "score = getScore( userIDAnswersFR )\n",
    "#print(score)\n",
    "assert (\n",
    "    (len(score.values.flatten()) == 3)\n",
    "    and\n",
    "    score['before'][0][0] == 15\n",
    "    and\n",
    "    score['after'][0][0] == 26\n",
    "),\"Incorrect score\""
   ]
  },
  {
   "cell_type": "code",
   "execution_count": null,
   "metadata": {},
   "outputs": [],
   "source": [
    "score = getScore( userIDAnswersENFR )\n",
    "#print(score)\n",
    "assert (\n",
    "    (len(score.values.flatten()) == 3)\n",
    "    and\n",
    "    score['before'][0][0] == 4\n",
    "    and\n",
    "    score['after'][0][0] == 13\n",
    "),\"Incorrect score\""
   ]
  },
  {
   "cell_type": "markdown",
   "metadata": {},
   "source": [
    "#### getValidatedCheckpoints"
   ]
  },
  {
   "cell_type": "code",
   "execution_count": null,
   "metadata": {},
   "outputs": [],
   "source": [
    "objective = 0\n",
    "assert (len(getValidatedCheckpoints( userIDThatDidNotAnswer )) == objective),\"Incorrect number of answers\""
   ]
  },
  {
   "cell_type": "code",
   "execution_count": null,
   "metadata": {},
   "outputs": [],
   "source": [
    "objective = 1\n",
    "assert (len(getValidatedCheckpoints( userID1AnswerEN )) == objective),\"Incorrect number of answers\""
   ]
  },
  {
   "cell_type": "code",
   "execution_count": null,
   "metadata": {},
   "outputs": [],
   "source": [
    "assert (getValidatedCheckpoints( userID1AnswerEN )[0].equals(validableCheckpoints)) \\\n",
    "    , \"User has validated everything\""
   ]
  },
  {
   "cell_type": "code",
   "execution_count": null,
   "metadata": {},
   "outputs": [],
   "source": [
    "objective = 2\n",
    "assert (len(getValidatedCheckpoints( userIDAnswersEN )) == objective),\"Incorrect number of answers\""
   ]
  },
  {
   "cell_type": "code",
   "execution_count": null,
   "metadata": {},
   "outputs": [],
   "source": [
    "objective = 3\n",
    "assert (len(getValidatedCheckpoints( userIDAnswersEN )[0]) == objective) \\\n",
    "    , \"User has validated \" + objective + \" chapters on first try\""
   ]
  },
  {
   "cell_type": "code",
   "execution_count": null,
   "metadata": {},
   "outputs": [],
   "source": [
    "objective = 1\n",
    "assert (len(getValidatedCheckpoints( userID1AnswerFR )) == objective),\"Incorrect number of answers\""
   ]
  },
  {
   "cell_type": "code",
   "execution_count": null,
   "metadata": {},
   "outputs": [],
   "source": [
    "assert (getValidatedCheckpoints( userID1AnswerFR )[0].equals(validableCheckpoints)) \\\n",
    "    , \"User has validated everything\""
   ]
  },
  {
   "cell_type": "code",
   "execution_count": null,
   "metadata": {},
   "outputs": [],
   "source": [
    "objective = 2\n",
    "assert (len(getValidatedCheckpoints( userIDAnswersFR )) == objective),\"Incorrect number of answers\""
   ]
  },
  {
   "cell_type": "code",
   "execution_count": null,
   "metadata": {},
   "outputs": [],
   "source": [
    "objective = 5\n",
    "assert (len(getValidatedCheckpoints( userIDAnswersFR )[1]) == objective) \\\n",
    "    , \"User has validated \" + objective + \" chapters on second try\""
   ]
  },
  {
   "cell_type": "code",
   "execution_count": null,
   "metadata": {},
   "outputs": [],
   "source": [
    "objective = 2\n",
    "assert (len(getValidatedCheckpoints( userIDAnswersENFR )) == objective),\"Incorrect number of answers\""
   ]
  },
  {
   "cell_type": "code",
   "execution_count": null,
   "metadata": {},
   "outputs": [],
   "source": [
    "objective = 5\n",
    "assert (len(getValidatedCheckpoints( userIDAnswersENFR )[1]) == objective) \\\n",
    "    , \"User has validated \" + objective + \" chapters on second try\""
   ]
  },
  {
   "cell_type": "markdown",
   "metadata": {},
   "source": [
    "#### getNonValidated"
   ]
  },
  {
   "cell_type": "code",
   "execution_count": null,
   "metadata": {},
   "outputs": [],
   "source": [
    "getValidatedCheckpoints( userIDThatDidNotAnswer )"
   ]
  },
  {
   "cell_type": "code",
   "execution_count": null,
   "metadata": {},
   "outputs": [],
   "source": [
    "pd.Series(getValidatedCheckpoints( userIDThatDidNotAnswer ))"
   ]
  },
  {
   "cell_type": "code",
   "execution_count": null,
   "metadata": {},
   "outputs": [],
   "source": [
    "type(getNonValidated(pd.Series(getValidatedCheckpoints( userIDThatDidNotAnswer ))))"
   ]
  },
  {
   "cell_type": "code",
   "execution_count": null,
   "metadata": {},
   "outputs": [],
   "source": [
    "validableCheckpoints"
   ]
  },
  {
   "cell_type": "code",
   "execution_count": null,
   "metadata": {},
   "outputs": [],
   "source": [
    "assert(getNonValidated(getValidatedCheckpoints( userIDThatDidNotAnswer ))).equals(validableCheckpoints), \\\n",
    "\"incorrect validated checkpoints: should contain all checkpoints that can be validated\""
   ]
  },
  {
   "cell_type": "code",
   "execution_count": null,
   "metadata": {},
   "outputs": [],
   "source": [
    "testSeries = pd.Series( \n",
    "    [\n",
    "            '', # 7\n",
    "            '', # 8\n",
    "            '', # 9\n",
    "            '', # 10\n",
    "\n",
    "            'tutorial1.Checkpoint00', # 11\n",
    "            'tutorial1.Checkpoint00', # 12\n",
    "            'tutorial1.Checkpoint00', # 13\n",
    "            'tutorial1.Checkpoint00', # 14\n",
    "            'tutorial1.Checkpoint02', # 15\n",
    "            'tutorial1.Checkpoint01', # 16\n",
    "            'tutorial1.Checkpoint05'\n",
    "        ]\n",
    "    )\n",
    "assert(getNonValidated(pd.Series([testSeries]))[0][0] == 'tutorial1.Checkpoint13'), \"Incorrect non validated checkpoint\""
   ]
  },
  {
   "cell_type": "markdown",
   "metadata": {},
   "source": [
    "#### getNonValidatedCheckpoints"
   ]
  },
  {
   "cell_type": "code",
   "execution_count": null,
   "metadata": {},
   "outputs": [],
   "source": [
    "getNonValidatedCheckpoints( userIDThatDidNotAnswer )"
   ]
  },
  {
   "cell_type": "code",
   "execution_count": null,
   "metadata": {},
   "outputs": [],
   "source": [
    "getNonValidatedCheckpoints( userID1AnswerEN )"
   ]
  },
  {
   "cell_type": "code",
   "execution_count": null,
   "metadata": {},
   "outputs": [],
   "source": [
    "getNonValidatedCheckpoints( userIDAnswersEN )"
   ]
  },
  {
   "cell_type": "code",
   "execution_count": null,
   "metadata": {},
   "outputs": [],
   "source": [
    "getNonValidatedCheckpoints( userID1AnswerFR )"
   ]
  },
  {
   "cell_type": "code",
   "execution_count": null,
   "metadata": {},
   "outputs": [],
   "source": [
    "getNonValidatedCheckpoints( userIDAnswersFR )"
   ]
  },
  {
   "cell_type": "code",
   "execution_count": null,
   "metadata": {},
   "outputs": [],
   "source": [
    "getNonValidatedCheckpoints( userIDAnswersENFR )"
   ]
  },
  {
   "cell_type": "markdown",
   "metadata": {},
   "source": [
    "#### getValidatedCheckpointsCounts"
   ]
  },
  {
   "cell_type": "code",
   "execution_count": null,
   "metadata": {},
   "outputs": [],
   "source": [
    "getValidatedCheckpointsCounts(userIDThatDidNotAnswer)\n",
    "getValidatedCheckpointsCounts(userID1AnswerEN)\n",
    "getValidatedCheckpointsCounts(userIDAnswersEN)\n",
    "getValidatedCheckpointsCounts(userID1ScoreEN)\n",
    "getValidatedCheckpointsCounts(userIDScoresEN)\n",
    "getValidatedCheckpointsCounts(userID1AnswerFR)\n",
    "getValidatedCheckpointsCounts(userIDAnswersFR)\n",
    "getValidatedCheckpointsCounts(userID1ScoreFR)\n",
    "getValidatedCheckpointsCounts(userIDScoresFR)\n",
    "getValidatedCheckpointsCounts(userIDAnswersENFR)"
   ]
  },
  {
   "cell_type": "markdown",
   "metadata": {},
   "source": [
    "#### getNonValidatedCheckpointsCounts"
   ]
  },
  {
   "cell_type": "code",
   "execution_count": null,
   "metadata": {},
   "outputs": [],
   "source": [
    "getNonValidatedCheckpointsCounts(userIDThatDidNotAnswer)\n",
    "getNonValidatedCheckpointsCounts(userID1AnswerEN)\n",
    "getNonValidatedCheckpointsCounts(userIDAnswersEN)\n",
    "getNonValidatedCheckpointsCounts(userID1ScoreEN)\n",
    "getNonValidatedCheckpointsCounts(userIDScoresEN)\n",
    "getNonValidatedCheckpointsCounts(userID1AnswerFR)\n",
    "getNonValidatedCheckpointsCounts(userIDAnswersFR)\n",
    "getNonValidatedCheckpointsCounts(userID1ScoreFR)\n",
    "getNonValidatedCheckpointsCounts(userIDScoresFR)\n",
    "getNonValidatedCheckpointsCounts(userIDAnswersENFR)"
   ]
  },
  {
   "cell_type": "markdown",
   "metadata": {},
   "source": [
    "#### getAllAnswerRows"
   ]
  },
  {
   "cell_type": "code",
   "execution_count": null,
   "metadata": {},
   "outputs": [],
   "source": [
    "aYes = [\"Yes\", \"Oui\"]\n",
    "aNo = [\"No\", \"Non\"]\n",
    "aNoIDK = [\"No\", \"Non\", \"I don't know\", \"Je ne sais pas\"]\n",
    "\n",
    "# How long have you studied biology?\n",
    "qBiologyEducationLevelIndex = 5\n",
    "aBiologyEducationLevelHigh = [\"Until bachelor's degree\", \"Jusqu'à la license\"]\n",
    "aBiologyEducationLevelLow = ['Until the end of high school', 'Until the end of middle school', 'Not even in middle school'\\\n",
    "                                               \"Jusqu'au bac\", \"Jusqu'au brevet\", 'Jamais']\n",
    "# Have you ever heard about BioBricks?\n",
    "qHeardBioBricksIndex = 8\n",
    "# Have you played the current version of Hero.Coli?\n",
    "qPlayedHerocoliIndex = 10\n",
    "qPlayedHerocoliYes = ['Yes', 'Once', 'Multiple times', 'Oui',\n",
    "       'De nombreuses fois', 'Quelques fois', 'Une fois']\n",
    "qPlayedHerocoliNo = ['No', 'Non',]"
   ]
  },
  {
   "cell_type": "code",
   "execution_count": null,
   "metadata": {},
   "outputs": [],
   "source": [
    "gform['How long have you studied biology?'].unique()"
   ]
  },
  {
   "cell_type": "code",
   "execution_count": null,
   "metadata": {},
   "outputs": [],
   "source": [
    "gform['Before playing Hero.Coli, had you ever heard about BioBricks?'].unique()"
   ]
  },
  {
   "cell_type": "code",
   "execution_count": null,
   "metadata": {},
   "outputs": [],
   "source": [
    "gform['Have you played the current version of Hero.Coli?'].unique()"
   ]
  },
  {
   "cell_type": "code",
   "execution_count": null,
   "metadata": {},
   "outputs": [],
   "source": [
    "getAllAnswerRows(qBiologyEducationLevelIndex, aBiologyEducationLevelHigh)"
   ]
  },
  {
   "cell_type": "code",
   "execution_count": null,
   "metadata": {},
   "outputs": [],
   "source": [
    "assert(len(getAllAnswerRows(qBiologyEducationLevelIndex, aBiologyEducationLevelHigh)) != 0)"
   ]
  },
  {
   "cell_type": "code",
   "execution_count": null,
   "metadata": {},
   "outputs": [],
   "source": [
    "assert(len(getAllAnswerRows(qBiologyEducationLevelIndex, aBiologyEducationLevelLow)) != 0)"
   ]
  },
  {
   "cell_type": "code",
   "execution_count": null,
   "metadata": {},
   "outputs": [],
   "source": [
    "assert(len(getAllAnswerRows(qHeardBioBricksIndex, aYes)) != 0)"
   ]
  },
  {
   "cell_type": "code",
   "execution_count": null,
   "metadata": {},
   "outputs": [],
   "source": [
    "assert(len(getAllAnswerRows(qHeardBioBricksIndex, aNoIDK)) != 0)"
   ]
  },
  {
   "cell_type": "code",
   "execution_count": null,
   "metadata": {},
   "outputs": [],
   "source": [
    "assert(len(getAllAnswerRows(qPlayedHerocoliIndex, qPlayedHerocoliYes)) != 0)"
   ]
  },
  {
   "cell_type": "code",
   "execution_count": null,
   "metadata": {},
   "outputs": [],
   "source": [
    "assert(len(getAllAnswerRows(qPlayedHerocoliIndex, qPlayedHerocoliNo)) != 0)"
   ]
  },
  {
   "cell_type": "markdown",
   "metadata": {},
   "source": [
    "#### getPercentCorrectPerColumn\n",
    "tested through getPercentCorrectKnowingAnswer"
   ]
  },
  {
   "cell_type": "markdown",
   "metadata": {},
   "source": [
    "#### getPercentCorrectKnowingAnswer"
   ]
  },
  {
   "cell_type": "code",
   "execution_count": null,
   "metadata": {},
   "outputs": [],
   "source": [
    "_form.iloc[:, questionIndex]"
   ]
  },
  {
   "cell_type": "code",
   "execution_count": null,
   "metadata": {},
   "outputs": [],
   "source": [
    "(qBiologyEducationLevelIndex, aBiologyEducationLevelHigh)"
   ]
  },
  {
   "cell_type": "code",
   "execution_count": null,
   "metadata": {},
   "outputs": [],
   "source": [
    "getAllAnswerRows(qBiologyEducationLevelIndex, aBiologyEducationLevelHigh)"
   ]
  },
  {
   "cell_type": "code",
   "execution_count": null,
   "metadata": {},
   "outputs": [],
   "source": [
    "getPercentCorrectKnowingAnswer(qBiologyEducationLevelIndex, aBiologyEducationLevelHigh)"
   ]
  },
  {
   "cell_type": "code",
   "execution_count": null,
   "metadata": {},
   "outputs": [],
   "source": [
    "getPercentCorrectKnowingAnswer(qBiologyEducationLevelIndex, aBiologyEducationLevelLow)"
   ]
  },
  {
   "cell_type": "code",
   "execution_count": null,
   "metadata": {},
   "outputs": [],
   "source": [
    "getPercentCorrectKnowingAnswer(qHeardBioBricksIndex, aYes)"
   ]
  },
  {
   "cell_type": "code",
   "execution_count": null,
   "metadata": {},
   "outputs": [],
   "source": [
    "getPercentCorrectKnowingAnswer(qHeardBioBricksIndex, aNoIDK)"
   ]
  },
  {
   "cell_type": "code",
   "execution_count": null,
   "metadata": {},
   "outputs": [],
   "source": [
    "playedHerocoliIndexYes = getPercentCorrectKnowingAnswer(qPlayedHerocoliIndex, qPlayedHerocoliYes)\n",
    "playedHerocoliIndexYes"
   ]
  },
  {
   "cell_type": "code",
   "execution_count": null,
   "metadata": {},
   "outputs": [],
   "source": [
    "playedHerocoliIndexNo = getPercentCorrectKnowingAnswer(qPlayedHerocoliIndex, qPlayedHerocoliNo)\n",
    "playedHerocoliIndexNo"
   ]
  },
  {
   "cell_type": "code",
   "execution_count": null,
   "metadata": {},
   "outputs": [],
   "source": [
    "playedHerocoliIndexYes - playedHerocoliIndexNo"
   ]
  },
  {
   "cell_type": "code",
   "execution_count": null,
   "metadata": {},
   "outputs": [],
   "source": [
    "(playedHerocoliIndexYes - playedHerocoliIndexNo) / (1 - playedHerocoliIndexNo)"
   ]
  },
  {
   "cell_type": "markdown",
   "metadata": {},
   "source": [
    "## Google form loading\n",
    "<a id=gformload />"
   ]
  },
  {
   "cell_type": "code",
   "execution_count": null,
   "metadata": {},
   "outputs": [],
   "source": [
    "#gform = gformEN"
   ]
  },
  {
   "cell_type": "code",
   "execution_count": null,
   "metadata": {},
   "outputs": [],
   "source": [
    "transposed = gform.T\n",
    "#answers = transposed[transposed[]]\n",
    "transposed"
   ]
  },
  {
   "cell_type": "code",
   "execution_count": null,
   "metadata": {},
   "outputs": [],
   "source": [
    "type(gform)"
   ]
  },
  {
   "cell_type": "markdown",
   "metadata": {},
   "source": [
    "### Selection of a question\n",
    "<a id=selquest />"
   ]
  },
  {
   "cell_type": "code",
   "execution_count": null,
   "metadata": {},
   "outputs": [],
   "source": [
    "gform.columns"
   ]
  },
  {
   "cell_type": "code",
   "execution_count": null,
   "metadata": {},
   "outputs": [],
   "source": [
    "gform.columns.get_loc('Do not edit -  pre-filled anonymous ID')"
   ]
  },
  {
   "cell_type": "code",
   "execution_count": null,
   "metadata": {},
   "outputs": [],
   "source": [
    "localplayerguidkey"
   ]
  },
  {
   "cell_type": "code",
   "execution_count": null,
   "metadata": {},
   "outputs": [],
   "source": [
    "# Using the whole question:\n",
    "gform[localplayerguidkey]"
   ]
  },
  {
   "cell_type": "code",
   "execution_count": null,
   "metadata": {},
   "outputs": [],
   "source": [
    "# Get index from question\n",
    "localplayerguidindex"
   ]
  },
  {
   "cell_type": "code",
   "execution_count": null,
   "metadata": {},
   "outputs": [],
   "source": [
    "# Using the index of the question:\n",
    "gform.iloc[:, localplayerguidindex]"
   ]
  },
  {
   "cell_type": "markdown",
   "metadata": {},
   "source": [
    "### Selection of a user's answers\n",
    "<a id=selusans />"
   ]
  },
  {
   "cell_type": "markdown",
   "metadata": {},
   "source": [
    "    userIDThatDidNotAnswer\n",
    "    userID1AnswerEN\n",
    "    userIDAnswersEN\n",
    "    userID1AnswerFR\n",
    "    userIDAnswersFR\n",
    "    userIDAnswersENFR"
   ]
  },
  {
   "cell_type": "markdown",
   "metadata": {},
   "source": [
    "#### getUniqueUserCount tinkering"
   ]
  },
  {
   "cell_type": "code",
   "execution_count": null,
   "metadata": {},
   "outputs": [],
   "source": [
    "sample = gform\n",
    "\n",
    "#def getUniqueUserCount(sample):\n",
    "sample[localplayerguidkey].nunique()"
   ]
  },
  {
   "cell_type": "markdown",
   "metadata": {},
   "source": [
    "#### getAllRespondersGFormGUID tinkering"
   ]
  },
  {
   "cell_type": "code",
   "execution_count": null,
   "metadata": {},
   "outputs": [],
   "source": [
    "userIds = gform[localplayerguidkey].unique()\n",
    "len(userIds)"
   ]
  },
  {
   "cell_type": "markdown",
   "metadata": {},
   "source": [
    "#### getRandomGFormGUID tinkering"
   ]
  },
  {
   "cell_type": "code",
   "execution_count": null,
   "metadata": {},
   "outputs": [],
   "source": [
    "allResponders = getAllResponders()\n",
    "uniqueUsers = np.unique(allResponders)\n",
    "print(len(allResponders))\n",
    "print(len(uniqueUsers))\n",
    "for guid in uniqueUsers:\n",
    "    if(not isRedMetricsGUIDFormat(guid)):\n",
    "        print('incorrect guid: ' + str(guid))"
   ]
  },
  {
   "cell_type": "code",
   "execution_count": null,
   "metadata": {},
   "outputs": [],
   "source": [
    "uniqueUsers = getAllRespondersGFormGUID()\n",
    "userCount = len(uniqueUsers)\n",
    "guid = '0'\n",
    "while (not isGFormGUIDFormat(guid)):\n",
    "    userIndex = randint(0,userCount-1)\n",
    "    guid = uniqueUsers[userIndex]\n",
    "guid"
   ]
  },
  {
   "cell_type": "markdown",
   "metadata": {},
   "source": [
    "#### getAnswers tinkering"
   ]
  },
  {
   "cell_type": "code",
   "execution_count": null,
   "metadata": {},
   "outputs": [],
   "source": [
    "#userId = userIDThatDidNotAnswer\n",
    "#userId = userID1AnswerEN\n",
    "userId = userIDAnswersEN\n",
    "\n",
    "_form = gform\n",
    "\n",
    "#def getAnswers( userId, _form = gform ):\n",
    "answers = _form[_form[localplayerguidkey]==userId]\n",
    "_columnAnswers = answers.T\n",
    "\n",
    "if 0 != len(answers):\n",
    "    _newColumns = []\n",
    "    for column in _columnAnswers.columns:\n",
    "        _newColumns.append(answersColumnNameStem + str(column))\n",
    "    _columnAnswers.columns = _newColumns\n",
    "else:\n",
    "    # user has never answered\n",
    "    print(\"user \" + str(userId) + \" has never answered\")\n",
    "\n",
    "_columnAnswers"
   ]
  },
  {
   "cell_type": "markdown",
   "metadata": {},
   "source": [
    "#### answer selection"
   ]
  },
  {
   "cell_type": "code",
   "execution_count": null,
   "metadata": {},
   "outputs": [],
   "source": [
    "answers"
   ]
  },
  {
   "cell_type": "code",
   "execution_count": null,
   "metadata": {},
   "outputs": [],
   "source": [
    "# Selection of a specific answer\n",
    "answers.iloc[:,localplayerguidindex]"
   ]
  },
  {
   "cell_type": "code",
   "execution_count": null,
   "metadata": {},
   "outputs": [],
   "source": [
    "answers.iloc[:,localplayerguidindex].iloc[0]"
   ]
  },
  {
   "cell_type": "code",
   "execution_count": null,
   "metadata": {},
   "outputs": [],
   "source": [
    "type(answers.iloc[0,:])"
   ]
  },
  {
   "cell_type": "code",
   "execution_count": null,
   "metadata": {
    "scrolled": true
   },
   "outputs": [],
   "source": [
    "answers.iloc[0,:].values"
   ]
  },
  {
   "cell_type": "markdown",
   "metadata": {},
   "source": [
    "## checking answers\n",
    "<a id=checkans />"
   ]
  },
  {
   "cell_type": "code",
   "execution_count": null,
   "metadata": {},
   "outputs": [],
   "source": [
    "#### Question that has a correct answer:"
   ]
  },
  {
   "cell_type": "code",
   "execution_count": null,
   "metadata": {},
   "outputs": [],
   "source": [
    "questionIndex = 15"
   ]
  },
  {
   "cell_type": "code",
   "execution_count": null,
   "metadata": {},
   "outputs": [],
   "source": [
    "answers.iloc[:,questionIndex].iloc[0]"
   ]
  },
  {
   "cell_type": "code",
   "execution_count": null,
   "metadata": {},
   "outputs": [],
   "source": [
    "correctAnswers.iloc[questionIndex][0]"
   ]
  },
  {
   "cell_type": "code",
   "execution_count": null,
   "metadata": {},
   "outputs": [],
   "source": [
    "answers.iloc[:,questionIndex].iloc[0].startswith(correctAnswers.iloc[questionIndex][0])"
   ]
  },
  {
   "cell_type": "code",
   "execution_count": null,
   "metadata": {},
   "outputs": [],
   "source": [
    "#### Question that has no correct answer:"
   ]
  },
  {
   "cell_type": "code",
   "execution_count": null,
   "metadata": {},
   "outputs": [],
   "source": [
    "questionIndex = 0\n",
    "#answers.iloc[:,questionIndex].iloc[0].startswith(correctAnswers.iloc[questionIndex].iloc[0])"
   ]
  },
  {
   "cell_type": "code",
   "execution_count": null,
   "metadata": {},
   "outputs": [],
   "source": [
    "#### Batch check:"
   ]
  },
  {
   "cell_type": "code",
   "execution_count": null,
   "metadata": {},
   "outputs": [],
   "source": [
    "columnAnswers.values[2,0]"
   ]
  },
  {
   "cell_type": "code",
   "execution_count": null,
   "metadata": {},
   "outputs": [],
   "source": [
    "columnAnswers[columnAnswers.columns[0]][2]"
   ]
  },
  {
   "cell_type": "code",
   "execution_count": null,
   "metadata": {},
   "outputs": [],
   "source": [
    "correctAnswers"
   ]
  },
  {
   "cell_type": "code",
   "execution_count": null,
   "metadata": {},
   "outputs": [],
   "source": [
    "type(columnAnswers)"
   ]
  },
  {
   "cell_type": "code",
   "execution_count": null,
   "metadata": {
    "scrolled": true
   },
   "outputs": [],
   "source": [
    "indexOfFirstEvaluationQuestion = 13\n",
    "columnAnswers.index[indexOfFirstEvaluationQuestion]"
   ]
  },
  {
   "cell_type": "markdown",
   "metadata": {},
   "source": [
    "#### getTemporality tinkering"
   ]
  },
  {
   "cell_type": "code",
   "execution_count": null,
   "metadata": {},
   "outputs": [],
   "source": [
    "gform.tail(50)"
   ]
  },
  {
   "cell_type": "code",
   "execution_count": null,
   "metadata": {},
   "outputs": [],
   "source": [
    "gform[gform[localplayerguidkey] == 'ba202bbc-af77-42e8-85ff-e25b871717d5']"
   ]
  },
  {
   "cell_type": "markdown",
   "metadata": {},
   "source": [
    "#### setAnswerTemporalities tinkering"
   ]
  },
  {
   "cell_type": "code",
   "execution_count": null,
   "metadata": {},
   "outputs": [],
   "source": [
    "_gformDF = pd.read_csv(gformPath + dataFilesNamesStem + genericFormName + enSuffix + csvSuffix)\n",
    "_gformDF['Temporality'] = pd.Series(answerTemporalities[2], index=_gformDF.index)\n",
    "\n",
    "#def setAnswerTemporalities( _gformDF ):\n",
    "# check whether temporalities have already been set\n",
    "if(len(_gformDF['Temporality'].unique()) > 1):\n",
    "    print(\"temporalities already set\")\n",
    "\n",
    "# set all timestamps\n",
    "_gformDF['Timestamp'] = _gformDF['Timestamp'].map(lambda x: getTimestampFromGFormString(x))\n",
    "\n",
    "    # format : key = _userId, value = [_firstEventDate, 0 or _gformDF.index of before, 0 or _gformDF.index of after]\n",
    "temporalities = {}\n",
    "\n",
    "for _index in _gformDF.index:\n",
    "    _userId = _gformDF.loc[_index,localplayerguidkey]\n",
    "    _firstEventDate, beforeIndex, afterIndex = [0,0,0]\n",
    "\n",
    "    if _userId in temporalities:\n",
    "        _firstEventDate, beforeIndex, afterIndex = temporalities[_userId]\n",
    "    else:\n",
    "        _firstEventDate = getFirstEventDate(getRedMetricsGUIDFormat(_userId))\n",
    "\n",
    "    temporality = getTemporality(_gformDF.loc[_index,'Timestamp'],_firstEventDate)\n",
    "\n",
    "    if temporality == answerTemporalities[0] and beforeIndex != 0 :\n",
    "        if _gformDF.loc[_index,'Timestamp'] > _gformDF.loc[beforeIndex,'Timestamp']:\n",
    "            _gformDF.loc[beforeIndex,'Temporality'] = answerTemporalities[2]\n",
    "        else:\n",
    "            temporality = answerTemporalities[2]\n",
    "    elif temporality == answerTemporalities[1] and afterIndex != 0 :\n",
    "        if _gformDF.loc[_index,'Timestamp'] < _gformDF.loc[afterIndex,'Timestamp']:\n",
    "            _gformDF.loc[afterIndex,'Temporality'] = answerTemporalities[2]\n",
    "        else:\n",
    "            temporality = answerTemporalities[2]\n",
    "\n",
    "    _gformDF.loc[_index,'Temporality'] = temporality\n",
    "    if temporality == answerTemporalities[0]:\n",
    "        beforeIndex = _index\n",
    "    elif temporality == answerTemporalities[1]:\n",
    "        afterIndex = _index\n",
    "\n",
    "    temporalities[_userId] = [_firstEventDate, beforeIndex, afterIndex]\n",
    "    "
   ]
  },
  {
   "cell_type": "code",
   "execution_count": null,
   "metadata": {},
   "outputs": [],
   "source": [
    "_gformDF.loc[:,[localplayerguidkey,'Temporality']].groupby(localplayerguidkey).count().min(),\\\n",
    "_gformDF.loc[:,[localplayerguidkey,'Temporality']].groupby(localplayerguidkey).count().max()"
   ]
  },
  {
   "cell_type": "code",
   "execution_count": null,
   "metadata": {},
   "outputs": [],
   "source": [
    "gformRealBefore = gform.loc[88, 'Timestamp']\n",
    "gformRealBefore"
   ]
  },
  {
   "cell_type": "code",
   "execution_count": null,
   "metadata": {},
   "outputs": [],
   "source": [
    "gformRealAfter = gform.loc[107, 'Timestamp']\n",
    "gformRealAfter"
   ]
  },
  {
   "cell_type": "code",
   "execution_count": null,
   "metadata": {},
   "outputs": [],
   "source": [
    "RMRealFirstEvent = getFirstEventDate(getRedMetricsGUIDFormat(gform.loc[88,localplayerguidkey]))\n",
    "RMRealFirstEvent"
   ]
  },
  {
   "cell_type": "code",
   "execution_count": null,
   "metadata": {},
   "outputs": [],
   "source": [
    "answerDate = gformRealBefore\n",
    "gameEventDate = RMRealFirstEvent\n",
    "\n",
    "if(gameEventDate == pd.Timestamp.max.tz_localize('utc')):\n",
    "    result = answerTemporalities[2]\n",
    "\n",
    "tzAnswerDate = pd.to_datetime(answerDate.split(' GMT')[0]).tz_localize('Europe/Berlin')        \n",
    "if(tzAnswerDate <= gameEventDate):\n",
    "    result = answerTemporalities[0]\n",
    "elif (tzAnswerDate > gameEventDate):\n",
    "    result = answerTemporalities[1]\n",
    "else:\n",
    "    result = answerTemporalities[2]\n",
    "result"
   ]
  },
  {
   "cell_type": "code",
   "execution_count": null,
   "metadata": {},
   "outputs": [],
   "source": [
    "temp1 = getTemporality(gformRealBefore,RMRealFirstEvent)\n",
    "print(temp1)\n",
    "\n",
    "temp2 = getTemporality(gformRealAfter,RMRealFirstEvent)\n",
    "print(temp2)"
   ]
  },
  {
   "cell_type": "code",
   "execution_count": null,
   "metadata": {},
   "outputs": [],
   "source": [
    "type(RMRealFirstEvent)"
   ]
  },
  {
   "cell_type": "code",
   "execution_count": null,
   "metadata": {},
   "outputs": [],
   "source": [
    "pd.to_datetime(gformRealBefore).tz_localize('Europe/Berlin')"
   ]
  },
  {
   "cell_type": "code",
   "execution_count": null,
   "metadata": {},
   "outputs": [],
   "source": [
    "import pytz\n",
    "list(filter(lambda x: 'Santiago' in x, pytz.all_timezones))"
   ]
  },
  {
   "cell_type": "code",
   "execution_count": null,
   "metadata": {},
   "outputs": [],
   "source": [
    "befores = pd.DataFrame({}, index = range(0,10))"
   ]
  },
  {
   "cell_type": "code",
   "execution_count": null,
   "metadata": {},
   "outputs": [],
   "source": [
    "befores.columns"
   ]
  },
  {
   "cell_type": "code",
   "execution_count": null,
   "metadata": {},
   "outputs": [],
   "source": [
    "gformRealBefore.split(' GMT')[0]"
   ]
  },
  {
   "cell_type": "code",
   "execution_count": null,
   "metadata": {},
   "outputs": [],
   "source": [
    "gformRealBeforeSubstring = '2017/11/21 10:55:13 AM'"
   ]
  },
  {
   "cell_type": "code",
   "execution_count": null,
   "metadata": {},
   "outputs": [],
   "source": [
    "pd.to_datetime(gformRealBeforeSubstring).tz_localize('Europe/Berlin').replace(tzinfo=pytz.UTC)"
   ]
  },
  {
   "cell_type": "code",
   "execution_count": null,
   "metadata": {},
   "outputs": [],
   "source": [
    "pd.to_datetime(gformRealBeforeSubstring).tz_localize('Europe/Berlin').tz_convert('Etc/UTC')"
   ]
  },
  {
   "cell_type": "code",
   "execution_count": null,
   "metadata": {
    "scrolled": true
   },
   "outputs": [],
   "source": [
    "pd.to_datetime(gformRealBefore).tz_localize('Europe/Berlin').replace(tzinfo=pytz.UTC)"
   ]
  },
  {
   "cell_type": "code",
   "execution_count": null,
   "metadata": {},
   "outputs": [],
   "source": [
    "pd.to_datetime(gformRealBefore).tz_localize('Europe/Berlin').tz_convert('Etc/UTC')"
   ]
  },
  {
   "cell_type": "code",
   "execution_count": null,
   "metadata": {},
   "outputs": [],
   "source": [
    "print(\"before-----------------------------------------------\")\n",
    "gformRealBefore = gform.loc[88, 'Timestamp']\n",
    "befores = pd.DataFrame({}, index = range(0,14))\n",
    "print(type(gformRealBefore))\n",
    "print(gformRealBefore)\n",
    "print()\n",
    "\n",
    "# hacking does not solve the problem\n",
    "# UTC-1\n",
    "#hack = 'Atlantic/Azores'\n",
    "# UTC-2\n",
    "#hack = 'Atlantic/South_Georgia'\n",
    "# UTC-4\n",
    "hack = 'America/Santiago'\n",
    "\n",
    "# 'logical'\n",
    "befores.loc[0,0] = 0\n",
    "befores.loc[0,0] = pd.to_datetime(gformRealBefore).tz_localize('Europe/Berlin').tz_convert('Etc/UTC')\n",
    "befores.loc[1,0] = pd.Timestamp(gformRealBefore, tz='Europe/Berlin').tz_convert('Etc/UTC')\n",
    "# 'basic'\n",
    "befores.loc[2,0] = pd.to_datetime(gformRealBefore).tz_localize('Europe/Berlin')\n",
    "befores.loc[3,0] = pd.Timestamp(gformRealBefore, tz='Europe/Berlin')\n",
    "# 'logical + hack'\n",
    "befores.loc[4,0] = pd.to_datetime(gformRealBefore).tz_localize(hack).tz_convert('Etc/UTC')\n",
    "befores.loc[5,0] = pd.Timestamp(gformRealBefore, tz=hack).tz_convert('Etc/UTC')\n",
    "# 'basic + hack'\n",
    "befores.loc[6,0] = pd.to_datetime(gformRealBefore).tz_localize(hack)\n",
    "befores.loc[7,0] = pd.Timestamp(gformRealBefore, tz=hack)\n",
    "# 'random'\n",
    "befores.loc[8,0] = pd.to_datetime(gformRealBefore).tz_localize('Etc/UTC')\n",
    "befores.loc[9,0] = pd.Timestamp(gformRealBefore, tz='Etc/UTC')\n",
    "# no GMT\n",
    "befores.loc[10,0] = pd.to_datetime(gformRealBefore.split(' GMT')[0]).tz_localize('Europe/Berlin').tz_convert('Etc/UTC')\n",
    "befores.loc[11,0] = pd.Timestamp(gformRealBefore.split(' GMT')[0], tz='Europe/Berlin').tz_convert('Etc/UTC')\n",
    "# no GMT no UTC\n",
    "befores.loc[12,0] = pd.to_datetime(gformRealBefore.split(' GMT')[0]).tz_localize('Europe/Berlin')\n",
    "befores.loc[13,0] = pd.Timestamp(gformRealBefore.split(' GMT')[0], tz='Europe/Berlin')\n",
    "\n",
    "for index in befores.index:\n",
    "    print(str(index) + ': ' + str(befores.loc[index,0]))\n",
    "print()\n",
    "print()\n",
    "\n",
    "print(\"first event-----------------------------------------------\")\n",
    "RMRealFirstEvent = getFirstEventDate(getRedMetricsGUIDFormat(gform.loc[88,localplayerguidkey]))\n",
    "print(type(RMRealFirstEvent))\n",
    "print(RMRealFirstEvent)\n",
    "print()\n",
    "print()\n",
    "\n",
    "print(\"after-----------------------------------------------\")\n",
    "gformRealAfter = gform.loc[107, 'Timestamp']\n",
    "afters = pd.DataFrame({}, index = range(0,14))\n",
    "print(type(gformRealAfter))\n",
    "print(gformRealAfter)\n",
    "print()\n",
    "\n",
    "# 'logical'\n",
    "afters.loc[0,0] = 0\n",
    "afters.loc[0,0] = pd.to_datetime(gformRealAfter).tz_localize('Europe/Berlin').tz_convert('Etc/UTC')\n",
    "afters.loc[1,0] = pd.Timestamp(gformRealAfter, tz='Europe/Berlin').tz_convert('Etc/UTC')\n",
    "# 'basic'\n",
    "afters.loc[2,0] = pd.to_datetime(gformRealAfter).tz_localize('Europe/Berlin')\n",
    "afters.loc[3,0] = pd.Timestamp(gformRealAfter, tz='Europe/Berlin')\n",
    "# 'logical + hack'\n",
    "afters.loc[4,0] = pd.to_datetime(gformRealAfter).tz_localize(hack).tz_convert('Etc/UTC')\n",
    "afters.loc[5,0] = pd.Timestamp(gformRealAfter, tz=hack).tz_convert('Etc/UTC')\n",
    "# 'basic + hack'\n",
    "afters.loc[6,0] = pd.to_datetime(gformRealAfter).tz_localize(hack)\n",
    "afters.loc[7,0] = pd.Timestamp(gformRealAfter, tz=hack)\n",
    "# 'random'\n",
    "afters.loc[8,0] = pd.to_datetime(gformRealAfter).tz_localize('Etc/UTC')\n",
    "afters.loc[9,0] = pd.Timestamp(gformRealAfter, tz='Etc/UTC')\n",
    "# no GMT\n",
    "afters.loc[10,0] = pd.to_datetime(gformRealAfter.split(' GMT')[0]).tz_localize('Europe/Berlin').tz_convert('Etc/UTC')\n",
    "afters.loc[11,0] = pd.Timestamp(gformRealAfter.split(' GMT')[0], tz='Europe/Berlin').tz_convert('Etc/UTC')\n",
    "# no GMT no UTC\n",
    "afters.loc[12,0] = pd.to_datetime(gformRealAfter.split(' GMT')[0]).tz_localize('Europe/Berlin')\n",
    "afters.loc[13,0] = pd.Timestamp(gformRealAfter.split(' GMT')[0], tz='Europe/Berlin')\n",
    "\n",
    "for index in afters.index:\n",
    "    print(str(index) + ': ' + str(afters.loc[index,0]))\n",
    "    \n",
    "print()\n",
    "print()\n",
    "\n",
    "temp1 = getTemporality(gformRealBefore,RMRealFirstEvent)\n",
    "print(temp1)\n",
    "\n",
    "temp2 = getTemporality(gformRealAfter,RMRealFirstEvent)\n",
    "print(temp2)\n",
    "    \n",
    "print()\n",
    "print()\n",
    "\n",
    "for index in befores.index:\n",
    "    if(befores.loc[index,0] < RMRealFirstEvent):\n",
    "        print(\"before \" + str(index))\n",
    "    \n",
    "for index in afters.index:\n",
    "    if(afters.loc[index,0] > RMRealFirstEvent):\n",
    "        print(\"after \" + str(index))\n"
   ]
  },
  {
   "cell_type": "code",
   "execution_count": null,
   "metadata": {},
   "outputs": [],
   "source": [
    "userIndex = 88"
   ]
  },
  {
   "cell_type": "code",
   "execution_count": null,
   "metadata": {},
   "outputs": [],
   "source": [
    "answerDate = gform.loc[userIndex, 'Timestamp']\n",
    "answerDate"
   ]
  },
  {
   "cell_type": "code",
   "execution_count": null,
   "metadata": {},
   "outputs": [],
   "source": [
    "firstEventDate = getFirstEventDate(getRedMetricsGUIDFormat(gform.loc[userIndex,localplayerguidkey]))\n",
    "firstEventDate"
   ]
  },
  {
   "cell_type": "code",
   "execution_count": null,
   "metadata": {},
   "outputs": [],
   "source": [
    "gformTestBefore = '2017/11/21 09:59:52.657 AM GMT+1'\n",
    "getTemporality(gformTestBefore,firstEventDate)"
   ]
  },
  {
   "cell_type": "code",
   "execution_count": null,
   "metadata": {},
   "outputs": [],
   "source": [
    "gformTestWhile = '2017/11/21 09:59:52.658 AM GMT+1'\n",
    "getTemporality(gformTestWhile,firstEventDate)"
   ]
  },
  {
   "cell_type": "code",
   "execution_count": null,
   "metadata": {},
   "outputs": [],
   "source": [
    "gformTestAfter = '2017/11/21 09:59:52.659 AM GMT+1'\n",
    "getTemporality(gformTestAfter,firstEventDate)"
   ]
  },
  {
   "cell_type": "markdown",
   "metadata": {},
   "source": [
    "#### getCorrections tinkering"
   ]
  },
  {
   "cell_type": "code",
   "execution_count": null,
   "metadata": {},
   "outputs": [],
   "source": [
    "columnAnswers"
   ]
  },
  {
   "cell_type": "code",
   "execution_count": null,
   "metadata": {},
   "outputs": [],
   "source": [
    "#testUserId = userID1AnswerEN\n",
    "testUserId = '8d352896-a3f1-471c-8439-0f426df901c1'"
   ]
  },
  {
   "cell_type": "code",
   "execution_count": null,
   "metadata": {},
   "outputs": [],
   "source": [
    "getCorrections(testUserId)"
   ]
  },
  {
   "cell_type": "code",
   "execution_count": null,
   "metadata": {},
   "outputs": [],
   "source": [
    "testUserId = '8d352896-a3f1-471c-8439-0f426df901c1'\n",
    "source = correctAnswers\n",
    "\n",
    "#def getCorrections( _userId, _source = correctAnswers, _form = gform ):\n",
    "columnAnswers = getAnswers( testUserId )\n",
    "\n",
    "if 0 != len(columnAnswers.columns):\n",
    "\n",
    "    questionsCount = len(columnAnswers.values)\n",
    "\n",
    "    for columnName in columnAnswers.columns:\n",
    "        if answersColumnNameStem in columnName:\n",
    "            answerNumber = columnName.replace(answersColumnNameStem,\"\")\n",
    "            newCorrectionsColumnName = correctionsColumnNameStem + answerNumber\n",
    "\n",
    "            columnAnswers[newCorrectionsColumnName] = columnAnswers[columnName]\n",
    "            columnAnswers[newCorrectionsColumnName] = pd.Series(np.full(questionsCount, np.nan))\n",
    "\n",
    "            for question in columnAnswers[columnName].index:\n",
    "                #print()\n",
    "                #print(question)\n",
    "                __correctAnswers = source.loc[question]\n",
    "\n",
    "                if(len(__correctAnswers) > 0):\n",
    "                    columnAnswers.loc[question,newCorrectionsColumnName] = False\n",
    "                    for correctAnswer in __correctAnswers:\n",
    "                        #print(\"-> \" + correctAnswer)\n",
    "                        if str(columnAnswers.loc[question,columnName])\\\n",
    "                        .startswith(str(correctAnswer)):\n",
    "                            columnAnswers.loc[question,newCorrectionsColumnName] = True\n",
    "                            break\n",
    "\n",
    "\n",
    "else:\n",
    "    # user has never answered\n",
    "    print(\"can't give correct answers\")\n",
    "columnAnswers"
   ]
  },
  {
   "cell_type": "code",
   "execution_count": null,
   "metadata": {},
   "outputs": [],
   "source": [
    "question = 'How old are you?'\n",
    "columnName = ''\n",
    "for column in columnAnswers.columns:\n",
    "    if str.startswith(column, 'answers'):\n",
    "        columnName = column\n",
    "        break"
   ]
  },
  {
   "cell_type": "code",
   "execution_count": null,
   "metadata": {},
   "outputs": [],
   "source": [
    "type(columnAnswers.loc[question,columnName])"
   ]
  },
  {
   "cell_type": "code",
   "execution_count": null,
   "metadata": {},
   "outputs": [],
   "source": [
    "getCorrections(localplayerguid)"
   ]
  },
  {
   "cell_type": "code",
   "execution_count": null,
   "metadata": {},
   "outputs": [],
   "source": [
    "gform.columns[20]"
   ]
  },
  {
   "cell_type": "code",
   "execution_count": null,
   "metadata": {},
   "outputs": [],
   "source": [
    "columnAnswers.loc[gform.columns[20],columnAnswers.columns[1]]"
   ]
  },
  {
   "cell_type": "code",
   "execution_count": null,
   "metadata": {},
   "outputs": [],
   "source": [
    "columnAnswers[columnAnswers.columns[1]][gform.columns[13]]"
   ]
  },
  {
   "cell_type": "code",
   "execution_count": null,
   "metadata": {},
   "outputs": [],
   "source": [
    "columnAnswers.loc[gform.columns[13],columnAnswers.columns[1]]"
   ]
  },
  {
   "cell_type": "code",
   "execution_count": null,
   "metadata": {},
   "outputs": [],
   "source": [
    "columnAnswers.iloc[20,1]"
   ]
  },
  {
   "cell_type": "code",
   "execution_count": null,
   "metadata": {},
   "outputs": [],
   "source": [
    "questionsCount"
   ]
  },
  {
   "cell_type": "code",
   "execution_count": null,
   "metadata": {},
   "outputs": [],
   "source": [
    "np.full(3, np.nan)"
   ]
  },
  {
   "cell_type": "code",
   "execution_count": null,
   "metadata": {},
   "outputs": [],
   "source": [
    "pd.Series(np.full(questionsCount, np.nan))"
   ]
  },
  {
   "cell_type": "code",
   "execution_count": null,
   "metadata": {},
   "outputs": [],
   "source": [
    "columnAnswers.loc[question,newCorrectionsColumnName]"
   ]
  },
  {
   "cell_type": "code",
   "execution_count": null,
   "metadata": {},
   "outputs": [],
   "source": [
    "question"
   ]
  },
  {
   "cell_type": "code",
   "execution_count": null,
   "metadata": {},
   "outputs": [],
   "source": [
    "correctAnswers[question]"
   ]
  },
  {
   "cell_type": "code",
   "execution_count": null,
   "metadata": {},
   "outputs": [],
   "source": [
    "getCorrections('8d352896-a3f1-471c-8439-0f426df901c1')"
   ]
  },
  {
   "cell_type": "markdown",
   "metadata": {},
   "source": [
    "#### getCorrections extensions tinkering"
   ]
  },
  {
   "cell_type": "code",
   "execution_count": null,
   "metadata": {},
   "outputs": [],
   "source": [
    "correctAnswersEN\n",
    "#demographicAnswersEN\n",
    "type([])"
   ]
  },
  {
   "cell_type": "code",
   "execution_count": null,
   "metadata": {
    "scrolled": true
   },
   "outputs": [],
   "source": [
    "mergedCorrectAnswersEN = correctAnswersEN.copy()\n",
    "for index in mergedCorrectAnswersEN.index:\n",
    "    #print(str(mergedCorrectAnswersEN.loc[index,column]))\n",
    "    mergedCorrectAnswersEN.loc[index] =\\\n",
    "    demographicAnswersEN.loc[index] + mergedCorrectAnswersEN.loc[index]\n",
    "mergedCorrectAnswersEN"
   ]
  },
  {
   "cell_type": "code",
   "execution_count": null,
   "metadata": {
    "scrolled": true
   },
   "outputs": [],
   "source": [
    "correctAnswersEN + demographicAnswersEN"
   ]
  },
  {
   "cell_type": "code",
   "execution_count": null,
   "metadata": {},
   "outputs": [],
   "source": [
    "correctAnswers + demographicAnswers"
   ]
  },
  {
   "cell_type": "markdown",
   "metadata": {},
   "source": [
    "#### getBinarizedCorrections tinkering"
   ]
  },
  {
   "cell_type": "code",
   "execution_count": null,
   "metadata": {},
   "outputs": [],
   "source": [
    "corrections = getCorrections(userIDAnswersENFR)\n",
    "#corrections"
   ]
  },
  {
   "cell_type": "code",
   "execution_count": null,
   "metadata": {},
   "outputs": [],
   "source": [
    "for columnName in corrections.columns:\n",
    "    if correctionsColumnNameStem in columnName:\n",
    "        for index in corrections[columnName].index:\n",
    "                if(True==corrections.loc[index,columnName]):\n",
    "                    corrections.loc[index,columnName] = 1\n",
    "                elif (False==corrections.loc[index,columnName]):\n",
    "                    corrections.loc[index,columnName] = 0\n",
    "corrections"
   ]
  },
  {
   "cell_type": "code",
   "execution_count": null,
   "metadata": {},
   "outputs": [],
   "source": [
    "binarized = getBinarizedCorrections(corrections)\n",
    "binarized"
   ]
  },
  {
   "cell_type": "code",
   "execution_count": null,
   "metadata": {},
   "outputs": [],
   "source": [
    "slicedBinarized = binarized[13:40]\n",
    "slicedBinarized"
   ]
  },
  {
   "cell_type": "code",
   "execution_count": null,
   "metadata": {},
   "outputs": [],
   "source": [
    "slicedBinarized =\\\n",
    "binarized[13:40][binarized.columns[\\\n",
    "binarized.columns.to_series().str.contains(correctionsColumnNameStem)\\\n",
    "                           ]]\n",
    "slicedBinarized"
   ]
  },
  {
   "cell_type": "markdown",
   "metadata": {},
   "source": [
    "#### getBinarized tinkering"
   ]
  },
  {
   "cell_type": "code",
   "execution_count": null,
   "metadata": {},
   "outputs": [],
   "source": [
    "_source = correctAnswers\n",
    "_userId = getRandomGFormGUID()\n",
    "getCorrections(_userId, _source=_source, _form = gform)"
   ]
  },
  {
   "cell_type": "code",
   "execution_count": null,
   "metadata": {},
   "outputs": [],
   "source": [
    "_userId = '5e978fb3-316a-42ba-bb58-00856353838d'\n",
    "gform[gform[localplayerguidkey] == _userId].iloc[0].index"
   ]
  },
  {
   "cell_type": "code",
   "execution_count": null,
   "metadata": {},
   "outputs": [],
   "source": [
    "_gformLine = gform[gform[localplayerguidkey] == _userId].iloc[0]\n",
    "_gformLine.loc['Before playing Hero.Coli, had you ever heard about synthetic biology?']"
   ]
  },
  {
   "cell_type": "code",
   "execution_count": null,
   "metadata": {},
   "outputs": [],
   "source": [
    "_gformLine = gform[gform[localplayerguidkey] == _userId].iloc[0]\n",
    "\n",
    "# only for one user\n",
    "# def getBinarized(_gformLine, _source = correctAnswers):\n",
    "_notEmptyIndexes = []\n",
    "for _index in _source.index:\n",
    "    if(len(_source.loc[_index]) > 0):\n",
    "        _notEmptyIndexes.append(_index)\n",
    "\n",
    "_binarized = pd.Series(np.full(len(_gformLine.index), np.nan), index = _gformLine.index)\n",
    "        \n",
    "for question in _gformLine.index:\n",
    "    _correctAnswers = _source.loc[question]\n",
    "\n",
    "    if(len(_correctAnswers) > 0):\n",
    "        _binarized[question] = 0\n",
    "        for _correctAnswer in _correctAnswers:\n",
    "            if str(_gformLine.loc[question])\\\n",
    "            .startswith(str(_correctAnswer)):\n",
    "                _binarized.loc[question] = 1\n",
    "                break\n",
    "\n",
    "_slicedBinarized = _binarized.loc[_notEmptyIndexes]\n",
    "\n",
    "_slicedBinarized"
   ]
  },
  {
   "cell_type": "code",
   "execution_count": null,
   "metadata": {},
   "outputs": [],
   "source": [
    "_slicedBinarized.loc['What are BioBricks and devices?']"
   ]
  },
  {
   "cell_type": "markdown",
   "metadata": {},
   "source": [
    "#### getAllBinarized tinkering"
   ]
  },
  {
   "cell_type": "code",
   "execution_count": null,
   "metadata": {},
   "outputs": [],
   "source": [
    "allBinarized = getAllBinarized()"
   ]
  },
  {
   "cell_type": "code",
   "execution_count": null,
   "metadata": {},
   "outputs": [],
   "source": [
    "plotCorrelationMatrix(allBinarized)"
   ]
  },
  {
   "cell_type": "code",
   "execution_count": null,
   "metadata": {},
   "outputs": [],
   "source": [
    "source"
   ]
  },
  {
   "cell_type": "code",
   "execution_count": null,
   "metadata": {},
   "outputs": [],
   "source": [
    "source = correctAnswers + demographicAnswers\n",
    "notEmptyIndexes = []\n",
    "for eltIndex in source.index:\n",
    "    #print(eltIndex)\n",
    "    if(len(source.loc[eltIndex]) > 0):\n",
    "        notEmptyIndexes.append(eltIndex)\n",
    "len(source)-len(notEmptyIndexes)"
   ]
  },
  {
   "cell_type": "code",
   "execution_count": null,
   "metadata": {},
   "outputs": [],
   "source": [
    "emptyForm = gform[gform[localplayerguidkey] == 'incorrectGUID']"
   ]
  },
  {
   "cell_type": "code",
   "execution_count": null,
   "metadata": {},
   "outputs": [],
   "source": [
    "emptyForm"
   ]
  },
  {
   "cell_type": "code",
   "execution_count": null,
   "metadata": {},
   "outputs": [],
   "source": [
    "_result"
   ]
  },
  {
   "cell_type": "code",
   "execution_count": null,
   "metadata": {},
   "outputs": [],
   "source": [
    "_source = correctAnswers + demographicAnswers\n",
    "_form = emptyForm\n",
    "\n",
    "#def getAllBinarized(_source = correctAnswers, _form = gform ):\n",
    "_notEmptyIndexes = []\n",
    "for _index in _source.index:\n",
    "    if(len(_source.loc[_index]) > 0):\n",
    "        _notEmptyIndexes.append(_index)\n",
    "\n",
    "_result = pd.DataFrame(index = _notEmptyIndexes)\n",
    "for _userId in getAllResponders( _form = _form ):\n",
    "    _corrections = getCorrections(_userId, _source=_source, _form = _form)\n",
    "    _binarized = getBinarizedCorrections(_corrections)\n",
    "    _slicedBinarized =\\\n",
    "_binarized.loc[_notEmptyIndexes][_binarized.columns[\\\n",
    "_binarized.columns.to_series().str.contains(correctionsColumnNameStem)\\\n",
    "                                   ]]\n",
    "\n",
    "    _result = pd.concat([_result, _slicedBinarized], axis=1)\n",
    "\n",
    "_result = _result.T\n",
    "\n",
    "#_result"
   ]
  },
  {
   "cell_type": "code",
   "execution_count": null,
   "metadata": {},
   "outputs": [],
   "source": [
    "if(_result.shape[0] > 0 and _result.shape[1] > 0):\n",
    "    correlation = _result.astype(float).corr()\n",
    "    #plt.matshow(correlation)\n",
    "    sns.clustermap(correlation,cmap=plt.cm.jet,square=True,figsize=(10,10))"
   ]
  },
  {
   "cell_type": "code",
   "execution_count": null,
   "metadata": {},
   "outputs": [],
   "source": [
    "#ax = sns.clustermap(correlation,cmap=plt.cm.jet,square=True,figsize=(10,10),cbar_kws={\\\n",
    "#\"orientation\":\"vertical\"})"
   ]
  },
  {
   "cell_type": "code",
   "execution_count": null,
   "metadata": {},
   "outputs": [],
   "source": [
    "correlation_pearson = result.T.astype(float).corr(methods[0])\n",
    "correlation_kendall = result.T.astype(float).corr(methods[1])\n",
    "correlation_spearman = result.T.astype(float).corr(methods[2])\n",
    "print(correlation_pearson.equals(correlation_kendall))\n",
    "print(correlation_kendall.equals(correlation_spearman))\n",
    "diff = (correlation_pearson - correlation_kendall)\n",
    "flattened = diff[diff > 0.1].values.flatten()\n",
    "flattened[~np.isnan(flattened)]"
   ]
  },
  {
   "cell_type": "code",
   "execution_count": null,
   "metadata": {},
   "outputs": [],
   "source": [
    "correlation"
   ]
  },
  {
   "cell_type": "markdown",
   "metadata": {},
   "source": [
    "#### plotCorrelationMatrix tinkering"
   ]
  },
  {
   "cell_type": "code",
   "execution_count": null,
   "metadata": {},
   "outputs": [],
   "source": [
    "scientificQuestionsLabels = gform.columns[13:40]\n",
    "scientificQuestionsLabels = [\n",
    "'In order to modify the abilities of the bacterium, you have to... #1',\n",
    "'What are BioBricks and devices? #2',\n",
    "'What is the name of this BioBrick? #3',\n",
    "'What is the name of this BioBrick?.1 #4',\n",
    "'What is the name of this BioBrick?.2 #5',\n",
    "'What is the name of this BioBrick?.3 #6',\n",
    "'What does this BioBrick do? #7',\n",
    "'What does this BioBrick do?.1 #8',\n",
    "'What does this BioBrick do?.2 #9',\n",
    "'What does this BioBrick do?.3 #10',\n",
    "'Pick the case where the BioBricks are well-ordered: #11',\n",
    "'When does green fluorescence happen? #12',\n",
    "'What happens when you unequip the movement device? #13',\n",
    "'What is this? #14',\n",
    "'What does this device do? #15',\n",
    "'What does this device do?.1 #16',\n",
    "'What does this device do?.2 #17',\n",
    "'What does this device do?.3 #18',\n",
    "'What does this device do?.4 #19',\n",
    "'What does this device do?.5 #20',\n",
    "'What does this device do?.6 #21',\n",
    "'What does this device do?.7 #22',\n",
    "'Guess: what would a device producing l-arabinose do, if it started with a l-arabinose-induced promoter? #23',\n",
    "'Guess: the bacterium would glow yellow... #24',\n",
    "'What is the species of the bacterium of the game? #25',\n",
    "'What is the scientific name of the tails of the bacterium? #26',\n",
    "'Find the antibiotic: #27',\n",
    "]\n",
    "\n",
    "scientificQuestionsLabelsX = [\n",
    "'#1 In order to modify the abilities of the bacterium, you have to...',\n",
    "'#2 What are BioBricks and devices?',\n",
    "'#3 What is the name of this BioBrick?',\n",
    "'#4 What is the name of this BioBrick?.1',\n",
    "'#5 What is the name of this BioBrick?.2',\n",
    "'#6 What is the name of this BioBrick?.3',\n",
    "'#7 What does this BioBrick do?',\n",
    "'#8 What does this BioBrick do?.1',\n",
    "'#9 What does this BioBrick do?.2',\n",
    "'#10 What does this BioBrick do?.3',\n",
    "'#11 Pick the case where the BioBricks are well-ordered:',\n",
    "'#12 When does green fluorescence happen?',\n",
    "'#13 What happens when you unequip the movement device?',\n",
    "'#14 What is this?',\n",
    "'#15 What does this device do?',\n",
    "'#16 What does this device do?.1',\n",
    "'#17 What does this device do?.2',\n",
    "'#18 What does this device do?.3',\n",
    "'#19 What does this device do?.4',\n",
    "'#20 What does this device do?.5',\n",
    "'#21 What does this device do?.6',\n",
    "'#22 What does this device do?.7',\n",
    "'Guess: what would a device producing l-arabinose do, if it started with a l-arabinose-induced p#23 romoter?',\n",
    "'#24 Guess: the bacterium would glow yellow...',\n",
    "'#25 What is the species of the bacterium of the game?',\n",
    "'#26 What is the scientific name of the tails of the bacterium?',\n",
    "'#27 Find the antibiotic:',\n",
    "]"
   ]
  },
  {
   "cell_type": "code",
   "execution_count": null,
   "metadata": {},
   "outputs": [],
   "source": [
    "questionsLabels = scientificQuestionsLabels\n",
    "questionsLabelsX = scientificQuestionsLabelsX\n",
    "\n",
    "\n",
    "fig = plt.figure(figsize=(10,10))\n",
    "ax = fig.add_subplot(111)\n",
    "ax.set_yticklabels(['']+questionsLabels)\n",
    "ax.set_xticklabels(['']+questionsLabelsX, rotation='vertical')\n",
    "\n",
    "ax.matshow(correlation)\n",
    "ax.set_xticks(np.arange(-1,len(questionsLabels),1.));\n",
    "ax.set_yticks(np.arange(-1,len(questionsLabels),1.));"
   ]
  },
  {
   "cell_type": "code",
   "execution_count": null,
   "metadata": {},
   "outputs": [],
   "source": [
    "questionsLabels = correlation.columns.copy()\n",
    "newLabels = []\n",
    "for index in range(0, len(questionsLabels)):\n",
    "    newLabels.append(questionsLabels[index] + ' #' + str(index + 1))\n",
    "correlationRenamed = correlation.copy()\n",
    "correlationRenamed.columns = newLabels\n",
    "correlationRenamed.index = newLabels\n",
    "correlationRenamed"
   ]
  },
  {
   "cell_type": "code",
   "execution_count": null,
   "metadata": {},
   "outputs": [],
   "source": [
    "correlationRenamed = correlation.copy()\n",
    "correlationRenamed.columns = pd.Series(correlation.columns).apply(lambda x: x + ' #' + str(correlation.columns.get_loc(x) + 1))\n",
    "correlationRenamed.index = correlationRenamed.columns\n",
    "correlationRenamed"
   ]
  },
  {
   "cell_type": "code",
   "execution_count": null,
   "metadata": {},
   "outputs": [],
   "source": [
    "correlation.shape"
   ]
  },
  {
   "cell_type": "code",
   "execution_count": null,
   "metadata": {
    "scrolled": true
   },
   "outputs": [],
   "source": [
    "fig = plt.figure(figsize=(10,10))\n",
    "ax12 = plt.subplot(111)\n",
    "ax12.set_title('Heatmap')\n",
    "sns.heatmap(correlation,ax=ax12,cmap=plt.cm.jet,square=True)"
   ]
  },
  {
   "cell_type": "code",
   "execution_count": null,
   "metadata": {},
   "outputs": [],
   "source": [
    "ax = sns.clustermap(correlation,cmap=plt.cm.jet,square=True,figsize=(10,10),cbar_kws={\\\n",
    "\"orientation\":\"vertical\"})"
   ]
  },
  {
   "cell_type": "code",
   "execution_count": null,
   "metadata": {},
   "outputs": [],
   "source": [
    "questionsLabels = pd.Series(correlation.columns).apply(lambda x: x + ' #' + str(correlation.columns.get_loc(x) + 1))\n",
    "\n",
    "fig = plt.figure(figsize=(10,10))\n",
    "ax = plt.subplot(111)\n",
    "\n",
    "cmap=plt.cm.jet\n",
    "#cmap=plt.cm.ocean\n",
    "cax = ax.imshow(correlation, interpolation='nearest', cmap=cmap,\n",
    "#    extent=(0.5,np.shape(correlation)[0]+0.5,0.5,np.shape(correlation)[1]+0.5)\n",
    "               )\n",
    "#ax.grid(True)\n",
    "plt.title('Questions\\' Correlations')\n",
    "ax.set_yticklabels(questionsLabels)\n",
    "ax.set_xticklabels(questionsLabels, rotation='vertical')\n",
    "ax.set_xticks(np.arange(len(questionsLabels)));\n",
    "ax.set_yticks(np.arange(len(questionsLabels)));\n",
    "#ax.set_xticks(np.arange(-1,len(questionsLabels),1.));\n",
    "#ax.set_yticks(np.arange(-1,len(questionsLabels),1.));\n",
    "\n",
    "fig.colorbar(cax)\n",
    "plt.show()\n"
   ]
  },
  {
   "cell_type": "code",
   "execution_count": null,
   "metadata": {},
   "outputs": [],
   "source": [
    "ax.get_xticks()"
   ]
  },
  {
   "cell_type": "code",
   "execution_count": null,
   "metadata": {},
   "outputs": [],
   "source": [
    "transposed = result.T.astype(float)\n",
    "transposed.head()"
   ]
  },
  {
   "cell_type": "code",
   "execution_count": null,
   "metadata": {},
   "outputs": [],
   "source": [
    "transposed.corr()"
   ]
  },
  {
   "cell_type": "code",
   "execution_count": null,
   "metadata": {},
   "outputs": [],
   "source": [
    "transposed.columns = range(0,len(transposed.columns))\n",
    "transposed.index = range(0,len(transposed.index))\n",
    "transposed.head()"
   ]
  },
  {
   "cell_type": "code",
   "execution_count": null,
   "metadata": {},
   "outputs": [],
   "source": [
    "transposed = transposed.iloc[0:10,0:3]\n",
    "transposed"
   ]
  },
  {
   "cell_type": "code",
   "execution_count": null,
   "metadata": {},
   "outputs": [],
   "source": [
    "transposed = transposed.astype(float)"
   ]
  },
  {
   "cell_type": "code",
   "execution_count": null,
   "metadata": {},
   "outputs": [],
   "source": [
    "type(transposed[0][0])"
   ]
  },
  {
   "cell_type": "code",
   "execution_count": null,
   "metadata": {},
   "outputs": [],
   "source": [
    "transposed.columns = list('ABC')\n",
    "transposed"
   ]
  },
  {
   "cell_type": "code",
   "execution_count": null,
   "metadata": {},
   "outputs": [],
   "source": [
    "transposed.loc[0, 'A'] = 0\n",
    "transposed"
   ]
  },
  {
   "cell_type": "code",
   "execution_count": null,
   "metadata": {},
   "outputs": [],
   "source": [
    "transposed.corr()"
   ]
  },
  {
   "cell_type": "markdown",
   "metadata": {},
   "source": [
    "data = transposed[[0,1]]\n",
    "data.corr(method = 'spearman')"
   ]
  },
  {
   "cell_type": "code",
   "execution_count": null,
   "metadata": {},
   "outputs": [],
   "source": [
    "round(7.64684)"
   ]
  },
  {
   "cell_type": "code",
   "execution_count": null,
   "metadata": {},
   "outputs": [],
   "source": [
    "df = pd.DataFrame(10*np.random.randint(2, size=[20,2]),index=range(0,20),columns=list('AB'))\n",
    "#df.columns = range(0,len(df.columns))\n",
    "df.head()\n",
    "#type(df[0][0])"
   ]
  },
  {
   "cell_type": "code",
   "execution_count": null,
   "metadata": {},
   "outputs": [],
   "source": [
    "type(df.columns)"
   ]
  },
  {
   "cell_type": "code",
   "execution_count": null,
   "metadata": {},
   "outputs": [],
   "source": [
    "df.corr()"
   ]
  },
  {
   "cell_type": "code",
   "execution_count": null,
   "metadata": {},
   "outputs": [],
   "source": [
    "#corr = pd.Series({}, index = methods)\n",
    "for meth in methods:\n",
    "    #corr[meth] = result.corr(method = meth)\n",
    "    print(meth + \":\\n\" + str(transposed.corr(method = meth)) + \"\\n\\n\")"
   ]
  },
  {
   "cell_type": "markdown",
   "metadata": {},
   "source": [
    "#### getCrossCorrectAnswers tinkering"
   ]
  },
  {
   "cell_type": "code",
   "execution_count": null,
   "metadata": {},
   "outputs": [],
   "source": []
  },
  {
   "cell_type": "markdown",
   "metadata": {},
   "source": [
    "##### Before"
   ]
  },
  {
   "cell_type": "code",
   "execution_count": null,
   "metadata": {},
   "outputs": [],
   "source": [
    "befores = gform.copy()\n",
    "befores = befores[befores['Temporality'] == 'before']\n",
    "print(len(befores))\n",
    "allBeforesBinarized = getAllBinarized( _source = correctAnswers + demographicAnswers, _form = befores)"
   ]
  },
  {
   "cell_type": "code",
   "execution_count": null,
   "metadata": {},
   "outputs": [],
   "source": [
    "np.unique(allBeforesBinarized.values.flatten())"
   ]
  },
  {
   "cell_type": "code",
   "execution_count": null,
   "metadata": {},
   "outputs": [],
   "source": [
    "allBeforesBinarized.columns[20]"
   ]
  },
  {
   "cell_type": "code",
   "execution_count": null,
   "metadata": {},
   "outputs": [],
   "source": [
    "allBeforesBinarized.T.dot(allBeforesBinarized)"
   ]
  },
  {
   "cell_type": "code",
   "execution_count": null,
   "metadata": {},
   "outputs": [],
   "source": [
    "np.unique(allBeforesBinarized.iloc[:,20].values)"
   ]
  },
  {
   "cell_type": "code",
   "execution_count": null,
   "metadata": {},
   "outputs": [],
   "source": [
    "plotCorrelationMatrix( allBeforesBinarized, _abs=False,\\\n",
    "                      _clustered=False, _questionNumbers=True )"
   ]
  },
  {
   "cell_type": "code",
   "execution_count": null,
   "metadata": {},
   "outputs": [],
   "source": [
    "_correlation = allBeforesBinarized.astype(float).corr()\n",
    "\n",
    "overlay = allBeforesBinarized.T.dot(allBeforesBinarized).astype(int)\n",
    "            \n",
    "_correlation.columns = pd.Series(_correlation.columns).apply(\\\n",
    "    lambda x: x + ' #' + str(_correlation.columns.get_loc(x) + 1))\n",
    "_correlation.index = _correlation.columns\n",
    "\n",
    "_correlation = _correlation.abs()\n",
    "\n",
    "_fig = plt.figure(figsize=(10,10))\n",
    "_ax = plt.subplot(111)\n",
    "\n",
    "#sns.heatmap(_correlation,ax=_ax,cmap=plt.cm.jet,square=True,annot=overlay,fmt='d')\n",
    "sns.heatmap(_correlation,ax=_ax,cmap=plt.cm.jet,square=True,annot=True)"
   ]
  },
  {
   "cell_type": "markdown",
   "metadata": {},
   "source": [
    "##### after"
   ]
  },
  {
   "cell_type": "code",
   "execution_count": null,
   "metadata": {},
   "outputs": [],
   "source": [
    "afters = gform.copy()\n",
    "afters = afters[afters['Temporality'] == 'after']\n",
    "print(len(afters))\n",
    "allAftersBinarized = getAllBinarized( _source = correctAnswers + demographicAnswers, _form = afters)"
   ]
  },
  {
   "cell_type": "code",
   "execution_count": null,
   "metadata": {},
   "outputs": [],
   "source": [
    "np.unique(allAftersBinarized.values.flatten())"
   ]
  },
  {
   "cell_type": "code",
   "execution_count": null,
   "metadata": {},
   "outputs": [],
   "source": [
    "plotCorrelationMatrix( allAftersBinarized, _abs=False,\\\n",
    "                      _clustered=False, _questionNumbers=True )"
   ]
  },
  {
   "cell_type": "code",
   "execution_count": null,
   "metadata": {},
   "outputs": [],
   "source": [
    "#for answerIndex in range(0,len(allAftersBinarized)):\n",
    "#    print(str(answerIndex) + \" \" + str(allAftersBinarized.iloc[answerIndex,0]))"
   ]
  },
  {
   "cell_type": "code",
   "execution_count": null,
   "metadata": {},
   "outputs": [],
   "source": [
    "allAftersBinarized.iloc[28,0]"
   ]
  },
  {
   "cell_type": "code",
   "execution_count": null,
   "metadata": {},
   "outputs": [],
   "source": [
    "len(allAftersBinarized) "
   ]
  },
  {
   "cell_type": "code",
   "execution_count": null,
   "metadata": {},
   "outputs": [],
   "source": [
    "len(allAftersBinarized.index)"
   ]
  },
  {
   "cell_type": "code",
   "execution_count": null,
   "metadata": {},
   "outputs": [],
   "source": [
    "_correlation = allAftersBinarized.astype(float).corr()\n",
    "\n",
    "overlay = allAftersBinarized.T.dot(allAftersBinarized).astype(int)\n",
    "\n",
    "_correlation.columns = pd.Series(_correlation.columns).apply(\\\n",
    "    lambda x: x + ' #' + str(_correlation.columns.get_loc(x) + 1))\n",
    "_correlation.index = _correlation.columns\n",
    "\n",
    "_fig = plt.figure(figsize=(10,10))\n",
    "_ax = plt.subplot(111)\n",
    "\n",
    "#sns.heatmap(_correlation,ax=_ax,cmap=plt.cm.jet,square=True,annot=overlay,fmt='d')\n",
    "sns.heatmap(_correlation,ax=_ax,cmap=plt.cm.jet,square=True)"
   ]
  },
  {
   "cell_type": "code",
   "execution_count": null,
   "metadata": {},
   "outputs": [],
   "source": [
    "crossCorrect = getCrossCorrectAnswers(allAftersBinarized)"
   ]
  },
  {
   "cell_type": "code",
   "execution_count": null,
   "metadata": {},
   "outputs": [],
   "source": [
    "pd.Series((overlay == crossCorrect).values.flatten()).unique()"
   ]
  },
  {
   "cell_type": "code",
   "execution_count": null,
   "metadata": {},
   "outputs": [],
   "source": [
    "allAftersBinarized.shape"
   ]
  },
  {
   "cell_type": "code",
   "execution_count": null,
   "metadata": {},
   "outputs": [],
   "source": [
    "cross = allAftersBinarized.T.dot(allAftersBinarized)\n",
    "cross.shape"
   ]
  },
  {
   "cell_type": "code",
   "execution_count": null,
   "metadata": {},
   "outputs": [],
   "source": [
    "equal = (cross == crossCorrect)\n",
    "type(equal)"
   ]
  },
  {
   "cell_type": "code",
   "execution_count": null,
   "metadata": {},
   "outputs": [],
   "source": [
    "pd.Series(equal.values.flatten()).unique()"
   ]
  },
  {
   "cell_type": "markdown",
   "metadata": {},
   "source": [
    "#### getScore tinkering"
   ]
  },
  {
   "cell_type": "code",
   "execution_count": null,
   "metadata": {},
   "outputs": [],
   "source": [
    "testUser = userIDAnswersFR"
   ]
  },
  {
   "cell_type": "code",
   "execution_count": null,
   "metadata": {},
   "outputs": [],
   "source": [
    "gform[gform[localplayerguidkey] == unsafeGetGFormGUIDFormat(testUser)].T"
   ]
  },
  {
   "cell_type": "code",
   "execution_count": null,
   "metadata": {},
   "outputs": [],
   "source": [
    "getScore(testUser)"
   ]
  },
  {
   "cell_type": "code",
   "execution_count": null,
   "metadata": {},
   "outputs": [],
   "source": [
    "print(\"draft test\")\n",
    "\n",
    "testUserId = \"3ef14300-4987-4b54-a56c-5b6d1f8a24a1\"\n",
    "testUserId = userIDAnswersEN\n",
    "\n",
    "#def getScore( _userId, _form = gform ):\n",
    "score = pd.DataFrame({}, columns = answerTemporalities)\n",
    "score.loc['score',:] = np.nan\n",
    "for column in score.columns:\n",
    "    score.loc['score', column] = []\n",
    "\n",
    "if hasAnswered( testUserId ):\n",
    "    columnAnswers = getCorrections(testUserId)\n",
    "    for columnName in columnAnswers.columns:\n",
    "        # only work on corrected columns\n",
    "        if correctionsColumnNameStem in columnName:\n",
    "            answerColumnName = columnName.replace(correctionsColumnNameStem,\\\n",
    "                                                  answersColumnNameStem)\n",
    "            temporality = columnAnswers.loc['Temporality',answerColumnName]\n",
    "\n",
    "            counts = (columnAnswers[columnName]).value_counts()\n",
    "            thisScore = 0\n",
    "            if(True in counts):\n",
    "                thisScore = counts[True]\n",
    "            score.loc['score',temporality].append(thisScore)\n",
    "else:\n",
    "    print(\"user \" + str(testUserId) + \" has never answered\")\n",
    "\n",
    "#expectedScore = 18\n",
    "#if (expectedScore != score[0]):\n",
    "#    print(\"ERROR incorrect score: expected \"+ str(expectedScore) +\", got \"+ str(score))\n",
    "score"
   ]
  },
  {
   "cell_type": "code",
   "execution_count": null,
   "metadata": {},
   "outputs": [],
   "source": [
    "score = pd.DataFrame({}, columns = answerTemporalities)\n",
    "score.loc['score',:] = np.nan\n",
    "for column in score.columns:\n",
    "    score.loc['score', column] = []\n",
    "score"
   ]
  },
  {
   "cell_type": "code",
   "execution_count": null,
   "metadata": {},
   "outputs": [],
   "source": [
    "#score.loc['user0',:] = [1,2,3]"
   ]
  },
  {
   "cell_type": "code",
   "execution_count": null,
   "metadata": {},
   "outputs": [],
   "source": [
    "#score"
   ]
  },
  {
   "cell_type": "code",
   "execution_count": null,
   "metadata": {},
   "outputs": [],
   "source": [
    "#type(score)"
   ]
  },
  {
   "cell_type": "code",
   "execution_count": null,
   "metadata": {},
   "outputs": [],
   "source": [
    "#type(score[0])"
   ]
  },
  {
   "cell_type": "code",
   "execution_count": null,
   "metadata": {},
   "outputs": [],
   "source": [
    "#for i,v in score[0].iteritems():\n",
    "#    print(v)"
   ]
  },
  {
   "cell_type": "code",
   "execution_count": null,
   "metadata": {},
   "outputs": [],
   "source": [
    "#score[0]['undefined']"
   ]
  },
  {
   "cell_type": "code",
   "execution_count": null,
   "metadata": {},
   "outputs": [],
   "source": [
    "#columnAnswers.loc['Temporality','answers0']"
   ]
  },
  {
   "cell_type": "code",
   "execution_count": null,
   "metadata": {},
   "outputs": [],
   "source": [
    "False in (columnAnswers[columnName]).value_counts()"
   ]
  },
  {
   "cell_type": "code",
   "execution_count": null,
   "metadata": {},
   "outputs": [],
   "source": [
    "getScore(\"3ef14300-4987-4b54-a56c-5b6d1f8a24a1\")"
   ]
  },
  {
   "cell_type": "code",
   "execution_count": null,
   "metadata": {},
   "outputs": [],
   "source": [
    "#gform[gform[localplayerguidkey]==\"3ef14300-4987-4b54-a56c-5b6d1f8a24a1\"].T"
   ]
  },
  {
   "cell_type": "code",
   "execution_count": null,
   "metadata": {},
   "outputs": [],
   "source": [
    "correctAnswers"
   ]
  },
  {
   "cell_type": "markdown",
   "metadata": {},
   "source": [
    "## comparison of checkpoints completion and answers\n",
    "<a id=compcheckans />"
   ]
  },
  {
   "cell_type": "markdown",
   "metadata": {},
   "source": [
    "Theoretically, they should match. Whoever understood an item should beat the matching challenge. The discrepancies are due to game design or level design."
   ]
  },
  {
   "cell_type": "markdown",
   "metadata": {},
   "source": [
    "#### getValidatedCheckpoints tinkering"
   ]
  },
  {
   "cell_type": "code",
   "execution_count": null,
   "metadata": {},
   "outputs": [],
   "source": [
    "#questionnaireValidatedCheckpointsPerQuestion = pd.Series(np.nan, index=range(35))\n",
    "questionnaireValidatedCheckpointsPerQuestion = pd.Series(np.nan, index=range(len(checkpointQuestionMatching)))\n",
    "questionnaireValidatedCheckpointsPerQuestion.head()"
   ]
  },
  {
   "cell_type": "code",
   "execution_count": null,
   "metadata": {},
   "outputs": [],
   "source": [
    "checkpointQuestionMatching['checkpoint'][19]"
   ]
  },
  {
   "cell_type": "code",
   "execution_count": null,
   "metadata": {},
   "outputs": [],
   "source": [
    "validatedCheckpoints = []\n",
    "    \n",
    "if hasAnswered( localplayerguid ):\n",
    "    columnAnswers = getCorrections( localplayerguid)\n",
    "\n",
    "    for columnName in columnAnswers.columns:\n",
    "        # only work on corrected columns\n",
    "        if correctionsColumnNameStem in columnName:        \n",
    "            questionnaireValidatedCheckpointsPerQuestion = pd.Series(np.nan, index=range(len(checkpointQuestionMatching)))\n",
    "\n",
    "            for index in range(0, len(questionnaireValidatedCheckpointsPerQuestion)):\n",
    "                if columnAnswers[columnName][index]==True:\n",
    "                    questionnaireValidatedCheckpointsPerQuestion[index] = checkpointQuestionMatching['checkpoint'][index]\n",
    "                else:\n",
    "                    questionnaireValidatedCheckpointsPerQuestion[index] = ''\n",
    "\n",
    "            questionnaireValidatedCheckpoints = questionnaireValidatedCheckpointsPerQuestion.unique()\n",
    "            questionnaireValidatedCheckpoints = questionnaireValidatedCheckpoints[questionnaireValidatedCheckpoints!='']\n",
    "            questionnaireValidatedCheckpoints = pd.Series(questionnaireValidatedCheckpoints)\n",
    "            questionnaireValidatedCheckpoints = questionnaireValidatedCheckpoints.sort_values()\n",
    "            questionnaireValidatedCheckpoints.index = range(0, len(questionnaireValidatedCheckpoints))\n",
    "\n",
    "            validatedCheckpoints.append(questionnaireValidatedCheckpoints) \n",
    "else:\n",
    "    print(\"user \" + str(localplayerguid) + \" has never answered\")\n",
    "pd.Series(validatedCheckpoints)"
   ]
  },
  {
   "cell_type": "markdown",
   "metadata": {},
   "source": [
    "#### getNonValidated tinkering"
   ]
  },
  {
   "cell_type": "code",
   "execution_count": null,
   "metadata": {},
   "outputs": [],
   "source": [
    "testSeries1 = pd.Series( \n",
    "    [\n",
    "            'tutorial1.Checkpoint00',\n",
    "            'tutorial1.Checkpoint01',\n",
    "            'tutorial1.Checkpoint02',\n",
    "            'tutorial1.Checkpoint05'\n",
    "        ]\n",
    "    )\n",
    "testSeries2 = pd.Series( \n",
    "    [\n",
    "            'tutorial1.Checkpoint01',\n",
    "            'tutorial1.Checkpoint05'\n",
    "        ]\n",
    "    )\n",
    "np.setdiff1d(testSeries1, testSeries2)\n",
    "np.setdiff1d(testSeries1.values, testSeries2.values)"
   ]
  },
  {
   "cell_type": "code",
   "execution_count": null,
   "metadata": {},
   "outputs": [],
   "source": [
    "getAnswers(localplayerguid).head(2)"
   ]
  },
  {
   "cell_type": "code",
   "execution_count": null,
   "metadata": {},
   "outputs": [],
   "source": [
    "getCorrections(localplayerguid).head(2)"
   ]
  },
  {
   "cell_type": "code",
   "execution_count": null,
   "metadata": {},
   "outputs": [],
   "source": [
    "getScore(localplayerguid)"
   ]
  },
  {
   "cell_type": "code",
   "execution_count": null,
   "metadata": {},
   "outputs": [],
   "source": [
    "getValidatedCheckpoints(localplayerguid)"
   ]
  },
  {
   "cell_type": "code",
   "execution_count": null,
   "metadata": {},
   "outputs": [],
   "source": [
    "getNonValidatedCheckpoints(localplayerguid)"
   ]
  },
  {
   "cell_type": "markdown",
   "metadata": {},
   "source": [
    "#### getAllAnswerRows tinkering"
   ]
  },
  {
   "cell_type": "code",
   "execution_count": null,
   "metadata": {},
   "outputs": [],
   "source": [
    "qPlayedHerocoliIndex = 10\n",
    "qPlayedHerocoliYes = ['Yes', 'Once', 'Multiple times', 'Oui',\n",
    "       'De nombreuses fois', 'Quelques fois', 'Une fois']\n",
    "questionIndex = qPlayedHerocoliIndex\n",
    "choice = qPlayedHerocoliYes\n",
    "\n",
    "_form = gform\n",
    "\n",
    "# returns all rows of Google form's answers that contain an element \n",
    "#   of the array 'choice' for question number 'questionIndex'\n",
    "#def getAllAnswerRows(questionIndex, choice, _form = gform ):\n",
    "_form[_form.iloc[:, questionIndex].isin(choice)]"
   ]
  },
  {
   "cell_type": "markdown",
   "metadata": {},
   "source": [
    "#### getPercentCorrectPerColumn tinkering"
   ]
  },
  {
   "cell_type": "code",
   "execution_count": null,
   "metadata": {
    "scrolled": false
   },
   "outputs": [],
   "source": [
    "_df = getAllAnswerRows(qPlayedHerocoliIndex, qPlayedHerocoliYes, _form = gform )\n",
    "#def getPercentCorrectPerColumn(_df):\n",
    "_count = len(_df)\n",
    "_percents = pd.Series(np.full(len(_df.columns), np.nan), index=_df.columns)\n",
    "for _rowIndex in _df.index:\n",
    "    for _columnName in _df.columns:\n",
    "        _columnIndex = _df.columns.get_loc(_columnName)\n",
    "        if ((_columnIndex >= firstEvaluationQuestionIndex) \\\n",
    "            and (_columnIndex < len(_df.columns)-3)):\n",
    "            if(str(_df[_columnName][_rowIndex]).startswith(str(correctAnswers[_columnIndex]))):\n",
    "                if (np.isnan(_percents[_columnName])):\n",
    "                    _percents[_columnName] = 1;\n",
    "                else:\n",
    "                    _percents[_columnName] = _percents[_columnName]+1\n",
    "            else:\n",
    "                if (np.isnan(_percents[_columnName])):\n",
    "                    _percents[_columnName] = 0;\n",
    "\n",
    "_percents = _percents/_count\n",
    "_percents['Count'] = _count\n",
    "return _percents\n",
    "print('\\n\\n\\npercents=\\n' + str(percents))"
   ]
  },
  {
   "cell_type": "markdown",
   "metadata": {},
   "source": [
    "#### getPercentCorrectKnowingAnswer tinkering"
   ]
  },
  {
   "cell_type": "code",
   "execution_count": null,
   "metadata": {
    "scrolled": false
   },
   "outputs": [],
   "source": [
    "questionIndex = qPlayedHerocoliIndex\n",
    "choice = qPlayedHerocoliYes\n",
    "_form = gform\n",
    "\n",
    "#def getPercentCorrectKnowingAnswer(questionIndex, choice, _form = gform):\n",
    "_answerRows = getAllAnswerRows(questionIndex, choice, _form = _form);\n",
    "getPercentCorrectPerColumn(_answerRows)"
   ]
  },
  {
   "cell_type": "markdown",
   "metadata": {},
   "source": [
    "## tests on all user Ids, including those who answered more than once"
   ]
  },
  {
   "cell_type": "code",
   "execution_count": null,
   "metadata": {},
   "outputs": [],
   "source": [
    "#localplayerguid = '8d352896-a3f1-471c-8439-0f426df901c1'\n",
    "#localplayerguid = '7037c5b2-c286-498e-9784-9a061c778609'\n",
    "#localplayerguid = '5c4939b5-425b-4d19-b5d2-0384a515539e'\n",
    "#localplayerguid = '7825d421-d668-4481-898a-46b51efe40f0'\n",
    "#localplayerguid = 'acb9c989-b4a6-4c4d-81cc-6b5783ec71d8'\n",
    "\n",
    "for id in getAllResponders():\n",
    "    print(\"===========================================\")\n",
    "    print(\"id=\" + str(id))\n",
    "    print(\"-------------------------------------------\")\n",
    "    print(getAnswers(id).head(2))\n",
    "    print(\"-------------------------------------------\")\n",
    "    print(getCorrections(id).head(2))\n",
    "    print(\"-------------------------------------------\")\n",
    "    print(\"scores=\" + str(getScore(id)))\n",
    "    print(\"#ValidatedCheckpoints=\" + str(getValidatedCheckpointsCounts(id)))\n",
    "    print(\"#NonValidatedCheckpoints=\" + str(getNonValidatedCheckpointsCounts(id)))\n",
    "    print(\"===========================================\")"
   ]
  },
  {
   "cell_type": "code",
   "execution_count": null,
   "metadata": {},
   "outputs": [],
   "source": [
    "gform[localplayerguidkey]\n",
    "hasAnswered( '8d352896-a3f1-471c-8439-0f426df901c1' )\n",
    "'8d352896-a3f1-471c-8439-0f426df901c1' in gform[localplayerguidkey].values"
   ]
  },
  {
   "cell_type": "code",
   "execution_count": null,
   "metadata": {},
   "outputs": [],
   "source": [
    "apostropheTestString = 'it\\'s a test'\n",
    "apostropheTestString"
   ]
  },
  {
   "cell_type": "markdown",
   "metadata": {},
   "source": [
    "## answers submitted through time\n",
    "<a id=ansthrutime />"
   ]
  },
  {
   "cell_type": "code",
   "execution_count": null,
   "metadata": {},
   "outputs": [],
   "source": []
  },
  {
   "cell_type": "markdown",
   "metadata": {
    "collapsed": true
   },
   "source": [
    "## merging answers in English and French\n",
    "<a id=mergelang />"
   ]
  },
  {
   "cell_type": "markdown",
   "metadata": {},
   "source": [
    "### tests"
   ]
  },
  {
   "cell_type": "code",
   "execution_count": null,
   "metadata": {},
   "outputs": [],
   "source": [
    "#gformEN.head(2)"
   ]
  },
  {
   "cell_type": "code",
   "execution_count": null,
   "metadata": {},
   "outputs": [],
   "source": [
    "#gformFR.head(2)"
   ]
  },
  {
   "cell_type": "markdown",
   "metadata": {},
   "source": [
    "### add language column\n",
    "Scores will be evaluated per language"
   ]
  },
  {
   "cell_type": "code",
   "execution_count": null,
   "metadata": {},
   "outputs": [],
   "source": [
    "#gformEN['Language'] = pd.Series('en', index=gformEN.index)\n",
    "#gformFR['Language'] = pd.Series('fr', index=gformFR.index)"
   ]
  },
  {
   "cell_type": "code",
   "execution_count": null,
   "metadata": {},
   "outputs": [],
   "source": [
    "#gformFR.head(2)"
   ]
  },
  {
   "cell_type": "markdown",
   "metadata": {},
   "source": [
    "### concatenate"
   ]
  },
  {
   "cell_type": "code",
   "execution_count": null,
   "metadata": {},
   "outputs": [],
   "source": [
    "# rename columns\n",
    "#gformFR.columns = gformEN.columns\n",
    "#gformFR.head(2)"
   ]
  },
  {
   "cell_type": "code",
   "execution_count": null,
   "metadata": {},
   "outputs": [],
   "source": [
    "#gformTestMerge = pd.concat([gformEN, gformFR])"
   ]
  },
  {
   "cell_type": "code",
   "execution_count": null,
   "metadata": {},
   "outputs": [],
   "source": [
    "#gformTestMerge.head(2)"
   ]
  },
  {
   "cell_type": "code",
   "execution_count": null,
   "metadata": {
    "scrolled": true
   },
   "outputs": [],
   "source": [
    "#gformTestMerge.tail(2)"
   ]
  },
  {
   "cell_type": "code",
   "execution_count": null,
   "metadata": {},
   "outputs": [],
   "source": [
    "gform"
   ]
  },
  {
   "cell_type": "code",
   "execution_count": null,
   "metadata": {},
   "outputs": [],
   "source": [
    "localplayerguid"
   ]
  },
  {
   "cell_type": "code",
   "execution_count": null,
   "metadata": {},
   "outputs": [],
   "source": [
    "someAnswers = getAnswers( '8ca16c7a-70a6-4723-bd72-65b8485a2e86' )\n",
    "someAnswers"
   ]
  },
  {
   "cell_type": "code",
   "execution_count": null,
   "metadata": {},
   "outputs": [],
   "source": [
    "testQuestionIndex = 24"
   ]
  },
  {
   "cell_type": "code",
   "execution_count": null,
   "metadata": {},
   "outputs": [],
   "source": [
    "thisUsersFirstEvaluationQuestion = str(someAnswers[someAnswers.columns[0]][testQuestionIndex])\n",
    "thisUsersFirstEvaluationQuestion"
   ]
  },
  {
   "cell_type": "code",
   "execution_count": null,
   "metadata": {},
   "outputs": [],
   "source": [
    "someAnswers[someAnswers.columns[0]]['Language']"
   ]
  },
  {
   "cell_type": "code",
   "execution_count": null,
   "metadata": {},
   "outputs": [],
   "source": [
    "firstEvaluationQuestionCorrectAnswer = str(correctAnswers[testQuestionIndex])\n",
    "firstEvaluationQuestionCorrectAnswer"
   ]
  },
  {
   "cell_type": "code",
   "execution_count": null,
   "metadata": {},
   "outputs": [],
   "source": [
    "thisUsersFirstEvaluationQuestion.startswith(firstEvaluationQuestionCorrectAnswer)"
   ]
  }
 ],
 "metadata": {
  "kernelspec": {
   "display_name": "Python [conda env:python3]",
   "language": "python",
   "name": "conda-env-python3-py"
  },
  "language_info": {
   "codemirror_mode": {
    "name": "ipython",
    "version": 3
   },
   "file_extension": ".py",
   "mimetype": "text/x-python",
   "name": "python",
   "nbconvert_exporter": "python",
   "pygments_lexer": "ipython3",
   "version": "3.5.4"
  }
 },
 "nbformat": 4,
 "nbformat_minor": 1
}
