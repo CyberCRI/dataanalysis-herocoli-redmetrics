{
 "cells": [
  {
   "cell_type": "markdown",
   "metadata": {},
   "source": [
    "# Google form analysis tests"
   ]
  },
  {
   "cell_type": "markdown",
   "metadata": {},
   "source": [
    "## Table of Contents\n",
    "\n",
    "\n",
    "['Google form analysis' functions checks](#funcchecks)\n",
    "\n",
    "[Google form loading](#gformload)\n",
    "   \n",
    "   - [Selection of a question](#selquest)\n",
    "\n",
    "   - [Selection of a user's answers](#selusans)\n",
    "\n",
    "[checking answers](#checkans)\n",
    "\n",
    "[comparison of checkpoints completion and answers](#compcheckans)\n",
    "\n",
    "[answers submitted through time](#ansthrutime)\n",
    "\n",
    "[merge English and French answers](#mergelang)"
   ]
  },
  {
   "cell_type": "code",
   "execution_count": 263,
   "metadata": {
    "collapsed": false
   },
   "outputs": [
    {
     "name": "stderr",
     "output_type": "stream",
     "text": [
      "C:\\Users\\Mikael\\Anaconda3\\lib\\site-packages\\IPython\\core\\interactiveshell.py:2902: DtypeWarning: Columns (18,21,22,28,32,38) have mixed types. Specify dtype option on import or set low_memory=False.\n",
      "  interactivity=interactivity, compiler=compiler, result=result)\n",
      "C:\\Users\\Mikael\\Anaconda3\\lib\\site-packages\\IPython\\core\\interactiveshell.py:2902: DtypeWarning: Columns (14,15,16,17,18,20,21,22,25,26,27,30,33,34,35,36,37,38,39,40,41,42,43) have mixed types. Specify dtype option on import or set low_memory=False.\n",
      "  interactivity=interactivity, compiler=compiler, result=result)\n",
      "C:\\Users\\Mikael\\Anaconda3\\lib\\site-packages\\IPython\\core\\interactiveshell.py:2902: DtypeWarning: Columns (18,21,22,28,32,38) have mixed types. Specify dtype option on import or set low_memory=False.\n",
      "  interactivity=interactivity, compiler=compiler, result=result)\n",
      "C:\\Users\\Mikael\\Anaconda3\\lib\\site-packages\\IPython\\core\\interactiveshell.py:2902: DtypeWarning: Columns (14,15,16,17,18,20,21,22,25,26,27,30,33,34,35,36,37,38,39,40,41,42,43) have mixed types. Specify dtype option on import or set low_memory=False.\n",
      "  interactivity=interactivity, compiler=compiler, result=result)\n"
     ]
    }
   ],
   "source": [
    "%run \"../Functions/1. Google form analysis.ipynb\""
   ]
  },
  {
   "cell_type": "code",
   "execution_count": 264,
   "metadata": {
    "collapsed": true
   },
   "outputs": [],
   "source": [
    "# Localplayerguids of users who answered the questionnaire (see below).\n",
    "# French\n",
    "#localplayerguid = '\"a4d4b030-9117-4331-ba48-90dc05a7e65a\"'\n",
    "#localplayerguid = '\"d6826fd9-a6fc-4046-b974-68e50576183f\"'\n",
    "#localplayerguid = '\"deb089c0-9be3-4b75-9b27-28963c77b10c\"'\n",
    "#localplayerguid = '\"75e264d6-af94-4975-bb18-50cac09894c4\"'\n",
    "#localplayerguid = '\"3d733347-0313-441a-b77c-3e4046042a53\"'\n",
    "# English\n",
    "localplayerguid = '\"8d352896-a3f1-471c-8439-0f426df901c1\"'\n",
    "#localplayerguid = '\"7037c5b2-c286-498e-9784-9a061c778609\"'\n",
    "#localplayerguid = '\"5c4939b5-425b-4d19-b5d2-0384a515539e\"'\n",
    "#localplayerguid = '\"7825d421-d668-4481-898a-46b51efe40f0\"'\n",
    "#localplayerguid = '\"acb9c989-b4a6-4c4d-81cc-6b5783ec71d8\"'\n",
    "#localplayerguid = devPCID5"
   ]
  },
  {
   "cell_type": "markdown",
   "metadata": {},
   "source": [
    "## 'Google form analysis' functions checks\n",
    "<a id=funcchecks />"
   ]
  },
  {
   "cell_type": "code",
   "execution_count": 265,
   "metadata": {
    "collapsed": true
   },
   "outputs": [],
   "source": [
    "# special user ids\n",
    "userIDThatDidNotAnswer = '\"001c95c6-8207-43dc-a51b-adf0c6e005d7\"'\n",
    "\n",
    "userID1AnswerEN = '\"00dbbdca-d86c-4bc9-803c-0602e0153f68\"'\n",
    "userIDAnswersEN = '\"5977184a-1be2-4725-9b48-f2782dc03efb\"'\n",
    "userID1ScoreEN = '\"6b5d392d-b737-49ef-99af-e8c445ff6379\"'\n",
    "userIDScoresEN = '\"5ecf601d-4eac-433e-8056-3a5b9eda0555\"'\n",
    "\n",
    "userID1AnswerFR = '\"2734a37d-4ba5-454f-bf85-1f7b767138f6\"'\n",
    "userIDAnswersFR = '\"01e85778-2903-447b-bbab-dd750564ee2d\"'\n",
    "userID1ScoreFR = '\"3d733347-0313-441a-b77c-3e4046042a53\"'\n",
    "userIDScoresFR = '\"58d22690-8604-41cf-a5b7-d71fb3b9ad5b\"'\n",
    "\n",
    "userIDAnswersENFR = '\"a7936587-8b71-43b6-9c61-17b2c2b55de3\"'"
   ]
  },
  {
   "cell_type": "markdown",
   "metadata": {},
   "source": [
    "#### getAllResponders"
   ]
  },
  {
   "cell_type": "code",
   "execution_count": 266,
   "metadata": {
    "collapsed": false
   },
   "outputs": [
    {
     "data": {
      "text/plain": [
       "69"
      ]
     },
     "execution_count": 266,
     "metadata": {},
     "output_type": "execute_result"
    }
   ],
   "source": [
    "len(getAllResponders())"
   ]
  },
  {
   "cell_type": "markdown",
   "metadata": {},
   "source": [
    "#### hasAnswered"
   ]
  },
  {
   "cell_type": "code",
   "execution_count": 267,
   "metadata": {
    "collapsed": false
   },
   "outputs": [
    {
     "data": {
      "text/plain": [
       "False"
      ]
     },
     "execution_count": 267,
     "metadata": {},
     "output_type": "execute_result"
    }
   ],
   "source": [
    "hasAnswered( userIDThatDidNotAnswer )"
   ]
  },
  {
   "cell_type": "code",
   "execution_count": 268,
   "metadata": {
    "collapsed": false
   },
   "outputs": [
    {
     "data": {
      "text/plain": [
       "True"
      ]
     },
     "execution_count": 268,
     "metadata": {},
     "output_type": "execute_result"
    }
   ],
   "source": [
    "hasAnswered( userID1AnswerEN )"
   ]
  },
  {
   "cell_type": "code",
   "execution_count": 269,
   "metadata": {
    "collapsed": false
   },
   "outputs": [
    {
     "data": {
      "text/plain": [
       "True"
      ]
     },
     "execution_count": 269,
     "metadata": {},
     "output_type": "execute_result"
    }
   ],
   "source": [
    "hasAnswered( userIDAnswersEN )"
   ]
  },
  {
   "cell_type": "code",
   "execution_count": 270,
   "metadata": {
    "collapsed": false
   },
   "outputs": [
    {
     "data": {
      "text/plain": [
       "True"
      ]
     },
     "execution_count": 270,
     "metadata": {},
     "output_type": "execute_result"
    }
   ],
   "source": [
    "hasAnswered( userID1AnswerFR )"
   ]
  },
  {
   "cell_type": "code",
   "execution_count": 271,
   "metadata": {
    "collapsed": false
   },
   "outputs": [
    {
     "data": {
      "text/plain": [
       "True"
      ]
     },
     "execution_count": 271,
     "metadata": {},
     "output_type": "execute_result"
    }
   ],
   "source": [
    "hasAnswered( userIDAnswersFR )"
   ]
  },
  {
   "cell_type": "code",
   "execution_count": 272,
   "metadata": {
    "collapsed": false
   },
   "outputs": [
    {
     "data": {
      "text/plain": [
       "True"
      ]
     },
     "execution_count": 272,
     "metadata": {},
     "output_type": "execute_result"
    }
   ],
   "source": [
    "hasAnswered( userIDAnswersENFR )"
   ]
  },
  {
   "cell_type": "markdown",
   "metadata": {},
   "source": [
    "#### getAnswers"
   ]
  },
  {
   "cell_type": "code",
   "execution_count": 273,
   "metadata": {
    "collapsed": false,
    "scrolled": true
   },
   "outputs": [
    {
     "name": "stdout",
     "output_type": "stream",
     "text": [
      "user \"001c95c6-8207-43dc-a51b-adf0c6e005d7\" has never answered\n"
     ]
    }
   ],
   "source": [
    "assert (len(getAnswers( userIDThatDidNotAnswer ).columns) == 0),\"Too many answers\""
   ]
  },
  {
   "cell_type": "code",
   "execution_count": 274,
   "metadata": {
    "collapsed": false
   },
   "outputs": [],
   "source": [
    "assert (len(getAnswers( userID1AnswerEN ).columns) == 1),\"Too many answers\""
   ]
  },
  {
   "cell_type": "code",
   "execution_count": 275,
   "metadata": {
    "collapsed": false
   },
   "outputs": [],
   "source": [
    "assert (len(getAnswers( userIDAnswersEN ).columns) >= 2),\"Not enough answers\""
   ]
  },
  {
   "cell_type": "code",
   "execution_count": 276,
   "metadata": {
    "collapsed": false
   },
   "outputs": [],
   "source": [
    "assert (len(getAnswers( userID1AnswerFR ).columns) == 1),\"Not enough columns\""
   ]
  },
  {
   "cell_type": "code",
   "execution_count": 277,
   "metadata": {
    "collapsed": false
   },
   "outputs": [],
   "source": [
    "assert (len(getAnswers( userIDAnswersFR ).columns) >= 2),\"Not enough answers\""
   ]
  },
  {
   "cell_type": "code",
   "execution_count": 278,
   "metadata": {
    "collapsed": false
   },
   "outputs": [],
   "source": [
    "assert (len(getAnswers( userIDAnswersENFR ).columns) >= 2),\"Not enough answers\""
   ]
  },
  {
   "cell_type": "markdown",
   "metadata": {},
   "source": [
    "#### getCorrections"
   ]
  },
  {
   "cell_type": "code",
   "execution_count": 279,
   "metadata": {
    "collapsed": false
   },
   "outputs": [
    {
     "name": "stdout",
     "output_type": "stream",
     "text": [
      "user \"001c95c6-8207-43dc-a51b-adf0c6e005d7\" has never answered\n",
      "can't give correct answers\n"
     ]
    }
   ],
   "source": [
    "assert (len(getCorrections( userIDThatDidNotAnswer ).columns) == 0),\"Too many answers\""
   ]
  },
  {
   "cell_type": "code",
   "execution_count": 280,
   "metadata": {
    "collapsed": false
   },
   "outputs": [],
   "source": [
    "assert (len(getCorrections( userID1AnswerEN ).columns) == 2),\"Too many answers\""
   ]
  },
  {
   "cell_type": "code",
   "execution_count": 281,
   "metadata": {
    "collapsed": false
   },
   "outputs": [],
   "source": [
    "assert (len(getCorrections( userIDAnswersEN ).columns) >= 4),\"Not enough answers\""
   ]
  },
  {
   "cell_type": "code",
   "execution_count": 282,
   "metadata": {
    "collapsed": false
   },
   "outputs": [],
   "source": [
    "assert (len(getCorrections( userID1AnswerFR ).columns) == 2),\"Too many answers\""
   ]
  },
  {
   "cell_type": "code",
   "execution_count": 283,
   "metadata": {
    "collapsed": false
   },
   "outputs": [],
   "source": [
    "assert (len(getCorrections( userIDAnswersFR ).columns) >= 4),\"Not enough answers\""
   ]
  },
  {
   "cell_type": "code",
   "execution_count": 284,
   "metadata": {
    "collapsed": false
   },
   "outputs": [],
   "source": [
    "assert (len(getCorrections( userIDAnswersENFR ).columns) >= 4),\"Not enough answers\""
   ]
  },
  {
   "cell_type": "markdown",
   "metadata": {},
   "source": [
    "#### getScore"
   ]
  },
  {
   "cell_type": "code",
   "execution_count": 286,
   "metadata": {
    "collapsed": false
   },
   "outputs": [
    {
     "name": "stdout",
     "output_type": "stream",
     "text": [
      "user \"001c95c6-8207-43dc-a51b-adf0c6e005d7\" has never answered\n"
     ]
    },
    {
     "data": {
      "text/plain": [
       "[]"
      ]
     },
     "execution_count": 286,
     "metadata": {},
     "output_type": "execute_result"
    }
   ],
   "source": [
    "getScore( userIDThatDidNotAnswer )"
   ]
  },
  {
   "cell_type": "code",
   "execution_count": 287,
   "metadata": {
    "collapsed": false
   },
   "outputs": [
    {
     "data": {
      "text/plain": [
       "[1]"
      ]
     },
     "execution_count": 287,
     "metadata": {},
     "output_type": "execute_result"
    }
   ],
   "source": [
    "getScore( userID1AnswerEN )"
   ]
  },
  {
   "cell_type": "code",
   "execution_count": 288,
   "metadata": {
    "collapsed": false
   },
   "outputs": [
    {
     "data": {
      "text/plain": [
       "[1, 1]"
      ]
     },
     "execution_count": 288,
     "metadata": {},
     "output_type": "execute_result"
    }
   ],
   "source": [
    "getScore( userIDAnswersEN )"
   ]
  },
  {
   "cell_type": "code",
   "execution_count": 289,
   "metadata": {
    "collapsed": false
   },
   "outputs": [
    {
     "data": {
      "text/plain": [
       "[1]"
      ]
     },
     "execution_count": 289,
     "metadata": {},
     "output_type": "execute_result"
    }
   ],
   "source": [
    "getScore( userID1AnswerFR )"
   ]
  },
  {
   "cell_type": "code",
   "execution_count": 290,
   "metadata": {
    "collapsed": false
   },
   "outputs": [
    {
     "data": {
      "text/plain": [
       "[1, 1]"
      ]
     },
     "execution_count": 290,
     "metadata": {},
     "output_type": "execute_result"
    }
   ],
   "source": [
    "getScore( userIDAnswersFR )"
   ]
  },
  {
   "cell_type": "code",
   "execution_count": 291,
   "metadata": {
    "collapsed": false
   },
   "outputs": [
    {
     "data": {
      "text/plain": [
       "[1, 1]"
      ]
     },
     "execution_count": 291,
     "metadata": {},
     "output_type": "execute_result"
    }
   ],
   "source": [
    "getScore( userIDAnswersENFR )"
   ]
  },
  {
   "cell_type": "markdown",
   "metadata": {},
   "source": [
    "#### getValidatedCheckpoints"
   ]
  },
  {
   "cell_type": "code",
   "execution_count": 292,
   "metadata": {
    "collapsed": false
   },
   "outputs": [
    {
     "ename": "NameError",
     "evalue": "name 'userId' is not defined",
     "output_type": "error",
     "traceback": [
      "\u001b[1;31m---------------------------------------------------------------------------\u001b[0m",
      "\u001b[1;31mNameError\u001b[0m                                 Traceback (most recent call last)",
      "\u001b[1;32m<ipython-input-292-b06c0f9c78ed>\u001b[0m in \u001b[0;36m<module>\u001b[1;34m()\u001b[0m\n\u001b[1;32m----> 1\u001b[1;33m \u001b[0mgetValidatedCheckpoints\u001b[0m\u001b[1;33m(\u001b[0m \u001b[0muserId\u001b[0m \u001b[1;33m)\u001b[0m\u001b[1;33m\u001b[0m\u001b[0m\n\u001b[0m",
      "\u001b[1;31mNameError\u001b[0m: name 'userId' is not defined"
     ]
    }
   ],
   "source": [
    "getValidatedCheckpoints( userID1AnswerEN )"
   ]
  },
  {
   "cell_type": "markdown",
   "metadata": {},
   "source": [
    "#### getNonValidated"
   ]
  },
  {
   "cell_type": "code",
   "execution_count": null,
   "metadata": {
    "collapsed": true
   },
   "outputs": [],
   "source": [
    "getNonValidated( checkpoints )"
   ]
  },
  {
   "cell_type": "markdown",
   "metadata": {},
   "source": [
    "#### getNonValidatedCheckpoints"
   ]
  },
  {
   "cell_type": "code",
   "execution_count": null,
   "metadata": {
    "collapsed": true
   },
   "outputs": [],
   "source": [
    "getNonValidatedCheckpoints( userID1AnswerEN )"
   ]
  },
  {
   "cell_type": "markdown",
   "metadata": {},
   "source": [
    "## Google form loading\n",
    "<a id=gformload />"
   ]
  },
  {
   "cell_type": "code",
   "execution_count": null,
   "metadata": {
    "collapsed": true
   },
   "outputs": [],
   "source": [
    "#gform = gformEN"
   ]
  },
  {
   "cell_type": "code",
   "execution_count": null,
   "metadata": {
    "collapsed": false,
    "scrolled": false
   },
   "outputs": [],
   "source": [
    "transposed = gform.T\n",
    "#answers = transposed[transposed[]]\n",
    "transposed"
   ]
  },
  {
   "cell_type": "code",
   "execution_count": null,
   "metadata": {
    "collapsed": false
   },
   "outputs": [],
   "source": [
    "type(gform)"
   ]
  },
  {
   "cell_type": "markdown",
   "metadata": {},
   "source": [
    "### Selection of a question\n",
    "<a id=selquest />"
   ]
  },
  {
   "cell_type": "code",
   "execution_count": null,
   "metadata": {
    "collapsed": false
   },
   "outputs": [],
   "source": [
    "gform.columns"
   ]
  },
  {
   "cell_type": "code",
   "execution_count": null,
   "metadata": {
    "collapsed": false
   },
   "outputs": [],
   "source": [
    "gform.columns.get_loc('Do not edit -  pre-filled anonymous ID')"
   ]
  },
  {
   "cell_type": "code",
   "execution_count": null,
   "metadata": {
    "collapsed": false
   },
   "outputs": [],
   "source": [
    "localplayerguidkey"
   ]
  },
  {
   "cell_type": "code",
   "execution_count": null,
   "metadata": {
    "collapsed": false
   },
   "outputs": [],
   "source": [
    "# Using the whole question:\n",
    "gform[localplayerguidkey]"
   ]
  },
  {
   "cell_type": "code",
   "execution_count": null,
   "metadata": {
    "collapsed": false
   },
   "outputs": [],
   "source": [
    "# Get index from question\n",
    "localplayerguidindex"
   ]
  },
  {
   "cell_type": "code",
   "execution_count": null,
   "metadata": {
    "collapsed": false
   },
   "outputs": [],
   "source": [
    "# Using the index of the question:\n",
    "gform.iloc[:, localplayerguidindex]"
   ]
  },
  {
   "cell_type": "markdown",
   "metadata": {},
   "source": [
    "### Selection of a user's answers\n",
    "<a id=selusans />"
   ]
  },
  {
   "cell_type": "markdown",
   "metadata": {},
   "source": [
    "    userIDThatDidNotAnswer\n",
    "    userID1AnswerEN\n",
    "    userIDAnswersEN\n",
    "    userID1AnswerFR\n",
    "    userIDAnswersFR\n",
    "    userIDAnswersENFR"
   ]
  },
  {
   "cell_type": "markdown",
   "metadata": {},
   "source": [
    "#### getAnswers tinkering"
   ]
  },
  {
   "cell_type": "markdown",
   "metadata": {},
   "source": [
    "##### no answer"
   ]
  },
  {
   "cell_type": "code",
   "execution_count": null,
   "metadata": {
    "collapsed": false
   },
   "outputs": [],
   "source": [
    "# Localplayerguids stored in gform have different format\n",
    "answers = gform[gform[localplayerguidkey]==userIDThatDidNotAnswer.replace('\"','')]\n",
    "len(answers)"
   ]
  },
  {
   "cell_type": "code",
   "execution_count": null,
   "metadata": {
    "collapsed": false
   },
   "outputs": [],
   "source": [
    "columnAnswers = answers.T\n",
    "columnAnswers.head(2)"
   ]
  },
  {
   "cell_type": "markdown",
   "metadata": {},
   "source": [
    "##### 1 answer"
   ]
  },
  {
   "cell_type": "code",
   "execution_count": null,
   "metadata": {
    "collapsed": false
   },
   "outputs": [],
   "source": [
    "# Localplayerguids stored in gform have different format\n",
    "answers = gform[gform[localplayerguidkey]==userID1AnswerEN.replace('\"','')]\n",
    "len(answers)"
   ]
  },
  {
   "cell_type": "code",
   "execution_count": null,
   "metadata": {
    "collapsed": false
   },
   "outputs": [],
   "source": [
    "columnAnswers = answers.T\n",
    "#columnAnswers.columns = ['answers']\n",
    "#columnAnswers\n",
    "type(columnAnswers.columns)"
   ]
  },
  {
   "cell_type": "code",
   "execution_count": null,
   "metadata": {
    "collapsed": false
   },
   "outputs": [],
   "source": [
    "newColumns = []\n",
    "newColumns.append('a')\n",
    "newColumns"
   ]
  },
  {
   "cell_type": "code",
   "execution_count": null,
   "metadata": {
    "collapsed": false
   },
   "outputs": [],
   "source": [
    "newColumns = []\n",
    "for column in columnAnswers.columns:\n",
    "    print(column)\n",
    "    newColumns.append(\"answer\" + str(column))\n",
    "newColumns"
   ]
  },
  {
   "cell_type": "code",
   "execution_count": null,
   "metadata": {
    "collapsed": false
   },
   "outputs": [],
   "source": [
    "columnAnswers.columns = newColumns\n",
    "columnAnswers.head(1)"
   ]
  },
  {
   "cell_type": "markdown",
   "metadata": {},
   "source": [
    "##### >1 answers"
   ]
  },
  {
   "cell_type": "code",
   "execution_count": null,
   "metadata": {
    "collapsed": false
   },
   "outputs": [],
   "source": [
    "# Localplayerguids stored in gform have different format\n",
    "answers = gform[gform[localplayerguidkey]==userIDAnswersEN.replace('\"','')]\n",
    "len(answers)"
   ]
  },
  {
   "cell_type": "code",
   "execution_count": null,
   "metadata": {
    "collapsed": false
   },
   "outputs": [],
   "source": [
    "columnAnswers = answers.T\n",
    "columnAnswers.head(1)"
   ]
  },
  {
   "cell_type": "code",
   "execution_count": null,
   "metadata": {
    "collapsed": false
   },
   "outputs": [],
   "source": [
    "newColumns = []\n",
    "for column in columnAnswers.columns:\n",
    "    print(column)\n",
    "    newColumns.append(\"answer\" + str(column))\n",
    "columnAnswers.columns = newColumns\n",
    "columnAnswers.head(2)"
   ]
  },
  {
   "cell_type": "code",
   "execution_count": null,
   "metadata": {
    "collapsed": true
   },
   "outputs": [],
   "source": []
  },
  {
   "cell_type": "markdown",
   "metadata": {},
   "source": [
    "#### answer selection"
   ]
  },
  {
   "cell_type": "code",
   "execution_count": null,
   "metadata": {
    "collapsed": false
   },
   "outputs": [],
   "source": [
    "answers"
   ]
  },
  {
   "cell_type": "code",
   "execution_count": null,
   "metadata": {
    "collapsed": false
   },
   "outputs": [],
   "source": [
    "# Selection of a specific answer\n",
    "answers.iloc[:,localplayerguidindex]"
   ]
  },
  {
   "cell_type": "code",
   "execution_count": null,
   "metadata": {
    "collapsed": false
   },
   "outputs": [],
   "source": [
    "answers.iloc[:,localplayerguidindex].iloc[0]"
   ]
  },
  {
   "cell_type": "code",
   "execution_count": null,
   "metadata": {
    "collapsed": false
   },
   "outputs": [],
   "source": [
    "type(answers.iloc[0,:])"
   ]
  },
  {
   "cell_type": "code",
   "execution_count": null,
   "metadata": {
    "collapsed": false
   },
   "outputs": [],
   "source": [
    "answers.iloc[0,:].values"
   ]
  },
  {
   "cell_type": "markdown",
   "metadata": {},
   "source": [
    "## checking answers\n",
    "<a id=checkans />"
   ]
  },
  {
   "cell_type": "code",
   "execution_count": null,
   "metadata": {
    "collapsed": true
   },
   "outputs": [],
   "source": [
    "#### Question that has a correct answer:"
   ]
  },
  {
   "cell_type": "code",
   "execution_count": null,
   "metadata": {
    "collapsed": false
   },
   "outputs": [],
   "source": [
    "questionIndex = 15"
   ]
  },
  {
   "cell_type": "code",
   "execution_count": null,
   "metadata": {
    "collapsed": false
   },
   "outputs": [],
   "source": [
    "answers.iloc[:,questionIndex].iloc[0]"
   ]
  },
  {
   "cell_type": "code",
   "execution_count": null,
   "metadata": {
    "collapsed": false
   },
   "outputs": [],
   "source": [
    "answers.iloc[:,questionIndex].iloc[0].startswith(correctAnswers.iloc[questionIndex].iloc[0])"
   ]
  },
  {
   "cell_type": "code",
   "execution_count": null,
   "metadata": {
    "collapsed": true
   },
   "outputs": [],
   "source": [
    "#### Question that has no correct answer:"
   ]
  },
  {
   "cell_type": "code",
   "execution_count": null,
   "metadata": {
    "collapsed": false
   },
   "outputs": [],
   "source": [
    "questionIndex = 0\n",
    "answers.iloc[:,questionIndex].iloc[0].startswith(correctAnswers.iloc[questionIndex].iloc[0])"
   ]
  },
  {
   "cell_type": "code",
   "execution_count": null,
   "metadata": {
    "collapsed": true
   },
   "outputs": [],
   "source": [
    "#### Batch check:"
   ]
  },
  {
   "cell_type": "code",
   "execution_count": null,
   "metadata": {
    "collapsed": false
   },
   "outputs": [],
   "source": [
    "columnAnswers.values[2,0]"
   ]
  },
  {
   "cell_type": "code",
   "execution_count": null,
   "metadata": {
    "collapsed": false
   },
   "outputs": [],
   "source": [
    "columnAnswers['answers'][2]"
   ]
  },
  {
   "cell_type": "code",
   "execution_count": null,
   "metadata": {
    "collapsed": false
   },
   "outputs": [],
   "source": [
    "correctAnswers['en']"
   ]
  },
  {
   "cell_type": "code",
   "execution_count": null,
   "metadata": {
    "collapsed": false
   },
   "outputs": [],
   "source": [
    "type(columnAnswers)"
   ]
  },
  {
   "cell_type": "code",
   "execution_count": null,
   "metadata": {
    "collapsed": false
   },
   "outputs": [],
   "source": [
    "indexOfFirstEvaluationQuestion = 13\n",
    "columnAnswers.index[indexOfFirstEvaluationQuestion]"
   ]
  },
  {
   "cell_type": "markdown",
   "metadata": {},
   "source": [
    "#### getCorrections tinkering"
   ]
  },
  {
   "cell_type": "code",
   "execution_count": null,
   "metadata": {
    "collapsed": false,
    "scrolled": false
   },
   "outputs": [],
   "source": [
    "#print(correctAnswers)\n",
    "#print(columnAnswers)\n",
    "#type(correctAnswers)\n",
    "#type(columnAnswers)\n",
    "\n",
    "#columnAnswers['binaryCorrect'] = columnAnswers.values==correctAnswers.values\n",
    "columnAnswers['correct'] = columnAnswers['answers']\n",
    "\n",
    "for index in range(0, indexOfFirstEvaluationQuestion):\n",
    "    columnAnswers['correct'][index] = 'NaN'\n",
    "for index in range(indexOfFirstEvaluationQuestion, len(columnAnswers.values)-3):\n",
    "    columnAnswers['correct'][index] = str(columnAnswers['answers'][index]).startswith(str(correctAnswers[columnAnswers['answers']['Language']][index]))\n",
    "columnAnswers['correct'][len(columnAnswers.values)-3] = 'NaN'\n",
    "columnAnswers['correct'][len(columnAnswers.values)-2] = 'NaN'\n",
    "columnAnswers['correct'][len(columnAnswers.values)-1] = 'NaN'\n",
    "columnAnswers"
   ]
  },
  {
   "cell_type": "code",
   "execution_count": null,
   "metadata": {
    "collapsed": false
   },
   "outputs": [],
   "source": [
    "columnAnswers = getAnswers( userID1AnswerEN )\n",
    "\n",
    "questionsCount = len(columnAnswers.values)\n",
    "\n",
    "for columnName in columnAnswers.columns:\n",
    "    if answersColumnNameStem in columnName:\n",
    "        answerNumber = columnName.replace(answersColumnNameStem,\"\")\n",
    "        newCorrectionsColumnName = correctionsColumnNameStem + answerNumber\n",
    "        columnAnswers[newCorrectionsColumnName] = columnAnswers[columnName]\n",
    "\n",
    "        for index in range(0, firstEvaluationQuestionIndex):\n",
    "            columnAnswers[newCorrectionsColumnName][index] = 'NaN'\n",
    "        for index in range(firstEvaluationQuestionIndex, len(columnAnswers.values)-3):\n",
    "            columnAnswers[newCorrectionsColumnName][index] = str(columnAnswers[columnName][index]).startswith(str(correctAnswers[columnAnswers[columnName]['Language']][index]))\n",
    "        columnAnswers[newCorrectionsColumnName][questionsCount-3] = 'NaN'\n",
    "        columnAnswers[newCorrectionsColumnName][questionsCount-2] = 'NaN'\n",
    "        columnAnswers[newCorrectionsColumnName][questionsCount-1] = 'NaN'\n",
    "columnAnswers.head(2)"
   ]
  },
  {
   "cell_type": "code",
   "execution_count": null,
   "metadata": {
    "collapsed": true
   },
   "outputs": [],
   "source": []
  },
  {
   "cell_type": "code",
   "execution_count": null,
   "metadata": {
    "collapsed": false
   },
   "outputs": [],
   "source": [
    "getCorrections(localplayerguid)"
   ]
  },
  {
   "cell_type": "code",
   "execution_count": null,
   "metadata": {
    "collapsed": false
   },
   "outputs": [],
   "source": [
    "print(\"draft test\")\n",
    "score = (columnAnswers['correct']).value_counts()[True]\n",
    "expectedScore = 15\n",
    "if (expectedScore != score):\n",
    "    print(\"ERROR incorrect score: expected \"+ str(expectedScore) +\", got \"+ str(score))"
   ]
  },
  {
   "cell_type": "code",
   "execution_count": 294,
   "metadata": {
    "collapsed": false
   },
   "outputs": [
    {
     "data": {
      "text/plain": [
       "[1]"
      ]
     },
     "execution_count": 294,
     "metadata": {},
     "output_type": "execute_result"
    }
   ],
   "source": [
    "score = []\n",
    "if hasAnswered( localplayerguid ):\n",
    "    _columnAnswers = getCorrections( localplayerguid)\n",
    "    for _columnName in _columnAnswers.columns:\n",
    "        # only work on corrected columns\n",
    "        if correctionsColumnNameStem in _columnName:\n",
    "            score.append((_columnAnswers[_columnName]).value_counts()[True])\n",
    "else:\n",
    "    print(\"user \" + str(userId) + \" has never answered\")\n",
    "score"
   ]
  },
  {
   "cell_type": "code",
   "execution_count": null,
   "metadata": {
    "collapsed": true
   },
   "outputs": [],
   "source": [
    "_columnAnswers[_columnName]"
   ]
  },
  {
   "cell_type": "code",
   "execution_count": null,
   "metadata": {
    "collapsed": false
   },
   "outputs": [],
   "source": [
    "correctAnswers"
   ]
  },
  {
   "cell_type": "markdown",
   "metadata": {},
   "source": [
    "## comparison of checkpoints completion and answers\n",
    "<a id=compcheckans />"
   ]
  },
  {
   "cell_type": "markdown",
   "metadata": {},
   "source": [
    "Theoretically, they should match. Whoever understood an item should beat the matching challenge. The discrepancies are due to game design or level design."
   ]
  },
  {
   "cell_type": "code",
   "execution_count": null,
   "metadata": {
    "collapsed": false
   },
   "outputs": [],
   "source": [
    "#questionnaireValidatedCheckpointsPerQuestion = pd.Series(np.nan, index=range(35))\n",
    "questionnaireValidatedCheckpointsPerQuestion = pd.Series(np.nan, index=range(len(checkpointQuestionMatching)))\n",
    "questionnaireValidatedCheckpointsPerQuestion.head()"
   ]
  },
  {
   "cell_type": "code",
   "execution_count": null,
   "metadata": {
    "collapsed": false
   },
   "outputs": [],
   "source": [
    "checkpointQuestionMatching['checkpoint'][19]"
   ]
  },
  {
   "cell_type": "code",
   "execution_count": null,
   "metadata": {
    "collapsed": false
   },
   "outputs": [],
   "source": [
    "for index in range(0, len(questionnaireValidatedCheckpointsPerQuestion)):\n",
    "    if columnAnswers['correct'][index]==True:\n",
    "        questionnaireValidatedCheckpointsPerQuestion[index] = checkpointQuestionMatching['checkpoint'][index]\n",
    "    else:\n",
    "        questionnaireValidatedCheckpointsPerQuestion[index] = ''\n",
    "questionnaireValidatedCheckpointsPerQuestion"
   ]
  },
  {
   "cell_type": "code",
   "execution_count": null,
   "metadata": {
    "collapsed": false
   },
   "outputs": [],
   "source": [
    "questionnaireValidatedCheckpoints = questionnaireValidatedCheckpointsPerQuestion.unique()\n",
    "questionnaireValidatedCheckpoints = questionnaireValidatedCheckpoints[questionnaireValidatedCheckpoints!='']\n",
    "questionnaireValidatedCheckpoints = pd.Series(questionnaireValidatedCheckpoints)\n",
    "questionnaireValidatedCheckpoints = questionnaireValidatedCheckpoints.sort_values()\n",
    "questionnaireValidatedCheckpoints.index = range(0, len(questionnaireValidatedCheckpoints))\n",
    "questionnaireValidatedCheckpoints"
   ]
  },
  {
   "cell_type": "code",
   "execution_count": null,
   "metadata": {
    "collapsed": true
   },
   "outputs": [],
   "source": [
    "#for index in range(len(questionnaireValidatedCheckpoints), 0):\n",
    "#for index in range(0, len(questionnaireValidatedCheckpoints)):\n",
    "#    if questionnaireValidatedCheckpoints\n",
    "#    print(index)\n",
    "    \n",
    "#questionnaireValidatedCheckpoints\n",
    "#type(questionnaireValidatedCheckpoints)"
   ]
  },
  {
   "cell_type": "code",
   "execution_count": null,
   "metadata": {
    "collapsed": false
   },
   "outputs": [],
   "source": [
    "getAnswers(localplayerguid).head(2)"
   ]
  },
  {
   "cell_type": "code",
   "execution_count": null,
   "metadata": {
    "collapsed": false
   },
   "outputs": [],
   "source": [
    "getCorrections(localplayerguid).head(2)"
   ]
  },
  {
   "cell_type": "code",
   "execution_count": null,
   "metadata": {
    "collapsed": false
   },
   "outputs": [],
   "source": [
    "getScore(localplayerguid)"
   ]
  },
  {
   "cell_type": "code",
   "execution_count": null,
   "metadata": {
    "collapsed": false
   },
   "outputs": [],
   "source": [
    "getValidatedCheckpoints(localplayerguid)"
   ]
  },
  {
   "cell_type": "code",
   "execution_count": null,
   "metadata": {
    "collapsed": false
   },
   "outputs": [],
   "source": [
    "getNonValidatedCheckpoints(localplayerguid)"
   ]
  },
  {
   "cell_type": "code",
   "execution_count": null,
   "metadata": {
    "collapsed": false,
    "scrolled": false
   },
   "outputs": [],
   "source": [
    "getAllResponders()"
   ]
  },
  {
   "cell_type": "markdown",
   "metadata": {},
   "source": [
    "## list of all user Ids, including those who answered more than once\n",
    "\n",
    "userIds = [\n",
    "'\"8d352896-a3f1-471c-8439-0f426df901c1\"',\n",
    " '\"7037c5b2-c286-498e-9784-9a061c778609\"',\n",
    " '\"5c4939b5-425b-4d19-b5d2-0384a515539e\"',\n",
    " '\"7825d421-d668-4481-898a-46b51efe40f0\"',\n",
    " '\"acb9c989-b4a6-4c4d-81cc-6b5783ec71d8\"',\n",
    " '\"1a03bc9e-bed4-4ddd-be7f-af23b1d5eb65\"',\n",
    " '\"3685a015-fa97-4457-ad73-da1c50210fe1\"',\n",
    " '\"9a2e8271-a84d-4b3c-a670-2d65326ed824\"',\n",
    " '\"bfdfd356-5d6f-4696-a2f1-c1dc338aa64b\"',\n",
    " '\"a7936587-8b71-43b6-9c61-17b2c2b55de3\"',\n",
    " '\"7ea5c999-8001-4eee-9cdf-580d0783ce5c\"',\n",
    " '\"5977184a-1be2-4725-9b48-f2782dc03efb\"',\n",
    " '\"e63a2fc6-50bd-4417-a712-fe688bf8e242\"',\n",
    " '\"2b91e6b2-d5ed-42e1-8bf5-dc23aeaf7e6a\"',\n",
    " '\"bffd0877-e77e-470a-b0f9-a9cdc6ff0a09\"',\n",
    " '\"97f6ae4f-e2a6-4721-8936-f759c8867f6a\"',\n",
    " '\"3ef14300-4987-4b54-a56c-5b6d1f8a24a1\"',\n",
    " '\"6b5d392d-b737-49ef-99af-e8c445ff6379\"',\n",
    " '\"5ecf601d-4eac-433e-8056-3a5b9eda0555\"',\n",
    " '\"00dbbdca-d86c-4bc9-803c-0602e0153f68\"',\n",
    " '\"3685a015-fa97-4457-ad73-da1c50210fe1\"',\n",
    " '\"5977184a-1be2-4725-9b48-f2782dc03efb\"',\n",
    " '\"3ef14300-4987-4b54-a56c-5b6d1f8a24a1\"',\n",
    " '\"5ecf601d-4eac-433e-8056-3a5b9eda0555\"',\n",
    " '\"bffd0877-e77e-470a-b0f9-a9cdc6ff0a09\"',\n",
    " '\"1f27519a-971f-4e39-bac7-9920bfc4b05b\"',\n",
    " '\"d3cf1687-6c27-45e7-ada7-6619ef639dbe\"',\n",
    " '\"8ca16c7a-70a6-4723-bd72-65b8485a2e86\"',\n",
    " '\"74cfbbd0-eb35-467c-9bad-221ac73a7444\"'"
   ]
  },
  {
   "cell_type": "code",
   "execution_count": null,
   "metadata": {
    "collapsed": false,
    "scrolled": false
   },
   "outputs": [],
   "source": [
    "#localplayerguid = '\"8d352896-a3f1-471c-8439-0f426df901c1\"'\n",
    "#localplayerguid = '\"7037c5b2-c286-498e-9784-9a061c778609\"'\n",
    "#localplayerguid = '\"5c4939b5-425b-4d19-b5d2-0384a515539e\"'\n",
    "#localplayerguid = '\"7825d421-d668-4481-898a-46b51efe40f0\"'\n",
    "#localplayerguid = '\"acb9c989-b4a6-4c4d-81cc-6b5783ec71d8\"'\n",
    "userIds = [\n",
    "'\"8d352896-a3f1-471c-8439-0f426df901c1\"',\n",
    " '\"7037c5b2-c286-498e-9784-9a061c778609\"',\n",
    " '\"5c4939b5-425b-4d19-b5d2-0384a515539e\"',\n",
    " '\"7825d421-d668-4481-898a-46b51efe40f0\"',\n",
    " '\"acb9c989-b4a6-4c4d-81cc-6b5783ec71d8\"',\n",
    "\n",
    "]\n",
    "for id in userIds:\n",
    "    print(\"===========================================\")\n",
    "#    print(getAnswers(id))\n",
    "    print(getAnswers(id).head(2))\n",
    "    print(\"-------------------------------------------\")\n",
    "#    print(getCorrections(id))\n",
    "    print(getCorrections(id).head(2))\n",
    "    print(\"-------------------------------------------\")\n",
    "    print(getScore(id))\n",
    "    print(\"-------------------------------------------\")\n",
    "    print(getValidatedCheckpoints(id))\n",
    "    print(\"-------------------------------------------\")\n",
    "    print(getNonValidatedCheckpoints(id))\n",
    "    print(\"===========================================\")"
   ]
  },
  {
   "cell_type": "code",
   "execution_count": null,
   "metadata": {
    "collapsed": false
   },
   "outputs": [],
   "source": [
    "#test\n",
    "testSeries = pd.Series( \n",
    "    [\n",
    "            '', # 7\n",
    "            '', # 8\n",
    "            '', # 9\n",
    "            '', # 10\n",
    "\n",
    "            'tutorial1.Checkpoint00', # 11\n",
    "            'tutorial1.Checkpoint00', # 12\n",
    "            'tutorial1.Checkpoint00', # 13\n",
    "            'tutorial1.Checkpoint00', # 14\n",
    "            'tutorial1.Checkpoint02', # 15\n",
    "            'tutorial1.Checkpoint01', # 16\n",
    "            'tutorial1.Checkpoint05'\n",
    "        ]\n",
    "    )\n",
    "getNonValidated(testSeries)"
   ]
  },
  {
   "cell_type": "code",
   "execution_count": null,
   "metadata": {
    "collapsed": false
   },
   "outputs": [],
   "source": [
    "gform[localplayerguidkey]\n",
    "hasAnswered( '\"8d352896-a3f1-471c-8439-0f426df901c1\"' )\n",
    "'8d352896-a3f1-471c-8439-0f426df901c1' in gform[localplayerguidkey].values"
   ]
  },
  {
   "cell_type": "code",
   "execution_count": null,
   "metadata": {
    "collapsed": false
   },
   "outputs": [],
   "source": [
    "apostropheTestString = 'it\\'s a test'\n",
    "apostropheTestString"
   ]
  },
  {
   "cell_type": "markdown",
   "metadata": {},
   "source": [
    "## answers submitted through time\n",
    "<a id=ansthrutime />"
   ]
  },
  {
   "cell_type": "code",
   "execution_count": null,
   "metadata": {
    "collapsed": true
   },
   "outputs": [],
   "source": []
  },
  {
   "cell_type": "markdown",
   "metadata": {
    "collapsed": true
   },
   "source": [
    "## merging answers in English and French\n",
    "<a id=mergelang />"
   ]
  },
  {
   "cell_type": "markdown",
   "metadata": {},
   "source": [
    "### tests"
   ]
  },
  {
   "cell_type": "code",
   "execution_count": null,
   "metadata": {
    "collapsed": false
   },
   "outputs": [],
   "source": [
    "#gformEN.head(2)"
   ]
  },
  {
   "cell_type": "code",
   "execution_count": null,
   "metadata": {
    "collapsed": false
   },
   "outputs": [],
   "source": [
    "#gformFR.head(2)"
   ]
  },
  {
   "cell_type": "markdown",
   "metadata": {},
   "source": [
    "### add language column\n",
    "Scores will be evaluated per language"
   ]
  },
  {
   "cell_type": "code",
   "execution_count": null,
   "metadata": {
    "collapsed": true
   },
   "outputs": [],
   "source": [
    "#gformEN['Language'] = pd.Series('en', index=gformEN.index)\n",
    "#gformFR['Language'] = pd.Series('fr', index=gformFR.index)"
   ]
  },
  {
   "cell_type": "code",
   "execution_count": null,
   "metadata": {
    "collapsed": false
   },
   "outputs": [],
   "source": [
    "#gformFR.head(2)"
   ]
  },
  {
   "cell_type": "markdown",
   "metadata": {},
   "source": [
    "### concatenate"
   ]
  },
  {
   "cell_type": "code",
   "execution_count": null,
   "metadata": {
    "collapsed": false
   },
   "outputs": [],
   "source": [
    "# rename columns\n",
    "#gformFR.columns = gformEN.columns\n",
    "#gformFR.head(2)"
   ]
  },
  {
   "cell_type": "code",
   "execution_count": null,
   "metadata": {
    "collapsed": true
   },
   "outputs": [],
   "source": [
    "#gformTestMerge = pd.concat([gformEN, gformFR])"
   ]
  },
  {
   "cell_type": "code",
   "execution_count": null,
   "metadata": {
    "collapsed": false
   },
   "outputs": [],
   "source": [
    "#gformTestMerge.head(2)"
   ]
  },
  {
   "cell_type": "code",
   "execution_count": null,
   "metadata": {
    "collapsed": false,
    "scrolled": true
   },
   "outputs": [],
   "source": [
    "#gformTestMerge.tail(2)"
   ]
  },
  {
   "cell_type": "code",
   "execution_count": null,
   "metadata": {
    "collapsed": false
   },
   "outputs": [],
   "source": [
    "gform"
   ]
  },
  {
   "cell_type": "code",
   "execution_count": null,
   "metadata": {
    "collapsed": false
   },
   "outputs": [],
   "source": [
    "localplayerguid"
   ]
  },
  {
   "cell_type": "code",
   "execution_count": null,
   "metadata": {
    "collapsed": false
   },
   "outputs": [],
   "source": [
    "someAnswers = getAnswers( '\"8ca16c7a-70a6-4723-bd72-65b8485a2e86\"' )\n",
    "someAnswers"
   ]
  },
  {
   "cell_type": "code",
   "execution_count": null,
   "metadata": {
    "collapsed": true
   },
   "outputs": [],
   "source": [
    "testQuestionIndex = 24"
   ]
  },
  {
   "cell_type": "code",
   "execution_count": null,
   "metadata": {
    "collapsed": false
   },
   "outputs": [],
   "source": [
    "thisUsersFirstEvaluationQuestion = str(someAnswers['answers'][testQuestionIndex])\n",
    "thisUsersFirstEvaluationQuestion"
   ]
  },
  {
   "cell_type": "code",
   "execution_count": null,
   "metadata": {
    "collapsed": false
   },
   "outputs": [],
   "source": [
    "firstEvaluationQuestionCorrectAnswer = str(correctAnswers[someAnswers['answers']['Language']][testQuestionIndex])\n",
    "firstEvaluationQuestionCorrectAnswer"
   ]
  },
  {
   "cell_type": "code",
   "execution_count": null,
   "metadata": {
    "collapsed": false
   },
   "outputs": [],
   "source": [
    "thisUsersFirstEvaluationQuestion.startswith(firstEvaluationQuestionCorrectAnswer)"
   ]
  }
 ],
 "metadata": {
  "kernelspec": {
   "display_name": "Python 3",
   "language": "python",
   "name": "python3"
  },
  "language_info": {
   "codemirror_mode": {
    "name": "ipython",
    "version": 3
   },
   "file_extension": ".py",
   "mimetype": "text/x-python",
   "name": "python",
   "nbconvert_exporter": "python",
   "pygments_lexer": "ipython3",
   "version": "3.5.4"
  }
 },
 "nbformat": 4,
 "nbformat_minor": 0
}
