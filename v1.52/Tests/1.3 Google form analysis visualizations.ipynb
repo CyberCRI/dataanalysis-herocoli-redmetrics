{
 "cells": [
  {
   "cell_type": "markdown",
   "metadata": {},
   "source": [
    "# Google form analysis visualizations"
   ]
  },
  {
   "cell_type": "markdown",
   "metadata": {},
   "source": [
    "## Table of Contents\n",
    "\n",
    "\n",
    "['Google form analysis' functions checks](#funcchecks)\n",
    "\n",
    "['Google form analysis' functions tinkering](#functinkering)"
   ]
  },
  {
   "cell_type": "code",
   "execution_count": null,
   "metadata": {},
   "outputs": [],
   "source": [
    "%run \"../Functions/1. Google form analysis.ipynb\""
   ]
  },
  {
   "cell_type": "markdown",
   "metadata": {},
   "source": [
    "## 'Google form analysis' functions checks\n",
    "<a id=funcchecks />"
   ]
  },
  {
   "cell_type": "code",
   "execution_count": null,
   "metadata": {},
   "outputs": [],
   "source": []
  },
  {
   "cell_type": "markdown",
   "metadata": {},
   "source": [
    "## 'Google form analysis' functions tinkering\n",
    "<a id=functinkering />"
   ]
  },
  {
   "cell_type": "code",
   "execution_count": null,
   "metadata": {
    "scrolled": true
   },
   "outputs": [],
   "source": [
    "sample = gform.copy()\n",
    "\n",
    "## basic stats:\n",
    "### mean score\n",
    "### median score\n",
    "### std\n",
    "## sample can be: all, those who answered both before and after,\n",
    "## those who played between date1 and date2, ...\n",
    "#def plotBasicStats(sample):\n",
    "scoresAll = pd.Series()\n",
    "scoresBefore = pd.Series()\n",
    "scoresAfter = pd.Series()\n",
    "\n",
    "for userIndex in sample.index:\n",
    "    scores = getScore(sample.loc[userIndex,localplayerguidkey])\n",
    "    if(len(scores['before'][0]) != 0):\n",
    "        scoresBefore[str(userIndex)] = scores['before'][0][0]\n",
    "    if(len(scores['after'][0]) != 0):\n",
    "        scoresAfter[str(userIndex)] = scores['after'][0][0]\n",
    "    index = 0\n",
    "    for scoreColumn in scores:\n",
    "            for scoreTable in scores.loc[:,scoreColumn]:\n",
    "                for score in scoreTable:\n",
    "                    scoresAll[str(userIndex)+':'+str(index)] = score\n",
    "                    index = index + 1\n",
    "\n",
    "result = pd.DataFrame(\n",
    "    data = {\n",
    "    'all' : {'mean' : scoresAll.mean(), 'std' : scoresAll.std()},\n",
    "    'before' : {'mean' : scoresBefore.mean(), 'std' : scoresBefore.std()},\n",
    "    'after' : {'mean' : scoresAfter.mean(), 'std' : scoresAfter.std()},\n",
    "}\n",
    ")\n",
    "\n",
    "print(result)\n",
    "print(\"\\n\\n\\n\")\n",
    "print(\"all\\n\\tmean: {}\\n\\tstd: {}\\nbefore\\n\\tmean: {}\\n\\tstd: {}\\nafter\\n\\tmean: {}\\n\\tstd: {}\".format(\n",
    "    scoresAll.mean(),\n",
    "    scoresAll.std(),\n",
    "    scoresBefore.mean(),\n",
    "    scoresBefore.std(),\n",
    "    scoresAfter.mean(),\n",
    "    scoresAfter.std())\n",
    "     )\n",
    "\n"
   ]
  },
  {
   "cell_type": "code",
   "execution_count": null,
   "metadata": {},
   "outputs": [],
   "source": [
    "def createStatSet(series):\n",
    "    result = {\n",
    "        'median' : series.median(),\n",
    "        'mean' : series.mean(),\n",
    "        'std' : series.std(),\n",
    "        'count' : len(series)}\n",
    "    return result"
   ]
  },
  {
   "cell_type": "code",
   "execution_count": null,
   "metadata": {},
   "outputs": [],
   "source": [
    "sample = gform.copy()\n",
    "\n",
    "## basic stats:\n",
    "### mean score\n",
    "### median score\n",
    "### std\n",
    "## sample can be: all, those who answered both before and after,\n",
    "## those who played between date1 and date2, ...\n",
    "#def plotBasicStats(sample):\n",
    "\n",
    "sampleBefore = sample[sample['Temporality'] == 'before']\n",
    "sampleAfter = sample[sample['Temporality'] == 'after']\n",
    "sampleUndefined = sample[sample['Temporality'] == 'undefined']\n",
    "\n",
    "scientificQuestions = correctAnswers.copy()\n",
    "allQuestions = correctAnswers + demographicAnswers\n",
    "\n",
    "sciBinarized = getAllBinarized( _source = scientificQuestions, _form = sample)\n",
    "sciBinarizedBefore = getAllBinarized( _source = scientificQuestions, _form = sampleBefore)\n",
    "sciBinarizedAfter = getAllBinarized( _source = scientificQuestions, _form = sampleAfter)\n",
    "sciBinarizedUndefined = getAllBinarized( _source = scientificQuestions, _form = sampleUndefined)\n",
    "\n",
    "allBinarized = getAllBinarized( _source = allQuestions, _form = sample)\n",
    "allBinarizedBefore = getAllBinarized( _source = allQuestions, _form = sampleBefore)\n",
    "allBinarizedAfter = getAllBinarized( _source = allQuestions, _form = sampleAfter)\n",
    "allBinarizedUndefined = getAllBinarized( _source = allQuestions, _form = sampleUndefined)\n",
    "\n",
    "scoresAll = pd.Series(np.dot(sciBinarized, np.ones(sciBinarized.shape[1])))\n",
    "scoresBefore = pd.Series(np.dot(sciBinarizedBefore, np.ones(sciBinarizedBefore.shape[1])))\n",
    "scoresAfter = pd.Series(np.dot(sciBinarizedAfter, np.ones(sciBinarizedAfter.shape[1])))\n",
    "scoresUndefined = pd.Series(np.dot(sciBinarizedUndefined, np.ones(sciBinarizedUndefined.shape[1])))\n",
    "\n",
    "result = pd.DataFrame(\n",
    "    data = {\n",
    "    'all' : createStatSet(scoresAll),\n",
    "    'before' : createStatSet(scoresBefore),\n",
    "    'after' : createStatSet(scoresAfter),\n",
    "    'undefined' : createStatSet(scoresUndefined),\n",
    "}\n",
    ")\n",
    "\n",
    "print(result)"
   ]
  },
  {
   "cell_type": "code",
   "execution_count": null,
   "metadata": {
    "scrolled": false
   },
   "outputs": [],
   "source": [
    "## percentage correct\n",
    "### percentage correct - 3 columns\n",
    "### percentage cross correct\n",
    "### percentage cross correct, conditionnally"
   ]
  },
  {
   "cell_type": "code",
   "execution_count": null,
   "metadata": {},
   "outputs": [],
   "source": [
    "def getPercentagePerQuestion(_binarized):\n",
    "    totalPerQuestionDF = pd.DataFrame(data=np.dot(np.ones(_binarized.shape[0]), _binarized), index=_binarized.columns)\n",
    "    percentagePerQuestion = totalPerQuestionDF*100 / _binarized.shape[0]\n",
    "    return percentagePerQuestion"
   ]
  },
  {
   "cell_type": "code",
   "execution_count": null,
   "metadata": {},
   "outputs": [],
   "source": [
    "#totalPerQuestion = np.dot(np.ones(allSciBinarized.shape[0]), allSciBinarized)\n",
    "#totalPerQuestion.shape\n",
    "totalPerQuestionSci = np.dot(np.ones(sciBinarized.shape[0]), allSciBinarized)\n",
    "totalPerQuestionAll = np.dot(np.ones(allBinarized.shape[0]), allBinarized)\n",
    "\n",
    "percentagePerQuestionAll = getPercentagePerQuestion(allBinarized)\n",
    "percentagePerQuestionBefore = getPercentagePerQuestion(allBinarizedBefore)\n",
    "percentagePerQuestionAfter = getPercentagePerQuestion(allBinarizedAfter)\n",
    "percentagePerQuestionUndefined = getPercentagePerQuestion(allBinarizedUndefined)\n",
    "\n",
    "percentagePerQuestionConcatenated = pd.concat(\n",
    "    [\n",
    "        percentagePerQuestionAll,\n",
    "        percentagePerQuestionBefore,\n",
    "        percentagePerQuestionAfter,\n",
    "        percentagePerQuestionUndefined,\n",
    "    ]\n",
    "    , axis=1)\n",
    "_fig = plt.figure(figsize=(20,20))\n",
    "_ax1 = plt.subplot(111)\n",
    "_ax1.set_title('percentage correct per question: all, before, after, undefined')\n",
    "sns.heatmap(percentagePerQuestionConcatenated.round().astype(int),ax=_ax1,cmap=plt.cm.jet,square=True,annot=True,fmt='d')"
   ]
  },
  {
   "cell_type": "code",
   "execution_count": null,
   "metadata": {},
   "outputs": [],
   "source": [
    "sample = gform\n",
    "plotBasicStats(sample)"
   ]
  }
 ],
 "metadata": {
  "kernelspec": {
   "display_name": "Python [conda env:python3]",
   "language": "python",
   "name": "conda-env-python3-py"
  },
  "language_info": {
   "codemirror_mode": {
    "name": "ipython",
    "version": 3
   },
   "file_extension": ".py",
   "mimetype": "text/x-python",
   "name": "python",
   "nbconvert_exporter": "python",
   "pygments_lexer": "ipython3",
   "version": "3.5.4"
  }
 },
 "nbformat": 4,
 "nbformat_minor": 2
}
