{
 "cells": [
  {
   "cell_type": "markdown",
   "metadata": {},
   "source": [
    "# 1.2 Google form analysis tests with sessions"
   ]
  },
  {
   "cell_type": "code",
   "execution_count": null,
   "metadata": {
    "scrolled": false
   },
   "outputs": [],
   "source": [
    "#from datetime import datetime\n",
    "%run \"../Functions/1. Google form analysis.ipynb\"\n",
    "#%run \"../Functions/2. Game sessions.ipynb\""
   ]
  },
  {
   "cell_type": "markdown",
   "metadata": {},
   "source": [
    "(userIDThatDidNotAnswer)\n",
    "(userID1AnswerEN)\n",
    "(userIDAnswersEN)\n",
    "(userID1ScoreEN)\n",
    "(userIDScoresEN)\n",
    "(userID1AnswerFR)\n",
    "(userIDAnswersFR)\n",
    "(userID1ScoreFR)\n",
    "(userIDScoresFR)\n",
    "(userIDAnswersENFR)"
   ]
  },
  {
   "cell_type": "markdown",
   "metadata": {},
   "source": [
    "#### getAnswerTemporality tinkering"
   ]
  },
  {
   "cell_type": "code",
   "execution_count": null,
   "metadata": {},
   "outputs": [],
   "source": [
    "allGFormResponders = getAllResponders()"
   ]
  },
  {
   "cell_type": "markdown",
   "metadata": {},
   "source": [
    "##### users that played more than once"
   ]
  },
  {
   "cell_type": "code",
   "execution_count": null,
   "metadata": {},
   "outputs": [],
   "source": [
    "for uid in allGFormResponders:\n",
    "    if(len(getUserSessions(rmdf152, uid)) > 2):\n",
    "        print(uid + ' ' + str(len(getUserSessions(rmdf152, uid))))"
   ]
  },
  {
   "cell_type": "code",
   "execution_count": null,
   "metadata": {},
   "outputs": [],
   "source": [
    "type(allGFormResponders)"
   ]
  },
  {
   "cell_type": "code",
   "execution_count": null,
   "metadata": {
    "scrolled": true
   },
   "outputs": [],
   "source": [
    "len(allGFormResponders)"
   ]
  },
  {
   "cell_type": "code",
   "execution_count": null,
   "metadata": {},
   "outputs": [],
   "source": [
    "allUniqueGFormResponders = pd.Series(allGFormResponders).unique()\n",
    "len(allUniqueGFormResponders)"
   ]
  },
  {
   "cell_type": "markdown",
   "metadata": {},
   "source": [
    "##### users that answered more than once"
   ]
  },
  {
   "cell_type": "code",
   "execution_count": null,
   "metadata": {},
   "outputs": [],
   "source": [
    "allMultipleGFormResponders = pd.Series(gform[localplayerguidkey]).value_counts()\n",
    "allMultipleGFormResponders = allMultipleGFormResponders[allMultipleGFormResponders > 1]\n",
    "allMultipleGFormResponders = pd.Series(allMultipleGFormResponders.index)\n",
    "#allMultipleGFormResponders"
   ]
  },
  {
   "cell_type": "code",
   "execution_count": null,
   "metadata": {},
   "outputs": [],
   "source": [
    "testUserID = '\"bfdfd356-5d6f-4696-a2f1-c1dc338aa64b\"' # 4 sessions"
   ]
  },
  {
   "cell_type": "code",
   "execution_count": null,
   "metadata": {},
   "outputs": [],
   "source": [
    "#testUserID = '\"a7936587-8b71-43b6-9c61-17b2c2b55de3\"' # 2 sessions"
   ]
  },
  {
   "cell_type": "markdown",
   "metadata": {},
   "source": [
    "#### gform timestamps"
   ]
  },
  {
   "cell_type": "code",
   "execution_count": null,
   "metadata": {},
   "outputs": [],
   "source": [
    "gformTimestamps = gform[gform[localplayerguidkey]==testUserID]['Timestamp']"
   ]
  },
  {
   "cell_type": "code",
   "execution_count": null,
   "metadata": {},
   "outputs": [],
   "source": [
    "gform[gform['Timestamp'] > '2017/10/15']['Timestamp'].sort_values()"
   ]
  },
  {
   "cell_type": "code",
   "execution_count": null,
   "metadata": {},
   "outputs": [],
   "source": [
    "pd.to_datetime('2017/10/16 2:14:12 PM GMT+1')"
   ]
  },
  {
   "cell_type": "code",
   "execution_count": null,
   "metadata": {},
   "outputs": [],
   "source": [
    "pd.to_datetime('2017/10/16 2:14:12 PM GMT+1', utc=True)"
   ]
  },
  {
   "cell_type": "code",
   "execution_count": null,
   "metadata": {
    "scrolled": true
   },
   "outputs": [],
   "source": [
    "pd.to_datetime('2017/10/16 2:14:12 PM')"
   ]
  },
  {
   "cell_type": "markdown",
   "metadata": {},
   "source": [
    "#### RedMetrics timestamps"
   ]
  },
  {
   "cell_type": "code",
   "execution_count": null,
   "metadata": {},
   "outputs": [],
   "source": [
    "pd.to_datetime('2017-11-02T11:08:03.813Z')"
   ]
  },
  {
   "cell_type": "code",
   "execution_count": null,
   "metadata": {},
   "outputs": [],
   "source": [
    "pd.to_datetime('2017-11-02T11:08:03.813Z', utc=True)"
   ]
  },
  {
   "cell_type": "code",
   "execution_count": null,
   "metadata": {},
   "outputs": [],
   "source": [
    "rmdf152\\\n",
    "[(rmdf152['userTime']>pd.Timestamp('2017-10-26T14:37', tz='UTC'))\\\n",
    "& (rmdf152['userTime']<pd.Timestamp('2017-10-26T14:38', tz='UTC'))]\\\n",
    "['userTime'].sort_values()\n",
    "#.dropna(subset=['userTime'])"
   ]
  },
  {
   "cell_type": "code",
   "execution_count": null,
   "metadata": {},
   "outputs": [],
   "source": [
    "#rmdf152.query(\"('2017-10-24T08:15:11' < userTime < '2017-10-24T08:15:22')\")"
   ]
  },
  {
   "cell_type": "code",
   "execution_count": null,
   "metadata": {},
   "outputs": [],
   "source": [
    "rmdf152[rmdf152['userTime']>pd.Timestamp('2017-10-16T11:58:03', tz='UTC')]['userTime'].sort_values().head()"
   ]
  },
  {
   "cell_type": "markdown",
   "metadata": {},
   "source": [
    "#### comparison"
   ]
  },
  {
   "cell_type": "markdown",
   "metadata": {},
   "source": [
    "firstGameTime='2017-10-16 12:06:39.217000+00:00'\n",
    "dateGform='2017-10-16 14:04:27+00:00'\n",
    "dateGform='2017-10-16 15:22:25+00:00'\n",
    "firstGameTime='2017-10-16 11:58:03.987000+00:00'\n",
    "dateGform='2017-10-16 13:55:31+00:00'\n",
    "dateGform='2017-10-16 15:06:32+00:00'"
   ]
  },
  {
   "cell_type": "markdown",
   "metadata": {
    "collapsed": true
   },
   "source": [
    "67603    2017-10-16T12:06:39.217Z\n",
    "18     2017/10/16 1:04:27 PM GMT+1\n",
    "23     2017/10/16 2:22:25 PM GMT+1\n",
    "\n",
    "66989    2017-10-16T11:58:03.987Z      \n",
    "13    2017/10/16 12:55:31 PM GMT+1\n",
    "59     2017/10/16 2:06:32 PM GMT+1"
   ]
  },
  {
   "cell_type": "code",
   "execution_count": null,
   "metadata": {},
   "outputs": [],
   "source": [
    "rmfirst1 = '2017-10-16T12:06:39.217Z'\n",
    "gfa1before1 = '2017/10/16 1:04:27 PM GMT+1'\n",
    "gfa1after1 = '2017/10/16 2:22:25 PM GMT+1'\n",
    "\n",
    "rmfirst2 = '2017-10-16T11:58:03.987Z'      \n",
    "gfa1before2 = '2017/10/16 12:55:31 PM GMT+1'\n",
    "gfa1after2 = '2017/10/16 2:06:32 PM GMT+1'"
   ]
  },
  {
   "cell_type": "code",
   "execution_count": null,
   "metadata": {},
   "outputs": [],
   "source": [
    "dt_rmfirst1 = pd.to_datetime(rmfirst1)\n",
    "dt_gfa1before1 = pd.to_datetime(gfa1before1)\n",
    "dt_gfa1after1 = pd.to_datetime(gfa1after1)\n",
    "\n",
    "dt_rmfirst2 = pd.to_datetime(rmfirst2)\n",
    "dt_gfa1before2 = pd.to_datetime(gfa1before2)\n",
    "dt_gfa1after2 = pd.to_datetime(gfa1after2)"
   ]
  },
  {
   "cell_type": "code",
   "execution_count": null,
   "metadata": {},
   "outputs": [],
   "source": [
    "dt_rmfirst1 = pd.to_datetime(rmfirst1)\n",
    "dt_gfa1before1 = pd.to_datetime(gfa1before1)\n",
    "dt_gfa1after1 = pd.to_datetime(gfa1after1)\n",
    "\n",
    "dt_rmfirst2 = pd.to_datetime(rmfirst2)\n",
    "dt_gfa1before2 = pd.to_datetime(gfa1before2)\n",
    "dt_gfa1after2 = pd.to_datetime(gfa1after2)"
   ]
  },
  {
   "cell_type": "code",
   "execution_count": null,
   "metadata": {},
   "outputs": [],
   "source": [
    "dt_rmfirst1utc = pd.to_datetime(rmfirst1, utc=True)\n",
    "dt_gfa1before1utc = pd.to_datetime(gfa1before1).tz_localize('Europe/Berlin')\n",
    "dt_gfa1after1utc = pd.to_datetime(gfa1after1).tz_localize('Europe/Berlin')\n",
    "\n",
    "dt_rmfirst2utc = pd.to_datetime(rmfirst2, utc=True)\n",
    "dt_gfa1before2utc = pd.to_datetime(gfa1before2).tz_localize('Europe/Berlin')\n",
    "dt_gfa1after2utc = pd.to_datetime(gfa1after2).tz_localize('Europe/Berlin')"
   ]
  },
  {
   "cell_type": "code",
   "execution_count": null,
   "metadata": {},
   "outputs": [],
   "source": [
    "[dt_rmfirst1,dt_gfa1before1,dt_gfa1after1,dt_rmfirst2,dt_gfa1before2,dt_gfa1after2]"
   ]
  },
  {
   "cell_type": "code",
   "execution_count": null,
   "metadata": {},
   "outputs": [],
   "source": [
    "[dt_rmfirst1utc,dt_gfa1before1utc,dt_gfa1after1utc,dt_rmfirst2utc,dt_gfa1before2utc,dt_gfa1after2utc]"
   ]
  },
  {
   "cell_type": "code",
   "execution_count": null,
   "metadata": {},
   "outputs": [],
   "source": [
    "[dt_rmfirst1utc>dt_gfa1before1utc,dt_rmfirst1utc<dt_gfa1after1utc,dt_rmfirst2utc>dt_gfa1before2utc,dt_rmfirst2utc<dt_gfa1after2utc]"
   ]
  },
  {
   "cell_type": "code",
   "execution_count": null,
   "metadata": {},
   "outputs": [],
   "source": [
    "stamp = pd.to_datetime('2017-11-02T11:08:03.813Z', utc=True)\n",
    "stamp"
   ]
  },
  {
   "cell_type": "code",
   "execution_count": null,
   "metadata": {},
   "outputs": [],
   "source": [
    "stamp = pd.to_datetime('2017-11-02T11:08:03.813Z')\n",
    "type(stamp)"
   ]
  },
  {
   "cell_type": "code",
   "execution_count": null,
   "metadata": {},
   "outputs": [],
   "source": [
    "#stamp = stamp.tz_localize('America/Sao_Paulo')\n",
    "stamp = stamp.tz_localize('GMT')\n",
    "new_stamp = stamp.tz_convert('US/Eastern')\n",
    "new_stamp"
   ]
  },
  {
   "cell_type": "code",
   "execution_count": null,
   "metadata": {},
   "outputs": [],
   "source": [
    "stamp"
   ]
  },
  {
   "cell_type": "code",
   "execution_count": null,
   "metadata": {},
   "outputs": [],
   "source": [
    "new_stamp"
   ]
  },
  {
   "cell_type": "code",
   "execution_count": null,
   "metadata": {},
   "outputs": [],
   "source": [
    "for timestamp in gformTimestamps:\n",
    "    print(timestamp)"
   ]
  },
  {
   "cell_type": "code",
   "execution_count": null,
   "metadata": {},
   "outputs": [],
   "source": [
    "sessions = getUserSessions(rmdf152, testUserID)\n",
    "len(sessions)"
   ]
  },
  {
   "cell_type": "code",
   "execution_count": null,
   "metadata": {},
   "outputs": [],
   "source": [
    "sessions"
   ]
  },
  {
   "cell_type": "markdown",
   "metadata": {},
   "source": [
    "#### getFirstEventDate tinkering"
   ]
  },
  {
   "cell_type": "code",
   "execution_count": null,
   "metadata": {},
   "outputs": [],
   "source": [
    "_userId = 'bfdfd356-5d6f-4696-a2f1-c1dc338aa64b'\n",
    "_rmDF = rmdf152\n",
    "\n",
    "# get datetime of first significant event\n",
    "# _userId is assumed to be in RedMetrics format\n",
    "# returns a pandas._libs.tslib.Timestamp\n",
    "#def getFirstEventDate( _userId, _rmDF = rmdf152 ):\n",
    "_sessions = getUserSessions(_rmDF, _userId)\n",
    "\n",
    "_firstGameTime = pd.Timestamp.max.tz_localize('utc')\n",
    "\n",
    "for session in _sessions:\n",
    "    _timedEvents = _rmDF[_rmDF['sessionId']==session]\n",
    "\n",
    "    # drops irrelevant events like 'start' and 'configure' ones\n",
    "    _timedEvents = _timedEvents.dropna(subset=['section'])\n",
    "\n",
    "    if(len(_timedEvents) > 0):\n",
    "        _earliest = _timedEvents['userTime'].min()\n",
    "        if(_earliest < _firstGameTime):\n",
    "            _firstGameTime = _earliest\n",
    "\n",
    "_firstGameTime"
   ]
  },
  {
   "cell_type": "markdown",
   "metadata": {},
   "source": [
    "#### getBoundingEventDates tinkering"
   ]
  },
  {
   "cell_type": "code",
   "execution_count": null,
   "metadata": {},
   "outputs": [],
   "source": [
    "_userId = 'bfdfd356-5d6f-4696-a2f1-c1dc338aa64b'\n",
    "_rmDF = rmdf152\n",
    "\n",
    "# get datetime of first and last significant events\n",
    "# _userId is assumed to be in RedMetrics format\n",
    "# returns a pair of pandas._libs.tslib.Timestamp\n",
    "#def getBoundingEventDates( _userId, _rmDF = rmdf152 ):\n",
    "_sessions = getUserSessions(_rmDF, _userId)\n",
    "\n",
    "_firstGameTime = pd.Timestamp.max.tz_localize('utc')\n",
    "_lastGameTime = pd.Timestamp.min.tz_localize('utc')\n",
    "\n",
    "for session in _sessions:\n",
    "    _timedEvents = _rmDF[_rmDF['sessionId']==session]\n",
    "\n",
    "    # drops irrelevant events like 'start' and 'configure' ones\n",
    "    _timedEvents = _timedEvents.dropna(subset=['section'])\n",
    "\n",
    "    if(len(_timedEvents) > 0):\n",
    "        _earliest = _timedEvents['userTime'].min()\n",
    "        _latest = _timedEvents['userTime'].max()\n",
    "        if(_earliest < _firstGameTime):\n",
    "            _firstGameTime = _earliest\n",
    "        if(_latest > _lastGameTime):\n",
    "            _lastGameTime = _latest\n",
    "\n",
    "(_firstGameTime,_lastGameTime)"
   ]
  },
  {
   "cell_type": "markdown",
   "metadata": {},
   "source": [
    "#### getTemporality tinkering/exploration"
   ]
  },
  {
   "cell_type": "code",
   "execution_count": null,
   "metadata": {},
   "outputs": [],
   "source": [
    "for timestamp in gform[gform[localplayerguidkey]==_userId]['Timestamp']:\n",
    "    print(timestamp)\n",
    "    if(timestamp < _firstGameTime):\n",
    "        print(answerTemporalities[0])\n",
    "    elif (timestamp > _firstGameTime):\n",
    "        print(answerTemporalities[1])\n",
    "    else:\n",
    "        print(answerTemporalities[2])"
   ]
  },
  {
   "cell_type": "code",
   "execution_count": null,
   "metadata": {},
   "outputs": [],
   "source": [
    "gform[gform[localplayerguidkey]==_userId]['Timestamp']"
   ]
  },
  {
   "cell_type": "code",
   "execution_count": null,
   "metadata": {},
   "outputs": [],
   "source": [
    "for userId in allMultipleGFormResponders:\n",
    "    (firstGameTime,lastGameTime) = getBoundingEventDates(userId)\n",
    "    \n",
    "    strDebug = '\\n\\n\\nuid='+str(userId)\\\n",
    "    +'\\nfirst= ' + str(firstGameTime)\\\n",
    "    +'\\nlast=  ' + str(lastGameTime)\n",
    "    \n",
    "    gformTimestamps = gform[gform[localplayerguidkey]==userId]['Timestamp']\n",
    "    \n",
    "    for dateGform in gformTimestamps:\n",
    "        # Google forms Timestamps are GMT+1\n",
    "        #print('dateGform='+str(dateGform))\n",
    "        dateGform = dateGform.tz_convert('utc')\n",
    "        if(firstGameTime != pd.Timestamp.max.tz_localize('utc')):\n",
    "            if(dateGform <= firstGameTime):\n",
    "                strDebug = strDebug + '\\n' + str(dateGform) + '=>' + str(answerTemporalities[0])\n",
    "            elif (dateGform > firstGameTime):\n",
    "                strDebug = strDebug + '\\n' + str(dateGform) + '=>' + str(answerTemporalities[1])\n",
    "            else:\n",
    "                strDebug = strDebug + '\\n' + str(dateGform) + '=>' + str(answerTemporalities[2])\n",
    "        else:\n",
    "            strDebug = strDebug + '\\n' + str(dateGform) + '=>' + str(answerTemporalities[2])\n",
    "            \n",
    "    print(strDebug)"
   ]
  },
  {
   "cell_type": "code",
   "execution_count": null,
   "metadata": {},
   "outputs": [],
   "source": [
    "gform[localplayerguidkey][12]"
   ]
  },
  {
   "cell_type": "code",
   "execution_count": null,
   "metadata": {},
   "outputs": [],
   "source": [
    "gform[localplayerguidkey][50]"
   ]
  },
  {
   "cell_type": "code",
   "execution_count": null,
   "metadata": {},
   "outputs": [],
   "source": [
    "gform[localplayerguidkey][50]"
   ]
  },
  {
   "cell_type": "code",
   "execution_count": null,
   "metadata": {},
   "outputs": [],
   "source": [
    "getFirstEventDate(gform[localplayerguidkey][50])"
   ]
  },
  {
   "cell_type": "code",
   "execution_count": null,
   "metadata": {},
   "outputs": [],
   "source": [
    "getUserSessions(rmdf152, gform[localplayerguidkey][3])"
   ]
  },
  {
   "cell_type": "code",
   "execution_count": null,
   "metadata": {},
   "outputs": [],
   "source": [
    "#for index in gform.index:\n",
    "#    print(index)"
   ]
  },
  {
   "cell_type": "code",
   "execution_count": null,
   "metadata": {},
   "outputs": [],
   "source": [
    "gform['Timestamp'][0]"
   ]
  },
  {
   "cell_type": "code",
   "execution_count": null,
   "metadata": {
    "scrolled": true
   },
   "outputs": [],
   "source": [
    "gform.loc[0][localplayerguidkey]"
   ]
  },
  {
   "cell_type": "code",
   "execution_count": null,
   "metadata": {},
   "outputs": [],
   "source": [
    "print(gform['Temporality'][0])"
   ]
  },
  {
   "cell_type": "code",
   "execution_count": null,
   "metadata": {},
   "outputs": [],
   "source": [
    "print(gform.loc[6,'Temporality'])"
   ]
  },
  {
   "cell_type": "code",
   "execution_count": null,
   "metadata": {},
   "outputs": [],
   "source": [
    "setAnswerTemporalities(gform)"
   ]
  },
  {
   "cell_type": "code",
   "execution_count": null,
   "metadata": {},
   "outputs": [],
   "source": [
    "gform"
   ]
  },
  {
   "cell_type": "markdown",
   "metadata": {},
   "source": [
    "#### extended getTemporality"
   ]
  },
  {
   "cell_type": "markdown",
   "metadata": {},
   "source": [
    "##### data preparation"
   ]
  },
  {
   "cell_type": "code",
   "execution_count": null,
   "metadata": {},
   "outputs": [],
   "source": [
    "_gformDFWithExtraColumn = gform.copy()"
   ]
  },
  {
   "cell_type": "code",
   "execution_count": null,
   "metadata": {},
   "outputs": [],
   "source": [
    "# initialization of 'userId' column\n",
    "undefinedIndices = _gformDFWithExtraColumn['Temporality'] == 'undefined'\n",
    "# indices for which the user id needs to be found\n",
    "_gformDFWithExtraColumn.loc[undefinedIndices, 'userId'] = 0\n",
    "# indices for which the user id is known\n",
    "_gformDFWithExtraColumn.loc[~undefinedIndices, 'userId'] = _gformDFWithExtraColumn.loc[~undefinedIndices, localplayerguidkey]"
   ]
  },
  {
   "cell_type": "code",
   "execution_count": null,
   "metadata": {
    "scrolled": false
   },
   "outputs": [],
   "source": [
    "_gformDF = gform.copy()\n",
    "\n",
    "totalCount = len(_gformDF)\n",
    "beforeCounts = len(_gformDF[_gformDF['Temporality'] == answerTemporalities[0]])\n",
    "afterCounts = len(_gformDF[_gformDF['Temporality'] == answerTemporalities[1]])\n",
    "undefinedCounts = len(_gformDF[_gformDF['Temporality'] == answerTemporalities[2]])\n",
    "\n",
    "print(\\\n",
    "    \"totalCount=\"+str(totalCount)+\\\n",
    "    \"\\nbeforeCounts=\"+str(beforeCounts)+\\\n",
    "    \"\\nafterCounts=\"+str(afterCounts)+\\\n",
    "    \"\\nundefinedCounts=\"+str(undefinedCounts)+\\\n",
    "    \"\\n\"\n",
    "     )\n",
    "      \n",
    "timestamp = 0\n",
    "#surveyAnswer = _gformDF.loc[0,:]\n",
    "\n",
    "for answerIndex in _gformDF.index:\n",
    "    if(_gformDF.loc[answerIndex,'Temporality'] == answerTemporalities[2]):\n",
    "        print(_gformDF.loc[answerIndex,localplayerguidkey])\n",
    "        print(_gformDF.loc[answerIndex,'Timestamp'])\n",
    "        timestamp = _gformDF.loc[answerIndex,'Timestamp']\n",
    "        #surveyAnswer = _gformDF.loc[answerIndex,:]\n",
    "        break"
   ]
  },
  {
   "cell_type": "code",
   "execution_count": null,
   "metadata": {},
   "outputs": [],
   "source": [
    "timestamp.date()"
   ]
  },
  {
   "cell_type": "code",
   "execution_count": null,
   "metadata": {},
   "outputs": [],
   "source": [
    "rmdf152.loc[0,'userTime'].date() == timestamp.date()"
   ]
  },
  {
   "cell_type": "markdown",
   "metadata": {},
   "source": [
    "##### functions"
   ]
  },
  {
   "cell_type": "code",
   "execution_count": null,
   "metadata": {},
   "outputs": [],
   "source": [
    "def getFuncHasSameDate(thisDate):\n",
    "    def hasSameDate(timestamp):\n",
    "        return timestamp.date() == thisDate\n",
    "    return hasSameDate"
   ]
  },
  {
   "cell_type": "code",
   "execution_count": null,
   "metadata": {},
   "outputs": [],
   "source": [
    "def associateUserIdWithGFAnswer(candidateUserId, surveyAnswerIndex, surveyAnswerTemporality):\n",
    "    if not (candidateUserId in _gformDFWithExtraColumn['userId']):\n",
    "        # candidate userId is available:\n",
    "        # associate this candidate userId to the answer\n",
    "        _gformDFWithExtraColumn.loc[surveyAnswerIndex, 'userId'] = candidateUserId\n",
    "        _gformDFWithExtraColumn.loc[surveyAnswerIndex, 'Temporality'] = surveyAnswerTemporality\n",
    "    else:\n",
    "        print(\"candidate \" + candidateUserId + \" already in use\")\n",
    "    return ((_gformDFWithExtraColumn.loc[surveyAnswerIndex, 'userId'] == candidateUserId)\\\n",
    "            and (_gformDFWithExtraColumn.loc[surveyAnswerIndex, 'Temporality'] == surveyAnswerTemporality))            "
   ]
  },
  {
   "cell_type": "code",
   "execution_count": null,
   "metadata": {},
   "outputs": [],
   "source": [
    "def associateUserIdsWithGFAnswer(candidateUserIds, surveyAnswerIndex, surveyAnswerTemporality):\n",
    "    if len(candidateUserIds) > 0:\n",
    "        # if(len(candidateUserIds) == 1):\n",
    "        # perfect case if this userId is available\n",
    "        for candidate in candidateUserIds:\n",
    "            if not (candidate in _gformDFWithExtraColumn['userId']):\n",
    "                print(\"candidate \" + candidate + \" available\")\n",
    "                # candidate userId is available:\n",
    "                # associate this candidate userId to the answer\n",
    "                _gformDFWithExtraColumn.loc[surveyAnswerIndex, 'userId'] = candidate\n",
    "                _gformDFWithExtraColumn.loc[surveyAnswerIndex, 'Temporality'] = surveyAnswerTemporality\n",
    "                return True\n",
    "        print(\"candidate \" + candidate + \" already in use\")\n",
    "    else:\n",
    "        print(\"no candidate userId\")\n",
    "    return False"
   ]
  },
  {
   "cell_type": "markdown",
   "metadata": {},
   "source": [
    "##### computation of new temporality"
   ]
  },
  {
   "cell_type": "code",
   "execution_count": null,
   "metadata": {},
   "outputs": [],
   "source": [
    "# inputs:\n",
    "#   answerIndex\n",
    "#   timestamp\n",
    "#\n",
    "# output:\n",
    "#   _gformDFWithExtraColumn[answerIndex, 'userId'] may be set\n",
    "#   _gformDFWithExtraColumn[answerIndex, 'Temporality'] may be set\n",
    "#"
   ]
  },
  {
   "cell_type": "code",
   "execution_count": null,
   "metadata": {},
   "outputs": [],
   "source": [
    "eventsOnThisDay = rmdf152[rmdf152['userTime'].apply(getFuncHasSameDate(timestamp.date()))].dropna(axis=1, how='all')"
   ]
  },
  {
   "cell_type": "code",
   "execution_count": null,
   "metadata": {},
   "outputs": [],
   "source": [
    "timeSpan = datetime.timedelta(hours = 1)"
   ]
  },
  {
   "cell_type": "code",
   "execution_count": null,
   "metadata": {},
   "outputs": [],
   "source": [
    "eventsBefore = eventsOnThisDay[eventsOnThisDay['userTime'] < timestamp]\n",
    "eventsBefore = eventsBefore[(timestamp - eventsBefore['userTime']) < timeSpan].dropna(axis=1, how='all')"
   ]
  },
  {
   "cell_type": "code",
   "execution_count": null,
   "metadata": {},
   "outputs": [],
   "source": [
    "#eventsBefore[['type', 'userId']]"
   ]
  },
  {
   "cell_type": "code",
   "execution_count": null,
   "metadata": {},
   "outputs": [],
   "source": [
    "eventsAfter = eventsOnThisDay[eventsOnThisDay['userTime'] > timestamp]\n",
    "eventsAfter = eventsAfter[(eventsAfter['userTime'] - timestamp) < timeSpan].dropna(axis=1, how='all')"
   ]
  },
  {
   "cell_type": "code",
   "execution_count": null,
   "metadata": {},
   "outputs": [],
   "source": [
    "eventsAfter[['type', 'userId']].head()"
   ]
  },
  {
   "cell_type": "code",
   "execution_count": null,
   "metadata": {},
   "outputs": [],
   "source": [
    "len(eventsBefore), len(eventsAfter)"
   ]
  },
  {
   "cell_type": "code",
   "execution_count": null,
   "metadata": {},
   "outputs": [],
   "source": [
    "# construct potential user ids from user ids found in events before the survey answer\n",
    "potentialPretestUserIds = pd.Series(eventsBefore[eventsBefore['type'] == 'start']['userId'].unique())\n",
    "strictPotentialPretestUserIds = potentialPretestUserIds[potentialPretestUserIds.isin(eventsAfter['userId'])]"
   ]
  },
  {
   "cell_type": "code",
   "execution_count": null,
   "metadata": {},
   "outputs": [],
   "source": [
    "# construct potential user ids from user ids found in events after the survey answer\n",
    "potentialPosttestUserIds = pd.Series(eventsBefore[~(eventsBefore['userId'].isin(potentialPretestUserIds))]['userId'].unique())\n",
    "strictPotentialPosttestUserIds = pd.Series(potentialPosttestUserIds[~potentialPosttestUserIds.isin(eventsAfter['userId'])].unique())"
   ]
  },
  {
   "cell_type": "code",
   "execution_count": null,
   "metadata": {},
   "outputs": [],
   "source": [
    "print(\n",
    "   \"#potentialPretestUserIds=\"+str(len(potentialPretestUserIds))\\\n",
    " + \"\\n#strictPotentialPretestUserIds=\"+str(len(strictPotentialPretestUserIds))\\\n",
    " + \"\\n#potentialPosttestUserIds=\"+str(len(potentialPosttestUserIds))\\\n",
    " + \"\\n#strictPotentialPosttestUserIds=\"+str(len(strictPotentialPosttestUserIds)))"
   ]
  },
  {
   "cell_type": "code",
   "execution_count": null,
   "metadata": {},
   "outputs": [],
   "source": [
    "# remove userIds that are already linked to a survey answer\n",
    "potentialPretestUserIds        = potentialPretestUserIds[~potentialPretestUserIds.isin(_gformDFWithExtraColumn['userId'])]\n",
    "strictPotentialPretestUserIds  = strictPotentialPretestUserIds[~strictPotentialPretestUserIds.isin(_gformDFWithExtraColumn['userId'])]\n",
    "potentialPosttestUserIds       = potentialPosttestUserIds[~potentialPosttestUserIds.isin(_gformDFWithExtraColumn['userId'])]\n",
    "strictPotentialPosttestUserIds = strictPotentialPosttestUserIds[~strictPotentialPosttestUserIds.isin(_gformDFWithExtraColumn['userId'])]\n",
    "\n",
    "print(\n",
    "   \"#potentialPretestUserIds=\"+str(len(potentialPretestUserIds))\\\n",
    " + \"\\n#strictPotentialPretestUserIds=\"+str(len(strictPotentialPretestUserIds))\\\n",
    " + \"\\n#potentialPosttestUserIds=\"+str(len(potentialPosttestUserIds))\\\n",
    " + \"\\n#strictPotentialPosttestUserIds=\"+str(len(strictPotentialPosttestUserIds)))"
   ]
  },
  {
   "cell_type": "code",
   "execution_count": null,
   "metadata": {},
   "outputs": [],
   "source": [
    "# booleans describing the type of survey answer\n",
    "isPotentialPretest = len(potentialPretestUserIds) > 0\n",
    "isStrictPotentialPretest = len(strictPotentialPretestUserIds) > 0\n",
    "isPotentialPosttest = len(potentialPosttestUserIds) > 0\n",
    "isStrictPotentialPosttest = len(strictPotentialPosttestUserIds) > 0\n",
    "\n",
    "if(isPotentialPretest and not isPotentialPosttest):\n",
    "    # definitely a pretest in any case.\n",
    "    # which userId is linked to this survey answer?\n",
    "    if isStrictPotentialPretest:\n",
    "        if not associateUserIdsWithGFAnswer(strictPotentialPretestUserIds, answerIndex, answerTemporalities[0]):\n",
    "            # no solution\n",
    "            # the candidate user id is already being used by an other survey answer\n",
    "            print('fail: strictPotentialPretestUserIds')\n",
    "        else:\n",
    "            print('success: strictPotentialPretestUserIds')\n",
    "    else:\n",
    "        if not associateUserIdsWithGFAnswer(potentialPretestUserIds, answerIndex, answerTemporalities[0]):\n",
    "            # no solution\n",
    "            # take closest in time?\n",
    "            print('fail: potentialPretestUserIds')\n",
    "        else:\n",
    "            print('success: potentialPretestUserIds')\n",
    "elif (isPotentialPosttest and not isPotentialPretest):\n",
    "    # definitely a posttest in any case.\n",
    "    # which userId is linked to this survey answer?\n",
    "    if isStrictPotentialPosttest:\n",
    "        if not associateUserIdsWithGFAnswer(strictPotentialPosttestUserIds, answerIndex, answerTemporalities[1]):\n",
    "            # no solution\n",
    "            # the candidate user id is already being used by an other survey answer\n",
    "            print('fail: strictPotentialPosttestUserIds')\n",
    "        else:\n",
    "            print('success: strictPotentialPosttestUserIds')\n",
    "    else:\n",
    "        if not associateUserIdsWithGFAnswer(potentialPosttestUserIds, answerIndex, answerTemporalities[1]):\n",
    "            # no solution\n",
    "            # take closest in time?\n",
    "            print('fail: potentialPosttestUserIds')\n",
    "        else:\n",
    "            print('success: potentialPosttestUserIds')\n",
    "else:\n",
    "    # pretest or posttest?\n",
    "    print('couldn\\'t determine pretest or posttest')\n",
    "\n",
    "print('\\n\\n')\n",
    "    \n",
    "print(\n",
    "   \"#potentialPretestUserIds=\"+str(len(potentialPretestUserIds))\\\n",
    " + \"\\n#strictPotentialPretestUserIds=\"+str(len(strictPotentialPretestUserIds))\\\n",
    " + \"\\n#potentialPosttestUserIds=\"+str(len(potentialPosttestUserIds))\\\n",
    " + \"\\n#strictPotentialPosttestUserIds=\"+str(len(strictPotentialPosttestUserIds)))\n",
    "\n",
    "print('\\n\\n')\n",
    "\n",
    "print(\n",
    "  \"isPotentialPretest=\"+str(isPotentialPretest)\\\n",
    "+ \"\\nisStrictPotentialPretest=\"+str(isStrictPotentialPretest)\\\n",
    "+ \"\\nisPotentialPosttest=\"+str(isPotentialPosttest)\\\n",
    "+ \"\\nisStrictPotentialPosttest=\"+str(isStrictPotentialPosttest))"
   ]
  },
  {
   "cell_type": "code",
   "execution_count": null,
   "metadata": {},
   "outputs": [],
   "source": [
    "#def getExtendedTemporality( answerDate, firstGameEventDate ):\n",
    "result = answerTemporalities[2]\n",
    "if(gameEventDate != pd.Timestamp.max.tz_localize('utc')):\n",
    "    if(answerDate <= gameEventDate):\n",
    "        result = answerTemporalities[0]\n",
    "    elif (answerDate > gameEventDate):\n",
    "        result = answerTemporalities[1]\n",
    "else:\n",
    "    # search for a close-enough session, even if it doesn't belong to the user\n",
    "    # check that this user doesn't already have survey answers\n",
    "    \n",
    "    # search for games starting just after\n",
    "    #   pretests are more frequent than posttests\n",
    "    eventsAfter = rmdf152[rmdf152['serverTime']]\n",
    "    \n",
    "    # search for games ending just before\n",
    "    \n",
    "    # search for any overlapping game\n",
    "    \n",
    "    # search for any overlapping game\n",
    "    \n",
    "\n",
    "result"
   ]
  },
  {
   "cell_type": "code",
   "execution_count": null,
   "metadata": {},
   "outputs": [],
   "source": [
    "#def setAnswerTemporalities( _gformDF = gform ):\n",
    "# check whether temporalities have already been set\n",
    "if(len(_gformDF['Temporality'].unique()) == 1):\n",
    "    # format : key = _userId, value = [_firstEventDate, 0 or _gformDF.index of before, 0 or _gformDF.index of after]\n",
    "    temporalities = {}\n",
    "\n",
    "    for _index in _gformDF.index:\n",
    "        _userId = _gformDF.loc[_index,localplayerguidkey]\n",
    "        _firstEventDate, beforeIndex, afterIndex = [0,0,0]\n",
    "\n",
    "        if _userId in temporalities:\n",
    "            _firstEventDate, beforeIndex, afterIndex = temporalities[_userId]\n",
    "        else:\n",
    "            _firstEventDate = getFirstEventDate(_userId)\n",
    "\n",
    "        temporality = getTemporality(_gformDF.loc[_index,'Timestamp'],_firstEventDate)\n",
    "\n",
    "        if temporality == answerTemporalities[0] and beforeIndex != 0 :\n",
    "            if _gformDF.loc[_index,'Timestamp'] > _gformDF.loc[beforeIndex,'Timestamp']:\n",
    "                _gformDF.loc[beforeIndex,'Temporality'] = answerTemporalities[2]\n",
    "            else:\n",
    "                temporality = answerTemporalities[2]\n",
    "        elif temporality == answerTemporalities[1] and afterIndex != 0 :\n",
    "            if _gformDF.loc[_index,'Timestamp'] < _gformDF.loc[afterIndex,'Timestamp']:\n",
    "                _gformDF.loc[afterIndex,'Temporality'] = answerTemporalities[2]\n",
    "            else:\n",
    "                temporality = answerTemporalities[2]\n",
    "\n",
    "        _gformDF.loc[_index,'Temporality'] = temporality\n",
    "        if temporality == answerTemporalities[0]:\n",
    "            beforeIndex = _index\n",
    "        elif temporality == answerTemporalities[1]:\n",
    "            afterIndex = _index\n",
    "\n",
    "        temporalities[_userId] = [_firstEventDate, beforeIndex, afterIndex]\n",
    "    print(\"temporalities set\")"
   ]
  }
 ],
 "metadata": {
  "kernelspec": {
   "display_name": "Python [conda env:python3]",
   "language": "python",
   "name": "conda-env-python3-py"
  },
  "language_info": {
   "codemirror_mode": {
    "name": "ipython",
    "version": 3
   },
   "file_extension": ".py",
   "mimetype": "text/x-python",
   "name": "python",
   "nbconvert_exporter": "python",
   "pygments_lexer": "ipython3",
   "version": "3.5.4"
  }
 },
 "nbformat": 4,
 "nbformat_minor": 1
}
