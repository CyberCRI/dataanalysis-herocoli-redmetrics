{
 "cells": [
  {
   "cell_type": "markdown",
   "metadata": {},
   "source": [
    "# 1.2 Google form analysis tests with sessions"
   ]
  },
  {
   "cell_type": "code",
   "execution_count": null,
   "metadata": {
    "scrolled": false
   },
   "outputs": [],
   "source": [
    "#from datetime import datetime\n",
    "%run \"../Functions/1. Google form analysis.ipynb\"\n",
    "#%run \"../Functions/2. Game sessions.ipynb\""
   ]
  },
  {
   "cell_type": "markdown",
   "metadata": {},
   "source": [
    "(userIDThatDidNotAnswer)\n",
    "(userID1AnswerEN)\n",
    "(userIDAnswersEN)\n",
    "(userID1ScoreEN)\n",
    "(userIDScoresEN)\n",
    "(userID1AnswerFR)\n",
    "(userIDAnswersFR)\n",
    "(userID1ScoreFR)\n",
    "(userIDScoresFR)\n",
    "(userIDAnswersENFR)"
   ]
  },
  {
   "cell_type": "markdown",
   "metadata": {},
   "source": [
    "#### getAnswerTemporality tinkering"
   ]
  },
  {
   "cell_type": "code",
   "execution_count": null,
   "metadata": {},
   "outputs": [],
   "source": [
    "allGFormResponders = getAllResponders()"
   ]
  },
  {
   "cell_type": "markdown",
   "metadata": {},
   "source": [
    "##### users that played more than once"
   ]
  },
  {
   "cell_type": "code",
   "execution_count": null,
   "metadata": {},
   "outputs": [],
   "source": [
    "for uid in allGFormResponders:\n",
    "    if(len(getAllSessionsOfUser(rmdf152, uid, True)) > 1):\n",
    "        print(uid)"
   ]
  },
  {
   "cell_type": "code",
   "execution_count": null,
   "metadata": {},
   "outputs": [],
   "source": [
    "type(allGFormResponders)"
   ]
  },
  {
   "cell_type": "code",
   "execution_count": null,
   "metadata": {
    "scrolled": true
   },
   "outputs": [],
   "source": [
    "len(allGFormResponders)"
   ]
  },
  {
   "cell_type": "code",
   "execution_count": null,
   "metadata": {},
   "outputs": [],
   "source": [
    "allUniqueGFormResponders = pd.Series(allGFormResponders).unique()\n",
    "len(allUniqueGFormResponders)"
   ]
  },
  {
   "cell_type": "markdown",
   "metadata": {},
   "source": [
    "##### users that answered more than once"
   ]
  },
  {
   "cell_type": "code",
   "execution_count": null,
   "metadata": {},
   "outputs": [],
   "source": [
    "allMultipleGFormResponders = pd.Series(gform[localplayerguidkey]).value_counts()\n",
    "allMultipleGFormResponders = allMultipleGFormResponders[allMultipleGFormResponders > 1]\n",
    "allMultipleGFormResponders = pd.Series(allMultipleGFormResponders.index)\n",
    "#allMultipleGFormResponders"
   ]
  },
  {
   "cell_type": "code",
   "execution_count": null,
   "metadata": {},
   "outputs": [],
   "source": [
    "testUserID = '\"bfdfd356-5d6f-4696-a2f1-c1dc338aa64b\"' # 4 sessions"
   ]
  },
  {
   "cell_type": "code",
   "execution_count": null,
   "metadata": {},
   "outputs": [],
   "source": [
    "#testUserID = '\"a7936587-8b71-43b6-9c61-17b2c2b55de3\"' # 2 sessions"
   ]
  },
  {
   "cell_type": "markdown",
   "metadata": {},
   "source": [
    "#### gform timestamps"
   ]
  },
  {
   "cell_type": "code",
   "execution_count": null,
   "metadata": {},
   "outputs": [],
   "source": [
    "gformTimestamps = gform[gform[localplayerguidkey]==testUserID]['Timestamp']"
   ]
  },
  {
   "cell_type": "code",
   "execution_count": null,
   "metadata": {},
   "outputs": [],
   "source": [
    "gform[gform['Timestamp'] > '2017/10/15']['Timestamp'].sort_values()"
   ]
  },
  {
   "cell_type": "code",
   "execution_count": null,
   "metadata": {},
   "outputs": [],
   "source": [
    "pd.to_datetime('2017/10/16 2:14:12 PM GMT+1')"
   ]
  },
  {
   "cell_type": "code",
   "execution_count": null,
   "metadata": {},
   "outputs": [],
   "source": [
    "pd.to_datetime('2017/10/16 2:14:12 PM GMT+1', utc=True)"
   ]
  },
  {
   "cell_type": "code",
   "execution_count": null,
   "metadata": {
    "scrolled": true
   },
   "outputs": [],
   "source": [
    "pd.to_datetime('2017/10/16 2:14:12 PM')"
   ]
  },
  {
   "cell_type": "markdown",
   "metadata": {},
   "source": [
    "#### RedMetrics timestamps"
   ]
  },
  {
   "cell_type": "code",
   "execution_count": null,
   "metadata": {},
   "outputs": [],
   "source": [
    "pd.to_datetime('2017-11-02T11:08:03.813Z')"
   ]
  },
  {
   "cell_type": "code",
   "execution_count": null,
   "metadata": {},
   "outputs": [],
   "source": [
    "pd.to_datetime('2017-11-02T11:08:03.813Z', utc=True)"
   ]
  },
  {
   "cell_type": "code",
   "execution_count": null,
   "metadata": {},
   "outputs": [],
   "source": [
    "rmdf152\\\n",
    "[(rmdf152['userTime']>pd.Timestamp('2017-10-26T14:37', tz='UTC'))\\\n",
    "& (rmdf152['userTime']<pd.Timestamp('2017-10-26T14:38', tz='UTC'))]\\\n",
    "['userTime'].sort_values()\n",
    "#.dropna(subset=['userTime'])"
   ]
  },
  {
   "cell_type": "code",
   "execution_count": null,
   "metadata": {},
   "outputs": [],
   "source": [
    "#rmdf152.query(\"('2017-10-24T08:15:11' < userTime < '2017-10-24T08:15:22')\")"
   ]
  },
  {
   "cell_type": "code",
   "execution_count": null,
   "metadata": {},
   "outputs": [],
   "source": [
    "rmdf152[rmdf152['userTime']>pd.Timestamp('2017-10-16T11:58:03', tz='UTC')]['userTime'].sort_values().head()"
   ]
  },
  {
   "cell_type": "markdown",
   "metadata": {},
   "source": [
    "#### comparison"
   ]
  },
  {
   "cell_type": "markdown",
   "metadata": {},
   "source": [
    "firstGameTime='2017-10-16 12:06:39.217000+00:00'\n",
    "dateGform='2017-10-16 14:04:27+00:00'\n",
    "dateGform='2017-10-16 15:22:25+00:00'\n",
    "firstGameTime='2017-10-16 11:58:03.987000+00:00'\n",
    "dateGform='2017-10-16 13:55:31+00:00'\n",
    "dateGform='2017-10-16 15:06:32+00:00'"
   ]
  },
  {
   "cell_type": "markdown",
   "metadata": {
    "collapsed": true
   },
   "source": [
    "67603    2017-10-16T12:06:39.217Z\n",
    "18     2017/10/16 1:04:27 PM GMT+1\n",
    "23     2017/10/16 2:22:25 PM GMT+1\n",
    "\n",
    "66989    2017-10-16T11:58:03.987Z      \n",
    "13    2017/10/16 12:55:31 PM GMT+1\n",
    "59     2017/10/16 2:06:32 PM GMT+1"
   ]
  },
  {
   "cell_type": "code",
   "execution_count": null,
   "metadata": {},
   "outputs": [],
   "source": [
    "rmfirst1 = '2017-10-16T12:06:39.217Z'\n",
    "gfa1before1 = '2017/10/16 1:04:27 PM GMT+1'\n",
    "gfa1after1 = '2017/10/16 2:22:25 PM GMT+1'\n",
    "\n",
    "rmfirst2 = '2017-10-16T11:58:03.987Z'      \n",
    "gfa1before2 = '2017/10/16 12:55:31 PM GMT+1'\n",
    "gfa1after2 = '2017/10/16 2:06:32 PM GMT+1'"
   ]
  },
  {
   "cell_type": "code",
   "execution_count": null,
   "metadata": {},
   "outputs": [],
   "source": [
    "dt_rmfirst1 = pd.to_datetime(rmfirst1)\n",
    "dt_gfa1before1 = pd.to_datetime(gfa1before1)\n",
    "dt_gfa1after1 = pd.to_datetime(gfa1after1)\n",
    "\n",
    "dt_rmfirst2 = pd.to_datetime(rmfirst2)\n",
    "dt_gfa1before2 = pd.to_datetime(gfa1before2)\n",
    "dt_gfa1after2 = pd.to_datetime(gfa1after2)"
   ]
  },
  {
   "cell_type": "code",
   "execution_count": null,
   "metadata": {},
   "outputs": [],
   "source": [
    "dt_rmfirst1 = pd.to_datetime(rmfirst1)\n",
    "dt_gfa1before1 = pd.to_datetime(gfa1before1)\n",
    "dt_gfa1after1 = pd.to_datetime(gfa1after1)\n",
    "\n",
    "dt_rmfirst2 = pd.to_datetime(rmfirst2)\n",
    "dt_gfa1before2 = pd.to_datetime(gfa1before2)\n",
    "dt_gfa1after2 = pd.to_datetime(gfa1after2)"
   ]
  },
  {
   "cell_type": "code",
   "execution_count": null,
   "metadata": {},
   "outputs": [],
   "source": [
    "dt_rmfirst1utc = pd.to_datetime(rmfirst1, utc=True)\n",
    "dt_gfa1before1utc = pd.to_datetime(gfa1before1).tz_localize('Europe/Berlin')\n",
    "dt_gfa1after1utc = pd.to_datetime(gfa1after1).tz_localize('Europe/Berlin')\n",
    "\n",
    "dt_rmfirst2utc = pd.to_datetime(rmfirst2, utc=True)\n",
    "dt_gfa1before2utc = pd.to_datetime(gfa1before2).tz_localize('Europe/Berlin')\n",
    "dt_gfa1after2utc = pd.to_datetime(gfa1after2).tz_localize('Europe/Berlin')"
   ]
  },
  {
   "cell_type": "code",
   "execution_count": null,
   "metadata": {},
   "outputs": [],
   "source": [
    "[dt_rmfirst1,dt_gfa1before1,dt_gfa1after1,dt_rmfirst2,dt_gfa1before2,dt_gfa1after2]"
   ]
  },
  {
   "cell_type": "code",
   "execution_count": null,
   "metadata": {},
   "outputs": [],
   "source": [
    "[dt_rmfirst1utc,dt_gfa1before1utc,dt_gfa1after1utc,dt_rmfirst2utc,dt_gfa1before2utc,dt_gfa1after2utc]"
   ]
  },
  {
   "cell_type": "code",
   "execution_count": null,
   "metadata": {},
   "outputs": [],
   "source": [
    "[dt_rmfirst1utc>dt_gfa1before1utc,dt_rmfirst1utc<dt_gfa1after1utc,dt_rmfirst2utc>dt_gfa1before2utc,dt_rmfirst2utc<dt_gfa1after2utc]"
   ]
  },
  {
   "cell_type": "code",
   "execution_count": null,
   "metadata": {},
   "outputs": [],
   "source": [
    "stamp = pd.to_datetime('2017-11-02T11:08:03.813Z', utc=True)\n",
    "stamp"
   ]
  },
  {
   "cell_type": "code",
   "execution_count": null,
   "metadata": {},
   "outputs": [],
   "source": [
    "stamp = pd.to_datetime('2017-11-02T11:08:03.813Z')\n",
    "type(stamp)"
   ]
  },
  {
   "cell_type": "code",
   "execution_count": null,
   "metadata": {},
   "outputs": [],
   "source": [
    "#stamp = stamp.tz_localize('America/Sao_Paulo')\n",
    "stamp = stamp.tz_localize('GMT')\n",
    "new_stamp = stamp.tz_convert('US/Eastern')\n",
    "new_stamp"
   ]
  },
  {
   "cell_type": "code",
   "execution_count": null,
   "metadata": {},
   "outputs": [],
   "source": [
    "stamp"
   ]
  },
  {
   "cell_type": "code",
   "execution_count": null,
   "metadata": {},
   "outputs": [],
   "source": [
    "new_stamp"
   ]
  },
  {
   "cell_type": "code",
   "execution_count": null,
   "metadata": {},
   "outputs": [],
   "source": [
    "for timestamp in gformTimestamps:\n",
    "    print(timestamp)"
   ]
  },
  {
   "cell_type": "code",
   "execution_count": null,
   "metadata": {},
   "outputs": [],
   "source": [
    "sessions = getAllSessionsOfUser(rmdf152, testUserID, True)\n",
    "len(sessions)"
   ]
  },
  {
   "cell_type": "code",
   "execution_count": null,
   "metadata": {},
   "outputs": [],
   "source": [
    "sessions['sessionId']"
   ]
  },
  {
   "cell_type": "code",
   "execution_count": null,
   "metadata": {},
   "outputs": [],
   "source": [
    "firstGameTime = pd.Timestamp.max\n",
    "lastGameTime = pd.Timestamp.min\n",
    "\n",
    "for session in sessions['sessionId']:\n",
    "    timedEvents = rmdf152[rmdf152['sessionId']==session]\n",
    "    \n",
    "    #print(timedEvents['userTime'])\n",
    "    \n",
    "    earliest = timedEvents['userTime'].min()\n",
    "    if(earliest < firstGameTime):\n",
    "        firstGameTime = earliest\n",
    "        \n",
    "    latest = timedEvents['userTime'].max()\n",
    "    if(latest > lastGameTime):\n",
    "        lastGameTime = latest\n",
    "        \n",
    "firstGameTime = pd.to_datetime(firstGameTime)\n",
    "lastGameTime = pd.to_datetime(lastGameTime)\n",
    "print(\"firstGameTime=\" + str(firstGameTime))\n",
    "print(\"lastGameTime=\" + str(lastGameTime))"
   ]
  },
  {
   "cell_type": "code",
   "execution_count": null,
   "metadata": {},
   "outputs": [],
   "source": [
    "for timestamp in gformTimestamps:\n",
    "    print(timestamp)\n",
    "    if(timestamp < firstGameTime):\n",
    "        print(answerTemporalities[0])\n",
    "    elif (timestamp > lastGameTime):\n",
    "        print(answerTemporalities[1])\n",
    "    else:\n",
    "        print(answerTemporalities[2])"
   ]
  },
  {
   "cell_type": "code",
   "execution_count": null,
   "metadata": {},
   "outputs": [],
   "source": []
  },
  {
   "cell_type": "code",
   "execution_count": null,
   "metadata": {},
   "outputs": [],
   "source": []
  },
  {
   "cell_type": "code",
   "execution_count": null,
   "metadata": {},
   "outputs": [],
   "source": []
  },
  {
   "cell_type": "code",
   "execution_count": null,
   "metadata": {},
   "outputs": [],
   "source": [
    "rmdf152.columns"
   ]
  },
  {
   "cell_type": "code",
   "execution_count": null,
   "metadata": {},
   "outputs": [],
   "source": [
    "#rmdf152['section']\n",
    "#rmdf152.dropna(subset=['section'])['section']"
   ]
  },
  {
   "cell_type": "markdown",
   "metadata": {},
   "source": [
    "#### getTemporality tinkering/exploration"
   ]
  },
  {
   "cell_type": "code",
   "execution_count": null,
   "metadata": {},
   "outputs": [],
   "source": [
    "for userId in allMultipleGFormResponders:\n",
    "    firstGameTime = getFirstEventDate(userId)\n",
    "    \n",
    "    strDebug = '\\n\\n\\nuid='+str(userId)+'\\n=' + str(firstGameTime)\n",
    "    \n",
    "    gformTimestamps = gform[gform[localplayerguidkey]==userId]['Timestamp']\n",
    "    \n",
    "    for dateGform in gformTimestamps:\n",
    "        # Google forms Timestamps are GMT+1\n",
    "        #print('dateGform='+str(dateGform))\n",
    "        if(firstGameTime != pd.Timestamp.max.tz_localize('utc')):\n",
    "            if(dateGform <= firstGameTime):\n",
    "                strDebug = strDebug + '\\n' + str(dateGform) + '=>' + str(answerTemporalities[0])\n",
    "            elif (dateGform > firstGameTime):\n",
    "                strDebug = strDebug + '\\n' + str(dateGform) + '=>' + str(answerTemporalities[1])\n",
    "            else:\n",
    "                strDebug = strDebug + '\\n' + str(dateGform) + '=>' + str(answerTemporalities[2])\n",
    "        else:\n",
    "            strDebug = strDebug + '\\n' + str(dateGform) + '=>' + str(answerTemporalities[2])\n",
    "            \n",
    "    print(strDebug)"
   ]
  },
  {
   "cell_type": "code",
   "execution_count": null,
   "metadata": {},
   "outputs": [],
   "source": [
    "gform[localplayerguidkey][12]"
   ]
  },
  {
   "cell_type": "code",
   "execution_count": null,
   "metadata": {},
   "outputs": [],
   "source": [
    "gform[localplayerguidkey][50]"
   ]
  },
  {
   "cell_type": "code",
   "execution_count": null,
   "metadata": {},
   "outputs": [],
   "source": [
    "gform[localplayerguidkey][50]"
   ]
  },
  {
   "cell_type": "code",
   "execution_count": null,
   "metadata": {},
   "outputs": [],
   "source": [
    "getFirstEventDate(gform[localplayerguidkey][50])"
   ]
  },
  {
   "cell_type": "code",
   "execution_count": null,
   "metadata": {},
   "outputs": [],
   "source": [
    "getAllSessionsOfUser(rmdf152, gform[localplayerguidkey][3], True)"
   ]
  },
  {
   "cell_type": "code",
   "execution_count": null,
   "metadata": {},
   "outputs": [],
   "source": [
    "#for index in gform.index:\n",
    "#    print(index)"
   ]
  },
  {
   "cell_type": "code",
   "execution_count": null,
   "metadata": {},
   "outputs": [],
   "source": [
    "gform['Timestamp'][0]"
   ]
  },
  {
   "cell_type": "code",
   "execution_count": null,
   "metadata": {
    "scrolled": true
   },
   "outputs": [],
   "source": [
    "gform.loc[0][localplayerguidkey]"
   ]
  },
  {
   "cell_type": "code",
   "execution_count": null,
   "metadata": {},
   "outputs": [],
   "source": [
    "print(gform['Temporality'][0])"
   ]
  },
  {
   "cell_type": "code",
   "execution_count": null,
   "metadata": {},
   "outputs": [],
   "source": [
    "print(gform.loc[index,'Temporality'])"
   ]
  },
  {
   "cell_type": "code",
   "execution_count": null,
   "metadata": {},
   "outputs": [],
   "source": [
    "setAnswerTemporalities(gform)"
   ]
  }
 ],
 "metadata": {
  "kernelspec": {
   "display_name": "Python [conda env:python3]",
   "language": "python",
   "name": "conda-env-python3-py"
  },
  "language_info": {
   "codemirror_mode": {
    "name": "ipython",
    "version": 3
   },
   "file_extension": ".py",
   "mimetype": "text/x-python",
   "name": "python",
   "nbconvert_exporter": "python",
   "pygments_lexer": "ipython3",
   "version": "3.5.4"
  }
 },
 "nbformat": 4,
 "nbformat_minor": 1
}
