{
 "cells": [
  {
   "cell_type": "markdown",
   "metadata": {},
   "source": [
    "# 5.1 Game map analysis tests"
   ]
  },
  {
   "cell_type": "code",
   "execution_count": 1,
   "metadata": {
    "collapsed": false
   },
   "outputs": [
    {
     "name": "stderr",
     "output_type": "stream",
     "text": [
      "C:\\Users\\Mikael\\Anaconda3\\lib\\site-packages\\IPython\\core\\interactiveshell.py:2902: DtypeWarning: Columns (18,21,22,28,32,38) have mixed types. Specify dtype option on import or set low_memory=False.\n",
      "  interactivity=interactivity, compiler=compiler, result=result)\n",
      "C:\\Users\\Mikael\\Anaconda3\\lib\\site-packages\\IPython\\core\\interactiveshell.py:2902: DtypeWarning: Columns (14,15,16,17,18,20,21,22,25,26,27,30,33,34,35,36,37,38,39,40,41,42,43) have mixed types. Specify dtype option on import or set low_memory=False.\n",
      "  interactivity=interactivity, compiler=compiler, result=result)\n"
     ]
    }
   ],
   "source": [
    "%run \"../Functions/5. Game map analysis.ipynb\""
   ]
  },
  {
   "cell_type": "markdown",
   "metadata": {},
   "source": [
    "## Function tests"
   ]
  },
  {
   "cell_type": "code",
   "execution_count": 2,
   "metadata": {
    "collapsed": true
   },
   "outputs": [],
   "source": [
    "allTypes = rdf152['type'].dropna().unique()\n",
    "\n",
    "types = [\"death\", \"reach\", \"add\", \"craft\", \"remove\", \"select\", \"selectmenu\"]\n",
    "craftTypes = [\"add\", \"craft\", \"remove\", \"select\"]\n",
    "gameTypes = [\"hint\", \"pickup\", \"newfurthest\", \"newownrecord\", \"configure\", \"end\", \"complete\", \"restart\", \"start\"]\n",
    "webTypes = [\"gotostudy\", \"gotomooc\"]\n",
    "adminTypes = [\"switchtogameversion\", \"switchfromgameversion\", \"webconfigure\"]"
   ]
  },
  {
   "cell_type": "code",
   "execution_count": null,
   "metadata": {
    "collapsed": false
   },
   "outputs": [
    {
     "data": {
      "text/plain": [
       "array(['start', 'selectmenu', 'add', 'switchfromgameversion', 'craft',\n",
       "       'select', 'remove', 'death', 'reach', 'pickup', 'newfurthest',\n",
       "       'newownrecord', 'configure', 'end', 'restart',\n",
       "       'switchtogameversion', 'gotourl', 'hint', 'gotostudy', 'complete',\n",
       "       'gotomooc', 'webconfigure'], dtype=object)"
      ]
     },
     "execution_count": 3,
     "metadata": {},
     "output_type": "execute_result"
    }
   ],
   "source": [
    "allTypes"
   ]
  },
  {
   "cell_type": "markdown",
   "metadata": {},
   "source": [
    "### WARNING: very long test"
   ]
  },
  {
   "cell_type": "code",
   "execution_count": null,
   "metadata": {
    "collapsed": true
   },
   "outputs": [],
   "source": [
    "allLocatedEventsDF = filterAndLocateEvents(allTypes)"
   ]
  },
  {
   "cell_type": "markdown",
   "metadata": {},
   "source": [
    "locatedEventsDF = filterAndLocateEvents(types)"
   ]
  },
  {
   "cell_type": "markdown",
   "metadata": {},
   "source": [
    "craftLocatedEventsDF = filterAndLocateEvents(craftTypes)"
   ]
  },
  {
   "cell_type": "markdown",
   "metadata": {},
   "source": [
    "gameLocatedEventsDF = filterAndLocateEvents(gameTypes)"
   ]
  },
  {
   "cell_type": "markdown",
   "metadata": {},
   "source": [
    "webLocatedEventsDF = filterAndLocateEvents(webTypes)"
   ]
  },
  {
   "cell_type": "markdown",
   "metadata": {},
   "source": [
    "adminLocatedEventsDF = filterAndLocateEvents(adminTypes)"
   ]
  },
  {
   "cell_type": "code",
   "execution_count": null,
   "metadata": {
    "collapsed": false
   },
   "outputs": [],
   "source": [
    "len(allLocatedEventsDF)"
   ]
  },
  {
   "cell_type": "code",
   "execution_count": null,
   "metadata": {
    "collapsed": false
   },
   "outputs": [],
   "source": [
    "print(\"minX=\" + str(min(allLocatedEventsDF['x'])))\n",
    "print(\"maxX=\" + str(max(allLocatedEventsDF['x'])))\n",
    "print(\"minY=\" + str(min(allLocatedEventsDF['y'])))\n",
    "print(\"maxY=\" + str(max(allLocatedEventsDF['y'])))"
   ]
  },
  {
   "cell_type": "code",
   "execution_count": null,
   "metadata": {
    "collapsed": false
   },
   "outputs": [],
   "source": [
    "type(min(allLocatedEventsDF['x']))"
   ]
  },
  {
   "cell_type": "code",
   "execution_count": null,
   "metadata": {
    "collapsed": false
   },
   "outputs": [],
   "source": [
    "#allLocatedEventsDF['x'].value_counts()"
   ]
  },
  {
   "cell_type": "code",
   "execution_count": null,
   "metadata": {
    "collapsed": false
   },
   "outputs": [],
   "source": [
    "allLocatedEventsDF['x'].value_counts().hist()"
   ]
  },
  {
   "cell_type": "code",
   "execution_count": null,
   "metadata": {
    "collapsed": false
   },
   "outputs": [],
   "source": [
    "allLocatedEventsDF['y'].value_counts().hist()"
   ]
  },
  {
   "cell_type": "markdown",
   "metadata": {},
   "source": [
    "### Plots"
   ]
  },
  {
   "cell_type": "code",
   "execution_count": null,
   "metadata": {
    "collapsed": true
   },
   "outputs": [],
   "source": [
    "plotLocatedEvents(allLocatedEventsDF, ['death'])"
   ]
  },
  {
   "cell_type": "code",
   "execution_count": null,
   "metadata": {
    "collapsed": true
   },
   "outputs": [],
   "source": [
    "plotLocatedEvents(allLocatedEventsDF, ['craft'])"
   ]
  },
  {
   "cell_type": "code",
   "execution_count": null,
   "metadata": {
    "collapsed": true
   },
   "outputs": [],
   "source": [
    "plotLocatedEvents(allLocatedEventsDF, ['end', 'configure', 'restart'])"
   ]
  },
  {
   "cell_type": "code",
   "execution_count": null,
   "metadata": {
    "collapsed": false
   },
   "outputs": [],
   "source": [
    "plotLocatedEvents(allLocatedEventsDF, types)"
   ]
  },
  {
   "cell_type": "code",
   "execution_count": null,
   "metadata": {
    "collapsed": false
   },
   "outputs": [],
   "source": [
    "plotLocatedEvents(allLocatedEventsDF, craftTypes)"
   ]
  },
  {
   "cell_type": "code",
   "execution_count": null,
   "metadata": {
    "collapsed": false
   },
   "outputs": [],
   "source": [
    "plotLocatedEvents(allLocatedEventsDF, gameTypes)"
   ]
  },
  {
   "cell_type": "code",
   "execution_count": null,
   "metadata": {
    "collapsed": false
   },
   "outputs": [],
   "source": [
    "plotLocatedEvents(allLocatedEventsDF, webTypes)"
   ]
  },
  {
   "cell_type": "code",
   "execution_count": null,
   "metadata": {
    "collapsed": false
   },
   "outputs": [],
   "source": [
    "plotLocatedEvents(allLocatedEventsDF, adminTypes)"
   ]
  },
  {
   "cell_type": "markdown",
   "metadata": {},
   "source": [
    "## Tinkering"
   ]
  },
  {
   "cell_type": "markdown",
   "metadata": {},
   "source": [
    "### filterAndLocateEvents"
   ]
  },
  {
   "cell_type": "code",
   "execution_count": null,
   "metadata": {
    "collapsed": false
   },
   "outputs": [],
   "source": [
    "rdf152.columns"
   ]
  },
  {
   "cell_type": "code",
   "execution_count": null,
   "metadata": {
    "collapsed": true
   },
   "outputs": [],
   "source": [
    "#rdf152['customData.chapter'].dropna().head()"
   ]
  },
  {
   "cell_type": "markdown",
   "metadata": {},
   "source": [
    "#### Filter columns"
   ]
  },
  {
   "cell_type": "code",
   "execution_count": null,
   "metadata": {
    "collapsed": false
   },
   "outputs": [],
   "source": [
    "mapRelevantColumns = ['type', 'section', 'coordinates']\n",
    "mapDF = rdf152.loc[:,mapRelevantColumns]\n",
    "len(mapDF)"
   ]
  },
  {
   "cell_type": "code",
   "execution_count": null,
   "metadata": {
    "collapsed": false
   },
   "outputs": [],
   "source": [
    "mapDF = mapDF.dropna()\n",
    "len(mapDF)"
   ]
  },
  {
   "cell_type": "markdown",
   "metadata": {},
   "source": [
    "#### Filter by event type"
   ]
  },
  {
   "cell_type": "code",
   "execution_count": null,
   "metadata": {
    "collapsed": false
   },
   "outputs": [],
   "source": [
    "mapDF = mapDF[mapDF[\"type\"].isin(types)]\n",
    "mapDF.head()"
   ]
  },
  {
   "cell_type": "markdown",
   "metadata": {},
   "source": [
    "#### Filter by section"
   ]
  },
  {
   "cell_type": "code",
   "execution_count": null,
   "metadata": {
    "collapsed": false
   },
   "outputs": [],
   "source": [
    "tutorial1DF = mapDF[(mapDF['section'].str.startswith('tutorial1'))]\n",
    "#sandbox2DF = mapDF[(mapDF['section'].str.startswith('sandbox'))]\n",
    "tutorial1DF.head(2)"
   ]
  },
  {
   "cell_type": "code",
   "execution_count": null,
   "metadata": {
    "collapsed": false
   },
   "outputs": [],
   "source": [
    "len(tutorial1DF)"
   ]
  },
  {
   "cell_type": "markdown",
   "metadata": {},
   "source": [
    "#### [x,y] coordinates"
   ]
  },
  {
   "cell_type": "code",
   "execution_count": null,
   "metadata": {
    "collapsed": false
   },
   "outputs": [],
   "source": [
    "tutorial1DF['x'] = tutorial1DF['coordinates']\n",
    "tutorial1DF['y'] = tutorial1DF['coordinates']"
   ]
  },
  {
   "cell_type": "code",
   "execution_count": null,
   "metadata": {
    "collapsed": false
   },
   "outputs": [],
   "source": [
    "tutorial1DF.head(2)"
   ]
  },
  {
   "cell_type": "code",
   "execution_count": null,
   "metadata": {
    "collapsed": false
   },
   "outputs": [],
   "source": [
    "m = re.findall('-*\\d+', '[-259, -713]')\n",
    "m"
   ]
  },
  {
   "cell_type": "code",
   "execution_count": null,
   "metadata": {
    "collapsed": false
   },
   "outputs": [],
   "source": [
    "coordinates = re.findall('-*\\d+', tutorial1DF['coordinates'][10])\n",
    "coordinates"
   ]
  },
  {
   "cell_type": "code",
   "execution_count": null,
   "metadata": {
    "collapsed": false
   },
   "outputs": [],
   "source": [
    "subsetCount = 100\n",
    "subset = tutorial1DF.head(subsetCount)\n",
    "subset.index = range(0, subsetCount)"
   ]
  },
  {
   "cell_type": "code",
   "execution_count": null,
   "metadata": {
    "collapsed": false
   },
   "outputs": [],
   "source": [
    "f = FloatProgress(min=0, max=len(subset.index))\n",
    "display(f)\n",
    "\n",
    "for index in subset.index:\n",
    "    coordinates = re.findall('-*\\d+', subset['coordinates'][index])\n",
    "    subset['x'][index] = coordinates[0]\n",
    "    subset['y'][index] = coordinates[1]\n",
    "    f.value += 1"
   ]
  },
  {
   "cell_type": "code",
   "execution_count": null,
   "metadata": {
    "collapsed": false
   },
   "outputs": [],
   "source": [
    "subset.head(2)"
   ]
  },
  {
   "cell_type": "code",
   "execution_count": null,
   "metadata": {
    "collapsed": false
   },
   "outputs": [],
   "source": [
    "types"
   ]
  },
  {
   "cell_type": "code",
   "execution_count": null,
   "metadata": {
    "collapsed": false
   },
   "outputs": [],
   "source": [
    "plt.figure(figsize=(15,15))\n",
    "plt.axis('equal')\n",
    "\n",
    "# c = [\"black\", \"red\", \"blue\", \"green\"]\n",
    "c = ['black', 'red', 'blue', 'green', 'orange', 'purple', 'brown', 'pink', 'olive', 'cyan', ]\n",
    "# a = [ 0.3, 1, 1,1 ]\n",
    "a = [ 0.3, 1, 1, 1, 1, 1, 1, 1, 1, 1, ]\n",
    "\n",
    "scatters = {}\n",
    "\n",
    "for i, t in enumerate(types):\n",
    "  pts = subset[subset[\"type\"] == t]\n",
    "  x = pts[\"x\"]\n",
    "  y = pts[\"y\"]\n",
    "\n",
    "  scatters[t] = plt.plot(x, y, 'o', c=c[i], lw=0, alpha=a[i])\n",
    "\n",
    "plt.legend([ x[0] for x in scatters.values()], scatters.keys())\n",
    "plt.show()"
   ]
  },
  {
   "cell_type": "code",
   "execution_count": null,
   "metadata": {
    "collapsed": true
   },
   "outputs": [],
   "source": [
    "_mapBackground = image.imread('../../images/map.png') = image.imread('../../images/map.png')"
   ]
  },
  {
   "cell_type": "code",
   "execution_count": null,
   "metadata": {
    "collapsed": false
   },
   "outputs": [],
   "source": [
    "type(_mapBackground)"
   ]
  },
  {
   "cell_type": "code",
   "execution_count": null,
   "metadata": {
    "collapsed": false
   },
   "outputs": [],
   "source": [
    "len(_mapBackground)"
   ]
  },
  {
   "cell_type": "code",
   "execution_count": null,
   "metadata": {
    "collapsed": false
   },
   "outputs": [],
   "source": [
    "en(_mapBackground[0])"
   ]
  },
  {
   "cell_type": "code",
   "execution_count": null,
   "metadata": {
    "collapsed": false
   },
   "outputs": [],
   "source": [
    "_mapBackground.shape"
   ]
  },
  {
   "cell_type": "code",
   "execution_count": null,
   "metadata": {
    "collapsed": true
   },
   "outputs": [],
   "source": [
    "#types = allTypes\n",
    "subset = allLocatedEventsDF"
   ]
  },
  {
   "cell_type": "code",
   "execution_count": null,
   "metadata": {
    "collapsed": false
   },
   "outputs": [],
   "source": [
    "allLocatedEventsDF[allLocatedEventsDF['type'] == 'complete']"
   ]
  },
  {
   "cell_type": "code",
   "execution_count": null,
   "metadata": {
    "collapsed": false,
    "scrolled": true
   },
   "outputs": [],
   "source": [
    "\n",
    "\n",
    "print(getGraphPosition(imgStartCoordinates))\n",
    "print(getGraphPosition(imgEndCoordinates))"
   ]
  },
  {
   "cell_type": "code",
   "execution_count": null,
   "metadata": {
    "collapsed": false
   },
   "outputs": [],
   "source": [
    "print(getXGraphPosition(minX))\n",
    "print(getXGraphPosition(maxX))\n",
    "print(getYGraphPosition(minY))\n",
    "print(getYGraphPosition(maxY))"
   ]
  },
  {
   "cell_type": "code",
   "execution_count": null,
   "metadata": {
    "collapsed": false
   },
   "outputs": [],
   "source": [
    "initializeConstants()\n",
    "\n",
    "plt.figure(figsize=(18,10))\n",
    "\n",
    "# background map display\n",
    "mapBackground = image.imread('../../images/map.tutorial1.png')\n",
    "\n",
    "minX = 0\n",
    "maxX = mapBackground.shape[1]\n",
    "minY = mapBackground.shape[0]\n",
    "maxY = 0\n",
    "\n",
    "plt.imshow(mapBackground, aspect='auto', zorder=-1, \\\n",
    "           extent=(getXGraphPosition(minX), getXGraphPosition(maxX), getYGraphPosition(minY), getYGraphPosition(maxY)), \\\n",
    "           alpha=0.5)\n",
    "\n",
    "\n",
    "c = ['black', 'red', 'blue', 'green', 'orange', 'purple', 'brown', 'pink', 'olive', 'cyan', ]\n",
    "a = [ 0.3, 0.3, 0.3, 0.3, 0.3, 0.3, 0.3, 0.3, 0.3, 0.3, ]\n",
    "scatters = {}\n",
    "\n",
    "for i, t in enumerate(types):\n",
    "  pts = subset[subset['type'] == t]\n",
    "  x = pts['x']\n",
    "  y = pts['y']\n",
    "\n",
    "  scatters[t] = plt.plot(x, y, 'o', c=c[i], lw=0, alpha=a[i])\n",
    "\n",
    "plt.legend([ x[0] for x in scatters.values()], scatters.keys())\n",
    "\n",
    "# minX=-1152\n",
    "# maxX=539\n",
    "# minY=-1161\n",
    "# maxY=-100\n",
    "# tutorial1\n",
    "plt.xlim([-1200, 600])\n",
    "plt.ylim([-1200, -200])\n",
    "#plt.axis('equal')\n",
    "plt.show()"
   ]
  }
 ],
 "metadata": {
  "kernelspec": {
   "display_name": "Python 3",
   "language": "python",
   "name": "python3"
  },
  "language_info": {
   "codemirror_mode": {
    "name": "ipython",
    "version": 3
   },
   "file_extension": ".py",
   "mimetype": "text/x-python",
   "name": "python",
   "nbconvert_exporter": "python",
   "pygments_lexer": "ipython3",
   "version": "3.5.4"
  }
 },
 "nbformat": 4,
 "nbformat_minor": 0
}
