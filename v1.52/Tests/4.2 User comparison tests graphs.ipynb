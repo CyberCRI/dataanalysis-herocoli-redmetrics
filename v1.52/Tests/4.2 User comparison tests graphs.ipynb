{
 "cells": [
  {
   "cell_type": "markdown",
   "metadata": {},
   "source": [
    "# Table of Contents\n",
    "\n",
    "[Preparation](#preparation)\n",
    "\n",
    "[User data vectors](#userdatavectors)\n",
    "\n",
    "[Graphs](#graphs)\n"
   ]
  },
  {
   "cell_type": "markdown",
   "metadata": {},
   "source": [
    "# Preparation\n",
    "<a id=preparation />"
   ]
  },
  {
   "cell_type": "code",
   "execution_count": null,
   "metadata": {
    "collapsed": false
   },
   "outputs": [],
   "source": [
    "%run \"../Functions/1. Google form analysis.ipynb\"\n",
    "%run \"../Functions/4. User comparison.ipynb\""
   ]
  },
  {
   "cell_type": "markdown",
   "metadata": {},
   "source": [
    "# Data vectors of users\n",
    "<a id=userdatavectors />"
   ]
  },
  {
   "cell_type": "code",
   "execution_count": null,
   "metadata": {
    "collapsed": false
   },
   "outputs": [],
   "source": [
    "# small sample\n",
    "#allData = getAllUserVectorData( getAllUsers( df152 )[:10] )\n",
    "\n",
    "# complete set\n",
    "#allData = getAllUserVectorData( getAllUsers( df152 ) )\n",
    "\n",
    "# subjects which answered the gform\n",
    "allData = getAllUserVectorData( getAllResponders()[:10] )"
   ]
  },
  {
   "cell_type": "code",
   "execution_count": null,
   "metadata": {
    "collapsed": false
   },
   "outputs": [],
   "source": [
    "allData"
   ]
  },
  {
   "cell_type": "markdown",
   "metadata": {},
   "source": [
    "# Graphs\n",
    "<a id=graphs />"
   ]
  },
  {
   "cell_type": "code",
   "execution_count": null,
   "metadata": {
    "collapsed": false
   },
   "outputs": [],
   "source": [
    "columnAllData = allData.T\n",
    "columnAllData['score'][:5]"
   ]
  },
  {
   "cell_type": "code",
   "execution_count": null,
   "metadata": {
    "collapsed": false
   },
   "outputs": [],
   "source": [
    "plt.plot(columnAllData['craft'], columnAllData['equip'], 'ro')\n",
    "plt.xlabel('craft')\n",
    "plt.ylabel('equip')"
   ]
  },
  {
   "cell_type": "code",
   "execution_count": null,
   "metadata": {
    "collapsed": false
   },
   "outputs": [],
   "source": [
    "plt.plot(columnAllData['sessionsCount'], columnAllData['craft'], 'ro')\n",
    "plt.xlabel('sessionsCount')\n",
    "plt.ylabel('craft')"
   ]
  },
  {
   "cell_type": "code",
   "execution_count": null,
   "metadata": {
    "collapsed": false
   },
   "outputs": [],
   "source": [
    "columnAllData.columns"
   ]
  },
  {
   "cell_type": "code",
   "execution_count": null,
   "metadata": {
    "collapsed": false
   },
   "outputs": [],
   "source": [
    "for column in columnAllData.columns:\n",
    "    print(column)"
   ]
  },
  {
   "cell_type": "code",
   "execution_count": null,
   "metadata": {
    "collapsed": false
   },
   "outputs": [],
   "source": [
    "columnAllData.columns[1]"
   ]
  },
  {
   "cell_type": "code",
   "execution_count": null,
   "metadata": {
    "collapsed": false
   },
   "outputs": [],
   "source": [
    "len(columnAllData.columns)"
   ]
  },
  {
   "cell_type": "code",
   "execution_count": null,
   "metadata": {
    "collapsed": false
   },
   "outputs": [],
   "source": [
    "for i in range(1,len(columnAllData.columns)):\n",
    "    for j in range(i+1,len(columnAllData.columns)):\n",
    "        print(i,j)\n",
    "        print(columnAllData.columns[i], columnAllData.columns[j])"
   ]
  },
  {
   "cell_type": "code",
   "execution_count": null,
   "metadata": {
    "collapsed": true
   },
   "outputs": [],
   "source": [
    "def plotFromAllUsersData(allUsersData, xcolumnname, ycolumnname):\n",
    "    plt.title(\"plotting '\" + ycolumnname + \"' against '\" + xcolumnname + \"'\")\n",
    "    plt.plot(\n",
    "                allUsersData[xcolumnname],\n",
    "                allUsersData[ycolumnname],\n",
    "                'ro'\n",
    "            )\n",
    "    plt.xlabel(xcolumnname)\n",
    "    plt.ylabel(ycolumnname)\n",
    "    #plt.show()"
   ]
  },
  {
   "cell_type": "code",
   "execution_count": null,
   "metadata": {
    "collapsed": false
   },
   "outputs": [],
   "source": [
    "plotFromAllUsersData(\n",
    "                        columnAllData,\n",
    "                        columnAllData.columns[1],\n",
    "                        columnAllData.columns[2]\n",
    "                    )"
   ]
  },
  {
   "cell_type": "markdown",
   "metadata": {},
   "source": [
    "# Subplot tests"
   ]
  },
  {
   "cell_type": "code",
   "execution_count": null,
   "metadata": {
    "collapsed": false
   },
   "outputs": [],
   "source": [
    "plt.figure(1)\n",
    "\n",
    "#plt.subplot(131)\n",
    "plt.subplot(311)\n",
    "plotFromAllUsersData(\n",
    "                        columnAllData,\n",
    "                        columnAllData.columns[2],\n",
    "                        columnAllData.columns[3]\n",
    "                    )\n",
    "\n",
    "plt.grid(True)\n",
    "\n",
    "#plt.subplot(132)\n",
    "plt.subplot(321)\n",
    "plotFromAllUsersData(\n",
    "                        columnAllData,\n",
    "                        columnAllData.columns[2],\n",
    "                        columnAllData.columns[4]\n",
    "                    )\n",
    "plt.grid(True)\n",
    "\n",
    "#plt.subplot(133)\n",
    "plt.subplot(331)\n",
    "plotFromAllUsersData(\n",
    "                        columnAllData,\n",
    "                        columnAllData.columns[2],\n",
    "                        columnAllData.columns[5]\n",
    "                    )\n",
    "plt.grid(True)\n",
    "\n",
    "plt.subplots_adjust(top=0.92, bottom=0.08, left=0.10, right=0.95, hspace=0.25,\n",
    "                    wspace=0.35)\n",
    "\n",
    "plt.show()"
   ]
  },
  {
   "cell_type": "code",
   "execution_count": null,
   "metadata": {
    "collapsed": false
   },
   "outputs": [],
   "source": [
    "fig = plt.figure()\n",
    "\n",
    "ax1 = fig.add_subplot(221)\n",
    "ax1.plot([1,2,3,4,5], [10,5,10,5,10], 'r-')\n",
    "\n",
    "ax2 = fig.add_subplot(222)\n",
    "ax2.plot([1,2,3,4], [1,4,9,16], 'k-')\n",
    "\n",
    "ax3 = fig.add_subplot(223)\n",
    "ax3.plot([1,2,3,4], [1,10,100,1000], 'b-')\n",
    "\n",
    "ax4 = fig.add_subplot(224)\n",
    "ax4.plot([1,2,3,4], [0,0,1,1], 'g-')\n",
    "\n",
    "\n",
    "plt.tight_layout()\n",
    "fig = plt.gcf()"
   ]
  },
  {
   "cell_type": "code",
   "execution_count": null,
   "metadata": {
    "collapsed": false
   },
   "outputs": [],
   "source": [
    "fig = plt.figure(figsize=(16,4))\n",
    "\n",
    "\n",
    "ax1 = fig.add_subplot(131)\n",
    "ax1.plot([1,2,3,4,5], [10,5,10,5,10], 'r-')\n",
    "\n",
    "\n",
    "ax2 = fig.add_subplot(132)\n",
    "ax2.plot([1,2,3,4], [1,4,9,16], 'k-')\n",
    "\n",
    "\n",
    "ax3 = fig.add_subplot(133)\n",
    "ax3.plot([1,2,3,4], [1,10,100,1000], 'b-')\n",
    "\n",
    "\n",
    "plt.tight_layout()\n",
    "\n",
    "fig = plt.gcf()"
   ]
  },
  {
   "cell_type": "code",
   "execution_count": null,
   "metadata": {
    "collapsed": true
   },
   "outputs": [],
   "source": [
    "def subplotFromAllUsersData(ax, allUsersData, xcolumnname, ycolumnname):\n",
    "    plt.title(\"'\" + ycolumnname + \"' against '\" + xcolumnname + \"'\")\n",
    "    ax.plot(\n",
    "                allUsersData[xcolumnname],\n",
    "                allUsersData[ycolumnname],\n",
    "                'ro'\n",
    "            )\n",
    "    plt.xlabel(xcolumnname)\n",
    "    plt.ylabel(ycolumnname)\n",
    "    #plt.show()"
   ]
  },
  {
   "cell_type": "code",
   "execution_count": null,
   "metadata": {
    "collapsed": false
   },
   "outputs": [],
   "source": [
    "fig = plt.figure(figsize=(16,4))\n",
    "\n",
    "\n",
    "ax1 = fig.add_subplot(131)\n",
    "subplotFromAllUsersData(\n",
    "                        ax1,\n",
    "                        columnAllData,\n",
    "                        columnAllData.columns[2],\n",
    "                        columnAllData.columns[3]\n",
    "                    )\n",
    "\n",
    "\n",
    "ax2 = fig.add_subplot(132)\n",
    "subplotFromAllUsersData(\n",
    "                        ax2,\n",
    "                        columnAllData,\n",
    "                        columnAllData.columns[2],\n",
    "                        columnAllData.columns[4]\n",
    "                    )\n",
    "\n",
    "\n",
    "ax3 = fig.add_subplot(133)\n",
    "subplotFromAllUsersData(\n",
    "                        ax3,\n",
    "                        columnAllData,\n",
    "                        columnAllData.columns[2],\n",
    "                        columnAllData.columns[5]\n",
    "                    )\n",
    "\n",
    "\n",
    "plt.tight_layout()\n",
    "\n",
    "fig = plt.gcf()"
   ]
  },
  {
   "cell_type": "code",
   "execution_count": null,
   "metadata": {
    "collapsed": false
   },
   "outputs": [],
   "source": [
    "for i in range(0,6):\n",
    "    position = 131 + (i % 3)\n",
    "\n",
    "    if i % 3 == 0:\n",
    "        fig = plt.figure(figsize=(16,4))\n",
    "\n",
    "    ax1 = fig.add_subplot(position)\n",
    "    subplotFromAllUsersData(\n",
    "                            ax1,\n",
    "                            columnAllData,\n",
    "                            columnAllData.columns[2],\n",
    "                            columnAllData.columns[3+i]\n",
    "                        )"
   ]
  },
  {
   "cell_type": "markdown",
   "metadata": {},
   "source": [
    "# Automation tests"
   ]
  },
  {
   "cell_type": "code",
   "execution_count": null,
   "metadata": {
    "collapsed": false
   },
   "outputs": [],
   "source": [
    "len(columnAllData.columns)"
   ]
  },
  {
   "cell_type": "code",
   "execution_count": null,
   "metadata": {
    "collapsed": false
   },
   "outputs": [],
   "source": [
    "graphsCount = len(columnAllData.columns) * (len(columnAllData.columns) - 1) / 2\n",
    "graphsCount"
   ]
  },
  {
   "cell_type": "code",
   "execution_count": null,
   "metadata": {
    "collapsed": true
   },
   "outputs": [],
   "source": [
    "graphsProgressBar = FloatProgress(min=0, max=graphsCount)\n",
    "display(graphsProgressBar)"
   ]
  },
  {
   "cell_type": "markdown",
   "metadata": {},
   "source": [
    "## 1 column of graphs"
   ]
  },
  {
   "cell_type": "code",
   "execution_count": null,
   "metadata": {
    "collapsed": false,
    "scrolled": false
   },
   "outputs": [],
   "source": [
    "graphsProgressBar.value = 0\n",
    "for i in range(0,len(columnAllData.columns)):\n",
    "    xcolumnname = columnAllData.columns[i]\n",
    "    for j in range(i+1,len(columnAllData.columns)):\n",
    "        ycolumnname = columnAllData.columns[j]\n",
    "        plotFromAllUsersData(columnAllData, xcolumnname, ycolumnname)\n",
    "        graphsProgressBar.value += 1\n",
    "print(\"done in \" + str(graphsProgressBar.value) + \" steps.\")"
   ]
  },
  {
   "cell_type": "markdown",
   "metadata": {},
   "source": [
    "## 3 columns of graphs"
   ]
  },
  {
   "cell_type": "code",
   "execution_count": null,
   "metadata": {
    "collapsed": false,
    "scrolled": false
   },
   "outputs": [],
   "source": [
    "graphsProgressBar.value = 0\n",
    "for i in range(0,len(columnAllData.columns)):\n",
    "    xcolumnname = columnAllData.columns[i]\n",
    "    for j in range(i+1,len(columnAllData.columns)):\n",
    "        ycolumnname = columnAllData.columns[j]\n",
    "        \n",
    "        # actual plotting\n",
    "        position = 131 + (graphsProgressBar.value % 3)\n",
    "\n",
    "        if graphsProgressBar.value % 3 == 0:\n",
    "            fig = plt.figure(figsize=(16,4))\n",
    "\n",
    "        ax = fig.add_subplot(position)\n",
    "        subplotFromAllUsersData(\n",
    "                                ax,\n",
    "                                columnAllData,\n",
    "                                xcolumnname,\n",
    "                                ycolumnname\n",
    "                            )\n",
    "        \n",
    "        graphsProgressBar.value += 1\n",
    "print(\"done in \" + str(graphsProgressBar.value) + \" steps.\")"
   ]
  }
 ],
 "metadata": {
  "kernelspec": {
   "display_name": "Python 3",
   "language": "python",
   "name": "python3"
  },
  "language_info": {
   "codemirror_mode": {
    "name": "ipython",
    "version": 3
   },
   "file_extension": ".py",
   "mimetype": "text/x-python",
   "name": "python",
   "nbconvert_exporter": "python",
   "pygments_lexer": "ipython3",
   "version": "3.5.4"
  }
 },
 "nbformat": 4,
 "nbformat_minor": 0
}
