{
 "cells": [
  {
   "cell_type": "markdown",
   "metadata": {},
   "source": [
    "# Google form analysis tests"
   ]
  },
  {
   "cell_type": "markdown",
   "metadata": {},
   "source": [
    "## Table of Contents\n",
    "\n",
    "1.  [Google form loading](#gformload)\n",
    "\n",
    "    1.  [Selection of a question](#selquest)\n",
    "\n",
    "    2.  [Selection of a user's answers](#selusans)\n",
    "\n",
    "2.  [correct answers list](#corranslist)\n",
    "\n",
    "3.  [checking answers](#checkans)\n",
    "\n",
    "4.  [checkpoint / question association](#checkquesmatch)\n",
    "\n",
    "5.  [comparison of checkpoints completion and answers](#compcheckans)"
   ]
  },
  {
   "cell_type": "code",
   "execution_count": 4,
   "metadata": {
    "collapsed": false
   },
   "outputs": [
    {
     "name": "stderr",
     "output_type": "stream",
     "text": [
      "C:\\Users\\Mikael\\Anaconda3\\lib\\site-packages\\IPython\\core\\interactiveshell.py:2902: DtypeWarning: Columns (24,32,34) have mixed types. Specify dtype option on import or set low_memory=False.\n",
      "  interactivity=interactivity, compiler=compiler, result=result)\n"
     ]
    }
   ],
   "source": [
    "%run \"1. Google form analysis.ipynb\""
   ]
  },
  {
   "cell_type": "code",
   "execution_count": 5,
   "metadata": {
    "collapsed": true
   },
   "outputs": [],
   "source": [
    "# Localplayerguids of users who answered the questionnaire (see below).\n",
    "# French\n",
    "#localplayerguid = '\"a4d4b030-9117-4331-ba48-90dc05a7e65a\"'\n",
    "#localplayerguid = '\"d6826fd9-a6fc-4046-b974-68e50576183f\"'\n",
    "#localplayerguid = '\"deb089c0-9be3-4b75-9b27-28963c77b10c\"'\n",
    "#localplayerguid = '\"75e264d6-af94-4975-bb18-50cac09894c4\"'\n",
    "#localplayerguid = '\"3d733347-0313-441a-b77c-3e4046042a53\"'\n",
    "# English\n",
    "localplayerguid = '\"8d352896-a3f1-471c-8439-0f426df901c1\"'\n",
    "#localplayerguid = '\"7037c5b2-c286-498e-9784-9a061c778609\"'\n",
    "#localplayerguid = '\"5c4939b5-425b-4d19-b5d2-0384a515539e\"'\n",
    "#localplayerguid = '\"7825d421-d668-4481-898a-46b51efe40f0\"'\n",
    "#localplayerguid = '\"acb9c989-b4a6-4c4d-81cc-6b5783ec71d8\"'\n",
    "#localplayerguid = devPCID5"
   ]
  },
  {
   "cell_type": "markdown",
   "metadata": {},
   "source": [
    "## 1. Google form loading\n",
    "<a id=gformload />"
   ]
  },
  {
   "cell_type": "code",
   "execution_count": 6,
   "metadata": {
    "collapsed": true
   },
   "outputs": [],
   "source": [
    "#formname = '2017-09-12-gform-fr.csv'\n",
    "formname = '2017-09-12-gform-en.csv'\n",
    "\n",
    "#localplayerguidkey = 'Ne pas modifier - identifiant anonyme prérempli'\n",
    "localplayerguidkey = 'Do not edit -  pre-filled anonymous ID'\n",
    "localplayerguidindex = 34\n",
    "\n",
    "gform = pd.read_csv(\"../data/Google forms/\" + formname)"
   ]
  },
  {
   "cell_type": "code",
   "execution_count": 7,
   "metadata": {
    "collapsed": false
   },
   "outputs": [
    {
     "data": {
      "text/html": [
       "<div>\n",
       "<style>\n",
       "    .dataframe thead tr:only-child th {\n",
       "        text-align: right;\n",
       "    }\n",
       "\n",
       "    .dataframe thead th {\n",
       "        text-align: left;\n",
       "    }\n",
       "\n",
       "    .dataframe tbody tr th {\n",
       "        vertical-align: top;\n",
       "    }\n",
       "</style>\n",
       "<table border=\"1\" class=\"dataframe\">\n",
       "  <thead>\n",
       "    <tr style=\"text-align: right;\">\n",
       "      <th></th>\n",
       "      <th>0</th>\n",
       "      <th>1</th>\n",
       "      <th>2</th>\n",
       "      <th>3</th>\n",
       "    </tr>\n",
       "  </thead>\n",
       "  <tbody>\n",
       "    <tr>\n",
       "      <th>Timestamp</th>\n",
       "      <td>2017/08/18 4:22:26 PM GMT+2</td>\n",
       "      <td>2017/09/06 2:28:03 PM GMT+2</td>\n",
       "      <td>2017/09/12 10:02:06 AM GMT+2</td>\n",
       "      <td>2017/09/13 3:11:34 AM GMT+2</td>\n",
       "    </tr>\n",
       "    <tr>\n",
       "      <th>Are you interested in video games?</th>\n",
       "      <td>Extremely</td>\n",
       "      <td>Moderately</td>\n",
       "      <td>A lot</td>\n",
       "      <td>I don't know</td>\n",
       "    </tr>\n",
       "    <tr>\n",
       "      <th>Do you play video games?</th>\n",
       "      <td>Extremely</td>\n",
       "      <td>Moderately</td>\n",
       "      <td>Moderately</td>\n",
       "      <td>I don't know</td>\n",
       "    </tr>\n",
       "    <tr>\n",
       "      <th>How old are you?</th>\n",
       "      <td>23</td>\n",
       "      <td>28</td>\n",
       "      <td>20</td>\n",
       "      <td>0</td>\n",
       "    </tr>\n",
       "    <tr>\n",
       "      <th>What is your gender?</th>\n",
       "      <td>Female</td>\n",
       "      <td>Other</td>\n",
       "      <td>Female</td>\n",
       "      <td>Other</td>\n",
       "    </tr>\n",
       "    <tr>\n",
       "      <th>How long have you studied biology?</th>\n",
       "      <td>Until bachelor's degree</td>\n",
       "      <td>Until the end of high school</td>\n",
       "      <td>Until bachelor's degree</td>\n",
       "      <td>I don't know</td>\n",
       "    </tr>\n",
       "    <tr>\n",
       "      <th>Are you interested in biology?</th>\n",
       "      <td>Extremely</td>\n",
       "      <td>Moderately</td>\n",
       "      <td>Moderately</td>\n",
       "      <td>I don't know</td>\n",
       "    </tr>\n",
       "    <tr>\n",
       "      <th>Have you ever heard about synthetic biology or BioBricks?</th>\n",
       "      <td>Yes</td>\n",
       "      <td>Yes</td>\n",
       "      <td>No</td>\n",
       "      <td>No</td>\n",
       "    </tr>\n",
       "    <tr>\n",
       "      <th>Have you ever played an older version of Hero.Coli before?</th>\n",
       "      <td>No</td>\n",
       "      <td>No</td>\n",
       "      <td>No</td>\n",
       "      <td>No</td>\n",
       "    </tr>\n",
       "    <tr>\n",
       "      <th>Have you played the current version of Hero.Coli?</th>\n",
       "      <td>Yes</td>\n",
       "      <td>Yes</td>\n",
       "      <td>Yes</td>\n",
       "      <td>Yes</td>\n",
       "    </tr>\n",
       "    <tr>\n",
       "      <th>What is the species of the bacterium of the game?</th>\n",
       "      <td>E. Coli</td>\n",
       "      <td>E. Coli</td>\n",
       "      <td>E. Coli</td>\n",
       "      <td>E. Coli</td>\n",
       "    </tr>\n",
       "    <tr>\n",
       "      <th>In order to modify the abilities of the bacterium, you have to...</th>\n",
       "      <td>Edit the DNA of the bacterium</td>\n",
       "      <td>Edit the DNA of the bacterium</td>\n",
       "      <td>Edit the DNA of the bacterium</td>\n",
       "      <td>Edit the DNA of the bacterium</td>\n",
       "    </tr>\n",
       "    <tr>\n",
       "      <th>What are BioBricks and devices?</th>\n",
       "      <td>DNA sequences</td>\n",
       "      <td>DNA sequences</td>\n",
       "      <td>Genes</td>\n",
       "      <td>DNA sequences</td>\n",
       "    </tr>\n",
       "    <tr>\n",
       "      <th>What is the scientific name of the tails of the bacterium?</th>\n",
       "      <td>Flagella</td>\n",
       "      <td>Flagella</td>\n",
       "      <td>Flagella</td>\n",
       "      <td>Flagella</td>\n",
       "    </tr>\n",
       "    <tr>\n",
       "      <th>Find the antibiotic:</th>\n",
       "      <td>Ampicillin</td>\n",
       "      <td>Ampicillin</td>\n",
       "      <td>Ampicillin</td>\n",
       "      <td>Ampicillin</td>\n",
       "    </tr>\n",
       "    <tr>\n",
       "      <th>What is the name of this BioBrick?</th>\n",
       "      <td>Terminator</td>\n",
       "      <td>Terminator</td>\n",
       "      <td>Terminator</td>\n",
       "      <td>Terminator</td>\n",
       "    </tr>\n",
       "    <tr>\n",
       "      <th>What is the name of this BioBrick?.1</th>\n",
       "      <td>Promoter</td>\n",
       "      <td>Promoter</td>\n",
       "      <td>Promoter</td>\n",
       "      <td>Promoter</td>\n",
       "    </tr>\n",
       "    <tr>\n",
       "      <th>What is the name of this BioBrick?.2</th>\n",
       "      <td>Fluorescence</td>\n",
       "      <td>Coding Sequence</td>\n",
       "      <td>I don't know</td>\n",
       "      <td>Coding Sequence</td>\n",
       "    </tr>\n",
       "    <tr>\n",
       "      <th>What is the name of this BioBrick?.3</th>\n",
       "      <td>RBS</td>\n",
       "      <td>RBS</td>\n",
       "      <td>ATP</td>\n",
       "      <td>RBS</td>\n",
       "    </tr>\n",
       "    <tr>\n",
       "      <th>Pick the case where the BioBricks are well-ordered:</th>\n",
       "      <td>Option 2</td>\n",
       "      <td>Option 1</td>\n",
       "      <td>Option 1</td>\n",
       "      <td>Option 1</td>\n",
       "    </tr>\n",
       "    <tr>\n",
       "      <th>When does green fluorescence happen?</th>\n",
       "      <td>Under blue light, when the GFP device is equipped</td>\n",
       "      <td>Under blue light, when the GFP device is equipped</td>\n",
       "      <td>In front of the doors, when the GFP device is ...</td>\n",
       "      <td>Under blue light, when the GFP device is equipped</td>\n",
       "    </tr>\n",
       "    <tr>\n",
       "      <th>What happens when you unequip the movement device?</th>\n",
       "      <td>Flagella quickly disappear one by one</td>\n",
       "      <td>Flagella quickly disappear one by one</td>\n",
       "      <td>Flagella quickly disappear one by one</td>\n",
       "      <td>Flagella quickly disappear one by one</td>\n",
       "    </tr>\n",
       "    <tr>\n",
       "      <th>What is this?</th>\n",
       "      <td>A plasmid - it makes it possible to equip an a...</td>\n",
       "      <td>A plasmid - it makes it possible to equip an a...</td>\n",
       "      <td>A plasmid - it makes it possible to equip an a...</td>\n",
       "      <td>A plasmid - it makes it possible to equip an a...</td>\n",
       "    </tr>\n",
       "    <tr>\n",
       "      <th>What does this device do?</th>\n",
       "      <td>I don't know</td>\n",
       "      <td>It generates green fluorescence</td>\n",
       "      <td>It generates green fluorescence in presence of...</td>\n",
       "      <td>It generates green fluorescence</td>\n",
       "    </tr>\n",
       "    <tr>\n",
       "      <th>What does this device do?.1</th>\n",
       "      <td>I don't know</td>\n",
       "      <td>It makes it possible to move faster</td>\n",
       "      <td>It generates antibiotic resistance</td>\n",
       "      <td>It makes it possible to move faster</td>\n",
       "    </tr>\n",
       "    <tr>\n",
       "      <th>What does this device do?.2</th>\n",
       "      <td>It generates antibiotic resistance</td>\n",
       "      <td>It generates antibiotic resistance</td>\n",
       "      <td>It generates antibiotic resistance</td>\n",
       "      <td>It generates antibiotic resistance</td>\n",
       "    </tr>\n",
       "    <tr>\n",
       "      <th>What does this device do?.3</th>\n",
       "      <td>It generates green fluorescence in presence of...</td>\n",
       "      <td>It generates green fluorescence in presence of...</td>\n",
       "      <td>It generates green fluorescence in presence of...</td>\n",
       "      <td>It generates green fluorescence in presence of...</td>\n",
       "    </tr>\n",
       "    <tr>\n",
       "      <th>What does this device do?.4</th>\n",
       "      <td>It generates green fluorescence</td>\n",
       "      <td>It generates green fluorescence</td>\n",
       "      <td>It generates green fluorescence in presence of...</td>\n",
       "      <td>It generates green fluorescence</td>\n",
       "    </tr>\n",
       "    <tr>\n",
       "      <th>What does this device do?.5</th>\n",
       "      <td>It makes it possible to move faster</td>\n",
       "      <td>It makes it possible to move faster</td>\n",
       "      <td>It makes it possible to move faster</td>\n",
       "      <td>It makes it possible to move faster</td>\n",
       "    </tr>\n",
       "    <tr>\n",
       "      <th>What does this device do?.6</th>\n",
       "      <td>It generates antibiotic resistance</td>\n",
       "      <td>It generates antibiotic resistance</td>\n",
       "      <td>It generates antibiotic resistance</td>\n",
       "      <td>It generates antibiotic resistance</td>\n",
       "    </tr>\n",
       "    <tr>\n",
       "      <th>What does this device do?.7</th>\n",
       "      <td>It generates green fluorescence in presence of...</td>\n",
       "      <td>It generates green fluorescence in presence of...</td>\n",
       "      <td>It generates green fluorescence</td>\n",
       "      <td>It generates green fluorescence in presence of...</td>\n",
       "    </tr>\n",
       "    <tr>\n",
       "      <th>The bacterium glows yellow...</th>\n",
       "      <td>I don't know</td>\n",
       "      <td>I don't know</td>\n",
       "      <td>If it produces BFP under purple light</td>\n",
       "      <td>If it produces YFP under cyan light</td>\n",
       "    </tr>\n",
       "    <tr>\n",
       "      <th>What would a device producing l-arabinose do, if it started with a l-arabinose-induced promoter?</th>\n",
       "      <td>After being induced, it would produce more and...</td>\n",
       "      <td>After being induced, it would produce more and...</td>\n",
       "      <td>I don't know</td>\n",
       "      <td>After being induced, it would produce more and...</td>\n",
       "    </tr>\n",
       "    <tr>\n",
       "      <th>You can write down remarks here.</th>\n",
       "      <td>Your game is amazing. One suggestion. In sever...</td>\n",
       "      <td>This was a nice educational game, thank you fo...</td>\n",
       "      <td>NaN</td>\n",
       "      <td>NaN</td>\n",
       "    </tr>\n",
       "    <tr>\n",
       "      <th>Do not edit -  pre-filled anonymous ID</th>\n",
       "      <td>8d352896-a3f1-471c-8439-0f426df901c1</td>\n",
       "      <td>7037c5b2-c286-498e-9784-9a061c778609</td>\n",
       "      <td>5c4939b5-425b-4d19-b5d2-0384a515539e</td>\n",
       "      <td>7825d421-d668-4481-898a-46b51efe40f0</td>\n",
       "    </tr>\n",
       "  </tbody>\n",
       "</table>\n",
       "</div>"
      ],
      "text/plain": [
       "                                                                                                    0  \\\n",
       "Timestamp                                                                 2017/08/18 4:22:26 PM GMT+2   \n",
       "Are you interested in video games?                                                          Extremely   \n",
       "Do you play video games?                                                                    Extremely   \n",
       "How old are you?                                                                                   23   \n",
       "What is your gender?                                                                           Female   \n",
       "How long have you studied biology?                                            Until bachelor's degree   \n",
       "Are you interested in biology?                                                              Extremely   \n",
       "Have you ever heard about synthetic biology or ...                                                Yes   \n",
       "Have you ever played an older version of Hero.C...                                                 No   \n",
       "Have you played the current version of Hero.Coli?                                                 Yes   \n",
       "What is the species of the bacterium of the game?                                             E. Coli   \n",
       "In order to modify the abilities of the bacteri...                      Edit the DNA of the bacterium   \n",
       "What are BioBricks and devices?                                                         DNA sequences   \n",
       "What is the scientific name of the tails of the...                                           Flagella   \n",
       "Find the antibiotic:                                                                       Ampicillin   \n",
       "What is the name of this BioBrick?                                                         Terminator   \n",
       "What is the name of this BioBrick?.1                                                         Promoter   \n",
       "What is the name of this BioBrick?.2                                                     Fluorescence   \n",
       "What is the name of this BioBrick?.3                                                              RBS   \n",
       "Pick the case where the BioBricks are well-orde...                                           Option 2   \n",
       "When does green fluorescence happen?                Under blue light, when the GFP device is equipped   \n",
       "What happens when you unequip the movement device?              Flagella quickly disappear one by one   \n",
       "What is this?                                       A plasmid - it makes it possible to equip an a...   \n",
       "What does this device do?                                                                I don't know   \n",
       "What does this device do?.1                                                              I don't know   \n",
       "What does this device do?.2                                        It generates antibiotic resistance   \n",
       "What does this device do?.3                         It generates green fluorescence in presence of...   \n",
       "What does this device do?.4                                           It generates green fluorescence   \n",
       "What does this device do?.5                                       It makes it possible to move faster   \n",
       "What does this device do?.6                                        It generates antibiotic resistance   \n",
       "What does this device do?.7                         It generates green fluorescence in presence of...   \n",
       "The bacterium glows yellow...                                                            I don't know   \n",
       "What would a device producing l-arabinose do, i...  After being induced, it would produce more and...   \n",
       "You can write down remarks here.                    Your game is amazing. One suggestion. In sever...   \n",
       "Do not edit -  pre-filled anonymous ID                           8d352896-a3f1-471c-8439-0f426df901c1   \n",
       "\n",
       "                                                                                                    1  \\\n",
       "Timestamp                                                                 2017/09/06 2:28:03 PM GMT+2   \n",
       "Are you interested in video games?                                                         Moderately   \n",
       "Do you play video games?                                                                   Moderately   \n",
       "How old are you?                                                                                   28   \n",
       "What is your gender?                                                                            Other   \n",
       "How long have you studied biology?                                       Until the end of high school   \n",
       "Are you interested in biology?                                                             Moderately   \n",
       "Have you ever heard about synthetic biology or ...                                                Yes   \n",
       "Have you ever played an older version of Hero.C...                                                 No   \n",
       "Have you played the current version of Hero.Coli?                                                 Yes   \n",
       "What is the species of the bacterium of the game?                                             E. Coli   \n",
       "In order to modify the abilities of the bacteri...                      Edit the DNA of the bacterium   \n",
       "What are BioBricks and devices?                                                         DNA sequences   \n",
       "What is the scientific name of the tails of the...                                           Flagella   \n",
       "Find the antibiotic:                                                                       Ampicillin   \n",
       "What is the name of this BioBrick?                                                         Terminator   \n",
       "What is the name of this BioBrick?.1                                                         Promoter   \n",
       "What is the name of this BioBrick?.2                                                  Coding Sequence   \n",
       "What is the name of this BioBrick?.3                                                              RBS   \n",
       "Pick the case where the BioBricks are well-orde...                                           Option 1   \n",
       "When does green fluorescence happen?                Under blue light, when the GFP device is equipped   \n",
       "What happens when you unequip the movement device?              Flagella quickly disappear one by one   \n",
       "What is this?                                       A plasmid - it makes it possible to equip an a...   \n",
       "What does this device do?                                             It generates green fluorescence   \n",
       "What does this device do?.1                                       It makes it possible to move faster   \n",
       "What does this device do?.2                                        It generates antibiotic resistance   \n",
       "What does this device do?.3                         It generates green fluorescence in presence of...   \n",
       "What does this device do?.4                                           It generates green fluorescence   \n",
       "What does this device do?.5                                       It makes it possible to move faster   \n",
       "What does this device do?.6                                        It generates antibiotic resistance   \n",
       "What does this device do?.7                         It generates green fluorescence in presence of...   \n",
       "The bacterium glows yellow...                                                            I don't know   \n",
       "What would a device producing l-arabinose do, i...  After being induced, it would produce more and...   \n",
       "You can write down remarks here.                    This was a nice educational game, thank you fo...   \n",
       "Do not edit -  pre-filled anonymous ID                           7037c5b2-c286-498e-9784-9a061c778609   \n",
       "\n",
       "                                                                                                    2  \\\n",
       "Timestamp                                                                2017/09/12 10:02:06 AM GMT+2   \n",
       "Are you interested in video games?                                                              A lot   \n",
       "Do you play video games?                                                                   Moderately   \n",
       "How old are you?                                                                                   20   \n",
       "What is your gender?                                                                           Female   \n",
       "How long have you studied biology?                                            Until bachelor's degree   \n",
       "Are you interested in biology?                                                             Moderately   \n",
       "Have you ever heard about synthetic biology or ...                                                 No   \n",
       "Have you ever played an older version of Hero.C...                                                 No   \n",
       "Have you played the current version of Hero.Coli?                                                 Yes   \n",
       "What is the species of the bacterium of the game?                                             E. Coli   \n",
       "In order to modify the abilities of the bacteri...                      Edit the DNA of the bacterium   \n",
       "What are BioBricks and devices?                                                                 Genes   \n",
       "What is the scientific name of the tails of the...                                           Flagella   \n",
       "Find the antibiotic:                                                                       Ampicillin   \n",
       "What is the name of this BioBrick?                                                         Terminator   \n",
       "What is the name of this BioBrick?.1                                                         Promoter   \n",
       "What is the name of this BioBrick?.2                                                     I don't know   \n",
       "What is the name of this BioBrick?.3                                                              ATP   \n",
       "Pick the case where the BioBricks are well-orde...                                           Option 1   \n",
       "When does green fluorescence happen?                In front of the doors, when the GFP device is ...   \n",
       "What happens when you unequip the movement device?              Flagella quickly disappear one by one   \n",
       "What is this?                                       A plasmid - it makes it possible to equip an a...   \n",
       "What does this device do?                           It generates green fluorescence in presence of...   \n",
       "What does this device do?.1                                        It generates antibiotic resistance   \n",
       "What does this device do?.2                                        It generates antibiotic resistance   \n",
       "What does this device do?.3                         It generates green fluorescence in presence of...   \n",
       "What does this device do?.4                         It generates green fluorescence in presence of...   \n",
       "What does this device do?.5                                       It makes it possible to move faster   \n",
       "What does this device do?.6                                        It generates antibiotic resistance   \n",
       "What does this device do?.7                                           It generates green fluorescence   \n",
       "The bacterium glows yellow...                                   If it produces BFP under purple light   \n",
       "What would a device producing l-arabinose do, i...                                       I don't know   \n",
       "You can write down remarks here.                                                                  NaN   \n",
       "Do not edit -  pre-filled anonymous ID                           5c4939b5-425b-4d19-b5d2-0384a515539e   \n",
       "\n",
       "                                                                                                    3  \n",
       "Timestamp                                                                 2017/09/13 3:11:34 AM GMT+2  \n",
       "Are you interested in video games?                                                       I don't know  \n",
       "Do you play video games?                                                                 I don't know  \n",
       "How old are you?                                                                                    0  \n",
       "What is your gender?                                                                            Other  \n",
       "How long have you studied biology?                                                       I don't know  \n",
       "Are you interested in biology?                                                           I don't know  \n",
       "Have you ever heard about synthetic biology or ...                                                 No  \n",
       "Have you ever played an older version of Hero.C...                                                 No  \n",
       "Have you played the current version of Hero.Coli?                                                 Yes  \n",
       "What is the species of the bacterium of the game?                                             E. Coli  \n",
       "In order to modify the abilities of the bacteri...                      Edit the DNA of the bacterium  \n",
       "What are BioBricks and devices?                                                         DNA sequences  \n",
       "What is the scientific name of the tails of the...                                           Flagella  \n",
       "Find the antibiotic:                                                                       Ampicillin  \n",
       "What is the name of this BioBrick?                                                         Terminator  \n",
       "What is the name of this BioBrick?.1                                                         Promoter  \n",
       "What is the name of this BioBrick?.2                                                  Coding Sequence  \n",
       "What is the name of this BioBrick?.3                                                              RBS  \n",
       "Pick the case where the BioBricks are well-orde...                                           Option 1  \n",
       "When does green fluorescence happen?                Under blue light, when the GFP device is equipped  \n",
       "What happens when you unequip the movement device?              Flagella quickly disappear one by one  \n",
       "What is this?                                       A plasmid - it makes it possible to equip an a...  \n",
       "What does this device do?                                             It generates green fluorescence  \n",
       "What does this device do?.1                                       It makes it possible to move faster  \n",
       "What does this device do?.2                                        It generates antibiotic resistance  \n",
       "What does this device do?.3                         It generates green fluorescence in presence of...  \n",
       "What does this device do?.4                                           It generates green fluorescence  \n",
       "What does this device do?.5                                       It makes it possible to move faster  \n",
       "What does this device do?.6                                        It generates antibiotic resistance  \n",
       "What does this device do?.7                         It generates green fluorescence in presence of...  \n",
       "The bacterium glows yellow...                                     If it produces YFP under cyan light  \n",
       "What would a device producing l-arabinose do, i...  After being induced, it would produce more and...  \n",
       "You can write down remarks here.                                                                  NaN  \n",
       "Do not edit -  pre-filled anonymous ID                           7825d421-d668-4481-898a-46b51efe40f0  "
      ]
     },
     "execution_count": 7,
     "metadata": {},
     "output_type": "execute_result"
    }
   ],
   "source": [
    "transposed = gform.T\n",
    "#answers = transposed[transposed[]]\n",
    "transposed"
   ]
  },
  {
   "cell_type": "code",
   "execution_count": 8,
   "metadata": {
    "collapsed": false
   },
   "outputs": [
    {
     "data": {
      "text/plain": [
       "pandas.core.frame.DataFrame"
      ]
     },
     "execution_count": 8,
     "metadata": {},
     "output_type": "execute_result"
    }
   ],
   "source": [
    "type(gform)"
   ]
  },
  {
   "cell_type": "markdown",
   "metadata": {},
   "source": [
    "### 1.1 Selection of a question\n",
    "<a id=selquest />"
   ]
  },
  {
   "cell_type": "code",
   "execution_count": 9,
   "metadata": {
    "collapsed": false
   },
   "outputs": [
    {
     "data": {
      "text/plain": [
       "0    8d352896-a3f1-471c-8439-0f426df901c1\n",
       "1    7037c5b2-c286-498e-9784-9a061c778609\n",
       "2    5c4939b5-425b-4d19-b5d2-0384a515539e\n",
       "3    7825d421-d668-4481-898a-46b51efe40f0\n",
       "Name: Do not edit -  pre-filled anonymous ID, dtype: object"
      ]
     },
     "execution_count": 9,
     "metadata": {},
     "output_type": "execute_result"
    }
   ],
   "source": [
    "# Using the whole question:\n",
    "gform[localplayerguidkey]"
   ]
  },
  {
   "cell_type": "code",
   "execution_count": 10,
   "metadata": {
    "collapsed": false
   },
   "outputs": [
    {
     "data": {
      "text/plain": [
       "0    8d352896-a3f1-471c-8439-0f426df901c1\n",
       "1    7037c5b2-c286-498e-9784-9a061c778609\n",
       "2    5c4939b5-425b-4d19-b5d2-0384a515539e\n",
       "3    7825d421-d668-4481-898a-46b51efe40f0\n",
       "Name: Do not edit -  pre-filled anonymous ID, dtype: object"
      ]
     },
     "execution_count": 10,
     "metadata": {},
     "output_type": "execute_result"
    }
   ],
   "source": [
    "# Using the index of the question:\n",
    "gform.iloc[:, localplayerguidindex]"
   ]
  },
  {
   "cell_type": "markdown",
   "metadata": {},
   "source": [
    "### 1.2 Selection of a user's answers\n",
    "<a id=selusans />"
   ]
  },
  {
   "cell_type": "code",
   "execution_count": 11,
   "metadata": {
    "collapsed": false
   },
   "outputs": [
    {
     "data": {
      "text/html": [
       "<div>\n",
       "<style>\n",
       "    .dataframe thead tr:only-child th {\n",
       "        text-align: right;\n",
       "    }\n",
       "\n",
       "    .dataframe thead th {\n",
       "        text-align: left;\n",
       "    }\n",
       "\n",
       "    .dataframe tbody tr th {\n",
       "        vertical-align: top;\n",
       "    }\n",
       "</style>\n",
       "<table border=\"1\" class=\"dataframe\">\n",
       "  <thead>\n",
       "    <tr style=\"text-align: right;\">\n",
       "      <th></th>\n",
       "      <th>answers</th>\n",
       "    </tr>\n",
       "  </thead>\n",
       "  <tbody>\n",
       "    <tr>\n",
       "      <th>Timestamp</th>\n",
       "      <td>2017/08/18 4:22:26 PM GMT+2</td>\n",
       "    </tr>\n",
       "    <tr>\n",
       "      <th>Are you interested in video games?</th>\n",
       "      <td>Extremely</td>\n",
       "    </tr>\n",
       "    <tr>\n",
       "      <th>Do you play video games?</th>\n",
       "      <td>Extremely</td>\n",
       "    </tr>\n",
       "    <tr>\n",
       "      <th>How old are you?</th>\n",
       "      <td>23</td>\n",
       "    </tr>\n",
       "    <tr>\n",
       "      <th>What is your gender?</th>\n",
       "      <td>Female</td>\n",
       "    </tr>\n",
       "    <tr>\n",
       "      <th>How long have you studied biology?</th>\n",
       "      <td>Until bachelor's degree</td>\n",
       "    </tr>\n",
       "    <tr>\n",
       "      <th>Are you interested in biology?</th>\n",
       "      <td>Extremely</td>\n",
       "    </tr>\n",
       "    <tr>\n",
       "      <th>Have you ever heard about synthetic biology or BioBricks?</th>\n",
       "      <td>Yes</td>\n",
       "    </tr>\n",
       "    <tr>\n",
       "      <th>Have you ever played an older version of Hero.Coli before?</th>\n",
       "      <td>No</td>\n",
       "    </tr>\n",
       "    <tr>\n",
       "      <th>Have you played the current version of Hero.Coli?</th>\n",
       "      <td>Yes</td>\n",
       "    </tr>\n",
       "    <tr>\n",
       "      <th>What is the species of the bacterium of the game?</th>\n",
       "      <td>E. Coli</td>\n",
       "    </tr>\n",
       "    <tr>\n",
       "      <th>In order to modify the abilities of the bacterium, you have to...</th>\n",
       "      <td>Edit the DNA of the bacterium</td>\n",
       "    </tr>\n",
       "    <tr>\n",
       "      <th>What are BioBricks and devices?</th>\n",
       "      <td>DNA sequences</td>\n",
       "    </tr>\n",
       "    <tr>\n",
       "      <th>What is the scientific name of the tails of the bacterium?</th>\n",
       "      <td>Flagella</td>\n",
       "    </tr>\n",
       "    <tr>\n",
       "      <th>Find the antibiotic:</th>\n",
       "      <td>Ampicillin</td>\n",
       "    </tr>\n",
       "    <tr>\n",
       "      <th>What is the name of this BioBrick?</th>\n",
       "      <td>Terminator</td>\n",
       "    </tr>\n",
       "    <tr>\n",
       "      <th>What is the name of this BioBrick?.1</th>\n",
       "      <td>Promoter</td>\n",
       "    </tr>\n",
       "    <tr>\n",
       "      <th>What is the name of this BioBrick?.2</th>\n",
       "      <td>Fluorescence</td>\n",
       "    </tr>\n",
       "    <tr>\n",
       "      <th>What is the name of this BioBrick?.3</th>\n",
       "      <td>RBS</td>\n",
       "    </tr>\n",
       "    <tr>\n",
       "      <th>Pick the case where the BioBricks are well-ordered:</th>\n",
       "      <td>Option 2</td>\n",
       "    </tr>\n",
       "    <tr>\n",
       "      <th>When does green fluorescence happen?</th>\n",
       "      <td>Under blue light, when the GFP device is equipped</td>\n",
       "    </tr>\n",
       "    <tr>\n",
       "      <th>What happens when you unequip the movement device?</th>\n",
       "      <td>Flagella quickly disappear one by one</td>\n",
       "    </tr>\n",
       "    <tr>\n",
       "      <th>What is this?</th>\n",
       "      <td>A plasmid - it makes it possible to equip an a...</td>\n",
       "    </tr>\n",
       "    <tr>\n",
       "      <th>What does this device do?</th>\n",
       "      <td>I don't know</td>\n",
       "    </tr>\n",
       "    <tr>\n",
       "      <th>What does this device do?.1</th>\n",
       "      <td>I don't know</td>\n",
       "    </tr>\n",
       "    <tr>\n",
       "      <th>What does this device do?.2</th>\n",
       "      <td>It generates antibiotic resistance</td>\n",
       "    </tr>\n",
       "    <tr>\n",
       "      <th>What does this device do?.3</th>\n",
       "      <td>It generates green fluorescence in presence of...</td>\n",
       "    </tr>\n",
       "    <tr>\n",
       "      <th>What does this device do?.4</th>\n",
       "      <td>It generates green fluorescence</td>\n",
       "    </tr>\n",
       "    <tr>\n",
       "      <th>What does this device do?.5</th>\n",
       "      <td>It makes it possible to move faster</td>\n",
       "    </tr>\n",
       "    <tr>\n",
       "      <th>What does this device do?.6</th>\n",
       "      <td>It generates antibiotic resistance</td>\n",
       "    </tr>\n",
       "    <tr>\n",
       "      <th>What does this device do?.7</th>\n",
       "      <td>It generates green fluorescence in presence of...</td>\n",
       "    </tr>\n",
       "    <tr>\n",
       "      <th>The bacterium glows yellow...</th>\n",
       "      <td>I don't know</td>\n",
       "    </tr>\n",
       "    <tr>\n",
       "      <th>What would a device producing l-arabinose do, if it started with a l-arabinose-induced promoter?</th>\n",
       "      <td>After being induced, it would produce more and...</td>\n",
       "    </tr>\n",
       "    <tr>\n",
       "      <th>You can write down remarks here.</th>\n",
       "      <td>Your game is amazing. One suggestion. In sever...</td>\n",
       "    </tr>\n",
       "    <tr>\n",
       "      <th>Do not edit -  pre-filled anonymous ID</th>\n",
       "      <td>8d352896-a3f1-471c-8439-0f426df901c1</td>\n",
       "    </tr>\n",
       "  </tbody>\n",
       "</table>\n",
       "</div>"
      ],
      "text/plain": [
       "                                                                                              answers\n",
       "Timestamp                                                                 2017/08/18 4:22:26 PM GMT+2\n",
       "Are you interested in video games?                                                          Extremely\n",
       "Do you play video games?                                                                    Extremely\n",
       "How old are you?                                                                                   23\n",
       "What is your gender?                                                                           Female\n",
       "How long have you studied biology?                                            Until bachelor's degree\n",
       "Are you interested in biology?                                                              Extremely\n",
       "Have you ever heard about synthetic biology or ...                                                Yes\n",
       "Have you ever played an older version of Hero.C...                                                 No\n",
       "Have you played the current version of Hero.Coli?                                                 Yes\n",
       "What is the species of the bacterium of the game?                                             E. Coli\n",
       "In order to modify the abilities of the bacteri...                      Edit the DNA of the bacterium\n",
       "What are BioBricks and devices?                                                         DNA sequences\n",
       "What is the scientific name of the tails of the...                                           Flagella\n",
       "Find the antibiotic:                                                                       Ampicillin\n",
       "What is the name of this BioBrick?                                                         Terminator\n",
       "What is the name of this BioBrick?.1                                                         Promoter\n",
       "What is the name of this BioBrick?.2                                                     Fluorescence\n",
       "What is the name of this BioBrick?.3                                                              RBS\n",
       "Pick the case where the BioBricks are well-orde...                                           Option 2\n",
       "When does green fluorescence happen?                Under blue light, when the GFP device is equipped\n",
       "What happens when you unequip the movement device?              Flagella quickly disappear one by one\n",
       "What is this?                                       A plasmid - it makes it possible to equip an a...\n",
       "What does this device do?                                                                I don't know\n",
       "What does this device do?.1                                                              I don't know\n",
       "What does this device do?.2                                        It generates antibiotic resistance\n",
       "What does this device do?.3                         It generates green fluorescence in presence of...\n",
       "What does this device do?.4                                           It generates green fluorescence\n",
       "What does this device do?.5                                       It makes it possible to move faster\n",
       "What does this device do?.6                                        It generates antibiotic resistance\n",
       "What does this device do?.7                         It generates green fluorescence in presence of...\n",
       "The bacterium glows yellow...                                                            I don't know\n",
       "What would a device producing l-arabinose do, i...  After being induced, it would produce more and...\n",
       "You can write down remarks here.                    Your game is amazing. One suggestion. In sever...\n",
       "Do not edit -  pre-filled anonymous ID                           8d352896-a3f1-471c-8439-0f426df901c1"
      ]
     },
     "execution_count": 11,
     "metadata": {},
     "output_type": "execute_result"
    }
   ],
   "source": [
    "# Localplayerguids stored in gform have different format\n",
    "answers = gform[gform[localplayerguidkey]==localplayerguid.replace('\"','')]\n",
    "columnAnswers = answers.T\n",
    "columnAnswers.columns = ['answers']\n",
    "columnAnswers"
   ]
  },
  {
   "cell_type": "code",
   "execution_count": 12,
   "metadata": {
    "collapsed": false
   },
   "outputs": [
    {
     "data": {
      "text/plain": [
       "0    8d352896-a3f1-471c-8439-0f426df901c1\n",
       "Name: Do not edit -  pre-filled anonymous ID, dtype: object"
      ]
     },
     "execution_count": 12,
     "metadata": {},
     "output_type": "execute_result"
    }
   ],
   "source": [
    "# Selection of a specific answer\n",
    "answers.iloc[:,localplayerguidindex]"
   ]
  },
  {
   "cell_type": "code",
   "execution_count": 13,
   "metadata": {
    "collapsed": false
   },
   "outputs": [
    {
     "data": {
      "text/plain": [
       "'8d352896-a3f1-471c-8439-0f426df901c1'"
      ]
     },
     "execution_count": 13,
     "metadata": {},
     "output_type": "execute_result"
    }
   ],
   "source": [
    "answers.iloc[:,localplayerguidindex].iloc[0]"
   ]
  },
  {
   "cell_type": "code",
   "execution_count": 14,
   "metadata": {
    "collapsed": false
   },
   "outputs": [
    {
     "data": {
      "text/plain": [
       "pandas.core.series.Series"
      ]
     },
     "execution_count": 14,
     "metadata": {},
     "output_type": "execute_result"
    }
   ],
   "source": [
    "type(answers.iloc[0,:])"
   ]
  },
  {
   "cell_type": "code",
   "execution_count": 15,
   "metadata": {
    "collapsed": false
   },
   "outputs": [
    {
     "data": {
      "text/plain": [
       "array(['2017/08/18 4:22:26 PM GMT+2', 'Extremely', 'Extremely', 23,\n",
       "       'Female', \"Until bachelor's degree\", 'Extremely', 'Yes', 'No',\n",
       "       'Yes', 'E. Coli', 'Edit the DNA of the bacterium', 'DNA sequences',\n",
       "       'Flagella', 'Ampicillin', 'Terminator', 'Promoter', 'Fluorescence',\n",
       "       'RBS', 'Option 2',\n",
       "       'Under blue light, when the GFP device is equipped',\n",
       "       'Flagella quickly disappear one by one',\n",
       "       'A plasmid - it makes it possible to equip an additional device',\n",
       "       \"I don't know\", \"I don't know\",\n",
       "       'It generates antibiotic resistance',\n",
       "       'It generates green fluorescence in presence of l-arabinose',\n",
       "       'It generates green fluorescence',\n",
       "       'It makes it possible to move faster',\n",
       "       'It generates antibiotic resistance',\n",
       "       'It generates green fluorescence in presence of l-arabinose',\n",
       "       \"I don't know\",\n",
       "       'After being induced, it would produce more and more l-arabinose, because it would induce itself',\n",
       "       'Your game is amazing. One suggestion. In several points throughout the game i had no idea where to go. maybe a minimap would help',\n",
       "       '8d352896-a3f1-471c-8439-0f426df901c1'], dtype=object)"
      ]
     },
     "execution_count": 15,
     "metadata": {},
     "output_type": "execute_result"
    }
   ],
   "source": [
    "answers.iloc[0,:].values"
   ]
  },
  {
   "cell_type": "markdown",
   "metadata": {},
   "source": [
    "## 2. correct answers list\n",
    "<a id=corranslist />"
   ]
  },
  {
   "cell_type": "code",
   "execution_count": 16,
   "metadata": {
    "collapsed": true
   },
   "outputs": [],
   "source": [
    "%run \"Static data/Google form correct answers.ipynb\"\n",
    "#correctAnswers"
   ]
  },
  {
   "cell_type": "markdown",
   "metadata": {},
   "source": [
    "## 3. checking answers\n",
    "<a id=checkans />"
   ]
  },
  {
   "cell_type": "code",
   "execution_count": 17,
   "metadata": {
    "collapsed": true
   },
   "outputs": [],
   "source": [
    "#### Question that has a correct answer:"
   ]
  },
  {
   "cell_type": "code",
   "execution_count": 18,
   "metadata": {
    "collapsed": false
   },
   "outputs": [
    {
     "data": {
      "text/plain": [
       "True"
      ]
     },
     "execution_count": 18,
     "metadata": {},
     "output_type": "execute_result"
    }
   ],
   "source": [
    "questionIndex = 15\n",
    "answers.iloc[:,questionIndex].iloc[0].startswith(correctAnswers.iloc[questionIndex].iloc[0])"
   ]
  },
  {
   "cell_type": "code",
   "execution_count": 19,
   "metadata": {
    "collapsed": true
   },
   "outputs": [],
   "source": [
    "#### Question that has no correct answer:"
   ]
  },
  {
   "cell_type": "code",
   "execution_count": 20,
   "metadata": {
    "collapsed": false
   },
   "outputs": [
    {
     "data": {
      "text/plain": [
       "True"
      ]
     },
     "execution_count": 20,
     "metadata": {},
     "output_type": "execute_result"
    }
   ],
   "source": [
    "questionIndex = 0\n",
    "answers.iloc[:,questionIndex].iloc[0].startswith(correctAnswers.iloc[questionIndex].iloc[0])"
   ]
  },
  {
   "cell_type": "code",
   "execution_count": 21,
   "metadata": {
    "collapsed": true
   },
   "outputs": [],
   "source": [
    "#### Batch check:"
   ]
  },
  {
   "cell_type": "code",
   "execution_count": 22,
   "metadata": {
    "collapsed": false
   },
   "outputs": [
    {
     "data": {
      "text/plain": [
       "'Extremely'"
      ]
     },
     "execution_count": 22,
     "metadata": {},
     "output_type": "execute_result"
    }
   ],
   "source": [
    "columnAnswers.values[2,0]"
   ]
  },
  {
   "cell_type": "code",
   "execution_count": 23,
   "metadata": {
    "collapsed": false
   },
   "outputs": [
    {
     "data": {
      "text/plain": [
       "'Extremely'"
      ]
     },
     "execution_count": 23,
     "metadata": {},
     "output_type": "execute_result"
    }
   ],
   "source": [
    "columnAnswers['answers'][2]"
   ]
  },
  {
   "cell_type": "code",
   "execution_count": 24,
   "metadata": {
    "collapsed": false
   },
   "outputs": [
    {
     "data": {
      "text/plain": [
       "0                                                      \n",
       "1                                                      \n",
       "2                                                      \n",
       "3                                                      \n",
       "4                                                      \n",
       "5                                                      \n",
       "6                                                      \n",
       "7                                                      \n",
       "8                                                      \n",
       "9                                                      \n",
       "10                                              E. Coli\n",
       "11                        Edit the DNA of the bacterium\n",
       "12                                        DNA sequences\n",
       "13                                             Flagella\n",
       "14                                           Ampicillin\n",
       "15                                           Terminator\n",
       "16                                             Promoter\n",
       "17                                      Coding Sequence\n",
       "18                                                  RBS\n",
       "19                                             Option 1\n",
       "20    Under blue light, when the GFP device is equipped\n",
       "21                Flagella quickly disappear one by one\n",
       "22       A plasmid - it makes it possible to equip an a\n",
       "23                      It generates green fluorescence\n",
       "24                  It makes it possible to move faster\n",
       "25                   It generates antibiotic resistance\n",
       "26       It generates green fluorescence in presence of\n",
       "27                      It generates green fluorescence\n",
       "28                  It makes it possible to move faster\n",
       "29                   It generates antibiotic resistance\n",
       "30       It generates green fluorescence in presence of\n",
       "31                  If it produces YFP under cyan light\n",
       "32       After being induced, it would produce more and\n",
       "33                                                     \n",
       "34                                                     \n",
       "Name: correctAnswer, dtype: object"
      ]
     },
     "execution_count": 24,
     "metadata": {},
     "output_type": "execute_result"
    }
   ],
   "source": [
    "correctAnswers['correctAnswer']"
   ]
  },
  {
   "cell_type": "code",
   "execution_count": 25,
   "metadata": {
    "collapsed": false
   },
   "outputs": [
    {
     "data": {
      "text/html": [
       "<div>\n",
       "<style>\n",
       "    .dataframe thead tr:only-child th {\n",
       "        text-align: right;\n",
       "    }\n",
       "\n",
       "    .dataframe thead th {\n",
       "        text-align: left;\n",
       "    }\n",
       "\n",
       "    .dataframe tbody tr th {\n",
       "        vertical-align: top;\n",
       "    }\n",
       "</style>\n",
       "<table border=\"1\" class=\"dataframe\">\n",
       "  <thead>\n",
       "    <tr style=\"text-align: right;\">\n",
       "      <th></th>\n",
       "      <th>answers</th>\n",
       "      <th>correct</th>\n",
       "    </tr>\n",
       "  </thead>\n",
       "  <tbody>\n",
       "    <tr>\n",
       "      <th>Timestamp</th>\n",
       "      <td>2017/08/18 4:22:26 PM GMT+2</td>\n",
       "      <td>NaN</td>\n",
       "    </tr>\n",
       "    <tr>\n",
       "      <th>Are you interested in video games?</th>\n",
       "      <td>Extremely</td>\n",
       "      <td>NaN</td>\n",
       "    </tr>\n",
       "    <tr>\n",
       "      <th>Do you play video games?</th>\n",
       "      <td>Extremely</td>\n",
       "      <td>NaN</td>\n",
       "    </tr>\n",
       "    <tr>\n",
       "      <th>How old are you?</th>\n",
       "      <td>23</td>\n",
       "      <td>NaN</td>\n",
       "    </tr>\n",
       "    <tr>\n",
       "      <th>What is your gender?</th>\n",
       "      <td>Female</td>\n",
       "      <td>NaN</td>\n",
       "    </tr>\n",
       "    <tr>\n",
       "      <th>How long have you studied biology?</th>\n",
       "      <td>Until bachelor's degree</td>\n",
       "      <td>NaN</td>\n",
       "    </tr>\n",
       "    <tr>\n",
       "      <th>Are you interested in biology?</th>\n",
       "      <td>Extremely</td>\n",
       "      <td>NaN</td>\n",
       "    </tr>\n",
       "    <tr>\n",
       "      <th>Have you ever heard about synthetic biology or BioBricks?</th>\n",
       "      <td>Yes</td>\n",
       "      <td>NaN</td>\n",
       "    </tr>\n",
       "    <tr>\n",
       "      <th>Have you ever played an older version of Hero.Coli before?</th>\n",
       "      <td>No</td>\n",
       "      <td>NaN</td>\n",
       "    </tr>\n",
       "    <tr>\n",
       "      <th>Have you played the current version of Hero.Coli?</th>\n",
       "      <td>Yes</td>\n",
       "      <td>NaN</td>\n",
       "    </tr>\n",
       "    <tr>\n",
       "      <th>What is the species of the bacterium of the game?</th>\n",
       "      <td>E. Coli</td>\n",
       "      <td>True</td>\n",
       "    </tr>\n",
       "    <tr>\n",
       "      <th>In order to modify the abilities of the bacterium, you have to...</th>\n",
       "      <td>Edit the DNA of the bacterium</td>\n",
       "      <td>True</td>\n",
       "    </tr>\n",
       "    <tr>\n",
       "      <th>What are BioBricks and devices?</th>\n",
       "      <td>DNA sequences</td>\n",
       "      <td>True</td>\n",
       "    </tr>\n",
       "    <tr>\n",
       "      <th>What is the scientific name of the tails of the bacterium?</th>\n",
       "      <td>Flagella</td>\n",
       "      <td>True</td>\n",
       "    </tr>\n",
       "    <tr>\n",
       "      <th>Find the antibiotic:</th>\n",
       "      <td>Ampicillin</td>\n",
       "      <td>True</td>\n",
       "    </tr>\n",
       "    <tr>\n",
       "      <th>What is the name of this BioBrick?</th>\n",
       "      <td>Terminator</td>\n",
       "      <td>True</td>\n",
       "    </tr>\n",
       "    <tr>\n",
       "      <th>What is the name of this BioBrick?.1</th>\n",
       "      <td>Promoter</td>\n",
       "      <td>True</td>\n",
       "    </tr>\n",
       "    <tr>\n",
       "      <th>What is the name of this BioBrick?.2</th>\n",
       "      <td>Fluorescence</td>\n",
       "      <td>False</td>\n",
       "    </tr>\n",
       "    <tr>\n",
       "      <th>What is the name of this BioBrick?.3</th>\n",
       "      <td>RBS</td>\n",
       "      <td>True</td>\n",
       "    </tr>\n",
       "    <tr>\n",
       "      <th>Pick the case where the BioBricks are well-ordered:</th>\n",
       "      <td>Option 2</td>\n",
       "      <td>False</td>\n",
       "    </tr>\n",
       "    <tr>\n",
       "      <th>When does green fluorescence happen?</th>\n",
       "      <td>Under blue light, when the GFP device is equipped</td>\n",
       "      <td>True</td>\n",
       "    </tr>\n",
       "    <tr>\n",
       "      <th>What happens when you unequip the movement device?</th>\n",
       "      <td>Flagella quickly disappear one by one</td>\n",
       "      <td>True</td>\n",
       "    </tr>\n",
       "    <tr>\n",
       "      <th>What is this?</th>\n",
       "      <td>A plasmid - it makes it possible to equip an a...</td>\n",
       "      <td>True</td>\n",
       "    </tr>\n",
       "    <tr>\n",
       "      <th>What does this device do?</th>\n",
       "      <td>I don't know</td>\n",
       "      <td>False</td>\n",
       "    </tr>\n",
       "    <tr>\n",
       "      <th>What does this device do?.1</th>\n",
       "      <td>I don't know</td>\n",
       "      <td>False</td>\n",
       "    </tr>\n",
       "    <tr>\n",
       "      <th>What does this device do?.2</th>\n",
       "      <td>It generates antibiotic resistance</td>\n",
       "      <td>True</td>\n",
       "    </tr>\n",
       "    <tr>\n",
       "      <th>What does this device do?.3</th>\n",
       "      <td>It generates green fluorescence in presence of...</td>\n",
       "      <td>True</td>\n",
       "    </tr>\n",
       "    <tr>\n",
       "      <th>What does this device do?.4</th>\n",
       "      <td>It generates green fluorescence</td>\n",
       "      <td>True</td>\n",
       "    </tr>\n",
       "    <tr>\n",
       "      <th>What does this device do?.5</th>\n",
       "      <td>It makes it possible to move faster</td>\n",
       "      <td>True</td>\n",
       "    </tr>\n",
       "    <tr>\n",
       "      <th>What does this device do?.6</th>\n",
       "      <td>It generates antibiotic resistance</td>\n",
       "      <td>True</td>\n",
       "    </tr>\n",
       "    <tr>\n",
       "      <th>What does this device do?.7</th>\n",
       "      <td>It generates green fluorescence in presence of...</td>\n",
       "      <td>True</td>\n",
       "    </tr>\n",
       "    <tr>\n",
       "      <th>The bacterium glows yellow...</th>\n",
       "      <td>I don't know</td>\n",
       "      <td>False</td>\n",
       "    </tr>\n",
       "    <tr>\n",
       "      <th>What would a device producing l-arabinose do, if it started with a l-arabinose-induced promoter?</th>\n",
       "      <td>After being induced, it would produce more and...</td>\n",
       "      <td>True</td>\n",
       "    </tr>\n",
       "    <tr>\n",
       "      <th>You can write down remarks here.</th>\n",
       "      <td>Your game is amazing. One suggestion. In sever...</td>\n",
       "      <td>True</td>\n",
       "    </tr>\n",
       "    <tr>\n",
       "      <th>Do not edit -  pre-filled anonymous ID</th>\n",
       "      <td>8d352896-a3f1-471c-8439-0f426df901c1</td>\n",
       "      <td>NaN</td>\n",
       "    </tr>\n",
       "  </tbody>\n",
       "</table>\n",
       "</div>"
      ],
      "text/plain": [
       "                                                                                              answers  \\\n",
       "Timestamp                                                                 2017/08/18 4:22:26 PM GMT+2   \n",
       "Are you interested in video games?                                                          Extremely   \n",
       "Do you play video games?                                                                    Extremely   \n",
       "How old are you?                                                                                   23   \n",
       "What is your gender?                                                                           Female   \n",
       "How long have you studied biology?                                            Until bachelor's degree   \n",
       "Are you interested in biology?                                                              Extremely   \n",
       "Have you ever heard about synthetic biology or ...                                                Yes   \n",
       "Have you ever played an older version of Hero.C...                                                 No   \n",
       "Have you played the current version of Hero.Coli?                                                 Yes   \n",
       "What is the species of the bacterium of the game?                                             E. Coli   \n",
       "In order to modify the abilities of the bacteri...                      Edit the DNA of the bacterium   \n",
       "What are BioBricks and devices?                                                         DNA sequences   \n",
       "What is the scientific name of the tails of the...                                           Flagella   \n",
       "Find the antibiotic:                                                                       Ampicillin   \n",
       "What is the name of this BioBrick?                                                         Terminator   \n",
       "What is the name of this BioBrick?.1                                                         Promoter   \n",
       "What is the name of this BioBrick?.2                                                     Fluorescence   \n",
       "What is the name of this BioBrick?.3                                                              RBS   \n",
       "Pick the case where the BioBricks are well-orde...                                           Option 2   \n",
       "When does green fluorescence happen?                Under blue light, when the GFP device is equipped   \n",
       "What happens when you unequip the movement device?              Flagella quickly disappear one by one   \n",
       "What is this?                                       A plasmid - it makes it possible to equip an a...   \n",
       "What does this device do?                                                                I don't know   \n",
       "What does this device do?.1                                                              I don't know   \n",
       "What does this device do?.2                                        It generates antibiotic resistance   \n",
       "What does this device do?.3                         It generates green fluorescence in presence of...   \n",
       "What does this device do?.4                                           It generates green fluorescence   \n",
       "What does this device do?.5                                       It makes it possible to move faster   \n",
       "What does this device do?.6                                        It generates antibiotic resistance   \n",
       "What does this device do?.7                         It generates green fluorescence in presence of...   \n",
       "The bacterium glows yellow...                                                            I don't know   \n",
       "What would a device producing l-arabinose do, i...  After being induced, it would produce more and...   \n",
       "You can write down remarks here.                    Your game is amazing. One suggestion. In sever...   \n",
       "Do not edit -  pre-filled anonymous ID                           8d352896-a3f1-471c-8439-0f426df901c1   \n",
       "\n",
       "                                                   correct  \n",
       "Timestamp                                              NaN  \n",
       "Are you interested in video games?                     NaN  \n",
       "Do you play video games?                               NaN  \n",
       "How old are you?                                       NaN  \n",
       "What is your gender?                                   NaN  \n",
       "How long have you studied biology?                     NaN  \n",
       "Are you interested in biology?                         NaN  \n",
       "Have you ever heard about synthetic biology or ...     NaN  \n",
       "Have you ever played an older version of Hero.C...     NaN  \n",
       "Have you played the current version of Hero.Coli?      NaN  \n",
       "What is the species of the bacterium of the game?     True  \n",
       "In order to modify the abilities of the bacteri...    True  \n",
       "What are BioBricks and devices?                       True  \n",
       "What is the scientific name of the tails of the...    True  \n",
       "Find the antibiotic:                                  True  \n",
       "What is the name of this BioBrick?                    True  \n",
       "What is the name of this BioBrick?.1                  True  \n",
       "What is the name of this BioBrick?.2                 False  \n",
       "What is the name of this BioBrick?.3                  True  \n",
       "Pick the case where the BioBricks are well-orde...   False  \n",
       "When does green fluorescence happen?                  True  \n",
       "What happens when you unequip the movement device?    True  \n",
       "What is this?                                         True  \n",
       "What does this device do?                            False  \n",
       "What does this device do?.1                          False  \n",
       "What does this device do?.2                           True  \n",
       "What does this device do?.3                           True  \n",
       "What does this device do?.4                           True  \n",
       "What does this device do?.5                           True  \n",
       "What does this device do?.6                           True  \n",
       "What does this device do?.7                           True  \n",
       "The bacterium glows yellow...                        False  \n",
       "What would a device producing l-arabinose do, i...    True  \n",
       "You can write down remarks here.                      True  \n",
       "Do not edit -  pre-filled anonymous ID                 NaN  "
      ]
     },
     "execution_count": 25,
     "metadata": {},
     "output_type": "execute_result"
    }
   ],
   "source": [
    "#print(correctAnswers)\n",
    "#print(columnAnswers)\n",
    "#type(correctAnswers)\n",
    "#type(columnAnswers)\n",
    "\n",
    "#columnAnswers['binaryCorrect'] = columnAnswers.values==correctAnswers.values\n",
    "columnAnswers['correct'] = columnAnswers['answers']\n",
    "\n",
    "for index in range(0, 10):\n",
    "    columnAnswers['correct'][index] = 'NaN'\n",
    "for index in range(10, len(columnAnswers.values)-1):\n",
    "    columnAnswers['correct'][index] = str(columnAnswers['answers'][index]).startswith(str(correctAnswers['correctAnswer'][index]))\n",
    "columnAnswers['correct'][len(columnAnswers.values)-1] = 'NaN'\n",
    "columnAnswers"
   ]
  },
  {
   "cell_type": "code",
   "execution_count": 26,
   "metadata": {
    "collapsed": false
   },
   "outputs": [
    {
     "data": {
      "text/plain": [
       "19"
      ]
     },
     "execution_count": 26,
     "metadata": {},
     "output_type": "execute_result"
    }
   ],
   "source": [
    "score = (columnAnswers['correct']).value_counts()[True]\n",
    "score"
   ]
  },
  {
   "cell_type": "markdown",
   "metadata": {},
   "source": [
    "## 4. checkpoint / question association\n",
    "<a id=checkquesmatch />"
   ]
  },
  {
   "cell_type": "code",
   "execution_count": 27,
   "metadata": {
    "collapsed": true
   },
   "outputs": [],
   "source": [
    "# done in already imported 'correct answers.ipynb'"
   ]
  },
  {
   "cell_type": "markdown",
   "metadata": {},
   "source": [
    "## 5. comparison of checkpoints completion and answers\n",
    "<a id=compcheckans />"
   ]
  },
  {
   "cell_type": "markdown",
   "metadata": {},
   "source": [
    "Theoretically, they should match. Whoever understood an item should beat the matching challenge. The discrepancies are due to game design or level design."
   ]
  },
  {
   "cell_type": "code",
   "execution_count": 29,
   "metadata": {
    "collapsed": false
   },
   "outputs": [
    {
     "data": {
      "text/plain": [
       "0   NaN\n",
       "1   NaN\n",
       "2   NaN\n",
       "3   NaN\n",
       "4   NaN\n",
       "dtype: float64"
      ]
     },
     "execution_count": 29,
     "metadata": {},
     "output_type": "execute_result"
    }
   ],
   "source": [
    "#questionnaireValidatedCheckpointsPerQuestion = pd.Series(np.nan, index=range(35))\n",
    "questionnaireValidatedCheckpointsPerQuestion = pd.Series(np.nan, index=range(len(checkpointQuestionMatching)))\n",
    "questionnaireValidatedCheckpointsPerQuestion.head()"
   ]
  },
  {
   "cell_type": "code",
   "execution_count": 30,
   "metadata": {
    "collapsed": false
   },
   "outputs": [
    {
     "data": {
      "text/plain": [
       "'tutorial1.Checkpoint00'"
      ]
     },
     "execution_count": 30,
     "metadata": {},
     "output_type": "execute_result"
    }
   ],
   "source": [
    "checkpointQuestionMatching['checkpoint'][19]"
   ]
  },
  {
   "cell_type": "code",
   "execution_count": 31,
   "metadata": {
    "collapsed": false
   },
   "outputs": [
    {
     "data": {
      "text/plain": [
       "0                           \n",
       "1                           \n",
       "2                           \n",
       "3                           \n",
       "4                           \n",
       "5                           \n",
       "6                           \n",
       "7                           \n",
       "8                           \n",
       "9                           \n",
       "10    tutorial1.Checkpoint00\n",
       "11    tutorial1.Checkpoint00\n",
       "12    tutorial1.Checkpoint00\n",
       "13    tutorial1.Checkpoint00\n",
       "14    tutorial1.Checkpoint02\n",
       "15    tutorial1.Checkpoint01\n",
       "16    tutorial1.Checkpoint05\n",
       "17                          \n",
       "18    tutorial1.Checkpoint05\n",
       "19                          \n",
       "20    tutorial1.Checkpoint02\n",
       "21    tutorial1.Checkpoint00\n",
       "22    tutorial1.Checkpoint05\n",
       "23                          \n",
       "24                          \n",
       "25    tutorial1.Checkpoint13\n",
       "26    tutorial1.Checkpoint05\n",
       "27    tutorial1.Checkpoint02\n",
       "28    tutorial1.Checkpoint02\n",
       "29    tutorial1.Checkpoint13\n",
       "30    tutorial1.Checkpoint05\n",
       "31                          \n",
       "32    tutorial1.Checkpoint05\n",
       "33                          \n",
       "34                          \n",
       "dtype: object"
      ]
     },
     "execution_count": 31,
     "metadata": {},
     "output_type": "execute_result"
    }
   ],
   "source": [
    "for index in range(0, len(questionnaireValidatedCheckpointsPerQuestion)):\n",
    "    if columnAnswers['correct'][index]==True:\n",
    "        questionnaireValidatedCheckpointsPerQuestion[index] = checkpointQuestionMatching['checkpoint'][index]\n",
    "    else:\n",
    "        questionnaireValidatedCheckpointsPerQuestion[index] = ''\n",
    "questionnaireValidatedCheckpointsPerQuestion"
   ]
  },
  {
   "cell_type": "code",
   "execution_count": 32,
   "metadata": {
    "collapsed": false
   },
   "outputs": [
    {
     "data": {
      "text/plain": [
       "0    tutorial1.Checkpoint00\n",
       "1    tutorial1.Checkpoint01\n",
       "2    tutorial1.Checkpoint02\n",
       "3    tutorial1.Checkpoint05\n",
       "4    tutorial1.Checkpoint13\n",
       "dtype: object"
      ]
     },
     "execution_count": 32,
     "metadata": {},
     "output_type": "execute_result"
    }
   ],
   "source": [
    "questionnaireValidatedCheckpoints = questionnaireValidatedCheckpointsPerQuestion.unique()\n",
    "questionnaireValidatedCheckpoints = questionnaireValidatedCheckpoints[questionnaireValidatedCheckpoints!='']\n",
    "questionnaireValidatedCheckpoints = pd.Series(questionnaireValidatedCheckpoints)\n",
    "questionnaireValidatedCheckpoints = questionnaireValidatedCheckpoints.sort_values()\n",
    "questionnaireValidatedCheckpoints.index = range(0, len(questionnaireValidatedCheckpoints))\n",
    "questionnaireValidatedCheckpoints"
   ]
  },
  {
   "cell_type": "code",
   "execution_count": 33,
   "metadata": {
    "collapsed": true
   },
   "outputs": [],
   "source": [
    "#for index in range(len(questionnaireValidatedCheckpoints), 0):\n",
    "#for index in range(0, len(questionnaireValidatedCheckpoints)):\n",
    "#    if questionnaireValidatedCheckpoints\n",
    "#    print(index)\n",
    "    \n",
    "#questionnaireValidatedCheckpoints\n",
    "#type(questionnaireValidatedCheckpoints)"
   ]
  },
  {
   "cell_type": "code",
   "execution_count": 34,
   "metadata": {
    "collapsed": false
   },
   "outputs": [
    {
     "data": {
      "text/html": [
       "<div>\n",
       "<style>\n",
       "    .dataframe thead tr:only-child th {\n",
       "        text-align: right;\n",
       "    }\n",
       "\n",
       "    .dataframe thead th {\n",
       "        text-align: left;\n",
       "    }\n",
       "\n",
       "    .dataframe tbody tr th {\n",
       "        vertical-align: top;\n",
       "    }\n",
       "</style>\n",
       "<table border=\"1\" class=\"dataframe\">\n",
       "  <thead>\n",
       "    <tr style=\"text-align: right;\">\n",
       "      <th></th>\n",
       "      <th>answers</th>\n",
       "    </tr>\n",
       "  </thead>\n",
       "  <tbody>\n",
       "    <tr>\n",
       "      <th>Timestamp</th>\n",
       "      <td>2017/08/18 4:22:26 PM GMT+2</td>\n",
       "    </tr>\n",
       "    <tr>\n",
       "      <th>Are you interested in video games?</th>\n",
       "      <td>Extremely</td>\n",
       "    </tr>\n",
       "  </tbody>\n",
       "</table>\n",
       "</div>"
      ],
      "text/plain": [
       "                                                        answers\n",
       "Timestamp                           2017/08/18 4:22:26 PM GMT+2\n",
       "Are you interested in video games?                    Extremely"
      ]
     },
     "execution_count": 34,
     "metadata": {},
     "output_type": "execute_result"
    }
   ],
   "source": [
    "getAnswers(localplayerguid).head(2)"
   ]
  },
  {
   "cell_type": "code",
   "execution_count": 35,
   "metadata": {
    "collapsed": false
   },
   "outputs": [
    {
     "data": {
      "text/html": [
       "<div>\n",
       "<style>\n",
       "    .dataframe thead tr:only-child th {\n",
       "        text-align: right;\n",
       "    }\n",
       "\n",
       "    .dataframe thead th {\n",
       "        text-align: left;\n",
       "    }\n",
       "\n",
       "    .dataframe tbody tr th {\n",
       "        vertical-align: top;\n",
       "    }\n",
       "</style>\n",
       "<table border=\"1\" class=\"dataframe\">\n",
       "  <thead>\n",
       "    <tr style=\"text-align: right;\">\n",
       "      <th></th>\n",
       "      <th>answers</th>\n",
       "      <th>correct</th>\n",
       "    </tr>\n",
       "  </thead>\n",
       "  <tbody>\n",
       "    <tr>\n",
       "      <th>Timestamp</th>\n",
       "      <td>2017/08/18 4:22:26 PM GMT+2</td>\n",
       "      <td>NaN</td>\n",
       "    </tr>\n",
       "    <tr>\n",
       "      <th>Are you interested in video games?</th>\n",
       "      <td>Extremely</td>\n",
       "      <td>NaN</td>\n",
       "    </tr>\n",
       "  </tbody>\n",
       "</table>\n",
       "</div>"
      ],
      "text/plain": [
       "                                                        answers correct\n",
       "Timestamp                           2017/08/18 4:22:26 PM GMT+2     NaN\n",
       "Are you interested in video games?                    Extremely     NaN"
      ]
     },
     "execution_count": 35,
     "metadata": {},
     "output_type": "execute_result"
    }
   ],
   "source": [
    "getCorrections(localplayerguid).head(2)"
   ]
  },
  {
   "cell_type": "code",
   "execution_count": 36,
   "metadata": {
    "collapsed": false
   },
   "outputs": [
    {
     "data": {
      "text/plain": [
       "19"
      ]
     },
     "execution_count": 36,
     "metadata": {},
     "output_type": "execute_result"
    }
   ],
   "source": [
    "getScore(localplayerguid)"
   ]
  },
  {
   "cell_type": "code",
   "execution_count": 37,
   "metadata": {
    "collapsed": false
   },
   "outputs": [
    {
     "data": {
      "text/plain": [
       "0    tutorial1.Checkpoint00\n",
       "1    tutorial1.Checkpoint01\n",
       "2    tutorial1.Checkpoint02\n",
       "3    tutorial1.Checkpoint05\n",
       "4    tutorial1.Checkpoint13\n",
       "dtype: object"
      ]
     },
     "execution_count": 37,
     "metadata": {},
     "output_type": "execute_result"
    }
   ],
   "source": [
    "getValidatedCheckpoints(localplayerguid)"
   ]
  },
  {
   "cell_type": "code",
   "execution_count": 38,
   "metadata": {
    "collapsed": false
   },
   "outputs": [
    {
     "data": {
      "text/plain": [
       "0    \n",
       "dtype: object"
      ]
     },
     "execution_count": 38,
     "metadata": {},
     "output_type": "execute_result"
    }
   ],
   "source": [
    "getNonValidatedCheckpoints(localplayerguid)"
   ]
  },
  {
   "cell_type": "code",
   "execution_count": 39,
   "metadata": {
    "collapsed": false
   },
   "outputs": [
    {
     "name": "stdout",
     "output_type": "stream",
     "text": [
      "===========================================\n",
      "                                                        answers\n",
      "Timestamp                           2017/08/18 4:22:26 PM GMT+2\n",
      "Are you interested in video games?                    Extremely\n",
      "-------------------------------------------\n",
      "                                                        answers correct\n",
      "Timestamp                           2017/08/18 4:22:26 PM GMT+2     NaN\n",
      "Are you interested in video games?                    Extremely     NaN\n",
      "-------------------------------------------\n",
      "19\n",
      "-------------------------------------------\n",
      "0    tutorial1.Checkpoint00\n",
      "1    tutorial1.Checkpoint01\n",
      "2    tutorial1.Checkpoint02\n",
      "3    tutorial1.Checkpoint05\n",
      "4    tutorial1.Checkpoint13\n",
      "dtype: object\n",
      "-------------------------------------------\n",
      "0    \n",
      "dtype: object\n",
      "===========================================\n",
      "===========================================\n",
      "                                                        answers\n",
      "Timestamp                           2017/09/06 2:28:03 PM GMT+2\n",
      "Are you interested in video games?                   Moderately\n",
      "-------------------------------------------\n",
      "                                                        answers correct\n",
      "Timestamp                           2017/09/06 2:28:03 PM GMT+2     NaN\n",
      "Are you interested in video games?                   Moderately     NaN\n",
      "-------------------------------------------\n",
      "23\n",
      "-------------------------------------------\n",
      "0    tutorial1.Checkpoint00\n",
      "1    tutorial1.Checkpoint01\n",
      "2    tutorial1.Checkpoint02\n",
      "3    tutorial1.Checkpoint05\n",
      "4    tutorial1.Checkpoint13\n",
      "dtype: object\n",
      "-------------------------------------------\n",
      "0    \n",
      "dtype: object\n",
      "===========================================\n",
      "===========================================\n",
      "                                                         answers\n",
      "Timestamp                           2017/09/12 10:02:06 AM GMT+2\n",
      "Are you interested in video games?                         A lot\n",
      "-------------------------------------------\n",
      "                                                         answers correct\n",
      "Timestamp                           2017/09/12 10:02:06 AM GMT+2     NaN\n",
      "Are you interested in video games?                         A lot     NaN\n",
      "-------------------------------------------\n",
      "16\n",
      "-------------------------------------------\n",
      "0    tutorial1.Checkpoint00\n",
      "1    tutorial1.Checkpoint01\n",
      "2    tutorial1.Checkpoint02\n",
      "3    tutorial1.Checkpoint05\n",
      "4    tutorial1.Checkpoint13\n",
      "dtype: object\n",
      "-------------------------------------------\n",
      "0    \n",
      "dtype: object\n",
      "===========================================\n",
      "===========================================\n",
      "                                                        answers\n",
      "Timestamp                           2017/09/13 3:11:34 AM GMT+2\n",
      "Are you interested in video games?                 I don't know\n",
      "-------------------------------------------\n",
      "                                                        answers correct\n",
      "Timestamp                           2017/09/13 3:11:34 AM GMT+2     NaN\n",
      "Are you interested in video games?                 I don't know     NaN\n",
      "-------------------------------------------\n",
      "24\n",
      "-------------------------------------------\n",
      "0    tutorial1.Checkpoint00\n",
      "1    tutorial1.Checkpoint01\n",
      "2    tutorial1.Checkpoint02\n",
      "3    tutorial1.Checkpoint05\n",
      "4    tutorial1.Checkpoint13\n",
      "dtype: object\n",
      "-------------------------------------------\n",
      "0    \n",
      "dtype: object\n",
      "===========================================\n"
     ]
    }
   ],
   "source": [
    "#localplayerguid = '\"8d352896-a3f1-471c-8439-0f426df901c1\"'\n",
    "#localplayerguid = '\"7037c5b2-c286-498e-9784-9a061c778609\"'\n",
    "#localplayerguid = '\"5c4939b5-425b-4d19-b5d2-0384a515539e\"'\n",
    "#localplayerguid = '\"7825d421-d668-4481-898a-46b51efe40f0\"'\n",
    "#localplayerguid = '\"acb9c989-b4a6-4c4d-81cc-6b5783ec71d8\"'\n",
    "userIds = [\n",
    "'\"8d352896-a3f1-471c-8439-0f426df901c1\"'\n",
    ",'\"7037c5b2-c286-498e-9784-9a061c778609\"'\n",
    ",'\"5c4939b5-425b-4d19-b5d2-0384a515539e\"'\n",
    ",'\"7825d421-d668-4481-898a-46b51efe40f0\"'\n",
    "#,'\"acb9c989-b4a6-4c4d-81cc-6b5783ec71d8\"'\n",
    "]\n",
    "for id in userIds:\n",
    "    print(\"===========================================\")\n",
    "    print(getAnswers(id).head(2))\n",
    "    print(\"-------------------------------------------\")\n",
    "    print(getCorrections(id).head(2))\n",
    "    print(\"-------------------------------------------\")\n",
    "    print(getScore(id))\n",
    "    print(\"-------------------------------------------\")\n",
    "    print(getValidatedCheckpoints(id))\n",
    "    print(\"-------------------------------------------\")\n",
    "    print(getNonValidatedCheckpoints(id))\n",
    "    print(\"===========================================\")"
   ]
  },
  {
   "cell_type": "code",
   "execution_count": 40,
   "metadata": {
    "collapsed": false
   },
   "outputs": [
    {
     "data": {
      "text/plain": [
       "0    tutorial1.Checkpoint13\n",
       "dtype: object"
      ]
     },
     "execution_count": 40,
     "metadata": {},
     "output_type": "execute_result"
    }
   ],
   "source": [
    "#test\n",
    "testSeries = pd.Series( \n",
    "    [\n",
    "            '', # 7\n",
    "            '', # 8\n",
    "            '', # 9\n",
    "            '', # 10\n",
    "\n",
    "            'tutorial1.Checkpoint00', # 11\n",
    "            'tutorial1.Checkpoint00', # 12\n",
    "            'tutorial1.Checkpoint00', # 13\n",
    "            'tutorial1.Checkpoint00', # 14\n",
    "            'tutorial1.Checkpoint02', # 15\n",
    "            'tutorial1.Checkpoint01', # 16\n",
    "            'tutorial1.Checkpoint05'\n",
    "        ]\n",
    "    )\n",
    "getNonValidated(testSeries)"
   ]
  },
  {
   "cell_type": "code",
   "execution_count": 41,
   "metadata": {
    "collapsed": false
   },
   "outputs": [
    {
     "data": {
      "text/plain": [
       "True"
      ]
     },
     "execution_count": 41,
     "metadata": {},
     "output_type": "execute_result"
    }
   ],
   "source": [
    "gform[localplayerguidkey]\n",
    "hasAnswered( '\"8d352896-a3f1-471c-8439-0f426df901c1\"' )\n",
    "'8d352896-a3f1-471c-8439-0f426df901c1' in gform[localplayerguidkey].values"
   ]
  }
 ],
 "metadata": {
  "kernelspec": {
   "display_name": "Python 3",
   "language": "python",
   "name": "python3"
  },
  "language_info": {
   "codemirror_mode": {
    "name": "ipython",
    "version": 3
   },
   "file_extension": ".py",
   "mimetype": "text/x-python",
   "name": "python",
   "nbconvert_exporter": "python",
   "pygments_lexer": "ipython3",
   "version": "3.5.4"
  }
 },
 "nbformat": 4,
 "nbformat_minor": 0
}
