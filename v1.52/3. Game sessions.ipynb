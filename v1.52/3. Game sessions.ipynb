{
 "cells": [
  {
   "cell_type": "markdown",
   "metadata": {},
   "source": [
    "# Preparation"
   ]
  },
  {
   "cell_type": "code",
   "execution_count": 20,
   "metadata": {
    "collapsed": false
   },
   "outputs": [],
   "source": [
    "%run Utilities/Preparation.ipynb"
   ]
  },
  {
   "cell_type": "code",
   "execution_count": 21,
   "metadata": {
    "collapsed": false,
    "scrolled": true
   },
   "outputs": [],
   "source": [
    "df100 = pd.read_csv(\"../data/1.0.csv\")\n",
    "df131 = pd.read_csv(\"../data/1.31.csv\")\n",
    "df132 = pd.read_csv(\"../data/1.32.csv\")\n",
    "df133 = pd.read_csv(\"../data/1.33.csv\")\n",
    "df140 = pd.read_csv(\"../data/1.40.csv\")\n",
    "df150 = pd.read_csv(\"../data/1.50.csv\")\n",
    "df151 = pd.read_csv(\"../data/1.51.csv\")\n",
    "df152 = pd.read_csv(\"../data/1.52.csv\")\n",
    "\n",
    "relevantColumns = ['customData.localplayerguid', 'playerId', 'type']\n",
    "renamedRelevantColumns = ['userId', 'sessionId', 'type']\n",
    "\n",
    "part100 = df100.loc[:,relevantColumns]\n",
    "part131 = df131.loc[:,relevantColumns]\n",
    "part132 = df132.loc[:,relevantColumns]\n",
    "part133 = df133.loc[:,relevantColumns]\n",
    "part140 = df140.loc[:,relevantColumns]\n",
    "part150 = df150.loc[:,relevantColumns]\n",
    "part151 = df151.loc[:,relevantColumns]\n",
    "part152 = df152.loc[:,relevantColumns]\n",
    "\n",
    "dfconcat = pd.concat([part100, \n",
    "                      part131, part132, part133, \n",
    "                      part140, \n",
    "                      part150, part151, part152])\n",
    "df = getNormalizedRedMetricsCSV(dfconcat)"
   ]
  },
  {
   "cell_type": "markdown",
   "metadata": {},
   "source": [
    "## Unique Game Sessions"
   ]
  },
  {
   "cell_type": "markdown",
   "metadata": {},
   "source": [
    "Number of unique game sessions"
   ]
  },
  {
   "cell_type": "code",
   "execution_count": 22,
   "metadata": {
    "collapsed": false,
    "scrolled": true
   },
   "outputs": [
    {
     "data": {
      "text/plain": [
       "2650"
      ]
     },
     "execution_count": 22,
     "metadata": {},
     "output_type": "execute_result"
    }
   ],
   "source": [
    "sessionscount = df[\"sessionId\"].nunique()\n",
    "sessionscount"
   ]
  },
  {
   "cell_type": "code",
   "execution_count": 41,
   "metadata": {
    "collapsed": false
   },
   "outputs": [],
   "source": [
    "def getAllSessions( df, dropna ):\n",
    "    result = df.loc[:, renamedRelevantColumns]\n",
    "    result = result[result['type']=='start']\n",
    "    result = result.drop('type', 1)\n",
    "    if dropna:\n",
    "        result = result.dropna(how='any')\n",
    "    return result\n",
    "\n",
    "def getAllSessionsOfUser( df, userId, dropna ):\n",
    "    sessionsList = getAllSessions( df, dropna )\n",
    "    return getAllSessionsOfUserOptimized(sessionsList, userId)\n",
    "\n",
    "# sessionsList is assumed to contain the dataframe of userIds and sessionsIds\n",
    "def getAllSessionsOfUserOptimized (sessionsList, userId):\n",
    "    return sessionsList[sessionsList['userId']==userId]\n",
    "\n",
    "# includewithoutusers=True will count sessions that do not have any userId attached\n",
    "def countSessions( df, userId, includewithoutusers):\n",
    "    return getAllSessionsOfUser( df, userId, includewithoutusers )['sessionId'].nunique()\n",
    "    #return getAllSessionsOfUser( df, userId, includewithoutusers ).shape[0]\n",
    "\n",
    "# sessionsList is assumed to contain the dataframe of userIds and sessionsIds\n",
    "def getSessionsCountOptimized( df, userId):\n",
    "    return getAllSessionsOfUserOptimized( df, userId ).shape[0]\n",
    "\n",
    "def getUserSessionsCounts( df ):\n",
    "    allSessions = getAllSessions( df, True )\n",
    "    return allSessions.groupby('userId').size().reset_index(name='counts').sort_values(by='counts', ascending=False)"
   ]
  },
  {
   "cell_type": "markdown",
   "metadata": {},
   "source": [
    "# Tests"
   ]
  },
  {
   "cell_type": "markdown",
   "metadata": {},
   "source": [
    "print(\"part100=\"+str(part100.head(1)))\n",
    "print(\"part131=\"+str(part131.head(1)))\n",
    "print(\"part132=\"+str(part132.head(1)))\n",
    "print(\"part133=\"+str(part133.head(1)))\n",
    "print(\"part140=\"+str(part140.head(1)))\n",
    "print(\"part150=\"+str(part150.head(1)))\n",
    "print(\"part151=\"+str(part151.head(1)))\n",
    "print(\"part152=\"+str(part152.head(1)))\n",
    "print(\"df=\"+str(df.head(1)))"
   ]
  },
  {
   "cell_type": "code",
   "execution_count": 42,
   "metadata": {
    "collapsed": false
   },
   "outputs": [
    {
     "data": {
      "text/plain": [
       "5"
      ]
     },
     "execution_count": 42,
     "metadata": {},
     "output_type": "execute_result"
    }
   ],
   "source": [
    "# includewithoutusers=True will count sessions that do not have any userId attached\n",
    "countSessions( df, testGUID, True)"
   ]
  },
  {
   "cell_type": "markdown",
   "metadata": {},
   "source": [
    "print(\"part100=\"+str(part100.columns))\n",
    "print(\"part131=\"+str(part131.columns))\n",
    "print(\"part132=\"+str(part132.columns))\n",
    "print(\"part133=\"+str(part133.columns))\n",
    "print(\"part140=\"+str(part140.columns))\n",
    "print(\"part150=\"+str(part150.columns))\n",
    "print(\"part151=\"+str(part151.columns))\n",
    "print(\"part152=\"+str(part152.columns))\n",
    "\n",
    "print(\"dfconcat=\"+str(dfconcat.columns))\n",
    "\n",
    "print(\"df=\"+str(df.columns))"
   ]
  },
  {
   "cell_type": "markdown",
   "metadata": {},
   "source": [
    "df.columns"
   ]
  },
  {
   "cell_type": "code",
   "execution_count": 25,
   "metadata": {
    "collapsed": true
   },
   "outputs": [],
   "source": [
    "testGUID = '\"0bb50c7b-d9c4-466d-b906-84e46896f41d\"'"
   ]
  },
  {
   "cell_type": "code",
   "execution_count": 26,
   "metadata": {
    "collapsed": false,
    "scrolled": false
   },
   "outputs": [
    {
     "data": {
      "text/html": [
       "<div>\n",
       "<style>\n",
       "    .dataframe thead tr:only-child th {\n",
       "        text-align: right;\n",
       "    }\n",
       "\n",
       "    .dataframe thead th {\n",
       "        text-align: left;\n",
       "    }\n",
       "\n",
       "    .dataframe tbody tr th {\n",
       "        vertical-align: top;\n",
       "    }\n",
       "</style>\n",
       "<table border=\"1\" class=\"dataframe\">\n",
       "  <thead>\n",
       "    <tr style=\"text-align: right;\">\n",
       "      <th></th>\n",
       "      <th>userId</th>\n",
       "      <th>sessionId</th>\n",
       "    </tr>\n",
       "  </thead>\n",
       "  <tbody>\n",
       "    <tr>\n",
       "      <th>2837</th>\n",
       "      <td>\"0bb50c7b-d9c4-466d-b906-84e46896f41d\"</td>\n",
       "      <td>78353b53-1083-452a-bcd6-6d5ae7b81e1e</td>\n",
       "    </tr>\n",
       "    <tr>\n",
       "      <th>2838</th>\n",
       "      <td>\"0bb50c7b-d9c4-466d-b906-84e46896f41d\"</td>\n",
       "      <td>e7c44e50-daeb-4755-8432-c7d337f5c8e8</td>\n",
       "    </tr>\n",
       "    <tr>\n",
       "      <th>2841</th>\n",
       "      <td>\"0bb50c7b-d9c4-466d-b906-84e46896f41d\"</td>\n",
       "      <td>7195155f-8db4-4f8b-b586-9ed67d5fcb56</td>\n",
       "    </tr>\n",
       "    <tr>\n",
       "      <th>2843</th>\n",
       "      <td>\"0bb50c7b-d9c4-466d-b906-84e46896f41d\"</td>\n",
       "      <td>58bf9eed-be24-4128-881b-aec23f6a34b3</td>\n",
       "    </tr>\n",
       "    <tr>\n",
       "      <th>2857</th>\n",
       "      <td>\"0bb50c7b-d9c4-466d-b906-84e46896f41d\"</td>\n",
       "      <td>7e75b052-ed53-4b08-a1f8-83404e9f4870</td>\n",
       "    </tr>\n",
       "  </tbody>\n",
       "</table>\n",
       "</div>"
      ],
      "text/plain": [
       "                                      userId  \\\n",
       "2837  \"0bb50c7b-d9c4-466d-b906-84e46896f41d\"   \n",
       "2838  \"0bb50c7b-d9c4-466d-b906-84e46896f41d\"   \n",
       "2841  \"0bb50c7b-d9c4-466d-b906-84e46896f41d\"   \n",
       "2843  \"0bb50c7b-d9c4-466d-b906-84e46896f41d\"   \n",
       "2857  \"0bb50c7b-d9c4-466d-b906-84e46896f41d\"   \n",
       "\n",
       "                                 sessionId  \n",
       "2837  78353b53-1083-452a-bcd6-6d5ae7b81e1e  \n",
       "2838  e7c44e50-daeb-4755-8432-c7d337f5c8e8  \n",
       "2841  7195155f-8db4-4f8b-b586-9ed67d5fcb56  \n",
       "2843  58bf9eed-be24-4128-881b-aec23f6a34b3  \n",
       "2857  7e75b052-ed53-4b08-a1f8-83404e9f4870  "
      ]
     },
     "execution_count": 26,
     "metadata": {},
     "output_type": "execute_result"
    }
   ],
   "source": [
    "sessionsList = getAllSessionsOfUser(df, testGUID, True)\n",
    "sessionsList"
   ]
  },
  {
   "cell_type": "code",
   "execution_count": 27,
   "metadata": {
    "collapsed": false,
    "scrolled": true
   },
   "outputs": [
    {
     "data": {
      "text/html": [
       "<div>\n",
       "<style>\n",
       "    .dataframe thead tr:only-child th {\n",
       "        text-align: right;\n",
       "    }\n",
       "\n",
       "    .dataframe thead th {\n",
       "        text-align: left;\n",
       "    }\n",
       "\n",
       "    .dataframe tbody tr th {\n",
       "        vertical-align: top;\n",
       "    }\n",
       "</style>\n",
       "<table border=\"1\" class=\"dataframe\">\n",
       "  <thead>\n",
       "    <tr style=\"text-align: right;\">\n",
       "      <th></th>\n",
       "      <th>userId</th>\n",
       "      <th>sessionId</th>\n",
       "    </tr>\n",
       "  </thead>\n",
       "  <tbody>\n",
       "    <tr>\n",
       "      <th>2837</th>\n",
       "      <td>\"0bb50c7b-d9c4-466d-b906-84e46896f41d\"</td>\n",
       "      <td>78353b53-1083-452a-bcd6-6d5ae7b81e1e</td>\n",
       "    </tr>\n",
       "    <tr>\n",
       "      <th>2838</th>\n",
       "      <td>\"0bb50c7b-d9c4-466d-b906-84e46896f41d\"</td>\n",
       "      <td>e7c44e50-daeb-4755-8432-c7d337f5c8e8</td>\n",
       "    </tr>\n",
       "    <tr>\n",
       "      <th>2841</th>\n",
       "      <td>\"0bb50c7b-d9c4-466d-b906-84e46896f41d\"</td>\n",
       "      <td>7195155f-8db4-4f8b-b586-9ed67d5fcb56</td>\n",
       "    </tr>\n",
       "    <tr>\n",
       "      <th>2843</th>\n",
       "      <td>\"0bb50c7b-d9c4-466d-b906-84e46896f41d\"</td>\n",
       "      <td>58bf9eed-be24-4128-881b-aec23f6a34b3</td>\n",
       "    </tr>\n",
       "    <tr>\n",
       "      <th>2857</th>\n",
       "      <td>\"0bb50c7b-d9c4-466d-b906-84e46896f41d\"</td>\n",
       "      <td>7e75b052-ed53-4b08-a1f8-83404e9f4870</td>\n",
       "    </tr>\n",
       "  </tbody>\n",
       "</table>\n",
       "</div>"
      ],
      "text/plain": [
       "                                      userId  \\\n",
       "2837  \"0bb50c7b-d9c4-466d-b906-84e46896f41d\"   \n",
       "2838  \"0bb50c7b-d9c4-466d-b906-84e46896f41d\"   \n",
       "2841  \"0bb50c7b-d9c4-466d-b906-84e46896f41d\"   \n",
       "2843  \"0bb50c7b-d9c4-466d-b906-84e46896f41d\"   \n",
       "2857  \"0bb50c7b-d9c4-466d-b906-84e46896f41d\"   \n",
       "\n",
       "                                 sessionId  \n",
       "2837  78353b53-1083-452a-bcd6-6d5ae7b81e1e  \n",
       "2838  e7c44e50-daeb-4755-8432-c7d337f5c8e8  \n",
       "2841  7195155f-8db4-4f8b-b586-9ed67d5fcb56  \n",
       "2843  58bf9eed-be24-4128-881b-aec23f6a34b3  \n",
       "2857  7e75b052-ed53-4b08-a1f8-83404e9f4870  "
      ]
     },
     "execution_count": 27,
     "metadata": {},
     "output_type": "execute_result"
    }
   ],
   "source": [
    "sessionsList = df[df['type']=='start']\n",
    "sessionsList = sessionsList.drop('type', 1)\n",
    "sessionsList = sessionsList.dropna(how='any')\n",
    "userSessionsList = sessionsList[sessionsList['userId']==testGUID]\n",
    "userSessionsList"
   ]
  },
  {
   "cell_type": "code",
   "execution_count": 28,
   "metadata": {
    "collapsed": false
   },
   "outputs": [
    {
     "data": {
      "text/plain": [
       "2005"
      ]
     },
     "execution_count": 28,
     "metadata": {},
     "output_type": "execute_result"
    }
   ],
   "source": [
    "#print(testGUID)\n",
    "sessionsList = getAllSessions(df, testGUID)\n",
    "#sessionsList = getAllSessions(df, testGUID.replace('\"',''))\n",
    "#print(type(sessionsList))\n",
    "sessionsList.shape[0]"
   ]
  },
  {
   "cell_type": "code",
   "execution_count": 29,
   "metadata": {
    "collapsed": false
   },
   "outputs": [],
   "source": [
    "test = devPCID5.replace('\"','')\n",
    "#print(test)\n",
    "#print(devPCID5)"
   ]
  },
  {
   "cell_type": "code",
   "execution_count": 30,
   "metadata": {
    "collapsed": false
   },
   "outputs": [
    {
     "data": {
      "text/html": [
       "<div>\n",
       "<style>\n",
       "    .dataframe thead tr:only-child th {\n",
       "        text-align: right;\n",
       "    }\n",
       "\n",
       "    .dataframe thead th {\n",
       "        text-align: left;\n",
       "    }\n",
       "\n",
       "    .dataframe tbody tr th {\n",
       "        vertical-align: top;\n",
       "    }\n",
       "</style>\n",
       "<table border=\"1\" class=\"dataframe\">\n",
       "  <thead>\n",
       "    <tr style=\"text-align: right;\">\n",
       "      <th></th>\n",
       "      <th>userId</th>\n",
       "      <th>sessionId</th>\n",
       "    </tr>\n",
       "  </thead>\n",
       "  <tbody>\n",
       "    <tr>\n",
       "      <th>2833</th>\n",
       "      <td>\"bcdc67e1-11a7-4a52-9ddf-735a60bcea63\"</td>\n",
       "      <td>155ebc22-ccad-4f44-a619-4cc2496a88ba</td>\n",
       "    </tr>\n",
       "    <tr>\n",
       "      <th>2834</th>\n",
       "      <td>\"d01f5d57-c5fb-42a2-bb35-432c61277f46\"</td>\n",
       "      <td>a4d4df1d-1394-423b-aa3f-ad0bcc86110f</td>\n",
       "    </tr>\n",
       "    <tr>\n",
       "      <th>2837</th>\n",
       "      <td>\"0bb50c7b-d9c4-466d-b906-84e46896f41d\"</td>\n",
       "      <td>78353b53-1083-452a-bcd6-6d5ae7b81e1e</td>\n",
       "    </tr>\n",
       "    <tr>\n",
       "      <th>2838</th>\n",
       "      <td>\"0bb50c7b-d9c4-466d-b906-84e46896f41d\"</td>\n",
       "      <td>e7c44e50-daeb-4755-8432-c7d337f5c8e8</td>\n",
       "    </tr>\n",
       "    <tr>\n",
       "      <th>2841</th>\n",
       "      <td>\"0bb50c7b-d9c4-466d-b906-84e46896f41d\"</td>\n",
       "      <td>7195155f-8db4-4f8b-b586-9ed67d5fcb56</td>\n",
       "    </tr>\n",
       "  </tbody>\n",
       "</table>\n",
       "</div>"
      ],
      "text/plain": [
       "                                      userId  \\\n",
       "2833  \"bcdc67e1-11a7-4a52-9ddf-735a60bcea63\"   \n",
       "2834  \"d01f5d57-c5fb-42a2-bb35-432c61277f46\"   \n",
       "2837  \"0bb50c7b-d9c4-466d-b906-84e46896f41d\"   \n",
       "2838  \"0bb50c7b-d9c4-466d-b906-84e46896f41d\"   \n",
       "2841  \"0bb50c7b-d9c4-466d-b906-84e46896f41d\"   \n",
       "\n",
       "                                 sessionId  \n",
       "2833  155ebc22-ccad-4f44-a619-4cc2496a88ba  \n",
       "2834  a4d4df1d-1394-423b-aa3f-ad0bcc86110f  \n",
       "2837  78353b53-1083-452a-bcd6-6d5ae7b81e1e  \n",
       "2838  e7c44e50-daeb-4755-8432-c7d337f5c8e8  \n",
       "2841  7195155f-8db4-4f8b-b586-9ed67d5fcb56  "
      ]
     },
     "execution_count": 30,
     "metadata": {},
     "output_type": "execute_result"
    }
   ],
   "source": [
    "allSessions = getAllSessions( df, True )\n",
    "allSessions.head()"
   ]
  },
  {
   "cell_type": "code",
   "execution_count": 31,
   "metadata": {
    "collapsed": false
   },
   "outputs": [
    {
     "data": {
      "text/html": [
       "<div>\n",
       "<style>\n",
       "    .dataframe thead tr:only-child th {\n",
       "        text-align: right;\n",
       "    }\n",
       "\n",
       "    .dataframe thead th {\n",
       "        text-align: left;\n",
       "    }\n",
       "\n",
       "    .dataframe tbody tr th {\n",
       "        vertical-align: top;\n",
       "    }\n",
       "</style>\n",
       "<table border=\"1\" class=\"dataframe\">\n",
       "  <thead>\n",
       "    <tr style=\"text-align: right;\">\n",
       "      <th></th>\n",
       "      <th>userId</th>\n",
       "      <th>counts</th>\n",
       "    </tr>\n",
       "  </thead>\n",
       "  <tbody>\n",
       "    <tr>\n",
       "      <th>767</th>\n",
       "      <td>\"a8ba2b83-c911-489c-98be-5fde646c46de\"</td>\n",
       "      <td>140</td>\n",
       "    </tr>\n",
       "    <tr>\n",
       "      <th>735</th>\n",
       "      <td>\"a151ad65-75fd-4dc1-b466-8852e6f085d2\"</td>\n",
       "      <td>30</td>\n",
       "    </tr>\n",
       "    <tr>\n",
       "      <th>363</th>\n",
       "      <td>\"4dbc2f43-421c-4e23-85d4-f17723ff8c66\"</td>\n",
       "      <td>27</td>\n",
       "    </tr>\n",
       "    <tr>\n",
       "      <th>633</th>\n",
       "      <td>\"89f8da5a-fdb8-4d47-b71f-fa01c0fa320f\"</td>\n",
       "      <td>18</td>\n",
       "    </tr>\n",
       "    <tr>\n",
       "      <th>992</th>\n",
       "      <td>\"d6007d58-33dd-4a36-8918-8473f0afc22a\"</td>\n",
       "      <td>14</td>\n",
       "    </tr>\n",
       "    <tr>\n",
       "      <th>993</th>\n",
       "      <td>\"d6826fd9-a6fc-4046-b974-68e50576183f\"</td>\n",
       "      <td>14</td>\n",
       "    </tr>\n",
       "    <tr>\n",
       "      <th>138</th>\n",
       "      <td>\"1f742172-0443-4fc7-b38a-621fa62b323f\"</td>\n",
       "      <td>13</td>\n",
       "    </tr>\n",
       "    <tr>\n",
       "      <th>340</th>\n",
       "      <td>\"47e7b80b-fd20-49ad-bf54-d31da5430016\"</td>\n",
       "      <td>13</td>\n",
       "    </tr>\n",
       "    <tr>\n",
       "      <th>228</th>\n",
       "      <td>\"305ed568-aff6-48a0-a5b8-9745afc6c51f\"</td>\n",
       "      <td>12</td>\n",
       "    </tr>\n",
       "    <tr>\n",
       "      <th>757</th>\n",
       "      <td>\"a4d4b030-9117-4331-ba48-90dc05a7e65a\"</td>\n",
       "      <td>9</td>\n",
       "    </tr>\n",
       "  </tbody>\n",
       "</table>\n",
       "</div>"
      ],
      "text/plain": [
       "                                     userId  counts\n",
       "767  \"a8ba2b83-c911-489c-98be-5fde646c46de\"     140\n",
       "735  \"a151ad65-75fd-4dc1-b466-8852e6f085d2\"      30\n",
       "363  \"4dbc2f43-421c-4e23-85d4-f17723ff8c66\"      27\n",
       "633  \"89f8da5a-fdb8-4d47-b71f-fa01c0fa320f\"      18\n",
       "992  \"d6007d58-33dd-4a36-8918-8473f0afc22a\"      14\n",
       "993  \"d6826fd9-a6fc-4046-b974-68e50576183f\"      14\n",
       "138  \"1f742172-0443-4fc7-b38a-621fa62b323f\"      13\n",
       "340  \"47e7b80b-fd20-49ad-bf54-d31da5430016\"      13\n",
       "228  \"305ed568-aff6-48a0-a5b8-9745afc6c51f\"      12\n",
       "757  \"a4d4b030-9117-4331-ba48-90dc05a7e65a\"       9"
      ]
     },
     "execution_count": 31,
     "metadata": {},
     "output_type": "execute_result"
    }
   ],
   "source": [
    "allSessions.groupby('userId').size().reset_index(name='counts').sort_values(by='counts', ascending=False).head(10)"
   ]
  },
  {
   "cell_type": "code",
   "execution_count": 32,
   "metadata": {
    "collapsed": false
   },
   "outputs": [
    {
     "data": {
      "text/html": [
       "<div>\n",
       "<style>\n",
       "    .dataframe thead tr:only-child th {\n",
       "        text-align: right;\n",
       "    }\n",
       "\n",
       "    .dataframe thead th {\n",
       "        text-align: left;\n",
       "    }\n",
       "\n",
       "    .dataframe tbody tr th {\n",
       "        vertical-align: top;\n",
       "    }\n",
       "</style>\n",
       "<table border=\"1\" class=\"dataframe\">\n",
       "  <thead>\n",
       "    <tr style=\"text-align: right;\">\n",
       "      <th></th>\n",
       "      <th>userId</th>\n",
       "      <th>counts</th>\n",
       "    </tr>\n",
       "  </thead>\n",
       "  <tbody>\n",
       "    <tr>\n",
       "      <th>18</th>\n",
       "      <td>\"d6826fd9-a6fc-4046-b974-68e50576183f\"</td>\n",
       "      <td>14</td>\n",
       "    </tr>\n",
       "    <tr>\n",
       "      <th>3</th>\n",
       "      <td>\"1f742172-0443-4fc7-b38a-621fa62b323f\"</td>\n",
       "      <td>13</td>\n",
       "    </tr>\n",
       "    <tr>\n",
       "      <th>14</th>\n",
       "      <td>\"a151ad65-75fd-4dc1-b466-8852e6f085d2\"</td>\n",
       "      <td>10</td>\n",
       "    </tr>\n",
       "    <tr>\n",
       "      <th>15</th>\n",
       "      <td>\"a4d4b030-9117-4331-ba48-90dc05a7e65a\"</td>\n",
       "      <td>9</td>\n",
       "    </tr>\n",
       "    <tr>\n",
       "      <th>10</th>\n",
       "      <td>\"7cece567-45d0-42e7-9870-3f83fb7de271\"</td>\n",
       "      <td>5</td>\n",
       "    </tr>\n",
       "    <tr>\n",
       "      <th>12</th>\n",
       "      <td>\"9880ce9d-c6fc-476e-98a9-a9e8c8f7fcdc\"</td>\n",
       "      <td>5</td>\n",
       "    </tr>\n",
       "    <tr>\n",
       "      <th>9</th>\n",
       "      <td>\"7412a447-8177-48e9-82c5-cb31032f76a9\"</td>\n",
       "      <td>2</td>\n",
       "    </tr>\n",
       "    <tr>\n",
       "      <th>0</th>\n",
       "      <td>\"03e29e72-3bdd-4bc0-9556-20353e531368\"</td>\n",
       "      <td>2</td>\n",
       "    </tr>\n",
       "    <tr>\n",
       "      <th>6</th>\n",
       "      <td>\"4dbc2f43-421c-4e23-85d4-f17723ff8c66\"</td>\n",
       "      <td>2</td>\n",
       "    </tr>\n",
       "    <tr>\n",
       "      <th>5</th>\n",
       "      <td>\"4c617aef-2e03-4f56-b863-89d4f44128ef\"</td>\n",
       "      <td>2</td>\n",
       "    </tr>\n",
       "  </tbody>\n",
       "</table>\n",
       "</div>"
      ],
      "text/plain": [
       "                                    userId  counts\n",
       "18  \"d6826fd9-a6fc-4046-b974-68e50576183f\"      14\n",
       "3   \"1f742172-0443-4fc7-b38a-621fa62b323f\"      13\n",
       "14  \"a151ad65-75fd-4dc1-b466-8852e6f085d2\"      10\n",
       "15  \"a4d4b030-9117-4331-ba48-90dc05a7e65a\"       9\n",
       "10  \"7cece567-45d0-42e7-9870-3f83fb7de271\"       5\n",
       "12  \"9880ce9d-c6fc-476e-98a9-a9e8c8f7fcdc\"       5\n",
       "9   \"7412a447-8177-48e9-82c5-cb31032f76a9\"       2\n",
       "0   \"03e29e72-3bdd-4bc0-9556-20353e531368\"       2\n",
       "6   \"4dbc2f43-421c-4e23-85d4-f17723ff8c66\"       2\n",
       "5   \"4c617aef-2e03-4f56-b863-89d4f44128ef\"       2"
      ]
     },
     "execution_count": 32,
     "metadata": {},
     "output_type": "execute_result"
    }
   ],
   "source": [
    "getUserSessionsCounts(getNormalizedRedMetricsCSV(part152)).head(10)"
   ]
  },
  {
   "cell_type": "code",
   "execution_count": 33,
   "metadata": {
    "collapsed": false,
    "scrolled": true
   },
   "outputs": [
    {
     "data": {
      "text/html": [
       "<div>\n",
       "<style>\n",
       "    .dataframe thead tr:only-child th {\n",
       "        text-align: right;\n",
       "    }\n",
       "\n",
       "    .dataframe thead th {\n",
       "        text-align: left;\n",
       "    }\n",
       "\n",
       "    .dataframe tbody tr th {\n",
       "        vertical-align: top;\n",
       "    }\n",
       "</style>\n",
       "<table border=\"1\" class=\"dataframe\">\n",
       "  <thead>\n",
       "    <tr>\n",
       "      <th></th>\n",
       "      <th>sessionId</th>\n",
       "    </tr>\n",
       "    <tr>\n",
       "      <th></th>\n",
       "      <th>count</th>\n",
       "    </tr>\n",
       "    <tr>\n",
       "      <th>userId</th>\n",
       "      <th></th>\n",
       "    </tr>\n",
       "  </thead>\n",
       "  <tbody>\n",
       "    <tr>\n",
       "      <th>\"001c95c6-8207-43dc-a51b-adf0c6e005d7\"</th>\n",
       "      <td>1</td>\n",
       "    </tr>\n",
       "    <tr>\n",
       "      <th>\"004d41be-083b-48c4-a0c4-a17967269f5a\"</th>\n",
       "      <td>1</td>\n",
       "    </tr>\n",
       "    <tr>\n",
       "      <th>\"00b0cddb-70cd-47ca-bbc7-695179b28a33\"</th>\n",
       "      <td>1</td>\n",
       "    </tr>\n",
       "    <tr>\n",
       "      <th>\"0102e08c-2a4e-4860-b4e2-7a4e9d474c58\"</th>\n",
       "      <td>1</td>\n",
       "    </tr>\n",
       "    <tr>\n",
       "      <th>\"0113fa54-9009-48cf-b50d-ff5d115ede36\"</th>\n",
       "      <td>2</td>\n",
       "    </tr>\n",
       "  </tbody>\n",
       "</table>\n",
       "</div>"
      ],
      "text/plain": [
       "                                       sessionId\n",
       "                                           count\n",
       "userId                                          \n",
       "\"001c95c6-8207-43dc-a51b-adf0c6e005d7\"         1\n",
       "\"004d41be-083b-48c4-a0c4-a17967269f5a\"         1\n",
       "\"00b0cddb-70cd-47ca-bbc7-695179b28a33\"         1\n",
       "\"0102e08c-2a4e-4860-b4e2-7a4e9d474c58\"         1\n",
       "\"0113fa54-9009-48cf-b50d-ff5d115ede36\"         2"
      ]
     },
     "execution_count": 33,
     "metadata": {},
     "output_type": "execute_result"
    }
   ],
   "source": [
    "allSessions.groupby('userId').agg(['count']).head() #.sort_values(by='sessionId', ascending=False).head(10)"
   ]
  },
  {
   "cell_type": "code",
   "execution_count": 34,
   "metadata": {
    "collapsed": true
   },
   "outputs": [],
   "source": [
    "#df2 = pd.concat([df151, df152])\n",
    "#df2.head(2)\n",
    "#print(df2.columns)\n",
    "#df2columns = df2.columns.values\n",
    "#type(df2columns)\n",
    "#df2columns\n",
    "#newColumns = np.concatenate((minimalInitializationColumns, df2columns))\n",
    "#newColumns\n",
    "#df2 = getNormalizedRedMetricsCSV(df)"
   ]
  }
 ],
 "metadata": {
  "kernelspec": {
   "display_name": "Python 3",
   "language": "python",
   "name": "python3"
  },
  "language_info": {
   "codemirror_mode": {
    "name": "ipython",
    "version": 3
   },
   "file_extension": ".py",
   "mimetype": "text/x-python",
   "name": "python",
   "nbconvert_exporter": "python",
   "pygments_lexer": "ipython3",
   "version": "3.5.4"
  }
 },
 "nbformat": 4,
 "nbformat_minor": 0
}
