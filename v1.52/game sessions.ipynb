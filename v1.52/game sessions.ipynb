{
 "cells": [
  {
   "cell_type": "code",
   "execution_count": 6,
   "metadata": {
    "collapsed": false
   },
   "outputs": [],
   "source": [
    "%matplotlib inline\n",
    "\n",
    "import numpy as np\n",
    "import pandas as pd\n",
    "import matplotlib.pyplot as plt \n",
    "import seaborn as sns"
   ]
  },
  {
   "cell_type": "code",
   "execution_count": 7,
   "metadata": {
    "collapsed": false
   },
   "outputs": [],
   "source": [
    "df100 = pd.read_csv(\"data/1.0.csv\")\n",
    "df131 = pd.read_csv(\"data/1.31.csv\")\n",
    "df132 = pd.read_csv(\"data/1.32.csv\")\n",
    "df133 = pd.read_csv(\"data/1.33.csv\")\n",
    "df140 = pd.read_csv(\"data/1.40.csv\")\n",
    "df150 = pd.read_csv(\"data/1.50.csv\")\n",
    "df151 = pd.read_csv(\"data/1.51.csv\")\n",
    "df152 = pd.read_csv(\"data/1.52.csv\")\n",
    "\n",
    "relevantColumns = ['id', 'playerId']\n",
    "\n",
    "part100 = df100.loc[:,relevantColumns]\n",
    "part131 = df131.loc[:,relevantColumns]\n",
    "part132 = df132.loc[:,relevantColumns]\n",
    "part133 = df133.loc[:,relevantColumns]\n",
    "part140 = df140.loc[:,relevantColumns]\n",
    "part150 = df150.loc[:,relevantColumns]\n",
    "part151 = df151.loc[:,relevantColumns]\n",
    "part152 = df152.loc[:,relevantColumns]\n",
    "\n",
    "df = pd.concat([part100, part131, part132, part133, part140, part150, part151, part152])"
   ]
  },
  {
   "cell_type": "markdown",
   "metadata": {},
   "source": [
    "## checks"
   ]
  },
  {
   "cell_type": "code",
   "execution_count": 3,
   "metadata": {
    "collapsed": false
   },
   "outputs": [
    {
     "data": {
      "text/plain": [
       "u'0.17.0'"
      ]
     },
     "execution_count": 3,
     "metadata": {},
     "output_type": "execute_result"
    }
   ],
   "source": [
    "pd.__version__"
   ]
  },
  {
   "cell_type": "code",
   "execution_count": 4,
   "metadata": {
    "collapsed": false
   },
   "outputs": [
    {
     "data": {
      "text/plain": [
       "'1.10.1'"
      ]
     },
     "execution_count": 4,
     "metadata": {},
     "output_type": "execute_result"
    }
   ],
   "source": [
    "np.__version__"
   ]
  },
  {
   "cell_type": "markdown",
   "metadata": {},
   "source": [
    "## Unique Game Sessions"
   ]
  },
  {
   "cell_type": "markdown",
   "metadata": {},
   "source": [
    "Number of unique game sessions"
   ]
  },
  {
   "cell_type": "code",
   "execution_count": 5,
   "metadata": {
    "collapsed": false
   },
   "outputs": [
    {
     "data": {
      "text/plain": [
       "2587"
      ]
     },
     "execution_count": 5,
     "metadata": {},
     "output_type": "execute_result"
    }
   ],
   "source": [
    "playerscount = df[\"playerId\"].nunique()\n",
    "playerscount"
   ]
  }
 ],
 "metadata": {
  "kernelspec": {
   "display_name": "Python 2",
   "language": "python",
   "name": "python2"
  },
  "language_info": {
   "codemirror_mode": {
    "name": "ipython",
    "version": 2
   },
   "file_extension": ".py",
   "mimetype": "text/x-python",
   "name": "python",
   "nbconvert_exporter": "python",
   "pygments_lexer": "ipython2",
   "version": "2.7.10"
  }
 },
 "nbformat": 4,
 "nbformat_minor": 0
}
