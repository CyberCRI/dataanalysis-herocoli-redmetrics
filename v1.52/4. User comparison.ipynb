{
 "cells": [
  {
   "cell_type": "markdown",
   "metadata": {},
   "source": [
    "# Preparation"
   ]
  },
  {
   "cell_type": "code",
   "execution_count": 16,
   "metadata": {
    "collapsed": false,
    "scrolled": false
   },
   "outputs": [
    {
     "data": {
      "text/html": [
       "<div>\n",
       "<table border=\"1\" class=\"dataframe\">\n",
       "  <thead>\n",
       "    <tr style=\"text-align: right;\">\n",
       "      <th></th>\n",
       "      <th>id</th>\n",
       "      <th>serverTime</th>\n",
       "      <th>userTime</th>\n",
       "      <th>gameVersion</th>\n",
       "      <th>sessionId</th>\n",
       "      <th>playerBirthdate</th>\n",
       "      <th>playerRegion</th>\n",
       "      <th>playerCountry</th>\n",
       "      <th>playerGender</th>\n",
       "      <th>playerExternalId</th>\n",
       "      <th>...</th>\n",
       "      <th>customData.count</th>\n",
       "      <th>customData.plasmid</th>\n",
       "      <th>customData.language</th>\n",
       "      <th>customData.total</th>\n",
       "      <th>customData.controls</th>\n",
       "      <th>customData.message</th>\n",
       "      <th>customData.graphics</th>\n",
       "      <th>customData.chapter</th>\n",
       "      <th>customData.life</th>\n",
       "      <th>customData.source</th>\n",
       "    </tr>\n",
       "  </thead>\n",
       "  <tbody>\n",
       "    <tr>\n",
       "      <th>0</th>\n",
       "      <td>1518748d-01f9-4c3a-a646-0b30a73953d1</td>\n",
       "      <td>2017-04-12T08:57:48.448Z</td>\n",
       "      <td>2017-04-12T08:57:49.752Z</td>\n",
       "      <td>915953b4-f9e1-41ca-acc4-4e4e90667102</td>\n",
       "      <td>b724663c-b32a-4079-9f8f-896762b272d1</td>\n",
       "      <td>NaN</td>\n",
       "      <td>NaN</td>\n",
       "      <td>NaN</td>\n",
       "      <td>NaN</td>\n",
       "      <td>NaN</td>\n",
       "      <td>...</td>\n",
       "      <td>NaN</td>\n",
       "      <td>NaN</td>\n",
       "      <td>NaN</td>\n",
       "      <td>NaN</td>\n",
       "      <td>NaN</td>\n",
       "      <td>NaN</td>\n",
       "      <td>NaN</td>\n",
       "      <td>NaN</td>\n",
       "      <td>NaN</td>\n",
       "      <td>NaN</td>\n",
       "    </tr>\n",
       "    <tr>\n",
       "      <th>1</th>\n",
       "      <td>a831eee1-39b2-489a-80e1-71a3bd77d434</td>\n",
       "      <td>2017-04-12T08:58:14.441Z</td>\n",
       "      <td>2017-04-12T08:58:15.799Z</td>\n",
       "      <td>915953b4-f9e1-41ca-acc4-4e4e90667102</td>\n",
       "      <td>b724663c-b32a-4079-9f8f-896762b272d1</td>\n",
       "      <td>NaN</td>\n",
       "      <td>NaN</td>\n",
       "      <td>NaN</td>\n",
       "      <td>NaN</td>\n",
       "      <td>NaN</td>\n",
       "      <td>...</td>\n",
       "      <td>NaN</td>\n",
       "      <td>NaN</td>\n",
       "      <td>NaN</td>\n",
       "      <td>NaN</td>\n",
       "      <td>NaN</td>\n",
       "      <td>NaN</td>\n",
       "      <td>NaN</td>\n",
       "      <td>NaN</td>\n",
       "      <td>\"100\"</td>\n",
       "      <td>NaN</td>\n",
       "    </tr>\n",
       "    <tr>\n",
       "      <th>2</th>\n",
       "      <td>47a6370e-6f4d-4b7e-b94e-c48ac1efb58d</td>\n",
       "      <td>2017-04-12T08:58:26.229Z</td>\n",
       "      <td>2017-04-12T08:58:27.575Z</td>\n",
       "      <td>915953b4-f9e1-41ca-acc4-4e4e90667102</td>\n",
       "      <td>b724663c-b32a-4079-9f8f-896762b272d1</td>\n",
       "      <td>NaN</td>\n",
       "      <td>NaN</td>\n",
       "      <td>NaN</td>\n",
       "      <td>NaN</td>\n",
       "      <td>NaN</td>\n",
       "      <td>...</td>\n",
       "      <td>NaN</td>\n",
       "      <td>NaN</td>\n",
       "      <td>NaN</td>\n",
       "      <td>NaN</td>\n",
       "      <td>NaN</td>\n",
       "      <td>NaN</td>\n",
       "      <td>NaN</td>\n",
       "      <td>NaN</td>\n",
       "      <td>\"100\"</td>\n",
       "      <td>NaN</td>\n",
       "    </tr>\n",
       "    <tr>\n",
       "      <th>3</th>\n",
       "      <td>fdc6e41c-8e6c-4b75-afdd-b7a215d12077</td>\n",
       "      <td>2017-04-12T08:58:37.640Z</td>\n",
       "      <td>2017-04-12T08:58:38.987Z</td>\n",
       "      <td>915953b4-f9e1-41ca-acc4-4e4e90667102</td>\n",
       "      <td>b724663c-b32a-4079-9f8f-896762b272d1</td>\n",
       "      <td>NaN</td>\n",
       "      <td>NaN</td>\n",
       "      <td>NaN</td>\n",
       "      <td>NaN</td>\n",
       "      <td>NaN</td>\n",
       "      <td>...</td>\n",
       "      <td>NaN</td>\n",
       "      <td>NaN</td>\n",
       "      <td>NaN</td>\n",
       "      <td>NaN</td>\n",
       "      <td>NaN</td>\n",
       "      <td>NaN</td>\n",
       "      <td>NaN</td>\n",
       "      <td>NaN</td>\n",
       "      <td>NaN</td>\n",
       "      <td>NaN</td>\n",
       "    </tr>\n",
       "    <tr>\n",
       "      <th>4</th>\n",
       "      <td>4fb6a1d5-5a07-4ec9-a3ac-0df0fca8b0ca</td>\n",
       "      <td>2017-04-12T09:30:51.879Z</td>\n",
       "      <td>2017-04-12T09:30:31.060Z</td>\n",
       "      <td>915953b4-f9e1-41ca-acc4-4e4e90667102</td>\n",
       "      <td>2d76c4ef-f260-4963-82f4-ff598d2a63b4</td>\n",
       "      <td>NaN</td>\n",
       "      <td>NaN</td>\n",
       "      <td>NaN</td>\n",
       "      <td>NaN</td>\n",
       "      <td>NaN</td>\n",
       "      <td>...</td>\n",
       "      <td>NaN</td>\n",
       "      <td>NaN</td>\n",
       "      <td>NaN</td>\n",
       "      <td>NaN</td>\n",
       "      <td>NaN</td>\n",
       "      <td>NaN</td>\n",
       "      <td>NaN</td>\n",
       "      <td>NaN</td>\n",
       "      <td>NaN</td>\n",
       "      <td>NaN</td>\n",
       "    </tr>\n",
       "  </tbody>\n",
       "</table>\n",
       "<p>5 rows × 38 columns</p>\n",
       "</div>"
      ],
      "text/plain": [
       "                                     id                serverTime  \\\n",
       "0  1518748d-01f9-4c3a-a646-0b30a73953d1  2017-04-12T08:57:48.448Z   \n",
       "1  a831eee1-39b2-489a-80e1-71a3bd77d434  2017-04-12T08:58:14.441Z   \n",
       "2  47a6370e-6f4d-4b7e-b94e-c48ac1efb58d  2017-04-12T08:58:26.229Z   \n",
       "3  fdc6e41c-8e6c-4b75-afdd-b7a215d12077  2017-04-12T08:58:37.640Z   \n",
       "4  4fb6a1d5-5a07-4ec9-a3ac-0df0fca8b0ca  2017-04-12T09:30:51.879Z   \n",
       "\n",
       "                   userTime                           gameVersion  \\\n",
       "0  2017-04-12T08:57:49.752Z  915953b4-f9e1-41ca-acc4-4e4e90667102   \n",
       "1  2017-04-12T08:58:15.799Z  915953b4-f9e1-41ca-acc4-4e4e90667102   \n",
       "2  2017-04-12T08:58:27.575Z  915953b4-f9e1-41ca-acc4-4e4e90667102   \n",
       "3  2017-04-12T08:58:38.987Z  915953b4-f9e1-41ca-acc4-4e4e90667102   \n",
       "4  2017-04-12T09:30:31.060Z  915953b4-f9e1-41ca-acc4-4e4e90667102   \n",
       "\n",
       "                              sessionId  playerBirthdate  playerRegion  \\\n",
       "0  b724663c-b32a-4079-9f8f-896762b272d1              NaN           NaN   \n",
       "1  b724663c-b32a-4079-9f8f-896762b272d1              NaN           NaN   \n",
       "2  b724663c-b32a-4079-9f8f-896762b272d1              NaN           NaN   \n",
       "3  b724663c-b32a-4079-9f8f-896762b272d1              NaN           NaN   \n",
       "4  2d76c4ef-f260-4963-82f4-ff598d2a63b4              NaN           NaN   \n",
       "\n",
       "   playerCountry  playerGender  playerExternalId        ...         \\\n",
       "0            NaN           NaN               NaN        ...          \n",
       "1            NaN           NaN               NaN        ...          \n",
       "2            NaN           NaN               NaN        ...          \n",
       "3            NaN           NaN               NaN        ...          \n",
       "4            NaN           NaN               NaN        ...          \n",
       "\n",
       "   customData.count customData.plasmid customData.language customData.total  \\\n",
       "0               NaN                NaN                 NaN              NaN   \n",
       "1               NaN                NaN                 NaN              NaN   \n",
       "2               NaN                NaN                 NaN              NaN   \n",
       "3               NaN                NaN                 NaN              NaN   \n",
       "4               NaN                NaN                 NaN              NaN   \n",
       "\n",
       "  customData.controls customData.message customData.graphics  \\\n",
       "0                 NaN                NaN                 NaN   \n",
       "1                 NaN                NaN                 NaN   \n",
       "2                 NaN                NaN                 NaN   \n",
       "3                 NaN                NaN                 NaN   \n",
       "4                 NaN                NaN                 NaN   \n",
       "\n",
       "  customData.chapter customData.life customData.source  \n",
       "0                NaN             NaN               NaN  \n",
       "1                NaN           \"100\"               NaN  \n",
       "2                NaN           \"100\"               NaN  \n",
       "3                NaN             NaN               NaN  \n",
       "4                NaN             NaN               NaN  \n",
       "\n",
       "[5 rows x 38 columns]"
      ]
     },
     "execution_count": 16,
     "metadata": {},
     "output_type": "execute_result"
    }
   ],
   "source": [
    "%run Utilities/Preparation.ipynb\n",
    "df152 = pd.read_csv(\"../data/2017-09-05.1.52.csv\")\n",
    "df152 = df152.rename(index=str, columns={'playerId': 'sessionId'})\n",
    "df152.head()"
   ]
  },
  {
   "cell_type": "markdown",
   "metadata": {
    "collapsed": true
   },
   "source": [
    "# List of users and their sessions"
   ]
  },
  {
   "cell_type": "code",
   "execution_count": 17,
   "metadata": {
    "collapsed": true
   },
   "outputs": [],
   "source": [
    "userSessionsRelevantColumns = ['customData.localplayerguid', 'sessionId']\n",
    "userSessions = df152[df152['type']=='start'].loc[:,userSessionsRelevantColumns]"
   ]
  },
  {
   "cell_type": "code",
   "execution_count": 18,
   "metadata": {
    "collapsed": false
   },
   "outputs": [
    {
     "data": {
      "text/html": [
       "<div>\n",
       "<table border=\"1\" class=\"dataframe\">\n",
       "  <thead>\n",
       "    <tr style=\"text-align: right;\">\n",
       "      <th></th>\n",
       "      <th>userId</th>\n",
       "      <th>sessionId</th>\n",
       "    </tr>\n",
       "  </thead>\n",
       "  <tbody>\n",
       "    <tr>\n",
       "      <th>0</th>\n",
       "      <td>\"4dbc2f43-421c-4e23-85d4-f17723ff8c66\"</td>\n",
       "      <td>b724663c-b32a-4079-9f8f-896762b272d1</td>\n",
       "    </tr>\n",
       "    <tr>\n",
       "      <th>4</th>\n",
       "      <td>\"1a8924de-7cc6-4ff5-8735-4cddac309117\"</td>\n",
       "      <td>2d76c4ef-f260-4963-82f4-ff598d2a63b4</td>\n",
       "    </tr>\n",
       "    <tr>\n",
       "      <th>67</th>\n",
       "      <td>\"1a8924de-7cc6-4ff5-8735-4cddac309117\"</td>\n",
       "      <td>6a9893c1-da09-42c7-832e-4d0746fa779e</td>\n",
       "    </tr>\n",
       "    <tr>\n",
       "      <th>74</th>\n",
       "      <td>\"a6483353-5db1-4c6c-98d7-b6328d0f4456\"</td>\n",
       "      <td>c430c60c-d7cb-4fc5-893b-dce440696caf</td>\n",
       "    </tr>\n",
       "    <tr>\n",
       "      <th>88</th>\n",
       "      <td>\"0fa88384-3115-4ebd-990d-6bd29214c04f\"</td>\n",
       "      <td>72dc3209-bd46-4026-91f0-44d2a7298175</td>\n",
       "    </tr>\n",
       "  </tbody>\n",
       "</table>\n",
       "</div>"
      ],
      "text/plain": [
       "                                    userId  \\\n",
       "0   \"4dbc2f43-421c-4e23-85d4-f17723ff8c66\"   \n",
       "4   \"1a8924de-7cc6-4ff5-8735-4cddac309117\"   \n",
       "67  \"1a8924de-7cc6-4ff5-8735-4cddac309117\"   \n",
       "74  \"a6483353-5db1-4c6c-98d7-b6328d0f4456\"   \n",
       "88  \"0fa88384-3115-4ebd-990d-6bd29214c04f\"   \n",
       "\n",
       "                               sessionId  \n",
       "0   b724663c-b32a-4079-9f8f-896762b272d1  \n",
       "4   2d76c4ef-f260-4963-82f4-ff598d2a63b4  \n",
       "67  6a9893c1-da09-42c7-832e-4d0746fa779e  \n",
       "74  c430c60c-d7cb-4fc5-893b-dce440696caf  \n",
       "88  72dc3209-bd46-4026-91f0-44d2a7298175  "
      ]
     },
     "execution_count": 18,
     "metadata": {},
     "output_type": "execute_result"
    }
   ],
   "source": [
    "userSessions = userSessions.rename(index=str, columns={'customData.localplayerguid': 'userId'})\n",
    "userSessions.head()"
   ]
  },
  {
   "cell_type": "code",
   "execution_count": 19,
   "metadata": {
    "collapsed": false
   },
   "outputs": [],
   "source": [
    "#groupedUserSessions = userSessions.groupby('customData.localplayerguid')\n",
    "#groupedUserSessions.head()\n",
    "#groupedUserSessions.describe().head()"
   ]
  },
  {
   "cell_type": "markdown",
   "metadata": {},
   "source": [
    "# List of sessions with their checkpoints achievements"
   ]
  },
  {
   "cell_type": "code",
   "execution_count": 20,
   "metadata": {
    "collapsed": false
   },
   "outputs": [
    {
     "data": {
      "text/html": [
       "<div>\n",
       "<table border=\"1\" class=\"dataframe\">\n",
       "  <thead>\n",
       "    <tr style=\"text-align: right;\">\n",
       "      <th></th>\n",
       "      <th>section</th>\n",
       "      <th>sessionId</th>\n",
       "      <th>userTime</th>\n",
       "    </tr>\n",
       "  </thead>\n",
       "  <tbody>\n",
       "    <tr>\n",
       "      <th>10</th>\n",
       "      <td>tutorial1.Checkpoint00</td>\n",
       "      <td>2d76c4ef-f260-4963-82f4-ff598d2a63b4</td>\n",
       "      <td>2017-04-12T09:32:37.505Z</td>\n",
       "    </tr>\n",
       "    <tr>\n",
       "      <th>18</th>\n",
       "      <td>tutorial1.Checkpoint01</td>\n",
       "      <td>2d76c4ef-f260-4963-82f4-ff598d2a63b4</td>\n",
       "      <td>2017-04-12T09:34:03.736Z</td>\n",
       "    </tr>\n",
       "    <tr>\n",
       "      <th>69</th>\n",
       "      <td>tutorial1.Checkpoint01</td>\n",
       "      <td>6a9893c1-da09-42c7-832e-4d0746fa779e</td>\n",
       "      <td>2017-04-12T09:46:39.764Z</td>\n",
       "    </tr>\n",
       "    <tr>\n",
       "      <th>79</th>\n",
       "      <td>tutorial1.Checkpoint00</td>\n",
       "      <td>c430c60c-d7cb-4fc5-893b-dce440696caf</td>\n",
       "      <td>2017-04-12T11:00:15.037Z</td>\n",
       "    </tr>\n",
       "    <tr>\n",
       "      <th>85</th>\n",
       "      <td>tutorial1.Checkpoint01</td>\n",
       "      <td>c430c60c-d7cb-4fc5-893b-dce440696caf</td>\n",
       "      <td>2017-04-12T11:01:47.407Z</td>\n",
       "    </tr>\n",
       "  </tbody>\n",
       "</table>\n",
       "</div>"
      ],
      "text/plain": [
       "                   section                             sessionId  \\\n",
       "10  tutorial1.Checkpoint00  2d76c4ef-f260-4963-82f4-ff598d2a63b4   \n",
       "18  tutorial1.Checkpoint01  2d76c4ef-f260-4963-82f4-ff598d2a63b4   \n",
       "69  tutorial1.Checkpoint01  6a9893c1-da09-42c7-832e-4d0746fa779e   \n",
       "79  tutorial1.Checkpoint00  c430c60c-d7cb-4fc5-893b-dce440696caf   \n",
       "85  tutorial1.Checkpoint01  c430c60c-d7cb-4fc5-893b-dce440696caf   \n",
       "\n",
       "                    userTime  \n",
       "10  2017-04-12T09:32:37.505Z  \n",
       "18  2017-04-12T09:34:03.736Z  \n",
       "69  2017-04-12T09:46:39.764Z  \n",
       "79  2017-04-12T11:00:15.037Z  \n",
       "85  2017-04-12T11:01:47.407Z  "
      ]
     },
     "execution_count": 20,
     "metadata": {},
     "output_type": "execute_result"
    }
   ],
   "source": [
    "checkpointsRelevantColumns = ['sessionId', 'customData.localplayerguid', 'type', 'section', 'userTime']\n",
    "checkpoints = df152.loc[:, checkpointsRelevantColumns]\n",
    "\n",
    "checkpoints = checkpoints[checkpoints['type']=='reach'].loc[:,['section','sessionId','userTime']]\n",
    "checkpoints = checkpoints[checkpoints['section'].str.startswith('tutorial', na=False)]\n",
    "#checkpoints = checkpoints.groupby(\"sessionId\")\n",
    "#checkpoints = checkpoints.max()\n",
    "checkpoints.head()"
   ]
  },
  {
   "cell_type": "markdown",
   "metadata": {},
   "source": [
    "# Assembly of both"
   ]
  },
  {
   "cell_type": "code",
   "execution_count": 21,
   "metadata": {
    "collapsed": false,
    "scrolled": true
   },
   "outputs": [
    {
     "data": {
      "text/html": [
       "<div>\n",
       "<table border=\"1\" class=\"dataframe\">\n",
       "  <thead>\n",
       "    <tr style=\"text-align: right;\">\n",
       "      <th></th>\n",
       "      <th>userId</th>\n",
       "      <th>sessionId</th>\n",
       "      <th>section</th>\n",
       "      <th>userTime</th>\n",
       "    </tr>\n",
       "  </thead>\n",
       "  <tbody>\n",
       "    <tr>\n",
       "      <th>0</th>\n",
       "      <td>\"4dbc2f43-421c-4e23-85d4-f17723ff8c66\"</td>\n",
       "      <td>b724663c-b32a-4079-9f8f-896762b272d1</td>\n",
       "      <td>NaN</td>\n",
       "      <td>NaN</td>\n",
       "    </tr>\n",
       "    <tr>\n",
       "      <th>1</th>\n",
       "      <td>\"1a8924de-7cc6-4ff5-8735-4cddac309117\"</td>\n",
       "      <td>2d76c4ef-f260-4963-82f4-ff598d2a63b4</td>\n",
       "      <td>tutorial1.Checkpoint00</td>\n",
       "      <td>2017-04-12T09:32:37.505Z</td>\n",
       "    </tr>\n",
       "    <tr>\n",
       "      <th>2</th>\n",
       "      <td>\"1a8924de-7cc6-4ff5-8735-4cddac309117\"</td>\n",
       "      <td>2d76c4ef-f260-4963-82f4-ff598d2a63b4</td>\n",
       "      <td>tutorial1.Checkpoint01</td>\n",
       "      <td>2017-04-12T09:34:03.736Z</td>\n",
       "    </tr>\n",
       "    <tr>\n",
       "      <th>3</th>\n",
       "      <td>\"1a8924de-7cc6-4ff5-8735-4cddac309117\"</td>\n",
       "      <td>6a9893c1-da09-42c7-832e-4d0746fa779e</td>\n",
       "      <td>tutorial1.Checkpoint01</td>\n",
       "      <td>2017-04-12T09:46:39.764Z</td>\n",
       "    </tr>\n",
       "    <tr>\n",
       "      <th>4</th>\n",
       "      <td>\"a6483353-5db1-4c6c-98d7-b6328d0f4456\"</td>\n",
       "      <td>c430c60c-d7cb-4fc5-893b-dce440696caf</td>\n",
       "      <td>tutorial1.Checkpoint00</td>\n",
       "      <td>2017-04-12T11:00:15.037Z</td>\n",
       "    </tr>\n",
       "  </tbody>\n",
       "</table>\n",
       "</div>"
      ],
      "text/plain": [
       "                                   userId  \\\n",
       "0  \"4dbc2f43-421c-4e23-85d4-f17723ff8c66\"   \n",
       "1  \"1a8924de-7cc6-4ff5-8735-4cddac309117\"   \n",
       "2  \"1a8924de-7cc6-4ff5-8735-4cddac309117\"   \n",
       "3  \"1a8924de-7cc6-4ff5-8735-4cddac309117\"   \n",
       "4  \"a6483353-5db1-4c6c-98d7-b6328d0f4456\"   \n",
       "\n",
       "                              sessionId                 section  \\\n",
       "0  b724663c-b32a-4079-9f8f-896762b272d1                     NaN   \n",
       "1  2d76c4ef-f260-4963-82f4-ff598d2a63b4  tutorial1.Checkpoint00   \n",
       "2  2d76c4ef-f260-4963-82f4-ff598d2a63b4  tutorial1.Checkpoint01   \n",
       "3  6a9893c1-da09-42c7-832e-4d0746fa779e  tutorial1.Checkpoint01   \n",
       "4  c430c60c-d7cb-4fc5-893b-dce440696caf  tutorial1.Checkpoint00   \n",
       "\n",
       "                   userTime  \n",
       "0                       NaN  \n",
       "1  2017-04-12T09:32:37.505Z  \n",
       "2  2017-04-12T09:34:03.736Z  \n",
       "3  2017-04-12T09:46:39.764Z  \n",
       "4  2017-04-12T11:00:15.037Z  "
      ]
     },
     "execution_count": 21,
     "metadata": {},
     "output_type": "execute_result"
    }
   ],
   "source": [
    "#assembled = userSessions.combine_first(checkpoints)\n",
    "assembled = pd.merge(userSessions, checkpoints, on='sessionId', how='outer')\n",
    "assembled.head()"
   ]
  },
  {
   "cell_type": "code",
   "execution_count": 22,
   "metadata": {
    "collapsed": false
   },
   "outputs": [
    {
     "data": {
      "text/html": [
       "<div>\n",
       "<table border=\"1\" class=\"dataframe\">\n",
       "  <thead>\n",
       "    <tr style=\"text-align: right;\">\n",
       "      <th></th>\n",
       "      <th>userId</th>\n",
       "      <th>section</th>\n",
       "      <th>userTime</th>\n",
       "    </tr>\n",
       "  </thead>\n",
       "  <tbody>\n",
       "    <tr>\n",
       "      <th>0</th>\n",
       "      <td>\"4dbc2f43-421c-4e23-85d4-f17723ff8c66\"</td>\n",
       "      <td>NaN</td>\n",
       "      <td>NaN</td>\n",
       "    </tr>\n",
       "    <tr>\n",
       "      <th>1</th>\n",
       "      <td>\"1a8924de-7cc6-4ff5-8735-4cddac309117\"</td>\n",
       "      <td>tutorial1.Checkpoint00</td>\n",
       "      <td>2017-04-12T09:32:37.505Z</td>\n",
       "    </tr>\n",
       "    <tr>\n",
       "      <th>2</th>\n",
       "      <td>\"1a8924de-7cc6-4ff5-8735-4cddac309117\"</td>\n",
       "      <td>tutorial1.Checkpoint01</td>\n",
       "      <td>2017-04-12T09:34:03.736Z</td>\n",
       "    </tr>\n",
       "    <tr>\n",
       "      <th>3</th>\n",
       "      <td>\"1a8924de-7cc6-4ff5-8735-4cddac309117\"</td>\n",
       "      <td>tutorial1.Checkpoint01</td>\n",
       "      <td>2017-04-12T09:46:39.764Z</td>\n",
       "    </tr>\n",
       "    <tr>\n",
       "      <th>4</th>\n",
       "      <td>\"a6483353-5db1-4c6c-98d7-b6328d0f4456\"</td>\n",
       "      <td>tutorial1.Checkpoint00</td>\n",
       "      <td>2017-04-12T11:00:15.037Z</td>\n",
       "    </tr>\n",
       "  </tbody>\n",
       "</table>\n",
       "</div>"
      ],
      "text/plain": [
       "                                   userId                 section  \\\n",
       "0  \"4dbc2f43-421c-4e23-85d4-f17723ff8c66\"                     NaN   \n",
       "1  \"1a8924de-7cc6-4ff5-8735-4cddac309117\"  tutorial1.Checkpoint00   \n",
       "2  \"1a8924de-7cc6-4ff5-8735-4cddac309117\"  tutorial1.Checkpoint01   \n",
       "3  \"1a8924de-7cc6-4ff5-8735-4cddac309117\"  tutorial1.Checkpoint01   \n",
       "4  \"a6483353-5db1-4c6c-98d7-b6328d0f4456\"  tutorial1.Checkpoint00   \n",
       "\n",
       "                   userTime  \n",
       "0                       NaN  \n",
       "1  2017-04-12T09:32:37.505Z  \n",
       "2  2017-04-12T09:34:03.736Z  \n",
       "3  2017-04-12T09:46:39.764Z  \n",
       "4  2017-04-12T11:00:15.037Z  "
      ]
     },
     "execution_count": 22,
     "metadata": {},
     "output_type": "execute_result"
    }
   ],
   "source": [
    "userSections = assembled.drop('sessionId', 1)\n",
    "userSections.head()"
   ]
  },
  {
   "cell_type": "code",
   "execution_count": 23,
   "metadata": {
    "collapsed": false,
    "scrolled": true
   },
   "outputs": [
    {
     "data": {
      "text/html": [
       "<div>\n",
       "<table border=\"1\" class=\"dataframe\">\n",
       "  <thead>\n",
       "    <tr style=\"text-align: right;\">\n",
       "      <th></th>\n",
       "      <th>userId</th>\n",
       "      <th>section</th>\n",
       "      <th>userTime</th>\n",
       "    </tr>\n",
       "  </thead>\n",
       "  <tbody>\n",
       "    <tr>\n",
       "      <th>1</th>\n",
       "      <td>\"1a8924de-7cc6-4ff5-8735-4cddac309117\"</td>\n",
       "      <td>tutorial1.Checkpoint00</td>\n",
       "      <td>2017-04-12T09:32:37.505Z</td>\n",
       "    </tr>\n",
       "    <tr>\n",
       "      <th>2</th>\n",
       "      <td>\"1a8924de-7cc6-4ff5-8735-4cddac309117\"</td>\n",
       "      <td>tutorial1.Checkpoint01</td>\n",
       "      <td>2017-04-12T09:34:03.736Z</td>\n",
       "    </tr>\n",
       "    <tr>\n",
       "      <th>3</th>\n",
       "      <td>\"1a8924de-7cc6-4ff5-8735-4cddac309117\"</td>\n",
       "      <td>tutorial1.Checkpoint01</td>\n",
       "      <td>2017-04-12T09:46:39.764Z</td>\n",
       "    </tr>\n",
       "    <tr>\n",
       "      <th>4</th>\n",
       "      <td>\"a6483353-5db1-4c6c-98d7-b6328d0f4456\"</td>\n",
       "      <td>tutorial1.Checkpoint00</td>\n",
       "      <td>2017-04-12T11:00:15.037Z</td>\n",
       "    </tr>\n",
       "    <tr>\n",
       "      <th>5</th>\n",
       "      <td>\"a6483353-5db1-4c6c-98d7-b6328d0f4456\"</td>\n",
       "      <td>tutorial1.Checkpoint01</td>\n",
       "      <td>2017-04-12T11:01:47.407Z</td>\n",
       "    </tr>\n",
       "  </tbody>\n",
       "</table>\n",
       "</div>"
      ],
      "text/plain": [
       "                                   userId                 section  \\\n",
       "1  \"1a8924de-7cc6-4ff5-8735-4cddac309117\"  tutorial1.Checkpoint00   \n",
       "2  \"1a8924de-7cc6-4ff5-8735-4cddac309117\"  tutorial1.Checkpoint01   \n",
       "3  \"1a8924de-7cc6-4ff5-8735-4cddac309117\"  tutorial1.Checkpoint01   \n",
       "4  \"a6483353-5db1-4c6c-98d7-b6328d0f4456\"  tutorial1.Checkpoint00   \n",
       "5  \"a6483353-5db1-4c6c-98d7-b6328d0f4456\"  tutorial1.Checkpoint01   \n",
       "\n",
       "                   userTime  \n",
       "1  2017-04-12T09:32:37.505Z  \n",
       "2  2017-04-12T09:34:03.736Z  \n",
       "3  2017-04-12T09:46:39.764Z  \n",
       "4  2017-04-12T11:00:15.037Z  \n",
       "5  2017-04-12T11:01:47.407Z  "
      ]
     },
     "execution_count": 23,
     "metadata": {},
     "output_type": "execute_result"
    }
   ],
   "source": [
    "userSections = userSections.dropna()\n",
    "userSections.head()"
   ]
  },
  {
   "cell_type": "code",
   "execution_count": 30,
   "metadata": {
    "collapsed": false
   },
   "outputs": [
    {
     "data": {
      "text/html": [
       "<div>\n",
       "<table border=\"1\" class=\"dataframe\">\n",
       "  <thead>\n",
       "    <tr style=\"text-align: right;\">\n",
       "      <th></th>\n",
       "      <th>section</th>\n",
       "      <th>userTime</th>\n",
       "    </tr>\n",
       "    <tr>\n",
       "      <th>userId</th>\n",
       "      <th></th>\n",
       "      <th></th>\n",
       "    </tr>\n",
       "  </thead>\n",
       "  <tbody>\n",
       "    <tr>\n",
       "      <th>\"00cf9a9d-d588-47a9-87f4-ebd788e32b8b\"</th>\n",
       "      <td>tutorial1.Checkpoint02</td>\n",
       "      <td>2017-06-23T12:41:56.251Z</td>\n",
       "    </tr>\n",
       "    <tr>\n",
       "      <th>\"06e4a3c6-f815-46d6-b695-77dbf61aee25\"</th>\n",
       "      <td>tutorial1.Checkpoint00</td>\n",
       "      <td>2017-07-14T18:47:12.637Z</td>\n",
       "    </tr>\n",
       "    <tr>\n",
       "      <th>\"0782521c-f590-4d68-996a-63e906704c88\"</th>\n",
       "      <td>tutorial1.Checkpoint04</td>\n",
       "      <td>2017-06-18T21:59:37.451Z</td>\n",
       "    </tr>\n",
       "    <tr>\n",
       "      <th>\"08211bff-aab7-4b84-9f77-a68f9bcae0a5\"</th>\n",
       "      <td>tutorial1.Checkpoint00</td>\n",
       "      <td>2017-07-11T10:40:21.165Z</td>\n",
       "    </tr>\n",
       "    <tr>\n",
       "      <th>\"0923f664-d9d0-4e17-9109-c320005a0b23\"</th>\n",
       "      <td>tutorial1.Checkpoint00</td>\n",
       "      <td>2017-06-13T12:02:39.539Z</td>\n",
       "    </tr>\n",
       "  </tbody>\n",
       "</table>\n",
       "</div>"
      ],
      "text/plain": [
       "                                                       section  \\\n",
       "userId                                                           \n",
       "\"00cf9a9d-d588-47a9-87f4-ebd788e32b8b\"  tutorial1.Checkpoint02   \n",
       "\"06e4a3c6-f815-46d6-b695-77dbf61aee25\"  tutorial1.Checkpoint00   \n",
       "\"0782521c-f590-4d68-996a-63e906704c88\"  tutorial1.Checkpoint04   \n",
       "\"08211bff-aab7-4b84-9f77-a68f9bcae0a5\"  tutorial1.Checkpoint00   \n",
       "\"0923f664-d9d0-4e17-9109-c320005a0b23\"  tutorial1.Checkpoint00   \n",
       "\n",
       "                                                        userTime  \n",
       "userId                                                            \n",
       "\"00cf9a9d-d588-47a9-87f4-ebd788e32b8b\"  2017-06-23T12:41:56.251Z  \n",
       "\"06e4a3c6-f815-46d6-b695-77dbf61aee25\"  2017-07-14T18:47:12.637Z  \n",
       "\"0782521c-f590-4d68-996a-63e906704c88\"  2017-06-18T21:59:37.451Z  \n",
       "\"08211bff-aab7-4b84-9f77-a68f9bcae0a5\"  2017-07-11T10:40:21.165Z  \n",
       "\"0923f664-d9d0-4e17-9109-c320005a0b23\"  2017-06-13T12:02:39.539Z  "
      ]
     },
     "execution_count": 30,
     "metadata": {},
     "output_type": "execute_result"
    }
   ],
   "source": [
    "checkpoints = userSections.groupby(\"userId\")\n",
    "checkpoints = checkpoints.max()\n",
    "checkpoints.head()"
   ]
  },
  {
   "cell_type": "markdown",
   "metadata": {},
   "source": [
    "# Time analysis"
   ]
  },
  {
   "cell_type": "code",
   "execution_count": 45,
   "metadata": {
    "collapsed": false,
    "scrolled": false
   },
   "outputs": [
    {
     "data": {
      "text/html": [
       "<div>\n",
       "<table border=\"1\" class=\"dataframe\">\n",
       "  <thead>\n",
       "    <tr>\n",
       "      <th></th>\n",
       "      <th colspan=\"2\" halign=\"left\">userTime</th>\n",
       "      <th>duration</th>\n",
       "    </tr>\n",
       "    <tr>\n",
       "      <th></th>\n",
       "      <th>amin</th>\n",
       "      <th>amax</th>\n",
       "      <th></th>\n",
       "    </tr>\n",
       "    <tr>\n",
       "      <th>userId</th>\n",
       "      <th></th>\n",
       "      <th></th>\n",
       "      <th></th>\n",
       "    </tr>\n",
       "  </thead>\n",
       "  <tbody>\n",
       "    <tr>\n",
       "      <th>\"deb089c0-9be3-4b75-9b27-28963c77b10c\"</th>\n",
       "      <td>2017-06-07T11:42:02.641Z</td>\n",
       "      <td>2017-07-21T16:08:02.204Z</td>\n",
       "      <td>44 days 04:25:59</td>\n",
       "    </tr>\n",
       "    <tr>\n",
       "      <th>\"9880ce9d-c6fc-476e-98a9-a9e8c8f7fcdc\"</th>\n",
       "      <td>2017-05-13T14:36:22.300Z</td>\n",
       "      <td>2017-06-09T12:33:33.835Z</td>\n",
       "      <td>26 days 21:57:11</td>\n",
       "    </tr>\n",
       "    <tr>\n",
       "      <th>\"257b955f-0252-46a8-9089-e37ad2d53f04\"</th>\n",
       "      <td>2017-06-07T20:58:12.548Z</td>\n",
       "      <td>2017-06-21T22:49:18.397Z</td>\n",
       "      <td>14 days 01:51:05</td>\n",
       "    </tr>\n",
       "    <tr>\n",
       "      <th>\"57badcdc-95a3-4436-83fc-a15ea8314ec3\"</th>\n",
       "      <td>2017-06-10T15:51:43.328Z</td>\n",
       "      <td>2017-06-23T16:38:30.379Z</td>\n",
       "      <td>13 days 00:46:47</td>\n",
       "    </tr>\n",
       "    <tr>\n",
       "      <th>\"dbbefcff-5387-48ed-861d-129bab40e297\"</th>\n",
       "      <td>2017-08-03T05:05:53.083Z</td>\n",
       "      <td>2017-08-10T05:19:23.402Z</td>\n",
       "      <td>7 days 00:13:30</td>\n",
       "    </tr>\n",
       "  </tbody>\n",
       "</table>\n",
       "</div>"
      ],
      "text/plain": [
       "                                                        userTime  \\\n",
       "                                                            amin   \n",
       "userId                                                             \n",
       "\"deb089c0-9be3-4b75-9b27-28963c77b10c\"  2017-06-07T11:42:02.641Z   \n",
       "\"9880ce9d-c6fc-476e-98a9-a9e8c8f7fcdc\"  2017-05-13T14:36:22.300Z   \n",
       "\"257b955f-0252-46a8-9089-e37ad2d53f04\"  2017-06-07T20:58:12.548Z   \n",
       "\"57badcdc-95a3-4436-83fc-a15ea8314ec3\"  2017-06-10T15:51:43.328Z   \n",
       "\"dbbefcff-5387-48ed-861d-129bab40e297\"  2017-08-03T05:05:53.083Z   \n",
       "\n",
       "                                                                  \\\n",
       "                                                            amax   \n",
       "userId                                                             \n",
       "\"deb089c0-9be3-4b75-9b27-28963c77b10c\"  2017-07-21T16:08:02.204Z   \n",
       "\"9880ce9d-c6fc-476e-98a9-a9e8c8f7fcdc\"  2017-06-09T12:33:33.835Z   \n",
       "\"257b955f-0252-46a8-9089-e37ad2d53f04\"  2017-06-21T22:49:18.397Z   \n",
       "\"57badcdc-95a3-4436-83fc-a15ea8314ec3\"  2017-06-23T16:38:30.379Z   \n",
       "\"dbbefcff-5387-48ed-861d-129bab40e297\"  2017-08-10T05:19:23.402Z   \n",
       "\n",
       "                                               duration  \n",
       "                                                         \n",
       "userId                                                   \n",
       "\"deb089c0-9be3-4b75-9b27-28963c77b10c\" 44 days 04:25:59  \n",
       "\"9880ce9d-c6fc-476e-98a9-a9e8c8f7fcdc\" 26 days 21:57:11  \n",
       "\"257b955f-0252-46a8-9089-e37ad2d53f04\" 14 days 01:51:05  \n",
       "\"57badcdc-95a3-4436-83fc-a15ea8314ec3\" 13 days 00:46:47  \n",
       "\"dbbefcff-5387-48ed-861d-129bab40e297\"  7 days 00:13:30  "
      ]
     },
     "execution_count": 45,
     "metadata": {},
     "output_type": "execute_result"
    }
   ],
   "source": [
    "#userTimedSections = userSections.groupby(\"userId\").agg({ \"userTime\": np.min })\n",
    "#userTimedSections = userSections.groupby(\"userId\")\n",
    "userTimes = userSections.groupby(\"userId\").agg({ \"userTime\": [np.min, np.max] })\n",
    "userTimes[\"duration\"] = pd.to_datetime(userTimes[\"userTime\"][\"amax\"]) - pd.to_datetime(userTimes[\"userTime\"][\"amin\"])\n",
    "userTimes[\"duration\"] = userTimes[\"duration\"].map(lambda x: np.timedelta64(x, 's'))\n",
    "userTimes = userTimes.sort_values(by=['duration'], ascending=[False])\n",
    "userTimes.head()"
   ]
  },
  {
   "cell_type": "code",
   "execution_count": 48,
   "metadata": {
    "collapsed": false
   },
   "outputs": [
    {
     "data": {
      "text/plain": [
       "(0, 31640)"
      ]
     },
     "execution_count": 48,
     "metadata": {},
     "output_type": "execute_result"
    },
    {
     "data": {
      "image/png": "[encoded data removed]",
      "text/plain": [
       "<matplotlib.figure.Figure at 0x10ccbb490>"
      ]
     },
     "metadata": {},
     "output_type": "display_data"
    }
   ],
   "source": [
    "userTimes.loc[:,'duration']\n",
    "userTimes = userTimes[4:]\n",
    "userTimes[\"duration_seconds\"] = userTimes[\"duration\"].map(lambda x: pd.Timedelta(x).seconds)\n",
    "maxDuration = np.max(userTimes[\"duration_seconds\"])\n",
    "userTimes[\"duration_rank\"] = userTimes[\"duration_seconds\"].rank(ascending=False)\n",
    "userTimes.plot(x=\"duration_rank\", y=\"duration_seconds\")\n",
    "plt.xlabel(\"game session\")\n",
    "plt.ylabel(\"time played (s)\")\n",
    "plt.legend('')\n",
    "plt.xlim(0, 139)\n",
    "plt.ylim(0, maxDuration)"
   ]
  },
  {
   "cell_type": "code",
   "execution_count": 26,
   "metadata": {
    "collapsed": false
   },
   "outputs": [
    {
     "data": {
      "text/html": [
       "<div>\n",
       "<table border=\"1\" class=\"dataframe\">\n",
       "  <thead>\n",
       "    <tr style=\"text-align: right;\">\n",
       "      <th></th>\n",
       "      <th>userTime</th>\n",
       "    </tr>\n",
       "    <tr>\n",
       "      <th>section</th>\n",
       "      <th></th>\n",
       "    </tr>\n",
       "  </thead>\n",
       "  <tbody>\n",
       "    <tr>\n",
       "      <th>tutorial1.Checkpoint00</th>\n",
       "      <td>2017-04-12T09:32:37.505Z</td>\n",
       "    </tr>\n",
       "    <tr>\n",
       "      <th>tutorial1.Checkpoint01</th>\n",
       "      <td>2017-04-12T09:34:03.736Z</td>\n",
       "    </tr>\n",
       "    <tr>\n",
       "      <th>tutorial1.Checkpoint02</th>\n",
       "      <td>2017-04-27T15:05:50.107Z</td>\n",
       "    </tr>\n",
       "    <tr>\n",
       "      <th>tutorial1.Checkpoint03</th>\n",
       "      <td>2017-05-13T07:21:42.528Z</td>\n",
       "    </tr>\n",
       "    <tr>\n",
       "      <th>tutorial1.Checkpoint04</th>\n",
       "      <td>2017-05-13T07:22:57.587Z</td>\n",
       "    </tr>\n",
       "    <tr>\n",
       "      <th>tutorial1.Checkpoint05</th>\n",
       "      <td>2017-05-13T07:32:41.399Z</td>\n",
       "    </tr>\n",
       "    <tr>\n",
       "      <th>tutorial1.Checkpoint06</th>\n",
       "      <td>2017-05-02T10:38:18.711Z</td>\n",
       "    </tr>\n",
       "    <tr>\n",
       "      <th>tutorial1.Checkpoint07</th>\n",
       "      <td>2017-05-13T07:37:44.347Z</td>\n",
       "    </tr>\n",
       "    <tr>\n",
       "      <th>tutorial1.Checkpoint08</th>\n",
       "      <td>2017-05-13T07:42:20.736Z</td>\n",
       "    </tr>\n",
       "    <tr>\n",
       "      <th>tutorial1.Checkpoint09</th>\n",
       "      <td>2017-05-13T07:43:41.600Z</td>\n",
       "    </tr>\n",
       "    <tr>\n",
       "      <th>tutorial1.Checkpoint10</th>\n",
       "      <td>2017-05-13T07:45:31.378Z</td>\n",
       "    </tr>\n",
       "    <tr>\n",
       "      <th>tutorial1.Checkpoint11</th>\n",
       "      <td>2017-05-13T09:14:09.318Z</td>\n",
       "    </tr>\n",
       "    <tr>\n",
       "      <th>tutorial1.Checkpoint12</th>\n",
       "      <td>2017-05-13T09:15:01.564Z</td>\n",
       "    </tr>\n",
       "    <tr>\n",
       "      <th>tutorial1.Checkpoint13</th>\n",
       "      <td>2017-05-13T09:18:21.602Z</td>\n",
       "    </tr>\n",
       "    <tr>\n",
       "      <th>tutorial1.Checkpoint14</th>\n",
       "      <td>2017-05-13T09:34:38.759Z</td>\n",
       "    </tr>\n",
       "  </tbody>\n",
       "</table>\n",
       "</div>"
      ],
      "text/plain": [
       "                                        userTime\n",
       "section                                         \n",
       "tutorial1.Checkpoint00  2017-04-12T09:32:37.505Z\n",
       "tutorial1.Checkpoint01  2017-04-12T09:34:03.736Z\n",
       "tutorial1.Checkpoint02  2017-04-27T15:05:50.107Z\n",
       "tutorial1.Checkpoint03  2017-05-13T07:21:42.528Z\n",
       "tutorial1.Checkpoint04  2017-05-13T07:22:57.587Z\n",
       "tutorial1.Checkpoint05  2017-05-13T07:32:41.399Z\n",
       "tutorial1.Checkpoint06  2017-05-02T10:38:18.711Z\n",
       "tutorial1.Checkpoint07  2017-05-13T07:37:44.347Z\n",
       "tutorial1.Checkpoint08  2017-05-13T07:42:20.736Z\n",
       "tutorial1.Checkpoint09  2017-05-13T07:43:41.600Z\n",
       "tutorial1.Checkpoint10  2017-05-13T07:45:31.378Z\n",
       "tutorial1.Checkpoint11  2017-05-13T09:14:09.318Z\n",
       "tutorial1.Checkpoint12  2017-05-13T09:15:01.564Z\n",
       "tutorial1.Checkpoint13  2017-05-13T09:18:21.602Z\n",
       "tutorial1.Checkpoint14  2017-05-13T09:34:38.759Z"
      ]
     },
     "execution_count": 26,
     "metadata": {},
     "output_type": "execute_result"
    }
   ],
   "source": [
    "userTimedSections = userSections.groupby(\"section\").agg({ \"userTime\": np.min })\n",
    "userTimedSections"
   ]
  },
  {
   "cell_type": "code",
   "execution_count": 27,
   "metadata": {
    "collapsed": false
   },
   "outputs": [
    {
     "data": {
      "text/html": [
       "<div>\n",
       "<table border=\"1\" class=\"dataframe\">\n",
       "  <thead>\n",
       "    <tr style=\"text-align: right;\">\n",
       "      <th></th>\n",
       "      <th>userTime</th>\n",
       "      <th>firstReached</th>\n",
       "    </tr>\n",
       "    <tr>\n",
       "      <th>section</th>\n",
       "      <th></th>\n",
       "      <th></th>\n",
       "    </tr>\n",
       "  </thead>\n",
       "  <tbody>\n",
       "    <tr>\n",
       "      <th>tutorial1.Checkpoint00</th>\n",
       "      <td>2017-04-12T09:32:37.505Z</td>\n",
       "      <td>2017-04-12 09:32:37.505</td>\n",
       "    </tr>\n",
       "    <tr>\n",
       "      <th>tutorial1.Checkpoint01</th>\n",
       "      <td>2017-04-12T09:34:03.736Z</td>\n",
       "      <td>2017-04-12 09:34:03.736</td>\n",
       "    </tr>\n",
       "    <tr>\n",
       "      <th>tutorial1.Checkpoint02</th>\n",
       "      <td>2017-04-27T15:05:50.107Z</td>\n",
       "      <td>2017-04-27 15:05:50.107</td>\n",
       "    </tr>\n",
       "    <tr>\n",
       "      <th>tutorial1.Checkpoint03</th>\n",
       "      <td>2017-05-13T07:21:42.528Z</td>\n",
       "      <td>2017-05-13 07:21:42.528</td>\n",
       "    </tr>\n",
       "    <tr>\n",
       "      <th>tutorial1.Checkpoint04</th>\n",
       "      <td>2017-05-13T07:22:57.587Z</td>\n",
       "      <td>2017-05-13 07:22:57.587</td>\n",
       "    </tr>\n",
       "  </tbody>\n",
       "</table>\n",
       "</div>"
      ],
      "text/plain": [
       "                                        userTime            firstReached\n",
       "section                                                                 \n",
       "tutorial1.Checkpoint00  2017-04-12T09:32:37.505Z 2017-04-12 09:32:37.505\n",
       "tutorial1.Checkpoint01  2017-04-12T09:34:03.736Z 2017-04-12 09:34:03.736\n",
       "tutorial1.Checkpoint02  2017-04-27T15:05:50.107Z 2017-04-27 15:05:50.107\n",
       "tutorial1.Checkpoint03  2017-05-13T07:21:42.528Z 2017-05-13 07:21:42.528\n",
       "tutorial1.Checkpoint04  2017-05-13T07:22:57.587Z 2017-05-13 07:22:57.587"
      ]
     },
     "execution_count": 27,
     "metadata": {},
     "output_type": "execute_result"
    }
   ],
   "source": [
    "userTimedSections[\"firstReached\"] = pd.to_datetime(userTimedSections[\"userTime\"])\n",
    "userTimedSections.head()"
   ]
  },
  {
   "cell_type": "code",
   "execution_count": 28,
   "metadata": {
    "collapsed": false
   },
   "outputs": [
    {
     "data": {
      "text/html": [
       "<div>\n",
       "<table border=\"1\" class=\"dataframe\">\n",
       "  <thead>\n",
       "    <tr style=\"text-align: right;\">\n",
       "      <th></th>\n",
       "      <th>userTime</th>\n",
       "      <th>firstReached</th>\n",
       "    </tr>\n",
       "    <tr>\n",
       "      <th>section</th>\n",
       "      <th></th>\n",
       "      <th></th>\n",
       "    </tr>\n",
       "  </thead>\n",
       "  <tbody>\n",
       "    <tr>\n",
       "      <th>tutorial1.Checkpoint00</th>\n",
       "      <td>2017-04-12T09:32:37.505Z</td>\n",
       "      <td>2017-04-12 09:32:37.505</td>\n",
       "    </tr>\n",
       "    <tr>\n",
       "      <th>tutorial1.Checkpoint01</th>\n",
       "      <td>2017-04-12T09:34:03.736Z</td>\n",
       "      <td>2017-04-12 09:34:03.736</td>\n",
       "    </tr>\n",
       "    <tr>\n",
       "      <th>tutorial1.Checkpoint02</th>\n",
       "      <td>2017-04-27T15:05:50.107Z</td>\n",
       "      <td>2017-04-27 15:05:50.107</td>\n",
       "    </tr>\n",
       "    <tr>\n",
       "      <th>tutorial1.Checkpoint03</th>\n",
       "      <td>2017-05-13T07:21:42.528Z</td>\n",
       "      <td>2017-05-13 07:21:42.528</td>\n",
       "    </tr>\n",
       "    <tr>\n",
       "      <th>tutorial1.Checkpoint04</th>\n",
       "      <td>2017-05-13T07:22:57.587Z</td>\n",
       "      <td>2017-05-13 07:22:57.587</td>\n",
       "    </tr>\n",
       "  </tbody>\n",
       "</table>\n",
       "</div>"
      ],
      "text/plain": [
       "                                        userTime            firstReached\n",
       "section                                                                 \n",
       "tutorial1.Checkpoint00  2017-04-12T09:32:37.505Z 2017-04-12 09:32:37.505\n",
       "tutorial1.Checkpoint01  2017-04-12T09:34:03.736Z 2017-04-12 09:34:03.736\n",
       "tutorial1.Checkpoint02  2017-04-27T15:05:50.107Z 2017-04-27 15:05:50.107\n",
       "tutorial1.Checkpoint03  2017-05-13T07:21:42.528Z 2017-05-13 07:21:42.528\n",
       "tutorial1.Checkpoint04  2017-05-13T07:22:57.587Z 2017-05-13 07:22:57.587"
      ]
     },
     "execution_count": 28,
     "metadata": {},
     "output_type": "execute_result"
    }
   ],
   "source": [
    "userTimedSections.drop('userTime', 1)\n",
    "userTimedSections.head()"
   ]
  },
  {
   "cell_type": "code",
   "execution_count": 29,
   "metadata": {
    "collapsed": false
   },
   "outputs": [
    {
     "data": {
      "text/html": [
       "<div>\n",
       "<table border=\"1\" class=\"dataframe\">\n",
       "  <thead>\n",
       "    <tr style=\"text-align: right;\">\n",
       "      <th></th>\n",
       "      <th>userTime</th>\n",
       "      <th>firstReached</th>\n",
       "      <th>firstCompletionDuration</th>\n",
       "    </tr>\n",
       "    <tr>\n",
       "      <th>section</th>\n",
       "      <th></th>\n",
       "      <th></th>\n",
       "      <th></th>\n",
       "    </tr>\n",
       "  </thead>\n",
       "  <tbody>\n",
       "    <tr>\n",
       "      <th>tutorial1.Checkpoint00</th>\n",
       "      <td>2017-04-12T09:32:37.505Z</td>\n",
       "      <td>2017-04-12 09:32:37.505</td>\n",
       "      <td>NaT</td>\n",
       "    </tr>\n",
       "    <tr>\n",
       "      <th>tutorial1.Checkpoint01</th>\n",
       "      <td>2017-04-12T09:34:03.736Z</td>\n",
       "      <td>2017-04-12 09:34:03.736</td>\n",
       "      <td>0 days 00:01:26.231000</td>\n",
       "    </tr>\n",
       "    <tr>\n",
       "      <th>tutorial1.Checkpoint02</th>\n",
       "      <td>2017-04-27T15:05:50.107Z</td>\n",
       "      <td>2017-04-27 15:05:50.107</td>\n",
       "      <td>15 days 05:31:46.371000</td>\n",
       "    </tr>\n",
       "    <tr>\n",
       "      <th>tutorial1.Checkpoint03</th>\n",
       "      <td>2017-05-13T07:21:42.528Z</td>\n",
       "      <td>2017-05-13 07:21:42.528</td>\n",
       "      <td>15 days 16:15:52.421000</td>\n",
       "    </tr>\n",
       "    <tr>\n",
       "      <th>tutorial1.Checkpoint04</th>\n",
       "      <td>2017-05-13T07:22:57.587Z</td>\n",
       "      <td>2017-05-13 07:22:57.587</td>\n",
       "      <td>0 days 00:01:15.059000</td>\n",
       "    </tr>\n",
       "  </tbody>\n",
       "</table>\n",
       "</div>"
      ],
      "text/plain": [
       "                                        userTime            firstReached  \\\n",
       "section                                                                    \n",
       "tutorial1.Checkpoint00  2017-04-12T09:32:37.505Z 2017-04-12 09:32:37.505   \n",
       "tutorial1.Checkpoint01  2017-04-12T09:34:03.736Z 2017-04-12 09:34:03.736   \n",
       "tutorial1.Checkpoint02  2017-04-27T15:05:50.107Z 2017-04-27 15:05:50.107   \n",
       "tutorial1.Checkpoint03  2017-05-13T07:21:42.528Z 2017-05-13 07:21:42.528   \n",
       "tutorial1.Checkpoint04  2017-05-13T07:22:57.587Z 2017-05-13 07:22:57.587   \n",
       "\n",
       "                        firstCompletionDuration  \n",
       "section                                          \n",
       "tutorial1.Checkpoint00                      NaT  \n",
       "tutorial1.Checkpoint01   0 days 00:01:26.231000  \n",
       "tutorial1.Checkpoint02  15 days 05:31:46.371000  \n",
       "tutorial1.Checkpoint03  15 days 16:15:52.421000  \n",
       "tutorial1.Checkpoint04   0 days 00:01:15.059000  "
      ]
     },
     "execution_count": 29,
     "metadata": {},
     "output_type": "execute_result"
    }
   ],
   "source": [
    "userTimedSections[\"firstCompletionDuration\"] = userTimedSections[\"firstReached\"].diff()\n",
    "userTimedSections.head()"
   ]
  },
  {
   "cell_type": "code",
   "execution_count": null,
   "metadata": {
    "collapsed": true
   },
   "outputs": [],
   "source": []
  },
  {
   "cell_type": "code",
   "execution_count": null,
   "metadata": {
    "collapsed": false
   },
   "outputs": [],
   "source": [
    "\n",
    "\n",
    "\n",
    "\n"
   ]
  },
  {
   "cell_type": "code",
   "execution_count": null,
   "metadata": {
    "collapsed": true
   },
   "outputs": [],
   "source": []
  }
 ],
 "metadata": {
  "kernelspec": {
   "display_name": "Python 2",
   "language": "python",
   "name": "python2"
  },
  "language_info": {
   "codemirror_mode": {
    "name": "ipython",
    "version": 2
   },
   "file_extension": ".py",
   "mimetype": "text/x-python",
   "name": "python",
   "nbconvert_exporter": "python",
   "pygments_lexer": "ipython2",
   "version": "2.7.10"
  }
 },
 "nbformat": 4,
 "nbformat_minor": 0
}
