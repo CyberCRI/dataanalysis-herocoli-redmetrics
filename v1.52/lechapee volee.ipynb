{
 "cells": [
  {
   "cell_type": "code",
   "execution_count": 274,
   "metadata": {
    "collapsed": false
   },
   "outputs": [],
   "source": [
    "%matplotlib inline\n",
    "\n",
    "import numpy as np\n",
    "import pandas as pd\n",
    "import matplotlib.pyplot as plt \n",
    "import seaborn as sns"
   ]
  },
  {
   "cell_type": "code",
   "execution_count": 275,
   "metadata": {
    "collapsed": false
   },
   "outputs": [],
   "source": [
    "df152 = pd.read_csv(\"data/1.52.csv\")\n",
    "\n",
    "relevantColumns = ['id', 'playerId', 'serverTime', 'customData.localplayerguid']\n",
    "\n",
    "part152 = df152.loc[:,relevantColumns]\n",
    "\n",
    "df = part152"
   ]
  },
  {
   "cell_type": "markdown",
   "metadata": {},
   "source": [
    "## checks"
   ]
  },
  {
   "cell_type": "code",
   "execution_count": 276,
   "metadata": {
    "collapsed": false
   },
   "outputs": [
    {
     "data": {
      "text/plain": [
       "u'0.17.0'"
      ]
     },
     "execution_count": 276,
     "metadata": {},
     "output_type": "execute_result"
    }
   ],
   "source": [
    "pd.__version__"
   ]
  },
  {
   "cell_type": "code",
   "execution_count": 277,
   "metadata": {
    "collapsed": false
   },
   "outputs": [
    {
     "data": {
      "text/plain": [
       "'1.10.1'"
      ]
     },
     "execution_count": 277,
     "metadata": {},
     "output_type": "execute_result"
    }
   ],
   "source": [
    "np.__version__"
   ]
  },
  {
   "cell_type": "markdown",
   "metadata": {},
   "source": [
    "## Filter out by date"
   ]
  },
  {
   "cell_type": "code",
   "execution_count": 278,
   "metadata": {
    "collapsed": true
   },
   "outputs": [],
   "source": [
    "startTime = \"2017-05-13T09:30:00.000Z\"\n",
    "endTime = \"2017-05-13T17:10:00.000Z\"\n",
    "\n",
    "df = df[(df['serverTime'] > startTime) & (df['serverTime'] < endTime)]"
   ]
  },
  {
   "cell_type": "markdown",
   "metadata": {},
   "source": [
    "## Unique Game Sessions"
   ]
  },
  {
   "cell_type": "markdown",
   "metadata": {},
   "source": [
    "Number of unique game sessions"
   ]
  },
  {
   "cell_type": "code",
   "execution_count": 279,
   "metadata": {
    "collapsed": false
   },
   "outputs": [
    {
     "data": {
      "text/plain": [
       "21"
      ]
     },
     "execution_count": 279,
     "metadata": {},
     "output_type": "execute_result"
    }
   ],
   "source": [
    "playerscount = df[\"playerId\"].nunique()\n",
    "playerscount"
   ]
  },
  {
   "cell_type": "markdown",
   "metadata": {},
   "source": [
    "Number of unique devices ids"
   ]
  },
  {
   "cell_type": "code",
   "execution_count": 280,
   "metadata": {
    "collapsed": false
   },
   "outputs": [
    {
     "data": {
      "text/plain": [
       "array(['\"a4d4b030-9117-4331-ba48-90dc05a7e65a\"',\n",
       "       '\"d6826fd9-a6fc-4046-b974-68e50576183f\"', 'null',\n",
       "       '\"a8ba2b83-c911-489c-98be-5fde646c46de\"',\n",
       "       '\"7cece567-45d0-42e7-9870-3f83fb7de271\"',\n",
       "       '\"9880ce9d-c6fc-476e-98a9-a9e8c8f7fcdc\"'], dtype=object)"
      ]
     },
     "execution_count": 280,
     "metadata": {},
     "output_type": "execute_result"
    }
   ],
   "source": [
    "localPlayerGuids = df.loc[:,['playerId', 'customData.localplayerguid']]\n",
    "localPlayerGuids.columns= ['id', 'guid']\n",
    "localPlayerGuids = localPlayerGuids[localPlayerGuids['guid'].notnull()]\n",
    "localPlayerGuids = localPlayerGuids['guid']\n",
    "localPlayerGuids.nunique()\n",
    "localPlayerGuids.unique()"
   ]
  },
  {
   "cell_type": "markdown",
   "metadata": {},
   "source": [
    "## Duration"
   ]
  },
  {
   "cell_type": "markdown",
   "metadata": {},
   "source": [
    "Duration of playing sessions"
   ]
  },
  {
   "cell_type": "code",
   "execution_count": 281,
   "metadata": {
    "collapsed": false,
    "scrolled": false
   },
   "outputs": [
    {
     "data": {
      "text/html": [
       "<div>\n",
       "<table border=\"1\" class=\"dataframe\">\n",
       "  <thead>\n",
       "    <tr>\n",
       "      <th></th>\n",
       "      <th colspan=\"2\" halign=\"left\">serverTime</th>\n",
       "      <th>duration</th>\n",
       "    </tr>\n",
       "    <tr>\n",
       "      <th></th>\n",
       "      <th>amin</th>\n",
       "      <th>amax</th>\n",
       "      <th></th>\n",
       "    </tr>\n",
       "    <tr>\n",
       "      <th>playerId</th>\n",
       "      <th></th>\n",
       "      <th></th>\n",
       "      <th></th>\n",
       "    </tr>\n",
       "  </thead>\n",
       "  <tbody>\n",
       "    <tr>\n",
       "      <th>7ef560b8-d2c9-43a6-8d12-3abd0ed39998</th>\n",
       "      <td>2017-05-13T12:33:03.219Z</td>\n",
       "      <td>2017-05-13T14:59:45.081Z</td>\n",
       "      <td>02:26:41</td>\n",
       "    </tr>\n",
       "    <tr>\n",
       "      <th>487c3935-7ffe-4322-b418-f8a7ddd7e846</th>\n",
       "      <td>2017-05-13T12:24:11.887Z</td>\n",
       "      <td>2017-05-13T13:58:33.580Z</td>\n",
       "      <td>01:34:21</td>\n",
       "    </tr>\n",
       "    <tr>\n",
       "      <th>fe44a73c-2a17-4efe-9013-aced4670a601</th>\n",
       "      <td>2017-05-13T09:56:07.637Z</td>\n",
       "      <td>2017-05-13T11:13:30.061Z</td>\n",
       "      <td>01:17:22</td>\n",
       "    </tr>\n",
       "    <tr>\n",
       "      <th>0ea607ab-365d-4961-a5c2-bda66bb9ae0f</th>\n",
       "      <td>2017-05-13T09:55:56.721Z</td>\n",
       "      <td>2017-05-13T10:37:50.900Z</td>\n",
       "      <td>00:41:54</td>\n",
       "    </tr>\n",
       "    <tr>\n",
       "      <th>5410ba5e-6abe-4367-809b-ae80f5a6d2aa</th>\n",
       "      <td>2017-05-13T14:07:09.810Z</td>\n",
       "      <td>2017-05-13T14:47:01.512Z</td>\n",
       "      <td>00:39:51</td>\n",
       "    </tr>\n",
       "  </tbody>\n",
       "</table>\n",
       "</div>"
      ],
      "text/plain": [
       "                                                    serverTime  \\\n",
       "                                                          amin   \n",
       "playerId                                                         \n",
       "7ef560b8-d2c9-43a6-8d12-3abd0ed39998  2017-05-13T12:33:03.219Z   \n",
       "487c3935-7ffe-4322-b418-f8a7ddd7e846  2017-05-13T12:24:11.887Z   \n",
       "fe44a73c-2a17-4efe-9013-aced4670a601  2017-05-13T09:56:07.637Z   \n",
       "0ea607ab-365d-4961-a5c2-bda66bb9ae0f  2017-05-13T09:55:56.721Z   \n",
       "5410ba5e-6abe-4367-809b-ae80f5a6d2aa  2017-05-13T14:07:09.810Z   \n",
       "\n",
       "                                                               duration  \n",
       "                                                          amax           \n",
       "playerId                                                                 \n",
       "7ef560b8-d2c9-43a6-8d12-3abd0ed39998  2017-05-13T14:59:45.081Z 02:26:41  \n",
       "487c3935-7ffe-4322-b418-f8a7ddd7e846  2017-05-13T13:58:33.580Z 01:34:21  \n",
       "fe44a73c-2a17-4efe-9013-aced4670a601  2017-05-13T11:13:30.061Z 01:17:22  \n",
       "0ea607ab-365d-4961-a5c2-bda66bb9ae0f  2017-05-13T10:37:50.900Z 00:41:54  \n",
       "5410ba5e-6abe-4367-809b-ae80f5a6d2aa  2017-05-13T14:47:01.512Z 00:39:51  "
      ]
     },
     "execution_count": 281,
     "metadata": {},
     "output_type": "execute_result"
    }
   ],
   "source": [
    "durations = df.groupby(\"playerId\").agg({ \"serverTime\": [ np.min, np.max  ] })\n",
    "durations[\"duration\"] = pd.to_datetime(durations[\"serverTime\"][\"amax\"]) - pd.to_datetime(durations[\"serverTime\"][\"amin\"])\n",
    "durations[\"duration\"] = durations[\"duration\"].map(lambda x: np.timedelta64(x, 's'))\n",
    "durations = durations.sort_values(by=['duration'], ascending=[False])\n",
    "durations.head()"
   ]
  },
  {
   "cell_type": "markdown",
   "metadata": {},
   "source": [
    "Duration plot"
   ]
  },
  {
   "cell_type": "code",
   "execution_count": 282,
   "metadata": {
    "collapsed": false
   },
   "outputs": [
    {
     "data": {
      "text/html": [
       "<div>\n",
       "<table border=\"1\" class=\"dataframe\">\n",
       "  <thead>\n",
       "    <tr>\n",
       "      <th></th>\n",
       "      <th colspan=\"2\" halign=\"left\">serverTime</th>\n",
       "      <th>duration</th>\n",
       "      <th>duration_seconds</th>\n",
       "      <th>duration_rank</th>\n",
       "    </tr>\n",
       "    <tr>\n",
       "      <th></th>\n",
       "      <th>amin</th>\n",
       "      <th>amax</th>\n",
       "      <th></th>\n",
       "      <th></th>\n",
       "      <th></th>\n",
       "    </tr>\n",
       "    <tr>\n",
       "      <th>playerId</th>\n",
       "      <th></th>\n",
       "      <th></th>\n",
       "      <th></th>\n",
       "      <th></th>\n",
       "      <th></th>\n",
       "    </tr>\n",
       "  </thead>\n",
       "  <tbody>\n",
       "    <tr>\n",
       "      <th>5410ba5e-6abe-4367-809b-ae80f5a6d2aa</th>\n",
       "      <td>2017-05-13T14:07:09.810Z</td>\n",
       "      <td>2017-05-13T14:47:01.512Z</td>\n",
       "      <td>00:39:51</td>\n",
       "      <td>2391</td>\n",
       "      <td>1</td>\n",
       "    </tr>\n",
       "    <tr>\n",
       "      <th>ad1d5579-323d-41ef-9bb6-2e6d84bae6db</th>\n",
       "      <td>2017-05-13T11:18:04.076Z</td>\n",
       "      <td>2017-05-13T11:56:13.042Z</td>\n",
       "      <td>00:38:08</td>\n",
       "      <td>2288</td>\n",
       "      <td>2</td>\n",
       "    </tr>\n",
       "    <tr>\n",
       "      <th>3b503d64-c6e8-430a-a158-3eaa59eb3172</th>\n",
       "      <td>2017-05-13T14:03:51.712Z</td>\n",
       "      <td>2017-05-13T14:38:50.347Z</td>\n",
       "      <td>00:34:58</td>\n",
       "      <td>2098</td>\n",
       "      <td>3</td>\n",
       "    </tr>\n",
       "    <tr>\n",
       "      <th>88059bd1-fb24-4df8-9c47-248d5670a260</th>\n",
       "      <td>2017-05-13T11:58:52.829Z</td>\n",
       "      <td>2017-05-13T12:31:47.300Z</td>\n",
       "      <td>00:32:54</td>\n",
       "      <td>1974</td>\n",
       "      <td>4</td>\n",
       "    </tr>\n",
       "    <tr>\n",
       "      <th>2aea4736-0423-4fe0-93e3-a6b4958a9a8c</th>\n",
       "      <td>2017-05-13T09:31:45.660Z</td>\n",
       "      <td>2017-05-13T09:55:18.085Z</td>\n",
       "      <td>00:23:32</td>\n",
       "      <td>1412</td>\n",
       "      <td>5</td>\n",
       "    </tr>\n",
       "  </tbody>\n",
       "</table>\n",
       "</div>"
      ],
      "text/plain": [
       "                                                    serverTime  \\\n",
       "                                                          amin   \n",
       "playerId                                                         \n",
       "5410ba5e-6abe-4367-809b-ae80f5a6d2aa  2017-05-13T14:07:09.810Z   \n",
       "ad1d5579-323d-41ef-9bb6-2e6d84bae6db  2017-05-13T11:18:04.076Z   \n",
       "3b503d64-c6e8-430a-a158-3eaa59eb3172  2017-05-13T14:03:51.712Z   \n",
       "88059bd1-fb24-4df8-9c47-248d5670a260  2017-05-13T11:58:52.829Z   \n",
       "2aea4736-0423-4fe0-93e3-a6b4958a9a8c  2017-05-13T09:31:45.660Z   \n",
       "\n",
       "                                                               duration  \\\n",
       "                                                          amax            \n",
       "playerId                                                                  \n",
       "5410ba5e-6abe-4367-809b-ae80f5a6d2aa  2017-05-13T14:47:01.512Z 00:39:51   \n",
       "ad1d5579-323d-41ef-9bb6-2e6d84bae6db  2017-05-13T11:56:13.042Z 00:38:08   \n",
       "3b503d64-c6e8-430a-a158-3eaa59eb3172  2017-05-13T14:38:50.347Z 00:34:58   \n",
       "88059bd1-fb24-4df8-9c47-248d5670a260  2017-05-13T12:31:47.300Z 00:32:54   \n",
       "2aea4736-0423-4fe0-93e3-a6b4958a9a8c  2017-05-13T09:55:18.085Z 00:23:32   \n",
       "\n",
       "                                     duration_seconds duration_rank  \n",
       "                                                                     \n",
       "playerId                                                             \n",
       "5410ba5e-6abe-4367-809b-ae80f5a6d2aa             2391             1  \n",
       "ad1d5579-323d-41ef-9bb6-2e6d84bae6db             2288             2  \n",
       "3b503d64-c6e8-430a-a158-3eaa59eb3172             2098             3  \n",
       "88059bd1-fb24-4df8-9c47-248d5670a260             1974             4  \n",
       "2aea4736-0423-4fe0-93e3-a6b4958a9a8c             1412             5  "
      ]
     },
     "execution_count": 282,
     "metadata": {},
     "output_type": "execute_result"
    },
    {
     "data": {
      "image/png": "[encoded data removed]",
      "text/plain": [
       "<matplotlib.figure.Figure at 0x10c019a90>"
      ]
     },
     "metadata": {},
     "output_type": "display_data"
    }
   ],
   "source": [
    "durations.loc[:,'duration']\n",
    "durations = durations[4:]\n",
    "durations[\"duration_seconds\"] = durations[\"duration\"].map(lambda x: pd.Timedelta(x).seconds)\n",
    "maxDuration = np.max(durations[\"duration_seconds\"])\n",
    "durations[\"duration_rank\"] = durations[\"duration_seconds\"].rank(ascending=False)\n",
    "durations.plot(x=\"duration_rank\", y=\"duration_seconds\")\n",
    "plt.xlabel(\"game session\")\n",
    "plt.ylabel(\"time played (min)\")\n",
    "plt.legend('')\n",
    "plt.xlim(0, playerscount)\n",
    "plt.ylim(0, maxDuration)\n",
    "durations[\"duration_seconds\"].describe()\n",
    "durations.head()"
   ]
  }
 ],
 "metadata": {
  "kernelspec": {
   "display_name": "Python 2",
   "language": "python",
   "name": "python2"
  },
  "language_info": {
   "codemirror_mode": {
    "name": "ipython",
    "version": 2
   },
   "file_extension": ".py",
   "mimetype": "text/x-python",
   "name": "python",
   "nbconvert_exporter": "python",
   "pygments_lexer": "ipython2",
   "version": "2.7.10"
  }
 },
 "nbformat": 4,
 "nbformat_minor": 0
}
