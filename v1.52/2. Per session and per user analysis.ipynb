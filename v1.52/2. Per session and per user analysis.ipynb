{
 "cells": [
  {
   "cell_type": "markdown",
   "metadata": {},
   "source": [
    "# Preparation"
   ]
  },
  {
   "cell_type": "code",
   "execution_count": 140,
   "metadata": {
    "collapsed": false
   },
   "outputs": [],
   "source": [
    "%run Utilities/Preparation.ipynb\n",
    "df152 = pd.read_csv(\"../data/2017-09-05.1.52.csv\")\n",
    "df152 = df152.rename(index=str, columns={'playerId': 'sessionId'})"
   ]
  },
  {
   "cell_type": "markdown",
   "metadata": {},
   "source": [
    "# Per-session analysis"
   ]
  },
  {
   "cell_type": "code",
   "execution_count": 141,
   "metadata": {
    "collapsed": false
   },
   "outputs": [
    {
     "data": {
      "text/html": [
       "<div>\n",
       "<table border=\"1\" class=\"dataframe\">\n",
       "  <thead>\n",
       "    <tr style=\"text-align: right;\">\n",
       "      <th></th>\n",
       "      <th>sessionId</th>\n",
       "      <th>serverTime</th>\n",
       "      <th>section</th>\n",
       "    </tr>\n",
       "  </thead>\n",
       "  <tbody>\n",
       "    <tr>\n",
       "      <th>21777</th>\n",
       "      <td>fab3ea03-6ff1-483f-a90a-74ff47d0b556</td>\n",
       "      <td>2017-08-22T22:05:18.293Z</td>\n",
       "      <td>tutorial1.Checkpoint00</td>\n",
       "    </tr>\n",
       "    <tr>\n",
       "      <th>21783</th>\n",
       "      <td>fab3ea03-6ff1-483f-a90a-74ff47d0b556</td>\n",
       "      <td>2017-08-22T22:08:17.799Z</td>\n",
       "      <td>tutorial1.Checkpoint01</td>\n",
       "    </tr>\n",
       "    <tr>\n",
       "      <th>21798</th>\n",
       "      <td>fab3ea03-6ff1-483f-a90a-74ff47d0b556</td>\n",
       "      <td>2017-08-22T22:13:28.227Z</td>\n",
       "      <td>tutorial1.Checkpoint02</td>\n",
       "    </tr>\n",
       "    <tr>\n",
       "      <th>21803</th>\n",
       "      <td>fab3ea03-6ff1-483f-a90a-74ff47d0b556</td>\n",
       "      <td>2017-08-22T22:15:27.959Z</td>\n",
       "      <td>tutorial1.Checkpoint03</td>\n",
       "    </tr>\n",
       "    <tr>\n",
       "      <th>21809</th>\n",
       "      <td>fab3ea03-6ff1-483f-a90a-74ff47d0b556</td>\n",
       "      <td>2017-08-22T22:16:11.658Z</td>\n",
       "      <td>tutorial1.Checkpoint04</td>\n",
       "    </tr>\n",
       "    <tr>\n",
       "      <th>21822</th>\n",
       "      <td>fab3ea03-6ff1-483f-a90a-74ff47d0b556</td>\n",
       "      <td>2017-08-22T22:19:29.421Z</td>\n",
       "      <td>tutorial1.Checkpoint03</td>\n",
       "    </tr>\n",
       "    <tr>\n",
       "      <th>21823</th>\n",
       "      <td>fab3ea03-6ff1-483f-a90a-74ff47d0b556</td>\n",
       "      <td>2017-08-22T22:19:47.058Z</td>\n",
       "      <td>tutorial1.Checkpoint04</td>\n",
       "    </tr>\n",
       "    <tr>\n",
       "      <th>21824</th>\n",
       "      <td>fab3ea03-6ff1-483f-a90a-74ff47d0b556</td>\n",
       "      <td>2017-08-22T22:20:12.739Z</td>\n",
       "      <td>tutorial1.Checkpoint05</td>\n",
       "    </tr>\n",
       "    <tr>\n",
       "      <th>22065</th>\n",
       "      <td>fab3ea03-6ff1-483f-a90a-74ff47d0b556</td>\n",
       "      <td>2017-08-22T22:34:32.438Z</td>\n",
       "      <td>tutorial1.Checkpoint06</td>\n",
       "    </tr>\n",
       "    <tr>\n",
       "      <th>22081</th>\n",
       "      <td>fab3ea03-6ff1-483f-a90a-74ff47d0b556</td>\n",
       "      <td>2017-08-22T22:37:59.659Z</td>\n",
       "      <td>tutorial1.Checkpoint07</td>\n",
       "    </tr>\n",
       "    <tr>\n",
       "      <th>22186</th>\n",
       "      <td>fab3ea03-6ff1-483f-a90a-74ff47d0b556</td>\n",
       "      <td>2017-08-22T22:45:27.478Z</td>\n",
       "      <td>tutorial1.Checkpoint08</td>\n",
       "    </tr>\n",
       "    <tr>\n",
       "      <th>22192</th>\n",
       "      <td>fab3ea03-6ff1-483f-a90a-74ff47d0b556</td>\n",
       "      <td>2017-08-22T22:46:34.417Z</td>\n",
       "      <td>tutorial1.Checkpoint09</td>\n",
       "    </tr>\n",
       "    <tr>\n",
       "      <th>22196</th>\n",
       "      <td>fab3ea03-6ff1-483f-a90a-74ff47d0b556</td>\n",
       "      <td>2017-08-22T22:47:39.021Z</td>\n",
       "      <td>tutorial1.Checkpoint10</td>\n",
       "    </tr>\n",
       "    <tr>\n",
       "      <th>22199</th>\n",
       "      <td>fab3ea03-6ff1-483f-a90a-74ff47d0b556</td>\n",
       "      <td>2017-08-22T22:47:46.360Z</td>\n",
       "      <td>tutorial1.Checkpoint11</td>\n",
       "    </tr>\n",
       "    <tr>\n",
       "      <th>22201</th>\n",
       "      <td>fab3ea03-6ff1-483f-a90a-74ff47d0b556</td>\n",
       "      <td>2017-08-22T22:48:16.857Z</td>\n",
       "      <td>tutorial1.Checkpoint12</td>\n",
       "    </tr>\n",
       "    <tr>\n",
       "      <th>22282</th>\n",
       "      <td>fab3ea03-6ff1-483f-a90a-74ff47d0b556</td>\n",
       "      <td>2017-08-22T22:53:44.320Z</td>\n",
       "      <td>tutorial1.Checkpoint13</td>\n",
       "    </tr>\n",
       "  </tbody>\n",
       "</table>\n",
       "</div>"
      ],
      "text/plain": [
       "                                  sessionId                serverTime  \\\n",
       "21777  fab3ea03-6ff1-483f-a90a-74ff47d0b556  2017-08-22T22:05:18.293Z   \n",
       "21783  fab3ea03-6ff1-483f-a90a-74ff47d0b556  2017-08-22T22:08:17.799Z   \n",
       "21798  fab3ea03-6ff1-483f-a90a-74ff47d0b556  2017-08-22T22:13:28.227Z   \n",
       "21803  fab3ea03-6ff1-483f-a90a-74ff47d0b556  2017-08-22T22:15:27.959Z   \n",
       "21809  fab3ea03-6ff1-483f-a90a-74ff47d0b556  2017-08-22T22:16:11.658Z   \n",
       "21822  fab3ea03-6ff1-483f-a90a-74ff47d0b556  2017-08-22T22:19:29.421Z   \n",
       "21823  fab3ea03-6ff1-483f-a90a-74ff47d0b556  2017-08-22T22:19:47.058Z   \n",
       "21824  fab3ea03-6ff1-483f-a90a-74ff47d0b556  2017-08-22T22:20:12.739Z   \n",
       "22065  fab3ea03-6ff1-483f-a90a-74ff47d0b556  2017-08-22T22:34:32.438Z   \n",
       "22081  fab3ea03-6ff1-483f-a90a-74ff47d0b556  2017-08-22T22:37:59.659Z   \n",
       "22186  fab3ea03-6ff1-483f-a90a-74ff47d0b556  2017-08-22T22:45:27.478Z   \n",
       "22192  fab3ea03-6ff1-483f-a90a-74ff47d0b556  2017-08-22T22:46:34.417Z   \n",
       "22196  fab3ea03-6ff1-483f-a90a-74ff47d0b556  2017-08-22T22:47:39.021Z   \n",
       "22199  fab3ea03-6ff1-483f-a90a-74ff47d0b556  2017-08-22T22:47:46.360Z   \n",
       "22201  fab3ea03-6ff1-483f-a90a-74ff47d0b556  2017-08-22T22:48:16.857Z   \n",
       "22282  fab3ea03-6ff1-483f-a90a-74ff47d0b556  2017-08-22T22:53:44.320Z   \n",
       "\n",
       "                      section  \n",
       "21777  tutorial1.Checkpoint00  \n",
       "21783  tutorial1.Checkpoint01  \n",
       "21798  tutorial1.Checkpoint02  \n",
       "21803  tutorial1.Checkpoint03  \n",
       "21809  tutorial1.Checkpoint04  \n",
       "21822  tutorial1.Checkpoint03  \n",
       "21823  tutorial1.Checkpoint04  \n",
       "21824  tutorial1.Checkpoint05  \n",
       "22065  tutorial1.Checkpoint06  \n",
       "22081  tutorial1.Checkpoint07  \n",
       "22186  tutorial1.Checkpoint08  \n",
       "22192  tutorial1.Checkpoint09  \n",
       "22196  tutorial1.Checkpoint10  \n",
       "22199  tutorial1.Checkpoint11  \n",
       "22201  tutorial1.Checkpoint12  \n",
       "22282  tutorial1.Checkpoint13  "
      ]
     },
     "execution_count": 141,
     "metadata": {},
     "output_type": "execute_result"
    }
   ],
   "source": [
    "perSessionRelevantColumns = ['sessionId', 'serverTime', 'section']\n",
    "\n",
    "sessionId = \"fab3ea03-6ff1-483f-a90a-74ff47d0b556\"\n",
    "\n",
    "perSession = df152[df152['type']=='reach'].loc[:,perSessionRelevantColumns]\n",
    "perSession = perSession[perSession['sessionId']==sessionId]\n",
    "perSession = perSession[perSession['section'].str.startswith('tutorial', na=False)]\n",
    "perSession"
   ]
  },
  {
   "cell_type": "markdown",
   "metadata": {},
   "source": [
    "# Per user analysis"
   ]
  },
  {
   "cell_type": "code",
   "execution_count": 142,
   "metadata": {
    "collapsed": false
   },
   "outputs": [
    {
     "data": {
      "text/html": [
       "<div>\n",
       "<table border=\"1\" class=\"dataframe\">\n",
       "  <thead>\n",
       "    <tr style=\"text-align: right;\">\n",
       "      <th></th>\n",
       "      <th>customData.localplayerguid</th>\n",
       "      <th>sessionId</th>\n",
       "    </tr>\n",
       "  </thead>\n",
       "  <tbody>\n",
       "    <tr>\n",
       "      <th>count</th>\n",
       "      <td>1</td>\n",
       "      <td>1</td>\n",
       "    </tr>\n",
       "    <tr>\n",
       "      <th>unique</th>\n",
       "      <td>1</td>\n",
       "      <td>1</td>\n",
       "    </tr>\n",
       "    <tr>\n",
       "      <th>top</th>\n",
       "      <td>\"8d352896-a3f1-471c-8439-0f426df901c1\"</td>\n",
       "      <td>8bd5d335-d20e-4db5-9979-feb668ba7c71</td>\n",
       "    </tr>\n",
       "    <tr>\n",
       "      <th>freq</th>\n",
       "      <td>1</td>\n",
       "      <td>1</td>\n",
       "    </tr>\n",
       "  </tbody>\n",
       "</table>\n",
       "</div>"
      ],
      "text/plain": [
       "                    customData.localplayerguid  \\\n",
       "count                                        1   \n",
       "unique                                       1   \n",
       "top     \"8d352896-a3f1-471c-8439-0f426df901c1\"   \n",
       "freq                                         1   \n",
       "\n",
       "                                   sessionId  \n",
       "count                                      1  \n",
       "unique                                     1  \n",
       "top     8bd5d335-d20e-4db5-9979-feb668ba7c71  \n",
       "freq                                       1  "
      ]
     },
     "execution_count": 142,
     "metadata": {},
     "output_type": "execute_result"
    }
   ],
   "source": [
    "sessionListRelevantColumns = ['customData.localplayerguid', 'sessionId']\n",
    "perUserRelevantColumns = ['sessionId', 'serverTime', 'section']\n",
    "\n",
    "# See localPlayerIds in Preparation for instance.\n",
    "#localplayerguid = arcadeCabinetID\n",
    "# Random user.\n",
    "#localplayerguid = '\"0fa88384-3115-4ebd-990d-6bd29214c04f\"'\n",
    "\n",
    "# English-speaking user who answered the questionnaire - cf 'Google form analysis.ipynb'.\n",
    "localplayerguid = '\"8d352896-a3f1-471c-8439-0f426df901c1\"'\n",
    "\n",
    "# List all sessions with this localplayerguid.\n",
    "sessionsList = df152[df152['type']=='start'].loc[:,sessionListRelevantColumns]\n",
    "sessionsList = sessionsList[sessionsList['customData.localplayerguid']==localplayerguid]\n",
    "sessionsList.describe()"
   ]
  },
  {
   "cell_type": "code",
   "execution_count": 143,
   "metadata": {
    "collapsed": false
   },
   "outputs": [
    {
     "data": {
      "text/html": [
       "<div>\n",
       "<table border=\"1\" class=\"dataframe\">\n",
       "  <thead>\n",
       "    <tr style=\"text-align: right;\">\n",
       "      <th></th>\n",
       "      <th>customData.localplayerguid</th>\n",
       "      <th>sessionId</th>\n",
       "    </tr>\n",
       "  </thead>\n",
       "  <tbody>\n",
       "    <tr>\n",
       "      <th>19986</th>\n",
       "      <td>\"8d352896-a3f1-471c-8439-0f426df901c1\"</td>\n",
       "      <td>8bd5d335-d20e-4db5-9979-feb668ba7c71</td>\n",
       "    </tr>\n",
       "  </tbody>\n",
       "</table>\n",
       "</div>"
      ],
      "text/plain": [
       "                   customData.localplayerguid  \\\n",
       "19986  \"8d352896-a3f1-471c-8439-0f426df901c1\"   \n",
       "\n",
       "                                  sessionId  \n",
       "19986  8bd5d335-d20e-4db5-9979-feb668ba7c71  "
      ]
     },
     "execution_count": 143,
     "metadata": {},
     "output_type": "execute_result"
    }
   ],
   "source": [
    "sessionsList"
   ]
  },
  {
   "cell_type": "code",
   "execution_count": 144,
   "metadata": {
    "collapsed": false
   },
   "outputs": [
    {
     "data": {
      "text/html": [
       "<div>\n",
       "<table border=\"1\" class=\"dataframe\">\n",
       "  <thead>\n",
       "    <tr style=\"text-align: right;\">\n",
       "      <th></th>\n",
       "      <th>sessionId</th>\n",
       "      <th>serverTime</th>\n",
       "      <th>section</th>\n",
       "    </tr>\n",
       "  </thead>\n",
       "  <tbody>\n",
       "    <tr>\n",
       "      <th>19988</th>\n",
       "      <td>8bd5d335-d20e-4db5-9979-feb668ba7c71</td>\n",
       "      <td>2017-08-18T14:01:06.876Z</td>\n",
       "      <td>tutorial1.Checkpoint00</td>\n",
       "    </tr>\n",
       "    <tr>\n",
       "      <th>19995</th>\n",
       "      <td>8bd5d335-d20e-4db5-9979-feb668ba7c71</td>\n",
       "      <td>2017-08-18T14:02:17.575Z</td>\n",
       "      <td>tutorial1.Checkpoint01</td>\n",
       "    </tr>\n",
       "    <tr>\n",
       "      <th>20018</th>\n",
       "      <td>8bd5d335-d20e-4db5-9979-feb668ba7c71</td>\n",
       "      <td>2017-08-18T14:09:41.769Z</td>\n",
       "      <td>tutorial1.Checkpoint02</td>\n",
       "    </tr>\n",
       "    <tr>\n",
       "      <th>20023</th>\n",
       "      <td>8bd5d335-d20e-4db5-9979-feb668ba7c71</td>\n",
       "      <td>2017-08-18T14:10:52.544Z</td>\n",
       "      <td>tutorial1.Checkpoint03</td>\n",
       "    </tr>\n",
       "    <tr>\n",
       "      <th>20028</th>\n",
       "      <td>8bd5d335-d20e-4db5-9979-feb668ba7c71</td>\n",
       "      <td>2017-08-18T14:11:04.463Z</td>\n",
       "      <td>tutorial1.Checkpoint04</td>\n",
       "    </tr>\n",
       "  </tbody>\n",
       "</table>\n",
       "</div>"
      ],
      "text/plain": [
       "                                  sessionId                serverTime  \\\n",
       "19988  8bd5d335-d20e-4db5-9979-feb668ba7c71  2017-08-18T14:01:06.876Z   \n",
       "19995  8bd5d335-d20e-4db5-9979-feb668ba7c71  2017-08-18T14:02:17.575Z   \n",
       "20018  8bd5d335-d20e-4db5-9979-feb668ba7c71  2017-08-18T14:09:41.769Z   \n",
       "20023  8bd5d335-d20e-4db5-9979-feb668ba7c71  2017-08-18T14:10:52.544Z   \n",
       "20028  8bd5d335-d20e-4db5-9979-feb668ba7c71  2017-08-18T14:11:04.463Z   \n",
       "\n",
       "                      section  \n",
       "19988  tutorial1.Checkpoint00  \n",
       "19995  tutorial1.Checkpoint01  \n",
       "20018  tutorial1.Checkpoint02  \n",
       "20023  tutorial1.Checkpoint03  \n",
       "20028  tutorial1.Checkpoint04  "
      ]
     },
     "execution_count": 144,
     "metadata": {},
     "output_type": "execute_result"
    }
   ],
   "source": [
    "# List all 'reach' events with those sessionIds.\n",
    "perUser = df152[df152['type']=='reach'].loc[:,perUserRelevantColumns]\n",
    "perUser = perUser[perUser['sessionId'].isin(sessionsList['sessionId'])]\n",
    "perUser = perUser[perUser['section'].str.startswith('tutorial', na=False)]\n",
    "perUser.describe()\n",
    "perUser.head()"
   ]
  },
  {
   "cell_type": "markdown",
   "metadata": {},
   "source": [
    "# Common analysis"
   ]
  },
  {
   "cell_type": "markdown",
   "metadata": {},
   "source": [
    "#### Switch here between users and sessions."
   ]
  },
  {
   "cell_type": "code",
   "execution_count": 145,
   "metadata": {
    "collapsed": true
   },
   "outputs": [],
   "source": [
    "#sectionsList = perSession\n",
    "sectionsList = perUser"
   ]
  },
  {
   "cell_type": "code",
   "execution_count": 146,
   "metadata": {
    "collapsed": false
   },
   "outputs": [
    {
     "data": {
      "text/html": [
       "<div>\n",
       "<table border=\"1\" class=\"dataframe\">\n",
       "  <thead>\n",
       "    <tr style=\"text-align: right;\">\n",
       "      <th></th>\n",
       "      <th>serverTime</th>\n",
       "    </tr>\n",
       "    <tr>\n",
       "      <th>section</th>\n",
       "      <th></th>\n",
       "    </tr>\n",
       "  </thead>\n",
       "  <tbody>\n",
       "    <tr>\n",
       "      <th>tutorial1.Checkpoint00</th>\n",
       "      <td>2017-08-18T14:01:06.876Z</td>\n",
       "    </tr>\n",
       "    <tr>\n",
       "      <th>tutorial1.Checkpoint01</th>\n",
       "      <td>2017-08-18T14:02:17.575Z</td>\n",
       "    </tr>\n",
       "    <tr>\n",
       "      <th>tutorial1.Checkpoint02</th>\n",
       "      <td>2017-08-18T14:09:41.769Z</td>\n",
       "    </tr>\n",
       "    <tr>\n",
       "      <th>tutorial1.Checkpoint03</th>\n",
       "      <td>2017-08-18T14:10:52.544Z</td>\n",
       "    </tr>\n",
       "    <tr>\n",
       "      <th>tutorial1.Checkpoint04</th>\n",
       "      <td>2017-08-18T14:11:04.463Z</td>\n",
       "    </tr>\n",
       "  </tbody>\n",
       "</table>\n",
       "</div>"
      ],
      "text/plain": [
       "                                      serverTime\n",
       "section                                         \n",
       "tutorial1.Checkpoint00  2017-08-18T14:01:06.876Z\n",
       "tutorial1.Checkpoint01  2017-08-18T14:02:17.575Z\n",
       "tutorial1.Checkpoint02  2017-08-18T14:09:41.769Z\n",
       "tutorial1.Checkpoint03  2017-08-18T14:10:52.544Z\n",
       "tutorial1.Checkpoint04  2017-08-18T14:11:04.463Z"
      ]
     },
     "execution_count": 146,
     "metadata": {},
     "output_type": "execute_result"
    }
   ],
   "source": [
    "timedSections = sectionsList.groupby(\"section\").agg({ \"serverTime\": np.min })\n",
    "timedSections.head()"
   ]
  },
  {
   "cell_type": "code",
   "execution_count": 147,
   "metadata": {
    "collapsed": false
   },
   "outputs": [
    {
     "data": {
      "text/html": [
       "<div>\n",
       "<table border=\"1\" class=\"dataframe\">\n",
       "  <thead>\n",
       "    <tr style=\"text-align: right;\">\n",
       "      <th></th>\n",
       "      <th>serverTime</th>\n",
       "      <th>firstReached</th>\n",
       "    </tr>\n",
       "    <tr>\n",
       "      <th>section</th>\n",
       "      <th></th>\n",
       "      <th></th>\n",
       "    </tr>\n",
       "  </thead>\n",
       "  <tbody>\n",
       "    <tr>\n",
       "      <th>tutorial1.Checkpoint00</th>\n",
       "      <td>2017-08-18T14:01:06.876Z</td>\n",
       "      <td>2017-08-18 14:01:06.876</td>\n",
       "    </tr>\n",
       "    <tr>\n",
       "      <th>tutorial1.Checkpoint01</th>\n",
       "      <td>2017-08-18T14:02:17.575Z</td>\n",
       "      <td>2017-08-18 14:02:17.575</td>\n",
       "    </tr>\n",
       "    <tr>\n",
       "      <th>tutorial1.Checkpoint02</th>\n",
       "      <td>2017-08-18T14:09:41.769Z</td>\n",
       "      <td>2017-08-18 14:09:41.769</td>\n",
       "    </tr>\n",
       "    <tr>\n",
       "      <th>tutorial1.Checkpoint03</th>\n",
       "      <td>2017-08-18T14:10:52.544Z</td>\n",
       "      <td>2017-08-18 14:10:52.544</td>\n",
       "    </tr>\n",
       "    <tr>\n",
       "      <th>tutorial1.Checkpoint04</th>\n",
       "      <td>2017-08-18T14:11:04.463Z</td>\n",
       "      <td>2017-08-18 14:11:04.463</td>\n",
       "    </tr>\n",
       "  </tbody>\n",
       "</table>\n",
       "</div>"
      ],
      "text/plain": [
       "                                      serverTime            firstReached\n",
       "section                                                                 \n",
       "tutorial1.Checkpoint00  2017-08-18T14:01:06.876Z 2017-08-18 14:01:06.876\n",
       "tutorial1.Checkpoint01  2017-08-18T14:02:17.575Z 2017-08-18 14:02:17.575\n",
       "tutorial1.Checkpoint02  2017-08-18T14:09:41.769Z 2017-08-18 14:09:41.769\n",
       "tutorial1.Checkpoint03  2017-08-18T14:10:52.544Z 2017-08-18 14:10:52.544\n",
       "tutorial1.Checkpoint04  2017-08-18T14:11:04.463Z 2017-08-18 14:11:04.463"
      ]
     },
     "execution_count": 147,
     "metadata": {},
     "output_type": "execute_result"
    }
   ],
   "source": [
    "timedSections[\"firstReached\"] = pd.to_datetime(timedSections[\"serverTime\"])\n",
    "timedSections.head()"
   ]
  },
  {
   "cell_type": "code",
   "execution_count": 148,
   "metadata": {
    "collapsed": false,
    "scrolled": true
   },
   "outputs": [
    {
     "data": {
      "text/html": [
       "<div>\n",
       "<table border=\"1\" class=\"dataframe\">\n",
       "  <thead>\n",
       "    <tr style=\"text-align: right;\">\n",
       "      <th></th>\n",
       "      <th>serverTime</th>\n",
       "      <th>firstReached</th>\n",
       "      <th>firstCompletionDuration</th>\n",
       "    </tr>\n",
       "    <tr>\n",
       "      <th>section</th>\n",
       "      <th></th>\n",
       "      <th></th>\n",
       "      <th></th>\n",
       "    </tr>\n",
       "  </thead>\n",
       "  <tbody>\n",
       "    <tr>\n",
       "      <th>tutorial1.Checkpoint00</th>\n",
       "      <td>2017-08-18T14:01:06.876Z</td>\n",
       "      <td>2017-08-18 14:01:06.876</td>\n",
       "      <td>NaT</td>\n",
       "    </tr>\n",
       "    <tr>\n",
       "      <th>tutorial1.Checkpoint01</th>\n",
       "      <td>2017-08-18T14:02:17.575Z</td>\n",
       "      <td>2017-08-18 14:02:17.575</td>\n",
       "      <td>00:01:10.699000</td>\n",
       "    </tr>\n",
       "    <tr>\n",
       "      <th>tutorial1.Checkpoint02</th>\n",
       "      <td>2017-08-18T14:09:41.769Z</td>\n",
       "      <td>2017-08-18 14:09:41.769</td>\n",
       "      <td>00:07:24.194000</td>\n",
       "    </tr>\n",
       "    <tr>\n",
       "      <th>tutorial1.Checkpoint03</th>\n",
       "      <td>2017-08-18T14:10:52.544Z</td>\n",
       "      <td>2017-08-18 14:10:52.544</td>\n",
       "      <td>00:01:10.775000</td>\n",
       "    </tr>\n",
       "    <tr>\n",
       "      <th>tutorial1.Checkpoint04</th>\n",
       "      <td>2017-08-18T14:11:04.463Z</td>\n",
       "      <td>2017-08-18 14:11:04.463</td>\n",
       "      <td>00:00:11.919000</td>\n",
       "    </tr>\n",
       "  </tbody>\n",
       "</table>\n",
       "</div>"
      ],
      "text/plain": [
       "                                      serverTime            firstReached  \\\n",
       "section                                                                    \n",
       "tutorial1.Checkpoint00  2017-08-18T14:01:06.876Z 2017-08-18 14:01:06.876   \n",
       "tutorial1.Checkpoint01  2017-08-18T14:02:17.575Z 2017-08-18 14:02:17.575   \n",
       "tutorial1.Checkpoint02  2017-08-18T14:09:41.769Z 2017-08-18 14:09:41.769   \n",
       "tutorial1.Checkpoint03  2017-08-18T14:10:52.544Z 2017-08-18 14:10:52.544   \n",
       "tutorial1.Checkpoint04  2017-08-18T14:11:04.463Z 2017-08-18 14:11:04.463   \n",
       "\n",
       "                        firstCompletionDuration  \n",
       "section                                          \n",
       "tutorial1.Checkpoint00                      NaT  \n",
       "tutorial1.Checkpoint01          00:01:10.699000  \n",
       "tutorial1.Checkpoint02          00:07:24.194000  \n",
       "tutorial1.Checkpoint03          00:01:10.775000  \n",
       "tutorial1.Checkpoint04          00:00:11.919000  "
      ]
     },
     "execution_count": 148,
     "metadata": {},
     "output_type": "execute_result"
    }
   ],
   "source": [
    "timedSections[\"firstCompletionDuration\"] = timedSections[\"firstReached\"].diff()\n",
    "timedSections"
   ]
  },
  {
   "cell_type": "markdown",
   "metadata": {},
   "source": [
    "# Functions\n",
    "<a id=functions />"
   ]
  },
  {
   "cell_type": "markdown",
   "metadata": {},
   "source": [
    "## Comparison between game and Google form performance"
   ]
  },
  {
   "cell_type": "code",
   "execution_count": 149,
   "metadata": {
    "collapsed": false
   },
   "outputs": [],
   "source": [
    "%run '1. Google form analysis.ipynb'"
   ]
  },
  {
   "cell_type": "code",
   "execution_count": 170,
   "metadata": {
    "collapsed": true
   },
   "outputs": [],
   "source": [
    "def getCheckpointsTimes( sessionId ):\n",
    "    reachEvents = df152[df152['type']=='reach'].loc[:,perSessionRelevantColumns]\n",
    "    return innerGetCheckpointsTimes( sessionId, reachEvents )\n",
    "\n",
    "def innerGetCheckpointsTimes( sessionId, reachEvents ):\n",
    "    perSession = reachEvents[reachEvents['sessionId']==sessionId]\n",
    "    perSession = perSession[perSession['section'].str.startswith('tutorial', na=False)]\n",
    "    timedSections = perSession.groupby(\"section\").agg({ \"serverTime\": np.min })\n",
    "    timedSections[\"firstReached\"] = pd.to_datetime(timedSections[\"serverTime\"])\n",
    "    timedSections[\"firstCompletionDuration\"] = timedSections[\"firstReached\"].diff()\n",
    "    return timedSections\n",
    "\n",
    "def getCheckpointsTimesUser( userId ):\n",
    "    # List of associated sessions\n",
    "    sessionsList = df152[df152['type']=='start'].loc[:,sessionListRelevantColumns]\n",
    "    sessionsList = sessionsList[sessionsList['customData.localplayerguid']==userId]\n",
    "    # Call getCheckpointsTimes on all sessions associated with user,\n",
    "    # then merge by taking oldest checkpoint completion\n",
    "    timedSections = []\n",
    "    reachEvents = df152[df152['type']=='reach'].loc[:,perSessionRelevantColumns]\n",
    "    for sessionId in sessionsList['sessionId']:\n",
    "        print(\"processing user \" + str(userId) + \" with session \" + str(sessionId))\n",
    "        times = innerGetCheckpointsTimes( sessionId, reachEvents )\n",
    "        # merge\n",
    "        print(times)\n",
    "        print(type(times))\n",
    "    return\n",
    "\n",
    "def getUserCheckpoints( userId ):\n",
    "    # List all sessions with this localplayerguid.\n",
    "    sessionsList = df152[df152['type']=='start'].loc[:,sessionListRelevantColumns]\n",
    "    sessionsList = sessionsList[sessionsList['customData.localplayerguid']==userId]\n",
    "    # List all 'reach' events with those sessionIds.\n",
    "    perUser = df152[df152['type']=='reach'].loc[:,perUserRelevantColumns]\n",
    "    perUser = perUser[perUser['sessionId'].isin(sessionsList['sessionId'])]\n",
    "    perUser = perUser[perUser['section'].str.startswith('tutorial', na=False)]\n",
    "    return pd.Series(perUser['section'].unique())\n",
    "\n",
    "def getDiscrepancyGameGForm( userId ):\n",
    "    gformNonVal = getNonValidatedCheckpoints(userId)\n",
    "    gformVal = getValidatedCheckpoints(userId)\n",
    "    gameVal = getUserCheckpoints(userId)\n",
    "    \n",
    "    #sorted, unique values in series1 that are not in series2\n",
    "    #np.setdiff1d(series1.values, series2.values)\n",
    "    \n",
    "    #user has answered questions whose answer they haven't seen in the game\n",
    "    gameNotEnough = pd.Series(np.setdiff1d(gformVal.values, gameVal.values))\n",
    "    \n",
    "    #user has not answered questions whose answer they have seen in the game\n",
    "    gformNotEnough = np.array([])\n",
    "    maxGameVal = gameVal.values.max()\n",
    "    for nonVal in gformNonVal.values:\n",
    "        if nonVal >= maxGameVal:\n",
    "            gformNotEnough.append(nonVal)    \n",
    "    gformNotEnough = pd.Series(gformNotEnough)\n",
    "    \n",
    "    return (gameNotEnough, gformNotEnough)"
   ]
  },
  {
   "cell_type": "markdown",
   "metadata": {},
   "source": [
    "## Tests"
   ]
  },
  {
   "cell_type": "code",
   "execution_count": 151,
   "metadata": {
    "collapsed": false
   },
   "outputs": [
    {
     "data": {
      "text/plain": [
       "[]"
      ]
     },
     "execution_count": 151,
     "metadata": {},
     "output_type": "execute_result"
    }
   ],
   "source": [
    "gformNotEnough = []\n",
    "gformNotEnough"
   ]
  },
  {
   "cell_type": "code",
   "execution_count": 152,
   "metadata": {
    "collapsed": false
   },
   "outputs": [
    {
     "data": {
      "text/plain": [
       "[5]"
      ]
     },
     "execution_count": 152,
     "metadata": {},
     "output_type": "execute_result"
    }
   ],
   "source": [
    "gformNotEnough.append(5)\n",
    "gformNotEnough"
   ]
  },
  {
   "cell_type": "code",
   "execution_count": 153,
   "metadata": {
    "collapsed": false
   },
   "outputs": [],
   "source": [
    "testNonVal = pd.Series(['tutorial1.Checkpoint13'])"
   ]
  },
  {
   "cell_type": "code",
   "execution_count": 154,
   "metadata": {
    "collapsed": false
   },
   "outputs": [
    {
     "data": {
      "text/plain": [
       "0    \n",
       "dtype: object"
      ]
     },
     "execution_count": 154,
     "metadata": {},
     "output_type": "execute_result"
    }
   ],
   "source": [
    "gformNonVal = getNonValidatedCheckpoints(localplayerguid)\n",
    "gformNonVal"
   ]
  },
  {
   "cell_type": "code",
   "execution_count": 155,
   "metadata": {
    "collapsed": false,
    "scrolled": true
   },
   "outputs": [
    {
     "data": {
      "text/plain": [
       "0    tutorial1.Checkpoint00\n",
       "1    tutorial1.Checkpoint01\n",
       "2    tutorial1.Checkpoint02\n",
       "3    tutorial1.Checkpoint03\n",
       "4    tutorial1.Checkpoint04\n",
       "dtype: object"
      ]
     },
     "execution_count": 155,
     "metadata": {},
     "output_type": "execute_result"
    }
   ],
   "source": [
    "getUserCheckpoints( localplayerguid )"
   ]
  },
  {
   "cell_type": "code",
   "execution_count": 156,
   "metadata": {
    "collapsed": false,
    "scrolled": true
   },
   "outputs": [
    {
     "data": {
      "text/plain": [
       "(0    tutorial1.Checkpoint05\n",
       " 1    tutorial1.Checkpoint13\n",
       " dtype: object, Series([], dtype: float64))"
      ]
     },
     "execution_count": 156,
     "metadata": {},
     "output_type": "execute_result"
    }
   ],
   "source": [
    "getDiscrepancyGameGForm( localplayerguid )"
   ]
  },
  {
   "cell_type": "code",
   "execution_count": 157,
   "metadata": {
    "collapsed": false
   },
   "outputs": [
    {
     "data": {
      "text/plain": [
       "0    tutorial1.Checkpoint00\n",
       "1    tutorial1.Checkpoint01\n",
       "2    tutorial1.Checkpoint02\n",
       "3    tutorial1.Checkpoint03\n",
       "4    tutorial1.Checkpoint04\n",
       "dtype: object"
      ]
     },
     "execution_count": 157,
     "metadata": {},
     "output_type": "execute_result"
    }
   ],
   "source": [
    "getUserCheckpoints(localplayerguid)"
   ]
  },
  {
   "cell_type": "code",
   "execution_count": 158,
   "metadata": {
    "collapsed": false
   },
   "outputs": [
    {
     "data": {
      "text/plain": [
       "0    tutorial1.Checkpoint00\n",
       "1    tutorial1.Checkpoint01\n",
       "2    tutorial1.Checkpoint02\n",
       "3    tutorial1.Checkpoint05\n",
       "4    tutorial1.Checkpoint13\n",
       "dtype: object"
      ]
     },
     "execution_count": 158,
     "metadata": {},
     "output_type": "execute_result"
    }
   ],
   "source": [
    "test = getValidatedCheckpoints(localplayerguid)\n",
    "test"
   ]
  },
  {
   "cell_type": "code",
   "execution_count": 159,
   "metadata": {
    "collapsed": false
   },
   "outputs": [
    {
     "data": {
      "text/plain": [
       "'tutorial1.Checkpoint13'"
      ]
     },
     "execution_count": 159,
     "metadata": {},
     "output_type": "execute_result"
    }
   ],
   "source": [
    "max = test.values.max()\n",
    "max"
   ]
  },
  {
   "cell_type": "code",
   "execution_count": 160,
   "metadata": {
    "collapsed": false,
    "scrolled": true
   },
   "outputs": [
    {
     "data": {
      "text/plain": [
       "0    \n",
       "dtype: object"
      ]
     },
     "execution_count": 160,
     "metadata": {},
     "output_type": "execute_result"
    }
   ],
   "source": [
    "getNonValidatedCheckpoints(localplayerguid)"
   ]
  },
  {
   "cell_type": "code",
   "execution_count": 162,
   "metadata": {
    "collapsed": false
   },
   "outputs": [
    {
     "data": {
      "text/plain": [
       "'\"8d352896-a3f1-471c-8439-0f426df901c1\"'"
      ]
     },
     "execution_count": 162,
     "metadata": {},
     "output_type": "execute_result"
    }
   ],
   "source": [
    "localplayerguid"
   ]
  },
  {
   "cell_type": "code",
   "execution_count": 171,
   "metadata": {
    "collapsed": false
   },
   "outputs": [
    {
     "name": "stdout",
     "output_type": "stream",
     "text": [
      "processing user \"8d352896-a3f1-471c-8439-0f426df901c1\" with session 8bd5d335-d20e-4db5-9979-feb668ba7c71\n",
      "                                      serverTime            firstReached  \\\n",
      "section                                                                    \n",
      "tutorial1.Checkpoint00  2017-08-18T14:01:06.876Z 2017-08-18 14:01:06.876   \n",
      "tutorial1.Checkpoint01  2017-08-18T14:02:17.575Z 2017-08-18 14:02:17.575   \n",
      "tutorial1.Checkpoint02  2017-08-18T14:09:41.769Z 2017-08-18 14:09:41.769   \n",
      "tutorial1.Checkpoint03  2017-08-18T14:10:52.544Z 2017-08-18 14:10:52.544   \n",
      "tutorial1.Checkpoint04  2017-08-18T14:11:04.463Z 2017-08-18 14:11:04.463   \n",
      "\n",
      "                        firstCompletionDuration  \n",
      "section                                          \n",
      "tutorial1.Checkpoint00                      NaT  \n",
      "tutorial1.Checkpoint01          00:01:10.699000  \n",
      "tutorial1.Checkpoint02          00:07:24.194000  \n",
      "tutorial1.Checkpoint03          00:01:10.775000  \n",
      "tutorial1.Checkpoint04          00:00:11.919000  \n",
      "<class 'pandas.core.frame.DataFrame'>\n"
     ]
    }
   ],
   "source": [
    "getCheckpointsTimesUser(localplayerguid)"
   ]
  },
  {
   "cell_type": "code",
   "execution_count": 178,
   "metadata": {
    "collapsed": false
   },
   "outputs": [
    {
     "data": {
      "text/html": [
       "<div>\n",
       "<table border=\"1\" class=\"dataframe\">\n",
       "  <thead>\n",
       "    <tr style=\"text-align: right;\">\n",
       "      <th></th>\n",
       "      <th>firstCompletionDuration</th>\n",
       "      <th>firstReached</th>\n",
       "      <th>section</th>\n",
       "      <th>serverTime</th>\n",
       "    </tr>\n",
       "  </thead>\n",
       "  <tbody>\n",
       "    <tr>\n",
       "      <th>0</th>\n",
       "      <td>0</td>\n",
       "      <td>0</td>\n",
       "      <td>tutorial1.Checkpoint00</td>\n",
       "      <td>0</td>\n",
       "    </tr>\n",
       "    <tr>\n",
       "      <th>1</th>\n",
       "      <td>1</td>\n",
       "      <td>1</td>\n",
       "      <td>tutorial1.Checkpoint01</td>\n",
       "      <td>1</td>\n",
       "    </tr>\n",
       "    <tr>\n",
       "      <th>2</th>\n",
       "      <td>2</td>\n",
       "      <td>2</td>\n",
       "      <td>tutorial1.Checkpoint02</td>\n",
       "      <td>2</td>\n",
       "    </tr>\n",
       "  </tbody>\n",
       "</table>\n",
       "</div>"
      ],
      "text/plain": [
       "  firstCompletionDuration firstReached                 section serverTime\n",
       "0                       0            0  tutorial1.Checkpoint00          0\n",
       "1                       1            1  tutorial1.Checkpoint01          1\n",
       "2                       2            2  tutorial1.Checkpoint02          2"
      ]
     },
     "execution_count": 178,
     "metadata": {},
     "output_type": "execute_result"
    }
   ],
   "source": [
    "test = pd.DataFrame({\n",
    "                        'section' : ['tutorial1.Checkpoint00', 'tutorial1.Checkpoint01', 'tutorial1.Checkpoint02'],\n",
    "                        'serverTime' : ['0', '1', '2'],\n",
    "                        'firstReached' : ['0', '1', '2'],\n",
    "                        'firstCompletionDuration' : ['0', '1', '2'],\n",
    "                    })\n",
    "test\n",
    "#pd.DataFrame({  'A' : 1.,\n",
    "#                'B' : pd.Timestamp('20130102'),\n",
    "#                'C' : pd.Series(1,index=list(range(4)),dtype='float32'),\n",
    "#                'D' : np.array([3] * 4,dtype='int32'),\n",
    "#                'E' : pd.Categorical([\"test\",\"train\",\"test\",\"train\"]),\n",
    "#                'F' : 'foo' })"
   ]
  }
 ],
 "metadata": {
  "kernelspec": {
   "display_name": "Python 2",
   "language": "python",
   "name": "python2"
  },
  "language_info": {
   "codemirror_mode": {
    "name": "ipython",
    "version": 2
   },
   "file_extension": ".py",
   "mimetype": "text/x-python",
   "name": "python",
   "nbconvert_exporter": "python",
   "pygments_lexer": "ipython2",
   "version": "2.7.10"
  }
 },
 "nbformat": 4,
 "nbformat_minor": 0
}
