{
 "cells": [
  {
   "cell_type": "markdown",
   "metadata": {},
   "source": [
    "# Preparation"
   ]
  },
  {
   "cell_type": "code",
   "execution_count": 1230,
   "metadata": {
    "collapsed": false
   },
   "outputs": [
    {
     "name": "stdout",
     "output_type": "stream",
     "text": [
      "===========================================\n",
      "                                                        answers\n",
      "Timestamp                           2017/08/18 4:22:26 PM GMT+2\n",
      "Are you interested in video games?                    Extremely\n",
      "-------------------------------------------\n",
      "                                                        answers correct\n",
      "Timestamp                           2017/08/18 4:22:26 PM GMT+2     NaN\n",
      "Are you interested in video games?                    Extremely     NaN\n",
      "-------------------------------------------\n",
      "19\n",
      "-------------------------------------------\n",
      "0    tutorial1.Checkpoint00\n",
      "1    tutorial1.Checkpoint01\n",
      "2    tutorial1.Checkpoint02\n",
      "3    tutorial1.Checkpoint05\n",
      "4    tutorial1.Checkpoint13\n",
      "dtype: object\n",
      "-------------------------------------------\n",
      "0    \n",
      "dtype: object\n",
      "===========================================\n",
      "===========================================\n",
      "                                                        answers\n",
      "Timestamp                           2017/09/06 2:28:03 PM GMT+2\n",
      "Are you interested in video games?                   Moderately\n",
      "-------------------------------------------\n",
      "                                                        answers correct\n",
      "Timestamp                           2017/09/06 2:28:03 PM GMT+2     NaN\n",
      "Are you interested in video games?                   Moderately     NaN\n",
      "-------------------------------------------\n",
      "23\n",
      "-------------------------------------------\n",
      "0    tutorial1.Checkpoint00\n",
      "1    tutorial1.Checkpoint01\n",
      "2    tutorial1.Checkpoint02\n",
      "3    tutorial1.Checkpoint05\n",
      "4    tutorial1.Checkpoint13\n",
      "dtype: object\n",
      "-------------------------------------------\n",
      "0    \n",
      "dtype: object\n",
      "===========================================\n",
      "===========================================\n",
      "                                                         answers\n",
      "Timestamp                           2017/09/12 10:02:06 AM GMT+2\n",
      "Are you interested in video games?                         A lot\n",
      "-------------------------------------------\n",
      "                                                         answers correct\n",
      "Timestamp                           2017/09/12 10:02:06 AM GMT+2     NaN\n",
      "Are you interested in video games?                         A lot     NaN\n",
      "-------------------------------------------\n",
      "16\n",
      "-------------------------------------------\n",
      "0    tutorial1.Checkpoint00\n",
      "1    tutorial1.Checkpoint01\n",
      "2    tutorial1.Checkpoint02\n",
      "3    tutorial1.Checkpoint05\n",
      "4    tutorial1.Checkpoint13\n",
      "dtype: object\n",
      "-------------------------------------------\n",
      "0    \n",
      "dtype: object"
     ]
    },
    {
     "name": "stderr",
     "output_type": "stream",
     "text": [
      "C:\\Users\\Mikael\\Anaconda3\\lib\\site-packages\\IPython\\core\\interactiveshell.py:2902: DtypeWarning: Columns (24,32,34) have mixed types. Specify dtype option on import or set low_memory=False.\n",
      "  interactivity=interactivity, compiler=compiler, result=result)\n",
      "C:\\Users\\Mikael\\Anaconda3\\lib\\site-packages\\IPython\\core\\interactiveshell.py:2902: DtypeWarning: Columns (24,32,34) have mixed types. Specify dtype option on import or set low_memory=False.\n",
      "  interactivity=interactivity, compiler=compiler, result=result)\n"
     ]
    },
    {
     "name": "stdout",
     "output_type": "stream",
     "text": [
      "\n",
      "===========================================\n",
      "===========================================\n",
      "                                                        answers\n",
      "Timestamp                           2017/09/13 3:11:34 AM GMT+2\n",
      "Are you interested in video games?                 I don't know\n",
      "-------------------------------------------\n",
      "                                                        answers correct\n",
      "Timestamp                           2017/09/13 3:11:34 AM GMT+2     NaN\n",
      "Are you interested in video games?                 I don't know     NaN\n",
      "-------------------------------------------\n",
      "24\n",
      "-------------------------------------------\n",
      "0    tutorial1.Checkpoint00\n",
      "1    tutorial1.Checkpoint01\n",
      "2    tutorial1.Checkpoint02\n",
      "3    tutorial1.Checkpoint05\n",
      "4    tutorial1.Checkpoint13\n",
      "dtype: object\n",
      "-------------------------------------------\n",
      "0    \n",
      "dtype: object\n",
      "===========================================\n"
     ]
    }
   ],
   "source": [
    "%run Utilities/Preparation.ipynb\n",
    "%run \"1. Google form analysis.ipynb\"\n",
    "%run \"3. Game sessions.ipynb\"\n",
    "\n",
    "df152 = pd.read_csv(\"../data/2017-09-05.1.52.csv\")\n",
    "df152 = getNormalizedRedMetricsCSV(df152)"
   ]
  },
  {
   "cell_type": "code",
   "execution_count": 1231,
   "metadata": {
    "collapsed": false
   },
   "outputs": [
    {
     "data": {
      "text/html": [
       "<div>\n",
       "<style>\n",
       "    .dataframe thead tr:only-child th {\n",
       "        text-align: right;\n",
       "    }\n",
       "\n",
       "    .dataframe thead th {\n",
       "        text-align: left;\n",
       "    }\n",
       "\n",
       "    .dataframe tbody tr th {\n",
       "        vertical-align: top;\n",
       "    }\n",
       "</style>\n",
       "<table border=\"1\" class=\"dataframe\">\n",
       "  <thead>\n",
       "    <tr style=\"text-align: right;\">\n",
       "      <th></th>\n",
       "      <th>coordinates</th>\n",
       "      <th>customData</th>\n",
       "      <th>customData.biobrick</th>\n",
       "      <th>customData.chapter</th>\n",
       "      <th>customData.controls</th>\n",
       "      <th>customData.count</th>\n",
       "      <th>customData.device</th>\n",
       "      <th>customData.devices</th>\n",
       "      <th>customData.dnabit</th>\n",
       "      <th>customData.duration</th>\n",
       "      <th>...</th>\n",
       "      <th>playerCountry</th>\n",
       "      <th>playerCustomData</th>\n",
       "      <th>playerExternalId</th>\n",
       "      <th>playerGender</th>\n",
       "      <th>sessionId</th>\n",
       "      <th>playerRegion</th>\n",
       "      <th>section</th>\n",
       "      <th>serverTime</th>\n",
       "      <th>type</th>\n",
       "      <th>userTime</th>\n",
       "    </tr>\n",
       "  </thead>\n",
       "  <tbody>\n",
       "    <tr>\n",
       "      <th>0</th>\n",
       "      <td>[-229, -608]</td>\n",
       "      <td>NaN</td>\n",
       "      <td>NaN</td>\n",
       "      <td>NaN</td>\n",
       "      <td>NaN</td>\n",
       "      <td>NaN</td>\n",
       "      <td>NaN</td>\n",
       "      <td>NaN</td>\n",
       "      <td>NaN</td>\n",
       "      <td>NaN</td>\n",
       "      <td>...</td>\n",
       "      <td>NaN</td>\n",
       "      <td>NaN</td>\n",
       "      <td>NaN</td>\n",
       "      <td>NaN</td>\n",
       "      <td>b724663c-b32a-4079-9f8f-896762b272d1</td>\n",
       "      <td>NaN</td>\n",
       "      <td>NaN</td>\n",
       "      <td>2017-04-12T08:57:48.448Z</td>\n",
       "      <td>start</td>\n",
       "      <td>2017-04-12T08:57:49.752Z</td>\n",
       "    </tr>\n",
       "    <tr>\n",
       "      <th>1</th>\n",
       "      <td>[-229, -608]</td>\n",
       "      <td>NaN</td>\n",
       "      <td>NaN</td>\n",
       "      <td>NaN</td>\n",
       "      <td>NaN</td>\n",
       "      <td>NaN</td>\n",
       "      <td>NaN</td>\n",
       "      <td>\"\"</td>\n",
       "      <td>NaN</td>\n",
       "      <td>NaN</td>\n",
       "      <td>...</td>\n",
       "      <td>NaN</td>\n",
       "      <td>NaN</td>\n",
       "      <td>NaN</td>\n",
       "      <td>NaN</td>\n",
       "      <td>b724663c-b32a-4079-9f8f-896762b272d1</td>\n",
       "      <td>NaN</td>\n",
       "      <td>NaN</td>\n",
       "      <td>2017-04-12T08:58:14.441Z</td>\n",
       "      <td>selectmenu</td>\n",
       "      <td>2017-04-12T08:58:15.799Z</td>\n",
       "    </tr>\n",
       "    <tr>\n",
       "      <th>2</th>\n",
       "      <td>[-125, 373]</td>\n",
       "      <td>NaN</td>\n",
       "      <td>NaN</td>\n",
       "      <td>NaN</td>\n",
       "      <td>NaN</td>\n",
       "      <td>NaN</td>\n",
       "      <td>\"PRLACI:RBS1:REPR2:DTER\"</td>\n",
       "      <td>\"slot0[PRLACI:RBS1:REPR2:DTER]\"</td>\n",
       "      <td>NaN</td>\n",
       "      <td>NaN</td>\n",
       "      <td>...</td>\n",
       "      <td>NaN</td>\n",
       "      <td>NaN</td>\n",
       "      <td>NaN</td>\n",
       "      <td>NaN</td>\n",
       "      <td>b724663c-b32a-4079-9f8f-896762b272d1</td>\n",
       "      <td>NaN</td>\n",
       "      <td>NaN</td>\n",
       "      <td>2017-04-12T08:58:26.229Z</td>\n",
       "      <td>add</td>\n",
       "      <td>2017-04-12T08:58:27.575Z</td>\n",
       "    </tr>\n",
       "    <tr>\n",
       "      <th>3</th>\n",
       "      <td>[-125, 373]</td>\n",
       "      <td>NaN</td>\n",
       "      <td>NaN</td>\n",
       "      <td>NaN</td>\n",
       "      <td>NaN</td>\n",
       "      <td>NaN</td>\n",
       "      <td>NaN</td>\n",
       "      <td>NaN</td>\n",
       "      <td>NaN</td>\n",
       "      <td>NaN</td>\n",
       "      <td>...</td>\n",
       "      <td>NaN</td>\n",
       "      <td>NaN</td>\n",
       "      <td>NaN</td>\n",
       "      <td>NaN</td>\n",
       "      <td>b724663c-b32a-4079-9f8f-896762b272d1</td>\n",
       "      <td>NaN</td>\n",
       "      <td>NaN</td>\n",
       "      <td>2017-04-12T08:58:37.640Z</td>\n",
       "      <td>switchfromgameversion</td>\n",
       "      <td>2017-04-12T08:58:38.987Z</td>\n",
       "    </tr>\n",
       "    <tr>\n",
       "      <th>4</th>\n",
       "      <td>[-229, -608]</td>\n",
       "      <td>NaN</td>\n",
       "      <td>NaN</td>\n",
       "      <td>NaN</td>\n",
       "      <td>NaN</td>\n",
       "      <td>NaN</td>\n",
       "      <td>NaN</td>\n",
       "      <td>NaN</td>\n",
       "      <td>NaN</td>\n",
       "      <td>NaN</td>\n",
       "      <td>...</td>\n",
       "      <td>NaN</td>\n",
       "      <td>NaN</td>\n",
       "      <td>NaN</td>\n",
       "      <td>NaN</td>\n",
       "      <td>2d76c4ef-f260-4963-82f4-ff598d2a63b4</td>\n",
       "      <td>NaN</td>\n",
       "      <td>NaN</td>\n",
       "      <td>2017-04-12T09:30:51.879Z</td>\n",
       "      <td>start</td>\n",
       "      <td>2017-04-12T09:30:31.060Z</td>\n",
       "    </tr>\n",
       "  </tbody>\n",
       "</table>\n",
       "<p>5 rows × 38 columns</p>\n",
       "</div>"
      ],
      "text/plain": [
       "    coordinates customData customData.biobrick customData.chapter  \\\n",
       "0  [-229, -608]        NaN                 NaN                NaN   \n",
       "1  [-229, -608]        NaN                 NaN                NaN   \n",
       "2   [-125, 373]        NaN                 NaN                NaN   \n",
       "3   [-125, 373]        NaN                 NaN                NaN   \n",
       "4  [-229, -608]        NaN                 NaN                NaN   \n",
       "\n",
       "  customData.controls customData.count         customData.device  \\\n",
       "0                 NaN              NaN                       NaN   \n",
       "1                 NaN              NaN                       NaN   \n",
       "2                 NaN              NaN  \"PRLACI:RBS1:REPR2:DTER\"   \n",
       "3                 NaN              NaN                       NaN   \n",
       "4                 NaN              NaN                       NaN   \n",
       "\n",
       "                customData.devices customData.dnabit customData.duration  \\\n",
       "0                              NaN               NaN                 NaN   \n",
       "1                               \"\"               NaN                 NaN   \n",
       "2  \"slot0[PRLACI:RBS1:REPR2:DTER]\"               NaN                 NaN   \n",
       "3                              NaN               NaN                 NaN   \n",
       "4                              NaN               NaN                 NaN   \n",
       "\n",
       "             ...            playerCountry playerCustomData playerExternalId  \\\n",
       "0            ...                      NaN              NaN              NaN   \n",
       "1            ...                      NaN              NaN              NaN   \n",
       "2            ...                      NaN              NaN              NaN   \n",
       "3            ...                      NaN              NaN              NaN   \n",
       "4            ...                      NaN              NaN              NaN   \n",
       "\n",
       "  playerGender                             sessionId playerRegion section  \\\n",
       "0          NaN  b724663c-b32a-4079-9f8f-896762b272d1          NaN     NaN   \n",
       "1          NaN  b724663c-b32a-4079-9f8f-896762b272d1          NaN     NaN   \n",
       "2          NaN  b724663c-b32a-4079-9f8f-896762b272d1          NaN     NaN   \n",
       "3          NaN  b724663c-b32a-4079-9f8f-896762b272d1          NaN     NaN   \n",
       "4          NaN  2d76c4ef-f260-4963-82f4-ff598d2a63b4          NaN     NaN   \n",
       "\n",
       "                 serverTime                   type                  userTime  \n",
       "0  2017-04-12T08:57:48.448Z                  start  2017-04-12T08:57:49.752Z  \n",
       "1  2017-04-12T08:58:14.441Z             selectmenu  2017-04-12T08:58:15.799Z  \n",
       "2  2017-04-12T08:58:26.229Z                    add  2017-04-12T08:58:27.575Z  \n",
       "3  2017-04-12T08:58:37.640Z  switchfromgameversion  2017-04-12T08:58:38.987Z  \n",
       "4  2017-04-12T09:30:51.879Z                  start  2017-04-12T09:30:31.060Z  \n",
       "\n",
       "[5 rows x 38 columns]"
      ]
     },
     "execution_count": 1231,
     "metadata": {},
     "output_type": "execute_result"
    }
   ],
   "source": [
    "df152.head()"
   ]
  },
  {
   "cell_type": "markdown",
   "metadata": {},
   "source": [
    "# Per-session analysis"
   ]
  },
  {
   "cell_type": "code",
   "execution_count": 1232,
   "metadata": {
    "collapsed": false,
    "scrolled": false
   },
   "outputs": [
    {
     "data": {
      "text/html": [
       "<div>\n",
       "<style>\n",
       "    .dataframe thead tr:only-child th {\n",
       "        text-align: right;\n",
       "    }\n",
       "\n",
       "    .dataframe thead th {\n",
       "        text-align: left;\n",
       "    }\n",
       "\n",
       "    .dataframe tbody tr th {\n",
       "        vertical-align: top;\n",
       "    }\n",
       "</style>\n",
       "<table border=\"1\" class=\"dataframe\">\n",
       "  <thead>\n",
       "    <tr style=\"text-align: right;\">\n",
       "      <th></th>\n",
       "      <th>sessionId</th>\n",
       "      <th>serverTime</th>\n",
       "      <th>section</th>\n",
       "    </tr>\n",
       "  </thead>\n",
       "  <tbody>\n",
       "    <tr>\n",
       "      <th>21777</th>\n",
       "      <td>fab3ea03-6ff1-483f-a90a-74ff47d0b556</td>\n",
       "      <td>2017-08-22T22:05:18.293Z</td>\n",
       "      <td>tutorial1.Checkpoint00</td>\n",
       "    </tr>\n",
       "    <tr>\n",
       "      <th>21783</th>\n",
       "      <td>fab3ea03-6ff1-483f-a90a-74ff47d0b556</td>\n",
       "      <td>2017-08-22T22:08:17.799Z</td>\n",
       "      <td>tutorial1.Checkpoint01</td>\n",
       "    </tr>\n",
       "    <tr>\n",
       "      <th>21798</th>\n",
       "      <td>fab3ea03-6ff1-483f-a90a-74ff47d0b556</td>\n",
       "      <td>2017-08-22T22:13:28.227Z</td>\n",
       "      <td>tutorial1.Checkpoint02</td>\n",
       "    </tr>\n",
       "    <tr>\n",
       "      <th>21803</th>\n",
       "      <td>fab3ea03-6ff1-483f-a90a-74ff47d0b556</td>\n",
       "      <td>2017-08-22T22:15:27.959Z</td>\n",
       "      <td>tutorial1.Checkpoint03</td>\n",
       "    </tr>\n",
       "    <tr>\n",
       "      <th>21809</th>\n",
       "      <td>fab3ea03-6ff1-483f-a90a-74ff47d0b556</td>\n",
       "      <td>2017-08-22T22:16:11.658Z</td>\n",
       "      <td>tutorial1.Checkpoint04</td>\n",
       "    </tr>\n",
       "    <tr>\n",
       "      <th>21822</th>\n",
       "      <td>fab3ea03-6ff1-483f-a90a-74ff47d0b556</td>\n",
       "      <td>2017-08-22T22:19:29.421Z</td>\n",
       "      <td>tutorial1.Checkpoint03</td>\n",
       "    </tr>\n",
       "    <tr>\n",
       "      <th>21823</th>\n",
       "      <td>fab3ea03-6ff1-483f-a90a-74ff47d0b556</td>\n",
       "      <td>2017-08-22T22:19:47.058Z</td>\n",
       "      <td>tutorial1.Checkpoint04</td>\n",
       "    </tr>\n",
       "    <tr>\n",
       "      <th>21824</th>\n",
       "      <td>fab3ea03-6ff1-483f-a90a-74ff47d0b556</td>\n",
       "      <td>2017-08-22T22:20:12.739Z</td>\n",
       "      <td>tutorial1.Checkpoint05</td>\n",
       "    </tr>\n",
       "    <tr>\n",
       "      <th>22065</th>\n",
       "      <td>fab3ea03-6ff1-483f-a90a-74ff47d0b556</td>\n",
       "      <td>2017-08-22T22:34:32.438Z</td>\n",
       "      <td>tutorial1.Checkpoint06</td>\n",
       "    </tr>\n",
       "    <tr>\n",
       "      <th>22081</th>\n",
       "      <td>fab3ea03-6ff1-483f-a90a-74ff47d0b556</td>\n",
       "      <td>2017-08-22T22:37:59.659Z</td>\n",
       "      <td>tutorial1.Checkpoint07</td>\n",
       "    </tr>\n",
       "    <tr>\n",
       "      <th>22186</th>\n",
       "      <td>fab3ea03-6ff1-483f-a90a-74ff47d0b556</td>\n",
       "      <td>2017-08-22T22:45:27.478Z</td>\n",
       "      <td>tutorial1.Checkpoint08</td>\n",
       "    </tr>\n",
       "    <tr>\n",
       "      <th>22192</th>\n",
       "      <td>fab3ea03-6ff1-483f-a90a-74ff47d0b556</td>\n",
       "      <td>2017-08-22T22:46:34.417Z</td>\n",
       "      <td>tutorial1.Checkpoint09</td>\n",
       "    </tr>\n",
       "    <tr>\n",
       "      <th>22196</th>\n",
       "      <td>fab3ea03-6ff1-483f-a90a-74ff47d0b556</td>\n",
       "      <td>2017-08-22T22:47:39.021Z</td>\n",
       "      <td>tutorial1.Checkpoint10</td>\n",
       "    </tr>\n",
       "    <tr>\n",
       "      <th>22199</th>\n",
       "      <td>fab3ea03-6ff1-483f-a90a-74ff47d0b556</td>\n",
       "      <td>2017-08-22T22:47:46.360Z</td>\n",
       "      <td>tutorial1.Checkpoint11</td>\n",
       "    </tr>\n",
       "    <tr>\n",
       "      <th>22201</th>\n",
       "      <td>fab3ea03-6ff1-483f-a90a-74ff47d0b556</td>\n",
       "      <td>2017-08-22T22:48:16.857Z</td>\n",
       "      <td>tutorial1.Checkpoint12</td>\n",
       "    </tr>\n",
       "    <tr>\n",
       "      <th>22282</th>\n",
       "      <td>fab3ea03-6ff1-483f-a90a-74ff47d0b556</td>\n",
       "      <td>2017-08-22T22:53:44.320Z</td>\n",
       "      <td>tutorial1.Checkpoint13</td>\n",
       "    </tr>\n",
       "  </tbody>\n",
       "</table>\n",
       "</div>"
      ],
      "text/plain": [
       "                                  sessionId                serverTime  \\\n",
       "21777  fab3ea03-6ff1-483f-a90a-74ff47d0b556  2017-08-22T22:05:18.293Z   \n",
       "21783  fab3ea03-6ff1-483f-a90a-74ff47d0b556  2017-08-22T22:08:17.799Z   \n",
       "21798  fab3ea03-6ff1-483f-a90a-74ff47d0b556  2017-08-22T22:13:28.227Z   \n",
       "21803  fab3ea03-6ff1-483f-a90a-74ff47d0b556  2017-08-22T22:15:27.959Z   \n",
       "21809  fab3ea03-6ff1-483f-a90a-74ff47d0b556  2017-08-22T22:16:11.658Z   \n",
       "21822  fab3ea03-6ff1-483f-a90a-74ff47d0b556  2017-08-22T22:19:29.421Z   \n",
       "21823  fab3ea03-6ff1-483f-a90a-74ff47d0b556  2017-08-22T22:19:47.058Z   \n",
       "21824  fab3ea03-6ff1-483f-a90a-74ff47d0b556  2017-08-22T22:20:12.739Z   \n",
       "22065  fab3ea03-6ff1-483f-a90a-74ff47d0b556  2017-08-22T22:34:32.438Z   \n",
       "22081  fab3ea03-6ff1-483f-a90a-74ff47d0b556  2017-08-22T22:37:59.659Z   \n",
       "22186  fab3ea03-6ff1-483f-a90a-74ff47d0b556  2017-08-22T22:45:27.478Z   \n",
       "22192  fab3ea03-6ff1-483f-a90a-74ff47d0b556  2017-08-22T22:46:34.417Z   \n",
       "22196  fab3ea03-6ff1-483f-a90a-74ff47d0b556  2017-08-22T22:47:39.021Z   \n",
       "22199  fab3ea03-6ff1-483f-a90a-74ff47d0b556  2017-08-22T22:47:46.360Z   \n",
       "22201  fab3ea03-6ff1-483f-a90a-74ff47d0b556  2017-08-22T22:48:16.857Z   \n",
       "22282  fab3ea03-6ff1-483f-a90a-74ff47d0b556  2017-08-22T22:53:44.320Z   \n",
       "\n",
       "                      section  \n",
       "21777  tutorial1.Checkpoint00  \n",
       "21783  tutorial1.Checkpoint01  \n",
       "21798  tutorial1.Checkpoint02  \n",
       "21803  tutorial1.Checkpoint03  \n",
       "21809  tutorial1.Checkpoint04  \n",
       "21822  tutorial1.Checkpoint03  \n",
       "21823  tutorial1.Checkpoint04  \n",
       "21824  tutorial1.Checkpoint05  \n",
       "22065  tutorial1.Checkpoint06  \n",
       "22081  tutorial1.Checkpoint07  \n",
       "22186  tutorial1.Checkpoint08  \n",
       "22192  tutorial1.Checkpoint09  \n",
       "22196  tutorial1.Checkpoint10  \n",
       "22199  tutorial1.Checkpoint11  \n",
       "22201  tutorial1.Checkpoint12  \n",
       "22282  tutorial1.Checkpoint13  "
      ]
     },
     "execution_count": 1232,
     "metadata": {},
     "output_type": "execute_result"
    }
   ],
   "source": [
    "perSessionRelevantColumns = ['sessionId', 'serverTime', 'section']\n",
    "\n",
    "testSessionId = \"fab3ea03-6ff1-483f-a90a-74ff47d0b556\"\n",
    "\n",
    "perSession = df152[df152['type']=='reach'].loc[:,perSessionRelevantColumns]\n",
    "perSession = perSession[perSession['sessionId']==testSessionId]\n",
    "perSession = perSession[perSession['section'].str.startswith('tutorial', na=False)]\n",
    "perSession"
   ]
  },
  {
   "cell_type": "code",
   "execution_count": 1233,
   "metadata": {
    "collapsed": false
   },
   "outputs": [
    {
     "data": {
      "text/html": [
       "<div>\n",
       "<style>\n",
       "    .dataframe thead tr:only-child th {\n",
       "        text-align: right;\n",
       "    }\n",
       "\n",
       "    .dataframe thead th {\n",
       "        text-align: left;\n",
       "    }\n",
       "\n",
       "    .dataframe tbody tr th {\n",
       "        vertical-align: top;\n",
       "    }\n",
       "</style>\n",
       "<table border=\"1\" class=\"dataframe\">\n",
       "  <thead>\n",
       "    <tr style=\"text-align: right;\">\n",
       "      <th></th>\n",
       "      <th>userId</th>\n",
       "      <th>sessionId</th>\n",
       "    </tr>\n",
       "  </thead>\n",
       "  <tbody>\n",
       "    <tr>\n",
       "      <th>0</th>\n",
       "      <td>\"4dbc2f43-421c-4e23-85d4-f17723ff8c66\"</td>\n",
       "      <td>b724663c-b32a-4079-9f8f-896762b272d1</td>\n",
       "    </tr>\n",
       "    <tr>\n",
       "      <th>4</th>\n",
       "      <td>\"1a8924de-7cc6-4ff5-8735-4cddac309117\"</td>\n",
       "      <td>2d76c4ef-f260-4963-82f4-ff598d2a63b4</td>\n",
       "    </tr>\n",
       "    <tr>\n",
       "      <th>67</th>\n",
       "      <td>\"1a8924de-7cc6-4ff5-8735-4cddac309117\"</td>\n",
       "      <td>6a9893c1-da09-42c7-832e-4d0746fa779e</td>\n",
       "    </tr>\n",
       "    <tr>\n",
       "      <th>74</th>\n",
       "      <td>\"a6483353-5db1-4c6c-98d7-b6328d0f4456\"</td>\n",
       "      <td>c430c60c-d7cb-4fc5-893b-dce440696caf</td>\n",
       "    </tr>\n",
       "    <tr>\n",
       "      <th>88</th>\n",
       "      <td>\"0fa88384-3115-4ebd-990d-6bd29214c04f\"</td>\n",
       "      <td>72dc3209-bd46-4026-91f0-44d2a7298175</td>\n",
       "    </tr>\n",
       "  </tbody>\n",
       "</table>\n",
       "</div>"
      ],
      "text/plain": [
       "                                    userId  \\\n",
       "0   \"4dbc2f43-421c-4e23-85d4-f17723ff8c66\"   \n",
       "4   \"1a8924de-7cc6-4ff5-8735-4cddac309117\"   \n",
       "67  \"1a8924de-7cc6-4ff5-8735-4cddac309117\"   \n",
       "74  \"a6483353-5db1-4c6c-98d7-b6328d0f4456\"   \n",
       "88  \"0fa88384-3115-4ebd-990d-6bd29214c04f\"   \n",
       "\n",
       "                               sessionId  \n",
       "0   b724663c-b32a-4079-9f8f-896762b272d1  \n",
       "4   2d76c4ef-f260-4963-82f4-ff598d2a63b4  \n",
       "67  6a9893c1-da09-42c7-832e-4d0746fa779e  \n",
       "74  c430c60c-d7cb-4fc5-893b-dce440696caf  \n",
       "88  72dc3209-bd46-4026-91f0-44d2a7298175  "
      ]
     },
     "execution_count": 1233,
     "metadata": {},
     "output_type": "execute_result"
    }
   ],
   "source": [
    "allSessions = getAllSessions( df152, True )\n",
    "allSessions.head()"
   ]
  },
  {
   "cell_type": "code",
   "execution_count": 1234,
   "metadata": {
    "collapsed": false
   },
   "outputs": [
    {
     "data": {
      "text/html": [
       "<div>\n",
       "<style>\n",
       "    .dataframe thead tr:only-child th {\n",
       "        text-align: right;\n",
       "    }\n",
       "\n",
       "    .dataframe thead th {\n",
       "        text-align: left;\n",
       "    }\n",
       "\n",
       "    .dataframe tbody tr th {\n",
       "        vertical-align: top;\n",
       "    }\n",
       "</style>\n",
       "<table border=\"1\" class=\"dataframe\">\n",
       "  <thead>\n",
       "    <tr style=\"text-align: right;\">\n",
       "      <th></th>\n",
       "      <th>userId</th>\n",
       "      <th>sessionId</th>\n",
       "    </tr>\n",
       "  </thead>\n",
       "  <tbody>\n",
       "    <tr>\n",
       "      <th>21771</th>\n",
       "      <td>\"e2f8d5e4-cccd-4d1a-909b-c9c92f6b83c1\"</td>\n",
       "      <td>fab3ea03-6ff1-483f-a90a-74ff47d0b556</td>\n",
       "    </tr>\n",
       "  </tbody>\n",
       "</table>\n",
       "</div>"
      ],
      "text/plain": [
       "                                       userId  \\\n",
       "21771  \"e2f8d5e4-cccd-4d1a-909b-c9c92f6b83c1\"   \n",
       "\n",
       "                                  sessionId  \n",
       "21771  fab3ea03-6ff1-483f-a90a-74ff47d0b556  "
      ]
     },
     "execution_count": 1234,
     "metadata": {},
     "output_type": "execute_result"
    }
   ],
   "source": [
    "allSessions[allSessions['sessionId']==testSessionId]"
   ]
  },
  {
   "cell_type": "code",
   "execution_count": 1235,
   "metadata": {
    "collapsed": false
   },
   "outputs": [
    {
     "data": {
      "text/html": [
       "<div>\n",
       "<style>\n",
       "    .dataframe thead tr:only-child th {\n",
       "        text-align: right;\n",
       "    }\n",
       "\n",
       "    .dataframe thead th {\n",
       "        text-align: left;\n",
       "    }\n",
       "\n",
       "    .dataframe tbody tr th {\n",
       "        vertical-align: top;\n",
       "    }\n",
       "</style>\n",
       "<table border=\"1\" class=\"dataframe\">\n",
       "  <thead>\n",
       "    <tr style=\"text-align: right;\">\n",
       "      <th></th>\n",
       "      <th>userId</th>\n",
       "      <th>sessionId</th>\n",
       "    </tr>\n",
       "  </thead>\n",
       "  <tbody>\n",
       "    <tr>\n",
       "      <th>21771</th>\n",
       "      <td>\"e2f8d5e4-cccd-4d1a-909b-c9c92f6b83c1\"</td>\n",
       "      <td>fab3ea03-6ff1-483f-a90a-74ff47d0b556</td>\n",
       "    </tr>\n",
       "  </tbody>\n",
       "</table>\n",
       "</div>"
      ],
      "text/plain": [
       "                                       userId  \\\n",
       "21771  \"e2f8d5e4-cccd-4d1a-909b-c9c92f6b83c1\"   \n",
       "\n",
       "                                  sessionId  \n",
       "21771  fab3ea03-6ff1-483f-a90a-74ff47d0b556  "
      ]
     },
     "execution_count": 1235,
     "metadata": {},
     "output_type": "execute_result"
    }
   ],
   "source": [
    "allSessions[allSessions['userId']=='\"e2f8d5e4-cccd-4d1a-909b-c9c92f6b83c1\"']"
   ]
  },
  {
   "cell_type": "markdown",
   "metadata": {},
   "source": [
    "# Per user analysis"
   ]
  },
  {
   "cell_type": "code",
   "execution_count": 1236,
   "metadata": {
    "collapsed": false
   },
   "outputs": [
    {
     "data": {
      "text/plain": [
       "'\"8d352896-a3f1-471c-8439-0f426df901c1\"'"
      ]
     },
     "execution_count": 1236,
     "metadata": {},
     "output_type": "execute_result"
    }
   ],
   "source": [
    "# English-speaking user who answered the questionnaire - cf 'Google form analysis.ipynb'.\n",
    "localplayerguid = '\"8d352896-a3f1-471c-8439-0f426df901c1\"'\n",
    "#localplayerguid = '\"7037c5b2-c286-498e-9784-9a061c778609\"'\n",
    "#localplayerguid = '\"5c4939b5-425b-4d19-b5d2-0384a515539e\"'\n",
    "#localplayerguid = '\"7825d421-d668-4481-898a-46b51efe40f0\"'\n",
    "#localplayerguid = '\"acb9c989-b4a6-4c4d-81cc-6b5783ec71d8\"'\n",
    "localplayerguid"
   ]
  },
  {
   "cell_type": "code",
   "execution_count": 1237,
   "metadata": {
    "collapsed": false
   },
   "outputs": [],
   "source": [
    "perUserRelevantColumns = ['sessionId', 'serverTime', 'section']"
   ]
  },
  {
   "cell_type": "code",
   "execution_count": 1238,
   "metadata": {
    "collapsed": false
   },
   "outputs": [],
   "source": [
    "sessionsList = getAllSessionsOfUser(df152, localplayerguid, True)"
   ]
  },
  {
   "cell_type": "code",
   "execution_count": 1239,
   "metadata": {
    "collapsed": false
   },
   "outputs": [
    {
     "data": {
      "text/html": [
       "<div>\n",
       "<style>\n",
       "    .dataframe thead tr:only-child th {\n",
       "        text-align: right;\n",
       "    }\n",
       "\n",
       "    .dataframe thead th {\n",
       "        text-align: left;\n",
       "    }\n",
       "\n",
       "    .dataframe tbody tr th {\n",
       "        vertical-align: top;\n",
       "    }\n",
       "</style>\n",
       "<table border=\"1\" class=\"dataframe\">\n",
       "  <thead>\n",
       "    <tr style=\"text-align: right;\">\n",
       "      <th></th>\n",
       "      <th>sessionId</th>\n",
       "      <th>serverTime</th>\n",
       "      <th>section</th>\n",
       "    </tr>\n",
       "  </thead>\n",
       "  <tbody>\n",
       "    <tr>\n",
       "      <th>19988</th>\n",
       "      <td>8bd5d335-d20e-4db5-9979-feb668ba7c71</td>\n",
       "      <td>2017-08-18T14:01:06.876Z</td>\n",
       "      <td>tutorial1.Checkpoint00</td>\n",
       "    </tr>\n",
       "    <tr>\n",
       "      <th>19995</th>\n",
       "      <td>8bd5d335-d20e-4db5-9979-feb668ba7c71</td>\n",
       "      <td>2017-08-18T14:02:17.575Z</td>\n",
       "      <td>tutorial1.Checkpoint01</td>\n",
       "    </tr>\n",
       "    <tr>\n",
       "      <th>20018</th>\n",
       "      <td>8bd5d335-d20e-4db5-9979-feb668ba7c71</td>\n",
       "      <td>2017-08-18T14:09:41.769Z</td>\n",
       "      <td>tutorial1.Checkpoint02</td>\n",
       "    </tr>\n",
       "    <tr>\n",
       "      <th>20023</th>\n",
       "      <td>8bd5d335-d20e-4db5-9979-feb668ba7c71</td>\n",
       "      <td>2017-08-18T14:10:52.544Z</td>\n",
       "      <td>tutorial1.Checkpoint03</td>\n",
       "    </tr>\n",
       "    <tr>\n",
       "      <th>20028</th>\n",
       "      <td>8bd5d335-d20e-4db5-9979-feb668ba7c71</td>\n",
       "      <td>2017-08-18T14:11:04.463Z</td>\n",
       "      <td>tutorial1.Checkpoint04</td>\n",
       "    </tr>\n",
       "  </tbody>\n",
       "</table>\n",
       "</div>"
      ],
      "text/plain": [
       "                                  sessionId                serverTime  \\\n",
       "19988  8bd5d335-d20e-4db5-9979-feb668ba7c71  2017-08-18T14:01:06.876Z   \n",
       "19995  8bd5d335-d20e-4db5-9979-feb668ba7c71  2017-08-18T14:02:17.575Z   \n",
       "20018  8bd5d335-d20e-4db5-9979-feb668ba7c71  2017-08-18T14:09:41.769Z   \n",
       "20023  8bd5d335-d20e-4db5-9979-feb668ba7c71  2017-08-18T14:10:52.544Z   \n",
       "20028  8bd5d335-d20e-4db5-9979-feb668ba7c71  2017-08-18T14:11:04.463Z   \n",
       "\n",
       "                      section  \n",
       "19988  tutorial1.Checkpoint00  \n",
       "19995  tutorial1.Checkpoint01  \n",
       "20018  tutorial1.Checkpoint02  \n",
       "20023  tutorial1.Checkpoint03  \n",
       "20028  tutorial1.Checkpoint04  "
      ]
     },
     "execution_count": 1239,
     "metadata": {},
     "output_type": "execute_result"
    }
   ],
   "source": [
    "# List all 'reach' events with those sessionIds.\n",
    "perUser = df152[df152['type']=='reach'].loc[:,perUserRelevantColumns]\n",
    "perUser = perUser[perUser['sessionId'].isin(sessionsList['sessionId'])]\n",
    "perUser = perUser[perUser['section'].str.startswith('tutorial', na=False)]\n",
    "perUser.describe()\n",
    "perUser.head()"
   ]
  },
  {
   "cell_type": "markdown",
   "metadata": {},
   "source": [
    "# Common analysis"
   ]
  },
  {
   "cell_type": "markdown",
   "metadata": {},
   "source": [
    "#### Switch here between users and sessions."
   ]
  },
  {
   "cell_type": "code",
   "execution_count": 1240,
   "metadata": {
    "collapsed": true
   },
   "outputs": [],
   "source": [
    "#sectionsList = perSession\n",
    "sectionsList = perUser"
   ]
  },
  {
   "cell_type": "code",
   "execution_count": 1241,
   "metadata": {
    "collapsed": false
   },
   "outputs": [
    {
     "data": {
      "text/html": [
       "<div>\n",
       "<style>\n",
       "    .dataframe thead tr:only-child th {\n",
       "        text-align: right;\n",
       "    }\n",
       "\n",
       "    .dataframe thead th {\n",
       "        text-align: left;\n",
       "    }\n",
       "\n",
       "    .dataframe tbody tr th {\n",
       "        vertical-align: top;\n",
       "    }\n",
       "</style>\n",
       "<table border=\"1\" class=\"dataframe\">\n",
       "  <thead>\n",
       "    <tr style=\"text-align: right;\">\n",
       "      <th></th>\n",
       "      <th>serverTime</th>\n",
       "    </tr>\n",
       "    <tr>\n",
       "      <th>section</th>\n",
       "      <th></th>\n",
       "    </tr>\n",
       "  </thead>\n",
       "  <tbody>\n",
       "    <tr>\n",
       "      <th>tutorial1.Checkpoint00</th>\n",
       "      <td>2017-08-18T14:01:06.876Z</td>\n",
       "    </tr>\n",
       "    <tr>\n",
       "      <th>tutorial1.Checkpoint01</th>\n",
       "      <td>2017-08-18T14:02:17.575Z</td>\n",
       "    </tr>\n",
       "    <tr>\n",
       "      <th>tutorial1.Checkpoint02</th>\n",
       "      <td>2017-08-18T14:09:41.769Z</td>\n",
       "    </tr>\n",
       "    <tr>\n",
       "      <th>tutorial1.Checkpoint03</th>\n",
       "      <td>2017-08-18T14:10:52.544Z</td>\n",
       "    </tr>\n",
       "    <tr>\n",
       "      <th>tutorial1.Checkpoint04</th>\n",
       "      <td>2017-08-18T14:11:04.463Z</td>\n",
       "    </tr>\n",
       "  </tbody>\n",
       "</table>\n",
       "</div>"
      ],
      "text/plain": [
       "                                      serverTime\n",
       "section                                         \n",
       "tutorial1.Checkpoint00  2017-08-18T14:01:06.876Z\n",
       "tutorial1.Checkpoint01  2017-08-18T14:02:17.575Z\n",
       "tutorial1.Checkpoint02  2017-08-18T14:09:41.769Z\n",
       "tutorial1.Checkpoint03  2017-08-18T14:10:52.544Z\n",
       "tutorial1.Checkpoint04  2017-08-18T14:11:04.463Z"
      ]
     },
     "execution_count": 1241,
     "metadata": {},
     "output_type": "execute_result"
    }
   ],
   "source": [
    "timedSections = sectionsList.groupby(\"section\").agg({ \"serverTime\": np.min })\n",
    "timedSections.head()"
   ]
  },
  {
   "cell_type": "code",
   "execution_count": 1242,
   "metadata": {
    "collapsed": false
   },
   "outputs": [
    {
     "data": {
      "text/html": [
       "<div>\n",
       "<style>\n",
       "    .dataframe thead tr:only-child th {\n",
       "        text-align: right;\n",
       "    }\n",
       "\n",
       "    .dataframe thead th {\n",
       "        text-align: left;\n",
       "    }\n",
       "\n",
       "    .dataframe tbody tr th {\n",
       "        vertical-align: top;\n",
       "    }\n",
       "</style>\n",
       "<table border=\"1\" class=\"dataframe\">\n",
       "  <thead>\n",
       "    <tr style=\"text-align: right;\">\n",
       "      <th></th>\n",
       "      <th>serverTime</th>\n",
       "      <th>firstReached</th>\n",
       "    </tr>\n",
       "    <tr>\n",
       "      <th>section</th>\n",
       "      <th></th>\n",
       "      <th></th>\n",
       "    </tr>\n",
       "  </thead>\n",
       "  <tbody>\n",
       "    <tr>\n",
       "      <th>tutorial1.Checkpoint00</th>\n",
       "      <td>2017-08-18T14:01:06.876Z</td>\n",
       "      <td>2017-08-18 14:01:06.876</td>\n",
       "    </tr>\n",
       "    <tr>\n",
       "      <th>tutorial1.Checkpoint01</th>\n",
       "      <td>2017-08-18T14:02:17.575Z</td>\n",
       "      <td>2017-08-18 14:02:17.575</td>\n",
       "    </tr>\n",
       "    <tr>\n",
       "      <th>tutorial1.Checkpoint02</th>\n",
       "      <td>2017-08-18T14:09:41.769Z</td>\n",
       "      <td>2017-08-18 14:09:41.769</td>\n",
       "    </tr>\n",
       "    <tr>\n",
       "      <th>tutorial1.Checkpoint03</th>\n",
       "      <td>2017-08-18T14:10:52.544Z</td>\n",
       "      <td>2017-08-18 14:10:52.544</td>\n",
       "    </tr>\n",
       "    <tr>\n",
       "      <th>tutorial1.Checkpoint04</th>\n",
       "      <td>2017-08-18T14:11:04.463Z</td>\n",
       "      <td>2017-08-18 14:11:04.463</td>\n",
       "    </tr>\n",
       "  </tbody>\n",
       "</table>\n",
       "</div>"
      ],
      "text/plain": [
       "                                      serverTime            firstReached\n",
       "section                                                                 \n",
       "tutorial1.Checkpoint00  2017-08-18T14:01:06.876Z 2017-08-18 14:01:06.876\n",
       "tutorial1.Checkpoint01  2017-08-18T14:02:17.575Z 2017-08-18 14:02:17.575\n",
       "tutorial1.Checkpoint02  2017-08-18T14:09:41.769Z 2017-08-18 14:09:41.769\n",
       "tutorial1.Checkpoint03  2017-08-18T14:10:52.544Z 2017-08-18 14:10:52.544\n",
       "tutorial1.Checkpoint04  2017-08-18T14:11:04.463Z 2017-08-18 14:11:04.463"
      ]
     },
     "execution_count": 1242,
     "metadata": {},
     "output_type": "execute_result"
    }
   ],
   "source": [
    "timedSections[\"firstReached\"] = pd.to_datetime(timedSections[\"serverTime\"])\n",
    "timedSections.head()"
   ]
  },
  {
   "cell_type": "code",
   "execution_count": 1243,
   "metadata": {
    "collapsed": false,
    "scrolled": true
   },
   "outputs": [
    {
     "data": {
      "text/html": [
       "<div>\n",
       "<style>\n",
       "    .dataframe thead tr:only-child th {\n",
       "        text-align: right;\n",
       "    }\n",
       "\n",
       "    .dataframe thead th {\n",
       "        text-align: left;\n",
       "    }\n",
       "\n",
       "    .dataframe tbody tr th {\n",
       "        vertical-align: top;\n",
       "    }\n",
       "</style>\n",
       "<table border=\"1\" class=\"dataframe\">\n",
       "  <thead>\n",
       "    <tr style=\"text-align: right;\">\n",
       "      <th></th>\n",
       "      <th>serverTime</th>\n",
       "      <th>firstReached</th>\n",
       "      <th>firstCompletionDuration</th>\n",
       "    </tr>\n",
       "    <tr>\n",
       "      <th>section</th>\n",
       "      <th></th>\n",
       "      <th></th>\n",
       "      <th></th>\n",
       "    </tr>\n",
       "  </thead>\n",
       "  <tbody>\n",
       "    <tr>\n",
       "      <th>tutorial1.Checkpoint00</th>\n",
       "      <td>2017-08-18T14:01:06.876Z</td>\n",
       "      <td>2017-08-18 14:01:06.876</td>\n",
       "      <td>NaT</td>\n",
       "    </tr>\n",
       "    <tr>\n",
       "      <th>tutorial1.Checkpoint01</th>\n",
       "      <td>2017-08-18T14:02:17.575Z</td>\n",
       "      <td>2017-08-18 14:02:17.575</td>\n",
       "      <td>00:01:10.699000</td>\n",
       "    </tr>\n",
       "    <tr>\n",
       "      <th>tutorial1.Checkpoint02</th>\n",
       "      <td>2017-08-18T14:09:41.769Z</td>\n",
       "      <td>2017-08-18 14:09:41.769</td>\n",
       "      <td>00:07:24.194000</td>\n",
       "    </tr>\n",
       "    <tr>\n",
       "      <th>tutorial1.Checkpoint03</th>\n",
       "      <td>2017-08-18T14:10:52.544Z</td>\n",
       "      <td>2017-08-18 14:10:52.544</td>\n",
       "      <td>00:01:10.775000</td>\n",
       "    </tr>\n",
       "    <tr>\n",
       "      <th>tutorial1.Checkpoint04</th>\n",
       "      <td>2017-08-18T14:11:04.463Z</td>\n",
       "      <td>2017-08-18 14:11:04.463</td>\n",
       "      <td>00:00:11.919000</td>\n",
       "    </tr>\n",
       "  </tbody>\n",
       "</table>\n",
       "</div>"
      ],
      "text/plain": [
       "                                      serverTime            firstReached  \\\n",
       "section                                                                    \n",
       "tutorial1.Checkpoint00  2017-08-18T14:01:06.876Z 2017-08-18 14:01:06.876   \n",
       "tutorial1.Checkpoint01  2017-08-18T14:02:17.575Z 2017-08-18 14:02:17.575   \n",
       "tutorial1.Checkpoint02  2017-08-18T14:09:41.769Z 2017-08-18 14:09:41.769   \n",
       "tutorial1.Checkpoint03  2017-08-18T14:10:52.544Z 2017-08-18 14:10:52.544   \n",
       "tutorial1.Checkpoint04  2017-08-18T14:11:04.463Z 2017-08-18 14:11:04.463   \n",
       "\n",
       "                       firstCompletionDuration  \n",
       "section                                         \n",
       "tutorial1.Checkpoint00                     NaT  \n",
       "tutorial1.Checkpoint01         00:01:10.699000  \n",
       "tutorial1.Checkpoint02         00:07:24.194000  \n",
       "tutorial1.Checkpoint03         00:01:10.775000  \n",
       "tutorial1.Checkpoint04         00:00:11.919000  "
      ]
     },
     "execution_count": 1243,
     "metadata": {},
     "output_type": "execute_result"
    }
   ],
   "source": [
    "timedSections[\"firstCompletionDuration\"] = timedSections[\"firstReached\"].diff()\n",
    "timedSections"
   ]
  },
  {
   "cell_type": "markdown",
   "metadata": {},
   "source": [
    "# Functions\n",
    "\n",
    "<a id=functions />"
   ]
  },
  {
   "cell_type": "markdown",
   "metadata": {},
   "source": [
    "## Comparison between game and Google form performance"
   ]
  },
  {
   "cell_type": "code",
   "execution_count": 1244,
   "metadata": {
    "collapsed": true
   },
   "outputs": [],
   "source": [
    "reachEvents = df152[df152['type']=='reach'].loc[:,perSessionRelevantColumns]\n",
    "deathEvents = df152[df152['type']=='death'].loc[:,perSessionRelevantColumns]\n",
    "\n",
    "timedSectionsIndex = [\n",
    "                        'tutorial1.Checkpoint00',\n",
    "                        'tutorial1.Checkpoint01',\n",
    "                        'tutorial1.Checkpoint02',\n",
    "                        'tutorial1.Checkpoint03',\n",
    "                        'tutorial1.Checkpoint04',\n",
    "                        'tutorial1.Checkpoint05',\n",
    "                        'tutorial1.Checkpoint06',\n",
    "                        'tutorial1.Checkpoint07',\n",
    "                        'tutorial1.Checkpoint08',\n",
    "                        'tutorial1.Checkpoint09',\n",
    "                        'tutorial1.Checkpoint10',\n",
    "                        'tutorial1.Checkpoint11',\n",
    "                        'tutorial1.Checkpoint12',\n",
    "                        'tutorial1.Checkpoint13',\n",
    "                        'tutorial1.Checkpoint14',\n",
    "                     ]\n",
    "timedSectionsReachedColumns = ['serverTime', 'firstReached', 'firstCompletionDuration']\n",
    "timedSectionsDeathsColumns = ['deathsCount']\n",
    "eventSectionsColumns = ['count']"
   ]
  },
  {
   "cell_type": "code",
   "execution_count": 1245,
   "metadata": {
    "collapsed": true
   },
   "outputs": [],
   "source": [
    "# Returns a given session's checkpoints, the first server time at which they were reached, and completion time\n",
    "def getCheckpointsTimes( sessionId ):\n",
    "    perSession = reachEvents[reachEvents['sessionId']==sessionId]\n",
    "    perSession = perSession[perSession['section'].str.startswith('tutorial', na=False)]\n",
    "    timedSections = perSession.groupby(\"section\").agg({ \"serverTime\": np.min })\n",
    "    timedSections[\"firstReached\"] = pd.to_datetime(timedSections[\"serverTime\"])\n",
    "    timedSections[\"firstCompletionDuration\"] = timedSections[\"firstReached\"].diff()\n",
    "    return timedSections"
   ]
  },
  {
   "cell_type": "code",
   "execution_count": 1246,
   "metadata": {
    "collapsed": true
   },
   "outputs": [],
   "source": [
    "# Returns a given session's checkpoints, and death count\n",
    "def getDeaths( sessionId ):\n",
    "    perSession = deathEvents[deathEvents['sessionId']==sessionId]\n",
    "    perSession = perSession[perSession['section'].str.startswith('tutorial', na=False)]\n",
    "    deathsSections = perSession.groupby(\"section\").size().reset_index(name='deathsCount')\n",
    "    return deathsSections"
   ]
  },
  {
   "cell_type": "code",
   "execution_count": 1247,
   "metadata": {
    "collapsed": false
   },
   "outputs": [],
   "source": [
    "# Returns a given user's checkpoints, the first server time at which they were reached, and completion time\n",
    "def getCheckpointsTimesUser( userId ):\n",
    "    #print(\"getCheckpointsTimesUser(\" + str(userId) + \")\")\n",
    "    \n",
    "    # List of associated sessions\n",
    "    sessionsList = getAllSessionsOfUser( df152, userId, True )\n",
    "    #print(\"sessionsList=\" + str(sessionsList))\n",
    "    \n",
    "    # Call getCheckpointsTimes on all sessions associated with user,\n",
    "    # then merge by taking oldest checkpoint completion\n",
    "    timedSections = pd.DataFrame(data=None, columns=timedSectionsReachedColumns,index=timedSectionsIndex)\n",
    "    \n",
    "    for sessionId in sessionsList['sessionId']:        \n",
    "        #print(\"processing user \" + str(userId) + \" with session \" + str(sessionId))\n",
    "        times = getCheckpointsTimes( sessionId )\n",
    "        \n",
    "        # merge\n",
    "        # for each checkpoint reached, update if necessary\n",
    "        for checkpointName in times.index:\n",
    "            if (np.isnan(timedSections['firstReached'][checkpointName]) \n",
    "                or (timeSection['firstReached'][checkpointName] < times['firstReached'][checkpointName])\n",
    "               ):\n",
    "                timedSections['serverTime'][checkpointName] = times['serverTime'][checkpointName]\n",
    "                timedSections['firstReached'][checkpointName] = times['firstReached'][checkpointName]\n",
    "        #print(times)\n",
    "        #print(type(times))        \n",
    "    \n",
    "    # update of firstCompletionDuration\n",
    "    #timedSections[\"firstCompletionDuration\"] = timedSections[\"firstReached\"].diff()\n",
    "    \n",
    "    return timedSections"
   ]
  },
  {
   "cell_type": "code",
   "execution_count": 1248,
   "metadata": {
    "collapsed": false
   },
   "outputs": [],
   "source": [
    "def getDeathsUser( userId ):\n",
    "    #print(\"getDeathsUser(\" + str(userId) + \")\")\n",
    "    \n",
    "    # List of associated sessions\n",
    "    sessionsList = getAllSessionsOfUser( df152, userId, True )\n",
    "    #print(\"sessionsList=\" + str(sessionsList))\n",
    "    \n",
    "    # Call getDeaths on all sessions associated with user,\n",
    "    # then merge by adding\n",
    "    deathsSections = pd.DataFrame(0, columns=timedSectionsDeathsColumns,index=timedSectionsIndex)\n",
    "    \n",
    "    for sessionId in sessionsList['sessionId']:        \n",
    "        #print(\"processing user \" + str(userId) + \" with session \" + str(sessionId))\n",
    "        deaths = getDeaths( sessionId )\n",
    "        \n",
    "        # merge\n",
    "        # for each checkpoint reached, update if necessary\n",
    "        for index in deaths.index:\n",
    "            #print(\"index=\" + str(index))\n",
    "            checkpointName = deaths['section'][index]\n",
    "            #print(\"checkpointName=\" + str(checkpointName))\n",
    "            #print(\"deaths['deathsCount'][\"+str(index)+\"]=\" + str(deaths['deathsCount'][index]))\n",
    "            \n",
    "            deathsSections['deathsCount'][checkpointName] = deathsSections['deathsCount'][checkpointName] + deaths['deathsCount'][index]\n",
    "    \n",
    "    return deathsSections"
   ]
  },
  {
   "cell_type": "code",
   "execution_count": 1249,
   "metadata": {
    "collapsed": true
   },
   "outputs": [],
   "source": [
    "# Returns a given session's checkpoints, and event count\n",
    "def getSectionsEvents( eventType, sessionId ):\n",
    "    events = df152[df152['type']==eventType].loc[:,perSessionRelevantColumns]\n",
    "    perSession = events[events['sessionId']==sessionId]\n",
    "    perSession = perSession[perSession['section'].str.startswith('tutorial', na=False)]\n",
    "    sectionsEvents = perSession.groupby(\"section\").size().reset_index(name='count')\n",
    "    return sectionsEvents"
   ]
  },
  {
   "cell_type": "code",
   "execution_count": 1250,
   "metadata": {
    "collapsed": true
   },
   "outputs": [],
   "source": [
    "def getUserSectionsEvents( eventType, userId ):\n",
    "    \n",
    "    # List of associated sessions\n",
    "    sessionsList = getAllSessionsOfUser( df152, userId, True )\n",
    "    #print(\"sessionsList=\" + str(sessionsList))\n",
    "    \n",
    "    # Call getSectionsEvents on all sessions associated with user,\n",
    "    # then merge by adding\n",
    "    userSectionsEvents = pd.DataFrame(0, columns=eventSectionsColumns,index=timedSectionsIndex)\n",
    "    \n",
    "    for sessionId in sessionsList['sessionId']:\n",
    "        sessionSectionsEvents = getSectionsEvents( eventType, sessionId )\n",
    "        \n",
    "        # merge\n",
    "        # for each checkpoint reached, update if necessary\n",
    "        for index in sessionSectionsEvents.index:\n",
    "            checkpointName = sessionSectionsEvents['section'][index]\n",
    "            userSectionsEvents['count'][checkpointName] = userSectionsEvents['count'][checkpointName] + sessionSectionsEvents['count'][index]\n",
    "    \n",
    "    return userSectionsEvents"
   ]
  },
  {
   "cell_type": "code",
   "execution_count": 1251,
   "metadata": {
    "collapsed": true
   },
   "outputs": [],
   "source": [
    "def getUserSectionsEventsTotal( eventType, userId ):\n",
    "    events = getUserSectionsEvents( eventType, userId )\n",
    "    return events.values.sum()"
   ]
  },
  {
   "cell_type": "code",
   "execution_count": 1252,
   "metadata": {
    "collapsed": false
   },
   "outputs": [],
   "source": [
    "# Returns a given user's unique reached checkpoints\n",
    "def getUserCheckpoints( userId ):\n",
    "    #print(\"getUserCheckpoints(\" + str(userId) + \")\")\n",
    "\n",
    "    # List of associated sessions\n",
    "    sessionsList = getAllSessionsOfUser( df152, userId, True )\n",
    "    #print(\"sessionsList=\" + str(sessionsList))\n",
    "    \n",
    "    # List all 'reach' events with those sessionIds.\n",
    "    perUser = reachEvents[reachEvents['sessionId'].isin(sessionsList[sessionsList['userId']==userId])]\n",
    "    perUser = perUser[perUser['section'].str.startswith('tutorial', na=False)]\n",
    "    return pd.Series(perUser['section'].unique())\n",
    "\n",
    "\n",
    "def getDiscrepancyGameGForm( userId ):\n",
    "    gformNonVal = getNonValidatedCheckpoints(userId)\n",
    "    gformVal = getValidatedCheckpoints(userId)\n",
    "    gameVal = getUserCheckpoints(userId)\n",
    "    \n",
    "    #sorted, unique values in series1 that are not in series2\n",
    "    #np.setdiff1d(series1.values, series2.values)\n",
    "    \n",
    "    #user has answered questions whose answer they haven't seen in the game\n",
    "    gameNotEnough = pd.Series(np.setdiff1d(gformVal.values, gameVal.values))\n",
    "    \n",
    "    #user has not answered questions whose answer they have seen in the game\n",
    "    gformNotEnough = []\n",
    "    maxGameVal = ''\n",
    "    if gameVal.values.size!=0:\n",
    "        gameVal.values.max()\n",
    "    for nonVal in gformNonVal.values:\n",
    "        if nonVal >= maxGameVal:\n",
    "            gformNotEnough.append(nonVal)    \n",
    "    gformNotEnough = pd.Series(gformNotEnough)\n",
    "    \n",
    "    return (gameNotEnough, gformNotEnough)"
   ]
  },
  {
   "cell_type": "code",
   "execution_count": 1253,
   "metadata": {
    "collapsed": false
   },
   "outputs": [],
   "source": [
    "# possible events: complete\tconfigure\tcraft\tdeath\tequip\tgotomooc\tgotourl\tpickup\treach\trestart\tselectmenu\tstart\tswitch\tunequip\n",
    "userDataVectorIndex = np.concatenate( ([\n",
    "                                            #gform\n",
    "                                            'score',\n",
    "\n",
    "                                            #game\n",
    "                                            'sessionsCount',\n",
    "                                        ],\n",
    "                                     simpleEvents))\n",
    "\n",
    "simpleEvents = ['complete','configure','craft','death','equip','gotomooc','gotourl','pickup','reach','restart','selectmenu','start','switch','unequip']"
   ]
  },
  {
   "cell_type": "code",
   "execution_count": 1254,
   "metadata": {
    "collapsed": false
   },
   "outputs": [],
   "source": [
    "def getUserDataVector( userId ):\n",
    "    \n",
    "    columnName = str(userId)\n",
    "    \n",
    "    data = pd.DataFrame(0, columns=[columnName],index=userDataVectorIndex)\n",
    "    \n",
    "    data[columnName]['score'] = getScore( userId )\n",
    "    \n",
    "    data[columnName]['sessionsCount'] = countSessions( df152, userId, False)\n",
    "    \n",
    "    for eventName in simpleEvents:\n",
    "        data[columnName][eventName] = getUserSectionsEventsTotal(eventName, userId)\n",
    "    \n",
    "    return data"
   ]
  },
  {
   "cell_type": "code",
   "execution_count": 1255,
   "metadata": {
    "collapsed": true
   },
   "outputs": [],
   "source": [
    "def getAllUsers( dataframe ):\n",
    "    allUserIds = np.array(dataframe['userId'].unique())\n",
    "    allUserIds = [i for i in allUserIds if not i in ['nan', np.nan, 'null']]\n",
    "    return allUserIds"
   ]
  },
  {
   "cell_type": "code",
   "execution_count": 1256,
   "metadata": {
    "collapsed": true
   },
   "outputs": [],
   "source": [
    "from ipywidgets import FloatProgress\n",
    "from IPython.display import display"
   ]
  },
  {
   "cell_type": "code",
   "execution_count": 1257,
   "metadata": {
    "collapsed": false
   },
   "outputs": [],
   "source": [
    "def getAllUserVectorData( userIds ):\n",
    "    \n",
    "    # result\n",
    "    isInitialized = False\n",
    "    allData = []\n",
    "\n",
    "    f = FloatProgress(min=0, max=len(userIds))\n",
    "    display(f)\n",
    "    \n",
    "    for userId in userIds:\n",
    "        print(str(userId))\n",
    "        f.value += 1\n",
    "        if not isInitialized:\n",
    "            isInitialized = True\n",
    "            allData = getUserDataVector(userId)\n",
    "        else:\n",
    "            allData = pd.concat([allData, getUserDataVector(userId)], axis=1)\n",
    "\n",
    "    print('done')\n",
    "    return allData"
   ]
  },
  {
   "cell_type": "code",
   "execution_count": 1258,
   "metadata": {
    "collapsed": false
   },
   "outputs": [
    {
     "name": "stdout",
     "output_type": "stream",
     "text": [
      "8d352896-a3f1-471c-8439-0f426df901c1\n",
      "7037c5b2-c286-498e-9784-9a061c778609\n",
      "5c4939b5-425b-4d19-b5d2-0384a515539e\n",
      "7825d421-d668-4481-898a-46b51efe40f0\n",
      "done\n"
     ]
    }
   ],
   "source": [
    "#allData = getAllUserVectorData( getAllUsers( df152 )[:10] )\n",
    "allData = getAllUserVectorData( getAllResponders() )"
   ]
  },
  {
   "cell_type": "code",
   "execution_count": 1259,
   "metadata": {
    "collapsed": false
   },
   "outputs": [
    {
     "data": {
      "text/html": [
       "<div>\n",
       "<style>\n",
       "    .dataframe thead tr:only-child th {\n",
       "        text-align: right;\n",
       "    }\n",
       "\n",
       "    .dataframe thead th {\n",
       "        text-align: left;\n",
       "    }\n",
       "\n",
       "    .dataframe tbody tr th {\n",
       "        vertical-align: top;\n",
       "    }\n",
       "</style>\n",
       "<table border=\"1\" class=\"dataframe\">\n",
       "  <thead>\n",
       "    <tr style=\"text-align: right;\">\n",
       "      <th></th>\n",
       "      <th>8d352896-a3f1-471c-8439-0f426df901c1</th>\n",
       "      <th>7037c5b2-c286-498e-9784-9a061c778609</th>\n",
       "      <th>5c4939b5-425b-4d19-b5d2-0384a515539e</th>\n",
       "      <th>7825d421-d668-4481-898a-46b51efe40f0</th>\n",
       "    </tr>\n",
       "  </thead>\n",
       "  <tbody>\n",
       "    <tr>\n",
       "      <th>score</th>\n",
       "      <td>19</td>\n",
       "      <td>23</td>\n",
       "      <td>16</td>\n",
       "      <td>24</td>\n",
       "    </tr>\n",
       "    <tr>\n",
       "      <th>sessionsCount</th>\n",
       "      <td>0</td>\n",
       "      <td>0</td>\n",
       "      <td>0</td>\n",
       "      <td>0</td>\n",
       "    </tr>\n",
       "    <tr>\n",
       "      <th>complete</th>\n",
       "      <td>0</td>\n",
       "      <td>0</td>\n",
       "      <td>0</td>\n",
       "      <td>0</td>\n",
       "    </tr>\n",
       "    <tr>\n",
       "      <th>configure</th>\n",
       "      <td>0</td>\n",
       "      <td>0</td>\n",
       "      <td>0</td>\n",
       "      <td>0</td>\n",
       "    </tr>\n",
       "    <tr>\n",
       "      <th>craft</th>\n",
       "      <td>0</td>\n",
       "      <td>0</td>\n",
       "      <td>0</td>\n",
       "      <td>0</td>\n",
       "    </tr>\n",
       "    <tr>\n",
       "      <th>death</th>\n",
       "      <td>0</td>\n",
       "      <td>0</td>\n",
       "      <td>0</td>\n",
       "      <td>0</td>\n",
       "    </tr>\n",
       "    <tr>\n",
       "      <th>equip</th>\n",
       "      <td>0</td>\n",
       "      <td>0</td>\n",
       "      <td>0</td>\n",
       "      <td>0</td>\n",
       "    </tr>\n",
       "    <tr>\n",
       "      <th>gotomooc</th>\n",
       "      <td>0</td>\n",
       "      <td>0</td>\n",
       "      <td>0</td>\n",
       "      <td>0</td>\n",
       "    </tr>\n",
       "    <tr>\n",
       "      <th>gotourl</th>\n",
       "      <td>0</td>\n",
       "      <td>0</td>\n",
       "      <td>0</td>\n",
       "      <td>0</td>\n",
       "    </tr>\n",
       "    <tr>\n",
       "      <th>pickup</th>\n",
       "      <td>0</td>\n",
       "      <td>0</td>\n",
       "      <td>0</td>\n",
       "      <td>0</td>\n",
       "    </tr>\n",
       "    <tr>\n",
       "      <th>reach</th>\n",
       "      <td>0</td>\n",
       "      <td>0</td>\n",
       "      <td>0</td>\n",
       "      <td>0</td>\n",
       "    </tr>\n",
       "    <tr>\n",
       "      <th>restart</th>\n",
       "      <td>0</td>\n",
       "      <td>0</td>\n",
       "      <td>0</td>\n",
       "      <td>0</td>\n",
       "    </tr>\n",
       "    <tr>\n",
       "      <th>selectmenu</th>\n",
       "      <td>0</td>\n",
       "      <td>0</td>\n",
       "      <td>0</td>\n",
       "      <td>0</td>\n",
       "    </tr>\n",
       "    <tr>\n",
       "      <th>start</th>\n",
       "      <td>0</td>\n",
       "      <td>0</td>\n",
       "      <td>0</td>\n",
       "      <td>0</td>\n",
       "    </tr>\n",
       "    <tr>\n",
       "      <th>switch</th>\n",
       "      <td>0</td>\n",
       "      <td>0</td>\n",
       "      <td>0</td>\n",
       "      <td>0</td>\n",
       "    </tr>\n",
       "    <tr>\n",
       "      <th>unequip</th>\n",
       "      <td>0</td>\n",
       "      <td>0</td>\n",
       "      <td>0</td>\n",
       "      <td>0</td>\n",
       "    </tr>\n",
       "  </tbody>\n",
       "</table>\n",
       "</div>"
      ],
      "text/plain": [
       "               8d352896-a3f1-471c-8439-0f426df901c1  \\\n",
       "score                                            19   \n",
       "sessionsCount                                     0   \n",
       "complete                                          0   \n",
       "configure                                         0   \n",
       "craft                                             0   \n",
       "death                                             0   \n",
       "equip                                             0   \n",
       "gotomooc                                          0   \n",
       "gotourl                                           0   \n",
       "pickup                                            0   \n",
       "reach                                             0   \n",
       "restart                                           0   \n",
       "selectmenu                                        0   \n",
       "start                                             0   \n",
       "switch                                            0   \n",
       "unequip                                           0   \n",
       "\n",
       "               7037c5b2-c286-498e-9784-9a061c778609  \\\n",
       "score                                            23   \n",
       "sessionsCount                                     0   \n",
       "complete                                          0   \n",
       "configure                                         0   \n",
       "craft                                             0   \n",
       "death                                             0   \n",
       "equip                                             0   \n",
       "gotomooc                                          0   \n",
       "gotourl                                           0   \n",
       "pickup                                            0   \n",
       "reach                                             0   \n",
       "restart                                           0   \n",
       "selectmenu                                        0   \n",
       "start                                             0   \n",
       "switch                                            0   \n",
       "unequip                                           0   \n",
       "\n",
       "               5c4939b5-425b-4d19-b5d2-0384a515539e  \\\n",
       "score                                            16   \n",
       "sessionsCount                                     0   \n",
       "complete                                          0   \n",
       "configure                                         0   \n",
       "craft                                             0   \n",
       "death                                             0   \n",
       "equip                                             0   \n",
       "gotomooc                                          0   \n",
       "gotourl                                           0   \n",
       "pickup                                            0   \n",
       "reach                                             0   \n",
       "restart                                           0   \n",
       "selectmenu                                        0   \n",
       "start                                             0   \n",
       "switch                                            0   \n",
       "unequip                                           0   \n",
       "\n",
       "               7825d421-d668-4481-898a-46b51efe40f0  \n",
       "score                                            24  \n",
       "sessionsCount                                     0  \n",
       "complete                                          0  \n",
       "configure                                         0  \n",
       "craft                                             0  \n",
       "death                                             0  \n",
       "equip                                             0  \n",
       "gotomooc                                          0  \n",
       "gotourl                                           0  \n",
       "pickup                                            0  \n",
       "reach                                             0  \n",
       "restart                                           0  \n",
       "selectmenu                                        0  \n",
       "start                                             0  \n",
       "switch                                            0  \n",
       "unequip                                           0  "
      ]
     },
     "execution_count": 1259,
     "metadata": {},
     "output_type": "execute_result"
    }
   ],
   "source": [
    "allData"
   ]
  },
  {
   "cell_type": "code",
   "execution_count": 1260,
   "metadata": {
    "collapsed": false
   },
   "outputs": [
    {
     "data": {
      "text/plain": [
       "['\"4dbc2f43-421c-4e23-85d4-f17723ff8c66\"',\n",
       " '\"1a8924de-7cc6-4ff5-8735-4cddac309117\"',\n",
       " '\"a6483353-5db1-4c6c-98d7-b6328d0f4456\"',\n",
       " '\"0fa88384-3115-4ebd-990d-6bd29214c04f\"',\n",
       " '\"1f742172-0443-4fc7-b38a-621fa62b323f\"',\n",
       " '\"8116ab59-446b-4dfb-8154-445f5ac84a1e\"',\n",
       " '\"9abd384c-2f36-4de6-8cd4-af32cb2459ff\"',\n",
       " '\"a151ad65-75fd-4dc1-b466-8852e6f085d2\"',\n",
       " '\"4c617aef-2e03-4f56-b863-89d4f44128ef\"',\n",
       " '\"7412a447-8177-48e9-82c5-cb31032f76a9\"']"
      ]
     },
     "execution_count": 1260,
     "metadata": {},
     "output_type": "execute_result"
    }
   ],
   "source": [
    "getAllUsers(df152)[:10]"
   ]
  },
  {
   "cell_type": "code",
   "execution_count": 1261,
   "metadata": {
    "collapsed": false
   },
   "outputs": [
    {
     "data": {
      "text/plain": [
       "247"
      ]
     },
     "execution_count": 1261,
     "metadata": {},
     "output_type": "execute_result"
    }
   ],
   "source": [
    "len(getAllUsers(df152))"
   ]
  },
  {
   "cell_type": "code",
   "execution_count": 1262,
   "metadata": {
    "collapsed": false
   },
   "outputs": [
    {
     "data": {
      "text/html": [
       "<div>\n",
       "<style>\n",
       "    .dataframe thead tr:only-child th {\n",
       "        text-align: right;\n",
       "    }\n",
       "\n",
       "    .dataframe thead th {\n",
       "        text-align: left;\n",
       "    }\n",
       "\n",
       "    .dataframe tbody tr th {\n",
       "        vertical-align: top;\n",
       "    }\n",
       "</style>\n",
       "<table border=\"1\" class=\"dataframe\">\n",
       "  <thead>\n",
       "    <tr style=\"text-align: right;\">\n",
       "      <th></th>\n",
       "      <th>\"8d352896-a3f1-471c-8439-0f426df901c1\"</th>\n",
       "    </tr>\n",
       "  </thead>\n",
       "  <tbody>\n",
       "    <tr>\n",
       "      <th>score</th>\n",
       "      <td>19</td>\n",
       "    </tr>\n",
       "    <tr>\n",
       "      <th>sessionsCount</th>\n",
       "      <td>1</td>\n",
       "    </tr>\n",
       "    <tr>\n",
       "      <th>complete</th>\n",
       "      <td>0</td>\n",
       "    </tr>\n",
       "    <tr>\n",
       "      <th>configure</th>\n",
       "      <td>0</td>\n",
       "    </tr>\n",
       "    <tr>\n",
       "      <th>craft</th>\n",
       "      <td>4</td>\n",
       "    </tr>\n",
       "    <tr>\n",
       "      <th>death</th>\n",
       "      <td>5</td>\n",
       "    </tr>\n",
       "    <tr>\n",
       "      <th>equip</th>\n",
       "      <td>0</td>\n",
       "    </tr>\n",
       "    <tr>\n",
       "      <th>gotomooc</th>\n",
       "      <td>0</td>\n",
       "    </tr>\n",
       "    <tr>\n",
       "      <th>gotourl</th>\n",
       "      <td>0</td>\n",
       "    </tr>\n",
       "    <tr>\n",
       "      <th>pickup</th>\n",
       "      <td>9</td>\n",
       "    </tr>\n",
       "    <tr>\n",
       "      <th>reach</th>\n",
       "      <td>7</td>\n",
       "    </tr>\n",
       "    <tr>\n",
       "      <th>restart</th>\n",
       "      <td>0</td>\n",
       "    </tr>\n",
       "    <tr>\n",
       "      <th>selectmenu</th>\n",
       "      <td>0</td>\n",
       "    </tr>\n",
       "    <tr>\n",
       "      <th>start</th>\n",
       "      <td>0</td>\n",
       "    </tr>\n",
       "    <tr>\n",
       "      <th>switch</th>\n",
       "      <td>0</td>\n",
       "    </tr>\n",
       "    <tr>\n",
       "      <th>unequip</th>\n",
       "      <td>0</td>\n",
       "    </tr>\n",
       "  </tbody>\n",
       "</table>\n",
       "</div>"
      ],
      "text/plain": [
       "               \"8d352896-a3f1-471c-8439-0f426df901c1\"\n",
       "score                                              19\n",
       "sessionsCount                                       1\n",
       "complete                                            0\n",
       "configure                                           0\n",
       "craft                                               4\n",
       "death                                               5\n",
       "equip                                               0\n",
       "gotomooc                                            0\n",
       "gotourl                                             0\n",
       "pickup                                              9\n",
       "reach                                               7\n",
       "restart                                             0\n",
       "selectmenu                                          0\n",
       "start                                               0\n",
       "switch                                              0\n",
       "unequip                                             0"
      ]
     },
     "execution_count": 1262,
     "metadata": {},
     "output_type": "execute_result"
    }
   ],
   "source": [
    "testResult = getUserDataVector('\"8d352896-a3f1-471c-8439-0f426df901c1\"')\n",
    "testResult"
   ]
  },
  {
   "cell_type": "code",
   "execution_count": null,
   "metadata": {
    "collapsed": false
   },
   "outputs": [
    {
     "data": {
      "text/html": [
       "<div>\n",
       "<style>\n",
       "    .dataframe thead tr:only-child th {\n",
       "        text-align: right;\n",
       "    }\n",
       "\n",
       "    .dataframe thead th {\n",
       "        text-align: left;\n",
       "    }\n",
       "\n",
       "    .dataframe tbody tr th {\n",
       "        vertical-align: top;\n",
       "    }\n",
       "</style>\n",
       "<table border=\"1\" class=\"dataframe\">\n",
       "  <thead>\n",
       "    <tr style=\"text-align: right;\">\n",
       "      <th></th>\n",
       "      <th>\"e2f8d5e4-cccd-4d1a-909b-c9c92f6b83c1\"</th>\n",
       "    </tr>\n",
       "  </thead>\n",
       "  <tbody>\n",
       "    <tr>\n",
       "      <th>score</th>\n",
       "      <td>NaN</td>\n",
       "    </tr>\n",
       "    <tr>\n",
       "      <th>sessionsCount</th>\n",
       "      <td>1.0</td>\n",
       "    </tr>\n",
       "    <tr>\n",
       "      <th>complete</th>\n",
       "      <td>0.0</td>\n",
       "    </tr>\n",
       "    <tr>\n",
       "      <th>configure</th>\n",
       "      <td>0.0</td>\n",
       "    </tr>\n",
       "    <tr>\n",
       "      <th>craft</th>\n",
       "      <td>23.0</td>\n",
       "    </tr>\n",
       "    <tr>\n",
       "      <th>death</th>\n",
       "      <td>17.0</td>\n",
       "    </tr>\n",
       "    <tr>\n",
       "      <th>equip</th>\n",
       "      <td>0.0</td>\n",
       "    </tr>\n",
       "    <tr>\n",
       "      <th>gotomooc</th>\n",
       "      <td>0.0</td>\n",
       "    </tr>\n",
       "    <tr>\n",
       "      <th>gotourl</th>\n",
       "      <td>0.0</td>\n",
       "    </tr>\n",
       "    <tr>\n",
       "      <th>pickup</th>\n",
       "      <td>18.0</td>\n",
       "    </tr>\n",
       "    <tr>\n",
       "      <th>reach</th>\n",
       "      <td>16.0</td>\n",
       "    </tr>\n",
       "    <tr>\n",
       "      <th>restart</th>\n",
       "      <td>1.0</td>\n",
       "    </tr>\n",
       "    <tr>\n",
       "      <th>selectmenu</th>\n",
       "      <td>3.0</td>\n",
       "    </tr>\n",
       "    <tr>\n",
       "      <th>start</th>\n",
       "      <td>0.0</td>\n",
       "    </tr>\n",
       "    <tr>\n",
       "      <th>switch</th>\n",
       "      <td>0.0</td>\n",
       "    </tr>\n",
       "    <tr>\n",
       "      <th>unequip</th>\n",
       "      <td>0.0</td>\n",
       "    </tr>\n",
       "  </tbody>\n",
       "</table>\n",
       "</div>"
      ],
      "text/plain": [
       "               \"e2f8d5e4-cccd-4d1a-909b-c9c92f6b83c1\"\n",
       "score                                             NaN\n",
       "sessionsCount                                     1.0\n",
       "complete                                          0.0\n",
       "configure                                         0.0\n",
       "craft                                            23.0\n",
       "death                                            17.0\n",
       "equip                                             0.0\n",
       "gotomooc                                          0.0\n",
       "gotourl                                           0.0\n",
       "pickup                                           18.0\n",
       "reach                                            16.0\n",
       "restart                                           1.0\n",
       "selectmenu                                        3.0\n",
       "start                                             0.0\n",
       "switch                                            0.0\n",
       "unequip                                           0.0"
      ]
     },
     "execution_count": 1263,
     "metadata": {},
     "output_type": "execute_result"
    }
   ],
   "source": [
    "testResult = getUserDataVector('\"e2f8d5e4-cccd-4d1a-909b-c9c92f6b83c1\"')\n",
    "testResult"
   ]
  },
  {
   "cell_type": "code",
   "execution_count": null,
   "metadata": {
    "collapsed": false
   },
   "outputs": [],
   "source": [
    "testResult = getUserDataVector('\"7412a447-8177-48e9-82c5-cb31032f76a9\"')\n",
    "testResult"
   ]
  },
  {
   "cell_type": "code",
   "execution_count": null,
   "metadata": {
    "collapsed": false
   },
   "outputs": [],
   "source": [
    "testResult['\"7412a447-8177-48e9-82c5-cb31032f76a9\"']['death']"
   ]
  },
  {
   "cell_type": "markdown",
   "metadata": {},
   "source": [
    "## Tests"
   ]
  },
  {
   "cell_type": "code",
   "execution_count": null,
   "metadata": {
    "collapsed": false
   },
   "outputs": [],
   "source": [
    "gformNotEnough = []\n",
    "print(gformNotEnough)\n",
    "\n",
    "gformNotEnough.append(5)\n",
    "print(gformNotEnough)\n",
    "\n",
    "gformNotEnough = pd.Series(gformNotEnough)\n",
    "print(gformNotEnough)"
   ]
  },
  {
   "cell_type": "code",
   "execution_count": null,
   "metadata": {
    "collapsed": false
   },
   "outputs": [],
   "source": [
    "gformNotEnough = np.array([])\n",
    "print(gformNotEnough)\n",
    "\n",
    "gformNotEnough = np.append(gformNotEnough, [5])\n",
    "print(gformNotEnough)\n",
    "\n",
    "gformNotEnough = pd.Series(gformNotEnough)\n",
    "print(gformNotEnough)"
   ]
  },
  {
   "cell_type": "code",
   "execution_count": null,
   "metadata": {
    "collapsed": false
   },
   "outputs": [],
   "source": [
    "testNonVal = pd.Series(['tutorial1.Checkpoint13'])"
   ]
  },
  {
   "cell_type": "code",
   "execution_count": null,
   "metadata": {
    "collapsed": false
   },
   "outputs": [],
   "source": [
    "gformNonVal = getNonValidatedCheckpoints(localplayerguid)\n",
    "gformNonVal"
   ]
  },
  {
   "cell_type": "code",
   "execution_count": null,
   "metadata": {
    "collapsed": false,
    "scrolled": false
   },
   "outputs": [],
   "source": [
    "getUserCheckpoints( localplayerguid )"
   ]
  },
  {
   "cell_type": "code",
   "execution_count": null,
   "metadata": {
    "collapsed": false,
    "scrolled": false
   },
   "outputs": [],
   "source": [
    "getDiscrepancyGameGForm( localplayerguid )"
   ]
  },
  {
   "cell_type": "code",
   "execution_count": null,
   "metadata": {
    "collapsed": false
   },
   "outputs": [],
   "source": [
    "getUserCheckpoints(localplayerguid)"
   ]
  },
  {
   "cell_type": "code",
   "execution_count": null,
   "metadata": {
    "collapsed": false
   },
   "outputs": [],
   "source": [
    "test = getValidatedCheckpoints(localplayerguid)\n",
    "test"
   ]
  },
  {
   "cell_type": "code",
   "execution_count": null,
   "metadata": {
    "collapsed": false
   },
   "outputs": [],
   "source": [
    "max = test.values.max()\n",
    "max"
   ]
  },
  {
   "cell_type": "code",
   "execution_count": null,
   "metadata": {
    "collapsed": false,
    "scrolled": true
   },
   "outputs": [],
   "source": [
    "getNonValidatedCheckpoints(localplayerguid)"
   ]
  },
  {
   "cell_type": "code",
   "execution_count": null,
   "metadata": {
    "collapsed": false
   },
   "outputs": [],
   "source": [
    "testlocalplayerguid = '\"7412a447-8177-48e9-82c5-cb31032f76a9\"'"
   ]
  },
  {
   "cell_type": "code",
   "execution_count": null,
   "metadata": {
    "collapsed": false,
    "scrolled": true
   },
   "outputs": [],
   "source": [
    "test = pd.DataFrame({\n",
    "                        'section' : ['tutorial1.Checkpoint00', 'tutorial1.Checkpoint01', 'tutorial1.Checkpoint02'],\n",
    "                        'serverTime' : ['0', '1', '2'],\n",
    "                        'firstReached' : ['0', '1', '2'],\n",
    "                        'firstCompletionDuration' : ['0', '1', '2'],\n",
    "                    })\n",
    "test\n",
    "#pd.DataFrame({  'A' : 1.,\n",
    "#                'B' : pd.Timestamp('20130102'),\n",
    "#                'C' : pd.Series(1,index=list(range(4)),dtype='float32'),\n",
    "#                'D' : np.array([3] * 4,dtype='int32'),\n",
    "#                'E' : pd.Categorical([\"test\",\"train\",\"test\",\"train\"]),\n",
    "#                'F' : 'foo' })"
   ]
  },
  {
   "cell_type": "code",
   "execution_count": null,
   "metadata": {
    "collapsed": false,
    "scrolled": true
   },
   "outputs": [],
   "source": [
    "testSr = pd.Series([])\n",
    "testSr.values.size"
   ]
  },
  {
   "cell_type": "code",
   "execution_count": null,
   "metadata": {
    "collapsed": false
   },
   "outputs": [],
   "source": [
    "checkpointTimes = getCheckpointsTimes('\"958a0e85-1634-4559-bce6-d6af28b7e649\"')\n",
    "checkpointTimes"
   ]
  },
  {
   "cell_type": "code",
   "execution_count": null,
   "metadata": {
    "collapsed": false,
    "scrolled": true
   },
   "outputs": [],
   "source": [
    "type(checkpointTimes)"
   ]
  },
  {
   "cell_type": "code",
   "execution_count": null,
   "metadata": {
    "collapsed": false
   },
   "outputs": [],
   "source": [
    "testDF = pd.DataFrame({}, columns=checkpointTimes.columns)\n",
    "testDF"
   ]
  },
  {
   "cell_type": "code",
   "execution_count": null,
   "metadata": {
    "collapsed": false
   },
   "outputs": [],
   "source": [
    "testDF['serverTime']['testIndex'] = np.nan\n",
    "testDF"
   ]
  },
  {
   "cell_type": "code",
   "execution_count": null,
   "metadata": {
    "collapsed": false
   },
   "outputs": [],
   "source": [
    "testDF = testDF.add({'serverTime': 'a', 'firstReached': 'b', 'firstCompletionDuration': 'c'})\n",
    "testDF"
   ]
  },
  {
   "cell_type": "code",
   "execution_count": null,
   "metadata": {
    "collapsed": false
   },
   "outputs": [],
   "source": [
    "othersessionId = \"c430c60c-d7cb-4fc5-893b-dce440696caf\"\n",
    "checkpointTimes = getCheckpointsTimes(othersessionId)\n",
    "checkpointTimes"
   ]
  },
  {
   "cell_type": "code",
   "execution_count": null,
   "metadata": {
    "collapsed": false
   },
   "outputs": [],
   "source": [
    "checkpointTimes.loc[checkpointTimes.index[0]]"
   ]
  },
  {
   "cell_type": "code",
   "execution_count": null,
   "metadata": {
    "collapsed": false
   },
   "outputs": [],
   "source": [
    "checkpointTimes.loc[checkpointTimes.index[0]].name"
   ]
  },
  {
   "cell_type": "code",
   "execution_count": null,
   "metadata": {
    "collapsed": false
   },
   "outputs": [],
   "source": [
    "reachEvents.head()"
   ]
  },
  {
   "cell_type": "code",
   "execution_count": null,
   "metadata": {
    "collapsed": false
   },
   "outputs": [],
   "source": [
    "perSession = reachEvents[reachEvents['sessionId']==othersessionId]\n",
    "perSession.head()"
   ]
  },
  {
   "cell_type": "code",
   "execution_count": null,
   "metadata": {
    "collapsed": false
   },
   "outputs": [],
   "source": [
    "perSession = perSession[perSession['section'].str.startswith('tutorial', na=False)]\n",
    "perSession.head()"
   ]
  },
  {
   "cell_type": "code",
   "execution_count": null,
   "metadata": {
    "collapsed": false
   },
   "outputs": [],
   "source": [
    "timedSections = perSession.groupby(\"section\").agg({ \"serverTime\": np.min })\n",
    "timedSections.head()"
   ]
  },
  {
   "cell_type": "code",
   "execution_count": null,
   "metadata": {
    "collapsed": false
   },
   "outputs": [],
   "source": [
    "timedSections[\"firstReached\"] = pd.to_datetime(timedSections[\"serverTime\"])\n",
    "timedSections.head()"
   ]
  },
  {
   "cell_type": "code",
   "execution_count": null,
   "metadata": {
    "collapsed": false,
    "scrolled": true
   },
   "outputs": [],
   "source": [
    "timedSections[\"firstCompletionDuration\"] = timedSections[\"firstReached\"].diff()\n",
    "timedSections.head()"
   ]
  },
  {
   "cell_type": "code",
   "execution_count": null,
   "metadata": {
    "collapsed": false
   },
   "outputs": [],
   "source": [
    "pd.melt(timedSections).head(1)"
   ]
  },
  {
   "cell_type": "code",
   "execution_count": null,
   "metadata": {
    "collapsed": false,
    "scrolled": true
   },
   "outputs": [],
   "source": [
    "timedSections.unstack().reset_index().drop('level_0', axis=1).head(1)"
   ]
  },
  {
   "cell_type": "code",
   "execution_count": null,
   "metadata": {
    "collapsed": false
   },
   "outputs": [],
   "source": [
    "timedSections.columns"
   ]
  },
  {
   "cell_type": "code",
   "execution_count": null,
   "metadata": {
    "collapsed": false
   },
   "outputs": [],
   "source": [
    "timedSections.index"
   ]
  },
  {
   "cell_type": "code",
   "execution_count": null,
   "metadata": {
    "collapsed": false
   },
   "outputs": [],
   "source": [
    "#timedSections[timedSections['section']=='tutorial1.Checkpoint00']\n",
    "#timedSections['section']\n",
    "#timedSections.unstack().reset_index().drop('level_0', axis=1)"
   ]
  },
  {
   "cell_type": "code",
   "execution_count": null,
   "metadata": {
    "collapsed": false
   },
   "outputs": [],
   "source": [
    "timedSections['serverTime']['tutorial1.Checkpoint00']"
   ]
  },
  {
   "cell_type": "code",
   "execution_count": null,
   "metadata": {
    "collapsed": false
   },
   "outputs": [],
   "source": [
    "timedSections['firstReached']['tutorial1.Checkpoint00']"
   ]
  },
  {
   "cell_type": "code",
   "execution_count": null,
   "metadata": {
    "collapsed": false
   },
   "outputs": [],
   "source": [
    "testTimeStamp = pd.Timestamp('2017-01-12 11:00:15.511000')\n",
    "testTimeStamp"
   ]
  },
  {
   "cell_type": "code",
   "execution_count": null,
   "metadata": {
    "collapsed": false
   },
   "outputs": [],
   "source": [
    "timedSections.loc['tutorial1.Checkpoint00']"
   ]
  },
  {
   "cell_type": "code",
   "execution_count": null,
   "metadata": {
    "collapsed": false
   },
   "outputs": [],
   "source": [
    "timedSections.loc['tutorial1.Checkpoint00']['serverTime']"
   ]
  },
  {
   "cell_type": "code",
   "execution_count": null,
   "metadata": {
    "collapsed": false
   },
   "outputs": [],
   "source": [
    "for checkpoint in timedSections.index:\n",
    "    print(checkpoint)"
   ]
  },
  {
   "cell_type": "code",
   "execution_count": null,
   "metadata": {
    "collapsed": false
   },
   "outputs": [],
   "source": [
    "#timedSections = []\n",
    "\n",
    "#times = getCheckpointsTimes( sessionId )\n",
    "\n",
    "for checkpoint in timedSections.index:\n",
    "    if testTimeStamp < timedSections['firstReached'][checkpoint]:\n",
    "        print(checkpoint)"
   ]
  },
  {
   "cell_type": "code",
   "execution_count": null,
   "metadata": {
    "collapsed": false
   },
   "outputs": [],
   "source": [
    "timedSections.empty"
   ]
  },
  {
   "cell_type": "code",
   "execution_count": null,
   "metadata": {
    "collapsed": false
   },
   "outputs": [],
   "source": [
    "checkpointTimes.index"
   ]
  },
  {
   "cell_type": "code",
   "execution_count": null,
   "metadata": {
    "collapsed": false
   },
   "outputs": [],
   "source": [
    "checkpointTimes.columns"
   ]
  },
  {
   "cell_type": "code",
   "execution_count": null,
   "metadata": {
    "collapsed": false
   },
   "outputs": [],
   "source": [
    "testTimedSections = pd.DataFrame(data=None, columns=timedSectionsReachedColumns,index=timedSectionsIndex)\n",
    "testTimedSections"
   ]
  },
  {
   "cell_type": "code",
   "execution_count": null,
   "metadata": {
    "collapsed": false,
    "scrolled": false
   },
   "outputs": [],
   "source": [
    "getCheckpointsTimesUser(testlocalplayerguid)['firstCompletionDuration']\n",
    "getCheckpointsTimesUser(testlocalplayerguid)\n",
    "testTimedSections = pd.DataFrame(data=None, columns=timedSectionsReachedColumns,index=timedSectionsIndex)\n",
    "#testTimedSections['firstReached']['tutorial1.Checkpoint01'] = pd.Timestamp('20130102')\n",
    "testTimedSections[\"firstCompletionDuration\"] = testTimedSections[\"firstReached\"].diff()\n",
    "testTimedSections"
   ]
  },
  {
   "cell_type": "code",
   "execution_count": null,
   "metadata": {
    "collapsed": false
   },
   "outputs": [],
   "source": [
    "# user \"e2f8d5e4-cccd-4d1a-909b-c9c92f6b83c1\"\n",
    "# session testSessionId\n",
    "getDeaths(testSessionId)\n",
    "testResult = getDeathsUser('\"e2f8d5e4-cccd-4d1a-909b-c9c92f6b83c1\"')\n",
    "testResult\n",
    "testResult.index\n",
    "#localplayerguid\n",
    "#\"8bd5d335-d20e-4db5-9979-feb668ba7c71\"\n",
    "getDeaths(\"8bd5d335-d20e-4db5-9979-feb668ba7c71\")\n",
    "getDeathsUser(localplayerguid)"
   ]
  },
  {
   "cell_type": "code",
   "execution_count": null,
   "metadata": {
    "collapsed": false
   },
   "outputs": [],
   "source": [
    "getSectionsEvents('death', testSessionId)\n",
    "testResult = getUserSectionsEvents('death', '\"e2f8d5e4-cccd-4d1a-909b-c9c92f6b83c1\"')\n",
    "testResult"
   ]
  },
  {
   "cell_type": "code",
   "execution_count": null,
   "metadata": {
    "collapsed": false
   },
   "outputs": [],
   "source": [
    "getUserSectionsEventsTotal('death', '\"e2f8d5e4-cccd-4d1a-909b-c9c92f6b83c1\"')"
   ]
  }
 ],
 "metadata": {
  "kernelspec": {
   "display_name": "Python 3",
   "language": "python",
   "name": "python3"
  },
  "language_info": {
   "codemirror_mode": {
    "name": "ipython",
    "version": 3
   },
   "file_extension": ".py",
   "mimetype": "text/x-python",
   "name": "python",
   "nbconvert_exporter": "python",
   "pygments_lexer": "ipython3",
   "version": "3.5.4"
  }
 },
 "nbformat": 4,
 "nbformat_minor": 0
}
