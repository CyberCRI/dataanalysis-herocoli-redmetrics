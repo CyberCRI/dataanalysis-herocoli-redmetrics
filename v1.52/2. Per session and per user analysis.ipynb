{
 "cells": [
  {
   "cell_type": "markdown",
   "metadata": {},
   "source": [
    "# Preparation"
   ]
  },
  {
   "cell_type": "code",
   "execution_count": 100,
   "metadata": {
    "collapsed": false
   },
   "outputs": [
    {
     "name": "stderr",
     "output_type": "stream",
     "text": [
      "C:\\Users\\Mikael\\Anaconda3\\lib\\site-packages\\IPython\\core\\interactiveshell.py:2902: DtypeWarning: Columns (24,32,34) have mixed types. Specify dtype option on import or set low_memory=False.\n",
      "  interactivity=interactivity, compiler=compiler, result=result)\n",
      "C:\\Users\\Mikael\\Anaconda3\\lib\\site-packages\\IPython\\core\\interactiveshell.py:2902: DtypeWarning: Columns (24,32,34) have mixed types. Specify dtype option on import or set low_memory=False.\n",
      "  interactivity=interactivity, compiler=compiler, result=result)\n"
     ]
    }
   ],
   "source": [
    "%run Utilities/Preparation.ipynb\n",
    "%run \"1. Google form analysis.ipynb\"\n",
    "%run \"3. Game sessions.ipynb\"\n",
    "\n",
    "df152 = pd.read_csv(\"../data/2017-09-05.1.52.csv\")\n",
    "df152 = getNormalizedRedMetricsCSV(df152)"
   ]
  },
  {
   "cell_type": "code",
   "execution_count": 101,
   "metadata": {
    "collapsed": false
   },
   "outputs": [
    {
     "data": {
      "text/html": [
       "<div>\n",
       "<style>\n",
       "    .dataframe thead tr:only-child th {\n",
       "        text-align: right;\n",
       "    }\n",
       "\n",
       "    .dataframe thead th {\n",
       "        text-align: left;\n",
       "    }\n",
       "\n",
       "    .dataframe tbody tr th {\n",
       "        vertical-align: top;\n",
       "    }\n",
       "</style>\n",
       "<table border=\"1\" class=\"dataframe\">\n",
       "  <thead>\n",
       "    <tr style=\"text-align: right;\">\n",
       "      <th></th>\n",
       "      <th>coordinates</th>\n",
       "      <th>customData</th>\n",
       "      <th>customData.biobrick</th>\n",
       "      <th>customData.chapter</th>\n",
       "      <th>customData.controls</th>\n",
       "      <th>customData.count</th>\n",
       "      <th>customData.device</th>\n",
       "      <th>customData.devices</th>\n",
       "      <th>customData.dnabit</th>\n",
       "      <th>customData.duration</th>\n",
       "      <th>...</th>\n",
       "      <th>playerCountry</th>\n",
       "      <th>playerCustomData</th>\n",
       "      <th>playerExternalId</th>\n",
       "      <th>playerGender</th>\n",
       "      <th>sessionId</th>\n",
       "      <th>playerRegion</th>\n",
       "      <th>section</th>\n",
       "      <th>serverTime</th>\n",
       "      <th>type</th>\n",
       "      <th>userTime</th>\n",
       "    </tr>\n",
       "  </thead>\n",
       "  <tbody>\n",
       "    <tr>\n",
       "      <th>0</th>\n",
       "      <td>[-229, -608]</td>\n",
       "      <td>NaN</td>\n",
       "      <td>NaN</td>\n",
       "      <td>NaN</td>\n",
       "      <td>NaN</td>\n",
       "      <td>NaN</td>\n",
       "      <td>NaN</td>\n",
       "      <td>NaN</td>\n",
       "      <td>NaN</td>\n",
       "      <td>NaN</td>\n",
       "      <td>...</td>\n",
       "      <td>NaN</td>\n",
       "      <td>NaN</td>\n",
       "      <td>NaN</td>\n",
       "      <td>NaN</td>\n",
       "      <td>b724663c-b32a-4079-9f8f-896762b272d1</td>\n",
       "      <td>NaN</td>\n",
       "      <td>NaN</td>\n",
       "      <td>2017-04-12T08:57:48.448Z</td>\n",
       "      <td>start</td>\n",
       "      <td>2017-04-12T08:57:49.752Z</td>\n",
       "    </tr>\n",
       "    <tr>\n",
       "      <th>1</th>\n",
       "      <td>[-229, -608]</td>\n",
       "      <td>NaN</td>\n",
       "      <td>NaN</td>\n",
       "      <td>NaN</td>\n",
       "      <td>NaN</td>\n",
       "      <td>NaN</td>\n",
       "      <td>NaN</td>\n",
       "      <td>\"\"</td>\n",
       "      <td>NaN</td>\n",
       "      <td>NaN</td>\n",
       "      <td>...</td>\n",
       "      <td>NaN</td>\n",
       "      <td>NaN</td>\n",
       "      <td>NaN</td>\n",
       "      <td>NaN</td>\n",
       "      <td>b724663c-b32a-4079-9f8f-896762b272d1</td>\n",
       "      <td>NaN</td>\n",
       "      <td>NaN</td>\n",
       "      <td>2017-04-12T08:58:14.441Z</td>\n",
       "      <td>selectmenu</td>\n",
       "      <td>2017-04-12T08:58:15.799Z</td>\n",
       "    </tr>\n",
       "    <tr>\n",
       "      <th>2</th>\n",
       "      <td>[-125, 373]</td>\n",
       "      <td>NaN</td>\n",
       "      <td>NaN</td>\n",
       "      <td>NaN</td>\n",
       "      <td>NaN</td>\n",
       "      <td>NaN</td>\n",
       "      <td>\"PRLACI:RBS1:REPR2:DTER\"</td>\n",
       "      <td>\"slot0[PRLACI:RBS1:REPR2:DTER]\"</td>\n",
       "      <td>NaN</td>\n",
       "      <td>NaN</td>\n",
       "      <td>...</td>\n",
       "      <td>NaN</td>\n",
       "      <td>NaN</td>\n",
       "      <td>NaN</td>\n",
       "      <td>NaN</td>\n",
       "      <td>b724663c-b32a-4079-9f8f-896762b272d1</td>\n",
       "      <td>NaN</td>\n",
       "      <td>NaN</td>\n",
       "      <td>2017-04-12T08:58:26.229Z</td>\n",
       "      <td>add</td>\n",
       "      <td>2017-04-12T08:58:27.575Z</td>\n",
       "    </tr>\n",
       "    <tr>\n",
       "      <th>3</th>\n",
       "      <td>[-125, 373]</td>\n",
       "      <td>NaN</td>\n",
       "      <td>NaN</td>\n",
       "      <td>NaN</td>\n",
       "      <td>NaN</td>\n",
       "      <td>NaN</td>\n",
       "      <td>NaN</td>\n",
       "      <td>NaN</td>\n",
       "      <td>NaN</td>\n",
       "      <td>NaN</td>\n",
       "      <td>...</td>\n",
       "      <td>NaN</td>\n",
       "      <td>NaN</td>\n",
       "      <td>NaN</td>\n",
       "      <td>NaN</td>\n",
       "      <td>b724663c-b32a-4079-9f8f-896762b272d1</td>\n",
       "      <td>NaN</td>\n",
       "      <td>NaN</td>\n",
       "      <td>2017-04-12T08:58:37.640Z</td>\n",
       "      <td>switchfromgameversion</td>\n",
       "      <td>2017-04-12T08:58:38.987Z</td>\n",
       "    </tr>\n",
       "    <tr>\n",
       "      <th>4</th>\n",
       "      <td>[-229, -608]</td>\n",
       "      <td>NaN</td>\n",
       "      <td>NaN</td>\n",
       "      <td>NaN</td>\n",
       "      <td>NaN</td>\n",
       "      <td>NaN</td>\n",
       "      <td>NaN</td>\n",
       "      <td>NaN</td>\n",
       "      <td>NaN</td>\n",
       "      <td>NaN</td>\n",
       "      <td>...</td>\n",
       "      <td>NaN</td>\n",
       "      <td>NaN</td>\n",
       "      <td>NaN</td>\n",
       "      <td>NaN</td>\n",
       "      <td>2d76c4ef-f260-4963-82f4-ff598d2a63b4</td>\n",
       "      <td>NaN</td>\n",
       "      <td>NaN</td>\n",
       "      <td>2017-04-12T09:30:51.879Z</td>\n",
       "      <td>start</td>\n",
       "      <td>2017-04-12T09:30:31.060Z</td>\n",
       "    </tr>\n",
       "  </tbody>\n",
       "</table>\n",
       "<p>5 rows × 38 columns</p>\n",
       "</div>"
      ],
      "text/plain": [
       "    coordinates customData customData.biobrick customData.chapter  \\\n",
       "0  [-229, -608]        NaN                 NaN                NaN   \n",
       "1  [-229, -608]        NaN                 NaN                NaN   \n",
       "2   [-125, 373]        NaN                 NaN                NaN   \n",
       "3   [-125, 373]        NaN                 NaN                NaN   \n",
       "4  [-229, -608]        NaN                 NaN                NaN   \n",
       "\n",
       "  customData.controls customData.count         customData.device  \\\n",
       "0                 NaN              NaN                       NaN   \n",
       "1                 NaN              NaN                       NaN   \n",
       "2                 NaN              NaN  \"PRLACI:RBS1:REPR2:DTER\"   \n",
       "3                 NaN              NaN                       NaN   \n",
       "4                 NaN              NaN                       NaN   \n",
       "\n",
       "                customData.devices customData.dnabit customData.duration  \\\n",
       "0                              NaN               NaN                 NaN   \n",
       "1                               \"\"               NaN                 NaN   \n",
       "2  \"slot0[PRLACI:RBS1:REPR2:DTER]\"               NaN                 NaN   \n",
       "3                              NaN               NaN                 NaN   \n",
       "4                              NaN               NaN                 NaN   \n",
       "\n",
       "             ...            playerCountry playerCustomData playerExternalId  \\\n",
       "0            ...                      NaN              NaN              NaN   \n",
       "1            ...                      NaN              NaN              NaN   \n",
       "2            ...                      NaN              NaN              NaN   \n",
       "3            ...                      NaN              NaN              NaN   \n",
       "4            ...                      NaN              NaN              NaN   \n",
       "\n",
       "  playerGender                             sessionId playerRegion section  \\\n",
       "0          NaN  b724663c-b32a-4079-9f8f-896762b272d1          NaN     NaN   \n",
       "1          NaN  b724663c-b32a-4079-9f8f-896762b272d1          NaN     NaN   \n",
       "2          NaN  b724663c-b32a-4079-9f8f-896762b272d1          NaN     NaN   \n",
       "3          NaN  b724663c-b32a-4079-9f8f-896762b272d1          NaN     NaN   \n",
       "4          NaN  2d76c4ef-f260-4963-82f4-ff598d2a63b4          NaN     NaN   \n",
       "\n",
       "                 serverTime                   type                  userTime  \n",
       "0  2017-04-12T08:57:48.448Z                  start  2017-04-12T08:57:49.752Z  \n",
       "1  2017-04-12T08:58:14.441Z             selectmenu  2017-04-12T08:58:15.799Z  \n",
       "2  2017-04-12T08:58:26.229Z                    add  2017-04-12T08:58:27.575Z  \n",
       "3  2017-04-12T08:58:37.640Z  switchfromgameversion  2017-04-12T08:58:38.987Z  \n",
       "4  2017-04-12T09:30:51.879Z                  start  2017-04-12T09:30:31.060Z  \n",
       "\n",
       "[5 rows x 38 columns]"
      ]
     },
     "execution_count": 101,
     "metadata": {},
     "output_type": "execute_result"
    }
   ],
   "source": [
    "df152.head()"
   ]
  },
  {
   "cell_type": "markdown",
   "metadata": {},
   "source": [
    "# Per-session analysis"
   ]
  },
  {
   "cell_type": "code",
   "execution_count": 102,
   "metadata": {
    "collapsed": false
   },
   "outputs": [
    {
     "data": {
      "text/html": [
       "<div>\n",
       "<style>\n",
       "    .dataframe thead tr:only-child th {\n",
       "        text-align: right;\n",
       "    }\n",
       "\n",
       "    .dataframe thead th {\n",
       "        text-align: left;\n",
       "    }\n",
       "\n",
       "    .dataframe tbody tr th {\n",
       "        vertical-align: top;\n",
       "    }\n",
       "</style>\n",
       "<table border=\"1\" class=\"dataframe\">\n",
       "  <thead>\n",
       "    <tr style=\"text-align: right;\">\n",
       "      <th></th>\n",
       "      <th>sessionId</th>\n",
       "      <th>serverTime</th>\n",
       "      <th>section</th>\n",
       "    </tr>\n",
       "  </thead>\n",
       "  <tbody>\n",
       "    <tr>\n",
       "      <th>21777</th>\n",
       "      <td>fab3ea03-6ff1-483f-a90a-74ff47d0b556</td>\n",
       "      <td>2017-08-22T22:05:18.293Z</td>\n",
       "      <td>tutorial1.Checkpoint00</td>\n",
       "    </tr>\n",
       "    <tr>\n",
       "      <th>21783</th>\n",
       "      <td>fab3ea03-6ff1-483f-a90a-74ff47d0b556</td>\n",
       "      <td>2017-08-22T22:08:17.799Z</td>\n",
       "      <td>tutorial1.Checkpoint01</td>\n",
       "    </tr>\n",
       "    <tr>\n",
       "      <th>21798</th>\n",
       "      <td>fab3ea03-6ff1-483f-a90a-74ff47d0b556</td>\n",
       "      <td>2017-08-22T22:13:28.227Z</td>\n",
       "      <td>tutorial1.Checkpoint02</td>\n",
       "    </tr>\n",
       "    <tr>\n",
       "      <th>21803</th>\n",
       "      <td>fab3ea03-6ff1-483f-a90a-74ff47d0b556</td>\n",
       "      <td>2017-08-22T22:15:27.959Z</td>\n",
       "      <td>tutorial1.Checkpoint03</td>\n",
       "    </tr>\n",
       "    <tr>\n",
       "      <th>21809</th>\n",
       "      <td>fab3ea03-6ff1-483f-a90a-74ff47d0b556</td>\n",
       "      <td>2017-08-22T22:16:11.658Z</td>\n",
       "      <td>tutorial1.Checkpoint04</td>\n",
       "    </tr>\n",
       "    <tr>\n",
       "      <th>21822</th>\n",
       "      <td>fab3ea03-6ff1-483f-a90a-74ff47d0b556</td>\n",
       "      <td>2017-08-22T22:19:29.421Z</td>\n",
       "      <td>tutorial1.Checkpoint03</td>\n",
       "    </tr>\n",
       "    <tr>\n",
       "      <th>21823</th>\n",
       "      <td>fab3ea03-6ff1-483f-a90a-74ff47d0b556</td>\n",
       "      <td>2017-08-22T22:19:47.058Z</td>\n",
       "      <td>tutorial1.Checkpoint04</td>\n",
       "    </tr>\n",
       "    <tr>\n",
       "      <th>21824</th>\n",
       "      <td>fab3ea03-6ff1-483f-a90a-74ff47d0b556</td>\n",
       "      <td>2017-08-22T22:20:12.739Z</td>\n",
       "      <td>tutorial1.Checkpoint05</td>\n",
       "    </tr>\n",
       "    <tr>\n",
       "      <th>22065</th>\n",
       "      <td>fab3ea03-6ff1-483f-a90a-74ff47d0b556</td>\n",
       "      <td>2017-08-22T22:34:32.438Z</td>\n",
       "      <td>tutorial1.Checkpoint06</td>\n",
       "    </tr>\n",
       "    <tr>\n",
       "      <th>22081</th>\n",
       "      <td>fab3ea03-6ff1-483f-a90a-74ff47d0b556</td>\n",
       "      <td>2017-08-22T22:37:59.659Z</td>\n",
       "      <td>tutorial1.Checkpoint07</td>\n",
       "    </tr>\n",
       "    <tr>\n",
       "      <th>22186</th>\n",
       "      <td>fab3ea03-6ff1-483f-a90a-74ff47d0b556</td>\n",
       "      <td>2017-08-22T22:45:27.478Z</td>\n",
       "      <td>tutorial1.Checkpoint08</td>\n",
       "    </tr>\n",
       "    <tr>\n",
       "      <th>22192</th>\n",
       "      <td>fab3ea03-6ff1-483f-a90a-74ff47d0b556</td>\n",
       "      <td>2017-08-22T22:46:34.417Z</td>\n",
       "      <td>tutorial1.Checkpoint09</td>\n",
       "    </tr>\n",
       "    <tr>\n",
       "      <th>22196</th>\n",
       "      <td>fab3ea03-6ff1-483f-a90a-74ff47d0b556</td>\n",
       "      <td>2017-08-22T22:47:39.021Z</td>\n",
       "      <td>tutorial1.Checkpoint10</td>\n",
       "    </tr>\n",
       "    <tr>\n",
       "      <th>22199</th>\n",
       "      <td>fab3ea03-6ff1-483f-a90a-74ff47d0b556</td>\n",
       "      <td>2017-08-22T22:47:46.360Z</td>\n",
       "      <td>tutorial1.Checkpoint11</td>\n",
       "    </tr>\n",
       "    <tr>\n",
       "      <th>22201</th>\n",
       "      <td>fab3ea03-6ff1-483f-a90a-74ff47d0b556</td>\n",
       "      <td>2017-08-22T22:48:16.857Z</td>\n",
       "      <td>tutorial1.Checkpoint12</td>\n",
       "    </tr>\n",
       "    <tr>\n",
       "      <th>22282</th>\n",
       "      <td>fab3ea03-6ff1-483f-a90a-74ff47d0b556</td>\n",
       "      <td>2017-08-22T22:53:44.320Z</td>\n",
       "      <td>tutorial1.Checkpoint13</td>\n",
       "    </tr>\n",
       "  </tbody>\n",
       "</table>\n",
       "</div>"
      ],
      "text/plain": [
       "                                  sessionId                serverTime  \\\n",
       "21777  fab3ea03-6ff1-483f-a90a-74ff47d0b556  2017-08-22T22:05:18.293Z   \n",
       "21783  fab3ea03-6ff1-483f-a90a-74ff47d0b556  2017-08-22T22:08:17.799Z   \n",
       "21798  fab3ea03-6ff1-483f-a90a-74ff47d0b556  2017-08-22T22:13:28.227Z   \n",
       "21803  fab3ea03-6ff1-483f-a90a-74ff47d0b556  2017-08-22T22:15:27.959Z   \n",
       "21809  fab3ea03-6ff1-483f-a90a-74ff47d0b556  2017-08-22T22:16:11.658Z   \n",
       "21822  fab3ea03-6ff1-483f-a90a-74ff47d0b556  2017-08-22T22:19:29.421Z   \n",
       "21823  fab3ea03-6ff1-483f-a90a-74ff47d0b556  2017-08-22T22:19:47.058Z   \n",
       "21824  fab3ea03-6ff1-483f-a90a-74ff47d0b556  2017-08-22T22:20:12.739Z   \n",
       "22065  fab3ea03-6ff1-483f-a90a-74ff47d0b556  2017-08-22T22:34:32.438Z   \n",
       "22081  fab3ea03-6ff1-483f-a90a-74ff47d0b556  2017-08-22T22:37:59.659Z   \n",
       "22186  fab3ea03-6ff1-483f-a90a-74ff47d0b556  2017-08-22T22:45:27.478Z   \n",
       "22192  fab3ea03-6ff1-483f-a90a-74ff47d0b556  2017-08-22T22:46:34.417Z   \n",
       "22196  fab3ea03-6ff1-483f-a90a-74ff47d0b556  2017-08-22T22:47:39.021Z   \n",
       "22199  fab3ea03-6ff1-483f-a90a-74ff47d0b556  2017-08-22T22:47:46.360Z   \n",
       "22201  fab3ea03-6ff1-483f-a90a-74ff47d0b556  2017-08-22T22:48:16.857Z   \n",
       "22282  fab3ea03-6ff1-483f-a90a-74ff47d0b556  2017-08-22T22:53:44.320Z   \n",
       "\n",
       "                      section  \n",
       "21777  tutorial1.Checkpoint00  \n",
       "21783  tutorial1.Checkpoint01  \n",
       "21798  tutorial1.Checkpoint02  \n",
       "21803  tutorial1.Checkpoint03  \n",
       "21809  tutorial1.Checkpoint04  \n",
       "21822  tutorial1.Checkpoint03  \n",
       "21823  tutorial1.Checkpoint04  \n",
       "21824  tutorial1.Checkpoint05  \n",
       "22065  tutorial1.Checkpoint06  \n",
       "22081  tutorial1.Checkpoint07  \n",
       "22186  tutorial1.Checkpoint08  \n",
       "22192  tutorial1.Checkpoint09  \n",
       "22196  tutorial1.Checkpoint10  \n",
       "22199  tutorial1.Checkpoint11  \n",
       "22201  tutorial1.Checkpoint12  \n",
       "22282  tutorial1.Checkpoint13  "
      ]
     },
     "execution_count": 102,
     "metadata": {},
     "output_type": "execute_result"
    }
   ],
   "source": [
    "perSessionRelevantColumns = ['sessionId', 'serverTime', 'section']\n",
    "\n",
    "testSessionId = \"fab3ea03-6ff1-483f-a90a-74ff47d0b556\"\n",
    "\n",
    "perSession = df152[df152['type']=='reach'].loc[:,perSessionRelevantColumns]\n",
    "perSession = perSession[perSession['sessionId']==testSessionId]\n",
    "perSession = perSession[perSession['section'].str.startswith('tutorial', na=False)]\n",
    "perSession"
   ]
  },
  {
   "cell_type": "markdown",
   "metadata": {},
   "source": [
    "# Per user analysis"
   ]
  },
  {
   "cell_type": "code",
   "execution_count": 103,
   "metadata": {
    "collapsed": false
   },
   "outputs": [
    {
     "data": {
      "text/plain": [
       "'\"7cece567-45d0-42e7-9870-3f83fb7de271\"'"
      ]
     },
     "execution_count": 103,
     "metadata": {},
     "output_type": "execute_result"
    }
   ],
   "source": [
    "# English-speaking user who answered the questionnaire - cf 'Google form analysis.ipynb'.\n",
    "#localplayerguid = '\"8d352896-a3f1-471c-8439-0f426df901c1\"'\n",
    "#localplayerguid = '\"7037c5b2-c286-498e-9784-9a061c778609\"'\n",
    "#localplayerguid = '\"5c4939b5-425b-4d19-b5d2-0384a515539e\"'\n",
    "#localplayerguid = devPCID5\n",
    "localplayerguid = '\"7cece567-45d0-42e7-9870-3f83fb7de271\"'\n",
    "localplayerguid"
   ]
  },
  {
   "cell_type": "code",
   "execution_count": 104,
   "metadata": {
    "collapsed": false
   },
   "outputs": [],
   "source": [
    "perUserRelevantColumns = ['sessionId', 'serverTime', 'section']"
   ]
  },
  {
   "cell_type": "code",
   "execution_count": 105,
   "metadata": {
    "collapsed": false
   },
   "outputs": [],
   "source": [
    "sessionsList = getAllSessionsOfUser(df152, localplayerguid, True)"
   ]
  },
  {
   "cell_type": "code",
   "execution_count": 106,
   "metadata": {
    "collapsed": false
   },
   "outputs": [
    {
     "data": {
      "text/html": [
       "<div>\n",
       "<style>\n",
       "    .dataframe thead tr:only-child th {\n",
       "        text-align: right;\n",
       "    }\n",
       "\n",
       "    .dataframe thead th {\n",
       "        text-align: left;\n",
       "    }\n",
       "\n",
       "    .dataframe tbody tr th {\n",
       "        vertical-align: top;\n",
       "    }\n",
       "</style>\n",
       "<table border=\"1\" class=\"dataframe\">\n",
       "  <thead>\n",
       "    <tr style=\"text-align: right;\">\n",
       "      <th></th>\n",
       "      <th>sessionId</th>\n",
       "      <th>serverTime</th>\n",
       "      <th>section</th>\n",
       "    </tr>\n",
       "  </thead>\n",
       "  <tbody>\n",
       "    <tr>\n",
       "      <th>707</th>\n",
       "      <td>bb07e07d-0b95-4837-8f06-6c01b2199ba7</td>\n",
       "      <td>2017-05-13T08:11:21.211Z</td>\n",
       "      <td>tutorial1.Checkpoint00</td>\n",
       "    </tr>\n",
       "    <tr>\n",
       "      <th>768</th>\n",
       "      <td>bb07e07d-0b95-4837-8f06-6c01b2199ba7</td>\n",
       "      <td>2017-05-13T08:12:11.223Z</td>\n",
       "      <td>tutorial1.Checkpoint01</td>\n",
       "    </tr>\n",
       "    <tr>\n",
       "      <th>925</th>\n",
       "      <td>bb07e07d-0b95-4837-8f06-6c01b2199ba7</td>\n",
       "      <td>2017-05-13T08:21:01.602Z</td>\n",
       "      <td>tutorial1.Checkpoint02</td>\n",
       "    </tr>\n",
       "    <tr>\n",
       "      <th>942</th>\n",
       "      <td>470dc242-c0dc-403b-806d-e7322b8071cf</td>\n",
       "      <td>2017-05-13T08:50:38.611Z</td>\n",
       "      <td>tutorial1.Checkpoint02</td>\n",
       "    </tr>\n",
       "    <tr>\n",
       "      <th>947</th>\n",
       "      <td>470dc242-c0dc-403b-806d-e7322b8071cf</td>\n",
       "      <td>2017-05-13T08:52:19.621Z</td>\n",
       "      <td>tutorial1.Checkpoint00</td>\n",
       "    </tr>\n",
       "  </tbody>\n",
       "</table>\n",
       "</div>"
      ],
      "text/plain": [
       "                                sessionId                serverTime  \\\n",
       "707  bb07e07d-0b95-4837-8f06-6c01b2199ba7  2017-05-13T08:11:21.211Z   \n",
       "768  bb07e07d-0b95-4837-8f06-6c01b2199ba7  2017-05-13T08:12:11.223Z   \n",
       "925  bb07e07d-0b95-4837-8f06-6c01b2199ba7  2017-05-13T08:21:01.602Z   \n",
       "942  470dc242-c0dc-403b-806d-e7322b8071cf  2017-05-13T08:50:38.611Z   \n",
       "947  470dc242-c0dc-403b-806d-e7322b8071cf  2017-05-13T08:52:19.621Z   \n",
       "\n",
       "                    section  \n",
       "707  tutorial1.Checkpoint00  \n",
       "768  tutorial1.Checkpoint01  \n",
       "925  tutorial1.Checkpoint02  \n",
       "942  tutorial1.Checkpoint02  \n",
       "947  tutorial1.Checkpoint00  "
      ]
     },
     "execution_count": 106,
     "metadata": {},
     "output_type": "execute_result"
    }
   ],
   "source": [
    "# List all 'reach' events with those sessionIds.\n",
    "perUser = df152[df152['type']=='reach'].loc[:,perUserRelevantColumns]\n",
    "perUser = perUser[perUser['sessionId'].isin(sessionsList['sessionId'])]\n",
    "perUser = perUser[perUser['section'].str.startswith('tutorial', na=False)]\n",
    "perUser.describe()\n",
    "perUser.head()"
   ]
  },
  {
   "cell_type": "markdown",
   "metadata": {},
   "source": [
    "# Common analysis"
   ]
  },
  {
   "cell_type": "markdown",
   "metadata": {},
   "source": [
    "#### Switch here between users and sessions."
   ]
  },
  {
   "cell_type": "code",
   "execution_count": 107,
   "metadata": {
    "collapsed": true
   },
   "outputs": [],
   "source": [
    "#sectionsList = perSession\n",
    "sectionsList = perUser"
   ]
  },
  {
   "cell_type": "code",
   "execution_count": 108,
   "metadata": {
    "collapsed": false
   },
   "outputs": [
    {
     "data": {
      "text/html": [
       "<div>\n",
       "<style>\n",
       "    .dataframe thead tr:only-child th {\n",
       "        text-align: right;\n",
       "    }\n",
       "\n",
       "    .dataframe thead th {\n",
       "        text-align: left;\n",
       "    }\n",
       "\n",
       "    .dataframe tbody tr th {\n",
       "        vertical-align: top;\n",
       "    }\n",
       "</style>\n",
       "<table border=\"1\" class=\"dataframe\">\n",
       "  <thead>\n",
       "    <tr style=\"text-align: right;\">\n",
       "      <th></th>\n",
       "      <th>serverTime</th>\n",
       "    </tr>\n",
       "    <tr>\n",
       "      <th>section</th>\n",
       "      <th></th>\n",
       "    </tr>\n",
       "  </thead>\n",
       "  <tbody>\n",
       "    <tr>\n",
       "      <th>tutorial1.Checkpoint00</th>\n",
       "      <td>2017-05-13T08:11:21.211Z</td>\n",
       "    </tr>\n",
       "    <tr>\n",
       "      <th>tutorial1.Checkpoint01</th>\n",
       "      <td>2017-05-13T08:12:11.223Z</td>\n",
       "    </tr>\n",
       "    <tr>\n",
       "      <th>tutorial1.Checkpoint02</th>\n",
       "      <td>2017-05-13T08:21:01.602Z</td>\n",
       "    </tr>\n",
       "  </tbody>\n",
       "</table>\n",
       "</div>"
      ],
      "text/plain": [
       "                                      serverTime\n",
       "section                                         \n",
       "tutorial1.Checkpoint00  2017-05-13T08:11:21.211Z\n",
       "tutorial1.Checkpoint01  2017-05-13T08:12:11.223Z\n",
       "tutorial1.Checkpoint02  2017-05-13T08:21:01.602Z"
      ]
     },
     "execution_count": 108,
     "metadata": {},
     "output_type": "execute_result"
    }
   ],
   "source": [
    "timedSections = sectionsList.groupby(\"section\").agg({ \"serverTime\": np.min })\n",
    "timedSections.head()"
   ]
  },
  {
   "cell_type": "code",
   "execution_count": 109,
   "metadata": {
    "collapsed": false
   },
   "outputs": [
    {
     "data": {
      "text/html": [
       "<div>\n",
       "<style>\n",
       "    .dataframe thead tr:only-child th {\n",
       "        text-align: right;\n",
       "    }\n",
       "\n",
       "    .dataframe thead th {\n",
       "        text-align: left;\n",
       "    }\n",
       "\n",
       "    .dataframe tbody tr th {\n",
       "        vertical-align: top;\n",
       "    }\n",
       "</style>\n",
       "<table border=\"1\" class=\"dataframe\">\n",
       "  <thead>\n",
       "    <tr style=\"text-align: right;\">\n",
       "      <th></th>\n",
       "      <th>serverTime</th>\n",
       "      <th>firstReached</th>\n",
       "    </tr>\n",
       "    <tr>\n",
       "      <th>section</th>\n",
       "      <th></th>\n",
       "      <th></th>\n",
       "    </tr>\n",
       "  </thead>\n",
       "  <tbody>\n",
       "    <tr>\n",
       "      <th>tutorial1.Checkpoint00</th>\n",
       "      <td>2017-05-13T08:11:21.211Z</td>\n",
       "      <td>2017-05-13 08:11:21.211</td>\n",
       "    </tr>\n",
       "    <tr>\n",
       "      <th>tutorial1.Checkpoint01</th>\n",
       "      <td>2017-05-13T08:12:11.223Z</td>\n",
       "      <td>2017-05-13 08:12:11.223</td>\n",
       "    </tr>\n",
       "    <tr>\n",
       "      <th>tutorial1.Checkpoint02</th>\n",
       "      <td>2017-05-13T08:21:01.602Z</td>\n",
       "      <td>2017-05-13 08:21:01.602</td>\n",
       "    </tr>\n",
       "  </tbody>\n",
       "</table>\n",
       "</div>"
      ],
      "text/plain": [
       "                                      serverTime            firstReached\n",
       "section                                                                 \n",
       "tutorial1.Checkpoint00  2017-05-13T08:11:21.211Z 2017-05-13 08:11:21.211\n",
       "tutorial1.Checkpoint01  2017-05-13T08:12:11.223Z 2017-05-13 08:12:11.223\n",
       "tutorial1.Checkpoint02  2017-05-13T08:21:01.602Z 2017-05-13 08:21:01.602"
      ]
     },
     "execution_count": 109,
     "metadata": {},
     "output_type": "execute_result"
    }
   ],
   "source": [
    "timedSections[\"firstReached\"] = pd.to_datetime(timedSections[\"serverTime\"])\n",
    "timedSections.head()"
   ]
  },
  {
   "cell_type": "code",
   "execution_count": 110,
   "metadata": {
    "collapsed": false,
    "scrolled": true
   },
   "outputs": [
    {
     "data": {
      "text/html": [
       "<div>\n",
       "<style>\n",
       "    .dataframe thead tr:only-child th {\n",
       "        text-align: right;\n",
       "    }\n",
       "\n",
       "    .dataframe thead th {\n",
       "        text-align: left;\n",
       "    }\n",
       "\n",
       "    .dataframe tbody tr th {\n",
       "        vertical-align: top;\n",
       "    }\n",
       "</style>\n",
       "<table border=\"1\" class=\"dataframe\">\n",
       "  <thead>\n",
       "    <tr style=\"text-align: right;\">\n",
       "      <th></th>\n",
       "      <th>serverTime</th>\n",
       "      <th>firstReached</th>\n",
       "      <th>firstCompletionDuration</th>\n",
       "    </tr>\n",
       "    <tr>\n",
       "      <th>section</th>\n",
       "      <th></th>\n",
       "      <th></th>\n",
       "      <th></th>\n",
       "    </tr>\n",
       "  </thead>\n",
       "  <tbody>\n",
       "    <tr>\n",
       "      <th>tutorial1.Checkpoint00</th>\n",
       "      <td>2017-05-13T08:11:21.211Z</td>\n",
       "      <td>2017-05-13 08:11:21.211</td>\n",
       "      <td>NaT</td>\n",
       "    </tr>\n",
       "    <tr>\n",
       "      <th>tutorial1.Checkpoint01</th>\n",
       "      <td>2017-05-13T08:12:11.223Z</td>\n",
       "      <td>2017-05-13 08:12:11.223</td>\n",
       "      <td>00:00:50.012000</td>\n",
       "    </tr>\n",
       "    <tr>\n",
       "      <th>tutorial1.Checkpoint02</th>\n",
       "      <td>2017-05-13T08:21:01.602Z</td>\n",
       "      <td>2017-05-13 08:21:01.602</td>\n",
       "      <td>00:08:50.379000</td>\n",
       "    </tr>\n",
       "  </tbody>\n",
       "</table>\n",
       "</div>"
      ],
      "text/plain": [
       "                                      serverTime            firstReached  \\\n",
       "section                                                                    \n",
       "tutorial1.Checkpoint00  2017-05-13T08:11:21.211Z 2017-05-13 08:11:21.211   \n",
       "tutorial1.Checkpoint01  2017-05-13T08:12:11.223Z 2017-05-13 08:12:11.223   \n",
       "tutorial1.Checkpoint02  2017-05-13T08:21:01.602Z 2017-05-13 08:21:01.602   \n",
       "\n",
       "                       firstCompletionDuration  \n",
       "section                                         \n",
       "tutorial1.Checkpoint00                     NaT  \n",
       "tutorial1.Checkpoint01         00:00:50.012000  \n",
       "tutorial1.Checkpoint02         00:08:50.379000  "
      ]
     },
     "execution_count": 110,
     "metadata": {},
     "output_type": "execute_result"
    }
   ],
   "source": [
    "timedSections[\"firstCompletionDuration\"] = timedSections[\"firstReached\"].diff()\n",
    "timedSections"
   ]
  },
  {
   "cell_type": "markdown",
   "metadata": {},
   "source": [
    "# Functions\n",
    "\n",
    "<a id=functions />"
   ]
  },
  {
   "cell_type": "markdown",
   "metadata": {},
   "source": [
    "## Comparison between game and Google form performance"
   ]
  },
  {
   "cell_type": "code",
   "execution_count": 111,
   "metadata": {
    "collapsed": true
   },
   "outputs": [],
   "source": [
    "reachEvents = df152[df152['type']=='reach'].loc[:,perSessionRelevantColumns]\n",
    "\n",
    "# Returns a given session's checkpoints, the first server time at which they were reached, and completion time\n",
    "def getCheckpointsTimes( sessionId ):\n",
    "    perSession = reachEvents[reachEvents['sessionId']==sessionId]\n",
    "    perSession = perSession[perSession['section'].str.startswith('tutorial', na=False)]\n",
    "    timedSections = perSession.groupby(\"section\").agg({ \"serverTime\": np.min })\n",
    "    timedSections[\"firstReached\"] = pd.to_datetime(timedSections[\"serverTime\"])\n",
    "    timedSections[\"firstCompletionDuration\"] = timedSections[\"firstReached\"].diff()\n",
    "    return timedSections"
   ]
  },
  {
   "cell_type": "code",
   "execution_count": 112,
   "metadata": {
    "collapsed": false
   },
   "outputs": [],
   "source": [
    "# Returns a given user's checkpoints, the first server time at which they were reached, and completion time\n",
    "def getCheckpointsTimesUser( userId ):\n",
    "    #print(\"getCheckpointsTimesUser(\" + str(userId) + \")\")\n",
    "    \n",
    "    # List of associated sessions\n",
    "    sessionsList = getAllSessionsOfUser( df152, userId, True )\n",
    "    #print(\"sessionsList=\" + str(sessionsList))\n",
    "    \n",
    "    # Call getCheckpointsTimes on all sessions associated with user,\n",
    "    # then merge by taking oldest checkpoint completion\n",
    "    timedSectionsInitialized = False\n",
    "    \n",
    "    for sessionId in sessionsList['sessionId']:\n",
    "        \n",
    "        #print(\"processing user \" + str(userId) + \" with session \" + str(sessionId))\n",
    "        times = getCheckpointsTimes( sessionId )\n",
    "        if not (timedSectionsInitialized or times.empty):\n",
    "            timedSectionsInitialized = True\n",
    "            timedSections = pd.DataFrame(data=None, columns=times.columns,index=times.index)\n",
    "        \n",
    "        # merge\n",
    "        # for each checkpoint reached, update if necessary\n",
    "        if timedSectionsInitialized:\n",
    "            #print('timedSectionsInitialized == True')\n",
    "            for checkpointName in times.index:\n",
    "                if (np.isnan(timedSections['firstReached'][checkpointName]) \n",
    "                    or (timeSection['firstReached'][checkpointName] < times['firstReached'][checkpointName])\n",
    "                   ):\n",
    "                    timedSections['serverTime'][checkpointName] = times['serverTime'][checkpointName]\n",
    "                    timedSections['firstReached'][checkpointName] = times['firstReached'][checkpointName]\n",
    "            #print(times)\n",
    "            #print(type(times))        \n",
    "        #else:\n",
    "            #print('timedSectionsInitialized == False')\n",
    "    \n",
    "    if timedSectionsInitialized:\n",
    "        # update of firstCompletionDuration\n",
    "        timedSections[\"firstCompletionDuration\"] = timedSections[\"firstReached\"].diff()\n",
    "    else:\n",
    "        for sessionId in sessionsList['sessionId']:\n",
    "            timedSections = pd.DataFrame(data=None, columns=times.columns,index=times.index)\n",
    "            break\n",
    "    \n",
    "    return timedSections"
   ]
  },
  {
   "cell_type": "code",
   "execution_count": 113,
   "metadata": {
    "collapsed": false
   },
   "outputs": [],
   "source": [
    "# Returns a given user's unique reached checkpoints\n",
    "def getUserCheckpoints( userId ):\n",
    "    #print(\"getUserCheckpoints(\" + str(userId) + \")\")\n",
    "\n",
    "    # List of associated sessions\n",
    "    sessionsList = getAllSessionsOfUser( df152, userId, True )\n",
    "    #print(\"sessionsList=\" + str(sessionsList))\n",
    "    \n",
    "    # List all 'reach' events with those sessionIds.\n",
    "    perUser = reachEvents[reachEvents['sessionId'].isin(sessionsList[sessionsList['userId']==userId])]\n",
    "    perUser = perUser[perUser['section'].str.startswith('tutorial', na=False)]\n",
    "    return pd.Series(perUser['section'].unique())\n",
    "\n",
    "\n",
    "def getDiscrepancyGameGForm( userId ):\n",
    "    gformNonVal = getNonValidatedCheckpoints(userId)\n",
    "    gformVal = getValidatedCheckpoints(userId)\n",
    "    gameVal = getUserCheckpoints(userId)\n",
    "    \n",
    "    #sorted, unique values in series1 that are not in series2\n",
    "    #np.setdiff1d(series1.values, series2.values)\n",
    "    \n",
    "    #user has answered questions whose answer they haven't seen in the game\n",
    "    gameNotEnough = pd.Series(np.setdiff1d(gformVal.values, gameVal.values))\n",
    "    \n",
    "    #user has not answered questions whose answer they have seen in the game\n",
    "    gformNotEnough = []\n",
    "    maxGameVal = ''\n",
    "    if gameVal.values.size!=0:\n",
    "        gameVal.values.max()\n",
    "    for nonVal in gformNonVal.values:\n",
    "        if nonVal >= maxGameVal:\n",
    "            gformNotEnough.append(nonVal)    \n",
    "    gformNotEnough = pd.Series(gformNotEnough)\n",
    "    \n",
    "    return (gameNotEnough, gformNotEnough)"
   ]
  },
  {
   "cell_type": "markdown",
   "metadata": {},
   "source": [
    "## Tests"
   ]
  },
  {
   "cell_type": "code",
   "execution_count": 114,
   "metadata": {
    "collapsed": false
   },
   "outputs": [
    {
     "name": "stdout",
     "output_type": "stream",
     "text": [
      "[]\n",
      "[5]\n",
      "0    5\n",
      "dtype: int64\n"
     ]
    }
   ],
   "source": [
    "gformNotEnough = []\n",
    "print(gformNotEnough)\n",
    "\n",
    "gformNotEnough.append(5)\n",
    "print(gformNotEnough)\n",
    "\n",
    "gformNotEnough = pd.Series(gformNotEnough)\n",
    "print(gformNotEnough)"
   ]
  },
  {
   "cell_type": "code",
   "execution_count": 115,
   "metadata": {
    "collapsed": false
   },
   "outputs": [
    {
     "name": "stdout",
     "output_type": "stream",
     "text": [
      "[]\n",
      "[ 5.]\n",
      "0    5.0\n",
      "dtype: float64\n"
     ]
    }
   ],
   "source": [
    "gformNotEnough = np.array([])\n",
    "print(gformNotEnough)\n",
    "\n",
    "gformNotEnough = np.append(gformNotEnough, [5])\n",
    "print(gformNotEnough)\n",
    "\n",
    "gformNotEnough = pd.Series(gformNotEnough)\n",
    "print(gformNotEnough)"
   ]
  },
  {
   "cell_type": "code",
   "execution_count": 116,
   "metadata": {
    "collapsed": false
   },
   "outputs": [],
   "source": [
    "testNonVal = pd.Series(['tutorial1.Checkpoint13'])"
   ]
  },
  {
   "cell_type": "code",
   "execution_count": 117,
   "metadata": {
    "collapsed": false
   },
   "outputs": [
    {
     "data": {
      "text/plain": [
       "0    \n",
       "dtype: object"
      ]
     },
     "execution_count": 117,
     "metadata": {},
     "output_type": "execute_result"
    }
   ],
   "source": [
    "gformNonVal = getNonValidatedCheckpoints(localplayerguid)\n",
    "gformNonVal"
   ]
  },
  {
   "cell_type": "code",
   "execution_count": 118,
   "metadata": {
    "collapsed": false,
    "scrolled": false
   },
   "outputs": [
    {
     "data": {
      "text/plain": [
       "Series([], dtype: object)"
      ]
     },
     "execution_count": 118,
     "metadata": {},
     "output_type": "execute_result"
    }
   ],
   "source": [
    "getUserCheckpoints( localplayerguid )"
   ]
  },
  {
   "cell_type": "code",
   "execution_count": 119,
   "metadata": {
    "collapsed": false,
    "scrolled": false
   },
   "outputs": [
    {
     "data": {
      "text/plain": [
       "(0    tutorial1.Checkpoint00\n",
       " 1    tutorial1.Checkpoint01\n",
       " 2    tutorial1.Checkpoint02\n",
       " 3    tutorial1.Checkpoint05\n",
       " 4    tutorial1.Checkpoint13\n",
       " dtype: object, 0    \n",
       " dtype: object)"
      ]
     },
     "execution_count": 119,
     "metadata": {},
     "output_type": "execute_result"
    }
   ],
   "source": [
    "getDiscrepancyGameGForm( localplayerguid )"
   ]
  },
  {
   "cell_type": "code",
   "execution_count": 120,
   "metadata": {
    "collapsed": false
   },
   "outputs": [
    {
     "data": {
      "text/plain": [
       "Series([], dtype: object)"
      ]
     },
     "execution_count": 120,
     "metadata": {},
     "output_type": "execute_result"
    }
   ],
   "source": [
    "getUserCheckpoints(localplayerguid)"
   ]
  },
  {
   "cell_type": "code",
   "execution_count": 121,
   "metadata": {
    "collapsed": false
   },
   "outputs": [
    {
     "data": {
      "text/plain": [
       "0    tutorial1.Checkpoint00\n",
       "1    tutorial1.Checkpoint01\n",
       "2    tutorial1.Checkpoint02\n",
       "3    tutorial1.Checkpoint05\n",
       "4    tutorial1.Checkpoint13\n",
       "dtype: object"
      ]
     },
     "execution_count": 121,
     "metadata": {},
     "output_type": "execute_result"
    }
   ],
   "source": [
    "test = getValidatedCheckpoints(localplayerguid)\n",
    "test"
   ]
  },
  {
   "cell_type": "code",
   "execution_count": 122,
   "metadata": {
    "collapsed": false
   },
   "outputs": [
    {
     "data": {
      "text/plain": [
       "'tutorial1.Checkpoint13'"
      ]
     },
     "execution_count": 122,
     "metadata": {},
     "output_type": "execute_result"
    }
   ],
   "source": [
    "max = test.values.max()\n",
    "max"
   ]
  },
  {
   "cell_type": "code",
   "execution_count": 123,
   "metadata": {
    "collapsed": false,
    "scrolled": true
   },
   "outputs": [
    {
     "data": {
      "text/plain": [
       "0    \n",
       "dtype: object"
      ]
     },
     "execution_count": 123,
     "metadata": {},
     "output_type": "execute_result"
    }
   ],
   "source": [
    "getNonValidatedCheckpoints(localplayerguid)"
   ]
  },
  {
   "cell_type": "code",
   "execution_count": 124,
   "metadata": {
    "collapsed": false
   },
   "outputs": [],
   "source": [
    "testlocalplayerguid = '\"7412a447-8177-48e9-82c5-cb31032f76a9\"'"
   ]
  },
  {
   "cell_type": "code",
   "execution_count": 125,
   "metadata": {
    "collapsed": false,
    "scrolled": true
   },
   "outputs": [
    {
     "data": {
      "text/html": [
       "<div>\n",
       "<style>\n",
       "    .dataframe thead tr:only-child th {\n",
       "        text-align: right;\n",
       "    }\n",
       "\n",
       "    .dataframe thead th {\n",
       "        text-align: left;\n",
       "    }\n",
       "\n",
       "    .dataframe tbody tr th {\n",
       "        vertical-align: top;\n",
       "    }\n",
       "</style>\n",
       "<table border=\"1\" class=\"dataframe\">\n",
       "  <thead>\n",
       "    <tr style=\"text-align: right;\">\n",
       "      <th></th>\n",
       "      <th>firstCompletionDuration</th>\n",
       "      <th>firstReached</th>\n",
       "      <th>section</th>\n",
       "      <th>serverTime</th>\n",
       "    </tr>\n",
       "  </thead>\n",
       "  <tbody>\n",
       "    <tr>\n",
       "      <th>0</th>\n",
       "      <td>0</td>\n",
       "      <td>0</td>\n",
       "      <td>tutorial1.Checkpoint00</td>\n",
       "      <td>0</td>\n",
       "    </tr>\n",
       "    <tr>\n",
       "      <th>1</th>\n",
       "      <td>1</td>\n",
       "      <td>1</td>\n",
       "      <td>tutorial1.Checkpoint01</td>\n",
       "      <td>1</td>\n",
       "    </tr>\n",
       "    <tr>\n",
       "      <th>2</th>\n",
       "      <td>2</td>\n",
       "      <td>2</td>\n",
       "      <td>tutorial1.Checkpoint02</td>\n",
       "      <td>2</td>\n",
       "    </tr>\n",
       "  </tbody>\n",
       "</table>\n",
       "</div>"
      ],
      "text/plain": [
       "  firstCompletionDuration firstReached                 section serverTime\n",
       "0                       0            0  tutorial1.Checkpoint00          0\n",
       "1                       1            1  tutorial1.Checkpoint01          1\n",
       "2                       2            2  tutorial1.Checkpoint02          2"
      ]
     },
     "execution_count": 125,
     "metadata": {},
     "output_type": "execute_result"
    }
   ],
   "source": [
    "test = pd.DataFrame({\n",
    "                        'section' : ['tutorial1.Checkpoint00', 'tutorial1.Checkpoint01', 'tutorial1.Checkpoint02'],\n",
    "                        'serverTime' : ['0', '1', '2'],\n",
    "                        'firstReached' : ['0', '1', '2'],\n",
    "                        'firstCompletionDuration' : ['0', '1', '2'],\n",
    "                    })\n",
    "test\n",
    "#pd.DataFrame({  'A' : 1.,\n",
    "#                'B' : pd.Timestamp('20130102'),\n",
    "#                'C' : pd.Series(1,index=list(range(4)),dtype='float32'),\n",
    "#                'D' : np.array([3] * 4,dtype='int32'),\n",
    "#                'E' : pd.Categorical([\"test\",\"train\",\"test\",\"train\"]),\n",
    "#                'F' : 'foo' })"
   ]
  },
  {
   "cell_type": "code",
   "execution_count": 126,
   "metadata": {
    "collapsed": false,
    "scrolled": true
   },
   "outputs": [
    {
     "data": {
      "text/plain": [
       "0"
      ]
     },
     "execution_count": 126,
     "metadata": {},
     "output_type": "execute_result"
    }
   ],
   "source": [
    "testSr = pd.Series([])\n",
    "testSr.values.size"
   ]
  },
  {
   "cell_type": "code",
   "execution_count": 127,
   "metadata": {
    "collapsed": false
   },
   "outputs": [
    {
     "data": {
      "text/html": [
       "<div>\n",
       "<style>\n",
       "    .dataframe thead tr:only-child th {\n",
       "        text-align: right;\n",
       "    }\n",
       "\n",
       "    .dataframe thead th {\n",
       "        text-align: left;\n",
       "    }\n",
       "\n",
       "    .dataframe tbody tr th {\n",
       "        vertical-align: top;\n",
       "    }\n",
       "</style>\n",
       "<table border=\"1\" class=\"dataframe\">\n",
       "  <thead>\n",
       "    <tr style=\"text-align: right;\">\n",
       "      <th></th>\n",
       "      <th>serverTime</th>\n",
       "      <th>firstReached</th>\n",
       "      <th>firstCompletionDuration</th>\n",
       "    </tr>\n",
       "    <tr>\n",
       "      <th>section</th>\n",
       "      <th></th>\n",
       "      <th></th>\n",
       "      <th></th>\n",
       "    </tr>\n",
       "  </thead>\n",
       "  <tbody>\n",
       "  </tbody>\n",
       "</table>\n",
       "</div>"
      ],
      "text/plain": [
       "Empty DataFrame\n",
       "Columns: [serverTime, firstReached, firstCompletionDuration]\n",
       "Index: []"
      ]
     },
     "execution_count": 127,
     "metadata": {},
     "output_type": "execute_result"
    }
   ],
   "source": [
    "checkpointTimes = getCheckpointsTimes('\"958a0e85-1634-4559-bce6-d6af28b7e649\"')\n",
    "checkpointTimes"
   ]
  },
  {
   "cell_type": "code",
   "execution_count": 128,
   "metadata": {
    "collapsed": false,
    "scrolled": true
   },
   "outputs": [
    {
     "data": {
      "text/plain": [
       "pandas.core.frame.DataFrame"
      ]
     },
     "execution_count": 128,
     "metadata": {},
     "output_type": "execute_result"
    }
   ],
   "source": [
    "type(checkpointTimes)"
   ]
  },
  {
   "cell_type": "code",
   "execution_count": 129,
   "metadata": {
    "collapsed": false
   },
   "outputs": [
    {
     "data": {
      "text/html": [
       "<div>\n",
       "<style>\n",
       "    .dataframe thead tr:only-child th {\n",
       "        text-align: right;\n",
       "    }\n",
       "\n",
       "    .dataframe thead th {\n",
       "        text-align: left;\n",
       "    }\n",
       "\n",
       "    .dataframe tbody tr th {\n",
       "        vertical-align: top;\n",
       "    }\n",
       "</style>\n",
       "<table border=\"1\" class=\"dataframe\">\n",
       "  <thead>\n",
       "    <tr style=\"text-align: right;\">\n",
       "      <th></th>\n",
       "      <th>serverTime</th>\n",
       "      <th>firstReached</th>\n",
       "      <th>firstCompletionDuration</th>\n",
       "    </tr>\n",
       "  </thead>\n",
       "  <tbody>\n",
       "  </tbody>\n",
       "</table>\n",
       "</div>"
      ],
      "text/plain": [
       "Empty DataFrame\n",
       "Columns: [serverTime, firstReached, firstCompletionDuration]\n",
       "Index: []"
      ]
     },
     "execution_count": 129,
     "metadata": {},
     "output_type": "execute_result"
    }
   ],
   "source": [
    "testDF = pd.DataFrame({}, columns=checkpointTimes.columns)\n",
    "testDF"
   ]
  },
  {
   "cell_type": "code",
   "execution_count": 130,
   "metadata": {
    "collapsed": false
   },
   "outputs": [
    {
     "data": {
      "text/html": [
       "<div>\n",
       "<style>\n",
       "    .dataframe thead tr:only-child th {\n",
       "        text-align: right;\n",
       "    }\n",
       "\n",
       "    .dataframe thead th {\n",
       "        text-align: left;\n",
       "    }\n",
       "\n",
       "    .dataframe tbody tr th {\n",
       "        vertical-align: top;\n",
       "    }\n",
       "</style>\n",
       "<table border=\"1\" class=\"dataframe\">\n",
       "  <thead>\n",
       "    <tr style=\"text-align: right;\">\n",
       "      <th></th>\n",
       "      <th>serverTime</th>\n",
       "      <th>firstReached</th>\n",
       "      <th>firstCompletionDuration</th>\n",
       "    </tr>\n",
       "  </thead>\n",
       "  <tbody>\n",
       "  </tbody>\n",
       "</table>\n",
       "</div>"
      ],
      "text/plain": [
       "Empty DataFrame\n",
       "Columns: [serverTime, firstReached, firstCompletionDuration]\n",
       "Index: []"
      ]
     },
     "execution_count": 130,
     "metadata": {},
     "output_type": "execute_result"
    }
   ],
   "source": [
    "testDF['serverTime']['testIndex'] = np.nan\n",
    "testDF"
   ]
  },
  {
   "cell_type": "code",
   "execution_count": 131,
   "metadata": {
    "collapsed": false
   },
   "outputs": [
    {
     "data": {
      "text/html": [
       "<div>\n",
       "<style>\n",
       "    .dataframe thead tr:only-child th {\n",
       "        text-align: right;\n",
       "    }\n",
       "\n",
       "    .dataframe thead th {\n",
       "        text-align: left;\n",
       "    }\n",
       "\n",
       "    .dataframe tbody tr th {\n",
       "        vertical-align: top;\n",
       "    }\n",
       "</style>\n",
       "<table border=\"1\" class=\"dataframe\">\n",
       "  <thead>\n",
       "    <tr style=\"text-align: right;\">\n",
       "      <th></th>\n",
       "      <th>serverTime</th>\n",
       "      <th>firstReached</th>\n",
       "      <th>firstCompletionDuration</th>\n",
       "    </tr>\n",
       "  </thead>\n",
       "  <tbody>\n",
       "  </tbody>\n",
       "</table>\n",
       "</div>"
      ],
      "text/plain": [
       "Empty DataFrame\n",
       "Columns: [serverTime, firstReached, firstCompletionDuration]\n",
       "Index: []"
      ]
     },
     "execution_count": 131,
     "metadata": {},
     "output_type": "execute_result"
    }
   ],
   "source": [
    "testDF = testDF.add({'serverTime': 'a', 'firstReached': 'b', 'firstCompletionDuration': 'c'})\n",
    "testDF"
   ]
  },
  {
   "cell_type": "code",
   "execution_count": 132,
   "metadata": {
    "collapsed": false
   },
   "outputs": [
    {
     "data": {
      "text/html": [
       "<div>\n",
       "<style>\n",
       "    .dataframe thead tr:only-child th {\n",
       "        text-align: right;\n",
       "    }\n",
       "\n",
       "    .dataframe thead th {\n",
       "        text-align: left;\n",
       "    }\n",
       "\n",
       "    .dataframe tbody tr th {\n",
       "        vertical-align: top;\n",
       "    }\n",
       "</style>\n",
       "<table border=\"1\" class=\"dataframe\">\n",
       "  <thead>\n",
       "    <tr style=\"text-align: right;\">\n",
       "      <th></th>\n",
       "      <th>serverTime</th>\n",
       "      <th>firstReached</th>\n",
       "      <th>firstCompletionDuration</th>\n",
       "    </tr>\n",
       "    <tr>\n",
       "      <th>section</th>\n",
       "      <th></th>\n",
       "      <th></th>\n",
       "      <th></th>\n",
       "    </tr>\n",
       "  </thead>\n",
       "  <tbody>\n",
       "    <tr>\n",
       "      <th>tutorial1.Checkpoint00</th>\n",
       "      <td>2017-04-12T11:00:15.511Z</td>\n",
       "      <td>2017-04-12 11:00:15.511</td>\n",
       "      <td>NaT</td>\n",
       "    </tr>\n",
       "    <tr>\n",
       "      <th>tutorial1.Checkpoint01</th>\n",
       "      <td>2017-04-12T11:01:47.948Z</td>\n",
       "      <td>2017-04-12 11:01:47.948</td>\n",
       "      <td>00:01:32.437000</td>\n",
       "    </tr>\n",
       "  </tbody>\n",
       "</table>\n",
       "</div>"
      ],
      "text/plain": [
       "                                      serverTime            firstReached  \\\n",
       "section                                                                    \n",
       "tutorial1.Checkpoint00  2017-04-12T11:00:15.511Z 2017-04-12 11:00:15.511   \n",
       "tutorial1.Checkpoint01  2017-04-12T11:01:47.948Z 2017-04-12 11:01:47.948   \n",
       "\n",
       "                       firstCompletionDuration  \n",
       "section                                         \n",
       "tutorial1.Checkpoint00                     NaT  \n",
       "tutorial1.Checkpoint01         00:01:32.437000  "
      ]
     },
     "execution_count": 132,
     "metadata": {},
     "output_type": "execute_result"
    }
   ],
   "source": [
    "othersessionId = \"c430c60c-d7cb-4fc5-893b-dce440696caf\"\n",
    "checkpointTimes = getCheckpointsTimes(othersessionId)\n",
    "checkpointTimes"
   ]
  },
  {
   "cell_type": "code",
   "execution_count": 133,
   "metadata": {
    "collapsed": false
   },
   "outputs": [
    {
     "data": {
      "text/plain": [
       "serverTime                   2017-04-12T11:00:15.511Z\n",
       "firstReached               2017-04-12 11:00:15.511000\n",
       "firstCompletionDuration                           NaT\n",
       "Name: tutorial1.Checkpoint00, dtype: object"
      ]
     },
     "execution_count": 133,
     "metadata": {},
     "output_type": "execute_result"
    }
   ],
   "source": [
    "checkpointTimes.loc[checkpointTimes.index[0]]"
   ]
  },
  {
   "cell_type": "code",
   "execution_count": 134,
   "metadata": {
    "collapsed": false
   },
   "outputs": [
    {
     "data": {
      "text/plain": [
       "'tutorial1.Checkpoint00'"
      ]
     },
     "execution_count": 134,
     "metadata": {},
     "output_type": "execute_result"
    }
   ],
   "source": [
    "checkpointTimes.loc[checkpointTimes.index[0]].name"
   ]
  },
  {
   "cell_type": "code",
   "execution_count": 135,
   "metadata": {
    "collapsed": false
   },
   "outputs": [
    {
     "data": {
      "text/html": [
       "<div>\n",
       "<style>\n",
       "    .dataframe thead tr:only-child th {\n",
       "        text-align: right;\n",
       "    }\n",
       "\n",
       "    .dataframe thead th {\n",
       "        text-align: left;\n",
       "    }\n",
       "\n",
       "    .dataframe tbody tr th {\n",
       "        vertical-align: top;\n",
       "    }\n",
       "</style>\n",
       "<table border=\"1\" class=\"dataframe\">\n",
       "  <thead>\n",
       "    <tr style=\"text-align: right;\">\n",
       "      <th></th>\n",
       "      <th>sessionId</th>\n",
       "      <th>serverTime</th>\n",
       "      <th>section</th>\n",
       "    </tr>\n",
       "  </thead>\n",
       "  <tbody>\n",
       "    <tr>\n",
       "      <th>10</th>\n",
       "      <td>2d76c4ef-f260-4963-82f4-ff598d2a63b4</td>\n",
       "      <td>2017-04-12T09:32:58.854Z</td>\n",
       "      <td>tutorial1.Checkpoint00</td>\n",
       "    </tr>\n",
       "    <tr>\n",
       "      <th>18</th>\n",
       "      <td>2d76c4ef-f260-4963-82f4-ff598d2a63b4</td>\n",
       "      <td>2017-04-12T09:34:25.657Z</td>\n",
       "      <td>tutorial1.Checkpoint01</td>\n",
       "    </tr>\n",
       "    <tr>\n",
       "      <th>69</th>\n",
       "      <td>6a9893c1-da09-42c7-832e-4d0746fa779e</td>\n",
       "      <td>2017-04-12T09:47:06.436Z</td>\n",
       "      <td>tutorial1.Checkpoint01</td>\n",
       "    </tr>\n",
       "    <tr>\n",
       "      <th>79</th>\n",
       "      <td>c430c60c-d7cb-4fc5-893b-dce440696caf</td>\n",
       "      <td>2017-04-12T11:00:15.511Z</td>\n",
       "      <td>tutorial1.Checkpoint00</td>\n",
       "    </tr>\n",
       "    <tr>\n",
       "      <th>85</th>\n",
       "      <td>c430c60c-d7cb-4fc5-893b-dce440696caf</td>\n",
       "      <td>2017-04-12T11:01:47.948Z</td>\n",
       "      <td>tutorial1.Checkpoint01</td>\n",
       "    </tr>\n",
       "  </tbody>\n",
       "</table>\n",
       "</div>"
      ],
      "text/plain": [
       "                               sessionId                serverTime  \\\n",
       "10  2d76c4ef-f260-4963-82f4-ff598d2a63b4  2017-04-12T09:32:58.854Z   \n",
       "18  2d76c4ef-f260-4963-82f4-ff598d2a63b4  2017-04-12T09:34:25.657Z   \n",
       "69  6a9893c1-da09-42c7-832e-4d0746fa779e  2017-04-12T09:47:06.436Z   \n",
       "79  c430c60c-d7cb-4fc5-893b-dce440696caf  2017-04-12T11:00:15.511Z   \n",
       "85  c430c60c-d7cb-4fc5-893b-dce440696caf  2017-04-12T11:01:47.948Z   \n",
       "\n",
       "                   section  \n",
       "10  tutorial1.Checkpoint00  \n",
       "18  tutorial1.Checkpoint01  \n",
       "69  tutorial1.Checkpoint01  \n",
       "79  tutorial1.Checkpoint00  \n",
       "85  tutorial1.Checkpoint01  "
      ]
     },
     "execution_count": 135,
     "metadata": {},
     "output_type": "execute_result"
    }
   ],
   "source": [
    "reachEvents.head()"
   ]
  },
  {
   "cell_type": "code",
   "execution_count": 136,
   "metadata": {
    "collapsed": false
   },
   "outputs": [
    {
     "data": {
      "text/html": [
       "<div>\n",
       "<style>\n",
       "    .dataframe thead tr:only-child th {\n",
       "        text-align: right;\n",
       "    }\n",
       "\n",
       "    .dataframe thead th {\n",
       "        text-align: left;\n",
       "    }\n",
       "\n",
       "    .dataframe tbody tr th {\n",
       "        vertical-align: top;\n",
       "    }\n",
       "</style>\n",
       "<table border=\"1\" class=\"dataframe\">\n",
       "  <thead>\n",
       "    <tr style=\"text-align: right;\">\n",
       "      <th></th>\n",
       "      <th>sessionId</th>\n",
       "      <th>serverTime</th>\n",
       "      <th>section</th>\n",
       "    </tr>\n",
       "  </thead>\n",
       "  <tbody>\n",
       "    <tr>\n",
       "      <th>79</th>\n",
       "      <td>c430c60c-d7cb-4fc5-893b-dce440696caf</td>\n",
       "      <td>2017-04-12T11:00:15.511Z</td>\n",
       "      <td>tutorial1.Checkpoint00</td>\n",
       "    </tr>\n",
       "    <tr>\n",
       "      <th>85</th>\n",
       "      <td>c430c60c-d7cb-4fc5-893b-dce440696caf</td>\n",
       "      <td>2017-04-12T11:01:47.948Z</td>\n",
       "      <td>tutorial1.Checkpoint01</td>\n",
       "    </tr>\n",
       "  </tbody>\n",
       "</table>\n",
       "</div>"
      ],
      "text/plain": [
       "                               sessionId                serverTime  \\\n",
       "79  c430c60c-d7cb-4fc5-893b-dce440696caf  2017-04-12T11:00:15.511Z   \n",
       "85  c430c60c-d7cb-4fc5-893b-dce440696caf  2017-04-12T11:01:47.948Z   \n",
       "\n",
       "                   section  \n",
       "79  tutorial1.Checkpoint00  \n",
       "85  tutorial1.Checkpoint01  "
      ]
     },
     "execution_count": 136,
     "metadata": {},
     "output_type": "execute_result"
    }
   ],
   "source": [
    "perSession = reachEvents[reachEvents['sessionId']==othersessionId]\n",
    "perSession.head()"
   ]
  },
  {
   "cell_type": "code",
   "execution_count": 137,
   "metadata": {
    "collapsed": false
   },
   "outputs": [
    {
     "data": {
      "text/html": [
       "<div>\n",
       "<style>\n",
       "    .dataframe thead tr:only-child th {\n",
       "        text-align: right;\n",
       "    }\n",
       "\n",
       "    .dataframe thead th {\n",
       "        text-align: left;\n",
       "    }\n",
       "\n",
       "    .dataframe tbody tr th {\n",
       "        vertical-align: top;\n",
       "    }\n",
       "</style>\n",
       "<table border=\"1\" class=\"dataframe\">\n",
       "  <thead>\n",
       "    <tr style=\"text-align: right;\">\n",
       "      <th></th>\n",
       "      <th>sessionId</th>\n",
       "      <th>serverTime</th>\n",
       "      <th>section</th>\n",
       "    </tr>\n",
       "  </thead>\n",
       "  <tbody>\n",
       "    <tr>\n",
       "      <th>79</th>\n",
       "      <td>c430c60c-d7cb-4fc5-893b-dce440696caf</td>\n",
       "      <td>2017-04-12T11:00:15.511Z</td>\n",
       "      <td>tutorial1.Checkpoint00</td>\n",
       "    </tr>\n",
       "    <tr>\n",
       "      <th>85</th>\n",
       "      <td>c430c60c-d7cb-4fc5-893b-dce440696caf</td>\n",
       "      <td>2017-04-12T11:01:47.948Z</td>\n",
       "      <td>tutorial1.Checkpoint01</td>\n",
       "    </tr>\n",
       "  </tbody>\n",
       "</table>\n",
       "</div>"
      ],
      "text/plain": [
       "                               sessionId                serverTime  \\\n",
       "79  c430c60c-d7cb-4fc5-893b-dce440696caf  2017-04-12T11:00:15.511Z   \n",
       "85  c430c60c-d7cb-4fc5-893b-dce440696caf  2017-04-12T11:01:47.948Z   \n",
       "\n",
       "                   section  \n",
       "79  tutorial1.Checkpoint00  \n",
       "85  tutorial1.Checkpoint01  "
      ]
     },
     "execution_count": 137,
     "metadata": {},
     "output_type": "execute_result"
    }
   ],
   "source": [
    "perSession = perSession[perSession['section'].str.startswith('tutorial', na=False)]\n",
    "perSession.head()"
   ]
  },
  {
   "cell_type": "code",
   "execution_count": 138,
   "metadata": {
    "collapsed": false
   },
   "outputs": [
    {
     "data": {
      "text/html": [
       "<div>\n",
       "<style>\n",
       "    .dataframe thead tr:only-child th {\n",
       "        text-align: right;\n",
       "    }\n",
       "\n",
       "    .dataframe thead th {\n",
       "        text-align: left;\n",
       "    }\n",
       "\n",
       "    .dataframe tbody tr th {\n",
       "        vertical-align: top;\n",
       "    }\n",
       "</style>\n",
       "<table border=\"1\" class=\"dataframe\">\n",
       "  <thead>\n",
       "    <tr style=\"text-align: right;\">\n",
       "      <th></th>\n",
       "      <th>serverTime</th>\n",
       "    </tr>\n",
       "    <tr>\n",
       "      <th>section</th>\n",
       "      <th></th>\n",
       "    </tr>\n",
       "  </thead>\n",
       "  <tbody>\n",
       "    <tr>\n",
       "      <th>tutorial1.Checkpoint00</th>\n",
       "      <td>2017-04-12T11:00:15.511Z</td>\n",
       "    </tr>\n",
       "    <tr>\n",
       "      <th>tutorial1.Checkpoint01</th>\n",
       "      <td>2017-04-12T11:01:47.948Z</td>\n",
       "    </tr>\n",
       "  </tbody>\n",
       "</table>\n",
       "</div>"
      ],
      "text/plain": [
       "                                      serverTime\n",
       "section                                         \n",
       "tutorial1.Checkpoint00  2017-04-12T11:00:15.511Z\n",
       "tutorial1.Checkpoint01  2017-04-12T11:01:47.948Z"
      ]
     },
     "execution_count": 138,
     "metadata": {},
     "output_type": "execute_result"
    }
   ],
   "source": [
    "timedSections = perSession.groupby(\"section\").agg({ \"serverTime\": np.min })\n",
    "timedSections.head()"
   ]
  },
  {
   "cell_type": "code",
   "execution_count": 139,
   "metadata": {
    "collapsed": false
   },
   "outputs": [
    {
     "data": {
      "text/html": [
       "<div>\n",
       "<style>\n",
       "    .dataframe thead tr:only-child th {\n",
       "        text-align: right;\n",
       "    }\n",
       "\n",
       "    .dataframe thead th {\n",
       "        text-align: left;\n",
       "    }\n",
       "\n",
       "    .dataframe tbody tr th {\n",
       "        vertical-align: top;\n",
       "    }\n",
       "</style>\n",
       "<table border=\"1\" class=\"dataframe\">\n",
       "  <thead>\n",
       "    <tr style=\"text-align: right;\">\n",
       "      <th></th>\n",
       "      <th>serverTime</th>\n",
       "      <th>firstReached</th>\n",
       "    </tr>\n",
       "    <tr>\n",
       "      <th>section</th>\n",
       "      <th></th>\n",
       "      <th></th>\n",
       "    </tr>\n",
       "  </thead>\n",
       "  <tbody>\n",
       "    <tr>\n",
       "      <th>tutorial1.Checkpoint00</th>\n",
       "      <td>2017-04-12T11:00:15.511Z</td>\n",
       "      <td>2017-04-12 11:00:15.511</td>\n",
       "    </tr>\n",
       "    <tr>\n",
       "      <th>tutorial1.Checkpoint01</th>\n",
       "      <td>2017-04-12T11:01:47.948Z</td>\n",
       "      <td>2017-04-12 11:01:47.948</td>\n",
       "    </tr>\n",
       "  </tbody>\n",
       "</table>\n",
       "</div>"
      ],
      "text/plain": [
       "                                      serverTime            firstReached\n",
       "section                                                                 \n",
       "tutorial1.Checkpoint00  2017-04-12T11:00:15.511Z 2017-04-12 11:00:15.511\n",
       "tutorial1.Checkpoint01  2017-04-12T11:01:47.948Z 2017-04-12 11:01:47.948"
      ]
     },
     "execution_count": 139,
     "metadata": {},
     "output_type": "execute_result"
    }
   ],
   "source": [
    "timedSections[\"firstReached\"] = pd.to_datetime(timedSections[\"serverTime\"])\n",
    "timedSections.head()"
   ]
  },
  {
   "cell_type": "code",
   "execution_count": 140,
   "metadata": {
    "collapsed": false,
    "scrolled": true
   },
   "outputs": [
    {
     "data": {
      "text/html": [
       "<div>\n",
       "<style>\n",
       "    .dataframe thead tr:only-child th {\n",
       "        text-align: right;\n",
       "    }\n",
       "\n",
       "    .dataframe thead th {\n",
       "        text-align: left;\n",
       "    }\n",
       "\n",
       "    .dataframe tbody tr th {\n",
       "        vertical-align: top;\n",
       "    }\n",
       "</style>\n",
       "<table border=\"1\" class=\"dataframe\">\n",
       "  <thead>\n",
       "    <tr style=\"text-align: right;\">\n",
       "      <th></th>\n",
       "      <th>serverTime</th>\n",
       "      <th>firstReached</th>\n",
       "      <th>firstCompletionDuration</th>\n",
       "    </tr>\n",
       "    <tr>\n",
       "      <th>section</th>\n",
       "      <th></th>\n",
       "      <th></th>\n",
       "      <th></th>\n",
       "    </tr>\n",
       "  </thead>\n",
       "  <tbody>\n",
       "    <tr>\n",
       "      <th>tutorial1.Checkpoint00</th>\n",
       "      <td>2017-04-12T11:00:15.511Z</td>\n",
       "      <td>2017-04-12 11:00:15.511</td>\n",
       "      <td>NaT</td>\n",
       "    </tr>\n",
       "    <tr>\n",
       "      <th>tutorial1.Checkpoint01</th>\n",
       "      <td>2017-04-12T11:01:47.948Z</td>\n",
       "      <td>2017-04-12 11:01:47.948</td>\n",
       "      <td>00:01:32.437000</td>\n",
       "    </tr>\n",
       "  </tbody>\n",
       "</table>\n",
       "</div>"
      ],
      "text/plain": [
       "                                      serverTime            firstReached  \\\n",
       "section                                                                    \n",
       "tutorial1.Checkpoint00  2017-04-12T11:00:15.511Z 2017-04-12 11:00:15.511   \n",
       "tutorial1.Checkpoint01  2017-04-12T11:01:47.948Z 2017-04-12 11:01:47.948   \n",
       "\n",
       "                       firstCompletionDuration  \n",
       "section                                         \n",
       "tutorial1.Checkpoint00                     NaT  \n",
       "tutorial1.Checkpoint01         00:01:32.437000  "
      ]
     },
     "execution_count": 140,
     "metadata": {},
     "output_type": "execute_result"
    }
   ],
   "source": [
    "timedSections[\"firstCompletionDuration\"] = timedSections[\"firstReached\"].diff()\n",
    "timedSections.head()"
   ]
  },
  {
   "cell_type": "code",
   "execution_count": 141,
   "metadata": {
    "collapsed": false
   },
   "outputs": [
    {
     "data": {
      "text/html": [
       "<div>\n",
       "<style>\n",
       "    .dataframe thead tr:only-child th {\n",
       "        text-align: right;\n",
       "    }\n",
       "\n",
       "    .dataframe thead th {\n",
       "        text-align: left;\n",
       "    }\n",
       "\n",
       "    .dataframe tbody tr th {\n",
       "        vertical-align: top;\n",
       "    }\n",
       "</style>\n",
       "<table border=\"1\" class=\"dataframe\">\n",
       "  <thead>\n",
       "    <tr style=\"text-align: right;\">\n",
       "      <th></th>\n",
       "      <th>variable</th>\n",
       "      <th>value</th>\n",
       "    </tr>\n",
       "  </thead>\n",
       "  <tbody>\n",
       "    <tr>\n",
       "      <th>0</th>\n",
       "      <td>serverTime</td>\n",
       "      <td>2017-04-12T11:00:15.511Z</td>\n",
       "    </tr>\n",
       "  </tbody>\n",
       "</table>\n",
       "</div>"
      ],
      "text/plain": [
       "     variable                     value\n",
       "0  serverTime  2017-04-12T11:00:15.511Z"
      ]
     },
     "execution_count": 141,
     "metadata": {},
     "output_type": "execute_result"
    }
   ],
   "source": [
    "pd.melt(timedSections).head(1)"
   ]
  },
  {
   "cell_type": "code",
   "execution_count": 142,
   "metadata": {
    "collapsed": false,
    "scrolled": true
   },
   "outputs": [
    {
     "data": {
      "text/html": [
       "<div>\n",
       "<style>\n",
       "    .dataframe thead tr:only-child th {\n",
       "        text-align: right;\n",
       "    }\n",
       "\n",
       "    .dataframe thead th {\n",
       "        text-align: left;\n",
       "    }\n",
       "\n",
       "    .dataframe tbody tr th {\n",
       "        vertical-align: top;\n",
       "    }\n",
       "</style>\n",
       "<table border=\"1\" class=\"dataframe\">\n",
       "  <thead>\n",
       "    <tr style=\"text-align: right;\">\n",
       "      <th></th>\n",
       "      <th>section</th>\n",
       "      <th>0</th>\n",
       "    </tr>\n",
       "  </thead>\n",
       "  <tbody>\n",
       "    <tr>\n",
       "      <th>0</th>\n",
       "      <td>tutorial1.Checkpoint00</td>\n",
       "      <td>2017-04-12T11:00:15.511Z</td>\n",
       "    </tr>\n",
       "  </tbody>\n",
       "</table>\n",
       "</div>"
      ],
      "text/plain": [
       "                  section                         0\n",
       "0  tutorial1.Checkpoint00  2017-04-12T11:00:15.511Z"
      ]
     },
     "execution_count": 142,
     "metadata": {},
     "output_type": "execute_result"
    }
   ],
   "source": [
    "timedSections.unstack().reset_index().drop('level_0', axis=1).head(1)"
   ]
  },
  {
   "cell_type": "code",
   "execution_count": 143,
   "metadata": {
    "collapsed": false
   },
   "outputs": [
    {
     "data": {
      "text/plain": [
       "Index(['serverTime', 'firstReached', 'firstCompletionDuration'], dtype='object')"
      ]
     },
     "execution_count": 143,
     "metadata": {},
     "output_type": "execute_result"
    }
   ],
   "source": [
    "timedSections.columns"
   ]
  },
  {
   "cell_type": "code",
   "execution_count": 144,
   "metadata": {
    "collapsed": false
   },
   "outputs": [
    {
     "data": {
      "text/plain": [
       "Index(['tutorial1.Checkpoint00', 'tutorial1.Checkpoint01'], dtype='object', name='section')"
      ]
     },
     "execution_count": 144,
     "metadata": {},
     "output_type": "execute_result"
    }
   ],
   "source": [
    "timedSections.index"
   ]
  },
  {
   "cell_type": "code",
   "execution_count": 145,
   "metadata": {
    "collapsed": false
   },
   "outputs": [],
   "source": [
    "#timedSections[timedSections['section']=='tutorial1.Checkpoint00']\n",
    "#timedSections['section']\n",
    "#timedSections.unstack().reset_index().drop('level_0', axis=1)"
   ]
  },
  {
   "cell_type": "code",
   "execution_count": 146,
   "metadata": {
    "collapsed": false
   },
   "outputs": [
    {
     "data": {
      "text/plain": [
       "'2017-04-12T11:00:15.511Z'"
      ]
     },
     "execution_count": 146,
     "metadata": {},
     "output_type": "execute_result"
    }
   ],
   "source": [
    "timedSections['serverTime']['tutorial1.Checkpoint00']"
   ]
  },
  {
   "cell_type": "code",
   "execution_count": 147,
   "metadata": {
    "collapsed": false
   },
   "outputs": [
    {
     "data": {
      "text/plain": [
       "Timestamp('2017-04-12 11:00:15.511000')"
      ]
     },
     "execution_count": 147,
     "metadata": {},
     "output_type": "execute_result"
    }
   ],
   "source": [
    "timedSections['firstReached']['tutorial1.Checkpoint00']"
   ]
  },
  {
   "cell_type": "code",
   "execution_count": 148,
   "metadata": {
    "collapsed": false
   },
   "outputs": [
    {
     "data": {
      "text/plain": [
       "Timestamp('2017-01-12 11:00:15.511000')"
      ]
     },
     "execution_count": 148,
     "metadata": {},
     "output_type": "execute_result"
    }
   ],
   "source": [
    "testTimeStamp = pd.Timestamp('2017-01-12 11:00:15.511000')\n",
    "testTimeStamp"
   ]
  },
  {
   "cell_type": "code",
   "execution_count": 149,
   "metadata": {
    "collapsed": false
   },
   "outputs": [
    {
     "data": {
      "text/plain": [
       "serverTime                   2017-04-12T11:00:15.511Z\n",
       "firstReached               2017-04-12 11:00:15.511000\n",
       "firstCompletionDuration                           NaT\n",
       "Name: tutorial1.Checkpoint00, dtype: object"
      ]
     },
     "execution_count": 149,
     "metadata": {},
     "output_type": "execute_result"
    }
   ],
   "source": [
    "timedSections.loc['tutorial1.Checkpoint00']"
   ]
  },
  {
   "cell_type": "code",
   "execution_count": 150,
   "metadata": {
    "collapsed": false
   },
   "outputs": [
    {
     "data": {
      "text/plain": [
       "'2017-04-12T11:00:15.511Z'"
      ]
     },
     "execution_count": 150,
     "metadata": {},
     "output_type": "execute_result"
    }
   ],
   "source": [
    "timedSections.loc['tutorial1.Checkpoint00']['serverTime']"
   ]
  },
  {
   "cell_type": "code",
   "execution_count": 151,
   "metadata": {
    "collapsed": false
   },
   "outputs": [
    {
     "name": "stdout",
     "output_type": "stream",
     "text": [
      "tutorial1.Checkpoint00\n",
      "tutorial1.Checkpoint01\n"
     ]
    }
   ],
   "source": [
    "for checkpoint in timedSections.index:\n",
    "    print(checkpoint)"
   ]
  },
  {
   "cell_type": "code",
   "execution_count": 152,
   "metadata": {
    "collapsed": false
   },
   "outputs": [
    {
     "name": "stdout",
     "output_type": "stream",
     "text": [
      "tutorial1.Checkpoint00\n",
      "tutorial1.Checkpoint01\n"
     ]
    }
   ],
   "source": [
    "#timedSections = []\n",
    "\n",
    "#times = getCheckpointsTimes( sessionId )\n",
    "\n",
    "for checkpoint in timedSections.index:\n",
    "    if testTimeStamp < timedSections['firstReached'][checkpoint]:\n",
    "        print(checkpoint)"
   ]
  },
  {
   "cell_type": "code",
   "execution_count": 153,
   "metadata": {
    "collapsed": false
   },
   "outputs": [
    {
     "data": {
      "text/plain": [
       "False"
      ]
     },
     "execution_count": 153,
     "metadata": {},
     "output_type": "execute_result"
    }
   ],
   "source": [
    "timedSections.empty"
   ]
  },
  {
   "cell_type": "code",
   "execution_count": 154,
   "metadata": {
    "collapsed": false
   },
   "outputs": [
    {
     "data": {
      "text/html": [
       "<div>\n",
       "<style>\n",
       "    .dataframe thead tr:only-child th {\n",
       "        text-align: right;\n",
       "    }\n",
       "\n",
       "    .dataframe thead th {\n",
       "        text-align: left;\n",
       "    }\n",
       "\n",
       "    .dataframe tbody tr th {\n",
       "        vertical-align: top;\n",
       "    }\n",
       "</style>\n",
       "<table border=\"1\" class=\"dataframe\">\n",
       "  <thead>\n",
       "    <tr style=\"text-align: right;\">\n",
       "      <th></th>\n",
       "      <th>serverTime</th>\n",
       "      <th>firstReached</th>\n",
       "      <th>firstCompletionDuration</th>\n",
       "    </tr>\n",
       "    <tr>\n",
       "      <th>section</th>\n",
       "      <th></th>\n",
       "      <th></th>\n",
       "      <th></th>\n",
       "    </tr>\n",
       "  </thead>\n",
       "  <tbody>\n",
       "    <tr>\n",
       "      <th>tutorial1.Checkpoint00</th>\n",
       "      <td>2017-06-01T19:38:34.151Z</td>\n",
       "      <td>2017-06-01 19:38:34.151000</td>\n",
       "      <td>NaT</td>\n",
       "    </tr>\n",
       "    <tr>\n",
       "      <th>tutorial1.Checkpoint01</th>\n",
       "      <td>2017-06-01T19:39:07.255Z</td>\n",
       "      <td>2017-06-01 19:39:07.255000</td>\n",
       "      <td>00:00:33.104000</td>\n",
       "    </tr>\n",
       "  </tbody>\n",
       "</table>\n",
       "</div>"
      ],
      "text/plain": [
       "                                      serverTime                firstReached  \\\n",
       "section                                                                        \n",
       "tutorial1.Checkpoint00  2017-06-01T19:38:34.151Z  2017-06-01 19:38:34.151000   \n",
       "tutorial1.Checkpoint01  2017-06-01T19:39:07.255Z  2017-06-01 19:39:07.255000   \n",
       "\n",
       "                       firstCompletionDuration  \n",
       "section                                         \n",
       "tutorial1.Checkpoint00                     NaT  \n",
       "tutorial1.Checkpoint01         00:00:33.104000  "
      ]
     },
     "execution_count": 154,
     "metadata": {},
     "output_type": "execute_result"
    }
   ],
   "source": [
    "getCheckpointsTimesUser(testlocalplayerguid)"
   ]
  }
 ],
 "metadata": {
  "kernelspec": {
   "display_name": "Python 3",
   "language": "python",
   "name": "python3"
  },
  "language_info": {
   "codemirror_mode": {
    "name": "ipython",
    "version": 3
   },
   "file_extension": ".py",
   "mimetype": "text/x-python",
   "name": "python",
   "nbconvert_exporter": "python",
   "pygments_lexer": "ipython3",
   "version": "3.5.4"
  }
 },
 "nbformat": 4,
 "nbformat_minor": 0
}
