{
 "cells": [
  {
   "cell_type": "code",
   "execution_count": 1,
   "metadata": {
    "collapsed": true
   },
   "outputs": [],
   "source": [
    "percentageBarGraphMode = False\n",
    "barGraphMode = False\n",
    "percentageDefaultGraphMode = True\n",
    "defaultGraphMode = True\n",
    "\n",
    "#percentageFormat = \"3.2f\"\n",
    "\n",
    "def innerGenericTreatment( table, graphKind, xlabel, ylabel, isXPercentage=False, isYPercentage=False, xTotalCount=0, yTotalCount=0 ):\n",
    "        \n",
    "    if graphKind is None:\n",
    "        ax = table.plot()\n",
    "    else:\n",
    "        ax = table.plot(kind=graphKind)\n",
    "\n",
    "    plt.xlabel(xlabel)\n",
    "    plt.ylabel(ylabel)\n",
    "    plt.legend('') \n",
    "    \n",
    "    if isXPercentage:\n",
    "        customXTicks = pd.Series(range(0,10,1))*xTotalCount/10\n",
    "        ax.set_xticks(customXTicks)\n",
    "        ax.set_xticklabels(['{:3.0f}%'.format((x*100)/(xTotalCount)) for x in customXTicks])\n",
    "        ax.set_xlim([0, xTotalCount])\n",
    "        \n",
    "    if isYPercentage:\n",
    "        customYTicks = pd.Series(range(0,10,1))*yTotalCount/10\n",
    "        ax.set_yticks(customYTicks)\n",
    "        ax.set_yticklabels(['{:3.0f}%'.format((x*100)/(yTotalCount)) for x in customYTicks])\n",
    "        ax.set_ylim([0, yTotalCount])\n",
    "    \n",
    "    return\n",
    "\n",
    "def genericTreatment( dataTable, xLabel, yLabel, xTotalCount=0, yTotalCount=0, isXPercentage=True, isYPercentage=False ):\n",
    "    percentageXLabel = xLabel\n",
    "    if isXPercentage:\n",
    "        percentageXLabel = (percentageXLabel+\" (%)\")\n",
    "    percentageYLabel = yLabel\n",
    "    if isYPercentage:\n",
    "        percentageYLabel = (percentageYLabel+\" (%)\")            \n",
    "    if percentageBarGraphMode:\n",
    "        innerGenericTreatment( dataTable, 'bar', percentageXLabel, percentageYLabel,\n",
    "                         isXPercentage, isYPercentage, xTotalCount, yTotalCount )\n",
    "    if barGraphMode:\n",
    "        innerGenericTreatment( dataTable, 'bar', xLabel, yLabel)\n",
    "    if percentageDefaultGraphMode:\n",
    "        innerGenericTreatment( dataTable, None, percentageXLabel, percentageYLabel,\n",
    "                         isXPercentage, isYPercentage, xTotalCount, yTotalCount )\n",
    "    if defaultGraphMode:\n",
    "        innerGenericTreatment( dataTable, None, xLabel, yLabel)"
   ]
  }
 ],
 "metadata": {
  "kernelspec": {
   "display_name": "Python 2",
   "language": "python",
   "name": "python2"
  },
  "language_info": {
   "codemirror_mode": {
    "name": "ipython",
    "version": 2
   },
   "file_extension": ".py",
   "mimetype": "text/x-python",
   "name": "python",
   "nbconvert_exporter": "python",
   "pygments_lexer": "ipython2",
   "version": "2.7.10"
  }
 },
 "nbformat": 4,
 "nbformat_minor": 0
}
