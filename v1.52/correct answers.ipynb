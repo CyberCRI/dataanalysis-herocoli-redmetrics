{
 "cells": [
  {
   "cell_type": "markdown",
   "metadata": {},
   "source": [
    "# English"
   ]
  },
  {
   "cell_type": "code",
   "execution_count": 7,
   "metadata": {
    "collapsed": true
   },
   "outputs": [],
   "source": [
    "%run Preparation.ipynb"
   ]
  },
  {
   "cell_type": "code",
   "execution_count": 8,
   "metadata": {
    "collapsed": true
   },
   "outputs": [],
   "source": [
    "# 1 Timestamp\n",
    "# 2 Are you interested in video games?\n",
    "# 3 Do you play video games?\n",
    "# 4 How old are you?\n",
    "# 5 What is your gender?\n",
    "# 6 How long have you studied biology?\n",
    "# 7 Are you interested in biology?\n",
    "# 8 Have you ever heard about synthetic biology or BioBricks?\n",
    "# 9 Have you ever played an older version of Hero.Coli before?\n",
    "# 10 Have you played the current version of Hero.Coli?\n",
    "\n",
    "# 11 What is the species of the bacterium of the game?\n",
    "# 12 In order to modify the abilities of the bacterium, you have to...\n",
    "# 13 What are BioBricks and devices?\n",
    "# 14 What is the scientific name of the tails of the bacterium?\n",
    "# 15 Find the antibiotic:\n",
    "# 16 What is the name of this BioBrick? T\n",
    "# 17 What is the name of this BioBrick? P\n",
    "# 18 What is the name of this BioBrick? CDS\n",
    "# 19 What is the name of this BioBrick? RBS\n",
    "# 20 Pick the case where the BioBricks are well-ordered:\n",
    "# 21 When does green fluorescence happen?\n",
    "# 22 What happens when you unequip the movement device?\n",
    "# 23 What is this? Plasmid\n",
    "# 24 What does this device do? GFP\n",
    "# 25 What does this device do? FLhDC\n",
    "# 26 What does this device do? AmpR\n",
    "# 27 What does this device do? pBAD3\n",
    "# 28 What does this device do? GFP\n",
    "# 29 What does this device do? FLhDC\n",
    "# 30 What does this device do? AmpR\n",
    "# 31 What does this device do? pBAD3\n",
    "# 32 The bacterium glows yellow...\n",
    "# 33 What would a device producing l-arabinose do, if it started with a l-arabinose-induced promoter?\n",
    "\n",
    "# 34 You can write down remarks here.\n",
    "# 35 Do not edit - pre-filled anonymous ID"
   ]
  },
  {
   "cell_type": "code",
   "execution_count": 21,
   "metadata": {
    "collapsed": false
   },
   "outputs": [
    {
     "data": {
      "text/html": [
       "<div>\n",
       "<table border=\"1\" class=\"dataframe\">\n",
       "  <thead>\n",
       "    <tr style=\"text-align: right;\">\n",
       "      <th></th>\n",
       "      <th>correctAnswer</th>\n",
       "    </tr>\n",
       "  </thead>\n",
       "  <tbody>\n",
       "    <tr>\n",
       "      <th>0</th>\n",
       "      <td></td>\n",
       "    </tr>\n",
       "    <tr>\n",
       "      <th>1</th>\n",
       "      <td></td>\n",
       "    </tr>\n",
       "    <tr>\n",
       "      <th>2</th>\n",
       "      <td></td>\n",
       "    </tr>\n",
       "    <tr>\n",
       "      <th>3</th>\n",
       "      <td></td>\n",
       "    </tr>\n",
       "    <tr>\n",
       "      <th>4</th>\n",
       "      <td></td>\n",
       "    </tr>\n",
       "    <tr>\n",
       "      <th>5</th>\n",
       "      <td></td>\n",
       "    </tr>\n",
       "    <tr>\n",
       "      <th>6</th>\n",
       "      <td></td>\n",
       "    </tr>\n",
       "    <tr>\n",
       "      <th>7</th>\n",
       "      <td></td>\n",
       "    </tr>\n",
       "    <tr>\n",
       "      <th>8</th>\n",
       "      <td></td>\n",
       "    </tr>\n",
       "    <tr>\n",
       "      <th>9</th>\n",
       "      <td></td>\n",
       "    </tr>\n",
       "    <tr>\n",
       "      <th>10</th>\n",
       "      <td>E. Coli</td>\n",
       "    </tr>\n",
       "    <tr>\n",
       "      <th>11</th>\n",
       "      <td>Edit the DNA of the bacterium</td>\n",
       "    </tr>\n",
       "    <tr>\n",
       "      <th>12</th>\n",
       "      <td>DNA sequences</td>\n",
       "    </tr>\n",
       "    <tr>\n",
       "      <th>13</th>\n",
       "      <td>Flagella</td>\n",
       "    </tr>\n",
       "    <tr>\n",
       "      <th>14</th>\n",
       "      <td>Ampicillin</td>\n",
       "    </tr>\n",
       "    <tr>\n",
       "      <th>15</th>\n",
       "      <td>Terminator</td>\n",
       "    </tr>\n",
       "    <tr>\n",
       "      <th>16</th>\n",
       "      <td>Promoter</td>\n",
       "    </tr>\n",
       "    <tr>\n",
       "      <th>17</th>\n",
       "      <td>Coding Sequence</td>\n",
       "    </tr>\n",
       "    <tr>\n",
       "      <th>18</th>\n",
       "      <td>RBS</td>\n",
       "    </tr>\n",
       "    <tr>\n",
       "      <th>19</th>\n",
       "      <td>Option 1</td>\n",
       "    </tr>\n",
       "    <tr>\n",
       "      <th>20</th>\n",
       "      <td>Under blue light, when the GFP device is equipped</td>\n",
       "    </tr>\n",
       "    <tr>\n",
       "      <th>21</th>\n",
       "      <td>Flagella quickly disappear one by one</td>\n",
       "    </tr>\n",
       "    <tr>\n",
       "      <th>22</th>\n",
       "      <td>A plasmid - it makes it possible to equip an a</td>\n",
       "    </tr>\n",
       "    <tr>\n",
       "      <th>23</th>\n",
       "      <td>It generates green fluorescence</td>\n",
       "    </tr>\n",
       "    <tr>\n",
       "      <th>24</th>\n",
       "      <td>It makes it possible to move faster</td>\n",
       "    </tr>\n",
       "    <tr>\n",
       "      <th>25</th>\n",
       "      <td>It generates antibiotic resistance</td>\n",
       "    </tr>\n",
       "    <tr>\n",
       "      <th>26</th>\n",
       "      <td>It generates green fluorescence in presence of</td>\n",
       "    </tr>\n",
       "    <tr>\n",
       "      <th>27</th>\n",
       "      <td>It generates green fluorescence</td>\n",
       "    </tr>\n",
       "    <tr>\n",
       "      <th>28</th>\n",
       "      <td>It makes it possible to move faster</td>\n",
       "    </tr>\n",
       "    <tr>\n",
       "      <th>29</th>\n",
       "      <td>It generates antibiotic resistance</td>\n",
       "    </tr>\n",
       "    <tr>\n",
       "      <th>30</th>\n",
       "      <td>It generates green fluorescence in presence of</td>\n",
       "    </tr>\n",
       "    <tr>\n",
       "      <th>31</th>\n",
       "      <td>If it produces YFP under cyan light</td>\n",
       "    </tr>\n",
       "    <tr>\n",
       "      <th>32</th>\n",
       "      <td>After being induced, it would produce more and</td>\n",
       "    </tr>\n",
       "    <tr>\n",
       "      <th>33</th>\n",
       "      <td></td>\n",
       "    </tr>\n",
       "    <tr>\n",
       "      <th>34</th>\n",
       "      <td></td>\n",
       "    </tr>\n",
       "  </tbody>\n",
       "</table>\n",
       "</div>"
      ],
      "text/plain": [
       "                                        correctAnswer\n",
       "0                                                    \n",
       "1                                                    \n",
       "2                                                    \n",
       "3                                                    \n",
       "4                                                    \n",
       "5                                                    \n",
       "6                                                    \n",
       "7                                                    \n",
       "8                                                    \n",
       "9                                                    \n",
       "10                                            E. Coli\n",
       "11                      Edit the DNA of the bacterium\n",
       "12                                      DNA sequences\n",
       "13                                           Flagella\n",
       "14                                         Ampicillin\n",
       "15                                         Terminator\n",
       "16                                           Promoter\n",
       "17                                    Coding Sequence\n",
       "18                                                RBS\n",
       "19                                           Option 1\n",
       "20  Under blue light, when the GFP device is equipped\n",
       "21              Flagella quickly disappear one by one\n",
       "22     A plasmid - it makes it possible to equip an a\n",
       "23                    It generates green fluorescence\n",
       "24                It makes it possible to move faster\n",
       "25                 It generates antibiotic resistance\n",
       "26     It generates green fluorescence in presence of\n",
       "27                    It generates green fluorescence\n",
       "28                It makes it possible to move faster\n",
       "29                 It generates antibiotic resistance\n",
       "30     It generates green fluorescence in presence of\n",
       "31                If it produces YFP under cyan light\n",
       "32     After being induced, it would produce more and\n",
       "33                                                   \n",
       "34                                                   "
      ]
     },
     "execution_count": 21,
     "metadata": {},
     "output_type": "execute_result"
    }
   ],
   "source": [
    "correctAnswers = pd.DataFrame(\n",
    "    {\n",
    "        'correctAnswer' : [\n",
    "            '', # 1\n",
    "            '', # 2\n",
    "            '', # 3\n",
    "            '', # 4\n",
    "            '', # 5\n",
    "            '', # 6\n",
    "            '', # 7\n",
    "            '', # 8\n",
    "            '', # 9\n",
    "            '', # 10\n",
    "            \n",
    "            'E. Coli', # 11\n",
    "            'Edit the DNA of the bacterium', # 12\n",
    "            'DNA sequences', # 13\n",
    "            'Flagella', # 14\n",
    "            'Ampicillin', # 15\n",
    "            'Terminator', # 16\n",
    "            'Promoter', # 17\n",
    "            'Coding Sequence', # 18\n",
    "            'RBS', # 19\n",
    "            'Option 1', # 20\n",
    "            'Under blue light, when the GFP device is equipped', # 21\n",
    "            'Flagella quickly disappear one by one', # 22\n",
    "            'A plasmid - it makes it possible to equip an a', # 23\n",
    "            'It generates green fluorescence', # 24\n",
    "            'It makes it possible to move faster', # 25\n",
    "            'It generates antibiotic resistance', # 26\n",
    "            'It generates green fluorescence in presence of', # 27\n",
    "            'It generates green fluorescence', # 28\n",
    "            'It makes it possible to move faster', # 29\n",
    "            'It generates antibiotic resistance', # 30\n",
    "            'It generates green fluorescence in presence of', # 31\n",
    "            'If it produces YFP under cyan light', # 32\n",
    "            'After being induced, it would produce more and', # 33\n",
    "            \n",
    "            '', # 34\n",
    "            '' # 35\n",
    "        ]\n",
    "    }\n",
    ")\n",
    "correctAnswers"
   ]
  },
  {
   "cell_type": "code",
   "execution_count": 10,
   "metadata": {
    "collapsed": false
   },
   "outputs": [
    {
     "data": {
      "text/plain": [
       "pandas.core.frame.DataFrame"
      ]
     },
     "execution_count": 10,
     "metadata": {},
     "output_type": "execute_result"
    }
   ],
   "source": [
    "type(correctAnswers)"
   ]
  },
  {
   "cell_type": "markdown",
   "metadata": {},
   "source": [
    "#### Access"
   ]
  },
  {
   "cell_type": "code",
   "execution_count": 23,
   "metadata": {
    "collapsed": false
   },
   "outputs": [
    {
     "data": {
      "text/plain": [
       "'Option 1'"
      ]
     },
     "execution_count": 23,
     "metadata": {},
     "output_type": "execute_result"
    }
   ],
   "source": [
    "correctAnswers['correctAnswer'][19]"
   ]
  },
  {
   "cell_type": "markdown",
   "metadata": {},
   "source": [
    "# Checkpoint / Question matching"
   ]
  },
  {
   "cell_type": "code",
   "execution_count": 27,
   "metadata": {
    "collapsed": false
   },
   "outputs": [
    {
     "data": {
      "text/plain": [
       "'tutorial1.Checkpoint0'"
      ]
     },
     "execution_count": 27,
     "metadata": {},
     "output_type": "execute_result"
    }
   ],
   "source": [
    "checkpointQuestionMatching = pd.DataFrame(\n",
    "    {\n",
    "        'checkpoint' : [\n",
    "            '', # 1\n",
    "            '', # 2\n",
    "            '', # 3\n",
    "            '', # 4\n",
    "            '', # 5\n",
    "            '', # 6\n",
    "            '', # 7\n",
    "            '', # 8\n",
    "            '', # 9\n",
    "            '', # 10\n",
    "\n",
    "            'tutorial1.Checkpoint0', # 11\n",
    "            'tutorial1.Checkpoint0', # 12\n",
    "            'tutorial1.Checkpoint0', # 13\n",
    "            'tutorial1.Checkpoint0', # 14\n",
    "            'tutorial1.Checkpoint2', # 15\n",
    "            'tutorial1.Checkpoint1', # 16\n",
    "            'tutorial1.Checkpoint5', # 17\n",
    "            'tutorial1.Checkpoint2', # 18\n",
    "            'tutorial1.Checkpoint5', # 19\n",
    "            'tutorial1.Checkpoint0', # 20\n",
    "            'tutorial1.Checkpoint2', # 21\n",
    "            'tutorial1.Checkpoint0', # 22\n",
    "            'tutorial1.Checkpoint5', # 23\n",
    "            'tutorial1.Checkpoint2', # 24\n",
    "            'tutorial1.Checkpoint2', # 25\n",
    "            'tutorial1.Checkpoint13', # 26\n",
    "            'tutorial1.Checkpoint5', # 27\n",
    "            'tutorial1.Checkpoint2', # 28\n",
    "            'tutorial1.Checkpoint2', # 29\n",
    "            'tutorial1.Checkpoint13', # 30\n",
    "            'tutorial1.Checkpoint5', # 31\n",
    "            'tutorial1.Checkpoint2', # 32\n",
    "            'tutorial1.Checkpoint5', # 33\n",
    "            \n",
    "            '', # 34\n",
    "            '' # 35\n",
    "        ]\n",
    "    }\n",
    ")\n",
    "#checkpointQuestionMatching\n",
    "checkpointQuestionMatching['checkpoint'][19]"
   ]
  }
 ],
 "metadata": {
  "kernelspec": {
   "display_name": "Python 2",
   "language": "python",
   "name": "python2"
  },
  "language_info": {
   "codemirror_mode": {
    "name": "ipython",
    "version": 2
   },
   "file_extension": ".py",
   "mimetype": "text/x-python",
   "name": "python",
   "nbconvert_exporter": "python",
   "pygments_lexer": "ipython2",
   "version": "2.7.10"
  }
 },
 "nbformat": 4,
 "nbformat_minor": 0
}
