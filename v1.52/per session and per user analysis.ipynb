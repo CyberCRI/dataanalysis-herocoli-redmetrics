{
 "cells": [
  {
   "cell_type": "markdown",
   "metadata": {},
   "source": [
    "# Preparation"
   ]
  },
  {
   "cell_type": "code",
   "execution_count": 357,
   "metadata": {
    "collapsed": false
   },
   "outputs": [],
   "source": [
    "%run Preparation.ipynb\n",
    "df152 = pd.read_csv(\"../data/2017-09-05.1.52.csv\")\n",
    "df152 = df152.rename(index=str, columns={'playerId': 'sessionId'})"
   ]
  },
  {
   "cell_type": "markdown",
   "metadata": {},
   "source": [
    "# Per-session analysis"
   ]
  },
  {
   "cell_type": "code",
   "execution_count": 358,
   "metadata": {
    "collapsed": false
   },
   "outputs": [
    {
     "data": {
      "text/html": [
       "<div>\n",
       "<table border=\"1\" class=\"dataframe\">\n",
       "  <thead>\n",
       "    <tr style=\"text-align: right;\">\n",
       "      <th></th>\n",
       "      <th>sessionId</th>\n",
       "      <th>serverTime</th>\n",
       "      <th>section</th>\n",
       "    </tr>\n",
       "  </thead>\n",
       "  <tbody>\n",
       "    <tr>\n",
       "      <th>21777</th>\n",
       "      <td>fab3ea03-6ff1-483f-a90a-74ff47d0b556</td>\n",
       "      <td>2017-08-22T22:05:18.293Z</td>\n",
       "      <td>tutorial1.Checkpoint00</td>\n",
       "    </tr>\n",
       "    <tr>\n",
       "      <th>21783</th>\n",
       "      <td>fab3ea03-6ff1-483f-a90a-74ff47d0b556</td>\n",
       "      <td>2017-08-22T22:08:17.799Z</td>\n",
       "      <td>tutorial1.Checkpoint01</td>\n",
       "    </tr>\n",
       "    <tr>\n",
       "      <th>21798</th>\n",
       "      <td>fab3ea03-6ff1-483f-a90a-74ff47d0b556</td>\n",
       "      <td>2017-08-22T22:13:28.227Z</td>\n",
       "      <td>tutorial1.Checkpoint02</td>\n",
       "    </tr>\n",
       "    <tr>\n",
       "      <th>21803</th>\n",
       "      <td>fab3ea03-6ff1-483f-a90a-74ff47d0b556</td>\n",
       "      <td>2017-08-22T22:15:27.959Z</td>\n",
       "      <td>tutorial1.Checkpoint03</td>\n",
       "    </tr>\n",
       "    <tr>\n",
       "      <th>21809</th>\n",
       "      <td>fab3ea03-6ff1-483f-a90a-74ff47d0b556</td>\n",
       "      <td>2017-08-22T22:16:11.658Z</td>\n",
       "      <td>tutorial1.Checkpoint04</td>\n",
       "    </tr>\n",
       "    <tr>\n",
       "      <th>21822</th>\n",
       "      <td>fab3ea03-6ff1-483f-a90a-74ff47d0b556</td>\n",
       "      <td>2017-08-22T22:19:29.421Z</td>\n",
       "      <td>tutorial1.Checkpoint03</td>\n",
       "    </tr>\n",
       "    <tr>\n",
       "      <th>21823</th>\n",
       "      <td>fab3ea03-6ff1-483f-a90a-74ff47d0b556</td>\n",
       "      <td>2017-08-22T22:19:47.058Z</td>\n",
       "      <td>tutorial1.Checkpoint04</td>\n",
       "    </tr>\n",
       "    <tr>\n",
       "      <th>21824</th>\n",
       "      <td>fab3ea03-6ff1-483f-a90a-74ff47d0b556</td>\n",
       "      <td>2017-08-22T22:20:12.739Z</td>\n",
       "      <td>tutorial1.Checkpoint05</td>\n",
       "    </tr>\n",
       "    <tr>\n",
       "      <th>22065</th>\n",
       "      <td>fab3ea03-6ff1-483f-a90a-74ff47d0b556</td>\n",
       "      <td>2017-08-22T22:34:32.438Z</td>\n",
       "      <td>tutorial1.Checkpoint06</td>\n",
       "    </tr>\n",
       "    <tr>\n",
       "      <th>22081</th>\n",
       "      <td>fab3ea03-6ff1-483f-a90a-74ff47d0b556</td>\n",
       "      <td>2017-08-22T22:37:59.659Z</td>\n",
       "      <td>tutorial1.Checkpoint07</td>\n",
       "    </tr>\n",
       "    <tr>\n",
       "      <th>22186</th>\n",
       "      <td>fab3ea03-6ff1-483f-a90a-74ff47d0b556</td>\n",
       "      <td>2017-08-22T22:45:27.478Z</td>\n",
       "      <td>tutorial1.Checkpoint08</td>\n",
       "    </tr>\n",
       "    <tr>\n",
       "      <th>22192</th>\n",
       "      <td>fab3ea03-6ff1-483f-a90a-74ff47d0b556</td>\n",
       "      <td>2017-08-22T22:46:34.417Z</td>\n",
       "      <td>tutorial1.Checkpoint09</td>\n",
       "    </tr>\n",
       "    <tr>\n",
       "      <th>22196</th>\n",
       "      <td>fab3ea03-6ff1-483f-a90a-74ff47d0b556</td>\n",
       "      <td>2017-08-22T22:47:39.021Z</td>\n",
       "      <td>tutorial1.Checkpoint10</td>\n",
       "    </tr>\n",
       "    <tr>\n",
       "      <th>22199</th>\n",
       "      <td>fab3ea03-6ff1-483f-a90a-74ff47d0b556</td>\n",
       "      <td>2017-08-22T22:47:46.360Z</td>\n",
       "      <td>tutorial1.Checkpoint11</td>\n",
       "    </tr>\n",
       "    <tr>\n",
       "      <th>22201</th>\n",
       "      <td>fab3ea03-6ff1-483f-a90a-74ff47d0b556</td>\n",
       "      <td>2017-08-22T22:48:16.857Z</td>\n",
       "      <td>tutorial1.Checkpoint12</td>\n",
       "    </tr>\n",
       "    <tr>\n",
       "      <th>22282</th>\n",
       "      <td>fab3ea03-6ff1-483f-a90a-74ff47d0b556</td>\n",
       "      <td>2017-08-22T22:53:44.320Z</td>\n",
       "      <td>tutorial1.Checkpoint13</td>\n",
       "    </tr>\n",
       "  </tbody>\n",
       "</table>\n",
       "</div>"
      ],
      "text/plain": [
       "                                  sessionId                serverTime  \\\n",
       "21777  fab3ea03-6ff1-483f-a90a-74ff47d0b556  2017-08-22T22:05:18.293Z   \n",
       "21783  fab3ea03-6ff1-483f-a90a-74ff47d0b556  2017-08-22T22:08:17.799Z   \n",
       "21798  fab3ea03-6ff1-483f-a90a-74ff47d0b556  2017-08-22T22:13:28.227Z   \n",
       "21803  fab3ea03-6ff1-483f-a90a-74ff47d0b556  2017-08-22T22:15:27.959Z   \n",
       "21809  fab3ea03-6ff1-483f-a90a-74ff47d0b556  2017-08-22T22:16:11.658Z   \n",
       "21822  fab3ea03-6ff1-483f-a90a-74ff47d0b556  2017-08-22T22:19:29.421Z   \n",
       "21823  fab3ea03-6ff1-483f-a90a-74ff47d0b556  2017-08-22T22:19:47.058Z   \n",
       "21824  fab3ea03-6ff1-483f-a90a-74ff47d0b556  2017-08-22T22:20:12.739Z   \n",
       "22065  fab3ea03-6ff1-483f-a90a-74ff47d0b556  2017-08-22T22:34:32.438Z   \n",
       "22081  fab3ea03-6ff1-483f-a90a-74ff47d0b556  2017-08-22T22:37:59.659Z   \n",
       "22186  fab3ea03-6ff1-483f-a90a-74ff47d0b556  2017-08-22T22:45:27.478Z   \n",
       "22192  fab3ea03-6ff1-483f-a90a-74ff47d0b556  2017-08-22T22:46:34.417Z   \n",
       "22196  fab3ea03-6ff1-483f-a90a-74ff47d0b556  2017-08-22T22:47:39.021Z   \n",
       "22199  fab3ea03-6ff1-483f-a90a-74ff47d0b556  2017-08-22T22:47:46.360Z   \n",
       "22201  fab3ea03-6ff1-483f-a90a-74ff47d0b556  2017-08-22T22:48:16.857Z   \n",
       "22282  fab3ea03-6ff1-483f-a90a-74ff47d0b556  2017-08-22T22:53:44.320Z   \n",
       "\n",
       "                      section  \n",
       "21777  tutorial1.Checkpoint00  \n",
       "21783  tutorial1.Checkpoint01  \n",
       "21798  tutorial1.Checkpoint02  \n",
       "21803  tutorial1.Checkpoint03  \n",
       "21809  tutorial1.Checkpoint04  \n",
       "21822  tutorial1.Checkpoint03  \n",
       "21823  tutorial1.Checkpoint04  \n",
       "21824  tutorial1.Checkpoint05  \n",
       "22065  tutorial1.Checkpoint06  \n",
       "22081  tutorial1.Checkpoint07  \n",
       "22186  tutorial1.Checkpoint08  \n",
       "22192  tutorial1.Checkpoint09  \n",
       "22196  tutorial1.Checkpoint10  \n",
       "22199  tutorial1.Checkpoint11  \n",
       "22201  tutorial1.Checkpoint12  \n",
       "22282  tutorial1.Checkpoint13  "
      ]
     },
     "execution_count": 358,
     "metadata": {},
     "output_type": "execute_result"
    }
   ],
   "source": [
    "perSessionRelevantColumns = ['sessionId', 'serverTime', 'section']\n",
    "\n",
    "sessionId = \"fab3ea03-6ff1-483f-a90a-74ff47d0b556\"\n",
    "\n",
    "perSession = df152[df152['type']=='reach'].loc[:,perSessionRelevantColumns]\n",
    "perSession = perSession[perSession['sessionId']==sessionId]\n",
    "perSession = perSession[perSession['section'].str.startswith('tutorial', na=False)]\n",
    "perSession"
   ]
  },
  {
   "cell_type": "markdown",
   "metadata": {},
   "source": [
    "# Per user analysis"
   ]
  },
  {
   "cell_type": "code",
   "execution_count": 359,
   "metadata": {
    "collapsed": false
   },
   "outputs": [
    {
     "data": {
      "text/html": [
       "<div>\n",
       "<table border=\"1\" class=\"dataframe\">\n",
       "  <thead>\n",
       "    <tr style=\"text-align: right;\">\n",
       "      <th></th>\n",
       "      <th>customData.localplayerguid</th>\n",
       "      <th>sessionId</th>\n",
       "    </tr>\n",
       "  </thead>\n",
       "  <tbody>\n",
       "    <tr>\n",
       "      <th>count</th>\n",
       "      <td>1</td>\n",
       "      <td>1</td>\n",
       "    </tr>\n",
       "    <tr>\n",
       "      <th>unique</th>\n",
       "      <td>1</td>\n",
       "      <td>1</td>\n",
       "    </tr>\n",
       "    <tr>\n",
       "      <th>top</th>\n",
       "      <td>\"8d352896-a3f1-471c-8439-0f426df901c1\"</td>\n",
       "      <td>8bd5d335-d20e-4db5-9979-feb668ba7c71</td>\n",
       "    </tr>\n",
       "    <tr>\n",
       "      <th>freq</th>\n",
       "      <td>1</td>\n",
       "      <td>1</td>\n",
       "    </tr>\n",
       "  </tbody>\n",
       "</table>\n",
       "</div>"
      ],
      "text/plain": [
       "                    customData.localplayerguid  \\\n",
       "count                                        1   \n",
       "unique                                       1   \n",
       "top     \"8d352896-a3f1-471c-8439-0f426df901c1\"   \n",
       "freq                                         1   \n",
       "\n",
       "                                   sessionId  \n",
       "count                                      1  \n",
       "unique                                     1  \n",
       "top     8bd5d335-d20e-4db5-9979-feb668ba7c71  \n",
       "freq                                       1  "
      ]
     },
     "execution_count": 359,
     "metadata": {},
     "output_type": "execute_result"
    }
   ],
   "source": [
    "sessionListRelevantColumns = ['customData.localplayerguid', 'sessionId']\n",
    "perUserRelevantColumns = ['sessionId', 'serverTime', 'section']\n",
    "\n",
    "# See localPlayerIds in Preparation for instance.\n",
    "#localplayerguid = arcadeCabinetID\n",
    "# Random user.\n",
    "#localplayerguid = '\"0fa88384-3115-4ebd-990d-6bd29214c04f\"'\n",
    "\n",
    "# Localplayerguids of users who answered the questionnaire (see below).\n",
    "# French\n",
    "#localplayerguid = '\"a4d4b030-9117-4331-ba48-90dc05a7e65a\"'\n",
    "#localplayerguid = '\"d6826fd9-a6fc-4046-b974-68e50576183f\"'\n",
    "#localplayerguid = '\"deb089c0-9be3-4b75-9b27-28963c77b10c\"'\n",
    "#localplayerguid = '\"75e264d6-af94-4975-bb18-50cac09894c4\"'\n",
    "#localplayerguid = '\"3d733347-0313-441a-b77c-3e4046042a53\"'\n",
    "# English\n",
    "localplayerguid = '\"8d352896-a3f1-471c-8439-0f426df901c1\"'\n",
    "#localplayerguid = '\"7037c5b2-c286-498e-9784-9a061c778609\"'\n",
    "#localplayerguid = '\"5c4939b5-425b-4d19-b5d2-0384a515539e\"'\n",
    "#localplayerguid = devPCID5\n",
    "\n",
    "# List all sessions with this localplayerguid.\n",
    "sessionsList = df152[df152['type']=='start'].loc[:,sessionListRelevantColumns]\n",
    "sessionsList = sessionsList[sessionsList['customData.localplayerguid']==localplayerguid]\n",
    "sessionsList.describe()"
   ]
  },
  {
   "cell_type": "code",
   "execution_count": 360,
   "metadata": {
    "collapsed": false
   },
   "outputs": [
    {
     "data": {
      "text/html": [
       "<div>\n",
       "<table border=\"1\" class=\"dataframe\">\n",
       "  <thead>\n",
       "    <tr style=\"text-align: right;\">\n",
       "      <th></th>\n",
       "      <th>customData.localplayerguid</th>\n",
       "      <th>sessionId</th>\n",
       "    </tr>\n",
       "  </thead>\n",
       "  <tbody>\n",
       "    <tr>\n",
       "      <th>19986</th>\n",
       "      <td>\"8d352896-a3f1-471c-8439-0f426df901c1\"</td>\n",
       "      <td>8bd5d335-d20e-4db5-9979-feb668ba7c71</td>\n",
       "    </tr>\n",
       "  </tbody>\n",
       "</table>\n",
       "</div>"
      ],
      "text/plain": [
       "                   customData.localplayerguid  \\\n",
       "19986  \"8d352896-a3f1-471c-8439-0f426df901c1\"   \n",
       "\n",
       "                                  sessionId  \n",
       "19986  8bd5d335-d20e-4db5-9979-feb668ba7c71  "
      ]
     },
     "execution_count": 360,
     "metadata": {},
     "output_type": "execute_result"
    }
   ],
   "source": [
    "sessionsList"
   ]
  },
  {
   "cell_type": "code",
   "execution_count": 361,
   "metadata": {
    "collapsed": false
   },
   "outputs": [
    {
     "data": {
      "text/html": [
       "<div>\n",
       "<table border=\"1\" class=\"dataframe\">\n",
       "  <thead>\n",
       "    <tr style=\"text-align: right;\">\n",
       "      <th></th>\n",
       "      <th>sessionId</th>\n",
       "      <th>serverTime</th>\n",
       "      <th>section</th>\n",
       "    </tr>\n",
       "  </thead>\n",
       "  <tbody>\n",
       "    <tr>\n",
       "      <th>19988</th>\n",
       "      <td>8bd5d335-d20e-4db5-9979-feb668ba7c71</td>\n",
       "      <td>2017-08-18T14:01:06.876Z</td>\n",
       "      <td>tutorial1.Checkpoint00</td>\n",
       "    </tr>\n",
       "    <tr>\n",
       "      <th>19995</th>\n",
       "      <td>8bd5d335-d20e-4db5-9979-feb668ba7c71</td>\n",
       "      <td>2017-08-18T14:02:17.575Z</td>\n",
       "      <td>tutorial1.Checkpoint01</td>\n",
       "    </tr>\n",
       "    <tr>\n",
       "      <th>20018</th>\n",
       "      <td>8bd5d335-d20e-4db5-9979-feb668ba7c71</td>\n",
       "      <td>2017-08-18T14:09:41.769Z</td>\n",
       "      <td>tutorial1.Checkpoint02</td>\n",
       "    </tr>\n",
       "    <tr>\n",
       "      <th>20023</th>\n",
       "      <td>8bd5d335-d20e-4db5-9979-feb668ba7c71</td>\n",
       "      <td>2017-08-18T14:10:52.544Z</td>\n",
       "      <td>tutorial1.Checkpoint03</td>\n",
       "    </tr>\n",
       "    <tr>\n",
       "      <th>20028</th>\n",
       "      <td>8bd5d335-d20e-4db5-9979-feb668ba7c71</td>\n",
       "      <td>2017-08-18T14:11:04.463Z</td>\n",
       "      <td>tutorial1.Checkpoint04</td>\n",
       "    </tr>\n",
       "  </tbody>\n",
       "</table>\n",
       "</div>"
      ],
      "text/plain": [
       "                                  sessionId                serverTime  \\\n",
       "19988  8bd5d335-d20e-4db5-9979-feb668ba7c71  2017-08-18T14:01:06.876Z   \n",
       "19995  8bd5d335-d20e-4db5-9979-feb668ba7c71  2017-08-18T14:02:17.575Z   \n",
       "20018  8bd5d335-d20e-4db5-9979-feb668ba7c71  2017-08-18T14:09:41.769Z   \n",
       "20023  8bd5d335-d20e-4db5-9979-feb668ba7c71  2017-08-18T14:10:52.544Z   \n",
       "20028  8bd5d335-d20e-4db5-9979-feb668ba7c71  2017-08-18T14:11:04.463Z   \n",
       "\n",
       "                      section  \n",
       "19988  tutorial1.Checkpoint00  \n",
       "19995  tutorial1.Checkpoint01  \n",
       "20018  tutorial1.Checkpoint02  \n",
       "20023  tutorial1.Checkpoint03  \n",
       "20028  tutorial1.Checkpoint04  "
      ]
     },
     "execution_count": 361,
     "metadata": {},
     "output_type": "execute_result"
    }
   ],
   "source": [
    "# List all 'reach' events with those sessionIds.\n",
    "perUser = df152[df152['type']=='reach'].loc[:,perUserRelevantColumns]\n",
    "perUser = perUser[perUser['sessionId'].isin(sessionsList['sessionId'])]\n",
    "perUser = perUser[perUser['section'].str.startswith('tutorial', na=False)]\n",
    "perUser.describe()\n",
    "perUser.head()"
   ]
  },
  {
   "cell_type": "markdown",
   "metadata": {},
   "source": [
    "# Common analysis"
   ]
  },
  {
   "cell_type": "markdown",
   "metadata": {},
   "source": [
    "#### Switch here between users and sessions."
   ]
  },
  {
   "cell_type": "code",
   "execution_count": 362,
   "metadata": {
    "collapsed": true
   },
   "outputs": [],
   "source": [
    "#sectionsList = perSession\n",
    "sectionsList = perUser"
   ]
  },
  {
   "cell_type": "code",
   "execution_count": 363,
   "metadata": {
    "collapsed": false
   },
   "outputs": [
    {
     "data": {
      "text/html": [
       "<div>\n",
       "<table border=\"1\" class=\"dataframe\">\n",
       "  <thead>\n",
       "    <tr style=\"text-align: right;\">\n",
       "      <th></th>\n",
       "      <th>serverTime</th>\n",
       "    </tr>\n",
       "    <tr>\n",
       "      <th>section</th>\n",
       "      <th></th>\n",
       "    </tr>\n",
       "  </thead>\n",
       "  <tbody>\n",
       "    <tr>\n",
       "      <th>tutorial1.Checkpoint00</th>\n",
       "      <td>2017-08-18T14:01:06.876Z</td>\n",
       "    </tr>\n",
       "    <tr>\n",
       "      <th>tutorial1.Checkpoint01</th>\n",
       "      <td>2017-08-18T14:02:17.575Z</td>\n",
       "    </tr>\n",
       "    <tr>\n",
       "      <th>tutorial1.Checkpoint02</th>\n",
       "      <td>2017-08-18T14:09:41.769Z</td>\n",
       "    </tr>\n",
       "    <tr>\n",
       "      <th>tutorial1.Checkpoint03</th>\n",
       "      <td>2017-08-18T14:10:52.544Z</td>\n",
       "    </tr>\n",
       "    <tr>\n",
       "      <th>tutorial1.Checkpoint04</th>\n",
       "      <td>2017-08-18T14:11:04.463Z</td>\n",
       "    </tr>\n",
       "  </tbody>\n",
       "</table>\n",
       "</div>"
      ],
      "text/plain": [
       "                                      serverTime\n",
       "section                                         \n",
       "tutorial1.Checkpoint00  2017-08-18T14:01:06.876Z\n",
       "tutorial1.Checkpoint01  2017-08-18T14:02:17.575Z\n",
       "tutorial1.Checkpoint02  2017-08-18T14:09:41.769Z\n",
       "tutorial1.Checkpoint03  2017-08-18T14:10:52.544Z\n",
       "tutorial1.Checkpoint04  2017-08-18T14:11:04.463Z"
      ]
     },
     "execution_count": 363,
     "metadata": {},
     "output_type": "execute_result"
    }
   ],
   "source": [
    "timedSections = sectionsList.groupby(\"section\").agg({ \"serverTime\": np.min })\n",
    "timedSections.head()"
   ]
  },
  {
   "cell_type": "code",
   "execution_count": 364,
   "metadata": {
    "collapsed": false
   },
   "outputs": [
    {
     "data": {
      "text/html": [
       "<div>\n",
       "<table border=\"1\" class=\"dataframe\">\n",
       "  <thead>\n",
       "    <tr style=\"text-align: right;\">\n",
       "      <th></th>\n",
       "      <th>serverTime</th>\n",
       "      <th>firstReached</th>\n",
       "    </tr>\n",
       "    <tr>\n",
       "      <th>section</th>\n",
       "      <th></th>\n",
       "      <th></th>\n",
       "    </tr>\n",
       "  </thead>\n",
       "  <tbody>\n",
       "    <tr>\n",
       "      <th>tutorial1.Checkpoint00</th>\n",
       "      <td>2017-08-18T14:01:06.876Z</td>\n",
       "      <td>2017-08-18 14:01:06.876</td>\n",
       "    </tr>\n",
       "    <tr>\n",
       "      <th>tutorial1.Checkpoint01</th>\n",
       "      <td>2017-08-18T14:02:17.575Z</td>\n",
       "      <td>2017-08-18 14:02:17.575</td>\n",
       "    </tr>\n",
       "    <tr>\n",
       "      <th>tutorial1.Checkpoint02</th>\n",
       "      <td>2017-08-18T14:09:41.769Z</td>\n",
       "      <td>2017-08-18 14:09:41.769</td>\n",
       "    </tr>\n",
       "    <tr>\n",
       "      <th>tutorial1.Checkpoint03</th>\n",
       "      <td>2017-08-18T14:10:52.544Z</td>\n",
       "      <td>2017-08-18 14:10:52.544</td>\n",
       "    </tr>\n",
       "    <tr>\n",
       "      <th>tutorial1.Checkpoint04</th>\n",
       "      <td>2017-08-18T14:11:04.463Z</td>\n",
       "      <td>2017-08-18 14:11:04.463</td>\n",
       "    </tr>\n",
       "  </tbody>\n",
       "</table>\n",
       "</div>"
      ],
      "text/plain": [
       "                                      serverTime            firstReached\n",
       "section                                                                 \n",
       "tutorial1.Checkpoint00  2017-08-18T14:01:06.876Z 2017-08-18 14:01:06.876\n",
       "tutorial1.Checkpoint01  2017-08-18T14:02:17.575Z 2017-08-18 14:02:17.575\n",
       "tutorial1.Checkpoint02  2017-08-18T14:09:41.769Z 2017-08-18 14:09:41.769\n",
       "tutorial1.Checkpoint03  2017-08-18T14:10:52.544Z 2017-08-18 14:10:52.544\n",
       "tutorial1.Checkpoint04  2017-08-18T14:11:04.463Z 2017-08-18 14:11:04.463"
      ]
     },
     "execution_count": 364,
     "metadata": {},
     "output_type": "execute_result"
    }
   ],
   "source": [
    "timedSections[\"firstReached\"] = pd.to_datetime(timedSections[\"serverTime\"])\n",
    "timedSections.head()"
   ]
  },
  {
   "cell_type": "code",
   "execution_count": 365,
   "metadata": {
    "collapsed": false,
    "scrolled": false
   },
   "outputs": [
    {
     "data": {
      "text/html": [
       "<div>\n",
       "<table border=\"1\" class=\"dataframe\">\n",
       "  <thead>\n",
       "    <tr style=\"text-align: right;\">\n",
       "      <th></th>\n",
       "      <th>serverTime</th>\n",
       "      <th>firstReached</th>\n",
       "      <th>firstCompletionDuration</th>\n",
       "    </tr>\n",
       "    <tr>\n",
       "      <th>section</th>\n",
       "      <th></th>\n",
       "      <th></th>\n",
       "      <th></th>\n",
       "    </tr>\n",
       "  </thead>\n",
       "  <tbody>\n",
       "    <tr>\n",
       "      <th>tutorial1.Checkpoint00</th>\n",
       "      <td>2017-08-18T14:01:06.876Z</td>\n",
       "      <td>2017-08-18 14:01:06.876</td>\n",
       "      <td>NaT</td>\n",
       "    </tr>\n",
       "    <tr>\n",
       "      <th>tutorial1.Checkpoint01</th>\n",
       "      <td>2017-08-18T14:02:17.575Z</td>\n",
       "      <td>2017-08-18 14:02:17.575</td>\n",
       "      <td>00:01:10.699000</td>\n",
       "    </tr>\n",
       "    <tr>\n",
       "      <th>tutorial1.Checkpoint02</th>\n",
       "      <td>2017-08-18T14:09:41.769Z</td>\n",
       "      <td>2017-08-18 14:09:41.769</td>\n",
       "      <td>00:07:24.194000</td>\n",
       "    </tr>\n",
       "    <tr>\n",
       "      <th>tutorial1.Checkpoint03</th>\n",
       "      <td>2017-08-18T14:10:52.544Z</td>\n",
       "      <td>2017-08-18 14:10:52.544</td>\n",
       "      <td>00:01:10.775000</td>\n",
       "    </tr>\n",
       "    <tr>\n",
       "      <th>tutorial1.Checkpoint04</th>\n",
       "      <td>2017-08-18T14:11:04.463Z</td>\n",
       "      <td>2017-08-18 14:11:04.463</td>\n",
       "      <td>00:00:11.919000</td>\n",
       "    </tr>\n",
       "  </tbody>\n",
       "</table>\n",
       "</div>"
      ],
      "text/plain": [
       "                                      serverTime            firstReached  \\\n",
       "section                                                                    \n",
       "tutorial1.Checkpoint00  2017-08-18T14:01:06.876Z 2017-08-18 14:01:06.876   \n",
       "tutorial1.Checkpoint01  2017-08-18T14:02:17.575Z 2017-08-18 14:02:17.575   \n",
       "tutorial1.Checkpoint02  2017-08-18T14:09:41.769Z 2017-08-18 14:09:41.769   \n",
       "tutorial1.Checkpoint03  2017-08-18T14:10:52.544Z 2017-08-18 14:10:52.544   \n",
       "tutorial1.Checkpoint04  2017-08-18T14:11:04.463Z 2017-08-18 14:11:04.463   \n",
       "\n",
       "                        firstCompletionDuration  \n",
       "section                                          \n",
       "tutorial1.Checkpoint00                      NaT  \n",
       "tutorial1.Checkpoint01          00:01:10.699000  \n",
       "tutorial1.Checkpoint02          00:07:24.194000  \n",
       "tutorial1.Checkpoint03          00:01:10.775000  \n",
       "tutorial1.Checkpoint04          00:00:11.919000  "
      ]
     },
     "execution_count": 365,
     "metadata": {},
     "output_type": "execute_result"
    }
   ],
   "source": [
    "timedSections[\"firstCompletionDuration\"] = timedSections[\"firstReached\"].diff()\n",
    "timedSections"
   ]
  },
  {
   "cell_type": "markdown",
   "metadata": {},
   "source": [
    "# Comparison with Google questionnaire"
   ]
  },
  {
   "cell_type": "markdown",
   "metadata": {},
   "source": [
    "## Google form loading"
   ]
  },
  {
   "cell_type": "code",
   "execution_count": 366,
   "metadata": {
    "collapsed": false
   },
   "outputs": [],
   "source": [
    "#formname = '2017-09-12-gform-fr.csv'\n",
    "formname = '2017-09-12-gform-en.csv'\n",
    "\n",
    "#localplayerguidkey = 'Ne pas modifier - identifiant anonyme prérempli'\n",
    "localplayerguidkey = 'Do not edit -  pre-filled anonymous ID'\n",
    "localplayerguidindex = 34\n",
    "\n",
    "gform = pd.read_csv(\"../data/Google forms/\" + formname)"
   ]
  },
  {
   "cell_type": "code",
   "execution_count": 367,
   "metadata": {
    "collapsed": false,
    "scrolled": false
   },
   "outputs": [
    {
     "data": {
      "text/html": [
       "<div>\n",
       "<table border=\"1\" class=\"dataframe\">\n",
       "  <thead>\n",
       "    <tr style=\"text-align: right;\">\n",
       "      <th></th>\n",
       "      <th>0</th>\n",
       "      <th>1</th>\n",
       "      <th>2</th>\n",
       "      <th>3</th>\n",
       "    </tr>\n",
       "  </thead>\n",
       "  <tbody>\n",
       "    <tr>\n",
       "      <th>Timestamp</th>\n",
       "      <td>2017/08/18 4:22:26 PM GMT+2</td>\n",
       "      <td>2017/09/06 2:28:03 PM GMT+2</td>\n",
       "      <td>2017/09/12 10:02:06 AM GMT+2</td>\n",
       "      <td>2017/09/13 3:11:34 AM GMT+2</td>\n",
       "    </tr>\n",
       "    <tr>\n",
       "      <th>Are you interested in video games?</th>\n",
       "      <td>Extremely</td>\n",
       "      <td>Moderately</td>\n",
       "      <td>A lot</td>\n",
       "      <td>I don't know</td>\n",
       "    </tr>\n",
       "    <tr>\n",
       "      <th>Do you play video games?</th>\n",
       "      <td>Extremely</td>\n",
       "      <td>Moderately</td>\n",
       "      <td>Moderately</td>\n",
       "      <td>I don't know</td>\n",
       "    </tr>\n",
       "    <tr>\n",
       "      <th>How old are you?</th>\n",
       "      <td>23</td>\n",
       "      <td>28</td>\n",
       "      <td>20</td>\n",
       "      <td>0</td>\n",
       "    </tr>\n",
       "    <tr>\n",
       "      <th>What is your gender?</th>\n",
       "      <td>Female</td>\n",
       "      <td>Other</td>\n",
       "      <td>Female</td>\n",
       "      <td>Other</td>\n",
       "    </tr>\n",
       "    <tr>\n",
       "      <th>How long have you studied biology?</th>\n",
       "      <td>Until bachelor's degree</td>\n",
       "      <td>Until the end of high school</td>\n",
       "      <td>Until bachelor's degree</td>\n",
       "      <td>I don't know</td>\n",
       "    </tr>\n",
       "    <tr>\n",
       "      <th>Are you interested in biology?</th>\n",
       "      <td>Extremely</td>\n",
       "      <td>Moderately</td>\n",
       "      <td>Moderately</td>\n",
       "      <td>I don't know</td>\n",
       "    </tr>\n",
       "    <tr>\n",
       "      <th>Have you ever heard about synthetic biology or BioBricks?</th>\n",
       "      <td>Yes</td>\n",
       "      <td>Yes</td>\n",
       "      <td>No</td>\n",
       "      <td>No</td>\n",
       "    </tr>\n",
       "    <tr>\n",
       "      <th>Have you ever played an older version of Hero.Coli before?</th>\n",
       "      <td>No</td>\n",
       "      <td>No</td>\n",
       "      <td>No</td>\n",
       "      <td>No</td>\n",
       "    </tr>\n",
       "    <tr>\n",
       "      <th>Have you played the current version of Hero.Coli?</th>\n",
       "      <td>Yes</td>\n",
       "      <td>Yes</td>\n",
       "      <td>Yes</td>\n",
       "      <td>Yes</td>\n",
       "    </tr>\n",
       "    <tr>\n",
       "      <th>What is the species of the bacterium of the game?</th>\n",
       "      <td>E. Coli</td>\n",
       "      <td>E. Coli</td>\n",
       "      <td>E. Coli</td>\n",
       "      <td>E. Coli</td>\n",
       "    </tr>\n",
       "    <tr>\n",
       "      <th>In order to modify the abilities of the bacterium, you have to...</th>\n",
       "      <td>Edit the DNA of the bacterium</td>\n",
       "      <td>Edit the DNA of the bacterium</td>\n",
       "      <td>Edit the DNA of the bacterium</td>\n",
       "      <td>Edit the DNA of the bacterium</td>\n",
       "    </tr>\n",
       "    <tr>\n",
       "      <th>What are BioBricks and devices?</th>\n",
       "      <td>DNA sequences</td>\n",
       "      <td>DNA sequences</td>\n",
       "      <td>Genes</td>\n",
       "      <td>DNA sequences</td>\n",
       "    </tr>\n",
       "    <tr>\n",
       "      <th>What is the scientific name of the tails of the bacterium?</th>\n",
       "      <td>Flagella</td>\n",
       "      <td>Flagella</td>\n",
       "      <td>Flagella</td>\n",
       "      <td>Flagella</td>\n",
       "    </tr>\n",
       "    <tr>\n",
       "      <th>Find the antibiotic:</th>\n",
       "      <td>Ampicillin</td>\n",
       "      <td>Ampicillin</td>\n",
       "      <td>Ampicillin</td>\n",
       "      <td>Ampicillin</td>\n",
       "    </tr>\n",
       "    <tr>\n",
       "      <th>What is the name of this BioBrick?</th>\n",
       "      <td>Terminator</td>\n",
       "      <td>Terminator</td>\n",
       "      <td>Terminator</td>\n",
       "      <td>Terminator</td>\n",
       "    </tr>\n",
       "    <tr>\n",
       "      <th>What is the name of this BioBrick?.1</th>\n",
       "      <td>Promoter</td>\n",
       "      <td>Promoter</td>\n",
       "      <td>Promoter</td>\n",
       "      <td>Promoter</td>\n",
       "    </tr>\n",
       "    <tr>\n",
       "      <th>What is the name of this BioBrick?.2</th>\n",
       "      <td>Fluorescence</td>\n",
       "      <td>Coding Sequence</td>\n",
       "      <td>I don't know</td>\n",
       "      <td>Coding Sequence</td>\n",
       "    </tr>\n",
       "    <tr>\n",
       "      <th>What is the name of this BioBrick?.3</th>\n",
       "      <td>RBS</td>\n",
       "      <td>RBS</td>\n",
       "      <td>ATP</td>\n",
       "      <td>RBS</td>\n",
       "    </tr>\n",
       "    <tr>\n",
       "      <th>Pick the case where the BioBricks are well-ordered:</th>\n",
       "      <td>Option 2</td>\n",
       "      <td>Option 1</td>\n",
       "      <td>Option 1</td>\n",
       "      <td>Option 1</td>\n",
       "    </tr>\n",
       "    <tr>\n",
       "      <th>When does green fluorescence happen?</th>\n",
       "      <td>Under blue light, when the GFP device is equipped</td>\n",
       "      <td>Under blue light, when the GFP device is equipped</td>\n",
       "      <td>In front of the doors, when the GFP device is ...</td>\n",
       "      <td>Under blue light, when the GFP device is equipped</td>\n",
       "    </tr>\n",
       "    <tr>\n",
       "      <th>What happens when you unequip the movement device?</th>\n",
       "      <td>Flagella quickly disappear one by one</td>\n",
       "      <td>Flagella quickly disappear one by one</td>\n",
       "      <td>Flagella quickly disappear one by one</td>\n",
       "      <td>Flagella quickly disappear one by one</td>\n",
       "    </tr>\n",
       "    <tr>\n",
       "      <th>What is this?</th>\n",
       "      <td>A plasmid - it makes it possible to equip an a...</td>\n",
       "      <td>A plasmid - it makes it possible to equip an a...</td>\n",
       "      <td>A plasmid - it makes it possible to equip an a...</td>\n",
       "      <td>A plasmid - it makes it possible to equip an a...</td>\n",
       "    </tr>\n",
       "    <tr>\n",
       "      <th>What does this device do?</th>\n",
       "      <td>I don't know</td>\n",
       "      <td>It generates green fluorescence</td>\n",
       "      <td>It generates green fluorescence in presence of...</td>\n",
       "      <td>It generates green fluorescence</td>\n",
       "    </tr>\n",
       "    <tr>\n",
       "      <th>What does this device do?.1</th>\n",
       "      <td>I don't know</td>\n",
       "      <td>It makes it possible to move faster</td>\n",
       "      <td>It generates antibiotic resistance</td>\n",
       "      <td>It makes it possible to move faster</td>\n",
       "    </tr>\n",
       "    <tr>\n",
       "      <th>What does this device do?.2</th>\n",
       "      <td>It generates antibiotic resistance</td>\n",
       "      <td>It generates antibiotic resistance</td>\n",
       "      <td>It generates antibiotic resistance</td>\n",
       "      <td>It generates antibiotic resistance</td>\n",
       "    </tr>\n",
       "    <tr>\n",
       "      <th>What does this device do?.3</th>\n",
       "      <td>It generates green fluorescence in presence of...</td>\n",
       "      <td>It generates green fluorescence in presence of...</td>\n",
       "      <td>It generates green fluorescence in presence of...</td>\n",
       "      <td>It generates green fluorescence in presence of...</td>\n",
       "    </tr>\n",
       "    <tr>\n",
       "      <th>What does this device do?.4</th>\n",
       "      <td>It generates green fluorescence</td>\n",
       "      <td>It generates green fluorescence</td>\n",
       "      <td>It generates green fluorescence in presence of...</td>\n",
       "      <td>It generates green fluorescence</td>\n",
       "    </tr>\n",
       "    <tr>\n",
       "      <th>What does this device do?.5</th>\n",
       "      <td>It makes it possible to move faster</td>\n",
       "      <td>It makes it possible to move faster</td>\n",
       "      <td>It makes it possible to move faster</td>\n",
       "      <td>It makes it possible to move faster</td>\n",
       "    </tr>\n",
       "    <tr>\n",
       "      <th>What does this device do?.6</th>\n",
       "      <td>It generates antibiotic resistance</td>\n",
       "      <td>It generates antibiotic resistance</td>\n",
       "      <td>It generates antibiotic resistance</td>\n",
       "      <td>It generates antibiotic resistance</td>\n",
       "    </tr>\n",
       "    <tr>\n",
       "      <th>What does this device do?.7</th>\n",
       "      <td>It generates green fluorescence in presence of...</td>\n",
       "      <td>It generates green fluorescence in presence of...</td>\n",
       "      <td>It generates green fluorescence</td>\n",
       "      <td>It generates green fluorescence in presence of...</td>\n",
       "    </tr>\n",
       "    <tr>\n",
       "      <th>The bacterium glows yellow...</th>\n",
       "      <td>I don't know</td>\n",
       "      <td>I don't know</td>\n",
       "      <td>If it produces BFP under purple light</td>\n",
       "      <td>If it produces YFP under cyan light</td>\n",
       "    </tr>\n",
       "    <tr>\n",
       "      <th>What would a device producing l-arabinose do, if it started with a l-arabinose-induced promoter?</th>\n",
       "      <td>After being induced, it would produce more and...</td>\n",
       "      <td>After being induced, it would produce more and...</td>\n",
       "      <td>I don't know</td>\n",
       "      <td>After being induced, it would produce more and...</td>\n",
       "    </tr>\n",
       "    <tr>\n",
       "      <th>You can write down remarks here.</th>\n",
       "      <td>Your game is amazing. One suggestion. In sever...</td>\n",
       "      <td>This was a nice educational game, thank you fo...</td>\n",
       "      <td>NaN</td>\n",
       "      <td>NaN</td>\n",
       "    </tr>\n",
       "    <tr>\n",
       "      <th>Do not edit -  pre-filled anonymous ID</th>\n",
       "      <td>8d352896-a3f1-471c-8439-0f426df901c1</td>\n",
       "      <td>7037c5b2-c286-498e-9784-9a061c778609</td>\n",
       "      <td>5c4939b5-425b-4d19-b5d2-0384a515539e</td>\n",
       "      <td>7825d421-d668-4481-898a-46b51efe40f0</td>\n",
       "    </tr>\n",
       "  </tbody>\n",
       "</table>\n",
       "</div>"
      ],
      "text/plain": [
       "                                                                                                    0  \\\n",
       "Timestamp                                                                 2017/08/18 4:22:26 PM GMT+2   \n",
       "Are you interested in video games?                                                          Extremely   \n",
       "Do you play video games?                                                                    Extremely   \n",
       "How old are you?                                                                                   23   \n",
       "What is your gender?                                                                           Female   \n",
       "How long have you studied biology?                                            Until bachelor's degree   \n",
       "Are you interested in biology?                                                              Extremely   \n",
       "Have you ever heard about synthetic biology or ...                                                Yes   \n",
       "Have you ever played an older version of Hero.C...                                                 No   \n",
       "Have you played the current version of Hero.Coli?                                                 Yes   \n",
       "What is the species of the bacterium of the game?                                             E. Coli   \n",
       "In order to modify the abilities of the bacteri...                      Edit the DNA of the bacterium   \n",
       "What are BioBricks and devices?                                                         DNA sequences   \n",
       "What is the scientific name of the tails of the...                                           Flagella   \n",
       "Find the antibiotic:                                                                       Ampicillin   \n",
       "What is the name of this BioBrick?                                                         Terminator   \n",
       "What is the name of this BioBrick?.1                                                         Promoter   \n",
       "What is the name of this BioBrick?.2                                                     Fluorescence   \n",
       "What is the name of this BioBrick?.3                                                              RBS   \n",
       "Pick the case where the BioBricks are well-orde...                                           Option 2   \n",
       "When does green fluorescence happen?                Under blue light, when the GFP device is equipped   \n",
       "What happens when you unequip the movement device?              Flagella quickly disappear one by one   \n",
       "What is this?                                       A plasmid - it makes it possible to equip an a...   \n",
       "What does this device do?                                                                I don't know   \n",
       "What does this device do?.1                                                              I don't know   \n",
       "What does this device do?.2                                        It generates antibiotic resistance   \n",
       "What does this device do?.3                         It generates green fluorescence in presence of...   \n",
       "What does this device do?.4                                           It generates green fluorescence   \n",
       "What does this device do?.5                                       It makes it possible to move faster   \n",
       "What does this device do?.6                                        It generates antibiotic resistance   \n",
       "What does this device do?.7                         It generates green fluorescence in presence of...   \n",
       "The bacterium glows yellow...                                                            I don't know   \n",
       "What would a device producing l-arabinose do, i...  After being induced, it would produce more and...   \n",
       "You can write down remarks here.                    Your game is amazing. One suggestion. In sever...   \n",
       "Do not edit -  pre-filled anonymous ID                           8d352896-a3f1-471c-8439-0f426df901c1   \n",
       "\n",
       "                                                                                                    1  \\\n",
       "Timestamp                                                                 2017/09/06 2:28:03 PM GMT+2   \n",
       "Are you interested in video games?                                                         Moderately   \n",
       "Do you play video games?                                                                   Moderately   \n",
       "How old are you?                                                                                   28   \n",
       "What is your gender?                                                                            Other   \n",
       "How long have you studied biology?                                       Until the end of high school   \n",
       "Are you interested in biology?                                                             Moderately   \n",
       "Have you ever heard about synthetic biology or ...                                                Yes   \n",
       "Have you ever played an older version of Hero.C...                                                 No   \n",
       "Have you played the current version of Hero.Coli?                                                 Yes   \n",
       "What is the species of the bacterium of the game?                                             E. Coli   \n",
       "In order to modify the abilities of the bacteri...                      Edit the DNA of the bacterium   \n",
       "What are BioBricks and devices?                                                         DNA sequences   \n",
       "What is the scientific name of the tails of the...                                           Flagella   \n",
       "Find the antibiotic:                                                                       Ampicillin   \n",
       "What is the name of this BioBrick?                                                         Terminator   \n",
       "What is the name of this BioBrick?.1                                                         Promoter   \n",
       "What is the name of this BioBrick?.2                                                  Coding Sequence   \n",
       "What is the name of this BioBrick?.3                                                              RBS   \n",
       "Pick the case where the BioBricks are well-orde...                                           Option 1   \n",
       "When does green fluorescence happen?                Under blue light, when the GFP device is equipped   \n",
       "What happens when you unequip the movement device?              Flagella quickly disappear one by one   \n",
       "What is this?                                       A plasmid - it makes it possible to equip an a...   \n",
       "What does this device do?                                             It generates green fluorescence   \n",
       "What does this device do?.1                                       It makes it possible to move faster   \n",
       "What does this device do?.2                                        It generates antibiotic resistance   \n",
       "What does this device do?.3                         It generates green fluorescence in presence of...   \n",
       "What does this device do?.4                                           It generates green fluorescence   \n",
       "What does this device do?.5                                       It makes it possible to move faster   \n",
       "What does this device do?.6                                        It generates antibiotic resistance   \n",
       "What does this device do?.7                         It generates green fluorescence in presence of...   \n",
       "The bacterium glows yellow...                                                            I don't know   \n",
       "What would a device producing l-arabinose do, i...  After being induced, it would produce more and...   \n",
       "You can write down remarks here.                    This was a nice educational game, thank you fo...   \n",
       "Do not edit -  pre-filled anonymous ID                           7037c5b2-c286-498e-9784-9a061c778609   \n",
       "\n",
       "                                                                                                    2  \\\n",
       "Timestamp                                                                2017/09/12 10:02:06 AM GMT+2   \n",
       "Are you interested in video games?                                                              A lot   \n",
       "Do you play video games?                                                                   Moderately   \n",
       "How old are you?                                                                                   20   \n",
       "What is your gender?                                                                           Female   \n",
       "How long have you studied biology?                                            Until bachelor's degree   \n",
       "Are you interested in biology?                                                             Moderately   \n",
       "Have you ever heard about synthetic biology or ...                                                 No   \n",
       "Have you ever played an older version of Hero.C...                                                 No   \n",
       "Have you played the current version of Hero.Coli?                                                 Yes   \n",
       "What is the species of the bacterium of the game?                                             E. Coli   \n",
       "In order to modify the abilities of the bacteri...                      Edit the DNA of the bacterium   \n",
       "What are BioBricks and devices?                                                                 Genes   \n",
       "What is the scientific name of the tails of the...                                           Flagella   \n",
       "Find the antibiotic:                                                                       Ampicillin   \n",
       "What is the name of this BioBrick?                                                         Terminator   \n",
       "What is the name of this BioBrick?.1                                                         Promoter   \n",
       "What is the name of this BioBrick?.2                                                     I don't know   \n",
       "What is the name of this BioBrick?.3                                                              ATP   \n",
       "Pick the case where the BioBricks are well-orde...                                           Option 1   \n",
       "When does green fluorescence happen?                In front of the doors, when the GFP device is ...   \n",
       "What happens when you unequip the movement device?              Flagella quickly disappear one by one   \n",
       "What is this?                                       A plasmid - it makes it possible to equip an a...   \n",
       "What does this device do?                           It generates green fluorescence in presence of...   \n",
       "What does this device do?.1                                        It generates antibiotic resistance   \n",
       "What does this device do?.2                                        It generates antibiotic resistance   \n",
       "What does this device do?.3                         It generates green fluorescence in presence of...   \n",
       "What does this device do?.4                         It generates green fluorescence in presence of...   \n",
       "What does this device do?.5                                       It makes it possible to move faster   \n",
       "What does this device do?.6                                        It generates antibiotic resistance   \n",
       "What does this device do?.7                                           It generates green fluorescence   \n",
       "The bacterium glows yellow...                                   If it produces BFP under purple light   \n",
       "What would a device producing l-arabinose do, i...                                       I don't know   \n",
       "You can write down remarks here.                                                                  NaN   \n",
       "Do not edit -  pre-filled anonymous ID                           5c4939b5-425b-4d19-b5d2-0384a515539e   \n",
       "\n",
       "                                                                                                    3  \n",
       "Timestamp                                                                 2017/09/13 3:11:34 AM GMT+2  \n",
       "Are you interested in video games?                                                       I don't know  \n",
       "Do you play video games?                                                                 I don't know  \n",
       "How old are you?                                                                                    0  \n",
       "What is your gender?                                                                            Other  \n",
       "How long have you studied biology?                                                       I don't know  \n",
       "Are you interested in biology?                                                           I don't know  \n",
       "Have you ever heard about synthetic biology or ...                                                 No  \n",
       "Have you ever played an older version of Hero.C...                                                 No  \n",
       "Have you played the current version of Hero.Coli?                                                 Yes  \n",
       "What is the species of the bacterium of the game?                                             E. Coli  \n",
       "In order to modify the abilities of the bacteri...                      Edit the DNA of the bacterium  \n",
       "What are BioBricks and devices?                                                         DNA sequences  \n",
       "What is the scientific name of the tails of the...                                           Flagella  \n",
       "Find the antibiotic:                                                                       Ampicillin  \n",
       "What is the name of this BioBrick?                                                         Terminator  \n",
       "What is the name of this BioBrick?.1                                                         Promoter  \n",
       "What is the name of this BioBrick?.2                                                  Coding Sequence  \n",
       "What is the name of this BioBrick?.3                                                              RBS  \n",
       "Pick the case where the BioBricks are well-orde...                                           Option 1  \n",
       "When does green fluorescence happen?                Under blue light, when the GFP device is equipped  \n",
       "What happens when you unequip the movement device?              Flagella quickly disappear one by one  \n",
       "What is this?                                       A plasmid - it makes it possible to equip an a...  \n",
       "What does this device do?                                             It generates green fluorescence  \n",
       "What does this device do?.1                                       It makes it possible to move faster  \n",
       "What does this device do?.2                                        It generates antibiotic resistance  \n",
       "What does this device do?.3                         It generates green fluorescence in presence of...  \n",
       "What does this device do?.4                                           It generates green fluorescence  \n",
       "What does this device do?.5                                       It makes it possible to move faster  \n",
       "What does this device do?.6                                        It generates antibiotic resistance  \n",
       "What does this device do?.7                         It generates green fluorescence in presence of...  \n",
       "The bacterium glows yellow...                                     If it produces YFP under cyan light  \n",
       "What would a device producing l-arabinose do, i...  After being induced, it would produce more and...  \n",
       "You can write down remarks here.                                                                  NaN  \n",
       "Do not edit -  pre-filled anonymous ID                           7825d421-d668-4481-898a-46b51efe40f0  "
      ]
     },
     "execution_count": 367,
     "metadata": {},
     "output_type": "execute_result"
    }
   ],
   "source": [
    "transposed = gform.T\n",
    "#answers = transposed[transposed[]]\n",
    "transposed"
   ]
  },
  {
   "cell_type": "code",
   "execution_count": 368,
   "metadata": {
    "collapsed": false
   },
   "outputs": [
    {
     "data": {
      "text/plain": [
       "pandas.core.frame.DataFrame"
      ]
     },
     "execution_count": 368,
     "metadata": {},
     "output_type": "execute_result"
    }
   ],
   "source": [
    "type(gform)"
   ]
  },
  {
   "cell_type": "markdown",
   "metadata": {},
   "source": [
    "### Selection of a question"
   ]
  },
  {
   "cell_type": "code",
   "execution_count": 369,
   "metadata": {
    "collapsed": false,
    "scrolled": true
   },
   "outputs": [
    {
     "data": {
      "text/plain": [
       "0    8d352896-a3f1-471c-8439-0f426df901c1\n",
       "1    7037c5b2-c286-498e-9784-9a061c778609\n",
       "2    5c4939b5-425b-4d19-b5d2-0384a515539e\n",
       "3    7825d421-d668-4481-898a-46b51efe40f0\n",
       "Name: Do not edit -  pre-filled anonymous ID, dtype: object"
      ]
     },
     "execution_count": 369,
     "metadata": {},
     "output_type": "execute_result"
    }
   ],
   "source": [
    "# Using the whole question:\n",
    "gform[localplayerguidkey]"
   ]
  },
  {
   "cell_type": "code",
   "execution_count": 370,
   "metadata": {
    "collapsed": false
   },
   "outputs": [
    {
     "data": {
      "text/plain": [
       "0    8d352896-a3f1-471c-8439-0f426df901c1\n",
       "1    7037c5b2-c286-498e-9784-9a061c778609\n",
       "2    5c4939b5-425b-4d19-b5d2-0384a515539e\n",
       "3    7825d421-d668-4481-898a-46b51efe40f0\n",
       "Name: Do not edit -  pre-filled anonymous ID, dtype: object"
      ]
     },
     "execution_count": 370,
     "metadata": {},
     "output_type": "execute_result"
    }
   ],
   "source": [
    "# Using the index of the question:\n",
    "gform.iloc[:, localplayerguidindex]"
   ]
  },
  {
   "cell_type": "markdown",
   "metadata": {},
   "source": [
    "### Selection of a user's answers"
   ]
  },
  {
   "cell_type": "code",
   "execution_count": 371,
   "metadata": {
    "collapsed": false
   },
   "outputs": [
    {
     "data": {
      "text/html": [
       "<div>\n",
       "<table border=\"1\" class=\"dataframe\">\n",
       "  <thead>\n",
       "    <tr style=\"text-align: right;\">\n",
       "      <th></th>\n",
       "      <th>0</th>\n",
       "    </tr>\n",
       "  </thead>\n",
       "  <tbody>\n",
       "    <tr>\n",
       "      <th>Timestamp</th>\n",
       "      <td>2017/08/18 4:22:26 PM GMT+2</td>\n",
       "    </tr>\n",
       "    <tr>\n",
       "      <th>Are you interested in video games?</th>\n",
       "      <td>Extremely</td>\n",
       "    </tr>\n",
       "    <tr>\n",
       "      <th>Do you play video games?</th>\n",
       "      <td>Extremely</td>\n",
       "    </tr>\n",
       "    <tr>\n",
       "      <th>How old are you?</th>\n",
       "      <td>23</td>\n",
       "    </tr>\n",
       "    <tr>\n",
       "      <th>What is your gender?</th>\n",
       "      <td>Female</td>\n",
       "    </tr>\n",
       "    <tr>\n",
       "      <th>How long have you studied biology?</th>\n",
       "      <td>Until bachelor's degree</td>\n",
       "    </tr>\n",
       "    <tr>\n",
       "      <th>Are you interested in biology?</th>\n",
       "      <td>Extremely</td>\n",
       "    </tr>\n",
       "    <tr>\n",
       "      <th>Have you ever heard about synthetic biology or BioBricks?</th>\n",
       "      <td>Yes</td>\n",
       "    </tr>\n",
       "    <tr>\n",
       "      <th>Have you ever played an older version of Hero.Coli before?</th>\n",
       "      <td>No</td>\n",
       "    </tr>\n",
       "    <tr>\n",
       "      <th>Have you played the current version of Hero.Coli?</th>\n",
       "      <td>Yes</td>\n",
       "    </tr>\n",
       "    <tr>\n",
       "      <th>What is the species of the bacterium of the game?</th>\n",
       "      <td>E. Coli</td>\n",
       "    </tr>\n",
       "    <tr>\n",
       "      <th>In order to modify the abilities of the bacterium, you have to...</th>\n",
       "      <td>Edit the DNA of the bacterium</td>\n",
       "    </tr>\n",
       "    <tr>\n",
       "      <th>What are BioBricks and devices?</th>\n",
       "      <td>DNA sequences</td>\n",
       "    </tr>\n",
       "    <tr>\n",
       "      <th>What is the scientific name of the tails of the bacterium?</th>\n",
       "      <td>Flagella</td>\n",
       "    </tr>\n",
       "    <tr>\n",
       "      <th>Find the antibiotic:</th>\n",
       "      <td>Ampicillin</td>\n",
       "    </tr>\n",
       "    <tr>\n",
       "      <th>What is the name of this BioBrick?</th>\n",
       "      <td>Terminator</td>\n",
       "    </tr>\n",
       "    <tr>\n",
       "      <th>What is the name of this BioBrick?.1</th>\n",
       "      <td>Promoter</td>\n",
       "    </tr>\n",
       "    <tr>\n",
       "      <th>What is the name of this BioBrick?.2</th>\n",
       "      <td>Fluorescence</td>\n",
       "    </tr>\n",
       "    <tr>\n",
       "      <th>What is the name of this BioBrick?.3</th>\n",
       "      <td>RBS</td>\n",
       "    </tr>\n",
       "    <tr>\n",
       "      <th>Pick the case where the BioBricks are well-ordered:</th>\n",
       "      <td>Option 2</td>\n",
       "    </tr>\n",
       "    <tr>\n",
       "      <th>When does green fluorescence happen?</th>\n",
       "      <td>Under blue light, when the GFP device is equipped</td>\n",
       "    </tr>\n",
       "    <tr>\n",
       "      <th>What happens when you unequip the movement device?</th>\n",
       "      <td>Flagella quickly disappear one by one</td>\n",
       "    </tr>\n",
       "    <tr>\n",
       "      <th>What is this?</th>\n",
       "      <td>A plasmid - it makes it possible to equip an a...</td>\n",
       "    </tr>\n",
       "    <tr>\n",
       "      <th>What does this device do?</th>\n",
       "      <td>I don't know</td>\n",
       "    </tr>\n",
       "    <tr>\n",
       "      <th>What does this device do?.1</th>\n",
       "      <td>I don't know</td>\n",
       "    </tr>\n",
       "    <tr>\n",
       "      <th>What does this device do?.2</th>\n",
       "      <td>It generates antibiotic resistance</td>\n",
       "    </tr>\n",
       "    <tr>\n",
       "      <th>What does this device do?.3</th>\n",
       "      <td>It generates green fluorescence in presence of...</td>\n",
       "    </tr>\n",
       "    <tr>\n",
       "      <th>What does this device do?.4</th>\n",
       "      <td>It generates green fluorescence</td>\n",
       "    </tr>\n",
       "    <tr>\n",
       "      <th>What does this device do?.5</th>\n",
       "      <td>It makes it possible to move faster</td>\n",
       "    </tr>\n",
       "    <tr>\n",
       "      <th>What does this device do?.6</th>\n",
       "      <td>It generates antibiotic resistance</td>\n",
       "    </tr>\n",
       "    <tr>\n",
       "      <th>What does this device do?.7</th>\n",
       "      <td>It generates green fluorescence in presence of...</td>\n",
       "    </tr>\n",
       "    <tr>\n",
       "      <th>The bacterium glows yellow...</th>\n",
       "      <td>I don't know</td>\n",
       "    </tr>\n",
       "    <tr>\n",
       "      <th>What would a device producing l-arabinose do, if it started with a l-arabinose-induced promoter?</th>\n",
       "      <td>After being induced, it would produce more and...</td>\n",
       "    </tr>\n",
       "    <tr>\n",
       "      <th>You can write down remarks here.</th>\n",
       "      <td>Your game is amazing. One suggestion. In sever...</td>\n",
       "    </tr>\n",
       "    <tr>\n",
       "      <th>Do not edit -  pre-filled anonymous ID</th>\n",
       "      <td>8d352896-a3f1-471c-8439-0f426df901c1</td>\n",
       "    </tr>\n",
       "  </tbody>\n",
       "</table>\n",
       "</div>"
      ],
      "text/plain": [
       "                                                                                                    0\n",
       "Timestamp                                                                 2017/08/18 4:22:26 PM GMT+2\n",
       "Are you interested in video games?                                                          Extremely\n",
       "Do you play video games?                                                                    Extremely\n",
       "How old are you?                                                                                   23\n",
       "What is your gender?                                                                           Female\n",
       "How long have you studied biology?                                            Until bachelor's degree\n",
       "Are you interested in biology?                                                              Extremely\n",
       "Have you ever heard about synthetic biology or ...                                                Yes\n",
       "Have you ever played an older version of Hero.C...                                                 No\n",
       "Have you played the current version of Hero.Coli?                                                 Yes\n",
       "What is the species of the bacterium of the game?                                             E. Coli\n",
       "In order to modify the abilities of the bacteri...                      Edit the DNA of the bacterium\n",
       "What are BioBricks and devices?                                                         DNA sequences\n",
       "What is the scientific name of the tails of the...                                           Flagella\n",
       "Find the antibiotic:                                                                       Ampicillin\n",
       "What is the name of this BioBrick?                                                         Terminator\n",
       "What is the name of this BioBrick?.1                                                         Promoter\n",
       "What is the name of this BioBrick?.2                                                     Fluorescence\n",
       "What is the name of this BioBrick?.3                                                              RBS\n",
       "Pick the case where the BioBricks are well-orde...                                           Option 2\n",
       "When does green fluorescence happen?                Under blue light, when the GFP device is equipped\n",
       "What happens when you unequip the movement device?              Flagella quickly disappear one by one\n",
       "What is this?                                       A plasmid - it makes it possible to equip an a...\n",
       "What does this device do?                                                                I don't know\n",
       "What does this device do?.1                                                              I don't know\n",
       "What does this device do?.2                                        It generates antibiotic resistance\n",
       "What does this device do?.3                         It generates green fluorescence in presence of...\n",
       "What does this device do?.4                                           It generates green fluorescence\n",
       "What does this device do?.5                                       It makes it possible to move faster\n",
       "What does this device do?.6                                        It generates antibiotic resistance\n",
       "What does this device do?.7                         It generates green fluorescence in presence of...\n",
       "The bacterium glows yellow...                                                            I don't know\n",
       "What would a device producing l-arabinose do, i...  After being induced, it would produce more and...\n",
       "You can write down remarks here.                    Your game is amazing. One suggestion. In sever...\n",
       "Do not edit -  pre-filled anonymous ID                           8d352896-a3f1-471c-8439-0f426df901c1"
      ]
     },
     "execution_count": 371,
     "metadata": {},
     "output_type": "execute_result"
    }
   ],
   "source": [
    "# Localplayerguids stored in gform have different format\n",
    "answers = gform[gform[localplayerguidkey]==localplayerguid.replace('\"','')]\n",
    "answers.T"
   ]
  },
  {
   "cell_type": "code",
   "execution_count": 372,
   "metadata": {
    "collapsed": false
   },
   "outputs": [
    {
     "data": {
      "text/plain": [
       "0    8d352896-a3f1-471c-8439-0f426df901c1\n",
       "Name: Do not edit -  pre-filled anonymous ID, dtype: object"
      ]
     },
     "execution_count": 372,
     "metadata": {},
     "output_type": "execute_result"
    }
   ],
   "source": [
    "# Selection of a specific answer\n",
    "answers.iloc[:,localplayerguidindex]"
   ]
  },
  {
   "cell_type": "code",
   "execution_count": 373,
   "metadata": {
    "collapsed": false
   },
   "outputs": [
    {
     "data": {
      "text/plain": [
       "'8d352896-a3f1-471c-8439-0f426df901c1'"
      ]
     },
     "execution_count": 373,
     "metadata": {},
     "output_type": "execute_result"
    }
   ],
   "source": [
    "answers.iloc[:,localplayerguidindex].iloc[0]"
   ]
  },
  {
   "cell_type": "code",
   "execution_count": 374,
   "metadata": {
    "collapsed": false
   },
   "outputs": [
    {
     "data": {
      "text/plain": [
       "pandas.core.frame.DataFrame"
      ]
     },
     "execution_count": 374,
     "metadata": {},
     "output_type": "execute_result"
    }
   ],
   "source": [
    "type(answers)"
   ]
  },
  {
   "cell_type": "markdown",
   "metadata": {},
   "source": [
    "## correct answers list"
   ]
  },
  {
   "cell_type": "code",
   "execution_count": 375,
   "metadata": {
    "collapsed": false
   },
   "outputs": [],
   "source": [
    "%run 'correct answers.ipynb'\n",
    "#correctAnswers"
   ]
  },
  {
   "cell_type": "markdown",
   "metadata": {},
   "source": [
    "## checking answers"
   ]
  },
  {
   "cell_type": "markdown",
   "metadata": {},
   "source": [
    "#### Question that has a correct answer:"
   ]
  },
  {
   "cell_type": "code",
   "execution_count": 376,
   "metadata": {
    "collapsed": false
   },
   "outputs": [
    {
     "data": {
      "text/plain": [
       "True"
      ]
     },
     "execution_count": 376,
     "metadata": {},
     "output_type": "execute_result"
    }
   ],
   "source": [
    "questionIndex = 15\n",
    "answers.iloc[:,questionIndex].iloc[0].startswith(correctAnswers.iloc[questionIndex].iloc[0])"
   ]
  },
  {
   "cell_type": "markdown",
   "metadata": {},
   "source": [
    "#### Question that has no correct answer:"
   ]
  },
  {
   "cell_type": "code",
   "execution_count": 377,
   "metadata": {
    "collapsed": false,
    "scrolled": true
   },
   "outputs": [
    {
     "data": {
      "text/plain": [
       "True"
      ]
     },
     "execution_count": 377,
     "metadata": {},
     "output_type": "execute_result"
    }
   ],
   "source": [
    "questionIndex = 0\n",
    "answers.iloc[:,questionIndex].iloc[0].startswith(correctAnswers.iloc[questionIndex].iloc[0])"
   ]
  },
  {
   "cell_type": "markdown",
   "metadata": {},
   "source": [
    "## checkpoint / question association"
   ]
  },
  {
   "cell_type": "code",
   "execution_count": null,
   "metadata": {
    "collapsed": true
   },
   "outputs": [],
   "source": [
    "# done in already imported 'correct answers.ipynb'"
   ]
  },
  {
   "cell_type": "markdown",
   "metadata": {},
   "source": [
    "## comparison of checkpoints completion and questionnaire score"
   ]
  },
  {
   "cell_type": "markdown",
   "metadata": {},
   "source": [
    "Theoretically, they should match. Whoever understood an item should beat the matching challenge. The discrepancies are due to game design or level design."
   ]
  }
 ],
 "metadata": {
  "kernelspec": {
   "display_name": "Python 2",
   "language": "python",
   "name": "python2"
  },
  "language_info": {
   "codemirror_mode": {
    "name": "ipython",
    "version": 2
   },
   "file_extension": ".py",
   "mimetype": "text/x-python",
   "name": "python",
   "nbconvert_exporter": "python",
   "pygments_lexer": "ipython2",
   "version": "2.7.10"
  }
 },
 "nbformat": 4,
 "nbformat_minor": 0
}
