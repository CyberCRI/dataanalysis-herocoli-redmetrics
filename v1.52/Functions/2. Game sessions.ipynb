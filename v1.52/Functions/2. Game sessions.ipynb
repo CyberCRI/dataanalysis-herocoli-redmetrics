{
 "cells": [
  {
   "cell_type": "markdown",
   "metadata": {},
   "source": [
    "# Game sessions"
   ]
  },
  {
   "cell_type": "markdown",
   "metadata": {},
   "source": [
    "## Preparation"
   ]
  },
  {
   "cell_type": "code",
   "execution_count": null,
   "metadata": {
    "collapsed": false
   },
   "outputs": [],
   "source": [
    "from random import randint\n",
    "import re\n",
    "%run \"../Utilities/Preparation.ipynb\"\n",
    "%run \"../Static data/Google form correct answers.ipynb\""
   ]
  },
  {
   "cell_type": "markdown",
   "metadata": {},
   "source": [
    "## Functions"
   ]
  },
  {
   "cell_type": "code",
   "execution_count": null,
   "metadata": {
    "collapsed": true
   },
   "outputs": [],
   "source": [
    "#RedMetrics\n",
    "#user id in format localplayerguid = '\"8d352896-a3f1-471c-8439-0f426df901c1\"'\n",
    "# source: https://stackoverflow.com/questions/42047994/regex-how-to-find-a-guid-in-a-long-string\n",
    "\n",
    "GUIDpattern = '[0-9a-f]{8}-[0-9a-f]{4}-[1-5][0-9a-f]{3}-[89ab][0-9a-f]{3}-[0-9a-f]{12}'\n",
    "RedMetricsGUIDpattern = '^\"' + GUIDpattern + '\"$'\n",
    "\n",
    "def isRedMetricsGUIDFormat( guid ):\n",
    "    return re.search(RedMetricsGUIDpattern, guid)\n",
    "\n",
    "def getRandomRedMetricsGUID():\n",
    "    _uniqueUsers = df152['userId'].dropna().unique()\n",
    "    _userCount = len(_uniqueUsers)\n",
    "    _guid = '0'\n",
    "    while (not isRedMetricsGUIDFormat(_guid)):\n",
    "        _userIndex = randint(0,_userCount-1)\n",
    "        _guid = _uniqueUsers[_userIndex]\n",
    "    return _guid"
   ]
  },
  {
   "cell_type": "code",
   "execution_count": null,
   "metadata": {
    "collapsed": true
   },
   "outputs": [],
   "source": [
    "def getAllSessions( df, dropna ):\n",
    "    _result = df.loc[:, renamedRelevantColumns]\n",
    "    _result = _result[_result['type']=='start']\n",
    "    _result = _result.drop('type', 1)\n",
    "    if dropna:\n",
    "        _result = _result.dropna(how='any')\n",
    "    return _result\n",
    "\n",
    "def getAllSessionsOfUser( df, userId, dropna=True ):\n",
    "    _sessionsList = getAllSessions( df, dropna )\n",
    "    return getAllSessionsOfUserOptimized(_sessionsList, userId)\n",
    "\n",
    "# sessionsList is assumed to contain the dataframe of userIds and sessionsIds\n",
    "def getAllSessionsOfUserOptimized (sessionsList, userId):\n",
    "    return sessionsList[sessionsList['userId']==userId]\n",
    "\n",
    "# includewithoutusers=True will count sessions that do not have any userId attached\n",
    "def countSessions( df, userId, includewithoutusers, sessionsList=[]):\n",
    "    # List of associated sessions\n",
    "    if(len(sessionsList) == 0):\n",
    "        sessionsList = getAllSessionsOfUser( df152, userId, True )\n",
    "    if(not includewithoutusers):\n",
    "        sessionsList = sessionsList.dropna(how='any')\n",
    "    return sessionsList['sessionId'].nunique()\n",
    "\n",
    "# sessionsList is assumed to contain the dataframe of userIds and sessionsIds\n",
    "def getSessionsCountOptimized( df, userId):\n",
    "    return getAllSessionsOfUserOptimized( df, userId ).shape[0]\n",
    "\n",
    "def getUserSessionsCounts( df ):\n",
    "    _allSessions = getAllSessions( df, True )\n",
    "    return _allSessions.groupby('userId').size().reset_index(name='counts').sort_values(by='counts', ascending=False)"
   ]
  },
  {
   "cell_type": "code",
   "execution_count": null,
   "metadata": {
    "collapsed": true
   },
   "outputs": [],
   "source": [
    "# get datetime of first significant event\n",
    "# _userId is assumed to be in RedMetrics format\n",
    "def getFirstEventDate( _userId ):\n",
    "    _sessions = getAllSessionsOfUser(df152, _userId, True)\n",
    "    \n",
    "    _firstGameTime = pd.Timestamp.max.tz_localize('utc')\n",
    "\n",
    "    for session in _sessions['sessionId']:\n",
    "        _timedEvents = df152[df152['sessionId']==session]\n",
    "        _timedEvents = _timedEvents.dropna(subset=['section'])\n",
    "        \n",
    "        if(len(_timedEvents) > 0):\n",
    "            _timedEvents['userTime'] = _timedEvents['userTime'].map(lambda t: pd.to_datetime(t, utc=True))\n",
    "\n",
    "            _earliest = _timedEvents['userTime'].min()\n",
    "            if(_earliest < _firstGameTime):\n",
    "                _firstGameTime = _earliest\n",
    "\n",
    "    return _firstGameTime"
   ]
  }
 ],
 "metadata": {
  "kernelspec": {
   "display_name": "Python 3",
   "language": "python",
   "name": "python3"
  },
  "language_info": {
   "codemirror_mode": {
    "name": "ipython",
    "version": 3
   },
   "file_extension": ".py",
   "mimetype": "text/x-python",
   "name": "python",
   "nbconvert_exporter": "python",
   "pygments_lexer": "ipython3",
   "version": "3.5.4"
  }
 },
 "nbformat": 4,
 "nbformat_minor": 0
}
