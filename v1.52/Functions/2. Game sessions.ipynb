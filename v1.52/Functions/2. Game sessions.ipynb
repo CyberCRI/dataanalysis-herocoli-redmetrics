{
 "cells": [
  {
   "cell_type": "markdown",
   "metadata": {},
   "source": [
    "# Game sessions"
   ]
  },
  {
   "cell_type": "markdown",
   "metadata": {},
   "source": [
    "## Preparation"
   ]
  },
  {
   "cell_type": "code",
   "execution_count": 6,
   "metadata": {
    "collapsed": false
   },
   "outputs": [
    {
     "name": "stderr",
     "output_type": "stream",
     "text": [
      "C:\\Users\\Mikael\\Anaconda3\\lib\\site-packages\\IPython\\core\\interactiveshell.py:2902: DtypeWarning: Columns (18,21,22,28,32,38) have mixed types. Specify dtype option on import or set low_memory=False.\n",
      "  interactivity=interactivity, compiler=compiler, result=result)\n",
      "C:\\Users\\Mikael\\Anaconda3\\lib\\site-packages\\IPython\\core\\interactiveshell.py:2902: DtypeWarning: Columns (14,15,16,17,18,20,21,22,25,26,27,30,33,34,35,36,37,38,39,40,41,42,43) have mixed types. Specify dtype option on import or set low_memory=False.\n",
      "  interactivity=interactivity, compiler=compiler, result=result)\n",
      "C:\\Users\\Mikael\\Anaconda3\\lib\\site-packages\\IPython\\core\\interactiveshell.py:2902: DtypeWarning: Columns (18,21,22,28,32,38) have mixed types. Specify dtype option on import or set low_memory=False.\n",
      "  interactivity=interactivity, compiler=compiler, result=result)\n",
      "C:\\Users\\Mikael\\Anaconda3\\lib\\site-packages\\IPython\\core\\interactiveshell.py:2902: DtypeWarning: Columns (14,15,16,17,18,20,21,22,25,26,27,30,33,34,35,36,37,38,39,40,41,42,43) have mixed types. Specify dtype option on import or set low_memory=False.\n",
      "  interactivity=interactivity, compiler=compiler, result=result)\n"
     ]
    }
   ],
   "source": [
    "%run \"../Utilities/Preparation.ipynb\"\n",
    "%run \"../Static data/Google form correct answers.ipynb\""
   ]
  },
  {
   "cell_type": "markdown",
   "metadata": {},
   "source": [
    "## Functions"
   ]
  },
  {
   "cell_type": "code",
   "execution_count": 7,
   "metadata": {
    "collapsed": true
   },
   "outputs": [],
   "source": [
    "def getAllSessions( df, dropna ):\n",
    "    result = df.loc[:, renamedRelevantColumns]\n",
    "    result = result[result['type']=='start']\n",
    "    result = result.drop('type', 1)\n",
    "    if dropna:\n",
    "        result = result.dropna(how='any')\n",
    "    return result\n",
    "\n",
    "def getAllSessionsOfUser( df, userId, dropna ):\n",
    "    sessionsList = getAllSessions( df, dropna )\n",
    "    return getAllSessionsOfUserOptimized(sessionsList, userId)\n",
    "\n",
    "# sessionsList is assumed to contain the dataframe of userIds and sessionsIds\n",
    "def getAllSessionsOfUserOptimized (sessionsList, userId):\n",
    "    return sessionsList[sessionsList['userId']==userId]\n",
    "\n",
    "# includewithoutusers=True will count sessions that do not have any userId attached\n",
    "def countSessions( df, userId, includewithoutusers):\n",
    "    return getAllSessionsOfUser( df, userId, includewithoutusers )['sessionId'].nunique()\n",
    "    #return getAllSessionsOfUser( df, userId, includewithoutusers ).shape[0]\n",
    "\n",
    "# sessionsList is assumed to contain the dataframe of userIds and sessionsIds\n",
    "def getSessionsCountOptimized( df, userId):\n",
    "    return getAllSessionsOfUserOptimized( df, userId ).shape[0]\n",
    "\n",
    "def getUserSessionsCounts( df ):\n",
    "    allSessions = getAllSessions( df, True )\n",
    "    return allSessions.groupby('userId').size().reset_index(name='counts').sort_values(by='counts', ascending=False)"
   ]
  },
  {
   "cell_type": "code",
   "execution_count": null,
   "metadata": {
    "collapsed": true
   },
   "outputs": [],
   "source": [
    "# get datetime of first significant event\n",
    "# _userId is assumed to be in RedMetrics format\n",
    "def getFirstEventDate( _userId ):\n",
    "    _sessions = getAllSessionsOfUser(df152, _userId, True)\n",
    "    \n",
    "    firstGameTime = pd.Timestamp.max.tz_localize('utc')\n",
    "\n",
    "    for session in _sessions['sessionId']:\n",
    "        timedEvents = df152[df152['sessionId']==session]\n",
    "        timedEvents = timedEvents.dropna(subset=['section'])\n",
    "        \n",
    "        if(len(timedEvents) > 0):\n",
    "            timedEvents['userTime'] = timedEvents['userTime'].map(lambda t: pd.to_datetime(t, utc=True))\n",
    "\n",
    "            earliest = timedEvents['userTime'].min()\n",
    "            if(earliest < firstGameTime):\n",
    "                firstGameTime = earliest\n",
    "\n",
    "    return firstGameTime"
   ]
  }
 ],
 "metadata": {
  "kernelspec": {
   "display_name": "Python 3",
   "language": "python",
   "name": "python3"
  },
  "language_info": {
   "codemirror_mode": {
    "name": "ipython",
    "version": 3
   },
   "file_extension": ".py",
   "mimetype": "text/x-python",
   "name": "python",
   "nbconvert_exporter": "python",
   "pygments_lexer": "ipython3",
   "version": "3.5.4"
  }
 },
 "nbformat": 4,
 "nbformat_minor": 0
}
