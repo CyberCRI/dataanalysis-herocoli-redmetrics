{
 "cells": [
  {
   "cell_type": "markdown",
   "metadata": {},
   "source": [
    "# Game sessions"
   ]
  },
  {
   "cell_type": "markdown",
   "metadata": {},
   "source": [
    "## Preparation"
   ]
  },
  {
   "cell_type": "code",
   "execution_count": null,
   "metadata": {},
   "outputs": [],
   "source": [
    "%run \"../Static data/Google form correct answers.ipynb\""
   ]
  },
  {
   "cell_type": "markdown",
   "metadata": {},
   "source": [
    "## Functions"
   ]
  },
  {
   "cell_type": "code",
   "execution_count": null,
   "metadata": {},
   "outputs": [],
   "source": [
    "#RedMetrics\n",
    "#user id in format localplayerguid = '\"8d352896-a3f1-471c-8439-0f426df901c1\"'\n",
    "# source: https://stackoverflow.com/questions/42047994/regex-how-to-find-a-guid-in-a-long-string\n",
    "\n",
    "GUIDpattern = '^[0-9a-f]{8}-[0-9a-f]{4}-[1-5][0-9a-f]{3}-[89ab][0-9a-f]{3}-[0-9a-f]{12}$'\n",
    "\n",
    "def isGUIDFormat( guid ):\n",
    "    return re.search(GUIDpattern, guid)\n",
    "\n",
    "def getRandomRedMetricsGUID( _rmDF = rmdf152 ):\n",
    "    _uniqueUsers = _rmDF['userId'].dropna().unique()\n",
    "    _userCount = len(_uniqueUsers)\n",
    "    _guid = ''\n",
    "    while (not isGUIDFormat(_guid)):\n",
    "        _userIndex = randint(0,_userCount-1)\n",
    "        _guid = _uniqueUsers[_userIndex]\n",
    "    return _guid\n",
    "\n",
    "def getRandomSessionGUID( _userId = '', _rmDF = rmdf152 ):    \n",
    "    rmId = _userId\n",
    "    if( not(isGUIDFormat(_userId))):\n",
    "        rmId = getRandomRedMetricsGUID()\n",
    "    \n",
    "    _uniqueSessions = getUserSessions( _rmDF, rmId )\n",
    "       \n",
    "    _sessionsCount = len(_uniqueSessions)\n",
    "    _guid = \"\"\n",
    "    \n",
    "    if(0 != _sessionsCount):\n",
    "        _sessionIndex = randint(0,_sessionsCount-1)\n",
    "        _guid = _uniqueSessions.iloc[_sessionIndex]\n",
    "    else:\n",
    "        print(\"no sessions for userId \" + rmId)\n",
    "    \n",
    "    return _guid"
   ]
  },
  {
   "cell_type": "code",
   "execution_count": null,
   "metadata": {},
   "outputs": [],
   "source": [
    "def getUserSessions( _rmDF, userId):\n",
    "    return _rmDF.loc[:,['userId','sessionId']][_rmDF['userId']==userId]['sessionId'].drop_duplicates().dropna(how='any')\n",
    "\n",
    "def getSessionsCount(_rmDF, userId):\n",
    "    return len(getUserSessions( _rmDF, userId ))\n",
    "\n",
    "def getUserSessionsCounts( _rmDF ):\n",
    "    _allSessions = getAllSessions( _rmDF, True )\n",
    "    return _allSessions.groupby('userId').size().reset_index(name='counts').sort_values(by='counts', ascending=False)"
   ]
  },
  {
   "cell_type": "code",
   "execution_count": null,
   "metadata": {},
   "outputs": [],
   "source": [
    "# get datetime of first significant event\n",
    "# _userId is assumed to be in RedMetrics format\n",
    "# returns a pandas._libs.tslib.Timestamp\n",
    "def getFirstEventDate( _userId, _rmDF = rmdf152 ):\n",
    "    _sessions = getUserSessions(_rmDF, _userId)\n",
    "    \n",
    "    _firstGameTime = pd.Timestamp.max.tz_localize('utc')\n",
    "\n",
    "    for session in _sessions:\n",
    "        _timedEvents = _rmDF[_rmDF['sessionId']==session]\n",
    "        \n",
    "        # drops irrelevant events like 'start' and 'configure' ones\n",
    "        _timedEvents = _timedEvents.dropna(subset=['section'])\n",
    "        \n",
    "        if(len(_timedEvents) > 0):\n",
    "            _earliest = _timedEvents['userTime'].min()\n",
    "            if(_earliest < _firstGameTime):\n",
    "                _firstGameTime = _earliest\n",
    "\n",
    "    return _firstGameTime"
   ]
  }
 ],
 "metadata": {
  "kernelspec": {
   "display_name": "Python [conda env:python3]",
   "language": "python",
   "name": "conda-env-python3-py"
  },
  "language_info": {
   "codemirror_mode": {
    "name": "ipython",
    "version": 3
   },
   "file_extension": ".py",
   "mimetype": "text/x-python",
   "name": "python",
   "nbconvert_exporter": "python",
   "pygments_lexer": "ipython3",
   "version": "3.5.4"
  }
 },
 "nbformat": 4,
 "nbformat_minor": 1
}
