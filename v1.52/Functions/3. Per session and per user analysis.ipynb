{
 "cells": [
  {
   "cell_type": "markdown",
   "metadata": {
    "collapsed": true
   },
   "source": [
    "# Per session and per user analysis\n",
    "\n",
    "Analysis of users."
   ]
  },
  {
   "cell_type": "markdown",
   "metadata": {},
   "source": [
    "# Table of Contents\n",
    "\n",
    "1.  [Preparation](#preparation)\n",
    "\n",
    "2.  [Constants](#constants)\n",
    "\n",
    "3.  [Functions](#functions)"
   ]
  },
  {
   "cell_type": "markdown",
   "metadata": {},
   "source": [
    "# Preparation\n",
    "<a id=preparation />"
   ]
  },
  {
   "cell_type": "code",
   "execution_count": 30,
   "metadata": {
    "collapsed": false
   },
   "outputs": [
    {
     "name": "stderr",
     "output_type": "stream",
     "text": [
      "C:\\Users\\Mikael\\Anaconda3\\lib\\site-packages\\IPython\\core\\interactiveshell.py:2902: DtypeWarning: Columns (24,32,34) have mixed types. Specify dtype option on import or set low_memory=False.\n",
      "  interactivity=interactivity, compiler=compiler, result=result)\n"
     ]
    }
   ],
   "source": [
    "%run \"../Functions/2. Game sessions.ipynb\""
   ]
  },
  {
   "cell_type": "markdown",
   "metadata": {},
   "source": [
    "# Constants\n",
    "<a id=constants />"
   ]
  },
  {
   "cell_type": "code",
   "execution_count": 31,
   "metadata": {
    "collapsed": false
   },
   "outputs": [],
   "source": [
    "perSessionRelevantColumns = ['sessionId', 'serverTime', 'section']\n",
    "\n",
    "reachEvents = df152[df152['type']=='reach'].loc[:,perSessionRelevantColumns]\n",
    "deathEvents = df152[df152['type']=='death'].loc[:,perSessionRelevantColumns]\n",
    "\n",
    "timedSectionsIndex = [\n",
    "                        'tutorial1.Checkpoint00',\n",
    "                        'tutorial1.Checkpoint01',\n",
    "                        'tutorial1.Checkpoint02',\n",
    "                        'tutorial1.Checkpoint03',\n",
    "                        'tutorial1.Checkpoint04',\n",
    "                        'tutorial1.Checkpoint05',\n",
    "                        'tutorial1.Checkpoint06',\n",
    "                        'tutorial1.Checkpoint07',\n",
    "                        'tutorial1.Checkpoint08',\n",
    "                        'tutorial1.Checkpoint09',\n",
    "                        'tutorial1.Checkpoint10',\n",
    "                        'tutorial1.Checkpoint11',\n",
    "                        'tutorial1.Checkpoint12',\n",
    "                        'tutorial1.Checkpoint13',\n",
    "                        'tutorial1.Checkpoint14',\n",
    "                     ]\n",
    "timedSectionsReachedColumns = ['serverTime', 'firstReached', 'firstCompletionDuration']\n",
    "timedSectionsDeathsColumns = ['deathsCount']\n",
    "eventSectionsColumns = ['count']"
   ]
  },
  {
   "cell_type": "markdown",
   "metadata": {},
   "source": [
    "# Functions\n",
    "<a id=functions />"
   ]
  },
  {
   "cell_type": "code",
   "execution_count": 32,
   "metadata": {
    "collapsed": true
   },
   "outputs": [],
   "source": [
    "## Comparison between game and Google form performance"
   ]
  },
  {
   "cell_type": "code",
   "execution_count": 33,
   "metadata": {
    "collapsed": true
   },
   "outputs": [],
   "source": [
    "# Returns a given session's checkpoints, the first server time at which they were reached, and completion time\n",
    "def getCheckpointsTimes( sessionId ):\n",
    "    perSession = reachEvents[reachEvents['sessionId']==sessionId]\n",
    "    perSession = perSession[perSession['section'].str.startswith('tutorial', na=False)]\n",
    "    timedSections = perSession.groupby(\"section\").agg({ \"serverTime\": np.min })\n",
    "    timedSections[\"firstReached\"] = pd.to_datetime(timedSections[\"serverTime\"])\n",
    "    timedSections[\"firstCompletionDuration\"] = timedSections[\"firstReached\"].diff()\n",
    "    return timedSections"
   ]
  },
  {
   "cell_type": "code",
   "execution_count": 34,
   "metadata": {
    "collapsed": true
   },
   "outputs": [],
   "source": [
    "# Returns a given session's checkpoints, and death count\n",
    "def getDeaths( sessionId ):\n",
    "    perSession = deathEvents[deathEvents['sessionId']==sessionId]\n",
    "    perSession = perSession[perSession['section'].str.startswith('tutorial', na=False)]\n",
    "    deathsSections = perSession.groupby(\"section\").size().reset_index(name='deathsCount')\n",
    "    return deathsSections"
   ]
  },
  {
   "cell_type": "code",
   "execution_count": 35,
   "metadata": {
    "collapsed": true
   },
   "outputs": [],
   "source": [
    "# Returns a given user's checkpoints, the first server time at which they were reached, and completion time\n",
    "def getCheckpointsTimesUser( userId ):\n",
    "    #print(\"getCheckpointsTimesUser(\" + str(userId) + \")\")\n",
    "    \n",
    "    # List of associated sessions\n",
    "    sessionsList = getAllSessionsOfUser( df152, userId, True )\n",
    "    #print(\"sessionsList=\" + str(sessionsList))\n",
    "    \n",
    "    # Call getCheckpointsTimes on all sessions associated with user,\n",
    "    # then merge by taking oldest checkpoint completion\n",
    "    timedSections = pd.DataFrame(data=None, columns=timedSectionsReachedColumns,index=timedSectionsIndex)\n",
    "    \n",
    "    for sessionId in sessionsList['sessionId']:        \n",
    "        #print(\"processing user \" + str(userId) + \" with session \" + str(sessionId))\n",
    "        times = getCheckpointsTimes( sessionId )\n",
    "        \n",
    "        # merge\n",
    "        # for each checkpoint reached, update if necessary\n",
    "        for checkpointName in times.index:\n",
    "            if (np.isnan(timedSections['firstReached'][checkpointName]) \n",
    "                or (timeSection['firstReached'][checkpointName] < times['firstReached'][checkpointName])\n",
    "               ):\n",
    "                timedSections['serverTime'][checkpointName] = times['serverTime'][checkpointName]\n",
    "                timedSections['firstReached'][checkpointName] = times['firstReached'][checkpointName]\n",
    "        #print(times)\n",
    "        #print(type(times))        \n",
    "    \n",
    "    # update of firstCompletionDuration\n",
    "    #timedSections[\"firstCompletionDuration\"] = timedSections[\"firstReached\"].diff()\n",
    "    \n",
    "    return timedSections"
   ]
  },
  {
   "cell_type": "code",
   "execution_count": 36,
   "metadata": {
    "collapsed": true
   },
   "outputs": [],
   "source": [
    "def getDeathsUser( userId ):\n",
    "    #print(\"getDeathsUser(\" + str(userId) + \")\")\n",
    "    \n",
    "    # List of associated sessions\n",
    "    sessionsList = getAllSessionsOfUser( df152, userId, True )\n",
    "    #print(\"sessionsList=\" + str(sessionsList))\n",
    "    \n",
    "    # Call getDeaths on all sessions associated with user,\n",
    "    # then merge by adding\n",
    "    deathsSections = pd.DataFrame(0, columns=timedSectionsDeathsColumns,index=timedSectionsIndex)\n",
    "    \n",
    "    for sessionId in sessionsList['sessionId']:        \n",
    "        #print(\"processing user \" + str(userId) + \" with session \" + str(sessionId))\n",
    "        deaths = getDeaths( sessionId )\n",
    "        \n",
    "        # merge\n",
    "        # for each checkpoint reached, update if necessary\n",
    "        for index in deaths.index:\n",
    "            #print(\"index=\" + str(index))\n",
    "            checkpointName = deaths['section'][index]\n",
    "            #print(\"checkpointName=\" + str(checkpointName))\n",
    "            #print(\"deaths['deathsCount'][\"+str(index)+\"]=\" + str(deaths['deathsCount'][index]))\n",
    "            \n",
    "            deathsSections['deathsCount'][checkpointName] = deathsSections['deathsCount'][checkpointName] + deaths['deathsCount'][index]\n",
    "    \n",
    "    return deathsSections"
   ]
  },
  {
   "cell_type": "code",
   "execution_count": 37,
   "metadata": {
    "collapsed": true
   },
   "outputs": [],
   "source": [
    "# Returns a given session's checkpoints, and event count\n",
    "def getSectionsEvents( eventType, sessionId ):\n",
    "    events = df152[df152['type']==eventType].loc[:,perSessionRelevantColumns]\n",
    "    perSession = events[events['sessionId']==sessionId]\n",
    "    perSession = perSession[perSession['section'].str.startswith('tutorial', na=False)]\n",
    "    sectionsEvents = perSession.groupby(\"section\").size().reset_index(name='count')\n",
    "    return sectionsEvents"
   ]
  },
  {
   "cell_type": "code",
   "execution_count": 38,
   "metadata": {
    "collapsed": true
   },
   "outputs": [],
   "source": [
    "def getUserSectionsEvents( eventType, userId ):\n",
    "    \n",
    "    # List of associated sessions\n",
    "    sessionsList = getAllSessionsOfUser( df152, userId, True )\n",
    "    #print(\"sessionsList=\" + str(sessionsList))\n",
    "    \n",
    "    # Call getSectionsEvents on all sessions associated with user,\n",
    "    # then merge by adding\n",
    "    userSectionsEvents = pd.DataFrame(0, columns=eventSectionsColumns,index=timedSectionsIndex)\n",
    "    \n",
    "    for sessionId in sessionsList['sessionId']:\n",
    "        sessionSectionsEvents = getSectionsEvents( eventType, sessionId )\n",
    "        \n",
    "        # merge\n",
    "        # for each checkpoint reached, update if necessary\n",
    "        for index in sessionSectionsEvents.index:\n",
    "            checkpointName = sessionSectionsEvents['section'][index]\n",
    "            userSectionsEvents['count'][checkpointName] = userSectionsEvents['count'][checkpointName] + sessionSectionsEvents['count'][index]\n",
    "    \n",
    "    return userSectionsEvents"
   ]
  },
  {
   "cell_type": "code",
   "execution_count": 39,
   "metadata": {
    "collapsed": true
   },
   "outputs": [],
   "source": [
    "def getUserSectionsEventsTotal( eventType, userId ):\n",
    "    events = getUserSectionsEvents( eventType, userId )\n",
    "    return events.values.sum()"
   ]
  },
  {
   "cell_type": "code",
   "execution_count": 40,
   "metadata": {
    "collapsed": true
   },
   "outputs": [],
   "source": [
    "# Returns a given user's unique reached checkpoints\n",
    "def getUserCheckpoints( userId ):\n",
    "    #print(\"getUserCheckpoints(\" + str(userId) + \")\")\n",
    "\n",
    "    # List of associated sessions\n",
    "    sessionsList = getAllSessionsOfUser( df152, userId, True )\n",
    "    #print(\"sessionsList=\" + str(sessionsList))\n",
    "    \n",
    "    # List all 'reach' events with those sessionIds.\n",
    "    perUser = reachEvents[reachEvents['sessionId'].isin(sessionsList[sessionsList['userId']==userId])]\n",
    "    perUser = perUser[perUser['section'].str.startswith('tutorial', na=False)]\n",
    "    return pd.Series(perUser['section'].unique())\n",
    "\n",
    "\n",
    "def getDiscrepancyGameGForm( userId ):\n",
    "    gformNonVal = getNonValidatedCheckpoints(userId)\n",
    "    gformVal = getValidatedCheckpoints(userId)\n",
    "    gameVal = getUserCheckpoints(userId)\n",
    "    \n",
    "    #sorted, unique values in series1 that are not in series2\n",
    "    #np.setdiff1d(series1.values, series2.values)\n",
    "    \n",
    "    #user has answered questions whose answer they haven't seen in the game\n",
    "    gameNotEnough = pd.Series(np.setdiff1d(gformVal.values, gameVal.values))\n",
    "    \n",
    "    #user has not answered questions whose answer they have seen in the game\n",
    "    gformNotEnough = []\n",
    "    maxGameVal = ''\n",
    "    if gameVal.values.size!=0:\n",
    "        gameVal.values.max()\n",
    "    for nonVal in gformNonVal.values:\n",
    "        if nonVal >= maxGameVal:\n",
    "            gformNotEnough.append(nonVal)    \n",
    "    gformNotEnough = pd.Series(gformNotEnough)\n",
    "    \n",
    "    return (gameNotEnough, gformNotEnough)"
   ]
  },
  {
   "cell_type": "code",
   "execution_count": 41,
   "metadata": {
    "collapsed": false
   },
   "outputs": [],
   "source": [
    "simpleEvents = ['complete','configure','craft','death','equip','gotomooc','gotourl','pickup','reach','restart','selectmenu','start','switch','unequip']\n",
    "\n",
    "# possible events: complete\tconfigure\tcraft\tdeath\tequip\tgotomooc\tgotourl\tpickup\treach\trestart\tselectmenu\tstart\tswitch\tunequip\n",
    "userDataVectorIndex = np.concatenate( ([\n",
    "                                            #gform\n",
    "                                            'score',\n",
    "\n",
    "                                            #game\n",
    "                                            'sessionsCount',\n",
    "                                        ],\n",
    "                                     simpleEvents))"
   ]
  },
  {
   "cell_type": "code",
   "execution_count": 42,
   "metadata": {
    "collapsed": true
   },
   "outputs": [],
   "source": [
    "def getUserDataVector( userId ):\n",
    "    \n",
    "    columnName = str(userId)\n",
    "    \n",
    "    data = pd.DataFrame(0, columns=[columnName],index=userDataVectorIndex)\n",
    "    \n",
    "    data[columnName]['score'] = getScore( userId )\n",
    "    \n",
    "    data[columnName]['sessionsCount'] = countSessions( df152, userId, False)\n",
    "    \n",
    "    for eventName in simpleEvents:\n",
    "        if eventName == 'equip':\n",
    "            data[columnName][eventName] = getUserSectionsEventsTotal('add', userId)\n",
    "        elif eventName == 'unequip':\n",
    "            data[columnName][eventName] = getUserSectionsEventsTotal('remove', userId)\n",
    "        else:\n",
    "            data[columnName][eventName] = getUserSectionsEventsTotal(eventName, userId)\n",
    "    \n",
    "    return data"
   ]
  }
 ],
 "metadata": {
  "kernelspec": {
   "display_name": "Python 3",
   "language": "python",
   "name": "python3"
  },
  "language_info": {
   "codemirror_mode": {
    "name": "ipython",
    "version": 3
   },
   "file_extension": ".py",
   "mimetype": "text/x-python",
   "name": "python",
   "nbconvert_exporter": "python",
   "pygments_lexer": "ipython3",
   "version": "3.5.4"
  }
 },
 "nbformat": 4,
 "nbformat_minor": 0
}
