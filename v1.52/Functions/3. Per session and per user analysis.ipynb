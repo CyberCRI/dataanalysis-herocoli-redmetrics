{
 "cells": [
  {
   "cell_type": "markdown",
   "metadata": {
    "collapsed": true
   },
   "source": [
    "# Per session and per user analysis\n",
    "\n",
    "Analysis of users."
   ]
  },
  {
   "cell_type": "markdown",
   "metadata": {},
   "source": [
    "# Table of Contents\n",
    "\n",
    "1.  [Preparation](#preparation)\n",
    "\n",
    "2.  [Constants](#constants)\n",
    "\n",
    "3.  [Functions](#functions)"
   ]
  },
  {
   "cell_type": "markdown",
   "metadata": {},
   "source": [
    "# Preparation\n",
    "<a id=preparation />"
   ]
  },
  {
   "cell_type": "code",
   "execution_count": 2,
   "metadata": {
    "collapsed": false
   },
   "outputs": [
    {
     "name": "stderr",
     "output_type": "stream",
     "text": [
      "C:\\Users\\Mikael\\Anaconda3\\lib\\site-packages\\IPython\\core\\interactiveshell.py:2902: DtypeWarning: Columns (18,22,28,32,38) have mixed types. Specify dtype option on import or set low_memory=False.\n",
      "  interactivity=interactivity, compiler=compiler, result=result)\n",
      "C:\\Users\\Mikael\\Anaconda3\\lib\\site-packages\\IPython\\core\\interactiveshell.py:2902: DtypeWarning: Columns (14,15,16,17,18,20,21,22,25,26,27,30,33,34,35,36,37,38,39,40,41,42,43) have mixed types. Specify dtype option on import or set low_memory=False.\n",
      "  interactivity=interactivity, compiler=compiler, result=result)\n"
     ]
    }
   ],
   "source": [
    "%run \"../Functions/2. Game sessions.ipynb\""
   ]
  },
  {
   "cell_type": "markdown",
   "metadata": {},
   "source": [
    "# Constants\n",
    "<a id=constants />"
   ]
  },
  {
   "cell_type": "code",
   "execution_count": 3,
   "metadata": {
    "collapsed": false
   },
   "outputs": [],
   "source": [
    "perSessionRelevantColumns = ['sessionId', 'serverTime', 'section']\n",
    "\n",
    "reachEvents = df152[df152['type']=='reach'].loc[:,perSessionRelevantColumns]\n",
    "deathEvents = df152[df152['type']=='death'].loc[:,perSessionRelevantColumns]\n",
    "\n",
    "timedSectionsIndex = [\n",
    "                        'tutorial1.Checkpoint00',\n",
    "                        'tutorial1.Checkpoint01',\n",
    "                        'tutorial1.Checkpoint02',\n",
    "                        'tutorial1.Checkpoint03',\n",
    "                        'tutorial1.Checkpoint04',\n",
    "                        'tutorial1.Checkpoint05',\n",
    "                        'tutorial1.Checkpoint06',\n",
    "                        'tutorial1.Checkpoint07',\n",
    "                        'tutorial1.Checkpoint08',\n",
    "                        'tutorial1.Checkpoint09',\n",
    "                        'tutorial1.Checkpoint10',\n",
    "                        'tutorial1.Checkpoint11',\n",
    "                        'tutorial1.Checkpoint12',\n",
    "                        'tutorial1.Checkpoint13',\n",
    "                        'tutorial1.Checkpoint14',\n",
    "                     ]\n",
    "timedSectionsReachedColumns = ['serverTime', 'firstReached', 'firstCompletionDuration']\n",
    "timedSectionsDeathsColumns = ['deathsCount']\n",
    "eventSectionsCountColumns = ['section', 'count']\n",
    "eventSectionsColumns = ['count']"
   ]
  },
  {
   "cell_type": "markdown",
   "metadata": {},
   "source": [
    "# Functions\n",
    "<a id=functions />"
   ]
  },
  {
   "cell_type": "code",
   "execution_count": 4,
   "metadata": {
    "collapsed": true
   },
   "outputs": [],
   "source": [
    "## Comparison between game and Google form performance"
   ]
  },
  {
   "cell_type": "code",
   "execution_count": 5,
   "metadata": {
    "collapsed": true
   },
   "outputs": [],
   "source": [
    "# Returns a given session's checkpoints, the first server time at which they were reached, and completion time\n",
    "def getCheckpointsTimes( sessionId ):\n",
    "    perSession = reachEvents[reachEvents['sessionId']==sessionId]\n",
    "    perSession = perSession[perSession['section'].str.startswith('tutorial', na=False)]\n",
    "    timedSections = perSession.groupby(\"section\").agg({ \"serverTime\": np.min })\n",
    "    timedSections[\"firstReached\"] = pd.to_datetime(timedSections[\"serverTime\"])\n",
    "    timedSections[\"firstCompletionDuration\"] = timedSections[\"firstReached\"].diff()\n",
    "    return timedSections"
   ]
  },
  {
   "cell_type": "code",
   "execution_count": 6,
   "metadata": {
    "collapsed": true
   },
   "outputs": [],
   "source": [
    "# Returns a given session's checkpoints, and death count\n",
    "def getDeaths( sessionId ):\n",
    "    perSession = deathEvents[deathEvents['sessionId']==sessionId]\n",
    "    perSession = perSession[perSession['section'].str.startswith('tutorial', na=False)]\n",
    "    deathsSections = perSession.groupby(\"section\").size().reset_index(name='deathsCount')\n",
    "    return deathsSections"
   ]
  },
  {
   "cell_type": "code",
   "execution_count": 7,
   "metadata": {
    "collapsed": true
   },
   "outputs": [],
   "source": [
    "# Returns a given user's checkpoints, the first server time at which they were reached, and completion time\n",
    "def getCheckpointsTimesUser( userId ):\n",
    "    #print(\"getCheckpointsTimesUser(\" + str(userId) + \")\")\n",
    "    \n",
    "    # List of associated sessions\n",
    "    sessionsList = getAllSessionsOfUser( df152, userId, True )\n",
    "    #print(\"sessionsList=\" + str(sessionsList))\n",
    "    \n",
    "    # Call getCheckpointsTimes on all sessions associated with user,\n",
    "    # then merge by taking oldest checkpoint completion\n",
    "    timedSections = pd.DataFrame(data=None, columns=timedSectionsReachedColumns,index=timedSectionsIndex)\n",
    "    \n",
    "    for sessionId in sessionsList['sessionId']:        \n",
    "        #print(\"processing user \" + str(userId) + \" with session \" + str(sessionId))\n",
    "        times = getCheckpointsTimes( sessionId )\n",
    "        \n",
    "        # merge\n",
    "        # for each checkpoint reached, update if necessary\n",
    "        for checkpointName in times.index:\n",
    "            if (np.isnan(timedSections['firstReached'][checkpointName]) \n",
    "                or (timeSection['firstReached'][checkpointName] < times['firstReached'][checkpointName])\n",
    "               ):\n",
    "                timedSections['serverTime'][checkpointName] = times['serverTime'][checkpointName]\n",
    "                timedSections['firstReached'][checkpointName] = times['firstReached'][checkpointName]\n",
    "        #print(times)\n",
    "        #print(type(times))        \n",
    "    \n",
    "    # update of firstCompletionDuration\n",
    "    #timedSections[\"firstCompletionDuration\"] = timedSections[\"firstReached\"].diff()\n",
    "    \n",
    "    return timedSections"
   ]
  },
  {
   "cell_type": "code",
   "execution_count": 8,
   "metadata": {
    "collapsed": true
   },
   "outputs": [],
   "source": [
    "def getDeathsUser( userId ):\n",
    "    #print(\"getDeathsUser(\" + str(userId) + \")\")\n",
    "    \n",
    "    # List of associated sessions\n",
    "    sessionsList = getAllSessionsOfUser( df152, userId, True )\n",
    "    #print(\"sessionsList=\" + str(sessionsList))\n",
    "    \n",
    "    # Call getDeaths on all sessions associated with user,\n",
    "    # then merge by adding\n",
    "    deathsSections = pd.DataFrame(0, columns=timedSectionsDeathsColumns,index=timedSectionsIndex)\n",
    "    \n",
    "    for sessionId in sessionsList['sessionId']:        \n",
    "        #print(\"processing user \" + str(userId) + \" with session \" + str(sessionId))\n",
    "        deaths = getDeaths( sessionId )\n",
    "        \n",
    "        # merge\n",
    "        # for each checkpoint reached, update if necessary\n",
    "        for index in deaths.index:\n",
    "            #print(\"index=\" + str(index))\n",
    "            checkpointName = deaths['section'][index]\n",
    "            #print(\"checkpointName=\" + str(checkpointName))\n",
    "            #print(\"deaths['deathsCount'][\"+str(index)+\"]=\" + str(deaths['deathsCount'][index]))\n",
    "            \n",
    "            deathsSections['deathsCount'][checkpointName] = deathsSections['deathsCount'][checkpointName] + deaths['deathsCount'][index]\n",
    "    \n",
    "    return deathsSections"
   ]
  },
  {
   "cell_type": "markdown",
   "metadata": {},
   "source": [
    "## Craft events: equip, unequip, add, remove"
   ]
  },
  {
   "cell_type": "markdown",
   "metadata": {},
   "source": [
    "#### event-column association\n",
    "\n",
    "    equip device = 'add' + customData.device\n",
    "    \n",
    "    unequip device = 'remove' + customData.device\n",
    "    \n",
    "    add brick = 'add' + customData.biobrick\n",
    "    \n",
    "    remove brick = 'remove' + customData.biobrick"
   ]
  },
  {
   "cell_type": "code",
   "execution_count": 56,
   "metadata": {
    "collapsed": false
   },
   "outputs": [],
   "source": [
    "# Static data\n",
    "# craftEventsColumns = pd.DataFrame(\n",
    "#    index=list(range(4)),\n",
    "#    data={\n",
    "#        'eventCode' : pd.Categorical([\"equip\",\"unequip\",\"add\",\"remove\"]),\n",
    "#        'eventType' : pd.Categorical([\"add\",\"remove\",\"add\",\"remove\"]),\n",
    "#        'column' : pd.Categorical([\"customData.device\",\"customData.device\",\"customData.biobrick\",\"customData.biobrick\"]),\n",
    "#    }\n",
    "#)\n",
    "#craftEventsColumns"
   ]
  },
  {
   "cell_type": "code",
   "execution_count": 62,
   "metadata": {
    "collapsed": false
   },
   "outputs": [
    {
     "data": {
      "text/html": [
       "<div>\n",
       "<style>\n",
       "    .dataframe thead tr:only-child th {\n",
       "        text-align: right;\n",
       "    }\n",
       "\n",
       "    .dataframe thead th {\n",
       "        text-align: left;\n",
       "    }\n",
       "\n",
       "    .dataframe tbody tr th {\n",
       "        vertical-align: top;\n",
       "    }\n",
       "</style>\n",
       "<table border=\"1\" class=\"dataframe\">\n",
       "  <thead>\n",
       "    <tr style=\"text-align: right;\">\n",
       "      <th></th>\n",
       "      <th>column</th>\n",
       "      <th>eventType</th>\n",
       "    </tr>\n",
       "  </thead>\n",
       "  <tbody>\n",
       "    <tr>\n",
       "      <th>equip</th>\n",
       "      <td>customData.device</td>\n",
       "      <td>add</td>\n",
       "    </tr>\n",
       "    <tr>\n",
       "      <th>unequip</th>\n",
       "      <td>customData.device</td>\n",
       "      <td>remove</td>\n",
       "    </tr>\n",
       "    <tr>\n",
       "      <th>add</th>\n",
       "      <td>customData.biobrick</td>\n",
       "      <td>add</td>\n",
       "    </tr>\n",
       "    <tr>\n",
       "      <th>remove</th>\n",
       "      <td>customData.biobrick</td>\n",
       "      <td>remove</td>\n",
       "    </tr>\n",
       "  </tbody>\n",
       "</table>\n",
       "</div>"
      ],
      "text/plain": [
       "                      column eventType\n",
       "equip      customData.device       add\n",
       "unequip    customData.device    remove\n",
       "add      customData.biobrick       add\n",
       "remove   customData.biobrick    remove"
      ]
     },
     "execution_count": 62,
     "metadata": {},
     "output_type": "execute_result"
    }
   ],
   "source": [
    "# Static data\n",
    "craftEventCodes = list([\"equip\",\"unequip\",\"add\",\"remove\"])\n",
    "craftEventsColumns = pd.DataFrame(\n",
    "    index=craftEventCodes,\n",
    "    data={\n",
    "        'eventType' : pd.Categorical([\"add\",\"remove\",\"add\",\"remove\"]),\n",
    "        'column' : pd.Categorical([\"customData.device\",\"customData.device\",\"customData.biobrick\",\"customData.biobrick\"]),\n",
    "    }\n",
    ")"
   ]
  },
  {
   "cell_type": "code",
   "execution_count": 97,
   "metadata": {
    "collapsed": false
   },
   "outputs": [],
   "source": [
    "# Returns a given session's checkpoints, and event count\n",
    "# eventCode != RedMetrics' eventType\n",
    "# eventCodes are craftEventsColumns' index\n",
    "def getSectionsCraftEvents( eventCode, sessionId ):\n",
    "    #print(\"getSectionsCraftEvents(\" + str(eventCode) + \",\" + str(sessionId) + \")\")\n",
    "    sectionsEvents = pd.DataFrame(0, columns=eventSectionsCountColumns, index=range(0))\n",
    "    if eventCode in craftEventCodes:\n",
    "        eventType = craftEventsColumns['eventType'][eventCode]\n",
    "        events = df152[df152['type']==eventType]\n",
    "        events = events[events[craftEventsColumns['column'][eventCode]].notnull()]\n",
    "        #print(\"getSectionsCraftEvents(\" + str(eventCode) + \",\" + str(sessionId) + \"): #events=\" + str(len(events)))\n",
    "        #print(\"events=\" + str(events.head()))\n",
    "        events = events.loc[:,perSessionRelevantColumns]\n",
    "        perSession = events[events['sessionId']==sessionId]\n",
    "        perSession = perSession[perSession['section'].str.startswith('tutorial', na=False)]\n",
    "        sectionsEvents = perSession.groupby(\"section\").size().reset_index(name='count')\n",
    "    else:\n",
    "        print(\"incorrect event code '\" + eventCode + \"'\")\n",
    "    return sectionsEvents"
   ]
  },
  {
   "cell_type": "code",
   "execution_count": 11,
   "metadata": {
    "collapsed": true
   },
   "outputs": [],
   "source": [
    "# eventCode != RedMetrics' eventType\n",
    "# eventCodes are craftEventsColumns' index\n",
    "def getUserSectionsCraftEvents( eventCode, userId ):\n",
    "    #print(\"getUserSectionsCraftEvents(\" + str(eventCode) + \",\" + str(userId) + \")\")\n",
    "    \n",
    "    # Call getSectionsEvents on all sessions associated with user,\n",
    "    # then merge by adding\n",
    "    userSectionsEvents = pd.DataFrame(0, columns=eventSectionsColumns,index=timedSectionsIndex)\n",
    "    \n",
    "    if eventCode in craftEventCodes:\n",
    "        # List of associated sessions\n",
    "        sessionsList = getAllSessionsOfUser( df152, userId, True )\n",
    "        #print(\"sessionsList=\" + str(sessionsList))\n",
    "    \n",
    "        for sessionId in sessionsList['sessionId']:\n",
    "            sessionSectionsEvents = getSectionsCraftEvents( eventCode, sessionId )\n",
    "\n",
    "            # merge\n",
    "            # for each checkpoint reached, update if necessary\n",
    "            for index in sessionSectionsEvents.index:\n",
    "                checkpointName = sessionSectionsEvents['section'][index]\n",
    "                userSectionsEvents['count'][checkpointName] = userSectionsEvents['count'][checkpointName] + sessionSectionsEvents['count'][index]\n",
    "    else:\n",
    "        print(\"incorrect event code '\" + eventCode + \"'\")\n",
    "    return userSectionsEvents"
   ]
  },
  {
   "cell_type": "code",
   "execution_count": 12,
   "metadata": {
    "collapsed": true
   },
   "outputs": [],
   "source": [
    "# eventCode != RedMetrics' eventType\n",
    "# eventCodes are craftEventsColumns' index\n",
    "def getUserSectionsCraftEventsTotal( eventCode, userId ):\n",
    "    #print(\"getUserSectionsCraftEventsTotal(\" + str(eventCode) + \",\" + str(userId) + \")\")\n",
    "    events = getUserSectionsCraftEvents( eventCode, userId )\n",
    "    return events.values.sum()"
   ]
  },
  {
   "cell_type": "markdown",
   "metadata": {},
   "source": [
    "## Generic functions"
   ]
  },
  {
   "cell_type": "markdown",
   "metadata": {},
   "source": [
    "### Generic count"
   ]
  },
  {
   "cell_type": "code",
   "execution_count": 13,
   "metadata": {
    "collapsed": true
   },
   "outputs": [],
   "source": [
    "# Returns a given session's checkpoints, and event count\n",
    "def getSectionsEvents( eventType, sessionId ):\n",
    "    events = df152[df152['type']==eventType].loc[:,perSessionRelevantColumns]\n",
    "    perSession = events[events['sessionId']==sessionId]\n",
    "    perSession = perSession[perSession['section'].str.startswith('tutorial', na=False)]\n",
    "    sectionsEvents = perSession.groupby(\"section\").size().reset_index(name='count')\n",
    "    return sectionsEvents"
   ]
  },
  {
   "cell_type": "code",
   "execution_count": 14,
   "metadata": {
    "collapsed": true
   },
   "outputs": [],
   "source": [
    "def getUserSectionsEvents( eventType, userId ):\n",
    "    \n",
    "    # List of associated sessions\n",
    "    sessionsList = getAllSessionsOfUser( df152, userId, True )\n",
    "    #print(\"sessionsList=\" + str(sessionsList))\n",
    "    \n",
    "    # Call getSectionsEvents on all sessions associated with user,\n",
    "    # then merge by adding\n",
    "    userSectionsEvents = pd.DataFrame(0, columns=eventSectionsColumns,index=timedSectionsIndex)\n",
    "    \n",
    "    for sessionId in sessionsList['sessionId']:\n",
    "        sessionSectionsEvents = getSectionsEvents( eventType, sessionId )\n",
    "        \n",
    "        # merge\n",
    "        # for each checkpoint reached, update if necessary\n",
    "        for index in sessionSectionsEvents.index:\n",
    "            checkpointName = sessionSectionsEvents['section'][index]\n",
    "            userSectionsEvents['count'][checkpointName] = userSectionsEvents['count'][checkpointName] + sessionSectionsEvents['count'][index]\n",
    "    \n",
    "    return userSectionsEvents"
   ]
  },
  {
   "cell_type": "code",
   "execution_count": 15,
   "metadata": {
    "collapsed": true
   },
   "outputs": [],
   "source": [
    "def getUserSectionsEventsTotal( eventType, userId ):\n",
    "    events = getUserSectionsEvents( eventType, userId )\n",
    "    return events.values.sum()"
   ]
  },
  {
   "cell_type": "markdown",
   "metadata": {},
   "source": [
    "### Other"
   ]
  },
  {
   "cell_type": "code",
   "execution_count": 16,
   "metadata": {
    "collapsed": true
   },
   "outputs": [],
   "source": [
    "# Returns a given user's unique reached checkpoints\n",
    "def getUserCheckpoints( userId ):\n",
    "    #print(\"getUserCheckpoints(\" + str(userId) + \")\")\n",
    "\n",
    "    # List of associated sessions\n",
    "    sessionsList = getAllSessionsOfUser( df152, userId, True )\n",
    "    #print(\"sessionsList=\" + str(sessionsList))\n",
    "    \n",
    "    # List all 'reach' events with those sessionIds.\n",
    "    perUser = reachEvents[reachEvents['sessionId'].isin(sessionsList[sessionsList['userId']==userId])]\n",
    "    perUser = perUser[perUser['section'].str.startswith('tutorial', na=False)]\n",
    "    return pd.Series(perUser['section'].unique())\n",
    "\n",
    "\n",
    "def getDiscrepancyGameGForm( userId ):\n",
    "    gformNonVal = getNonValidatedCheckpoints(userId)\n",
    "    gformVal = getValidatedCheckpoints(userId)\n",
    "    gameVal = getUserCheckpoints(userId)\n",
    "    \n",
    "    #sorted, unique values in series1 that are not in series2\n",
    "    #np.setdiff1d(series1.values, series2.values)\n",
    "    \n",
    "    #user has answered questions whose answer they haven't seen in the game\n",
    "    gameNotEnough = pd.Series(np.setdiff1d(gformVal.values, gameVal.values))\n",
    "    \n",
    "    #user has not answered questions whose answer they have seen in the game\n",
    "    gformNotEnough = []\n",
    "    maxGameVal = ''\n",
    "    if gameVal.values.size!=0:\n",
    "        gameVal.values.max()\n",
    "    for nonVal in gformNonVal.values:\n",
    "        if nonVal >= maxGameVal:\n",
    "            gformNotEnough.append(nonVal)    \n",
    "    gformNotEnough = pd.Series(gformNotEnough)\n",
    "    \n",
    "    return (gameNotEnough, gformNotEnough)"
   ]
  },
  {
   "cell_type": "code",
   "execution_count": 96,
   "metadata": {
    "collapsed": false
   },
   "outputs": [],
   "source": [
    "simpleEvents = [\n",
    "    'complete',\n",
    "    'configure',\n",
    "    'craft',\n",
    "    'death',\n",
    "    'equip',\n",
    "    'unequip',\n",
    "    'add',\n",
    "    'remove',\n",
    "    'gotomooc',\n",
    "    'gotourl',\n",
    "    'pickup',\n",
    "    'reach',\n",
    "    'restart',\n",
    "    'selectmenu',\n",
    "    'start',\n",
    "    'switch',\n",
    "    ]\n",
    "\n",
    "# possible events: complete\tconfigure\tcraft\tdeath\tequip\tgotomooc\tgotourl\tpickup\treach\trestart\tselectmenu\tstart\tswitch\tunequip\n",
    "userDataVectorIndex = np.concatenate( ([\n",
    "                                            #gform\n",
    "                                            'score',\n",
    "\n",
    "                                            #game\n",
    "                                            'sessionsCount',\n",
    "                                        ],\n",
    "                                     simpleEvents))"
   ]
  },
  {
   "cell_type": "code",
   "execution_count": 102,
   "metadata": {
    "collapsed": false
   },
   "outputs": [],
   "source": [
    "#allEvents = df152['type'].unique()\n",
    "#allEvents = np.concatenate( simpleEvents, allEvents ).unique()\n",
    "#allUserDataVectorIndex = np.concatenate( userDataVectorIndex, allEvents ).unique()"
   ]
  },
  {
   "cell_type": "code",
   "execution_count": 18,
   "metadata": {
    "collapsed": true
   },
   "outputs": [],
   "source": [
    "def getUserDataVector( userId ):\n",
    "    \n",
    "    columnName = str(userId)\n",
    "    \n",
    "    data = pd.DataFrame(0, columns=[columnName],index=userDataVectorIndex)\n",
    "    \n",
    "    data[columnName]['score'] = getScore( userId )\n",
    "    \n",
    "    data[columnName]['sessionsCount'] = countSessions( df152, userId, False)\n",
    "    \n",
    "    for eventName in simpleEvents:\n",
    "        if eventName in craftEventCodes:\n",
    "            data[columnName][eventName] = getUserSectionsCraftEventsTotal(eventName, userId)\n",
    "        else:\n",
    "            data[columnName][eventName] = getUserSectionsEventsTotal(eventName, userId)\n",
    "    \n",
    "    return data"
   ]
  }
 ],
 "metadata": {
  "kernelspec": {
   "display_name": "Python 3",
   "language": "python",
   "name": "python3"
  },
  "language_info": {
   "codemirror_mode": {
    "name": "ipython",
    "version": 3
   },
   "file_extension": ".py",
   "mimetype": "text/x-python",
   "name": "python",
   "nbconvert_exporter": "python",
   "pygments_lexer": "ipython3",
   "version": "3.5.4"
  }
 },
 "nbformat": 4,
 "nbformat_minor": 0
}
