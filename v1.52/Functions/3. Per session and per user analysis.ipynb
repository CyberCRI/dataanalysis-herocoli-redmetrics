{
 "cells": [
  {
   "cell_type": "markdown",
   "metadata": {
    "collapsed": true
   },
   "source": [
    "# Per session and per user analysis\n",
    "\n",
    "Analysis of users."
   ]
  },
  {
   "cell_type": "markdown",
   "metadata": {},
   "source": [
    "# Table of Contents\n",
    "\n",
    "1.  [Preparation](#preparation)\n",
    "\n",
    "2.  [Constants](#constants)\n",
    "\n",
    "3.  [Functions](#functions)"
   ]
  },
  {
   "cell_type": "markdown",
   "metadata": {},
   "source": [
    "# Preparation\n",
    "<a id=preparation />"
   ]
  },
  {
   "cell_type": "code",
   "execution_count": null,
   "metadata": {},
   "outputs": [],
   "source": [
    "%run \"../Functions/1. Google form analysis.ipynb\""
   ]
  },
  {
   "cell_type": "markdown",
   "metadata": {},
   "source": [
    "# Constants\n",
    "<a id=constants />"
   ]
  },
  {
   "cell_type": "code",
   "execution_count": null,
   "metadata": {},
   "outputs": [],
   "source": [
    "perSessionRelevantColumns = ['sessionId', 'serverTime', 'section']\n",
    "\n",
    "reachEvents = df152[df152['type']=='reach'].loc[:,perSessionRelevantColumns]\n",
    "deathEvents = df152[df152['type']=='death'].loc[:,perSessionRelevantColumns]\n",
    "\n",
    "timedSectionsIndex = [\n",
    "                        'tutorial1.Checkpoint00',\n",
    "                        'tutorial1.Checkpoint01',\n",
    "                        'tutorial1.Checkpoint02',\n",
    "                        'tutorial1.Checkpoint03',\n",
    "                        'tutorial1.Checkpoint04',\n",
    "                        'tutorial1.Checkpoint05',\n",
    "                        'tutorial1.Checkpoint06',\n",
    "                        'tutorial1.Checkpoint07',\n",
    "                        'tutorial1.Checkpoint08',\n",
    "                        'tutorial1.Checkpoint09',\n",
    "                        'tutorial1.Checkpoint10',\n",
    "                        'tutorial1.Checkpoint11',\n",
    "                        'tutorial1.Checkpoint12',\n",
    "                        'tutorial1.Checkpoint13',\n",
    "                        'tutorial1.Checkpoint14',\n",
    "                     ]\n",
    "timedSectionsReachedColumns = ['serverTime', 'firstReached', 'firstCompletionDuration']\n",
    "timedSectionsDeathsColumns = ['deathsCount']\n",
    "eventSectionsCountColumns = ['section', 'count']\n",
    "eventSectionsColumns = ['count']"
   ]
  },
  {
   "cell_type": "markdown",
   "metadata": {},
   "source": [
    "# Functions\n",
    "<a id=functions />"
   ]
  },
  {
   "cell_type": "code",
   "execution_count": null,
   "metadata": {},
   "outputs": [],
   "source": [
    "## Comparison between game and Google form performance"
   ]
  },
  {
   "cell_type": "code",
   "execution_count": null,
   "metadata": {},
   "outputs": [],
   "source": [
    "# Returns a given session's checkpoints, the first server time at which they were reached, and completion time\n",
    "def getCheckpointsTimes( sessionId ):\n",
    "    perSession = reachEvents[reachEvents['sessionId']==sessionId]\n",
    "    perSession = perSession[perSession['section'].str.startswith('tutorial', na=False)]\n",
    "\n",
    "    timedSections = pd.DataFrame(data=0, columns=timedSectionsReachedColumns,index=timedSectionsIndex)\n",
    "    timedSections[\"serverTime\"] = perSession.groupby(\"section\").agg({ \"serverTime\": np.min })\n",
    "    timedSections[\"firstReached\"] = pd.to_datetime(timedSections[\"serverTime\"])\n",
    "    timedSections[\"firstCompletionDuration\"] = timedSections[\"firstReached\"].diff()\n",
    "    \n",
    "    if(timedSections.loc[\"tutorial1.Checkpoint00\",\"firstReached\"] != pd.Timestamp(0)):\n",
    "        timedSections.loc[\"tutorial1.Checkpoint00\",\"firstCompletionDuration\"] = \\\n",
    "        pd.Timedelta(0)\n",
    "    \n",
    "    timedSections[\"serverTime\"] = timedSections[\"serverTime\"].fillna('')\n",
    "    timedSections[\"firstReached\"] = timedSections[\"firstReached\"].fillna(pd.Timestamp(0))\n",
    "    timedSections[\"firstCompletionDuration\"] = timedSections[\"firstCompletionDuration\"].fillna(pd.Timedelta.max)\n",
    "    \n",
    "    return timedSections"
   ]
  },
  {
   "cell_type": "code",
   "execution_count": null,
   "metadata": {},
   "outputs": [],
   "source": [
    "# Returns a given user's checkpoints, the first server time at which they were reached, and completion time\n",
    "def getCheckpointsTimesUser( _userId, _sessionsList = [] ):\n",
    "    # List of associated sessions\n",
    "    if( len(_sessionsList) == 0):\n",
    "        _sessionsList = getAllSessionsOfUser( df152, _userId, True )\n",
    "\n",
    "    # Call getCheckpointsTimes on all sessions associated with user,\n",
    "    # then merge by taking oldest checkpoint completion\n",
    "    _timedSections = pd.DataFrame(data=0, columns=timedSectionsReachedColumns,index=timedSectionsIndex)\n",
    "    _timedSections[\"serverTime\"] = ''\n",
    "    _timedSections[\"firstReached\"] = pd.Timestamp(0)\n",
    "    _timedSections[\"firstCompletionDuration\"] = pd.Timedelta.max\n",
    "\n",
    "    # merge\n",
    "    # for each checkpoint reached, update if necessary\n",
    "    for _sessionId in _sessionsList['sessionId']:        \n",
    "        _thisSessionTimes = getCheckpointsTimes( _sessionId )\n",
    "\n",
    "        for _checkpointName in _thisSessionTimes.index:\n",
    "            if ((_thisSessionTimes.loc[_checkpointName, 'firstReached'] != pd.Timestamp(0))\n",
    "                and\n",
    "                ((_timedSections.loc[_checkpointName, 'firstReached'] == pd.Timestamp(0))\n",
    "                or (_timedSections.loc[_checkpointName, 'firstReached'] > _thisSessionTimes.loc[_checkpointName, 'firstReached']))\n",
    "               ):\n",
    "                _timedSections.loc[_checkpointName, 'serverTime'] = _thisSessionTimes.loc[_checkpointName, 'serverTime']\n",
    "                _timedSections.loc[_checkpointName, 'firstReached'] = _thisSessionTimes.loc[_checkpointName, 'firstReached']\n",
    "                _timedSections.loc[_checkpointName, 'firstCompletionDuration'] = _thisSessionTimes.loc[_checkpointName, 'firstCompletionDuration']\n",
    "\n",
    "    return _timedSections"
   ]
  },
  {
   "cell_type": "code",
   "execution_count": null,
   "metadata": {},
   "outputs": [],
   "source": [
    "# Returns a given session's checkpoints, and death count\n",
    "def getDeaths( sessionId ):\n",
    "    perSession = deathEvents[deathEvents['sessionId']==sessionId]\n",
    "    perSession = perSession[perSession['section'].str.startswith('tutorial', na=False)]\n",
    "    deathsSections = perSession.groupby(\"section\").size().reset_index(name='deathsCount')\n",
    "    return deathsSections"
   ]
  },
  {
   "cell_type": "code",
   "execution_count": null,
   "metadata": {},
   "outputs": [],
   "source": [
    "def getDeathsUser( userId ):\n",
    "    #print(\"getDeathsUser(\" + str(userId) + \")\")\n",
    "    \n",
    "    # List of associated sessions\n",
    "    sessionsList = getAllSessionsOfUser( df152, userId, True )\n",
    "    #print(\"sessionsList=\" + str(sessionsList))\n",
    "    \n",
    "    # Call getDeaths on all sessions associated with user,\n",
    "    # then merge by adding\n",
    "    deathsSections = pd.DataFrame(0, columns=timedSectionsDeathsColumns,index=timedSectionsIndex)\n",
    "    \n",
    "    for sessionId in sessionsList['sessionId']:        \n",
    "        #print(\"processing user \" + str(userId) + \" with session \" + str(sessionId))\n",
    "        deaths = getDeaths( sessionId )\n",
    "        \n",
    "        # merge\n",
    "        # for each checkpoint reached, update if necessary\n",
    "        for index in deaths.index:\n",
    "            #print(\"index=\" + str(index))\n",
    "            checkpointName = deaths['section'][index]\n",
    "            #print(\"checkpointName=\" + str(checkpointName))\n",
    "            #print(\"deaths['deathsCount'][\"+str(index)+\"]=\" + str(deaths['deathsCount'][index]))\n",
    "            \n",
    "            deathsSections['deathsCount'][checkpointName] = deathsSections['deathsCount'][checkpointName] + deaths['deathsCount'][index]\n",
    "    \n",
    "    return deathsSections"
   ]
  },
  {
   "cell_type": "markdown",
   "metadata": {},
   "source": [
    "## Craft events: equip, unequip, add, remove"
   ]
  },
  {
   "cell_type": "markdown",
   "metadata": {},
   "source": [
    "#### event-column association\n",
    "\n",
    "    equip device = 'add' + customData.device\n",
    "    \n",
    "    unequip device = 'remove' + customData.device\n",
    "    \n",
    "    add brick = 'add' + customData.biobrick\n",
    "    \n",
    "    remove brick = 'remove' + customData.biobrick"
   ]
  },
  {
   "cell_type": "code",
   "execution_count": null,
   "metadata": {},
   "outputs": [],
   "source": [
    "# Static data\n",
    "# craftEventsColumns = pd.DataFrame(\n",
    "#    index=list(range(4)),\n",
    "#    data={\n",
    "#        'eventCode' : pd.Categorical([\"equip\",\"unequip\",\"add\",\"remove\"]),\n",
    "#        'eventType' : pd.Categorical([\"add\",\"remove\",\"add\",\"remove\"]),\n",
    "#        'column' : pd.Categorical([\"customData.device\",\"customData.device\",\"customData.biobrick\",\"customData.biobrick\"]),\n",
    "#    }\n",
    "#)\n",
    "#craftEventsColumns"
   ]
  },
  {
   "cell_type": "code",
   "execution_count": null,
   "metadata": {},
   "outputs": [],
   "source": [
    "# Static data\n",
    "craftEventCodes = list([\"equip\",\"unequip\",\"add\",\"remove\"])\n",
    "craftEventsColumns = pd.DataFrame(\n",
    "    index=craftEventCodes,\n",
    "    data={\n",
    "        'eventType' : pd.Categorical([\"add\",\"remove\",\"add\",\"remove\"]),\n",
    "        'column' : pd.Categorical([\"customData.device\",\"customData.device\",\"customData.biobrick\",\"customData.biobrick\"]),\n",
    "    }\n",
    ")"
   ]
  },
  {
   "cell_type": "code",
   "execution_count": null,
   "metadata": {},
   "outputs": [],
   "source": [
    "# Returns a given session's checkpoints, and event count\n",
    "# eventCode != RedMetrics' eventType\n",
    "# eventCodes are craftEventsColumns' index\n",
    "def getSectionsCraftEvents( eventCode, sessionId ):\n",
    "    #print(\"getSectionsCraftEvents(\" + str(eventCode) + \",\" + str(sessionId) + \")\")\n",
    "    sectionsEvents = pd.DataFrame(0, columns=eventSectionsCountColumns, index=range(0))\n",
    "    if eventCode in craftEventCodes:\n",
    "        eventType = craftEventsColumns['eventType'][eventCode]\n",
    "        events = df152[df152['type']==eventType]\n",
    "        events = events[events[craftEventsColumns['column'][eventCode]].notnull()]\n",
    "        #print(\"getSectionsCraftEvents(\" + str(eventCode) + \",\" + str(sessionId) + \"): #events=\" + str(len(events)))\n",
    "        #print(\"events=\" + str(events.head()))\n",
    "        events = events.loc[:,perSessionRelevantColumns]\n",
    "        perSession = events[events['sessionId']==sessionId]\n",
    "        perSession = perSession[perSession['section'].str.startswith('tutorial', na=False)]\n",
    "        sectionsEvents = perSession.groupby(\"section\").size().reset_index(name='count')\n",
    "    else:\n",
    "        print(\"incorrect event code '\" + eventCode + \"'\")\n",
    "    return sectionsEvents"
   ]
  },
  {
   "cell_type": "code",
   "execution_count": null,
   "metadata": {},
   "outputs": [],
   "source": [
    "# eventCode != RedMetrics' eventType\n",
    "# eventCodes are craftEventsColumns' index\n",
    "def getUserSectionsCraftEvents( eventCode, userId, sessionsList = [] ):\n",
    "    #print(\"getUserSectionsCraftEvents(\" + str(eventCode) + \",\" + str(userId) + \")\")\n",
    "    \n",
    "    # Call getSectionsEvents on all sessions associated with user,\n",
    "    # then merge by adding\n",
    "    userSectionsEvents = pd.DataFrame(0, columns=eventSectionsColumns,index=timedSectionsIndex)\n",
    "    \n",
    "    if eventCode in craftEventCodes:\n",
    "        # List of associated sessions\n",
    "        if(len(sessionsList) == 0):\n",
    "            sessionsList = getAllSessionsOfUser( df152, userId, True )\n",
    "        #print(\"sessionsList=\" + str(sessionsList))\n",
    "    \n",
    "        for sessionId in sessionsList['sessionId']:\n",
    "            sessionSectionsEvents = getSectionsCraftEvents( eventCode, sessionId )\n",
    "\n",
    "            # merge\n",
    "            # for each checkpoint reached, update if necessary\n",
    "            for index in sessionSectionsEvents.index:\n",
    "                checkpointName = sessionSectionsEvents['section'][index]\n",
    "                userSectionsEvents['count'][checkpointName] = userSectionsEvents['count'][checkpointName] + sessionSectionsEvents['count'][index]\n",
    "    else:\n",
    "        print(\"incorrect event code '\" + eventCode + \"'\")\n",
    "    return userSectionsEvents"
   ]
  },
  {
   "cell_type": "code",
   "execution_count": null,
   "metadata": {},
   "outputs": [],
   "source": [
    "# eventCode != RedMetrics' eventType\n",
    "# eventCodes are craftEventsColumns' index\n",
    "def getUserSectionsCraftEventsTotal( eventCode, userId, sessionsList = [] ):\n",
    "    #print(\"getUserSectionsCraftEventsTotal(\" + str(eventCode) + \",\" + str(userId) + \")\")\n",
    "    events = getUserSectionsCraftEvents( eventCode, userId, sessionsList )\n",
    "    return events.values.sum()"
   ]
  },
  {
   "cell_type": "markdown",
   "metadata": {},
   "source": [
    "#### craft, no section"
   ]
  },
  {
   "cell_type": "code",
   "execution_count": null,
   "metadata": {},
   "outputs": [],
   "source": [
    "# eventCode != RedMetrics' eventType\n",
    "# eventCodes are craftEventsColumns' index\n",
    "def getUserCraftEventsTotal( eventCode, userId, sessionsList=[] ):\n",
    "    if(len(sessionsList) == 0):\n",
    "        sessionsList = getAllSessionsOfUser( df152, userId, True )\n",
    "\n",
    "    if eventCode in craftEventCodes:\n",
    "        eventType = craftEventsColumns['eventType'][eventCode]\n",
    "        events = df152[df152['type']==eventType]\n",
    "        events = events[events[craftEventsColumns['column'][eventCode]].notnull()]\n",
    "        perSession = events[events['sessionId'].isin(sessionsList['sessionId'])]\n",
    "        return len(perSession)\n",
    "    else:\n",
    "        print(\"incorrect event code '\" + eventCode + \"'\")\n",
    "        return 0"
   ]
  },
  {
   "cell_type": "markdown",
   "metadata": {},
   "source": [
    "## Generic functions"
   ]
  },
  {
   "cell_type": "markdown",
   "metadata": {},
   "source": [
    "### Generic count"
   ]
  },
  {
   "cell_type": "code",
   "execution_count": null,
   "metadata": {},
   "outputs": [],
   "source": [
    "# Returns a given session's checkpoints, and event count\n",
    "def getSectionsEvents( eventType, sessionId ):\n",
    "    events = df152[df152['type']==eventType].loc[:,perSessionRelevantColumns]\n",
    "    perSession = events[events['sessionId']==sessionId]\n",
    "    perSession = perSession[perSession['section'].str.startswith('tutorial', na=False)]\n",
    "    sectionsEvents = perSession.groupby(\"section\").size().reset_index(name='count')\n",
    "    return sectionsEvents"
   ]
  },
  {
   "cell_type": "code",
   "execution_count": null,
   "metadata": {},
   "outputs": [],
   "source": [
    "def getUserSectionsEvents( eventType, userId, sessionsList=[] ):\n",
    "    \n",
    "    # List of associated sessions\n",
    "    if(len(sessionsList) == 0):\n",
    "        sessionsList = getAllSessionsOfUser( df152, userId, True )\n",
    "    \n",
    "    # Call getSectionsEvents on all sessions associated with user,\n",
    "    # then merge by adding\n",
    "    userSectionsEvents = pd.DataFrame(0, columns=eventSectionsColumns,index=timedSectionsIndex)\n",
    "    \n",
    "    for sessionId in sessionsList['sessionId']:\n",
    "        sessionSectionsEvents = getSectionsEvents( eventType, sessionId )\n",
    "        \n",
    "        # merge\n",
    "        # for each checkpoint reached, update if necessary\n",
    "        for index in sessionSectionsEvents.index:\n",
    "            checkpointName = sessionSectionsEvents['section'][index]\n",
    "            userSectionsEvents['count'][checkpointName] = userSectionsEvents['count'][checkpointName] + sessionSectionsEvents['count'][index]\n",
    "    \n",
    "    return userSectionsEvents"
   ]
  },
  {
   "cell_type": "code",
   "execution_count": null,
   "metadata": {},
   "outputs": [],
   "source": [
    "def getUserSectionsEventsTotal( eventType, userId, sessionsList=[] ):\n",
    "    events = getUserSectionsEvents( eventType, userId, sessionsList )\n",
    "    return events.values.sum()"
   ]
  },
  {
   "cell_type": "markdown",
   "metadata": {},
   "source": [
    "### No section events"
   ]
  },
  {
   "cell_type": "code",
   "execution_count": null,
   "metadata": {},
   "outputs": [],
   "source": [
    "def getUserEventsTotal( eventType, userId, sessionsList=[] ):\n",
    "    if(len(sessionsList) == 0):\n",
    "        sessionsList = getAllSessionsOfUser( df152, userId, True )\n",
    "\n",
    "    sessionEvents = df152[df152['type']==eventType]\n",
    "    perSession = sessionEvents[sessionEvents['sessionId'].isin(sessionsList['sessionId'])]\n",
    "    return len(perSession)"
   ]
  },
  {
   "cell_type": "markdown",
   "metadata": {},
   "source": [
    "### Other"
   ]
  },
  {
   "cell_type": "code",
   "execution_count": null,
   "metadata": {},
   "outputs": [],
   "source": [
    "# Returns a given user's unique reached checkpoints\n",
    "def getUserCheckpoints( userId ):\n",
    "    #print(\"getUserCheckpoints(\" + str(userId) + \")\")\n",
    "\n",
    "    # List of associated sessions\n",
    "    sessionsList = getAllSessionsOfUser( df152, userId, True )\n",
    "    #print(\"sessionsList=\" + str(sessionsList))\n",
    "    \n",
    "    # List all 'reach' events with those sessionIds.\n",
    "    perUser = reachEvents[reachEvents['sessionId'].isin(sessionsList[sessionsList['userId']==userId])]\n",
    "    perUser = perUser[perUser['section'].str.startswith('tutorial', na=False)]\n",
    "    return pd.Series(perUser['section'].unique())\n",
    "\n",
    "\n",
    "def getDiscrepancyGameGForm( userId ):\n",
    "    gformNonVal = getNonValidatedCheckpoints(userId)\n",
    "    gformVal = getValidatedCheckpoints(userId)\n",
    "    gameVal = getUserCheckpoints(userId)\n",
    "    \n",
    "    #sorted, unique values in series1 that are not in series2\n",
    "    #np.setdiff1d(series1.values, series2.values)\n",
    "    \n",
    "    #user has answered questions whose answer they haven't seen in the game\n",
    "    gameNotEnough = pd.Series(np.setdiff1d(gformVal.values, gameVal.values))\n",
    "    \n",
    "    #user has not answered questions whose answer they have seen in the game\n",
    "    gformNotEnough = []\n",
    "    maxGameVal = ''\n",
    "    if gameVal.values.size!=0:\n",
    "        gameVal.values.max()\n",
    "    for nonVal in gformNonVal.values:\n",
    "        if nonVal >= maxGameVal:\n",
    "            gformNotEnough.append(nonVal)    \n",
    "    gformNotEnough = pd.Series(gformNotEnough)\n",
    "    \n",
    "    return (gameNotEnough, gformNotEnough)"
   ]
  },
  {
   "cell_type": "code",
   "execution_count": null,
   "metadata": {},
   "outputs": [],
   "source": [
    "# Static data\n",
    "noSectionEventCodes = list(['start', 'selectmenu', 'switch', 'restart',\\\n",
    "                            'gotourl', 'gotomooc', 'configure'])"
   ]
  },
  {
   "cell_type": "code",
   "execution_count": null,
   "metadata": {},
   "outputs": [],
   "source": [
    "simpleEvents = [\n",
    "    'complete',\n",
    "    'configure',\n",
    "    'craft',\n",
    "    'death',\n",
    "    'equip',\n",
    "    'unequip',\n",
    "    'add',\n",
    "    'remove',\n",
    "    'gotomooc',\n",
    "    'gotourl',\n",
    "    'pickup',\n",
    "    'reach',\n",
    "    'restart',\n",
    "    'selectmenu',\n",
    "    'start',\n",
    "    'switch',\n",
    "    ]\n",
    "\n",
    "# possible events: complete\tconfigure\tcraft\tdeath\tequip\tgotomooc\tgotourl\tpickup\treach\trestart\tselectmenu\tstart\tswitch\tunequip\n",
    "\n",
    "userDataVectorIndex = [#game\n",
    "                       'sessionsCount',\n",
    "                       ]\n",
    "\n",
    "for temporality in answerTemporalities:\n",
    "    userDataVectorIndex.append(scoreLabel + temporality)\n",
    "\n",
    "userDataVectorIndex = np.concatenate( (userDataVectorIndex,\n",
    "                                     simpleEvents))"
   ]
  },
  {
   "cell_type": "code",
   "execution_count": null,
   "metadata": {},
   "outputs": [],
   "source": [
    "#allEvents = df152['type'].unique()\n",
    "#allEvents = np.concatenate( simpleEvents, allEvents ).unique()\n",
    "#allUserDataVectorIndex = np.concatenate( userDataVectorIndex, allEvents ).unique()"
   ]
  },
  {
   "cell_type": "code",
   "execution_count": null,
   "metadata": {},
   "outputs": [],
   "source": [
    "# userId is RedMetrics user id\n",
    "# _source is used as correction source, if we want to include answers to these questions\n",
    "def getUserDataVector( userId, isRMId = True, _source = [] ):\n",
    "    \n",
    "    rmUserId = userId\n",
    "    if(not isRMId):\n",
    "        rmUserId = unsafeGetRedMetricsGUIDFormat(userId)\n",
    "    \n",
    "    sessionsList = getAllSessionsOfUser( df152, rmUserId, True )\n",
    "    \n",
    "    columnName = str(rmUserId)\n",
    "    \n",
    "    data = pd.DataFrame(0, columns=[columnName],index=userDataVectorIndex)\n",
    "    \n",
    "    score = getScore( rmUserId )\n",
    "    for _temporality in score.columns:\n",
    "        _score = score.loc[scoreLabel,_temporality]\n",
    "        if(len(_score)>0):\n",
    "            if(_temporality == 'before'):\n",
    "                _score = _score[len(_score)-1]\n",
    "            else:\n",
    "                _score = _score[0]\n",
    "        else:\n",
    "            _score = np.nan\n",
    "        data.loc[scoreLabel+_temporality,columnName] = _score\n",
    "    \n",
    "    data.loc['sessionsCount',columnName] = countSessions( df152, rmUserId, False, sessionsList)\n",
    "    \n",
    "    for eventName in simpleEvents:\n",
    "        if eventName in craftEventCodes:\n",
    "            data.loc[eventName,columnName] = getUserCraftEventsTotal(eventName, rmUserId, sessionsList)\n",
    "        else:\n",
    "            data.loc[eventName,columnName] = getUserEventsTotal(eventName, rmUserId, sessionsList)\n",
    "        \n",
    "    # time spent on each chapter\n",
    "    times = getCheckpointsTimesUser(rmUserId)\n",
    "    \n",
    "    for chapter in timedSectionsIndex:\n",
    "        data.loc[chapter,columnName] = times.loc[chapter,\"firstCompletionDuration\"].total_seconds()\n",
    "        \n",
    "    if(len(_source) != 0):\n",
    "        gfUserId = unsafeGetGFormGUIDFormat(rmUserId)\n",
    "        gformLine = gform[gform[localplayerguidkey] == gfUserId]\n",
    "        afters = gformLine[gformLine['Temporality'] == 'after']\n",
    "        if(len(afters) > 0):\n",
    "            gformLine = afters.iloc[0]\n",
    "        else:\n",
    "            befores = gformLine[gformLine['Temporality'] == 'before']\n",
    "            if(len(befores) > 0):\n",
    "                gformLine = befores.iloc[len(befores)-1]\n",
    "            else:\n",
    "                gformLine = gformLine.iloc[len(gformLine)-1]\n",
    "\n",
    "        # add data from the gform: binary score on each question\n",
    "        gformData = getBinarized(gformLine, _source = _source)\n",
    "    \n",
    "        for question in gformData.index:\n",
    "            data.loc[question,columnName] = gformData.loc[question]\n",
    "        \n",
    "    return data"
   ]
  }
 ],
 "metadata": {
  "kernelspec": {
   "display_name": "Python [conda env:python3]",
   "language": "python",
   "name": "conda-env-python3-py"
  },
  "language_info": {
   "codemirror_mode": {
    "name": "ipython",
    "version": 3
   },
   "file_extension": ".py",
   "mimetype": "text/x-python",
   "name": "python",
   "nbconvert_exporter": "python",
   "pygments_lexer": "ipython3",
   "version": "3.5.4"
  }
 },
 "nbformat": 4,
 "nbformat_minor": 1
}
