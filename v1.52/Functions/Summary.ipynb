{
 "cells": [
  {
   "cell_type": "markdown",
   "metadata": {},
   "source": [
    "# Hero.Coli Data Analysis Summary\n",
    "\n",
    "List of readworthy results from Hero.Coli data analysis."
   ]
  },
  {
   "cell_type": "markdown",
   "metadata": {},
   "source": [
    "## Table of Contents\n",
    "\n",
    "[Preparation](#preparation)\n",
    "1. [Google form analysis](#gform)\n",
    "2. [Game sessions](#sessions)\n",
    "3. [Per session and per user analysis](#peruser)\n",
    "4. [User comparison](#usercomp)\n",
    "5. [Game map](#map)\n",
    "    1. [List of questions](#qlist)\n",
    "    2. [English](#enform)\n",
    "    3. [French](#frform)\n",
    "    4. [Language selection](#langsel)\n",
    "3. [Basic operations](#basicops)\n",
    "4. [Checkpoint / Question matching](#checkquestmatch)"
   ]
  },
  {
   "cell_type": "markdown",
   "metadata": {},
   "source": [
    "# Preparation\n",
    "<a id=preparation />"
   ]
  },
  {
   "cell_type": "code",
   "execution_count": 57,
   "metadata": {
    "collapsed": false,
    "scrolled": true
   },
   "outputs": [
    {
     "name": "stderr",
     "output_type": "stream",
     "text": [
      "C:\\Users\\Mikael\\Anaconda3\\lib\\site-packages\\IPython\\core\\interactiveshell.py:2902: DtypeWarning: Columns (24,32,34) have mixed types. Specify dtype option on import or set low_memory=False.\n",
      "  interactivity=interactivity, compiler=compiler, result=result)\n"
     ]
    }
   ],
   "source": [
    "%run \"../Functions/4. User comparison.ipynb\"\n",
    "%run \"../Utilities/Plot.ipynb\""
   ]
  },
  {
   "cell_type": "markdown",
   "metadata": {},
   "source": [
    "# 1. Google form analysis\n",
    "<a id=gform />"
   ]
  },
  {
   "cell_type": "markdown",
   "metadata": {},
   "source": [
    "# 2. Game sessions\n",
    "<a id=sessions />"
   ]
  },
  {
   "cell_type": "markdown",
   "metadata": {},
   "source": [
    "# 3. Per session and per user analysis\n",
    "<a id=peruser />"
   ]
  },
  {
   "cell_type": "markdown",
   "metadata": {},
   "source": [
    "# 4. User comparison\n",
    "<a id=usercomp />"
   ]
  },
  {
   "cell_type": "markdown",
   "metadata": {},
   "source": [
    "# 5. Game map\n",
    "<a id=map />"
   ]
  },
  {
   "cell_type": "markdown",
   "metadata": {},
   "source": [
    "# Player filtering"
   ]
  },
  {
   "cell_type": "code",
   "execution_count": 58,
   "metadata": {
    "collapsed": false
   },
   "outputs": [
    {
     "data": {
      "text/html": [
       "<div>\n",
       "<style>\n",
       "    .dataframe thead tr:only-child th {\n",
       "        text-align: right;\n",
       "    }\n",
       "\n",
       "    .dataframe thead th {\n",
       "        text-align: left;\n",
       "    }\n",
       "\n",
       "    .dataframe tbody tr th {\n",
       "        vertical-align: top;\n",
       "    }\n",
       "</style>\n",
       "<table border=\"1\" class=\"dataframe\">\n",
       "  <thead>\n",
       "    <tr style=\"text-align: right;\">\n",
       "      <th></th>\n",
       "      <th>coordinates</th>\n",
       "      <th>customData</th>\n",
       "      <th>customData.biobrick</th>\n",
       "      <th>customData.chapter</th>\n",
       "      <th>customData.controls</th>\n",
       "      <th>customData.count</th>\n",
       "      <th>customData.device</th>\n",
       "      <th>customData.devices</th>\n",
       "      <th>customData.dnabit</th>\n",
       "      <th>customData.duration</th>\n",
       "      <th>...</th>\n",
       "      <th>playerCountry</th>\n",
       "      <th>playerCustomData</th>\n",
       "      <th>playerExternalId</th>\n",
       "      <th>playerGender</th>\n",
       "      <th>sessionId</th>\n",
       "      <th>playerRegion</th>\n",
       "      <th>section</th>\n",
       "      <th>serverTime</th>\n",
       "      <th>type</th>\n",
       "      <th>userTime</th>\n",
       "    </tr>\n",
       "  </thead>\n",
       "  <tbody>\n",
       "    <tr>\n",
       "      <th>0</th>\n",
       "      <td>[-229, -608]</td>\n",
       "      <td>NaN</td>\n",
       "      <td>NaN</td>\n",
       "      <td>NaN</td>\n",
       "      <td>NaN</td>\n",
       "      <td>NaN</td>\n",
       "      <td>NaN</td>\n",
       "      <td>NaN</td>\n",
       "      <td>NaN</td>\n",
       "      <td>NaN</td>\n",
       "      <td>...</td>\n",
       "      <td>NaN</td>\n",
       "      <td>NaN</td>\n",
       "      <td>NaN</td>\n",
       "      <td>NaN</td>\n",
       "      <td>b724663c-b32a-4079-9f8f-896762b272d1</td>\n",
       "      <td>NaN</td>\n",
       "      <td>NaN</td>\n",
       "      <td>2017-04-12T08:57:48.448Z</td>\n",
       "      <td>start</td>\n",
       "      <td>2017-04-12T08:57:49.752Z</td>\n",
       "    </tr>\n",
       "  </tbody>\n",
       "</table>\n",
       "<p>1 rows × 38 columns</p>\n",
       "</div>"
      ],
      "text/plain": [
       "    coordinates customData customData.biobrick customData.chapter  \\\n",
       "0  [-229, -608]        NaN                 NaN                NaN   \n",
       "\n",
       "  customData.controls customData.count customData.device customData.devices  \\\n",
       "0                 NaN              NaN               NaN                NaN   \n",
       "\n",
       "  customData.dnabit customData.duration            ...             \\\n",
       "0               NaN                 NaN            ...              \n",
       "\n",
       "  playerCountry playerCustomData playerExternalId playerGender  \\\n",
       "0           NaN              NaN              NaN          NaN   \n",
       "\n",
       "                              sessionId playerRegion section  \\\n",
       "0  b724663c-b32a-4079-9f8f-896762b272d1          NaN     NaN   \n",
       "\n",
       "                 serverTime   type                  userTime  \n",
       "0  2017-04-12T08:57:48.448Z  start  2017-04-12T08:57:49.752Z  \n",
       "\n",
       "[1 rows x 38 columns]"
      ]
     },
     "execution_count": 58,
     "metadata": {},
     "output_type": "execute_result"
    }
   ],
   "source": [
    "#players = df152.loc[:, playerFilteringColumns]\n",
    "players = safeGetNormalizedRedMetricsCSV( df152 )\n",
    "players.head(1)"
   ]
  },
  {
   "cell_type": "code",
   "execution_count": 59,
   "metadata": {
    "collapsed": false,
    "scrolled": true
   },
   "outputs": [],
   "source": [
    "#players = players.dropna(how='any')\n",
    "#players.head(1)\n",
    "#df152.head(1)"
   ]
  },
  {
   "cell_type": "code",
   "execution_count": 60,
   "metadata": {
    "collapsed": false
   },
   "outputs": [
    {
     "data": {
      "text/plain": [
       "23813"
      ]
     },
     "execution_count": 60,
     "metadata": {},
     "output_type": "execute_result"
    }
   ],
   "source": [
    "players.shape[0]"
   ]
  },
  {
   "cell_type": "code",
   "execution_count": 61,
   "metadata": {
    "collapsed": false
   },
   "outputs": [
    {
     "data": {
      "text/plain": [
       "23797"
      ]
     },
     "execution_count": 61,
     "metadata": {},
     "output_type": "execute_result"
    }
   ],
   "source": [
    "players = players[~players['userId'].isin(excludedIDs)];\n",
    "players.shape[0]"
   ]
  },
  {
   "cell_type": "markdown",
   "metadata": {},
   "source": [
    "## Sessions (filtered)"
   ]
  },
  {
   "cell_type": "code",
   "execution_count": 62,
   "metadata": {
    "collapsed": false
   },
   "outputs": [
    {
     "data": {
      "text/plain": [
       "428"
      ]
     },
     "execution_count": 62,
     "metadata": {},
     "output_type": "execute_result"
    }
   ],
   "source": [
    "sessionscount = players[\"sessionId\"].nunique()\n",
    "sessionscount"
   ]
  },
  {
   "cell_type": "markdown",
   "metadata": {},
   "source": [
    "## Sessions of dev IDs"
   ]
  },
  {
   "cell_type": "code",
   "execution_count": null,
   "metadata": {
    "collapsed": true
   },
   "outputs": [],
   "source": []
  },
  {
   "cell_type": "markdown",
   "metadata": {},
   "source": [
    "## Unique players"
   ]
  },
  {
   "cell_type": "code",
   "execution_count": 63,
   "metadata": {
    "collapsed": false,
    "scrolled": true
   },
   "outputs": [
    {
     "data": {
      "text/plain": [
       "244"
      ]
     },
     "execution_count": 63,
     "metadata": {},
     "output_type": "execute_result"
    }
   ],
   "source": [
    "uniqueplayers = players['userId']\n",
    "uniqueplayers = uniqueplayers.unique()\n",
    "uniqueplayers.shape[0]"
   ]
  },
  {
   "cell_type": "code",
   "execution_count": 64,
   "metadata": {
    "collapsed": false,
    "scrolled": false
   },
   "outputs": [],
   "source": [
    "#uniqueplayers"
   ]
  },
  {
   "cell_type": "markdown",
   "metadata": {},
   "source": [
    "## Unique platforms"
   ]
  },
  {
   "cell_type": "code",
   "execution_count": 65,
   "metadata": {
    "collapsed": false,
    "scrolled": true
   },
   "outputs": [
    {
     "data": {
      "text/plain": [
       "array(['\"webglplayer\"', nan, '\"windowsplayer\"', '\"windowseditor\"',\n",
       "       '\"android\"', '\"osxeditor\"', '\"linuxplayer\"', '\"osxplayer\"'], dtype=object)"
      ]
     },
     "execution_count": 65,
     "metadata": {},
     "output_type": "execute_result"
    }
   ],
   "source": [
    "uniqueplatforms = players['customData.platform'].unique()\n",
    "uniqueplatforms"
   ]
  },
  {
   "cell_type": "markdown",
   "metadata": {},
   "source": [
    "## Checkpoints passed / furthest checkpoint (unfiltered)"
   ]
  },
  {
   "cell_type": "code",
   "execution_count": 66,
   "metadata": {
    "collapsed": false
   },
   "outputs": [
    {
     "data": {
      "text/html": [
       "<div>\n",
       "<style>\n",
       "    .dataframe thead tr:only-child th {\n",
       "        text-align: right;\n",
       "    }\n",
       "\n",
       "    .dataframe thead th {\n",
       "        text-align: left;\n",
       "    }\n",
       "\n",
       "    .dataframe tbody tr th {\n",
       "        vertical-align: top;\n",
       "    }\n",
       "</style>\n",
       "<table border=\"1\" class=\"dataframe\">\n",
       "  <thead>\n",
       "    <tr style=\"text-align: right;\">\n",
       "      <th></th>\n",
       "      <th>section</th>\n",
       "    </tr>\n",
       "    <tr>\n",
       "      <th>sessionId</th>\n",
       "      <th></th>\n",
       "    </tr>\n",
       "  </thead>\n",
       "  <tbody>\n",
       "    <tr>\n",
       "      <th>002caea8-9a7f-436e-be1d-aa15eb0e422b</th>\n",
       "      <td>tutorial1.Checkpoint14</td>\n",
       "    </tr>\n",
       "    <tr>\n",
       "      <th>01eefc09-2d17-4669-9b66-1873ded5ba7e</th>\n",
       "      <td>tutorial1.Checkpoint00</td>\n",
       "    </tr>\n",
       "    <tr>\n",
       "      <th>0229d38c-72e9-47d2-b5eb-9adc774e9be9</th>\n",
       "      <td>tutorial1.Checkpoint00</td>\n",
       "    </tr>\n",
       "    <tr>\n",
       "      <th>02c951e6-1e39-4ed7-a884-acc38757a473</th>\n",
       "      <td>tutorial1.Checkpoint00</td>\n",
       "    </tr>\n",
       "    <tr>\n",
       "      <th>0405e80c-bfb5-4c63-af00-ed60f6e80c55</th>\n",
       "      <td>tutorial1.Checkpoint00</td>\n",
       "    </tr>\n",
       "  </tbody>\n",
       "</table>\n",
       "</div>"
      ],
      "text/plain": [
       "                                                     section\n",
       "sessionId                                                   \n",
       "002caea8-9a7f-436e-be1d-aa15eb0e422b  tutorial1.Checkpoint14\n",
       "01eefc09-2d17-4669-9b66-1873ded5ba7e  tutorial1.Checkpoint00\n",
       "0229d38c-72e9-47d2-b5eb-9adc774e9be9  tutorial1.Checkpoint00\n",
       "02c951e6-1e39-4ed7-a884-acc38757a473  tutorial1.Checkpoint00\n",
       "0405e80c-bfb5-4c63-af00-ed60f6e80c55  tutorial1.Checkpoint00"
      ]
     },
     "execution_count": 66,
     "metadata": {},
     "output_type": "execute_result"
    }
   ],
   "source": [
    "checkpoints = df152.loc[:, checkpointsRelevantColumns]\n",
    "checkpoints = checkpoints[checkpoints['type']=='reach'].loc[:,['section','sessionId']]\n",
    "checkpoints = checkpoints[checkpoints['section'].str.startswith('tutorial', na=False)]\n",
    "checkpoints = checkpoints.groupby(\"sessionId\")\n",
    "checkpoints = checkpoints.max()\n",
    "checkpoints.head()"
   ]
  },
  {
   "cell_type": "code",
   "execution_count": 67,
   "metadata": {
    "collapsed": false,
    "scrolled": true
   },
   "outputs": [
    {
     "name": "stdout",
     "output_type": "stream",
     "text": [
      "\n",
      "maxCheckpointCounts=\n",
      "Start                     None\n",
      "tutorial1.Checkpoint00      41\n",
      "tutorial1.Checkpoint01      85\n",
      "tutorial1.Checkpoint02      13\n",
      "tutorial1.Checkpoint03       4\n",
      "tutorial1.Checkpoint04      29\n",
      "tutorial1.Checkpoint05       5\n",
      "tutorial1.Checkpoint06       8\n",
      "tutorial1.Checkpoint07       2\n",
      "tutorial1.Checkpoint08       2\n",
      "tutorial1.Checkpoint09       1\n",
      "tutorial1.Checkpoint10       1\n",
      "tutorial1.Checkpoint13       3\n",
      "tutorial1.Checkpoint14      29\n",
      "Name: maxCheckpoint, dtype: object\n"
     ]
    }
   ],
   "source": [
    "maxCheckpointTable = pd.DataFrame({\"maxCheckpoint\" : checkpoints.values.flatten()})\n",
    "maxCheckpointCounts = maxCheckpointTable[\"maxCheckpoint\"].value_counts()\n",
    "maxCheckpointCounts['Start'] = None\n",
    "maxCheckpointCounts = maxCheckpointCounts.sort_index()\n",
    "print('\\nmaxCheckpointCounts=\\n{0}'.format(str(maxCheckpointCounts)))"
   ]
  },
  {
   "cell_type": "code",
   "execution_count": 68,
   "metadata": {
    "collapsed": false,
    "scrolled": false
   },
   "outputs": [
    {
     "data": {
      "text/plain": [
       "223.0"
      ]
     },
     "execution_count": 68,
     "metadata": {},
     "output_type": "execute_result"
    }
   ],
   "source": [
    "maxCheckpointCountsTable = pd.DataFrame({\"maxCheckpoint\" : maxCheckpointCounts.values})\n",
    "maxCheckpointCountsTableCount = maxCheckpointCountsTable.sum(0)[0]\n",
    "maxCheckpointCountsTableCount"
   ]
  },
  {
   "cell_type": "code",
   "execution_count": 69,
   "metadata": {
    "collapsed": false,
    "scrolled": true
   },
   "outputs": [
    {
     "data": {
      "text/plain": [
       "section    223\n",
       "dtype: int64"
      ]
     },
     "execution_count": 69,
     "metadata": {},
     "output_type": "execute_result"
    }
   ],
   "source": [
    "checkpoints.count()"
   ]
  },
  {
   "cell_type": "code",
   "execution_count": 70,
   "metadata": {
    "collapsed": false
   },
   "outputs": [
    {
     "data": {
      "text/html": [
       "<div>\n",
       "<style>\n",
       "    .dataframe thead tr:only-child th {\n",
       "        text-align: right;\n",
       "    }\n",
       "\n",
       "    .dataframe thead th {\n",
       "        text-align: left;\n",
       "    }\n",
       "\n",
       "    .dataframe tbody tr th {\n",
       "        vertical-align: top;\n",
       "    }\n",
       "</style>\n",
       "<table border=\"1\" class=\"dataframe\">\n",
       "  <thead>\n",
       "    <tr style=\"text-align: right;\">\n",
       "      <th></th>\n",
       "      <th>maxCheckpoint</th>\n",
       "    </tr>\n",
       "  </thead>\n",
       "  <tbody>\n",
       "    <tr>\n",
       "      <th>0</th>\n",
       "      <td>None</td>\n",
       "    </tr>\n",
       "    <tr>\n",
       "      <th>1</th>\n",
       "      <td>41</td>\n",
       "    </tr>\n",
       "    <tr>\n",
       "      <th>2</th>\n",
       "      <td>85</td>\n",
       "    </tr>\n",
       "    <tr>\n",
       "      <th>3</th>\n",
       "      <td>13</td>\n",
       "    </tr>\n",
       "    <tr>\n",
       "      <th>4</th>\n",
       "      <td>4</td>\n",
       "    </tr>\n",
       "  </tbody>\n",
       "</table>\n",
       "</div>"
      ],
      "text/plain": [
       "  maxCheckpoint\n",
       "0          None\n",
       "1            41\n",
       "2            85\n",
       "3            13\n",
       "4             4"
      ]
     },
     "execution_count": 70,
     "metadata": {},
     "output_type": "execute_result"
    }
   ],
   "source": [
    "maxCheckpointCountsTable.head()"
   ]
  },
  {
   "cell_type": "code",
   "execution_count": 71,
   "metadata": {
    "collapsed": false
   },
   "outputs": [
    {
     "data": {
      "text/html": [
       "<div>\n",
       "<style>\n",
       "    .dataframe thead tr:only-child th {\n",
       "        text-align: right;\n",
       "    }\n",
       "\n",
       "    .dataframe thead th {\n",
       "        text-align: left;\n",
       "    }\n",
       "\n",
       "    .dataframe tbody tr th {\n",
       "        vertical-align: top;\n",
       "    }\n",
       "</style>\n",
       "<table border=\"1\" class=\"dataframe\">\n",
       "  <thead>\n",
       "    <tr style=\"text-align: right;\">\n",
       "      <th></th>\n",
       "      <th>maxCheckpoint</th>\n",
       "    </tr>\n",
       "  </thead>\n",
       "  <tbody>\n",
       "    <tr>\n",
       "      <th>count</th>\n",
       "      <td>13</td>\n",
       "    </tr>\n",
       "    <tr>\n",
       "      <th>unique</th>\n",
       "      <td>10</td>\n",
       "    </tr>\n",
       "    <tr>\n",
       "      <th>top</th>\n",
       "      <td>29</td>\n",
       "    </tr>\n",
       "    <tr>\n",
       "      <th>freq</th>\n",
       "      <td>2</td>\n",
       "    </tr>\n",
       "  </tbody>\n",
       "</table>\n",
       "</div>"
      ],
      "text/plain": [
       "        maxCheckpoint\n",
       "count              13\n",
       "unique             10\n",
       "top                29\n",
       "freq                2"
      ]
     },
     "execution_count": 71,
     "metadata": {},
     "output_type": "execute_result"
    }
   ],
   "source": [
    "maxCheckpointCountsTable.describe()"
   ]
  },
  {
   "cell_type": "code",
   "execution_count": 72,
   "metadata": {
    "collapsed": false,
    "scrolled": false
   },
   "outputs": [
    {
     "data": {
      "image/png": "[encoded data removed]",
      "text/plain": [
       "<matplotlib.figure.Figure at 0x14ea6cf8>"
      ]
     },
     "metadata": {},
     "output_type": "display_data"
    },
    {
     "data": {
      "image/png": "[encoded data removed]",
      "text/plain": [
       "<matplotlib.figure.Figure at 0x11d00898>"
      ]
     },
     "metadata": {},
     "output_type": "display_data"
    }
   ],
   "source": [
    "genericTreatment( maxCheckpointCountsTable, \"best checkpoint reached\", \"game sessions\", 0, maxCheckpointCountsTableCount, False, True )"
   ]
  },
  {
   "cell_type": "markdown",
   "metadata": {},
   "source": [
    "## Session starts"
   ]
  },
  {
   "cell_type": "code",
   "execution_count": 73,
   "metadata": {
    "collapsed": false
   },
   "outputs": [],
   "source": [
    "#starts = df152.loc[:, checkpointsRelevantColumns]\n",
    "#starts = checkpoints[checkpoints['type']=='start'].loc[:,['playerId']]\n",
    "#starts = checkpoints[checkpoints['section'].str.startswith('tutorial', na=False)]\n",
    "#starts = checkpoints.groupby(\"playerId\")\n",
    "#starts = checkpoints.max()\n",
    "#starts.head()"
   ]
  },
  {
   "cell_type": "code",
   "execution_count": 74,
   "metadata": {
    "collapsed": false
   },
   "outputs": [
    {
     "name": "stdout",
     "output_type": "stream",
     "text": [
      "\n",
      "fullMaxCheckpointCountsTable=\n",
      "   fullMaxCheckpoint\n",
      "0                205\n",
      "1                 41\n",
      "2                 85\n",
      "3                 13\n",
      "4                  4\n",
      "5                 29\n",
      "6                  5\n",
      "7                  8\n",
      "8                  2\n",
      "9                  2\n",
      "10                 1\n",
      "11                 1\n",
      "12                 3\n",
      "13                29\n"
     ]
    },
    {
     "data": {
      "text/html": [
       "<div>\n",
       "<style>\n",
       "    .dataframe thead tr:only-child th {\n",
       "        text-align: right;\n",
       "    }\n",
       "\n",
       "    .dataframe thead th {\n",
       "        text-align: left;\n",
       "    }\n",
       "\n",
       "    .dataframe tbody tr th {\n",
       "        vertical-align: top;\n",
       "    }\n",
       "</style>\n",
       "<table border=\"1\" class=\"dataframe\">\n",
       "  <thead>\n",
       "    <tr style=\"text-align: right;\">\n",
       "      <th></th>\n",
       "      <th>fullMaxCheckpoint</th>\n",
       "    </tr>\n",
       "  </thead>\n",
       "  <tbody>\n",
       "    <tr>\n",
       "      <th>count</th>\n",
       "      <td>14.0</td>\n",
       "    </tr>\n",
       "    <tr>\n",
       "      <th>unique</th>\n",
       "      <td>11.0</td>\n",
       "    </tr>\n",
       "    <tr>\n",
       "      <th>top</th>\n",
       "      <td>29.0</td>\n",
       "    </tr>\n",
       "    <tr>\n",
       "      <th>freq</th>\n",
       "      <td>2.0</td>\n",
       "    </tr>\n",
       "  </tbody>\n",
       "</table>\n",
       "</div>"
      ],
      "text/plain": [
       "        fullMaxCheckpoint\n",
       "count                14.0\n",
       "unique               11.0\n",
       "top                  29.0\n",
       "freq                  2.0"
      ]
     },
     "execution_count": 74,
     "metadata": {},
     "output_type": "execute_result"
    },
    {
     "data": {
      "image/png": "[encoded data removed]",
      "text/plain": [
       "<matplotlib.figure.Figure at 0x14a5e400>"
      ]
     },
     "metadata": {},
     "output_type": "display_data"
    },
    {
     "data": {
      "image/png": "[encoded data removed]",
      "text/plain": [
       "<matplotlib.figure.Figure at 0x10d780f0>"
      ]
     },
     "metadata": {},
     "output_type": "display_data"
    }
   ],
   "source": [
    "startTutorial1Count = sessionscount\n",
    "neverReachedGameSessionCount = startTutorial1Count - maxCheckpointCountsTableCount\n",
    "fullMaxCheckpointCounts = maxCheckpointCounts\n",
    "fullMaxCheckpointCounts['Start'] = neverReachedGameSessionCount\n",
    "fullMaxCheckpointCountsTable = pd.DataFrame({\"fullMaxCheckpoint\" : fullMaxCheckpointCounts.values})\n",
    "\n",
    "genericTreatment( fullMaxCheckpointCountsTable, \"best checkpoint reached\", \"game sessions\", 0, startTutorial1Count, False, True )\n",
    "\n",
    "print('\\nfullMaxCheckpointCountsTable=\\n{0}'.format(fullMaxCheckpointCountsTable))\n",
    "fullMaxCheckpointCountsTable.describe()"
   ]
  },
  {
   "cell_type": "markdown",
   "metadata": {},
   "source": [
    "## Duration"
   ]
  },
  {
   "cell_type": "markdown",
   "metadata": {},
   "source": [
    "Duration of playing sessions"
   ]
  },
  {
   "cell_type": "code",
   "execution_count": 75,
   "metadata": {
    "collapsed": false,
    "scrolled": false
   },
   "outputs": [
    {
     "data": {
      "text/html": [
       "<div>\n",
       "<style>\n",
       "    .dataframe thead tr:only-child th {\n",
       "        text-align: right;\n",
       "    }\n",
       "\n",
       "    .dataframe thead th {\n",
       "        text-align: left;\n",
       "    }\n",
       "\n",
       "    .dataframe tbody tr th {\n",
       "        vertical-align: top;\n",
       "    }\n",
       "</style>\n",
       "<table border=\"1\" class=\"dataframe\">\n",
       "  <thead>\n",
       "    <tr>\n",
       "      <th></th>\n",
       "      <th colspan=\"2\" halign=\"left\">serverTime</th>\n",
       "      <th>duration</th>\n",
       "    </tr>\n",
       "    <tr>\n",
       "      <th></th>\n",
       "      <th>amin</th>\n",
       "      <th>amax</th>\n",
       "      <th></th>\n",
       "    </tr>\n",
       "    <tr>\n",
       "      <th>sessionId</th>\n",
       "      <th></th>\n",
       "      <th></th>\n",
       "      <th></th>\n",
       "    </tr>\n",
       "  </thead>\n",
       "  <tbody>\n",
       "    <tr>\n",
       "      <th>b5ab445a-56c9-4c5b-a6d0-86e8a286cd81</th>\n",
       "      <td>2017-04-28T09:54:53.585Z</td>\n",
       "      <td>2017-06-27T13:39:05.834Z</td>\n",
       "      <td>60 days 03:44:12</td>\n",
       "    </tr>\n",
       "    <tr>\n",
       "      <th>5d2d172d-1f63-4519-ac8b-8528acbd4843</th>\n",
       "      <td>2017-08-03T05:03:00.472Z</td>\n",
       "      <td>2017-08-05T06:11:57.806Z</td>\n",
       "      <td>2 days 01:08:57</td>\n",
       "    </tr>\n",
       "    <tr>\n",
       "      <th>e3c8f8bb-0d97-48db-a3e4-c7c0cbf3f6ba</th>\n",
       "      <td>2017-08-16T14:56:03.494Z</td>\n",
       "      <td>2017-08-18T13:00:57.281Z</td>\n",
       "      <td>1 days 22:04:53</td>\n",
       "    </tr>\n",
       "    <tr>\n",
       "      <th>c79eafe9-a49b-4401-8a0c-3ab212648ad3</th>\n",
       "      <td>2017-06-14T14:57:50.914Z</td>\n",
       "      <td>2017-06-15T16:50:31.180Z</td>\n",
       "      <td>1 days 01:52:40</td>\n",
       "    </tr>\n",
       "    <tr>\n",
       "      <th>ec968ba0-110c-4f80-930e-12911fe442c7</th>\n",
       "      <td>2017-07-04T11:25:26.450Z</td>\n",
       "      <td>2017-07-05T12:34:19.476Z</td>\n",
       "      <td>1 days 01:08:53</td>\n",
       "    </tr>\n",
       "  </tbody>\n",
       "</table>\n",
       "</div>"
      ],
      "text/plain": [
       "                                                    serverTime  \\\n",
       "                                                          amin   \n",
       "sessionId                                                        \n",
       "b5ab445a-56c9-4c5b-a6d0-86e8a286cd81  2017-04-28T09:54:53.585Z   \n",
       "5d2d172d-1f63-4519-ac8b-8528acbd4843  2017-08-03T05:03:00.472Z   \n",
       "e3c8f8bb-0d97-48db-a3e4-c7c0cbf3f6ba  2017-08-16T14:56:03.494Z   \n",
       "c79eafe9-a49b-4401-8a0c-3ab212648ad3  2017-06-14T14:57:50.914Z   \n",
       "ec968ba0-110c-4f80-930e-12911fe442c7  2017-07-04T11:25:26.450Z   \n",
       "\n",
       "                                                                \\\n",
       "                                                          amax   \n",
       "sessionId                                                        \n",
       "b5ab445a-56c9-4c5b-a6d0-86e8a286cd81  2017-06-27T13:39:05.834Z   \n",
       "5d2d172d-1f63-4519-ac8b-8528acbd4843  2017-08-05T06:11:57.806Z   \n",
       "e3c8f8bb-0d97-48db-a3e4-c7c0cbf3f6ba  2017-08-18T13:00:57.281Z   \n",
       "c79eafe9-a49b-4401-8a0c-3ab212648ad3  2017-06-15T16:50:31.180Z   \n",
       "ec968ba0-110c-4f80-930e-12911fe442c7  2017-07-05T12:34:19.476Z   \n",
       "\n",
       "                                             duration  \n",
       "                                                       \n",
       "sessionId                                              \n",
       "b5ab445a-56c9-4c5b-a6d0-86e8a286cd81 60 days 03:44:12  \n",
       "5d2d172d-1f63-4519-ac8b-8528acbd4843  2 days 01:08:57  \n",
       "e3c8f8bb-0d97-48db-a3e4-c7c0cbf3f6ba  1 days 22:04:53  \n",
       "c79eafe9-a49b-4401-8a0c-3ab212648ad3  1 days 01:52:40  \n",
       "ec968ba0-110c-4f80-930e-12911fe442c7  1 days 01:08:53  "
      ]
     },
     "execution_count": 75,
     "metadata": {},
     "output_type": "execute_result"
    }
   ],
   "source": [
    "durations = players.groupby(\"sessionId\").agg({ \"serverTime\": [ np.min, np.max  ] })\n",
    "durations[\"duration\"] = pd.to_datetime(durations[\"serverTime\"][\"amax\"]) - pd.to_datetime(durations[\"serverTime\"][\"amin\"])\n",
    "durations[\"duration\"] = durations[\"duration\"].map(lambda x: np.timedelta64(x, 's'))\n",
    "durations = durations.sort_values(by=['duration'], ascending=[False])\n",
    "durations.head()"
   ]
  },
  {
   "cell_type": "markdown",
   "metadata": {},
   "source": [
    "Duration plot"
   ]
  },
  {
   "cell_type": "code",
   "execution_count": 76,
   "metadata": {
    "collapsed": false,
    "scrolled": false
   },
   "outputs": [
    {
     "data": {
      "text/html": [
       "<div>\n",
       "<style>\n",
       "    .dataframe thead tr:only-child th {\n",
       "        text-align: right;\n",
       "    }\n",
       "\n",
       "    .dataframe thead th {\n",
       "        text-align: left;\n",
       "    }\n",
       "\n",
       "    .dataframe tbody tr th {\n",
       "        vertical-align: top;\n",
       "    }\n",
       "</style>\n",
       "<table border=\"1\" class=\"dataframe\">\n",
       "  <thead>\n",
       "    <tr>\n",
       "      <th></th>\n",
       "      <th colspan=\"2\" halign=\"left\">serverTime</th>\n",
       "      <th>duration</th>\n",
       "      <th>duration_seconds</th>\n",
       "      <th>duration_rank</th>\n",
       "    </tr>\n",
       "    <tr>\n",
       "      <th></th>\n",
       "      <th>amin</th>\n",
       "      <th>amax</th>\n",
       "      <th></th>\n",
       "      <th></th>\n",
       "      <th></th>\n",
       "    </tr>\n",
       "    <tr>\n",
       "      <th>sessionId</th>\n",
       "      <th></th>\n",
       "      <th></th>\n",
       "      <th></th>\n",
       "      <th></th>\n",
       "      <th></th>\n",
       "    </tr>\n",
       "  </thead>\n",
       "  <tbody>\n",
       "    <tr>\n",
       "      <th>ec968ba0-110c-4f80-930e-12911fe442c7</th>\n",
       "      <td>2017-07-04T11:25:26.450Z</td>\n",
       "      <td>2017-07-05T12:34:19.476Z</td>\n",
       "      <td>1 days 01:08:53</td>\n",
       "      <td>4133</td>\n",
       "      <td>37.0</td>\n",
       "    </tr>\n",
       "    <tr>\n",
       "      <th>c612ae53-4a70-473f-aa35-ace3a5e797f0</th>\n",
       "      <td>2017-08-13T14:47:30.493Z</td>\n",
       "      <td>2017-08-13T23:44:15.289Z</td>\n",
       "      <td>0 days 08:56:44</td>\n",
       "      <td>32204</td>\n",
       "      <td>1.0</td>\n",
       "    </tr>\n",
       "    <tr>\n",
       "      <th>ee11f881-6206-4fa9-93e4-4156617ec72e</th>\n",
       "      <td>2017-06-21T15:40:26.577Z</td>\n",
       "      <td>2017-06-21T22:49:34.830Z</td>\n",
       "      <td>0 days 07:09:08</td>\n",
       "      <td>25748</td>\n",
       "      <td>2.0</td>\n",
       "    </tr>\n",
       "    <tr>\n",
       "      <th>3ac0a2db-f21d-4bd0-bd9e-3a77265f19f6</th>\n",
       "      <td>2017-06-27T07:44:41.963Z</td>\n",
       "      <td>2017-06-27T12:15:03.612Z</td>\n",
       "      <td>0 days 04:30:21</td>\n",
       "      <td>16221</td>\n",
       "      <td>3.0</td>\n",
       "    </tr>\n",
       "    <tr>\n",
       "      <th>afd19d25-3293-4ae2-bc2b-5eb8de17f66d</th>\n",
       "      <td>2017-06-23T10:59:50.764Z</td>\n",
       "      <td>2017-06-23T15:28:28.423Z</td>\n",
       "      <td>0 days 04:28:37</td>\n",
       "      <td>16117</td>\n",
       "      <td>4.0</td>\n",
       "    </tr>\n",
       "  </tbody>\n",
       "</table>\n",
       "</div>"
      ],
      "text/plain": [
       "                                                    serverTime  \\\n",
       "                                                          amin   \n",
       "sessionId                                                        \n",
       "ec968ba0-110c-4f80-930e-12911fe442c7  2017-07-04T11:25:26.450Z   \n",
       "c612ae53-4a70-473f-aa35-ace3a5e797f0  2017-08-13T14:47:30.493Z   \n",
       "ee11f881-6206-4fa9-93e4-4156617ec72e  2017-06-21T15:40:26.577Z   \n",
       "3ac0a2db-f21d-4bd0-bd9e-3a77265f19f6  2017-06-27T07:44:41.963Z   \n",
       "afd19d25-3293-4ae2-bc2b-5eb8de17f66d  2017-06-23T10:59:50.764Z   \n",
       "\n",
       "                                                                \\\n",
       "                                                          amax   \n",
       "sessionId                                                        \n",
       "ec968ba0-110c-4f80-930e-12911fe442c7  2017-07-05T12:34:19.476Z   \n",
       "c612ae53-4a70-473f-aa35-ace3a5e797f0  2017-08-13T23:44:15.289Z   \n",
       "ee11f881-6206-4fa9-93e4-4156617ec72e  2017-06-21T22:49:34.830Z   \n",
       "3ac0a2db-f21d-4bd0-bd9e-3a77265f19f6  2017-06-27T12:15:03.612Z   \n",
       "afd19d25-3293-4ae2-bc2b-5eb8de17f66d  2017-06-23T15:28:28.423Z   \n",
       "\n",
       "                                            duration duration_seconds  \\\n",
       "                                                                        \n",
       "sessionId                                                               \n",
       "ec968ba0-110c-4f80-930e-12911fe442c7 1 days 01:08:53             4133   \n",
       "c612ae53-4a70-473f-aa35-ace3a5e797f0 0 days 08:56:44            32204   \n",
       "ee11f881-6206-4fa9-93e4-4156617ec72e 0 days 07:09:08            25748   \n",
       "3ac0a2db-f21d-4bd0-bd9e-3a77265f19f6 0 days 04:30:21            16221   \n",
       "afd19d25-3293-4ae2-bc2b-5eb8de17f66d 0 days 04:28:37            16117   \n",
       "\n",
       "                                     duration_rank  \n",
       "                                                    \n",
       "sessionId                                           \n",
       "ec968ba0-110c-4f80-930e-12911fe442c7          37.0  \n",
       "c612ae53-4a70-473f-aa35-ace3a5e797f0           1.0  \n",
       "ee11f881-6206-4fa9-93e4-4156617ec72e           2.0  \n",
       "3ac0a2db-f21d-4bd0-bd9e-3a77265f19f6           3.0  \n",
       "afd19d25-3293-4ae2-bc2b-5eb8de17f66d           4.0  "
      ]
     },
     "execution_count": 76,
     "metadata": {},
     "output_type": "execute_result"
    },
    {
     "data": {
      "image/png": "[encoded data removed]",
      "text/plain": [
       "<matplotlib.figure.Figure at 0x11517320>"
      ]
     },
     "metadata": {},
     "output_type": "display_data"
    }
   ],
   "source": [
    "durations.loc[:,'duration']\n",
    "durations = durations[4:]\n",
    "durations[\"duration_seconds\"] = durations[\"duration\"].map(lambda x: pd.Timedelta(x).seconds)\n",
    "maxDuration = np.max(durations[\"duration_seconds\"])\n",
    "durations[\"duration_rank\"] = durations[\"duration_seconds\"].rank(ascending=False)\n",
    "durations.plot(x=\"duration_rank\", y=\"duration_seconds\")\n",
    "plt.xlabel(\"game session\")\n",
    "plt.ylabel(\"time played (s)\")\n",
    "plt.legend('')\n",
    "plt.xlim(0, sessionscount)\n",
    "plt.ylim(0, maxDuration)\n",
    "durations[\"duration_seconds\"].describe()\n",
    "durations.head()"
   ]
  }
 ],
 "metadata": {
  "kernelspec": {
   "display_name": "Python 3",
   "language": "python",
   "name": "python3"
  },
  "language_info": {
   "codemirror_mode": {
    "name": "ipython",
    "version": 3
   },
   "file_extension": ".py",
   "mimetype": "text/x-python",
   "name": "python",
   "nbconvert_exporter": "python",
   "pygments_lexer": "ipython3",
   "version": "3.5.4"
  }
 },
 "nbformat": 4,
 "nbformat_minor": 0
}
