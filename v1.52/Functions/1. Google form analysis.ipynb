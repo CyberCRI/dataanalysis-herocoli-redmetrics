{
 "cells": [
  {
   "cell_type": "markdown",
   "metadata": {},
   "source": [
    "# Google form analysis\n",
    "\n",
    "Analysis of results extracted from Google forms in csv format."
   ]
  },
  {
   "cell_type": "markdown",
   "metadata": {},
   "source": [
    "## Table of Contents\n",
    "\n",
    "\n",
    "[Preparation](#preparation)\n",
    "\n",
    "[Constants](#constants)\n",
    "\n",
    "[Functions](#functions)\n",
    "   \n",
    "   - [general purpose](#genpurpose)\n",
    "   \n",
    "   - [sessions and temporalities](#sessions)\n",
    "   \n",
    "   - [score](#score)\n",
    "   \n",
    "   - [checkpoint validation](#checkvalidation)\n",
    "   \n",
    "   - [p(answered question N | answered question P)](#condproba)"
   ]
  },
  {
   "cell_type": "markdown",
   "metadata": {},
   "source": [
    "## Preparation\n",
    "<a id=preparation />"
   ]
  },
  {
   "cell_type": "code",
   "execution_count": null,
   "metadata": {
    "collapsed": false,
    "scrolled": false
   },
   "outputs": [],
   "source": [
    "import re\n",
    "%run \"../Functions/2. Game sessions.ipynb\""
   ]
  },
  {
   "cell_type": "markdown",
   "metadata": {},
   "source": [
    "# Constants\n",
    "<a id=constants />"
   ]
  },
  {
   "cell_type": "code",
   "execution_count": null,
   "metadata": {
    "collapsed": true
   },
   "outputs": [],
   "source": [
    "# special user ids\n",
    "userIDThatDidNotAnswer = '\"001c95c6-8207-43dc-a51b-adf0c6e005d7\"'\n",
    "\n",
    "userID1AnswerEN = '\"00dbbdca-d86c-4bc9-803c-0602e0153f68\"'\n",
    "userIDAnswersEN = '\"5977184a-1be2-4725-9b48-f2782dc03efb\"'\n",
    "userID1ScoreEN = '\"6b5d392d-b737-49ef-99af-e8c445ff6379\"'\n",
    "userIDScoresEN = '\"5ecf601d-4eac-433e-8056-3a5b9eda0555\"'\n",
    "\n",
    "userID1AnswerFR = '\"2734a37d-4ba5-454f-bf85-1f7b767138f6\"'\n",
    "userIDAnswersFR = '\"01e85778-2903-447b-bbab-dd750564ee2d\"'\n",
    "userID1ScoreFR = '\"3d733347-0313-441a-b77c-3e4046042a53\"'\n",
    "userIDScoresFR = '\"58d22690-8604-41cf-a5b7-d71fb3b9ad5b\"'\n",
    "\n",
    "userIDAnswersENFR = '\"a7936587-8b71-43b6-9c61-17b2c2b55de3\"'"
   ]
  },
  {
   "cell_type": "code",
   "execution_count": null,
   "metadata": {
    "collapsed": false
   },
   "outputs": [],
   "source": [
    "#localplayerguidkey = 'Ne pas modifier - identifiant anonyme prérempli'\n",
    "localplayerguidkey = 'Do not edit -  pre-filled anonymous ID'\n",
    "localplayerguidindex = gform.columns.get_loc(localplayerguidkey)\n",
    "localplayerguidindex"
   ]
  },
  {
   "cell_type": "code",
   "execution_count": null,
   "metadata": {
    "collapsed": false
   },
   "outputs": [],
   "source": [
    "firstEvaluationQuestionKey = 'In order to modify the abilities of the bacterium, you have to...'\n",
    "firstEvaluationQuestionIndex = gform.columns.get_loc(firstEvaluationQuestionKey)\n",
    "firstEvaluationQuestionIndex"
   ]
  },
  {
   "cell_type": "code",
   "execution_count": null,
   "metadata": {
    "collapsed": true
   },
   "outputs": [],
   "source": [
    "answersColumnNameStem = \"answers\"\n",
    "correctionsColumnNameStem = \"corrections\""
   ]
  },
  {
   "cell_type": "markdown",
   "metadata": {},
   "source": [
    "# Functions\n",
    "<a id=functions />"
   ]
  },
  {
   "cell_type": "markdown",
   "metadata": {},
   "source": [
    "## general purpose\n",
    "<a id=genpurpose />"
   ]
  },
  {
   "cell_type": "code",
   "execution_count": null,
   "metadata": {
    "collapsed": false
   },
   "outputs": [],
   "source": [
    "#GForm\n",
    "#user id in format localplayerguid = '8d352896-a3f1-471c-8439-0f426df901c1'\n",
    "\n",
    "#RedMetrics\n",
    "#user id in format localplayerguid = '\"8d352896-a3f1-471c-8439-0f426df901c1\"'\n",
    "\n",
    "# source: https://stackoverflow.com/questions/42047994/regex-how-to-find-a-guid-in-a-long-string\n",
    "GUIDpattern = '[0-9a-f]{8}-[0-9a-f]{4}-[1-5][0-9a-f]{3}-[89ab][0-9a-f]{3}-[0-9a-f]{12}'\n",
    "#GUIDpattern = '[0-9a-f]{8}-[0-9a-f]{4}-[0-9a-f]{4}-[0-9a-f]{4}-[0-9a-f]{12}'\n",
    "GFormGUIDpattern = '^' + GUIDpattern + '$'\n",
    "RedMetricsGUIDpattern = '^\"' + GUIDpattern + '\"$'\n",
    "\n",
    "def getRedMetricsGUIDFormat( guid ):\n",
    "    if(re.search(RedMetricsGUIDpattern, guid)):\n",
    "        return guid\n",
    "    elif(re.search(GFormGUIDpattern, guid)):\n",
    "        return '\"' + guid + '\"'\n",
    "    else:\n",
    "        print(\"incorrect GUID: check 1. Google form analysis' getRedMetricsGUIDFormat\")\n",
    "\n",
    "def getGFormGUIDFormat( guid ):\n",
    "    if(re.search(RedMetricsGUIDpattern, guid)):\n",
    "        return guid.replace('\"','')\n",
    "    elif(re.search(GFormGUIDpattern, guid)):\n",
    "        return guid\n",
    "    else:\n",
    "        print(\"incorrect GUID: check 1. Google form analysis' getGFormGUIDFormat\")\n",
    "\n",
    "def getAllResponders():\n",
    "    userIds = gform[localplayerguidkey].values\n",
    "    result = []\n",
    "    for id in userIds:\n",
    "        result.append('\"' + id + '\"')\n",
    "    return result\n",
    "\n",
    "def hasAnswered( userId ):\n",
    "    return userId.replace('\"','') in gform[localplayerguidkey].values\n",
    "\n",
    "def getAnswers( userId ):\n",
    "    answers = gform[gform[localplayerguidkey]==userId.replace('\"','')]\n",
    "    _columnAnswers = answers.T\n",
    "    \n",
    "    if 0 != len(answers):\n",
    "        _newColumns = []\n",
    "        for column in _columnAnswers.columns:\n",
    "            _newColumns.append(answersColumnNameStem + str(column))\n",
    "        _columnAnswers.columns = _newColumns\n",
    "    else:\n",
    "        # user has never answered\n",
    "        print(\"user \" + str(userId) + \" has never answered\")\n",
    "        \n",
    "    return _columnAnswers"
   ]
  },
  {
   "cell_type": "markdown",
   "metadata": {},
   "source": [
    "## sessions and temporalities\n",
    "<a id=sessions />"
   ]
  },
  {
   "cell_type": "code",
   "execution_count": null,
   "metadata": {
    "collapsed": false
   },
   "outputs": [],
   "source": [
    "def setAnswerTemporalities( _df ):\n",
    "    _df['Temporality'] = _df['Timestamp'].copy()\n",
    "    for _index in _df.index:\n",
    "        _firstEventDate = getFirstEventDate(getRedMetricsGUIDFormat(_df.loc[_index,localplayerguidkey]))\n",
    "        _df.loc[_index,'Temporality'] = \\\n",
    "        getTemporality(_df.loc[_index,'Timestamp'],_firstEventDate)\n",
    "\n",
    "# when did the user answer the questionnaire? \n",
    "# After gameEventDate, before gameEventDate, undefined?\n",
    "# answerDate is assumed to be a string coding for tz='Europe/Berlin' time\n",
    "# gameEventDate is assumed to be UTC\n",
    "def getTemporality( answerDate, gameEventDate ):    \n",
    "    if(gameEventDate == pd.Timestamp.max.tz_localize('utc')):\n",
    "        return answerTemporalities[2]\n",
    "    \n",
    "    tzAnswerDate = pd.to_datetime(answerDate).tz_localize('Europe/Berlin')        \n",
    "    if(tzAnswerDate < gameEventDate):\n",
    "        return answerTemporalities[0]\n",
    "    elif (tzAnswerDate > gameEventDate):\n",
    "        return answerTemporalities[1]\n",
    "    else:\n",
    "        return answerTemporalities[2]"
   ]
  },
  {
   "cell_type": "markdown",
   "metadata": {},
   "source": [
    "## score\n",
    "<a id=score />"
   ]
  },
  {
   "cell_type": "code",
   "execution_count": null,
   "metadata": {
    "collapsed": false
   },
   "outputs": [],
   "source": [
    "def getCorrections( _userId, _language = 'en', _source = correctAnswers ):\n",
    "    _columnAnswers = getAnswers( _userId )\n",
    "\n",
    "    if 0 != len(_columnAnswers.columns):\n",
    "\n",
    "        _questionsCount = len(_columnAnswers.values)\n",
    "\n",
    "        for _columnName in _columnAnswers.columns:\n",
    "            if answersColumnNameStem in _columnName:\n",
    "                _answerNumber = _columnName.replace(answersColumnNameStem,\"\")\n",
    "                newCorrectionsColumnName = correctionsColumnNameStem + _answerNumber\n",
    "\n",
    "                _columnAnswers[newCorrectionsColumnName] = _columnAnswers[_columnName]\n",
    "                _columnAnswers[newCorrectionsColumnName] = pd.Series(np.full(_questionsCount, np.nan))\n",
    "\n",
    "                for question in _columnAnswers[_columnName].index:\n",
    "                    _correctAnswers = _source.loc[question,_language]\n",
    "                    \n",
    "                    if(len(_correctAnswers) > 0):\n",
    "                        _columnAnswers.loc[question,newCorrectionsColumnName] = False\n",
    "                        for _correctAnswer in _correctAnswers:\n",
    "                            if str(_columnAnswers.loc[question,_columnName])\\\n",
    "                            .startswith(str(_correctAnswer)):\n",
    "                                _columnAnswers.loc[question,newCorrectionsColumnName] = True\n",
    "                                break\n",
    "                        \n",
    "\n",
    "    else:\n",
    "        # user has never answered\n",
    "        print(\"can't give correct answers\")\n",
    "    return _columnAnswers\n",
    "\n",
    "# edits in-place\n",
    "# _corrections must be a dataframe full of corrections as produced above\n",
    "def getBinarizedCorrections( _corrections ):\n",
    "    for _columnName in _corrections.columns:\n",
    "        for _index in _corrections[_columnName].index:\n",
    "            if(True==_corrections.loc[_index,_columnName]):\n",
    "                _corrections.loc[_index,_columnName] = 1.0\n",
    "            elif (False==_corrections.loc[_index,_columnName]):\n",
    "                _corrections.loc[_index,_columnName] = 0.0\n",
    "    return _corrections\n",
    "\n",
    "def getAllBinarized(_source = correctAnswers ):\n",
    "    _first = True\n",
    "    for _userId in getAllResponders():\n",
    "        _corrections = getCorrections(_userId, _source=_source)\n",
    "        _binarized = getBinarizedCorrections(_corrections)\n",
    "        _slicedBinarized =\\\n",
    "    _binarized[13:40][_binarized.columns[\\\n",
    "    _binarized.columns.to_series().str.contains(correctionsColumnNameStem)\\\n",
    "                                       ]]\n",
    "\n",
    "        if (_first):\n",
    "            _result = _slicedBinarized\n",
    "            _first = False\n",
    "        else:\n",
    "            _result = pd.concat([_result, _slicedBinarized], axis=1)\n",
    "    return _result.T\n",
    "\n",
    "methods = ['pearson', 'kendall', 'spearman']\n",
    "def plotCorrelationMatrix( _binarizedMatrix, _method = methods[0], _title='Questions\\' Correlations', _abs=False, _clustered=False, _questionNumbers=False ):\n",
    "    _m = _method\n",
    "    if(not (_method in methods)):\n",
    "        _m = methods[0]\n",
    "    _correlation = _binarizedMatrix.astype(float).corr(_m)\n",
    "    \n",
    "    if(_questionNumbers):\n",
    "        _correlation.columns = pd.Series(_correlation.columns).apply(\\\n",
    "                lambda x: x + ' #' + str(_correlation.columns.get_loc(x) + 1))\n",
    "        if(_clustered):\n",
    "            _correlation.index = pd.Series(_correlation.columns).apply(\\\n",
    "                lambda x: '#' + str(_correlation.columns.get_loc(x) + 1) + ' ' + x)\n",
    "        else:\n",
    "            _correlation.index = _correlation.columns\n",
    "            \n",
    "    if(_abs):\n",
    "        _correlation = _correlation.abs()\n",
    "    _questionsLabels = pd.Series(_correlation.columns).apply(lambda x: x + ' #' + str(_correlation.columns.get_loc(x) + 1))\n",
    "    \n",
    "    if(_clustered):\n",
    "        sns.clustermap(_correlation,cmap=plt.cm.jet,square=True,figsize=(10,10))\n",
    "    else:\n",
    "        _fig = plt.figure(figsize=(10,10))\n",
    "        _ax = plt.subplot(111)\n",
    "        _ax.set_title(_title)\n",
    "        sns.heatmap(_correlation,ax=_ax,cmap=plt.cm.jet,square=True)\n",
    "\n",
    "#function that returns the score from user id\n",
    "def getScore( _userId ):\n",
    "    _score = []\n",
    "    if hasAnswered( _userId ):\n",
    "        _columnAnswers = getCorrections(_userId)\n",
    "        for _columnName in _columnAnswers.columns:\n",
    "            # only work on corrected columns\n",
    "            if correctionsColumnNameStem in _columnName:\n",
    "                _counts = (_columnAnswers[_columnName]).value_counts()\n",
    "                _thisScore = 0\n",
    "                if(True in _counts):\n",
    "                    _thisScore = _counts[True]\n",
    "                _score.append(_thisScore)\n",
    "    else:\n",
    "        print(\"user \" + str(_userId) + \" has never answered\")\n",
    "    return _score"
   ]
  },
  {
   "cell_type": "markdown",
   "metadata": {},
   "source": [
    "## checkpoint validation\n",
    "<a id=checkvalidation />"
   ]
  },
  {
   "cell_type": "code",
   "execution_count": null,
   "metadata": {
    "collapsed": true
   },
   "outputs": [],
   "source": [
    "#function that returns the list of checkpoints from user id\n",
    "def getValidatedCheckpoints( userId ):\n",
    "    _validatedCheckpoints = []\n",
    "    \n",
    "    if hasAnswered( userId ):\n",
    "        _columnAnswers = getCorrections( userId)\n",
    "        \n",
    "        for _columnName in _columnAnswers.columns:\n",
    "            # only work on corrected columns\n",
    "            if correctionsColumnNameStem in _columnName:        \n",
    "                _questionnaireValidatedCheckpointsPerQuestion = pd.Series(np.nan, index=range(len(checkpointQuestionMatching)))\n",
    "\n",
    "                for _index in range(0, len(_questionnaireValidatedCheckpointsPerQuestion)):\n",
    "                    if _columnAnswers[_columnName][_index]==True:\n",
    "                        _questionnaireValidatedCheckpointsPerQuestion[_index] = checkpointQuestionMatching['checkpoint'][_index]\n",
    "                    else:\n",
    "                        _questionnaireValidatedCheckpointsPerQuestion[_index] = ''\n",
    "\n",
    "                _questionnaireValidatedCheckpoints = _questionnaireValidatedCheckpointsPerQuestion.unique()\n",
    "                _questionnaireValidatedCheckpoints = _questionnaireValidatedCheckpoints[_questionnaireValidatedCheckpoints!='']\n",
    "                _questionnaireValidatedCheckpoints = pd.Series(_questionnaireValidatedCheckpoints)\n",
    "                _questionnaireValidatedCheckpoints = _questionnaireValidatedCheckpoints.sort_values()\n",
    "                _questionnaireValidatedCheckpoints.index = range(0, len(_questionnaireValidatedCheckpoints))\n",
    "                \n",
    "                _validatedCheckpoints.append(_questionnaireValidatedCheckpoints) \n",
    "    else:\n",
    "        print(\"user \" + str(userId) + \" has never answered\")\n",
    "    return pd.Series(_validatedCheckpoints)\n",
    "\n",
    "def getValidatedCheckpointsCounts( userId ):\n",
    "    _validatedCheckpoints = getValidatedCheckpoints(userId)\n",
    "    _counts = []\n",
    "    for checkpointsList in _validatedCheckpoints:\n",
    "        _counts.append(len(checkpointsList))\n",
    "    return _counts\n",
    "\n",
    "def getNonValidated( checkpoints ):\n",
    "    _validationLists = []\n",
    "    \n",
    "    if 0!=len(checkpoints):\n",
    "        for _validation in checkpoints:\n",
    "            _result = pd.Series(np.setdiff1d(validableCheckpoints.values, _validation.values))\n",
    "            _result = _result[_result != '']\n",
    "            _result.index = range(0, len(_result))\n",
    "            _validationLists.append(_result)\n",
    "        return pd.Series(_validationLists)\n",
    "    else:\n",
    "        return validableCheckpoints\n",
    "\n",
    "def getNonValidatedCheckpoints( userId ):\n",
    "    validated = getValidatedCheckpoints( userId )\n",
    "    return getNonValidated(validated)\n",
    "\n",
    "def getNonValidatedCheckpointsCounts( userId ):\n",
    "    _nonValidatedCheckpoints = getNonValidatedCheckpoints(userId)\n",
    "    _counts = []\n",
    "    for checkpointsList in _nonValidatedCheckpoints:\n",
    "        _counts.append(len(checkpointsList))\n",
    "    return _counts"
   ]
  },
  {
   "cell_type": "markdown",
   "metadata": {},
   "source": [
    "## p(answered question N | answered question P)\n",
    "<a id=condproba />"
   ]
  },
  {
   "cell_type": "code",
   "execution_count": null,
   "metadata": {
    "collapsed": true
   },
   "outputs": [],
   "source": [
    "# returns all rows of Google form's answers that contain an element \n",
    "#   of the array 'choice' for question number 'questionIndex'\n",
    "def getAllAnswerRows(questionIndex, choice):\n",
    "    return gform[gform.iloc[:, questionIndex].isin(choice)]\n",
    "\n",
    "def getPercentCorrectPerColumn(_df, _language = 'en'):\n",
    "    _count = len(_df)\n",
    "    _percents = pd.Series(np.full(len(_df.columns), np.nan), index=_df.columns)\n",
    "    for _rowIndex in _df.index:\n",
    "        for _columnName in _df.columns:\n",
    "            _columnIndex = _df.columns.get_loc(_columnName)\n",
    "            if ((_columnIndex >= firstEvaluationQuestionIndex) \\\n",
    "                and (_columnIndex < len(_df.columns)-3)):\n",
    "                if(str(_df[_columnName][_rowIndex]).startswith(str(correctAnswers[_language][_columnIndex]))):\n",
    "                    if (np.isnan(_percents[_columnName])):\n",
    "                        _percents[_columnName] = 1;\n",
    "                    else:\n",
    "                        _percents[_columnName] = _percents[_columnName]+1\n",
    "                else:\n",
    "                    if (np.isnan(_percents[_columnName])):\n",
    "                        _percents[_columnName] = 0;\n",
    "                \n",
    "    _percents = _percents/_count\n",
    "    _percents['Count'] = _count\n",
    "    return _percents\n",
    "\n",
    "def getPercentCorrectKnowingAnswer(questionIndex, choice):\n",
    "    _answerRows = getAllAnswerRows(questionIndex, choice);\n",
    "    return getPercentCorrectPerColumn(_answerRows)"
   ]
  }
 ],
 "metadata": {
  "kernelspec": {
   "display_name": "Python 3",
   "language": "python",
   "name": "python3"
  },
  "language_info": {
   "codemirror_mode": {
    "name": "ipython",
    "version": 3
   },
   "file_extension": ".py",
   "mimetype": "text/x-python",
   "name": "python",
   "nbconvert_exporter": "python",
   "pygments_lexer": "ipython3",
   "version": "3.5.4"
  }
 },
 "nbformat": 4,
 "nbformat_minor": 0
}
