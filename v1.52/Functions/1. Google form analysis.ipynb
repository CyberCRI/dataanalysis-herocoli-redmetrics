{
 "cells": [
  {
   "cell_type": "markdown",
   "metadata": {},
   "source": [
    "# Google form analysis\n",
    "\n",
    "Analysis of results extracted from Google forms in csv format."
   ]
  },
  {
   "cell_type": "markdown",
   "metadata": {},
   "source": [
    "## Preparation"
   ]
  },
  {
   "cell_type": "code",
   "execution_count": 1,
   "metadata": {
    "collapsed": false,
    "scrolled": false
   },
   "outputs": [
    {
     "name": "stderr",
     "output_type": "stream",
     "text": [
      "/Users/raphik12/anaconda/lib/python2.7/site-packages/IPython/core/interactiveshell.py:2902: DtypeWarning: Columns (18,21,22,28,32,38) have mixed types. Specify dtype option on import or set low_memory=False.\n",
      "  interactivity=interactivity, compiler=compiler, result=result)\n",
      "/Users/raphik12/anaconda/lib/python2.7/site-packages/IPython/core/interactiveshell.py:2902: DtypeWarning: Columns (14,15,16,17,18,20,21,22,25,26,27,30,33,34,35,36,37,38,39,40,41,42,43) have mixed types. Specify dtype option on import or set low_memory=False.\n",
      "  interactivity=interactivity, compiler=compiler, result=result)\n"
     ]
    }
   ],
   "source": [
    "%run \"../Utilities/Preparation.ipynb\"\n",
    "%run \"../Static data/Google form correct answers.ipynb\""
   ]
  },
  {
   "cell_type": "markdown",
   "metadata": {},
   "source": [
    "# Constants"
   ]
  },
  {
   "cell_type": "code",
   "execution_count": 2,
   "metadata": {
    "collapsed": false
   },
   "outputs": [],
   "source": [
    "gformPath = \"../../data/Google forms/\"\n",
    "genericFormName = '2017-11-02-gform-'\n",
    "enSuffix = 'en'\n",
    "frSuffix = 'fr'\n",
    "csvSuffix = '.csv'\n",
    "gformEN = pd.read_csv(gformPath + genericFormName + enSuffix + csvSuffix)\n",
    "gformFR = pd.read_csv(gformPath + genericFormName + frSuffix + csvSuffix)"
   ]
  },
  {
   "cell_type": "markdown",
   "metadata": {},
   "source": [
    "### en-fr gform merge"
   ]
  },
  {
   "cell_type": "code",
   "execution_count": 3,
   "metadata": {
    "collapsed": true
   },
   "outputs": [],
   "source": [
    "gformEN['Language'] = pd.Series('en', index=gformEN.index)\n",
    "gformFR['Language'] = pd.Series('fr', index=gformFR.index)\n",
    "gformFR.columns = gformEN.columns\n",
    "gform = pd.concat([gformEN, gformFR])"
   ]
  },
  {
   "cell_type": "code",
   "execution_count": 4,
   "metadata": {
    "collapsed": false,
    "scrolled": true
   },
   "outputs": [
    {
     "data": {
      "text/html": [
       "<div>\n",
       "<table border=\"1\" class=\"dataframe\">\n",
       "  <thead>\n",
       "    <tr style=\"text-align: right;\">\n",
       "      <th></th>\n",
       "      <th>Timestamp</th>\n",
       "      <th>Are you interested in video games?</th>\n",
       "      <th>Do you play video games?</th>\n",
       "      <th>How old are you?</th>\n",
       "      <th>What is your gender?</th>\n",
       "      <th>How long have you studied biology?</th>\n",
       "      <th>Are you interested in biology?</th>\n",
       "      <th>Before playing Hero.Coli, had you ever heard about synthetic biology?</th>\n",
       "      <th>Before playing Hero.Coli, had you ever heard about BioBricks?</th>\n",
       "      <th>Have you ever played an older version of Hero.Coli before?</th>\n",
       "      <th>...</th>\n",
       "      <th>What does this device do?.6</th>\n",
       "      <th>What does this device do?.7</th>\n",
       "      <th>Guess: what would a device producing l-arabinose do, if it started with a l-arabinose-induced promoter?</th>\n",
       "      <th>Guess: the bacterium would glow yellow...</th>\n",
       "      <th>What is the species of the bacterium of the game?</th>\n",
       "      <th>What is the scientific name of the tails of the bacterium?</th>\n",
       "      <th>Find the antibiotic:</th>\n",
       "      <th>You can write down remarks here.</th>\n",
       "      <th>Do not edit -  pre-filled anonymous ID</th>\n",
       "      <th>Language</th>\n",
       "    </tr>\n",
       "  </thead>\n",
       "  <tbody>\n",
       "    <tr>\n",
       "      <th>0</th>\n",
       "      <td>2017/08/18 3:22:26 PM GMT+1</td>\n",
       "      <td>Extremely</td>\n",
       "      <td>Extremely</td>\n",
       "      <td>23</td>\n",
       "      <td>Female</td>\n",
       "      <td>Until bachelor's degree</td>\n",
       "      <td>Extremely</td>\n",
       "      <td>Yes</td>\n",
       "      <td>NaN</td>\n",
       "      <td>No</td>\n",
       "      <td>...</td>\n",
       "      <td>It generates antibiotic resistance</td>\n",
       "      <td>It generates green fluorescence in presence of...</td>\n",
       "      <td>After being induced, it would produce more and...</td>\n",
       "      <td>I don't know</td>\n",
       "      <td>E. Coli</td>\n",
       "      <td>Flagella</td>\n",
       "      <td>Ampicillin</td>\n",
       "      <td>Your game is amazing. One suggestion. In sever...</td>\n",
       "      <td>8d352896-a3f1-471c-8439-0f426df901c1</td>\n",
       "      <td>en</td>\n",
       "    </tr>\n",
       "    <tr>\n",
       "      <th>1</th>\n",
       "      <td>2017/09/06 1:28:03 PM GMT+1</td>\n",
       "      <td>Moderately</td>\n",
       "      <td>Moderately</td>\n",
       "      <td>28</td>\n",
       "      <td>Other</td>\n",
       "      <td>Until the end of high school</td>\n",
       "      <td>Moderately</td>\n",
       "      <td>Yes</td>\n",
       "      <td>NaN</td>\n",
       "      <td>No</td>\n",
       "      <td>...</td>\n",
       "      <td>It generates antibiotic resistance</td>\n",
       "      <td>It generates green fluorescence in presence of...</td>\n",
       "      <td>After being induced, it would produce more and...</td>\n",
       "      <td>I don't know</td>\n",
       "      <td>E. Coli</td>\n",
       "      <td>Flagella</td>\n",
       "      <td>Ampicillin</td>\n",
       "      <td>This was a nice educational game, thank you fo...</td>\n",
       "      <td>7037c5b2-c286-498e-9784-9a061c778609</td>\n",
       "      <td>en</td>\n",
       "    </tr>\n",
       "  </tbody>\n",
       "</table>\n",
       "<p>2 rows × 43 columns</p>\n",
       "</div>"
      ],
      "text/plain": [
       "                     Timestamp Are you interested in video games?  \\\n",
       "0  2017/08/18 3:22:26 PM GMT+1                          Extremely   \n",
       "1  2017/09/06 1:28:03 PM GMT+1                         Moderately   \n",
       "\n",
       "  Do you play video games?  How old are you? What is your gender?  \\\n",
       "0                Extremely                23               Female   \n",
       "1               Moderately                28                Other   \n",
       "\n",
       "  How long have you studied biology? Are you interested in biology?  \\\n",
       "0            Until bachelor's degree                      Extremely   \n",
       "1       Until the end of high school                     Moderately   \n",
       "\n",
       "  Before playing Hero.Coli, had you ever heard about synthetic biology?  \\\n",
       "0                                                Yes                      \n",
       "1                                                Yes                      \n",
       "\n",
       "  Before playing Hero.Coli, had you ever heard about BioBricks?  \\\n",
       "0                                                NaN              \n",
       "1                                                NaN              \n",
       "\n",
       "  Have you ever played an older version of Hero.Coli before?   ...     \\\n",
       "0                                                 No           ...      \n",
       "1                                                 No           ...      \n",
       "\n",
       "          What does this device do?.6  \\\n",
       "0  It generates antibiotic resistance   \n",
       "1  It generates antibiotic resistance   \n",
       "\n",
       "                         What does this device do?.7  \\\n",
       "0  It generates green fluorescence in presence of...   \n",
       "1  It generates green fluorescence in presence of...   \n",
       "\n",
       "  Guess: what would a device producing l-arabinose do, if it started with a l-arabinose-induced promoter?  \\\n",
       "0  After being induced, it would produce more and...                                                        \n",
       "1  After being induced, it would produce more and...                                                        \n",
       "\n",
       "  Guess: the bacterium would glow yellow...  \\\n",
       "0                              I don't know   \n",
       "1                              I don't know   \n",
       "\n",
       "  What is the species of the bacterium of the game?  \\\n",
       "0                                           E. Coli   \n",
       "1                                           E. Coli   \n",
       "\n",
       "  What is the scientific name of the tails of the bacterium?  \\\n",
       "0                                           Flagella           \n",
       "1                                           Flagella           \n",
       "\n",
       "  Find the antibiotic:                   You can write down remarks here.  \\\n",
       "0           Ampicillin  Your game is amazing. One suggestion. In sever...   \n",
       "1           Ampicillin  This was a nice educational game, thank you fo...   \n",
       "\n",
       "  Do not edit -  pre-filled anonymous ID Language  \n",
       "0   8d352896-a3f1-471c-8439-0f426df901c1       en  \n",
       "1   7037c5b2-c286-498e-9784-9a061c778609       en  \n",
       "\n",
       "[2 rows x 43 columns]"
      ]
     },
     "execution_count": 4,
     "metadata": {},
     "output_type": "execute_result"
    }
   ],
   "source": [
    "gform.head(2)"
   ]
  },
  {
   "cell_type": "code",
   "execution_count": 5,
   "metadata": {
    "collapsed": false
   },
   "outputs": [
    {
     "data": {
      "text/html": [
       "<div>\n",
       "<table border=\"1\" class=\"dataframe\">\n",
       "  <thead>\n",
       "    <tr style=\"text-align: right;\">\n",
       "      <th></th>\n",
       "      <th>Timestamp</th>\n",
       "      <th>Are you interested in video games?</th>\n",
       "      <th>Do you play video games?</th>\n",
       "      <th>How old are you?</th>\n",
       "      <th>What is your gender?</th>\n",
       "      <th>How long have you studied biology?</th>\n",
       "      <th>Are you interested in biology?</th>\n",
       "      <th>Before playing Hero.Coli, had you ever heard about synthetic biology?</th>\n",
       "      <th>Before playing Hero.Coli, had you ever heard about BioBricks?</th>\n",
       "      <th>Have you ever played an older version of Hero.Coli before?</th>\n",
       "      <th>...</th>\n",
       "      <th>What does this device do?.6</th>\n",
       "      <th>What does this device do?.7</th>\n",
       "      <th>Guess: what would a device producing l-arabinose do, if it started with a l-arabinose-induced promoter?</th>\n",
       "      <th>Guess: the bacterium would glow yellow...</th>\n",
       "      <th>What is the species of the bacterium of the game?</th>\n",
       "      <th>What is the scientific name of the tails of the bacterium?</th>\n",
       "      <th>Find the antibiotic:</th>\n",
       "      <th>You can write down remarks here.</th>\n",
       "      <th>Do not edit -  pre-filled anonymous ID</th>\n",
       "      <th>Language</th>\n",
       "    </tr>\n",
       "  </thead>\n",
       "  <tbody>\n",
       "    <tr>\n",
       "      <th>38</th>\n",
       "      <td>2017/10/26 4:27:48 PM GMT+1</td>\n",
       "      <td>Beaucoup</td>\n",
       "      <td>Enormément</td>\n",
       "      <td>19</td>\n",
       "      <td>Homme</td>\n",
       "      <td>Jusqu'à la license</td>\n",
       "      <td>Beaucoup</td>\n",
       "      <td>Oui</td>\n",
       "      <td>Oui</td>\n",
       "      <td>Non</td>\n",
       "      <td>...</td>\n",
       "      <td>Elle permet de résister aux antibiotiques</td>\n",
       "      <td>Elle produit la fluorescence verte en présence...</td>\n",
       "      <td>Elle ne serait active que dans les nuages de l...</td>\n",
       "      <td>Si elle produisait de la YFP sous lumière cyan</td>\n",
       "      <td>E. Coli</td>\n",
       "      <td>Des flagelles</td>\n",
       "      <td>Ampicilline</td>\n",
       "      <td>Problèmes de performances ( fps drop ), sinon ...</td>\n",
       "      <td>74cfbbd0-eb35-467c-9bad-221ac73a7444</td>\n",
       "      <td>fr</td>\n",
       "    </tr>\n",
       "    <tr>\n",
       "      <th>39</th>\n",
       "      <td>2017/10/28 2:32:13 PM GMT+1</td>\n",
       "      <td>Moyennement</td>\n",
       "      <td>Moyennement</td>\n",
       "      <td>11</td>\n",
       "      <td>Homme</td>\n",
       "      <td>Jamais, pas même au collège</td>\n",
       "      <td>Un peu</td>\n",
       "      <td>Non</td>\n",
       "      <td>Non</td>\n",
       "      <td>Non</td>\n",
       "      <td>...</td>\n",
       "      <td>Elle permet de résister aux antibiotiques</td>\n",
       "      <td>Elle produit la fluorescence verte en présence...</td>\n",
       "      <td>Je ne sais pas</td>\n",
       "      <td>Je ne sais pas</td>\n",
       "      <td>E. Coli</td>\n",
       "      <td>Des flagelles</td>\n",
       "      <td>Je ne sais pas</td>\n",
       "      <td>NaN</td>\n",
       "      <td>bdc1c38d-dce7-4c00-8ea2-9514643bc09f</td>\n",
       "      <td>fr</td>\n",
       "    </tr>\n",
       "  </tbody>\n",
       "</table>\n",
       "<p>2 rows × 43 columns</p>\n",
       "</div>"
      ],
      "text/plain": [
       "                      Timestamp Are you interested in video games?  \\\n",
       "38  2017/10/26 4:27:48 PM GMT+1                           Beaucoup   \n",
       "39  2017/10/28 2:32:13 PM GMT+1                        Moyennement   \n",
       "\n",
       "   Do you play video games?  How old are you? What is your gender?  \\\n",
       "38               Enormément                19                Homme   \n",
       "39              Moyennement                11                Homme   \n",
       "\n",
       "   How long have you studied biology? Are you interested in biology?  \\\n",
       "38                 Jusqu'à la license                       Beaucoup   \n",
       "39        Jamais, pas même au collège                         Un peu   \n",
       "\n",
       "   Before playing Hero.Coli, had you ever heard about synthetic biology?  \\\n",
       "38                                                Oui                      \n",
       "39                                                Non                      \n",
       "\n",
       "   Before playing Hero.Coli, had you ever heard about BioBricks?  \\\n",
       "38                                                Oui              \n",
       "39                                                Non              \n",
       "\n",
       "   Have you ever played an older version of Hero.Coli before?   ...     \\\n",
       "38                                                Non           ...      \n",
       "39                                                Non           ...      \n",
       "\n",
       "                  What does this device do?.6  \\\n",
       "38  Elle permet de résister aux antibiotiques   \n",
       "39  Elle permet de résister aux antibiotiques   \n",
       "\n",
       "                          What does this device do?.7  \\\n",
       "38  Elle produit la fluorescence verte en présence...   \n",
       "39  Elle produit la fluorescence verte en présence...   \n",
       "\n",
       "   Guess: what would a device producing l-arabinose do, if it started with a l-arabinose-induced promoter?  \\\n",
       "38  Elle ne serait active que dans les nuages de l...                                                        \n",
       "39                                     Je ne sais pas                                                        \n",
       "\n",
       "         Guess: the bacterium would glow yellow...  \\\n",
       "38  Si elle produisait de la YFP sous lumière cyan   \n",
       "39                                  Je ne sais pas   \n",
       "\n",
       "   What is the species of the bacterium of the game?  \\\n",
       "38                                           E. Coli   \n",
       "39                                           E. Coli   \n",
       "\n",
       "   What is the scientific name of the tails of the bacterium?  \\\n",
       "38                                      Des flagelles           \n",
       "39                                      Des flagelles           \n",
       "\n",
       "   Find the antibiotic:                   You can write down remarks here.  \\\n",
       "38          Ampicilline  Problèmes de performances ( fps drop ), sinon ...   \n",
       "39       Je ne sais pas                                                NaN   \n",
       "\n",
       "   Do not edit -  pre-filled anonymous ID Language  \n",
       "38   74cfbbd0-eb35-467c-9bad-221ac73a7444       fr  \n",
       "39   bdc1c38d-dce7-4c00-8ea2-9514643bc09f       fr  \n",
       "\n",
       "[2 rows x 43 columns]"
      ]
     },
     "execution_count": 5,
     "metadata": {},
     "output_type": "execute_result"
    }
   ],
   "source": [
    "gform.tail(2)"
   ]
  },
  {
   "cell_type": "code",
   "execution_count": 6,
   "metadata": {
    "collapsed": false
   },
   "outputs": [
    {
     "data": {
      "text/plain": [
       "41"
      ]
     },
     "execution_count": 6,
     "metadata": {},
     "output_type": "execute_result"
    }
   ],
   "source": [
    "#localplayerguidkey = 'Ne pas modifier - identifiant anonyme prérempli'\n",
    "localplayerguidkey = 'Do not edit -  pre-filled anonymous ID'\n",
    "localplayerguidindex = gform.columns.get_loc(localplayerguidkey)\n",
    "localplayerguidindex"
   ]
  },
  {
   "cell_type": "code",
   "execution_count": 7,
   "metadata": {
    "collapsed": false
   },
   "outputs": [
    {
     "data": {
      "text/plain": [
       "13"
      ]
     },
     "execution_count": 7,
     "metadata": {},
     "output_type": "execute_result"
    }
   ],
   "source": [
    "firstEvaluationQuestionKey = 'In order to modify the abilities of the bacterium, you have to...'\n",
    "firstEvaluationQuestionIndex = gform.columns.get_loc(firstEvaluationQuestionKey)\n",
    "firstEvaluationQuestionIndex"
   ]
  },
  {
   "cell_type": "markdown",
   "metadata": {},
   "source": [
    "# Functions\n",
    "<a id=functions />"
   ]
  },
  {
   "cell_type": "code",
   "execution_count": 1,
   "metadata": {
    "collapsed": false
   },
   "outputs": [],
   "source": [
    "#user id in format localplayerguid = '\"8d352896-a3f1-471c-8439-0f426df901c1\"'\n",
    "\n",
    "def getAllResponders():\n",
    "    userIds = gform[localplayerguidkey].values\n",
    "    result = []\n",
    "    for id in userIds:\n",
    "        result.append('\"' + id + '\"')\n",
    "    return result\n",
    "\n",
    "def hasAnswered( userId ):\n",
    "    return userId.replace('\"','') in gform[localplayerguidkey].values\n",
    "\n",
    "def getAnswers( userId ):\n",
    "    answers = gform[gform[localplayerguidkey]==userId.replace('\"','')]\n",
    "    _columnAnswers = answers.T\n",
    "    \n",
    "    if 0 != len(answers):\n",
    "        _columnAnswers.columns = ['answers']\n",
    "    else:\n",
    "        # user has never answered\n",
    "        print(\"user \" + str(userId) + \"has never answered\")\n",
    "        \n",
    "    return _columnAnswers\n",
    "\n",
    "def getCorrections( userId ):\n",
    "    _columnAnswers = getAnswers( userId )\n",
    "    \n",
    "    _columnAnswers['correct'] = _columnAnswers['answers']\n",
    "    \n",
    "    # demographic questions\n",
    "    for index in range(0, firstEvaluationQuestionIndex):\n",
    "        _columnAnswers['correct'][index] = 'NaN'\n",
    "        \n",
    "    # evaluation questions\n",
    "    for index in range(firstEvaluationQuestionIndex, len(_columnAnswers.values)-3):\n",
    "        columnAnswers['correct'][index] = str(columnAnswers['answers'][index]).startswith(str(correctAnswers[columnAnswers['answers']['Language']][index]))\n",
    "    \n",
    "    # free opinion question\n",
    "    _columnAnswers['correct'][len(_columnAnswers.values)-3] = 'NaN'\n",
    "    # pre-filled ID question\n",
    "    _columnAnswers['correct'][len(_columnAnswers.values)-2] = 'NaN'\n",
    "    # language question\n",
    "    _columnAnswers['correct'][len(_columnAnswers.values)-1] = 'NaN'\n",
    "    return _columnAnswers\n",
    "\n",
    "#function that returns the score from user id\n",
    "def getScore( userId ):\n",
    "    if hasAnswered( userId ):\n",
    "        _columnAnswers = getCorrections( userId)\n",
    "        score = (_columnAnswers['correct']).value_counts()[True]\n",
    "        return score\n",
    "    else:\n",
    "        return np.NaN\n",
    "\n",
    "#function that returns the list of checkpoints from user id\n",
    "def getValidatedCheckpoints( userId ):\n",
    "    _columnAnswers = getCorrections( userId)\n",
    "    questionnaireValidatedCheckpointsPerQuestion = pd.Series(np.nan, index=range(len(checkpointQuestionMatching)))\n",
    "    \n",
    "    for index in range(0, len(questionnaireValidatedCheckpointsPerQuestion)):\n",
    "        if _columnAnswers['correct'][index]==True:\n",
    "            questionnaireValidatedCheckpointsPerQuestion[index] = checkpointQuestionMatching['checkpoint'][index]\n",
    "        else:\n",
    "            questionnaireValidatedCheckpointsPerQuestion[index] = ''\n",
    "    \n",
    "    questionnaireValidatedCheckpoints = questionnaireValidatedCheckpointsPerQuestion.unique()\n",
    "    questionnaireValidatedCheckpoints = questionnaireValidatedCheckpoints[questionnaireValidatedCheckpoints!='']\n",
    "    questionnaireValidatedCheckpoints = pd.Series(questionnaireValidatedCheckpoints)\n",
    "    questionnaireValidatedCheckpoints = questionnaireValidatedCheckpoints.sort_values()\n",
    "    questionnaireValidatedCheckpoints.index = range(0, len(questionnaireValidatedCheckpoints))\n",
    "    return questionnaireValidatedCheckpoints\n",
    "\n",
    "def getNonValidated( checkpoints ):\n",
    "    return pd.Series(np.setdiff1d(checkpointQuestionMatching['checkpoint'].values, checkpoints.values))\n",
    "\n",
    "def getNonValidatedCheckpoints( userId ):\n",
    "    validated = getValidatedCheckpoints( userId )\n",
    "    return getNonValidated(validated)"
   ]
  }
 ],
 "metadata": {
  "kernelspec": {
   "display_name": "Python 3",
   "language": "python",
   "name": "python3"
  },
  "language_info": {
   "codemirror_mode": {
    "name": "ipython",
    "version": 3
   },
   "file_extension": ".py",
   "mimetype": "text/x-python",
   "name": "python",
   "nbconvert_exporter": "python",
   "pygments_lexer": "ipython3",
   "version": "3.5.4"
  }
 },
 "nbformat": 4,
 "nbformat_minor": 0
}
