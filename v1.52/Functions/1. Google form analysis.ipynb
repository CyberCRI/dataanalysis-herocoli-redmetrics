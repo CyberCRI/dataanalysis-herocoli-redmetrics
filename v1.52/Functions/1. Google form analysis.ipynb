{
 "cells": [
  {
   "cell_type": "markdown",
   "metadata": {},
   "source": [
    "# Google form analysis\n",
    "\n",
    "Analysis of results extracted from Google forms in csv format."
   ]
  },
  {
   "cell_type": "markdown",
   "metadata": {},
   "source": [
    "## Table of Contents\n",
    "\n",
    "\n",
    "[Preparation](#preparation)\n",
    "\n",
    "[Constants](#constants)\n",
    "\n",
    "[Functions](#functions)\n",
    "   \n",
    "   - [general purpose](#genpurpose)\n",
    "   \n",
    "   - [sessions and temporalities](#sessions)\n",
    "   \n",
    "   - [score](#score)\n",
    "   \n",
    "   - [checkpoint validation](#checkvalidation)\n",
    "   \n",
    "   - [p(answered question N | answered question P)](#condproba)\n",
    "   \n",
    "[Initialization of gform](#gforminit)\n",
    "\n"
   ]
  },
  {
   "cell_type": "markdown",
   "metadata": {},
   "source": [
    "## Preparation\n",
    "<a id=preparation />"
   ]
  },
  {
   "cell_type": "code",
   "execution_count": null,
   "metadata": {
    "collapsed": false,
    "scrolled": false
   },
   "outputs": [],
   "source": [
    "%run \"../Functions/2. Game sessions.ipynb\""
   ]
  },
  {
   "cell_type": "markdown",
   "metadata": {},
   "source": [
    "# Constants\n",
    "<a id=constants />"
   ]
  },
  {
   "cell_type": "code",
   "execution_count": null,
   "metadata": {
    "collapsed": true
   },
   "outputs": [],
   "source": [
    "# special user ids\n",
    "userIDThatDidNotAnswer = '\"001c95c6-8207-43dc-a51b-adf0c6e005d7\"'\n",
    "\n",
    "userID1AnswerEN = '\"00dbbdca-d86c-4bc9-803c-0602e0153f68\"'\n",
    "userIDAnswersEN = '\"5977184a-1be2-4725-9b48-f2782dc03efb\"'\n",
    "userID1ScoreEN = '\"6b5d392d-b737-49ef-99af-e8c445ff6379\"'\n",
    "userIDScoresEN = '\"5ecf601d-4eac-433e-8056-3a5b9eda0555\"'\n",
    "\n",
    "userID1AnswerFR = '\"2734a37d-4ba5-454f-bf85-1f7b767138f6\"'\n",
    "userIDAnswersFR = '\"01e85778-2903-447b-bbab-dd750564ee2d\"'\n",
    "userID1ScoreFR = '\"3d733347-0313-441a-b77c-3e4046042a53\"'\n",
    "userIDScoresFR = '\"58d22690-8604-41cf-a5b7-d71fb3b9ad5b\"'\n",
    "\n",
    "userIDAnswersENFR = '\"a7936587-8b71-43b6-9c61-17b2c2b55de3\"'"
   ]
  },
  {
   "cell_type": "code",
   "execution_count": null,
   "metadata": {
    "collapsed": false
   },
   "outputs": [],
   "source": [
    "#localplayerguidkey = 'Ne pas modifier - identifiant anonyme prérempli'\n",
    "localplayerguidkey = 'Do not edit -  pre-filled anonymous ID'\n",
    "localplayerguidindex = gform.columns.get_loc(localplayerguidkey)\n",
    "localplayerguidindex"
   ]
  },
  {
   "cell_type": "code",
   "execution_count": null,
   "metadata": {
    "collapsed": false
   },
   "outputs": [],
   "source": [
    "firstEvaluationQuestionKey = 'In order to modify the abilities of the bacterium, you have to...'\n",
    "firstEvaluationQuestionIndex = gform.columns.get_loc(firstEvaluationQuestionKey)\n",
    "firstEvaluationQuestionIndex"
   ]
  },
  {
   "cell_type": "code",
   "execution_count": null,
   "metadata": {
    "collapsed": true
   },
   "outputs": [],
   "source": [
    "answersColumnNameStem = \"answers\"\n",
    "correctionsColumnNameStem = \"corrections\""
   ]
  },
  {
   "cell_type": "markdown",
   "metadata": {},
   "source": [
    "# Functions\n",
    "<a id=functions />"
   ]
  },
  {
   "cell_type": "markdown",
   "metadata": {},
   "source": [
    "## general purpose\n",
    "<a id=genpurpose />"
   ]
  },
  {
   "cell_type": "code",
   "execution_count": null,
   "metadata": {
    "collapsed": true
   },
   "outputs": [],
   "source": [
    "#GForm\n",
    "#user id in format localplayerguid = '8d352896-a3f1-471c-8439-0f426df901c1'\n",
    "GFormGUIDpattern = '^' + GUIDpattern + '$'\n",
    "\n",
    "def isGFormGUIDFormat( guid ):\n",
    "    return re.search(GFormGUIDpattern, guid)\n",
    "\n",
    "def unsafeGetRedMetricsGUIDFormat( guid ):\n",
    "        return '\"' + guid + '\"'\n",
    "\n",
    "def getRedMetricsGUIDFormat( guid ):\n",
    "    if(isRedMetricsGUIDFormat(guid)):\n",
    "        return guid\n",
    "    elif(isGFormGUIDFormat(guid)):\n",
    "        return '\"' + guid + '\"'\n",
    "    else:\n",
    "        print(\"incorrect GUID: check 1. Google form analysis' getRedMetricsGUIDFormat\")\n",
    "\n",
    "def unsafeGetGFormGUIDFormat( guid ):\n",
    "        return guid.replace('\"','')\n",
    "        \n",
    "def getGFormGUIDFormat( guid ):\n",
    "    if(isRedMetricsGUIDFormat(guid)):\n",
    "        return guid.replace('\"','')\n",
    "    elif(isGFormGUIDFormat(guid)):\n",
    "        return guid\n",
    "    else:\n",
    "        print(\"incorrect GUID: check 1. Google form analysis' getGFormGUIDFormat\")"
   ]
  },
  {
   "cell_type": "code",
   "execution_count": null,
   "metadata": {
    "collapsed": false
   },
   "outputs": [],
   "source": [
    "# returns all responders in GForm format\n",
    "def getAllRespondersGFormGUID( _form = gform ):\n",
    "    userIds = np.unique(_form[localplayerguidkey].values)\n",
    "    return userIds\n",
    "\n",
    "# returns all responders in RedMetrics format\n",
    "def getAllResponders( _form = gform ):\n",
    "    userIds = getAllRespondersGFormGUID(_form)\n",
    "    result = []\n",
    "    for id in userIds:\n",
    "        result.append('\"' + id + '\"')\n",
    "    return result\n",
    "\n",
    "def getRandomGFormGUID():\n",
    "    _uniqueUsers = getAllRespondersGFormGUID()\n",
    "    _userCount = len(_uniqueUsers)\n",
    "    _guid = '0'\n",
    "    while (not isGFormGUIDFormat(_guid)):\n",
    "        _userIndex = randint(0,_userCount-1)\n",
    "        _guid = _uniqueUsers[_userIndex]\n",
    "    return _guid\n",
    "\n",
    "def hasAnswered( _rmUserId, _form = gform ):\n",
    "    return _rmUserId.replace('\"','') in _form[localplayerguidkey].values\n",
    "\n",
    "def getAnswers( _userId, _form = gform ):\n",
    "    answers = _form[_form[localplayerguidkey]==_userId.replace('\"','')]\n",
    "    _columnAnswers = answers.T\n",
    "    \n",
    "    if 0 != len(answers):\n",
    "        _newColumns = []\n",
    "        for column in _columnAnswers.columns:\n",
    "            _newColumns.append(answersColumnNameStem + str(column))\n",
    "        _columnAnswers.columns = _newColumns\n",
    "    else:\n",
    "        # user has never answered\n",
    "        print(\"user \" + str(_userId) + \" has never answered\")\n",
    "        \n",
    "    return _columnAnswers"
   ]
  },
  {
   "cell_type": "markdown",
   "metadata": {},
   "source": [
    "## sessions and temporalities\n",
    "<a id=sessions />"
   ]
  },
  {
   "cell_type": "code",
   "execution_count": null,
   "metadata": {
    "collapsed": false
   },
   "outputs": [],
   "source": [
    "def setAnswerTemporalities( _df ):\n",
    "    # check\n",
    "    if(len(np.unique(gform['Temporality'].values)) > 1):\n",
    "        return\n",
    "    \n",
    "    for _index in _df.index:\n",
    "        _firstEventDate = getFirstEventDate(getRedMetricsGUIDFormat(_df.loc[_index,localplayerguidkey]))\n",
    "        _df.loc[_index,'Temporality'] = \\\n",
    "        getTemporality(_df.loc[_index,'Timestamp'],_firstEventDate)\n",
    "\n",
    "# when did the user answer the questionnaire? \n",
    "# After gameEventDate, before gameEventDate, undefined?\n",
    "# answerDate is assumed to be a string coding for tz='Europe/Berlin' time, from gform\n",
    "# gameEventDate is assumed to be of type pandas._libs.tslib.Timestamp, UTC, from RedMetrics\n",
    "def getTemporality( answerDate, gameEventDate ):\n",
    "    \n",
    "    if(gameEventDate == pd.Timestamp.max.tz_localize('utc')):\n",
    "        return answerTemporalities[2]\n",
    "    \n",
    "    # pd.to_datetime applies twice the localization to Berlin when GMT is present in the string\n",
    "    # so remove it\n",
    "    noGMT = answerDate.split(' GMT')[0]\n",
    "    tzAnswerDate = pd.Timestamp(noGMT, tz='Europe/Berlin')\n",
    "    \n",
    "    if(tzAnswerDate < gameEventDate):\n",
    "        return answerTemporalities[0]\n",
    "    elif (tzAnswerDate > gameEventDate):\n",
    "        return answerTemporalities[1]\n",
    "    else:\n",
    "        return answerTemporalities[2]"
   ]
  },
  {
   "cell_type": "markdown",
   "metadata": {},
   "source": [
    "## score\n",
    "<a id=score />"
   ]
  },
  {
   "cell_type": "code",
   "execution_count": null,
   "metadata": {
    "collapsed": false
   },
   "outputs": [],
   "source": [
    "def getCorrections( _userId, _source = correctAnswers, _form = gform ):\n",
    "    _columnAnswers = getAnswers( _userId, _form = _form )\n",
    "\n",
    "    if 0 != len(_columnAnswers.columns):\n",
    "\n",
    "        _questionsCount = len(_columnAnswers.values)\n",
    "\n",
    "        for _columnName in _columnAnswers.columns:\n",
    "            if answersColumnNameStem in _columnName:\n",
    "                _answerNumber = _columnName.replace(answersColumnNameStem,\"\")\n",
    "                newCorrectionsColumnName = correctionsColumnNameStem + _answerNumber\n",
    "\n",
    "                _columnAnswers[newCorrectionsColumnName] = _columnAnswers[_columnName]\n",
    "                _columnAnswers[newCorrectionsColumnName] = pd.Series(np.full(_questionsCount, np.nan))\n",
    "\n",
    "                for question in _columnAnswers[_columnName].index:\n",
    "                    _correctAnswers = _source.loc[question]\n",
    "                    \n",
    "                    if(len(_correctAnswers) > 0):\n",
    "                        _columnAnswers.loc[question,newCorrectionsColumnName] = False\n",
    "                        for _correctAnswer in _correctAnswers:\n",
    "                            if str(_columnAnswers.loc[question,_columnName])\\\n",
    "                            .startswith(str(_correctAnswer)):\n",
    "                                _columnAnswers.loc[question,newCorrectionsColumnName] = True\n",
    "                                break\n",
    "                        \n",
    "\n",
    "    else:\n",
    "        # user has never answered\n",
    "        print(\"can't give correct answers\")\n",
    "    return _columnAnswers\n",
    "\n",
    "# edits in-place\n",
    "# _corrections must be a dataframe full of corrections as produced above\n",
    "def getBinarizedCorrections( _corrections ):\n",
    "    for _columnName in _corrections.columns:\n",
    "        for _index in _corrections[_columnName].index:\n",
    "            if(True==_corrections.loc[_index,_columnName]):\n",
    "                _corrections.loc[_index,_columnName] = 1.0\n",
    "            elif (False==_corrections.loc[_index,_columnName]):\n",
    "                _corrections.loc[_index,_columnName] = 0.0\n",
    "    return _corrections\n",
    "\n",
    "def getAllBinarized(_source = correctAnswers, _form = gform ):\n",
    "    _notEmptyIndexes = []\n",
    "    for _index in _source.index:\n",
    "        if(len(_source.loc[_index]) > 0):\n",
    "            _notEmptyIndexes.append(_index)\n",
    "    \n",
    "    _first = True\n",
    "    for _userId in getAllResponders( _form = _form ):\n",
    "        _corrections = getCorrections(_userId, _source=_source, _form = _form)\n",
    "        _binarized = getBinarizedCorrections(_corrections)\n",
    "        _slicedBinarized =\\\n",
    "    _binarized.loc[_notEmptyIndexes][_binarized.columns[\\\n",
    "    _binarized.columns.to_series().str.contains(correctionsColumnNameStem)\\\n",
    "                                       ]]\n",
    "\n",
    "        if (_first):\n",
    "            _result = _slicedBinarized\n",
    "            _first = False\n",
    "        else:\n",
    "            _result = pd.concat([_result, _slicedBinarized], axis=1)\n",
    "    return _result.T\n",
    "\n",
    "methods = ['pearson', 'kendall', 'spearman']\n",
    "def plotCorrelationMatrix( \n",
    "    _binarizedMatrix, \n",
    "    _method = methods[0], \n",
    "    _title='Questions\\' Correlations', \n",
    "    _abs=False, \n",
    "    _clustered=False, \n",
    "    _questionNumbers=False,\n",
    "    _annot = False,\n",
    "    _figsize = (10,10)\n",
    "):\n",
    "    \n",
    "    _progress = FloatProgress(min=0, max=5)\n",
    "    display(_progress)\n",
    "    \n",
    "    _overlay = False\n",
    "    \n",
    "    # optional computation of overlay\n",
    "    if(_annot):\n",
    "        _overlay = getCrossCorrectAnswers(_binarizedMatrix).astype(int)\n",
    "    _progress.value += 1\n",
    "    \n",
    "    # computation of correlation matrix\n",
    "    _m = _method\n",
    "    if(not (_method in methods)):\n",
    "        _m = methods[0]\n",
    "    _correlation = _binarizedMatrix.astype(float).corr(_m)\n",
    "    _progress.value += 1\n",
    "    if(_abs):\n",
    "        _correlation = _correlation.abs()\n",
    "    _progress.value += 1\n",
    "    \n",
    "    # preparation of plot labels\n",
    "    if(_questionNumbers):\n",
    "        _correlation.columns = pd.Series(_correlation.columns).apply(\\\n",
    "                lambda x: x + ' #' + str(_correlation.columns.get_loc(x) + 1))\n",
    "        if(_clustered):\n",
    "            _correlation.index = pd.Series(_correlation.columns).apply(\\\n",
    "                lambda x: '#' + str(_correlation.columns.get_loc(x) + 1) + ' ' + x)\n",
    "        else:\n",
    "            _correlation.index = _correlation.columns\n",
    "    _progress.value += 1\n",
    "    \n",
    "    # plot\n",
    "    if(_clustered):\n",
    "        sns.clustermap(_correlation,cmap=plt.cm.jet,square=True,figsize=_figsize,annot=_overlay, fmt='d')\n",
    "    else:\n",
    "        _fig = plt.figure(figsize=_figsize)\n",
    "        _ax = plt.subplot(111)\n",
    "        _ax.set_title(_title)\n",
    "        sns.heatmap(_correlation,ax=_ax,cmap=plt.cm.jet,square=True,annot=_overlay, fmt='d')\n",
    "    _progress.value += 1\n",
    "\n",
    "# CCA.iloc[i,j] is the number of users who correctly answered questions number i and j\n",
    "# CCA[i,j] = Sum(A[u,i] * A[u,j], u in users) = Sum(tA[i,u] * A[u,j], u in users) = tA.A[i,j]\n",
    "# CCA[i,j] is an int\n",
    "def getCrossCorrectAnswers( _binarizedAnswers ):\n",
    "    return _binarizedAnswers.T.dot(_binarizedAnswers)\n",
    "\n",
    "#function that returns the score from user id\n",
    "scoreLabel = 'score'\n",
    "def getScore( _userId, _form = gform ):\n",
    "    _score = pd.DataFrame({}, columns = answerTemporalities)\n",
    "    _score.loc[scoreLabel,:] = np.nan\n",
    "    for _column in _score.columns:\n",
    "        _score.loc[scoreLabel, _column] = []\n",
    "\n",
    "    if hasAnswered( _userId, _form = _form ):\n",
    "        _columnAnswers = getCorrections(_userId, _form = _form)\n",
    "        for _columnName in _columnAnswers.columns:\n",
    "            # only work on corrected columns\n",
    "            if correctionsColumnNameStem in _columnName:\n",
    "                _answerColumnName = _columnName.replace(correctionsColumnNameStem,\\\n",
    "                                                      answersColumnNameStem)\n",
    "                _temporality = _columnAnswers.loc['Temporality',_answerColumnName]\n",
    "\n",
    "                _counts = (_columnAnswers[_columnName]).value_counts()\n",
    "                _thisScore = 0\n",
    "                if(True in _counts):\n",
    "                    _thisScore = _counts[True]\n",
    "                _score.loc[scoreLabel,_temporality].append(_thisScore)\n",
    "    else:\n",
    "        print(\"user \" + str(_userId) + \" has never answered\")\n",
    "\n",
    "    return _score"
   ]
  },
  {
   "cell_type": "markdown",
   "metadata": {},
   "source": [
    "## checkpoint validation\n",
    "<a id=checkvalidation />"
   ]
  },
  {
   "cell_type": "code",
   "execution_count": null,
   "metadata": {
    "collapsed": true
   },
   "outputs": [],
   "source": [
    "#function that returns the list of checkpoints from user id\n",
    "def getValidatedCheckpoints( userId, _form = gform ):\n",
    "    _validatedCheckpoints = []\n",
    "    \n",
    "    if hasAnswered( userId, _form = _form ):\n",
    "        _columnAnswers = getCorrections( userId, _form = _form)\n",
    "        \n",
    "        for _columnName in _columnAnswers.columns:\n",
    "            # only work on corrected columns\n",
    "            if correctionsColumnNameStem in _columnName:        \n",
    "                _questionnaireValidatedCheckpointsPerQuestion = pd.Series(np.nan, index=range(len(checkpointQuestionMatching)))\n",
    "\n",
    "                for _index in range(0, len(_questionnaireValidatedCheckpointsPerQuestion)):\n",
    "                    if _columnAnswers[_columnName][_index]==True:\n",
    "                        _questionnaireValidatedCheckpointsPerQuestion[_index] = checkpointQuestionMatching['checkpoint'][_index]\n",
    "                    else:\n",
    "                        _questionnaireValidatedCheckpointsPerQuestion[_index] = ''\n",
    "\n",
    "                _questionnaireValidatedCheckpoints = _questionnaireValidatedCheckpointsPerQuestion.unique()\n",
    "                _questionnaireValidatedCheckpoints = _questionnaireValidatedCheckpoints[_questionnaireValidatedCheckpoints!='']\n",
    "                _questionnaireValidatedCheckpoints = pd.Series(_questionnaireValidatedCheckpoints)\n",
    "                _questionnaireValidatedCheckpoints = _questionnaireValidatedCheckpoints.sort_values()\n",
    "                _questionnaireValidatedCheckpoints.index = range(0, len(_questionnaireValidatedCheckpoints))\n",
    "                \n",
    "                _validatedCheckpoints.append(_questionnaireValidatedCheckpoints) \n",
    "    else:\n",
    "        print(\"user \" + str(userId) + \" has never answered\")\n",
    "    return pd.Series(_validatedCheckpoints)\n",
    "\n",
    "def getValidatedCheckpointsCounts( _userId, _form = gform ):\n",
    "    _validatedCheckpoints = getValidatedCheckpoints(_userId, _form = _form)\n",
    "    _counts = []\n",
    "    for checkpointsList in _validatedCheckpoints:\n",
    "        _counts.append(len(checkpointsList))\n",
    "    return _counts\n",
    "\n",
    "def getNonValidated( checkpoints ):\n",
    "    _validationLists = []\n",
    "    \n",
    "    if 0!=len(checkpoints):\n",
    "        for _validation in checkpoints:\n",
    "            _result = pd.Series(np.setdiff1d(validableCheckpoints.values, _validation.values))\n",
    "            _result = _result[_result != '']\n",
    "            _result.index = range(0, len(_result))\n",
    "            _validationLists.append(_result)\n",
    "        return pd.Series(_validationLists)\n",
    "    else:\n",
    "        return validableCheckpoints\n",
    "\n",
    "def getNonValidatedCheckpoints( userId, _form = gform ):\n",
    "    validated = getValidatedCheckpoints( userId, _form = _form )\n",
    "    return getNonValidated(validated)\n",
    "\n",
    "def getNonValidatedCheckpointsCounts( userId, _form = gform ):\n",
    "    _nonValidatedCheckpoints = getNonValidatedCheckpoints(userId, _form = _form)\n",
    "    _counts = []\n",
    "    for checkpointsList in _nonValidatedCheckpoints:\n",
    "        _counts.append(len(checkpointsList))\n",
    "    return _counts"
   ]
  },
  {
   "cell_type": "markdown",
   "metadata": {},
   "source": [
    "## p(answered question N | answered question P)\n",
    "<a id=condproba />"
   ]
  },
  {
   "cell_type": "code",
   "execution_count": null,
   "metadata": {
    "collapsed": true
   },
   "outputs": [],
   "source": [
    "# returns all rows of Google form's answers that contain an element \n",
    "#   of the array 'choice' for question number 'questionIndex'\n",
    "def getAllAnswerRows(questionIndex, choice, _form = gform ):\n",
    "    return _form[_form.iloc[:, questionIndex].isin(choice)]\n",
    "\n",
    "def getPercentCorrectPerColumn(_df):\n",
    "    _count = len(_df)\n",
    "    _percents = pd.Series(np.full(len(_df.columns), np.nan), index=_df.columns)\n",
    "    for _rowIndex in _df.index:\n",
    "        for _columnName in _df.columns:\n",
    "            _columnIndex = _df.columns.get_loc(_columnName)\n",
    "            if ((_columnIndex >= firstEvaluationQuestionIndex) \\\n",
    "                and (_columnIndex < len(_df.columns)-3)):\n",
    "                if(str(_df[_columnName][_rowIndex]).startswith(str(correctAnswers[_columnIndex]))):\n",
    "                    if (np.isnan(_percents[_columnName])):\n",
    "                        _percents[_columnName] = 1;\n",
    "                    else:\n",
    "                        _percents[_columnName] = _percents[_columnName]+1\n",
    "                else:\n",
    "                    if (np.isnan(_percents[_columnName])):\n",
    "                        _percents[_columnName] = 0;\n",
    "                \n",
    "    _percents = _percents/_count\n",
    "    _percents['Count'] = _count\n",
    "    return _percents\n",
    "\n",
    "def getPercentCorrectKnowingAnswer(questionIndex, choice, _form = gform):\n",
    "    _answerRows = getAllAnswerRows(questionIndex, choice, _form = _form);\n",
    "    return getPercentCorrectPerColumn(_answerRows)"
   ]
  },
  {
   "cell_type": "markdown",
   "metadata": {},
   "source": [
    "# Initialization of gform\n",
    "<a id=gforminit />"
   ]
  },
  {
   "cell_type": "code",
   "execution_count": null,
   "metadata": {
    "collapsed": false
   },
   "outputs": [],
   "source": [
    "setAnswerTemporalities(gform)"
   ]
  }
 ],
 "metadata": {
  "kernelspec": {
   "display_name": "Python 3",
   "language": "python",
   "name": "python3"
  },
  "language_info": {
   "codemirror_mode": {
    "name": "ipython",
    "version": 3
   },
   "file_extension": ".py",
   "mimetype": "text/x-python",
   "name": "python",
   "nbconvert_exporter": "python",
   "pygments_lexer": "ipython3",
   "version": "3.5.4"
  }
 },
 "nbformat": 4,
 "nbformat_minor": 0
}
