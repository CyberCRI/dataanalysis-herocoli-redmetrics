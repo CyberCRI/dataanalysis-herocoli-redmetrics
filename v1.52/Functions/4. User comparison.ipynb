{
 "cells": [
  {
   "cell_type": "markdown",
   "metadata": {},
   "source": [
    "# User comparison"
   ]
  },
  {
   "cell_type": "markdown",
   "metadata": {},
   "source": [
    "# Table of Contents\n",
    "\n",
    "1.  [Preparation](#preparation)\n",
    "\n",
    "2.  [Functions](#functions)\n",
    "\n",
    "3.  [Tests](#tests)"
   ]
  },
  {
   "cell_type": "markdown",
   "metadata": {},
   "source": [
    "# Preparation\n",
    "<a id=preparation />"
   ]
  },
  {
   "cell_type": "code",
   "execution_count": null,
   "metadata": {
    "scrolled": false
   },
   "outputs": [],
   "source": [
    "%run \"../Functions/3. Per session and per user analysis.ipynb\""
   ]
  },
  {
   "cell_type": "markdown",
   "metadata": {
    "collapsed": true
   },
   "source": [
    "# Functions\n",
    "<a id=functions />"
   ]
  },
  {
   "cell_type": "code",
   "execution_count": null,
   "metadata": {},
   "outputs": [],
   "source": [
    "def getAllUsers( dataframe ):\n",
    "    allUserIds = np.array(dataframe['userId'].unique())\n",
    "    allUserIds = [i for i in allUserIds if not i in ['nan', np.nan, 'null']]\n",
    "    return allUserIds"
   ]
  },
  {
   "cell_type": "code",
   "execution_count": null,
   "metadata": {},
   "outputs": [],
   "source": [
    "# _source is used as correction source, if we want to include answers to these questions\n",
    "def getAllUserVectorData( userIds, _source = correctAnswers, _rmDF = rmdf152 ):\n",
    "    \n",
    "    # result\n",
    "    isInitialized = False\n",
    "    allData = []\n",
    "\n",
    "    f = FloatProgress(min=0, max=len(userIds))\n",
    "    display(f)\n",
    "    \n",
    "    for userId in userIds:\n",
    "        #print(str(userId))\n",
    "        f.value += 1\n",
    "        dataVector = getUserDataVector(userId, _source = _source, _rmDF = _rmDF)\n",
    "        if not isInitialized:\n",
    "            isInitialized = True\n",
    "            allData = dataVector\n",
    "        else:\n",
    "            allData = pd.concat([allData, dataVector], axis=1)\n",
    "\n",
    "    #print('done')\n",
    "    return allData"
   ]
  },
  {
   "cell_type": "code",
   "execution_count": null,
   "metadata": {},
   "outputs": [],
   "source": [
    "def getAllUserVectorDataCustom(before, after, gfMode = False, rmMode = True, sessionCount = 1, _rmDF = rmdf152):\n",
    "    userIds = []\n",
    "\n",
    "    if (before and after):\n",
    "        userIds = getSurveysOfUsersWhoAnsweredBoth(sample, gfMode = gfMode, rmMode = rmMode)\n",
    "    elif before:\n",
    "        if rmMode:\n",
    "            userIds = getRMBefores(sample)\n",
    "        else:\n",
    "            userIds = getGFBefores(sample)\n",
    "    elif after:\n",
    "        if rmMode:\n",
    "            userIds = getRMAfters(sample)\n",
    "        else:\n",
    "            userIds = getGFormAfters(sample)\n",
    "    if(len(userIds) > 0):\n",
    "        userIds = userIds[localplayerguidkey]\n",
    "        allUserVectorData = getAllUserVectorData(userIds, _rmDF = _rmDF)\n",
    "        allUserVectorData = allUserVectorData.T\n",
    "        result = allUserVectorData[allUserVectorData['sessionsCount'] == sessionCount].T\n",
    "        return result\n",
    "    else:\n",
    "        print(\"no matching user\")\n",
    "        return []"
   ]
  },
  {
   "cell_type": "code",
   "execution_count": null,
   "metadata": {},
   "outputs": [],
   "source": [
    "methods = ['pearson', 'kendall', 'spearman']\n",
    "def plotAllUserVectorDataCorrelationMatrix(\n",
    "    _allUserVectorData,\n",
    "    _method = methods[0], \n",
    "    _title='RedMetrics Correlations', \n",
    "    _abs=False,\n",
    "    _clustered=False, \n",
    "    _figsize = (20,20)\n",
    "):\n",
    "    \n",
    "    _progress = FloatProgress(min=0, max=3)\n",
    "    display(_progress)\n",
    "    \n",
    "    # computation of correlation matrix\n",
    "    _m = _method\n",
    "    if(not (_method in methods)):\n",
    "        _m = methods[0]\n",
    "    _correlation = _allUserVectorData.astype(float).corr(_m)\n",
    "    _progress.value += 1\n",
    "    if(_abs):\n",
    "        _correlation = _correlation.abs()\n",
    "    _progress.value += 1\n",
    "        \n",
    "    # plot\n",
    "    if(_clustered):\n",
    "        sns.clustermap(_correlation,cmap=plt.cm.jet,square=True,figsize=_figsize)\n",
    "    else:\n",
    "        _fig = plt.figure(figsize=_figsize)\n",
    "        _ax = plt.subplot(111)\n",
    "        _ax.set_title(_title)\n",
    "        sns.heatmap(_correlation,ax=_ax,cmap=plt.cm.jet,square=True)\n",
    "    _progress.value += 1"
   ]
  }
 ],
 "metadata": {
  "kernelspec": {
   "display_name": "Python [conda env:python3]",
   "language": "python",
   "name": "conda-env-python3-py"
  },
  "language_info": {
   "codemirror_mode": {
    "name": "ipython",
    "version": 3
   },
   "file_extension": ".py",
   "mimetype": "text/x-python",
   "name": "python",
   "nbconvert_exporter": "python",
   "pygments_lexer": "ipython3",
   "version": "3.5.4"
  }
 },
 "nbformat": 4,
 "nbformat_minor": 1
}
