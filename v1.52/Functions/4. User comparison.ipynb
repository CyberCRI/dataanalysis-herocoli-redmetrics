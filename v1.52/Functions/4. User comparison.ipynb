{
 "cells": [
  {
   "cell_type": "markdown",
   "metadata": {},
   "source": [
    "# User comparison"
   ]
  },
  {
   "cell_type": "markdown",
   "metadata": {},
   "source": [
    "# Table of Contents\n",
    "\n",
    "1.  [Preparation](#preparation)\n",
    "\n",
    "2.  [Functions](#functions)\n",
    "\n",
    "3.  [Tests](#tests)"
   ]
  },
  {
   "cell_type": "markdown",
   "metadata": {},
   "source": [
    "# Preparation\n",
    "<a id=preparation />"
   ]
  },
  {
   "cell_type": "code",
   "execution_count": null,
   "metadata": {
    "collapsed": false,
    "scrolled": false
   },
   "outputs": [],
   "source": [
    "%run \"../Functions/3. Per session and per user analysis.ipynb\""
   ]
  },
  {
   "cell_type": "markdown",
   "metadata": {
    "collapsed": true
   },
   "source": [
    "# Functions\n",
    "<a id=functions />"
   ]
  },
  {
   "cell_type": "code",
   "execution_count": null,
   "metadata": {
    "collapsed": true
   },
   "outputs": [],
   "source": [
    "def getAllUsers( dataframe ):\n",
    "    allUserIds = np.array(dataframe['userId'].unique())\n",
    "    allUserIds = [i for i in allUserIds if not i in ['nan', np.nan, 'null']]\n",
    "    return allUserIds"
   ]
  },
  {
   "cell_type": "code",
   "execution_count": null,
   "metadata": {
    "collapsed": true
   },
   "outputs": [],
   "source": [
    "from ipywidgets import FloatProgress\n",
    "from IPython.display import display"
   ]
  },
  {
   "cell_type": "code",
   "execution_count": null,
   "metadata": {
    "collapsed": true
   },
   "outputs": [],
   "source": [
    "def getAllUserVectorData( userIds ):\n",
    "    \n",
    "    # result\n",
    "    isInitialized = False\n",
    "    allData = []\n",
    "\n",
    "    f = FloatProgress(min=0, max=len(userIds))\n",
    "    display(f)\n",
    "    \n",
    "    for userId in userIds:\n",
    "        print(str(userId))\n",
    "        f.value += 1\n",
    "        if not isInitialized:\n",
    "            isInitialized = True\n",
    "            allData = getUserDataVector(userId)\n",
    "        else:\n",
    "            allData = pd.concat([allData, getUserDataVector(userId)], axis=1)\n",
    "\n",
    "    print('done')\n",
    "    return allData"
   ]
  }
 ],
 "metadata": {
  "kernelspec": {
   "display_name": "Python 3",
   "language": "python",
   "name": "python3"
  },
  "language_info": {
   "codemirror_mode": {
    "name": "ipython",
    "version": 3
   },
   "file_extension": ".py",
   "mimetype": "text/x-python",
   "name": "python",
   "nbconvert_exporter": "python",
   "pygments_lexer": "ipython3",
   "version": "3.5.4"
  }
 },
 "nbformat": 4,
 "nbformat_minor": 0
}
