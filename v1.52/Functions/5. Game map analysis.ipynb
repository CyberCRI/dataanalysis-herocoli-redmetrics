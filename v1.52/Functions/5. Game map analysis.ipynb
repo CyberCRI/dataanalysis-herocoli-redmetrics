{
 "cells": [
  {
   "cell_type": "markdown",
   "metadata": {},
   "source": [
    "# Game Map Analysis"
   ]
  },
  {
   "cell_type": "markdown",
   "metadata": {},
   "source": [
    "## Preparation"
   ]
  },
  {
   "cell_type": "code",
   "execution_count": null,
   "metadata": {},
   "outputs": [],
   "source": [
    "import matplotlib.image as image\n",
    "%run \"../Utilities/Preparation.ipynb\""
   ]
  },
  {
   "cell_type": "markdown",
   "metadata": {},
   "source": [
    "## Functions"
   ]
  },
  {
   "cell_type": "code",
   "execution_count": null,
   "metadata": {},
   "outputs": [],
   "source": [
    "# eg _types = ['death', 'reach', 'add', 'craft', 'remove', 'select', 'selectmenu']\n",
    "\n",
    "def filterAndLocateEvents(_types, _rmDF = rmdf152):\n",
    "    _mapRelevantColumns = ['type', 'section', 'coordinates']\n",
    "    _locatedEventsDF = _rmDF.loc[:,_mapRelevantColumns].dropna()\n",
    "\n",
    "    # types\n",
    "    _locatedEventsDF = _locatedEventsDF[_locatedEventsDF['type'].isin(_types)]\n",
    "\n",
    "    # section\n",
    "    _locatedEventsDF = _locatedEventsDF[(_locatedEventsDF['section'].str.startswith('tutorial1'))]\n",
    "\n",
    "    # x,y\n",
    "    _locatedEventsDF['x'] = _locatedEventsDF['coordinates']\n",
    "    _locatedEventsDF['y'] = _locatedEventsDF['coordinates']\n",
    "\n",
    "    _f = FloatProgress(min=0, max=len(_locatedEventsDF.index))\n",
    "    display(_f)\n",
    "\n",
    "    for index in _locatedEventsDF.index:\n",
    "        _coordinates = re.findall('-*\\d+', _locatedEventsDF['coordinates'][index])\n",
    "        _locatedEventsDF['x'][index] = int(_coordinates[0])\n",
    "        _locatedEventsDF['y'][index] = int(_coordinates[1])\n",
    "        _f.value += 1\n",
    "\n",
    "    _locatedEventsDF = _locatedEventsDF.drop('coordinates', 1)\n",
    "\n",
    "    return _locatedEventsDF"
   ]
  },
  {
   "cell_type": "code",
   "execution_count": null,
   "metadata": {},
   "outputs": [],
   "source": [
    "def getConstants():\n",
    "    _gameStartCoordinates = [-229,-608]\n",
    "    \n",
    "    # from RedMetrics\n",
    "    #_gameEndCoordinates = [441,-472]\n",
    "    \n",
    "    # after tinkering\n",
    "    _gameEndCoordinates = [450,-475]\n",
    "    \n",
    "\n",
    "    # only for '../../images/map.tutorial1.png'\n",
    "    _imgStartCoordinates = [833,432]\n",
    "    _imgEndCoordinates = [1333,334]\n",
    "\n",
    "    _scaleX = (_gameStartCoordinates[0]-_gameEndCoordinates[0])/(_imgStartCoordinates[0]-_imgEndCoordinates[0])\n",
    "    _scaleY = (_gameStartCoordinates[1]-_gameEndCoordinates[1])/(_imgStartCoordinates[1]-_imgEndCoordinates[1])\n",
    "    \n",
    "    _offsetX = _gameStartCoordinates[0] - (_imgStartCoordinates[0]*_scaleX)\n",
    "    _offsetY = _gameStartCoordinates[1] - (_imgStartCoordinates[1]*_scaleY)\n",
    "    \n",
    "    _constants = pd.Series([_scaleX,_scaleY,_offsetX,_offsetY], index=['scaleX', 'scaleY', 'offsetX', 'offsetY'])\n",
    "    \n",
    "    return _constants\n",
    "    \n",
    "def getGraphPosition(_imgPos, _constants):\n",
    "    _x = getXGraphPosition(_imgPos[0], _constants)\n",
    "    _y = getYGraphPosition(_imgPos[1], _constants)\n",
    "    return [_x, _y]\n",
    "\n",
    "def getXGraphPosition(_xImg, _constants):\n",
    "    return _constants.scaleX*_xImg + _constants.offsetX\n",
    "\n",
    "def getYGraphPosition(_yImg, _constants):\n",
    "    return _constants.scaleY*_yImg + _constants.offsetY"
   ]
  },
  {
   "cell_type": "code",
   "execution_count": null,
   "metadata": {},
   "outputs": [],
   "source": [
    "def plotLocatedEvents(_XYEventsDF, _types):\n",
    "    \n",
    "    _constants = getConstants()\n",
    "\n",
    "    plt.figure(figsize=(18,12))\n",
    "\n",
    "    # background map image display\n",
    "    _mapBackground = image.imread('../../images/map.tutorial1.png')\n",
    "\n",
    "    # background image dimensions\n",
    "    _minX = 0\n",
    "    _maxX = _mapBackground.shape[1]\n",
    "    _minY = _mapBackground.shape[0]\n",
    "    _maxY = 0\n",
    "\n",
    "    plt.imshow(_mapBackground, aspect='auto', zorder=-1, \\\n",
    "               extent=(getXGraphPosition(_minX,_constants), \\\n",
    "                       getXGraphPosition(_maxX,_constants), \\\n",
    "                       getYGraphPosition(_minY,_constants), \\\n",
    "                       getYGraphPosition(_maxY,_constants)), \\\n",
    "               alpha=0.5)\n",
    "\n",
    "\n",
    "    _colors = ['blue', 'red', 'green', 'yellow', 'black', 'cyan', 'orange', 'purple', 'brown', 'pink', 'olive', 'cyan', ]\n",
    "    _alphas = [ 0.3, 0.3, 0.3, 0.3, 0.3, 0.3, 0.3, 0.3, 0.3, 0.3, ]\n",
    "    _scatters = {}\n",
    "\n",
    "    for i, t in enumerate(_types):\n",
    "      _pts = _XYEventsDF[_XYEventsDF['type'] == t]\n",
    "      x = _pts['x']\n",
    "      y = _pts['y']\n",
    "\n",
    "      _scatters[t] = plt.plot(x, y, 'o', c=_colors[i], lw=0, alpha=_alphas[i])\n",
    "\n",
    "    plt.legend([ x[0] for x in _scatters.values()], list(_scatters.keys()))\n",
    "\n",
    "    # graph dimensions and extrema on tutorial1\n",
    "    # _minX=-1152\n",
    "    # _maxX=539\n",
    "    # _minY=-1161\n",
    "    # _maxY=-100\n",
    "    plt.xlim([-1200, 600])\n",
    "    plt.ylim([-1220, -20])\n",
    "    \n",
    "    plt.show()"
   ]
  }
 ],
 "metadata": {
  "kernelspec": {
   "display_name": "Python [conda env:python3]",
   "language": "python",
   "name": "conda-env-python3-py"
  },
  "language_info": {
   "codemirror_mode": {
    "name": "ipython",
    "version": 3
   },
   "file_extension": ".py",
   "mimetype": "text/x-python",
   "name": "python",
   "nbconvert_exporter": "python",
   "pygments_lexer": "ipython3",
   "version": "3.5.4"
  }
 },
 "nbformat": 4,
 "nbformat_minor": 1
}
