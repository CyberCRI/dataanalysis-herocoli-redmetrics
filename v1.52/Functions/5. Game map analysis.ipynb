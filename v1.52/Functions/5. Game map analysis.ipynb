{
 "cells": [
  {
   "cell_type": "markdown",
   "metadata": {},
   "source": [
    "# Game Map Analysis"
   ]
  },
  {
   "cell_type": "markdown",
   "metadata": {},
   "source": [
    "## Preparation"
   ]
  },
  {
   "cell_type": "code",
   "execution_count": 15,
   "metadata": {
    "collapsed": false
   },
   "outputs": [],
   "source": [
    "import re\n",
    "from ipywidgets import FloatProgress\n",
    "from IPython.display import display\n",
    "%run \"../Utilities/Preparation.ipynb\""
   ]
  },
  {
   "cell_type": "markdown",
   "metadata": {},
   "source": [
    "## Functions"
   ]
  },
  {
   "cell_type": "code",
   "execution_count": 17,
   "metadata": {
    "collapsed": false
   },
   "outputs": [],
   "source": [
    "# eg types = [\"death\", \"reach\", \"add\", \"craft\", \"remove\", \"select\", \"selectmenu\"]\n",
    "\n",
    "def filterAndLocateEvents(types):\n",
    "    mapRelevantColumns = ['type', 'section', 'coordinates']\n",
    "    mapDF = rdf152.loc[:,mapRelevantColumns].dropna()\n",
    "\n",
    "    # types\n",
    "    mapDF = mapDF[mapDF[\"type\"].isin(types)]\n",
    "\n",
    "    # section\n",
    "    tutorial1DF = mapDF[(mapDF['section'].str.startswith('tutorial1'))]\n",
    "\n",
    "#    subset = tutorial1DF.head(1000)\n",
    "    subset = tutorial1DF\n",
    "\n",
    "    # x,y\n",
    "    subset['x'] = subset['coordinates']\n",
    "    subset['y'] = subset['coordinates']\n",
    "\n",
    "    f = FloatProgress(min=0, max=len(subset.index))\n",
    "    display(f)\n",
    "\n",
    "    for index in subset.index:\n",
    "        coordinates = re.findall('-*\\d+', subset['coordinates'][index])\n",
    "        subset['x'][index] = coordinates[0]\n",
    "        subset['y'][index] = coordinates[1]\n",
    "        f.value += 1"
   ]
  },
  {
   "cell_type": "code",
   "execution_count": 18,
   "metadata": {
    "collapsed": false
   },
   "outputs": [],
   "source": [
    "def plotLocatedEvents(subset):\n",
    "    plt.figure(figsize=(15,15))\n",
    "    plt.axis('equal')\n",
    "\n",
    "    # c = [\"black\", \"red\", \"blue\", \"green\"]\n",
    "    c = ['black', 'red', 'blue', 'green', 'orange', 'purple', 'brown', 'pink', 'olive', 'cyan', ]\n",
    "    a = [ 0.3, 1, 1, 1, 1, 1, 1, 1, 1, 1, ]\n",
    "\n",
    "    scatters = {}\n",
    "\n",
    "    for i, t in enumerate(types):\n",
    "      pts = subset[subset[\"type\"] == t]\n",
    "      x = pts[\"x\"]\n",
    "      y = pts[\"y\"]\n",
    "\n",
    "      scatters[t] = plt.plot(x, y, 'o', c=c[i], lw=0, alpha=a[i])\n",
    "\n",
    "    plt.legend([ x[0] for x in scatters.values()], scatters.keys())\n",
    "    plt.show()"
   ]
  }
 ],
 "metadata": {
  "kernelspec": {
   "display_name": "Python 2",
   "language": "python",
   "name": "python2"
  },
  "language_info": {
   "codemirror_mode": {
    "name": "ipython",
    "version": 2
   },
   "file_extension": ".py",
   "mimetype": "text/x-python",
   "name": "python",
   "nbconvert_exporter": "python",
   "pygments_lexer": "ipython2",
   "version": "2.7.10"
  }
 },
 "nbformat": 4,
 "nbformat_minor": 0
}
