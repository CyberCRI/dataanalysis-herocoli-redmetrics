{
 "cells": [
  {
   "cell_type": "markdown",
   "metadata": {},
   "source": [
    "# Game Map Analysis"
   ]
  },
  {
   "cell_type": "markdown",
   "metadata": {},
   "source": [
    "## Preparation"
   ]
  },
  {
   "cell_type": "code",
   "execution_count": 4,
   "metadata": {
    "collapsed": false
   },
   "outputs": [
    {
     "name": "stderr",
     "output_type": "stream",
     "text": [
      "C:\\Users\\Mikael\\Anaconda3\\lib\\site-packages\\IPython\\core\\interactiveshell.py:2902: DtypeWarning: Columns (18,21,22,28,32,38) have mixed types. Specify dtype option on import or set low_memory=False.\n",
      "  interactivity=interactivity, compiler=compiler, result=result)\n",
      "C:\\Users\\Mikael\\Anaconda3\\lib\\site-packages\\IPython\\core\\interactiveshell.py:2902: DtypeWarning: Columns (14,15,16,17,18,20,21,22,25,26,27,30,33,34,35,36,37,38,39,40,41,42,43) have mixed types. Specify dtype option on import or set low_memory=False.\n",
      "  interactivity=interactivity, compiler=compiler, result=result)\n"
     ]
    }
   ],
   "source": [
    "import re\n",
    "from ipywidgets import FloatProgress\n",
    "from IPython.display import display\n",
    "import matplotlib.image as image\n",
    "%run \"../Utilities/Preparation.ipynb\""
   ]
  },
  {
   "cell_type": "markdown",
   "metadata": {},
   "source": [
    "## Functions"
   ]
  },
  {
   "cell_type": "code",
   "execution_count": 12,
   "metadata": {
    "collapsed": false
   },
   "outputs": [],
   "source": [
    "# eg _types = ['death', 'reach', 'add', 'craft', 'remove', 'select', 'selectmenu']\n",
    "\n",
    "def filterAndLocateEvents(_types):\n",
    "    _mapRelevantColumns = ['type', 'section', 'coordinates']\n",
    "    _locatedEventsDF = rdf152.loc[:,_mapRelevantColumns].dropna()\n",
    "\n",
    "    # types\n",
    "    _locatedEventsDF = _locatedEventsDF[_locatedEventsDF['type'].isin(_types)]\n",
    "\n",
    "    # section\n",
    "    _locatedEventsDF = _locatedEventsDF[(_locatedEventsDF['section'].str.startswith('tutorial1'))]\n",
    "\n",
    "    # x,y\n",
    "    _locatedEventsDF['x'] = _locatedEventsDF['coordinates']\n",
    "    _locatedEventsDF['y'] = _locatedEventsDF['coordinates']\n",
    "\n",
    "    _f = FloatProgress(min=0, max=len(_locatedEventsDF.index))\n",
    "    display(_f)\n",
    "\n",
    "    for index in _locatedEventsDF.index:\n",
    "        _coordinates = re.findall('-*\\d+', _locatedEventsDF['coordinates'][index])\n",
    "        _locatedEventsDF['x'][index] = int(_coordinates[0])\n",
    "        _locatedEventsDF['y'][index] = int(_coordinates[1])\n",
    "        _f.value += 1\n",
    "\n",
    "    _locatedEventsDF = _locatedEventsDF.drop('coordinates', 1)\n",
    "\n",
    "    return _locatedEventsDF"
   ]
  },
  {
   "cell_type": "code",
   "execution_count": null,
   "metadata": {
    "collapsed": true
   },
   "outputs": [],
   "source": [
    "def initializeConstants():\n",
    "    gameStartCoordinates = [-229,-608]\n",
    "    gameEndCoordinates = [441,-472]\n",
    "\n",
    "    # only for '../../images/map.tutorial1.png'\n",
    "    imgStartCoordinates = [833,432]\n",
    "    imgEndCoordinates = [1333,334]\n",
    "\n",
    "\n",
    "    scaleX = (gameStartCoordinates[0]-gameEndCoordinates[0])/(imgStartCoordinates[0]-imgEndCoordinates[0])\n",
    "    offsetX = gameStartCoordinates[0] - (imgStartCoordinates[0]*scaleX)\n",
    "    scaleY = (gameStartCoordinates[1]-gameEndCoordinates[1])/(imgStartCoordinates[1]-imgEndCoordinates[1])\n",
    "    offsetY = gameStartCoordinates[1] - (imgStartCoordinates[1]*scaleY)\n",
    "\n",
    "def getGraphPosition(imgPos):\n",
    "    _x = getXGraphPosition(imgPos[0])\n",
    "    _y = getYGraphPosition(imgPos[1])\n",
    "    return [_x, _y]\n",
    "\n",
    "def getXGraphPosition(xImg):\n",
    "    return scaleX*xImg + offsetX\n",
    "\n",
    "def getYGraphPosition(yImg):\n",
    "    return scaleY*yImg + offsetY"
   ]
  },
  {
   "cell_type": "code",
   "execution_count": 13,
   "metadata": {
    "collapsed": false
   },
   "outputs": [],
   "source": [
    "def plotLocatedEvents(_XYEventsDF, _types):\n",
    "    \n",
    "    initializeConstants()\n",
    "\n",
    "    plt.figure(figsize=(18,10))\n",
    "\n",
    "    # background map image display\n",
    "    _mapBackground = image.imread('../../images/map.tutorial1.png')\n",
    "\n",
    "    # background image dimensions\n",
    "    _minX = 0\n",
    "    _maxX = _mapBackground.shape[1]\n",
    "    _minY = _mapBackground.shape[0]\n",
    "    _maxY = 0\n",
    "\n",
    "    plt.imshow(_mapBackground, aspect='auto', zorder=-1, \\\n",
    "               extent=(getXGraphPosition(_minX), getXGraphPosition(_maxX), getYGraphPosition(_minY), getYGraphPosition(_maxY)), \\\n",
    "               alpha=0.5)\n",
    "\n",
    "\n",
    "    _colors = ['black', 'red', 'blue', 'green', 'orange', 'purple', 'brown', 'pink', 'olive', 'cyan', ]\n",
    "    _alphas = [ 0.3, 0.3, 0.3, 0.3, 0.3, 0.3, 0.3, 0.3, 0.3, 0.3, ]\n",
    "    _scatters = {}\n",
    "\n",
    "    for i, t in enumerate(_types):\n",
    "      _pts = _XYEventsDF[_XYEventsDF['type'] == t]\n",
    "      x = _pts['x']\n",
    "      y = _pts['y']\n",
    "\n",
    "      _scatters[t] = plt.plot(x, y, 'o', c=_colors[i], lw=0, alpha=_alphas[i])\n",
    "\n",
    "    plt.legend([ x[0] for x in _scatters.values()], _scatters.keys())\n",
    "\n",
    "    # graph dimensions and extrema on tutorial1\n",
    "    # _minX=-1152\n",
    "    # _maxX=539\n",
    "    # _minY=-1161\n",
    "    # _maxY=-100\n",
    "    plt.xlim([-1200, 600])\n",
    "    plt.ylim([-1200, -200])\n",
    "    \n",
    "    plt.show()"
   ]
  }
 ],
 "metadata": {
  "kernelspec": {
   "display_name": "Python 3",
   "language": "python",
   "name": "python3"
  },
  "language_info": {
   "codemirror_mode": {
    "name": "ipython",
    "version": 3
   },
   "file_extension": ".py",
   "mimetype": "text/x-python",
   "name": "python",
   "nbconvert_exporter": "python",
   "pygments_lexer": "ipython3",
   "version": "3.5.4"
  }
 },
 "nbformat": 4,
 "nbformat_minor": 0
}
