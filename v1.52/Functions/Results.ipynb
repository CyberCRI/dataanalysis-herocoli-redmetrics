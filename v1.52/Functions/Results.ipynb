{
 "cells": [
  {
   "cell_type": "markdown",
   "metadata": {},
   "source": [
    "# Research questions\n",
    "\n",
    "__[Source](https://docs.google.com/spreadsheets/d/1BsBWxCYFTH-O32gVZKoV5MufnDY5Zm6GzbR72UrCJTU)__"
   ]
  },
  {
   "cell_type": "markdown",
   "metadata": {},
   "source": [
    "## Table of Contents\n",
    "\n",
    "[I. Learning efficiency](#Learningefficiency)<br>\n",
    " [I.1. Academic education](#Academiceducation)<br>\n",
    " [I.2. Popularization and lifelong learning](#Popularizationandlifelonglearning)\n",
    "\n",
    "[II. Learning efficiency/motivation and demographics](#Learningefficiencymotivationanddemographics)\n",
    "\n",
    "[III. Playing duration and demographics](#Playingdurationanddemographics)\n",
    "\n",
    "[IV. Implicit/explicit content and demographics](#Implicitexplicitcontentanddemographics)\n",
    "\n",
    "[V. Educational sciences and game based assessment](#Educationalsciencesandgamebasedassessment)\n",
    "\n",
    "[VI. Draft of other research questions](#Draftofotherresearchquestions)\n",
    "\n",
    "\n",
    "***"
   ]
  },
  {
   "cell_type": "markdown",
   "metadata": {},
   "source": [
    "<a id=Learningefficiency />"
   ]
  },
  {
   "cell_type": "markdown",
   "metadata": {},
   "source": [
    "## I. Learning efficiency"
   ]
  },
  {
   "cell_type": "markdown",
   "metadata": {},
   "source": [
    "<a id=Academiceducation />"
   ]
  },
  {
   "cell_type": "markdown",
   "metadata": {},
   "source": [
    "### I.1. Academic education"
   ]
  },
  {
   "cell_type": "markdown",
   "metadata": {},
   "source": [
    "What can games bring to synthetic biology education for University students in terms of efficiency and motivation?\n",
    "\n",
    "##### H1a: the use of a game can increase the motivation and curiosity in learning synthetic biology.\n",
    "\n",
    "##### H1b: the use of a game can increase the understanding of synthetic biology mechanics of complex systems such as the toggle switch or the repressilator.\n",
    "\n",
    "##### H1c: the use of a game can increase the retention of the function name of several DNA sequences.\n",
    "\n",
    "##### H1d: the students can use the game as an experimenting tool to further develop their knowledge of the field of synthetic biology.\n",
    "\n",
    "##### H1e: the use of a game can introduce misconceptions in the minds of students.\n"
   ]
  },
  {
   "cell_type": "markdown",
   "metadata": {},
   "source": [
    "<a id=Popularizationandlifelonglearning />"
   ]
  },
  {
   "cell_type": "markdown",
   "metadata": {},
   "source": [
    "### I.2. Popularization and lifelong learning"
   ]
  },
  {
   "cell_type": "markdown",
   "metadata": {},
   "source": [
    "What can games bring to synthetic biology popularization to citizens in terms of interest and basic comprehension?\n",
    "\n",
    "\n",
    "##### H2a: the use of a game can increase the motivation and curiosity in discovering synthetic biology.\n",
    "\n",
    "##### H2b: the use of a game can make citizens understand basic notions about synthetic biology:\n",
    "a) the simplified link between genotype and phenotype,\n",
    "b) BioBricks as genes' subcomponents,\n",
    "c) the BioBrick simplified grammar: Promoter - RBS - Coding Sequence - Terminator,\n",
    "d) the simplified role of each kind of brick: condition - quantity - function - end,\n",
    "e) advanced notions: inducible promoters\n",
    "\n",
    "##### H2c: the use of a game can introduce misconceptions in the minds of citizens.\n"
   ]
  },
  {
   "cell_type": "markdown",
   "metadata": {},
   "source": [
    "<a id=Learningefficiencymotivationanddemographics />"
   ]
  },
  {
   "cell_type": "markdown",
   "metadata": {},
   "source": [
    "## II. Learning efficiency/motivation and demographics"
   ]
  },
  {
   "cell_type": "markdown",
   "metadata": {},
   "source": [
    "Does gender/age/... correlates to synthetic biology game-based learning efficiency in terms of knowledge acquisition?\n",
    "\n",
    "##### H3a: young people learn better with games; gender has no influence.\n",
    "\n",
    "Does gender/age/... correlates to motivation in synthetic biology game-based learning?\n",
    "\n",
    "##### H3b: young people are more motivated; gender has no influence."
   ]
  },
  {
   "cell_type": "markdown",
   "metadata": {},
   "source": [
    "<a id=Playingdurationanddemographics />"
   ]
  },
  {
   "cell_type": "markdown",
   "metadata": {},
   "source": [
    "## III. Playing duration and demographics"
   ]
  },
  {
   "cell_type": "markdown",
   "metadata": {},
   "source": [
    "Does interest in biology correlates with playing duration?\n",
    "\n",
    "##### H4a: interest in biology and playing duration correlate positively.\n",
    "\n",
    "Does interest in games correlates with playing duration?\n",
    "\n",
    "##### H4b: interest in games and playing duration correlate positively.\n",
    "\n",
    "Does gender/age/... correlate with playing duration?\n",
    "\n",
    "##### H4c: young people play longer; gender has no influence."
   ]
  },
  {
   "cell_type": "markdown",
   "metadata": {},
   "source": [
    "<a id=Implicitexplicitcontentanddemographics />"
   ]
  },
  {
   "cell_type": "markdown",
   "metadata": {},
   "source": [
    "## IV. Implicit/explicit content and demographics"
   ]
  },
  {
   "cell_type": "markdown",
   "metadata": {},
   "source": [
    "Is implicitly-taught content less well assimilated than explicitly-taught content?\n",
    "\n",
    "##### H5a: explicitly-taught content is better understood and remembered than implicitly-taught content.\n",
    "\n",
    "Does it depend on demographics - gender/age/... or students/citizens or gamers/non-gamers?\n",
    "\n",
    "##### H5b: the young, students, gamers better understand and remember implicitly-taught content. Gender has no influence."
   ]
  },
  {
   "cell_type": "markdown",
   "metadata": {},
   "source": [
    "<a id=Educationalsciencesandgamebasedassessment />"
   ]
  },
  {
   "cell_type": "markdown",
   "metadata": {},
   "source": [
    "## V. Educational sciences and game based assessment"
   ]
  },
  {
   "cell_type": "markdown",
   "metadata": {},
   "source": [
    "How comparable are learning metrics computed from questionnaires and from automated remote tracking data?\n",
    "\n",
    "##### H6a: In a linear game where each puzzle is compulsory to solve one after the other to finish the game, reaching some thresholds can be equivalent to validating the assimilation of a notion."
   ]
  },
  {
   "cell_type": "markdown",
   "metadata": {},
   "source": [
    "<a id=Draftofotherresearchquestions />"
   ]
  },
  {
   "cell_type": "markdown",
   "metadata": {},
   "source": [
    "## VI. Draft of other research questions"
   ]
  },
  {
   "cell_type": "markdown",
   "metadata": {},
   "source": [
    "Influence of repeated play\n",
    "\n",
    "Threshold effect: point after which everything is downhill, understood\n",
    "\n",
    "Results of timely spaced tests\n",
    "\n",
    "Effect of priming with pre-test\n",
    "\n",
    "Can quizz-based assessment be replaced by automated tracking?"
   ]
  },
  {
   "cell_type": "markdown",
   "metadata": {},
   "source": [
    "# Results\n",
    "\n",
    "## Statistics\n",
    "\n",
    "### Basic statistics\n",
    "\n",
    "\n",
    "category | count\n",
    " --- | ---\n",
    "surveys | 420\n",
    "unique users | 354\n",
    "RM before | 165\n",
    "GF before | 328\n",
    "RM after | 58\n",
    "GF after | 92\n",
    "unique biologists | 63\n",
    "unique gamers | 218\n",
    "unique perfect users | 43 \n",
    "\n",
    "\n",
    "### Correlation matrices\n",
    "\n",
    "### T-tests on demographics groups\n",
    "\n",
    "### WIP\n",
    "\n",
    "\n",
    "\n",
    "ANOVA, chi-squared\n",
    "\n",
    "## PCA\n",
    "\n",
    "Questions:\n",
    "\n",
    "- Can the users be clustered?\n",
    "\n",
    "- What are the most meaningful questions?\n",
    "\n",
    "\n",
    "## Classification\n",
    "[weblink](https://github.com/CyberCRI/dataanalysis-herocoli-redmetrics/blob/master/v1.52/Data%20mining/Classification.ipynb) [devlink](../Data%20mining/Classification.ipynb)\n",
    "\n",
    "## Clustering\n",
    "[weblink](https://github.com/CyberCRI/dataanalysis-herocoli-redmetrics/blob/master/v1.52/Data%20mining/Clustering.ipynb) [devlink](../Data%20mining/Clustering.ipynb)\n",
    "\n",
    "Cluster on subjects before the game: interest in biology is a better score predictor than studies in biology.\n",
    "\n",
    "\n",
    "### Can the data be clustered according to the answers given to the before questionnaire?\n",
    "[devlink](../Data%20mining/Clustering.ipynb#Can-the-data-be-clustered-according-to-the-answers-given-to-the-before-questionnaire?)\n",
    "\n",
    "#### If scientific questions are coded by answers:\n",
    "\n",
    "no interesting clustering (30/11/2017)\n",
    "\n",
    "#### If scientific questions are coded by correctedness:\n",
    "\n",
    "Conclusion: Two clusters, with one small cluster of highly interested subjects with very high level of correct answers (and high score) and big cluster of average interest and low level of correct answers (and low score). (30/01/2018)\n",
    "\n",
    "### Can the data be clustered according to the answers given to the after questionnaire?\n",
    "[devlink](../Data%20mining/Clustering.ipynb#Can-the-data-be-clustered-according-to-the-answers-given-to-the-after-questionnaire?)\n",
    "\n",
    "#### If scientific questions are coded by answers:\n",
    "\n",
    "Conclusion: No interesting clustering (30/11/2017)\n",
    "\n",
    "#### If scientific questions are coded by correctedness:\n",
    "\n",
    "Conclusion: No interesting clustering (16/01/2018)\n",
    "\n",
    "### Can the data be clustered according to the answers given to the questionnaire?\n",
    "\n",
    "#### If scientific questions are coded by answers:\n",
    "\n",
    "##### If only before and after questionnaires are used\n",
    "\n",
    "Conclusion: The data could be clustered in two groups Note: The silhouette coefficient probably never goes very high because of the binary aspect of most of the data (30/11/2017)\n",
    "\n",
    "Hypothesis: The two groups identified by the clustering algorithm correspond to the \"before\" and \"after\" questionnaires. Note: The temporality feature was not included in the clustering algorithm\n",
    "\n",
    "Conclusion: Hypothesis verified. Parallel coordinates plot is not very informative because of the high number of features and the high proportion of binary features, use only for data exploration (30/12/2017) Would be interesting to see if those that are predicted before while they are after share specific characteristics. (16/01/2018)\n",
    "\n",
    "##### If all questionnaires are used\n",
    "\n",
    "Conclusion: No interesting clustering (16/01/2018)\n",
    "\n",
    "Predicted before | Predicted after\n",
    " --- | ---\n",
    "Actual undefined | 31\t74\n",
    "Actual after\t34\t60\n",
    "Actual before\t54\t3\n",
    "\n",
    "Conclusion: Compared to previous test, the undefined class is too big. (16/01/2018)\n",
    "\n",
    "#### If scientific questions are coded by correctedness:\n",
    "\n",
    "## Regression"
   ]
  },
  {
   "cell_type": "code",
   "execution_count": 6,
   "metadata": {},
   "outputs": [
    {
     "name": "stdout",
     "output_type": "stream",
     "text": [
      "What is your name? test\n",
      "Hello, test.\n"
     ]
    }
   ],
   "source": [
    "name = input(\"What is your name? \")\n",
    "print (\"Hello, %s.\" % name)"
   ]
  },
  {
   "cell_type": "code",
   "execution_count": 2,
   "metadata": {},
   "outputs": [
    {
     "ename": "NameError",
     "evalue": "name 'raw_input' is not defined",
     "output_type": "error",
     "traceback": [
      "\u001b[1;31m---------------------------------------------------------------------------\u001b[0m",
      "\u001b[1;31mNameError\u001b[0m                                 Traceback (most recent call last)",
      "\u001b[1;32m<ipython-input-2-ba9b03dbbaa1>\u001b[0m in \u001b[0;36m<module>\u001b[1;34m()\u001b[0m\n\u001b[1;32m----> 1\u001b[1;33m \u001b[0mabc\u001b[0m \u001b[1;33m=\u001b[0m \u001b[0mraw_input\u001b[0m\u001b[1;33m(\u001b[0m\u001b[1;34m\"Type something here and it will be stored in variable abc \\t\"\u001b[0m\u001b[1;33m)\u001b[0m\u001b[1;33m\u001b[0m\u001b[0m\n\u001b[0m",
      "\u001b[1;31mNameError\u001b[0m: name 'raw_input' is not defined"
     ]
    }
   ],
   "source": [
    "abc = raw_input(\"Type something here and it will be stored in variable abc \\t\")"
   ]
  }
 ],
 "metadata": {
  "kernelspec": {
   "display_name": "Python [conda env:python3]",
   "language": "python",
   "name": "conda-env-python3-py"
  },
  "language_info": {
   "codemirror_mode": {
    "name": "ipython",
    "version": 3
   },
   "file_extension": ".py",
   "mimetype": "text/x-python",
   "name": "python",
   "nbconvert_exporter": "python",
   "pygments_lexer": "ipython3",
   "version": "3.5.4"
  }
 },
 "nbformat": 4,
 "nbformat_minor": 2
}
