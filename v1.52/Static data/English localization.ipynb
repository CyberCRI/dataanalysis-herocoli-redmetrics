{
 "cells": [
  {
   "cell_type": "markdown",
   "metadata": {},
   "source": [
    "# English localization"
   ]
  },
  {
   "cell_type": "markdown",
   "metadata": {},
   "source": [
    "Static list of correct answers in English."
   ]
  },
  {
   "cell_type": "markdown",
   "metadata": {},
   "source": [
    "[Additional columns](#addcol)\n",
    "    \n",
    "  - [Language column](#lang)\n",
    "    \n",
    "  - [Preparation for temporalities](#temp)\n",
    "  \n",
    "[Renaming](#renaming)\n",
    "  \n",
    "[List of answers](#enform)\n",
    "        \n",
    "  - [Scientific questions](#ensciform)\n",
    "        \n",
    "  - [Demographic questions](#endemform)\n",
    "    \n",
    "  - [Language selection](#langsel)\n",
    "\n",
    "[Basic operations](#basicops)\n",
    "\n",
    "[Checkpoint / Question matching](#checkquestmatch)"
   ]
  },
  {
   "cell_type": "code",
   "execution_count": null,
   "metadata": {},
   "outputs": [],
   "source": [
    "%run \"../Utilities/Preparation.ipynb\""
   ]
  },
  {
   "cell_type": "code",
   "execution_count": null,
   "metadata": {},
   "outputs": [],
   "source": [
    "csvEncoding = 'utf-8'\n",
    "\n",
    "gformPath = \"../../data/Google forms/\"\n",
    "genericFormName = '2017-12-12-gform-'\n",
    "csvSuffix = '.csv'\n",
    "\n",
    "\n",
    "enLanguageID = 'en'\n",
    "enSuffix = enLanguageID\n",
    "gformEN = pd.read_csv(gformPath + genericFormName + enSuffix + csvSuffix)\n",
    "\n",
    "\n",
    "frLanguageID = 'fr'\n",
    "frSuffix = frLanguageID\n",
    "\n",
    "frTranslationsPath = gformPath + 'translations-' + frSuffix + csvSuffix\n",
    "frCorrectScientificAnswersPath = gformPath + 'CorrectScientific-' + frSuffix + csvSuffix\n",
    "frDemographicAnswersPath = gformPath + 'Demographic-' + frSuffix + csvSuffix"
   ]
  },
  {
   "cell_type": "markdown",
   "metadata": {},
   "source": [
    "## Additional columns\n",
    "<a id=addcol />"
   ]
  },
  {
   "cell_type": "markdown",
   "metadata": {},
   "source": [
    "#### Language column\n",
    "<a id=lang />"
   ]
  },
  {
   "cell_type": "code",
   "execution_count": null,
   "metadata": {},
   "outputs": [],
   "source": [
    "gformEN['Language'] = pd.Series(enLanguageID, index=gformEN.index)"
   ]
  },
  {
   "cell_type": "markdown",
   "metadata": {},
   "source": [
    "#### Preparation for temporalities\n",
    "<a id=temp />"
   ]
  },
  {
   "cell_type": "code",
   "execution_count": null,
   "metadata": {},
   "outputs": [],
   "source": [
    "# when did the user answer the questionnaire? After playing, before playing, undefined?\n",
    "answerTemporalities = ['before', 'after', 'undefined'];\n",
    "gformEN['Temporality'] = pd.Series(answerTemporalities[2], index=gformEN.index)"
   ]
  },
  {
   "cell_type": "markdown",
   "metadata": {},
   "source": [
    "### Displays all unique answers to every question\n",
    "\n",
    "printIndex = -12\n",
    "avoidIndexes = [-12, -9, 28, 29, 30, 31]\n",
    "for question in gform.columns:\n",
    "    if (printIndex not in avoidIndexes):\n",
    "        print(\"Q\" + str(printIndex) + \" \" + question \\\n",
    "             + \"\\n\" + str(gform[question].unique()) + \"\\n\\n\")\n",
    "    printIndex = printIndex + 1"
   ]
  },
  {
   "cell_type": "markdown",
   "metadata": {},
   "source": [
    "## Renaming\n",
    "<a id=renaming />"
   ]
  },
  {
   "cell_type": "markdown",
   "metadata": {},
   "source": [
    "Labels are made more explicit. Their naming was done automatically by Google forms."
   ]
  },
  {
   "cell_type": "code",
   "execution_count": null,
   "metadata": {},
   "outputs": [],
   "source": [
    "renamedQuestions = pd.Index([\n",
    "'Timestamp',\n",
    "'Are you interested in video games?',\n",
    "'Do you play video games?',\n",
    "'How old are you?',\n",
    "'What is your gender?',\n",
    "'How long have you studied biology?',\n",
    "'Are you interested in biology?',\n",
    "'Before playing Hero.Coli, had you ever heard about synthetic biology?',\n",
    "'Before playing Hero.Coli, had you ever heard about BioBricks?',\n",
    "'Have you ever played an older version of Hero.Coli before?',\n",
    "'Have you played the current version of Hero.Coli?',\n",
    "'Have you played the arcade cabinet version of Hero.Coli?',\n",
    "'Have you played the Android version of Hero.Coli?',\n",
    "'In order to modify the abilities of the bacterium, you have to...',\n",
    "'What are BioBricks and devices?',\n",
    "'What is the name of this BioBrick? TER',\n",
    "'What is the name of this BioBrick? PR',\n",
    "'What is the name of this BioBrick? CDS',\n",
    "'What is the name of this BioBrick? RBS',\n",
    "'What does this BioBrick do? TER',\n",
    "'What does this BioBrick do? PR',\n",
    "'What does this BioBrick do? CDS',\n",
    "'What does this BioBrick do? RBS',\n",
    "'Pick the case where the BioBricks are well-ordered:',\n",
    "'When does green fluorescence happen?',\n",
    "'What happens when you unequip the movement device?',\n",
    "'What is this?',\n",
    "'What does this device do? PCONS:RBS:GFP:TER',\n",
    "'What does this device do? PCONS:RBS:FLHDC:TER',\n",
    "'What does this device do? PCONS:RBS:AMPR:TER',\n",
    "'What does this device do? PBAD:RBS:GFP:TER',\n",
    "'What does this device do? PCONS:RBS:GFP:TER 2',\n",
    "'What does this device do? PCONS:RBS:FLHDC:TER 2',\n",
    "'What does this device do? PCONS:RBS:AMPR:TER 2',\n",
    "'What does this device do? PBAD:RBS:GFP:TER 2',\n",
    "'Guess: what would a device producing l-arabinose do, if it started with a l-arabinose-induced promoter?',\n",
    "'Guess: the bacterium would glow yellow...',\n",
    "'What is the species of the bacterium of the game?',\n",
    "'What is the scientific name of the tails of the bacterium?',\n",
    "'Find the antibiotic:',\n",
    "'You can write down remarks here.',\n",
    "'Do not edit -  pre-filled anonymous ID',\n",
    "'Language',\n",
    "'Temporality'\n",
    "])"
   ]
  },
  {
   "cell_type": "code",
   "execution_count": null,
   "metadata": {},
   "outputs": [],
   "source": [
    "gformEN.columns = renamedQuestions"
   ]
  },
  {
   "cell_type": "markdown",
   "metadata": {},
   "source": [
    "## List of answers\n",
    "<a id=enform />"
   ]
  },
  {
   "cell_type": "markdown",
   "metadata": {},
   "source": [
    "### Scientific questions\n",
    "<a id=ensciform />"
   ]
  },
  {
   "cell_type": "code",
   "execution_count": null,
   "metadata": {},
   "outputs": [],
   "source": [
    "correctAnswersEN = pd.Series(\n",
    "    [\n",
    "            \n",
    "# Timestamp\n",
    "            [], #1\n",
    "\n",
    "# Basic demographics questions\n",
    "            [], #2\n",
    "            [], #3\n",
    "            [], #4\n",
    "            [], #5\n",
    "\n",
    "# Basic biology questions\n",
    "            [], #6\n",
    "            [], #7\n",
    "            [], #8\n",
    "            [], #9\n",
    "\n",
    "# Your experience with Hero.Coli\n",
    "            [], #10\n",
    "            [], #11\n",
    "            [], #12\n",
    "            [], #13\n",
    "            \n",
    "# General mechanics of the game\n",
    "            [\"Edit the DNA of the bacterium\"], #14\n",
    "            [\"DNA sequences\"], #15\n",
    "\n",
    "# BioBricks\n",
    "            [\"Terminator\"], #16\n",
    "            [\"Promoter\"], #17\n",
    "            [\"Coding Sequence\"], #18\n",
    "            [\"RBS\"], #19\n",
    "\n",
    "# BioBrick functions\n",
    "            [\"It shows the end of the device\"], #20\n",
    "            [\"It controls when the device is active\"], #21\n",
    "            [\"It controls which protein is produced, and thus which ability is affected\"], #22\n",
    "            [\"It controls the level of expression, and thus how much the ability will be affected\"], #23\n",
    "\n",
    "# Devices\n",
    "            [\"Option 1\"], #24\n",
    "            [\"Under blue light, when the GFP device is equipped\"], #25\n",
    "            [\"Flagella quickly disappear one by one\"], #26\n",
    "\n",
    "# Devices\n",
    "            [\"A plasmid - it makes it possible to equip an additional device\"], #27\n",
    "\n",
    "# Device symbols\n",
    "            [\"It generates green fluorescence\"], #28\n",
    "            [\"It makes it possible to move faster\"], #29\n",
    "            [\"It generates antibiotic resistance\"], #30\n",
    "            [\"It generates green fluorescence in presence of l-arabinose\"], #31\n",
    "\n",
    "# Device symbols\n",
    "            [\"It generates green fluorescence\"], #32\n",
    "            [\"It makes it possible to move faster\"], #33\n",
    "            [\"It generates antibiotic resistance\"], #34\n",
    "            [\"It generates green fluorescence in presence of l-arabinose\"], #35\n",
    "\n",
    "# Beyond the game\n",
    "            [\"After being induced, it would produce more and\"], #36\n",
    "            [\"If it produces YFP under cyan light\"], #37\n",
    "            [\"E. Coli\"], #38\n",
    "            [\"Flagella\"], #39\n",
    "            [\"Ampicillin\"], #40\n",
    "\n",
    "# Remarks\n",
    "            [], #41\n",
    "\n",
    "# ID\n",
    "            [], #42\n",
    "\n",
    "# Language\n",
    "            [], #43\n",
    "            \n",
    "# Temporality\n",
    "            [], #44\n",
    "            \n",
    "        ], index = gformEN.columns\n",
    ")\n",
    "#correctAnswersEN"
   ]
  },
  {
   "cell_type": "code",
   "execution_count": null,
   "metadata": {},
   "outputs": [],
   "source": [
    "type(correctAnswersEN)"
   ]
  },
  {
   "cell_type": "markdown",
   "metadata": {},
   "source": [
    "### Demographic questions\n",
    "<a id=endemform />"
   ]
  },
  {
   "cell_type": "code",
   "execution_count": null,
   "metadata": {},
   "outputs": [],
   "source": [
    "interestPositives = [\"A lot\", \"Extremely\", \"Moderately\"]\n",
    "\n",
    "gameInterestPositives = interestPositives\n",
    "frequencyPositives = interestPositives\n",
    "agePositives = [18,19,20,21,22,23]\n",
    "genderPositives = [\"Female\"]\n",
    "\n",
    "biologyStudyPositives = [\"Until bachelor's degree\", \"At least until master's degree\"]\n",
    "biologyInterestPositives = interestPositives\n",
    "yesNoIdontknowPositives = [\"Yes\"]\n",
    "\n",
    "previousPlayPositives = [\"Multiple times\",\"A few times\",\"Once\",\"Yes\"]\n",
    "\n",
    "languagePositives = [enLanguageID]\n",
    "\n",
    "temporalityPositives = [answerTemporalities[1]]\n",
    "\n",
    "\n",
    "demographicAnswersEN = pd.Series(\n",
    "    [\n",
    "            \n",
    "# Timestamp\n",
    "            [], #1\n",
    "\n",
    "# Basic demographics questions\n",
    "            interestPositives, #2\n",
    "            frequencyPositives, #3\n",
    "            agePositives, #4\n",
    "            genderPositives, #5\n",
    "\n",
    "# Basic biology questions\n",
    "            biologyStudyPositives, #6\n",
    "            biologyInterestPositives, #7\n",
    "            yesNoIdontknowPositives, #8\n",
    "            yesNoIdontknowPositives, #9\n",
    "\n",
    "# Your experience with Hero.Coli\n",
    "            previousPlayPositives, #10\n",
    "            previousPlayPositives, #11\n",
    "            previousPlayPositives, #12\n",
    "            previousPlayPositives, #13\n",
    "            \n",
    "# General mechanics of the game\n",
    "            [], #14\n",
    "            [], #15\n",
    "\n",
    "# BioBricks\n",
    "            [], #16\n",
    "            [], #17\n",
    "            [], #18\n",
    "            [], #19\n",
    "\n",
    "# BioBrick functions\n",
    "            [], #20\n",
    "            [], #21\n",
    "            [], #22\n",
    "            [], #23\n",
    "\n",
    "# Devices\n",
    "            [], #24\n",
    "            [], #25\n",
    "            [], #26\n",
    "\n",
    "# Devices\n",
    "            [], #27\n",
    "\n",
    "# Device symbols\n",
    "            [], #28\n",
    "            [], #29\n",
    "            [], #30\n",
    "            [], #31\n",
    "\n",
    "# Device symbols\n",
    "            [], #32\n",
    "            [], #33\n",
    "            [], #34\n",
    "            [], #35\n",
    "\n",
    "# Beyond the game\n",
    "            [], #36\n",
    "            [], #37\n",
    "            [], #38\n",
    "            [], #39\n",
    "            [], #40\n",
    "\n",
    "# Remarks\n",
    "            [], #41\n",
    "\n",
    "# ID\n",
    "            [], #42\n",
    "\n",
    "# Language\n",
    "            languagePositives, #43\n",
    "            \n",
    "# Temporality\n",
    "            temporalityPositives, #44\n",
    "            \n",
    "        ], index = gformEN.columns\n",
    ")\n",
    "#demographicAnswersEN"
   ]
  },
  {
   "cell_type": "markdown",
   "metadata": {},
   "source": [
    "### Language selection\n",
    "<a id=langsel />"
   ]
  },
  {
   "cell_type": "code",
   "execution_count": null,
   "metadata": {},
   "outputs": [],
   "source": [
    "correctAnswers = correctAnswersEN"
   ]
  },
  {
   "cell_type": "code",
   "execution_count": null,
   "metadata": {},
   "outputs": [],
   "source": [
    "demographicAnswers = demographicAnswersEN"
   ]
  },
  {
   "cell_type": "markdown",
   "metadata": {},
   "source": [
    "## Basic operations\n",
    "<a id=basicops />"
   ]
  },
  {
   "cell_type": "markdown",
   "metadata": {},
   "source": [
    "### Access\n",
    "For instance, access to the correct answer to the 19th question."
   ]
  },
  {
   "cell_type": "code",
   "execution_count": null,
   "metadata": {},
   "outputs": [],
   "source": [
    "correctAnswers.loc[gformEN.columns[19]]"
   ]
  },
  {
   "cell_type": "markdown",
   "metadata": {},
   "source": [
    "## Checkpoint / Question matching\n",
    "<a id=checkquestmatch />"
   ]
  },
  {
   "cell_type": "markdown",
   "metadata": {},
   "source": [
    "### cf [Hero.Coli knowledge content document](https://docs.google.com/spreadsheets/d/1QF8YZzeRwrWxsWMMGpS5yeZBCtco9PqpzoPUdrKldbI/edit#gid=0)"
   ]
  },
  {
   "cell_type": "code",
   "execution_count": null,
   "metadata": {},
   "outputs": [],
   "source": [
    "checkpointQuestionMatching = pd.DataFrame(\n",
    "    {\n",
    "        'checkpoint' : [\n",
    "            \n",
    "            # \"Timestamp\", # 1\n",
    "            '',\n",
    "            \n",
    "        # Basic demographics questions\n",
    "            # \"Are you interested in video games?\", # 2\n",
    "            '',\n",
    "            # \"Do you play video games?\", # 3\n",
    "            '',\n",
    "            # \"How old are you?\", # 4\n",
    "            '',\n",
    "            # \"What is your gender?\", # 5\n",
    "            '',\n",
    "            \n",
    "        # Basic biology questions\n",
    "            # \"How long have you studied biology?\", # 6\n",
    "            '',\n",
    "            # \"Are you interested in biology?\", # 7\n",
    "            '',\n",
    "            # \"Before playing Hero.Coli, had you ever heard about synthetic biology?\", # 8\n",
    "            '',\n",
    "            # \"Before playing Hero.Coli, had you ever heard about BioBricks?\", # 9\n",
    "            '',\n",
    "            \n",
    "        # Your experience with Hero.Coli\n",
    "            # \"Have you ever played an older version of Hero.Coli before?\", # 10\n",
    "            '',\n",
    "            # \"Have you played the current version of Hero.Coli?\", # 11\n",
    "            '',\n",
    "            # \"Have you played the arcade cabinet version of Hero.Coli?\", # 12\n",
    "            '',\n",
    "            # \"Have you played the Android version of Hero.Coli?\", # 13\n",
    "            '',\n",
    "            \n",
    "        # General mechanics of the game\n",
    "            # \"In order to modify the abilities of the bacterium, you have to...\", # 14\n",
    "            'tutorial1.Checkpoint00',\n",
    "            # \"What are BioBricks and devices?\", # 15\n",
    "            'tutorial1.Checkpoint00',\n",
    "            \n",
    "        # BioBricks\n",
    "            # \"What is the name of this BioBrick?\", # 16\n",
    "            'tutorial1.Checkpoint05',\n",
    "            # \"What is the name of this BioBrick?\", # 17\n",
    "            'tutorial1.Checkpoint05',\n",
    "            # \"What is the name of this BioBrick?\", # 18\n",
    "            'tutorial1.Checkpoint02',\n",
    "            # \"What is the name of this BioBrick?\", # 19\n",
    "            'tutorial1.Checkpoint01',\n",
    "            \n",
    "        # BioBrick functions\n",
    "            # \"What does this BioBrick do?\", # 20\n",
    "            'tutorial1.Checkpoint05',\n",
    "            # \"What does this BioBrick do?\", # 21\n",
    "            'tutorial1.Checkpoint05',\n",
    "            # \"What does this BioBrick do?\", # 22\n",
    "            'tutorial1.Checkpoint02',\n",
    "            # \"What does this BioBrick do?\", # 23\n",
    "            'tutorial1.Checkpoint01',\n",
    "            \n",
    "        # Devices\n",
    "            # \"Pick the case where the BioBricks are well-ordered:\", # 24\n",
    "            'tutorial1.Checkpoint01',\n",
    "            # \"When does green fluorescence happen?\", # 25\n",
    "            'tutorial1.Checkpoint02',\n",
    "            # \"What happens when you unequip the movement device?\", # 26\n",
    "            'tutorial1.Checkpoint00',\n",
    "            \n",
    "        # Devices\n",
    "            # \"What is this?\", # 27\n",
    "            'tutorial1.Checkpoint05',\n",
    "            \n",
    "        # Device symbols\n",
    "            # \"What does this device do?\", # 28\n",
    "            'tutorial1.Checkpoint02',\n",
    "            # \"What does this device do?\", # 29\n",
    "            'tutorial1.Checkpoint02',\n",
    "            # \"What does this device do?\", # 30\n",
    "            'tutorial1.Checkpoint13',\n",
    "            # \"What does this device do?\", # 31\n",
    "            'tutorial1.Checkpoint05',\n",
    "            \n",
    "        # Device symbols\n",
    "            # \"What does this device do?\", # 32\n",
    "            'tutorial1.Checkpoint02',\n",
    "            # \"What does this device do?\", # 33\n",
    "            'tutorial1.Checkpoint02',\n",
    "            # \"What does this device do?\", # 34\n",
    "            'tutorial1.Checkpoint13',\n",
    "            # \"What does this device do?\", # 35\n",
    "            'tutorial1.Checkpoint05',\n",
    "            \n",
    "        # Beyond the game\n",
    "            # \"Guess: what would a device producing l-arabinose do, \\\n",
    "                # if it started with a l-arabinose-induced promoter?\", # 36\n",
    "            'tutorial1.Checkpoint05',\n",
    "            # \"Guess: the bacterium would glow yellow...\", # 37\n",
    "            'tutorial1.Checkpoint02',\n",
    "            # \"What is the species of the bacterium of the game?\", # 38\n",
    "            'tutorial1.Checkpoint00',\n",
    "            # \"What is the scientific name of the tails of the bacterium?\", # 39\n",
    "            'tutorial1.Checkpoint00',\n",
    "            # \"Find the antibiotic:\", # 40\n",
    "            'tutorial1.Checkpoint02',\n",
    "            \n",
    "        # Remarks\n",
    "            # \"You can write down remarks here.\", # 41\n",
    "            '',\n",
    "            \n",
    "        # Thanks to have filled this study!\n",
    "            # \"Do not edit -  pre-filled anonymous ID\" # 42\n",
    "            '',\n",
    "            \n",
    "            # Language\n",
    "            '',\n",
    "            \n",
    "            # Temporality\n",
    "            '',\n",
    "        ]\n",
    "    }, index = gformEN.columns\n",
    ")\n",
    "#checkpointQuestionMatching"
   ]
  },
  {
   "cell_type": "code",
   "execution_count": null,
   "metadata": {},
   "outputs": [],
   "source": [
    "checkpointQuestionMatching['checkpoint'][20]"
   ]
  },
  {
   "cell_type": "code",
   "execution_count": null,
   "metadata": {},
   "outputs": [],
   "source": [
    "checkpointQuestionMatching.loc[gformEN.columns[20], 'checkpoint']"
   ]
  },
  {
   "cell_type": "code",
   "execution_count": null,
   "metadata": {
    "scrolled": true
   },
   "outputs": [],
   "source": [
    "def getUniqueSortedCheckpoints( checkpoints ):\n",
    "    result = checkpoints.unique()\n",
    "    result = result[result!='']\n",
    "    result = pd.Series(result)\n",
    "    result = result.sort_values()\n",
    "    result.index = range(0, len(result))\n",
    "    return result"
   ]
  },
  {
   "cell_type": "code",
   "execution_count": null,
   "metadata": {},
   "outputs": [],
   "source": [
    "validableCheckpoints = getUniqueSortedCheckpoints(checkpointQuestionMatching['checkpoint'])"
   ]
  }
 ],
 "metadata": {
  "kernelspec": {
   "display_name": "Python [conda env:python3]",
   "language": "python",
   "name": "conda-env-python3-py"
  },
  "language_info": {
   "codemirror_mode": {
    "name": "ipython",
    "version": 3
   },
   "file_extension": ".py",
   "mimetype": "text/x-python",
   "name": "python",
   "nbconvert_exporter": "python",
   "pygments_lexer": "ipython3",
   "version": "3.5.4"
  }
 },
 "nbformat": 4,
 "nbformat_minor": 1
}
