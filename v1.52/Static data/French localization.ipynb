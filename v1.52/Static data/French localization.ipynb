{
 "cells": [
  {
   "cell_type": "markdown",
   "metadata": {},
   "source": [
    "# French localization"
   ]
  },
  {
   "cell_type": "code",
   "execution_count": null,
   "metadata": {},
   "outputs": [],
   "source": [
    "%run \"../Static data/English localization.ipynb\"\n",
    "\n",
    "import re\n",
    "import json"
   ]
  },
  {
   "cell_type": "markdown",
   "metadata": {},
   "source": [
    "- [Preparation](#prep)\n",
    "\n",
    "  - [Additional columns](#addcol)\n",
    "    \n",
    "    - [Language column](#lang)\n",
    "    \n",
    "    - [Preparation for temporalities](#temp)\n",
    "\n",
    "- [List of localized possible answers](#frtranspos)\n",
    "\n",
    "- [List of answers](#frform)\n",
    "        \n",
    "    - [Scientific questions](#frsciform)\n",
    "        \n",
    "    - [Demographic questions](#frdemform)"
   ]
  },
  {
   "cell_type": "markdown",
   "metadata": {},
   "source": [
    "## Preparation\n",
    "<a id=prep />"
   ]
  },
  {
   "cell_type": "code",
   "execution_count": null,
   "metadata": {},
   "outputs": [],
   "source": [
    "# cf English localization.ipynb\n",
    "gformFR = pd.read_csv(gformPath + dataFilesNamesStem + genericFormName + frSuffix + csvSuffix)"
   ]
  },
  {
   "cell_type": "markdown",
   "metadata": {},
   "source": [
    "### Additional columns\n",
    "<a id=addcol />"
   ]
  },
  {
   "cell_type": "markdown",
   "metadata": {},
   "source": [
    "#### Language column\n",
    "<a id=lang />"
   ]
  },
  {
   "cell_type": "code",
   "execution_count": null,
   "metadata": {},
   "outputs": [],
   "source": [
    "gformFR['Language'] = pd.Series(frLanguageID, index=gformFR.index)"
   ]
  },
  {
   "cell_type": "markdown",
   "metadata": {},
   "source": [
    "#### Preparation for temporalities\n",
    "<a id=temp />"
   ]
  },
  {
   "cell_type": "code",
   "execution_count": null,
   "metadata": {},
   "outputs": [],
   "source": [
    "gformFR['Temporality'] = pd.Series(answerTemporalities[2], index=gformFR.index)"
   ]
  },
  {
   "cell_type": "markdown",
   "metadata": {},
   "source": [
    "## List of localized possible answers\n",
    "<a id=frtranspos />"
   ]
  },
  {
   "cell_type": "markdown",
   "metadata": {},
   "source": [
    "### Loading, normalization of index and columns"
   ]
  },
  {
   "cell_type": "code",
   "execution_count": null,
   "metadata": {},
   "outputs": [],
   "source": [
    "questionsAnswersTranslationsFR = pd.read_csv(frTranslationsPath)"
   ]
  },
  {
   "cell_type": "code",
   "execution_count": null,
   "metadata": {},
   "outputs": [],
   "source": [
    "questionsAnswersTranslationsFR.index = questionsAnswersTranslationsFR[questionsAnswersTranslationsFR.columns[0]].values\n",
    "questionsAnswersTranslationsFR = questionsAnswersTranslationsFR.T.iloc[1]"
   ]
  },
  {
   "cell_type": "code",
   "execution_count": null,
   "metadata": {},
   "outputs": [],
   "source": [
    "questionsAnswersTranslationsFR = pd.Series([[]],index = list(['Timestamp'])).append(questionsAnswersTranslationsFR)"
   ]
  },
  {
   "cell_type": "markdown",
   "metadata": {},
   "source": [
    "### Loading, normalization of index and columns"
   ]
  },
  {
   "cell_type": "code",
   "execution_count": null,
   "metadata": {},
   "outputs": [],
   "source": [
    "replacementToken = '$$$$'\n",
    "\n",
    "def replaceInWords(word, _replacement = ''):\n",
    "    return '\"' + word.group(1) + word.group(2) + _replacement + \"'\" + word.group(3) + word.group(4) + '\"'\n",
    "\n",
    "def prepareForDictJsonLoading(input_string):\n",
    "    # replace in-words \\' by $$$$'\n",
    "    #print(input_string)\n",
    "    previous = ''\n",
    "    while(previous != input_string):\n",
    "        previous = input_string\n",
    "        input_string = re.sub('\"(.*)(\\w+)\\'(\\w+)(.*)\"', lambda w: replaceInWords(w, _replacement=replacementToken), input_string, re.UNICODE)\n",
    "    \n",
    "    #print(input_string)\n",
    "    # replace all \\' by \\\"\n",
    "    input_string = input_string.replace(\"'\", '\"')\n",
    "    \n",
    "    #print(input_string)\n",
    "    # replace back in-words $$$$\\\" to \\'\n",
    "    #input_string = re.sub('\"(.*)(\\w+)$$$$\"(\\w+)(.*)\"', lambda w: replaceInWords(w, _replacement = '@'), input_string, re.UNICODE)\n",
    "    previous = ''\n",
    "    while(previous != input_string):\n",
    "        previous = input_string\n",
    "        input_string = input_string.replace(replacementToken + '\"', '\\'')\n",
    "    \n",
    "    return input_string\n",
    "  \n",
    "def string_to_dict(dict_string):\n",
    "    #print(\"loading \" + dict_string)\n",
    "    return json.loads(dict_string)"
   ]
  },
  {
   "cell_type": "code",
   "execution_count": null,
   "metadata": {},
   "outputs": [],
   "source": [
    "questionsAnswersTranslationsFR.loc['Do you play video games?']"
   ]
  },
  {
   "cell_type": "code",
   "execution_count": null,
   "metadata": {},
   "outputs": [],
   "source": [
    "string_to_dict(prepareForDictJsonLoading(questionsAnswersTranslationsFR.loc['Do you play video games?']))"
   ]
  },
  {
   "cell_type": "code",
   "execution_count": null,
   "metadata": {},
   "outputs": [],
   "source": [
    "for label in questionsAnswersTranslationsFR.index:\n",
    "    #print(label)\n",
    "    val = questionsAnswersTranslationsFR.loc[label]\n",
    "    if(type(val) is str):\n",
    "        _dict = string_to_dict(prepareForDictJsonLoading(val))\n",
    "        #print(val)\n",
    "        #print(_dict)\n",
    "        questionsAnswersTranslationsFR.loc[label] = [_dict]"
   ]
  },
  {
   "cell_type": "markdown",
   "metadata": {},
   "source": [
    "## List of correct answers\n",
    "<a id=frform />"
   ]
  },
  {
   "cell_type": "markdown",
   "metadata": {},
   "source": [
    "### Scientific questions\n",
    "<a id=frsciform />"
   ]
  },
  {
   "cell_type": "code",
   "execution_count": null,
   "metadata": {},
   "outputs": [],
   "source": [
    "#correctAnswersFR = pd.read_csv(frCorrectScientificAnswersPath)"
   ]
  },
  {
   "cell_type": "markdown",
   "metadata": {},
   "source": [
    "### Demographic questions\n",
    "<a id=frdemform />"
   ]
  },
  {
   "cell_type": "code",
   "execution_count": null,
   "metadata": {},
   "outputs": [],
   "source": [
    "#demographicAnswersFR = pd.read_csv(frDemographicAnswersPath)"
   ]
  }
 ],
 "metadata": {
  "kernelspec": {
   "display_name": "Python [conda env:python3]",
   "language": "python",
   "name": "conda-env-python3-py"
  },
  "language_info": {
   "codemirror_mode": {
    "name": "ipython",
    "version": 3
   },
   "file_extension": ".py",
   "mimetype": "text/x-python",
   "name": "python",
   "nbconvert_exporter": "python",
   "pygments_lexer": "ipython3",
   "version": "3.5.4"
  }
 },
 "nbformat": 4,
 "nbformat_minor": 1
}
