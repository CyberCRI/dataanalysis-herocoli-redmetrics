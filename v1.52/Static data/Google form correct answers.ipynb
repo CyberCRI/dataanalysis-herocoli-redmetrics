{
 "cells": [
  {
   "cell_type": "markdown",
   "metadata": {},
   "source": [
    "# Google form correct answers"
   ]
  },
  {
   "cell_type": "markdown",
   "metadata": {},
   "source": [
    "All possible and correct answers in English and French."
   ]
  },
  {
   "cell_type": "code",
   "execution_count": null,
   "metadata": {},
   "outputs": [],
   "source": [
    "%run \"../Static data/French localization.ipynb\""
   ]
  },
  {
   "cell_type": "markdown",
   "metadata": {},
   "source": [
    "[Localization](#loc)\n",
    "    \n",
    "[Merge](#merge)"
   ]
  },
  {
   "cell_type": "markdown",
   "metadata": {},
   "source": [
    "## Localization\n",
    "<a id=loc />"
   ]
  },
  {
   "cell_type": "code",
   "execution_count": null,
   "metadata": {},
   "outputs": [],
   "source": [
    "gformFR.columns = gformEN.columns"
   ]
  },
  {
   "cell_type": "markdown",
   "metadata": {},
   "source": [
    "#### getTranslatedForm tinkering"
   ]
  },
  {
   "cell_type": "code",
   "execution_count": null,
   "metadata": {},
   "outputs": [],
   "source": [
    "type(gformFR.index), type(gformEN.index)"
   ]
  },
  {
   "cell_type": "code",
   "execution_count": null,
   "metadata": {},
   "outputs": [],
   "source": [
    "localizedForm = gformFR.copy()\n",
    "localizedPossibleAnswers = questionsAnswersTranslationsFR.copy()\n",
    "\n",
    "#def getTranslatedForm( localizedForm, localizedPossibleAnswers ):\n",
    "result = localizedForm.copy()\n",
    "result.index = pd.Series(result.index).apply(str)\n",
    "localizedPossibleAnswers.index = pd.Series(localizedPossibleAnswers.index).apply(str)\n",
    "\n",
    "# translate answers\n",
    "for question in result.columns:\n",
    "    for index in result.index:\n",
    "        answer = result.loc[index, question]\n",
    "        if (\n",
    "            0 != len(localizedPossibleAnswers.loc[question])\n",
    "            and\n",
    "            (answer in localizedPossibleAnswers.loc[question][0])\n",
    "        ):  \n",
    "            #print(result.loc[index, question])\n",
    "            #print(localizedPossibleAnswers.loc[question][0][answer])\n",
    "            result.loc[index, question] =\\\n",
    "            localizedPossibleAnswers.loc[question][0][answer]\n",
    "\n",
    "# translate questions\n",
    "result = result.rename(columns=dict(zip(localizedForm.columns,gformEN.columns)))\n",
    "\n",
    "result"
   ]
  },
  {
   "cell_type": "markdown",
   "metadata": {},
   "source": [
    "answer = gformFR.loc[index, question]\n",
    "answer"
   ]
  },
  {
   "cell_type": "code",
   "execution_count": null,
   "metadata": {},
   "outputs": [],
   "source": [
    "# returns an English-indexed, English-localized answer dataframe\n",
    "#  from a French-indexed, French-localized dataframe\n",
    "def getTranslatedForm( _localizedForm, localizedPossibleAnswers ):\n",
    "    result = localizedForm.copy()\n",
    "    result.index = pd.Series(result.index).apply(str)\n",
    "    localizedPossibleAnswers.index = pd.Series(localizedPossibleAnswers.index).apply(str)\n",
    "\n",
    "    # translate answers\n",
    "    for question in result.columns:\n",
    "        for index in result.index:\n",
    "            answer = result.loc[index, question]\n",
    "            if (\n",
    "                0 != len(localizedPossibleAnswers.loc[question])\n",
    "                and\n",
    "                (answer in localizedPossibleAnswers.loc[question][0])\n",
    "            ):  \n",
    "                #print(result.loc[index, question])\n",
    "                #print(localizedPossibleAnswers.loc[question][0][answer])\n",
    "                result.loc[index, question] =\\\n",
    "                localizedPossibleAnswers.loc[question][0][answer]\n",
    "\n",
    "    # translate questions\n",
    "    result = result.rename(columns=dict(zip(localizedForm.columns,gformEN.columns)))\n",
    "\n",
    "    return result"
   ]
  },
  {
   "cell_type": "markdown",
   "metadata": {},
   "source": [
    "## Merge\n",
    "<a id=merge />"
   ]
  },
  {
   "cell_type": "code",
   "execution_count": null,
   "metadata": {},
   "outputs": [],
   "source": [
    "gform = pd.concat([gformEN, getTranslatedForm( gformFR, questionsAnswersTranslationsFR )])\n",
    "gform.index = range(0, len(gform.index))"
   ]
  },
  {
   "cell_type": "code",
   "execution_count": null,
   "metadata": {},
   "outputs": [],
   "source": [
    "gform.columns"
   ]
  },
  {
   "cell_type": "code",
   "execution_count": null,
   "metadata": {},
   "outputs": [],
   "source": [
    "renamedQuestions = pd.Index([\n",
    "'Timestamp',\n",
    "'Are you interested in video games?',\n",
    "'Do you play video games?',\n",
    "'How old are you?',\n",
    "'What is your gender?',\n",
    "'How long have you studied biology?',\n",
    "'Are you interested in biology?',\n",
    "'Before playing Hero.Coli, had you ever heard about synthetic biology?',\n",
    "'Before playing Hero.Coli, had you ever heard about BioBricks?',\n",
    "'Have you ever played an older version of Hero.Coli before?',\n",
    "'Have you played the current version of Hero.Coli?',\n",
    "'Have you played the arcade cabinet version of Hero.Coli?',\n",
    "'Have you played the Android version of Hero.Coli?',\n",
    "'In order to modify the abilities of the bacterium, you have to...',\n",
    "'What are BioBricks and devices?',\n",
    "'What is the name of this BioBrick? T',\n",
    "'What is the name of this BioBrick? PR',\n",
    "'What is the name of this BioBrick? CDS',\n",
    "'What is the name of this BioBrick? RBS',\n",
    "'What does this BioBrick do? T',\n",
    "'What does this BioBrick do? PR',\n",
    "'What does this BioBrick do? CDS',\n",
    "'What does this BioBrick do? RBS',\n",
    "'Pick the case where the BioBricks are well-ordered:',\n",
    "'When does green fluorescence happen?',\n",
    "'What happens when you unequip the movement device?',\n",
    "'What is this?',\n",
    "'What does this device do? PCONS:RBS:GFP:T',\n",
    "'What does this device do? PCONS:RBS:FLHDC:T',\n",
    "'What does this device do? PCONS:RBS:AMPR:T',\n",
    "'What does this device do? PBAD:RBS:GFP:T',\n",
    "'What does this device do? PCONS:RBS:GFP:T 2',\n",
    "'What does this device do? PCONS:RBS:FLHDC:T 2',\n",
    "'What does this device do? PCONS:RBS:AMPR:T 2',\n",
    "'What does this device do? PBAD:RBS:GFP:T 2',\n",
    "'Guess: what would a device producing l-arabinose do, if it started with a l-arabinose-induced promoter?',\n",
    "'Guess: the bacterium would glow yellow...',\n",
    "'What is the species of the bacterium of the game?',\n",
    "'What is the scientific name of the tails of the bacterium?',\n",
    "'Find the antibiotic:',\n",
    "'You can write down remarks here.',\n",
    "'Do not edit -  pre-filled anonymous ID',\n",
    "'Language',\n",
    "'Temporality'\n",
    "])"
   ]
  },
  {
   "cell_type": "code",
   "execution_count": null,
   "metadata": {},
   "outputs": [],
   "source": [
    "gform.columns = renamedQuestions"
   ]
  }
 ],
 "metadata": {
  "kernelspec": {
   "display_name": "Python [conda env:python3]",
   "language": "python",
   "name": "conda-env-python3-py"
  },
  "language_info": {
   "codemirror_mode": {
    "name": "ipython",
    "version": 3
   },
   "file_extension": ".py",
   "mimetype": "text/x-python",
   "name": "python",
   "nbconvert_exporter": "python",
   "pygments_lexer": "ipython3",
   "version": "3.5.4"
  }
 },
 "nbformat": 4,
 "nbformat_minor": 1
}
