{
 "cells": [
  {
   "cell_type": "markdown",
   "metadata": {},
   "source": [
    "# Correct Answers"
   ]
  },
  {
   "cell_type": "markdown",
   "metadata": {},
   "source": [
    "Static list of correct answers in English and French."
   ]
  },
  {
   "cell_type": "markdown",
   "metadata": {},
   "source": [
    "1. [Localized correct answers](#localized)\n",
    "    1. [List of questions](#qlist)\n",
    "    2. [English](#enform)\n",
    "    3. [French](#frform)\n",
    "    4. [Language selection](#langsel)\n",
    "3. [Basic operations](#basicops)\n",
    "4. [Checkpoint / Question matching](#checkquestmatch)"
   ]
  },
  {
   "cell_type": "code",
   "execution_count": null,
   "metadata": {
    "collapsed": false
   },
   "outputs": [],
   "source": [
    "%run \"../Utilities/Preparation.ipynb\""
   ]
  },
  {
   "cell_type": "markdown",
   "metadata": {},
   "source": [
    "## Localized correct answers\n",
    "<a id=localized />"
   ]
  },
  {
   "cell_type": "markdown",
   "metadata": {},
   "source": [
    "### List of questions\n",
    "<a id=qlist />"
   ]
  },
  {
   "cell_type": "code",
   "execution_count": null,
   "metadata": {
    "collapsed": true
   },
   "outputs": [],
   "source": [
    "# 1 Timestamp\n",
    "\n",
    "#\n",
    "# 2 Are you interested in video games?\n",
    "# 3 Do you play video games?\n",
    "# 4 How old are you?\n",
    "# 5 What is your gender?\n",
    "\n",
    "# Basic biology questions\n",
    "# 6 How long have you studied biology?\n",
    "# 7 Are you interested in biology?\n",
    "# 8 Have you ever heard about synthetic biology?\n",
    "# 9 Have you ever heard about BioBricks?\n",
    "\n",
    "# Your experience with Hero.Coli\n",
    "# 10 Have you ever played an older version of Hero.Coli before?\n",
    "# 11 Have you played the current version of Hero.Coli?\n",
    "# 12 Have you played the arcade cabinet version of Hero.Coli?\n",
    "# 13 Have you played the Android version of Hero.Coli?\n",
    "\n",
    "# General mechanics of the game\n",
    "# 14 In order to modify the abilities of the bacterium, you have to...\n",
    "# 15 What are BioBricks and devices?\n",
    "\n",
    "# BioBricks\n",
    "# 16 What is the name of this BioBrick? T\n",
    "# 17 What is the name of this BioBrick? P\n",
    "# 18 What is the name of this BioBrick? CDS\n",
    "# 19 What is the name of this BioBrick? RBS\n",
    "\n",
    "# BioBrick functions\n",
    "# 20 What does this BioBrick do? T\n",
    "# 21 What does this BioBrick do? P\n",
    "# 22 What does this BioBrick do? CDS\n",
    "# 23 What does this BioBrick do? RBS\n",
    "\n",
    "# Devices\n",
    "# 24 Pick the case where the BioBricks are well-ordered: Option 2\n",
    "# 25 When does green fluorescence happen?\n",
    "# 26 What happens when you unequip the movement device?\n",
    "\n",
    "# Devices\n",
    "# 27 What is this? Plasmid\n",
    "\n",
    "# Devices symbols\n",
    "# 28 What does this device do? GFP\n",
    "# 29 What does this device do? FLhDC\n",
    "# 30 What does this device do? AmpR\n",
    "# 31 What does this device do? pBAD3\n",
    "\n",
    "# Devices symbols\n",
    "# 32 What does this device do? GFP\n",
    "# 33 What does this device do? FLhDC\n",
    "# 34 What does this device do? AmpR\n",
    "# 35 What does this device do? pBAD3\n",
    "\n",
    "# Beyond the game\n",
    "# 36 Guess: what would a device producing l-arabinose do, if it started with a l-arabinose-induced promoter?\n",
    "# 37 What is the species of the bacterium of the game?\n",
    "# 38 What is the scientific name of the tails of the bacterium?\n",
    "# 39 Find the antibiotic:\n",
    "# 40 Guess: the bacterium would glow yellow...\n",
    "\n",
    "# Remarks\n",
    "# 41 You can write down remarks here.\n",
    "\n",
    "# ID\n",
    "# 42 Do not edit - pre-filled anonymous ID"
   ]
  },
  {
   "cell_type": "markdown",
   "metadata": {},
   "source": [
    "### English\n",
    "<a id=enform />"
   ]
  },
  {
   "cell_type": "code",
   "execution_count": null,
   "metadata": {
    "collapsed": false
   },
   "outputs": [],
   "source": [
    "correctAnswersEN = pd.DataFrame(\n",
    "    {\n",
    "        'correctAnswer' : [\n",
    "            \n",
    "# Timestamp\n",
    "            '', # 1\n",
    "\n",
    "# Basic demographics questions\n",
    "            '', # 2\n",
    "            '', # 3\n",
    "            '', # 4\n",
    "            '', # 5\n",
    "\n",
    "# Basic biology questions\n",
    "            '', # 6\n",
    "            '', # 7\n",
    "            '', # 8\n",
    "            '', # 9\n",
    "\n",
    "# Your experience with Hero.Coli\n",
    "            '', # 10\n",
    "            '', # 11\n",
    "            '', # 12\n",
    "            '', # 13\n",
    "            \n",
    "# General mechanics of the game\n",
    "            'Edit the DNA of the bacterium', # 12\n",
    "            'DNA sequences', # 13\n",
    "\n",
    "# BioBricks\n",
    "            'Terminator', # 16\n",
    "            'Promoter', # 17\n",
    "            'Coding Sequence', # 18\n",
    "            'RBS', # 19\n",
    "\n",
    "# BioBrick functions\n",
    "            'It shows the end of the device', #20\n",
    "            'It controls when the device is active', #21\n",
    "            'It controls which protein is produced, and thus which ability is affected', #22\n",
    "            'It controls the level of expression, and thus how much the ability will be affected', #23\n",
    "\n",
    "# Devices\n",
    "            'Option 1', #24\n",
    "            'Under blue light, when the GFP device is equipped', #25\n",
    "            'Flagella quickly disappear one by one', #26\n",
    "\n",
    "# Devices\n",
    "            'A plasmid - it makes it possible to equip an additional device', #27\n",
    "\n",
    "# Device symbols\n",
    "            'It generates green fluorescence', #28\n",
    "            'It makes it possible to move faster', #29\n",
    "            'It generates antibiotic resistance', #30\n",
    "            'It generates green fluorescence in presence of l-arabinose', #31\n",
    "\n",
    "# Device symbols\n",
    "            'It generates green fluorescence', #32\n",
    "            'It makes it possible to move faster', #33\n",
    "            'It generates antibiotic resistance', #34\n",
    "            'It generates green fluorescence in presence of l-arabinose', #35\n",
    "\n",
    "# Beyond the game\n",
    "            'After being induced, it would produce more and', # 36\n",
    "            'If it produces YFP under cyan light', #37\n",
    "            'E. Coli', #38\n",
    "            'Flagella', #39\n",
    "            'Ampicillin', #40\n",
    "\n",
    "# Remarks\n",
    "            '', # 41\n",
    "\n",
    "# ID\n",
    "            '' # 42            \n",
    "            \n",
    "        ]\n",
    "    }\n",
    ")\n",
    "#correctAnswersEN"
   ]
  },
  {
   "cell_type": "code",
   "execution_count": null,
   "metadata": {
    "collapsed": false
   },
   "outputs": [],
   "source": [
    "type(correctAnswersEN)"
   ]
  },
  {
   "cell_type": "markdown",
   "metadata": {},
   "source": [
    "## French\n",
    "<a id=frform />"
   ]
  },
  {
   "cell_type": "code",
   "execution_count": null,
   "metadata": {
    "collapsed": false,
    "scrolled": false
   },
   "outputs": [],
   "source": [
    "correctAnswersFR = pd.DataFrame(\n",
    "    {\n",
    "        'correctAnswer' : [\n",
    "        \n",
    "# Timestamp\n",
    "            '', # 1\n",
    "\n",
    "# Basic demographics questions\n",
    "            '', # 2\n",
    "            '', # 3\n",
    "            '', # 4\n",
    "            '', # 5\n",
    "\n",
    "# Basic biology questions\n",
    "            '', # 6\n",
    "            '', # 7\n",
    "            '', # 8\n",
    "            '', # 9\n",
    "\n",
    "# Your experience with Hero.Coli\n",
    "            '', # 10\n",
    "            '', # 11\n",
    "            '', # 12\n",
    "            '', # 13\n",
    "\n",
    "# General mechanics of the game        \n",
    "        'Modifier l', #14\n",
    "        'Des séquences d\\'ADN', #15\n",
    "\n",
    "# BioBricks\n",
    "        'Terminateur', #16\n",
    "        'Promoteur', #17\n",
    "        'Séquence Codante', #18\n",
    "        'RBS', #19\n",
    "\n",
    "# BioBrick functions\n",
    "        'Elle indique la fin de la construction', #20\n",
    "        'Elle contrôle quand la construction est active', #21\n",
    "        'Elle contrôle quelle protéine est produite, et donc quelle capacité est affectée', #22\n",
    "        'Elle contrôle le niveau d', #23\n",
    "\n",
    "# Devices\n",
    "        'Option 3', #24\n",
    "        'Sous lumière bleue, quand la construction GFP', #25\n",
    "        'Les flagelles disparaissent l', #26\n",
    "\n",
    "# Devices\n",
    "        'Un plasmide - un moyen d', #27\n",
    "\n",
    "# Device symbols\n",
    "        'Elle produit la fluorescence verte', #28\n",
    "        'Elle permet de se déplacer plus vite', #29\n",
    "        'Elle permet de résister aux antibiotiques', #30\n",
    "        'Elle produit la fluorescence verte en présence', #31\n",
    "\n",
    "# Device symbols\n",
    "        'Elle produit la fluorescence verte', #32\n",
    "        'Elle permet de se déplacer plus vite', #33\n",
    "        'Elle permet de résister aux antibiotiques', #34\n",
    "        'Elle produit la fluorescence verte en présence', #35\n",
    "\n",
    "# Beyond the game\n",
    "        'A partir du moment où elle serait induite, elle', #36\n",
    "        'Si elle produit de la YFP sous lumière cyan', #37\n",
    "        'Des flagelles', #38\n",
    "        'Ampicilline', #39\n",
    "        'E. Coli', #40\n",
    "\n",
    "# Remarks\n",
    "        '', #41\n",
    "\n",
    "# ID\n",
    "        '', #42\n",
    "                           \n",
    "                           \n",
    "        ]\n",
    "    }\n",
    ")\n",
    "#correctAnswersFR"
   ]
  },
  {
   "cell_type": "markdown",
   "metadata": {},
   "source": [
    "### Language selection\n",
    "<a id=langsel />"
   ]
  },
  {
   "cell_type": "code",
   "execution_count": null,
   "metadata": {
    "collapsed": false
   },
   "outputs": [],
   "source": [
    "correctAnswers = pd.DataFrame(columns = ['en', 'fr'])\n",
    "correctAnswers['en'] = correctAnswersEN\n",
    "correctAnswers['fr'] = correctAnswersFR\n",
    "correctAnswers"
   ]
  },
  {
   "cell_type": "markdown",
   "metadata": {},
   "source": [
    "## Basic operations\n",
    "<a id=basicops />"
   ]
  },
  {
   "cell_type": "markdown",
   "metadata": {},
   "source": [
    "### Access\n",
    "For instance, access to the correct answer to the 19th question."
   ]
  },
  {
   "cell_type": "code",
   "execution_count": null,
   "metadata": {
    "collapsed": false
   },
   "outputs": [],
   "source": [
    "correctAnswers['en'][20]"
   ]
  },
  {
   "cell_type": "code",
   "execution_count": null,
   "metadata": {
    "collapsed": false
   },
   "outputs": [],
   "source": [
    "correctAnswers['fr'][20]"
   ]
  },
  {
   "cell_type": "markdown",
   "metadata": {},
   "source": [
    "## Checkpoint / Question matching\n",
    "<a id=checkquestmatch />"
   ]
  },
  {
   "cell_type": "markdown",
   "metadata": {},
   "source": [
    "### cf [Hero.Coli knowledge content document](https://docs.google.com/spreadsheets/d/1QF8YZzeRwrWxsWMMGpS5yeZBCtco9PqpzoPUdrKldbI/edit#gid=0)"
   ]
  },
  {
   "cell_type": "code",
   "execution_count": null,
   "metadata": {
    "collapsed": false
   },
   "outputs": [],
   "source": [
    "checkpointQuestionMatching = pd.DataFrame(\n",
    "    {\n",
    "        'checkpoint' : [\n",
    "            \n",
    "            # \"Timestamp\", # 1\n",
    "            '',\n",
    "            \n",
    "        # Basic demographics questions\n",
    "            # \"Are you interested in video games?\", # 2\n",
    "            '',\n",
    "            # \"Do you play video games?\", # 3\n",
    "            '',\n",
    "            # \"How old are you?\", # 4\n",
    "            '',\n",
    "            # \"What is your gender?\", # 5\n",
    "            '',\n",
    "            \n",
    "        # Basic biology questions\n",
    "            # \"How long have you studied biology?\", # 6\n",
    "            '',\n",
    "            # \"Are you interested in biology?\", # 7\n",
    "            '',\n",
    "            # \"Before playing Hero.Coli, had you ever heard about synthetic biology?\", # 8\n",
    "            '',\n",
    "            # \"Before playing Hero.Coli, had you ever heard about BioBricks?\", # 9\n",
    "            '',\n",
    "            \n",
    "        # Your experience with Hero.Coli\n",
    "            # \"Have you ever played an older version of Hero.Coli before?\", # 10\n",
    "            '',\n",
    "            # \"Have you played the current version of Hero.Coli?\", # 11\n",
    "            '',\n",
    "            # \"Have you played the arcade cabinet version of Hero.Coli?\", # 12\n",
    "            '',\n",
    "            # \"Have you played the Android version of Hero.Coli?\", # 13\n",
    "            '',\n",
    "            \n",
    "        # General mechanics of the game\n",
    "            # \"In order to modify the abilities of the bacterium, you have to...\", # 14\n",
    "            'tutorial1.Checkpoint00',\n",
    "            # \"What are BioBricks and devices?\", # 15\n",
    "            'tutorial1.Checkpoint00',\n",
    "            \n",
    "        # BioBricks\n",
    "            # \"What is the name of this BioBrick?\", # 16\n",
    "            'tutorial1.Checkpoint05',\n",
    "            # \"What is the name of this BioBrick?\", # 17\n",
    "            'tutorial1.Checkpoint05',\n",
    "            # \"What is the name of this BioBrick?\", # 18\n",
    "            'tutorial1.Checkpoint02',\n",
    "            # \"What is the name of this BioBrick?\", # 19\n",
    "            'tutorial1.Checkpoint01',\n",
    "            \n",
    "        # BioBrick functions\n",
    "            # \"What does this BioBrick do?\", # 20\n",
    "            'tutorial1.Checkpoint05',\n",
    "            # \"What does this BioBrick do?\", # 21\n",
    "            'tutorial1.Checkpoint05',\n",
    "            # \"What does this BioBrick do?\", # 22\n",
    "            'tutorial1.Checkpoint02',\n",
    "            # \"What does this BioBrick do?\", # 23\n",
    "            'tutorial1.Checkpoint01',\n",
    "            \n",
    "        # Devices\n",
    "            # \"Pick the case where the BioBricks are well-ordered:\", # 24\n",
    "            'tutorial1.Checkpoint01',\n",
    "            # \"When does green fluorescence happen?\", # 25\n",
    "            'tutorial1.Checkpoint02',\n",
    "            # \"What happens when you unequip the movement device?\", # 26\n",
    "            'tutorial1.Checkpoint00',\n",
    "            \n",
    "        # Devices\n",
    "            # \"What is this?\", # 27\n",
    "            'tutorial1.Checkpoint05',\n",
    "            \n",
    "        # Device symbols\n",
    "            # \"What does this device do?\", # 28\n",
    "            'tutorial1.Checkpoint02',\n",
    "            # \"What does this device do?\", # 29\n",
    "            'tutorial1.Checkpoint02',\n",
    "            # \"What does this device do?\", # 30\n",
    "            'tutorial1.Checkpoint13',\n",
    "            # \"What does this device do?\", # 31\n",
    "            'tutorial1.Checkpoint05',\n",
    "            \n",
    "        # Device symbols\n",
    "            # \"What does this device do?\", # 32\n",
    "            'tutorial1.Checkpoint02',\n",
    "            # \"What does this device do?\", # 33\n",
    "            'tutorial1.Checkpoint02',\n",
    "            # \"What does this device do?\", # 34\n",
    "            'tutorial1.Checkpoint13',\n",
    "            # \"What does this device do?\", # 35\n",
    "            'tutorial1.Checkpoint05',\n",
    "            \n",
    "        # Beyond the game\n",
    "            # \"Guess: what would a device producing l-arabinose do, \\\n",
    "                # if it started with a l-arabinose-induced promoter?\", # 36\n",
    "            'tutorial1.Checkpoint05',\n",
    "            # \"Guess: the bacterium would glow yellow...\", # 37\n",
    "            'tutorial1.Checkpoint02',\n",
    "            # \"What is the species of the bacterium of the game?\", # 38\n",
    "            'tutorial1.Checkpoint00',\n",
    "            # \"What is the scientific name of the tails of the bacterium?\", # 39\n",
    "            'tutorial1.Checkpoint00',\n",
    "            # \"Find the antibiotic:\", # 40\n",
    "            'tutorial1.Checkpoint02',\n",
    "            \n",
    "        # Remarks\n",
    "            # \"You can write down remarks here.\", # 41\n",
    "            '',\n",
    "            \n",
    "        # Thanks to have filled this study!\n",
    "            # \"Do not edit -  pre-filled anonymous ID\" # 42\n",
    "            '',\n",
    "        ]\n",
    "    }\n",
    ")\n",
    "#checkpointQuestionMatching\n",
    "checkpointQuestionMatching['checkpoint'][20]"
   ]
  },
  {
   "cell_type": "code",
   "execution_count": null,
   "metadata": {
    "collapsed": false,
    "scrolled": true
   },
   "outputs": [],
   "source": [
    "def getUniqueSortedCheckpoints( checkpoints ):\n",
    "    result = checkpoints.unique()\n",
    "    result = result[result!='']\n",
    "    result = pd.Series(result)\n",
    "    result = result.sort_values()\n",
    "    result.index = range(0, len(result))\n",
    "    return result"
   ]
  },
  {
   "cell_type": "code",
   "execution_count": null,
   "metadata": {
    "collapsed": false
   },
   "outputs": [],
   "source": [
    "validableCheckpoints = getUniqueSortedCheckpoints(checkpointQuestionMatching['checkpoint'])"
   ]
  }
 ],
 "metadata": {
  "kernelspec": {
   "display_name": "Python 3",
   "language": "python",
   "name": "python3"
  },
  "language_info": {
   "codemirror_mode": {
    "name": "ipython",
    "version": 3
   },
   "file_extension": ".py",
   "mimetype": "text/x-python",
   "name": "python",
   "nbconvert_exporter": "python",
   "pygments_lexer": "ipython3",
   "version": "3.5.4"
  }
 },
 "nbformat": 4,
 "nbformat_minor": 0
}
