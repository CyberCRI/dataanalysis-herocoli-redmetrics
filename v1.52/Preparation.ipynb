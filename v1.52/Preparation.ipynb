{
 "cells": [
  {
   "cell_type": "code",
   "execution_count": null,
   "metadata": {
    "collapsed": true
   },
   "outputs": [],
   "source": [
    "%matplotlib inline\n",
    "\n",
    "import numpy as np\n",
    "import pandas as pd\n",
    "import matplotlib.pyplot as plt \n",
    "import seaborn as sns"
   ]
  },
  {
   "cell_type": "code",
   "execution_count": null,
   "metadata": {
    "collapsed": true
   },
   "outputs": [],
   "source": [
    "pd.__version__"
   ]
  },
  {
   "cell_type": "code",
   "execution_count": null,
   "metadata": {
    "collapsed": true
   },
   "outputs": [],
   "source": [
    "np.__version__"
   ]
  },
  {
   "cell_type": "code",
   "execution_count": null,
   "metadata": {
    "collapsed": true
   },
   "outputs": [],
   "source": [
    "# In RedMetrics data, 'playerId' is actually a session ID.\n",
    "# Permanent player IDs are stored as 'localplayerguid' in 'customdata' attached to 'start' events.\n",
    "relevantColumns = ['id', 'sessionId', 'serverTime', 'customData.localplayerguid', 'customData.platform']\n",
    "playerFilteringColumns = ['sessionId', 'customData.localplayerguid', 'customData.platform', 'serverTime']\n",
    "checkpointsRelevantColumns = ['sessionId', 'customData.localplayerguid', 'type', 'section']\n",
    "checkpointsStem = \"tutorial1.Checkpoint\";\n",
    "\n",
    "arcadeCabinetID = '\"deb089c0-9be3-4b75-9b27-28963c77b10c\"';\n",
    "devPCID1 = '\"7412a447-8177-48e9-82c5-cb31032f76a9\"'\n",
    "devPCID2 = '\"7bb82da4-293a-4597-ba62-cc432b5898a5\"'\n",
    "devPCID3 = '\"2036f6f4-50a1-4f94-8d4e-bfca814bbda8\"'\n",
    "devPCID4 = '\"30d15b5f-2cf6-46c9-b187-c16a62f4259f\"'\n",
    "devPCID5 = '\"7825d421-d668-4481-898a-46b51efe40f0\"'\n",
    "# possibly a tablet: a4d4b030-9117-4331-ba48-90dc05a7e65a\n",
    "\n",
    "excludedIDs = ['null', devPCID1, devPCID2, devPCID3, devPCID4, devPCID5];"
   ]
  }
 ],
 "metadata": {
  "kernelspec": {
   "display_name": "Python 2",
   "language": "python",
   "name": "python2"
  },
  "language_info": {
   "codemirror_mode": {
    "name": "ipython",
    "version": 2
   },
   "file_extension": ".py",
   "mimetype": "text/x-python",
   "name": "python",
   "nbconvert_exporter": "python",
   "pygments_lexer": "ipython2",
   "version": "2.7.10"
  }
 },
 "nbformat": 4,
 "nbformat_minor": 0
}
