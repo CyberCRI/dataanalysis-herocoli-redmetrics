{
 "cells": [
  {
   "cell_type": "markdown",
   "metadata": {},
   "source": [
    "# Preparation"
   ]
  },
  {
   "cell_type": "code",
   "execution_count": 8,
   "metadata": {
    "collapsed": false
   },
   "outputs": [],
   "source": [
    "%run Preparation.ipynb"
   ]
  },
  {
   "cell_type": "code",
   "execution_count": 9,
   "metadata": {
    "collapsed": false
   },
   "outputs": [],
   "source": [
    "df152 = pd.read_csv(\"data/2017-06-28.fes-a.csv\")\n",
    "\n",
    "relevantColumns = ['id', 'playerId', 'serverTime', 'customData.localplayerguid', 'customData.platform']\n",
    "\n",
    "part152 = df152.loc[:,relevantColumns]\n",
    "\n",
    "df = part152"
   ]
  },
  {
   "cell_type": "markdown",
   "metadata": {},
   "source": [
    "## Filter out by date - during the event"
   ]
  },
  {
   "cell_type": "code",
   "execution_count": 12,
   "metadata": {
    "collapsed": false
   },
   "outputs": [
    {
     "data": {
      "text/plain": [
       "35"
      ]
     },
     "execution_count": 12,
     "metadata": {},
     "output_type": "execute_result"
    }
   ],
   "source": [
    "startTime = \"2017-06-08T09:30:00.000Z\"\n",
    "endTime = \"2017-06-10T19:10:00.000Z\"\n",
    "\n",
    "duringFESDf = df152[(df152['serverTime'] > startTime) & (df152['serverTime'] < endTime)]\n",
    "duringFESDf = duringFESDf.loc[:,relevantColumns]\n",
    "\n",
    "sessionscount = duringFESDf[\"playerId\"].nunique()\n",
    "sessionscount"
   ]
  },
  {
   "cell_type": "code",
   "execution_count": 13,
   "metadata": {
    "collapsed": false
   },
   "outputs": [
    {
     "data": {
      "text/html": [
       "<div>\n",
       "<table border=\"1\" class=\"dataframe\">\n",
       "  <thead>\n",
       "    <tr style=\"text-align: right;\">\n",
       "      <th></th>\n",
       "      <th>customData.localplayerguid</th>\n",
       "      <th>customData.platform</th>\n",
       "    </tr>\n",
       "  </thead>\n",
       "  <tbody>\n",
       "    <tr>\n",
       "      <th>4418</th>\n",
       "      <td>\"deb089c0-9be3-4b75-9b27-28963c77b10c\"</td>\n",
       "      <td>\"linuxplayer\"</td>\n",
       "    </tr>\n",
       "    <tr>\n",
       "      <th>4521</th>\n",
       "      <td>\"7cece567-45d0-42e7-9870-3f83fb7de271\"</td>\n",
       "      <td>\"android\"</td>\n",
       "    </tr>\n",
       "    <tr>\n",
       "      <th>4532</th>\n",
       "      <td>\"3fcead86-5cd4-459d-bc0f-b98c39a3bcfc\"</td>\n",
       "      <td>\"webglplayer\"</td>\n",
       "    </tr>\n",
       "    <tr>\n",
       "      <th>4664</th>\n",
       "      <td>\"257b955f-0252-46a8-9089-e37ad2d53f04\"</td>\n",
       "      <td>\"webglplayer\"</td>\n",
       "    </tr>\n",
       "    <tr>\n",
       "      <th>4719</th>\n",
       "      <td>\"deb089c0-9be3-4b75-9b27-28963c77b10c\"</td>\n",
       "      <td>\"linuxplayer\"</td>\n",
       "    </tr>\n",
       "    <tr>\n",
       "      <th>4853</th>\n",
       "      <td>\"6c9c2b7c-0e2e-41a1-89a7-f21d3705270c\"</td>\n",
       "      <td>\"webglplayer\"</td>\n",
       "    </tr>\n",
       "    <tr>\n",
       "      <th>5004</th>\n",
       "      <td>\"deb089c0-9be3-4b75-9b27-28963c77b10c\"</td>\n",
       "      <td>\"linuxplayer\"</td>\n",
       "    </tr>\n",
       "    <tr>\n",
       "      <th>5037</th>\n",
       "      <td>\"def83f22-6d18-437f-8dc5-c7bdabf79099\"</td>\n",
       "      <td>\"webglplayer\"</td>\n",
       "    </tr>\n",
       "    <tr>\n",
       "      <th>5039</th>\n",
       "      <td>\"def83f22-6d18-437f-8dc5-c7bdabf79099\"</td>\n",
       "      <td>\"webglplayer\"</td>\n",
       "    </tr>\n",
       "    <tr>\n",
       "      <th>5108</th>\n",
       "      <td>\"08303535-5aee-4748-b901-f5fd0b2a26d8\"</td>\n",
       "      <td>\"webglplayer\"</td>\n",
       "    </tr>\n",
       "    <tr>\n",
       "      <th>5110</th>\n",
       "      <td>\"297708ce-a29e-4e3f-a6f4-94c5e9e02f96\"</td>\n",
       "      <td>\"webglplayer\"</td>\n",
       "    </tr>\n",
       "    <tr>\n",
       "      <th>5112</th>\n",
       "      <td>\"deb089c0-9be3-4b75-9b27-28963c77b10c\"</td>\n",
       "      <td>\"linuxplayer\"</td>\n",
       "    </tr>\n",
       "    <tr>\n",
       "      <th>5113</th>\n",
       "      <td>\"deb089c0-9be3-4b75-9b27-28963c77b10c\"</td>\n",
       "      <td>\"linuxplayer\"</td>\n",
       "    </tr>\n",
       "    <tr>\n",
       "      <th>5133</th>\n",
       "      <td>\"9880ce9d-c6fc-476e-98a9-a9e8c8f7fcdc\"</td>\n",
       "      <td>\"android\"</td>\n",
       "    </tr>\n",
       "    <tr>\n",
       "      <th>5301</th>\n",
       "      <td>\"deb089c0-9be3-4b75-9b27-28963c77b10c\"</td>\n",
       "      <td>\"linuxplayer\"</td>\n",
       "    </tr>\n",
       "    <tr>\n",
       "      <th>5314</th>\n",
       "      <td>\"deb089c0-9be3-4b75-9b27-28963c77b10c\"</td>\n",
       "      <td>\"linuxplayer\"</td>\n",
       "    </tr>\n",
       "    <tr>\n",
       "      <th>5315</th>\n",
       "      <td>\"deb089c0-9be3-4b75-9b27-28963c77b10c\"</td>\n",
       "      <td>\"linuxplayer\"</td>\n",
       "    </tr>\n",
       "    <tr>\n",
       "      <th>5364</th>\n",
       "      <td>\"58011e25-5877-407a-99a4-5b6686be2c85\"</td>\n",
       "      <td>\"webglplayer\"</td>\n",
       "    </tr>\n",
       "    <tr>\n",
       "      <th>5371</th>\n",
       "      <td>\"58011e25-5877-407a-99a4-5b6686be2c85\"</td>\n",
       "      <td>\"webglplayer\"</td>\n",
       "    </tr>\n",
       "    <tr>\n",
       "      <th>5421</th>\n",
       "      <td>\"deb089c0-9be3-4b75-9b27-28963c77b10c\"</td>\n",
       "      <td>\"linuxplayer\"</td>\n",
       "    </tr>\n",
       "    <tr>\n",
       "      <th>5422</th>\n",
       "      <td>\"deb089c0-9be3-4b75-9b27-28963c77b10c\"</td>\n",
       "      <td>\"linuxplayer\"</td>\n",
       "    </tr>\n",
       "    <tr>\n",
       "      <th>5714</th>\n",
       "      <td>\"91109971-ffb1-471d-9ce3-4fc47e38ad1f\"</td>\n",
       "      <td>\"webglplayer\"</td>\n",
       "    </tr>\n",
       "    <tr>\n",
       "      <th>6337</th>\n",
       "      <td>\"deb089c0-9be3-4b75-9b27-28963c77b10c\"</td>\n",
       "      <td>\"linuxplayer\"</td>\n",
       "    </tr>\n",
       "    <tr>\n",
       "      <th>6456</th>\n",
       "      <td>\"75e264d6-af94-4975-bb18-50cac09894c4\"</td>\n",
       "      <td>\"webglplayer\"</td>\n",
       "    </tr>\n",
       "    <tr>\n",
       "      <th>6479</th>\n",
       "      <td>\"deb089c0-9be3-4b75-9b27-28963c77b10c\"</td>\n",
       "      <td>\"linuxplayer\"</td>\n",
       "    </tr>\n",
       "    <tr>\n",
       "      <th>6497</th>\n",
       "      <td>\"c032ad4c-4583-4f88-915d-e2fe114d2598\"</td>\n",
       "      <td>\"webglplayer\"</td>\n",
       "    </tr>\n",
       "    <tr>\n",
       "      <th>6512</th>\n",
       "      <td>\"a2d9b465-4329-47e6-9404-a62ee1bf3f9b\"</td>\n",
       "      <td>\"webglplayer\"</td>\n",
       "    </tr>\n",
       "    <tr>\n",
       "      <th>6513</th>\n",
       "      <td>\"a2d9b465-4329-47e6-9404-a62ee1bf3f9b\"</td>\n",
       "      <td>\"webglplayer\"</td>\n",
       "    </tr>\n",
       "    <tr>\n",
       "      <th>6514</th>\n",
       "      <td>\"95ead482-b6fd-4f1a-b0fb-13b348a13833\"</td>\n",
       "      <td>\"webglplayer\"</td>\n",
       "    </tr>\n",
       "    <tr>\n",
       "      <th>6517</th>\n",
       "      <td>\"deb089c0-9be3-4b75-9b27-28963c77b10c\"</td>\n",
       "      <td>\"linuxplayer\"</td>\n",
       "    </tr>\n",
       "    <tr>\n",
       "      <th>6931</th>\n",
       "      <td>\"deb089c0-9be3-4b75-9b27-28963c77b10c\"</td>\n",
       "      <td>\"linuxplayer\"</td>\n",
       "    </tr>\n",
       "    <tr>\n",
       "      <th>6932</th>\n",
       "      <td>\"deb089c0-9be3-4b75-9b27-28963c77b10c\"</td>\n",
       "      <td>\"linuxplayer\"</td>\n",
       "    </tr>\n",
       "    <tr>\n",
       "      <th>7119</th>\n",
       "      <td>\"257b955f-0252-46a8-9089-e37ad2d53f04\"</td>\n",
       "      <td>\"webglplayer\"</td>\n",
       "    </tr>\n",
       "    <tr>\n",
       "      <th>7379</th>\n",
       "      <td>\"deb089c0-9be3-4b75-9b27-28963c77b10c\"</td>\n",
       "      <td>\"linuxplayer\"</td>\n",
       "    </tr>\n",
       "    <tr>\n",
       "      <th>7533</th>\n",
       "      <td>\"c75c8aba-148f-4bc9-a543-b42a9b7920d9\"</td>\n",
       "      <td>\"webglplayer\"</td>\n",
       "    </tr>\n",
       "    <tr>\n",
       "      <th>7863</th>\n",
       "      <td>\"57badcdc-95a3-4436-83fc-a15ea8314ec3\"</td>\n",
       "      <td>\"webglplayer\"</td>\n",
       "    </tr>\n",
       "    <tr>\n",
       "      <th>8183</th>\n",
       "      <td>\"c8cb0a78-5060-4238-ba7a-94323a0f5f0d\"</td>\n",
       "      <td>\"webglplayer\"</td>\n",
       "    </tr>\n",
       "  </tbody>\n",
       "</table>\n",
       "</div>"
      ],
      "text/plain": [
       "                  customData.localplayerguid customData.platform\n",
       "4418  \"deb089c0-9be3-4b75-9b27-28963c77b10c\"       \"linuxplayer\"\n",
       "4521  \"7cece567-45d0-42e7-9870-3f83fb7de271\"           \"android\"\n",
       "4532  \"3fcead86-5cd4-459d-bc0f-b98c39a3bcfc\"       \"webglplayer\"\n",
       "4664  \"257b955f-0252-46a8-9089-e37ad2d53f04\"       \"webglplayer\"\n",
       "4719  \"deb089c0-9be3-4b75-9b27-28963c77b10c\"       \"linuxplayer\"\n",
       "4853  \"6c9c2b7c-0e2e-41a1-89a7-f21d3705270c\"       \"webglplayer\"\n",
       "5004  \"deb089c0-9be3-4b75-9b27-28963c77b10c\"       \"linuxplayer\"\n",
       "5037  \"def83f22-6d18-437f-8dc5-c7bdabf79099\"       \"webglplayer\"\n",
       "5039  \"def83f22-6d18-437f-8dc5-c7bdabf79099\"       \"webglplayer\"\n",
       "5108  \"08303535-5aee-4748-b901-f5fd0b2a26d8\"       \"webglplayer\"\n",
       "5110  \"297708ce-a29e-4e3f-a6f4-94c5e9e02f96\"       \"webglplayer\"\n",
       "5112  \"deb089c0-9be3-4b75-9b27-28963c77b10c\"       \"linuxplayer\"\n",
       "5113  \"deb089c0-9be3-4b75-9b27-28963c77b10c\"       \"linuxplayer\"\n",
       "5133  \"9880ce9d-c6fc-476e-98a9-a9e8c8f7fcdc\"           \"android\"\n",
       "5301  \"deb089c0-9be3-4b75-9b27-28963c77b10c\"       \"linuxplayer\"\n",
       "5314  \"deb089c0-9be3-4b75-9b27-28963c77b10c\"       \"linuxplayer\"\n",
       "5315  \"deb089c0-9be3-4b75-9b27-28963c77b10c\"       \"linuxplayer\"\n",
       "5364  \"58011e25-5877-407a-99a4-5b6686be2c85\"       \"webglplayer\"\n",
       "5371  \"58011e25-5877-407a-99a4-5b6686be2c85\"       \"webglplayer\"\n",
       "5421  \"deb089c0-9be3-4b75-9b27-28963c77b10c\"       \"linuxplayer\"\n",
       "5422  \"deb089c0-9be3-4b75-9b27-28963c77b10c\"       \"linuxplayer\"\n",
       "5714  \"91109971-ffb1-471d-9ce3-4fc47e38ad1f\"       \"webglplayer\"\n",
       "6337  \"deb089c0-9be3-4b75-9b27-28963c77b10c\"       \"linuxplayer\"\n",
       "6456  \"75e264d6-af94-4975-bb18-50cac09894c4\"       \"webglplayer\"\n",
       "6479  \"deb089c0-9be3-4b75-9b27-28963c77b10c\"       \"linuxplayer\"\n",
       "6497  \"c032ad4c-4583-4f88-915d-e2fe114d2598\"       \"webglplayer\"\n",
       "6512  \"a2d9b465-4329-47e6-9404-a62ee1bf3f9b\"       \"webglplayer\"\n",
       "6513  \"a2d9b465-4329-47e6-9404-a62ee1bf3f9b\"       \"webglplayer\"\n",
       "6514  \"95ead482-b6fd-4f1a-b0fb-13b348a13833\"       \"webglplayer\"\n",
       "6517  \"deb089c0-9be3-4b75-9b27-28963c77b10c\"       \"linuxplayer\"\n",
       "6931  \"deb089c0-9be3-4b75-9b27-28963c77b10c\"       \"linuxplayer\"\n",
       "6932  \"deb089c0-9be3-4b75-9b27-28963c77b10c\"       \"linuxplayer\"\n",
       "7119  \"257b955f-0252-46a8-9089-e37ad2d53f04\"       \"webglplayer\"\n",
       "7379  \"deb089c0-9be3-4b75-9b27-28963c77b10c\"       \"linuxplayer\"\n",
       "7533  \"c75c8aba-148f-4bc9-a543-b42a9b7920d9\"       \"webglplayer\"\n",
       "7863  \"57badcdc-95a3-4436-83fc-a15ea8314ec3\"       \"webglplayer\"\n",
       "8183  \"c8cb0a78-5060-4238-ba7a-94323a0f5f0d\"       \"webglplayer\""
      ]
     },
     "execution_count": 13,
     "metadata": {},
     "output_type": "execute_result"
    }
   ],
   "source": [
    "#players = duringFESDf['customData.localplayerguid', 'customData.platform'].dropna(how='any').unique()\n",
    "#players = duringFESDf.loc[:,['customData.localplayerguid', 'customData.platform']].dropna(how='any').unique()\n",
    "players = duringFESDf.loc[:,['customData.localplayerguid', 'customData.platform']]\n",
    "players = players.dropna(how='any')\n",
    "#players = players.unique()\n",
    "players"
   ]
  },
  {
   "cell_type": "code",
   "execution_count": 14,
   "metadata": {
    "collapsed": false
   },
   "outputs": [
    {
     "ename": "AttributeError",
     "evalue": "'DataFrame' object has no attribute 'nunique'",
     "output_type": "error",
     "traceback": [
      "\u001b[0;31m---------------------------------------------------------------------------\u001b[0m",
      "\u001b[0;31mAttributeError\u001b[0m                            Traceback (most recent call last)",
      "\u001b[0;32m<ipython-input-14-ffd67c255e0a>\u001b[0m in \u001b[0;36m<module>\u001b[0;34m()\u001b[0m\n\u001b[0;32m----> 1\u001b[0;31m \u001b[0mplayerscount\u001b[0m \u001b[0;34m=\u001b[0m \u001b[0mplayers\u001b[0m\u001b[0;34m.\u001b[0m\u001b[0mnunique\u001b[0m\u001b[0;34m(\u001b[0m\u001b[0;34m)\u001b[0m\u001b[0;34m\u001b[0m\u001b[0m\n\u001b[0m\u001b[1;32m      2\u001b[0m \u001b[0mplayerscount\u001b[0m\u001b[0;34m\u001b[0m\u001b[0m\n",
      "\u001b[0;32m/Users/raphik12/anaconda/lib/python2.7/site-packages/pandas/core/generic.pyc\u001b[0m in \u001b[0;36m__getattr__\u001b[0;34m(self, name)\u001b[0m\n\u001b[1;32m   2244\u001b[0m                 \u001b[0;32mreturn\u001b[0m \u001b[0mself\u001b[0m\u001b[0;34m[\u001b[0m\u001b[0mname\u001b[0m\u001b[0;34m]\u001b[0m\u001b[0;34m\u001b[0m\u001b[0m\n\u001b[1;32m   2245\u001b[0m             raise AttributeError(\"'%s' object has no attribute '%s'\" %\n\u001b[0;32m-> 2246\u001b[0;31m                                  (type(self).__name__, name))\n\u001b[0m\u001b[1;32m   2247\u001b[0m \u001b[0;34m\u001b[0m\u001b[0m\n\u001b[1;32m   2248\u001b[0m     \u001b[0;32mdef\u001b[0m \u001b[0m__setattr__\u001b[0m\u001b[0;34m(\u001b[0m\u001b[0mself\u001b[0m\u001b[0;34m,\u001b[0m \u001b[0mname\u001b[0m\u001b[0;34m,\u001b[0m \u001b[0mvalue\u001b[0m\u001b[0;34m)\u001b[0m\u001b[0;34m:\u001b[0m\u001b[0;34m\u001b[0m\u001b[0m\n",
      "\u001b[0;31mAttributeError\u001b[0m: 'DataFrame' object has no attribute 'nunique'"
     ]
    }
   ],
   "source": [
    "playerscount = players.nunique()\n",
    "playerscount"
   ]
  },
  {
   "cell_type": "code",
   "execution_count": null,
   "metadata": {
    "collapsed": true
   },
   "outputs": [],
   "source": []
  },
  {
   "cell_type": "code",
   "execution_count": null,
   "metadata": {
    "collapsed": true
   },
   "outputs": [],
   "source": [
    "#arcadeDf = df[customData.localplayerguid] == arcadeCabinetID;"
   ]
  },
  {
   "cell_type": "markdown",
   "metadata": {},
   "source": [
    "## Unique Game Sessions"
   ]
  },
  {
   "cell_type": "markdown",
   "metadata": {},
   "source": [
    "Number of unique game sessions"
   ]
  },
  {
   "cell_type": "code",
   "execution_count": null,
   "metadata": {
    "collapsed": false
   },
   "outputs": [],
   "source": [
    "playerscount = df[\"playerId\"].nunique()\n",
    "playerscount"
   ]
  },
  {
   "cell_type": "markdown",
   "metadata": {},
   "source": [
    "Number of unique devices ids"
   ]
  },
  {
   "cell_type": "code",
   "execution_count": null,
   "metadata": {
    "collapsed": false
   },
   "outputs": [],
   "source": [
    "localPlayerGuids = df.loc[:,['playerId', 'customData.localplayerguid']]\n",
    "localPlayerGuids.columns= ['id', 'guid']\n",
    "localPlayerGuids = localPlayerGuids[localPlayerGuids['guid'].notnull()]\n",
    "localPlayerGuids = localPlayerGuids['guid']\n",
    "localPlayerGuids.nunique()\n",
    "localPlayerGuids.unique()"
   ]
  },
  {
   "cell_type": "markdown",
   "metadata": {},
   "source": [
    "## Duration"
   ]
  },
  {
   "cell_type": "markdown",
   "metadata": {},
   "source": [
    "Duration of playing sessions"
   ]
  },
  {
   "cell_type": "code",
   "execution_count": null,
   "metadata": {
    "collapsed": false,
    "scrolled": false
   },
   "outputs": [],
   "source": [
    "durations = df.groupby(\"playerId\").agg({ \"serverTime\": [ np.min, np.max  ] })\n",
    "durations[\"duration\"] = pd.to_datetime(durations[\"serverTime\"][\"amax\"]) - pd.to_datetime(durations[\"serverTime\"][\"amin\"])\n",
    "durations[\"duration\"] = durations[\"duration\"].map(lambda x: np.timedelta64(x, 's'))\n",
    "durations = durations.sort_values(by=['duration'], ascending=[False])\n",
    "durations.head()"
   ]
  },
  {
   "cell_type": "markdown",
   "metadata": {},
   "source": [
    "Duration plot"
   ]
  },
  {
   "cell_type": "code",
   "execution_count": null,
   "metadata": {
    "collapsed": false
   },
   "outputs": [],
   "source": [
    "durations.loc[:,'duration']\n",
    "durations = durations[4:]\n",
    "durations[\"duration_seconds\"] = durations[\"duration\"].map(lambda x: pd.Timedelta(x).seconds)\n",
    "maxDuration = np.max(durations[\"duration_seconds\"])\n",
    "durations[\"duration_rank\"] = durations[\"duration_seconds\"].rank(ascending=False)\n",
    "durations.plot(x=\"duration_rank\", y=\"duration_seconds\")\n",
    "plt.xlabel(\"game session\")\n",
    "plt.ylabel(\"time played (s)\")\n",
    "plt.legend('')\n",
    "plt.xlim(0, playerscount)\n",
    "plt.ylim(0, maxDuration)\n",
    "durations[\"duration_seconds\"].describe()\n",
    "durations.head()"
   ]
  }
 ],
 "metadata": {
  "kernelspec": {
   "display_name": "Python 3",
   "language": "python",
   "name": "python3"
  },
  "language_info": {
   "codemirror_mode": {
    "name": "ipython",
    "version": 3
   },
   "file_extension": ".py",
   "mimetype": "text/x-python",
   "name": "python",
   "nbconvert_exporter": "python",
   "pygments_lexer": "ipython3",
   "version": "3.5.4"
  }
 },
 "nbformat": 4,
 "nbformat_minor": 0
}
