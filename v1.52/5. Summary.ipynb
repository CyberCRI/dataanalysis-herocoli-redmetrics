{
 "cells": [
  {
   "cell_type": "markdown",
   "metadata": {},
   "source": [
    "# Preparation"
   ]
  },
  {
   "cell_type": "code",
   "execution_count": 22,
   "metadata": {
    "collapsed": false
   },
   "outputs": [],
   "source": [
    "%run Utilities/Preparation.ipynb\n",
    "df152 = pd.read_csv(\"../data/2017-09-05.1.52.csv\")\n",
    "df152 = df152.rename(index=str, columns={'playerId': 'sessionId'})"
   ]
  },
  {
   "cell_type": "markdown",
   "metadata": {},
   "source": [
    "# Player filtering"
   ]
  },
  {
   "cell_type": "code",
   "execution_count": 23,
   "metadata": {
    "collapsed": false,
    "scrolled": true
   },
   "outputs": [
    {
     "data": {
      "text/html": [
       "<div>\n",
       "<table border=\"1\" class=\"dataframe\">\n",
       "  <thead>\n",
       "    <tr style=\"text-align: right;\">\n",
       "      <th></th>\n",
       "      <th>sessionId</th>\n",
       "      <th>customData.localplayerguid</th>\n",
       "      <th>customData.platform</th>\n",
       "      <th>serverTime</th>\n",
       "    </tr>\n",
       "  </thead>\n",
       "  <tbody>\n",
       "    <tr>\n",
       "      <th>0</th>\n",
       "      <td>b724663c-b32a-4079-9f8f-896762b272d1</td>\n",
       "      <td>\"4dbc2f43-421c-4e23-85d4-f17723ff8c66\"</td>\n",
       "      <td>\"webglplayer\"</td>\n",
       "      <td>2017-04-12T08:57:48.448Z</td>\n",
       "    </tr>\n",
       "    <tr>\n",
       "      <th>3</th>\n",
       "      <td>b724663c-b32a-4079-9f8f-896762b272d1</td>\n",
       "      <td>\"4dbc2f43-421c-4e23-85d4-f17723ff8c66\"</td>\n",
       "      <td>\"webglplayer\"</td>\n",
       "      <td>2017-04-12T08:58:37.640Z</td>\n",
       "    </tr>\n",
       "    <tr>\n",
       "      <th>4</th>\n",
       "      <td>2d76c4ef-f260-4963-82f4-ff598d2a63b4</td>\n",
       "      <td>\"1a8924de-7cc6-4ff5-8735-4cddac309117\"</td>\n",
       "      <td>\"webglplayer\"</td>\n",
       "      <td>2017-04-12T09:30:51.879Z</td>\n",
       "    </tr>\n",
       "    <tr>\n",
       "      <th>67</th>\n",
       "      <td>6a9893c1-da09-42c7-832e-4d0746fa779e</td>\n",
       "      <td>\"1a8924de-7cc6-4ff5-8735-4cddac309117\"</td>\n",
       "      <td>\"webglplayer\"</td>\n",
       "      <td>2017-04-12T09:46:31.313Z</td>\n",
       "    </tr>\n",
       "    <tr>\n",
       "      <th>74</th>\n",
       "      <td>c430c60c-d7cb-4fc5-893b-dce440696caf</td>\n",
       "      <td>\"a6483353-5db1-4c6c-98d7-b6328d0f4456\"</td>\n",
       "      <td>\"webglplayer\"</td>\n",
       "      <td>2017-04-12T10:58:14.457Z</td>\n",
       "    </tr>\n",
       "  </tbody>\n",
       "</table>\n",
       "</div>"
      ],
      "text/plain": [
       "                               sessionId  \\\n",
       "0   b724663c-b32a-4079-9f8f-896762b272d1   \n",
       "3   b724663c-b32a-4079-9f8f-896762b272d1   \n",
       "4   2d76c4ef-f260-4963-82f4-ff598d2a63b4   \n",
       "67  6a9893c1-da09-42c7-832e-4d0746fa779e   \n",
       "74  c430c60c-d7cb-4fc5-893b-dce440696caf   \n",
       "\n",
       "                customData.localplayerguid customData.platform  \\\n",
       "0   \"4dbc2f43-421c-4e23-85d4-f17723ff8c66\"       \"webglplayer\"   \n",
       "3   \"4dbc2f43-421c-4e23-85d4-f17723ff8c66\"       \"webglplayer\"   \n",
       "4   \"1a8924de-7cc6-4ff5-8735-4cddac309117\"       \"webglplayer\"   \n",
       "67  \"1a8924de-7cc6-4ff5-8735-4cddac309117\"       \"webglplayer\"   \n",
       "74  \"a6483353-5db1-4c6c-98d7-b6328d0f4456\"       \"webglplayer\"   \n",
       "\n",
       "                  serverTime  \n",
       "0   2017-04-12T08:57:48.448Z  \n",
       "3   2017-04-12T08:58:37.640Z  \n",
       "4   2017-04-12T09:30:51.879Z  \n",
       "67  2017-04-12T09:46:31.313Z  \n",
       "74  2017-04-12T10:58:14.457Z  "
      ]
     },
     "execution_count": 23,
     "metadata": {},
     "output_type": "execute_result"
    }
   ],
   "source": [
    "players = df152.loc[:, playerFilteringColumns]\n",
    "players = players.dropna(how='any')\n",
    "players.head()"
   ]
  },
  {
   "cell_type": "code",
   "execution_count": 24,
   "metadata": {
    "collapsed": false
   },
   "outputs": [
    {
     "data": {
      "text/plain": [
       "504"
      ]
     },
     "execution_count": 24,
     "metadata": {},
     "output_type": "execute_result"
    }
   ],
   "source": [
    "players.shape[0]"
   ]
  },
  {
   "cell_type": "code",
   "execution_count": 25,
   "metadata": {
    "collapsed": false
   },
   "outputs": [
    {
     "data": {
      "text/plain": [
       "488"
      ]
     },
     "execution_count": 25,
     "metadata": {},
     "output_type": "execute_result"
    }
   ],
   "source": [
    "players = players[~players['customData.localplayerguid'].isin(excludedIDs)];\n",
    "players.shape[0]"
   ]
  },
  {
   "cell_type": "markdown",
   "metadata": {},
   "source": [
    "## Sessions (filtered)"
   ]
  },
  {
   "cell_type": "code",
   "execution_count": 26,
   "metadata": {
    "collapsed": false
   },
   "outputs": [
    {
     "data": {
      "text/plain": [
       "424"
      ]
     },
     "execution_count": 26,
     "metadata": {},
     "output_type": "execute_result"
    }
   ],
   "source": [
    "sessionscount = players[\"sessionId\"].nunique()\n",
    "sessionscount"
   ]
  },
  {
   "cell_type": "markdown",
   "metadata": {},
   "source": [
    "## Sessions of dev IDs"
   ]
  },
  {
   "cell_type": "code",
   "execution_count": null,
   "metadata": {
    "collapsed": true
   },
   "outputs": [],
   "source": []
  },
  {
   "cell_type": "markdown",
   "metadata": {},
   "source": [
    "## Unique players"
   ]
  },
  {
   "cell_type": "code",
   "execution_count": 27,
   "metadata": {
    "collapsed": false,
    "scrolled": true
   },
   "outputs": [
    {
     "data": {
      "text/plain": [
       "243"
      ]
     },
     "execution_count": 27,
     "metadata": {},
     "output_type": "execute_result"
    }
   ],
   "source": [
    "uniqueplayers = players['customData.localplayerguid']\n",
    "uniqueplayers = uniqueplayers.unique()\n",
    "uniqueplayers.shape[0]"
   ]
  },
  {
   "cell_type": "code",
   "execution_count": 28,
   "metadata": {
    "collapsed": false,
    "scrolled": false
   },
   "outputs": [],
   "source": [
    "#uniqueplayers"
   ]
  },
  {
   "cell_type": "markdown",
   "metadata": {},
   "source": [
    "## Unique platforms"
   ]
  },
  {
   "cell_type": "code",
   "execution_count": 29,
   "metadata": {
    "collapsed": false,
    "scrolled": true
   },
   "outputs": [
    {
     "data": {
      "text/plain": [
       "array(['\"webglplayer\"', '\"windowsplayer\"', '\"windowseditor\"', '\"android\"',\n",
       "       '\"osxeditor\"', '\"linuxplayer\"', '\"osxplayer\"'], dtype=object)"
      ]
     },
     "execution_count": 29,
     "metadata": {},
     "output_type": "execute_result"
    }
   ],
   "source": [
    "uniqueplatforms = players['customData.platform'].unique()\n",
    "uniqueplatforms"
   ]
  },
  {
   "cell_type": "markdown",
   "metadata": {},
   "source": [
    "## Checkpoints passed / furthest checkpoint (unfiltered)"
   ]
  },
  {
   "cell_type": "code",
   "execution_count": 30,
   "metadata": {
    "collapsed": false
   },
   "outputs": [
    {
     "data": {
      "text/html": [
       "<div>\n",
       "<table border=\"1\" class=\"dataframe\">\n",
       "  <thead>\n",
       "    <tr style=\"text-align: right;\">\n",
       "      <th></th>\n",
       "      <th>section</th>\n",
       "    </tr>\n",
       "    <tr>\n",
       "      <th>sessionId</th>\n",
       "      <th></th>\n",
       "    </tr>\n",
       "  </thead>\n",
       "  <tbody>\n",
       "    <tr>\n",
       "      <th>002caea8-9a7f-436e-be1d-aa15eb0e422b</th>\n",
       "      <td>tutorial1.Checkpoint14</td>\n",
       "    </tr>\n",
       "    <tr>\n",
       "      <th>01eefc09-2d17-4669-9b66-1873ded5ba7e</th>\n",
       "      <td>tutorial1.Checkpoint00</td>\n",
       "    </tr>\n",
       "    <tr>\n",
       "      <th>0229d38c-72e9-47d2-b5eb-9adc774e9be9</th>\n",
       "      <td>tutorial1.Checkpoint00</td>\n",
       "    </tr>\n",
       "    <tr>\n",
       "      <th>02c951e6-1e39-4ed7-a884-acc38757a473</th>\n",
       "      <td>tutorial1.Checkpoint00</td>\n",
       "    </tr>\n",
       "    <tr>\n",
       "      <th>0405e80c-bfb5-4c63-af00-ed60f6e80c55</th>\n",
       "      <td>tutorial1.Checkpoint00</td>\n",
       "    </tr>\n",
       "  </tbody>\n",
       "</table>\n",
       "</div>"
      ],
      "text/plain": [
       "                                                     section\n",
       "sessionId                                                   \n",
       "002caea8-9a7f-436e-be1d-aa15eb0e422b  tutorial1.Checkpoint14\n",
       "01eefc09-2d17-4669-9b66-1873ded5ba7e  tutorial1.Checkpoint00\n",
       "0229d38c-72e9-47d2-b5eb-9adc774e9be9  tutorial1.Checkpoint00\n",
       "02c951e6-1e39-4ed7-a884-acc38757a473  tutorial1.Checkpoint00\n",
       "0405e80c-bfb5-4c63-af00-ed60f6e80c55  tutorial1.Checkpoint00"
      ]
     },
     "execution_count": 30,
     "metadata": {},
     "output_type": "execute_result"
    }
   ],
   "source": [
    "checkpoints = df152.loc[:, checkpointsRelevantColumns]\n",
    "checkpoints = checkpoints[checkpoints['type']=='reach'].loc[:,['section','sessionId']]\n",
    "checkpoints = checkpoints[checkpoints['section'].str.startswith('tutorial', na=False)]\n",
    "checkpoints = checkpoints.groupby(\"sessionId\")\n",
    "checkpoints = checkpoints.max()\n",
    "checkpoints.head()"
   ]
  },
  {
   "cell_type": "code",
   "execution_count": 31,
   "metadata": {
    "collapsed": false,
    "scrolled": false
   },
   "outputs": [
    {
     "name": "stdout",
     "output_type": "stream",
     "text": [
      "\n",
      "maxCheckpointCounts=\n",
      "Start                     None\n",
      "tutorial1.Checkpoint00      41\n",
      "tutorial1.Checkpoint01      85\n",
      "tutorial1.Checkpoint02      13\n",
      "tutorial1.Checkpoint03       4\n",
      "tutorial1.Checkpoint04      29\n",
      "tutorial1.Checkpoint05       5\n",
      "tutorial1.Checkpoint06       8\n",
      "tutorial1.Checkpoint07       2\n",
      "tutorial1.Checkpoint08       2\n",
      "tutorial1.Checkpoint09       1\n",
      "tutorial1.Checkpoint10       1\n",
      "tutorial1.Checkpoint13       3\n",
      "tutorial1.Checkpoint14      29\n",
      "Name: maxCheckpoint, dtype: object\n"
     ]
    }
   ],
   "source": [
    "maxCheckpointTable = pd.DataFrame({\"maxCheckpoint\" : checkpoints.values.flatten()})\n",
    "maxCheckpointCounts = maxCheckpointTable[\"maxCheckpoint\"].value_counts()\n",
    "maxCheckpointCounts['Start'] = None\n",
    "maxCheckpointCounts = maxCheckpointCounts.sort_index()\n",
    "print '\\nmaxCheckpointCounts=\\n{0}'.format(maxCheckpointCounts)"
   ]
  },
  {
   "cell_type": "code",
   "execution_count": 32,
   "metadata": {
    "collapsed": true
   },
   "outputs": [],
   "source": [
    "%run Utilities/Plot.ipynb"
   ]
  },
  {
   "cell_type": "code",
   "execution_count": 33,
   "metadata": {
    "collapsed": false,
    "scrolled": false
   },
   "outputs": [
    {
     "data": {
      "text/plain": [
       "223.0"
      ]
     },
     "execution_count": 33,
     "metadata": {},
     "output_type": "execute_result"
    }
   ],
   "source": [
    "maxCheckpointCountsTable = pd.DataFrame({\"maxCheckpoint\" : maxCheckpointCounts.values})\n",
    "maxCheckpointCountsTableCount = maxCheckpointCountsTable.sum(0)[0]\n",
    "maxCheckpointCountsTableCount"
   ]
  },
  {
   "cell_type": "code",
   "execution_count": 34,
   "metadata": {
    "collapsed": false,
    "scrolled": true
   },
   "outputs": [
    {
     "data": {
      "text/plain": [
       "section    223\n",
       "dtype: int64"
      ]
     },
     "execution_count": 34,
     "metadata": {},
     "output_type": "execute_result"
    }
   ],
   "source": [
    "checkpoints.count()"
   ]
  },
  {
   "cell_type": "code",
   "execution_count": 35,
   "metadata": {
    "collapsed": false
   },
   "outputs": [
    {
     "data": {
      "text/html": [
       "<div>\n",
       "<table border=\"1\" class=\"dataframe\">\n",
       "  <thead>\n",
       "    <tr style=\"text-align: right;\">\n",
       "      <th></th>\n",
       "      <th>maxCheckpoint</th>\n",
       "    </tr>\n",
       "  </thead>\n",
       "  <tbody>\n",
       "    <tr>\n",
       "      <th>0</th>\n",
       "      <td>None</td>\n",
       "    </tr>\n",
       "    <tr>\n",
       "      <th>1</th>\n",
       "      <td>41</td>\n",
       "    </tr>\n",
       "    <tr>\n",
       "      <th>2</th>\n",
       "      <td>85</td>\n",
       "    </tr>\n",
       "    <tr>\n",
       "      <th>3</th>\n",
       "      <td>13</td>\n",
       "    </tr>\n",
       "    <tr>\n",
       "      <th>4</th>\n",
       "      <td>4</td>\n",
       "    </tr>\n",
       "  </tbody>\n",
       "</table>\n",
       "</div>"
      ],
      "text/plain": [
       "  maxCheckpoint\n",
       "0          None\n",
       "1            41\n",
       "2            85\n",
       "3            13\n",
       "4             4"
      ]
     },
     "execution_count": 35,
     "metadata": {},
     "output_type": "execute_result"
    }
   ],
   "source": [
    "maxCheckpointCountsTable.head()"
   ]
  },
  {
   "cell_type": "code",
   "execution_count": 36,
   "metadata": {
    "collapsed": false
   },
   "outputs": [
    {
     "data": {
      "text/html": [
       "<div>\n",
       "<table border=\"1\" class=\"dataframe\">\n",
       "  <thead>\n",
       "    <tr style=\"text-align: right;\">\n",
       "      <th></th>\n",
       "      <th>maxCheckpoint</th>\n",
       "    </tr>\n",
       "  </thead>\n",
       "  <tbody>\n",
       "    <tr>\n",
       "      <th>count</th>\n",
       "      <td>13</td>\n",
       "    </tr>\n",
       "    <tr>\n",
       "      <th>unique</th>\n",
       "      <td>10</td>\n",
       "    </tr>\n",
       "    <tr>\n",
       "      <th>top</th>\n",
       "      <td>29</td>\n",
       "    </tr>\n",
       "    <tr>\n",
       "      <th>freq</th>\n",
       "      <td>2</td>\n",
       "    </tr>\n",
       "  </tbody>\n",
       "</table>\n",
       "</div>"
      ],
      "text/plain": [
       "        maxCheckpoint\n",
       "count              13\n",
       "unique             10\n",
       "top                29\n",
       "freq                2"
      ]
     },
     "execution_count": 36,
     "metadata": {},
     "output_type": "execute_result"
    }
   ],
   "source": [
    "maxCheckpointCountsTable.describe()"
   ]
  },
  {
   "cell_type": "code",
   "execution_count": 37,
   "metadata": {
    "collapsed": false,
    "scrolled": false
   },
   "outputs": [
    {
     "data": {
      "image/png": "[encoded data removed]",
      "text/plain": [
       "<matplotlib.figure.Figure at 0x106121690>"
      ]
     },
     "metadata": {},
     "output_type": "display_data"
    },
    {
     "data": {
      "image/png": "[encoded data removed]",
      "text/plain": [
       "<matplotlib.figure.Figure at 0x10b544110>"
      ]
     },
     "metadata": {},
     "output_type": "display_data"
    }
   ],
   "source": [
    "genericTreatment( maxCheckpointCountsTable, \"best checkpoint reached\", \"game sessions\", 0, maxCheckpointCountsTableCount, False, True )"
   ]
  },
  {
   "cell_type": "markdown",
   "metadata": {},
   "source": [
    "## Session starts"
   ]
  },
  {
   "cell_type": "code",
   "execution_count": 38,
   "metadata": {
    "collapsed": false
   },
   "outputs": [],
   "source": [
    "#starts = df152.loc[:, checkpointsRelevantColumns]\n",
    "#starts = checkpoints[checkpoints['type']=='start'].loc[:,['playerId']]\n",
    "#starts = checkpoints[checkpoints['section'].str.startswith('tutorial', na=False)]\n",
    "#starts = checkpoints.groupby(\"playerId\")\n",
    "#starts = checkpoints.max()\n",
    "#starts.head()"
   ]
  },
  {
   "cell_type": "code",
   "execution_count": 39,
   "metadata": {
    "collapsed": false
   },
   "outputs": [
    {
     "name": "stdout",
     "output_type": "stream",
     "text": [
      "\n",
      "fullMaxCheckpointCountsTable=\n",
      "   fullMaxCheckpoint\n",
      "0                201\n",
      "1                 41\n",
      "2                 85\n",
      "3                 13\n",
      "4                  4\n",
      "5                 29\n",
      "6                  5\n",
      "7                  8\n",
      "8                  2\n",
      "9                  2\n",
      "10                 1\n",
      "11                 1\n",
      "12                 3\n",
      "13                29\n"
     ]
    },
    {
     "data": {
      "text/html": [
       "<div>\n",
       "<table border=\"1\" class=\"dataframe\">\n",
       "  <thead>\n",
       "    <tr style=\"text-align: right;\">\n",
       "      <th></th>\n",
       "      <th>fullMaxCheckpoint</th>\n",
       "    </tr>\n",
       "  </thead>\n",
       "  <tbody>\n",
       "    <tr>\n",
       "      <th>count</th>\n",
       "      <td>14</td>\n",
       "    </tr>\n",
       "    <tr>\n",
       "      <th>unique</th>\n",
       "      <td>11</td>\n",
       "    </tr>\n",
       "    <tr>\n",
       "      <th>top</th>\n",
       "      <td>29</td>\n",
       "    </tr>\n",
       "    <tr>\n",
       "      <th>freq</th>\n",
       "      <td>2</td>\n",
       "    </tr>\n",
       "  </tbody>\n",
       "</table>\n",
       "</div>"
      ],
      "text/plain": [
       "        fullMaxCheckpoint\n",
       "count                  14\n",
       "unique                 11\n",
       "top                    29\n",
       "freq                    2"
      ]
     },
     "execution_count": 39,
     "metadata": {},
     "output_type": "execute_result"
    },
    {
     "data": {
      "image/png": "[encoded data removed]",
      "text/plain": [
       "<matplotlib.figure.Figure at 0x10b55bd10>"
      ]
     },
     "metadata": {},
     "output_type": "display_data"
    },
    {
     "data": {
      "image/png": "[encoded data removed]",
      "text/plain": [
       "<matplotlib.figure.Figure at 0x10b6bab50>"
      ]
     },
     "metadata": {},
     "output_type": "display_data"
    }
   ],
   "source": [
    "startTutorial1Count = sessionscount\n",
    "neverReachedGameSessionCount = startTutorial1Count - maxCheckpointCountsTableCount\n",
    "fullMaxCheckpointCounts = maxCheckpointCounts\n",
    "fullMaxCheckpointCounts['Start'] = neverReachedGameSessionCount\n",
    "fullMaxCheckpointCountsTable = pd.DataFrame({\"fullMaxCheckpoint\" : fullMaxCheckpointCounts.values})\n",
    "\n",
    "genericTreatment( fullMaxCheckpointCountsTable, \"best checkpoint reached\", \"game sessions\", 0, startTutorial1Count, False, True )\n",
    "\n",
    "print '\\nfullMaxCheckpointCountsTable=\\n{0}'.format(fullMaxCheckpointCountsTable)\n",
    "fullMaxCheckpointCountsTable.describe()"
   ]
  },
  {
   "cell_type": "markdown",
   "metadata": {},
   "source": [
    "## Duration"
   ]
  },
  {
   "cell_type": "markdown",
   "metadata": {},
   "source": [
    "Duration of playing sessions"
   ]
  },
  {
   "cell_type": "code",
   "execution_count": 47,
   "metadata": {
    "collapsed": false,
    "scrolled": false
   },
   "outputs": [
    {
     "data": {
      "text/html": [
       "<div>\n",
       "<table border=\"1\" class=\"dataframe\">\n",
       "  <thead>\n",
       "    <tr>\n",
       "      <th></th>\n",
       "      <th colspan=\"2\" halign=\"left\">serverTime</th>\n",
       "      <th>duration</th>\n",
       "    </tr>\n",
       "    <tr>\n",
       "      <th></th>\n",
       "      <th>amin</th>\n",
       "      <th>amax</th>\n",
       "      <th></th>\n",
       "    </tr>\n",
       "    <tr>\n",
       "      <th>sessionId</th>\n",
       "      <th></th>\n",
       "      <th></th>\n",
       "      <th></th>\n",
       "    </tr>\n",
       "  </thead>\n",
       "  <tbody>\n",
       "    <tr>\n",
       "      <th>b5ab445a-56c9-4c5b-a6d0-86e8a286cd81</th>\n",
       "      <td>2017-06-02T12:06:44.465Z</td>\n",
       "      <td>2017-06-09T12:20:39.390Z</td>\n",
       "      <td>7 days 00:13:54</td>\n",
       "    </tr>\n",
       "    <tr>\n",
       "      <th>f168b30d-b76b-4eb1-91ea-206567329a83</th>\n",
       "      <td>2017-06-10T09:09:19.729Z</td>\n",
       "      <td>2017-06-10T10:41:04.626Z</td>\n",
       "      <td>0 days 01:31:44</td>\n",
       "    </tr>\n",
       "    <tr>\n",
       "      <th>d708b04d-978a-4497-ad30-3dce9ead2b4c</th>\n",
       "      <td>2017-06-09T16:24:15.814Z</td>\n",
       "      <td>2017-06-09T17:01:31.474Z</td>\n",
       "      <td>0 days 00:37:15</td>\n",
       "    </tr>\n",
       "    <tr>\n",
       "      <th>f9bc2bce-8900-4e91-9c5f-077218ff8200</th>\n",
       "      <td>2017-06-04T10:50:20.217Z</td>\n",
       "      <td>2017-06-04T11:19:06.085Z</td>\n",
       "      <td>0 days 00:28:45</td>\n",
       "    </tr>\n",
       "    <tr>\n",
       "      <th>054a96ca-c2f1-4967-9b77-6ce4c33c9d33</th>\n",
       "      <td>2017-06-07T12:20:06.263Z</td>\n",
       "      <td>2017-06-07T12:30:39.856Z</td>\n",
       "      <td>0 days 00:10:33</td>\n",
       "    </tr>\n",
       "  </tbody>\n",
       "</table>\n",
       "</div>"
      ],
      "text/plain": [
       "                                                    serverTime  \\\n",
       "                                                          amin   \n",
       "sessionId                                                        \n",
       "b5ab445a-56c9-4c5b-a6d0-86e8a286cd81  2017-06-02T12:06:44.465Z   \n",
       "f168b30d-b76b-4eb1-91ea-206567329a83  2017-06-10T09:09:19.729Z   \n",
       "d708b04d-978a-4497-ad30-3dce9ead2b4c  2017-06-09T16:24:15.814Z   \n",
       "f9bc2bce-8900-4e91-9c5f-077218ff8200  2017-06-04T10:50:20.217Z   \n",
       "054a96ca-c2f1-4967-9b77-6ce4c33c9d33  2017-06-07T12:20:06.263Z   \n",
       "\n",
       "                                                                      duration  \n",
       "                                                          amax                  \n",
       "sessionId                                                                       \n",
       "b5ab445a-56c9-4c5b-a6d0-86e8a286cd81  2017-06-09T12:20:39.390Z 7 days 00:13:54  \n",
       "f168b30d-b76b-4eb1-91ea-206567329a83  2017-06-10T10:41:04.626Z 0 days 01:31:44  \n",
       "d708b04d-978a-4497-ad30-3dce9ead2b4c  2017-06-09T17:01:31.474Z 0 days 00:37:15  \n",
       "f9bc2bce-8900-4e91-9c5f-077218ff8200  2017-06-04T11:19:06.085Z 0 days 00:28:45  \n",
       "054a96ca-c2f1-4967-9b77-6ce4c33c9d33  2017-06-07T12:30:39.856Z 0 days 00:10:33  "
      ]
     },
     "execution_count": 47,
     "metadata": {},
     "output_type": "execute_result"
    }
   ],
   "source": [
    "durations = players.groupby(\"sessionId\").agg({ \"serverTime\": [ np.min, np.max  ] })\n",
    "durations[\"duration\"] = pd.to_datetime(durations[\"serverTime\"][\"amax\"]) - pd.to_datetime(durations[\"serverTime\"][\"amin\"])\n",
    "durations[\"duration\"] = durations[\"duration\"].map(lambda x: np.timedelta64(x, 's'))\n",
    "durations = durations.sort_values(by=['duration'], ascending=[False])\n",
    "durations.head()"
   ]
  },
  {
   "cell_type": "markdown",
   "metadata": {},
   "source": [
    "Duration plot"
   ]
  },
  {
   "cell_type": "code",
   "execution_count": 41,
   "metadata": {
    "collapsed": false,
    "scrolled": false
   },
   "outputs": [
    {
     "data": {
      "text/html": [
       "<div>\n",
       "<table border=\"1\" class=\"dataframe\">\n",
       "  <thead>\n",
       "    <tr>\n",
       "      <th></th>\n",
       "      <th colspan=\"2\" halign=\"left\">serverTime</th>\n",
       "      <th>duration</th>\n",
       "      <th>duration_seconds</th>\n",
       "      <th>duration_rank</th>\n",
       "    </tr>\n",
       "    <tr>\n",
       "      <th></th>\n",
       "      <th>amin</th>\n",
       "      <th>amax</th>\n",
       "      <th></th>\n",
       "      <th></th>\n",
       "      <th></th>\n",
       "    </tr>\n",
       "    <tr>\n",
       "      <th>sessionId</th>\n",
       "      <th></th>\n",
       "      <th></th>\n",
       "      <th></th>\n",
       "      <th></th>\n",
       "      <th></th>\n",
       "    </tr>\n",
       "  </thead>\n",
       "  <tbody>\n",
       "    <tr>\n",
       "      <th>054a96ca-c2f1-4967-9b77-6ce4c33c9d33</th>\n",
       "      <td>2017-06-07T12:20:06.263Z</td>\n",
       "      <td>2017-06-07T12:30:39.856Z</td>\n",
       "      <td>00:10:33</td>\n",
       "      <td>633</td>\n",
       "      <td>1</td>\n",
       "    </tr>\n",
       "    <tr>\n",
       "      <th>98cb65d7-bf34-4d44-827c-dcd1459c9cdd</th>\n",
       "      <td>2017-04-26T17:55:20.645Z</td>\n",
       "      <td>2017-04-26T18:01:49.575Z</td>\n",
       "      <td>00:06:28</td>\n",
       "      <td>388</td>\n",
       "      <td>2</td>\n",
       "    </tr>\n",
       "    <tr>\n",
       "      <th>8873559b-7ecc-4b7e-80be-7ae289547969</th>\n",
       "      <td>2017-06-09T10:54:39.115Z</td>\n",
       "      <td>2017-06-09T11:00:05.346Z</td>\n",
       "      <td>00:05:26</td>\n",
       "      <td>326</td>\n",
       "      <td>3</td>\n",
       "    </tr>\n",
       "    <tr>\n",
       "      <th>265dfb54-9d18-4ebd-905f-efc4d162bf01</th>\n",
       "      <td>2017-04-27T17:46:38.510Z</td>\n",
       "      <td>2017-04-27T17:52:00.229Z</td>\n",
       "      <td>00:05:21</td>\n",
       "      <td>321</td>\n",
       "      <td>4</td>\n",
       "    </tr>\n",
       "    <tr>\n",
       "      <th>c7bf82a9-f356-445a-a674-2c106c880424</th>\n",
       "      <td>2017-05-02T10:34:21.284Z</td>\n",
       "      <td>2017-05-02T10:39:42.008Z</td>\n",
       "      <td>00:05:20</td>\n",
       "      <td>320</td>\n",
       "      <td>5</td>\n",
       "    </tr>\n",
       "  </tbody>\n",
       "</table>\n",
       "</div>"
      ],
      "text/plain": [
       "                                                    serverTime  \\\n",
       "                                                          amin   \n",
       "sessionId                                                        \n",
       "054a96ca-c2f1-4967-9b77-6ce4c33c9d33  2017-06-07T12:20:06.263Z   \n",
       "98cb65d7-bf34-4d44-827c-dcd1459c9cdd  2017-04-26T17:55:20.645Z   \n",
       "8873559b-7ecc-4b7e-80be-7ae289547969  2017-06-09T10:54:39.115Z   \n",
       "265dfb54-9d18-4ebd-905f-efc4d162bf01  2017-04-27T17:46:38.510Z   \n",
       "c7bf82a9-f356-445a-a674-2c106c880424  2017-05-02T10:34:21.284Z   \n",
       "\n",
       "                                                               duration  \\\n",
       "                                                          amax            \n",
       "sessionId                                                                 \n",
       "054a96ca-c2f1-4967-9b77-6ce4c33c9d33  2017-06-07T12:30:39.856Z 00:10:33   \n",
       "98cb65d7-bf34-4d44-827c-dcd1459c9cdd  2017-04-26T18:01:49.575Z 00:06:28   \n",
       "8873559b-7ecc-4b7e-80be-7ae289547969  2017-06-09T11:00:05.346Z 00:05:26   \n",
       "265dfb54-9d18-4ebd-905f-efc4d162bf01  2017-04-27T17:52:00.229Z 00:05:21   \n",
       "c7bf82a9-f356-445a-a674-2c106c880424  2017-05-02T10:39:42.008Z 00:05:20   \n",
       "\n",
       "                                     duration_seconds duration_rank  \n",
       "                                                                     \n",
       "sessionId                                                            \n",
       "054a96ca-c2f1-4967-9b77-6ce4c33c9d33              633             1  \n",
       "98cb65d7-bf34-4d44-827c-dcd1459c9cdd              388             2  \n",
       "8873559b-7ecc-4b7e-80be-7ae289547969              326             3  \n",
       "265dfb54-9d18-4ebd-905f-efc4d162bf01              321             4  \n",
       "c7bf82a9-f356-445a-a674-2c106c880424              320             5  "
      ]
     },
     "execution_count": 41,
     "metadata": {},
     "output_type": "execute_result"
    },
    {
     "data": {
      "image/png": "[encoded data removed]",
      "text/plain": [
       "<matplotlib.figure.Figure at 0x10c5d1510>"
      ]
     },
     "metadata": {},
     "output_type": "display_data"
    }
   ],
   "source": [
    "durations.loc[:,'duration']\n",
    "durations = durations[4:]\n",
    "durations[\"duration_seconds\"] = durations[\"duration\"].map(lambda x: pd.Timedelta(x).seconds)\n",
    "maxDuration = np.max(durations[\"duration_seconds\"])\n",
    "durations[\"duration_rank\"] = durations[\"duration_seconds\"].rank(ascending=False)\n",
    "durations.plot(x=\"duration_rank\", y=\"duration_seconds\")\n",
    "plt.xlabel(\"game session\")\n",
    "plt.ylabel(\"time played (s)\")\n",
    "plt.legend('')\n",
    "plt.xlim(0, sessionscount)\n",
    "plt.ylim(0, maxDuration)\n",
    "durations[\"duration_seconds\"].describe()\n",
    "durations.head()"
   ]
  }
 ],
 "metadata": {
  "kernelspec": {
   "display_name": "Python 2",
   "language": "python",
   "name": "python2"
  },
  "language_info": {
   "codemirror_mode": {
    "name": "ipython",
    "version": 2
   },
   "file_extension": ".py",
   "mimetype": "text/x-python",
   "name": "python",
   "nbconvert_exporter": "python",
   "pygments_lexer": "ipython2",
   "version": "2.7.10"
  }
 },
 "nbformat": 4,
 "nbformat_minor": 0
}
